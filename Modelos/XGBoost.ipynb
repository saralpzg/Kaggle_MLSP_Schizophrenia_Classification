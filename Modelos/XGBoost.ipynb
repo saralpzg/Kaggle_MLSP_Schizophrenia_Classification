{
 "cells": [
  {
   "cell_type": "markdown",
   "id": "60455127",
   "metadata": {},
   "source": [
    "# Optimización de un modelo de XGBoost\n",
    "\n",
    "Este notebook recoge los resultados de la búsqueda del mejor modelo de clasificación mediante XGBoost (= eXtreme Gradient Boosting). Se trata de un método de boosting, por tanto, la idea es generar un modelo robusto a partir de varios modelos \"débiles\". Sin embargo, se le considera extreme gradient boosting ya que es generalmente bastante más rápido que otras implementaciones de gradient boosting y suele tener un buen rendimiento sobre datos estructurados.\n",
    "\n",
    "Para buscar el mejor modelo posible, se tratará de buscar los mejores hiperparámetros para:\n",
    "\n",
    "* El tipo de booster que se va a utilizar.\n",
    "* El paso del método de boosting.\n",
    "* La mínima reducción de loss exigida para hacer una nueva partición de una rama cuando el booster sea de tal tipo.\n",
    "* La profundidad máxima de los árboles cuando el booster sea de tal tipo.\n",
    "\n",
    "### Preparación de los datos"
   ]
  },
  {
   "cell_type": "code",
   "execution_count": 2,
   "id": "8dea3bde",
   "metadata": {},
   "outputs": [],
   "source": [
    "# Estructuras de datos\n",
    "import pandas as pd\n",
    "import numpy as np\n",
    "\n",
    "# Librerías de optimización de hiperparámetros\n",
    "import optuna\n",
    "\n",
    "# Accuracy\n",
    "from sklearn.metrics import accuracy_score\n",
    "\n",
    "# Model\n",
    "import xgboost as xgb\n",
    "from xgboost import XGBClassifier\n",
    "\n",
    "# Cargar los datos\n",
    "from data_and_submissions import *\n",
    "\n",
    "# Métodos para los entrenamientos con CV\n",
    "from train_cv_methods import *"
   ]
  },
  {
   "cell_type": "markdown",
   "id": "95f5575f",
   "metadata": {},
   "source": [
    "Vamos a usar la siguiente partición de los datos:\n",
    "\n",
    "* 60% train $\\sim$ 50 datos\n",
    "* 20% validation $\\sim$ 18 datos (se define al aplicar cross-validación en el ajuste)\n",
    "* 20% test $\\sim$ 18 datos"
   ]
  },
  {
   "cell_type": "code",
   "execution_count": 2,
   "id": "56f13f41",
   "metadata": {},
   "outputs": [
    {
     "name": "stdout",
     "output_type": "stream",
     "text": [
      "Tamaño del dataset de train: (68, 410)\n",
      "Tamaño del dataset de test: (18, 410)\n"
     ]
    }
   ],
   "source": [
    "X_train, X_test, y_train, y_test, test_kaggle = load_data()\n",
    "print(\"Tamaño del dataset de train:\", X_train.shape)\n",
    "print(\"Tamaño del dataset de test:\", X_test.shape)"
   ]
  },
  {
   "cell_type": "markdown",
   "id": "84ad5e66",
   "metadata": {},
   "source": [
    "### Modelo"
   ]
  },
  {
   "cell_type": "markdown",
   "id": "02e149b6",
   "metadata": {},
   "source": [
    "Búsqueda de hiperparámetros mediante ``GridSearchCV`` de ``sklearn``:"
   ]
  },
  {
   "cell_type": "code",
   "execution_count": 3,
   "id": "77bbef90",
   "metadata": {},
   "outputs": [],
   "source": [
    "import warnings\n",
    "warnings.filterwarnings(\"ignore\") # Suprimir warning de versiones\n",
    "xgb.set_config(verbosity=0)\n",
    "\n",
    "# Definir y entrenar el modelo\n",
    "model_XGB = XGBClassifier(eval_metric=\"logloss\", random_state=0, use_label_encoder=False)\n",
    "param_grid_XGB = {\n",
    "    \"booster\": [\"gbtree\", \"gblinear\", \"dart\"],\n",
    "    \"learning_rate\": [0.0001, 0.001, 0.01, 0.1, 1],\n",
    "    \"gamma\": [0.0001, 0.001, 0.01, 0.1, 1],\n",
    "    \"max_depth\": np.arange(0, 21, 2) # 0 = ninguna restricción\n",
    "}"
   ]
  },
  {
   "cell_type": "code",
   "execution_count": 5,
   "id": "ae2c8db5",
   "metadata": {},
   "outputs": [
    {
     "data": {
      "text/plain": [
       "[{'booster': 'gblinear', 'gamma': 0.1, 'learning_rate': 1, 'max_depth': 0}]"
      ]
     },
     "execution_count": 5,
     "metadata": {},
     "output_type": "execute_result"
    }
   ],
   "source": [
    "# Definir y entrenar el modelo\n",
    "cv_results_XGB = train_GridSearchCV(model_XGB, param_grid_XGB, X_train, X_test, y_train, y_test)\n",
    "top_acc = top_acc_GridSearchCV(cv_results_XGB[\"mean_test_score\"])\n",
    "models_same_acc_GridSearchCV(cv_results_XGB, top_acc)"
   ]
  },
  {
   "cell_type": "code",
   "execution_count": 5,
   "id": "715639b9",
   "metadata": {},
   "outputs": [
    {
     "name": "stdout",
     "output_type": "stream",
     "text": [
      "Accuracy: 66.67%\n"
     ]
    }
   ],
   "source": [
    "model_XGB_opt = XGBClassifier(eval_metric=\"logloss\", booster=\"gblinear\", gamma=0.1, learning_rate=1, max_depth=0,\n",
    "                              random_state=0, use_label_encoder=False)\n",
    "model_XGB_opt.fit(X_train, y_train)\n",
    "\n",
    "# Predicción en partición de test\n",
    "y_pred_XGBoost = model_XGB_opt.predict(X_test)\n",
    "\n",
    "# Precisión en partición de test\n",
    "accuracy = accuracy_score(y_test, y_pred_XGBoost)\n",
    "print(\"Accuracy: {:0.2f}%\".format(accuracy * 100))"
   ]
  },
  {
   "cell_type": "markdown",
   "id": "f96bbee4",
   "metadata": {},
   "source": [
    "Búsqueda mediante la librería ``optuna`` probando 2 métodos de búsqueda de hiperparámetros:\n",
    "\n",
    "* **GridSampler:** equivalente a la anterior búsqueda de grid de sklearn. Lo usaremos para que los resultados sean comparables.\n",
    "* **TPE:** algoritmo para hacer una \"búsqueda inteligente\" de hiperparámetros. Debería ahorrar intentos de combinaciones haciendo una selección inteligente de las pruebas. En nuestro caso le permitiremos probar un 10% del número de combinaciones posibles. "
   ]
  },
  {
   "cell_type": "code",
   "execution_count": 7,
   "id": "9182eb47",
   "metadata": {},
   "outputs": [],
   "source": [
    "def objectiveXGBoost_Grid(trial):\n",
    "    '''\n",
    "    Define la función a optimizar por medio de un sampler de tipo GridSampler.\n",
    "    En este caso se trata de maximizar el accuracy\n",
    "    '''\n",
    "    booster = trial.suggest_categorical(\"booster\", [\"gbtree\", \"gblinear\", \"dart\"])\n",
    "    learning_rate = trial.suggest_categorical(\"learning_rate\", [0.0001, 0.001, 0.01, 0.1, 1])\n",
    "    gamma = trial.suggest_categorical(\"gamma\", [0.0001, 0.001, 0.01, 0.1, 1])\n",
    "    max_depth = trial.suggest_int(\"max_depth\", 0, 20)\n",
    "    \n",
    "    modelXGBoost_optuna = XGBClassifier(eval_metric=\"logloss\", booster=booster, learning_rate=learning_rate, gamma=gamma,\n",
    "                                        max_depth=max_depth, random_state=0, use_label_encoder=False)\n",
    "    \n",
    "    modelXGBoost_optuna.fit(X_train, y_train)\n",
    "\n",
    "    y_pred_XGBoost_optuna = modelXGBoost_optuna.predict(X_test)\n",
    "    accuracy = accuracy_score(y_test, y_pred_XGBoost_optuna)\n",
    "    return accuracy"
   ]
  },
  {
   "cell_type": "code",
   "execution_count": 8,
   "id": "b2965528",
   "metadata": {},
   "outputs": [],
   "source": [
    "# Prueba con GridSampler\n",
    "optuna.logging.set_verbosity(optuna.logging.WARNING)\n",
    "\n",
    "search_space = {\"booster\": [\"gbtree\", \"gblinear\", \"dart\"], \n",
    "                \"learning_rate\": [0.0001, 0.001, 0.01, 0.1, 1],\n",
    "                \"gamma\": [0.0001, 0.001, 0.01, 0.1, 1],\n",
    "                \"max_depth\": range(0, 20, 2)\n",
    "               }\n",
    "sampler = optuna.samplers.GridSampler(search_space)\n",
    "study_Grid = optuna.create_study(direction=\"maximize\", sampler=sampler)\n",
    "study_Grid.optimize(objectiveXGBoost_Grid)"
   ]
  },
  {
   "cell_type": "code",
   "execution_count": 9,
   "id": "02d69f7d",
   "metadata": {},
   "outputs": [
    {
     "data": {
      "text/plain": [
       "FrozenTrial(number=3, values=[0.8333333333333334], datetime_start=datetime.datetime(2022, 7, 2, 21, 37, 5, 606018), datetime_complete=datetime.datetime(2022, 7, 2, 21, 37, 5, 809093), params={'booster': 'gblinear', 'learning_rate': 0.001, 'gamma': 1, 'max_depth': 0}, distributions={'booster': CategoricalDistribution(choices=('gbtree', 'gblinear', 'dart')), 'learning_rate': CategoricalDistribution(choices=(0.0001, 0.001, 0.01, 0.1, 1)), 'gamma': CategoricalDistribution(choices=(0.0001, 0.001, 0.01, 0.1, 1)), 'max_depth': IntUniformDistribution(high=20, low=0, step=1)}, user_attrs={}, system_attrs={'search_space': OrderedDict([('booster', ['dart', 'gblinear', 'gbtree']), ('gamma', [0.0001, 0.001, 0.01, 0.1, 1]), ('learning_rate', [0.0001, 0.001, 0.01, 0.1, 1]), ('max_depth', [0, 2, 4, 6, 8, 10, 12, 14, 16, 18])]), 'grid_id': 460}, intermediate_values={}, trial_id=3, state=TrialState.COMPLETE, value=None)"
      ]
     },
     "execution_count": 9,
     "metadata": {},
     "output_type": "execute_result"
    }
   ],
   "source": [
    "study_Grid.best_trial"
   ]
  },
  {
   "cell_type": "code",
   "execution_count": 6,
   "id": "abd4f97c",
   "metadata": {},
   "outputs": [
    {
     "name": "stdout",
     "output_type": "stream",
     "text": [
      "Accuracy: 83.33%\n"
     ]
    }
   ],
   "source": [
    "# Definir y entrenar el modelo\n",
    "modelXGBoost_optuna_Grid = XGBClassifier(eval_metric=\"logloss\", booster=\"gblinear\", learning_rate=0.001, gamma=1,\n",
    "                                         max_depth=0, random_state=0, use_label_encoder=False)  \n",
    "modelXGBoost_optuna_Grid.fit(X_train, y_train)\n",
    "\n",
    "# Predicción en partición de test\n",
    "y_pred_XGBoost_optuna_Grid = modelXGBoost_optuna_Grid.predict(X_test)\n",
    "\n",
    "# Precisión en partición de test\n",
    "accuracy = accuracy_score(y_test, y_pred_XGBoost_optuna_Grid)\n",
    "print(\"Accuracy: {:0.2f}%\".format(accuracy * 100))"
   ]
  },
  {
   "cell_type": "code",
   "execution_count": 11,
   "id": "c7aad65f",
   "metadata": {},
   "outputs": [],
   "source": [
    "def objectiveXGBoost_TPE(trial):\n",
    "    '''\n",
    "    Define la función a optimizar por medio de un sampler de tipo TPE.\n",
    "    En este caso se trata de maximizar el accuracy\n",
    "    '''\n",
    "    booster = trial.suggest_categorical(\"booster\", [\"gbtree\", \"gblinear\", \"dart\"])\n",
    "    learning_rate = trial.suggest_categorical(\"learning_rate\", [0.0001, 0.001, 0.01, 0.1, 1])\n",
    "    gamma = trial.suggest_categorical(\"gamma\", [0.0001, 0.001, 0.01, 0.1, 1])\n",
    "    max_depth = trial.suggest_int(\"max_depth\", 0, 20, 2)\n",
    "    \n",
    "    modelXGBoost_optuna = XGBClassifier(eval_metric=\"logloss\", booster=booster, learning_rate=learning_rate, gamma=gamma,\n",
    "                                        max_depth=max_depth, random_state=0, use_label_encoder=False)\n",
    "    \n",
    "    modelXGBoost_optuna.fit(X_train, y_train)\n",
    "\n",
    "    y_pred_XGBoost_optuna = modelXGBoost_optuna.predict(X_test)\n",
    "    accuracy = accuracy_score(y_test, y_pred_XGBoost_optuna)\n",
    "    return accuracy"
   ]
  },
  {
   "cell_type": "code",
   "execution_count": 15,
   "id": "1e4d7cc5",
   "metadata": {},
   "outputs": [],
   "source": [
    "# Prueba con TPE\n",
    "optuna.logging.set_verbosity(optuna.logging.WARNING)\n",
    "\n",
    "sampler = optuna.samplers.TPESampler(seed=0)  # Asegurar los reproducibilidad de los resultados\n",
    "study_TPE = optuna.create_study(direction=\"maximize\", sampler=sampler)\n",
    "study_TPE.optimize(objectiveXGBoost_TPE, n_trials=83)\n",
    "# n_trials = (3 x 5 x 5 x 11) * 0.1 = 82.5 ~ 83"
   ]
  },
  {
   "cell_type": "code",
   "execution_count": 16,
   "id": "443ec2ba",
   "metadata": {},
   "outputs": [
    {
     "data": {
      "text/plain": [
       "FrozenTrial(number=46, values=[0.8333333333333334], datetime_start=datetime.datetime(2022, 7, 2, 21, 54, 30, 210936), datetime_complete=datetime.datetime(2022, 7, 2, 21, 54, 30, 460878), params={'booster': 'gblinear', 'learning_rate': 0.001, 'gamma': 0.1, 'max_depth': 14}, distributions={'booster': CategoricalDistribution(choices=('gbtree', 'gblinear', 'dart')), 'learning_rate': CategoricalDistribution(choices=(0.0001, 0.001, 0.01, 0.1, 1)), 'gamma': CategoricalDistribution(choices=(0.0001, 0.001, 0.01, 0.1, 1)), 'max_depth': IntUniformDistribution(high=20, low=0, step=2)}, user_attrs={}, system_attrs={}, intermediate_values={}, trial_id=46, state=TrialState.COMPLETE, value=None)"
      ]
     },
     "execution_count": 16,
     "metadata": {},
     "output_type": "execute_result"
    }
   ],
   "source": [
    "study_TPE.best_trial"
   ]
  },
  {
   "cell_type": "code",
   "execution_count": 7,
   "id": "17a7d733",
   "metadata": {},
   "outputs": [
    {
     "name": "stdout",
     "output_type": "stream",
     "text": [
      "Accuracy: 83.33%\n"
     ]
    }
   ],
   "source": [
    "# Definir y entrenar el modelo\n",
    "modelXGBoost_optuna_TPE = XGBClassifier(eval_metric=\"logloss\", booster=\"gblinear\", learning_rate=0.001, gamma=0.1,\n",
    "                                        max_depth=14, random_state=0, use_label_encoder=False) \n",
    "modelXGBoost_optuna_TPE.fit(X_train, y_train)\n",
    "\n",
    "# Predicción en partición de test\n",
    "y_pred_XGBoost_optuna_TPE = modelXGBoost_optuna_TPE.predict(X_test)\n",
    "\n",
    "# Precisión en partición de test\n",
    "accuracy = accuracy_score(y_test, y_pred_XGBoost_optuna_TPE)\n",
    "print(\"Accuracy: {:0.2f}%\".format(accuracy * 100))"
   ]
  },
  {
   "cell_type": "markdown",
   "id": "00092052",
   "metadata": {},
   "source": [
    "Búsqueda mediante ``optuna`` con ``OptunaSearchCV``:"
   ]
  },
  {
   "cell_type": "code",
   "execution_count": 18,
   "id": "a0a61aab",
   "metadata": {},
   "outputs": [
    {
     "data": {
      "text/plain": [
       "OptunaSearchCV(cv=4,\n",
       "               estimator=XGBClassifier(base_score=None, booster=None,\n",
       "                                       colsample_bylevel=None,\n",
       "                                       colsample_bynode=None,\n",
       "                                       colsample_bytree=None,\n",
       "                                       enable_categorical=False,\n",
       "                                       eval_metric='logloss', gamma=None,\n",
       "                                       gpu_id=None, importance_type=None,\n",
       "                                       interaction_constraints=None,\n",
       "                                       learning_rate=None, max_delta_step=None,\n",
       "                                       max_depth=None, min_child_weight=None,\n",
       "                                       missing=nan, mo...\n",
       "                                       validate_parameters=None,\n",
       "                                       verbosity=None),\n",
       "               n_trials=792,\n",
       "               param_distributions={'booster': CategoricalDistribution(choices=('gbtree', 'gblinear', 'dart')),\n",
       "                                    'gamma': CategoricalDistribution(choices=(0.0001, 0.001, 0.01, 0.1, 1)),\n",
       "                                    'learning_rate': CategoricalDistribution(choices=(0.0001, 0.001, 0.01, 0.1, 1)),\n",
       "                                    'max_depth': IntUniformDistribution(high=20, low=0, step=2)},\n",
       "               random_state=0)"
      ]
     },
     "execution_count": 18,
     "metadata": {},
     "output_type": "execute_result"
    }
   ],
   "source": [
    "optuna.logging.set_verbosity(optuna.logging.WARNING)\n",
    "\n",
    "# Definir y entrenar el modelo\n",
    "model_XGB = XGBClassifier(eval_metric=\"logloss\", random_state=0, use_label_encoder=False)\n",
    "param_grid_XGB = {\n",
    "    \"booster\": optuna.distributions.CategoricalDistribution([\"gbtree\", \"gblinear\", \"dart\"]),\n",
    "    \"learning_rate\": optuna.distributions.CategoricalDistribution([0.0001, 0.001, 0.01, 0.1, 1]),\n",
    "    \"gamma\": optuna.distributions.CategoricalDistribution([0.0001, 0.001, 0.01, 0.1, 1]),\n",
    "    \"max_depth\": optuna.distributions.IntUniformDistribution(0, 20, 2) # 0 = ninguna restricción\n",
    "}\n",
    "\n",
    "optuna_search = optuna.integration.OptunaSearchCV(model_XGB, param_grid_XGB, cv=4, n_trials=792, refit=True, random_state=0)\n",
    "# n_trials = 3 x 5 x 5 x 11 = 825\n",
    "optuna_search.fit(X_train, y_train)"
   ]
  },
  {
   "cell_type": "code",
   "execution_count": 19,
   "id": "06ef6032",
   "metadata": {},
   "outputs": [
    {
     "data": {
      "text/plain": [
       "[{'booster': 'gblinear', 'learning_rate': 1, 'gamma': 0.01, 'max_depth': 20},\n",
       " {'booster': 'gblinear', 'learning_rate': 1, 'gamma': 0.01, 'max_depth': 20},\n",
       " {'booster': 'gblinear', 'learning_rate': 1, 'gamma': 0.01, 'max_depth': 18},\n",
       " {'booster': 'gblinear', 'learning_rate': 1, 'gamma': 1, 'max_depth': 18},\n",
       " {'booster': 'gblinear', 'learning_rate': 1, 'gamma': 0.01, 'max_depth': 18},\n",
       " {'booster': 'gblinear', 'learning_rate': 1, 'gamma': 0.01, 'max_depth': 18},\n",
       " {'booster': 'gblinear', 'learning_rate': 1, 'gamma': 0.01, 'max_depth': 18},\n",
       " {'booster': 'gblinear', 'learning_rate': 1, 'gamma': 0.01, 'max_depth': 16}]"
      ]
     },
     "execution_count": 19,
     "metadata": {},
     "output_type": "execute_result"
    }
   ],
   "source": [
    "top_acc = top_acc_OptunaSearchCV(optuna_search.trials_)\n",
    "models_same_acc_OptunaSearchCV(optuna_search.trials_, top_acc)"
   ]
  },
  {
   "cell_type": "code",
   "execution_count": 10,
   "id": "b6b02f28",
   "metadata": {},
   "outputs": [
    {
     "name": "stdout",
     "output_type": "stream",
     "text": [
      "Accuracy: 66.67%\n"
     ]
    }
   ],
   "source": [
    "optunaCV_opt = XGBClassifier(eval_metric=\"logloss\", booster=\"gblinear\", learning_rate=1, gamma=0.01,\n",
    "                             max_depth=20, random_state=0, use_label_encoder=False)\n",
    "optunaCV_opt.fit(X_train, y_train)\n",
    "\n",
    "# Predicción en partición de test\n",
    "y_pred_XGB_optuna = optunaCV_opt.predict(X_test)\n",
    "\n",
    "# Precisión en partición de test\n",
    "accuracy = accuracy_score(y_test, y_pred_XGB_optuna)\n",
    "print(\"Accuracy: {:0.2f}%\".format(accuracy * 100))"
   ]
  },
  {
   "cell_type": "markdown",
   "id": "25c8dd12",
   "metadata": {},
   "source": [
    "Comparamos las predicciones en ``test_kaggle`` los dos modelos con misma accuracy máxima:"
   ]
  },
  {
   "cell_type": "code",
   "execution_count": 11,
   "id": "0ad4b192",
   "metadata": {},
   "outputs": [],
   "source": [
    "y_pred_model1 = modelXGBoost_optuna_Grid.predict(test_kaggle)\n",
    "y_pred_model2 = modelXGBoost_optuna_TPE.predict(test_kaggle)"
   ]
  },
  {
   "cell_type": "code",
   "execution_count": 12,
   "id": "c93cd918",
   "metadata": {},
   "outputs": [
    {
     "data": {
      "text/html": [
       "<div>\n",
       "<style scoped>\n",
       "    .dataframe tbody tr th:only-of-type {\n",
       "        vertical-align: middle;\n",
       "    }\n",
       "\n",
       "    .dataframe tbody tr th {\n",
       "        vertical-align: top;\n",
       "    }\n",
       "\n",
       "    .dataframe thead th {\n",
       "        text-align: right;\n",
       "    }\n",
       "</style>\n",
       "<table border=\"1\" class=\"dataframe\">\n",
       "  <thead>\n",
       "    <tr style=\"text-align: right;\">\n",
       "      <th></th>\n",
       "      <th>Optuna &amp; GridSampler</th>\n",
       "      <th>Optuna &amp; TPE</th>\n",
       "      <th>All the same</th>\n",
       "    </tr>\n",
       "  </thead>\n",
       "  <tbody>\n",
       "    <tr>\n",
       "      <th>7890</th>\n",
       "      <td>1</td>\n",
       "      <td>0</td>\n",
       "      <td>False</td>\n",
       "    </tr>\n",
       "    <tr>\n",
       "      <th>10602</th>\n",
       "      <td>0</td>\n",
       "      <td>1</td>\n",
       "      <td>False</td>\n",
       "    </tr>\n",
       "    <tr>\n",
       "      <th>19861</th>\n",
       "      <td>1</td>\n",
       "      <td>0</td>\n",
       "      <td>False</td>\n",
       "    </tr>\n",
       "    <tr>\n",
       "      <th>21314</th>\n",
       "      <td>1</td>\n",
       "      <td>0</td>\n",
       "      <td>False</td>\n",
       "    </tr>\n",
       "    <tr>\n",
       "      <th>23272</th>\n",
       "      <td>1</td>\n",
       "      <td>0</td>\n",
       "      <td>False</td>\n",
       "    </tr>\n",
       "    <tr>\n",
       "      <th>27814</th>\n",
       "      <td>1</td>\n",
       "      <td>0</td>\n",
       "      <td>False</td>\n",
       "    </tr>\n",
       "    <tr>\n",
       "      <th>37473</th>\n",
       "      <td>1</td>\n",
       "      <td>0</td>\n",
       "      <td>False</td>\n",
       "    </tr>\n",
       "    <tr>\n",
       "      <th>43662</th>\n",
       "      <td>1</td>\n",
       "      <td>0</td>\n",
       "      <td>False</td>\n",
       "    </tr>\n",
       "    <tr>\n",
       "      <th>46080</th>\n",
       "      <td>1</td>\n",
       "      <td>0</td>\n",
       "      <td>False</td>\n",
       "    </tr>\n",
       "    <tr>\n",
       "      <th>51295</th>\n",
       "      <td>1</td>\n",
       "      <td>0</td>\n",
       "      <td>False</td>\n",
       "    </tr>\n",
       "    <tr>\n",
       "      <th>56437</th>\n",
       "      <td>0</td>\n",
       "      <td>1</td>\n",
       "      <td>False</td>\n",
       "    </tr>\n",
       "    <tr>\n",
       "      <th>59791</th>\n",
       "      <td>1</td>\n",
       "      <td>0</td>\n",
       "      <td>False</td>\n",
       "    </tr>\n",
       "    <tr>\n",
       "      <th>60780</th>\n",
       "      <td>0</td>\n",
       "      <td>1</td>\n",
       "      <td>False</td>\n",
       "    </tr>\n",
       "    <tr>\n",
       "      <th>64252</th>\n",
       "      <td>0</td>\n",
       "      <td>1</td>\n",
       "      <td>False</td>\n",
       "    </tr>\n",
       "    <tr>\n",
       "      <th>66381</th>\n",
       "      <td>1</td>\n",
       "      <td>0</td>\n",
       "      <td>False</td>\n",
       "    </tr>\n",
       "    <tr>\n",
       "      <th>72838</th>\n",
       "      <td>0</td>\n",
       "      <td>1</td>\n",
       "      <td>False</td>\n",
       "    </tr>\n",
       "    <tr>\n",
       "      <th>81821</th>\n",
       "      <td>1</td>\n",
       "      <td>0</td>\n",
       "      <td>False</td>\n",
       "    </tr>\n",
       "    <tr>\n",
       "      <th>84149</th>\n",
       "      <td>1</td>\n",
       "      <td>0</td>\n",
       "      <td>False</td>\n",
       "    </tr>\n",
       "    <tr>\n",
       "      <th>86004</th>\n",
       "      <td>0</td>\n",
       "      <td>1</td>\n",
       "      <td>False</td>\n",
       "    </tr>\n",
       "    <tr>\n",
       "      <th>95096</th>\n",
       "      <td>0</td>\n",
       "      <td>1</td>\n",
       "      <td>False</td>\n",
       "    </tr>\n",
       "  </tbody>\n",
       "</table>\n",
       "</div>"
      ],
      "text/plain": [
       "       Optuna & GridSampler  Optuna & TPE  All the same\n",
       "7890                      1             0         False\n",
       "10602                     0             1         False\n",
       "19861                     1             0         False\n",
       "21314                     1             0         False\n",
       "23272                     1             0         False\n",
       "27814                     1             0         False\n",
       "37473                     1             0         False\n",
       "43662                     1             0         False\n",
       "46080                     1             0         False\n",
       "51295                     1             0         False\n",
       "56437                     0             1         False\n",
       "59791                     1             0         False\n",
       "60780                     0             1         False\n",
       "64252                     0             1         False\n",
       "66381                     1             0         False\n",
       "72838                     0             1         False\n",
       "81821                     1             0         False\n",
       "84149                     1             0         False\n",
       "86004                     0             1         False\n",
       "95096                     0             1         False"
      ]
     },
     "execution_count": 12,
     "metadata": {},
     "output_type": "execute_result"
    }
   ],
   "source": [
    "results = {\"Optuna & GridSampler\": y_pred_model1, \"Optuna & TPE\": y_pred_model2}\n",
    "\n",
    "results_df = pd.DataFrame(results)    \n",
    "results_df[\"All the same\"] = results_df.eq(results_df.iloc[:, 0], axis=0).all(1)\n",
    "results_df[results_df[\"All the same\"] == False]"
   ]
  },
  {
   "cell_type": "markdown",
   "id": "e6ab9f13",
   "metadata": {},
   "source": [
    "Los modelos generan distintas predicciones, vamos a generar el submit de Kaggle para ambos:"
   ]
  },
  {
   "cell_type": "code",
   "execution_count": 13,
   "id": "081773ef",
   "metadata": {},
   "outputs": [
    {
     "name": "stdout",
     "output_type": "stream",
     "text": [
      "(119748, 2)\n"
     ]
    }
   ],
   "source": [
    "create_submission(y_pred_model1, \"opt_XGBoost_GridSampler\")"
   ]
  },
  {
   "cell_type": "code",
   "execution_count": 14,
   "id": "ec701827",
   "metadata": {},
   "outputs": [
    {
     "name": "stdout",
     "output_type": "stream",
     "text": [
      "(119748, 2)\n"
     ]
    }
   ],
   "source": [
    "create_submission(y_pred_model2, \"opt_XGBoost_TPE\")"
   ]
  }
 ],
 "metadata": {
  "kernelspec": {
   "display_name": "Python 3 (ipykernel)",
   "language": "python",
   "name": "python3"
  },
  "language_info": {
   "codemirror_mode": {
    "name": "ipython",
    "version": 3
   },
   "file_extension": ".py",
   "mimetype": "text/x-python",
   "name": "python",
   "nbconvert_exporter": "python",
   "pygments_lexer": "ipython3",
   "version": "3.9.12"
  }
 },
 "nbformat": 4,
 "nbformat_minor": 5
}

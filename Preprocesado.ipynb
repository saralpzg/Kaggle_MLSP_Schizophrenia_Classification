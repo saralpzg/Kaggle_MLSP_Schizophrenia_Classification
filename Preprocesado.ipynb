{
 "cells": [
  {
   "cell_type": "markdown",
   "id": "d0d66f63",
   "metadata": {},
   "source": [
    "# Comparación de técnicas de preprocesamiento de los datos\n",
    "\n",
    "En este notebook se van a probar distintos métodos de preprocesado de los datos para entrenar todas las alternativas con un mismo modelo (_XGBoost_) y comparar los resultados mediante el accuracy."
   ]
  },
  {
   "cell_type": "code",
   "execution_count": 1,
   "id": "3f2591ea",
   "metadata": {},
   "outputs": [],
   "source": [
    "# Estructuras de datos\n",
    "import pandas as pd\n",
    "import numpy as np\n",
    "\n",
    "# Model evaluation\n",
    "from sklearn.metrics import accuracy_score\n",
    "\n",
    "# Preprocesamiento de datos\n",
    "from sklearn.pipeline import Pipeline\n",
    "from sklearn.preprocessing import StandardScaler, normalize\n",
    "from sklearn.decomposition import PCA\n",
    "from sklearn.feature_selection import SelectKBest, SelectPercentile, mutual_info_classif, RFE, SelectFromModel\n",
    "from sklearn.svm import SVC, LinearSVC\n",
    "from sklearn.ensemble import RandomForestClassifier\n",
    "\n",
    "# Cargar los datos\n",
    "from Modelos.data_and_submissions import *\n",
    "\n",
    "# Métodos para los entrenamientos con CV\n",
    "from Modelos.train_cv_methods import *"
   ]
  },
  {
   "cell_type": "markdown",
   "id": "374022c8",
   "metadata": {},
   "source": [
    "### Datos"
   ]
  },
  {
   "cell_type": "markdown",
   "id": "488be98e",
   "metadata": {},
   "source": [
    "Vamos a usar la siguiente partición de los datos:\n",
    "\n",
    "* 60% train $\\sim$ 50 datos\n",
    "* 20% validation $\\sim$ 18 datos (se define al aplicar cross-validación en el ajuste)\n",
    "* 20% test $\\sim$ 18 datos"
   ]
  },
  {
   "cell_type": "code",
   "execution_count": 2,
   "id": "990eb214",
   "metadata": {},
   "outputs": [
    {
     "name": "stdout",
     "output_type": "stream",
     "text": [
      "Tamaño del dataset de train: (68, 410)\n",
      "Tamaño del dataset de test: (18, 410)\n"
     ]
    }
   ],
   "source": [
    "X_train, X_test, y_train, y_test, _ = load_data(True)\n",
    "print(\"Tamaño del dataset de train:\", X_train.shape)\n",
    "print(\"Tamaño del dataset de test:\", X_test.shape)"
   ]
  },
  {
   "cell_type": "markdown",
   "id": "d28999cd",
   "metadata": {},
   "source": [
    "### Modelo"
   ]
  },
  {
   "cell_type": "code",
   "execution_count": 3,
   "id": "8717295d",
   "metadata": {},
   "outputs": [
    {
     "name": "stderr",
     "output_type": "stream",
     "text": [
      "C:\\Users\\saral\\miniconda3\\envs\\TFM\\lib\\site-packages\\xgboost\\compat.py:36: FutureWarning: pandas.Int64Index is deprecated and will be removed from pandas in a future version. Use pandas.Index with the appropriate dtype instead.\n",
      "  from pandas import MultiIndex, Int64Index\n"
     ]
    }
   ],
   "source": [
    "import warnings\n",
    "import xgboost as xgb\n",
    "from xgboost import XGBClassifier\n",
    "\n",
    "warnings.filterwarnings(\"ignore\")\n",
    "xgb.set_config(verbosity=0)\n",
    "\n",
    "# Modelo e hiperparámetros sobre los que se realizan las pruebas\n",
    "model_XGB = XGBClassifier(eval_metric=\"logloss\", random_state=0, use_label_encoder=False)\n",
    "param_grid_XGB = {\n",
    "    \"booster\": [\"gbtree\", \"gblinear\", \"dart\"],\n",
    "    \"learning_rate\": [0.001, 0.05, 0.1, 0.5]\n",
    "}"
   ]
  },
  {
   "cell_type": "markdown",
   "id": "ef96418c",
   "metadata": {},
   "source": [
    "# Sin preprocesado"
   ]
  },
  {
   "cell_type": "code",
   "execution_count": 5,
   "id": "fade9e07",
   "metadata": {},
   "outputs": [
    {
     "data": {
      "text/plain": [
       "[{'booster': 'gblinear', 'learning_rate': 0.001},\n",
       " {'booster': 'gblinear', 'learning_rate': 0.05},\n",
       " {'booster': 'gblinear', 'learning_rate': 0.1}]"
      ]
     },
     "execution_count": 5,
     "metadata": {},
     "output_type": "execute_result"
    }
   ],
   "source": [
    "no_preprocessing = train_GridSearchCV(model_XGB, param_grid_XGB, X_train, X_test, y_train, y_test)\n",
    "top_acc = top_acc_GridSearchCV(no_preprocessing[\"mean_test_score\"])\n",
    "models_same_acc_GridSearchCV(no_preprocessing, top_acc)"
   ]
  },
  {
   "cell_type": "code",
   "execution_count": 4,
   "id": "d167f0ec",
   "metadata": {},
   "outputs": [
    {
     "name": "stdout",
     "output_type": "stream",
     "text": [
      "Accuracy: 83.33%\n"
     ]
    }
   ],
   "source": [
    "# Definir y entrenar el modelo\n",
    "no_preprocessing_opt = XGBClassifier(eval_metric=\"logloss\", booster=\"gblinear\", learning_rate=0.001, \n",
    "                                     random_state=0, use_label_encoder=False)  \n",
    "no_preprocessing_opt.fit(X_train, y_train)\n",
    "\n",
    "# Predicción en partición de test\n",
    "y_pred_no_preprocessing = no_preprocessing_opt.predict(X_test)\n",
    "\n",
    "# Precisión en partición de test\n",
    "accuracy_no_preprocessing = accuracy_score(y_test, y_pred_no_preprocessing)\n",
    "print(\"Accuracy: {:0.2f}%\".format(accuracy_no_preprocessing * 100))"
   ]
  },
  {
   "cell_type": "markdown",
   "id": "4ac42ef6",
   "metadata": {},
   "source": [
    "# Normalize\n",
    "\n",
    "Datos con norma unitaria."
   ]
  },
  {
   "cell_type": "code",
   "execution_count": 8,
   "id": "215b1083",
   "metadata": {},
   "outputs": [
    {
     "name": "stdout",
     "output_type": "stream",
     "text": [
      "----- Norma: L1\n",
      "[{'booster': 'gblinear', 'learning_rate': 0.1}]\n",
      "Accuracy: 66.18% \n",
      "\n",
      "----- Norma: L2\n",
      "[{'booster': 'gblinear', 'learning_rate': 0.001}, {'booster': 'gblinear', 'learning_rate': 0.05}]\n",
      "Accuracy: 64.71% \n",
      "\n",
      "----- Norma: MAX\n",
      "[{'booster': 'gblinear', 'learning_rate': 0.001}]\n",
      "Accuracy: 63.24% \n",
      "\n"
     ]
    }
   ],
   "source": [
    "np.random.seed(0)\n",
    "norm_types = [\"l1\", \"l2\", \"max\"]\n",
    "acc = 0\n",
    "\n",
    "for norm in norm_types:\n",
    "    print(f\"----- Norma: {norm.upper()}\")\n",
    "    X_train_processed = normalize(X_train, norm)\n",
    "    X_test_processed = normalize(X_test, norm)\n",
    "    \n",
    "    normalized = train_GridSearchCV(model_XGB, param_grid_XGB, X_train_processed, X_test_processed, y_train, y_test)\n",
    "    top_acc = top_acc_GridSearchCV(normalized[\"mean_test_score\"])\n",
    "    print(models_same_acc_GridSearchCV(normalized, top_acc))\n",
    "    print(\"Accuracy: {:0.2f}% \\n\".format(top_acc * 100))"
   ]
  },
  {
   "cell_type": "code",
   "execution_count": 5,
   "id": "78538ca5",
   "metadata": {},
   "outputs": [
    {
     "name": "stdout",
     "output_type": "stream",
     "text": [
      "Accuracy: 77.78%\n",
      "Resultado obtenido usando la norma L1.\n"
     ]
    }
   ],
   "source": [
    "X_train_processed = normalize(X_train, \"l1\")\n",
    "X_test_processed = normalize(X_test, \"l1\")\n",
    "\n",
    "# Definir y entrenar el modelo\n",
    "normalized_opt = XGBClassifier(eval_metric=\"logloss\", booster=\"gblinear\", learning_rate=0.1, \n",
    "                               random_state=0, use_label_encoder=False)  \n",
    "normalized_opt.fit(X_train_processed, y_train)\n",
    "\n",
    "# Predicción en partición de test\n",
    "y_pred_normalized = normalized_opt.predict(X_test_processed)\n",
    "\n",
    "# Precisión en partición de test\n",
    "acc_normalized = accuracy_score(y_test, y_pred_normalized)\n",
    "print(\"Accuracy: {:0.2f}%\".format(acc_normalized * 100))\n",
    "print(\"Resultado obtenido usando la norma L1.\")"
   ]
  },
  {
   "cell_type": "markdown",
   "id": "ea6f7bca",
   "metadata": {},
   "source": [
    "# Escalado de los datos"
   ]
  },
  {
   "cell_type": "code",
   "execution_count": 10,
   "id": "b2f181bc",
   "metadata": {},
   "outputs": [
    {
     "data": {
      "text/plain": [
       "[{'booster': 'gblinear', 'learning_rate': 0.5}]"
      ]
     },
     "execution_count": 10,
     "metadata": {},
     "output_type": "execute_result"
    }
   ],
   "source": [
    "preprocess = StandardScaler()\n",
    "\n",
    "X_train_processed = preprocess.fit_transform(X_train)\n",
    "X_test_processed = preprocess.fit_transform(X_test)\n",
    "\n",
    "scaled = train_GridSearchCV(model_XGB, param_grid_XGB, X_train_processed, X_test_processed, y_train, y_test)\n",
    "top_acc = top_acc_GridSearchCV(scaled[\"mean_test_score\"])\n",
    "models_same_acc_GridSearchCV(scaled, top_acc)"
   ]
  },
  {
   "cell_type": "code",
   "execution_count": 6,
   "id": "752d3b22",
   "metadata": {},
   "outputs": [
    {
     "name": "stdout",
     "output_type": "stream",
     "text": [
      "Accuracy: 72.22%\n"
     ]
    }
   ],
   "source": [
    "# Definir y entrenar el modelo\n",
    "scaled_opt = XGBClassifier(eval_metric=\"logloss\", booster=\"gblinear\", learning_rate=0.5, \n",
    "                           random_state=0, use_label_encoder=False)  \n",
    "scaled_opt.fit(X_train_processed, y_train)\n",
    "\n",
    "# Predicción en partición de test\n",
    "y_pred_scaled = scaled_opt.predict(X_test_processed)\n",
    "\n",
    "# Precisión en partición de test\n",
    "acc_scaled = accuracy_score(y_test, y_pred_scaled)\n",
    "print(\"Accuracy: {:0.2f}%\".format(acc_scaled * 100))"
   ]
  },
  {
   "cell_type": "markdown",
   "id": "3cf473af",
   "metadata": {},
   "source": [
    "# PCA"
   ]
  },
  {
   "cell_type": "code",
   "execution_count": 12,
   "id": "65a89a24",
   "metadata": {},
   "outputs": [
    {
     "name": "stdout",
     "output_type": "stream",
     "text": [
      "----- 2 PCs\n",
      "[{'booster': 'gbtree', 'learning_rate': 0.1}, {'booster': 'dart', 'learning_rate': 0.1}]\n",
      "Accuracy: 64.71% \n",
      "\n",
      "----- 4 PCs\n",
      "[{'booster': 'gbtree', 'learning_rate': 0.05}, {'booster': 'dart', 'learning_rate': 0.05}]\n",
      "Accuracy: 69.12% \n",
      "\n",
      "----- 6 PCs\n",
      "[{'booster': 'gbtree', 'learning_rate': 0.5}, {'booster': 'dart', 'learning_rate': 0.5}]\n",
      "Accuracy: 75.00% \n",
      "\n",
      "----- 8 PCs\n",
      "[{'booster': 'gblinear', 'learning_rate': 0.001}]\n",
      "Accuracy: 72.06% \n",
      "\n",
      "----- 10 PCs\n",
      "[{'booster': 'gblinear', 'learning_rate': 0.1}, {'booster': 'gblinear', 'learning_rate': 0.5}]\n",
      "Accuracy: 67.65% \n",
      "\n",
      "----- 12 PCs\n",
      "[{'booster': 'gblinear', 'learning_rate': 0.5}]\n",
      "Accuracy: 66.18% \n",
      "\n",
      "----- 14 PCs\n",
      "[{'booster': 'gblinear', 'learning_rate': 0.1}, {'booster': 'gblinear', 'learning_rate': 0.5}]\n",
      "Accuracy: 64.71% \n",
      "\n",
      "----- 16 PCs\n",
      "[{'booster': 'gblinear', 'learning_rate': 0.001}]\n",
      "Accuracy: 63.24% \n",
      "\n"
     ]
    }
   ],
   "source": [
    "# NOTA: la dimensionalidad del espacio reducido del método PCA (paquete sklearn) en python tiene como tamaño máximo el mínimo\n",
    "# entre el número de variables y el número de muestras. Como en este caso nuestro conjunto de datos es pequeño, el número \n",
    "# máximo de componentes será precisamente el número de muestras en el conjunto de test.\n",
    "\n",
    "n_components_range = list(range(2, X_test.shape[0], 2))\n",
    "acc = 0\n",
    "\n",
    "scaler = StandardScaler()\n",
    "for n_components in n_components_range:\n",
    "    print(f\"----- {n_components} PCs\")\n",
    "    pca = PCA(n_components=n_components)\n",
    "    preprocess = Pipeline([(\"scaling\", scaler), (\"pca\", pca)])\n",
    "\n",
    "    X_train_processed = preprocess.fit_transform(X_train)\n",
    "    X_test_processed = preprocess.fit_transform(X_test)\n",
    "\n",
    "    pca_cv = train_GridSearchCV(model_XGB, param_grid_XGB, X_train_processed, X_test_processed, y_train, y_test)\n",
    "    top_acc = top_acc_GridSearchCV(pca_cv[\"mean_test_score\"])\n",
    "    print(models_same_acc_GridSearchCV(pca_cv, top_acc))\n",
    "    print(\"Accuracy: {:0.2f}% \\n\".format(top_acc * 100))"
   ]
  },
  {
   "cell_type": "code",
   "execution_count": 8,
   "id": "d8124477",
   "metadata": {},
   "outputs": [
    {
     "name": "stdout",
     "output_type": "stream",
     "text": [
      "Accuracy: 33.33%\n",
      "Resultado obtenido usando 6 PCs.\n"
     ]
    }
   ],
   "source": [
    "scaler = StandardScaler()\n",
    "pca = PCA(n_components=6)\n",
    "preprocess = Pipeline([(\"scaling\", scaler), (\"pca\", pca)])\n",
    "\n",
    "X_train_processed = preprocess.fit_transform(X_train)\n",
    "X_test_processed = preprocess.fit_transform(X_test)\n",
    "\n",
    "# Definir y entrenar el modelo\n",
    "pca_opt = XGBClassifier(eval_metric=\"logloss\", booster=\"gbtree\", learning_rate=0.5, \n",
    "                        random_state=0, use_label_encoder=False)  \n",
    "pca_opt.fit(X_train_processed, y_train)\n",
    "\n",
    "# Predicción en partición de test\n",
    "y_pred_pca = pca_opt.predict(X_test_processed)\n",
    "\n",
    "# Precisión en partición de test\n",
    "acc_pca = accuracy_score(y_test, y_pred_pca)\n",
    "print(\"Accuracy: {:0.2f}%\".format(acc_pca * 100))\n",
    "print(\"Resultado obtenido usando 6 PCs.\")"
   ]
  },
  {
   "cell_type": "markdown",
   "id": "d5074e9a",
   "metadata": {},
   "source": [
    "# SelectKBest\n",
    "\n",
    "Documentación scikit-learn (https://scikit-learn.org/stable/modules/generated/sklearn.feature_selection.SelectKBest.html)\n",
    "\n",
    "Este método selecciona las k mejores variables en base a la puntuación que estas reciben de acuerdo a una función que toma como parámetro (test estadísticos). \n",
    "\n",
    "La función que utiliza por defecto y con la que probaremos inicialmente en el siguiente código el método es ``f_classif``. Esta función calcula el ANOVA F-valor entre etiquetas y características para problemas de clasificación.\n",
    "\n",
    "_NOTA: ANalysis Of VAriance: método estadístico que permite descubrir si los resultados de una prueba son significativos._\n",
    "\n",
    "_NOTA: distribución F o de Fisher-Snedecor es una distribución de probabilidad continua, especialmente aplicada en el análisis de la varianza._\n",
    "\n",
    "Como hay que indicar un parámetro ``k`` que será el número de variables seleccionadas, probaremos varios valores para ver con cual se obtiene mejores resultados."
   ]
  },
  {
   "cell_type": "code",
   "execution_count": 14,
   "id": "5b5255a8",
   "metadata": {},
   "outputs": [
    {
     "name": "stdout",
     "output_type": "stream",
     "text": [
      "----- 10 best features\n",
      "[{'booster': 'gblinear', 'learning_rate': 0.05}, {'booster': 'gblinear', 'learning_rate': 0.1}]\n",
      "Accuracy: 76.47% \n",
      "\n",
      "----- 50 best features\n",
      "[{'booster': 'gblinear', 'learning_rate': 0.05}]\n",
      "Accuracy: 77.94% \n",
      "\n",
      "----- 90 best features\n",
      "[{'booster': 'gblinear', 'learning_rate': 0.1}]\n",
      "Accuracy: 77.94% \n",
      "\n",
      "----- 130 best features\n",
      "[{'booster': 'gblinear', 'learning_rate': 0.001}]\n",
      "Accuracy: 76.47% \n",
      "\n",
      "----- 170 best features\n",
      "[{'booster': 'gblinear', 'learning_rate': 0.001}]\n",
      "Accuracy: 77.94% \n",
      "\n",
      "----- 210 best features\n",
      "[{'booster': 'gblinear', 'learning_rate': 0.05}]\n",
      "Accuracy: 79.41% \n",
      "\n",
      "----- 250 best features\n",
      "[{'booster': 'gblinear', 'learning_rate': 0.001}, {'booster': 'gblinear', 'learning_rate': 0.5}]\n",
      "Accuracy: 75.00% \n",
      "\n",
      "----- 290 best features\n",
      "[{'booster': 'gblinear', 'learning_rate': 0.1}]\n",
      "Accuracy: 72.06% \n",
      "\n",
      "----- 330 best features\n",
      "[{'booster': 'gblinear', 'learning_rate': 0.1}]\n",
      "Accuracy: 69.12% \n",
      "\n",
      "----- 370 best features\n",
      "[{'booster': 'gblinear', 'learning_rate': 0.001}, {'booster': 'gblinear', 'learning_rate': 0.05}, {'booster': 'gblinear', 'learning_rate': 0.5}]\n",
      "Accuracy: 64.71% \n",
      "\n",
      "----- 410 best features\n",
      "[{'booster': 'gblinear', 'learning_rate': 0.001}, {'booster': 'gblinear', 'learning_rate': 0.05}, {'booster': 'gblinear', 'learning_rate': 0.1}]\n",
      "Accuracy: 63.24% \n",
      "\n"
     ]
    }
   ],
   "source": [
    "k_range = list(range(10, 450, 40))\n",
    "acc = 0\n",
    "\n",
    "for k in k_range:\n",
    "    print(f\"----- {k} best features\")\n",
    "    \n",
    "    preprocess = SelectKBest(k=k)\n",
    "\n",
    "    X_train_processed = preprocess.fit_transform(X_train, y_train)\n",
    "    X_test_processed = preprocess.fit_transform(X_test, y_test)\n",
    "\n",
    "    select_k = train_GridSearchCV(model_XGB, param_grid_XGB, X_train_processed, X_test_processed, y_train, y_test)\n",
    "    top_acc = top_acc_GridSearchCV(select_k[\"mean_test_score\"])\n",
    "    print(models_same_acc_GridSearchCV(select_k, top_acc))\n",
    "    print(\"Accuracy: {:0.2f}% \\n\".format(top_acc * 100))"
   ]
  },
  {
   "cell_type": "code",
   "execution_count": 9,
   "id": "693058c6",
   "metadata": {},
   "outputs": [
    {
     "name": "stdout",
     "output_type": "stream",
     "text": [
      "Accuracy: 50.00%\n",
      "Resultado obtenido usando las 210 'mejores variables'.\n"
     ]
    }
   ],
   "source": [
    "preprocess = SelectKBest(k=210)\n",
    "\n",
    "X_train_processed = preprocess.fit_transform(X_train, y_train)\n",
    "X_test_processed = preprocess.fit_transform(X_test, y_test)\n",
    "\n",
    "# Definir y entrenar el modelo\n",
    "select_k_opt = XGBClassifier(eval_metric=\"logloss\", booster=\"gblinear\", learning_rate=0.05, \n",
    "                             random_state=0, use_label_encoder=False)  \n",
    "select_k_opt.fit(X_train_processed, y_train)\n",
    "\n",
    "# Predicción en partición de test\n",
    "y_pred_select_k = select_k_opt.predict(X_test_processed)\n",
    "\n",
    "# Precisión en partición de test\n",
    "acc_select_k = accuracy_score(y_test, y_pred_select_k)\n",
    "print(\"Accuracy: {:0.2f}%\".format(acc_select_k * 100))\n",
    "print(\"Resultado obtenido usando las 210 'mejores variables'.\")"
   ]
  },
  {
   "cell_type": "markdown",
   "id": "4a05a367",
   "metadata": {},
   "source": [
    "A continuación, probamos los resultados del código anterior, utilizando una función de score distinta y apropiada para clasificación.\n",
    "\n",
    "### mutual_info_classif: \n",
    "\n",
    "Mutual Information (MI) es un criterio de estimación de mide la dependencia entre dos variables (en este caso para una variable objetivo discreta). Su valor es no negativo y vale cero las dos variables son totalmente independientes, por tanto, cuanto más alto es su valor, mayor es la dependencia.\n",
    "\n",
    "Su implementación en sklearn se apoya en métodos no-paramétricos, basados en la estimación de la entropía de las distancias de los k-vecinos más cercanos."
   ]
  },
  {
   "cell_type": "code",
   "execution_count": 16,
   "id": "d8f5d06a",
   "metadata": {},
   "outputs": [
    {
     "name": "stdout",
     "output_type": "stream",
     "text": [
      "----- 10 best features\n",
      "[{'booster': 'gbtree', 'learning_rate': 0.5}, {'booster': 'dart', 'learning_rate': 0.5}]\n",
      "Accuracy: 75.00% \n",
      "\n",
      "----- 50 best features\n",
      "[{'booster': 'gblinear', 'learning_rate': 0.1}, {'booster': 'gblinear', 'learning_rate': 0.5}]\n",
      "Accuracy: 67.65% \n",
      "\n",
      "----- 90 best features\n",
      "[{'booster': 'gblinear', 'learning_rate': 0.5}]\n",
      "Accuracy: 75.00% \n",
      "\n",
      "----- 130 best features\n",
      "[{'booster': 'gblinear', 'learning_rate': 0.1}, {'booster': 'gblinear', 'learning_rate': 0.5}]\n",
      "Accuracy: 69.12% \n",
      "\n",
      "----- 170 best features\n",
      "[{'booster': 'gblinear', 'learning_rate': 0.5}]\n",
      "Accuracy: 67.65% \n",
      "\n",
      "----- 210 best features\n",
      "[{'booster': 'gblinear', 'learning_rate': 0.001}]\n",
      "Accuracy: 70.59% \n",
      "\n",
      "----- 250 best features\n",
      "[{'booster': 'gblinear', 'learning_rate': 0.5}]\n",
      "Accuracy: 72.06% \n",
      "\n",
      "----- 290 best features\n",
      "[{'booster': 'gblinear', 'learning_rate': 0.5}]\n",
      "Accuracy: 66.18% \n",
      "\n",
      "----- 330 best features\n",
      "[{'booster': 'gblinear', 'learning_rate': 0.5}]\n",
      "Accuracy: 67.65% \n",
      "\n",
      "----- 370 best features\n",
      "[{'booster': 'gblinear', 'learning_rate': 0.001}, {'booster': 'gblinear', 'learning_rate': 0.5}]\n",
      "Accuracy: 64.71% \n",
      "\n",
      "----- 410 best features\n",
      "[{'booster': 'gblinear', 'learning_rate': 0.5}]\n",
      "Accuracy: 64.71% \n",
      "\n"
     ]
    }
   ],
   "source": [
    "acc = 0\n",
    "\n",
    "for k in k_range:\n",
    "    print(f\"----- {k} best features\")\n",
    "    \n",
    "    preprocess = SelectKBest(score_func=mutual_info_classif, k=k)\n",
    "\n",
    "    X_train_processed = preprocess.fit_transform(X_train, y_train)\n",
    "    X_test_processed = preprocess.fit_transform(X_test, y_test)\n",
    "\n",
    "    select_k2 = train_GridSearchCV(model_XGB, param_grid_XGB, X_train_processed, X_test_processed, y_train, y_test)\n",
    "    top_acc = top_acc_GridSearchCV(select_k2[\"mean_test_score\"])\n",
    "    print(models_same_acc_GridSearchCV(select_k2, top_acc))\n",
    "    print(\"Accuracy: {:0.2f}% \\n\".format(top_acc * 100))"
   ]
  },
  {
   "cell_type": "code",
   "execution_count": 10,
   "id": "349a7fe7",
   "metadata": {},
   "outputs": [
    {
     "name": "stdout",
     "output_type": "stream",
     "text": [
      "Accuracy: 38.89%\n",
      "Resultado obtenido usando las 90 'mejores variables'.\n"
     ]
    }
   ],
   "source": [
    "preprocess = SelectKBest(score_func=mutual_info_classif, k=90)\n",
    "\n",
    "X_train_processed = preprocess.fit_transform(X_train, y_train)\n",
    "X_test_processed = preprocess.fit_transform(X_test, y_test)\n",
    "\n",
    "# Definir y entrenar el modelo\n",
    "select_k_opt2 = XGBClassifier(eval_metric=\"logloss\", booster=\"gblinear\", learning_rate=0.5, \n",
    "                              random_state=0, use_label_encoder=False)  \n",
    "select_k_opt2.fit(X_train_processed, y_train)\n",
    "\n",
    "# Predicción en partición de test\n",
    "y_pred_select_k2 = select_k_opt2.predict(X_test_processed)\n",
    "\n",
    "# Precisión en partición de test\n",
    "acc_select_k2 = accuracy_score(y_test, y_pred_select_k2)\n",
    "print(\"Accuracy: {:0.2f}%\".format(acc_select_k2 * 100))\n",
    "print(\"Resultado obtenido usando las 90 'mejores variables'.\")"
   ]
  },
  {
   "cell_type": "markdown",
   "id": "73db083d",
   "metadata": {},
   "source": [
    "El resto de funciones implementadas en sklearn son para regresión o no válidas en nuestro conjunto de datos (chi2 no admite valores negativos).\n",
    "\n",
    "# SelectPercentile\n",
    "\n",
    "Documentación scikit-learn (https://scikit-learn.org/stable/modules/generated/sklearn.feature_selection.SelectPercentile.html?highlight=select%20percentile#sklearn.feature_selection.SelectPercentile)\n",
    "\n",
    "Método muy similar al anterior ``SelectKBest`` pero que hace la selección de las variables esta vez de acuerdo a un percentil de las puntuaciones más altas. También utiliza las mismas funciones de score y seguiremos el mismo procedimiento.\n",
    "\n",
    "### f_classif"
   ]
  },
  {
   "cell_type": "code",
   "execution_count": 19,
   "id": "4d4b4868",
   "metadata": {},
   "outputs": [
    {
     "name": "stdout",
     "output_type": "stream",
     "text": [
      "----- Percentil 10\n",
      "[{'booster': 'gblinear', 'learning_rate': 0.5}]\n",
      "Accuracy: 73.53% \n",
      "\n",
      "----- Percentil 20\n",
      "[{'booster': 'gblinear', 'learning_rate': 0.001}]\n",
      "Accuracy: 77.94% \n",
      "\n",
      "----- Percentil 30\n",
      "[{'booster': 'gblinear', 'learning_rate': 0.5}]\n",
      "Accuracy: 79.41% \n",
      "\n",
      "----- Percentil 40\n",
      "[{'booster': 'gblinear', 'learning_rate': 0.001}]\n",
      "Accuracy: 76.47% \n",
      "\n",
      "----- Percentil 50\n",
      "[{'booster': 'gblinear', 'learning_rate': 0.001}]\n",
      "Accuracy: 79.41% \n",
      "\n",
      "----- Percentil 60\n",
      "[{'booster': 'gblinear', 'learning_rate': 0.001}]\n",
      "Accuracy: 76.47% \n",
      "\n",
      "----- Percentil 70\n",
      "[{'booster': 'gblinear', 'learning_rate': 0.1}, {'booster': 'gblinear', 'learning_rate': 0.5}]\n",
      "Accuracy: 72.06% \n",
      "\n",
      "----- Percentil 80\n",
      "[{'booster': 'gblinear', 'learning_rate': 0.1}, {'booster': 'gblinear', 'learning_rate': 0.5}]\n",
      "Accuracy: 69.12% \n",
      "\n",
      "----- Percentil 90\n",
      "[{'booster': 'gblinear', 'learning_rate': 0.001}, {'booster': 'gblinear', 'learning_rate': 0.05}, {'booster': 'gblinear', 'learning_rate': 0.1}]\n",
      "Accuracy: 64.71% \n",
      "\n"
     ]
    }
   ],
   "source": [
    "percentile_range = list(range(10, 100, 10))\n",
    "acc = 0\n",
    "\n",
    "for percent in percentile_range:\n",
    "    print(f\"----- Percentil {percent}\")\n",
    "    \n",
    "    preprocess = SelectPercentile(percentile=percent)\n",
    "\n",
    "    X_train_processed = preprocess.fit_transform(X_train, y_train)\n",
    "    X_test_processed = preprocess.fit_transform(X_test, y_test)\n",
    "    \n",
    "    select_percent = train_GridSearchCV(model_XGB, param_grid_XGB, X_train_processed, X_test_processed, y_train, y_test)\n",
    "    top_acc = top_acc_GridSearchCV(select_percent[\"mean_test_score\"])\n",
    "    print(models_same_acc_GridSearchCV(select_percent, top_acc))\n",
    "    print(\"Accuracy: {:0.2f}% \\n\".format(top_acc * 100))"
   ]
  },
  {
   "cell_type": "code",
   "execution_count": 11,
   "id": "c780c55f",
   "metadata": {},
   "outputs": [
    {
     "name": "stdout",
     "output_type": "stream",
     "text": [
      "Accuracy: 66.67%\n",
      "Resultado obtenido usando el percentil 50 de las 'mejores variables'.\n"
     ]
    }
   ],
   "source": [
    "preprocess = SelectPercentile(percentile=50)\n",
    "\n",
    "X_train_processed = preprocess.fit_transform(X_train, y_train)\n",
    "X_test_processed = preprocess.fit_transform(X_test, y_test)\n",
    "\n",
    "# Definir y entrenar el modelo\n",
    "select_percent_opt = XGBClassifier(eval_metric=\"logloss\", booster=\"gblinear\", learning_rate=0.001, \n",
    "                                   random_state=0, use_label_encoder=False)  \n",
    "select_percent_opt.fit(X_train_processed, y_train)\n",
    "\n",
    "# Predicción en partición de test\n",
    "y_pred_select_percent = select_percent_opt.predict(X_test_processed)\n",
    "\n",
    "# Precisión en partición de test\n",
    "acc_select_percent = accuracy_score(y_test, y_pred_select_percent)\n",
    "print(\"Accuracy: {:0.2f}%\".format(acc_select_percent * 100))\n",
    "print(\"Resultado obtenido usando el percentil 50 de las 'mejores variables'.\")"
   ]
  },
  {
   "cell_type": "markdown",
   "id": "f445a4bb",
   "metadata": {},
   "source": [
    "### mutual_info_classif"
   ]
  },
  {
   "cell_type": "code",
   "execution_count": 21,
   "id": "98a5b373",
   "metadata": {},
   "outputs": [
    {
     "name": "stdout",
     "output_type": "stream",
     "text": [
      "----- Percentil 10\n",
      "[{'booster': 'gblinear', 'learning_rate': 0.05}]\n",
      "Accuracy: 72.06% \n",
      "\n",
      "----- Percentil 20\n",
      "[{'booster': 'gblinear', 'learning_rate': 0.1}]\n",
      "Accuracy: 73.53% \n",
      "\n",
      "----- Percentil 30\n",
      "[{'booster': 'gblinear', 'learning_rate': 0.5}]\n",
      "Accuracy: 72.06% \n",
      "\n",
      "----- Percentil 40\n",
      "[{'booster': 'gblinear', 'learning_rate': 0.5}]\n",
      "Accuracy: 69.12% \n",
      "\n",
      "----- Percentil 50\n",
      "[{'booster': 'gblinear', 'learning_rate': 0.5}]\n",
      "Accuracy: 70.59% \n",
      "\n",
      "----- Percentil 60\n",
      "[{'booster': 'gblinear', 'learning_rate': 0.5}]\n",
      "Accuracy: 69.12% \n",
      "\n",
      "----- Percentil 70\n",
      "[{'booster': 'gblinear', 'learning_rate': 0.5}]\n",
      "Accuracy: 69.12% \n",
      "\n",
      "----- Percentil 80\n",
      "[{'booster': 'gblinear', 'learning_rate': 0.5}]\n",
      "Accuracy: 69.12% \n",
      "\n",
      "----- Percentil 90\n",
      "[{'booster': 'gblinear', 'learning_rate': 0.5}]\n",
      "Accuracy: 67.65% \n",
      "\n"
     ]
    }
   ],
   "source": [
    "acc = 0\n",
    "\n",
    "for percent in percentile_range:\n",
    "    print(f\"----- Percentil {percent}\")\n",
    "    \n",
    "    preprocess = SelectPercentile(score_func=mutual_info_classif, percentile=percent)\n",
    "\n",
    "    X_train_processed = preprocess.fit_transform(X_train, y_train)\n",
    "    X_test_processed = preprocess.fit_transform(X_test, y_test)\n",
    "    \n",
    "    select_percent2 = train_GridSearchCV(model_XGB, param_grid_XGB, X_train_processed, X_test_processed, y_train, y_test)\n",
    "    top_acc = top_acc_GridSearchCV(select_percent2[\"mean_test_score\"])\n",
    "    print(models_same_acc_GridSearchCV(select_percent2, top_acc))\n",
    "    print(\"Accuracy: {:0.2f}% \\n\".format(top_acc * 100))"
   ]
  },
  {
   "cell_type": "code",
   "execution_count": 12,
   "id": "52d0d8fb",
   "metadata": {},
   "outputs": [
    {
     "name": "stdout",
     "output_type": "stream",
     "text": [
      "Accuracy: 61.11%\n",
      "Resultado obtenido usando el percentil 20 de las 'mejores variables'.\n"
     ]
    }
   ],
   "source": [
    "preprocess = SelectPercentile(score_func=mutual_info_classif, percentile=20)\n",
    "\n",
    "X_train_processed = preprocess.fit_transform(X_train, y_train)\n",
    "X_test_processed = preprocess.fit_transform(X_test, y_test)\n",
    "\n",
    "# Definir y entrenar el modelo\n",
    "select_percent_opt2 = XGBClassifier(eval_metric=\"logloss\", booster=\"gblinear\", learning_rate=0.1, \n",
    "                                    random_state=0, use_label_encoder=False)  \n",
    "select_percent_opt2.fit(X_train_processed, y_train)\n",
    "\n",
    "# Predicción en partición de test\n",
    "y_pred_select_percent2 = select_percent_opt2.predict(X_test_processed)\n",
    "\n",
    "# Precisión en partición de test\n",
    "acc_select_percent2 = accuracy_score(y_test, y_pred_select_percent2)\n",
    "print(\"Accuracy: {:0.2f}%\".format(acc_select_percent2 * 100))\n",
    "print(\"Resultado obtenido usando el percentil 20 de las 'mejores variables'.\")"
   ]
  },
  {
   "cell_type": "markdown",
   "id": "10be6c94",
   "metadata": {},
   "source": [
    "# RFE\n",
    "\n",
    "Documentación scikit-learn (https://scikit-learn.org/stable/modules/generated/sklearn.feature_selection.RFE.html?highlight=rfe#sklearn.feature_selection.RFE)\n",
    "\n",
    "RFE = Recursive Feature Elimination.\n",
    "\n",
    "Dado un estimador que asigna pesos a las variables (por ejemplos los coeficientes de un modelo lineal), el método elimina de manera recursiva  variables, considerando cada vez conjuntos más pequeños de acuerdo a estos pesos. Inicialmente se entrena el estimador sobre el conjunto original de variables y se obtiene la importancia de cada variable. Acto seguido se podan las variables menos importantes del conjunto. Este proceso se repite de manera recursiva sobre los conjuntos podados que se van generando hasta que se alcanza el número de variables deseado.\n",
    "\n",
    "### Estimador SVC (Support Vector Classifier)"
   ]
  },
  {
   "cell_type": "code",
   "execution_count": 17,
   "id": "30030230",
   "metadata": {},
   "outputs": [
    {
     "name": "stdout",
     "output_type": "stream",
     "text": [
      "----- 10 features\n",
      "[{'booster': 'gblinear', 'learning_rate': 0.5}]\n",
      "Accuracy: 95.59% \n",
      "\n",
      "----- 50 features\n",
      "[{'booster': 'gblinear', 'learning_rate': 0.05}, {'booster': 'gblinear', 'learning_rate': 0.1}]\n",
      "Accuracy: 94.12% \n",
      "\n",
      "----- 90 features\n",
      "[{'booster': 'gblinear', 'learning_rate': 0.1}]\n",
      "Accuracy: 92.65% \n",
      "\n",
      "----- 130 features\n",
      "[{'booster': 'gblinear', 'learning_rate': 0.1}]\n",
      "Accuracy: 88.24% \n",
      "\n",
      "----- 170 features\n",
      "[{'booster': 'gblinear', 'learning_rate': 0.1}]\n",
      "Accuracy: 94.12% \n",
      "\n",
      "----- 210 features\n",
      "[{'booster': 'gblinear', 'learning_rate': 0.1}]\n",
      "Accuracy: 89.71% \n",
      "\n",
      "----- 250 features\n",
      "[{'booster': 'gblinear', 'learning_rate': 0.05}]\n",
      "Accuracy: 85.29% \n",
      "\n",
      "----- 290 features\n",
      "[{'booster': 'gblinear', 'learning_rate': 0.1}]\n",
      "Accuracy: 79.41% \n",
      "\n",
      "----- 330 features\n",
      "[{'booster': 'gblinear', 'learning_rate': 0.05}]\n",
      "Accuracy: 70.59% \n",
      "\n",
      "----- 370 features\n",
      "[{'booster': 'gblinear', 'learning_rate': 0.5}]\n",
      "Accuracy: 67.65% \n",
      "\n",
      "----- 410 features\n",
      "[{'booster': 'gblinear', 'learning_rate': 0.5}]\n",
      "Accuracy: 66.18% \n",
      "\n"
     ]
    }
   ],
   "source": [
    "num_features_range = list(range(10, 450, 40))\n",
    "acc = 0\n",
    "\n",
    "estimator = SVC(kernel=\"linear\", random_state=0) # kernel soportado\n",
    "for num_features in num_features_range:\n",
    "    print(f\"----- {num_features} features\")\n",
    "    \n",
    "    preprocess = RFE(estimator, n_features_to_select=num_features)\n",
    "\n",
    "    X_train_processed = preprocess.fit_transform(X_train, y_train)\n",
    "    X_test_processed = preprocess.fit_transform(X_test, y_test)\n",
    "\n",
    "    rfe_svc = train_GridSearchCV(model_XGB, param_grid_XGB, X_train_processed, X_test_processed, y_train, y_test)\n",
    "    top_acc = top_acc_GridSearchCV(rfe_svc[\"mean_test_score\"])\n",
    "    print(models_same_acc_GridSearchCV(rfe_svc, top_acc))\n",
    "    print(\"Accuracy: {:0.2f}% \\n\".format(top_acc * 100))"
   ]
  },
  {
   "cell_type": "code",
   "execution_count": 18,
   "id": "4fdedbbf",
   "metadata": {},
   "outputs": [
    {
     "name": "stdout",
     "output_type": "stream",
     "text": [
      "Accuracy: 72.22%\n",
      "Resultado obtenido usando las 10 'mejores variables'. Estimador SVC.\n"
     ]
    }
   ],
   "source": [
    "estimator = SVC(kernel=\"linear\", random_state=0)\n",
    "preprocess = RFE(estimator, n_features_to_select=10)\n",
    "\n",
    "X_train_processed = preprocess.fit_transform(X_train, y_train)\n",
    "X_test_processed = preprocess.fit_transform(X_test, y_test)\n",
    "\n",
    "# Definir y entrenar el modelo\n",
    "rfe_svc_opt = XGBClassifier(eval_metric=\"logloss\", booster=\"gblinear\", learning_rate=0.5, \n",
    "                            random_state=0, use_label_encoder=False)  \n",
    "rfe_svc_opt.fit(X_train_processed, y_train)\n",
    "\n",
    "# Predicción en partición de test\n",
    "y_pred_rfe_svc = rfe_svc_opt.predict(X_test_processed)\n",
    "\n",
    "# Precisión en partición de test\n",
    "acc_rfe_svc = accuracy_score(y_test, y_pred_rfe_svc)\n",
    "print(\"Accuracy: {:0.2f}%\".format(acc_rfe_svc * 100))\n",
    "print(\"Resultado obtenido usando las 10 'mejores variables'. Estimador SVC.\")"
   ]
  },
  {
   "cell_type": "markdown",
   "id": "ff76349e",
   "metadata": {},
   "source": [
    "### Estimador LinearSVC\n",
    "\n",
    "Este estimador es muy similar al anterior SVC, utilizando exclusivamente sobre un kernel lineal, pero que por motivos de su implementación permite frente a este anterior una mayor flexibilidad en la elección de funciones de loss, términos de penalización, ..."
   ]
  },
  {
   "cell_type": "code",
   "execution_count": 19,
   "id": "a46d6e73",
   "metadata": {},
   "outputs": [
    {
     "name": "stdout",
     "output_type": "stream",
     "text": [
      "----- 10 features\n",
      "[{'booster': 'gblinear', 'learning_rate': 0.5}]\n",
      "Accuracy: 88.24% \n",
      "\n",
      "----- 50 features\n",
      "[{'booster': 'gblinear', 'learning_rate': 0.5}]\n",
      "Accuracy: 95.59% \n",
      "\n",
      "----- 90 features\n",
      "[{'booster': 'gblinear', 'learning_rate': 0.5}]\n",
      "Accuracy: 94.12% \n",
      "\n",
      "----- 130 features\n",
      "[{'booster': 'gblinear', 'learning_rate': 0.1}]\n",
      "Accuracy: 94.12% \n",
      "\n",
      "----- 170 features\n",
      "[{'booster': 'gblinear', 'learning_rate': 0.1}]\n",
      "Accuracy: 94.12% \n",
      "\n",
      "----- 210 features\n",
      "[{'booster': 'gblinear', 'learning_rate': 0.1}]\n",
      "Accuracy: 92.65% \n",
      "\n",
      "----- 250 features\n",
      "[{'booster': 'gblinear', 'learning_rate': 0.1}]\n",
      "Accuracy: 83.82% \n",
      "\n",
      "----- 290 features\n",
      "[{'booster': 'gblinear', 'learning_rate': 0.1}]\n",
      "Accuracy: 77.94% \n",
      "\n",
      "----- 330 features\n",
      "[{'booster': 'gblinear', 'learning_rate': 0.5}]\n",
      "Accuracy: 75.00% \n",
      "\n",
      "----- 370 features\n",
      "[{'booster': 'gblinear', 'learning_rate': 0.05}, {'booster': 'gblinear', 'learning_rate': 0.1}]\n",
      "Accuracy: 66.18% \n",
      "\n",
      "----- 410 features\n",
      "[{'booster': 'gblinear', 'learning_rate': 0.001}, {'booster': 'gblinear', 'learning_rate': 0.05}, {'booster': 'gblinear', 'learning_rate': 0.1}, {'booster': 'gblinear', 'learning_rate': 0.5}]\n",
      "Accuracy: 63.24% \n",
      "\n"
     ]
    }
   ],
   "source": [
    "acc = 0\n",
    "\n",
    "estimator = LinearSVC(random_state=0)\n",
    "for num_features in num_features_range:\n",
    "    print(f\"----- {num_features} features\")\n",
    "    \n",
    "    preprocess = RFE(estimator, n_features_to_select=num_features)\n",
    "\n",
    "    X_train_processed = preprocess.fit_transform(X_train, y_train)\n",
    "    X_test_processed = preprocess.fit_transform(X_test, y_test)\n",
    "    \n",
    "    rfe_linearsvc = train_GridSearchCV(model_XGB, param_grid_XGB, X_train_processed, X_test_processed, y_train, y_test)\n",
    "    top_acc = top_acc_GridSearchCV(rfe_linearsvc[\"mean_test_score\"])\n",
    "    print(models_same_acc_GridSearchCV(rfe_linearsvc, top_acc))\n",
    "    print(\"Accuracy: {:0.2f}% \\n\".format(top_acc * 100))"
   ]
  },
  {
   "cell_type": "code",
   "execution_count": 20,
   "id": "2c8d8925",
   "metadata": {},
   "outputs": [
    {
     "name": "stdout",
     "output_type": "stream",
     "text": [
      "Accuracy: 72.22%\n",
      "Resultado obtenido usando las 50 'mejores variables'. Estimador LinearSVC.\n"
     ]
    }
   ],
   "source": [
    "estimator = LinearSVC(random_state=0)\n",
    "preprocess = RFE(estimator, n_features_to_select=50)\n",
    "\n",
    "X_train_processed = preprocess.fit_transform(X_train, y_train)\n",
    "X_test_processed = preprocess.fit_transform(X_test, y_test)\n",
    "\n",
    "# Definir y entrenar el modelo\n",
    "rfe_linearsvc_opt = XGBClassifier(eval_metric=\"logloss\", booster=\"gblinear\", learning_rate=0.5, \n",
    "                                  random_state=0, use_label_encoder=False)  \n",
    "rfe_linearsvc_opt.fit(X_train_processed, y_train)\n",
    "\n",
    "# Predicción en partición de test\n",
    "y_pred_rfe_linearsvc = rfe_linearsvc_opt.predict(X_test_processed)\n",
    "\n",
    "# Precisión en partición de test\n",
    "acc_rfe_linearsvc = accuracy_score(y_test, y_pred_rfe_linearsvc)\n",
    "print(\"Accuracy: {:0.2f}%\".format(acc_rfe_linearsvc * 100))\n",
    "print(\"Resultado obtenido usando las 50 'mejores variables'. Estimador LinearSVC.\")"
   ]
  },
  {
   "cell_type": "markdown",
   "id": "95ce9081",
   "metadata": {},
   "source": [
    "### Estimador Random Forest"
   ]
  },
  {
   "cell_type": "code",
   "execution_count": 27,
   "id": "cdb8ffbe",
   "metadata": {},
   "outputs": [
    {
     "name": "stdout",
     "output_type": "stream",
     "text": [
      "----- 10 features\n",
      "[{'booster': 'gblinear', 'learning_rate': 0.05}]\n",
      "Accuracy: 72.06% \n",
      "\n",
      "----- 50 features\n",
      "[{'booster': 'gblinear', 'learning_rate': 0.001}]\n",
      "Accuracy: 73.53% \n",
      "\n",
      "----- 90 features\n",
      "[{'booster': 'gblinear', 'learning_rate': 0.001}, {'booster': 'gblinear', 'learning_rate': 0.05}, {'booster': 'gblinear', 'learning_rate': 0.1}, {'booster': 'gblinear', 'learning_rate': 0.5}]\n",
      "Accuracy: 75.00% \n",
      "\n",
      "----- 130 features\n",
      "[{'booster': 'gblinear', 'learning_rate': 0.001}]\n",
      "Accuracy: 77.94% \n",
      "\n",
      "----- 170 features\n",
      "[{'booster': 'gblinear', 'learning_rate': 0.001}]\n",
      "Accuracy: 75.00% \n",
      "\n",
      "----- 210 features\n",
      "[{'booster': 'gblinear', 'learning_rate': 0.5}]\n",
      "Accuracy: 75.00% \n",
      "\n",
      "----- 250 features\n",
      "[{'booster': 'gblinear', 'learning_rate': 0.001}]\n",
      "Accuracy: 75.00% \n",
      "\n",
      "----- 290 features\n",
      "[{'booster': 'gblinear', 'learning_rate': 0.5}]\n",
      "Accuracy: 69.12% \n",
      "\n",
      "----- 330 features\n",
      "[{'booster': 'gblinear', 'learning_rate': 0.5}]\n",
      "Accuracy: 66.18% \n",
      "\n",
      "----- 370 features\n",
      "[{'booster': 'gblinear', 'learning_rate': 0.001}]\n",
      "Accuracy: 66.18% \n",
      "\n",
      "----- 410 features\n",
      "[{'booster': 'gblinear', 'learning_rate': 0.5}]\n",
      "Accuracy: 66.18% \n",
      "\n"
     ]
    }
   ],
   "source": [
    "acc = 0\n",
    "\n",
    "estimator = RandomForestClassifier(random_state=0)\n",
    "for num_features in num_features_range:\n",
    "    print(f\"----- {num_features} features\")\n",
    "    \n",
    "    preprocess = RFE(estimator, n_features_to_select=num_features)\n",
    "\n",
    "    X_train_processed = preprocess.fit_transform(X_train, y_train)\n",
    "    X_test_processed = preprocess.fit_transform(X_test, y_test)\n",
    "    \n",
    "    rfe_rf = train_GridSearchCV(model_XGB, param_grid_XGB, X_train_processed, X_test_processed, y_train, y_test)\n",
    "    top_acc = top_acc_GridSearchCV(rfe_rf[\"mean_test_score\"])\n",
    "    print(models_same_acc_GridSearchCV(rfe_rf, top_acc))\n",
    "    print(\"Accuracy: {:0.2f}% \\n\".format(top_acc * 100))"
   ]
  },
  {
   "cell_type": "code",
   "execution_count": 21,
   "id": "2f15f05a",
   "metadata": {},
   "outputs": [
    {
     "name": "stdout",
     "output_type": "stream",
     "text": [
      "Accuracy: 38.89%\n",
      "Resultado obtenido usando las 130 'mejores variables'. Estimador Random Forest Classifier.\n"
     ]
    }
   ],
   "source": [
    "estimator = RandomForestClassifier(random_state=0)\n",
    "preprocess = RFE(estimator, n_features_to_select=130)\n",
    "\n",
    "X_train_processed = preprocess.fit_transform(X_train, y_train)\n",
    "X_test_processed = preprocess.fit_transform(X_test, y_test)\n",
    "\n",
    "# Definir y entrenar el modelo\n",
    "rfe_rf_opt = XGBClassifier(eval_metric=\"logloss\", booster=\"gblinear\", learning_rate=0.001, \n",
    "                           random_state=0, use_label_encoder=False)  \n",
    "rfe_rf_opt.fit(X_train_processed, y_train)\n",
    "\n",
    "# Predicción en partición de test\n",
    "y_pred_rfe_rf = rfe_rf_opt.predict(X_test_processed)\n",
    "\n",
    "# Precisión en partición de test\n",
    "acc_rfe_rf = accuracy_score(y_test, y_pred_rfe_rf)\n",
    "print(\"Accuracy: {:0.2f}%\".format(acc_rfe_rf * 100))\n",
    "print(\"Resultado obtenido usando las 130 'mejores variables'. Estimador Random Forest Classifier.\")"
   ]
  },
  {
   "cell_type": "markdown",
   "id": "c6803bc1",
   "metadata": {},
   "source": [
    "# SelectFromModel\n",
    "\n",
    "Documentación scikit-learn: https://scikit-learn.org/stable/modules/generated/sklearn.feature_selection.SelectFromModel.html\n",
    "\n",
    "Método muy similar al anterior, se apoya en el uso de otros estimadores para asignar pesos a las variables del conjunto para eliminar aquellas que considera menos significativas.\n",
    "\n",
    "### Estimador SVC"
   ]
  },
  {
   "cell_type": "code",
   "execution_count": 22,
   "id": "67ec0ab5",
   "metadata": {},
   "outputs": [
    {
     "name": "stdout",
     "output_type": "stream",
     "text": [
      "----- 10 features\n",
      "[{'booster': 'gblinear', 'learning_rate': 0.001}]\n",
      "Accuracy: 86.76% \n",
      "\n",
      "----- 50 features\n",
      "[{'booster': 'gblinear', 'learning_rate': 0.05}, {'booster': 'gblinear', 'learning_rate': 0.5}]\n",
      "Accuracy: 95.59% \n",
      "\n",
      "----- 90 features\n",
      "[{'booster': 'gblinear', 'learning_rate': 0.5}]\n",
      "Accuracy: 94.12% \n",
      "\n",
      "----- 130 features\n",
      "[{'booster': 'gblinear', 'learning_rate': 0.1}]\n",
      "Accuracy: 92.65% \n",
      "\n",
      "----- 170 features\n",
      "[{'booster': 'gblinear', 'learning_rate': 0.1}]\n",
      "Accuracy: 94.12% \n",
      "\n",
      "----- 210 features\n",
      "[{'booster': 'gblinear', 'learning_rate': 0.1}]\n",
      "Accuracy: 94.12% \n",
      "\n",
      "----- 250 features\n",
      "[{'booster': 'gblinear', 'learning_rate': 0.1}]\n",
      "Accuracy: 85.29% \n",
      "\n",
      "----- 290 features\n",
      "[{'booster': 'gblinear', 'learning_rate': 0.05}, {'booster': 'gblinear', 'learning_rate': 0.1}]\n",
      "Accuracy: 77.94% \n",
      "\n",
      "----- 330 features\n",
      "[{'booster': 'gblinear', 'learning_rate': 0.5}]\n",
      "Accuracy: 73.53% \n",
      "\n",
      "----- 370 features\n",
      "[{'booster': 'gblinear', 'learning_rate': 0.5}]\n",
      "Accuracy: 70.59% \n",
      "\n",
      "----- 410 features\n",
      "[{'booster': 'gblinear', 'learning_rate': 0.001}, {'booster': 'gblinear', 'learning_rate': 0.05}, {'booster': 'gblinear', 'learning_rate': 0.1}]\n",
      "Accuracy: 63.24% \n",
      "\n"
     ]
    }
   ],
   "source": [
    "acc = 0\n",
    "\n",
    "estimator = SVC(kernel=\"linear\", random_state=0)\n",
    "for num_features in num_features_range:\n",
    "    print(f\"----- {num_features} features\")\n",
    "    \n",
    "    preprocess = SelectFromModel(estimator, threshold=-np.inf, max_features=num_features)\n",
    "\n",
    "    X_train_processed = preprocess.fit_transform(X_train, y_train)\n",
    "    X_test_processed = preprocess.fit_transform(X_test, y_test)\n",
    "    \n",
    "    rfe_sfm_svc = train_GridSearchCV(model_XGB, param_grid_XGB, X_train_processed, X_test_processed, y_train, y_test)\n",
    "    top_acc = top_acc_GridSearchCV(rfe_sfm_svc[\"mean_test_score\"])\n",
    "    print(models_same_acc_GridSearchCV(rfe_sfm_svc, top_acc))\n",
    "    print(\"Accuracy: {:0.2f}% \\n\".format(top_acc * 100))"
   ]
  },
  {
   "cell_type": "code",
   "execution_count": 23,
   "id": "846c3663",
   "metadata": {},
   "outputs": [
    {
     "name": "stdout",
     "output_type": "stream",
     "text": [
      "Accuracy: 55.56%\n",
      "Resultado obtenido usando las 50 'mejores variables'. Estimador SVC.\n"
     ]
    }
   ],
   "source": [
    "estimator = SVC(kernel=\"linear\", random_state=0)\n",
    "preprocess = SelectFromModel(estimator, threshold=-np.inf, max_features=50)\n",
    "\n",
    "X_train_processed = preprocess.fit_transform(X_train, y_train)\n",
    "X_test_processed = preprocess.fit_transform(X_test, y_test)\n",
    "\n",
    "# Definir y entrenar el modelo\n",
    "rfe_sfm_svc_opt = XGBClassifier(eval_metric=\"logloss\", booster=\"gblinear\", learning_rate=0.05, \n",
    "                                random_state=0, use_label_encoder=False)  \n",
    "rfe_sfm_svc_opt.fit(X_train_processed, y_train)\n",
    "\n",
    "# Predicción en partición de test\n",
    "y_pred_sfm_svc = rfe_sfm_svc_opt.predict(X_test_processed)\n",
    "\n",
    "# Precisión en partición de test\n",
    "acc_sfm_svc = accuracy_score(y_test, y_pred_sfm_svc)\n",
    "print(\"Accuracy: {:0.2f}%\".format(acc_sfm_svc * 100))\n",
    "print(\"Resultado obtenido usando las 50 'mejores variables'. Estimador SVC.\")"
   ]
  },
  {
   "cell_type": "markdown",
   "id": "84d75f84",
   "metadata": {},
   "source": [
    "### Estimador LinearSVC"
   ]
  },
  {
   "cell_type": "code",
   "execution_count": 24,
   "id": "1ac15096",
   "metadata": {},
   "outputs": [
    {
     "name": "stdout",
     "output_type": "stream",
     "text": [
      "----- 10 features\n",
      "[{'booster': 'gblinear', 'learning_rate': 0.001}, {'booster': 'gblinear', 'learning_rate': 0.05}]\n",
      "Accuracy: 88.24% \n",
      "\n",
      "----- 50 features\n",
      "[{'booster': 'gblinear', 'learning_rate': 0.5}]\n",
      "Accuracy: 98.53% \n",
      "\n",
      "----- 90 features\n",
      "[{'booster': 'gblinear', 'learning_rate': 0.1}, {'booster': 'gblinear', 'learning_rate': 0.5}]\n",
      "Accuracy: 94.12% \n",
      "\n",
      "----- 130 features\n",
      "[{'booster': 'gblinear', 'learning_rate': 0.1}, {'booster': 'gblinear', 'learning_rate': 0.5}]\n",
      "Accuracy: 89.71% \n",
      "\n",
      "----- 170 features\n",
      "[{'booster': 'gblinear', 'learning_rate': 0.1}]\n",
      "Accuracy: 92.65% \n",
      "\n",
      "----- 210 features\n",
      "[{'booster': 'gblinear', 'learning_rate': 0.1}]\n",
      "Accuracy: 94.12% \n",
      "\n",
      "----- 250 features\n",
      "[{'booster': 'gblinear', 'learning_rate': 0.1}]\n",
      "Accuracy: 85.29% \n",
      "\n",
      "----- 290 features\n",
      "[{'booster': 'gblinear', 'learning_rate': 0.5}]\n",
      "Accuracy: 79.41% \n",
      "\n",
      "----- 330 features\n",
      "[{'booster': 'gblinear', 'learning_rate': 0.1}]\n",
      "Accuracy: 70.59% \n",
      "\n",
      "----- 370 features\n",
      "[{'booster': 'gblinear', 'learning_rate': 0.001}, {'booster': 'gblinear', 'learning_rate': 0.05}, {'booster': 'gblinear', 'learning_rate': 0.1}, {'booster': 'gblinear', 'learning_rate': 0.5}]\n",
      "Accuracy: 66.18% \n",
      "\n",
      "----- 410 features\n",
      "[{'booster': 'gblinear', 'learning_rate': 0.5}]\n",
      "Accuracy: 69.12% \n",
      "\n"
     ]
    }
   ],
   "source": [
    "acc = 0\n",
    "\n",
    "estimator = LinearSVC(random_state=0)\n",
    "for num_features in num_features_range:\n",
    "    print(f\"----- {num_features} features\")\n",
    "    \n",
    "    preprocess = SelectFromModel(estimator, threshold=-np.inf, max_features=num_features)\n",
    "\n",
    "    X_train_processed = preprocess.fit_transform(X_train, y_train)\n",
    "    X_test_processed = preprocess.fit_transform(X_test, y_test)\n",
    "    \n",
    "    rfe_sfm_linearsvc = train_GridSearchCV(model_XGB, param_grid_XGB, X_train_processed, X_test_processed, y_train, y_test)\n",
    "    top_acc = top_acc_GridSearchCV(rfe_sfm_linearsvc[\"mean_test_score\"])\n",
    "    print(models_same_acc_GridSearchCV(rfe_sfm_linearsvc, top_acc))\n",
    "    print(\"Accuracy: {:0.2f}% \\n\".format(top_acc * 100))"
   ]
  },
  {
   "cell_type": "code",
   "execution_count": 25,
   "id": "dcf79425",
   "metadata": {},
   "outputs": [
    {
     "name": "stdout",
     "output_type": "stream",
     "text": [
      "Accuracy: 50.00%\n",
      "Resultado obtenido usando las 50 'mejores variables'. Estimador LinearSVC.\n"
     ]
    }
   ],
   "source": [
    "estimator = LinearSVC(random_state=0)\n",
    "preprocess = SelectFromModel(estimator, threshold=-np.inf, max_features=50)\n",
    "\n",
    "X_train_processed = preprocess.fit_transform(X_train, y_train)\n",
    "X_test_processed = preprocess.fit_transform(X_test, y_test)\n",
    "\n",
    "# Definir y entrenar el modelo\n",
    "rfe_sfm_linearsvc_opt = XGBClassifier(eval_metric=\"logloss\", booster=\"gblinear\", learning_rate=0.5, \n",
    "                                      random_state=0, use_label_encoder=False)  \n",
    "rfe_sfm_linearsvc_opt.fit(X_train_processed, y_train)\n",
    "\n",
    "# Predicción en partición de test\n",
    "y_pred_sfm_linearsvc = rfe_sfm_linearsvc_opt.predict(X_test_processed)\n",
    "\n",
    "# Precisión en partición de test\n",
    "acc_sfm_linearsvc = accuracy_score(y_test, y_pred_sfm_linearsvc)\n",
    "print(\"Accuracy: {:0.2f}%\".format(acc_sfm_linearsvc * 100))\n",
    "print(\"Resultado obtenido usando las 50 'mejores variables'. Estimador LinearSVC.\")"
   ]
  },
  {
   "cell_type": "markdown",
   "id": "49b7dd9c",
   "metadata": {},
   "source": [
    "### Estimador RandomForest"
   ]
  },
  {
   "cell_type": "code",
   "execution_count": 34,
   "id": "3d6eb537",
   "metadata": {},
   "outputs": [
    {
     "name": "stdout",
     "output_type": "stream",
     "text": [
      "----- 10 features\n",
      "[{'booster': 'gblinear', 'learning_rate': 0.1}]\n",
      "Accuracy: 76.47% \n",
      "\n",
      "----- 50 features\n",
      "[{'booster': 'gblinear', 'learning_rate': 0.001}, {'booster': 'gblinear', 'learning_rate': 0.05}]\n",
      "Accuracy: 72.06% \n",
      "\n",
      "----- 90 features\n",
      "[{'booster': 'gblinear', 'learning_rate': 0.001}, {'booster': 'gblinear', 'learning_rate': 0.5}]\n",
      "Accuracy: 67.65% \n",
      "\n",
      "----- 130 features\n",
      "[{'booster': 'gblinear', 'learning_rate': 0.05}, {'booster': 'gblinear', 'learning_rate': 0.1}]\n",
      "Accuracy: 73.53% \n",
      "\n",
      "----- 170 features\n",
      "[{'booster': 'gblinear', 'learning_rate': 0.1}, {'booster': 'gblinear', 'learning_rate': 0.5}]\n",
      "Accuracy: 72.06% \n",
      "\n",
      "----- 210 features\n",
      "[{'booster': 'gblinear', 'learning_rate': 0.1}]\n",
      "Accuracy: 70.59% \n",
      "\n",
      "----- 250 features\n",
      "[{'booster': 'gblinear', 'learning_rate': 0.5}]\n",
      "Accuracy: 69.12% \n",
      "\n",
      "----- 290 features\n",
      "[{'booster': 'gblinear', 'learning_rate': 0.5}]\n",
      "Accuracy: 67.65% \n",
      "\n",
      "----- 330 features\n",
      "[{'booster': 'gblinear', 'learning_rate': 0.1}]\n",
      "Accuracy: 67.65% \n",
      "\n",
      "----- 370 features\n",
      "[{'booster': 'gblinear', 'learning_rate': 0.1}]\n",
      "Accuracy: 67.65% \n",
      "\n",
      "----- 410 features\n",
      "[{'booster': 'gblinear', 'learning_rate': 0.5}]\n",
      "Accuracy: 66.18% \n",
      "\n"
     ]
    }
   ],
   "source": [
    "acc = 0\n",
    "\n",
    "estimator = RandomForestClassifier(random_state=0)\n",
    "for num_features in num_features_range:\n",
    "    print(f\"----- {num_features} features\")\n",
    "    \n",
    "    preprocess = SelectFromModel(estimator, threshold=-np.inf, max_features=num_features)\n",
    "\n",
    "    X_train_processed = preprocess.fit_transform(X_train, y_train)\n",
    "    X_test_processed = preprocess.fit_transform(X_test, y_test)\n",
    "    \n",
    "    rfe_sfm_rf = train_GridSearchCV(model_XGB, param_grid_XGB, X_train_processed, X_test_processed, y_train, y_test)\n",
    "    top_acc = top_acc_GridSearchCV(rfe_sfm_rf[\"mean_test_score\"])\n",
    "    print(models_same_acc_GridSearchCV(rfe_sfm_rf, top_acc))\n",
    "    print(\"Accuracy: {:0.2f}% \\n\".format(top_acc * 100))"
   ]
  },
  {
   "cell_type": "code",
   "execution_count": 26,
   "id": "fa0e8ed9",
   "metadata": {},
   "outputs": [
    {
     "name": "stdout",
     "output_type": "stream",
     "text": [
      "Accuracy: 55.56%\n",
      "Resultado obtenido usando las 10 'mejores variables'. Estimador Random Forest.\n"
     ]
    }
   ],
   "source": [
    "estimator = RandomForestClassifier(random_state=0)\n",
    "preprocess = SelectFromModel(estimator, threshold=-np.inf, max_features=10)\n",
    "\n",
    "X_train_processed = preprocess.fit_transform(X_train, y_train)\n",
    "X_test_processed = preprocess.fit_transform(X_test, y_test)\n",
    "\n",
    "# Definir y entrenar el modelo\n",
    "rfe_sfm_rf_opt = XGBClassifier(eval_metric=\"logloss\", booster=\"gblinear\", learning_rate=0.1, \n",
    "                               random_state=0, use_label_encoder=False)  \n",
    "rfe_sfm_rf_opt.fit(X_train_processed, y_train)\n",
    "\n",
    "# Predicción en partición de test\n",
    "y_pred_sfm_rf = rfe_sfm_rf_opt.predict(X_test_processed)\n",
    "\n",
    "# Precisión en partición de test\n",
    "acc_sfm_rf = accuracy_score(y_test, y_pred_sfm_rf)\n",
    "print(\"Accuracy: {:0.2f}%\".format(acc_sfm_rf * 100))\n",
    "print(\"Resultado obtenido usando las 10 'mejores variables'. Estimador Random Forest.\")"
   ]
  },
  {
   "cell_type": "markdown",
   "id": "17720e01",
   "metadata": {},
   "source": [
    "# Comparación de resultados"
   ]
  },
  {
   "cell_type": "code",
   "execution_count": 32,
   "id": "e0c67f01",
   "metadata": {},
   "outputs": [
    {
     "data": {
      "image/png": "[encoded data removed]",
      "text/plain": [
       "<Figure size 1296x432 with 1 Axes>"
      ]
     },
     "metadata": {
      "needs_background": "light"
     },
     "output_type": "display_data"
    }
   ],
   "source": [
    "import matplotlib.pyplot as plt\n",
    "\n",
    "results = [accuracy_no_preprocessing,acc_normalized, acc_scaled, acc_pca, acc_select_k, acc_select_k2, acc_select_percent, \n",
    "           acc_select_percent2, acc_rfe_svc, acc_rfe_linearsvc, acc_rfe_rf, acc_sfm_svc, acc_sfm_linearsvc, acc_sfm_rf]\n",
    "\n",
    "plt.figure(figsize=(18, 6))\n",
    "xaxis = [\"Sin\\n preprocesar\", \"Normalizado\", \"Escalado\", \"PCA\", \"KBest \\n (ANOVA)\", \"KBest \\n (MI)\", \"Percent. \\n (ANOVA)\", \n",
    "         \"Percent \\n (MI)\", \"RFE \\n SVC\", \"RFE \\n LinearSVC\", \"RFE \\n RF\", \"SFM \\n SVC\", \"SFM \\n LinearSVC\", \"SFM \\n RF\"]\n",
    "barlist = plt.bar(xaxis, results, width=0.5)\n",
    "barlist[0].set_color(\"r\")\n",
    "plt.xticks(fontsize=12)\n",
    "plt.show()"
   ]
  }
 ],
 "metadata": {
  "kernelspec": {
   "display_name": "Python 3 (ipykernel)",
   "language": "python",
   "name": "python3"
  },
  "language_info": {
   "codemirror_mode": {
    "name": "ipython",
    "version": 3
   },
   "file_extension": ".py",
   "mimetype": "text/x-python",
   "name": "python",
   "nbconvert_exporter": "python",
   "pygments_lexer": "ipython3",
   "version": "3.9.12"
  }
 },
 "nbformat": 4,
 "nbformat_minor": 5
}

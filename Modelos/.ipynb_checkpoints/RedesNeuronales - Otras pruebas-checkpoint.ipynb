{
 "cells": [
  {
   "cell_type": "markdown",
   "id": "d99f259b",
   "metadata": {},
   "source": [
    "Este notebook recoge los resultados de una serie de métodos para tratar de mejorar el entrenamiento de una red neuronal o poder dar uso al conjunto de datos no etiquetado.\n",
    "\n",
    "Las pruebas se van a realizar sobre la configuración de red óptima encontrada."
   ]
  },
  {
   "cell_type": "code",
   "execution_count": 1,
   "id": "40286d24",
   "metadata": {},
   "outputs": [],
   "source": [
    "# Estructuras de datos\n",
    "import pandas as pd\n",
    "import numpy as np\n",
    "\n",
    "# Librerías de optimización de hiperparámetros\n",
    "import optuna\n",
    "\n",
    "# Modelo\n",
    "import tensorflow as tf\n",
    "import keras\n",
    "from keras import layers, models, optimizers, callbacks, backend, preprocessing, regularizers\n",
    "\n",
    "# Cargar los datos\n",
    "from data_and_submissions import *\n",
    "\n",
    "# Métodos para los entrenamientos con CV\n",
    "from train_cv_methods import *"
   ]
  },
  {
   "cell_type": "markdown",
   "id": "0dea4b44",
   "metadata": {},
   "source": [
    "Vamos a usar la siguiente partición de los datos:\n",
    "\n",
    "* 60% train $\\sim$ 50 datos\n",
    "* 20% validation $\\sim$ 18 datos (se define al aplicar cross-validación en el ajuste)\n",
    "* 20% test $\\sim$ 18 datos"
   ]
  },
  {
   "cell_type": "code",
   "execution_count": 2,
   "id": "3014e1ce",
   "metadata": {},
   "outputs": [
    {
     "name": "stdout",
     "output_type": "stream",
     "text": [
      "Tamaño del dataset de train: (68, 410)\n",
      "Tamaño del dataset de test: (18, 410)\n"
     ]
    }
   ],
   "source": [
    "X_train, X_test, y_train, y_test, test_kaggle = load_data()\n",
    "print(\"Tamaño del dataset de train:\", X_train.shape)\n",
    "print(\"Tamaño del dataset de test:\", X_test.shape)"
   ]
  },
  {
   "cell_type": "markdown",
   "id": "1231ee89",
   "metadata": {},
   "source": [
    "###  Modelo óptimo"
   ]
  },
  {
   "cell_type": "code",
   "execution_count": 3,
   "id": "516cc997",
   "metadata": {},
   "outputs": [],
   "source": [
    "from keras.utils import np_utils\n",
    "\n",
    "# En primer lugar, hay que adaptar los datos\n",
    "NUM_CLASSES = 2\n",
    "y_train_softmax = np_utils.to_categorical(y_train, NUM_CLASSES)\n",
    "y_test_softmax = np_utils.to_categorical(y_test, NUM_CLASSES)"
   ]
  },
  {
   "cell_type": "code",
   "execution_count": 4,
   "id": "05e4bd63",
   "metadata": {},
   "outputs": [
    {
     "name": "stdout",
     "output_type": "stream",
     "text": [
      "Epoch 1/100\n",
      "2/2 [==============================] - 9s 1s/step - loss: 0.6864 - acc: 0.5686 - val_loss: 0.6845 - val_acc: 0.6471\n",
      "Epoch 2/100\n",
      "2/2 [==============================] - 0s 75ms/step - loss: 0.5365 - acc: 0.7451 - val_loss: 0.7852 - val_acc: 0.6471\n",
      "Epoch 3/100\n",
      "2/2 [==============================] - 0s 94ms/step - loss: 0.4486 - acc: 0.7647 - val_loss: 0.7125 - val_acc: 0.7059\n",
      "Epoch 4/100\n",
      "2/2 [==============================] - 0s 113ms/step - loss: 0.2293 - acc: 0.9804 - val_loss: 0.7357 - val_acc: 0.6471\n",
      "Epoch 5/100\n",
      "2/2 [==============================] - 0s 69ms/step - loss: 0.0894 - acc: 1.0000 - val_loss: 0.9013 - val_acc: 0.7647\n",
      "Epoch 6/100\n",
      "2/2 [==============================] - 0s 81ms/step - loss: 0.0504 - acc: 1.0000 - val_loss: 0.8433 - val_acc: 0.6471\n",
      "Epoch 7/100\n",
      "2/2 [==============================] - 0s 115ms/step - loss: 0.0186 - acc: 1.0000 - val_loss: 0.7682 - val_acc: 0.6471\n",
      "Epoch 8/100\n",
      "2/2 [==============================] - 0s 73ms/step - loss: 0.0109 - acc: 1.0000 - val_loss: 0.9585 - val_acc: 0.7059\n",
      "Epoch 9/100\n",
      "2/2 [==============================] - 0s 96ms/step - loss: 0.0055 - acc: 1.0000 - val_loss: 0.9094 - val_acc: 0.6471\n",
      "Epoch 10/100\n",
      "2/2 [==============================] - 0s 111ms/step - loss: 0.0034 - acc: 1.0000 - val_loss: 0.9247 - val_acc: 0.6471\n",
      "1/1 [==============================] - 0s 81ms/step - loss: 0.5813 - acc: 0.8889\n",
      "Accuracy: 88.89%\n"
     ]
    }
   ],
   "source": [
    "tf.keras.utils.set_random_seed(0) # Reproducibilidad de resultados\n",
    "\n",
    "# Definir y entrenar el modelo\n",
    "model_opt = models.Sequential()\n",
    "model_opt.add(layers.Dense(200, activation=\"relu\", input_shape=(410,)))\n",
    "model_opt.add(layers.Dense(200, activation=\"relu\"))\n",
    "model_opt.add(layers.Dense(200, activation=\"relu\"))\n",
    "model_opt.add(layers.Dense(200, activation=\"relu\"))\n",
    "model_opt.add(layers.Dense(2, activation=\"softmax\"))\n",
    "\n",
    "model_opt.compile(loss=\"binary_crossentropy\", optimizer=\"rmsprop\", metrics=[\"acc\"])\n",
    "es = callbacks.EarlyStopping(monitor=\"val_acc\", min_delta=0.01, patience=5)\n",
    "model_opt.fit(X_train, y_train_softmax, epochs=100, validation_split=0.25, callbacks=[es])\n",
    "\n",
    "# Precisión en partición de test\n",
    "loss, accuracy_original = model_opt.evaluate(X_test, y_test_softmax)\n",
    "print(\"Accuracy: {:0.2f}%\".format(accuracy_original * 100))"
   ]
  },
  {
   "cell_type": "markdown",
   "id": "e7eebafe",
   "metadata": {},
   "source": [
    "# Función de pérdida personalizada\n",
    "\n",
    "Se trata de tener en cuenta los datos con peores resultados en el backpropagation, es decir, asignar un mayor peso a esos datos, definiendo propiamente una función de loss personalizada.\n",
    "\n",
    "Fuente: https://stackoverflow.com/questions/48720197/weight-samples-if-incorrect-guessed-in-binary-cross-entropy"
   ]
  },
  {
   "cell_type": "code",
   "execution_count": 5,
   "id": "ad055d09",
   "metadata": {},
   "outputs": [],
   "source": [
    "def custom_loss(y_true, y_pred, tp_weight=0.5, tn_weight=0.5, fp_weight=1, fn_weight=1):\n",
    "    '''\n",
    "    Función de pérdida personalizada para el optimizador de una red neuronal.\n",
    "    El método recibe las predicciones y el valor real de la clasificación, así como los pesos que se desea asignar a los\n",
    "    clasificaciones tanto erróneas como acertadas.\n",
    "    '''\n",
    "    \n",
    "    # Get predictions\n",
    "    y_pred_classes = tf.keras.backend.greater_equal(y_pred, 0.5)\n",
    "    y_pred_classes_float = tf.keras.backend.cast(y_pred_classes, tf.keras.backend.floatx())\n",
    "    y_true_float = tf.keras.backend.cast(y_true, tf.keras.backend.floatx())\n",
    "\n",
    "    # Get misclassified examples\n",
    "    wrongly_classified = tf.keras.backend.not_equal(y_true_float, y_pred_classes_float)\n",
    "    wrongly_classified_float = tf.keras.backend.cast(wrongly_classified, tf.keras.backend.floatx())\n",
    "    wrongly_classified_float2 = tf.gather(wrongly_classified_float, [0], axis=1)\n",
    "        \n",
    "    # Get correctly classified examples\n",
    "    correctly_classified = tf.keras.backend.equal(y_true_float, y_pred_classes_float)\n",
    "    correctly_classified_float = tf.keras.backend.cast(correctly_classified, tf.keras.backend.floatx())\n",
    "    correctly_classified_float2 = tf.gather(correctly_classified_float, [0], axis=1)\n",
    "    \n",
    "    # Get tp, fp, tn, fn\n",
    "    tp = correctly_classified_float * y_true_float\n",
    "    tn = correctly_classified_float * (1 - y_true_float)\n",
    "    fp = wrongly_classified_float * y_true_float\n",
    "    fn = wrongly_classified_float * (1 - y_true_float)\n",
    "\n",
    "    # Get weights\n",
    "    weight = tp_weight * tp + fp_weight * fp + tn_weight * tn + fn_weight * fn\n",
    "    weight2 = tf.gather(weight, [0], axis=1)\n",
    "    weight3 = tf.math.reduce_sum(weight2, axis=1)\n",
    "    \n",
    "    loss = tf.keras.metrics.binary_crossentropy(y_true, y_pred)\n",
    "    weighted_loss = loss * weight3\n",
    "        \n",
    "    return weighted_loss"
   ]
  },
  {
   "cell_type": "markdown",
   "id": "cd73f781",
   "metadata": {},
   "source": [
    "Hay que tener en cuenta que los anteriores ``tp``, ``fn``, ... son tensores (vectores de ``tensorflow``) y por tanto, el resultado guardado en ``weight`` es igualmente otro tensor, no un único valor numérico.\n",
    "\n",
    "_NOTA: se entienden los positivos como aquellas muestras correspondientes con una etiqueta \"1\" (enfermos) y por tanto como negativos los registros con etiqueta \"0\" (grupo de control)._\n",
    "\n",
    "Vamos a probar cómo funciona la función personalizada sobre los modelos de redes neuronales que peores resultados han obtenido para comprobar si de este modo podemos mejorar sus resultados."
   ]
  },
  {
   "cell_type": "code",
   "execution_count": 7,
   "id": "9bb9f5a6",
   "metadata": {
    "scrolled": true
   },
   "outputs": [
    {
     "name": "stdout",
     "output_type": "stream",
     "text": [
      "Epoch 1/100\n",
      "2/2 [==============================] - 4s 837ms/step - loss: 0.5316 - acc: 0.5686 - val_loss: 0.4673 - val_acc: 0.7059\n",
      "Epoch 2/100\n",
      "2/2 [==============================] - 0s 88ms/step - loss: 0.3406 - acc: 0.9020 - val_loss: 0.5205 - val_acc: 0.5882\n",
      "Epoch 3/100\n",
      "2/2 [==============================] - 0s 62ms/step - loss: 0.2365 - acc: 0.9804 - val_loss: 0.5716 - val_acc: 0.5882\n",
      "Epoch 4/100\n",
      "2/2 [==============================] - 0s 66ms/step - loss: 0.1206 - acc: 1.0000 - val_loss: 0.8096 - val_acc: 0.7647\n",
      "Epoch 5/100\n",
      "2/2 [==============================] - 0s 90ms/step - loss: 0.3440 - acc: 0.7843 - val_loss: 1.0695 - val_acc: 0.6471\n",
      "Epoch 6/100\n",
      "2/2 [==============================] - 0s 60ms/step - loss: 0.1280 - acc: 0.9412 - val_loss: 0.7024 - val_acc: 0.6471\n",
      "Epoch 7/100\n",
      "2/2 [==============================] - 0s 74ms/step - loss: 0.0407 - acc: 1.0000 - val_loss: 0.7442 - val_acc: 0.5882\n",
      "Epoch 8/100\n",
      "2/2 [==============================] - 0s 108ms/step - loss: 0.0291 - acc: 1.0000 - val_loss: 0.7961 - val_acc: 0.5882\n",
      "Epoch 9/100\n",
      "2/2 [==============================] - 0s 55ms/step - loss: 0.0211 - acc: 1.0000 - val_loss: 0.8185 - val_acc: 0.5882\n",
      "1/1 [==============================] - 0s 92ms/step - loss: 0.4409 - acc: 0.8333\n",
      "Accuracy: 83.33%\n"
     ]
    }
   ],
   "source": [
    "tf.keras.utils.set_random_seed(0) # Reproducibilidad de resultados\n",
    "\n",
    "# Definir y entrenar el modelo\n",
    "model_CL = models.Sequential()\n",
    "model_CL.add(layers.Dense(200, activation=\"relu\", input_shape=(410,)))\n",
    "model_CL.add(layers.Dense(200, activation=\"relu\"))\n",
    "model_CL.add(layers.Dense(200, activation=\"relu\"))\n",
    "model_CL.add(layers.Dense(200, activation=\"relu\"))\n",
    "model_CL.add(layers.Dense(2, activation=\"softmax\"))\n",
    "\n",
    "model_CL.compile(loss=custom_loss, optimizer=\"rmsprop\", metrics=[\"acc\"])\n",
    "es = callbacks.EarlyStopping(monitor=\"val_acc\", min_delta=0.01, patience=5)\n",
    "model_CL.fit(X_train, y_train_softmax, epochs=100, validation_split=0.25, callbacks=[es])\n",
    "\n",
    "# Precisión en partición de test\n",
    "loss, accuracy_CL = model_CL.evaluate(X_test, y_test_softmax)\n",
    "print(\"Accuracy: {:0.2f}%\".format(accuracy_CL * 100))"
   ]
  },
  {
   "cell_type": "code",
   "execution_count": 29,
   "id": "2a69621f",
   "metadata": {},
   "outputs": [
    {
     "name": "stdout",
     "output_type": "stream",
     "text": [
      "(119748, 2)\n"
     ]
    }
   ],
   "source": [
    "y_pred_CL = model_CL.predict(test_kaggle)\n",
    "\n",
    "create_submission(y_pred_CL, \"NN_CustomLoss\")"
   ]
  },
  {
   "cell_type": "markdown",
   "id": "ffd16fe8",
   "metadata": {},
   "source": [
    "# Sample-weight\n",
    "\n",
    "Una alternativa a lo anterior, sería usar un vector de pesos propio y pasarlo a la función ``fit`` del modelo, a través del parámetro ``sample_weight``, en lugar de definir una función de pérdida."
   ]
  },
  {
   "cell_type": "code",
   "execution_count": 8,
   "id": "065bb881",
   "metadata": {
    "scrolled": true
   },
   "outputs": [
    {
     "name": "stdout",
     "output_type": "stream",
     "text": [
      "2/2 [==============================] - 5s 931ms/step - loss: 0.3475 - acc: 0.5686 - val_loss: 0.3414 - val_acc: 0.5882\n",
      "2/2 [==============================] - 0s 329ms/step - loss: 0.2470 - acc: 0.5098 - val_loss: 0.2745 - val_acc: 0.4118\n",
      "2/2 [==============================] - 0s 334ms/step - loss: 0.3152 - acc: 0.6471 - val_loss: 0.2306 - val_acc: 0.5882\n",
      "2/2 [==============================] - 0s 403ms/step - loss: 0.2156 - acc: 0.7059 - val_loss: 0.2567 - val_acc: 0.5294\n",
      "2/2 [==============================] - 0s 239ms/step - loss: 0.1106 - acc: 0.9608 - val_loss: 0.3408 - val_acc: 0.7059\n",
      "2/2 [==============================] - 0s 217ms/step - loss: 0.0525 - acc: 1.0000 - val_loss: 0.3547 - val_acc: 0.5882\n",
      "2/2 [==============================] - 0s 178ms/step - loss: 0.0268 - acc: 1.0000 - val_loss: 0.3733 - val_acc: 0.5882\n",
      "2/2 [==============================] - 0s 193ms/step - loss: 0.0155 - acc: 1.0000 - val_loss: 0.3786 - val_acc: 0.5882\n",
      "2/2 [==============================] - 0s 176ms/step - loss: 0.0096 - acc: 1.0000 - val_loss: 0.3857 - val_acc: 0.5882\n",
      "2/2 [==============================] - 0s 412ms/step - loss: 0.0062 - acc: 1.0000 - val_loss: 0.3920 - val_acc: 0.5882\n",
      "2/2 [==============================] - 0s 305ms/step - loss: 0.0043 - acc: 1.0000 - val_loss: 0.3987 - val_acc: 0.5882\n",
      "2/2 [==============================] - 0s 255ms/step - loss: 0.0030 - acc: 1.0000 - val_loss: 0.4053 - val_acc: 0.5882\n",
      "2/2 [==============================] - 0s 362ms/step - loss: 0.0022 - acc: 1.0000 - val_loss: 0.4121 - val_acc: 0.5882\n",
      "2/2 [==============================] - 0s 299ms/step - loss: 0.0016 - acc: 1.0000 - val_loss: 0.4189 - val_acc: 0.5882\n",
      "2/2 [==============================] - 0s 302ms/step - loss: 0.0012 - acc: 1.0000 - val_loss: 0.4256 - val_acc: 0.5882\n",
      "2/2 [==============================] - 0s 281ms/step - loss: 9.4525e-04 - acc: 1.0000 - val_loss: 0.4327 - val_acc: 0.5882\n",
      "2/2 [==============================] - 0s 348ms/step - loss: 7.3577e-04 - acc: 1.0000 - val_loss: 0.4398 - val_acc: 0.5882\n",
      "2/2 [==============================] - 0s 364ms/step - loss: 5.7974e-04 - acc: 1.0000 - val_loss: 0.4462 - val_acc: 0.5882\n",
      "2/2 [==============================] - 0s 292ms/step - loss: 4.6185e-04 - acc: 1.0000 - val_loss: 0.4520 - val_acc: 0.5882\n",
      "2/2 [==============================] - 0s 299ms/step - loss: 3.7296e-04 - acc: 1.0000 - val_loss: 0.4581 - val_acc: 0.5882\n",
      "2/2 [==============================] - 0s 326ms/step - loss: 3.0341e-04 - acc: 1.0000 - val_loss: 0.4635 - val_acc: 0.5882\n",
      "2/2 [==============================] - 0s 258ms/step - loss: 2.4874e-04 - acc: 1.0000 - val_loss: 0.4697 - val_acc: 0.5882\n",
      "2/2 [==============================] - 0s 153ms/step - loss: 2.0503e-04 - acc: 1.0000 - val_loss: 0.4754 - val_acc: 0.5882\n",
      "2/2 [==============================] - 0s 178ms/step - loss: 1.6953e-04 - acc: 1.0000 - val_loss: 0.4818 - val_acc: 0.5882\n",
      "2/2 [==============================] - 0s 196ms/step - loss: 1.4058e-04 - acc: 1.0000 - val_loss: 0.4879 - val_acc: 0.5882\n",
      "2/2 [==============================] - 0s 176ms/step - loss: 1.1711e-04 - acc: 1.0000 - val_loss: 0.4939 - val_acc: 0.5882\n",
      "2/2 [==============================] - 0s 264ms/step - loss: 9.7745e-05 - acc: 1.0000 - val_loss: 0.4996 - val_acc: 0.5882\n",
      "2/2 [==============================] - 0s 373ms/step - loss: 8.1903e-05 - acc: 1.0000 - val_loss: 0.5055 - val_acc: 0.5882\n",
      "2/2 [==============================] - 0s 310ms/step - loss: 6.8878e-05 - acc: 1.0000 - val_loss: 0.5108 - val_acc: 0.5882\n",
      "2/2 [==============================] - 0s 316ms/step - loss: 5.8192e-05 - acc: 1.0000 - val_loss: 0.5162 - val_acc: 0.5882\n",
      "2/2 [==============================] - 0s 314ms/step - loss: 4.9310e-05 - acc: 1.0000 - val_loss: 0.5215 - val_acc: 0.5882\n",
      "2/2 [==============================] - 0s 352ms/step - loss: 4.1931e-05 - acc: 1.0000 - val_loss: 0.5268 - val_acc: 0.5882\n",
      "2/2 [==============================] - 0s 261ms/step - loss: 3.5722e-05 - acc: 1.0000 - val_loss: 0.5318 - val_acc: 0.5882\n",
      "2/2 [==============================] - 0s 374ms/step - loss: 3.0528e-05 - acc: 1.0000 - val_loss: 0.5370 - val_acc: 0.5882\n",
      "2/2 [==============================] - 0s 317ms/step - loss: 2.6139e-05 - acc: 1.0000 - val_loss: 0.5421 - val_acc: 0.5882\n",
      "2/2 [==============================] - 0s 360ms/step - loss: 2.2429e-05 - acc: 1.0000 - val_loss: 0.5470 - val_acc: 0.5882\n",
      "2/2 [==============================] - 0s 320ms/step - loss: 1.9267e-05 - acc: 1.0000 - val_loss: 0.5518 - val_acc: 0.5882\n",
      "2/2 [==============================] - 0s 314ms/step - loss: 1.6596e-05 - acc: 1.0000 - val_loss: 0.5561 - val_acc: 0.5882\n",
      "2/2 [==============================] - 0s 271ms/step - loss: 1.4319e-05 - acc: 1.0000 - val_loss: 0.5605 - val_acc: 0.5882\n",
      "2/2 [==============================] - 0s 178ms/step - loss: 1.2385e-05 - acc: 1.0000 - val_loss: 0.5645 - val_acc: 0.5882\n",
      "2/2 [==============================] - 0s 178ms/step - loss: 1.0727e-05 - acc: 1.0000 - val_loss: 0.5684 - val_acc: 0.6471\n",
      "2/2 [==============================] - 0s 163ms/step - loss: 9.3051e-06 - acc: 1.0000 - val_loss: 0.5723 - val_acc: 0.6471\n",
      "2/2 [==============================] - 0s 290ms/step - loss: 8.0796e-06 - acc: 1.0000 - val_loss: 0.5762 - val_acc: 0.6471\n",
      "2/2 [==============================] - 0s 320ms/step - loss: 7.0269e-06 - acc: 1.0000 - val_loss: 0.5802 - val_acc: 0.6471\n",
      "2/2 [==============================] - 0s 334ms/step - loss: 6.1198e-06 - acc: 1.0000 - val_loss: 0.5840 - val_acc: 0.6471\n",
      "2/2 [==============================] - 0s 329ms/step - loss: 5.3400e-06 - acc: 1.0000 - val_loss: 0.5880 - val_acc: 0.6471\n",
      "2/2 [==============================] - 0s 384ms/step - loss: 4.6716e-06 - acc: 1.0000 - val_loss: 0.5918 - val_acc: 0.6471\n",
      "2/2 [==============================] - 0s 359ms/step - loss: 4.0940e-06 - acc: 1.0000 - val_loss: 0.5958 - val_acc: 0.7059\n",
      "2/2 [==============================] - 0s 313ms/step - loss: 3.5943e-06 - acc: 1.0000 - val_loss: 0.5993 - val_acc: 0.7059\n",
      "2/2 [==============================] - 0s 328ms/step - loss: 3.1564e-06 - acc: 1.0000 - val_loss: 0.6031 - val_acc: 0.7059\n",
      "2/2 [==============================] - 0s 325ms/step - loss: 2.7761e-06 - acc: 1.0000 - val_loss: 0.6066 - val_acc: 0.7059\n",
      "2/2 [==============================] - 0s 317ms/step - loss: 2.4437e-06 - acc: 1.0000 - val_loss: 0.6105 - val_acc: 0.7059\n",
      "2/2 [==============================] - 0s 293ms/step - loss: 2.1534e-06 - acc: 1.0000 - val_loss: 0.6142 - val_acc: 0.7059\n",
      "2/2 [==============================] - 0s 295ms/step - loss: 1.8983e-06 - acc: 1.0000 - val_loss: 0.6177 - val_acc: 0.7059\n",
      "2/2 [==============================] - 0s 265ms/step - loss: 1.6762e-06 - acc: 1.0000 - val_loss: 0.6213 - val_acc: 0.7059\n",
      "2/2 [==============================] - 0s 217ms/step - loss: 1.4832e-06 - acc: 1.0000 - val_loss: 0.6243 - val_acc: 0.7059\n",
      "2/2 [==============================] - 0s 196ms/step - loss: 1.3140e-06 - acc: 1.0000 - val_loss: 0.6278 - val_acc: 0.7059\n",
      "2/2 [==============================] - 0s 131ms/step - loss: 1.1662e-06 - acc: 1.0000 - val_loss: 0.6308 - val_acc: 0.7059\n",
      "2/2 [==============================] - 0s 264ms/step - loss: 1.0358e-06 - acc: 1.0000 - val_loss: 0.6341 - val_acc: 0.7059\n",
      "2/2 [==============================] - 0s 309ms/step - loss: 9.2125e-07 - acc: 1.0000 - val_loss: 0.6370 - val_acc: 0.7059\n",
      "2/2 [==============================] - 0s 282ms/step - loss: 8.2014e-07 - acc: 1.0000 - val_loss: 0.6402 - val_acc: 0.7059\n",
      "2/2 [==============================] - 0s 309ms/step - loss: 7.3192e-07 - acc: 1.0000 - val_loss: 0.6431 - val_acc: 0.7059\n",
      "2/2 [==============================] - 0s 337ms/step - loss: 6.5402e-07 - acc: 1.0000 - val_loss: 0.6457 - val_acc: 0.7059\n",
      "2/2 [==============================] - 0s 343ms/step - loss: 5.8538e-07 - acc: 1.0000 - val_loss: 0.6484 - val_acc: 0.7059\n",
      "2/2 [==============================] - 0s 306ms/step - loss: 5.2465e-07 - acc: 1.0000 - val_loss: 0.6509 - val_acc: 0.7059\n",
      "2/2 [==============================] - 0s 327ms/step - loss: 4.7095e-07 - acc: 1.0000 - val_loss: 0.6534 - val_acc: 0.7059\n",
      "2/2 [==============================] - 0s 296ms/step - loss: 4.2346e-07 - acc: 1.0000 - val_loss: 0.6558 - val_acc: 0.7059\n",
      "2/2 [==============================] - 0s 442ms/step - loss: 3.8142e-07 - acc: 1.0000 - val_loss: 0.6581 - val_acc: 0.7059\n",
      "2/2 [==============================] - 0s 440ms/step - loss: 3.4407e-07 - acc: 1.0000 - val_loss: 0.6604 - val_acc: 0.7059\n",
      "2/2 [==============================] - 0s 386ms/step - loss: 3.1094e-07 - acc: 1.0000 - val_loss: 0.6625 - val_acc: 0.7059\n",
      "2/2 [==============================] - 0s 447ms/step - loss: 2.8134e-07 - acc: 1.0000 - val_loss: 0.6647 - val_acc: 0.7059\n",
      "2/2 [==============================] - 0s 253ms/step - loss: 2.5497e-07 - acc: 1.0000 - val_loss: 0.6667 - val_acc: 0.7059\n",
      "2/2 [==============================] - 0s 177ms/step - loss: 2.3148e-07 - acc: 1.0000 - val_loss: 0.6686 - val_acc: 0.7059\n",
      "2/2 [==============================] - 0s 144ms/step - loss: 2.1037e-07 - acc: 1.0000 - val_loss: 0.6706 - val_acc: 0.7059\n",
      "2/2 [==============================] - 0s 333ms/step - loss: 1.9153e-07 - acc: 1.0000 - val_loss: 0.6725 - val_acc: 0.7059\n",
      "2/2 [==============================] - 0s 376ms/step - loss: 1.7461e-07 - acc: 1.0000 - val_loss: 0.6743 - val_acc: 0.7059\n",
      "2/2 [==============================] - 0s 355ms/step - loss: 1.5947e-07 - acc: 1.0000 - val_loss: 0.6761 - val_acc: 0.7059\n",
      "2/2 [==============================] - 0s 276ms/step - loss: 1.4580e-07 - acc: 1.0000 - val_loss: 0.6780 - val_acc: 0.7059\n",
      "2/2 [==============================] - 0s 308ms/step - loss: 1.3357e-07 - acc: 1.0000 - val_loss: 0.6797 - val_acc: 0.7059\n",
      "2/2 [==============================] - 0s 266ms/step - loss: 1.2249e-07 - acc: 1.0000 - val_loss: 0.6816 - val_acc: 0.7059\n",
      "2/2 [==============================] - 0s 315ms/step - loss: 1.1253e-07 - acc: 1.0000 - val_loss: 0.6833 - val_acc: 0.7059\n",
      "2/2 [==============================] - 0s 334ms/step - loss: 1.0349e-07 - acc: 1.0000 - val_loss: 0.6851 - val_acc: 0.7059\n",
      "2/2 [==============================] - 0s 363ms/step - loss: 9.5368e-08 - acc: 1.0000 - val_loss: 0.6867 - val_acc: 0.7059\n",
      "2/2 [==============================] - 0s 275ms/step - loss: 8.7987e-08 - acc: 1.0000 - val_loss: 0.6886 - val_acc: 0.7059\n",
      "2/2 [==============================] - 0s 305ms/step - loss: 8.1333e-08 - acc: 1.0000 - val_loss: 0.6902 - val_acc: 0.7059\n",
      "2/2 [==============================] - 0s 399ms/step - loss: 7.5265e-08 - acc: 1.0000 - val_loss: 0.6919 - val_acc: 0.7059\n",
      "2/2 [==============================] - 0s 274ms/step - loss: 6.9781e-08 - acc: 1.0000 - val_loss: 0.6934 - val_acc: 0.7059\n",
      "2/2 [==============================] - 0s 295ms/step - loss: 6.4738e-08 - acc: 1.0000 - val_loss: 0.6950 - val_acc: 0.7059\n",
      "2/2 [==============================] - 0s 195ms/step - loss: 6.0196e-08 - acc: 1.0000 - val_loss: 0.6966 - val_acc: 0.7059\n",
      "2/2 [==============================] - 0s 178ms/step - loss: 5.6040e-08 - acc: 1.0000 - val_loss: 0.6982 - val_acc: 0.7059\n",
      "2/2 [==============================] - 0s 191ms/step - loss: 5.2261e-08 - acc: 1.0000 - val_loss: 0.6997 - val_acc: 0.7059\n",
      "2/2 [==============================] - 0s 74ms/step - loss: 4.8824e-08 - acc: 1.0000 - val_loss: 0.7013 - val_acc: 0.7059\n",
      "2/2 [==============================] - 0s 70ms/step - loss: 4.5657e-08 - acc: 1.0000 - val_loss: 0.7028 - val_acc: 0.7059\n",
      "2/2 [==============================] - 0s 72ms/step - loss: 4.2732e-08 - acc: 1.0000 - val_loss: 0.7043 - val_acc: 0.7059\n",
      "2/2 [==============================] - 0s 54ms/step - loss: 4.0080e-08 - acc: 1.0000 - val_loss: 0.7058 - val_acc: 0.7059\n",
      "2/2 [==============================] - 0s 53ms/step - loss: 3.7669e-08 - acc: 1.0000 - val_loss: 0.7073 - val_acc: 0.7059\n",
      "2/2 [==============================] - 0s 66ms/step - loss: 3.5415e-08 - acc: 1.0000 - val_loss: 0.7087 - val_acc: 0.7059\n",
      "2/2 [==============================] - 0s 55ms/step - loss: 3.3342e-08 - acc: 1.0000 - val_loss: 0.7102 - val_acc: 0.7059\n",
      "2/2 [==============================] - 0s 70ms/step - loss: 3.1413e-08 - acc: 1.0000 - val_loss: 0.7116 - val_acc: 0.7059\n",
      "2/2 [==============================] - 0s 260ms/step - loss: 2.9671e-08 - acc: 1.0000 - val_loss: 0.7130 - val_acc: 0.7059\n",
      "1/1 [==============================] - 0s 109ms/step - loss: 0.5105 - acc: 0.8889\n",
      "Accuracy: 88.89%\n"
     ]
    }
   ],
   "source": [
    "tf.keras.utils.set_random_seed(0) # Reproducibilidad de resultados\n",
    "\n",
    "# Definir y entrenar el modelo\n",
    "model_SW = models.Sequential()\n",
    "model_SW.add(layers.Dense(200, activation=\"relu\", input_shape=(410,)))\n",
    "model_SW.add(layers.Dense(200, activation=\"relu\"))\n",
    "model_SW.add(layers.Dense(200, activation=\"relu\"))\n",
    "model_SW.add(layers.Dense(200, activation=\"relu\"))\n",
    "model_SW.add(layers.Dense(2, activation=\"softmax\"))\n",
    "\n",
    "model_SW.compile(loss=\"binary_crossentropy\", optimizer=\"rmsprop\", metrics=[\"acc\"])\n",
    "\n",
    "args = y_train_softmax.astype(bool)\n",
    "y_pred = model_SW.predict(X_train)\n",
    "samples = 1 - y_pred[args]\n",
    "for epoch in range(100):\n",
    "    model_SW.fit(X_train, y_train_softmax, epochs=1, validation_split=0.25, sample_weight=samples)\n",
    "    y_pred = model_SW.predict(X_train)\n",
    "    samples = 1 - y_pred[args]\n",
    "    \n",
    "# Precisión en partición de test\n",
    "loss, accuracy_SW = model_SW.evaluate(X_test, y_test_softmax)\n",
    "print(\"Accuracy: {:0.2f}%\".format(accuracy_SW * 100))"
   ]
  },
  {
   "cell_type": "code",
   "execution_count": 31,
   "id": "0965d6bb",
   "metadata": {},
   "outputs": [
    {
     "name": "stdout",
     "output_type": "stream",
     "text": [
      "(119748, 2)\n"
     ]
    }
   ],
   "source": [
    "y_pred_SW = model_SW.predict(test_kaggle)\n",
    "\n",
    "create_submission(y_pred_SW, \"NN_SampleWeight\")"
   ]
  },
  {
   "cell_type": "markdown",
   "id": "e570984a",
   "metadata": {},
   "source": [
    "# Pseudo-labeling\n",
    "\n",
    "Finalmente, esta técnica va a permitir aprovechar el conjunto de datos no etiquetado (método de aprendizaje semi-automático).\n",
    "\n",
    "Fuente: https://towardsdatascience.com/pseudo-labeling-to-deal-with-small-datasets-what-why-how-fd6f903213af"
   ]
  },
  {
   "cell_type": "code",
   "execution_count": 9,
   "id": "04feba55",
   "metadata": {},
   "outputs": [],
   "source": [
    "def alpha_epoch(epoch, val, start, stop):\n",
    "    if epoch < start:\n",
    "        alpha = 0\n",
    "    elif epoch < stop:\n",
    "        alpha = ((epoch-start) / (stop-start)) * val\n",
    "    else:\n",
    "        alpha = val\n",
    "    return alpha"
   ]
  },
  {
   "cell_type": "code",
   "execution_count": 33,
   "id": "ba7172a1",
   "metadata": {},
   "outputs": [
    {
     "name": "stdout",
     "output_type": "stream",
     "text": [
      "1/1 [==============================] - 0s 141ms/step - loss: 16.3597 - acc: 0.7778\n",
      "Accuracy: 77.78% ------- alpha = 0.25\n",
      "1/1 [==============================] - 0s 31ms/step - loss: 16.8173 - acc: 0.8333\n",
      "Accuracy: 83.33% ------- alpha = 0.50\n",
      "1/1 [==============================] - 0s 16ms/step - loss: 16.9020 - acc: 0.8333\n",
      "Accuracy: 83.33% ------- alpha = 0.75\n",
      "1/1 [==============================] - 0s 31ms/step - loss: 16.9690 - acc: 0.8333\n",
      "Accuracy: 83.33% ------- alpha = 1.00\n"
     ]
    }
   ],
   "source": [
    "tf.keras.utils.set_random_seed(0)\n",
    "\n",
    "start = 15\n",
    "stop = 90\n",
    "alpha_values = [0.25, 0.5, 0.75, 1]\n",
    "iters = 100\n",
    "\n",
    "# Definir y entrenar el modelo\n",
    "model_PL = models.Sequential()\n",
    "model_PL.add(layers.Dense(200, activation=\"relu\", input_shape=(410,)))\n",
    "model_PL.add(layers.Dense(200, activation=\"relu\"))\n",
    "model_PL.add(layers.Dense(200, activation=\"relu\"))\n",
    "model_PL.add(layers.Dense(200, activation=\"relu\"))\n",
    "model_PL.add(layers.Dense(2, activation=\"softmax\"))\n",
    "\n",
    "model_PL.compile(loss=\"binary_crossentropy\", optimizer=\"rmsprop\", metrics=[\"acc\"])\n",
    "\n",
    "test_reduc = test_kaggle.iloc[:10000, :]\n",
    "X_tot = np.concatenate((X_train, test_reduc))\n",
    "\n",
    "for alpha in alpha_values:\n",
    "    for i in range(iters):\n",
    "        pseudolabels = model_PL.predict(test_reduc).squeeze()\n",
    "        y_tot = np.concatenate((y_train_softmax, pseudolabels))\n",
    "        alpha_t = alpha_epoch(i+1, alpha, start, stop)\n",
    "        samples = np.concatenate((np.ones(len(y_train)), alpha_t*np.ones(len(pseudolabels))))\n",
    "        model_PL.fit(X_tot, y_tot, sample_weight=samples, epochs=1, validation_split=0.25, verbose = 0)\n",
    "    \n",
    "    # Precisión en partición de test\n",
    "    loss, accuracy_PL = model_PL.evaluate(X_test, y_test_softmax)\n",
    "    print(\"Accuracy: {:0.2f}% ------- alpha = {:0.2f}\".format(accuracy_PL * 100, alpha))"
   ]
  },
  {
   "cell_type": "markdown",
   "id": "35f3114c",
   "metadata": {},
   "source": [
    "Vamos a pintar la evolución del valor del peso $\\alpha$ (función $\\alpha(t)$) elegido a lo largo de 100 iteraciones. "
   ]
  },
  {
   "cell_type": "code",
   "execution_count": 20,
   "id": "ee4838bb",
   "metadata": {},
   "outputs": [
    {
     "data": {
      "image/png": "[encoded data removed]",
      "text/plain": [
       "<Figure size 432x288 with 1 Axes>"
      ]
     },
     "metadata": {
      "needs_background": "light"
     },
     "output_type": "display_data"
    }
   ],
   "source": [
    "import matplotlib.pyplot as plt\n",
    "\n",
    "start = 15\n",
    "stop = 90\n",
    "alpha = 0.5\n",
    "iters = 100\n",
    "\n",
    "alpha_per_epoch = []\n",
    "for i in range(iters):\n",
    "    alpha_per_epoch.append(alpha_epoch(i+1, alpha, start, stop))\n",
    "    \n",
    "# Pintamos el vector\n",
    "plt.plot(alpha_per_epoch)\n",
    "plt.xlabel(\"Iteración\", fontsize=13)\n",
    "plt.ylabel(r\"$\\alpha(t)$\", fontsize=13)\n",
    "plt.show()"
   ]
  },
  {
   "cell_type": "code",
   "execution_count": 34,
   "id": "bda9ebe5",
   "metadata": {},
   "outputs": [
    {
     "name": "stdout",
     "output_type": "stream",
     "text": [
      "236/236 [==============================] - 2s 6ms/step - loss: 0.0077 - acc: 0.4810 - val_loss: 0.0000e+00 - val_acc: 0.4930\n",
      "236/236 [==============================] - 1s 6ms/step - loss: 0.0043 - acc: 0.6807 - val_loss: 0.0000e+00 - val_acc: 0.8621\n",
      "236/236 [==============================] - 2s 7ms/step - loss: 0.0021 - acc: 0.7538 - val_loss: 0.0000e+00 - val_acc: 0.5681\n",
      "236/236 [==============================] - 1s 6ms/step - loss: 8.7677e-04 - acc: 0.5530 - val_loss: 0.0000e+00 - val_acc: 0.5769\n",
      "236/236 [==============================] - 2s 10ms/step - loss: 4.0722e-04 - acc: 0.8555 - val_loss: 0.0000e+00 - val_acc: 0.8975\n",
      "236/236 [==============================] - 1s 6ms/step - loss: 0.0015 - acc: 0.8771 - val_loss: 0.0000e+00 - val_acc: 0.9456\n",
      "236/236 [==============================] - 2s 6ms/step - loss: 0.0015 - acc: 0.9405 - val_loss: 0.0000e+00 - val_acc: 0.9293\n",
      "236/236 [==============================] - 2s 6ms/step - loss: 1.0100e-09 - acc: 0.9980 - val_loss: 0.0000e+00 - val_acc: 0.9996\n",
      "236/236 [==============================] - 1s 6ms/step - loss: 5.0687e-10 - acc: 0.9977 - val_loss: 0.0000e+00 - val_acc: 0.9984\n",
      "236/236 [==============================] - 2s 8ms/step - loss: 3.0169e-10 - acc: 0.9985 - val_loss: 0.0000e+00 - val_acc: 0.9984\n",
      "236/236 [==============================] - 1s 6ms/step - loss: 2.1888e-10 - acc: 0.9995 - val_loss: 0.0000e+00 - val_acc: 0.9988\n",
      "236/236 [==============================] - 2s 7ms/step - loss: 1.7288e-10 - acc: 0.9996 - val_loss: 0.0000e+00 - val_acc: 0.9996\n",
      "236/236 [==============================] - 2s 7ms/step - loss: 1.4388e-10 - acc: 0.9997 - val_loss: 0.0000e+00 - val_acc: 0.9988\n",
      "236/236 [==============================] - 1s 6ms/step - loss: 1.2292e-10 - acc: 0.9996 - val_loss: 0.0000e+00 - val_acc: 1.0000\n",
      "236/236 [==============================] - 2s 7ms/step - loss: 1.0742e-10 - acc: 0.9999 - val_loss: 0.0000e+00 - val_acc: 1.0000\n",
      "236/236 [==============================] - 1s 6ms/step - loss: 0.0014 - acc: 0.9281 - val_loss: 7.3538e-04 - val_acc: 0.9499\n",
      "236/236 [==============================] - 1s 6ms/step - loss: 0.0015 - acc: 0.9582 - val_loss: 0.0016 - val_acc: 0.9607\n",
      "236/236 [==============================] - 2s 7ms/step - loss: 0.0016 - acc: 0.9698 - val_loss: 0.0024 - val_acc: 0.9551\n",
      "236/236 [==============================] - 1s 6ms/step - loss: 0.0015 - acc: 0.9795 - val_loss: 0.0031 - val_acc: 0.9599\n",
      "236/236 [==============================] - 2s 7ms/step - loss: 0.0016 - acc: 0.9848 - val_loss: 0.0064 - val_acc: 0.9337\n",
      "236/236 [==============================] - 1s 6ms/step - loss: 0.0021 - acc: 0.9824 - val_loss: 0.0091 - val_acc: 0.9233\n",
      "236/236 [==============================] - 2s 7ms/step - loss: 0.0019 - acc: 0.9870 - val_loss: 0.0072 - val_acc: 0.9567\n",
      "236/236 [==============================] - 2s 7ms/step - loss: 0.0016 - acc: 0.9891 - val_loss: 0.0230 - val_acc: 0.8991\n",
      "236/236 [==============================] - 1s 6ms/step - loss: 0.0032 - acc: 0.9828 - val_loss: 0.0086 - val_acc: 0.9396\n",
      "236/236 [==============================] - 2s 7ms/step - loss: 0.0017 - acc: 0.9927 - val_loss: 0.0093 - val_acc: 0.9607\n",
      "236/236 [==============================] - 1s 6ms/step - loss: 0.0018 - acc: 0.9928 - val_loss: 0.0120 - val_acc: 0.9543\n",
      "236/236 [==============================] - 2s 7ms/step - loss: 0.0019 - acc: 0.9928 - val_loss: 0.0173 - val_acc: 0.9416\n",
      "236/236 [==============================] - 1s 6ms/step - loss: 0.0021 - acc: 0.9939 - val_loss: 0.0152 - val_acc: 0.9583\n",
      "236/236 [==============================] - 2s 7ms/step - loss: 0.0012 - acc: 0.9970 - val_loss: 0.0128 - val_acc: 0.9634\n",
      "236/236 [==============================] - 1s 6ms/step - loss: 0.0019 - acc: 0.9943 - val_loss: 0.0145 - val_acc: 0.9567\n",
      "236/236 [==============================] - 1s 6ms/step - loss: 0.0021 - acc: 0.9956 - val_loss: 0.0146 - val_acc: 0.9575\n",
      "236/236 [==============================] - 2s 7ms/step - loss: 0.0018 - acc: 0.9952 - val_loss: 0.0309 - val_acc: 0.9337\n",
      "236/236 [==============================] - 1s 6ms/step - loss: 0.0017 - acc: 0.9963 - val_loss: 0.0236 - val_acc: 0.9360\n",
      "236/236 [==============================] - 2s 7ms/step - loss: 0.0023 - acc: 0.9947 - val_loss: 0.0234 - val_acc: 0.9555\n",
      "236/236 [==============================] - 1s 6ms/step - loss: 0.0022 - acc: 0.9952 - val_loss: 0.0178 - val_acc: 0.9638\n",
      "236/236 [==============================] - 1s 6ms/step - loss: 0.0017 - acc: 0.9976 - val_loss: 0.0310 - val_acc: 0.9623\n",
      "236/236 [==============================] - 1s 6ms/step - loss: 0.0024 - acc: 0.9964 - val_loss: 0.0216 - val_acc: 0.9603\n",
      "236/236 [==============================] - 1s 6ms/step - loss: 0.0022 - acc: 0.9956 - val_loss: 0.0226 - val_acc: 0.9539\n",
      "236/236 [==============================] - 2s 7ms/step - loss: 0.0018 - acc: 0.9971 - val_loss: 0.0211 - val_acc: 0.9591\n",
      "236/236 [==============================] - 1s 6ms/step - loss: 0.0014 - acc: 0.9970 - val_loss: 0.0344 - val_acc: 0.9595\n",
      "236/236 [==============================] - 2s 7ms/step - loss: 0.0022 - acc: 0.9970 - val_loss: 0.0284 - val_acc: 0.9615\n",
      "236/236 [==============================] - 1s 6ms/step - loss: 0.0011 - acc: 0.9980 - val_loss: 0.0240 - val_acc: 0.9682\n",
      "236/236 [==============================] - 1s 6ms/step - loss: 0.0012 - acc: 0.9979 - val_loss: 0.0495 - val_acc: 0.9615\n",
      "236/236 [==============================] - 1s 6ms/step - loss: 0.0021 - acc: 0.9977 - val_loss: 0.0274 - val_acc: 0.9623\n",
      "236/236 [==============================] - 1s 6ms/step - loss: 0.0013 - acc: 0.9989 - val_loss: 0.0253 - val_acc: 0.9634\n",
      "236/236 [==============================] - 2s 7ms/step - loss: 0.0017 - acc: 0.9977 - val_loss: 0.0314 - val_acc: 0.9690\n",
      "236/236 [==============================] - 1s 6ms/step - loss: 0.0010 - acc: 0.9988 - val_loss: 0.0430 - val_acc: 0.9674\n",
      "236/236 [==============================] - 2s 7ms/step - loss: 0.0024 - acc: 0.9977 - val_loss: 0.0274 - val_acc: 0.9615\n",
      "236/236 [==============================] - 1s 6ms/step - loss: 0.0011 - acc: 0.9981 - val_loss: 0.0564 - val_acc: 0.9646\n",
      "236/236 [==============================] - 1s 6ms/step - loss: 0.0023 - acc: 0.9984 - val_loss: 0.0382 - val_acc: 0.9634\n",
      "236/236 [==============================] - 2s 7ms/step - loss: 0.0023 - acc: 0.9984 - val_loss: 0.1111 - val_acc: 0.9539\n",
      "236/236 [==============================] - 1s 6ms/step - loss: 0.0039 - acc: 0.9951 - val_loss: 0.0409 - val_acc: 0.9619\n",
      "236/236 [==============================] - 2s 7ms/step - loss: 0.0034 - acc: 0.9967 - val_loss: 0.0771 - val_acc: 0.9289\n",
      "236/236 [==============================] - 1s 6ms/step - loss: 0.0035 - acc: 0.9966 - val_loss: 0.0480 - val_acc: 0.9583\n",
      "236/236 [==============================] - 1s 6ms/step - loss: 0.0012 - acc: 0.9993 - val_loss: 0.1116 - val_acc: 0.9543\n",
      "236/236 [==============================] - 2s 7ms/step - loss: 0.0038 - acc: 0.9959 - val_loss: 0.0711 - val_acc: 0.9384\n",
      "236/236 [==============================] - 1s 6ms/step - loss: 0.0015 - acc: 0.9991 - val_loss: 0.0608 - val_acc: 0.9666\n",
      "236/236 [==============================] - 2s 7ms/step - loss: 0.0019 - acc: 0.9987 - val_loss: 0.0886 - val_acc: 0.9487\n",
      "236/236 [==============================] - 1s 6ms/step - loss: 0.0028 - acc: 0.9970 - val_loss: 0.0656 - val_acc: 0.9642\n",
      "236/236 [==============================] - 2s 7ms/step - loss: 0.0013 - acc: 0.9991 - val_loss: 0.0533 - val_acc: 0.9646\n",
      "236/236 [==============================] - 1s 6ms/step - loss: 0.0012 - acc: 0.9991 - val_loss: 0.0831 - val_acc: 0.9480\n",
      "236/236 [==============================] - 2s 7ms/step - loss: 0.0060 - acc: 0.9968 - val_loss: 0.0386 - val_acc: 0.9631\n",
      "236/236 [==============================] - 1s 5ms/step - loss: 0.0046 - acc: 0.9983 - val_loss: 0.0396 - val_acc: 0.9511\n",
      "236/236 [==============================] - 1s 6ms/step - loss: 0.0020 - acc: 0.9987 - val_loss: 0.0815 - val_acc: 0.9682\n",
      "236/236 [==============================] - 2s 7ms/step - loss: 0.0034 - acc: 0.9983 - val_loss: 0.0548 - val_acc: 0.9575\n",
      "236/236 [==============================] - 1s 6ms/step - loss: 0.0016 - acc: 0.9987 - val_loss: 0.0849 - val_acc: 0.9654\n",
      "236/236 [==============================] - 1s 6ms/step - loss: 0.0036 - acc: 0.9981 - val_loss: 0.0299 - val_acc: 0.9730\n"
     ]
    },
    {
     "name": "stdout",
     "output_type": "stream",
     "text": [
      "236/236 [==============================] - 1s 6ms/step - loss: 0.0041 - acc: 0.9975 - val_loss: 0.1181 - val_acc: 0.9543\n",
      "236/236 [==============================] - 1s 5ms/step - loss: 0.0022 - acc: 0.9991 - val_loss: 0.0573 - val_acc: 0.9682\n",
      "236/236 [==============================] - 2s 7ms/step - loss: 0.0013 - acc: 0.9992 - val_loss: 0.1040 - val_acc: 0.9738\n",
      "236/236 [==============================] - 1s 6ms/step - loss: 0.0023 - acc: 0.9992 - val_loss: 0.0738 - val_acc: 0.9678\n",
      "236/236 [==============================] - 2s 7ms/step - loss: 0.0051 - acc: 0.9975 - val_loss: 0.0777 - val_acc: 0.9428\n",
      "236/236 [==============================] - 1s 6ms/step - loss: 0.0037 - acc: 0.9974 - val_loss: 0.1517 - val_acc: 0.9380\n",
      "236/236 [==============================] - 1s 6ms/step - loss: 0.0065 - acc: 0.9954 - val_loss: 0.0584 - val_acc: 0.9515\n",
      "236/236 [==============================] - 2s 7ms/step - loss: 0.0027 - acc: 0.9987 - val_loss: 0.0594 - val_acc: 0.9722\n",
      "236/236 [==============================] - 1s 6ms/step - loss: 0.0055 - acc: 0.9981 - val_loss: 0.0904 - val_acc: 0.9690\n",
      "236/236 [==============================] - 2s 7ms/step - loss: 0.0046 - acc: 0.9971 - val_loss: 0.0512 - val_acc: 0.9674\n",
      "236/236 [==============================] - 1s 6ms/step - loss: 0.0023 - acc: 0.9992 - val_loss: 0.0702 - val_acc: 0.9587\n",
      "236/236 [==============================] - 1s 6ms/step - loss: 0.0024 - acc: 0.9987 - val_loss: 0.0678 - val_acc: 0.9718\n",
      "236/236 [==============================] - 2s 7ms/step - loss: 4.9878e-04 - acc: 0.9996 - val_loss: 0.0929 - val_acc: 0.9785\n",
      "236/236 [==============================] - 1s 6ms/step - loss: 0.0023 - acc: 0.9987 - val_loss: 0.0587 - val_acc: 0.9654\n",
      "236/236 [==============================] - 2s 7ms/step - loss: 8.3827e-04 - acc: 0.9996 - val_loss: 0.1232 - val_acc: 0.9662\n",
      "236/236 [==============================] - 1s 6ms/step - loss: 0.0055 - acc: 0.9985 - val_loss: 0.0894 - val_acc: 0.9559\n",
      "236/236 [==============================] - 1s 6ms/step - loss: 0.0025 - acc: 0.9991 - val_loss: 0.0642 - val_acc: 0.9599\n",
      "236/236 [==============================] - 1s 6ms/step - loss: 0.0010 - acc: 0.9996 - val_loss: 0.2325 - val_acc: 0.9595\n",
      "236/236 [==============================] - 1s 6ms/step - loss: 0.0034 - acc: 0.9985 - val_loss: 0.0904 - val_acc: 0.9452\n",
      "236/236 [==============================] - 2s 7ms/step - loss: 5.4219e-04 - acc: 0.9997 - val_loss: 0.3196 - val_acc: 0.9603\n",
      "236/236 [==============================] - 1s 5ms/step - loss: 0.0032 - acc: 0.9985 - val_loss: 0.1093 - val_acc: 0.9650\n",
      "236/236 [==============================] - 1s 6ms/step - loss: 0.0014 - acc: 0.9992 - val_loss: 0.0712 - val_acc: 0.9678\n",
      "236/236 [==============================] - 1s 6ms/step - loss: 0.0020 - acc: 0.9993 - val_loss: 0.3458 - val_acc: 0.9642\n",
      "236/236 [==============================] - 1s 5ms/step - loss: 0.0102 - acc: 0.9983 - val_loss: 0.0515 - val_acc: 0.9646\n",
      "236/236 [==============================] - 2s 6ms/step - loss: 0.0025 - acc: 0.9987 - val_loss: 0.0585 - val_acc: 0.9631\n",
      "236/236 [==============================] - 1s 5ms/step - loss: 0.0028 - acc: 0.9989 - val_loss: 0.0406 - val_acc: 0.9718\n",
      "236/236 [==============================] - 2s 7ms/step - loss: 0.0013 - acc: 0.9997 - val_loss: 0.0896 - val_acc: 0.9722\n",
      "236/236 [==============================] - 1s 6ms/step - loss: 0.0018 - acc: 0.9995 - val_loss: 0.0842 - val_acc: 0.9742\n",
      "236/236 [==============================] - 1s 6ms/step - loss: 2.8265e-04 - acc: 0.9997 - val_loss: 0.1115 - val_acc: 0.9750\n",
      "236/236 [==============================] - 1s 6ms/step - loss: 0.0014 - acc: 0.9997 - val_loss: 0.1868 - val_acc: 0.9710\n",
      "236/236 [==============================] - 1s 6ms/step - loss: 0.0054 - acc: 0.9985 - val_loss: 0.0537 - val_acc: 0.9627\n",
      "236/236 [==============================] - 2s 7ms/step - loss: 0.0023 - acc: 0.9993 - val_loss: 0.1126 - val_acc: 0.9690\n",
      "236/236 [==============================] - 1s 6ms/step - loss: 0.0038 - acc: 0.9980 - val_loss: 0.1597 - val_acc: 0.9619\n",
      "1/1 [==============================] - 0s 128ms/step - loss: 4.4990 - acc: 0.8333\n",
      "Accuracy: 83.33% ------- alpha = 0.50\n"
     ]
    }
   ],
   "source": [
    "tf.keras.utils.set_random_seed(0)\n",
    "\n",
    "\n",
    "alpha=0.5\n",
    "\n",
    "# Definir y entrenar el modelo\n",
    "model_PL = models.Sequential()\n",
    "model_PL.add(layers.Dense(200, activation=\"relu\", input_shape=(410,)))\n",
    "model_PL.add(layers.Dense(200, activation=\"relu\"))\n",
    "model_PL.add(layers.Dense(200, activation=\"relu\"))\n",
    "model_PL.add(layers.Dense(200, activation=\"relu\"))\n",
    "model_PL.add(layers.Dense(2, activation=\"softmax\"))\n",
    "\n",
    "model_PL.compile(loss=\"binary_crossentropy\", optimizer=\"rmsprop\", metrics=[\"acc\"])\n",
    "\n",
    "test_reduc = test_kaggle.iloc[:10000, :]\n",
    "X_tot = np.concatenate((X_train, test_reduc))\n",
    "\n",
    "for i in range(iters):\n",
    "    pseudolabels = model_PL.predict(test_reduc).squeeze()\n",
    "    y_tot = np.concatenate((y_train_softmax, pseudolabels))\n",
    "    alpha_t = alpha_epoch(i+1, alpha, start, stop)\n",
    "    samples = np.concatenate((np.ones(len(y_train)), alpha_t*np.ones(len(pseudolabels))))\n",
    "    model_PL.fit(X_tot, y_tot, sample_weight=samples, epochs=1, validation_split=0.25)\n",
    "\n",
    "# Precisión en partición de test\n",
    "loss, accuracy_PL = model_PL.evaluate(X_test, y_test_softmax)\n",
    "print(\"Accuracy: {:0.2f}% ------- alpha = {:0.2f}\".format(accuracy_PL * 100, alpha))"
   ]
  },
  {
   "cell_type": "code",
   "execution_count": 35,
   "id": "e13294ab",
   "metadata": {},
   "outputs": [
    {
     "name": "stdout",
     "output_type": "stream",
     "text": [
      "(119748, 2)\n"
     ]
    }
   ],
   "source": [
    "y_pred_PL = model_PL.predict(test_kaggle)\n",
    "\n",
    "create_submission(y_pred_PL, \"NN_PseudoLabels\")"
   ]
  },
  {
   "cell_type": "markdown",
   "id": "be0a0af6",
   "metadata": {},
   "source": [
    "# Comparación de resultados"
   ]
  },
  {
   "cell_type": "code",
   "execution_count": 36,
   "id": "04d6b06b",
   "metadata": {},
   "outputs": [
    {
     "data": {
      "image/png": "[encoded data removed]",
      "text/plain": [
       "<Figure size 1008x360 with 1 Axes>"
      ]
     },
     "metadata": {
      "needs_background": "light"
     },
     "output_type": "display_data"
    }
   ],
   "source": [
    "import matplotlib.pyplot as plt\n",
    "\n",
    "results_acc = [accuracy_original, accuracy_CL, accuracy_SW, accuracy_PL]\n",
    "xaxis = [\"Red neuronal original\", \"Función de pérdida personalizada\", \n",
    "         \"Sample-weight\", \"Pseudo-labels\"]\n",
    "\n",
    "plt.figure(figsize=(14, 5))\n",
    "barlist = plt.bar(xaxis, results_acc, width=0.2)\n",
    "barlist[0].set_color(\"r\")\n",
    "plt.xticks(fontsize=13)\n",
    "plt.yticks(fontsize=12)\n",
    "plt.ylim(bottom=0.5)\n",
    "plt.ylabel(\"Accuracy\", fontsize=12)\n",
    "plt.show()"
   ]
  }
 ],
 "metadata": {
  "kernelspec": {
   "display_name": "Python 3 (ipykernel)",
   "language": "python",
   "name": "python3"
  },
  "language_info": {
   "codemirror_mode": {
    "name": "ipython",
    "version": 3
   },
   "file_extension": ".py",
   "mimetype": "text/x-python",
   "name": "python",
   "nbconvert_exporter": "python",
   "pygments_lexer": "ipython3",
   "version": "3.9.12"
  }
 },
 "nbformat": 4,
 "nbformat_minor": 5
}

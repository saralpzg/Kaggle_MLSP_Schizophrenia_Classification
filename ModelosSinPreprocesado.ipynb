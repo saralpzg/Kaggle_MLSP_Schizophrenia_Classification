{
 "cells": [
  {
   "cell_type": "markdown",
   "metadata": {},
   "source": [
    "# Comparación de resultados de predicción utilizando distintos modelos\n",
    "\n",
    "Este notebook recoge los resultados de varios entrenamientos, probando modelos diferentes (Ranfom Forest, XGBoost, distintas configuraciones de redes neuronales, ...) para comparar su performance y tratar de escoger el óptimo para nuestro problema.\n",
    "\n",
    "### Preparación de los datos"
   ]
  },
  {
   "cell_type": "code",
   "execution_count": 13,
   "metadata": {},
   "outputs": [],
   "source": [
    "import pandas as pd\n",
    "import numpy as np\n",
    "# Data partition\n",
    "from sklearn.model_selection import train_test_split\n",
    "# Parameter tunning\n",
    "from sklearn.model_selection import GridSearchCV\n",
    "# Accuracy function\n",
    "from sklearn.metrics import accuracy_score"
   ]
  },
  {
   "cell_type": "code",
   "execution_count": 2,
   "metadata": {},
   "outputs": [
    {
     "data": {
      "text/html": [
       "<div>\n",
       "<style scoped>\n",
       "    .dataframe tbody tr th:only-of-type {\n",
       "        vertical-align: middle;\n",
       "    }\n",
       "\n",
       "    .dataframe tbody tr th {\n",
       "        vertical-align: top;\n",
       "    }\n",
       "\n",
       "    .dataframe thead th {\n",
       "        text-align: right;\n",
       "    }\n",
       "</style>\n",
       "<table border=\"1\" class=\"dataframe\">\n",
       "  <thead>\n",
       "    <tr style=\"text-align: right;\">\n",
       "      <th></th>\n",
       "      <th>Class</th>\n",
       "      <th>FNC1</th>\n",
       "      <th>FNC2</th>\n",
       "      <th>FNC3</th>\n",
       "      <th>FNC4</th>\n",
       "      <th>FNC5</th>\n",
       "      <th>FNC6</th>\n",
       "      <th>FNC7</th>\n",
       "      <th>FNC8</th>\n",
       "      <th>FNC9</th>\n",
       "      <th>...</th>\n",
       "      <th>SBM_map55</th>\n",
       "      <th>SBM_map61</th>\n",
       "      <th>SBM_map64</th>\n",
       "      <th>SBM_map67</th>\n",
       "      <th>SBM_map69</th>\n",
       "      <th>SBM_map71</th>\n",
       "      <th>SBM_map72</th>\n",
       "      <th>SBM_map73</th>\n",
       "      <th>SBM_map74</th>\n",
       "      <th>SBM_map75</th>\n",
       "    </tr>\n",
       "  </thead>\n",
       "  <tbody>\n",
       "    <tr>\n",
       "      <th>2</th>\n",
       "      <td>0</td>\n",
       "      <td>0.245850</td>\n",
       "      <td>0.216620</td>\n",
       "      <td>-0.124680</td>\n",
       "      <td>-0.353800</td>\n",
       "      <td>0.161500</td>\n",
       "      <td>-0.002032</td>\n",
       "      <td>-0.133020</td>\n",
       "      <td>-0.035222</td>\n",
       "      <td>0.259040</td>\n",
       "      <td>...</td>\n",
       "      <td>-0.257114</td>\n",
       "      <td>0.597229</td>\n",
       "      <td>1.220756</td>\n",
       "      <td>-0.059213</td>\n",
       "      <td>-0.435494</td>\n",
       "      <td>-0.092971</td>\n",
       "      <td>1.090910</td>\n",
       "      <td>-0.448562</td>\n",
       "      <td>-0.508497</td>\n",
       "      <td>0.350434</td>\n",
       "    </tr>\n",
       "    <tr>\n",
       "      <th>13</th>\n",
       "      <td>1</td>\n",
       "      <td>0.410730</td>\n",
       "      <td>-0.031925</td>\n",
       "      <td>0.210700</td>\n",
       "      <td>0.242260</td>\n",
       "      <td>0.320100</td>\n",
       "      <td>-0.419290</td>\n",
       "      <td>-0.187140</td>\n",
       "      <td>0.168450</td>\n",
       "      <td>0.599790</td>\n",
       "      <td>...</td>\n",
       "      <td>-0.050862</td>\n",
       "      <td>0.870602</td>\n",
       "      <td>0.609465</td>\n",
       "      <td>1.181878</td>\n",
       "      <td>-2.279469</td>\n",
       "      <td>-0.013484</td>\n",
       "      <td>-0.012693</td>\n",
       "      <td>-1.244346</td>\n",
       "      <td>-1.080442</td>\n",
       "      <td>-0.788502</td>\n",
       "    </tr>\n",
       "    <tr>\n",
       "      <th>53</th>\n",
       "      <td>1</td>\n",
       "      <td>0.070919</td>\n",
       "      <td>0.034179</td>\n",
       "      <td>-0.011755</td>\n",
       "      <td>0.019158</td>\n",
       "      <td>0.024645</td>\n",
       "      <td>-0.032022</td>\n",
       "      <td>0.004620</td>\n",
       "      <td>0.318170</td>\n",
       "      <td>0.212550</td>\n",
       "      <td>...</td>\n",
       "      <td>-1.539922</td>\n",
       "      <td>-1.495822</td>\n",
       "      <td>1.643866</td>\n",
       "      <td>1.687780</td>\n",
       "      <td>1.521086</td>\n",
       "      <td>-1.988432</td>\n",
       "      <td>-0.267471</td>\n",
       "      <td>0.510576</td>\n",
       "      <td>1.104566</td>\n",
       "      <td>-1.067206</td>\n",
       "    </tr>\n",
       "    <tr>\n",
       "      <th>41</th>\n",
       "      <td>0</td>\n",
       "      <td>0.087377</td>\n",
       "      <td>-0.052462</td>\n",
       "      <td>-0.007835</td>\n",
       "      <td>-0.112830</td>\n",
       "      <td>0.389380</td>\n",
       "      <td>0.216080</td>\n",
       "      <td>0.063572</td>\n",
       "      <td>-0.251230</td>\n",
       "      <td>-0.080568</td>\n",
       "      <td>...</td>\n",
       "      <td>-0.077353</td>\n",
       "      <td>-0.459463</td>\n",
       "      <td>-0.204328</td>\n",
       "      <td>-0.619508</td>\n",
       "      <td>-1.410523</td>\n",
       "      <td>-0.304622</td>\n",
       "      <td>-1.521928</td>\n",
       "      <td>0.593691</td>\n",
       "      <td>0.073638</td>\n",
       "      <td>-0.260920</td>\n",
       "    </tr>\n",
       "    <tr>\n",
       "      <th>74</th>\n",
       "      <td>0</td>\n",
       "      <td>0.202750</td>\n",
       "      <td>0.191420</td>\n",
       "      <td>-0.056662</td>\n",
       "      <td>-0.157780</td>\n",
       "      <td>0.244040</td>\n",
       "      <td>0.039780</td>\n",
       "      <td>-0.001503</td>\n",
       "      <td>0.001056</td>\n",
       "      <td>-0.048222</td>\n",
       "      <td>...</td>\n",
       "      <td>0.044457</td>\n",
       "      <td>0.593326</td>\n",
       "      <td>1.063052</td>\n",
       "      <td>0.434726</td>\n",
       "      <td>1.604964</td>\n",
       "      <td>-0.359736</td>\n",
       "      <td>0.210107</td>\n",
       "      <td>0.355922</td>\n",
       "      <td>0.730287</td>\n",
       "      <td>-0.323557</td>\n",
       "    </tr>\n",
       "  </tbody>\n",
       "</table>\n",
       "<p>5 rows × 411 columns</p>\n",
       "</div>"
      ],
      "text/plain": [
       "    Class      FNC1      FNC2      FNC3      FNC4      FNC5      FNC6  \\\n",
       "2       0  0.245850  0.216620 -0.124680 -0.353800  0.161500 -0.002032   \n",
       "13      1  0.410730 -0.031925  0.210700  0.242260  0.320100 -0.419290   \n",
       "53      1  0.070919  0.034179 -0.011755  0.019158  0.024645 -0.032022   \n",
       "41      0  0.087377 -0.052462 -0.007835 -0.112830  0.389380  0.216080   \n",
       "74      0  0.202750  0.191420 -0.056662 -0.157780  0.244040  0.039780   \n",
       "\n",
       "        FNC7      FNC8      FNC9  ...  SBM_map55  SBM_map61  SBM_map64  \\\n",
       "2  -0.133020 -0.035222  0.259040  ...  -0.257114   0.597229   1.220756   \n",
       "13 -0.187140  0.168450  0.599790  ...  -0.050862   0.870602   0.609465   \n",
       "53  0.004620  0.318170  0.212550  ...  -1.539922  -1.495822   1.643866   \n",
       "41  0.063572 -0.251230 -0.080568  ...  -0.077353  -0.459463  -0.204328   \n",
       "74 -0.001503  0.001056 -0.048222  ...   0.044457   0.593326   1.063052   \n",
       "\n",
       "    SBM_map67  SBM_map69  SBM_map71  SBM_map72  SBM_map73  SBM_map74  \\\n",
       "2   -0.059213  -0.435494  -0.092971   1.090910  -0.448562  -0.508497   \n",
       "13   1.181878  -2.279469  -0.013484  -0.012693  -1.244346  -1.080442   \n",
       "53   1.687780   1.521086  -1.988432  -0.267471   0.510576   1.104566   \n",
       "41  -0.619508  -1.410523  -0.304622  -1.521928   0.593691   0.073638   \n",
       "74   0.434726   1.604964  -0.359736   0.210107   0.355922   0.730287   \n",
       "\n",
       "    SBM_map75  \n",
       "2    0.350434  \n",
       "13  -0.788502  \n",
       "53  -1.067206  \n",
       "41  -0.260920  \n",
       "74  -0.323557  \n",
       "\n",
       "[5 rows x 411 columns]"
      ]
     },
     "execution_count": 2,
     "metadata": {},
     "output_type": "execute_result"
    }
   ],
   "source": [
    "# Datos de entrenamiento\n",
    "trainFNC = pd.read_csv(\"data/train_FNC.csv\")\n",
    "trainSBM = pd.read_csv(\"data/train_SBM.csv\")\n",
    "train_labels = pd.read_csv(\"data/train_labels.csv\")\n",
    "\n",
    "# DataFrame con ambas fuentes de datos\n",
    "train = pd.merge(left=trainFNC, right=trainSBM, left_on='Id', right_on='Id')\n",
    "data = pd.merge(left=train_labels, right=train, left_on='Id', right_on='Id')\n",
    "data.drop(\"Id\", inplace=True, axis=1)\n",
    "\n",
    "# Shuffle de los datos de train\n",
    "data = data.sample(frac=1, random_state=0)\n",
    "data.head(5)"
   ]
  },
  {
   "cell_type": "markdown",
   "metadata": {},
   "source": [
    "Vamos a usar la siguiente partición de los datos:\n",
    "\n",
    "* 60% train $\\sim$ 50 datos\n",
    "* 20% validation $\\sim$ 18 datos (se define al aplicar cross-validación en el ajuste)\n",
    "* 20% test $\\sim$ 18 datos"
   ]
  },
  {
   "cell_type": "code",
   "execution_count": 3,
   "metadata": {},
   "outputs": [
    {
     "name": "stdout",
     "output_type": "stream",
     "text": [
      "Tamaño del dataset de train: (68, 410)\n",
      "Tamaño del dataset de test: (18, 410)\n"
     ]
    }
   ],
   "source": [
    "X = data.iloc[:, 1:]\n",
    "y = data.iloc[:, 0]\n",
    "\n",
    "X_train, X_test, y_train, y_test = train_test_split(X, y, test_size=0.2, random_state=0)\n",
    "\n",
    "print(\"Tamaño del dataset de train:\", X_train.shape)\n",
    "print(\"Tamaño del dataset de test:\", X_test.shape)"
   ]
  },
  {
   "cell_type": "code",
   "execution_count": 4,
   "metadata": {},
   "outputs": [
    {
     "data": {
      "text/html": [
       "<div>\n",
       "<style scoped>\n",
       "    .dataframe tbody tr th:only-of-type {\n",
       "        vertical-align: middle;\n",
       "    }\n",
       "\n",
       "    .dataframe tbody tr th {\n",
       "        vertical-align: top;\n",
       "    }\n",
       "\n",
       "    .dataframe thead th {\n",
       "        text-align: right;\n",
       "    }\n",
       "</style>\n",
       "<table border=\"1\" class=\"dataframe\">\n",
       "  <thead>\n",
       "    <tr style=\"text-align: right;\">\n",
       "      <th></th>\n",
       "      <th>FNC1</th>\n",
       "      <th>FNC2</th>\n",
       "      <th>FNC3</th>\n",
       "      <th>FNC4</th>\n",
       "      <th>FNC5</th>\n",
       "      <th>FNC6</th>\n",
       "      <th>FNC7</th>\n",
       "      <th>FNC8</th>\n",
       "      <th>FNC9</th>\n",
       "      <th>FNC10</th>\n",
       "      <th>...</th>\n",
       "      <th>SBM_map55</th>\n",
       "      <th>SBM_map61</th>\n",
       "      <th>SBM_map64</th>\n",
       "      <th>SBM_map67</th>\n",
       "      <th>SBM_map69</th>\n",
       "      <th>SBM_map71</th>\n",
       "      <th>SBM_map72</th>\n",
       "      <th>SBM_map73</th>\n",
       "      <th>SBM_map74</th>\n",
       "      <th>SBM_map75</th>\n",
       "    </tr>\n",
       "  </thead>\n",
       "  <tbody>\n",
       "    <tr>\n",
       "      <th>0</th>\n",
       "      <td>0.476127</td>\n",
       "      <td>0.064466</td>\n",
       "      <td>0.053238</td>\n",
       "      <td>-0.608133</td>\n",
       "      <td>0.073988</td>\n",
       "      <td>-0.637038</td>\n",
       "      <td>0.113556</td>\n",
       "      <td>-0.192434</td>\n",
       "      <td>-0.004025</td>\n",
       "      <td>-0.060474</td>\n",
       "      <td>...</td>\n",
       "      <td>-0.451994</td>\n",
       "      <td>1.123770</td>\n",
       "      <td>2.083006</td>\n",
       "      <td>1.145440</td>\n",
       "      <td>-0.067608</td>\n",
       "      <td>1.202529</td>\n",
       "      <td>0.851587</td>\n",
       "      <td>0.451583</td>\n",
       "      <td>-0.159739</td>\n",
       "      <td>0.192076</td>\n",
       "    </tr>\n",
       "    <tr>\n",
       "      <th>1</th>\n",
       "      <td>0.013833</td>\n",
       "      <td>0.267183</td>\n",
       "      <td>0.232178</td>\n",
       "      <td>-0.167151</td>\n",
       "      <td>-0.261327</td>\n",
       "      <td>0.191869</td>\n",
       "      <td>0.406493</td>\n",
       "      <td>0.088761</td>\n",
       "      <td>0.177048</td>\n",
       "      <td>0.036718</td>\n",
       "      <td>...</td>\n",
       "      <td>0.696987</td>\n",
       "      <td>1.397832</td>\n",
       "      <td>1.046136</td>\n",
       "      <td>-0.191733</td>\n",
       "      <td>-2.192023</td>\n",
       "      <td>-0.369276</td>\n",
       "      <td>0.822225</td>\n",
       "      <td>-0.109342</td>\n",
       "      <td>-0.580476</td>\n",
       "      <td>0.174160</td>\n",
       "    </tr>\n",
       "    <tr>\n",
       "      <th>2</th>\n",
       "      <td>-0.435452</td>\n",
       "      <td>0.046780</td>\n",
       "      <td>0.243742</td>\n",
       "      <td>0.397030</td>\n",
       "      <td>-0.147821</td>\n",
       "      <td>0.173620</td>\n",
       "      <td>-0.461963</td>\n",
       "      <td>-0.610736</td>\n",
       "      <td>0.419753</td>\n",
       "      <td>0.400985</td>\n",
       "      <td>...</td>\n",
       "      <td>0.160145</td>\n",
       "      <td>1.906989</td>\n",
       "      <td>-2.661633</td>\n",
       "      <td>-0.193911</td>\n",
       "      <td>0.440873</td>\n",
       "      <td>0.641739</td>\n",
       "      <td>0.918397</td>\n",
       "      <td>-0.758046</td>\n",
       "      <td>0.154701</td>\n",
       "      <td>-0.476647</td>\n",
       "    </tr>\n",
       "    <tr>\n",
       "      <th>3</th>\n",
       "      <td>-0.204510</td>\n",
       "      <td>-0.036735</td>\n",
       "      <td>-0.760705</td>\n",
       "      <td>-0.740495</td>\n",
       "      <td>0.064668</td>\n",
       "      <td>0.349926</td>\n",
       "      <td>-0.273826</td>\n",
       "      <td>-0.174384</td>\n",
       "      <td>-0.120248</td>\n",
       "      <td>0.175618</td>\n",
       "      <td>...</td>\n",
       "      <td>0.974828</td>\n",
       "      <td>-1.997087</td>\n",
       "      <td>-2.083782</td>\n",
       "      <td>1.154107</td>\n",
       "      <td>-0.643947</td>\n",
       "      <td>2.332424</td>\n",
       "      <td>0.659124</td>\n",
       "      <td>-0.809445</td>\n",
       "      <td>0.558960</td>\n",
       "      <td>2.790871</td>\n",
       "    </tr>\n",
       "    <tr>\n",
       "      <th>4</th>\n",
       "      <td>0.599435</td>\n",
       "      <td>-0.166441</td>\n",
       "      <td>0.122431</td>\n",
       "      <td>0.011539</td>\n",
       "      <td>0.346906</td>\n",
       "      <td>-0.017430</td>\n",
       "      <td>-0.274734</td>\n",
       "      <td>0.211510</td>\n",
       "      <td>0.151012</td>\n",
       "      <td>-0.033434</td>\n",
       "      <td>...</td>\n",
       "      <td>-0.789153</td>\n",
       "      <td>1.578984</td>\n",
       "      <td>1.402592</td>\n",
       "      <td>-1.230440</td>\n",
       "      <td>0.296686</td>\n",
       "      <td>2.806314</td>\n",
       "      <td>0.427184</td>\n",
       "      <td>-0.240682</td>\n",
       "      <td>-0.196948</td>\n",
       "      <td>-1.544345</td>\n",
       "    </tr>\n",
       "  </tbody>\n",
       "</table>\n",
       "<p>5 rows × 410 columns</p>\n",
       "</div>"
      ],
      "text/plain": [
       "       FNC1      FNC2      FNC3      FNC4      FNC5      FNC6      FNC7  \\\n",
       "0  0.476127  0.064466  0.053238 -0.608133  0.073988 -0.637038  0.113556   \n",
       "1  0.013833  0.267183  0.232178 -0.167151 -0.261327  0.191869  0.406493   \n",
       "2 -0.435452  0.046780  0.243742  0.397030 -0.147821  0.173620 -0.461963   \n",
       "3 -0.204510 -0.036735 -0.760705 -0.740495  0.064668  0.349926 -0.273826   \n",
       "4  0.599435 -0.166441  0.122431  0.011539  0.346906 -0.017430 -0.274734   \n",
       "\n",
       "       FNC8      FNC9     FNC10  ...  SBM_map55  SBM_map61  SBM_map64  \\\n",
       "0 -0.192434 -0.004025 -0.060474  ...  -0.451994   1.123770   2.083006   \n",
       "1  0.088761  0.177048  0.036718  ...   0.696987   1.397832   1.046136   \n",
       "2 -0.610736  0.419753  0.400985  ...   0.160145   1.906989  -2.661633   \n",
       "3 -0.174384 -0.120248  0.175618  ...   0.974828  -1.997087  -2.083782   \n",
       "4  0.211510  0.151012 -0.033434  ...  -0.789153   1.578984   1.402592   \n",
       "\n",
       "   SBM_map67  SBM_map69  SBM_map71  SBM_map72  SBM_map73  SBM_map74  SBM_map75  \n",
       "0   1.145440  -0.067608   1.202529   0.851587   0.451583  -0.159739   0.192076  \n",
       "1  -0.191733  -2.192023  -0.369276   0.822225  -0.109342  -0.580476   0.174160  \n",
       "2  -0.193911   0.440873   0.641739   0.918397  -0.758046   0.154701  -0.476647  \n",
       "3   1.154107  -0.643947   2.332424   0.659124  -0.809445   0.558960   2.790871  \n",
       "4  -1.230440   0.296686   2.806314   0.427184  -0.240682  -0.196948  -1.544345  \n",
       "\n",
       "[5 rows x 410 columns]"
      ]
     },
     "execution_count": 4,
     "metadata": {},
     "output_type": "execute_result"
    }
   ],
   "source": [
    "# Datos de test\n",
    "testFNC = pd.read_csv(\"data/test_FNC.csv\")\n",
    "testSBM = pd.read_csv(\"data/test_SBM.csv\")\n",
    "\n",
    "# DataFrame con ambas fuentes de datos\n",
    "test = pd.merge(left=testFNC, right=testSBM, left_on='Id', right_on='Id')\n",
    "test.drop(\"Id\", inplace=True, axis=1)\n",
    "test.head(5)"
   ]
  },
  {
   "cell_type": "code",
   "execution_count": 5,
   "metadata": {},
   "outputs": [],
   "source": [
    "# Función para realizar el entrenamiento y el ajuste de parámetros\n",
    "def train_model(model, param_grid):\n",
    "    grid_search = GridSearchCV(estimator=model, param_grid=param_grid, cv=4)\n",
    "    # cv = 4 porque así: el conjunto de validation tiene un 0.25 del tamaño de train y: 0.25 * 0.8 = 0.2\n",
    "    #                    el conjunto de train tiene un 0.75 del tamaño de train y: 0.75 * 0.8 = 0.6\n",
    "    grid_search.fit(X_train, y_train)\n",
    "    \n",
    "    print(\"Parámetros óptimos:\", grid_search.best_params_)\n",
    "    print(\"Modelo óptimo:\", grid_search.best_estimator_)\n",
    "    \n",
    "    return grid_search.best_estimator_"
   ]
  },
  {
   "cell_type": "markdown",
   "metadata": {},
   "source": [
    "# Random forest"
   ]
  },
  {
   "cell_type": "code",
   "execution_count": 6,
   "metadata": {},
   "outputs": [
    {
     "name": "stdout",
     "output_type": "stream",
     "text": [
      "Parámetros óptimos: {'criterion': 'entropy', 'max_depth': 5, 'n_estimators': 750}\n",
      "Modelo óptimo: RandomForestClassifier(criterion='entropy', max_depth=5, n_estimators=750,\n",
      "                       random_state=0)\n",
      "Accuracy: 83.33%\n"
     ]
    }
   ],
   "source": [
    "from sklearn.ensemble import RandomForestClassifier\n",
    "\n",
    "# Definir y entrenar el modelo\n",
    "model_RF = RandomForestClassifier(random_state=0)\n",
    "param_grid_RF = {\n",
    "    \"n_estimators\": [100, 250, 500, 750, 1000],\n",
    "    \"criterion\": [\"gini\", \"entropy\"],\n",
    "    \"max_depth\": [5, 10, 15, 20, None]\n",
    "}\n",
    "model_RF_opt = train_model(model_RF, param_grid_RF)\n",
    "\n",
    "# Predicción en partición de test\n",
    "y_pred_RF = model_RF_opt.predict(X_test)\n",
    "\n",
    "# Precisión en partición de test\n",
    "accuracy = accuracy_score(y_test, y_pred_RF)\n",
    "print(\"Accuracy: {:0.2f}%\".format(accuracy * 100))\n",
    "\n",
    "# Predicción en test para kaggle\n",
    "y_pred_kaggle_RF = model_RF_opt.predict(test)"
   ]
  },
  {
   "cell_type": "markdown",
   "metadata": {},
   "source": [
    "# XGBoost"
   ]
  },
  {
   "cell_type": "code",
   "execution_count": 7,
   "metadata": {},
   "outputs": [
    {
     "name": "stderr",
     "output_type": "stream",
     "text": [
      "C:\\Users\\saral\\miniconda3\\envs\\TFM\\lib\\site-packages\\xgboost\\compat.py:36: FutureWarning: pandas.Int64Index is deprecated and will be removed from pandas in a future version. Use pandas.Index with the appropriate dtype instead.\n",
      "  from pandas import MultiIndex, Int64Index\n"
     ]
    },
    {
     "name": "stdout",
     "output_type": "stream",
     "text": [
      "Parámetros óptimos: {'booster': 'gblinear', 'gamma': 0.05, 'learning_rate': 0.5, 'max_depth': 5}\n",
      "Modelo óptimo: XGBClassifier(base_score=0.5, booster='gblinear', colsample_bylevel=None,\n",
      "              colsample_bynode=None, colsample_bytree=None,\n",
      "              enable_categorical=False, eval_metric='logloss', gamma=0.05,\n",
      "              gpu_id=-1, importance_type=None, interaction_constraints=None,\n",
      "              learning_rate=0.5, max_delta_step=None, max_depth=5,\n",
      "              min_child_weight=None, missing=nan, monotone_constraints=None,\n",
      "              n_estimators=100, n_jobs=4, num_parallel_tree=None,\n",
      "              predictor=None, random_state=0, reg_alpha=0, reg_lambda=0,\n",
      "              scale_pos_weight=1, subsample=None, tree_method=None,\n",
      "              validate_parameters=1, verbosity=None)\n",
      "Accuracy: 72.22%\n"
     ]
    }
   ],
   "source": [
    "import xgboost as xgb\n",
    "import warnings\n",
    "from xgboost import XGBClassifier\n",
    "\n",
    "warnings.filterwarnings('ignore')\n",
    "xgb.set_config(verbosity=0)\n",
    "\n",
    "# Definir y entrenar el modelo\n",
    "model_XGB = XGBClassifier(eval_metric=\"logloss\")\n",
    "param_grid_XGB = {\n",
    "    \"booster\": [\"gbtree\", \"gblinear\", \"dart\"],\n",
    "    \"learning_rate\": [0.001, 0.05, 0.1, 0.5],\n",
    "    \"gamma\": [0, 0.001, 0.005, 0.01, 0.05, 0.1],\n",
    "    \"max_depth\": [5, 6, 10, 15, 20, 0] # 0 = ninguna restricción\n",
    "}\n",
    "model_XGB_opt = train_model(model_XGB, param_grid_XGB)\n",
    "\n",
    "# Predicción en partición de test\n",
    "y_pred_XGB = model_XGB_opt.predict(X_test)\n",
    "\n",
    "# Precisión en partición de test\n",
    "accuracy = accuracy_score(y_test, y_pred_XGB)\n",
    "print(\"Accuracy: {:0.2f}%\".format(accuracy * 100))\n",
    "\n",
    "# Predicción en test para kaggle\n",
    "y_pred_kaggle_XGB = model_XGB_opt.predict(test)"
   ]
  },
  {
   "cell_type": "markdown",
   "metadata": {},
   "source": [
    "# Redes neuronales\n",
    "\n",
    "### Usando la librería \"sklearn\", clasificador: MLPClassifier\n",
    "\n",
    "Documentación: https://scikit-learn.org/stable/modules/generated/sklearn.neural_network.MLPClassifier.html"
   ]
  },
  {
   "cell_type": "code",
   "execution_count": 8,
   "metadata": {},
   "outputs": [
    {
     "name": "stdout",
     "output_type": "stream",
     "text": [
      "Parámetros óptimos: {'activation': 'relu', 'hidden_layer_sizes': (200, 200, 100, 50, 1), 'solver': 'adam', 'validation_fraction': 0.15}\n",
      "Modelo óptimo: MLPClassifier(hidden_layer_sizes=(200, 200, 100, 50, 1), random_state=0,\n",
      "              validation_fraction=0.15)\n",
      "Accuracy: 83.33%\n"
     ]
    }
   ],
   "source": [
    "from sklearn.neural_network import MLPClassifier\n",
    "\n",
    "# Definir y entrenar el modelo\n",
    "model_MLPC = MLPClassifier(random_state=0)\n",
    "param_grid_MLPC = {\n",
    "    \"hidden_layer_sizes\": [(100, 200, 100, 1), (100, 100, 100, 100, 1), (200, 200, 100, 50, 1), (100, 250, 250, 100, 1)],\n",
    "    \"activation\": [\"identity\", \"logistic\", \"tanh\", \"relu\"], # Tiene sentido probar identity y relu?\n",
    "    \"solver\": [\"lbfgs\", \"sgd\", \"adam\"],\n",
    "#     \"alpha\": [0, 0.0001, 0.001, 0.01, 0.1], # L2 regularization\n",
    "#     \"learning_rate\": [\"constant\", \"invscaling\", \"adaptive\"],\n",
    "    \"validation_fraction\": [0.15, 0.2, 0.25, 0.3, 0.4]\n",
    "}\n",
    "model_MLPC_opt = train_model(model_MLPC, param_grid_MLPC)\n",
    "\n",
    "# Predicción en partición de test\n",
    "y_pred_MLPC = model_MLPC_opt.predict(X_test)\n",
    "\n",
    "# Precisión en partición de test\n",
    "accuracy = accuracy_score(y_test, y_pred_MLPC)\n",
    "print(\"Accuracy: {:0.2f}%\".format(accuracy * 100))\n",
    "\n",
    "# Predicción en test para kaggle\n",
    "y_pred_kaggle_MLPC = model_MLPC_opt.predict(test)"
   ]
  },
  {
   "cell_type": "markdown",
   "metadata": {},
   "source": [
    "### Usando la librería \"keras\"\n",
    "\n",
    "Ahora utilizaremos la librería de ``keras``, por su mayor flexibilidad para intentar mejorar los resultados de la red neuronal.\n",
    "\n",
    "Comenzaremos repitiendo la búsqueda de hiperparámetros, ya que la propia librería de ``keras`` dispone de integración con otras que nos permitirán hacer una búsqueda algo más exhaustiva por ejemplo en cuanto al número de capas y neuronas en estas."
   ]
  },
  {
   "cell_type": "code",
   "execution_count": 6,
   "metadata": {},
   "outputs": [],
   "source": [
    "import tensorflow as tf\n",
    "import keras\n",
    "from keras import layers, models, optimizers, callbacks, backend, preprocessing"
   ]
  },
  {
   "cell_type": "markdown",
   "metadata": {},
   "source": [
    "**Optimización de los hiperparámetros usando la librería: ``optuna``**\n",
    "\n",
    "Documentación:\n",
    "* https://optuna.readthedocs.io/en/stable/reference/generated/optuna.trial.Trial.html\n",
    "* https://optuna.org/\n",
    "\n",
    "Tomaremos de base algunas de los resultados que hemos podido obtener con ``GridSearchCV`` para reducir el coste computacional. Por ejemplo, utilizaremos el optimizador óptimo recomendado por ese método: Adam, al igual que la función de activación: relu."
   ]
  },
  {
   "cell_type": "code",
   "execution_count": 7,
   "metadata": {},
   "outputs": [],
   "source": [
    "import optuna\n",
    "\n",
    "# El objetivo es definir una función que será optimizada. En este caso, nos interesa maximizar el accuracy.\n",
    "def objectiveAdam(trial):\n",
    "    modelFC_optuna_Adam = models.Sequential()\n",
    "\n",
    "    n_layers = trial.suggest_int(\"n_layers\", 2, 5, 1)\n",
    "    # Se utiliza el objeto \"trial\" para asignar las posibilidades a los hiperparámetros.\n",
    "    for i in range(n_layers):\n",
    "        num_hidden = trial.suggest_int(\"n_units_l{}\".format(i), 50, 250, 50)\n",
    "        modelFC_optuna_Adam.add(layers.Dense(num_hidden, activation=\"relu\"))\n",
    "        dropout = trial.suggest_float(\"dropout_l{}\".format(i), 0.2, 0.5, step=0.1)\n",
    "        modelFC_optuna_Adam.add(layers.Dropout(rate=dropout))\n",
    "    modelFC_optuna_Adam.add(layers.Dense(1, activation=\"sigmoid\"))\n",
    "\n",
    "    learning_rate = trial.suggest_float(\"learning_rate\", 1e-5, 1e-1)\n",
    "    modelFC_optuna_Adam.compile(\n",
    "        loss=\"categorical_crossentropy\",\n",
    "        optimizer=tf.keras.optimizers.Adam(learning_rate=learning_rate),\n",
    "        metrics=[\"accuracy\"],\n",
    "    )\n",
    "    \n",
    "    es = callbacks.EarlyStopping(monitor=\"val_accuracy\", min_delta=0.01, patience=5)\n",
    "    validation_split = trial.suggest_float(\"validation_split\", 0.15, 0.45, step=0.15)\n",
    "    modelFC_optuna_Adam.fit(X_train, y_train, callbacks=[es], epochs=100, validation_split=validation_split, verbose=0)\n",
    "\n",
    "    loss, accuracy = modelFC_optuna_Adam.evaluate(X_test, y_test)\n",
    "    return accuracy"
   ]
  },
  {
   "cell_type": "code",
   "execution_count": 8,
   "metadata": {
    "scrolled": true
   },
   "outputs": [
    {
     "name": "stderr",
     "output_type": "stream",
     "text": [
      "\u001b[32m[I 2022-05-12 01:01:33,033]\u001b[0m A new study created in memory with name: no-name-be9ccea0-4d16-49c7-b854-0dee757d0aa3\u001b[0m\n"
     ]
    },
    {
     "name": "stdout",
     "output_type": "stream",
     "text": [
      "1/1 [==============================] - 0s 63ms/step - loss: 0.0000e+00 - accuracy: 0.4444\n"
     ]
    },
    {
     "name": "stderr",
     "output_type": "stream",
     "text": [
      "\u001b[32m[I 2022-05-12 01:01:39,753]\u001b[0m Trial 0 finished with value: 0.4444444477558136 and parameters: {'n_layers': 5, 'n_units_l0': 100, 'dropout_l0': 0.4, 'n_units_l1': 50, 'dropout_l1': 0.30000000000000004, 'n_units_l2': 250, 'dropout_l2': 0.2, 'n_units_l3': 50, 'dropout_l3': 0.4, 'n_units_l4': 100, 'dropout_l4': 0.30000000000000004, 'learning_rate': 0.07423315269609335, 'validation_split': 0.44999999999999996}. Best is trial 0 with value: 0.4444444477558136.\u001b[0m\n"
     ]
    },
    {
     "name": "stdout",
     "output_type": "stream",
     "text": [
      "1/1 [==============================] - 0s 16ms/step - loss: 0.0000e+00 - accuracy: 0.4444\n"
     ]
    },
    {
     "name": "stderr",
     "output_type": "stream",
     "text": [
      "\u001b[32m[I 2022-05-12 01:01:40,887]\u001b[0m Trial 1 finished with value: 0.4444444477558136 and parameters: {'n_layers': 3, 'n_units_l0': 100, 'dropout_l0': 0.5, 'n_units_l1': 200, 'dropout_l1': 0.30000000000000004, 'n_units_l2': 100, 'dropout_l2': 0.30000000000000004, 'learning_rate': 0.04469927501867495, 'validation_split': 0.44999999999999996}. Best is trial 0 with value: 0.4444444477558136.\u001b[0m\n"
     ]
    },
    {
     "name": "stdout",
     "output_type": "stream",
     "text": [
      "1/1 [==============================] - 0s 31ms/step - loss: 0.0000e+00 - accuracy: 0.4444\n"
     ]
    },
    {
     "name": "stderr",
     "output_type": "stream",
     "text": [
      "\u001b[32m[I 2022-05-12 01:01:41,848]\u001b[0m Trial 2 finished with value: 0.4444444477558136 and parameters: {'n_layers': 3, 'n_units_l0': 150, 'dropout_l0': 0.30000000000000004, 'n_units_l1': 250, 'dropout_l1': 0.4, 'n_units_l2': 200, 'dropout_l2': 0.30000000000000004, 'learning_rate': 0.07556386920645254, 'validation_split': 0.15}. Best is trial 0 with value: 0.4444444477558136.\u001b[0m\n"
     ]
    },
    {
     "name": "stdout",
     "output_type": "stream",
     "text": [
      "1/1 [==============================] - 0s 18ms/step - loss: 0.0000e+00 - accuracy: 0.4444\n"
     ]
    },
    {
     "name": "stderr",
     "output_type": "stream",
     "text": [
      "\u001b[32m[I 2022-05-12 01:01:42,827]\u001b[0m Trial 3 finished with value: 0.4444444477558136 and parameters: {'n_layers': 5, 'n_units_l0': 150, 'dropout_l0': 0.4, 'n_units_l1': 100, 'dropout_l1': 0.30000000000000004, 'n_units_l2': 50, 'dropout_l2': 0.30000000000000004, 'n_units_l3': 100, 'dropout_l3': 0.30000000000000004, 'n_units_l4': 50, 'dropout_l4': 0.5, 'learning_rate': 0.006037354563180434, 'validation_split': 0.15}. Best is trial 0 with value: 0.4444444477558136.\u001b[0m\n"
     ]
    },
    {
     "name": "stdout",
     "output_type": "stream",
     "text": [
      "1/1 [==============================] - 0s 16ms/step - loss: 0.0000e+00 - accuracy: 0.4444\n"
     ]
    },
    {
     "name": "stderr",
     "output_type": "stream",
     "text": [
      "\u001b[32m[I 2022-05-12 01:01:43,609]\u001b[0m Trial 4 finished with value: 0.4444444477558136 and parameters: {'n_layers': 2, 'n_units_l0': 150, 'dropout_l0': 0.30000000000000004, 'n_units_l1': 50, 'dropout_l1': 0.5, 'learning_rate': 0.022348646061974696, 'validation_split': 0.3}. Best is trial 0 with value: 0.4444444477558136.\u001b[0m\n"
     ]
    },
    {
     "name": "stdout",
     "output_type": "stream",
     "text": [
      "1/1 [==============================] - 0s 31ms/step - loss: 0.0000e+00 - accuracy: 0.4444\n"
     ]
    },
    {
     "name": "stderr",
     "output_type": "stream",
     "text": [
      "\u001b[32m[I 2022-05-12 01:01:44,672]\u001b[0m Trial 5 finished with value: 0.4444444477558136 and parameters: {'n_layers': 2, 'n_units_l0': 250, 'dropout_l0': 0.2, 'n_units_l1': 50, 'dropout_l1': 0.2, 'learning_rate': 0.09717637749680923, 'validation_split': 0.15}. Best is trial 0 with value: 0.4444444477558136.\u001b[0m\n"
     ]
    },
    {
     "name": "stdout",
     "output_type": "stream",
     "text": [
      "1/1 [==============================] - 0s 31ms/step - loss: 0.0000e+00 - accuracy: 0.4444\n"
     ]
    },
    {
     "name": "stderr",
     "output_type": "stream",
     "text": [
      "\u001b[32m[I 2022-05-12 01:01:46,136]\u001b[0m Trial 6 finished with value: 0.4444444477558136 and parameters: {'n_layers': 4, 'n_units_l0': 50, 'dropout_l0': 0.4, 'n_units_l1': 100, 'dropout_l1': 0.30000000000000004, 'n_units_l2': 150, 'dropout_l2': 0.2, 'n_units_l3': 250, 'dropout_l3': 0.4, 'learning_rate': 0.03760112768457326, 'validation_split': 0.3}. Best is trial 0 with value: 0.4444444477558136.\u001b[0m\n"
     ]
    },
    {
     "name": "stdout",
     "output_type": "stream",
     "text": [
      "1/1 [==============================] - 0s 34ms/step - loss: 0.0000e+00 - accuracy: 0.4444\n"
     ]
    },
    {
     "name": "stderr",
     "output_type": "stream",
     "text": [
      "\u001b[32m[I 2022-05-12 01:01:47,106]\u001b[0m Trial 7 finished with value: 0.4444444477558136 and parameters: {'n_layers': 3, 'n_units_l0': 250, 'dropout_l0': 0.4, 'n_units_l1': 50, 'dropout_l1': 0.4, 'n_units_l2': 250, 'dropout_l2': 0.4, 'learning_rate': 0.02739801758321478, 'validation_split': 0.3}. Best is trial 0 with value: 0.4444444477558136.\u001b[0m\n"
     ]
    },
    {
     "name": "stdout",
     "output_type": "stream",
     "text": [
      "1/1 [==============================] - 0s 16ms/step - loss: 0.0000e+00 - accuracy: 0.4444\n"
     ]
    },
    {
     "name": "stderr",
     "output_type": "stream",
     "text": [
      "\u001b[32m[I 2022-05-12 01:01:47,973]\u001b[0m Trial 8 finished with value: 0.4444444477558136 and parameters: {'n_layers': 3, 'n_units_l0': 100, 'dropout_l0': 0.4, 'n_units_l1': 200, 'dropout_l1': 0.30000000000000004, 'n_units_l2': 50, 'dropout_l2': 0.2, 'learning_rate': 0.0006236262184185075, 'validation_split': 0.44999999999999996}. Best is trial 0 with value: 0.4444444477558136.\u001b[0m\n"
     ]
    },
    {
     "name": "stdout",
     "output_type": "stream",
     "text": [
      "1/1 [==============================] - 0s 16ms/step - loss: 0.0000e+00 - accuracy: 0.4444\n"
     ]
    },
    {
     "name": "stderr",
     "output_type": "stream",
     "text": [
      "\u001b[32m[I 2022-05-12 01:01:48,964]\u001b[0m Trial 9 finished with value: 0.4444444477558136 and parameters: {'n_layers': 5, 'n_units_l0': 100, 'dropout_l0': 0.5, 'n_units_l1': 100, 'dropout_l1': 0.4, 'n_units_l2': 50, 'dropout_l2': 0.4, 'n_units_l3': 250, 'dropout_l3': 0.5, 'n_units_l4': 50, 'dropout_l4': 0.4, 'learning_rate': 0.006665046966088139, 'validation_split': 0.3}. Best is trial 0 with value: 0.4444444477558136.\u001b[0m\n"
     ]
    },
    {
     "name": "stdout",
     "output_type": "stream",
     "text": [
      "1/1 [==============================] - 0s 22ms/step - loss: 0.0000e+00 - accuracy: 0.4444\n"
     ]
    },
    {
     "name": "stderr",
     "output_type": "stream",
     "text": [
      "\u001b[32m[I 2022-05-12 01:01:50,251]\u001b[0m Trial 10 finished with value: 0.4444444477558136 and parameters: {'n_layers': 4, 'n_units_l0': 50, 'dropout_l0': 0.2, 'n_units_l1': 150, 'dropout_l1': 0.2, 'n_units_l2': 250, 'dropout_l2': 0.5, 'n_units_l3': 50, 'dropout_l3': 0.2, 'learning_rate': 0.06809039631225133, 'validation_split': 0.44999999999999996}. Best is trial 0 with value: 0.4444444477558136.\u001b[0m\n"
     ]
    },
    {
     "name": "stdout",
     "output_type": "stream",
     "text": [
      "1/1 [==============================] - 0s 31ms/step - loss: 0.0000e+00 - accuracy: 0.4444\n"
     ]
    },
    {
     "name": "stderr",
     "output_type": "stream",
     "text": [
      "\u001b[32m[I 2022-05-12 01:01:51,486]\u001b[0m Trial 11 finished with value: 0.4444444477558136 and parameters: {'n_layers': 4, 'n_units_l0': 100, 'dropout_l0': 0.5, 'n_units_l1': 200, 'dropout_l1': 0.30000000000000004, 'n_units_l2': 150, 'dropout_l2': 0.2, 'n_units_l3': 150, 'dropout_l3': 0.5, 'learning_rate': 0.05850899682130027, 'validation_split': 0.44999999999999996}. Best is trial 0 with value: 0.4444444477558136.\u001b[0m\n"
     ]
    },
    {
     "name": "stdout",
     "output_type": "stream",
     "text": [
      "1/1 [==============================] - 0s 31ms/step - loss: 0.0000e+00 - accuracy: 0.4444\n"
     ]
    },
    {
     "name": "stderr",
     "output_type": "stream",
     "text": [
      "\u001b[32m[I 2022-05-12 01:01:52,643]\u001b[0m Trial 12 finished with value: 0.4444444477558136 and parameters: {'n_layers': 5, 'n_units_l0': 200, 'dropout_l0': 0.5, 'n_units_l1': 200, 'dropout_l1': 0.2, 'n_units_l2': 100, 'dropout_l2': 0.30000000000000004, 'n_units_l3': 50, 'dropout_l3': 0.30000000000000004, 'n_units_l4': 250, 'dropout_l4': 0.2, 'learning_rate': 0.08500345370754403, 'validation_split': 0.44999999999999996}. Best is trial 0 with value: 0.4444444477558136.\u001b[0m\n"
     ]
    },
    {
     "name": "stdout",
     "output_type": "stream",
     "text": [
      "1/1 [==============================] - 0s 16ms/step - loss: 0.0000e+00 - accuracy: 0.4444\n"
     ]
    },
    {
     "name": "stderr",
     "output_type": "stream",
     "text": [
      "\u001b[32m[I 2022-05-12 01:01:53,593]\u001b[0m Trial 13 finished with value: 0.4444444477558136 and parameters: {'n_layers': 3, 'n_units_l0': 100, 'dropout_l0': 0.5, 'n_units_l1': 250, 'dropout_l1': 0.5, 'n_units_l2': 100, 'dropout_l2': 0.2, 'learning_rate': 0.048254802097495636, 'validation_split': 0.44999999999999996}. Best is trial 0 with value: 0.4444444477558136.\u001b[0m\n"
     ]
    },
    {
     "name": "stdout",
     "output_type": "stream",
     "text": [
      "1/1 [==============================] - 0s 16ms/step - loss: 0.0000e+00 - accuracy: 0.4444\n"
     ]
    },
    {
     "name": "stderr",
     "output_type": "stream",
     "text": [
      "\u001b[32m[I 2022-05-12 01:01:54,793]\u001b[0m Trial 14 finished with value: 0.4444444477558136 and parameters: {'n_layers': 4, 'n_units_l0': 50, 'dropout_l0': 0.30000000000000004, 'n_units_l1': 150, 'dropout_l1': 0.30000000000000004, 'n_units_l2': 200, 'dropout_l2': 0.30000000000000004, 'n_units_l3': 150, 'dropout_l3': 0.4, 'learning_rate': 0.050476177835454286, 'validation_split': 0.44999999999999996}. Best is trial 0 with value: 0.4444444477558136.\u001b[0m\n"
     ]
    },
    {
     "name": "stdout",
     "output_type": "stream",
     "text": [
      "1/1 [==============================] - 0s 31ms/step - loss: 0.0000e+00 - accuracy: 0.4444\n"
     ]
    },
    {
     "name": "stderr",
     "output_type": "stream",
     "text": [
      "\u001b[32m[I 2022-05-12 01:01:55,605]\u001b[0m Trial 15 finished with value: 0.4444444477558136 and parameters: {'n_layers': 2, 'n_units_l0': 200, 'dropout_l0': 0.5, 'n_units_l1': 200, 'dropout_l1': 0.4, 'learning_rate': 0.0671476442999834, 'validation_split': 0.44999999999999996}. Best is trial 0 with value: 0.4444444477558136.\u001b[0m\n"
     ]
    },
    {
     "name": "stdout",
     "output_type": "stream",
     "text": [
      "1/1 [==============================] - 0s 31ms/step - loss: 0.0000e+00 - accuracy: 0.4444\n"
     ]
    },
    {
     "name": "stderr",
     "output_type": "stream",
     "text": [
      "\u001b[32m[I 2022-05-12 01:01:56,953]\u001b[0m Trial 16 finished with value: 0.4444444477558136 and parameters: {'n_layers': 5, 'n_units_l0': 100, 'dropout_l0': 0.4, 'n_units_l1': 150, 'dropout_l1': 0.2, 'n_units_l2': 100, 'dropout_l2': 0.4, 'n_units_l3': 100, 'dropout_l3': 0.2, 'n_units_l4': 150, 'dropout_l4': 0.2, 'learning_rate': 0.08888531151285073, 'validation_split': 0.3}. Best is trial 0 with value: 0.4444444477558136.\u001b[0m\n"
     ]
    },
    {
     "name": "stdout",
     "output_type": "stream",
     "text": [
      "1/1 [==============================] - 0s 16ms/step - loss: 0.0000e+00 - accuracy: 0.4444\n"
     ]
    },
    {
     "name": "stderr",
     "output_type": "stream",
     "text": [
      "\u001b[32m[I 2022-05-12 01:01:58,102]\u001b[0m Trial 17 finished with value: 0.4444444477558136 and parameters: {'n_layers': 4, 'n_units_l0': 50, 'dropout_l0': 0.30000000000000004, 'n_units_l1': 100, 'dropout_l1': 0.30000000000000004, 'n_units_l2': 200, 'dropout_l2': 0.2, 'n_units_l3': 200, 'dropout_l3': 0.4, 'learning_rate': 0.05932523038615562, 'validation_split': 0.44999999999999996}. Best is trial 0 with value: 0.4444444477558136.\u001b[0m\n"
     ]
    },
    {
     "name": "stdout",
     "output_type": "stream",
     "text": [
      "1/1 [==============================] - 0s 31ms/step - loss: 0.0000e+00 - accuracy: 0.4444\n"
     ]
    },
    {
     "name": "stderr",
     "output_type": "stream",
     "text": [
      "\u001b[32m[I 2022-05-12 01:01:58,916]\u001b[0m Trial 18 finished with value: 0.4444444477558136 and parameters: {'n_layers': 2, 'n_units_l0': 200, 'dropout_l0': 0.5, 'n_units_l1': 150, 'dropout_l1': 0.4, 'learning_rate': 0.07176688094552762, 'validation_split': 0.3}. Best is trial 0 with value: 0.4444444477558136.\u001b[0m\n"
     ]
    },
    {
     "name": "stdout",
     "output_type": "stream",
     "text": [
      "1/1 [==============================] - 0s 16ms/step - loss: 0.0000e+00 - accuracy: 0.4444\n"
     ]
    },
    {
     "name": "stderr",
     "output_type": "stream",
     "text": [
      "\u001b[32m[I 2022-05-12 01:01:59,977]\u001b[0m Trial 19 finished with value: 0.4444444477558136 and parameters: {'n_layers': 5, 'n_units_l0': 100, 'dropout_l0': 0.4, 'n_units_l1': 150, 'dropout_l1': 0.2, 'n_units_l2': 150, 'dropout_l2': 0.5, 'n_units_l3': 100, 'dropout_l3': 0.2, 'n_units_l4': 150, 'dropout_l4': 0.2, 'learning_rate': 0.09835719826860637, 'validation_split': 0.3}. Best is trial 0 with value: 0.4444444477558136.\u001b[0m\n"
     ]
    },
    {
     "name": "stdout",
     "output_type": "stream",
     "text": [
      "1/1 [==============================] - 0s 16ms/step - loss: 0.0000e+00 - accuracy: 0.4444\n"
     ]
    },
    {
     "name": "stderr",
     "output_type": "stream",
     "text": [
      "\u001b[32m[I 2022-05-12 01:02:00,927]\u001b[0m Trial 20 finished with value: 0.4444444477558136 and parameters: {'n_layers': 4, 'n_units_l0': 50, 'dropout_l0': 0.30000000000000004, 'n_units_l1': 100, 'dropout_l1': 0.30000000000000004, 'n_units_l2': 200, 'dropout_l2': 0.2, 'n_units_l3': 200, 'dropout_l3': 0.4, 'learning_rate': 0.05740571172181541, 'validation_split': 0.44999999999999996}. Best is trial 0 with value: 0.4444444477558136.\u001b[0m\n"
     ]
    },
    {
     "name": "stdout",
     "output_type": "stream",
     "text": [
      "1/1 [==============================] - 0s 31ms/step - loss: 0.0000e+00 - accuracy: 0.4444\n"
     ]
    },
    {
     "name": "stderr",
     "output_type": "stream",
     "text": [
      "\u001b[32m[I 2022-05-12 01:02:02,325]\u001b[0m Trial 21 finished with value: 0.4444444477558136 and parameters: {'n_layers': 4, 'n_units_l0': 200, 'dropout_l0': 0.30000000000000004, 'n_units_l1': 100, 'dropout_l1': 0.4, 'n_units_l2': 250, 'dropout_l2': 0.2, 'n_units_l3': 200, 'dropout_l3': 0.4, 'learning_rate': 0.07393035560549857, 'validation_split': 0.3}. Best is trial 0 with value: 0.4444444477558136.\u001b[0m\n"
     ]
    },
    {
     "name": "stdout",
     "output_type": "stream",
     "text": [
      "1/1 [==============================] - 0s 16ms/step - loss: 0.0000e+00 - accuracy: 0.4444\n"
     ]
    },
    {
     "name": "stderr",
     "output_type": "stream",
     "text": [
      "\u001b[32m[I 2022-05-12 01:02:03,643]\u001b[0m Trial 22 finished with value: 0.4444444477558136 and parameters: {'n_layers': 5, 'n_units_l0': 200, 'dropout_l0': 0.4, 'n_units_l1': 150, 'dropout_l1': 0.2, 'n_units_l2': 150, 'dropout_l2': 0.5, 'n_units_l3': 100, 'dropout_l3': 0.30000000000000004, 'n_units_l4': 150, 'dropout_l4': 0.30000000000000004, 'learning_rate': 0.09763159108024516, 'validation_split': 0.3}. Best is trial 0 with value: 0.4444444477558136.\u001b[0m\n"
     ]
    },
    {
     "name": "stdout",
     "output_type": "stream",
     "text": [
      "1/1 [==============================] - 0s 16ms/step - loss: 0.0000e+00 - accuracy: 0.4444\n"
     ]
    },
    {
     "name": "stderr",
     "output_type": "stream",
     "text": [
      "\u001b[32m[I 2022-05-12 01:02:04,900]\u001b[0m Trial 23 finished with value: 0.4444444477558136 and parameters: {'n_layers': 5, 'n_units_l0': 50, 'dropout_l0': 0.2, 'n_units_l1': 50, 'dropout_l1': 0.2, 'n_units_l2': 200, 'dropout_l2': 0.5, 'n_units_l3': 50, 'dropout_l3': 0.4, 'n_units_l4': 100, 'dropout_l4': 0.30000000000000004, 'learning_rate': 0.0826565092097235, 'validation_split': 0.44999999999999996}. Best is trial 0 with value: 0.4444444477558136.\u001b[0m\n"
     ]
    },
    {
     "name": "stdout",
     "output_type": "stream",
     "text": [
      "1/1 [==============================] - 0s 31ms/step - loss: 0.0000e+00 - accuracy: 0.4444\n"
     ]
    },
    {
     "name": "stderr",
     "output_type": "stream",
     "text": [
      "\u001b[32m[I 2022-05-12 01:02:05,883]\u001b[0m Trial 24 finished with value: 0.4444444477558136 and parameters: {'n_layers': 4, 'n_units_l0': 150, 'dropout_l0': 0.30000000000000004, 'n_units_l1': 100, 'dropout_l1': 0.5, 'n_units_l2': 250, 'dropout_l2': 0.2, 'n_units_l3': 200, 'dropout_l3': 0.5, 'learning_rate': 0.0631756881307832, 'validation_split': 0.15}. Best is trial 0 with value: 0.4444444477558136.\u001b[0m\n"
     ]
    },
    {
     "name": "stdout",
     "output_type": "stream",
     "text": [
      "1/1 [==============================] - 0s 36ms/step - loss: 0.0000e+00 - accuracy: 0.4444\n"
     ]
    },
    {
     "name": "stderr",
     "output_type": "stream",
     "text": [
      "\u001b[32m[I 2022-05-12 01:02:07,201]\u001b[0m Trial 25 finished with value: 0.4444444477558136 and parameters: {'n_layers': 5, 'n_units_l0': 200, 'dropout_l0': 0.4, 'n_units_l1': 50, 'dropout_l1': 0.4, 'n_units_l2': 250, 'dropout_l2': 0.4, 'n_units_l3': 100, 'dropout_l3': 0.30000000000000004, 'n_units_l4': 200, 'dropout_l4': 0.30000000000000004, 'learning_rate': 0.07905647379903825, 'validation_split': 0.3}. Best is trial 0 with value: 0.4444444477558136.\u001b[0m\n"
     ]
    },
    {
     "name": "stdout",
     "output_type": "stream",
     "text": [
      "1/1 [==============================] - 0s 31ms/step - loss: 0.0000e+00 - accuracy: 0.4444\n"
     ]
    },
    {
     "name": "stderr",
     "output_type": "stream",
     "text": [
      "\u001b[32m[I 2022-05-12 01:02:08,540]\u001b[0m Trial 26 finished with value: 0.4444444477558136 and parameters: {'n_layers': 5, 'n_units_l0': 150, 'dropout_l0': 0.2, 'n_units_l1': 50, 'dropout_l1': 0.2, 'n_units_l2': 200, 'dropout_l2': 0.5, 'n_units_l3': 50, 'dropout_l3': 0.30000000000000004, 'n_units_l4': 100, 'dropout_l4': 0.30000000000000004, 'learning_rate': 0.08859381233943717, 'validation_split': 0.44999999999999996}. Best is trial 0 with value: 0.4444444477558136.\u001b[0m\n"
     ]
    },
    {
     "name": "stdout",
     "output_type": "stream",
     "text": [
      "1/1 [==============================] - 0s 31ms/step - loss: 0.0000e+00 - accuracy: 0.4444\n"
     ]
    },
    {
     "name": "stderr",
     "output_type": "stream",
     "text": [
      "\u001b[32m[I 2022-05-12 01:02:09,835]\u001b[0m Trial 27 finished with value: 0.4444444477558136 and parameters: {'n_layers': 5, 'n_units_l0': 50, 'dropout_l0': 0.2, 'n_units_l1': 50, 'dropout_l1': 0.5, 'n_units_l2': 250, 'dropout_l2': 0.30000000000000004, 'n_units_l3': 50, 'dropout_l3': 0.5, 'n_units_l4': 100, 'dropout_l4': 0.4, 'learning_rate': 0.08306486400290683, 'validation_split': 0.15}. Best is trial 0 with value: 0.4444444477558136.\u001b[0m\n"
     ]
    },
    {
     "name": "stdout",
     "output_type": "stream",
     "text": [
      "1/1 [==============================] - 0s 31ms/step - loss: 0.0000e+00 - accuracy: 0.4444\n"
     ]
    },
    {
     "name": "stderr",
     "output_type": "stream",
     "text": [
      "\u001b[32m[I 2022-05-12 01:02:10,933]\u001b[0m Trial 28 finished with value: 0.4444444477558136 and parameters: {'n_layers': 4, 'n_units_l0': 150, 'dropout_l0': 0.4, 'n_units_l1': 50, 'dropout_l1': 0.5, 'n_units_l2': 250, 'dropout_l2': 0.4, 'n_units_l3': 150, 'dropout_l3': 0.5, 'learning_rate': 0.06357174997237562, 'validation_split': 0.15}. Best is trial 0 with value: 0.4444444477558136.\u001b[0m\n"
     ]
    },
    {
     "name": "stdout",
     "output_type": "stream",
     "text": [
      "1/1 [==============================] - 0s 30ms/step - loss: 0.0000e+00 - accuracy: 0.4444\n"
     ]
    },
    {
     "name": "stderr",
     "output_type": "stream",
     "text": [
      "\u001b[32m[I 2022-05-12 01:02:12,319]\u001b[0m Trial 29 finished with value: 0.4444444477558136 and parameters: {'n_layers': 5, 'n_units_l0': 250, 'dropout_l0': 0.4, 'n_units_l1': 50, 'dropout_l1': 0.4, 'n_units_l2': 200, 'dropout_l2': 0.4, 'n_units_l3': 50, 'dropout_l3': 0.30000000000000004, 'n_units_l4': 250, 'dropout_l4': 0.30000000000000004, 'learning_rate': 0.08814474128435507, 'validation_split': 0.44999999999999996}. Best is trial 0 with value: 0.4444444477558136.\u001b[0m\n"
     ]
    },
    {
     "name": "stdout",
     "output_type": "stream",
     "text": [
      "1/1 [==============================] - 0s 25ms/step - loss: 0.0000e+00 - accuracy: 0.4444\n"
     ]
    },
    {
     "name": "stderr",
     "output_type": "stream",
     "text": [
      "\u001b[32m[I 2022-05-12 01:02:13,688]\u001b[0m Trial 30 finished with value: 0.4444444477558136 and parameters: {'n_layers': 5, 'n_units_l0': 100, 'dropout_l0': 0.2, 'n_units_l1': 50, 'dropout_l1': 0.5, 'n_units_l2': 250, 'dropout_l2': 0.30000000000000004, 'n_units_l3': 50, 'dropout_l3': 0.5, 'n_units_l4': 100, 'dropout_l4': 0.4, 'learning_rate': 0.09037291748660464, 'validation_split': 0.15}. Best is trial 0 with value: 0.4444444477558136.\u001b[0m\n"
     ]
    },
    {
     "name": "stdout",
     "output_type": "stream",
     "text": [
      "1/1 [==============================] - 0s 20ms/step - loss: 0.0000e+00 - accuracy: 0.4444\n"
     ]
    },
    {
     "name": "stderr",
     "output_type": "stream",
     "text": [
      "\u001b[32m[I 2022-05-12 01:02:14,750]\u001b[0m Trial 31 finished with value: 0.4444444477558136 and parameters: {'n_layers': 5, 'n_units_l0': 150, 'dropout_l0': 0.2, 'n_units_l1': 50, 'dropout_l1': 0.5, 'n_units_l2': 250, 'dropout_l2': 0.5, 'n_units_l3': 50, 'dropout_l3': 0.5, 'n_units_l4': 100, 'dropout_l4': 0.4, 'learning_rate': 0.07944693796218433, 'validation_split': 0.15}. Best is trial 0 with value: 0.4444444477558136.\u001b[0m\n"
     ]
    },
    {
     "name": "stdout",
     "output_type": "stream",
     "text": [
      "1/1 [==============================] - 0s 25ms/step - loss: 0.0000e+00 - accuracy: 0.4444\n"
     ]
    },
    {
     "name": "stderr",
     "output_type": "stream",
     "text": [
      "\u001b[32m[I 2022-05-12 01:02:16,038]\u001b[0m Trial 32 finished with value: 0.4444444477558136 and parameters: {'n_layers': 5, 'n_units_l0': 250, 'dropout_l0': 0.4, 'n_units_l1': 50, 'dropout_l1': 0.5, 'n_units_l2': 250, 'dropout_l2': 0.4, 'n_units_l3': 50, 'dropout_l3': 0.5, 'n_units_l4': 250, 'dropout_l4': 0.5, 'learning_rate': 0.07384571328170797, 'validation_split': 0.15}. Best is trial 0 with value: 0.4444444477558136.\u001b[0m\n"
     ]
    },
    {
     "name": "stdout",
     "output_type": "stream",
     "text": [
      "1/1 [==============================] - 0s 15ms/step - loss: 0.0000e+00 - accuracy: 0.4444\n"
     ]
    },
    {
     "name": "stderr",
     "output_type": "stream",
     "text": [
      "\u001b[32m[I 2022-05-12 01:02:17,044]\u001b[0m Trial 33 finished with value: 0.4444444477558136 and parameters: {'n_layers': 5, 'n_units_l0': 100, 'dropout_l0': 0.4, 'n_units_l1': 50, 'dropout_l1': 0.5, 'n_units_l2': 200, 'dropout_l2': 0.4, 'n_units_l3': 100, 'dropout_l3': 0.5, 'n_units_l4': 200, 'dropout_l4': 0.4, 'learning_rate': 0.0925329630219785, 'validation_split': 0.15}. Best is trial 0 with value: 0.4444444477558136.\u001b[0m\n"
     ]
    },
    {
     "name": "stdout",
     "output_type": "stream",
     "text": [
      "1/1 [==============================] - 0s 20ms/step - loss: 0.0000e+00 - accuracy: 0.4444\n"
     ]
    },
    {
     "name": "stderr",
     "output_type": "stream",
     "text": [
      "\u001b[32m[I 2022-05-12 01:02:18,489]\u001b[0m Trial 34 finished with value: 0.4444444477558136 and parameters: {'n_layers': 5, 'n_units_l0': 150, 'dropout_l0': 0.2, 'n_units_l1': 50, 'dropout_l1': 0.5, 'n_units_l2': 250, 'dropout_l2': 0.30000000000000004, 'n_units_l3': 50, 'dropout_l3': 0.4, 'n_units_l4': 100, 'dropout_l4': 0.4, 'learning_rate': 0.09149909128912387, 'validation_split': 0.15}. Best is trial 0 with value: 0.4444444477558136.\u001b[0m\n"
     ]
    },
    {
     "name": "stdout",
     "output_type": "stream",
     "text": [
      "1/1 [==============================] - 0s 15ms/step - loss: 0.0000e+00 - accuracy: 0.4444\n"
     ]
    },
    {
     "name": "stderr",
     "output_type": "stream",
     "text": [
      "\u001b[32m[I 2022-05-12 01:02:19,703]\u001b[0m Trial 35 finished with value: 0.4444444477558136 and parameters: {'n_layers': 4, 'n_units_l0': 50, 'dropout_l0': 0.30000000000000004, 'n_units_l1': 100, 'dropout_l1': 0.30000000000000004, 'n_units_l2': 150, 'dropout_l2': 0.2, 'n_units_l3': 200, 'dropout_l3': 0.4, 'learning_rate': 0.05360018197805111, 'validation_split': 0.3}. Best is trial 0 with value: 0.4444444477558136.\u001b[0m\n"
     ]
    },
    {
     "name": "stdout",
     "output_type": "stream",
     "text": [
      "1/1 [==============================] - 0s 20ms/step - loss: 0.0000e+00 - accuracy: 0.4444\n"
     ]
    },
    {
     "name": "stderr",
     "output_type": "stream",
     "text": [
      "\u001b[32m[I 2022-05-12 01:02:20,711]\u001b[0m Trial 36 finished with value: 0.4444444477558136 and parameters: {'n_layers': 4, 'n_units_l0': 200, 'dropout_l0': 0.30000000000000004, 'n_units_l1': 100, 'dropout_l1': 0.30000000000000004, 'n_units_l2': 150, 'dropout_l2': 0.2, 'n_units_l3': 200, 'dropout_l3': 0.4, 'learning_rate': 0.04203397714058008, 'validation_split': 0.3}. Best is trial 0 with value: 0.4444444477558136.\u001b[0m\n"
     ]
    },
    {
     "name": "stdout",
     "output_type": "stream",
     "text": [
      "1/1 [==============================] - 0s 28ms/step - loss: 0.0000e+00 - accuracy: 0.4444\n"
     ]
    },
    {
     "name": "stderr",
     "output_type": "stream",
     "text": [
      "\u001b[32m[I 2022-05-12 01:02:21,671]\u001b[0m Trial 37 finished with value: 0.4444444477558136 and parameters: {'n_layers': 3, 'n_units_l0': 200, 'dropout_l0': 0.30000000000000004, 'n_units_l1': 100, 'dropout_l1': 0.4, 'n_units_l2': 200, 'dropout_l2': 0.2, 'learning_rate': 0.07529483479883925, 'validation_split': 0.3}. Best is trial 0 with value: 0.4444444477558136.\u001b[0m\n"
     ]
    },
    {
     "name": "stdout",
     "output_type": "stream",
     "text": [
      "1/1 [==============================] - 0s 30ms/step - loss: 0.0000e+00 - accuracy: 0.4444\n"
     ]
    },
    {
     "name": "stderr",
     "output_type": "stream",
     "text": [
      "\u001b[32m[I 2022-05-12 01:02:23,017]\u001b[0m Trial 38 finished with value: 0.4444444477558136 and parameters: {'n_layers': 5, 'n_units_l0': 200, 'dropout_l0': 0.30000000000000004, 'n_units_l1': 150, 'dropout_l1': 0.2, 'n_units_l2': 200, 'dropout_l2': 0.5, 'n_units_l3': 100, 'dropout_l3': 0.4, 'n_units_l4': 150, 'dropout_l4': 0.30000000000000004, 'learning_rate': 0.09783901207250359, 'validation_split': 0.3}. Best is trial 0 with value: 0.4444444477558136.\u001b[0m\n"
     ]
    },
    {
     "name": "stdout",
     "output_type": "stream",
     "text": [
      "1/1 [==============================] - 0s 31ms/step - loss: 0.0000e+00 - accuracy: 0.4444\n"
     ]
    },
    {
     "name": "stderr",
     "output_type": "stream",
     "text": [
      "\u001b[32m[I 2022-05-12 01:02:24,766]\u001b[0m Trial 39 finished with value: 0.4444444477558136 and parameters: {'n_layers': 5, 'n_units_l0': 250, 'dropout_l0': 0.4, 'n_units_l1': 100, 'dropout_l1': 0.2, 'n_units_l2': 150, 'dropout_l2': 0.5, 'n_units_l3': 100, 'dropout_l3': 0.30000000000000004, 'n_units_l4': 50, 'dropout_l4': 0.30000000000000004, 'learning_rate': 0.0798375538823218, 'validation_split': 0.3}. Best is trial 0 with value: 0.4444444477558136.\u001b[0m\n"
     ]
    },
    {
     "name": "stdout",
     "output_type": "stream",
     "text": [
      "1/1 [==============================] - 0s 25ms/step - loss: 0.0000e+00 - accuracy: 0.4444\n"
     ]
    },
    {
     "name": "stderr",
     "output_type": "stream",
     "text": [
      "\u001b[32m[I 2022-05-12 01:02:25,743]\u001b[0m Trial 40 finished with value: 0.4444444477558136 and parameters: {'n_layers': 4, 'n_units_l0': 150, 'dropout_l0': 0.30000000000000004, 'n_units_l1': 250, 'dropout_l1': 0.2, 'n_units_l2': 200, 'dropout_l2': 0.5, 'n_units_l3': 100, 'dropout_l3': 0.30000000000000004, 'learning_rate': 0.08377003244566808, 'validation_split': 0.44999999999999996}. Best is trial 0 with value: 0.4444444477558136.\u001b[0m\n"
     ]
    },
    {
     "name": "stdout",
     "output_type": "stream",
     "text": [
      "1/1 [==============================] - 0s 31ms/step - loss: 0.0000e+00 - accuracy: 0.4444\n"
     ]
    },
    {
     "name": "stderr",
     "output_type": "stream",
     "text": [
      "\u001b[32m[I 2022-05-12 01:02:26,973]\u001b[0m Trial 41 finished with value: 0.4444444477558136 and parameters: {'n_layers': 5, 'n_units_l0': 150, 'dropout_l0': 0.4, 'n_units_l1': 50, 'dropout_l1': 0.2, 'n_units_l2': 250, 'dropout_l2': 0.5, 'n_units_l3': 100, 'dropout_l3': 0.30000000000000004, 'n_units_l4': 200, 'dropout_l4': 0.30000000000000004, 'learning_rate': 0.06741358619401569, 'validation_split': 0.3}. Best is trial 0 with value: 0.4444444477558136.\u001b[0m\n"
     ]
    },
    {
     "name": "stdout",
     "output_type": "stream",
     "text": [
      "1/1 [==============================] - 0s 16ms/step - loss: 0.0000e+00 - accuracy: 0.4444\n"
     ]
    },
    {
     "name": "stderr",
     "output_type": "stream",
     "text": [
      "\u001b[32m[I 2022-05-12 01:02:28,053]\u001b[0m Trial 42 finished with value: 0.4444444477558136 and parameters: {'n_layers': 5, 'n_units_l0': 150, 'dropout_l0': 0.2, 'n_units_l1': 50, 'dropout_l1': 0.30000000000000004, 'n_units_l2': 250, 'dropout_l2': 0.5, 'n_units_l3': 50, 'dropout_l3': 0.30000000000000004, 'n_units_l4': 100, 'dropout_l4': 0.30000000000000004, 'learning_rate': 0.0792237934411406, 'validation_split': 0.44999999999999996}. Best is trial 0 with value: 0.4444444477558136.\u001b[0m\n"
     ]
    },
    {
     "name": "stdout",
     "output_type": "stream",
     "text": [
      "1/1 [==============================] - 0s 16ms/step - loss: 0.0000e+00 - accuracy: 0.4444\n"
     ]
    },
    {
     "name": "stderr",
     "output_type": "stream",
     "text": [
      "\u001b[32m[I 2022-05-12 01:02:29,330]\u001b[0m Trial 43 finished with value: 0.4444444477558136 and parameters: {'n_layers': 5, 'n_units_l0': 150, 'dropout_l0': 0.2, 'n_units_l1': 50, 'dropout_l1': 0.4, 'n_units_l2': 200, 'dropout_l2': 0.30000000000000004, 'n_units_l3': 50, 'dropout_l3': 0.30000000000000004, 'n_units_l4': 200, 'dropout_l4': 0.30000000000000004, 'learning_rate': 0.06256407239734198, 'validation_split': 0.44999999999999996}. Best is trial 0 with value: 0.4444444477558136.\u001b[0m\n"
     ]
    },
    {
     "name": "stdout",
     "output_type": "stream",
     "text": [
      "1/1 [==============================] - 0s 31ms/step - loss: 0.0000e+00 - accuracy: 0.4444\n"
     ]
    },
    {
     "name": "stderr",
     "output_type": "stream",
     "text": [
      "\u001b[32m[I 2022-05-12 01:02:30,631]\u001b[0m Trial 44 finished with value: 0.4444444477558136 and parameters: {'n_layers': 5, 'n_units_l0': 100, 'dropout_l0': 0.2, 'n_units_l1': 50, 'dropout_l1': 0.5, 'n_units_l2': 250, 'dropout_l2': 0.30000000000000004, 'n_units_l3': 250, 'dropout_l3': 0.5, 'n_units_l4': 100, 'dropout_l4': 0.4, 'learning_rate': 0.06971854101859067, 'validation_split': 0.15}. Best is trial 0 with value: 0.4444444477558136.\u001b[0m\n"
     ]
    },
    {
     "name": "stdout",
     "output_type": "stream",
     "text": [
      "1/1 [==============================] - 0s 16ms/step - loss: 0.0000e+00 - accuracy: 0.4444\n"
     ]
    },
    {
     "name": "stderr",
     "output_type": "stream",
     "text": [
      "\u001b[32m[I 2022-05-12 01:02:31,916]\u001b[0m Trial 45 finished with value: 0.4444444477558136 and parameters: {'n_layers': 5, 'n_units_l0': 150, 'dropout_l0': 0.2, 'n_units_l1': 100, 'dropout_l1': 0.5, 'n_units_l2': 250, 'dropout_l2': 0.4, 'n_units_l3': 50, 'dropout_l3': 0.2, 'n_units_l4': 100, 'dropout_l4': 0.2, 'learning_rate': 0.07767805937421679, 'validation_split': 0.15}. Best is trial 0 with value: 0.4444444477558136.\u001b[0m\n"
     ]
    },
    {
     "name": "stdout",
     "output_type": "stream",
     "text": [
      "1/1 [==============================] - 0s 16ms/step - loss: 0.0000e+00 - accuracy: 0.4444\n"
     ]
    },
    {
     "name": "stderr",
     "output_type": "stream",
     "text": [
      "\u001b[32m[I 2022-05-12 01:02:32,887]\u001b[0m Trial 46 finished with value: 0.4444444477558136 and parameters: {'n_layers': 4, 'n_units_l0': 150, 'dropout_l0': 0.4, 'n_units_l1': 50, 'dropout_l1': 0.4, 'n_units_l2': 250, 'dropout_l2': 0.4, 'n_units_l3': 150, 'dropout_l3': 0.5, 'learning_rate': 0.030166234542610363, 'validation_split': 0.15}. Best is trial 0 with value: 0.4444444477558136.\u001b[0m\n"
     ]
    },
    {
     "name": "stdout",
     "output_type": "stream",
     "text": [
      "1/1 [==============================] - 0s 31ms/step - loss: 0.0000e+00 - accuracy: 0.4444\n"
     ]
    },
    {
     "name": "stderr",
     "output_type": "stream",
     "text": [
      "\u001b[32m[I 2022-05-12 01:02:33,834]\u001b[0m Trial 47 finished with value: 0.4444444477558136 and parameters: {'n_layers': 3, 'n_units_l0': 50, 'dropout_l0': 0.4, 'n_units_l1': 50, 'dropout_l1': 0.5, 'n_units_l2': 250, 'dropout_l2': 0.4, 'learning_rate': 0.06482443503324972, 'validation_split': 0.15}. Best is trial 0 with value: 0.4444444477558136.\u001b[0m\n"
     ]
    },
    {
     "name": "stdout",
     "output_type": "stream",
     "text": [
      "1/1 [==============================] - 0s 31ms/step - loss: 0.0000e+00 - accuracy: 0.4444\n"
     ]
    },
    {
     "name": "stderr",
     "output_type": "stream",
     "text": [
      "\u001b[32m[I 2022-05-12 01:02:35,159]\u001b[0m Trial 48 finished with value: 0.4444444477558136 and parameters: {'n_layers': 5, 'n_units_l0': 100, 'dropout_l0': 0.4, 'n_units_l1': 50, 'dropout_l1': 0.4, 'n_units_l2': 200, 'dropout_l2': 0.30000000000000004, 'n_units_l3': 50, 'dropout_l3': 0.5, 'n_units_l4': 50, 'dropout_l4': 0.30000000000000004, 'learning_rate': 0.08560229629009042, 'validation_split': 0.44999999999999996}. Best is trial 0 with value: 0.4444444477558136.\u001b[0m\n"
     ]
    },
    {
     "name": "stdout",
     "output_type": "stream",
     "text": [
      "1/1 [==============================] - 0s 31ms/step - loss: 0.0000e+00 - accuracy: 0.4444\n"
     ]
    },
    {
     "name": "stderr",
     "output_type": "stream",
     "text": [
      "\u001b[32m[I 2022-05-12 01:02:36,731]\u001b[0m Trial 49 finished with value: 0.4444444477558136 and parameters: {'n_layers': 5, 'n_units_l0': 250, 'dropout_l0': 0.5, 'n_units_l1': 50, 'dropout_l1': 0.30000000000000004, 'n_units_l2': 200, 'dropout_l2': 0.4, 'n_units_l3': 50, 'dropout_l3': 0.30000000000000004, 'n_units_l4': 150, 'dropout_l4': 0.4, 'learning_rate': 0.09495080521745776, 'validation_split': 0.44999999999999996}. Best is trial 0 with value: 0.4444444477558136.\u001b[0m\n"
     ]
    },
    {
     "name": "stdout",
     "output_type": "stream",
     "text": [
      "1/1 [==============================] - 0s 16ms/step - loss: 0.0000e+00 - accuracy: 0.4444\n"
     ]
    },
    {
     "name": "stderr",
     "output_type": "stream",
     "text": [
      "\u001b[32m[I 2022-05-12 01:02:37,714]\u001b[0m Trial 50 finished with value: 0.4444444477558136 and parameters: {'n_layers': 4, 'n_units_l0': 100, 'dropout_l0': 0.4, 'n_units_l1': 50, 'dropout_l1': 0.5, 'n_units_l2': 250, 'dropout_l2': 0.30000000000000004, 'n_units_l3': 150, 'dropout_l3': 0.5, 'learning_rate': 0.0884779523796572, 'validation_split': 0.15}. Best is trial 0 with value: 0.4444444477558136.\u001b[0m\n"
     ]
    },
    {
     "name": "stdout",
     "output_type": "stream",
     "text": [
      "1/1 [==============================] - 0s 31ms/step - loss: 0.0000e+00 - accuracy: 0.4444\n"
     ]
    },
    {
     "name": "stderr",
     "output_type": "stream",
     "text": [
      "\u001b[32m[I 2022-05-12 01:02:38,729]\u001b[0m Trial 51 finished with value: 0.4444444477558136 and parameters: {'n_layers': 5, 'n_units_l0': 100, 'dropout_l0': 0.2, 'n_units_l1': 50, 'dropout_l1': 0.5, 'n_units_l2': 250, 'dropout_l2': 0.30000000000000004, 'n_units_l3': 50, 'dropout_l3': 0.5, 'n_units_l4': 100, 'dropout_l4': 0.4, 'learning_rate': 0.08205712408912973, 'validation_split': 0.15}. Best is trial 0 with value: 0.4444444477558136.\u001b[0m\n"
     ]
    },
    {
     "name": "stdout",
     "output_type": "stream",
     "text": [
      "1/1 [==============================] - 0s 16ms/step - loss: 0.0000e+00 - accuracy: 0.4444\n"
     ]
    },
    {
     "name": "stderr",
     "output_type": "stream",
     "text": [
      "\u001b[32m[I 2022-05-12 01:02:39,837]\u001b[0m Trial 52 finished with value: 0.4444444477558136 and parameters: {'n_layers': 5, 'n_units_l0': 250, 'dropout_l0': 0.4, 'n_units_l1': 50, 'dropout_l1': 0.5, 'n_units_l2': 250, 'dropout_l2': 0.4, 'n_units_l3': 50, 'dropout_l3': 0.5, 'n_units_l4': 250, 'dropout_l4': 0.5, 'learning_rate': 0.07237808036919753, 'validation_split': 0.15}. Best is trial 0 with value: 0.4444444477558136.\u001b[0m\n"
     ]
    },
    {
     "name": "stdout",
     "output_type": "stream",
     "text": [
      "1/1 [==============================] - 0s 11ms/step - loss: 0.0000e+00 - accuracy: 0.4444\n"
     ]
    },
    {
     "name": "stderr",
     "output_type": "stream",
     "text": [
      "\u001b[32m[I 2022-05-12 01:02:41,158]\u001b[0m Trial 53 finished with value: 0.4444444477558136 and parameters: {'n_layers': 5, 'n_units_l0': 250, 'dropout_l0': 0.4, 'n_units_l1': 50, 'dropout_l1': 0.5, 'n_units_l2': 250, 'dropout_l2': 0.4, 'n_units_l3': 50, 'dropout_l3': 0.5, 'n_units_l4': 250, 'dropout_l4': 0.5, 'learning_rate': 0.013656642929829377, 'validation_split': 0.15}. Best is trial 0 with value: 0.4444444477558136.\u001b[0m\n"
     ]
    },
    {
     "name": "stdout",
     "output_type": "stream",
     "text": [
      "1/1 [==============================] - 0s 31ms/step - loss: 0.0000e+00 - accuracy: 0.4444\n"
     ]
    },
    {
     "name": "stderr",
     "output_type": "stream",
     "text": [
      "\u001b[32m[I 2022-05-12 01:02:42,470]\u001b[0m Trial 54 finished with value: 0.4444444477558136 and parameters: {'n_layers': 5, 'n_units_l0': 100, 'dropout_l0': 0.4, 'n_units_l1': 50, 'dropout_l1': 0.5, 'n_units_l2': 200, 'dropout_l2': 0.4, 'n_units_l3': 50, 'dropout_l3': 0.5, 'n_units_l4': 250, 'dropout_l4': 0.4, 'learning_rate': 0.09254061535040399, 'validation_split': 0.15}. Best is trial 0 with value: 0.4444444477558136.\u001b[0m\n"
     ]
    },
    {
     "name": "stdout",
     "output_type": "stream",
     "text": [
      "1/1 [==============================] - 0s 16ms/step - loss: 0.0000e+00 - accuracy: 0.4444\n"
     ]
    },
    {
     "name": "stderr",
     "output_type": "stream",
     "text": [
      "\u001b[32m[I 2022-05-12 01:02:43,615]\u001b[0m Trial 55 finished with value: 0.4444444477558136 and parameters: {'n_layers': 5, 'n_units_l0': 250, 'dropout_l0': 0.4, 'n_units_l1': 50, 'dropout_l1': 0.5, 'n_units_l2': 250, 'dropout_l2': 0.4, 'n_units_l3': 50, 'dropout_l3': 0.5, 'n_units_l4': 200, 'dropout_l4': 0.5, 'learning_rate': 0.09212347136868757, 'validation_split': 0.15}. Best is trial 0 with value: 0.4444444477558136.\u001b[0m\n"
     ]
    },
    {
     "name": "stdout",
     "output_type": "stream",
     "text": [
      "1/1 [==============================] - 0s 31ms/step - loss: 0.0000e+00 - accuracy: 0.4444\n"
     ]
    },
    {
     "name": "stderr",
     "output_type": "stream",
     "text": [
      "\u001b[32m[I 2022-05-12 01:02:44,708]\u001b[0m Trial 56 finished with value: 0.4444444477558136 and parameters: {'n_layers': 5, 'n_units_l0': 100, 'dropout_l0': 0.2, 'n_units_l1': 100, 'dropout_l1': 0.5, 'n_units_l2': 250, 'dropout_l2': 0.30000000000000004, 'n_units_l3': 100, 'dropout_l3': 0.4, 'n_units_l4': 100, 'dropout_l4': 0.4, 'learning_rate': 0.09470354706085726, 'validation_split': 0.15}. Best is trial 0 with value: 0.4444444477558136.\u001b[0m\n"
     ]
    },
    {
     "name": "stdout",
     "output_type": "stream",
     "text": [
      "1/1 [==============================] - 0s 24ms/step - loss: 0.0000e+00 - accuracy: 0.4444\n"
     ]
    },
    {
     "name": "stderr",
     "output_type": "stream",
     "text": [
      "\u001b[32m[I 2022-05-12 01:02:45,888]\u001b[0m Trial 57 finished with value: 0.4444444477558136 and parameters: {'n_layers': 5, 'n_units_l0': 100, 'dropout_l0': 0.2, 'n_units_l1': 50, 'dropout_l1': 0.5, 'n_units_l2': 250, 'dropout_l2': 0.30000000000000004, 'n_units_l3': 50, 'dropout_l3': 0.5, 'n_units_l4': 50, 'dropout_l4': 0.5, 'learning_rate': 0.0910312276582665, 'validation_split': 0.15}. Best is trial 0 with value: 0.4444444477558136.\u001b[0m\n"
     ]
    },
    {
     "name": "stdout",
     "output_type": "stream",
     "text": [
      "1/1 [==============================] - 0s 31ms/step - loss: 0.0000e+00 - accuracy: 0.4444\n"
     ]
    },
    {
     "name": "stderr",
     "output_type": "stream",
     "text": [
      "\u001b[32m[I 2022-05-12 01:02:47,121]\u001b[0m Trial 58 finished with value: 0.4444444477558136 and parameters: {'n_layers': 2, 'n_units_l0': 50, 'dropout_l0': 0.30000000000000004, 'n_units_l1': 100, 'dropout_l1': 0.30000000000000004, 'learning_rate': 0.05296301133753214, 'validation_split': 0.15}. Best is trial 0 with value: 0.4444444477558136.\u001b[0m\n"
     ]
    },
    {
     "name": "stdout",
     "output_type": "stream",
     "text": [
      "1/1 [==============================] - 0s 16ms/step - loss: 0.0000e+00 - accuracy: 0.4444\n"
     ]
    },
    {
     "name": "stderr",
     "output_type": "stream",
     "text": [
      "\u001b[32m[I 2022-05-12 01:02:48,104]\u001b[0m Trial 59 finished with value: 0.4444444477558136 and parameters: {'n_layers': 4, 'n_units_l0': 50, 'dropout_l0': 0.5, 'n_units_l1': 100, 'dropout_l1': 0.30000000000000004, 'n_units_l2': 150, 'dropout_l2': 0.2, 'n_units_l3': 250, 'dropout_l3': 0.4, 'learning_rate': 0.053348809821299394, 'validation_split': 0.15}. Best is trial 0 with value: 0.4444444477558136.\u001b[0m\n"
     ]
    },
    {
     "name": "stdout",
     "output_type": "stream",
     "text": [
      "1/1 [==============================] - 0s 16ms/step - loss: 0.0000e+00 - accuracy: 0.4444\n"
     ]
    },
    {
     "name": "stderr",
     "output_type": "stream",
     "text": [
      "\u001b[32m[I 2022-05-12 01:02:49,040]\u001b[0m Trial 60 finished with value: 0.4444444477558136 and parameters: {'n_layers': 4, 'n_units_l0': 200, 'dropout_l0': 0.30000000000000004, 'n_units_l1': 100, 'dropout_l1': 0.30000000000000004, 'n_units_l2': 150, 'dropout_l2': 0.2, 'n_units_l3': 200, 'dropout_l3': 0.4, 'learning_rate': 0.04291349632158584, 'validation_split': 0.3}. Best is trial 0 with value: 0.4444444477558136.\u001b[0m\n"
     ]
    },
    {
     "name": "stdout",
     "output_type": "stream",
     "text": [
      "1/1 [==============================] - 0s 31ms/step - loss: 0.0000e+00 - accuracy: 0.4444\n"
     ]
    },
    {
     "name": "stderr",
     "output_type": "stream",
     "text": [
      "\u001b[32m[I 2022-05-12 01:02:50,030]\u001b[0m Trial 61 finished with value: 0.4444444477558136 and parameters: {'n_layers': 3, 'n_units_l0': 200, 'dropout_l0': 0.30000000000000004, 'n_units_l1': 100, 'dropout_l1': 0.30000000000000004, 'n_units_l2': 150, 'dropout_l2': 0.2, 'learning_rate': 0.03812714788273828, 'validation_split': 0.3}. Best is trial 0 with value: 0.4444444477558136.\u001b[0m\n"
     ]
    },
    {
     "name": "stdout",
     "output_type": "stream",
     "text": [
      "1/1 [==============================] - 0s 31ms/step - loss: 0.0000e+00 - accuracy: 0.4444\n"
     ]
    },
    {
     "name": "stderr",
     "output_type": "stream",
     "text": [
      "\u001b[32m[I 2022-05-12 01:02:51,122]\u001b[0m Trial 62 finished with value: 0.4444444477558136 and parameters: {'n_layers': 3, 'n_units_l0': 200, 'dropout_l0': 0.30000000000000004, 'n_units_l1': 150, 'dropout_l1': 0.30000000000000004, 'n_units_l2': 150, 'dropout_l2': 0.2, 'learning_rate': 0.032747832533760686, 'validation_split': 0.3}. Best is trial 0 with value: 0.4444444477558136.\u001b[0m\n"
     ]
    },
    {
     "name": "stdout",
     "output_type": "stream",
     "text": [
      "1/1 [==============================] - 0s 36ms/step - loss: 0.0000e+00 - accuracy: 0.4444\n"
     ]
    },
    {
     "name": "stderr",
     "output_type": "stream",
     "text": [
      "\u001b[32m[I 2022-05-12 01:02:52,239]\u001b[0m Trial 63 finished with value: 0.4444444477558136 and parameters: {'n_layers': 3, 'n_units_l0': 200, 'dropout_l0': 0.30000000000000004, 'n_units_l1': 150, 'dropout_l1': 0.30000000000000004, 'n_units_l2': 100, 'dropout_l2': 0.2, 'learning_rate': 0.04462156855445104, 'validation_split': 0.3}. Best is trial 0 with value: 0.4444444477558136.\u001b[0m\n"
     ]
    },
    {
     "name": "stdout",
     "output_type": "stream",
     "text": [
      "1/1 [==============================] - 0s 27ms/step - loss: 0.0000e+00 - accuracy: 0.4444\n"
     ]
    },
    {
     "name": "stderr",
     "output_type": "stream",
     "text": [
      "\u001b[32m[I 2022-05-12 01:02:53,310]\u001b[0m Trial 64 finished with value: 0.4444444477558136 and parameters: {'n_layers': 3, 'n_units_l0': 200, 'dropout_l0': 0.30000000000000004, 'n_units_l1': 100, 'dropout_l1': 0.2, 'n_units_l2': 150, 'dropout_l2': 0.2, 'learning_rate': 0.02296344668742769, 'validation_split': 0.3}. Best is trial 0 with value: 0.4444444477558136.\u001b[0m\n"
     ]
    },
    {
     "name": "stdout",
     "output_type": "stream",
     "text": [
      "1/1 [==============================] - 0s 16ms/step - loss: 0.0000e+00 - accuracy: 0.4444\n"
     ]
    },
    {
     "name": "stderr",
     "output_type": "stream",
     "text": [
      "\u001b[32m[I 2022-05-12 01:02:54,248]\u001b[0m Trial 65 finished with value: 0.4444444477558136 and parameters: {'n_layers': 4, 'n_units_l0': 200, 'dropout_l0': 0.30000000000000004, 'n_units_l1': 150, 'dropout_l1': 0.2, 'n_units_l2': 150, 'dropout_l2': 0.2, 'n_units_l3': 200, 'dropout_l3': 0.4, 'learning_rate': 0.09865213718780878, 'validation_split': 0.3}. Best is trial 0 with value: 0.4444444477558136.\u001b[0m\n"
     ]
    },
    {
     "name": "stdout",
     "output_type": "stream",
     "text": [
      "1/1 [==============================] - 0s 31ms/step - loss: 0.0000e+00 - accuracy: 0.4444\n"
     ]
    },
    {
     "name": "stderr",
     "output_type": "stream",
     "text": [
      "\u001b[32m[I 2022-05-12 01:02:55,248]\u001b[0m Trial 66 finished with value: 0.4444444477558136 and parameters: {'n_layers': 4, 'n_units_l0': 200, 'dropout_l0': 0.30000000000000004, 'n_units_l1': 250, 'dropout_l1': 0.2, 'n_units_l2': 150, 'dropout_l2': 0.5, 'n_units_l3': 100, 'dropout_l3': 0.4, 'learning_rate': 0.04050086974386469, 'validation_split': 0.3}. Best is trial 0 with value: 0.4444444477558136.\u001b[0m\n"
     ]
    },
    {
     "name": "stdout",
     "output_type": "stream",
     "text": [
      "1/1 [==============================] - 0s 31ms/step - loss: 0.0000e+00 - accuracy: 0.4444\n"
     ]
    },
    {
     "name": "stderr",
     "output_type": "stream",
     "text": [
      "\u001b[32m[I 2022-05-12 01:02:56,786]\u001b[0m Trial 67 finished with value: 0.4444444477558136 and parameters: {'n_layers': 4, 'n_units_l0': 200, 'dropout_l0': 0.30000000000000004, 'n_units_l1': 200, 'dropout_l1': 0.2, 'n_units_l2': 100, 'dropout_l2': 0.5, 'n_units_l3': 150, 'dropout_l3': 0.4, 'learning_rate': 0.04927757667699817, 'validation_split': 0.3}. Best is trial 0 with value: 0.4444444477558136.\u001b[0m\n"
     ]
    },
    {
     "name": "stdout",
     "output_type": "stream",
     "text": [
      "1/1 [==============================] - 0s 16ms/step - loss: 0.0000e+00 - accuracy: 0.4444\n"
     ]
    },
    {
     "name": "stderr",
     "output_type": "stream",
     "text": [
      "\u001b[32m[I 2022-05-12 01:02:57,988]\u001b[0m Trial 68 finished with value: 0.4444444477558136 and parameters: {'n_layers': 3, 'n_units_l0': 150, 'dropout_l0': 0.30000000000000004, 'n_units_l1': 200, 'dropout_l1': 0.2, 'n_units_l2': 200, 'dropout_l2': 0.5, 'learning_rate': 0.07712622784391054, 'validation_split': 0.3}. Best is trial 0 with value: 0.4444444477558136.\u001b[0m\n"
     ]
    },
    {
     "name": "stdout",
     "output_type": "stream",
     "text": [
      "1/1 [==============================] - 0s 16ms/step - loss: 0.0000e+00 - accuracy: 0.4444\n"
     ]
    },
    {
     "name": "stderr",
     "output_type": "stream",
     "text": [
      "\u001b[32m[I 2022-05-12 01:02:58,863]\u001b[0m Trial 69 finished with value: 0.4444444477558136 and parameters: {'n_layers': 2, 'n_units_l0': 150, 'dropout_l0': 0.30000000000000004, 'n_units_l1': 250, 'dropout_l1': 0.2, 'learning_rate': 0.06783333228864523, 'validation_split': 0.3}. Best is trial 0 with value: 0.4444444477558136.\u001b[0m\n"
     ]
    },
    {
     "name": "stdout",
     "output_type": "stream",
     "text": [
      "1/1 [==============================] - 0s 16ms/step - loss: 0.0000e+00 - accuracy: 0.4444\n"
     ]
    },
    {
     "name": "stderr",
     "output_type": "stream",
     "text": [
      "\u001b[32m[I 2022-05-12 01:02:59,937]\u001b[0m Trial 70 finished with value: 0.4444444477558136 and parameters: {'n_layers': 5, 'n_units_l0': 150, 'dropout_l0': 0.4, 'n_units_l1': 200, 'dropout_l1': 0.2, 'n_units_l2': 200, 'dropout_l2': 0.5, 'n_units_l3': 100, 'dropout_l3': 0.30000000000000004, 'n_units_l4': 50, 'dropout_l4': 0.30000000000000004, 'learning_rate': 0.08048796998719755, 'validation_split': 0.44999999999999996}. Best is trial 0 with value: 0.4444444477558136.\u001b[0m\n"
     ]
    },
    {
     "name": "stdout",
     "output_type": "stream",
     "text": [
      "1/1 [==============================] - 0s 31ms/step - loss: 0.0000e+00 - accuracy: 0.4444\n"
     ]
    },
    {
     "name": "stderr",
     "output_type": "stream",
     "text": [
      "\u001b[32m[I 2022-05-12 01:03:01,372]\u001b[0m Trial 71 finished with value: 0.4444444477558136 and parameters: {'n_layers': 5, 'n_units_l0': 100, 'dropout_l0': 0.5, 'n_units_l1': 50, 'dropout_l1': 0.4, 'n_units_l2': 250, 'dropout_l2': 0.4, 'n_units_l3': 150, 'dropout_l3': 0.2, 'n_units_l4': 50, 'dropout_l4': 0.2, 'learning_rate': 0.08649567951895257, 'validation_split': 0.44999999999999996}. Best is trial 0 with value: 0.4444444477558136.\u001b[0m\n"
     ]
    },
    {
     "name": "stdout",
     "output_type": "stream",
     "text": [
      "1/1 [==============================] - 0s 16ms/step - loss: 0.0000e+00 - accuracy: 0.4444\n"
     ]
    },
    {
     "name": "stderr",
     "output_type": "stream",
     "text": [
      "\u001b[32m[I 2022-05-12 01:03:02,504]\u001b[0m Trial 72 finished with value: 0.4444444477558136 and parameters: {'n_layers': 3, 'n_units_l0': 100, 'dropout_l0': 0.4, 'n_units_l1': 50, 'dropout_l1': 0.4, 'n_units_l2': 250, 'dropout_l2': 0.4, 'learning_rate': 0.08658639885632029, 'validation_split': 0.15}. Best is trial 0 with value: 0.4444444477558136.\u001b[0m\n"
     ]
    },
    {
     "name": "stdout",
     "output_type": "stream",
     "text": [
      "1/1 [==============================] - 0s 16ms/step - loss: 0.0000e+00 - accuracy: 0.4444\n"
     ]
    },
    {
     "name": "stderr",
     "output_type": "stream",
     "text": [
      "\u001b[32m[I 2022-05-12 01:03:03,566]\u001b[0m Trial 73 finished with value: 0.4444444477558136 and parameters: {'n_layers': 4, 'n_units_l0': 100, 'dropout_l0': 0.5, 'n_units_l1': 50, 'dropout_l1': 0.4, 'n_units_l2': 250, 'dropout_l2': 0.4, 'n_units_l3': 150, 'dropout_l3': 0.5, 'learning_rate': 0.07095371760872338, 'validation_split': 0.15}. Best is trial 0 with value: 0.4444444477558136.\u001b[0m\n"
     ]
    },
    {
     "name": "stdout",
     "output_type": "stream",
     "text": [
      "1/1 [==============================] - 0s 16ms/step - loss: 0.0000e+00 - accuracy: 0.4444\n"
     ]
    },
    {
     "name": "stderr",
     "output_type": "stream",
     "text": [
      "\u001b[32m[I 2022-05-12 01:03:04,620]\u001b[0m Trial 74 finished with value: 0.4444444477558136 and parameters: {'n_layers': 5, 'n_units_l0': 250, 'dropout_l0': 0.4, 'n_units_l1': 50, 'dropout_l1': 0.5, 'n_units_l2': 250, 'dropout_l2': 0.30000000000000004, 'n_units_l3': 50, 'dropout_l3': 0.5, 'n_units_l4': 250, 'dropout_l4': 0.5, 'learning_rate': 0.07336823866589373, 'validation_split': 0.44999999999999996}. Best is trial 0 with value: 0.4444444477558136.\u001b[0m\n"
     ]
    },
    {
     "name": "stdout",
     "output_type": "stream",
     "text": [
      "1/1 [==============================] - 0s 31ms/step - loss: 0.0000e+00 - accuracy: 0.4444\n"
     ]
    },
    {
     "name": "stderr",
     "output_type": "stream",
     "text": [
      "\u001b[32m[I 2022-05-12 01:03:05,778]\u001b[0m Trial 75 finished with value: 0.4444444477558136 and parameters: {'n_layers': 5, 'n_units_l0': 250, 'dropout_l0': 0.4, 'n_units_l1': 50, 'dropout_l1': 0.5, 'n_units_l2': 250, 'dropout_l2': 0.30000000000000004, 'n_units_l3': 50, 'dropout_l3': 0.5, 'n_units_l4': 150, 'dropout_l4': 0.5, 'learning_rate': 0.013286745067480567, 'validation_split': 0.15}. Best is trial 0 with value: 0.4444444477558136.\u001b[0m\n"
     ]
    },
    {
     "name": "stdout",
     "output_type": "stream",
     "text": [
      "1/1 [==============================] - 0s 16ms/step - loss: 0.0000e+00 - accuracy: 0.4444\n"
     ]
    },
    {
     "name": "stderr",
     "output_type": "stream",
     "text": [
      "\u001b[32m[I 2022-05-12 01:03:07,339]\u001b[0m Trial 76 finished with value: 0.4444444477558136 and parameters: {'n_layers': 5, 'n_units_l0': 100, 'dropout_l0': 0.5, 'n_units_l1': 50, 'dropout_l1': 0.5, 'n_units_l2': 200, 'dropout_l2': 0.30000000000000004, 'n_units_l3': 50, 'dropout_l3': 0.5, 'n_units_l4': 250, 'dropout_l4': 0.5, 'learning_rate': 0.00901300452616767, 'validation_split': 0.15}. Best is trial 0 with value: 0.4444444477558136.\u001b[0m\n"
     ]
    },
    {
     "name": "stdout",
     "output_type": "stream",
     "text": [
      "1/1 [==============================] - 0s 16ms/step - loss: 0.0000e+00 - accuracy: 0.4444\n"
     ]
    },
    {
     "name": "stderr",
     "output_type": "stream",
     "text": [
      "\u001b[32m[I 2022-05-12 01:03:08,370]\u001b[0m Trial 77 finished with value: 0.4444444477558136 and parameters: {'n_layers': 5, 'n_units_l0': 250, 'dropout_l0': 0.4, 'n_units_l1': 50, 'dropout_l1': 0.5, 'n_units_l2': 200, 'dropout_l2': 0.4, 'n_units_l3': 50, 'dropout_l3': 0.5, 'n_units_l4': 250, 'dropout_l4': 0.4, 'learning_rate': 0.09573360330270982, 'validation_split': 0.44999999999999996}. Best is trial 0 with value: 0.4444444477558136.\u001b[0m\n"
     ]
    },
    {
     "name": "stdout",
     "output_type": "stream",
     "text": [
      "1/1 [==============================] - 0s 16ms/step - loss: 0.0000e+00 - accuracy: 0.4444\n"
     ]
    },
    {
     "name": "stderr",
     "output_type": "stream",
     "text": [
      "\u001b[32m[I 2022-05-12 01:03:09,373]\u001b[0m Trial 78 finished with value: 0.4444444477558136 and parameters: {'n_layers': 5, 'n_units_l0': 250, 'dropout_l0': 0.4, 'n_units_l1': 50, 'dropout_l1': 0.5, 'n_units_l2': 250, 'dropout_l2': 0.4, 'n_units_l3': 50, 'dropout_l3': 0.5, 'n_units_l4': 250, 'dropout_l4': 0.5, 'learning_rate': 0.09394007467380958, 'validation_split': 0.15}. Best is trial 0 with value: 0.4444444477558136.\u001b[0m\n"
     ]
    },
    {
     "name": "stdout",
     "output_type": "stream",
     "text": [
      "1/1 [==============================] - 0s 31ms/step - loss: 0.0000e+00 - accuracy: 0.4444\n"
     ]
    },
    {
     "name": "stderr",
     "output_type": "stream",
     "text": [
      "\u001b[32m[I 2022-05-12 01:03:10,591]\u001b[0m Trial 79 finished with value: 0.4444444477558136 and parameters: {'n_layers': 5, 'n_units_l0': 100, 'dropout_l0': 0.4, 'n_units_l1': 50, 'dropout_l1': 0.5, 'n_units_l2': 250, 'dropout_l2': 0.4, 'n_units_l3': 50, 'dropout_l3': 0.5, 'n_units_l4': 200, 'dropout_l4': 0.5, 'learning_rate': 0.08909637095445275, 'validation_split': 0.15}. Best is trial 0 with value: 0.4444444477558136.\u001b[0m\n"
     ]
    },
    {
     "name": "stdout",
     "output_type": "stream",
     "text": [
      "1/1 [==============================] - 0s 16ms/step - loss: 0.0000e+00 - accuracy: 0.4444\n"
     ]
    },
    {
     "name": "stderr",
     "output_type": "stream",
     "text": [
      "\u001b[32m[I 2022-05-12 01:03:11,943]\u001b[0m Trial 80 finished with value: 0.4444444477558136 and parameters: {'n_layers': 5, 'n_units_l0': 100, 'dropout_l0': 0.2, 'n_units_l1': 50, 'dropout_l1': 0.5, 'n_units_l2': 250, 'dropout_l2': 0.4, 'n_units_l3': 50, 'dropout_l3': 0.5, 'n_units_l4': 250, 'dropout_l4': 0.5, 'learning_rate': 0.09990692615926139, 'validation_split': 0.15}. Best is trial 0 with value: 0.4444444477558136.\u001b[0m\n"
     ]
    },
    {
     "name": "stdout",
     "output_type": "stream",
     "text": [
      "1/1 [==============================] - 0s 16ms/step - loss: 0.0000e+00 - accuracy: 0.4444\n"
     ]
    },
    {
     "name": "stderr",
     "output_type": "stream",
     "text": [
      "\u001b[32m[I 2022-05-12 01:03:13,295]\u001b[0m Trial 81 finished with value: 0.4444444477558136 and parameters: {'n_layers': 2, 'n_units_l0': 50, 'dropout_l0': 0.2, 'n_units_l1': 50, 'dropout_l1': 0.5, 'learning_rate': 0.09288311548739234, 'validation_split': 0.15}. Best is trial 0 with value: 0.4444444477558136.\u001b[0m\n"
     ]
    },
    {
     "name": "stdout",
     "output_type": "stream",
     "text": [
      "1/1 [==============================] - 0s 16ms/step - loss: 0.0000e+00 - accuracy: 0.4444\n"
     ]
    },
    {
     "name": "stderr",
     "output_type": "stream",
     "text": [
      "\u001b[32m[I 2022-05-12 01:03:14,398]\u001b[0m Trial 82 finished with value: 0.4444444477558136 and parameters: {'n_layers': 5, 'n_units_l0': 50, 'dropout_l0': 0.5, 'n_units_l1': 100, 'dropout_l1': 0.30000000000000004, 'n_units_l2': 50, 'dropout_l2': 0.4, 'n_units_l3': 250, 'dropout_l3': 0.4, 'n_units_l4': 200, 'dropout_l4': 0.5, 'learning_rate': 0.058526876116788536, 'validation_split': 0.15}. Best is trial 0 with value: 0.4444444477558136.\u001b[0m\n"
     ]
    },
    {
     "name": "stdout",
     "output_type": "stream",
     "text": [
      "1/1 [==============================] - 0s 31ms/step - loss: 0.0000e+00 - accuracy: 0.4444\n"
     ]
    },
    {
     "name": "stderr",
     "output_type": "stream",
     "text": [
      "\u001b[32m[I 2022-05-12 01:03:15,889]\u001b[0m Trial 83 finished with value: 0.4444444477558136 and parameters: {'n_layers': 5, 'n_units_l0': 50, 'dropout_l0': 0.4, 'n_units_l1': 100, 'dropout_l1': 0.5, 'n_units_l2': 250, 'dropout_l2': 0.4, 'n_units_l3': 50, 'dropout_l3': 0.4, 'n_units_l4': 250, 'dropout_l4': 0.5, 'learning_rate': 0.06135073057962623, 'validation_split': 0.15}. Best is trial 0 with value: 0.4444444477558136.\u001b[0m\n"
     ]
    },
    {
     "name": "stdout",
     "output_type": "stream",
     "text": [
      "1/1 [==============================] - 0s 31ms/step - loss: 0.0000e+00 - accuracy: 0.4444\n"
     ]
    },
    {
     "name": "stderr",
     "output_type": "stream",
     "text": [
      "\u001b[32m[I 2022-05-12 01:03:17,544]\u001b[0m Trial 84 finished with value: 0.4444444477558136 and parameters: {'n_layers': 2, 'n_units_l0': 50, 'dropout_l0': 0.5, 'n_units_l1': 100, 'dropout_l1': 0.30000000000000004, 'learning_rate': 0.053062004041986355, 'validation_split': 0.15}. Best is trial 0 with value: 0.4444444477558136.\u001b[0m\n"
     ]
    },
    {
     "name": "stdout",
     "output_type": "stream",
     "text": [
      "1/1 [==============================] - 0s 16ms/step - loss: 0.0000e+00 - accuracy: 0.4444\n"
     ]
    },
    {
     "name": "stderr",
     "output_type": "stream",
     "text": [
      "\u001b[32m[I 2022-05-12 01:03:18,810]\u001b[0m Trial 85 finished with value: 0.4444444477558136 and parameters: {'n_layers': 4, 'n_units_l0': 50, 'dropout_l0': 0.2, 'n_units_l1': 100, 'dropout_l1': 0.30000000000000004, 'n_units_l2': 150, 'dropout_l2': 0.2, 'n_units_l3': 250, 'dropout_l3': 0.4, 'learning_rate': 0.05334603226791561, 'validation_split': 0.15}. Best is trial 0 with value: 0.4444444477558136.\u001b[0m\n"
     ]
    },
    {
     "name": "stdout",
     "output_type": "stream",
     "text": [
      "1/1 [==============================] - 0s 16ms/step - loss: 0.0000e+00 - accuracy: 0.4444\n"
     ]
    },
    {
     "name": "stderr",
     "output_type": "stream",
     "text": [
      "\u001b[32m[I 2022-05-12 01:03:19,661]\u001b[0m Trial 86 finished with value: 0.4444444477558136 and parameters: {'n_layers': 2, 'n_units_l0': 50, 'dropout_l0': 0.30000000000000004, 'n_units_l1': 100, 'dropout_l1': 0.30000000000000004, 'learning_rate': 0.035881050093475746, 'validation_split': 0.15}. Best is trial 0 with value: 0.4444444477558136.\u001b[0m\n"
     ]
    },
    {
     "name": "stdout",
     "output_type": "stream",
     "text": [
      "1/1 [==============================] - 0s 31ms/step - loss: 0.0000e+00 - accuracy: 0.4444\n"
     ]
    },
    {
     "name": "stderr",
     "output_type": "stream",
     "text": [
      "\u001b[32m[I 2022-05-12 01:03:20,569]\u001b[0m Trial 87 finished with value: 0.4444444477558136 and parameters: {'n_layers': 3, 'n_units_l0': 200, 'dropout_l0': 0.30000000000000004, 'n_units_l1': 100, 'dropout_l1': 0.30000000000000004, 'n_units_l2': 150, 'dropout_l2': 0.2, 'learning_rate': 0.03403833406125026, 'validation_split': 0.3}. Best is trial 0 with value: 0.4444444477558136.\u001b[0m\n"
     ]
    },
    {
     "name": "stdout",
     "output_type": "stream",
     "text": [
      "1/1 [==============================] - 0s 31ms/step - loss: 0.0000e+00 - accuracy: 0.4444\n"
     ]
    },
    {
     "name": "stderr",
     "output_type": "stream",
     "text": [
      "\u001b[32m[I 2022-05-12 01:03:21,659]\u001b[0m Trial 88 finished with value: 0.4444444477558136 and parameters: {'n_layers': 3, 'n_units_l0': 200, 'dropout_l0': 0.30000000000000004, 'n_units_l1': 150, 'dropout_l1': 0.30000000000000004, 'n_units_l2': 100, 'dropout_l2': 0.2, 'learning_rate': 0.045232820585387, 'validation_split': 0.3}. Best is trial 0 with value: 0.4444444477558136.\u001b[0m\n"
     ]
    },
    {
     "name": "stdout",
     "output_type": "stream",
     "text": [
      "1/1 [==============================] - 0s 16ms/step - loss: 0.0000e+00 - accuracy: 0.4444\n"
     ]
    },
    {
     "name": "stderr",
     "output_type": "stream",
     "text": [
      "\u001b[32m[I 2022-05-12 01:03:22,698]\u001b[0m Trial 89 finished with value: 0.4444444477558136 and parameters: {'n_layers': 3, 'n_units_l0': 200, 'dropout_l0': 0.30000000000000004, 'n_units_l1': 150, 'dropout_l1': 0.30000000000000004, 'n_units_l2': 100, 'dropout_l2': 0.2, 'learning_rate': 0.04206051492352469, 'validation_split': 0.3}. Best is trial 0 with value: 0.4444444477558136.\u001b[0m\n"
     ]
    },
    {
     "name": "stdout",
     "output_type": "stream",
     "text": [
      "1/1 [==============================] - 0s 16ms/step - loss: 0.0000e+00 - accuracy: 0.4444\n"
     ]
    },
    {
     "name": "stderr",
     "output_type": "stream",
     "text": [
      "\u001b[32m[I 2022-05-12 01:03:23,889]\u001b[0m Trial 90 finished with value: 0.4444444477558136 and parameters: {'n_layers': 3, 'n_units_l0': 200, 'dropout_l0': 0.30000000000000004, 'n_units_l1': 150, 'dropout_l1': 0.30000000000000004, 'n_units_l2': 150, 'dropout_l2': 0.2, 'learning_rate': 0.024916546850398368, 'validation_split': 0.3}. Best is trial 0 with value: 0.4444444477558136.\u001b[0m\n"
     ]
    },
    {
     "name": "stdout",
     "output_type": "stream",
     "text": [
      "1/1 [==============================] - 0s 31ms/step - loss: 0.0000e+00 - accuracy: 0.4444\n"
     ]
    },
    {
     "name": "stderr",
     "output_type": "stream",
     "text": [
      "\u001b[32m[I 2022-05-12 01:03:24,864]\u001b[0m Trial 91 finished with value: 0.4444444477558136 and parameters: {'n_layers': 3, 'n_units_l0': 200, 'dropout_l0': 0.30000000000000004, 'n_units_l1': 150, 'dropout_l1': 0.30000000000000004, 'n_units_l2': 150, 'dropout_l2': 0.2, 'learning_rate': 0.03163409369990462, 'validation_split': 0.3}. Best is trial 0 with value: 0.4444444477558136.\u001b[0m\n"
     ]
    },
    {
     "name": "stdout",
     "output_type": "stream",
     "text": [
      "1/1 [==============================] - 0s 16ms/step - loss: 0.0000e+00 - accuracy: 0.4444\n"
     ]
    },
    {
     "name": "stderr",
     "output_type": "stream",
     "text": [
      "\u001b[32m[I 2022-05-12 01:03:25,766]\u001b[0m Trial 92 finished with value: 0.4444444477558136 and parameters: {'n_layers': 3, 'n_units_l0': 200, 'dropout_l0': 0.30000000000000004, 'n_units_l1': 150, 'dropout_l1': 0.30000000000000004, 'n_units_l2': 150, 'dropout_l2': 0.2, 'learning_rate': 0.03891016770123611, 'validation_split': 0.3}. Best is trial 0 with value: 0.4444444477558136.\u001b[0m\n"
     ]
    },
    {
     "name": "stdout",
     "output_type": "stream",
     "text": [
      "1/1 [==============================] - 0s 16ms/step - loss: 0.0000e+00 - accuracy: 0.4444\n"
     ]
    },
    {
     "name": "stderr",
     "output_type": "stream",
     "text": [
      "\u001b[32m[I 2022-05-12 01:03:26,668]\u001b[0m Trial 93 finished with value: 0.4444444477558136 and parameters: {'n_layers': 4, 'n_units_l0': 200, 'dropout_l0': 0.30000000000000004, 'n_units_l1': 150, 'dropout_l1': 0.30000000000000004, 'n_units_l2': 150, 'dropout_l2': 0.2, 'n_units_l3': 200, 'dropout_l3': 0.4, 'learning_rate': 0.04605192417584437, 'validation_split': 0.3}. Best is trial 0 with value: 0.4444444477558136.\u001b[0m\n"
     ]
    },
    {
     "name": "stdout",
     "output_type": "stream",
     "text": [
      "1/1 [==============================] - 0s 34ms/step - loss: 0.0000e+00 - accuracy: 0.4444\n"
     ]
    },
    {
     "name": "stderr",
     "output_type": "stream",
     "text": [
      "\u001b[32m[I 2022-05-12 01:03:27,768]\u001b[0m Trial 94 finished with value: 0.4444444477558136 and parameters: {'n_layers': 4, 'n_units_l0': 200, 'dropout_l0': 0.30000000000000004, 'n_units_l1': 200, 'dropout_l1': 0.2, 'n_units_l2': 100, 'dropout_l2': 0.2, 'n_units_l3': 200, 'dropout_l3': 0.4, 'learning_rate': 0.048688721509915586, 'validation_split': 0.3}. Best is trial 0 with value: 0.4444444477558136.\u001b[0m\n"
     ]
    },
    {
     "name": "stdout",
     "output_type": "stream",
     "text": [
      "1/1 [==============================] - 0s 11ms/step - loss: 0.0000e+00 - accuracy: 0.4444\n"
     ]
    },
    {
     "name": "stderr",
     "output_type": "stream",
     "text": [
      "\u001b[32m[I 2022-05-12 01:03:28,864]\u001b[0m Trial 95 finished with value: 0.4444444477558136 and parameters: {'n_layers': 3, 'n_units_l0': 200, 'dropout_l0': 0.30000000000000004, 'n_units_l1': 200, 'dropout_l1': 0.2, 'n_units_l2': 100, 'dropout_l2': 0.2, 'learning_rate': 0.039248200492543926, 'validation_split': 0.3}. Best is trial 0 with value: 0.4444444477558136.\u001b[0m\n"
     ]
    },
    {
     "name": "stdout",
     "output_type": "stream",
     "text": [
      "1/1 [==============================] - 0s 31ms/step - loss: 0.0000e+00 - accuracy: 0.4444\n"
     ]
    },
    {
     "name": "stderr",
     "output_type": "stream",
     "text": [
      "\u001b[32m[I 2022-05-12 01:03:29,994]\u001b[0m Trial 96 finished with value: 0.4444444477558136 and parameters: {'n_layers': 3, 'n_units_l0': 200, 'dropout_l0': 0.30000000000000004, 'n_units_l1': 250, 'dropout_l1': 0.2, 'n_units_l2': 100, 'dropout_l2': 0.5, 'learning_rate': 0.023325510218202845, 'validation_split': 0.3}. Best is trial 0 with value: 0.4444444477558136.\u001b[0m\n"
     ]
    },
    {
     "name": "stdout",
     "output_type": "stream",
     "text": [
      "1/1 [==============================] - 0s 16ms/step - loss: 0.0000e+00 - accuracy: 0.4444\n"
     ]
    },
    {
     "name": "stderr",
     "output_type": "stream",
     "text": [
      "\u001b[32m[I 2022-05-12 01:03:30,912]\u001b[0m Trial 97 finished with value: 0.4444444477558136 and parameters: {'n_layers': 3, 'n_units_l0': 200, 'dropout_l0': 0.30000000000000004, 'n_units_l1': 250, 'dropout_l1': 0.2, 'n_units_l2': 150, 'dropout_l2': 0.5, 'learning_rate': 0.020142160286462048, 'validation_split': 0.3}. Best is trial 0 with value: 0.4444444477558136.\u001b[0m\n"
     ]
    },
    {
     "name": "stdout",
     "output_type": "stream",
     "text": [
      "1/1 [==============================] - 0s 16ms/step - loss: 0.0000e+00 - accuracy: 0.4444\n"
     ]
    },
    {
     "name": "stderr",
     "output_type": "stream",
     "text": [
      "\u001b[32m[I 2022-05-12 01:03:31,774]\u001b[0m Trial 98 finished with value: 0.4444444477558136 and parameters: {'n_layers': 3, 'n_units_l0': 150, 'dropout_l0': 0.30000000000000004, 'n_units_l1': 250, 'dropout_l1': 0.2, 'n_units_l2': 100, 'dropout_l2': 0.5, 'learning_rate': 0.06594334524363396, 'validation_split': 0.3}. Best is trial 0 with value: 0.4444444477558136.\u001b[0m\n"
     ]
    },
    {
     "name": "stdout",
     "output_type": "stream",
     "text": [
      "1/1 [==============================] - 0s 31ms/step - loss: 0.0000e+00 - accuracy: 0.4444\n"
     ]
    },
    {
     "name": "stderr",
     "output_type": "stream",
     "text": [
      "\u001b[32m[I 2022-05-12 01:03:32,887]\u001b[0m Trial 99 finished with value: 0.4444444477558136 and parameters: {'n_layers': 4, 'n_units_l0': 150, 'dropout_l0': 0.30000000000000004, 'n_units_l1': 200, 'dropout_l1': 0.2, 'n_units_l2': 50, 'dropout_l2': 0.5, 'n_units_l3': 150, 'dropout_l3': 0.2, 'learning_rate': 0.07800848136567547, 'validation_split': 0.3}. Best is trial 0 with value: 0.4444444477558136.\u001b[0m\n"
     ]
    }
   ],
   "source": [
    "# Creamos un objeto \"study\" y buscamos la optimización de la función objetivo.\n",
    "study = optuna.create_study(direction='maximize')\n",
    "study.optimize(objectiveAdam, n_trials=100)"
   ]
  },
  {
   "cell_type": "code",
   "execution_count": 9,
   "metadata": {},
   "outputs": [
    {
     "data": {
      "text/plain": [
       "FrozenTrial(number=0, values=[0.4444444477558136], datetime_start=datetime.datetime(2022, 5, 12, 1, 1, 33, 35294), datetime_complete=datetime.datetime(2022, 5, 12, 1, 1, 39, 752687), params={'n_layers': 5, 'n_units_l0': 100, 'dropout_l0': 0.4, 'n_units_l1': 50, 'dropout_l1': 0.30000000000000004, 'n_units_l2': 250, 'dropout_l2': 0.2, 'n_units_l3': 50, 'dropout_l3': 0.4, 'n_units_l4': 100, 'dropout_l4': 0.30000000000000004, 'learning_rate': 0.07423315269609335, 'validation_split': 0.44999999999999996}, distributions={'n_layers': IntUniformDistribution(high=5, low=2, step=1), 'n_units_l0': IntUniformDistribution(high=250, low=50, step=50), 'dropout_l0': DiscreteUniformDistribution(high=0.5, low=0.2, q=0.1), 'n_units_l1': IntUniformDistribution(high=250, low=50, step=50), 'dropout_l1': DiscreteUniformDistribution(high=0.5, low=0.2, q=0.1), 'n_units_l2': IntUniformDistribution(high=250, low=50, step=50), 'dropout_l2': DiscreteUniformDistribution(high=0.5, low=0.2, q=0.1), 'n_units_l3': IntUniformDistribution(high=250, low=50, step=50), 'dropout_l3': DiscreteUniformDistribution(high=0.5, low=0.2, q=0.1), 'n_units_l4': IntUniformDistribution(high=250, low=50, step=50), 'dropout_l4': DiscreteUniformDistribution(high=0.5, low=0.2, q=0.1), 'learning_rate': UniformDistribution(high=0.1, low=1e-05), 'validation_split': DiscreteUniformDistribution(high=0.45, low=0.15, q=0.15)}, user_attrs={}, system_attrs={}, intermediate_values={}, trial_id=0, state=TrialState.COMPLETE, value=None)"
      ]
     },
     "execution_count": 9,
     "metadata": {},
     "output_type": "execute_result"
    }
   ],
   "source": [
    "study.best_trial"
   ]
  },
  {
   "cell_type": "markdown",
   "metadata": {},
   "source": [
    "La red con los parámetros optimizados es la siguiente:"
   ]
  },
  {
   "cell_type": "code",
   "execution_count": 21,
   "metadata": {},
   "outputs": [
    {
     "name": "stdout",
     "output_type": "stream",
     "text": [
      "Epoch 1/100\n",
      "2/2 [==============================] - 1s 223ms/step - loss: 1.3990 - acc: 0.4324 - val_loss: 37.7781 - val_acc: 0.4516\n",
      "Epoch 2/100\n",
      "2/2 [==============================] - 0s 35ms/step - loss: 41.1340 - acc: 0.5135 - val_loss: 6.1151 - val_acc: 0.5484\n",
      "Epoch 3/100\n",
      "2/2 [==============================] - 0s 32ms/step - loss: 13.6418 - acc: 0.5676 - val_loss: 0.7583 - val_acc: 0.5806\n",
      "Epoch 4/100\n",
      "2/2 [==============================] - 0s 33ms/step - loss: 2.6072 - acc: 0.5676 - val_loss: 0.8036 - val_acc: 0.4516\n",
      "Epoch 5/100\n",
      "2/2 [==============================] - 0s 27ms/step - loss: 1.6176 - acc: 0.4324 - val_loss: 0.7148 - val_acc: 0.4516\n",
      "Epoch 6/100\n",
      "2/2 [==============================] - 0s 31ms/step - loss: 1.7469 - acc: 0.5135 - val_loss: 0.7046 - val_acc: 0.4839\n",
      "Epoch 7/100\n",
      "2/2 [==============================] - 0s 29ms/step - loss: 1.4086 - acc: 0.5405 - val_loss: 0.9438 - val_acc: 0.4516\n",
      "Epoch 8/100\n",
      "2/2 [==============================] - 0s 41ms/step - loss: 1.3965 - acc: 0.5946 - val_loss: 0.7141 - val_acc: 0.4516\n",
      "1/1 [==============================] - 0s 34ms/step - loss: 0.6792 - acc: 0.6111\n",
      "Accuracy: 61.11%\n"
     ]
    }
   ],
   "source": [
    "# Definir y entrenar el modelo\n",
    "modelFC_optuna_Adam = models.Sequential()\n",
    "modelFC_optuna_Adam.add(layers.Dense(100, activation=\"relu\", input_shape=(410,)))\n",
    "modelFC_optuna_Adam.add(layers.Dropout(0.4))\n",
    "modelFC_optuna_Adam.add(layers.Dense(50, activation=\"relu\"))\n",
    "modelFC_optuna_Adam.add(layers.Dropout(0.3))\n",
    "modelFC_optuna_Adam.add(layers.Dense(250, activation=\"relu\"))\n",
    "modelFC_optuna_Adam.add(layers.Dropout(0.2))\n",
    "modelFC_optuna_Adam.add(layers.Dense(50, activation=\"relu\"))\n",
    "modelFC_optuna_Adam.add(layers.Dropout(0.4))\n",
    "modelFC_optuna_Adam.add(layers.Dense(100, activation=\"relu\"))\n",
    "modelFC_optuna_Adam.add(layers.Dropout(0.3))\n",
    "modelFC_optuna_Adam.add(layers.Dense(1, activation=\"sigmoid\"))\n",
    "\n",
    "optimizer = tf.keras.optimizers.Adam(learning_rate=0.0742)\n",
    "modelFC_optuna_Adam.compile(loss=\"binary_crossentropy\", optimizer=optimizer, metrics=[\"acc\"])\n",
    "es = callbacks.EarlyStopping(monitor='val_acc', min_delta=0.01, patience=5)\n",
    "modelFC_optuna_Adam.fit(X_train, y_train, epochs=100, validation_split=0.45, callbacks=[es])\n",
    "\n",
    "# Precisión en partición de test\n",
    "loss, accuracy = modelFC_optuna_Adam.evaluate(X_test, y_test)\n",
    "print(\"Accuracy: {:0.2f}%\".format(accuracy * 100))\n",
    "\n",
    "# LOS RESULTADOS VARÍAN MUCHO ENTRE EJECUCIÓN Y EJECUCIÓN (44% - 61%)"
   ]
  },
  {
   "cell_type": "markdown",
   "metadata": {},
   "source": [
    "Veamos si podemos obtener mejores resultados cambiando la última capa con activación sigmoide por una activación softmax:"
   ]
  },
  {
   "cell_type": "code",
   "execution_count": 20,
   "metadata": {},
   "outputs": [],
   "source": [
    "from keras.utils import np_utils\n",
    "from sklearn.preprocessing import LabelEncoder\n",
    "\n",
    "NUM_CLASSES = 2\n",
    "y_train_softmax = np_utils.to_categorical(y_train, NUM_CLASSES)\n",
    "y_test_softmax = np_utils.to_categorical(y_test, NUM_CLASSES)"
   ]
  },
  {
   "cell_type": "code",
   "execution_count": 19,
   "metadata": {},
   "outputs": [],
   "source": [
    "def objectiveAdam2(trial):\n",
    "    modelFC_optuna_Adam = models.Sequential()\n",
    "\n",
    "    n_layers = trial.suggest_int(\"n_layers\", 2, 5, 1)\n",
    "    for i in range(n_layers):\n",
    "        num_hidden = trial.suggest_int(\"n_units_l{}\".format(i), 50, 250, 50)\n",
    "        modelFC_optuna_Adam.add(layers.Dense(num_hidden, activation=\"relu\"))\n",
    "        dropout = trial.suggest_float(\"dropout_l{}\".format(i), 0.2, 0.5, step=0.1)\n",
    "        modelFC_optuna_Adam.add(layers.Dropout(rate=dropout))\n",
    "    modelFC_optuna_Adam.add(layers.Dense(2, activation=\"softmax\"))\n",
    "\n",
    "    learning_rate = trial.suggest_float(\"learning_rate\", 1e-5, 1e-1)\n",
    "    modelFC_optuna_Adam.compile(\n",
    "        loss=\"categorical_crossentropy\",\n",
    "        optimizer=tf.keras.optimizers.Adam(learning_rate=learning_rate),\n",
    "        metrics=[\"accuracy\"],\n",
    "    )\n",
    "    \n",
    "    es = callbacks.EarlyStopping(monitor=\"val_accuracy\", min_delta=0.01, patience=5)\n",
    "    validation_split = trial.suggest_float(\"validation_split\", 0.15, 0.45, step=0.15)\n",
    "    modelFC_optuna_Adam.fit(X_train, y_train_softmax, callbacks=[es], epochs=100, validation_split=validation_split, verbose=0)\n",
    "\n",
    "    loss, accuracy = modelFC_optuna_Adam.evaluate(X_test, y_test_softmax)\n",
    "    return accuracy"
   ]
  },
  {
   "cell_type": "code",
   "execution_count": 20,
   "metadata": {
    "scrolled": true
   },
   "outputs": [
    {
     "name": "stderr",
     "output_type": "stream",
     "text": [
      "\u001b[32m[I 2022-05-12 10:05:29,753]\u001b[0m A new study created in memory with name: no-name-f522b225-b4b1-4358-b8cf-aef8d5cfc65e\u001b[0m\n"
     ]
    },
    {
     "name": "stdout",
     "output_type": "stream",
     "text": [
      "1/1 [==============================] - 0s 16ms/step - loss: 2.6812 - accuracy: 0.7222\n"
     ]
    },
    {
     "name": "stderr",
     "output_type": "stream",
     "text": [
      "\u001b[32m[I 2022-05-12 10:05:31,024]\u001b[0m Trial 0 finished with value: 0.7222222089767456 and parameters: {'n_layers': 2, 'n_units_l0': 150, 'dropout_l0': 0.2, 'n_units_l1': 250, 'dropout_l1': 0.2, 'learning_rate': 0.045399162151809995, 'validation_split': 0.3}. Best is trial 0 with value: 0.7222222089767456.\u001b[0m\n"
     ]
    },
    {
     "name": "stdout",
     "output_type": "stream",
     "text": [
      "1/1 [==============================] - 0s 16ms/step - loss: 0.6309 - accuracy: 0.5556\n"
     ]
    },
    {
     "name": "stderr",
     "output_type": "stream",
     "text": [
      "\u001b[32m[I 2022-05-12 10:05:32,324]\u001b[0m Trial 1 finished with value: 0.5555555820465088 and parameters: {'n_layers': 5, 'n_units_l0': 150, 'dropout_l0': 0.2, 'n_units_l1': 200, 'dropout_l1': 0.4, 'n_units_l2': 200, 'dropout_l2': 0.5, 'n_units_l3': 50, 'dropout_l3': 0.30000000000000004, 'n_units_l4': 50, 'dropout_l4': 0.2, 'learning_rate': 0.06989368751283093, 'validation_split': 0.3}. Best is trial 0 with value: 0.7222222089767456.\u001b[0m\n"
     ]
    },
    {
     "name": "stdout",
     "output_type": "stream",
     "text": [
      "1/1 [==============================] - 0s 46ms/step - loss: 0.6548 - accuracy: 0.5556\n"
     ]
    },
    {
     "name": "stderr",
     "output_type": "stream",
     "text": [
      "\u001b[32m[I 2022-05-12 10:05:33,640]\u001b[0m Trial 2 finished with value: 0.5555555820465088 and parameters: {'n_layers': 3, 'n_units_l0': 200, 'dropout_l0': 0.5, 'n_units_l1': 200, 'dropout_l1': 0.4, 'n_units_l2': 50, 'dropout_l2': 0.30000000000000004, 'learning_rate': 0.035017233518440334, 'validation_split': 0.15}. Best is trial 0 with value: 0.7222222089767456.\u001b[0m\n"
     ]
    },
    {
     "name": "stdout",
     "output_type": "stream",
     "text": [
      "1/1 [==============================] - 0s 31ms/step - loss: 0.6732 - accuracy: 0.4444\n"
     ]
    },
    {
     "name": "stderr",
     "output_type": "stream",
     "text": [
      "\u001b[32m[I 2022-05-12 10:05:34,998]\u001b[0m Trial 3 finished with value: 0.4444444477558136 and parameters: {'n_layers': 5, 'n_units_l0': 200, 'dropout_l0': 0.5, 'n_units_l1': 150, 'dropout_l1': 0.4, 'n_units_l2': 100, 'dropout_l2': 0.5, 'n_units_l3': 150, 'dropout_l3': 0.4, 'n_units_l4': 100, 'dropout_l4': 0.2, 'learning_rate': 0.03931321788511764, 'validation_split': 0.3}. Best is trial 0 with value: 0.7222222089767456.\u001b[0m\n"
     ]
    },
    {
     "name": "stdout",
     "output_type": "stream",
     "text": [
      "1/1 [==============================] - 0s 16ms/step - loss: 0.5130 - accuracy: 0.7222\n"
     ]
    },
    {
     "name": "stderr",
     "output_type": "stream",
     "text": [
      "\u001b[32m[I 2022-05-12 10:05:36,215]\u001b[0m Trial 4 finished with value: 0.7222222089767456 and parameters: {'n_layers': 5, 'n_units_l0': 200, 'dropout_l0': 0.30000000000000004, 'n_units_l1': 150, 'dropout_l1': 0.2, 'n_units_l2': 250, 'dropout_l2': 0.4, 'n_units_l3': 50, 'dropout_l3': 0.30000000000000004, 'n_units_l4': 250, 'dropout_l4': 0.4, 'learning_rate': 0.004645895547883961, 'validation_split': 0.15}. Best is trial 0 with value: 0.7222222089767456.\u001b[0m\n"
     ]
    },
    {
     "name": "stdout",
     "output_type": "stream",
     "text": [
      "1/1 [==============================] - 0s 40ms/step - loss: 0.7439 - accuracy: 0.4444\n"
     ]
    },
    {
     "name": "stderr",
     "output_type": "stream",
     "text": [
      "\u001b[32m[I 2022-05-12 10:05:37,682]\u001b[0m Trial 5 finished with value: 0.4444444477558136 and parameters: {'n_layers': 4, 'n_units_l0': 250, 'dropout_l0': 0.5, 'n_units_l1': 50, 'dropout_l1': 0.30000000000000004, 'n_units_l2': 200, 'dropout_l2': 0.5, 'n_units_l3': 250, 'dropout_l3': 0.5, 'learning_rate': 0.0424481829011272, 'validation_split': 0.15}. Best is trial 0 with value: 0.7222222089767456.\u001b[0m\n"
     ]
    },
    {
     "name": "stdout",
     "output_type": "stream",
     "text": [
      "1/1 [==============================] - 0s 31ms/step - loss: 0.6511 - accuracy: 0.6111\n"
     ]
    },
    {
     "name": "stderr",
     "output_type": "stream",
     "text": [
      "\u001b[32m[I 2022-05-12 10:05:39,287]\u001b[0m Trial 6 finished with value: 0.6111111044883728 and parameters: {'n_layers': 5, 'n_units_l0': 250, 'dropout_l0': 0.30000000000000004, 'n_units_l1': 200, 'dropout_l1': 0.5, 'n_units_l2': 50, 'dropout_l2': 0.5, 'n_units_l3': 150, 'dropout_l3': 0.5, 'n_units_l4': 200, 'dropout_l4': 0.2, 'learning_rate': 0.03181084669064096, 'validation_split': 0.3}. Best is trial 0 with value: 0.7222222089767456.\u001b[0m\n"
     ]
    },
    {
     "name": "stdout",
     "output_type": "stream",
     "text": [
      "1/1 [==============================] - 0s 16ms/step - loss: 0.6730 - accuracy: 0.5000\n"
     ]
    },
    {
     "name": "stderr",
     "output_type": "stream",
     "text": [
      "\u001b[32m[I 2022-05-12 10:05:40,390]\u001b[0m Trial 7 finished with value: 0.5 and parameters: {'n_layers': 4, 'n_units_l0': 100, 'dropout_l0': 0.2, 'n_units_l1': 50, 'dropout_l1': 0.4, 'n_units_l2': 100, 'dropout_l2': 0.5, 'n_units_l3': 50, 'dropout_l3': 0.2, 'learning_rate': 0.06606747001403264, 'validation_split': 0.15}. Best is trial 0 with value: 0.7222222089767456.\u001b[0m\n"
     ]
    },
    {
     "name": "stdout",
     "output_type": "stream",
     "text": [
      "1/1 [==============================] - 0s 16ms/step - loss: 2.6024 - accuracy: 0.7778\n"
     ]
    },
    {
     "name": "stderr",
     "output_type": "stream",
     "text": [
      "\u001b[32m[I 2022-05-12 10:05:41,841]\u001b[0m Trial 8 finished with value: 0.7777777910232544 and parameters: {'n_layers': 4, 'n_units_l0': 200, 'dropout_l0': 0.2, 'n_units_l1': 250, 'dropout_l1': 0.5, 'n_units_l2': 50, 'dropout_l2': 0.5, 'n_units_l3': 250, 'dropout_l3': 0.2, 'learning_rate': 0.06059690199045966, 'validation_split': 0.3}. Best is trial 8 with value: 0.7777777910232544.\u001b[0m\n"
     ]
    },
    {
     "name": "stdout",
     "output_type": "stream",
     "text": [
      "1/1 [==============================] - 0s 28ms/step - loss: 0.6979 - accuracy: 0.4444\n"
     ]
    },
    {
     "name": "stderr",
     "output_type": "stream",
     "text": [
      "\u001b[32m[I 2022-05-12 10:05:43,270]\u001b[0m Trial 9 finished with value: 0.4444444477558136 and parameters: {'n_layers': 4, 'n_units_l0': 50, 'dropout_l0': 0.30000000000000004, 'n_units_l1': 50, 'dropout_l1': 0.2, 'n_units_l2': 200, 'dropout_l2': 0.30000000000000004, 'n_units_l3': 50, 'dropout_l3': 0.2, 'learning_rate': 0.04540404330701472, 'validation_split': 0.15}. Best is trial 8 with value: 0.7777777910232544.\u001b[0m\n"
     ]
    },
    {
     "name": "stdout",
     "output_type": "stream",
     "text": [
      "1/1 [==============================] - 0s 16ms/step - loss: 1.1822 - accuracy: 0.3889\n"
     ]
    },
    {
     "name": "stderr",
     "output_type": "stream",
     "text": [
      "\u001b[32m[I 2022-05-12 10:05:44,381]\u001b[0m Trial 10 finished with value: 0.3888888955116272 and parameters: {'n_layers': 3, 'n_units_l0': 100, 'dropout_l0': 0.4, 'n_units_l1': 250, 'dropout_l1': 0.5, 'n_units_l2': 100, 'dropout_l2': 0.2, 'learning_rate': 0.09373928771403124, 'validation_split': 0.44999999999999996}. Best is trial 8 with value: 0.7777777910232544.\u001b[0m\n"
     ]
    },
    {
     "name": "stdout",
     "output_type": "stream",
     "text": [
      "1/1 [==============================] - 0s 16ms/step - loss: 3.9561 - accuracy: 0.6667\n"
     ]
    },
    {
     "name": "stderr",
     "output_type": "stream",
     "text": [
      "\u001b[32m[I 2022-05-12 10:05:45,435]\u001b[0m Trial 11 finished with value: 0.6666666865348816 and parameters: {'n_layers': 2, 'n_units_l0': 150, 'dropout_l0': 0.2, 'n_units_l1': 250, 'dropout_l1': 0.30000000000000004, 'learning_rate': 0.06950698653805136, 'validation_split': 0.44999999999999996}. Best is trial 8 with value: 0.7777777910232544.\u001b[0m\n"
     ]
    },
    {
     "name": "stdout",
     "output_type": "stream",
     "text": [
      "1/1 [==============================] - 0s 31ms/step - loss: 1.7196 - accuracy: 0.7222\n"
     ]
    },
    {
     "name": "stderr",
     "output_type": "stream",
     "text": [
      "\u001b[32m[I 2022-05-12 10:05:46,862]\u001b[0m Trial 12 finished with value: 0.7222222089767456 and parameters: {'n_layers': 2, 'n_units_l0': 150, 'dropout_l0': 0.2, 'n_units_l1': 250, 'dropout_l1': 0.2, 'learning_rate': 0.011548062972043867, 'validation_split': 0.3}. Best is trial 8 with value: 0.7777777910232544.\u001b[0m\n"
     ]
    },
    {
     "name": "stdout",
     "output_type": "stream",
     "text": [
      "1/1 [==============================] - 0s 16ms/step - loss: 0.9025 - accuracy: 0.7222\n"
     ]
    },
    {
     "name": "stderr",
     "output_type": "stream",
     "text": [
      "\u001b[32m[I 2022-05-12 10:05:47,912]\u001b[0m Trial 13 finished with value: 0.7222222089767456 and parameters: {'n_layers': 3, 'n_units_l0': 100, 'dropout_l0': 0.4, 'n_units_l1': 200, 'dropout_l1': 0.30000000000000004, 'n_units_l2': 150, 'dropout_l2': 0.4, 'learning_rate': 0.059106089081644234, 'validation_split': 0.44999999999999996}. Best is trial 8 with value: 0.7777777910232544.\u001b[0m\n"
     ]
    },
    {
     "name": "stdout",
     "output_type": "stream",
     "text": [
      "1/1 [==============================] - 0s 16ms/step - loss: 7.8884 - accuracy: 0.8333\n"
     ]
    },
    {
     "name": "stderr",
     "output_type": "stream",
     "text": [
      "\u001b[32m[I 2022-05-12 10:05:48,893]\u001b[0m Trial 14 finished with value: 0.8333333134651184 and parameters: {'n_layers': 2, 'n_units_l0': 200, 'dropout_l0': 0.30000000000000004, 'n_units_l1': 100, 'dropout_l1': 0.5, 'learning_rate': 0.09552242942606612, 'validation_split': 0.3}. Best is trial 14 with value: 0.8333333134651184.\u001b[0m\n"
     ]
    },
    {
     "name": "stdout",
     "output_type": "stream",
     "text": [
      "1/1 [==============================] - 0s 31ms/step - loss: 1.3546 - accuracy: 0.6111\n"
     ]
    },
    {
     "name": "stderr",
     "output_type": "stream",
     "text": [
      "\u001b[32m[I 2022-05-12 10:05:49,953]\u001b[0m Trial 15 finished with value: 0.6111111044883728 and parameters: {'n_layers': 3, 'n_units_l0': 200, 'dropout_l0': 0.30000000000000004, 'n_units_l1': 100, 'dropout_l1': 0.5, 'n_units_l2': 50, 'dropout_l2': 0.4, 'learning_rate': 0.0973130758261596, 'validation_split': 0.3}. Best is trial 14 with value: 0.8333333134651184.\u001b[0m\n"
     ]
    },
    {
     "name": "stdout",
     "output_type": "stream",
     "text": [
      "1/1 [==============================] - 0s 24ms/step - loss: 13.8721 - accuracy: 0.6111\n"
     ]
    },
    {
     "name": "stderr",
     "output_type": "stream",
     "text": [
      "\u001b[32m[I 2022-05-12 10:05:51,896]\u001b[0m Trial 16 finished with value: 0.6111111044883728 and parameters: {'n_layers': 4, 'n_units_l0': 250, 'dropout_l0': 0.4, 'n_units_l1': 100, 'dropout_l1': 0.5, 'n_units_l2': 150, 'dropout_l2': 0.2, 'n_units_l3': 250, 'dropout_l3': 0.2, 'learning_rate': 0.08465213519091154, 'validation_split': 0.44999999999999996}. Best is trial 14 with value: 0.8333333134651184.\u001b[0m\n"
     ]
    },
    {
     "name": "stdout",
     "output_type": "stream",
     "text": [
      "1/1 [==============================] - 0s 16ms/step - loss: 3.3701 - accuracy: 0.7222\n"
     ]
    },
    {
     "name": "stderr",
     "output_type": "stream",
     "text": [
      "\u001b[32m[I 2022-05-12 10:05:53,196]\u001b[0m Trial 17 finished with value: 0.7222222089767456 and parameters: {'n_layers': 2, 'n_units_l0': 200, 'dropout_l0': 0.30000000000000004, 'n_units_l1': 100, 'dropout_l1': 0.5, 'learning_rate': 0.08162269352623967, 'validation_split': 0.3}. Best is trial 14 with value: 0.8333333134651184.\u001b[0m\n"
     ]
    },
    {
     "name": "stdout",
     "output_type": "stream",
     "text": [
      "1/1 [==============================] - 0s 16ms/step - loss: 0.6596 - accuracy: 0.6111\n"
     ]
    },
    {
     "name": "stderr",
     "output_type": "stream",
     "text": [
      "\u001b[32m[I 2022-05-12 10:05:54,212]\u001b[0m Trial 18 finished with value: 0.6111111044883728 and parameters: {'n_layers': 3, 'n_units_l0': 250, 'dropout_l0': 0.2, 'n_units_l1': 100, 'dropout_l1': 0.5, 'n_units_l2': 100, 'dropout_l2': 0.30000000000000004, 'learning_rate': 0.024219518277630317, 'validation_split': 0.44999999999999996}. Best is trial 14 with value: 0.8333333134651184.\u001b[0m\n"
     ]
    },
    {
     "name": "stdout",
     "output_type": "stream",
     "text": [
      "1/1 [==============================] - 0s 16ms/step - loss: 3.4612 - accuracy: 0.7222\n"
     ]
    },
    {
     "name": "stderr",
     "output_type": "stream",
     "text": [
      "\u001b[32m[I 2022-05-12 10:05:55,378]\u001b[0m Trial 19 finished with value: 0.7222222089767456 and parameters: {'n_layers': 4, 'n_units_l0': 200, 'dropout_l0': 0.30000000000000004, 'n_units_l1': 150, 'dropout_l1': 0.4, 'n_units_l2': 250, 'dropout_l2': 0.4, 'n_units_l3': 200, 'dropout_l3': 0.4, 'learning_rate': 0.08265055602802084, 'validation_split': 0.3}. Best is trial 14 with value: 0.8333333134651184.\u001b[0m\n"
     ]
    },
    {
     "name": "stdout",
     "output_type": "stream",
     "text": [
      "1/1 [==============================] - 0s 16ms/step - loss: 1.1453 - accuracy: 0.7778\n"
     ]
    },
    {
     "name": "stderr",
     "output_type": "stream",
     "text": [
      "\u001b[32m[I 2022-05-12 10:05:56,426]\u001b[0m Trial 20 finished with value: 0.7777777910232544 and parameters: {'n_layers': 2, 'n_units_l0': 50, 'dropout_l0': 0.4, 'n_units_l1': 100, 'dropout_l1': 0.5, 'learning_rate': 0.05225998703374321, 'validation_split': 0.3}. Best is trial 14 with value: 0.8333333134651184.\u001b[0m\n"
     ]
    },
    {
     "name": "stdout",
     "output_type": "stream",
     "text": [
      "1/1 [==============================] - 0s 31ms/step - loss: 0.8370 - accuracy: 0.6111\n"
     ]
    },
    {
     "name": "stderr",
     "output_type": "stream",
     "text": [
      "\u001b[32m[I 2022-05-12 10:05:57,422]\u001b[0m Trial 21 finished with value: 0.6111111044883728 and parameters: {'n_layers': 2, 'n_units_l0': 50, 'dropout_l0': 0.4, 'n_units_l1': 100, 'dropout_l1': 0.5, 'learning_rate': 0.05594842538890698, 'validation_split': 0.3}. Best is trial 14 with value: 0.8333333134651184.\u001b[0m\n"
     ]
    },
    {
     "name": "stdout",
     "output_type": "stream",
     "text": [
      "1/1 [==============================] - 0s 16ms/step - loss: 0.9632 - accuracy: 0.6111\n"
     ]
    },
    {
     "name": "stderr",
     "output_type": "stream",
     "text": [
      "\u001b[32m[I 2022-05-12 10:05:58,566]\u001b[0m Trial 22 finished with value: 0.6111111044883728 and parameters: {'n_layers': 2, 'n_units_l0': 50, 'dropout_l0': 0.4, 'n_units_l1': 150, 'dropout_l1': 0.5, 'learning_rate': 0.05897134673705758, 'validation_split': 0.3}. Best is trial 14 with value: 0.8333333134651184.\u001b[0m\n"
     ]
    },
    {
     "name": "stdout",
     "output_type": "stream",
     "text": [
      "1/1 [==============================] - 0s 16ms/step - loss: 0.5959 - accuracy: 0.6667\n"
     ]
    },
    {
     "name": "stderr",
     "output_type": "stream",
     "text": [
      "\u001b[32m[I 2022-05-12 10:05:59,687]\u001b[0m Trial 23 finished with value: 0.6666666865348816 and parameters: {'n_layers': 3, 'n_units_l0': 100, 'dropout_l0': 0.4, 'n_units_l1': 100, 'dropout_l1': 0.4, 'n_units_l2': 50, 'dropout_l2': 0.4, 'learning_rate': 0.07537415981167768, 'validation_split': 0.3}. Best is trial 14 with value: 0.8333333134651184.\u001b[0m\n"
     ]
    },
    {
     "name": "stdout",
     "output_type": "stream",
     "text": [
      "1/1 [==============================] - 0s 16ms/step - loss: 1.5918 - accuracy: 0.7222\n"
     ]
    },
    {
     "name": "stderr",
     "output_type": "stream",
     "text": [
      "\u001b[32m[I 2022-05-12 10:06:00,696]\u001b[0m Trial 24 finished with value: 0.7222222089767456 and parameters: {'n_layers': 2, 'n_units_l0': 200, 'dropout_l0': 0.30000000000000004, 'n_units_l1': 50, 'dropout_l1': 0.5, 'learning_rate': 0.021345500117872698, 'validation_split': 0.3}. Best is trial 14 with value: 0.8333333134651184.\u001b[0m\n"
     ]
    },
    {
     "name": "stdout",
     "output_type": "stream",
     "text": [
      "1/1 [==============================] - 0s 40ms/step - loss: 4.9448 - accuracy: 0.6111\n"
     ]
    },
    {
     "name": "stderr",
     "output_type": "stream",
     "text": [
      "\u001b[32m[I 2022-05-12 10:06:02,027]\u001b[0m Trial 25 finished with value: 0.6111111044883728 and parameters: {'n_layers': 3, 'n_units_l0': 150, 'dropout_l0': 0.4, 'n_units_l1': 100, 'dropout_l1': 0.5, 'n_units_l2': 150, 'dropout_l2': 0.30000000000000004, 'learning_rate': 0.05249743314465491, 'validation_split': 0.44999999999999996}. Best is trial 14 with value: 0.8333333134651184.\u001b[0m\n"
     ]
    },
    {
     "name": "stdout",
     "output_type": "stream",
     "text": [
      "1/1 [==============================] - 0s 33ms/step - loss: 0.9803 - accuracy: 0.6111\n"
     ]
    },
    {
     "name": "stderr",
     "output_type": "stream",
     "text": [
      "\u001b[32m[I 2022-05-12 10:06:03,772]\u001b[0m Trial 26 finished with value: 0.6111111044883728 and parameters: {'n_layers': 4, 'n_units_l0': 250, 'dropout_l0': 0.30000000000000004, 'n_units_l1': 150, 'dropout_l1': 0.4, 'n_units_l2': 150, 'dropout_l2': 0.2, 'n_units_l3': 200, 'dropout_l3': 0.30000000000000004, 'learning_rate': 0.09044718926083119, 'validation_split': 0.15}. Best is trial 14 with value: 0.8333333134651184.\u001b[0m\n"
     ]
    },
    {
     "name": "stdout",
     "output_type": "stream",
     "text": [
      "1/1 [==============================] - 0s 33ms/step - loss: 0.7275 - accuracy: 0.4444\n"
     ]
    },
    {
     "name": "stderr",
     "output_type": "stream",
     "text": [
      "\u001b[32m[I 2022-05-12 10:06:05,353]\u001b[0m Trial 27 finished with value: 0.4444444477558136 and parameters: {'n_layers': 2, 'n_units_l0': 200, 'dropout_l0': 0.2, 'n_units_l1': 50, 'dropout_l1': 0.5, 'learning_rate': 0.09981673231829405, 'validation_split': 0.3}. Best is trial 14 with value: 0.8333333134651184.\u001b[0m\n"
     ]
    },
    {
     "name": "stdout",
     "output_type": "stream",
     "text": [
      "1/1 [==============================] - 0s 34ms/step - loss: 1.5361 - accuracy: 0.6111\n"
     ]
    },
    {
     "name": "stderr",
     "output_type": "stream",
     "text": [
      "\u001b[32m[I 2022-05-12 10:06:07,078]\u001b[0m Trial 28 finished with value: 0.6111111044883728 and parameters: {'n_layers': 3, 'n_units_l0': 100, 'dropout_l0': 0.5, 'n_units_l1': 100, 'dropout_l1': 0.4, 'n_units_l2': 100, 'dropout_l2': 0.5, 'learning_rate': 0.06265633051128651, 'validation_split': 0.3}. Best is trial 14 with value: 0.8333333134651184.\u001b[0m\n"
     ]
    },
    {
     "name": "stdout",
     "output_type": "stream",
     "text": [
      "1/1 [==============================] - 0s 21ms/step - loss: 4.1688 - accuracy: 0.7222\n"
     ]
    },
    {
     "name": "stderr",
     "output_type": "stream",
     "text": [
      "\u001b[32m[I 2022-05-12 10:06:09,190]\u001b[0m Trial 29 finished with value: 0.7222222089767456 and parameters: {'n_layers': 2, 'n_units_l0': 150, 'dropout_l0': 0.2, 'n_units_l1': 150, 'dropout_l1': 0.5, 'learning_rate': 0.047896808653326794, 'validation_split': 0.44999999999999996}. Best is trial 14 with value: 0.8333333134651184.\u001b[0m\n"
     ]
    },
    {
     "name": "stdout",
     "output_type": "stream",
     "text": [
      "1/1 [==============================] - 0s 44ms/step - loss: 0.7238 - accuracy: 0.5556\n"
     ]
    },
    {
     "name": "stderr",
     "output_type": "stream",
     "text": [
      "\u001b[32m[I 2022-05-12 10:06:10,565]\u001b[0m Trial 30 finished with value: 0.5555555820465088 and parameters: {'n_layers': 2, 'n_units_l0': 50, 'dropout_l0': 0.30000000000000004, 'n_units_l1': 200, 'dropout_l1': 0.30000000000000004, 'learning_rate': 0.07621170824232358, 'validation_split': 0.15}. Best is trial 14 with value: 0.8333333134651184.\u001b[0m\n"
     ]
    },
    {
     "name": "stdout",
     "output_type": "stream",
     "text": [
      "1/1 [==============================] - 0s 16ms/step - loss: 5.3579 - accuracy: 0.7222\n"
     ]
    },
    {
     "name": "stderr",
     "output_type": "stream",
     "text": [
      "\u001b[32m[I 2022-05-12 10:06:12,199]\u001b[0m Trial 31 finished with value: 0.7222222089767456 and parameters: {'n_layers': 2, 'n_units_l0': 150, 'dropout_l0': 0.2, 'n_units_l1': 150, 'dropout_l1': 0.5, 'learning_rate': 0.04936835762003566, 'validation_split': 0.44999999999999996}. Best is trial 14 with value: 0.8333333134651184.\u001b[0m\n"
     ]
    },
    {
     "name": "stdout",
     "output_type": "stream",
     "text": [
      "1/1 [==============================] - 0s 19ms/step - loss: 2.4237 - accuracy: 0.6667\n"
     ]
    },
    {
     "name": "stderr",
     "output_type": "stream",
     "text": [
      "\u001b[32m[I 2022-05-12 10:06:13,805]\u001b[0m Trial 32 finished with value: 0.6666666865348816 and parameters: {'n_layers': 2, 'n_units_l0': 150, 'dropout_l0': 0.2, 'n_units_l1': 250, 'dropout_l1': 0.2, 'learning_rate': 0.03255142954569852, 'validation_split': 0.3}. Best is trial 14 with value: 0.8333333134651184.\u001b[0m\n"
     ]
    },
    {
     "name": "stdout",
     "output_type": "stream",
     "text": [
      "1/1 [==============================] - 0s 31ms/step - loss: 2.0076 - accuracy: 0.6667\n"
     ]
    },
    {
     "name": "stderr",
     "output_type": "stream",
     "text": [
      "\u001b[32m[I 2022-05-12 10:06:15,125]\u001b[0m Trial 33 finished with value: 0.6666666865348816 and parameters: {'n_layers': 2, 'n_units_l0': 200, 'dropout_l0': 0.2, 'n_units_l1': 250, 'dropout_l1': 0.4, 'learning_rate': 0.0373325132125527, 'validation_split': 0.3}. Best is trial 14 with value: 0.8333333134651184.\u001b[0m\n"
     ]
    },
    {
     "name": "stdout",
     "output_type": "stream",
     "text": [
      "1/1 [==============================] - 0s 27ms/step - loss: 0.7095 - accuracy: 0.4444\n"
     ]
    },
    {
     "name": "stderr",
     "output_type": "stream",
     "text": [
      "\u001b[32m[I 2022-05-12 10:06:16,553]\u001b[0m Trial 34 finished with value: 0.4444444477558136 and parameters: {'n_layers': 5, 'n_units_l0': 200, 'dropout_l0': 0.2, 'n_units_l1': 200, 'dropout_l1': 0.30000000000000004, 'n_units_l2': 50, 'dropout_l2': 0.4, 'n_units_l3': 200, 'dropout_l3': 0.2, 'n_units_l4': 150, 'dropout_l4': 0.5, 'learning_rate': 0.052086881415300997, 'validation_split': 0.3}. Best is trial 14 with value: 0.8333333134651184.\u001b[0m\n"
     ]
    },
    {
     "name": "stdout",
     "output_type": "stream",
     "text": [
      "1/1 [==============================] - 0s 34ms/step - loss: 1.8686 - accuracy: 0.6667\n"
     ]
    },
    {
     "name": "stderr",
     "output_type": "stream",
     "text": [
      "\u001b[32m[I 2022-05-12 10:06:18,125]\u001b[0m Trial 35 finished with value: 0.6666666865348816 and parameters: {'n_layers': 3, 'n_units_l0': 200, 'dropout_l0': 0.5, 'n_units_l1': 250, 'dropout_l1': 0.2, 'n_units_l2': 200, 'dropout_l2': 0.5, 'learning_rate': 0.04155391122301403, 'validation_split': 0.3}. Best is trial 14 with value: 0.8333333134651184.\u001b[0m\n"
     ]
    },
    {
     "name": "stdout",
     "output_type": "stream",
     "text": [
      "1/1 [==============================] - 0s 47ms/step - loss: 0.6373 - accuracy: 0.5556\n"
     ]
    },
    {
     "name": "stderr",
     "output_type": "stream",
     "text": [
      "\u001b[32m[I 2022-05-12 10:06:19,875]\u001b[0m Trial 36 finished with value: 0.5555555820465088 and parameters: {'n_layers': 4, 'n_units_l0': 250, 'dropout_l0': 0.30000000000000004, 'n_units_l1': 200, 'dropout_l1': 0.4, 'n_units_l2': 100, 'dropout_l2': 0.30000000000000004, 'n_units_l3': 100, 'dropout_l3': 0.4, 'learning_rate': 0.022718958185257297, 'validation_split': 0.3}. Best is trial 14 with value: 0.8333333134651184.\u001b[0m\n"
     ]
    },
    {
     "name": "stdout",
     "output_type": "stream",
     "text": [
      "1/1 [==============================] - 0s 29ms/step - loss: 4.0784 - accuracy: 0.7222\n"
     ]
    },
    {
     "name": "stderr",
     "output_type": "stream",
     "text": [
      "\u001b[32m[I 2022-05-12 10:06:21,296]\u001b[0m Trial 37 finished with value: 0.7222222089767456 and parameters: {'n_layers': 2, 'n_units_l0': 200, 'dropout_l0': 0.30000000000000004, 'n_units_l1': 100, 'dropout_l1': 0.5, 'learning_rate': 0.08502760405613069, 'validation_split': 0.3}. Best is trial 14 with value: 0.8333333134651184.\u001b[0m\n"
     ]
    },
    {
     "name": "stdout",
     "output_type": "stream",
     "text": [
      "1/1 [==============================] - 0s 16ms/step - loss: 0.6332 - accuracy: 0.5556\n"
     ]
    },
    {
     "name": "stderr",
     "output_type": "stream",
     "text": [
      "\u001b[32m[I 2022-05-12 10:06:22,940]\u001b[0m Trial 38 finished with value: 0.5555555820465088 and parameters: {'n_layers': 5, 'n_units_l0': 150, 'dropout_l0': 0.2, 'n_units_l1': 250, 'dropout_l1': 0.4, 'n_units_l2': 250, 'dropout_l2': 0.4, 'n_units_l3': 250, 'dropout_l3': 0.30000000000000004, 'n_units_l4': 250, 'dropout_l4': 0.5, 'learning_rate': 0.06592596551090138, 'validation_split': 0.15}. Best is trial 14 with value: 0.8333333134651184.\u001b[0m\n"
     ]
    },
    {
     "name": "stdout",
     "output_type": "stream",
     "text": [
      "1/1 [==============================] - 0s 33ms/step - loss: 0.7342 - accuracy: 0.5000\n"
     ]
    },
    {
     "name": "stderr",
     "output_type": "stream",
     "text": [
      "\u001b[32m[I 2022-05-12 10:06:24,388]\u001b[0m Trial 39 finished with value: 0.5 and parameters: {'n_layers': 4, 'n_units_l0': 100, 'dropout_l0': 0.5, 'n_units_l1': 50, 'dropout_l1': 0.30000000000000004, 'n_units_l2': 150, 'dropout_l2': 0.2, 'n_units_l3': 100, 'dropout_l3': 0.2, 'learning_rate': 0.07549451650856268, 'validation_split': 0.15}. Best is trial 14 with value: 0.8333333134651184.\u001b[0m\n"
     ]
    },
    {
     "name": "stdout",
     "output_type": "stream",
     "text": [
      "1/1 [==============================] - 0s 31ms/step - loss: 0.7986 - accuracy: 0.5556\n"
     ]
    },
    {
     "name": "stderr",
     "output_type": "stream",
     "text": [
      "\u001b[32m[I 2022-05-12 10:06:25,722]\u001b[0m Trial 40 finished with value: 0.5555555820465088 and parameters: {'n_layers': 3, 'n_units_l0': 50, 'dropout_l0': 0.4, 'n_units_l1': 200, 'dropout_l1': 0.2, 'n_units_l2': 50, 'dropout_l2': 0.5, 'learning_rate': 0.02795366220509439, 'validation_split': 0.3}. Best is trial 14 with value: 0.8333333134651184.\u001b[0m\n"
     ]
    },
    {
     "name": "stdout",
     "output_type": "stream",
     "text": [
      "1/1 [==============================] - 0s 16ms/step - loss: 9.1748 - accuracy: 0.6111\n"
     ]
    },
    {
     "name": "stderr",
     "output_type": "stream",
     "text": [
      "\u001b[32m[I 2022-05-12 10:06:26,925]\u001b[0m Trial 41 finished with value: 0.6111111044883728 and parameters: {'n_layers': 2, 'n_units_l0': 200, 'dropout_l0': 0.30000000000000004, 'n_units_l1': 150, 'dropout_l1': 0.5, 'learning_rate': 0.0862489322711286, 'validation_split': 0.3}. Best is trial 14 with value: 0.8333333134651184.\u001b[0m\n"
     ]
    },
    {
     "name": "stdout",
     "output_type": "stream",
     "text": [
      "1/1 [==============================] - 0s 16ms/step - loss: 6.8589 - accuracy: 0.7778\n"
     ]
    },
    {
     "name": "stderr",
     "output_type": "stream",
     "text": [
      "\u001b[32m[I 2022-05-12 10:06:27,835]\u001b[0m Trial 42 finished with value: 0.7777777910232544 and parameters: {'n_layers': 2, 'n_units_l0': 150, 'dropout_l0': 0.30000000000000004, 'n_units_l1': 150, 'dropout_l1': 0.5, 'learning_rate': 0.09480492825598988, 'validation_split': 0.3}. Best is trial 14 with value: 0.8333333134651184.\u001b[0m\n"
     ]
    },
    {
     "name": "stdout",
     "output_type": "stream",
     "text": [
      "1/1 [==============================] - 0s 16ms/step - loss: 5.7554 - accuracy: 0.7222\n"
     ]
    },
    {
     "name": "stderr",
     "output_type": "stream",
     "text": [
      "\u001b[32m[I 2022-05-12 10:06:28,868]\u001b[0m Trial 43 finished with value: 0.7222222089767456 and parameters: {'n_layers': 2, 'n_units_l0': 250, 'dropout_l0': 0.30000000000000004, 'n_units_l1': 100, 'dropout_l1': 0.5, 'learning_rate': 0.09120593936385403, 'validation_split': 0.3}. Best is trial 14 with value: 0.8333333134651184.\u001b[0m\n"
     ]
    },
    {
     "name": "stdout",
     "output_type": "stream",
     "text": [
      "1/1 [==============================] - 0s 16ms/step - loss: 2.1613 - accuracy: 0.6111\n"
     ]
    },
    {
     "name": "stderr",
     "output_type": "stream",
     "text": [
      "\u001b[32m[I 2022-05-12 10:06:29,913]\u001b[0m Trial 44 finished with value: 0.6111111044883728 and parameters: {'n_layers': 2, 'n_units_l0': 150, 'dropout_l0': 0.2, 'n_units_l1': 150, 'dropout_l1': 0.5, 'learning_rate': 0.043841695803605134, 'validation_split': 0.3}. Best is trial 14 with value: 0.8333333134651184.\u001b[0m\n"
     ]
    },
    {
     "name": "stdout",
     "output_type": "stream",
     "text": [
      "1/1 [==============================] - 0s 31ms/step - loss: 0.5660 - accuracy: 0.7778\n"
     ]
    },
    {
     "name": "stderr",
     "output_type": "stream",
     "text": [
      "\u001b[32m[I 2022-05-12 10:06:30,839]\u001b[0m Trial 45 finished with value: 0.7777777910232544 and parameters: {'n_layers': 2, 'n_units_l0': 150, 'dropout_l0': 0.4, 'n_units_l1': 250, 'dropout_l1': 0.5, 'learning_rate': 0.001726374384814662, 'validation_split': 0.3}. Best is trial 14 with value: 0.8333333134651184.\u001b[0m\n"
     ]
    },
    {
     "name": "stdout",
     "output_type": "stream",
     "text": [
      "1/1 [==============================] - 0s 16ms/step - loss: 0.6835 - accuracy: 0.5000\n"
     ]
    },
    {
     "name": "stderr",
     "output_type": "stream",
     "text": [
      "\u001b[32m[I 2022-05-12 10:06:32,142]\u001b[0m Trial 46 finished with value: 0.5 and parameters: {'n_layers': 2, 'n_units_l0': 100, 'dropout_l0': 0.4, 'n_units_l1': 250, 'dropout_l1': 0.5, 'learning_rate': 6.974685808446707e-05, 'validation_split': 0.3}. Best is trial 14 with value: 0.8333333134651184.\u001b[0m\n"
     ]
    },
    {
     "name": "stdout",
     "output_type": "stream",
     "text": [
      "1/1 [==============================] - 0s 34ms/step - loss: 1.0792 - accuracy: 0.7222\n"
     ]
    },
    {
     "name": "stderr",
     "output_type": "stream",
     "text": [
      "\u001b[32m[I 2022-05-12 10:06:33,665]\u001b[0m Trial 47 finished with value: 0.7222222089767456 and parameters: {'n_layers': 3, 'n_units_l0': 150, 'dropout_l0': 0.4, 'n_units_l1': 200, 'dropout_l1': 0.5, 'n_units_l2': 100, 'dropout_l2': 0.30000000000000004, 'learning_rate': 0.013403461946077139, 'validation_split': 0.3}. Best is trial 14 with value: 0.8333333134651184.\u001b[0m\n"
     ]
    },
    {
     "name": "stdout",
     "output_type": "stream",
     "text": [
      "1/1 [==============================] - 0s 16ms/step - loss: 4.9334 - accuracy: 0.7222\n"
     ]
    },
    {
     "name": "stderr",
     "output_type": "stream",
     "text": [
      "\u001b[32m[I 2022-05-12 10:06:34,983]\u001b[0m Trial 48 finished with value: 0.7222222089767456 and parameters: {'n_layers': 2, 'n_units_l0': 150, 'dropout_l0': 0.4, 'n_units_l1': 250, 'dropout_l1': 0.5, 'learning_rate': 0.09562610617403869, 'validation_split': 0.3}. Best is trial 14 with value: 0.8333333134651184.\u001b[0m\n"
     ]
    },
    {
     "name": "stdout",
     "output_type": "stream",
     "text": [
      "1/1 [==============================] - 0s 42ms/step - loss: 1.5291 - accuracy: 0.8333\n"
     ]
    },
    {
     "name": "stderr",
     "output_type": "stream",
     "text": [
      "\u001b[32m[I 2022-05-12 10:06:36,959]\u001b[0m Trial 49 finished with value: 0.8333333134651184 and parameters: {'n_layers': 2, 'n_units_l0': 100, 'dropout_l0': 0.4, 'n_units_l1': 50, 'dropout_l1': 0.5, 'learning_rate': 0.015825708771310485, 'validation_split': 0.3}. Best is trial 14 with value: 0.8333333134651184.\u001b[0m\n"
     ]
    },
    {
     "name": "stdout",
     "output_type": "stream",
     "text": [
      "1/1 [==============================] - 0s 31ms/step - loss: 0.6349 - accuracy: 0.5556\n"
     ]
    },
    {
     "name": "stderr",
     "output_type": "stream",
     "text": [
      "\u001b[32m[I 2022-05-12 10:06:38,482]\u001b[0m Trial 50 finished with value: 0.5555555820465088 and parameters: {'n_layers': 4, 'n_units_l0': 100, 'dropout_l0': 0.30000000000000004, 'n_units_l1': 50, 'dropout_l1': 0.5, 'n_units_l2': 50, 'dropout_l2': 0.4, 'n_units_l3': 200, 'dropout_l3': 0.30000000000000004, 'learning_rate': 0.013019230900463615, 'validation_split': 0.3}. Best is trial 14 with value: 0.8333333134651184.\u001b[0m\n"
     ]
    },
    {
     "name": "stdout",
     "output_type": "stream",
     "text": [
      "1/1 [==============================] - 0s 95ms/step - loss: 0.5829 - accuracy: 0.7222\n"
     ]
    },
    {
     "name": "stderr",
     "output_type": "stream",
     "text": [
      "\u001b[32m[I 2022-05-12 10:06:40,038]\u001b[0m Trial 51 finished with value: 0.7222222089767456 and parameters: {'n_layers': 2, 'n_units_l0': 50, 'dropout_l0': 0.4, 'n_units_l1': 50, 'dropout_l1': 0.5, 'learning_rate': 0.007457946328929399, 'validation_split': 0.3}. Best is trial 14 with value: 0.8333333134651184.\u001b[0m\n"
     ]
    },
    {
     "name": "stdout",
     "output_type": "stream",
     "text": [
      "1/1 [==============================] - 0s 50ms/step - loss: 0.7739 - accuracy: 0.7778\n"
     ]
    },
    {
     "name": "stderr",
     "output_type": "stream",
     "text": [
      "\u001b[32m[I 2022-05-12 10:06:41,685]\u001b[0m Trial 52 finished with value: 0.7777777910232544 and parameters: {'n_layers': 2, 'n_units_l0': 100, 'dropout_l0': 0.4, 'n_units_l1': 50, 'dropout_l1': 0.5, 'learning_rate': 0.016835481348915507, 'validation_split': 0.3}. Best is trial 14 with value: 0.8333333134651184.\u001b[0m\n"
     ]
    },
    {
     "name": "stdout",
     "output_type": "stream",
     "text": [
      "1/1 [==============================] - 0s 34ms/step - loss: 0.5956 - accuracy: 0.6111\n"
     ]
    },
    {
     "name": "stderr",
     "output_type": "stream",
     "text": [
      "\u001b[32m[I 2022-05-12 10:06:43,473]\u001b[0m Trial 53 finished with value: 0.6111111044883728 and parameters: {'n_layers': 2, 'n_units_l0': 100, 'dropout_l0': 0.4, 'n_units_l1': 50, 'dropout_l1': 0.5, 'learning_rate': 0.07096721666730842, 'validation_split': 0.3}. Best is trial 14 with value: 0.8333333134651184.\u001b[0m\n"
     ]
    },
    {
     "name": "stdout",
     "output_type": "stream",
     "text": [
      "1/1 [==============================] - 0s 22ms/step - loss: 0.7337 - accuracy: 0.5000\n"
     ]
    },
    {
     "name": "stderr",
     "output_type": "stream",
     "text": [
      "\u001b[32m[I 2022-05-12 10:06:44,740]\u001b[0m Trial 54 finished with value: 0.5 and parameters: {'n_layers': 2, 'n_units_l0': 150, 'dropout_l0': 0.4, 'n_units_l1': 100, 'dropout_l1': 0.5, 'learning_rate': 0.0002655805975604901, 'validation_split': 0.3}. Best is trial 14 with value: 0.8333333134651184.\u001b[0m\n"
     ]
    },
    {
     "name": "stdout",
     "output_type": "stream",
     "text": [
      "1/1 [==============================] - 0s 34ms/step - loss: 0.6468 - accuracy: 0.7778\n"
     ]
    },
    {
     "name": "stderr",
     "output_type": "stream",
     "text": [
      "\u001b[32m[I 2022-05-12 10:06:46,041]\u001b[0m Trial 55 finished with value: 0.7777777910232544 and parameters: {'n_layers': 2, 'n_units_l0': 100, 'dropout_l0': 0.4, 'n_units_l1': 50, 'dropout_l1': 0.5, 'learning_rate': 0.016164842307290365, 'validation_split': 0.3}. Best is trial 14 with value: 0.8333333134651184.\u001b[0m\n"
     ]
    },
    {
     "name": "stdout",
     "output_type": "stream",
     "text": [
      "1/1 [==============================] - 0s 24ms/step - loss: 0.6182 - accuracy: 0.7778\n"
     ]
    },
    {
     "name": "stderr",
     "output_type": "stream",
     "text": [
      "\u001b[32m[I 2022-05-12 10:06:47,166]\u001b[0m Trial 56 finished with value: 0.7777777910232544 and parameters: {'n_layers': 2, 'n_units_l0': 50, 'dropout_l0': 0.4, 'n_units_l1': 50, 'dropout_l1': 0.5, 'learning_rate': 0.0067268431042656965, 'validation_split': 0.3}. Best is trial 14 with value: 0.8333333134651184.\u001b[0m\n"
     ]
    },
    {
     "name": "stdout",
     "output_type": "stream",
     "text": [
      "1/1 [==============================] - 0s 24ms/step - loss: 0.8599 - accuracy: 0.8333\n"
     ]
    },
    {
     "name": "stderr",
     "output_type": "stream",
     "text": [
      "\u001b[32m[I 2022-05-12 10:06:48,224]\u001b[0m Trial 57 finished with value: 0.8333333134651184 and parameters: {'n_layers': 2, 'n_units_l0': 50, 'dropout_l0': 0.4, 'n_units_l1': 50, 'dropout_l1': 0.4, 'learning_rate': 0.00750803614414685, 'validation_split': 0.3}. Best is trial 14 with value: 0.8333333134651184.\u001b[0m\n"
     ]
    },
    {
     "name": "stdout",
     "output_type": "stream",
     "text": [
      "1/1 [==============================] - 0s 32ms/step - loss: 0.4307 - accuracy: 0.8333\n"
     ]
    },
    {
     "name": "stderr",
     "output_type": "stream",
     "text": [
      "\u001b[32m[I 2022-05-12 10:06:49,496]\u001b[0m Trial 58 finished with value: 0.8333333134651184 and parameters: {'n_layers': 2, 'n_units_l0': 50, 'dropout_l0': 0.4, 'n_units_l1': 50, 'dropout_l1': 0.4, 'learning_rate': 0.017637855667667, 'validation_split': 0.3}. Best is trial 14 with value: 0.8333333134651184.\u001b[0m\n"
     ]
    },
    {
     "name": "stdout",
     "output_type": "stream",
     "text": [
      "1/1 [==============================] - 0s 24ms/step - loss: 0.8355 - accuracy: 0.7222\n"
     ]
    },
    {
     "name": "stderr",
     "output_type": "stream",
     "text": [
      "\u001b[32m[I 2022-05-12 10:06:50,650]\u001b[0m Trial 59 finished with value: 0.7222222089767456 and parameters: {'n_layers': 2, 'n_units_l0': 50, 'dropout_l0': 0.30000000000000004, 'n_units_l1': 50, 'dropout_l1': 0.4, 'learning_rate': 0.028987933061259366, 'validation_split': 0.3}. Best is trial 14 with value: 0.8333333134651184.\u001b[0m\n"
     ]
    },
    {
     "name": "stdout",
     "output_type": "stream",
     "text": [
      "1/1 [==============================] - 0s 31ms/step - loss: 0.5301 - accuracy: 0.7778\n"
     ]
    },
    {
     "name": "stderr",
     "output_type": "stream",
     "text": [
      "\u001b[32m[I 2022-05-12 10:06:51,773]\u001b[0m Trial 60 finished with value: 0.7777777910232544 and parameters: {'n_layers': 2, 'n_units_l0': 50, 'dropout_l0': 0.4, 'n_units_l1': 50, 'dropout_l1': 0.4, 'learning_rate': 0.00867592654369779, 'validation_split': 0.3}. Best is trial 14 with value: 0.8333333134651184.\u001b[0m\n"
     ]
    },
    {
     "name": "stdout",
     "output_type": "stream",
     "text": [
      "1/1 [==============================] - 0s 16ms/step - loss: 0.5745 - accuracy: 0.7222\n"
     ]
    },
    {
     "name": "stderr",
     "output_type": "stream",
     "text": [
      "\u001b[32m[I 2022-05-12 10:06:52,662]\u001b[0m Trial 61 finished with value: 0.7222222089767456 and parameters: {'n_layers': 2, 'n_units_l0': 50, 'dropout_l0': 0.4, 'n_units_l1': 50, 'dropout_l1': 0.4, 'learning_rate': 0.009321777251067698, 'validation_split': 0.3}. Best is trial 14 with value: 0.8333333134651184.\u001b[0m\n"
     ]
    },
    {
     "name": "stdout",
     "output_type": "stream",
     "text": [
      "1/1 [==============================] - 0s 16ms/step - loss: 1.1190 - accuracy: 0.7778\n"
     ]
    },
    {
     "name": "stderr",
     "output_type": "stream",
     "text": [
      "\u001b[32m[I 2022-05-12 10:06:53,710]\u001b[0m Trial 62 finished with value: 0.7777777910232544 and parameters: {'n_layers': 2, 'n_units_l0': 100, 'dropout_l0': 0.4, 'n_units_l1': 50, 'dropout_l1': 0.4, 'learning_rate': 0.016892018613500797, 'validation_split': 0.3}. Best is trial 14 with value: 0.8333333134651184.\u001b[0m\n"
     ]
    },
    {
     "name": "stdout",
     "output_type": "stream",
     "text": [
      "1/1 [==============================] - 0s 24ms/step - loss: 0.5582 - accuracy: 0.6667\n"
     ]
    },
    {
     "name": "stderr",
     "output_type": "stream",
     "text": [
      "\u001b[32m[I 2022-05-12 10:06:54,697]\u001b[0m Trial 63 finished with value: 0.6666666865348816 and parameters: {'n_layers': 2, 'n_units_l0': 50, 'dropout_l0': 0.5, 'n_units_l1': 100, 'dropout_l1': 0.4, 'learning_rate': 0.0016219711193691255, 'validation_split': 0.3}. Best is trial 14 with value: 0.8333333134651184.\u001b[0m\n"
     ]
    },
    {
     "name": "stdout",
     "output_type": "stream",
     "text": [
      "1/1 [==============================] - 0s 31ms/step - loss: 0.7965 - accuracy: 0.7778\n"
     ]
    },
    {
     "name": "stderr",
     "output_type": "stream",
     "text": [
      "\u001b[32m[I 2022-05-12 10:06:55,611]\u001b[0m Trial 64 finished with value: 0.7777777910232544 and parameters: {'n_layers': 2, 'n_units_l0': 50, 'dropout_l0': 0.4, 'n_units_l1': 50, 'dropout_l1': 0.4, 'learning_rate': 0.019000288385143397, 'validation_split': 0.3}. Best is trial 14 with value: 0.8333333134651184.\u001b[0m\n"
     ]
    },
    {
     "name": "stdout",
     "output_type": "stream",
     "text": [
      "1/1 [==============================] - 0s 24ms/step - loss: 0.9872 - accuracy: 0.7222\n"
     ]
    },
    {
     "name": "stderr",
     "output_type": "stream",
     "text": [
      "\u001b[32m[I 2022-05-12 10:06:57,227]\u001b[0m Trial 65 finished with value: 0.7222222089767456 and parameters: {'n_layers': 2, 'n_units_l0': 50, 'dropout_l0': 0.4, 'n_units_l1': 50, 'dropout_l1': 0.4, 'learning_rate': 0.018743651282915955, 'validation_split': 0.3}. Best is trial 14 with value: 0.8333333134651184.\u001b[0m\n"
     ]
    },
    {
     "name": "stdout",
     "output_type": "stream",
     "text": [
      "1/1 [==============================] - 0s 16ms/step - loss: 0.9122 - accuracy: 0.4444\n"
     ]
    },
    {
     "name": "stderr",
     "output_type": "stream",
     "text": [
      "\u001b[32m[I 2022-05-12 10:06:58,287]\u001b[0m Trial 66 finished with value: 0.4444444477558136 and parameters: {'n_layers': 3, 'n_units_l0': 100, 'dropout_l0': 0.30000000000000004, 'n_units_l1': 50, 'dropout_l1': 0.5, 'n_units_l2': 200, 'dropout_l2': 0.5, 'learning_rate': 0.08942799923820652, 'validation_split': 0.3}. Best is trial 14 with value: 0.8333333134651184.\u001b[0m\n"
     ]
    },
    {
     "name": "stdout",
     "output_type": "stream",
     "text": [
      "1/1 [==============================] - 0s 24ms/step - loss: 0.5609 - accuracy: 0.7222\n"
     ]
    },
    {
     "name": "stderr",
     "output_type": "stream",
     "text": [
      "\u001b[32m[I 2022-05-12 10:06:59,203]\u001b[0m Trial 67 finished with value: 0.7222222089767456 and parameters: {'n_layers': 2, 'n_units_l0': 50, 'dropout_l0': 0.4, 'n_units_l1': 50, 'dropout_l1': 0.5, 'learning_rate': 0.003290454619865159, 'validation_split': 0.3}. Best is trial 14 with value: 0.8333333134651184.\u001b[0m\n"
     ]
    },
    {
     "name": "stdout",
     "output_type": "stream",
     "text": [
      "1/1 [==============================] - 0s 16ms/step - loss: 0.9715 - accuracy: 0.7778\n"
     ]
    },
    {
     "name": "stderr",
     "output_type": "stream",
     "text": [
      "\u001b[32m[I 2022-05-12 10:07:00,323]\u001b[0m Trial 68 finished with value: 0.7777777910232544 and parameters: {'n_layers': 2, 'n_units_l0': 100, 'dropout_l0': 0.4, 'n_units_l1': 50, 'dropout_l1': 0.30000000000000004, 'learning_rate': 0.011503246774039015, 'validation_split': 0.3}. Best is trial 14 with value: 0.8333333134651184.\u001b[0m\n"
     ]
    },
    {
     "name": "stdout",
     "output_type": "stream",
     "text": [
      "1/1 [==============================] - 0s 31ms/step - loss: 1.0148 - accuracy: 0.8333\n"
     ]
    },
    {
     "name": "stderr",
     "output_type": "stream",
     "text": [
      "\u001b[32m[I 2022-05-12 10:07:01,695]\u001b[0m Trial 69 finished with value: 0.8333333134651184 and parameters: {'n_layers': 3, 'n_units_l0': 50, 'dropout_l0': 0.5, 'n_units_l1': 100, 'dropout_l1': 0.30000000000000004, 'n_units_l2': 250, 'dropout_l2': 0.2, 'learning_rate': 0.02641994327599988, 'validation_split': 0.3}. Best is trial 14 with value: 0.8333333134651184.\u001b[0m\n"
     ]
    },
    {
     "name": "stdout",
     "output_type": "stream",
     "text": [
      "1/1 [==============================] - 0s 24ms/step - loss: 0.5490 - accuracy: 0.7222\n"
     ]
    },
    {
     "name": "stderr",
     "output_type": "stream",
     "text": [
      "\u001b[32m[I 2022-05-12 10:07:02,770]\u001b[0m Trial 70 finished with value: 0.7222222089767456 and parameters: {'n_layers': 3, 'n_units_l0': 50, 'dropout_l0': 0.5, 'n_units_l1': 100, 'dropout_l1': 0.30000000000000004, 'n_units_l2': 250, 'dropout_l2': 0.2, 'learning_rate': 0.028091795225051012, 'validation_split': 0.3}. Best is trial 14 with value: 0.8333333134651184.\u001b[0m\n"
     ]
    },
    {
     "name": "stdout",
     "output_type": "stream",
     "text": [
      "1/1 [==============================] - 0s 16ms/step - loss: 1.2431 - accuracy: 0.6667\n"
     ]
    },
    {
     "name": "stderr",
     "output_type": "stream",
     "text": [
      "\u001b[32m[I 2022-05-12 10:07:03,759]\u001b[0m Trial 71 finished with value: 0.6666666865348816 and parameters: {'n_layers': 2, 'n_units_l0': 100, 'dropout_l0': 0.5, 'n_units_l1': 100, 'dropout_l1': 0.30000000000000004, 'learning_rate': 0.01423685190997638, 'validation_split': 0.3}. Best is trial 14 with value: 0.8333333134651184.\u001b[0m\n"
     ]
    },
    {
     "name": "stdout",
     "output_type": "stream",
     "text": [
      "1/1 [==============================] - 0s 24ms/step - loss: 0.6029 - accuracy: 0.7778\n"
     ]
    },
    {
     "name": "stderr",
     "output_type": "stream",
     "text": [
      "\u001b[32m[I 2022-05-12 10:07:04,851]\u001b[0m Trial 72 finished with value: 0.7777777910232544 and parameters: {'n_layers': 2, 'n_units_l0': 50, 'dropout_l0': 0.5, 'n_units_l1': 50, 'dropout_l1': 0.4, 'learning_rate': 0.005904725814307329, 'validation_split': 0.3}. Best is trial 14 with value: 0.8333333134651184.\u001b[0m\n"
     ]
    },
    {
     "name": "stdout",
     "output_type": "stream",
     "text": [
      "1/1 [==============================] - 0s 16ms/step - loss: 0.9997 - accuracy: 0.7222\n"
     ]
    },
    {
     "name": "stderr",
     "output_type": "stream",
     "text": [
      "\u001b[32m[I 2022-05-12 10:07:05,784]\u001b[0m Trial 73 finished with value: 0.7222222089767456 and parameters: {'n_layers': 2, 'n_units_l0': 50, 'dropout_l0': 0.30000000000000004, 'n_units_l1': 100, 'dropout_l1': 0.30000000000000004, 'learning_rate': 0.02403113315430351, 'validation_split': 0.3}. Best is trial 14 with value: 0.8333333134651184.\u001b[0m\n"
     ]
    },
    {
     "name": "stdout",
     "output_type": "stream",
     "text": [
      "1/1 [==============================] - 0s 32ms/step - loss: 0.8212 - accuracy: 0.6667\n"
     ]
    },
    {
     "name": "stderr",
     "output_type": "stream",
     "text": [
      "\u001b[32m[I 2022-05-12 10:07:06,733]\u001b[0m Trial 74 finished with value: 0.6666666865348816 and parameters: {'n_layers': 2, 'n_units_l0': 100, 'dropout_l0': 0.4, 'n_units_l1': 50, 'dropout_l1': 0.5, 'learning_rate': 0.01627676617027997, 'validation_split': 0.3}. Best is trial 14 with value: 0.8333333134651184.\u001b[0m\n"
     ]
    },
    {
     "name": "stdout",
     "output_type": "stream",
     "text": [
      "1/1 [==============================] - 0s 16ms/step - loss: 0.6801 - accuracy: 0.7222\n"
     ]
    },
    {
     "name": "stderr",
     "output_type": "stream",
     "text": [
      "\u001b[32m[I 2022-05-12 10:07:07,651]\u001b[0m Trial 75 finished with value: 0.7222222089767456 and parameters: {'n_layers': 2, 'n_units_l0': 50, 'dropout_l0': 0.4, 'n_units_l1': 50, 'dropout_l1': 0.4, 'learning_rate': 0.008309060462499908, 'validation_split': 0.3}. Best is trial 14 with value: 0.8333333134651184.\u001b[0m\n"
     ]
    },
    {
     "name": "stdout",
     "output_type": "stream",
     "text": [
      "1/1 [==============================] - 0s 31ms/step - loss: 0.7898 - accuracy: 0.8333\n"
     ]
    },
    {
     "name": "stderr",
     "output_type": "stream",
     "text": [
      "\u001b[32m[I 2022-05-12 10:07:08,638]\u001b[0m Trial 76 finished with value: 0.8333333134651184 and parameters: {'n_layers': 3, 'n_units_l0': 50, 'dropout_l0': 0.30000000000000004, 'n_units_l1': 50, 'dropout_l1': 0.30000000000000004, 'n_units_l2': 200, 'dropout_l2': 0.2, 'learning_rate': 0.005336305658936815, 'validation_split': 0.3}. Best is trial 14 with value: 0.8333333134651184.\u001b[0m\n"
     ]
    },
    {
     "name": "stdout",
     "output_type": "stream",
     "text": [
      "1/1 [==============================] - 0s 25ms/step - loss: 0.8111 - accuracy: 0.6667\n"
     ]
    },
    {
     "name": "stderr",
     "output_type": "stream",
     "text": [
      "\u001b[32m[I 2022-05-12 10:07:09,627]\u001b[0m Trial 77 finished with value: 0.6666666865348816 and parameters: {'n_layers': 3, 'n_units_l0': 50, 'dropout_l0': 0.30000000000000004, 'n_units_l1': 150, 'dropout_l1': 0.30000000000000004, 'n_units_l2': 200, 'dropout_l2': 0.2, 'learning_rate': 0.02112526002770458, 'validation_split': 0.3}. Best is trial 14 with value: 0.8333333134651184.\u001b[0m\n"
     ]
    },
    {
     "name": "stdout",
     "output_type": "stream",
     "text": [
      "1/1 [==============================] - 0s 16ms/step - loss: 0.4371 - accuracy: 0.8333\n"
     ]
    },
    {
     "name": "stderr",
     "output_type": "stream",
     "text": [
      "\u001b[32m[I 2022-05-12 10:07:10,653]\u001b[0m Trial 78 finished with value: 0.8333333134651184 and parameters: {'n_layers': 3, 'n_units_l0': 50, 'dropout_l0': 0.5, 'n_units_l1': 100, 'dropout_l1': 0.30000000000000004, 'n_units_l2': 250, 'dropout_l2': 0.2, 'learning_rate': 0.002790420976731562, 'validation_split': 0.15}. Best is trial 14 with value: 0.8333333134651184.\u001b[0m\n"
     ]
    },
    {
     "name": "stdout",
     "output_type": "stream",
     "text": [
      "1/1 [==============================] - 0s 16ms/step - loss: 0.7052 - accuracy: 0.7222\n"
     ]
    },
    {
     "name": "stderr",
     "output_type": "stream",
     "text": [
      "\u001b[32m[I 2022-05-12 10:07:11,668]\u001b[0m Trial 79 finished with value: 0.7222222089767456 and parameters: {'n_layers': 3, 'n_units_l0': 50, 'dropout_l0': 0.5, 'n_units_l1': 100, 'dropout_l1': 0.30000000000000004, 'n_units_l2': 250, 'dropout_l2': 0.2, 'learning_rate': 0.012024393681508552, 'validation_split': 0.15}. Best is trial 14 with value: 0.8333333134651184.\u001b[0m\n"
     ]
    },
    {
     "name": "stdout",
     "output_type": "stream",
     "text": [
      "1/1 [==============================] - 0s 23ms/step - loss: 0.5326 - accuracy: 0.7778\n"
     ]
    },
    {
     "name": "stderr",
     "output_type": "stream",
     "text": [
      "\u001b[32m[I 2022-05-12 10:07:12,853]\u001b[0m Trial 80 finished with value: 0.7777777910232544 and parameters: {'n_layers': 3, 'n_units_l0': 50, 'dropout_l0': 0.5, 'n_units_l1': 100, 'dropout_l1': 0.30000000000000004, 'n_units_l2': 250, 'dropout_l2': 0.2, 'learning_rate': 0.004557705290373285, 'validation_split': 0.15}. Best is trial 14 with value: 0.8333333134651184.\u001b[0m\n"
     ]
    },
    {
     "name": "stdout",
     "output_type": "stream",
     "text": [
      "1/1 [==============================] - 0s 41ms/step - loss: 0.5031 - accuracy: 0.7778\n"
     ]
    },
    {
     "name": "stderr",
     "output_type": "stream",
     "text": [
      "\u001b[32m[I 2022-05-12 10:07:15,430]\u001b[0m Trial 81 finished with value: 0.7777777910232544 and parameters: {'n_layers': 3, 'n_units_l0': 50, 'dropout_l0': 0.5, 'n_units_l1': 100, 'dropout_l1': 0.30000000000000004, 'n_units_l2': 250, 'dropout_l2': 0.2, 'learning_rate': 0.003402256420542562, 'validation_split': 0.15}. Best is trial 14 with value: 0.8333333134651184.\u001b[0m\n"
     ]
    },
    {
     "name": "stdout",
     "output_type": "stream",
     "text": [
      "1/1 [==============================] - 0s 16ms/step - loss: 0.6033 - accuracy: 0.7222\n"
     ]
    },
    {
     "name": "stderr",
     "output_type": "stream",
     "text": [
      "\u001b[32m[I 2022-05-12 10:07:16,753]\u001b[0m Trial 82 finished with value: 0.7222222089767456 and parameters: {'n_layers': 3, 'n_units_l0': 50, 'dropout_l0': 0.5, 'n_units_l1': 100, 'dropout_l1': 0.30000000000000004, 'n_units_l2': 200, 'dropout_l2': 0.30000000000000004, 'learning_rate': 0.005961699703691707, 'validation_split': 0.44999999999999996}. Best is trial 14 with value: 0.8333333134651184.\u001b[0m\n"
     ]
    },
    {
     "name": "stdout",
     "output_type": "stream",
     "text": [
      "1/1 [==============================] - 0s 16ms/step - loss: 0.5037 - accuracy: 0.7778\n"
     ]
    },
    {
     "name": "stderr",
     "output_type": "stream",
     "text": [
      "\u001b[32m[I 2022-05-12 10:07:17,957]\u001b[0m Trial 83 finished with value: 0.7777777910232544 and parameters: {'n_layers': 3, 'n_units_l0': 50, 'dropout_l0': 0.5, 'n_units_l1': 100, 'dropout_l1': 0.30000000000000004, 'n_units_l2': 250, 'dropout_l2': 0.2, 'learning_rate': 0.01004818123517406, 'validation_split': 0.15}. Best is trial 14 with value: 0.8333333134651184.\u001b[0m\n"
     ]
    },
    {
     "name": "stdout",
     "output_type": "stream",
     "text": [
      "1/1 [==============================] - 0s 31ms/step - loss: 0.8093 - accuracy: 0.5000\n"
     ]
    },
    {
     "name": "stderr",
     "output_type": "stream",
     "text": [
      "\u001b[32m[I 2022-05-12 10:07:19,104]\u001b[0m Trial 84 finished with value: 0.5 and parameters: {'n_layers': 3, 'n_units_l0': 50, 'dropout_l0': 0.5, 'n_units_l1': 100, 'dropout_l1': 0.30000000000000004, 'n_units_l2': 250, 'dropout_l2': 0.2, 'learning_rate': 0.09979860764388639, 'validation_split': 0.15}. Best is trial 14 with value: 0.8333333134651184.\u001b[0m\n"
     ]
    },
    {
     "name": "stdout",
     "output_type": "stream",
     "text": [
      "1/1 [==============================] - 0s 14ms/step - loss: 1.2554 - accuracy: 0.6667\n"
     ]
    },
    {
     "name": "stderr",
     "output_type": "stream",
     "text": [
      "\u001b[32m[I 2022-05-12 10:07:20,206]\u001b[0m Trial 85 finished with value: 0.6666666865348816 and parameters: {'n_layers': 3, 'n_units_l0': 150, 'dropout_l0': 0.30000000000000004, 'n_units_l1': 150, 'dropout_l1': 0.30000000000000004, 'n_units_l2': 200, 'dropout_l2': 0.30000000000000004, 'learning_rate': 0.0026872765452865014, 'validation_split': 0.44999999999999996}. Best is trial 14 with value: 0.8333333134651184.\u001b[0m\n"
     ]
    },
    {
     "name": "stdout",
     "output_type": "stream",
     "text": [
      "1/1 [==============================] - 0s 16ms/step - loss: 0.6993 - accuracy: 0.7222\n"
     ]
    },
    {
     "name": "stderr",
     "output_type": "stream",
     "text": [
      "\u001b[32m[I 2022-05-12 10:07:21,285]\u001b[0m Trial 86 finished with value: 0.7222222089767456 and parameters: {'n_layers': 3, 'n_units_l0': 50, 'dropout_l0': 0.4, 'n_units_l1': 50, 'dropout_l1': 0.4, 'n_units_l2': 200, 'dropout_l2': 0.2, 'learning_rate': 0.007445672033243181, 'validation_split': 0.3}. Best is trial 14 with value: 0.8333333134651184.\u001b[0m\n"
     ]
    },
    {
     "name": "stdout",
     "output_type": "stream",
     "text": [
      "1/1 [==============================] - 0s 24ms/step - loss: 0.7077 - accuracy: 0.5000\n"
     ]
    },
    {
     "name": "stderr",
     "output_type": "stream",
     "text": [
      "\u001b[32m[I 2022-05-12 10:07:22,589]\u001b[0m Trial 87 finished with value: 0.5 and parameters: {'n_layers': 4, 'n_units_l0': 200, 'dropout_l0': 0.5, 'n_units_l1': 100, 'dropout_l1': 0.30000000000000004, 'n_units_l2': 250, 'dropout_l2': 0.2, 'n_units_l3': 100, 'dropout_l3': 0.4, 'learning_rate': 0.03533541181005441, 'validation_split': 0.15}. Best is trial 14 with value: 0.8333333134651184.\u001b[0m\n"
     ]
    },
    {
     "name": "stdout",
     "output_type": "stream",
     "text": [
      "1/1 [==============================] - 0s 34ms/step - loss: 0.5145 - accuracy: 0.7778\n"
     ]
    },
    {
     "name": "stderr",
     "output_type": "stream",
     "text": [
      "\u001b[32m[I 2022-05-12 10:07:24,206]\u001b[0m Trial 88 finished with value: 0.7777777910232544 and parameters: {'n_layers': 3, 'n_units_l0': 50, 'dropout_l0': 0.5, 'n_units_l1': 50, 'dropout_l1': 0.30000000000000004, 'n_units_l2': 250, 'dropout_l2': 0.2, 'learning_rate': 0.004974460043146389, 'validation_split': 0.15}. Best is trial 14 with value: 0.8333333134651184.\u001b[0m\n"
     ]
    },
    {
     "name": "stdout",
     "output_type": "stream",
     "text": [
      "1/1 [==============================] - 0s 16ms/step - loss: 0.4848 - accuracy: 0.8333\n"
     ]
    },
    {
     "name": "stderr",
     "output_type": "stream",
     "text": [
      "\u001b[32m[I 2022-05-12 10:07:25,658]\u001b[0m Trial 89 finished with value: 0.8333333134651184 and parameters: {'n_layers': 3, 'n_units_l0': 50, 'dropout_l0': 0.5, 'n_units_l1': 50, 'dropout_l1': 0.30000000000000004, 'n_units_l2': 250, 'dropout_l2': 0.2, 'learning_rate': 0.010398833791935846, 'validation_split': 0.15}. Best is trial 14 with value: 0.8333333134651184.\u001b[0m\n"
     ]
    },
    {
     "name": "stdout",
     "output_type": "stream",
     "text": [
      "1/1 [==============================] - 0s 16ms/step - loss: 0.5570 - accuracy: 0.6667\n"
     ]
    },
    {
     "name": "stderr",
     "output_type": "stream",
     "text": [
      "\u001b[32m[I 2022-05-12 10:07:26,853]\u001b[0m Trial 90 finished with value: 0.6666666865348816 and parameters: {'n_layers': 3, 'n_units_l0': 50, 'dropout_l0': 0.5, 'n_units_l1': 50, 'dropout_l1': 0.2, 'n_units_l2': 200, 'dropout_l2': 0.30000000000000004, 'learning_rate': 0.02558628323074355, 'validation_split': 0.15}. Best is trial 14 with value: 0.8333333134651184.\u001b[0m\n"
     ]
    },
    {
     "name": "stdout",
     "output_type": "stream",
     "text": [
      "1/1 [==============================] - 0s 31ms/step - loss: 0.6706 - accuracy: 0.7222\n"
     ]
    },
    {
     "name": "stderr",
     "output_type": "stream",
     "text": [
      "\u001b[32m[I 2022-05-12 10:07:27,907]\u001b[0m Trial 91 finished with value: 0.7222222089767456 and parameters: {'n_layers': 3, 'n_units_l0': 50, 'dropout_l0': 0.4, 'n_units_l1': 50, 'dropout_l1': 0.30000000000000004, 'n_units_l2': 250, 'dropout_l2': 0.2, 'learning_rate': 0.020377293780967892, 'validation_split': 0.3}. Best is trial 14 with value: 0.8333333134651184.\u001b[0m\n"
     ]
    },
    {
     "name": "stdout",
     "output_type": "stream",
     "text": [
      "1/1 [==============================] - 0s 16ms/step - loss: 0.4030 - accuracy: 0.8333\n"
     ]
    },
    {
     "name": "stderr",
     "output_type": "stream",
     "text": [
      "\u001b[32m[I 2022-05-12 10:07:28,870]\u001b[0m Trial 92 finished with value: 0.8333333134651184 and parameters: {'n_layers': 2, 'n_units_l0': 100, 'dropout_l0': 0.4, 'n_units_l1': 50, 'dropout_l1': 0.30000000000000004, 'learning_rate': 0.015161952837483823, 'validation_split': 0.15}. Best is trial 14 with value: 0.8333333134651184.\u001b[0m\n"
     ]
    },
    {
     "name": "stdout",
     "output_type": "stream",
     "text": [
      "1/1 [==============================] - 0s 17ms/step - loss: 0.4451 - accuracy: 0.8333\n"
     ]
    },
    {
     "name": "stderr",
     "output_type": "stream",
     "text": [
      "\u001b[32m[I 2022-05-12 10:07:30,003]\u001b[0m Trial 93 finished with value: 0.8333333134651184 and parameters: {'n_layers': 3, 'n_units_l0': 50, 'dropout_l0': 0.5, 'n_units_l1': 50, 'dropout_l1': 0.30000000000000004, 'n_units_l2': 250, 'dropout_l2': 0.2, 'learning_rate': 0.014923568716826208, 'validation_split': 0.15}. Best is trial 14 with value: 0.8333333134651184.\u001b[0m\n"
     ]
    },
    {
     "name": "stdout",
     "output_type": "stream",
     "text": [
      "1/1 [==============================] - 0s 16ms/step - loss: 0.8755 - accuracy: 0.7778\n"
     ]
    },
    {
     "name": "stderr",
     "output_type": "stream",
     "text": [
      "\u001b[32m[I 2022-05-12 10:07:31,139]\u001b[0m Trial 94 finished with value: 0.7777777910232544 and parameters: {'n_layers': 3, 'n_units_l0': 50, 'dropout_l0': 0.5, 'n_units_l1': 50, 'dropout_l1': 0.30000000000000004, 'n_units_l2': 250, 'dropout_l2': 0.2, 'learning_rate': 0.01065883557019787, 'validation_split': 0.15}. Best is trial 14 with value: 0.8333333134651184.\u001b[0m\n"
     ]
    },
    {
     "name": "stdout",
     "output_type": "stream",
     "text": [
      "1/1 [==============================] - 0s 8ms/step - loss: 0.5239 - accuracy: 0.7222\n"
     ]
    },
    {
     "name": "stderr",
     "output_type": "stream",
     "text": [
      "\u001b[32m[I 2022-05-12 10:07:32,283]\u001b[0m Trial 95 finished with value: 0.7222222089767456 and parameters: {'n_layers': 3, 'n_units_l0': 50, 'dropout_l0': 0.5, 'n_units_l1': 50, 'dropout_l1': 0.30000000000000004, 'n_units_l2': 250, 'dropout_l2': 0.2, 'learning_rate': 0.014276625199474348, 'validation_split': 0.15}. Best is trial 14 with value: 0.8333333134651184.\u001b[0m\n"
     ]
    },
    {
     "name": "stdout",
     "output_type": "stream",
     "text": [
      "1/1 [==============================] - 0s 8ms/step - loss: 0.5343 - accuracy: 0.7778\n"
     ]
    },
    {
     "name": "stderr",
     "output_type": "stream",
     "text": [
      "\u001b[32m[I 2022-05-12 10:07:33,451]\u001b[0m Trial 96 finished with value: 0.7777777910232544 and parameters: {'n_layers': 3, 'n_units_l0': 50, 'dropout_l0': 0.5, 'n_units_l1': 50, 'dropout_l1': 0.30000000000000004, 'n_units_l2': 200, 'dropout_l2': 0.2, 'learning_rate': 0.01497203129874009, 'validation_split': 0.15}. Best is trial 14 with value: 0.8333333134651184.\u001b[0m\n"
     ]
    },
    {
     "name": "stdout",
     "output_type": "stream",
     "text": [
      "1/1 [==============================] - 0s 31ms/step - loss: 0.8586 - accuracy: 0.7778\n"
     ]
    },
    {
     "name": "stderr",
     "output_type": "stream",
     "text": [
      "\u001b[32m[I 2022-05-12 10:07:34,602]\u001b[0m Trial 97 finished with value: 0.7777777910232544 and parameters: {'n_layers': 3, 'n_units_l0': 50, 'dropout_l0': 0.5, 'n_units_l1': 50, 'dropout_l1': 0.30000000000000004, 'n_units_l2': 250, 'dropout_l2': 0.2, 'learning_rate': 0.01811695585231058, 'validation_split': 0.15}. Best is trial 14 with value: 0.8333333134651184.\u001b[0m\n"
     ]
    },
    {
     "name": "stdout",
     "output_type": "stream",
     "text": [
      "1/1 [==============================] - 0s 8ms/step - loss: 0.6168 - accuracy: 0.7222\n"
     ]
    },
    {
     "name": "stderr",
     "output_type": "stream",
     "text": [
      "\u001b[32m[I 2022-05-12 10:07:36,218]\u001b[0m Trial 98 finished with value: 0.7222222089767456 and parameters: {'n_layers': 3, 'n_units_l0': 50, 'dropout_l0': 0.5, 'n_units_l1': 50, 'dropout_l1': 0.30000000000000004, 'n_units_l2': 250, 'dropout_l2': 0.2, 'learning_rate': 0.012380151106254504, 'validation_split': 0.15}. Best is trial 14 with value: 0.8333333134651184.\u001b[0m\n"
     ]
    },
    {
     "name": "stdout",
     "output_type": "stream",
     "text": [
      "1/1 [==============================] - 0s 16ms/step - loss: 0.4710 - accuracy: 0.8333\n"
     ]
    },
    {
     "name": "stderr",
     "output_type": "stream",
     "text": [
      "\u001b[32m[I 2022-05-12 10:07:37,281]\u001b[0m Trial 99 finished with value: 0.8333333134651184 and parameters: {'n_layers': 3, 'n_units_l0': 50, 'dropout_l0': 0.30000000000000004, 'n_units_l1': 50, 'dropout_l1': 0.30000000000000004, 'n_units_l2': 200, 'dropout_l2': 0.30000000000000004, 'learning_rate': 0.022819132133019907, 'validation_split': 0.15}. Best is trial 14 with value: 0.8333333134651184.\u001b[0m\n"
     ]
    }
   ],
   "source": [
    "# Creamos un objeto \"study\" y buscamos la optimización de la función objetivo.\n",
    "study = optuna.create_study(direction='maximize')\n",
    "study.optimize(objectiveAdam2, n_trials=100)"
   ]
  },
  {
   "cell_type": "code",
   "execution_count": 21,
   "metadata": {},
   "outputs": [
    {
     "data": {
      "text/plain": [
       "FrozenTrial(number=14, values=[0.8333333134651184], datetime_start=datetime.datetime(2022, 5, 12, 10, 5, 47, 912270), datetime_complete=datetime.datetime(2022, 5, 12, 10, 5, 48, 893321), params={'n_layers': 2, 'n_units_l0': 200, 'dropout_l0': 0.30000000000000004, 'n_units_l1': 100, 'dropout_l1': 0.5, 'learning_rate': 0.09552242942606612, 'validation_split': 0.3}, distributions={'n_layers': IntUniformDistribution(high=5, low=2, step=1), 'n_units_l0': IntUniformDistribution(high=250, low=50, step=50), 'dropout_l0': DiscreteUniformDistribution(high=0.5, low=0.2, q=0.1), 'n_units_l1': IntUniformDistribution(high=250, low=50, step=50), 'dropout_l1': DiscreteUniformDistribution(high=0.5, low=0.2, q=0.1), 'learning_rate': UniformDistribution(high=0.1, low=1e-05), 'validation_split': DiscreteUniformDistribution(high=0.45, low=0.15, q=0.15)}, user_attrs={}, system_attrs={}, intermediate_values={}, trial_id=14, state=TrialState.COMPLETE, value=None)"
      ]
     },
     "execution_count": 21,
     "metadata": {},
     "output_type": "execute_result"
    }
   ],
   "source": [
    "study.best_trial"
   ]
  },
  {
   "cell_type": "markdown",
   "metadata": {},
   "source": [
    "La red con los parámetros optimizados es la siguiente:"
   ]
  },
  {
   "cell_type": "code",
   "execution_count": 22,
   "metadata": {},
   "outputs": [
    {
     "name": "stdout",
     "output_type": "stream",
     "text": [
      "Epoch 1/100\n",
      "2/2 [==============================] - 1s 184ms/step - loss: 3.5843 - acc: 0.3830 - val_loss: 40.0810 - val_acc: 0.3810\n",
      "Epoch 2/100\n",
      "2/2 [==============================] - 0s 22ms/step - loss: 22.3599 - acc: 0.5532 - val_loss: 5.4608 - val_acc: 0.6190\n",
      "Epoch 3/100\n",
      "2/2 [==============================] - 0s 20ms/step - loss: 5.5629 - acc: 0.5319 - val_loss: 1.1512 - val_acc: 0.5714\n",
      "Epoch 4/100\n",
      "2/2 [==============================] - 0s 22ms/step - loss: 0.8987 - acc: 0.7872 - val_loss: 2.0807 - val_acc: 0.4286\n",
      "Epoch 5/100\n",
      "2/2 [==============================] - 0s 29ms/step - loss: 2.0932 - acc: 0.7021 - val_loss: 1.8201 - val_acc: 0.7143\n",
      "Epoch 6/100\n",
      "2/2 [==============================] - 0s 31ms/step - loss: 2.6042 - acc: 0.8085 - val_loss: 1.7397 - val_acc: 0.7143\n",
      "Epoch 7/100\n",
      "2/2 [==============================] - 0s 23ms/step - loss: 0.4147 - acc: 0.8723 - val_loss: 1.3081 - val_acc: 0.6190\n",
      "Epoch 8/100\n",
      "2/2 [==============================] - 0s 31ms/step - loss: 0.9982 - acc: 0.8511 - val_loss: 1.1941 - val_acc: 0.6190\n",
      "Epoch 9/100\n",
      "2/2 [==============================] - 0s 29ms/step - loss: 0.7815 - acc: 0.8298 - val_loss: 1.4112 - val_acc: 0.5714\n",
      "Epoch 10/100\n",
      "2/2 [==============================] - 0s 23ms/step - loss: 1.2104 - acc: 0.7872 - val_loss: 1.8114 - val_acc: 0.6190\n",
      "1/1 [==============================] - 0s 17ms/step - loss: 1.2048 - acc: 0.8889\n",
      "Accuracy: 88.89%\n"
     ]
    }
   ],
   "source": [
    "# Definir y entrenar el modelo\n",
    "modelFC_optuna_Adam = models.Sequential()\n",
    "modelFC_optuna_Adam.add(layers.Dense(200, activation=\"relu\", input_shape=(410,)))\n",
    "modelFC_optuna_Adam.add(layers.Dropout(0.3))\n",
    "modelFC_optuna_Adam.add(layers.Dense(100, activation=\"relu\"))\n",
    "modelFC_optuna_Adam.add(layers.Dropout(0.5))\n",
    "modelFC_optuna_Adam.add(layers.Dense(2, activation=\"softmax\"))\n",
    "\n",
    "optimizer = tf.keras.optimizers.Adam(learning_rate=0.0955)\n",
    "modelFC_optuna_Adam.compile(loss=\"binary_crossentropy\", optimizer=optimizer, metrics=[\"acc\"])\n",
    "es = callbacks.EarlyStopping(monitor='val_acc', min_delta=0.01, patience=5)\n",
    "modelFC_optuna_Adam.fit(X_train, y_train_softmax, epochs=100, validation_split=0.3, callbacks=[es])\n",
    "\n",
    "# Precisión en partición de test\n",
    "loss, accuracy = modelFC_optuna_Adam.evaluate(X_test, y_test_softmax)\n",
    "print(\"Accuracy: {:0.2f}%\".format(accuracy * 100))"
   ]
  },
  {
   "cell_type": "markdown",
   "metadata": {},
   "source": [
    "Obtenemos un mayor accuracy utilizando la activación softmax. Sin embargo, parece que ahora la red tiene un problema de sobreajuste, ya que por ejemplo en la última época hay una diferencia entre la precisión en train y en validación del 17% aproximadamente. Vamos a tratar de reducir esta diferencia probando distintos tipos de regularización."
   ]
  },
  {
   "cell_type": "code",
   "execution_count": 17,
   "metadata": {},
   "outputs": [],
   "source": [
    "regularizers = [\"l1\", \"l2\", \"l1_l2\", None]"
   ]
  },
  {
   "cell_type": "code",
   "execution_count": 36,
   "metadata": {},
   "outputs": [
    {
     "name": "stdout",
     "output_type": "stream",
     "text": [
      "1/1 [==============================] - 0s 17ms/step - loss: 2.6101 - acc: 0.6111\n",
      "Accuracy : 61.11% ----- Regularización: l1\n",
      "1/1 [==============================] - 0s 17ms/step - loss: 3.2936 - acc: 0.6667\n",
      "Accuracy : 66.67% ----- Regularización: l2\n",
      "1/1 [==============================] - 0s 17ms/step - loss: 2.9783 - acc: 0.7778\n",
      "Accuracy : 77.78% ----- Regularización: l1_l2\n",
      "1/1 [==============================] - 0s 19ms/step - loss: 2.2684 - acc: 0.7222\n",
      "Accuracy : 72.22% ----- Regularización: None\n"
     ]
    }
   ],
   "source": [
    "for regularizer in regularizers:\n",
    "    modelFC_optuna_Adam = models.Sequential()\n",
    "    modelFC_optuna_Adam.add(layers.Dense(200, activation=\"relu\", input_shape=(410,)))\n",
    "    modelFC_optuna_Adam.add(layers.Dropout(0.3))\n",
    "    modelFC_optuna_Adam.add(layers.Dense(100, activation=\"relu\"))\n",
    "    modelFC_optuna_Adam.add(layers.Dropout(0.5))\n",
    "    modelFC_optuna_Adam.add(layers.Dense(2, activation=\"softmax\"))\n",
    "\n",
    "    optimizer = tf.keras.optimizers.Adam(learning_rate=0.0955)\n",
    "    modelFC_optuna_Adam.compile(loss=\"binary_crossentropy\", optimizer=optimizer, metrics=[\"acc\"])\n",
    "    es = callbacks.EarlyStopping(monitor='val_acc', min_delta=0.01, patience=5)\n",
    "    modelFC_optuna_Adam.fit(X_train, y_train_softmax, epochs=100, validation_split=0.3, callbacks=[es], verbose=0)\n",
    "\n",
    "    # Precisión en partición de test\n",
    "    loss, accuracy = modelFC_optuna_Adam.evaluate(X_test, y_test_softmax)\n",
    "    print(\"Accuracy : {:0.2f}% ----- Regularización: {}\".format(accuracy * 100, regularizer))"
   ]
  },
  {
   "cell_type": "markdown",
   "metadata": {},
   "source": [
    "Como en la búsqueda de hiperparámetros de ``sklearn`` no hemos podido utilizar el optimizador RMSProp, vamos a probarlo también con ``optuna`` + ``keras`` para ver si mejora nuestros resultados."
   ]
  },
  {
   "cell_type": "code",
   "execution_count": 22,
   "metadata": {},
   "outputs": [],
   "source": [
    "def objectiveRMSProp(trial):\n",
    "    modelFC_optuna_RMSProp = models.Sequential()\n",
    "\n",
    "    n_layers = trial.suggest_int(\"n_layers\", 2, 5, 1)\n",
    "    for i in range(n_layers):\n",
    "        num_hidden = trial.suggest_int(\"n_units_l{}\".format(i), 50, 250, 50)\n",
    "        modelFC_optuna_RMSProp.add(layers.Dense(num_hidden, activation=\"relu\"))\n",
    "        dropout = trial.suggest_float(\"dropout_l{}\".format(i), 0.2, 0.5, step=0.1)\n",
    "        modelFC_optuna_RMSProp.add(layers.Dropout(rate=dropout))\n",
    "    modelFC_optuna_RMSProp.add(layers.Dense(1, activation=\"sigmoid\"))\n",
    "\n",
    "    learning_rate = trial.suggest_float(\"learning_rate\", 1e-5, 1e-1)\n",
    "    modelFC_optuna_RMSProp.compile(\n",
    "        loss=\"categorical_crossentropy\",\n",
    "        optimizer=tf.keras.optimizers.RMSprop(learning_rate=learning_rate),\n",
    "        metrics=[\"accuracy\"],\n",
    "    )\n",
    "    \n",
    "    es = callbacks.EarlyStopping(monitor=\"val_accuracy\", min_delta=0.01, patience=5)\n",
    "    validation_split = trial.suggest_float(\"validation_split\", 0.15, 0.45, step=0.15)\n",
    "    modelFC_optuna_RMSProp.fit(X_train, y_train, callbacks=[es], epochs=100, validation_split=validation_split, verbose=0)\n",
    "\n",
    "    loss, accuracy = modelFC_optuna_RMSProp.evaluate(X_test, y_test)\n",
    "    return accuracy"
   ]
  },
  {
   "cell_type": "code",
   "execution_count": 23,
   "metadata": {},
   "outputs": [
    {
     "name": "stderr",
     "output_type": "stream",
     "text": [
      "\u001b[32m[I 2022-05-12 01:07:50,497]\u001b[0m A new study created in memory with name: no-name-6a4bb75c-6de6-45fa-9b91-863fc8446df5\u001b[0m\n"
     ]
    },
    {
     "name": "stdout",
     "output_type": "stream",
     "text": [
      "1/1 [==============================] - 0s 19ms/step - loss: 0.0000e+00 - accuracy: 0.4444\n"
     ]
    },
    {
     "name": "stderr",
     "output_type": "stream",
     "text": [
      "\u001b[32m[I 2022-05-12 01:07:51,562]\u001b[0m Trial 0 finished with value: 0.4444444477558136 and parameters: {'n_layers': 3, 'n_units_l0': 100, 'dropout_l0': 0.4, 'n_units_l1': 100, 'dropout_l1': 0.2, 'n_units_l2': 250, 'dropout_l2': 0.2, 'learning_rate': 0.04953085924859379, 'validation_split': 0.44999999999999996}. Best is trial 0 with value: 0.4444444477558136.\u001b[0m\n"
     ]
    },
    {
     "name": "stdout",
     "output_type": "stream",
     "text": [
      "1/1 [==============================] - 0s 31ms/step - loss: 0.0000e+00 - accuracy: 0.4444\n"
     ]
    },
    {
     "name": "stderr",
     "output_type": "stream",
     "text": [
      "\u001b[32m[I 2022-05-12 01:07:52,610]\u001b[0m Trial 1 finished with value: 0.4444444477558136 and parameters: {'n_layers': 3, 'n_units_l0': 100, 'dropout_l0': 0.2, 'n_units_l1': 250, 'dropout_l1': 0.5, 'n_units_l2': 100, 'dropout_l2': 0.2, 'learning_rate': 0.04674131796647285, 'validation_split': 0.44999999999999996}. Best is trial 0 with value: 0.4444444477558136.\u001b[0m\n"
     ]
    },
    {
     "name": "stdout",
     "output_type": "stream",
     "text": [
      "1/1 [==============================] - 0s 34ms/step - loss: 0.0000e+00 - accuracy: 0.4444\n"
     ]
    },
    {
     "name": "stderr",
     "output_type": "stream",
     "text": [
      "\u001b[32m[I 2022-05-12 01:07:54,585]\u001b[0m Trial 2 finished with value: 0.4444444477558136 and parameters: {'n_layers': 5, 'n_units_l0': 150, 'dropout_l0': 0.2, 'n_units_l1': 150, 'dropout_l1': 0.4, 'n_units_l2': 150, 'dropout_l2': 0.4, 'n_units_l3': 50, 'dropout_l3': 0.4, 'n_units_l4': 100, 'dropout_l4': 0.5, 'learning_rate': 0.09803514047546093, 'validation_split': 0.15}. Best is trial 0 with value: 0.4444444477558136.\u001b[0m\n"
     ]
    },
    {
     "name": "stdout",
     "output_type": "stream",
     "text": [
      "1/1 [==============================] - 0s 32ms/step - loss: 0.0000e+00 - accuracy: 0.4444\n"
     ]
    },
    {
     "name": "stderr",
     "output_type": "stream",
     "text": [
      "\u001b[32m[I 2022-05-12 01:07:56,010]\u001b[0m Trial 3 finished with value: 0.4444444477558136 and parameters: {'n_layers': 3, 'n_units_l0': 250, 'dropout_l0': 0.30000000000000004, 'n_units_l1': 250, 'dropout_l1': 0.4, 'n_units_l2': 100, 'dropout_l2': 0.30000000000000004, 'learning_rate': 0.06652943354760175, 'validation_split': 0.44999999999999996}. Best is trial 0 with value: 0.4444444477558136.\u001b[0m\n"
     ]
    },
    {
     "name": "stdout",
     "output_type": "stream",
     "text": [
      "1/1 [==============================] - 0s 16ms/step - loss: 0.0000e+00 - accuracy: 0.4444\n"
     ]
    },
    {
     "name": "stderr",
     "output_type": "stream",
     "text": [
      "\u001b[32m[I 2022-05-12 01:07:57,048]\u001b[0m Trial 4 finished with value: 0.4444444477558136 and parameters: {'n_layers': 2, 'n_units_l0': 150, 'dropout_l0': 0.30000000000000004, 'n_units_l1': 150, 'dropout_l1': 0.2, 'learning_rate': 0.09649858620055567, 'validation_split': 0.15}. Best is trial 0 with value: 0.4444444477558136.\u001b[0m\n"
     ]
    },
    {
     "name": "stdout",
     "output_type": "stream",
     "text": [
      "1/1 [==============================] - 0s 48ms/step - loss: 0.0000e+00 - accuracy: 0.4444\n"
     ]
    },
    {
     "name": "stderr",
     "output_type": "stream",
     "text": [
      "\u001b[32m[I 2022-05-12 01:07:58,998]\u001b[0m Trial 5 finished with value: 0.4444444477558136 and parameters: {'n_layers': 5, 'n_units_l0': 150, 'dropout_l0': 0.30000000000000004, 'n_units_l1': 50, 'dropout_l1': 0.30000000000000004, 'n_units_l2': 100, 'dropout_l2': 0.2, 'n_units_l3': 250, 'dropout_l3': 0.5, 'n_units_l4': 100, 'dropout_l4': 0.5, 'learning_rate': 0.010176531110766185, 'validation_split': 0.15}. Best is trial 0 with value: 0.4444444477558136.\u001b[0m\n"
     ]
    },
    {
     "name": "stdout",
     "output_type": "stream",
     "text": [
      "1/1 [==============================] - 0s 29ms/step - loss: 0.0000e+00 - accuracy: 0.4444\n"
     ]
    },
    {
     "name": "stderr",
     "output_type": "stream",
     "text": [
      "\u001b[32m[I 2022-05-12 01:08:01,257]\u001b[0m Trial 6 finished with value: 0.4444444477558136 and parameters: {'n_layers': 5, 'n_units_l0': 150, 'dropout_l0': 0.5, 'n_units_l1': 150, 'dropout_l1': 0.4, 'n_units_l2': 250, 'dropout_l2': 0.2, 'n_units_l3': 100, 'dropout_l3': 0.2, 'n_units_l4': 250, 'dropout_l4': 0.30000000000000004, 'learning_rate': 0.08581106232765211, 'validation_split': 0.3}. Best is trial 0 with value: 0.4444444477558136.\u001b[0m\n"
     ]
    },
    {
     "name": "stdout",
     "output_type": "stream",
     "text": [
      "1/1 [==============================] - 0s 30ms/step - loss: 0.0000e+00 - accuracy: 0.4444\n"
     ]
    },
    {
     "name": "stderr",
     "output_type": "stream",
     "text": [
      "\u001b[32m[I 2022-05-12 01:08:02,824]\u001b[0m Trial 7 finished with value: 0.4444444477558136 and parameters: {'n_layers': 4, 'n_units_l0': 50, 'dropout_l0': 0.4, 'n_units_l1': 200, 'dropout_l1': 0.2, 'n_units_l2': 150, 'dropout_l2': 0.30000000000000004, 'n_units_l3': 100, 'dropout_l3': 0.30000000000000004, 'learning_rate': 0.003068306900152749, 'validation_split': 0.15}. Best is trial 0 with value: 0.4444444477558136.\u001b[0m\n"
     ]
    },
    {
     "name": "stdout",
     "output_type": "stream",
     "text": [
      "1/1 [==============================] - 0s 31ms/step - loss: 0.0000e+00 - accuracy: 0.4444\n"
     ]
    },
    {
     "name": "stderr",
     "output_type": "stream",
     "text": [
      "\u001b[32m[I 2022-05-12 01:08:04,473]\u001b[0m Trial 8 finished with value: 0.4444444477558136 and parameters: {'n_layers': 5, 'n_units_l0': 150, 'dropout_l0': 0.30000000000000004, 'n_units_l1': 200, 'dropout_l1': 0.30000000000000004, 'n_units_l2': 150, 'dropout_l2': 0.30000000000000004, 'n_units_l3': 50, 'dropout_l3': 0.30000000000000004, 'n_units_l4': 50, 'dropout_l4': 0.30000000000000004, 'learning_rate': 0.09851084589860772, 'validation_split': 0.44999999999999996}. Best is trial 0 with value: 0.4444444477558136.\u001b[0m\n"
     ]
    },
    {
     "name": "stdout",
     "output_type": "stream",
     "text": [
      "1/1 [==============================] - 0s 16ms/step - loss: 0.0000e+00 - accuracy: 0.4444\n"
     ]
    },
    {
     "name": "stderr",
     "output_type": "stream",
     "text": [
      "\u001b[32m[I 2022-05-12 01:08:05,920]\u001b[0m Trial 9 finished with value: 0.4444444477558136 and parameters: {'n_layers': 4, 'n_units_l0': 100, 'dropout_l0': 0.5, 'n_units_l1': 200, 'dropout_l1': 0.30000000000000004, 'n_units_l2': 250, 'dropout_l2': 0.5, 'n_units_l3': 250, 'dropout_l3': 0.30000000000000004, 'learning_rate': 0.03033930594592583, 'validation_split': 0.3}. Best is trial 0 with value: 0.4444444477558136.\u001b[0m\n"
     ]
    },
    {
     "name": "stdout",
     "output_type": "stream",
     "text": [
      "1/1 [==============================] - 0s 16ms/step - loss: 0.0000e+00 - accuracy: 0.4444\n"
     ]
    },
    {
     "name": "stderr",
     "output_type": "stream",
     "text": [
      "\u001b[32m[I 2022-05-12 01:08:06,843]\u001b[0m Trial 10 finished with value: 0.4444444477558136 and parameters: {'n_layers': 2, 'n_units_l0': 250, 'dropout_l0': 0.4, 'n_units_l1': 50, 'dropout_l1': 0.2, 'learning_rate': 0.059347723243167796, 'validation_split': 0.44999999999999996}. Best is trial 0 with value: 0.4444444477558136.\u001b[0m\n"
     ]
    },
    {
     "name": "stdout",
     "output_type": "stream",
     "text": [
      "1/1 [==============================] - 0s 23ms/step - loss: 0.0000e+00 - accuracy: 0.4444\n"
     ]
    },
    {
     "name": "stderr",
     "output_type": "stream",
     "text": [
      "\u001b[32m[I 2022-05-12 01:08:07,913]\u001b[0m Trial 11 finished with value: 0.4444444477558136 and parameters: {'n_layers': 3, 'n_units_l0': 50, 'dropout_l0': 0.2, 'n_units_l1': 100, 'dropout_l1': 0.5, 'n_units_l2': 50, 'dropout_l2': 0.2, 'learning_rate': 0.03811769546968982, 'validation_split': 0.44999999999999996}. Best is trial 0 with value: 0.4444444477558136.\u001b[0m\n"
     ]
    },
    {
     "name": "stdout",
     "output_type": "stream",
     "text": [
      "1/1 [==============================] - 0s 16ms/step - loss: 0.0000e+00 - accuracy: 0.4444\n"
     ]
    },
    {
     "name": "stderr",
     "output_type": "stream",
     "text": [
      "\u001b[32m[I 2022-05-12 01:08:08,862]\u001b[0m Trial 12 finished with value: 0.4444444477558136 and parameters: {'n_layers': 3, 'n_units_l0': 100, 'dropout_l0': 0.4, 'n_units_l1': 100, 'dropout_l1': 0.5, 'n_units_l2': 200, 'dropout_l2': 0.2, 'learning_rate': 0.044225668292568646, 'validation_split': 0.3}. Best is trial 0 with value: 0.4444444477558136.\u001b[0m\n"
     ]
    },
    {
     "name": "stdout",
     "output_type": "stream",
     "text": [
      "1/1 [==============================] - 0s 31ms/step - loss: 0.0000e+00 - accuracy: 0.4444\n"
     ]
    },
    {
     "name": "stderr",
     "output_type": "stream",
     "text": [
      "\u001b[32m[I 2022-05-12 01:08:10,063]\u001b[0m Trial 13 finished with value: 0.4444444477558136 and parameters: {'n_layers': 3, 'n_units_l0': 100, 'dropout_l0': 0.2, 'n_units_l1': 250, 'dropout_l1': 0.5, 'n_units_l2': 50, 'dropout_l2': 0.4, 'learning_rate': 0.0224580935920337, 'validation_split': 0.44999999999999996}. Best is trial 0 with value: 0.4444444477558136.\u001b[0m\n"
     ]
    },
    {
     "name": "stdout",
     "output_type": "stream",
     "text": [
      "1/1 [==============================] - 0s 31ms/step - loss: 0.0000e+00 - accuracy: 0.4444\n"
     ]
    },
    {
     "name": "stderr",
     "output_type": "stream",
     "text": [
      "\u001b[32m[I 2022-05-12 01:08:11,469]\u001b[0m Trial 14 finished with value: 0.4444444477558136 and parameters: {'n_layers': 2, 'n_units_l0': 200, 'dropout_l0': 0.4, 'n_units_l1': 100, 'dropout_l1': 0.30000000000000004, 'learning_rate': 0.05792372386018771, 'validation_split': 0.44999999999999996}. Best is trial 0 with value: 0.4444444477558136.\u001b[0m\n"
     ]
    },
    {
     "name": "stdout",
     "output_type": "stream",
     "text": [
      "1/1 [==============================] - 0s 31ms/step - loss: 0.0000e+00 - accuracy: 0.4444\n"
     ]
    },
    {
     "name": "stderr",
     "output_type": "stream",
     "text": [
      "\u001b[32m[I 2022-05-12 01:08:12,988]\u001b[0m Trial 15 finished with value: 0.4444444477558136 and parameters: {'n_layers': 4, 'n_units_l0': 100, 'dropout_l0': 0.5, 'n_units_l1': 250, 'dropout_l1': 0.4, 'n_units_l2': 200, 'dropout_l2': 0.2, 'n_units_l3': 200, 'dropout_l3': 0.5, 'learning_rate': 0.06895646617238436, 'validation_split': 0.3}. Best is trial 0 with value: 0.4444444477558136.\u001b[0m\n"
     ]
    },
    {
     "name": "stdout",
     "output_type": "stream",
     "text": [
      "1/1 [==============================] - 0s 16ms/step - loss: 0.0000e+00 - accuracy: 0.4444\n"
     ]
    },
    {
     "name": "stderr",
     "output_type": "stream",
     "text": [
      "\u001b[32m[I 2022-05-12 01:08:14,067]\u001b[0m Trial 16 finished with value: 0.4444444477558136 and parameters: {'n_layers': 3, 'n_units_l0': 50, 'dropout_l0': 0.2, 'n_units_l1': 100, 'dropout_l1': 0.5, 'n_units_l2': 100, 'dropout_l2': 0.30000000000000004, 'learning_rate': 0.05019186412194747, 'validation_split': 0.44999999999999996}. Best is trial 0 with value: 0.4444444477558136.\u001b[0m\n"
     ]
    },
    {
     "name": "stdout",
     "output_type": "stream",
     "text": [
      "1/1 [==============================] - 0s 16ms/step - loss: 0.0000e+00 - accuracy: 0.4444\n"
     ]
    },
    {
     "name": "stderr",
     "output_type": "stream",
     "text": [
      "\u001b[32m[I 2022-05-12 01:08:14,954]\u001b[0m Trial 17 finished with value: 0.4444444477558136 and parameters: {'n_layers': 2, 'n_units_l0': 200, 'dropout_l0': 0.4, 'n_units_l1': 100, 'dropout_l1': 0.2, 'learning_rate': 0.07729021399500041, 'validation_split': 0.3}. Best is trial 0 with value: 0.4444444477558136.\u001b[0m\n"
     ]
    },
    {
     "name": "stdout",
     "output_type": "stream",
     "text": [
      "1/1 [==============================] - 0s 16ms/step - loss: 0.0000e+00 - accuracy: 0.4444\n"
     ]
    },
    {
     "name": "stderr",
     "output_type": "stream",
     "text": [
      "\u001b[32m[I 2022-05-12 01:08:16,670]\u001b[0m Trial 18 finished with value: 0.4444444477558136 and parameters: {'n_layers': 4, 'n_units_l0': 100, 'dropout_l0': 0.5, 'n_units_l1': 200, 'dropout_l1': 0.4, 'n_units_l2': 200, 'dropout_l2': 0.5, 'n_units_l3': 200, 'dropout_l3': 0.5, 'learning_rate': 0.07293173369397264, 'validation_split': 0.3}. Best is trial 0 with value: 0.4444444477558136.\u001b[0m\n"
     ]
    },
    {
     "name": "stdout",
     "output_type": "stream",
     "text": [
      "1/1 [==============================] - 0s 31ms/step - loss: 0.0000e+00 - accuracy: 0.4444\n"
     ]
    },
    {
     "name": "stderr",
     "output_type": "stream",
     "text": [
      "\u001b[32m[I 2022-05-12 01:08:17,997]\u001b[0m Trial 19 finished with value: 0.4444444477558136 and parameters: {'n_layers': 3, 'n_units_l0': 50, 'dropout_l0': 0.30000000000000004, 'n_units_l1': 50, 'dropout_l1': 0.30000000000000004, 'n_units_l2': 250, 'dropout_l2': 0.30000000000000004, 'learning_rate': 0.02427121705399138, 'validation_split': 0.44999999999999996}. Best is trial 0 with value: 0.4444444477558136.\u001b[0m\n"
     ]
    },
    {
     "name": "stdout",
     "output_type": "stream",
     "text": [
      "1/1 [==============================] - 0s 16ms/step - loss: 0.0000e+00 - accuracy: 0.4444\n"
     ]
    },
    {
     "name": "stderr",
     "output_type": "stream",
     "text": [
      "\u001b[32m[I 2022-05-12 01:08:19,024]\u001b[0m Trial 20 finished with value: 0.4444444477558136 and parameters: {'n_layers': 2, 'n_units_l0': 200, 'dropout_l0': 0.4, 'n_units_l1': 100, 'dropout_l1': 0.2, 'learning_rate': 0.08194699068194555, 'validation_split': 0.3}. Best is trial 0 with value: 0.4444444477558136.\u001b[0m\n"
     ]
    },
    {
     "name": "stdout",
     "output_type": "stream",
     "text": [
      "1/1 [==============================] - 0s 31ms/step - loss: 0.0000e+00 - accuracy: 0.4444\n"
     ]
    },
    {
     "name": "stderr",
     "output_type": "stream",
     "text": [
      "\u001b[32m[I 2022-05-12 01:08:20,175]\u001b[0m Trial 21 finished with value: 0.4444444477558136 and parameters: {'n_layers': 4, 'n_units_l0': 200, 'dropout_l0': 0.5, 'n_units_l1': 200, 'dropout_l1': 0.2, 'n_units_l2': 200, 'dropout_l2': 0.5, 'n_units_l3': 150, 'dropout_l3': 0.5, 'learning_rate': 0.07682533424977897, 'validation_split': 0.3}. Best is trial 0 with value: 0.4444444477558136.\u001b[0m\n"
     ]
    },
    {
     "name": "stdout",
     "output_type": "stream",
     "text": [
      "1/1 [==============================] - 0s 31ms/step - loss: 0.0000e+00 - accuracy: 0.4444\n"
     ]
    },
    {
     "name": "stderr",
     "output_type": "stream",
     "text": [
      "\u001b[32m[I 2022-05-12 01:08:21,785]\u001b[0m Trial 22 finished with value: 0.4444444477558136 and parameters: {'n_layers': 4, 'n_units_l0': 50, 'dropout_l0': 0.30000000000000004, 'n_units_l1': 50, 'dropout_l1': 0.30000000000000004, 'n_units_l2': 250, 'dropout_l2': 0.4, 'n_units_l3': 200, 'dropout_l3': 0.4, 'learning_rate': 0.0174752238942312, 'validation_split': 0.44999999999999996}. Best is trial 0 with value: 0.4444444477558136.\u001b[0m\n"
     ]
    },
    {
     "name": "stdout",
     "output_type": "stream",
     "text": [
      "1/1 [==============================] - 0s 31ms/step - loss: 0.0000e+00 - accuracy: 0.4444\n"
     ]
    },
    {
     "name": "stderr",
     "output_type": "stream",
     "text": [
      "\u001b[32m[I 2022-05-12 01:08:23,293]\u001b[0m Trial 23 finished with value: 0.4444444477558136 and parameters: {'n_layers': 2, 'n_units_l0': 200, 'dropout_l0': 0.4, 'n_units_l1': 50, 'dropout_l1': 0.2, 'learning_rate': 0.03195095196152639, 'validation_split': 0.3}. Best is trial 0 with value: 0.4444444477558136.\u001b[0m\n"
     ]
    },
    {
     "name": "stdout",
     "output_type": "stream",
     "text": [
      "1/1 [==============================] - 0s 16ms/step - loss: 0.0000e+00 - accuracy: 0.4444\n"
     ]
    },
    {
     "name": "stderr",
     "output_type": "stream",
     "text": [
      "\u001b[32m[I 2022-05-12 01:08:24,513]\u001b[0m Trial 24 finished with value: 0.4444444477558136 and parameters: {'n_layers': 4, 'n_units_l0': 200, 'dropout_l0': 0.5, 'n_units_l1': 150, 'dropout_l1': 0.2, 'n_units_l2': 200, 'dropout_l2': 0.5, 'n_units_l3': 150, 'dropout_l3': 0.4, 'learning_rate': 0.08392218318210859, 'validation_split': 0.3}. Best is trial 0 with value: 0.4444444477558136.\u001b[0m\n"
     ]
    },
    {
     "name": "stdout",
     "output_type": "stream",
     "text": [
      "1/1 [==============================] - 0s 31ms/step - loss: 0.0000e+00 - accuracy: 0.4444\n"
     ]
    },
    {
     "name": "stderr",
     "output_type": "stream",
     "text": [
      "\u001b[32m[I 2022-05-12 01:08:25,757]\u001b[0m Trial 25 finished with value: 0.4444444477558136 and parameters: {'n_layers': 4, 'n_units_l0': 50, 'dropout_l0': 0.30000000000000004, 'n_units_l1': 50, 'dropout_l1': 0.30000000000000004, 'n_units_l2': 250, 'dropout_l2': 0.4, 'n_units_l3': 150, 'dropout_l3': 0.4, 'learning_rate': 0.013603910462713946, 'validation_split': 0.44999999999999996}. Best is trial 0 with value: 0.4444444477558136.\u001b[0m\n"
     ]
    },
    {
     "name": "stdout",
     "output_type": "stream",
     "text": [
      "1/1 [==============================] - 0s 16ms/step - loss: 0.0000e+00 - accuracy: 0.4444\n"
     ]
    },
    {
     "name": "stderr",
     "output_type": "stream",
     "text": [
      "\u001b[32m[I 2022-05-12 01:08:26,686]\u001b[0m Trial 26 finished with value: 0.4444444477558136 and parameters: {'n_layers': 2, 'n_units_l0': 250, 'dropout_l0': 0.4, 'n_units_l1': 50, 'dropout_l1': 0.2, 'learning_rate': 0.034221165433755724, 'validation_split': 0.44999999999999996}. Best is trial 0 with value: 0.4444444477558136.\u001b[0m\n"
     ]
    },
    {
     "name": "stdout",
     "output_type": "stream",
     "text": [
      "1/1 [==============================] - 0s 31ms/step - loss: 0.0000e+00 - accuracy: 0.4444\n"
     ]
    },
    {
     "name": "stderr",
     "output_type": "stream",
     "text": [
      "\u001b[32m[I 2022-05-12 01:08:27,779]\u001b[0m Trial 27 finished with value: 0.4444444477558136 and parameters: {'n_layers': 3, 'n_units_l0': 200, 'dropout_l0': 0.5, 'n_units_l1': 150, 'dropout_l1': 0.2, 'n_units_l2': 200, 'dropout_l2': 0.5, 'learning_rate': 0.05391935875408842, 'validation_split': 0.3}. Best is trial 0 with value: 0.4444444477558136.\u001b[0m\n"
     ]
    },
    {
     "name": "stdout",
     "output_type": "stream",
     "text": [
      "1/1 [==============================] - 0s 31ms/step - loss: 0.0000e+00 - accuracy: 0.4444\n"
     ]
    },
    {
     "name": "stderr",
     "output_type": "stream",
     "text": [
      "\u001b[32m[I 2022-05-12 01:08:29,244]\u001b[0m Trial 28 finished with value: 0.4444444477558136 and parameters: {'n_layers': 4, 'n_units_l0': 50, 'dropout_l0': 0.30000000000000004, 'n_units_l1': 100, 'dropout_l1': 0.30000000000000004, 'n_units_l2': 250, 'dropout_l2': 0.4, 'n_units_l3': 150, 'dropout_l3': 0.4, 'learning_rate': 0.08679251924705872, 'validation_split': 0.44999999999999996}. Best is trial 0 with value: 0.4444444477558136.\u001b[0m\n"
     ]
    },
    {
     "name": "stdout",
     "output_type": "stream",
     "text": [
      "1/1 [==============================] - 0s 31ms/step - loss: 0.0000e+00 - accuracy: 0.4444\n"
     ]
    },
    {
     "name": "stderr",
     "output_type": "stream",
     "text": [
      "\u001b[32m[I 2022-05-12 01:08:30,560]\u001b[0m Trial 29 finished with value: 0.4444444477558136 and parameters: {'n_layers': 3, 'n_units_l0': 250, 'dropout_l0': 0.4, 'n_units_l1': 50, 'dropout_l1': 0.30000000000000004, 'n_units_l2': 250, 'dropout_l2': 0.4, 'learning_rate': 0.03812411501776758, 'validation_split': 0.44999999999999996}. Best is trial 0 with value: 0.4444444477558136.\u001b[0m\n"
     ]
    },
    {
     "name": "stdout",
     "output_type": "stream",
     "text": [
      "1/1 [==============================] - 0s 16ms/step - loss: 0.0000e+00 - accuracy: 0.4444\n"
     ]
    },
    {
     "name": "stderr",
     "output_type": "stream",
     "text": [
      "\u001b[32m[I 2022-05-12 01:08:31,639]\u001b[0m Trial 30 finished with value: 0.4444444477558136 and parameters: {'n_layers': 3, 'n_units_l0': 250, 'dropout_l0': 0.5, 'n_units_l1': 150, 'dropout_l1': 0.2, 'n_units_l2': 150, 'dropout_l2': 0.5, 'learning_rate': 0.05280160299007021, 'validation_split': 0.44999999999999996}. Best is trial 0 with value: 0.4444444477558136.\u001b[0m\n"
     ]
    },
    {
     "name": "stdout",
     "output_type": "stream",
     "text": [
      "1/1 [==============================] - 0s 16ms/step - loss: 0.0000e+00 - accuracy: 0.4444\n"
     ]
    },
    {
     "name": "stderr",
     "output_type": "stream",
     "text": [
      "\u001b[32m[I 2022-05-12 01:08:32,679]\u001b[0m Trial 31 finished with value: 0.4444444477558136 and parameters: {'n_layers': 3, 'n_units_l0': 250, 'dropout_l0': 0.4, 'n_units_l1': 100, 'dropout_l1': 0.2, 'n_units_l2': 200, 'dropout_l2': 0.4, 'learning_rate': 0.044802389968678524, 'validation_split': 0.44999999999999996}. Best is trial 0 with value: 0.4444444477558136.\u001b[0m\n"
     ]
    },
    {
     "name": "stdout",
     "output_type": "stream",
     "text": [
      "1/1 [==============================] - 0s 16ms/step - loss: 0.0000e+00 - accuracy: 0.4444\n"
     ]
    },
    {
     "name": "stderr",
     "output_type": "stream",
     "text": [
      "\u001b[32m[I 2022-05-12 01:08:33,939]\u001b[0m Trial 32 finished with value: 0.4444444477558136 and parameters: {'n_layers': 3, 'n_units_l0': 150, 'dropout_l0': 0.4, 'n_units_l1': 150, 'dropout_l1': 0.30000000000000004, 'n_units_l2': 250, 'dropout_l2': 0.4, 'learning_rate': 0.04091607589096561, 'validation_split': 0.44999999999999996}. Best is trial 0 with value: 0.4444444477558136.\u001b[0m\n"
     ]
    },
    {
     "name": "stdout",
     "output_type": "stream",
     "text": [
      "1/1 [==============================] - 0s 16ms/step - loss: 0.0000e+00 - accuracy: 0.4444\n"
     ]
    },
    {
     "name": "stderr",
     "output_type": "stream",
     "text": [
      "\u001b[32m[I 2022-05-12 01:08:35,192]\u001b[0m Trial 33 finished with value: 0.4444444477558136 and parameters: {'n_layers': 3, 'n_units_l0': 250, 'dropout_l0': 0.30000000000000004, 'n_units_l1': 100, 'dropout_l1': 0.30000000000000004, 'n_units_l2': 250, 'dropout_l2': 0.4, 'learning_rate': 0.061859051032988326, 'validation_split': 0.44999999999999996}. Best is trial 0 with value: 0.4444444477558136.\u001b[0m\n"
     ]
    },
    {
     "name": "stdout",
     "output_type": "stream",
     "text": [
      "1/1 [==============================] - 0s 16ms/step - loss: 0.0000e+00 - accuracy: 0.4444\n"
     ]
    },
    {
     "name": "stderr",
     "output_type": "stream",
     "text": [
      "\u001b[32m[I 2022-05-12 01:08:36,605]\u001b[0m Trial 34 finished with value: 0.4444444477558136 and parameters: {'n_layers': 3, 'n_units_l0': 250, 'dropout_l0': 0.4, 'n_units_l1': 150, 'dropout_l1': 0.2, 'n_units_l2': 150, 'dropout_l2': 0.5, 'learning_rate': 0.047727089297335816, 'validation_split': 0.44999999999999996}. Best is trial 0 with value: 0.4444444477558136.\u001b[0m\n"
     ]
    },
    {
     "name": "stdout",
     "output_type": "stream",
     "text": [
      "1/1 [==============================] - 0s 16ms/step - loss: 0.0000e+00 - accuracy: 0.4444\n"
     ]
    },
    {
     "name": "stderr",
     "output_type": "stream",
     "text": [
      "\u001b[32m[I 2022-05-12 01:08:37,466]\u001b[0m Trial 35 finished with value: 0.4444444477558136 and parameters: {'n_layers': 2, 'n_units_l0': 200, 'dropout_l0': 0.30000000000000004, 'n_units_l1': 200, 'dropout_l1': 0.2, 'learning_rate': 0.07985929086770234, 'validation_split': 0.15}. Best is trial 0 with value: 0.4444444477558136.\u001b[0m\n"
     ]
    },
    {
     "name": "stdout",
     "output_type": "stream",
     "text": [
      "1/1 [==============================] - 0s 31ms/step - loss: 0.0000e+00 - accuracy: 0.4444\n"
     ]
    },
    {
     "name": "stderr",
     "output_type": "stream",
     "text": [
      "\u001b[32m[I 2022-05-12 01:08:38,997]\u001b[0m Trial 36 finished with value: 0.4444444477558136 and parameters: {'n_layers': 5, 'n_units_l0': 150, 'dropout_l0': 0.5, 'n_units_l1': 100, 'dropout_l1': 0.2, 'n_units_l2': 200, 'dropout_l2': 0.30000000000000004, 'n_units_l3': 200, 'dropout_l3': 0.5, 'n_units_l4': 250, 'dropout_l4': 0.2, 'learning_rate': 0.09159936980056836, 'validation_split': 0.3}. Best is trial 0 with value: 0.4444444477558136.\u001b[0m\n"
     ]
    },
    {
     "name": "stdout",
     "output_type": "stream",
     "text": [
      "1/1 [==============================] - 0s 31ms/step - loss: 0.0000e+00 - accuracy: 0.4444\n"
     ]
    },
    {
     "name": "stderr",
     "output_type": "stream",
     "text": [
      "\u001b[32m[I 2022-05-12 01:08:40,428]\u001b[0m Trial 37 finished with value: 0.4444444477558136 and parameters: {'n_layers': 4, 'n_units_l0': 200, 'dropout_l0': 0.30000000000000004, 'n_units_l1': 50, 'dropout_l1': 0.2, 'n_units_l2': 200, 'dropout_l2': 0.5, 'n_units_l3': 200, 'dropout_l3': 0.5, 'learning_rate': 0.07221459829017023, 'validation_split': 0.3}. Best is trial 0 with value: 0.4444444477558136.\u001b[0m\n"
     ]
    },
    {
     "name": "stdout",
     "output_type": "stream",
     "text": [
      "1/1 [==============================] - 0s 16ms/step - loss: 0.0000e+00 - accuracy: 0.4444\n"
     ]
    },
    {
     "name": "stderr",
     "output_type": "stream",
     "text": [
      "\u001b[32m[I 2022-05-12 01:08:41,922]\u001b[0m Trial 38 finished with value: 0.4444444477558136 and parameters: {'n_layers': 4, 'n_units_l0': 100, 'dropout_l0': 0.2, 'n_units_l1': 50, 'dropout_l1': 0.2, 'n_units_l2': 250, 'dropout_l2': 0.5, 'n_units_l3': 100, 'dropout_l3': 0.4, 'learning_rate': 0.017011222208639612, 'validation_split': 0.3}. Best is trial 0 with value: 0.4444444477558136.\u001b[0m\n"
     ]
    },
    {
     "name": "stdout",
     "output_type": "stream",
     "text": [
      "1/1 [==============================] - 0s 16ms/step - loss: 0.0000e+00 - accuracy: 0.4444\n"
     ]
    },
    {
     "name": "stderr",
     "output_type": "stream",
     "text": [
      "\u001b[32m[I 2022-05-12 01:08:43,490]\u001b[0m Trial 39 finished with value: 0.4444444477558136 and parameters: {'n_layers': 5, 'n_units_l0': 150, 'dropout_l0': 0.4, 'n_units_l1': 50, 'dropout_l1': 0.4, 'n_units_l2': 200, 'dropout_l2': 0.4, 'n_units_l3': 250, 'dropout_l3': 0.2, 'n_units_l4': 200, 'dropout_l4': 0.4, 'learning_rate': 0.002858039457712812, 'validation_split': 0.15}. Best is trial 0 with value: 0.4444444477558136.\u001b[0m\n"
     ]
    },
    {
     "name": "stdout",
     "output_type": "stream",
     "text": [
      "1/1 [==============================] - 0s 31ms/step - loss: 0.0000e+00 - accuracy: 0.4444\n"
     ]
    },
    {
     "name": "stderr",
     "output_type": "stream",
     "text": [
      "\u001b[32m[I 2022-05-12 01:08:44,710]\u001b[0m Trial 40 finished with value: 0.4444444477558136 and parameters: {'n_layers': 4, 'n_units_l0': 100, 'dropout_l0': 0.30000000000000004, 'n_units_l1': 50, 'dropout_l1': 0.2, 'n_units_l2': 250, 'dropout_l2': 0.30000000000000004, 'n_units_l3': 200, 'dropout_l3': 0.4, 'learning_rate': 0.030136079716033052, 'validation_split': 0.3}. Best is trial 0 with value: 0.4444444477558136.\u001b[0m\n"
     ]
    },
    {
     "name": "stdout",
     "output_type": "stream",
     "text": [
      "1/1 [==============================] - 0s 31ms/step - loss: 0.0000e+00 - accuracy: 0.4444\n"
     ]
    },
    {
     "name": "stderr",
     "output_type": "stream",
     "text": [
      "\u001b[32m[I 2022-05-12 01:08:46,432]\u001b[0m Trial 41 finished with value: 0.4444444477558136 and parameters: {'n_layers': 4, 'n_units_l0': 50, 'dropout_l0': 0.30000000000000004, 'n_units_l1': 50, 'dropout_l1': 0.30000000000000004, 'n_units_l2': 250, 'dropout_l2': 0.4, 'n_units_l3': 150, 'dropout_l3': 0.4, 'learning_rate': 0.01186744717834513, 'validation_split': 0.3}. Best is trial 0 with value: 0.4444444477558136.\u001b[0m\n"
     ]
    },
    {
     "name": "stdout",
     "output_type": "stream",
     "text": [
      "1/1 [==============================] - 0s 31ms/step - loss: 0.0000e+00 - accuracy: 0.4444\n"
     ]
    },
    {
     "name": "stderr",
     "output_type": "stream",
     "text": [
      "\u001b[32m[I 2022-05-12 01:08:47,338]\u001b[0m Trial 42 finished with value: 0.4444444477558136 and parameters: {'n_layers': 2, 'n_units_l0': 200, 'dropout_l0': 0.4, 'n_units_l1': 50, 'dropout_l1': 0.2, 'learning_rate': 0.03241344581719357, 'validation_split': 0.44999999999999996}. Best is trial 0 with value: 0.4444444477558136.\u001b[0m\n"
     ]
    },
    {
     "name": "stdout",
     "output_type": "stream",
     "text": [
      "1/1 [==============================] - 0s 16ms/step - loss: 0.0000e+00 - accuracy: 0.4444\n"
     ]
    },
    {
     "name": "stderr",
     "output_type": "stream",
     "text": [
      "\u001b[32m[I 2022-05-12 01:08:48,171]\u001b[0m Trial 43 finished with value: 0.4444444477558136 and parameters: {'n_layers': 2, 'n_units_l0': 150, 'dropout_l0': 0.4, 'n_units_l1': 50, 'dropout_l1': 0.2, 'learning_rate': 0.02640002463097567, 'validation_split': 0.3}. Best is trial 0 with value: 0.4444444477558136.\u001b[0m\n"
     ]
    },
    {
     "name": "stdout",
     "output_type": "stream",
     "text": [
      "1/1 [==============================] - 0s 16ms/step - loss: 0.0000e+00 - accuracy: 0.4444\n"
     ]
    },
    {
     "name": "stderr",
     "output_type": "stream",
     "text": [
      "\u001b[32m[I 2022-05-12 01:08:49,256]\u001b[0m Trial 44 finished with value: 0.4444444477558136 and parameters: {'n_layers': 4, 'n_units_l0': 250, 'dropout_l0': 0.5, 'n_units_l1': 150, 'dropout_l1': 0.2, 'n_units_l2': 200, 'dropout_l2': 0.5, 'n_units_l3': 100, 'dropout_l3': 0.30000000000000004, 'learning_rate': 0.059049930539365324, 'validation_split': 0.44999999999999996}. Best is trial 0 with value: 0.4444444477558136.\u001b[0m\n"
     ]
    },
    {
     "name": "stdout",
     "output_type": "stream",
     "text": [
      "1/1 [==============================] - 0s 31ms/step - loss: 0.0000e+00 - accuracy: 0.4444\n"
     ]
    },
    {
     "name": "stderr",
     "output_type": "stream",
     "text": [
      "\u001b[32m[I 2022-05-12 01:08:50,403]\u001b[0m Trial 45 finished with value: 0.4444444477558136 and parameters: {'n_layers': 3, 'n_units_l0': 150, 'dropout_l0': 0.5, 'n_units_l1': 150, 'dropout_l1': 0.2, 'n_units_l2': 200, 'dropout_l2': 0.5, 'learning_rate': 0.05342200875195833, 'validation_split': 0.15}. Best is trial 0 with value: 0.4444444477558136.\u001b[0m\n"
     ]
    },
    {
     "name": "stdout",
     "output_type": "stream",
     "text": [
      "1/1 [==============================] - 0s 31ms/step - loss: 0.0000e+00 - accuracy: 0.4444\n"
     ]
    },
    {
     "name": "stderr",
     "output_type": "stream",
     "text": [
      "\u001b[32m[I 2022-05-12 01:08:51,965]\u001b[0m Trial 46 finished with value: 0.4444444477558136 and parameters: {'n_layers': 5, 'n_units_l0': 50, 'dropout_l0': 0.30000000000000004, 'n_units_l1': 100, 'dropout_l1': 0.30000000000000004, 'n_units_l2': 250, 'dropout_l2': 0.4, 'n_units_l3': 150, 'dropout_l3': 0.30000000000000004, 'n_units_l4': 150, 'dropout_l4': 0.2, 'learning_rate': 0.008642158233495033, 'validation_split': 0.44999999999999996}. Best is trial 0 with value: 0.4444444477558136.\u001b[0m\n"
     ]
    },
    {
     "name": "stdout",
     "output_type": "stream",
     "text": [
      "1/1 [==============================] - 0s 16ms/step - loss: 0.0000e+00 - accuracy: 0.4444\n"
     ]
    },
    {
     "name": "stderr",
     "output_type": "stream",
     "text": [
      "\u001b[32m[I 2022-05-12 01:08:53,151]\u001b[0m Trial 47 finished with value: 0.4444444477558136 and parameters: {'n_layers': 4, 'n_units_l0': 50, 'dropout_l0': 0.30000000000000004, 'n_units_l1': 100, 'dropout_l1': 0.30000000000000004, 'n_units_l2': 250, 'dropout_l2': 0.30000000000000004, 'n_units_l3': 150, 'dropout_l3': 0.4, 'learning_rate': 0.06440177326827634, 'validation_split': 0.44999999999999996}. Best is trial 0 with value: 0.4444444477558136.\u001b[0m\n"
     ]
    },
    {
     "name": "stdout",
     "output_type": "stream",
     "text": [
      "1/1 [==============================] - 0s 31ms/step - loss: 0.0000e+00 - accuracy: 0.4444\n"
     ]
    },
    {
     "name": "stderr",
     "output_type": "stream",
     "text": [
      "\u001b[32m[I 2022-05-12 01:08:54,449]\u001b[0m Trial 48 finished with value: 0.4444444477558136 and parameters: {'n_layers': 3, 'n_units_l0': 250, 'dropout_l0': 0.4, 'n_units_l1': 100, 'dropout_l1': 0.4, 'n_units_l2': 250, 'dropout_l2': 0.4, 'learning_rate': 0.03678451704126672, 'validation_split': 0.44999999999999996}. Best is trial 0 with value: 0.4444444477558136.\u001b[0m\n"
     ]
    },
    {
     "name": "stdout",
     "output_type": "stream",
     "text": [
      "1/1 [==============================] - 0s 31ms/step - loss: 0.0000e+00 - accuracy: 0.4444\n"
     ]
    },
    {
     "name": "stderr",
     "output_type": "stream",
     "text": [
      "\u001b[32m[I 2022-05-12 01:08:55,486]\u001b[0m Trial 49 finished with value: 0.4444444477558136 and parameters: {'n_layers': 3, 'n_units_l0': 250, 'dropout_l0': 0.4, 'n_units_l1': 150, 'dropout_l1': 0.30000000000000004, 'n_units_l2': 250, 'dropout_l2': 0.2, 'learning_rate': 0.040648894522549196, 'validation_split': 0.44999999999999996}. Best is trial 0 with value: 0.4444444477558136.\u001b[0m\n"
     ]
    },
    {
     "name": "stdout",
     "output_type": "stream",
     "text": [
      "1/1 [==============================] - 0s 16ms/step - loss: 0.0000e+00 - accuracy: 0.4444\n"
     ]
    },
    {
     "name": "stderr",
     "output_type": "stream",
     "text": [
      "\u001b[32m[I 2022-05-12 01:08:56,795]\u001b[0m Trial 50 finished with value: 0.4444444477558136 and parameters: {'n_layers': 3, 'n_units_l0': 250, 'dropout_l0': 0.5, 'n_units_l1': 150, 'dropout_l1': 0.30000000000000004, 'n_units_l2': 150, 'dropout_l2': 0.5, 'learning_rate': 0.055151975780520834, 'validation_split': 0.44999999999999996}. Best is trial 0 with value: 0.4444444477558136.\u001b[0m\n"
     ]
    },
    {
     "name": "stdout",
     "output_type": "stream",
     "text": [
      "1/1 [==============================] - 0s 16ms/step - loss: 0.0000e+00 - accuracy: 0.4444\n"
     ]
    },
    {
     "name": "stderr",
     "output_type": "stream",
     "text": [
      "\u001b[32m[I 2022-05-12 01:08:58,049]\u001b[0m Trial 51 finished with value: 0.4444444477558136 and parameters: {'n_layers': 3, 'n_units_l0': 250, 'dropout_l0': 0.5, 'n_units_l1': 150, 'dropout_l1': 0.2, 'n_units_l2': 150, 'dropout_l2': 0.4, 'learning_rate': 0.045137921079161154, 'validation_split': 0.44999999999999996}. Best is trial 0 with value: 0.4444444477558136.\u001b[0m\n"
     ]
    },
    {
     "name": "stdout",
     "output_type": "stream",
     "text": [
      "1/1 [==============================] - 0s 31ms/step - loss: 0.0000e+00 - accuracy: 0.4444\n"
     ]
    },
    {
     "name": "stderr",
     "output_type": "stream",
     "text": [
      "\u001b[32m[I 2022-05-12 01:08:59,433]\u001b[0m Trial 52 finished with value: 0.4444444477558136 and parameters: {'n_layers': 3, 'n_units_l0': 100, 'dropout_l0': 0.4, 'n_units_l1': 100, 'dropout_l1': 0.30000000000000004, 'n_units_l2': 100, 'dropout_l2': 0.4, 'learning_rate': 0.041641120947042205, 'validation_split': 0.44999999999999996}. Best is trial 0 with value: 0.4444444477558136.\u001b[0m\n"
     ]
    },
    {
     "name": "stdout",
     "output_type": "stream",
     "text": [
      "1/1 [==============================] - 0s 31ms/step - loss: 0.0000e+00 - accuracy: 0.4444\n"
     ]
    },
    {
     "name": "stderr",
     "output_type": "stream",
     "text": [
      "\u001b[32m[I 2022-05-12 01:09:00,985]\u001b[0m Trial 53 finished with value: 0.4444444477558136 and parameters: {'n_layers': 3, 'n_units_l0': 250, 'dropout_l0': 0.4, 'n_units_l1': 100, 'dropout_l1': 0.30000000000000004, 'n_units_l2': 150, 'dropout_l2': 0.4, 'learning_rate': 0.048994074871517, 'validation_split': 0.44999999999999996}. Best is trial 0 with value: 0.4444444477558136.\u001b[0m\n"
     ]
    },
    {
     "name": "stdout",
     "output_type": "stream",
     "text": [
      "1/1 [==============================] - 0s 31ms/step - loss: 0.0000e+00 - accuracy: 0.4444\n"
     ]
    },
    {
     "name": "stderr",
     "output_type": "stream",
     "text": [
      "\u001b[32m[I 2022-05-12 01:09:02,363]\u001b[0m Trial 54 finished with value: 0.4444444477558136 and parameters: {'n_layers': 3, 'n_units_l0': 250, 'dropout_l0': 0.4, 'n_units_l1': 100, 'dropout_l1': 0.4, 'n_units_l2': 250, 'dropout_l2': 0.4, 'learning_rate': 0.06630605576382415, 'validation_split': 0.44999999999999996}. Best is trial 0 with value: 0.4444444477558136.\u001b[0m\n"
     ]
    },
    {
     "name": "stdout",
     "output_type": "stream",
     "text": [
      "1/1 [==============================] - 0s 31ms/step - loss: 0.0000e+00 - accuracy: 0.4444\n"
     ]
    },
    {
     "name": "stderr",
     "output_type": "stream",
     "text": [
      "\u001b[32m[I 2022-05-12 01:09:03,606]\u001b[0m Trial 55 finished with value: 0.4444444477558136 and parameters: {'n_layers': 3, 'n_units_l0': 250, 'dropout_l0': 0.4, 'n_units_l1': 200, 'dropout_l1': 0.30000000000000004, 'n_units_l2': 250, 'dropout_l2': 0.4, 'learning_rate': 0.041741045793888064, 'validation_split': 0.44999999999999996}. Best is trial 0 with value: 0.4444444477558136.\u001b[0m\n"
     ]
    },
    {
     "name": "stdout",
     "output_type": "stream",
     "text": [
      "1/1 [==============================] - 0s 16ms/step - loss: 0.0000e+00 - accuracy: 0.4444\n"
     ]
    },
    {
     "name": "stderr",
     "output_type": "stream",
     "text": [
      "\u001b[32m[I 2022-05-12 01:09:04,618]\u001b[0m Trial 56 finished with value: 0.4444444477558136 and parameters: {'n_layers': 3, 'n_units_l0': 250, 'dropout_l0': 0.4, 'n_units_l1': 150, 'dropout_l1': 0.2, 'n_units_l2': 150, 'dropout_l2': 0.5, 'learning_rate': 0.049830408938270995, 'validation_split': 0.44999999999999996}. Best is trial 0 with value: 0.4444444477558136.\u001b[0m\n"
     ]
    },
    {
     "name": "stdout",
     "output_type": "stream",
     "text": [
      "1/1 [==============================] - 0s 16ms/step - loss: 0.0000e+00 - accuracy: 0.4444\n"
     ]
    },
    {
     "name": "stderr",
     "output_type": "stream",
     "text": [
      "\u001b[32m[I 2022-05-12 01:09:05,965]\u001b[0m Trial 57 finished with value: 0.4444444477558136 and parameters: {'n_layers': 3, 'n_units_l0': 250, 'dropout_l0': 0.4, 'n_units_l1': 150, 'dropout_l1': 0.2, 'n_units_l2': 150, 'dropout_l2': 0.5, 'learning_rate': 0.060406108573750075, 'validation_split': 0.44999999999999996}. Best is trial 0 with value: 0.4444444477558136.\u001b[0m\n"
     ]
    },
    {
     "name": "stdout",
     "output_type": "stream",
     "text": [
      "1/1 [==============================] - 0s 31ms/step - loss: 0.0000e+00 - accuracy: 0.4444\n"
     ]
    },
    {
     "name": "stderr",
     "output_type": "stream",
     "text": [
      "\u001b[32m[I 2022-05-12 01:09:07,436]\u001b[0m Trial 58 finished with value: 0.4444444477558136 and parameters: {'n_layers': 2, 'n_units_l0': 200, 'dropout_l0': 0.30000000000000004, 'n_units_l1': 200, 'dropout_l1': 0.2, 'learning_rate': 0.047486746678216805, 'validation_split': 0.15}. Best is trial 0 with value: 0.4444444477558136.\u001b[0m\n"
     ]
    },
    {
     "name": "stdout",
     "output_type": "stream",
     "text": [
      "1/1 [==============================] - 0s 16ms/step - loss: 0.0000e+00 - accuracy: 0.4444\n"
     ]
    },
    {
     "name": "stderr",
     "output_type": "stream",
     "text": [
      "\u001b[32m[I 2022-05-12 01:09:08,728]\u001b[0m Trial 59 finished with value: 0.4444444477558136 and parameters: {'n_layers': 3, 'n_units_l0': 150, 'dropout_l0': 0.30000000000000004, 'n_units_l1': 250, 'dropout_l1': 0.2, 'n_units_l2': 100, 'dropout_l2': 0.2, 'learning_rate': 0.0629463598721868, 'validation_split': 0.15}. Best is trial 0 with value: 0.4444444477558136.\u001b[0m\n"
     ]
    },
    {
     "name": "stdout",
     "output_type": "stream",
     "text": [
      "1/1 [==============================] - 0s 16ms/step - loss: 0.0000e+00 - accuracy: 0.4444\n"
     ]
    },
    {
     "name": "stderr",
     "output_type": "stream",
     "text": [
      "\u001b[32m[I 2022-05-12 01:09:10,422]\u001b[0m Trial 60 finished with value: 0.4444444477558136 and parameters: {'n_layers': 5, 'n_units_l0': 150, 'dropout_l0': 0.30000000000000004, 'n_units_l1': 200, 'dropout_l1': 0.2, 'n_units_l2': 200, 'dropout_l2': 0.30000000000000004, 'n_units_l3': 250, 'dropout_l3': 0.2, 'n_units_l4': 250, 'dropout_l4': 0.2, 'learning_rate': 0.08965911952849057, 'validation_split': 0.15}. Best is trial 0 with value: 0.4444444477558136.\u001b[0m\n"
     ]
    },
    {
     "name": "stdout",
     "output_type": "stream",
     "text": [
      "1/1 [==============================] - 0s 16ms/step - loss: 0.0000e+00 - accuracy: 0.4444\n"
     ]
    },
    {
     "name": "stderr",
     "output_type": "stream",
     "text": [
      "\u001b[32m[I 2022-05-12 01:09:11,684]\u001b[0m Trial 61 finished with value: 0.4444444477558136 and parameters: {'n_layers': 5, 'n_units_l0': 150, 'dropout_l0': 0.30000000000000004, 'n_units_l1': 100, 'dropout_l1': 0.2, 'n_units_l2': 200, 'dropout_l2': 0.2, 'n_units_l3': 200, 'dropout_l3': 0.5, 'n_units_l4': 200, 'dropout_l4': 0.2, 'learning_rate': 0.093124041815078, 'validation_split': 0.3}. Best is trial 0 with value: 0.4444444477558136.\u001b[0m\n"
     ]
    },
    {
     "name": "stdout",
     "output_type": "stream",
     "text": [
      "1/1 [==============================] - 0s 16ms/step - loss: 0.0000e+00 - accuracy: 0.4444\n"
     ]
    },
    {
     "name": "stderr",
     "output_type": "stream",
     "text": [
      "\u001b[32m[I 2022-05-12 01:09:13,190]\u001b[0m Trial 62 finished with value: 0.4444444477558136 and parameters: {'n_layers': 5, 'n_units_l0': 100, 'dropout_l0': 0.2, 'n_units_l1': 50, 'dropout_l1': 0.2, 'n_units_l2': 200, 'dropout_l2': 0.5, 'n_units_l3': 100, 'dropout_l3': 0.5, 'n_units_l4': 200, 'dropout_l4': 0.4, 'learning_rate': 0.07036307600182062, 'validation_split': 0.3}. Best is trial 0 with value: 0.4444444477558136.\u001b[0m\n"
     ]
    },
    {
     "name": "stdout",
     "output_type": "stream",
     "text": [
      "1/1 [==============================] - 0s 31ms/step - loss: 0.0000e+00 - accuracy: 0.4444\n"
     ]
    },
    {
     "name": "stderr",
     "output_type": "stream",
     "text": [
      "\u001b[32m[I 2022-05-12 01:09:14,741]\u001b[0m Trial 63 finished with value: 0.4444444477558136 and parameters: {'n_layers': 4, 'n_units_l0': 100, 'dropout_l0': 0.2, 'n_units_l1': 100, 'dropout_l1': 0.2, 'n_units_l2': 150, 'dropout_l2': 0.5, 'n_units_l3': 200, 'dropout_l3': 0.5, 'learning_rate': 0.07736997836965526, 'validation_split': 0.3}. Best is trial 0 with value: 0.4444444477558136.\u001b[0m\n"
     ]
    },
    {
     "name": "stdout",
     "output_type": "stream",
     "text": [
      "1/1 [==============================] - 0s 16ms/step - loss: 0.0000e+00 - accuracy: 0.4444\n"
     ]
    },
    {
     "name": "stderr",
     "output_type": "stream",
     "text": [
      "\u001b[32m[I 2022-05-12 01:09:16,226]\u001b[0m Trial 64 finished with value: 0.4444444477558136 and parameters: {'n_layers': 5, 'n_units_l0': 150, 'dropout_l0': 0.2, 'n_units_l1': 50, 'dropout_l1': 0.4, 'n_units_l2': 200, 'dropout_l2': 0.30000000000000004, 'n_units_l3': 250, 'dropout_l3': 0.2, 'n_units_l4': 200, 'dropout_l4': 0.4, 'learning_rate': 0.006892684345174961, 'validation_split': 0.15}. Best is trial 0 with value: 0.4444444477558136.\u001b[0m\n"
     ]
    },
    {
     "name": "stdout",
     "output_type": "stream",
     "text": [
      "1/1 [==============================] - 0s 31ms/step - loss: 0.0000e+00 - accuracy: 0.4444\n"
     ]
    },
    {
     "name": "stderr",
     "output_type": "stream",
     "text": [
      "\u001b[32m[I 2022-05-12 01:09:17,486]\u001b[0m Trial 65 finished with value: 0.4444444477558136 and parameters: {'n_layers': 5, 'n_units_l0': 100, 'dropout_l0': 0.2, 'n_units_l1': 50, 'dropout_l1': 0.4, 'n_units_l2': 200, 'dropout_l2': 0.5, 'n_units_l3': 250, 'dropout_l3': 0.5, 'n_units_l4': 250, 'dropout_l4': 0.4, 'learning_rate': 0.01777196086917053, 'validation_split': 0.15}. Best is trial 0 with value: 0.4444444477558136.\u001b[0m\n"
     ]
    },
    {
     "name": "stdout",
     "output_type": "stream",
     "text": [
      "1/1 [==============================] - 0s 31ms/step - loss: 0.0000e+00 - accuracy: 0.4444\n"
     ]
    },
    {
     "name": "stderr",
     "output_type": "stream",
     "text": [
      "\u001b[32m[I 2022-05-12 01:09:18,923]\u001b[0m Trial 66 finished with value: 0.4444444477558136 and parameters: {'n_layers': 4, 'n_units_l0': 100, 'dropout_l0': 0.2, 'n_units_l1': 50, 'dropout_l1': 0.2, 'n_units_l2': 200, 'dropout_l2': 0.30000000000000004, 'n_units_l3': 200, 'dropout_l3': 0.4, 'learning_rate': 0.0013878022139776468, 'validation_split': 0.3}. Best is trial 0 with value: 0.4444444477558136.\u001b[0m\n"
     ]
    },
    {
     "name": "stdout",
     "output_type": "stream",
     "text": [
      "1/1 [==============================] - 0s 31ms/step - loss: 0.0000e+00 - accuracy: 0.4444\n"
     ]
    },
    {
     "name": "stderr",
     "output_type": "stream",
     "text": [
      "\u001b[32m[I 2022-05-12 01:09:20,492]\u001b[0m Trial 67 finished with value: 0.4444444477558136 and parameters: {'n_layers': 5, 'n_units_l0': 100, 'dropout_l0': 0.30000000000000004, 'n_units_l1': 50, 'dropout_l1': 0.5, 'n_units_l2': 250, 'dropout_l2': 0.30000000000000004, 'n_units_l3': 200, 'dropout_l3': 0.4, 'n_units_l4': 200, 'dropout_l4': 0.30000000000000004, 'learning_rate': 0.09561084865591446, 'validation_split': 0.3}. Best is trial 0 with value: 0.4444444477558136.\u001b[0m\n"
     ]
    },
    {
     "name": "stdout",
     "output_type": "stream",
     "text": [
      "1/1 [==============================] - 0s 16ms/step - loss: 0.0000e+00 - accuracy: 0.4444\n"
     ]
    },
    {
     "name": "stderr",
     "output_type": "stream",
     "text": [
      "\u001b[32m[I 2022-05-12 01:09:22,097]\u001b[0m Trial 68 finished with value: 0.4444444477558136 and parameters: {'n_layers': 4, 'n_units_l0': 100, 'dropout_l0': 0.30000000000000004, 'n_units_l1': 50, 'dropout_l1': 0.4, 'n_units_l2': 250, 'dropout_l2': 0.30000000000000004, 'n_units_l3': 200, 'dropout_l3': 0.4, 'learning_rate': 0.004278470278366517, 'validation_split': 0.3}. Best is trial 0 with value: 0.4444444477558136.\u001b[0m\n"
     ]
    },
    {
     "name": "stdout",
     "output_type": "stream",
     "text": [
      "1/1 [==============================] - 0s 31ms/step - loss: 0.0000e+00 - accuracy: 0.4444\n"
     ]
    },
    {
     "name": "stderr",
     "output_type": "stream",
     "text": [
      "\u001b[32m[I 2022-05-12 01:09:23,413]\u001b[0m Trial 69 finished with value: 0.4444444477558136 and parameters: {'n_layers': 4, 'n_units_l0': 150, 'dropout_l0': 0.30000000000000004, 'n_units_l1': 50, 'dropout_l1': 0.4, 'n_units_l2': 250, 'dropout_l2': 0.30000000000000004, 'n_units_l3': 200, 'dropout_l3': 0.4, 'learning_rate': 0.019481960891380313, 'validation_split': 0.3}. Best is trial 0 with value: 0.4444444477558136.\u001b[0m\n"
     ]
    },
    {
     "name": "stdout",
     "output_type": "stream",
     "text": [
      "1/1 [==============================] - 0s 16ms/step - loss: 0.0000e+00 - accuracy: 0.4444\n"
     ]
    },
    {
     "name": "stderr",
     "output_type": "stream",
     "text": [
      "\u001b[32m[I 2022-05-12 01:09:24,799]\u001b[0m Trial 70 finished with value: 0.4444444477558136 and parameters: {'n_layers': 4, 'n_units_l0': 200, 'dropout_l0': 0.30000000000000004, 'n_units_l1': 50, 'dropout_l1': 0.2, 'n_units_l2': 250, 'dropout_l2': 0.2, 'n_units_l3': 50, 'dropout_l3': 0.4, 'learning_rate': 0.01276173628481599, 'validation_split': 0.3}. Best is trial 0 with value: 0.4444444477558136.\u001b[0m\n"
     ]
    },
    {
     "name": "stdout",
     "output_type": "stream",
     "text": [
      "1/1 [==============================] - 0s 31ms/step - loss: 0.0000e+00 - accuracy: 0.4444\n"
     ]
    },
    {
     "name": "stderr",
     "output_type": "stream",
     "text": [
      "\u001b[32m[I 2022-05-12 01:09:26,232]\u001b[0m Trial 71 finished with value: 0.4444444477558136 and parameters: {'n_layers': 3, 'n_units_l0': 50, 'dropout_l0': 0.5, 'n_units_l1': 150, 'dropout_l1': 0.30000000000000004, 'n_units_l2': 150, 'dropout_l2': 0.2, 'learning_rate': 0.05526517277670416, 'validation_split': 0.44999999999999996}. Best is trial 0 with value: 0.4444444477558136.\u001b[0m\n"
     ]
    },
    {
     "name": "stdout",
     "output_type": "stream",
     "text": [
      "1/1 [==============================] - 0s 31ms/step - loss: 0.0000e+00 - accuracy: 0.4444\n"
     ]
    },
    {
     "name": "stderr",
     "output_type": "stream",
     "text": [
      "\u001b[32m[I 2022-05-12 01:09:27,979]\u001b[0m Trial 72 finished with value: 0.4444444477558136 and parameters: {'n_layers': 3, 'n_units_l0': 50, 'dropout_l0': 0.5, 'n_units_l1': 100, 'dropout_l1': 0.30000000000000004, 'n_units_l2': 50, 'dropout_l2': 0.2, 'learning_rate': 0.044450659949510356, 'validation_split': 0.44999999999999996}. Best is trial 0 with value: 0.4444444477558136.\u001b[0m\n"
     ]
    },
    {
     "name": "stdout",
     "output_type": "stream",
     "text": [
      "1/1 [==============================] - 0s 16ms/step - loss: 0.0000e+00 - accuracy: 0.4444\n"
     ]
    },
    {
     "name": "stderr",
     "output_type": "stream",
     "text": [
      "\u001b[32m[I 2022-05-12 01:09:29,141]\u001b[0m Trial 73 finished with value: 0.4444444477558136 and parameters: {'n_layers': 3, 'n_units_l0': 50, 'dropout_l0': 0.5, 'n_units_l1': 100, 'dropout_l1': 0.30000000000000004, 'n_units_l2': 100, 'dropout_l2': 0.4, 'learning_rate': 0.03866670668805729, 'validation_split': 0.44999999999999996}. Best is trial 0 with value: 0.4444444477558136.\u001b[0m\n"
     ]
    },
    {
     "name": "stdout",
     "output_type": "stream",
     "text": [
      "1/1 [==============================] - 0s 31ms/step - loss: 0.0000e+00 - accuracy: 0.4444\n"
     ]
    },
    {
     "name": "stderr",
     "output_type": "stream",
     "text": [
      "\u001b[32m[I 2022-05-12 01:09:30,282]\u001b[0m Trial 74 finished with value: 0.4444444477558136 and parameters: {'n_layers': 3, 'n_units_l0': 250, 'dropout_l0': 0.4, 'n_units_l1': 100, 'dropout_l1': 0.30000000000000004, 'n_units_l2': 100, 'dropout_l2': 0.2, 'learning_rate': 0.035189886641115484, 'validation_split': 0.44999999999999996}. Best is trial 0 with value: 0.4444444477558136.\u001b[0m\n"
     ]
    },
    {
     "name": "stdout",
     "output_type": "stream",
     "text": [
      "1/1 [==============================] - 0s 31ms/step - loss: 0.0000e+00 - accuracy: 0.4444\n"
     ]
    },
    {
     "name": "stderr",
     "output_type": "stream",
     "text": [
      "\u001b[32m[I 2022-05-12 01:09:31,926]\u001b[0m Trial 75 finished with value: 0.4444444477558136 and parameters: {'n_layers': 3, 'n_units_l0': 250, 'dropout_l0': 0.4, 'n_units_l1': 150, 'dropout_l1': 0.30000000000000004, 'n_units_l2': 150, 'dropout_l2': 0.4, 'learning_rate': 0.05657438500364518, 'validation_split': 0.44999999999999996}. Best is trial 0 with value: 0.4444444477558136.\u001b[0m\n"
     ]
    },
    {
     "name": "stdout",
     "output_type": "stream",
     "text": [
      "1/1 [==============================] - 0s 16ms/step - loss: 0.0000e+00 - accuracy: 0.4444\n"
     ]
    },
    {
     "name": "stderr",
     "output_type": "stream",
     "text": [
      "\u001b[32m[I 2022-05-12 01:09:33,246]\u001b[0m Trial 76 finished with value: 0.4444444477558136 and parameters: {'n_layers': 3, 'n_units_l0': 250, 'dropout_l0': 0.4, 'n_units_l1': 100, 'dropout_l1': 0.4, 'n_units_l2': 100, 'dropout_l2': 0.4, 'learning_rate': 0.05105770483215894, 'validation_split': 0.44999999999999996}. Best is trial 0 with value: 0.4444444477558136.\u001b[0m\n"
     ]
    },
    {
     "name": "stdout",
     "output_type": "stream",
     "text": [
      "1/1 [==============================] - 0s 16ms/step - loss: 0.0000e+00 - accuracy: 0.4444\n"
     ]
    },
    {
     "name": "stderr",
     "output_type": "stream",
     "text": [
      "\u001b[32m[I 2022-05-12 01:09:34,375]\u001b[0m Trial 77 finished with value: 0.4444444477558136 and parameters: {'n_layers': 3, 'n_units_l0': 250, 'dropout_l0': 0.4, 'n_units_l1': 100, 'dropout_l1': 0.4, 'n_units_l2': 150, 'dropout_l2': 0.4, 'learning_rate': 0.04116898753469505, 'validation_split': 0.44999999999999996}. Best is trial 0 with value: 0.4444444477558136.\u001b[0m\n"
     ]
    },
    {
     "name": "stdout",
     "output_type": "stream",
     "text": [
      "1/1 [==============================] - 0s 16ms/step - loss: 0.0000e+00 - accuracy: 0.4444\n"
     ]
    },
    {
     "name": "stderr",
     "output_type": "stream",
     "text": [
      "\u001b[32m[I 2022-05-12 01:09:35,382]\u001b[0m Trial 78 finished with value: 0.4444444477558136 and parameters: {'n_layers': 3, 'n_units_l0': 250, 'dropout_l0': 0.4, 'n_units_l1': 150, 'dropout_l1': 0.30000000000000004, 'n_units_l2': 150, 'dropout_l2': 0.4, 'learning_rate': 0.04153737999731872, 'validation_split': 0.44999999999999996}. Best is trial 0 with value: 0.4444444477558136.\u001b[0m\n"
     ]
    },
    {
     "name": "stdout",
     "output_type": "stream",
     "text": [
      "1/1 [==============================] - 0s 31ms/step - loss: 0.0000e+00 - accuracy: 0.4444\n"
     ]
    },
    {
     "name": "stderr",
     "output_type": "stream",
     "text": [
      "\u001b[32m[I 2022-05-12 01:09:36,529]\u001b[0m Trial 79 finished with value: 0.4444444477558136 and parameters: {'n_layers': 3, 'n_units_l0': 250, 'dropout_l0': 0.4, 'n_units_l1': 150, 'dropout_l1': 0.30000000000000004, 'n_units_l2': 150, 'dropout_l2': 0.4, 'learning_rate': 0.04919911162522264, 'validation_split': 0.44999999999999996}. Best is trial 0 with value: 0.4444444477558136.\u001b[0m\n"
     ]
    },
    {
     "name": "stdout",
     "output_type": "stream",
     "text": [
      "1/1 [==============================] - 0s 31ms/step - loss: 0.0000e+00 - accuracy: 0.4444\n"
     ]
    },
    {
     "name": "stderr",
     "output_type": "stream",
     "text": [
      "\u001b[32m[I 2022-05-12 01:09:37,948]\u001b[0m Trial 80 finished with value: 0.4444444477558136 and parameters: {'n_layers': 3, 'n_units_l0': 250, 'dropout_l0': 0.4, 'n_units_l1': 200, 'dropout_l1': 0.5, 'n_units_l2': 150, 'dropout_l2': 0.4, 'learning_rate': 0.050332048896668265, 'validation_split': 0.44999999999999996}. Best is trial 0 with value: 0.4444444477558136.\u001b[0m\n"
     ]
    },
    {
     "name": "stdout",
     "output_type": "stream",
     "text": [
      "1/1 [==============================] - 0s 31ms/step - loss: 0.0000e+00 - accuracy: 0.4444\n"
     ]
    },
    {
     "name": "stderr",
     "output_type": "stream",
     "text": [
      "\u001b[32m[I 2022-05-12 01:09:39,599]\u001b[0m Trial 81 finished with value: 0.4444444477558136 and parameters: {'n_layers': 3, 'n_units_l0': 250, 'dropout_l0': 0.4, 'n_units_l1': 200, 'dropout_l1': 0.2, 'n_units_l2': 100, 'dropout_l2': 0.4, 'learning_rate': 0.04578802092168231, 'validation_split': 0.44999999999999996}. Best is trial 0 with value: 0.4444444477558136.\u001b[0m\n"
     ]
    },
    {
     "name": "stdout",
     "output_type": "stream",
     "text": [
      "1/1 [==============================] - 0s 16ms/step - loss: 0.0000e+00 - accuracy: 0.4444\n"
     ]
    },
    {
     "name": "stderr",
     "output_type": "stream",
     "text": [
      "\u001b[32m[I 2022-05-12 01:09:40,523]\u001b[0m Trial 82 finished with value: 0.4444444477558136 and parameters: {'n_layers': 2, 'n_units_l0': 200, 'dropout_l0': 0.4, 'n_units_l1': 250, 'dropout_l1': 0.2, 'learning_rate': 0.06054854737990187, 'validation_split': 0.15}. Best is trial 0 with value: 0.4444444477558136.\u001b[0m\n"
     ]
    },
    {
     "name": "stdout",
     "output_type": "stream",
     "text": [
      "1/1 [==============================] - 0s 16ms/step - loss: 0.0000e+00 - accuracy: 0.4444\n"
     ]
    },
    {
     "name": "stderr",
     "output_type": "stream",
     "text": [
      "\u001b[32m[I 2022-05-12 01:09:41,553]\u001b[0m Trial 83 finished with value: 0.4444444477558136 and parameters: {'n_layers': 3, 'n_units_l0': 250, 'dropout_l0': 0.4, 'n_units_l1': 250, 'dropout_l1': 0.2, 'n_units_l2': 100, 'dropout_l2': 0.2, 'learning_rate': 0.06531081176679149, 'validation_split': 0.15}. Best is trial 0 with value: 0.4444444477558136.\u001b[0m\n"
     ]
    },
    {
     "name": "stdout",
     "output_type": "stream",
     "text": [
      "1/1 [==============================] - 0s 31ms/step - loss: 0.0000e+00 - accuracy: 0.4444\n"
     ]
    },
    {
     "name": "stderr",
     "output_type": "stream",
     "text": [
      "\u001b[32m[I 2022-05-12 01:09:42,427]\u001b[0m Trial 84 finished with value: 0.4444444477558136 and parameters: {'n_layers': 2, 'n_units_l0': 200, 'dropout_l0': 0.4, 'n_units_l1': 200, 'dropout_l1': 0.2, 'learning_rate': 0.06783319531793607, 'validation_split': 0.15}. Best is trial 0 with value: 0.4444444477558136.\u001b[0m\n"
     ]
    },
    {
     "name": "stdout",
     "output_type": "stream",
     "text": [
      "1/1 [==============================] - 0s 31ms/step - loss: 0.0000e+00 - accuracy: 0.4444\n"
     ]
    },
    {
     "name": "stderr",
     "output_type": "stream",
     "text": [
      "\u001b[32m[I 2022-05-12 01:09:43,956]\u001b[0m Trial 85 finished with value: 0.4444444477558136 and parameters: {'n_layers': 3, 'n_units_l0': 200, 'dropout_l0': 0.30000000000000004, 'n_units_l1': 250, 'dropout_l1': 0.2, 'n_units_l2': 50, 'dropout_l2': 0.2, 'learning_rate': 0.04816357507361598, 'validation_split': 0.15}. Best is trial 0 with value: 0.4444444477558136.\u001b[0m\n"
     ]
    },
    {
     "name": "stdout",
     "output_type": "stream",
     "text": [
      "1/1 [==============================] - 0s 16ms/step - loss: 0.0000e+00 - accuracy: 0.4444\n"
     ]
    },
    {
     "name": "stderr",
     "output_type": "stream",
     "text": [
      "\u001b[32m[I 2022-05-12 01:09:45,002]\u001b[0m Trial 86 finished with value: 0.4444444477558136 and parameters: {'n_layers': 2, 'n_units_l0': 150, 'dropout_l0': 0.30000000000000004, 'n_units_l1': 200, 'dropout_l1': 0.2, 'learning_rate': 0.08861871476383336, 'validation_split': 0.15}. Best is trial 0 with value: 0.4444444477558136.\u001b[0m\n"
     ]
    },
    {
     "name": "stdout",
     "output_type": "stream",
     "text": [
      "1/1 [==============================] - 0s 31ms/step - loss: 0.0000e+00 - accuracy: 0.4444\n"
     ]
    },
    {
     "name": "stderr",
     "output_type": "stream",
     "text": [
      "\u001b[32m[I 2022-05-12 01:09:46,308]\u001b[0m Trial 87 finished with value: 0.4444444477558136 and parameters: {'n_layers': 5, 'n_units_l0': 150, 'dropout_l0': 0.30000000000000004, 'n_units_l1': 200, 'dropout_l1': 0.2, 'n_units_l2': 200, 'dropout_l2': 0.2, 'n_units_l3': 250, 'dropout_l3': 0.2, 'n_units_l4': 200, 'dropout_l4': 0.2, 'learning_rate': 0.07038073229557848, 'validation_split': 0.15}. Best is trial 0 with value: 0.4444444477558136.\u001b[0m\n"
     ]
    },
    {
     "name": "stdout",
     "output_type": "stream",
     "text": [
      "1/1 [==============================] - 0s 31ms/step - loss: 0.0000e+00 - accuracy: 0.4444\n"
     ]
    },
    {
     "name": "stderr",
     "output_type": "stream",
     "text": [
      "\u001b[32m[I 2022-05-12 01:09:48,038]\u001b[0m Trial 88 finished with value: 0.4444444477558136 and parameters: {'n_layers': 5, 'n_units_l0': 150, 'dropout_l0': 0.2, 'n_units_l1': 250, 'dropout_l1': 0.2, 'n_units_l2': 150, 'dropout_l2': 0.5, 'n_units_l3': 100, 'dropout_l3': 0.5, 'n_units_l4': 150, 'dropout_l4': 0.2, 'learning_rate': 0.07498306262090744, 'validation_split': 0.15}. Best is trial 0 with value: 0.4444444477558136.\u001b[0m\n"
     ]
    },
    {
     "name": "stdout",
     "output_type": "stream",
     "text": [
      "1/1 [==============================] - 0s 31ms/step - loss: 0.0000e+00 - accuracy: 0.4444\n"
     ]
    },
    {
     "name": "stderr",
     "output_type": "stream",
     "text": [
      "\u001b[32m[I 2022-05-12 01:09:49,752]\u001b[0m Trial 89 finished with value: 0.4444444477558136 and parameters: {'n_layers': 5, 'n_units_l0': 100, 'dropout_l0': 0.2, 'n_units_l1': 250, 'dropout_l1': 0.2, 'n_units_l2': 200, 'dropout_l2': 0.5, 'n_units_l3': 250, 'dropout_l3': 0.5, 'n_units_l4': 250, 'dropout_l4': 0.30000000000000004, 'learning_rate': 0.09476755383526717, 'validation_split': 0.15}. Best is trial 0 with value: 0.4444444477558136.\u001b[0m\n"
     ]
    },
    {
     "name": "stdout",
     "output_type": "stream",
     "text": [
      "1/1 [==============================] - 0s 16ms/step - loss: 0.0000e+00 - accuracy: 0.4444\n"
     ]
    },
    {
     "name": "stderr",
     "output_type": "stream",
     "text": [
      "\u001b[32m[I 2022-05-12 01:09:51,398]\u001b[0m Trial 90 finished with value: 0.4444444477558136 and parameters: {'n_layers': 5, 'n_units_l0': 150, 'dropout_l0': 0.2, 'n_units_l1': 200, 'dropout_l1': 0.2, 'n_units_l2': 200, 'dropout_l2': 0.2, 'n_units_l3': 250, 'dropout_l3': 0.2, 'n_units_l4': 200, 'dropout_l4': 0.4, 'learning_rate': 0.08040046058657101, 'validation_split': 0.15}. Best is trial 0 with value: 0.4444444477558136.\u001b[0m\n"
     ]
    },
    {
     "name": "stdout",
     "output_type": "stream",
     "text": [
      "1/1 [==============================] - 0s 16ms/step - loss: 0.0000e+00 - accuracy: 0.4444\n"
     ]
    },
    {
     "name": "stderr",
     "output_type": "stream",
     "text": [
      "\u001b[32m[I 2022-05-12 01:09:52,612]\u001b[0m Trial 91 finished with value: 0.4444444477558136 and parameters: {'n_layers': 5, 'n_units_l0': 100, 'dropout_l0': 0.2, 'n_units_l1': 50, 'dropout_l1': 0.2, 'n_units_l2': 200, 'dropout_l2': 0.5, 'n_units_l3': 250, 'dropout_l3': 0.2, 'n_units_l4': 250, 'dropout_l4': 0.4, 'learning_rate': 0.09898087230581351, 'validation_split': 0.15}. Best is trial 0 with value: 0.4444444477558136.\u001b[0m\n"
     ]
    },
    {
     "name": "stdout",
     "output_type": "stream",
     "text": [
      "1/1 [==============================] - 0s 16ms/step - loss: 0.0000e+00 - accuracy: 0.4444\n"
     ]
    },
    {
     "name": "stderr",
     "output_type": "stream",
     "text": [
      "\u001b[32m[I 2022-05-12 01:09:53,826]\u001b[0m Trial 92 finished with value: 0.4444444477558136 and parameters: {'n_layers': 5, 'n_units_l0': 100, 'dropout_l0': 0.2, 'n_units_l1': 50, 'dropout_l1': 0.2, 'n_units_l2': 200, 'dropout_l2': 0.30000000000000004, 'n_units_l3': 250, 'dropout_l3': 0.5, 'n_units_l4': 200, 'dropout_l4': 0.4, 'learning_rate': 0.007509274772969365, 'validation_split': 0.15}. Best is trial 0 with value: 0.4444444477558136.\u001b[0m\n"
     ]
    },
    {
     "name": "stdout",
     "output_type": "stream",
     "text": [
      "1/1 [==============================] - 0s 16ms/step - loss: 0.0000e+00 - accuracy: 0.4444\n"
     ]
    },
    {
     "name": "stderr",
     "output_type": "stream",
     "text": [
      "\u001b[32m[I 2022-05-12 01:09:55,450]\u001b[0m Trial 93 finished with value: 0.4444444477558136 and parameters: {'n_layers': 5, 'n_units_l0': 100, 'dropout_l0': 0.2, 'n_units_l1': 50, 'dropout_l1': 0.2, 'n_units_l2': 200, 'dropout_l2': 0.30000000000000004, 'n_units_l3': 250, 'dropout_l3': 0.5, 'n_units_l4': 250, 'dropout_l4': 0.4, 'learning_rate': 0.005565499793358744, 'validation_split': 0.15}. Best is trial 0 with value: 0.4444444477558136.\u001b[0m\n"
     ]
    },
    {
     "name": "stdout",
     "output_type": "stream",
     "text": [
      "1/1 [==============================] - 0s 31ms/step - loss: 0.0000e+00 - accuracy: 0.4444\n"
     ]
    },
    {
     "name": "stderr",
     "output_type": "stream",
     "text": [
      "\u001b[32m[I 2022-05-12 01:09:57,031]\u001b[0m Trial 94 finished with value: 0.4444444477558136 and parameters: {'n_layers': 5, 'n_units_l0': 100, 'dropout_l0': 0.2, 'n_units_l1': 50, 'dropout_l1': 0.5, 'n_units_l2': 200, 'dropout_l2': 0.30000000000000004, 'n_units_l3': 200, 'dropout_l3': 0.5, 'n_units_l4': 200, 'dropout_l4': 0.4, 'learning_rate': 0.09273966079554975, 'validation_split': 0.3}. Best is trial 0 with value: 0.4444444477558136.\u001b[0m\n"
     ]
    },
    {
     "name": "stdout",
     "output_type": "stream",
     "text": [
      "1/1 [==============================] - 0s 16ms/step - loss: 0.0000e+00 - accuracy: 0.4444\n"
     ]
    },
    {
     "name": "stderr",
     "output_type": "stream",
     "text": [
      "\u001b[32m[I 2022-05-12 01:09:58,302]\u001b[0m Trial 95 finished with value: 0.4444444477558136 and parameters: {'n_layers': 5, 'n_units_l0': 100, 'dropout_l0': 0.2, 'n_units_l1': 50, 'dropout_l1': 0.4, 'n_units_l2': 200, 'dropout_l2': 0.30000000000000004, 'n_units_l3': 200, 'dropout_l3': 0.5, 'n_units_l4': 200, 'dropout_l4': 0.30000000000000004, 'learning_rate': 0.0016774786552696008, 'validation_split': 0.3}. Best is trial 0 with value: 0.4444444477558136.\u001b[0m\n"
     ]
    },
    {
     "name": "stdout",
     "output_type": "stream",
     "text": [
      "1/1 [==============================] - 0s 31ms/step - loss: 0.0000e+00 - accuracy: 0.4444\n"
     ]
    },
    {
     "name": "stderr",
     "output_type": "stream",
     "text": [
      "\u001b[32m[I 2022-05-12 01:09:59,455]\u001b[0m Trial 96 finished with value: 0.4444444477558136 and parameters: {'n_layers': 4, 'n_units_l0': 100, 'dropout_l0': 0.2, 'n_units_l1': 50, 'dropout_l1': 0.4, 'n_units_l2': 250, 'dropout_l2': 0.30000000000000004, 'n_units_l3': 200, 'dropout_l3': 0.4, 'learning_rate': 0.0175172862089786, 'validation_split': 0.3}. Best is trial 0 with value: 0.4444444477558136.\u001b[0m\n"
     ]
    },
    {
     "name": "stdout",
     "output_type": "stream",
     "text": [
      "1/1 [==============================] - 0s 16ms/step - loss: 0.0000e+00 - accuracy: 0.4444\n"
     ]
    },
    {
     "name": "stderr",
     "output_type": "stream",
     "text": [
      "\u001b[32m[I 2022-05-12 01:10:00,901]\u001b[0m Trial 97 finished with value: 0.4444444477558136 and parameters: {'n_layers': 4, 'n_units_l0': 100, 'dropout_l0': 0.2, 'n_units_l1': 50, 'dropout_l1': 0.5, 'n_units_l2': 250, 'dropout_l2': 0.30000000000000004, 'n_units_l3': 200, 'dropout_l3': 0.4, 'learning_rate': 0.0009486256248484939, 'validation_split': 0.3}. Best is trial 0 with value: 0.4444444477558136.\u001b[0m\n"
     ]
    },
    {
     "name": "stdout",
     "output_type": "stream",
     "text": [
      "1/1 [==============================] - 0s 16ms/step - loss: 0.0000e+00 - accuracy: 0.4444\n"
     ]
    },
    {
     "name": "stderr",
     "output_type": "stream",
     "text": [
      "\u001b[32m[I 2022-05-12 01:10:02,316]\u001b[0m Trial 98 finished with value: 0.4444444477558136 and parameters: {'n_layers': 4, 'n_units_l0': 100, 'dropout_l0': 0.2, 'n_units_l1': 50, 'dropout_l1': 0.4, 'n_units_l2': 250, 'dropout_l2': 0.30000000000000004, 'n_units_l3': 200, 'dropout_l3': 0.4, 'learning_rate': 0.01538259322584067, 'validation_split': 0.3}. Best is trial 0 with value: 0.4444444477558136.\u001b[0m\n"
     ]
    },
    {
     "name": "stdout",
     "output_type": "stream",
     "text": [
      "1/1 [==============================] - 0s 16ms/step - loss: 0.0000e+00 - accuracy: 0.4444\n"
     ]
    },
    {
     "name": "stderr",
     "output_type": "stream",
     "text": [
      "\u001b[32m[I 2022-05-12 01:10:03,986]\u001b[0m Trial 99 finished with value: 0.4444444477558136 and parameters: {'n_layers': 4, 'n_units_l0': 100, 'dropout_l0': 0.30000000000000004, 'n_units_l1': 50, 'dropout_l1': 0.4, 'n_units_l2': 250, 'dropout_l2': 0.30000000000000004, 'n_units_l3': 50, 'dropout_l3': 0.4, 'learning_rate': 0.02094386257533397, 'validation_split': 0.3}. Best is trial 0 with value: 0.4444444477558136.\u001b[0m\n"
     ]
    }
   ],
   "source": [
    "study = optuna.create_study(direction='maximize')\n",
    "study.optimize(objectiveRMSProp, n_trials=100)"
   ]
  },
  {
   "cell_type": "code",
   "execution_count": 24,
   "metadata": {},
   "outputs": [
    {
     "data": {
      "text/plain": [
       "FrozenTrial(number=0, values=[0.4444444477558136], datetime_start=datetime.datetime(2022, 5, 12, 1, 7, 50, 500736), datetime_complete=datetime.datetime(2022, 5, 12, 1, 7, 51, 561268), params={'n_layers': 3, 'n_units_l0': 100, 'dropout_l0': 0.4, 'n_units_l1': 100, 'dropout_l1': 0.2, 'n_units_l2': 250, 'dropout_l2': 0.2, 'learning_rate': 0.04953085924859379, 'validation_split': 0.44999999999999996}, distributions={'n_layers': IntUniformDistribution(high=5, low=2, step=1), 'n_units_l0': IntUniformDistribution(high=250, low=50, step=50), 'dropout_l0': DiscreteUniformDistribution(high=0.5, low=0.2, q=0.1), 'n_units_l1': IntUniformDistribution(high=250, low=50, step=50), 'dropout_l1': DiscreteUniformDistribution(high=0.5, low=0.2, q=0.1), 'n_units_l2': IntUniformDistribution(high=250, low=50, step=50), 'dropout_l2': DiscreteUniformDistribution(high=0.5, low=0.2, q=0.1), 'learning_rate': UniformDistribution(high=0.1, low=1e-05), 'validation_split': DiscreteUniformDistribution(high=0.45, low=0.15, q=0.15)}, user_attrs={}, system_attrs={}, intermediate_values={}, trial_id=0, state=TrialState.COMPLETE, value=None)"
      ]
     },
     "execution_count": 24,
     "metadata": {},
     "output_type": "execute_result"
    }
   ],
   "source": [
    "study.best_trial"
   ]
  },
  {
   "cell_type": "markdown",
   "metadata": {},
   "source": [
    "La red con los parámetros optimizados es la siguiente:"
   ]
  },
  {
   "cell_type": "code",
   "execution_count": 13,
   "metadata": {},
   "outputs": [
    {
     "name": "stdout",
     "output_type": "stream",
     "text": [
      "Epoch 1/100\n",
      "2/2 [==============================] - 1s 168ms/step - loss: 38.6506 - acc: 0.4865 - val_loss: 93.0607 - val_acc: 0.4516\n",
      "Epoch 2/100\n",
      "2/2 [==============================] - 0s 31ms/step - loss: 116.1510 - acc: 0.5135 - val_loss: 18.7906 - val_acc: 0.5161\n",
      "Epoch 3/100\n",
      "2/2 [==============================] - 0s 19ms/step - loss: 23.8157 - acc: 0.5676 - val_loss: 3.3447 - val_acc: 0.4516\n",
      "Epoch 4/100\n",
      "2/2 [==============================] - 0s 30ms/step - loss: 7.2815 - acc: 0.4865 - val_loss: 4.6419 - val_acc: 0.4516\n",
      "Epoch 5/100\n",
      "2/2 [==============================] - 0s 28ms/step - loss: 6.7017 - acc: 0.4865 - val_loss: 7.0314 - val_acc: 0.5161\n",
      "Epoch 6/100\n",
      "2/2 [==============================] - 0s 30ms/step - loss: 6.5141 - acc: 0.5405 - val_loss: 2.1537 - val_acc: 0.7097\n",
      "Epoch 7/100\n",
      "2/2 [==============================] - 0s 70ms/step - loss: 1.0798 - acc: 0.8649 - val_loss: 1.2753 - val_acc: 0.7097\n",
      "Epoch 8/100\n",
      "2/2 [==============================] - 0s 36ms/step - loss: 1.7051 - acc: 0.7027 - val_loss: 1.4947 - val_acc: 0.6129\n",
      "Epoch 9/100\n",
      "2/2 [==============================] - 0s 27ms/step - loss: 1.0429 - acc: 0.7568 - val_loss: 1.1481 - val_acc: 0.7419\n",
      "Epoch 10/100\n",
      "2/2 [==============================] - 0s 33ms/step - loss: 0.5560 - acc: 0.8919 - val_loss: 1.4736 - val_acc: 0.6774\n",
      "Epoch 11/100\n",
      "2/2 [==============================] - 0s 29ms/step - loss: 1.3862 - acc: 0.8649 - val_loss: 5.9826 - val_acc: 0.4839\n",
      "Epoch 12/100\n",
      "2/2 [==============================] - 0s 35ms/step - loss: 6.5796 - acc: 0.5405 - val_loss: 2.2471 - val_acc: 0.6129\n",
      "Epoch 13/100\n",
      "2/2 [==============================] - 0s 28ms/step - loss: 1.3438 - acc: 0.8108 - val_loss: 1.8227 - val_acc: 0.5806\n",
      "Epoch 14/100\n",
      "2/2 [==============================] - 0s 36ms/step - loss: 0.2890 - acc: 0.8108 - val_loss: 1.7024 - val_acc: 0.7097\n",
      "1/1 [==============================] - 0s 16ms/step - loss: 1.6397 - acc: 0.7222\n",
      "Accuracy: 72.22%\n"
     ]
    }
   ],
   "source": [
    "# Definir y entrenar el modelo\n",
    "modelFC_optuna_RMSProp = models.Sequential()\n",
    "modelFC_optuna_RMSProp.add(layers.Dense(100, activation=\"relu\", input_shape=(410,)))\n",
    "modelFC_optuna_RMSProp.add(layers.Dropout(0.4))\n",
    "modelFC_optuna_RMSProp.add(layers.Dense(100, activation=\"relu\"))\n",
    "modelFC_optuna_RMSProp.add(layers.Dropout(0.2))\n",
    "modelFC_optuna_RMSProp.add(layers.Dense(250, activation=\"relu\"))\n",
    "modelFC_optuna_RMSProp.add(layers.Dropout(0.2))\n",
    "modelFC_optuna_RMSProp.add(layers.Dense(1, activation=\"sigmoid\"))\n",
    "\n",
    "optimizer = tf.keras.optimizers.RMSprop(learning_rate=0.0495)\n",
    "modelFC_optuna_RMSProp.compile(loss=\"binary_crossentropy\", optimizer=optimizer, metrics=[\"acc\"])\n",
    "es = callbacks.EarlyStopping(monitor='val_acc', min_delta=0.01, patience=5)\n",
    "modelFC_optuna_RMSProp.fit(X_train, y_train, epochs=100, validation_split=0.45, callbacks=[es])\n",
    "\n",
    "# Precisión en partición de test\n",
    "loss, accuracy = modelFC_optuna_RMSProp.evaluate(X_test, y_test)\n",
    "print(\"Accuracy: {:0.2f}%\".format(accuracy * 100))"
   ]
  },
  {
   "cell_type": "markdown",
   "metadata": {},
   "source": [
    "Parece que los resultados en base al optimizador RMSProp con activación sigmoide son algo mejores que los del optimizador Adam con activación sigmoide.\n",
    "\n",
    "Se observa nuevamente un cierto problema de sobreajuste en las últimas épocas: los datos de train tienen una precisión del 81.08%, frente a los datos de validación con un accuracy de 70.97%. Vamos a aplicar también elementos de regularización a las capas para tratar de reducir esta diferencia."
   ]
  },
  {
   "cell_type": "code",
   "execution_count": 18,
   "metadata": {},
   "outputs": [
    {
     "name": "stdout",
     "output_type": "stream",
     "text": [
      "1/1 [==============================] - 0s 28ms/step - loss: 12.1553 - acc: 0.7222\n",
      "Accuracy : 72.22% ----- Regularización: l1\n",
      "1/1 [==============================] - 0s 16ms/step - loss: 2.6333 - acc: 0.5556\n",
      "Accuracy : 55.56% ----- Regularización: l2\n",
      "1/1 [==============================] - 0s 16ms/step - loss: 11.4626 - acc: 0.7222\n",
      "Accuracy : 72.22% ----- Regularización: l1_l2\n",
      "1/1 [==============================] - 0s 31ms/step - loss: 3.1478 - acc: 0.5556\n",
      "Accuracy : 55.56% ----- Regularización: None\n"
     ]
    }
   ],
   "source": [
    "for regularizer in regularizers:\n",
    "    modelFC_optuna_RMSProp = models.Sequential()\n",
    "    modelFC_optuna_RMSProp.add(layers.Dense(100, activation=\"relu\", input_shape=(410,)))\n",
    "    modelFC_optuna_RMSProp.add(layers.Dropout(0.4))\n",
    "    modelFC_optuna_RMSProp.add(layers.Dense(100, activation=\"relu\", kernel_regularizer=regularizer))\n",
    "    modelFC_optuna_RMSProp.add(layers.Dropout(0.2))\n",
    "    modelFC_optuna_RMSProp.add(layers.Dense(250, activation=\"relu\", kernel_regularizer=regularizer))\n",
    "    modelFC_optuna_RMSProp.add(layers.Dropout(0.2))\n",
    "    modelFC_optuna_RMSProp.add(layers.Dense(1, activation=\"sigmoid\"))\n",
    "\n",
    "    optimizer = tf.keras.optimizers.RMSprop(learning_rate=0.0495)\n",
    "    modelFC_optuna_RMSProp.compile(loss=\"binary_crossentropy\", optimizer=optimizer, metrics=[\"acc\"])\n",
    "    es = callbacks.EarlyStopping(monitor='val_acc', min_delta=0.01, patience=5)\n",
    "    modelFC_optuna_RMSProp.fit(X_train, y_train, epochs=100, validation_split=0.45, callbacks=[es], verbose=0)\n",
    "\n",
    "    # Precisión en partición de test\n",
    "    loss, accuracy = modelFC_optuna_RMSProp.evaluate(X_test, y_test)\n",
    "    print(\"Accuracy : {:0.2f}% ----- Regularización: {}\".format(accuracy * 100, regularizer))\n",
    "    \n",
    "# Varía mucho de una ejecución a otra..."
   ]
  },
  {
   "cell_type": "markdown",
   "metadata": {},
   "source": [
    "Veamos si podemos obtener mejores resultados cambiando la última capa con activación sigmoide por una activación softmax:"
   ]
  },
  {
   "cell_type": "code",
   "execution_count": 37,
   "metadata": {},
   "outputs": [],
   "source": [
    "def objectiveRMSProp2(trial):\n",
    "    modelFC_optuna_RMSProp = models.Sequential()\n",
    "\n",
    "    n_layers = trial.suggest_int(\"n_layers\", 2, 5, 1)\n",
    "    for i in range(n_layers):\n",
    "        num_hidden = trial.suggest_int(\"n_units_l{}\".format(i), 50, 250, 50)\n",
    "        modelFC_optuna_RMSProp.add(layers.Dense(num_hidden, activation=\"relu\"))\n",
    "        dropout = trial.suggest_float(\"dropout_l{}\".format(i), 0.2, 0.5, step=0.1)\n",
    "        modelFC_optuna_RMSProp.add(layers.Dropout(rate=dropout))\n",
    "    modelFC_optuna_RMSProp.add(layers.Dense(2, activation=\"softmax\"))\n",
    "\n",
    "    learning_rate = trial.suggest_float(\"learning_rate\", 1e-5, 1e-1)\n",
    "    modelFC_optuna_RMSProp.compile(\n",
    "        loss=\"categorical_crossentropy\",\n",
    "        optimizer=tf.keras.optimizers.RMSprop(learning_rate=learning_rate),\n",
    "        metrics=[\"accuracy\"],\n",
    "    )\n",
    "    \n",
    "    es = callbacks.EarlyStopping(monitor=\"val_accuracy\", min_delta=0.01, patience=5)\n",
    "    validation_split = trial.suggest_float(\"validation_split\", 0.15, 0.45, step=0.15)\n",
    "    modelFC_optuna_RMSProp.fit(X_train, y_train_softmax, callbacks=[es], epochs=100, validation_split=validation_split, \n",
    "                               verbose=0)\n",
    "\n",
    "    loss, accuracy = modelFC_optuna_RMSProp.evaluate(X_test, y_test_softmax)\n",
    "    return accuracy"
   ]
  },
  {
   "cell_type": "code",
   "execution_count": 38,
   "metadata": {},
   "outputs": [
    {
     "name": "stderr",
     "output_type": "stream",
     "text": [
      "\u001b[32m[I 2022-05-12 10:29:14,533]\u001b[0m A new study created in memory with name: no-name-9c223d04-2921-4fba-8374-8acc10f0ea4a\u001b[0m\n"
     ]
    },
    {
     "name": "stdout",
     "output_type": "stream",
     "text": [
      "1/1 [==============================] - 0s 30ms/step - loss: 4.0453 - accuracy: 0.7222\n"
     ]
    },
    {
     "name": "stderr",
     "output_type": "stream",
     "text": [
      "\u001b[32m[I 2022-05-12 10:29:15,633]\u001b[0m Trial 0 finished with value: 0.7222222089767456 and parameters: {'n_layers': 3, 'n_units_l0': 200, 'dropout_l0': 0.5, 'n_units_l1': 200, 'dropout_l1': 0.30000000000000004, 'n_units_l2': 50, 'dropout_l2': 0.2, 'learning_rate': 0.05721522856829487, 'validation_split': 0.3}. Best is trial 0 with value: 0.7222222089767456.\u001b[0m\n"
     ]
    },
    {
     "name": "stdout",
     "output_type": "stream",
     "text": [
      "1/1 [==============================] - 0s 20ms/step - loss: 46.1171 - accuracy: 0.5556\n"
     ]
    },
    {
     "name": "stderr",
     "output_type": "stream",
     "text": [
      "\u001b[32m[I 2022-05-12 10:29:17,078]\u001b[0m Trial 1 finished with value: 0.5555555820465088 and parameters: {'n_layers': 2, 'n_units_l0': 150, 'dropout_l0': 0.30000000000000004, 'n_units_l1': 150, 'dropout_l1': 0.2, 'learning_rate': 0.07318623723199814, 'validation_split': 0.44999999999999996}. Best is trial 0 with value: 0.7222222089767456.\u001b[0m\n"
     ]
    },
    {
     "name": "stdout",
     "output_type": "stream",
     "text": [
      "1/1 [==============================] - 0s 19ms/step - loss: 1.1008 - accuracy: 0.6111\n"
     ]
    },
    {
     "name": "stderr",
     "output_type": "stream",
     "text": [
      "\u001b[32m[I 2022-05-12 10:29:18,443]\u001b[0m Trial 2 finished with value: 0.6111111044883728 and parameters: {'n_layers': 2, 'n_units_l0': 150, 'dropout_l0': 0.2, 'n_units_l1': 250, 'dropout_l1': 0.5, 'learning_rate': 0.004574891153528009, 'validation_split': 0.44999999999999996}. Best is trial 0 with value: 0.7222222089767456.\u001b[0m\n"
     ]
    },
    {
     "name": "stdout",
     "output_type": "stream",
     "text": [
      "1/1 [==============================] - 0s 18ms/step - loss: 10.0191 - accuracy: 0.3889\n"
     ]
    },
    {
     "name": "stderr",
     "output_type": "stream",
     "text": [
      "\u001b[32m[I 2022-05-12 10:29:19,698]\u001b[0m Trial 3 finished with value: 0.3888888955116272 and parameters: {'n_layers': 5, 'n_units_l0': 50, 'dropout_l0': 0.5, 'n_units_l1': 100, 'dropout_l1': 0.2, 'n_units_l2': 150, 'dropout_l2': 0.4, 'n_units_l3': 150, 'dropout_l3': 0.30000000000000004, 'n_units_l4': 150, 'dropout_l4': 0.4, 'learning_rate': 0.08660280501584931, 'validation_split': 0.3}. Best is trial 0 with value: 0.7222222089767456.\u001b[0m\n"
     ]
    },
    {
     "name": "stdout",
     "output_type": "stream",
     "text": [
      "1/1 [==============================] - 0s 19ms/step - loss: 344.6555 - accuracy: 0.5556\n"
     ]
    },
    {
     "name": "stderr",
     "output_type": "stream",
     "text": [
      "\u001b[32m[I 2022-05-12 10:29:20,878]\u001b[0m Trial 4 finished with value: 0.5555555820465088 and parameters: {'n_layers': 4, 'n_units_l0': 200, 'dropout_l0': 0.4, 'n_units_l1': 150, 'dropout_l1': 0.2, 'n_units_l2': 150, 'dropout_l2': 0.5, 'n_units_l3': 100, 'dropout_l3': 0.2, 'learning_rate': 0.09282767627481554, 'validation_split': 0.44999999999999996}. Best is trial 0 with value: 0.7222222089767456.\u001b[0m\n"
     ]
    },
    {
     "name": "stdout",
     "output_type": "stream",
     "text": [
      "1/1 [==============================] - 0s 22ms/step - loss: 5.5068 - accuracy: 0.4444\n"
     ]
    },
    {
     "name": "stderr",
     "output_type": "stream",
     "text": [
      "\u001b[32m[I 2022-05-12 10:29:22,299]\u001b[0m Trial 5 finished with value: 0.4444444477558136 and parameters: {'n_layers': 4, 'n_units_l0': 250, 'dropout_l0': 0.2, 'n_units_l1': 50, 'dropout_l1': 0.2, 'n_units_l2': 200, 'dropout_l2': 0.30000000000000004, 'n_units_l3': 250, 'dropout_l3': 0.2, 'learning_rate': 0.059859438299790006, 'validation_split': 0.3}. Best is trial 0 with value: 0.7222222089767456.\u001b[0m\n"
     ]
    },
    {
     "name": "stdout",
     "output_type": "stream",
     "text": [
      "1/1 [==============================] - 0s 38ms/step - loss: 3.7187 - accuracy: 0.7222\n"
     ]
    },
    {
     "name": "stderr",
     "output_type": "stream",
     "text": [
      "\u001b[32m[I 2022-05-12 10:29:24,251]\u001b[0m Trial 6 finished with value: 0.7222222089767456 and parameters: {'n_layers': 4, 'n_units_l0': 250, 'dropout_l0': 0.5, 'n_units_l1': 200, 'dropout_l1': 0.4, 'n_units_l2': 200, 'dropout_l2': 0.30000000000000004, 'n_units_l3': 250, 'dropout_l3': 0.2, 'learning_rate': 0.03309655722904315, 'validation_split': 0.3}. Best is trial 0 with value: 0.7222222089767456.\u001b[0m\n"
     ]
    },
    {
     "name": "stdout",
     "output_type": "stream",
     "text": [
      "1/1 [==============================] - 0s 17ms/step - loss: 5.9622 - accuracy: 0.6111\n"
     ]
    },
    {
     "name": "stderr",
     "output_type": "stream",
     "text": [
      "\u001b[32m[I 2022-05-12 10:29:25,637]\u001b[0m Trial 7 finished with value: 0.6111111044883728 and parameters: {'n_layers': 5, 'n_units_l0': 200, 'dropout_l0': 0.4, 'n_units_l1': 200, 'dropout_l1': 0.5, 'n_units_l2': 200, 'dropout_l2': 0.2, 'n_units_l3': 200, 'dropout_l3': 0.5, 'n_units_l4': 150, 'dropout_l4': 0.5, 'learning_rate': 0.05602115605451462, 'validation_split': 0.3}. Best is trial 0 with value: 0.7222222089767456.\u001b[0m\n"
     ]
    },
    {
     "name": "stdout",
     "output_type": "stream",
     "text": [
      "1/1 [==============================] - 0s 21ms/step - loss: 28.2146 - accuracy: 0.7222\n"
     ]
    },
    {
     "name": "stderr",
     "output_type": "stream",
     "text": [
      "\u001b[32m[I 2022-05-12 10:29:26,720]\u001b[0m Trial 8 finished with value: 0.7222222089767456 and parameters: {'n_layers': 2, 'n_units_l0': 100, 'dropout_l0': 0.2, 'n_units_l1': 200, 'dropout_l1': 0.4, 'learning_rate': 0.09323984914783892, 'validation_split': 0.3}. Best is trial 0 with value: 0.7222222089767456.\u001b[0m\n"
     ]
    },
    {
     "name": "stdout",
     "output_type": "stream",
     "text": [
      "1/1 [==============================] - 0s 17ms/step - loss: 0.5156 - accuracy: 0.8889\n"
     ]
    },
    {
     "name": "stderr",
     "output_type": "stream",
     "text": [
      "\u001b[32m[I 2022-05-12 10:29:28,011]\u001b[0m Trial 9 finished with value: 0.8888888955116272 and parameters: {'n_layers': 4, 'n_units_l0': 250, 'dropout_l0': 0.2, 'n_units_l1': 250, 'dropout_l1': 0.30000000000000004, 'n_units_l2': 100, 'dropout_l2': 0.5, 'n_units_l3': 100, 'dropout_l3': 0.5, 'learning_rate': 0.001691991373239187, 'validation_split': 0.15}. Best is trial 9 with value: 0.8888888955116272.\u001b[0m\n"
     ]
    },
    {
     "name": "stdout",
     "output_type": "stream",
     "text": [
      "1/1 [==============================] - 0s 22ms/step - loss: 0.5143 - accuracy: 0.8333\n"
     ]
    },
    {
     "name": "stderr",
     "output_type": "stream",
     "text": [
      "\u001b[32m[I 2022-05-12 10:29:29,562]\u001b[0m Trial 10 finished with value: 0.8333333134651184 and parameters: {'n_layers': 3, 'n_units_l0': 250, 'dropout_l0': 0.30000000000000004, 'n_units_l1': 250, 'dropout_l1': 0.30000000000000004, 'n_units_l2': 50, 'dropout_l2': 0.5, 'learning_rate': 0.0038353097115242504, 'validation_split': 0.15}. Best is trial 9 with value: 0.8888888955116272.\u001b[0m\n"
     ]
    },
    {
     "name": "stdout",
     "output_type": "stream",
     "text": [
      "1/1 [==============================] - 0s 15ms/step - loss: 0.8260 - accuracy: 0.7778\n"
     ]
    },
    {
     "name": "stderr",
     "output_type": "stream",
     "text": [
      "\u001b[32m[I 2022-05-12 10:29:30,668]\u001b[0m Trial 11 finished with value: 0.7777777910232544 and parameters: {'n_layers': 3, 'n_units_l0': 250, 'dropout_l0': 0.30000000000000004, 'n_units_l1': 250, 'dropout_l1': 0.30000000000000004, 'n_units_l2': 50, 'dropout_l2': 0.5, 'learning_rate': 0.002947364678494933, 'validation_split': 0.15}. Best is trial 9 with value: 0.8888888955116272.\u001b[0m\n"
     ]
    },
    {
     "name": "stdout",
     "output_type": "stream",
     "text": [
      "1/1 [==============================] - 0s 17ms/step - loss: 1.4568 - accuracy: 0.7778\n"
     ]
    },
    {
     "name": "stderr",
     "output_type": "stream",
     "text": [
      "\u001b[32m[I 2022-05-12 10:29:31,921]\u001b[0m Trial 12 finished with value: 0.7777777910232544 and parameters: {'n_layers': 3, 'n_units_l0': 250, 'dropout_l0': 0.30000000000000004, 'n_units_l1': 250, 'dropout_l1': 0.30000000000000004, 'n_units_l2': 100, 'dropout_l2': 0.5, 'learning_rate': 0.022010820802442356, 'validation_split': 0.15}. Best is trial 9 with value: 0.8888888955116272.\u001b[0m\n"
     ]
    },
    {
     "name": "stdout",
     "output_type": "stream",
     "text": [
      "1/1 [==============================] - 0s 16ms/step - loss: 0.6288 - accuracy: 0.7778\n"
     ]
    },
    {
     "name": "stderr",
     "output_type": "stream",
     "text": [
      "\u001b[32m[I 2022-05-12 10:29:33,277]\u001b[0m Trial 13 finished with value: 0.7777777910232544 and parameters: {'n_layers': 4, 'n_units_l0': 200, 'dropout_l0': 0.2, 'n_units_l1': 250, 'dropout_l1': 0.4, 'n_units_l2': 100, 'dropout_l2': 0.4, 'n_units_l3': 50, 'dropout_l3': 0.5, 'learning_rate': 0.027314301306650045, 'validation_split': 0.15}. Best is trial 9 with value: 0.8888888955116272.\u001b[0m\n"
     ]
    },
    {
     "name": "stdout",
     "output_type": "stream",
     "text": [
      "1/1 [==============================] - 0s 19ms/step - loss: 1.5088 - accuracy: 0.7222\n"
     ]
    },
    {
     "name": "stderr",
     "output_type": "stream",
     "text": [
      "\u001b[32m[I 2022-05-12 10:29:34,648]\u001b[0m Trial 14 finished with value: 0.7222222089767456 and parameters: {'n_layers': 3, 'n_units_l0': 100, 'dropout_l0': 0.30000000000000004, 'n_units_l1': 100, 'dropout_l1': 0.30000000000000004, 'n_units_l2': 100, 'dropout_l2': 0.4, 'learning_rate': 0.01585094361738351, 'validation_split': 0.15}. Best is trial 9 with value: 0.8888888955116272.\u001b[0m\n"
     ]
    },
    {
     "name": "stdout",
     "output_type": "stream",
     "text": [
      "1/1 [==============================] - 0s 16ms/step - loss: 0.7055 - accuracy: 0.4444\n"
     ]
    },
    {
     "name": "stderr",
     "output_type": "stream",
     "text": [
      "\u001b[32m[I 2022-05-12 10:29:35,895]\u001b[0m Trial 15 finished with value: 0.4444444477558136 and parameters: {'n_layers': 5, 'n_units_l0': 250, 'dropout_l0': 0.4, 'n_units_l1': 250, 'dropout_l1': 0.30000000000000004, 'n_units_l2': 50, 'dropout_l2': 0.5, 'n_units_l3': 50, 'dropout_l3': 0.4, 'n_units_l4': 50, 'dropout_l4': 0.2, 'learning_rate': 0.03415299267035858, 'validation_split': 0.15}. Best is trial 9 with value: 0.8888888955116272.\u001b[0m\n"
     ]
    },
    {
     "name": "stdout",
     "output_type": "stream",
     "text": [
      "1/1 [==============================] - 0s 17ms/step - loss: 1.7463 - accuracy: 0.5556\n"
     ]
    },
    {
     "name": "stderr",
     "output_type": "stream",
     "text": [
      "\u001b[32m[I 2022-05-12 10:29:37,352]\u001b[0m Trial 16 finished with value: 0.5555555820465088 and parameters: {'n_layers': 4, 'n_units_l0': 200, 'dropout_l0': 0.2, 'n_units_l1': 200, 'dropout_l1': 0.4, 'n_units_l2': 100, 'dropout_l2': 0.5, 'n_units_l3': 150, 'dropout_l3': 0.4, 'learning_rate': 0.04269035909937589, 'validation_split': 0.15}. Best is trial 9 with value: 0.8888888955116272.\u001b[0m\n"
     ]
    },
    {
     "name": "stdout",
     "output_type": "stream",
     "text": [
      "1/1 [==============================] - 0s 16ms/step - loss: 1.1356 - accuracy: 0.7778\n"
     ]
    },
    {
     "name": "stderr",
     "output_type": "stream",
     "text": [
      "\u001b[32m[I 2022-05-12 10:29:38,553]\u001b[0m Trial 17 finished with value: 0.7777777910232544 and parameters: {'n_layers': 3, 'n_units_l0': 150, 'dropout_l0': 0.30000000000000004, 'n_units_l1': 150, 'dropout_l1': 0.30000000000000004, 'n_units_l2': 250, 'dropout_l2': 0.4, 'learning_rate': 0.010349900291083833, 'validation_split': 0.15}. Best is trial 9 with value: 0.8888888955116272.\u001b[0m\n"
     ]
    },
    {
     "name": "stdout",
     "output_type": "stream",
     "text": [
      "1/1 [==============================] - 0s 20ms/step - loss: 0.5586 - accuracy: 0.6667\n"
     ]
    },
    {
     "name": "stderr",
     "output_type": "stream",
     "text": [
      "\u001b[32m[I 2022-05-12 10:29:39,588]\u001b[0m Trial 18 finished with value: 0.6666666865348816 and parameters: {'n_layers': 3, 'n_units_l0': 250, 'dropout_l0': 0.2, 'n_units_l1': 250, 'dropout_l1': 0.4, 'n_units_l2': 50, 'dropout_l2': 0.5, 'learning_rate': 0.0006931692784962994, 'validation_split': 0.15}. Best is trial 9 with value: 0.8888888955116272.\u001b[0m\n"
     ]
    },
    {
     "name": "stdout",
     "output_type": "stream",
     "text": [
      "1/1 [==============================] - 0s 16ms/step - loss: 1.1078 - accuracy: 0.7778\n"
     ]
    },
    {
     "name": "stderr",
     "output_type": "stream",
     "text": [
      "\u001b[32m[I 2022-05-12 10:29:40,927]\u001b[0m Trial 19 finished with value: 0.7777777910232544 and parameters: {'n_layers': 4, 'n_units_l0': 50, 'dropout_l0': 0.30000000000000004, 'n_units_l1': 100, 'dropout_l1': 0.2, 'n_units_l2': 100, 'dropout_l2': 0.30000000000000004, 'n_units_l3': 100, 'dropout_l3': 0.5, 'learning_rate': 0.015813005264286265, 'validation_split': 0.15}. Best is trial 9 with value: 0.8888888955116272.\u001b[0m\n"
     ]
    },
    {
     "name": "stdout",
     "output_type": "stream",
     "text": [
      "1/1 [==============================] - 0s 16ms/step - loss: 0.9073 - accuracy: 0.6111\n"
     ]
    },
    {
     "name": "stderr",
     "output_type": "stream",
     "text": [
      "\u001b[32m[I 2022-05-12 10:29:41,899]\u001b[0m Trial 20 finished with value: 0.6111111044883728 and parameters: {'n_layers': 2, 'n_units_l0': 100, 'dropout_l0': 0.4, 'n_units_l1': 200, 'dropout_l1': 0.30000000000000004, 'learning_rate': 0.04455393867022693, 'validation_split': 0.15}. Best is trial 9 with value: 0.8888888955116272.\u001b[0m\n"
     ]
    },
    {
     "name": "stdout",
     "output_type": "stream",
     "text": [
      "1/1 [==============================] - 0s 17ms/step - loss: 1.6737 - accuracy: 0.6667\n"
     ]
    },
    {
     "name": "stderr",
     "output_type": "stream",
     "text": [
      "\u001b[32m[I 2022-05-12 10:29:42,940]\u001b[0m Trial 21 finished with value: 0.6666666865348816 and parameters: {'n_layers': 3, 'n_units_l0': 150, 'dropout_l0': 0.30000000000000004, 'n_units_l1': 150, 'dropout_l1': 0.30000000000000004, 'n_units_l2': 250, 'dropout_l2': 0.4, 'learning_rate': 0.0112936597688773, 'validation_split': 0.15}. Best is trial 9 with value: 0.8888888955116272.\u001b[0m\n"
     ]
    },
    {
     "name": "stdout",
     "output_type": "stream",
     "text": [
      "1/1 [==============================] - 0s 17ms/step - loss: 0.7781 - accuracy: 0.7222\n"
     ]
    },
    {
     "name": "stderr",
     "output_type": "stream",
     "text": [
      "\u001b[32m[I 2022-05-12 10:29:44,246]\u001b[0m Trial 22 finished with value: 0.7222222089767456 and parameters: {'n_layers': 4, 'n_units_l0': 50, 'dropout_l0': 0.30000000000000004, 'n_units_l1': 100, 'dropout_l1': 0.2, 'n_units_l2': 100, 'dropout_l2': 0.30000000000000004, 'n_units_l3': 100, 'dropout_l3': 0.5, 'learning_rate': 0.02105861238397825, 'validation_split': 0.15}. Best is trial 9 with value: 0.8888888955116272.\u001b[0m\n"
     ]
    },
    {
     "name": "stdout",
     "output_type": "stream",
     "text": [
      "1/1 [==============================] - 0s 17ms/step - loss: 0.6270 - accuracy: 0.7222\n"
     ]
    },
    {
     "name": "stderr",
     "output_type": "stream",
     "text": [
      "\u001b[32m[I 2022-05-12 10:29:45,310]\u001b[0m Trial 23 finished with value: 0.7222222089767456 and parameters: {'n_layers': 3, 'n_units_l0': 250, 'dropout_l0': 0.30000000000000004, 'n_units_l1': 250, 'dropout_l1': 0.30000000000000004, 'n_units_l2': 50, 'dropout_l2': 0.5, 'learning_rate': 0.00030916413667264045, 'validation_split': 0.15}. Best is trial 9 with value: 0.8888888955116272.\u001b[0m\n"
     ]
    },
    {
     "name": "stdout",
     "output_type": "stream",
     "text": [
      "1/1 [==============================] - 0s 16ms/step - loss: 0.7307 - accuracy: 0.7778\n"
     ]
    },
    {
     "name": "stderr",
     "output_type": "stream",
     "text": [
      "\u001b[32m[I 2022-05-12 10:29:46,312]\u001b[0m Trial 24 finished with value: 0.7777777910232544 and parameters: {'n_layers': 3, 'n_units_l0': 250, 'dropout_l0': 0.2, 'n_units_l1': 250, 'dropout_l1': 0.30000000000000004, 'n_units_l2': 50, 'dropout_l2': 0.5, 'learning_rate': 0.0072470575674284205, 'validation_split': 0.15}. Best is trial 9 with value: 0.8888888955116272.\u001b[0m\n"
     ]
    },
    {
     "name": "stdout",
     "output_type": "stream",
     "text": [
      "1/1 [==============================] - 0s 17ms/step - loss: 1.5550 - accuracy: 0.7778\n"
     ]
    },
    {
     "name": "stderr",
     "output_type": "stream",
     "text": [
      "\u001b[32m[I 2022-05-12 10:29:47,479]\u001b[0m Trial 25 finished with value: 0.7777777910232544 and parameters: {'n_layers': 3, 'n_units_l0': 200, 'dropout_l0': 0.4, 'n_units_l1': 250, 'dropout_l1': 0.4, 'n_units_l2': 100, 'dropout_l2': 0.5, 'learning_rate': 0.01966704654364337, 'validation_split': 0.3}. Best is trial 9 with value: 0.8888888955116272.\u001b[0m\n"
     ]
    },
    {
     "name": "stdout",
     "output_type": "stream",
     "text": [
      "1/1 [==============================] - 0s 17ms/step - loss: 1.3153 - accuracy: 0.7778\n"
     ]
    },
    {
     "name": "stderr",
     "output_type": "stream",
     "text": [
      "\u001b[32m[I 2022-05-12 10:29:48,578]\u001b[0m Trial 26 finished with value: 0.7777777910232544 and parameters: {'n_layers': 2, 'n_units_l0': 250, 'dropout_l0': 0.30000000000000004, 'n_units_l1': 200, 'dropout_l1': 0.30000000000000004, 'learning_rate': 0.03269953968324019, 'validation_split': 0.15}. Best is trial 9 with value: 0.8888888955116272.\u001b[0m\n"
     ]
    },
    {
     "name": "stdout",
     "output_type": "stream",
     "text": [
      "1/1 [==============================] - 0s 17ms/step - loss: 2.0900 - accuracy: 0.5000\n"
     ]
    },
    {
     "name": "stderr",
     "output_type": "stream",
     "text": [
      "\u001b[32m[I 2022-05-12 10:29:50,288]\u001b[0m Trial 27 finished with value: 0.5 and parameters: {'n_layers': 4, 'n_units_l0': 200, 'dropout_l0': 0.2, 'n_units_l1': 250, 'dropout_l1': 0.5, 'n_units_l2': 150, 'dropout_l2': 0.4, 'n_units_l3': 50, 'dropout_l3': 0.4, 'learning_rate': 0.02553178476892991, 'validation_split': 0.15}. Best is trial 9 with value: 0.8888888955116272.\u001b[0m\n"
     ]
    },
    {
     "name": "stdout",
     "output_type": "stream",
     "text": [
      "1/1 [==============================] - 0s 15ms/step - loss: 0.7793 - accuracy: 0.4444\n"
     ]
    },
    {
     "name": "stderr",
     "output_type": "stream",
     "text": [
      "\u001b[32m[I 2022-05-12 10:29:52,106]\u001b[0m Trial 28 finished with value: 0.4444444477558136 and parameters: {'n_layers': 5, 'n_units_l0': 200, 'dropout_l0': 0.2, 'n_units_l1': 50, 'dropout_l1': 0.4, 'n_units_l2': 100, 'dropout_l2': 0.4, 'n_units_l3': 50, 'dropout_l3': 0.5, 'n_units_l4': 250, 'dropout_l4': 0.2, 'learning_rate': 0.027758976799059646, 'validation_split': 0.3}. Best is trial 9 with value: 0.8888888955116272.\u001b[0m\n"
     ]
    },
    {
     "name": "stdout",
     "output_type": "stream",
     "text": [
      "1/1 [==============================] - 0s 17ms/step - loss: 8.6747 - accuracy: 0.8889\n"
     ]
    },
    {
     "name": "stderr",
     "output_type": "stream",
     "text": [
      "\u001b[32m[I 2022-05-12 10:29:53,120]\u001b[0m Trial 29 finished with value: 0.8888888955116272 and parameters: {'n_layers': 2, 'n_units_l0': 250, 'dropout_l0': 0.30000000000000004, 'n_units_l1': 200, 'dropout_l1': 0.30000000000000004, 'learning_rate': 0.06376680905949172, 'validation_split': 0.3}. Best is trial 9 with value: 0.8888888955116272.\u001b[0m\n"
     ]
    },
    {
     "name": "stdout",
     "output_type": "stream",
     "text": [
      "1/1 [==============================] - 0s 17ms/step - loss: 13.0640 - accuracy: 0.8333\n"
     ]
    },
    {
     "name": "stderr",
     "output_type": "stream",
     "text": [
      "\u001b[32m[I 2022-05-12 10:29:54,282]\u001b[0m Trial 30 finished with value: 0.8333333134651184 and parameters: {'n_layers': 2, 'n_units_l0': 200, 'dropout_l0': 0.4, 'n_units_l1': 200, 'dropout_l1': 0.2, 'learning_rate': 0.06860430052541769, 'validation_split': 0.44999999999999996}. Best is trial 9 with value: 0.8888888955116272.\u001b[0m\n"
     ]
    },
    {
     "name": "stdout",
     "output_type": "stream",
     "text": [
      "1/1 [==============================] - 0s 17ms/step - loss: 47.4593 - accuracy: 0.5556\n"
     ]
    },
    {
     "name": "stderr",
     "output_type": "stream",
     "text": [
      "\u001b[32m[I 2022-05-12 10:29:55,406]\u001b[0m Trial 31 finished with value: 0.5555555820465088 and parameters: {'n_layers': 2, 'n_units_l0': 250, 'dropout_l0': 0.4, 'n_units_l1': 200, 'dropout_l1': 0.2, 'learning_rate': 0.06963078659561538, 'validation_split': 0.44999999999999996}. Best is trial 9 with value: 0.8888888955116272.\u001b[0m\n"
     ]
    },
    {
     "name": "stdout",
     "output_type": "stream",
     "text": [
      "1/1 [==============================] - 0s 26ms/step - loss: 32.2563 - accuracy: 0.6111\n"
     ]
    },
    {
     "name": "stderr",
     "output_type": "stream",
     "text": [
      "\u001b[32m[I 2022-05-12 10:29:56,717]\u001b[0m Trial 32 finished with value: 0.6111111044883728 and parameters: {'n_layers': 2, 'n_units_l0': 200, 'dropout_l0': 0.5, 'n_units_l1': 200, 'dropout_l1': 0.2, 'learning_rate': 0.07455813009650648, 'validation_split': 0.44999999999999996}. Best is trial 9 with value: 0.8888888955116272.\u001b[0m\n"
     ]
    },
    {
     "name": "stdout",
     "output_type": "stream",
     "text": [
      "1/1 [==============================] - 0s 20ms/step - loss: 21.1029 - accuracy: 0.7778\n"
     ]
    },
    {
     "name": "stderr",
     "output_type": "stream",
     "text": [
      "\u001b[32m[I 2022-05-12 10:29:58,047]\u001b[0m Trial 33 finished with value: 0.7777777910232544 and parameters: {'n_layers': 2, 'n_units_l0': 250, 'dropout_l0': 0.4, 'n_units_l1': 200, 'dropout_l1': 0.2, 'learning_rate': 0.06684006151707812, 'validation_split': 0.44999999999999996}. Best is trial 9 with value: 0.8888888955116272.\u001b[0m\n"
     ]
    },
    {
     "name": "stdout",
     "output_type": "stream",
     "text": [
      "1/1 [==============================] - 0s 29ms/step - loss: 19.3236 - accuracy: 0.6667\n"
     ]
    },
    {
     "name": "stderr",
     "output_type": "stream",
     "text": [
      "\u001b[32m[I 2022-05-12 10:29:59,115]\u001b[0m Trial 34 finished with value: 0.6666666865348816 and parameters: {'n_layers': 2, 'n_units_l0': 200, 'dropout_l0': 0.4, 'n_units_l1': 150, 'dropout_l1': 0.30000000000000004, 'learning_rate': 0.08162559545438597, 'validation_split': 0.44999999999999996}. Best is trial 9 with value: 0.8888888955116272.\u001b[0m\n"
     ]
    },
    {
     "name": "stdout",
     "output_type": "stream",
     "text": [
      "1/1 [==============================] - 0s 29ms/step - loss: 8.5973 - accuracy: 0.7778\n"
     ]
    },
    {
     "name": "stderr",
     "output_type": "stream",
     "text": [
      "\u001b[32m[I 2022-05-12 10:30:00,469]\u001b[0m Trial 35 finished with value: 0.7777777910232544 and parameters: {'n_layers': 2, 'n_units_l0': 150, 'dropout_l0': 0.30000000000000004, 'n_units_l1': 250, 'dropout_l1': 0.2, 'learning_rate': 0.0548603098219073, 'validation_split': 0.3}. Best is trial 9 with value: 0.8888888955116272.\u001b[0m\n"
     ]
    },
    {
     "name": "stdout",
     "output_type": "stream",
     "text": [
      "1/1 [==============================] - 0s 25ms/step - loss: 26.1921 - accuracy: 0.6111\n"
     ]
    },
    {
     "name": "stderr",
     "output_type": "stream",
     "text": [
      "\u001b[32m[I 2022-05-12 10:30:01,974]\u001b[0m Trial 36 finished with value: 0.6111111044883728 and parameters: {'n_layers': 2, 'n_units_l0': 250, 'dropout_l0': 0.5, 'n_units_l1': 200, 'dropout_l1': 0.2, 'learning_rate': 0.0631987781744058, 'validation_split': 0.44999999999999996}. Best is trial 9 with value: 0.8888888955116272.\u001b[0m\n"
     ]
    },
    {
     "name": "stdout",
     "output_type": "stream",
     "text": [
      "1/1 [==============================] - 0s 18ms/step - loss: 9.9626 - accuracy: 0.7222\n"
     ]
    },
    {
     "name": "stderr",
     "output_type": "stream",
     "text": [
      "\u001b[32m[I 2022-05-12 10:30:03,052]\u001b[0m Trial 37 finished with value: 0.7222222089767456 and parameters: {'n_layers': 2, 'n_units_l0': 250, 'dropout_l0': 0.4, 'n_units_l1': 150, 'dropout_l1': 0.30000000000000004, 'learning_rate': 0.0759824346850682, 'validation_split': 0.3}. Best is trial 9 with value: 0.8888888955116272.\u001b[0m\n"
     ]
    },
    {
     "name": "stdout",
     "output_type": "stream",
     "text": [
      "1/1 [==============================] - 0s 17ms/step - loss: 1.9144 - accuracy: 0.5000\n"
     ]
    },
    {
     "name": "stderr",
     "output_type": "stream",
     "text": [
      "\u001b[32m[I 2022-05-12 10:30:04,211]\u001b[0m Trial 38 finished with value: 0.5 and parameters: {'n_layers': 4, 'n_units_l0': 200, 'dropout_l0': 0.30000000000000004, 'n_units_l1': 250, 'dropout_l1': 0.30000000000000004, 'n_units_l2': 150, 'dropout_l2': 0.2, 'n_units_l3': 200, 'dropout_l3': 0.30000000000000004, 'learning_rate': 0.04850328141856019, 'validation_split': 0.3}. Best is trial 9 with value: 0.8888888955116272.\u001b[0m\n"
     ]
    },
    {
     "name": "stdout",
     "output_type": "stream",
     "text": [
      "1/1 [==============================] - 0s 17ms/step - loss: 17.0955 - accuracy: 0.6667\n"
     ]
    },
    {
     "name": "stderr",
     "output_type": "stream",
     "text": [
      "\u001b[32m[I 2022-05-12 10:30:05,371]\u001b[0m Trial 39 finished with value: 0.6666666865348816 and parameters: {'n_layers': 2, 'n_units_l0': 250, 'dropout_l0': 0.4, 'n_units_l1': 150, 'dropout_l1': 0.2, 'learning_rate': 0.08547938245543421, 'validation_split': 0.44999999999999996}. Best is trial 9 with value: 0.8888888955116272.\u001b[0m\n"
     ]
    },
    {
     "name": "stdout",
     "output_type": "stream",
     "text": [
      "1/1 [==============================] - 0s 19ms/step - loss: 1.0186 - accuracy: 0.6111\n"
     ]
    },
    {
     "name": "stderr",
     "output_type": "stream",
     "text": [
      "\u001b[32m[I 2022-05-12 10:30:06,470]\u001b[0m Trial 40 finished with value: 0.6111111044883728 and parameters: {'n_layers': 3, 'n_units_l0': 200, 'dropout_l0': 0.5, 'n_units_l1': 200, 'dropout_l1': 0.30000000000000004, 'n_units_l2': 50, 'dropout_l2': 0.4, 'learning_rate': 0.0608444581931303, 'validation_split': 0.3}. Best is trial 9 with value: 0.8888888955116272.\u001b[0m\n"
     ]
    },
    {
     "name": "stdout",
     "output_type": "stream",
     "text": [
      "1/1 [==============================] - 0s 16ms/step - loss: 0.8508 - accuracy: 0.4444\n"
     ]
    },
    {
     "name": "stderr",
     "output_type": "stream",
     "text": [
      "\u001b[32m[I 2022-05-12 10:30:07,653]\u001b[0m Trial 41 finished with value: 0.4444444477558136 and parameters: {'n_layers': 4, 'n_units_l0': 150, 'dropout_l0': 0.2, 'n_units_l1': 250, 'dropout_l1': 0.4, 'n_units_l2': 100, 'dropout_l2': 0.4, 'n_units_l3': 100, 'dropout_l3': 0.4, 'learning_rate': 0.03953809430524361, 'validation_split': 0.15}. Best is trial 9 with value: 0.8888888955116272.\u001b[0m\n"
     ]
    },
    {
     "name": "stdout",
     "output_type": "stream",
     "text": [
      "1/1 [==============================] - 0s 16ms/step - loss: 0.6627 - accuracy: 0.7222\n"
     ]
    },
    {
     "name": "stderr",
     "output_type": "stream",
     "text": [
      "\u001b[32m[I 2022-05-12 10:30:08,840]\u001b[0m Trial 42 finished with value: 0.7222222089767456 and parameters: {'n_layers': 4, 'n_units_l0': 200, 'dropout_l0': 0.2, 'n_units_l1': 250, 'dropout_l1': 0.4, 'n_units_l2': 100, 'dropout_l2': 0.5, 'n_units_l3': 50, 'dropout_l3': 0.5, 'learning_rate': 0.05212036631986153, 'validation_split': 0.3}. Best is trial 9 with value: 0.8888888955116272.\u001b[0m\n"
     ]
    },
    {
     "name": "stdout",
     "output_type": "stream",
     "text": [
      "1/1 [==============================] - 0s 17ms/step - loss: 0.6324 - accuracy: 0.7778\n"
     ]
    },
    {
     "name": "stderr",
     "output_type": "stream",
     "text": [
      "\u001b[32m[I 2022-05-12 10:30:09,868]\u001b[0m Trial 43 finished with value: 0.7777777910232544 and parameters: {'n_layers': 3, 'n_units_l0': 250, 'dropout_l0': 0.2, 'n_units_l1': 250, 'dropout_l1': 0.30000000000000004, 'n_units_l2': 50, 'dropout_l2': 0.5, 'learning_rate': 0.008503178119175454, 'validation_split': 0.15}. Best is trial 9 with value: 0.8888888955116272.\u001b[0m\n"
     ]
    },
    {
     "name": "stdout",
     "output_type": "stream",
     "text": [
      "1/1 [==============================] - 0s 18ms/step - loss: 20.7457 - accuracy: 0.4444\n"
     ]
    },
    {
     "name": "stderr",
     "output_type": "stream",
     "text": [
      "\u001b[32m[I 2022-05-12 10:30:10,960]\u001b[0m Trial 44 finished with value: 0.4444444477558136 and parameters: {'n_layers': 4, 'n_units_l0': 250, 'dropout_l0': 0.2, 'n_units_l1': 250, 'dropout_l1': 0.4, 'n_units_l2': 50, 'dropout_l2': 0.4, 'n_units_l3': 100, 'dropout_l3': 0.5, 'learning_rate': 0.08064517980585745, 'validation_split': 0.44999999999999996}. Best is trial 9 with value: 0.8888888955116272.\u001b[0m\n"
     ]
    },
    {
     "name": "stdout",
     "output_type": "stream",
     "text": [
      "1/1 [==============================] - 0s 17ms/step - loss: 1.1822 - accuracy: 0.7778\n"
     ]
    },
    {
     "name": "stderr",
     "output_type": "stream",
     "text": [
      "\u001b[32m[I 2022-05-12 10:30:12,057]\u001b[0m Trial 45 finished with value: 0.7777777910232544 and parameters: {'n_layers': 3, 'n_units_l0': 250, 'dropout_l0': 0.2, 'n_units_l1': 200, 'dropout_l1': 0.30000000000000004, 'n_units_l2': 50, 'dropout_l2': 0.5, 'learning_rate': 0.0077665345160993285, 'validation_split': 0.3}. Best is trial 9 with value: 0.8888888955116272.\u001b[0m\n"
     ]
    },
    {
     "name": "stdout",
     "output_type": "stream",
     "text": [
      "1/1 [==============================] - 0s 16ms/step - loss: 1.1004 - accuracy: 0.7222\n"
     ]
    },
    {
     "name": "stderr",
     "output_type": "stream",
     "text": [
      "\u001b[32m[I 2022-05-12 10:30:13,730]\u001b[0m Trial 46 finished with value: 0.7222222089767456 and parameters: {'n_layers': 3, 'n_units_l0': 250, 'dropout_l0': 0.30000000000000004, 'n_units_l1': 250, 'dropout_l1': 0.30000000000000004, 'n_units_l2': 50, 'dropout_l2': 0.5, 'learning_rate': 0.015332303585415048, 'validation_split': 0.15}. Best is trial 9 with value: 0.8888888955116272.\u001b[0m\n"
     ]
    },
    {
     "name": "stdout",
     "output_type": "stream",
     "text": [
      "1/1 [==============================] - 0s 22ms/step - loss: 0.7616 - accuracy: 0.8333\n"
     ]
    },
    {
     "name": "stderr",
     "output_type": "stream",
     "text": [
      "\u001b[32m[I 2022-05-12 10:30:14,827]\u001b[0m Trial 47 finished with value: 0.8333333134651184 and parameters: {'n_layers': 3, 'n_units_l0': 150, 'dropout_l0': 0.30000000000000004, 'n_units_l1': 150, 'dropout_l1': 0.30000000000000004, 'n_units_l2': 250, 'dropout_l2': 0.4, 'learning_rate': 0.011498787348562507, 'validation_split': 0.15}. Best is trial 9 with value: 0.8888888955116272.\u001b[0m\n"
     ]
    },
    {
     "name": "stdout",
     "output_type": "stream",
     "text": [
      "1/1 [==============================] - 0s 16ms/step - loss: 0.8549 - accuracy: 0.7778\n"
     ]
    },
    {
     "name": "stderr",
     "output_type": "stream",
     "text": [
      "\u001b[32m[I 2022-05-12 10:30:15,858]\u001b[0m Trial 48 finished with value: 0.7777777910232544 and parameters: {'n_layers': 2, 'n_units_l0': 150, 'dropout_l0': 0.30000000000000004, 'n_units_l1': 150, 'dropout_l1': 0.5, 'learning_rate': 0.0038091983449678518, 'validation_split': 0.3}. Best is trial 9 with value: 0.8888888955116272.\u001b[0m\n"
     ]
    },
    {
     "name": "stdout",
     "output_type": "stream",
     "text": [
      "1/1 [==============================] - 0s 17ms/step - loss: 0.5890 - accuracy: 0.6667\n"
     ]
    },
    {
     "name": "stderr",
     "output_type": "stream",
     "text": [
      "\u001b[32m[I 2022-05-12 10:30:17,196]\u001b[0m Trial 49 finished with value: 0.6666666865348816 and parameters: {'n_layers': 3, 'n_units_l0': 100, 'dropout_l0': 0.30000000000000004, 'n_units_l1': 150, 'dropout_l1': 0.30000000000000004, 'n_units_l2': 150, 'dropout_l2': 0.30000000000000004, 'learning_rate': 0.09842075375129722, 'validation_split': 0.15}. Best is trial 9 with value: 0.8888888955116272.\u001b[0m\n"
     ]
    },
    {
     "name": "stdout",
     "output_type": "stream",
     "text": [
      "1/1 [==============================] - 0s 17ms/step - loss: 760.4213 - accuracy: 0.4444\n"
     ]
    },
    {
     "name": "stderr",
     "output_type": "stream",
     "text": [
      "\u001b[32m[I 2022-05-12 10:30:18,389]\u001b[0m Trial 50 finished with value: 0.4444444477558136 and parameters: {'n_layers': 5, 'n_units_l0': 150, 'dropout_l0': 0.4, 'n_units_l1': 100, 'dropout_l1': 0.2, 'n_units_l2': 250, 'dropout_l2': 0.4, 'n_units_l3': 200, 'dropout_l3': 0.30000000000000004, 'n_units_l4': 250, 'dropout_l4': 0.5, 'learning_rate': 0.07010641915088338, 'validation_split': 0.3}. Best is trial 9 with value: 0.8888888955116272.\u001b[0m\n"
     ]
    },
    {
     "name": "stdout",
     "output_type": "stream",
     "text": [
      "1/1 [==============================] - 0s 20ms/step - loss: 0.5747 - accuracy: 0.6667\n"
     ]
    },
    {
     "name": "stderr",
     "output_type": "stream",
     "text": [
      "\u001b[32m[I 2022-05-12 10:30:19,570]\u001b[0m Trial 51 finished with value: 0.6666666865348816 and parameters: {'n_layers': 4, 'n_units_l0': 50, 'dropout_l0': 0.30000000000000004, 'n_units_l1': 100, 'dropout_l1': 0.2, 'n_units_l2': 200, 'dropout_l2': 0.30000000000000004, 'n_units_l3': 150, 'dropout_l3': 0.4, 'learning_rate': 0.014272443335703955, 'validation_split': 0.15}. Best is trial 9 with value: 0.8888888955116272.\u001b[0m\n"
     ]
    },
    {
     "name": "stdout",
     "output_type": "stream",
     "text": [
      "1/1 [==============================] - 0s 17ms/step - loss: 0.9322 - accuracy: 0.7778\n"
     ]
    },
    {
     "name": "stderr",
     "output_type": "stream",
     "text": [
      "\u001b[32m[I 2022-05-12 10:30:20,749]\u001b[0m Trial 52 finished with value: 0.7777777910232544 and parameters: {'n_layers': 4, 'n_units_l0': 100, 'dropout_l0': 0.30000000000000004, 'n_units_l1': 100, 'dropout_l1': 0.2, 'n_units_l2': 150, 'dropout_l2': 0.30000000000000004, 'n_units_l3': 100, 'dropout_l3': 0.5, 'learning_rate': 0.013221204649874004, 'validation_split': 0.15}. Best is trial 9 with value: 0.8888888955116272.\u001b[0m\n"
     ]
    },
    {
     "name": "stdout",
     "output_type": "stream",
     "text": [
      "1/1 [==============================] - 0s 16ms/step - loss: 1.6478 - accuracy: 0.7222\n"
     ]
    },
    {
     "name": "stderr",
     "output_type": "stream",
     "text": [
      "\u001b[32m[I 2022-05-12 10:30:21,693]\u001b[0m Trial 53 finished with value: 0.7222222089767456 and parameters: {'n_layers': 2, 'n_units_l0': 250, 'dropout_l0': 0.30000000000000004, 'n_units_l1': 200, 'dropout_l1': 0.30000000000000004, 'learning_rate': 0.03324223155510513, 'validation_split': 0.15}. Best is trial 9 with value: 0.8888888955116272.\u001b[0m\n"
     ]
    },
    {
     "name": "stdout",
     "output_type": "stream",
     "text": [
      "1/1 [==============================] - 0s 22ms/step - loss: 0.6076 - accuracy: 0.7778\n"
     ]
    },
    {
     "name": "stderr",
     "output_type": "stream",
     "text": [
      "\u001b[32m[I 2022-05-12 10:30:22,642]\u001b[0m Trial 54 finished with value: 0.7777777910232544 and parameters: {'n_layers': 2, 'n_units_l0': 250, 'dropout_l0': 0.30000000000000004, 'n_units_l1': 200, 'dropout_l1': 0.30000000000000004, 'learning_rate': 0.0038210947911579696, 'validation_split': 0.15}. Best is trial 9 with value: 0.8888888955116272.\u001b[0m\n"
     ]
    },
    {
     "name": "stdout",
     "output_type": "stream",
     "text": [
      "1/1 [==============================] - 0s 17ms/step - loss: 0.5512 - accuracy: 0.7778\n"
     ]
    },
    {
     "name": "stderr",
     "output_type": "stream",
     "text": [
      "\u001b[32m[I 2022-05-12 10:30:23,566]\u001b[0m Trial 55 finished with value: 0.7777777910232544 and parameters: {'n_layers': 2, 'n_units_l0': 200, 'dropout_l0': 0.30000000000000004, 'n_units_l1': 200, 'dropout_l1': 0.30000000000000004, 'learning_rate': 0.00559316663571301, 'validation_split': 0.15}. Best is trial 9 with value: 0.8888888955116272.\u001b[0m\n"
     ]
    },
    {
     "name": "stdout",
     "output_type": "stream",
     "text": [
      "1/1 [==============================] - 0s 23ms/step - loss: 0.5951 - accuracy: 0.7222\n"
     ]
    },
    {
     "name": "stderr",
     "output_type": "stream",
     "text": [
      "\u001b[32m[I 2022-05-12 10:30:24,509]\u001b[0m Trial 56 finished with value: 0.7222222089767456 and parameters: {'n_layers': 2, 'n_units_l0': 200, 'dropout_l0': 0.30000000000000004, 'n_units_l1': 200, 'dropout_l1': 0.30000000000000004, 'learning_rate': 0.005437697760189653, 'validation_split': 0.15}. Best is trial 9 with value: 0.8888888955116272.\u001b[0m\n"
     ]
    },
    {
     "name": "stdout",
     "output_type": "stream",
     "text": [
      "1/1 [==============================] - 0s 17ms/step - loss: 0.8243 - accuracy: 0.7222\n"
     ]
    },
    {
     "name": "stderr",
     "output_type": "stream",
     "text": [
      "\u001b[32m[I 2022-05-12 10:30:25,740]\u001b[0m Trial 57 finished with value: 0.7222222089767456 and parameters: {'n_layers': 3, 'n_units_l0': 250, 'dropout_l0': 0.30000000000000004, 'n_units_l1': 250, 'dropout_l1': 0.30000000000000004, 'n_units_l2': 200, 'dropout_l2': 0.5, 'learning_rate': 0.021855310189175692, 'validation_split': 0.15}. Best is trial 9 with value: 0.8888888955116272.\u001b[0m\n"
     ]
    },
    {
     "name": "stdout",
     "output_type": "stream",
     "text": [
      "1/1 [==============================] - 0s 18ms/step - loss: 0.9707 - accuracy: 0.7222\n"
     ]
    },
    {
     "name": "stderr",
     "output_type": "stream",
     "text": [
      "\u001b[32m[I 2022-05-12 10:30:26,929]\u001b[0m Trial 58 finished with value: 0.7222222089767456 and parameters: {'n_layers': 4, 'n_units_l0': 150, 'dropout_l0': 0.2, 'n_units_l1': 250, 'dropout_l1': 0.4, 'n_units_l2': 150, 'dropout_l2': 0.4, 'n_units_l3': 50, 'dropout_l3': 0.4, 'learning_rate': 0.018397379469777132, 'validation_split': 0.15}. Best is trial 9 with value: 0.8888888955116272.\u001b[0m\n"
     ]
    },
    {
     "name": "stdout",
     "output_type": "stream",
     "text": [
      "1/1 [==============================] - 0s 16ms/step - loss: 0.5222 - accuracy: 0.8333\n"
     ]
    },
    {
     "name": "stderr",
     "output_type": "stream",
     "text": [
      "\u001b[32m[I 2022-05-12 10:30:28,303]\u001b[0m Trial 59 finished with value: 0.8333333134651184 and parameters: {'n_layers': 3, 'n_units_l0': 250, 'dropout_l0': 0.2, 'n_units_l1': 150, 'dropout_l1': 0.30000000000000004, 'n_units_l2': 50, 'dropout_l2': 0.5, 'learning_rate': 0.010398432468326883, 'validation_split': 0.15}. Best is trial 9 with value: 0.8888888955116272.\u001b[0m\n"
     ]
    },
    {
     "name": "stdout",
     "output_type": "stream",
     "text": [
      "1/1 [==============================] - 0s 17ms/step - loss: 0.5376 - accuracy: 0.8333\n"
     ]
    },
    {
     "name": "stderr",
     "output_type": "stream",
     "text": [
      "\u001b[32m[I 2022-05-12 10:30:29,439]\u001b[0m Trial 60 finished with value: 0.8333333134651184 and parameters: {'n_layers': 3, 'n_units_l0': 250, 'dropout_l0': 0.2, 'n_units_l1': 150, 'dropout_l1': 0.30000000000000004, 'n_units_l2': 250, 'dropout_l2': 0.5, 'learning_rate': 0.010765748573320997, 'validation_split': 0.15}. Best is trial 9 with value: 0.8888888955116272.\u001b[0m\n"
     ]
    },
    {
     "name": "stdout",
     "output_type": "stream",
     "text": [
      "1/1 [==============================] - 0s 17ms/step - loss: 0.9263 - accuracy: 0.7778\n"
     ]
    },
    {
     "name": "stderr",
     "output_type": "stream",
     "text": [
      "\u001b[32m[I 2022-05-12 10:30:30,690]\u001b[0m Trial 61 finished with value: 0.7777777910232544 and parameters: {'n_layers': 3, 'n_units_l0': 250, 'dropout_l0': 0.2, 'n_units_l1': 150, 'dropout_l1': 0.30000000000000004, 'n_units_l2': 250, 'dropout_l2': 0.5, 'learning_rate': 0.00962389529434764, 'validation_split': 0.15}. Best is trial 9 with value: 0.8888888955116272.\u001b[0m\n"
     ]
    },
    {
     "name": "stdout",
     "output_type": "stream",
     "text": [
      "1/1 [==============================] - 0s 20ms/step - loss: 0.5087 - accuracy: 0.8333\n"
     ]
    },
    {
     "name": "stderr",
     "output_type": "stream",
     "text": [
      "\u001b[32m[I 2022-05-12 10:30:31,742]\u001b[0m Trial 62 finished with value: 0.8333333134651184 and parameters: {'n_layers': 3, 'n_units_l0': 250, 'dropout_l0': 0.2, 'n_units_l1': 150, 'dropout_l1': 0.30000000000000004, 'n_units_l2': 250, 'dropout_l2': 0.5, 'learning_rate': 0.0021512536616591707, 'validation_split': 0.15}. Best is trial 9 with value: 0.8888888955116272.\u001b[0m\n"
     ]
    },
    {
     "name": "stdout",
     "output_type": "stream",
     "text": [
      "1/1 [==============================] - 0s 16ms/step - loss: 0.5899 - accuracy: 0.8333\n"
     ]
    },
    {
     "name": "stderr",
     "output_type": "stream",
     "text": [
      "\u001b[32m[I 2022-05-12 10:30:32,812]\u001b[0m Trial 63 finished with value: 0.8333333134651184 and parameters: {'n_layers': 3, 'n_units_l0': 250, 'dropout_l0': 0.2, 'n_units_l1': 150, 'dropout_l1': 0.30000000000000004, 'n_units_l2': 250, 'dropout_l2': 0.5, 'learning_rate': 0.0016121663776978404, 'validation_split': 0.15}. Best is trial 9 with value: 0.8888888955116272.\u001b[0m\n"
     ]
    },
    {
     "name": "stdout",
     "output_type": "stream",
     "text": [
      "1/1 [==============================] - 0s 18ms/step - loss: 0.6689 - accuracy: 0.6111\n"
     ]
    },
    {
     "name": "stderr",
     "output_type": "stream",
     "text": [
      "\u001b[32m[I 2022-05-12 10:30:34,362]\u001b[0m Trial 64 finished with value: 0.6111111044883728 and parameters: {'n_layers': 3, 'n_units_l0': 250, 'dropout_l0': 0.2, 'n_units_l1': 150, 'dropout_l1': 0.30000000000000004, 'n_units_l2': 250, 'dropout_l2': 0.5, 'learning_rate': 0.0002443072327309396, 'validation_split': 0.15}. Best is trial 9 with value: 0.8888888955116272.\u001b[0m\n"
     ]
    },
    {
     "name": "stdout",
     "output_type": "stream",
     "text": [
      "1/1 [==============================] - 0s 17ms/step - loss: 2.6887 - accuracy: 0.7222\n"
     ]
    },
    {
     "name": "stderr",
     "output_type": "stream",
     "text": [
      "\u001b[32m[I 2022-05-12 10:30:35,834]\u001b[0m Trial 65 finished with value: 0.7222222089767456 and parameters: {'n_layers': 3, 'n_units_l0': 250, 'dropout_l0': 0.2, 'n_units_l1': 150, 'dropout_l1': 0.30000000000000004, 'n_units_l2': 250, 'dropout_l2': 0.5, 'learning_rate': 0.06398963456589932, 'validation_split': 0.15}. Best is trial 9 with value: 0.8888888955116272.\u001b[0m\n"
     ]
    },
    {
     "name": "stdout",
     "output_type": "stream",
     "text": [
      "1/1 [==============================] - 0s 17ms/step - loss: 0.4997 - accuracy: 0.7778\n"
     ]
    },
    {
     "name": "stderr",
     "output_type": "stream",
     "text": [
      "\u001b[32m[I 2022-05-12 10:30:36,921]\u001b[0m Trial 66 finished with value: 0.7777777910232544 and parameters: {'n_layers': 3, 'n_units_l0': 250, 'dropout_l0': 0.2, 'n_units_l1': 150, 'dropout_l1': 0.30000000000000004, 'n_units_l2': 200, 'dropout_l2': 0.5, 'learning_rate': 0.0027311351052338602, 'validation_split': 0.15}. Best is trial 9 with value: 0.8888888955116272.\u001b[0m\n"
     ]
    },
    {
     "name": "stdout",
     "output_type": "stream",
     "text": [
      "1/1 [==============================] - 0s 17ms/step - loss: 0.9820 - accuracy: 0.8333\n"
     ]
    },
    {
     "name": "stderr",
     "output_type": "stream",
     "text": [
      "\u001b[32m[I 2022-05-12 10:30:38,198]\u001b[0m Trial 67 finished with value: 0.8333333134651184 and parameters: {'n_layers': 3, 'n_units_l0': 250, 'dropout_l0': 0.2, 'n_units_l1': 150, 'dropout_l1': 0.30000000000000004, 'n_units_l2': 250, 'dropout_l2': 0.5, 'learning_rate': 0.017629563779771557, 'validation_split': 0.15}. Best is trial 9 with value: 0.8888888955116272.\u001b[0m\n"
     ]
    },
    {
     "name": "stdout",
     "output_type": "stream",
     "text": [
      "1/1 [==============================] - 0s 17ms/step - loss: 0.9015 - accuracy: 0.7222\n"
     ]
    },
    {
     "name": "stderr",
     "output_type": "stream",
     "text": [
      "\u001b[32m[I 2022-05-12 10:30:39,244]\u001b[0m Trial 68 finished with value: 0.7222222089767456 and parameters: {'n_layers': 3, 'n_units_l0': 200, 'dropout_l0': 0.4, 'n_units_l1': 150, 'dropout_l1': 0.30000000000000004, 'n_units_l2': 200, 'dropout_l2': 0.2, 'learning_rate': 0.018420732405136413, 'validation_split': 0.15}. Best is trial 9 with value: 0.8888888955116272.\u001b[0m\n"
     ]
    },
    {
     "name": "stdout",
     "output_type": "stream",
     "text": [
      "1/1 [==============================] - 0s 17ms/step - loss: 28.5120 - accuracy: 0.5556\n"
     ]
    },
    {
     "name": "stderr",
     "output_type": "stream",
     "text": [
      "\u001b[32m[I 2022-05-12 10:30:40,308]\u001b[0m Trial 69 finished with value: 0.5555555820465088 and parameters: {'n_layers': 3, 'n_units_l0': 250, 'dropout_l0': 0.2, 'n_units_l1': 150, 'dropout_l1': 0.30000000000000004, 'n_units_l2': 250, 'dropout_l2': 0.5, 'learning_rate': 0.058304545066887904, 'validation_split': 0.15}. Best is trial 9 with value: 0.8888888955116272.\u001b[0m\n"
     ]
    },
    {
     "name": "stdout",
     "output_type": "stream",
     "text": [
      "1/1 [==============================] - 0s 17ms/step - loss: 1.5313 - accuracy: 0.6667\n"
     ]
    },
    {
     "name": "stderr",
     "output_type": "stream",
     "text": [
      "\u001b[32m[I 2022-05-12 10:30:41,662]\u001b[0m Trial 70 finished with value: 0.6666666865348816 and parameters: {'n_layers': 3, 'n_units_l0': 150, 'dropout_l0': 0.4, 'n_units_l1': 200, 'dropout_l1': 0.2, 'n_units_l2': 50, 'dropout_l2': 0.4, 'learning_rate': 0.012120177466800913, 'validation_split': 0.44999999999999996}. Best is trial 9 with value: 0.8888888955116272.\u001b[0m\n"
     ]
    },
    {
     "name": "stdout",
     "output_type": "stream",
     "text": [
      "1/1 [==============================] - 0s 19ms/step - loss: 0.9159 - accuracy: 0.8333\n"
     ]
    },
    {
     "name": "stderr",
     "output_type": "stream",
     "text": [
      "\u001b[32m[I 2022-05-12 10:30:42,827]\u001b[0m Trial 71 finished with value: 0.8333333134651184 and parameters: {'n_layers': 3, 'n_units_l0': 250, 'dropout_l0': 0.2, 'n_units_l1': 150, 'dropout_l1': 0.30000000000000004, 'n_units_l2': 250, 'dropout_l2': 0.5, 'learning_rate': 0.008804825587341695, 'validation_split': 0.15}. Best is trial 9 with value: 0.8888888955116272.\u001b[0m\n"
     ]
    },
    {
     "name": "stdout",
     "output_type": "stream",
     "text": [
      "1/1 [==============================] - 0s 16ms/step - loss: 1.1643 - accuracy: 0.6111\n"
     ]
    },
    {
     "name": "stderr",
     "output_type": "stream",
     "text": [
      "\u001b[32m[I 2022-05-12 10:30:43,907]\u001b[0m Trial 72 finished with value: 0.6111111044883728 and parameters: {'n_layers': 3, 'n_units_l0': 250, 'dropout_l0': 0.2, 'n_units_l1': 150, 'dropout_l1': 0.30000000000000004, 'n_units_l2': 250, 'dropout_l2': 0.5, 'learning_rate': 0.007022606740035585, 'validation_split': 0.15}. Best is trial 9 with value: 0.8888888955116272.\u001b[0m\n"
     ]
    },
    {
     "name": "stdout",
     "output_type": "stream",
     "text": [
      "1/1 [==============================] - 0s 17ms/step - loss: 0.7851 - accuracy: 0.8889\n"
     ]
    },
    {
     "name": "stderr",
     "output_type": "stream",
     "text": [
      "\u001b[32m[I 2022-05-12 10:30:45,283]\u001b[0m Trial 73 finished with value: 0.8888888955116272 and parameters: {'n_layers': 3, 'n_units_l0': 250, 'dropout_l0': 0.2, 'n_units_l1': 150, 'dropout_l1': 0.30000000000000004, 'n_units_l2': 250, 'dropout_l2': 0.5, 'learning_rate': 0.025473360738243873, 'validation_split': 0.15}. Best is trial 9 with value: 0.8888888955116272.\u001b[0m\n"
     ]
    },
    {
     "name": "stdout",
     "output_type": "stream",
     "text": [
      "1/1 [==============================] - 0s 17ms/step - loss: 0.5596 - accuracy: 0.7778\n"
     ]
    },
    {
     "name": "stderr",
     "output_type": "stream",
     "text": [
      "\u001b[32m[I 2022-05-12 10:30:46,478]\u001b[0m Trial 74 finished with value: 0.7777777910232544 and parameters: {'n_layers': 3, 'n_units_l0': 250, 'dropout_l0': 0.2, 'n_units_l1': 150, 'dropout_l1': 0.30000000000000004, 'n_units_l2': 200, 'dropout_l2': 0.5, 'learning_rate': 0.025696078190676187, 'validation_split': 0.15}. Best is trial 9 with value: 0.8888888955116272.\u001b[0m\n"
     ]
    },
    {
     "name": "stdout",
     "output_type": "stream",
     "text": [
      "1/1 [==============================] - 0s 17ms/step - loss: 0.7226 - accuracy: 0.7222\n"
     ]
    },
    {
     "name": "stderr",
     "output_type": "stream",
     "text": [
      "\u001b[32m[I 2022-05-12 10:30:47,557]\u001b[0m Trial 75 finished with value: 0.7222222089767456 and parameters: {'n_layers': 3, 'n_units_l0': 250, 'dropout_l0': 0.2, 'n_units_l1': 100, 'dropout_l1': 0.30000000000000004, 'n_units_l2': 250, 'dropout_l2': 0.5, 'learning_rate': 0.0019442570404047711, 'validation_split': 0.15}. Best is trial 9 with value: 0.8888888955116272.\u001b[0m\n"
     ]
    },
    {
     "name": "stdout",
     "output_type": "stream",
     "text": [
      "1/1 [==============================] - 0s 22ms/step - loss: 14.2935 - accuracy: 0.7222\n"
     ]
    },
    {
     "name": "stderr",
     "output_type": "stream",
     "text": [
      "\u001b[32m[I 2022-05-12 10:30:48,577]\u001b[0m Trial 76 finished with value: 0.7222222089767456 and parameters: {'n_layers': 2, 'n_units_l0': 250, 'dropout_l0': 0.2, 'n_units_l1': 150, 'dropout_l1': 0.4, 'learning_rate': 0.07151938465267349, 'validation_split': 0.3}. Best is trial 9 with value: 0.8888888955116272.\u001b[0m\n"
     ]
    },
    {
     "name": "stdout",
     "output_type": "stream",
     "text": [
      "1/1 [==============================] - 0s 20ms/step - loss: 0.8216 - accuracy: 0.6667\n"
     ]
    },
    {
     "name": "stderr",
     "output_type": "stream",
     "text": [
      "\u001b[32m[I 2022-05-12 10:30:49,881]\u001b[0m Trial 77 finished with value: 0.6666666865348816 and parameters: {'n_layers': 4, 'n_units_l0': 250, 'dropout_l0': 0.2, 'n_units_l1': 100, 'dropout_l1': 0.30000000000000004, 'n_units_l2': 100, 'dropout_l2': 0.5, 'n_units_l3': 200, 'dropout_l3': 0.30000000000000004, 'learning_rate': 0.029051100091599204, 'validation_split': 0.15}. Best is trial 9 with value: 0.8888888955116272.\u001b[0m\n"
     ]
    },
    {
     "name": "stdout",
     "output_type": "stream",
     "text": [
      "1/1 [==============================] - 0s 17ms/step - loss: 0.6811 - accuracy: 0.6111\n"
     ]
    },
    {
     "name": "stderr",
     "output_type": "stream",
     "text": [
      "\u001b[32m[I 2022-05-12 10:30:51,006]\u001b[0m Trial 78 finished with value: 0.6111111044883728 and parameters: {'n_layers': 3, 'n_units_l0': 250, 'dropout_l0': 0.2, 'n_units_l1': 150, 'dropout_l1': 0.30000000000000004, 'n_units_l2': 250, 'dropout_l2': 0.5, 'learning_rate': 4.897255686600187e-05, 'validation_split': 0.15}. Best is trial 9 with value: 0.8888888955116272.\u001b[0m\n"
     ]
    },
    {
     "name": "stdout",
     "output_type": "stream",
     "text": [
      "1/1 [==============================] - 0s 16ms/step - loss: 1.4802 - accuracy: 0.7222\n"
     ]
    },
    {
     "name": "stderr",
     "output_type": "stream",
     "text": [
      "\u001b[32m[I 2022-05-12 10:30:52,072]\u001b[0m Trial 79 finished with value: 0.7222222089767456 and parameters: {'n_layers': 3, 'n_units_l0': 200, 'dropout_l0': 0.2, 'n_units_l1': 150, 'dropout_l1': 0.30000000000000004, 'n_units_l2': 200, 'dropout_l2': 0.5, 'learning_rate': 0.011217328424333204, 'validation_split': 0.44999999999999996}. Best is trial 9 with value: 0.8888888955116272.\u001b[0m\n"
     ]
    },
    {
     "name": "stdout",
     "output_type": "stream",
     "text": [
      "1/1 [==============================] - 0s 17ms/step - loss: 1.9240 - accuracy: 0.4444\n"
     ]
    },
    {
     "name": "stderr",
     "output_type": "stream",
     "text": [
      "\u001b[32m[I 2022-05-12 10:30:53,325]\u001b[0m Trial 80 finished with value: 0.4444444477558136 and parameters: {'n_layers': 5, 'n_units_l0': 250, 'dropout_l0': 0.2, 'n_units_l1': 200, 'dropout_l1': 0.30000000000000004, 'n_units_l2': 50, 'dropout_l2': 0.5, 'n_units_l3': 150, 'dropout_l3': 0.30000000000000004, 'n_units_l4': 50, 'dropout_l4': 0.30000000000000004, 'learning_rate': 0.0399214844086428, 'validation_split': 0.3}. Best is trial 9 with value: 0.8888888955116272.\u001b[0m\n"
     ]
    },
    {
     "name": "stdout",
     "output_type": "stream",
     "text": [
      "1/1 [==============================] - 0s 19ms/step - loss: 0.5703 - accuracy: 0.7778\n"
     ]
    },
    {
     "name": "stderr",
     "output_type": "stream",
     "text": [
      "\u001b[32m[I 2022-05-12 10:30:54,716]\u001b[0m Trial 81 finished with value: 0.7777777910232544 and parameters: {'n_layers': 3, 'n_units_l0': 250, 'dropout_l0': 0.2, 'n_units_l1': 150, 'dropout_l1': 0.30000000000000004, 'n_units_l2': 250, 'dropout_l2': 0.5, 'learning_rate': 0.017737611841433673, 'validation_split': 0.15}. Best is trial 9 with value: 0.8888888955116272.\u001b[0m\n"
     ]
    },
    {
     "name": "stdout",
     "output_type": "stream",
     "text": [
      "1/1 [==============================] - 0s 17ms/step - loss: 0.6398 - accuracy: 0.7222\n"
     ]
    },
    {
     "name": "stderr",
     "output_type": "stream",
     "text": [
      "\u001b[32m[I 2022-05-12 10:30:56,366]\u001b[0m Trial 82 finished with value: 0.7222222089767456 and parameters: {'n_layers': 3, 'n_units_l0': 250, 'dropout_l0': 0.2, 'n_units_l1': 150, 'dropout_l1': 0.30000000000000004, 'n_units_l2': 250, 'dropout_l2': 0.5, 'learning_rate': 0.005242761067005995, 'validation_split': 0.15}. Best is trial 9 with value: 0.8888888955116272.\u001b[0m\n"
     ]
    },
    {
     "name": "stdout",
     "output_type": "stream",
     "text": [
      "1/1 [==============================] - 0s 17ms/step - loss: 0.6002 - accuracy: 0.6111\n"
     ]
    },
    {
     "name": "stderr",
     "output_type": "stream",
     "text": [
      "\u001b[32m[I 2022-05-12 10:30:57,334]\u001b[0m Trial 83 finished with value: 0.6111111044883728 and parameters: {'n_layers': 3, 'n_units_l0': 250, 'dropout_l0': 0.2, 'n_units_l1': 50, 'dropout_l1': 0.30000000000000004, 'n_units_l2': 250, 'dropout_l2': 0.5, 'learning_rate': 0.07608190484411395, 'validation_split': 0.15}. Best is trial 9 with value: 0.8888888955116272.\u001b[0m\n"
     ]
    },
    {
     "name": "stdout",
     "output_type": "stream",
     "text": [
      "1/1 [==============================] - 0s 16ms/step - loss: 1.9191 - accuracy: 0.7222\n"
     ]
    },
    {
     "name": "stderr",
     "output_type": "stream",
     "text": [
      "\u001b[32m[I 2022-05-12 10:30:58,438]\u001b[0m Trial 84 finished with value: 0.7222222089767456 and parameters: {'n_layers': 3, 'n_units_l0': 250, 'dropout_l0': 0.2, 'n_units_l1': 150, 'dropout_l1': 0.30000000000000004, 'n_units_l2': 250, 'dropout_l2': 0.5, 'learning_rate': 0.015433354349074075, 'validation_split': 0.15}. Best is trial 9 with value: 0.8888888955116272.\u001b[0m\n"
     ]
    },
    {
     "name": "stdout",
     "output_type": "stream",
     "text": [
      "1/1 [==============================] - 0s 17ms/step - loss: 0.7530 - accuracy: 0.7778\n"
     ]
    },
    {
     "name": "stderr",
     "output_type": "stream",
     "text": [
      "\u001b[32m[I 2022-05-12 10:30:59,510]\u001b[0m Trial 85 finished with value: 0.7777777910232544 and parameters: {'n_layers': 3, 'n_units_l0': 250, 'dropout_l0': 0.2, 'n_units_l1': 150, 'dropout_l1': 0.30000000000000004, 'n_units_l2': 250, 'dropout_l2': 0.5, 'learning_rate': 0.006147215292797985, 'validation_split': 0.15}. Best is trial 9 with value: 0.8888888955116272.\u001b[0m\n"
     ]
    },
    {
     "name": "stdout",
     "output_type": "stream",
     "text": [
      "1/1 [==============================] - 0s 16ms/step - loss: 28.3283 - accuracy: 0.7222\n"
     ]
    },
    {
     "name": "stderr",
     "output_type": "stream",
     "text": [
      "\u001b[32m[I 2022-05-12 10:31:00,514]\u001b[0m Trial 86 finished with value: 0.7222222089767456 and parameters: {'n_layers': 2, 'n_units_l0': 250, 'dropout_l0': 0.2, 'n_units_l1': 150, 'dropout_l1': 0.30000000000000004, 'learning_rate': 0.06664586264261928, 'validation_split': 0.15}. Best is trial 9 with value: 0.8888888955116272.\u001b[0m\n"
     ]
    },
    {
     "name": "stdout",
     "output_type": "stream",
     "text": [
      "1/1 [==============================] - 0s 18ms/step - loss: 1.3236 - accuracy: 0.7222\n"
     ]
    },
    {
     "name": "stderr",
     "output_type": "stream",
     "text": [
      "\u001b[32m[I 2022-05-12 10:31:01,897]\u001b[0m Trial 87 finished with value: 0.7222222089767456 and parameters: {'n_layers': 4, 'n_units_l0': 250, 'dropout_l0': 0.2, 'n_units_l1': 150, 'dropout_l1': 0.4, 'n_units_l2': 200, 'dropout_l2': 0.5, 'n_units_l3': 250, 'dropout_l3': 0.4, 'learning_rate': 0.009034251672019699, 'validation_split': 0.15}. Best is trial 9 with value: 0.8888888955116272.\u001b[0m\n"
     ]
    },
    {
     "name": "stdout",
     "output_type": "stream",
     "text": [
      "1/1 [==============================] - 0s 20ms/step - loss: 0.7133 - accuracy: 0.8333\n"
     ]
    },
    {
     "name": "stderr",
     "output_type": "stream",
     "text": [
      "\u001b[32m[I 2022-05-12 10:31:03,223]\u001b[0m Trial 88 finished with value: 0.8333333134651184 and parameters: {'n_layers': 2, 'n_units_l0': 200, 'dropout_l0': 0.4, 'n_units_l1': 250, 'dropout_l1': 0.5, 'learning_rate': 0.024166544139381886, 'validation_split': 0.15}. Best is trial 9 with value: 0.8888888955116272.\u001b[0m\n"
     ]
    },
    {
     "name": "stdout",
     "output_type": "stream",
     "text": [
      "1/1 [==============================] - 0s 24ms/step - loss: 0.5651 - accuracy: 0.7778\n"
     ]
    },
    {
     "name": "stderr",
     "output_type": "stream",
     "text": [
      "\u001b[32m[I 2022-05-12 10:31:04,418]\u001b[0m Trial 89 finished with value: 0.7777777910232544 and parameters: {'n_layers': 2, 'n_units_l0': 200, 'dropout_l0': 0.4, 'n_units_l1': 250, 'dropout_l1': 0.5, 'learning_rate': 0.024631542872844067, 'validation_split': 0.15}. Best is trial 9 with value: 0.8888888955116272.\u001b[0m\n"
     ]
    },
    {
     "name": "stdout",
     "output_type": "stream",
     "text": [
      "1/1 [==============================] - 0s 19ms/step - loss: 1.4718 - accuracy: 0.6667\n"
     ]
    },
    {
     "name": "stderr",
     "output_type": "stream",
     "text": [
      "\u001b[32m[I 2022-05-12 10:31:05,919]\u001b[0m Trial 90 finished with value: 0.6666666865348816 and parameters: {'n_layers': 3, 'n_units_l0': 200, 'dropout_l0': 0.2, 'n_units_l1': 150, 'dropout_l1': 0.5, 'n_units_l2': 250, 'dropout_l2': 0.4, 'learning_rate': 0.030214627028265696, 'validation_split': 0.15}. Best is trial 9 with value: 0.8888888955116272.\u001b[0m\n"
     ]
    },
    {
     "name": "stdout",
     "output_type": "stream",
     "text": [
      "1/1 [==============================] - 0s 23ms/step - loss: 0.4554 - accuracy: 0.8889\n"
     ]
    },
    {
     "name": "stderr",
     "output_type": "stream",
     "text": [
      "\u001b[32m[I 2022-05-12 10:31:07,364]\u001b[0m Trial 91 finished with value: 0.8888888955116272 and parameters: {'n_layers': 3, 'n_units_l0': 150, 'dropout_l0': 0.30000000000000004, 'n_units_l1': 150, 'dropout_l1': 0.30000000000000004, 'n_units_l2': 250, 'dropout_l2': 0.5, 'learning_rate': 0.0029850860609111967, 'validation_split': 0.15}. Best is trial 9 with value: 0.8888888955116272.\u001b[0m\n"
     ]
    },
    {
     "name": "stdout",
     "output_type": "stream",
     "text": [
      "1/1 [==============================] - 0s 17ms/step - loss: 0.6514 - accuracy: 0.8333\n"
     ]
    },
    {
     "name": "stderr",
     "output_type": "stream",
     "text": [
      "\u001b[32m[I 2022-05-12 10:31:08,461]\u001b[0m Trial 92 finished with value: 0.8333333134651184 and parameters: {'n_layers': 3, 'n_units_l0': 150, 'dropout_l0': 0.30000000000000004, 'n_units_l1': 150, 'dropout_l1': 0.30000000000000004, 'n_units_l2': 50, 'dropout_l2': 0.5, 'learning_rate': 0.012736119282341415, 'validation_split': 0.15}. Best is trial 9 with value: 0.8888888955116272.\u001b[0m\n"
     ]
    },
    {
     "name": "stdout",
     "output_type": "stream",
     "text": [
      "1/1 [==============================] - 0s 19ms/step - loss: 0.6302 - accuracy: 0.7778\n"
     ]
    },
    {
     "name": "stderr",
     "output_type": "stream",
     "text": [
      "\u001b[32m[I 2022-05-12 10:31:09,560]\u001b[0m Trial 93 finished with value: 0.7777777910232544 and parameters: {'n_layers': 3, 'n_units_l0': 150, 'dropout_l0': 0.30000000000000004, 'n_units_l1': 150, 'dropout_l1': 0.30000000000000004, 'n_units_l2': 50, 'dropout_l2': 0.5, 'learning_rate': 0.01686304809767291, 'validation_split': 0.15}. Best is trial 9 with value: 0.8888888955116272.\u001b[0m\n"
     ]
    },
    {
     "name": "stdout",
     "output_type": "stream",
     "text": [
      "1/1 [==============================] - 0s 24ms/step - loss: 3.1077 - accuracy: 0.6111\n"
     ]
    },
    {
     "name": "stderr",
     "output_type": "stream",
     "text": [
      "\u001b[32m[I 2022-05-12 10:31:10,641]\u001b[0m Trial 94 finished with value: 0.6111111044883728 and parameters: {'n_layers': 3, 'n_units_l0': 250, 'dropout_l0': 0.30000000000000004, 'n_units_l1': 200, 'dropout_l1': 0.30000000000000004, 'n_units_l2': 250, 'dropout_l2': 0.5, 'learning_rate': 0.048538520761812, 'validation_split': 0.15}. Best is trial 9 with value: 0.8888888955116272.\u001b[0m\n"
     ]
    },
    {
     "name": "stdout",
     "output_type": "stream",
     "text": [
      "1/1 [==============================] - 0s 17ms/step - loss: 0.4371 - accuracy: 0.8889\n"
     ]
    },
    {
     "name": "stderr",
     "output_type": "stream",
     "text": [
      "\u001b[32m[I 2022-05-12 10:31:11,690]\u001b[0m Trial 95 finished with value: 0.8888888955116272 and parameters: {'n_layers': 3, 'n_units_l0': 150, 'dropout_l0': 0.5, 'n_units_l1': 150, 'dropout_l1': 0.30000000000000004, 'n_units_l2': 250, 'dropout_l2': 0.5, 'learning_rate': 0.002073448215257728, 'validation_split': 0.15}. Best is trial 9 with value: 0.8888888955116272.\u001b[0m\n"
     ]
    },
    {
     "name": "stdout",
     "output_type": "stream",
     "text": [
      "1/1 [==============================] - 0s 18ms/step - loss: 0.8096 - accuracy: 0.8333\n"
     ]
    },
    {
     "name": "stderr",
     "output_type": "stream",
     "text": [
      "\u001b[32m[I 2022-05-12 10:31:13,132]\u001b[0m Trial 96 finished with value: 0.8333333134651184 and parameters: {'n_layers': 3, 'n_units_l0': 150, 'dropout_l0': 0.30000000000000004, 'n_units_l1': 150, 'dropout_l1': 0.30000000000000004, 'n_units_l2': 250, 'dropout_l2': 0.5, 'learning_rate': 0.02256334568072463, 'validation_split': 0.15}. Best is trial 9 with value: 0.8888888955116272.\u001b[0m\n"
     ]
    },
    {
     "name": "stdout",
     "output_type": "stream",
     "text": [
      "1/1 [==============================] - 0s 18ms/step - loss: 0.5339 - accuracy: 0.7222\n"
     ]
    },
    {
     "name": "stderr",
     "output_type": "stream",
     "text": [
      "\u001b[32m[I 2022-05-12 10:31:14,182]\u001b[0m Trial 97 finished with value: 0.7222222089767456 and parameters: {'n_layers': 3, 'n_units_l0': 150, 'dropout_l0': 0.5, 'n_units_l1': 150, 'dropout_l1': 0.30000000000000004, 'n_units_l2': 250, 'dropout_l2': 0.5, 'learning_rate': 0.010726502542619396, 'validation_split': 0.15}. Best is trial 9 with value: 0.8888888955116272.\u001b[0m\n"
     ]
    },
    {
     "name": "stdout",
     "output_type": "stream",
     "text": [
      "1/1 [==============================] - 0s 20ms/step - loss: 1.2591 - accuracy: 0.7778\n"
     ]
    },
    {
     "name": "stderr",
     "output_type": "stream",
     "text": [
      "\u001b[32m[I 2022-05-12 10:31:15,103]\u001b[0m Trial 98 finished with value: 0.7777777910232544 and parameters: {'n_layers': 2, 'n_units_l0': 150, 'dropout_l0': 0.5, 'n_units_l1': 100, 'dropout_l1': 0.2, 'learning_rate': 0.020670826124963515, 'validation_split': 0.3}. Best is trial 9 with value: 0.8888888955116272.\u001b[0m\n"
     ]
    },
    {
     "name": "stdout",
     "output_type": "stream",
     "text": [
      "1/1 [==============================] - 0s 16ms/step - loss: 0.5718 - accuracy: 0.7778\n"
     ]
    },
    {
     "name": "stderr",
     "output_type": "stream",
     "text": [
      "\u001b[32m[I 2022-05-12 10:31:16,179]\u001b[0m Trial 99 finished with value: 0.7777777910232544 and parameters: {'n_layers': 3, 'n_units_l0': 250, 'dropout_l0': 0.2, 'n_units_l1': 150, 'dropout_l1': 0.30000000000000004, 'n_units_l2': 250, 'dropout_l2': 0.5, 'learning_rate': 0.003987067959627879, 'validation_split': 0.15}. Best is trial 9 with value: 0.8888888955116272.\u001b[0m\n"
     ]
    }
   ],
   "source": [
    "study = optuna.create_study(direction='maximize')\n",
    "study.optimize(objectiveRMSProp2, n_trials=100)"
   ]
  },
  {
   "cell_type": "code",
   "execution_count": 39,
   "metadata": {},
   "outputs": [
    {
     "data": {
      "text/plain": [
       "FrozenTrial(number=9, values=[0.8888888955116272], datetime_start=datetime.datetime(2022, 5, 12, 10, 29, 26, 721755), datetime_complete=datetime.datetime(2022, 5, 12, 10, 29, 28, 10068), params={'n_layers': 4, 'n_units_l0': 250, 'dropout_l0': 0.2, 'n_units_l1': 250, 'dropout_l1': 0.30000000000000004, 'n_units_l2': 100, 'dropout_l2': 0.5, 'n_units_l3': 100, 'dropout_l3': 0.5, 'learning_rate': 0.001691991373239187, 'validation_split': 0.15}, distributions={'n_layers': IntUniformDistribution(high=5, low=2, step=1), 'n_units_l0': IntUniformDistribution(high=250, low=50, step=50), 'dropout_l0': DiscreteUniformDistribution(high=0.5, low=0.2, q=0.1), 'n_units_l1': IntUniformDistribution(high=250, low=50, step=50), 'dropout_l1': DiscreteUniformDistribution(high=0.5, low=0.2, q=0.1), 'n_units_l2': IntUniformDistribution(high=250, low=50, step=50), 'dropout_l2': DiscreteUniformDistribution(high=0.5, low=0.2, q=0.1), 'n_units_l3': IntUniformDistribution(high=250, low=50, step=50), 'dropout_l3': DiscreteUniformDistribution(high=0.5, low=0.2, q=0.1), 'learning_rate': UniformDistribution(high=0.1, low=1e-05), 'validation_split': DiscreteUniformDistribution(high=0.45, low=0.15, q=0.15)}, user_attrs={}, system_attrs={}, intermediate_values={}, trial_id=9, state=TrialState.COMPLETE, value=None)"
      ]
     },
     "execution_count": 39,
     "metadata": {},
     "output_type": "execute_result"
    }
   ],
   "source": [
    "study.best_trial"
   ]
  },
  {
   "cell_type": "markdown",
   "metadata": {},
   "source": [
    "La red con los parámetros optimizados es la siguiente:"
   ]
  },
  {
   "cell_type": "code",
   "execution_count": 40,
   "metadata": {},
   "outputs": [
    {
     "name": "stdout",
     "output_type": "stream",
     "text": [
      "Epoch 1/100\n",
      "2/2 [==============================] - 1s 782ms/step - loss: 0.6827 - acc: 0.6667 - val_loss: 0.6315 - val_acc: 0.6364\n",
      "Epoch 2/100\n",
      "2/2 [==============================] - 0s 35ms/step - loss: 0.7005 - acc: 0.5965 - val_loss: 0.6446 - val_acc: 0.6364\n",
      "Epoch 3/100\n",
      "2/2 [==============================] - 0s 33ms/step - loss: 0.6683 - acc: 0.6667 - val_loss: 0.6659 - val_acc: 0.6364\n",
      "Epoch 4/100\n",
      "2/2 [==============================] - 0s 33ms/step - loss: 0.6100 - acc: 0.7018 - val_loss: 0.5760 - val_acc: 0.7273\n",
      "Epoch 5/100\n",
      "2/2 [==============================] - 0s 36ms/step - loss: 0.5343 - acc: 0.7368 - val_loss: 0.5098 - val_acc: 0.7273\n",
      "Epoch 6/100\n",
      "2/2 [==============================] - 0s 30ms/step - loss: 0.4678 - acc: 0.8421 - val_loss: 0.5353 - val_acc: 0.7273\n",
      "Epoch 7/100\n",
      "2/2 [==============================] - 0s 32ms/step - loss: 0.3094 - acc: 0.9474 - val_loss: 0.6189 - val_acc: 0.7273\n",
      "Epoch 8/100\n",
      "2/2 [==============================] - 0s 29ms/step - loss: 0.2797 - acc: 0.8947 - val_loss: 0.4472 - val_acc: 0.8182\n",
      "Epoch 9/100\n",
      "2/2 [==============================] - 0s 38ms/step - loss: 0.3071 - acc: 0.8596 - val_loss: 0.5071 - val_acc: 0.7273\n",
      "Epoch 10/100\n",
      "2/2 [==============================] - 0s 32ms/step - loss: 0.2149 - acc: 0.9123 - val_loss: 0.5368 - val_acc: 0.7273\n",
      "Epoch 11/100\n",
      "2/2 [==============================] - 0s 39ms/step - loss: 0.1300 - acc: 0.9825 - val_loss: 0.6832 - val_acc: 0.6364\n",
      "Epoch 12/100\n",
      "2/2 [==============================] - 0s 43ms/step - loss: 0.0642 - acc: 1.0000 - val_loss: 0.9982 - val_acc: 0.7273\n",
      "Epoch 13/100\n",
      "2/2 [==============================] - 0s 40ms/step - loss: 0.0622 - acc: 0.9825 - val_loss: 1.0158 - val_acc: 0.6364\n",
      "1/1 [==============================] - 0s 24ms/step - loss: 0.7508 - acc: 0.7778\n",
      "Accuracy: 77.78%\n"
     ]
    }
   ],
   "source": [
    "# Definir y entrenar el modelo\n",
    "modelFC_optuna_RMSProp = models.Sequential()\n",
    "modelFC_optuna_RMSProp.add(layers.Dense(250, activation=\"relu\", input_shape=(410,)))\n",
    "modelFC_optuna_RMSProp.add(layers.Dropout(0.2))\n",
    "modelFC_optuna_RMSProp.add(layers.Dense(250, activation=\"relu\"))\n",
    "modelFC_optuna_RMSProp.add(layers.Dropout(0.3))\n",
    "modelFC_optuna_RMSProp.add(layers.Dense(100, activation=\"relu\"))\n",
    "modelFC_optuna_RMSProp.add(layers.Dropout(0.5))\n",
    "modelFC_optuna_RMSProp.add(layers.Dense(100, activation=\"relu\"))\n",
    "modelFC_optuna_RMSProp.add(layers.Dropout(0.5))\n",
    "modelFC_optuna_RMSProp.add(layers.Dense(2, activation=\"softmax\"))\n",
    "\n",
    "optimizer = tf.keras.optimizers.RMSprop(learning_rate=0.0017)\n",
    "modelFC_optuna_RMSProp.compile(loss=\"binary_crossentropy\", optimizer=optimizer, metrics=[\"acc\"])\n",
    "es = callbacks.EarlyStopping(monitor='val_acc', min_delta=0.01, patience=5)\n",
    "modelFC_optuna_RMSProp.fit(X_train, y_train_softmax, epochs=100, validation_split=0.15, callbacks=[es])\n",
    "\n",
    "# Precisión en partición de test\n",
    "loss, accuracy = modelFC_optuna_RMSProp.evaluate(X_test, y_test_softmax)\n",
    "print(\"Accuracy: {:0.2f}%\".format(accuracy * 100))"
   ]
  },
  {
   "cell_type": "markdown",
   "metadata": {},
   "source": [
    "De nuevo, se da un problema de sobreajuste."
   ]
  },
  {
   "cell_type": "code",
   "execution_count": 42,
   "metadata": {},
   "outputs": [
    {
     "name": "stdout",
     "output_type": "stream",
     "text": [
      "1/1 [==============================] - 0s 17ms/step - loss: 30.0638 - acc: 0.5000\n",
      "Accuracy : 50.00% ----- Regularización: l1\n",
      "1/1 [==============================] - 0s 21ms/step - loss: 2.3800 - acc: 0.8333\n",
      "Accuracy : 83.33% ----- Regularización: l2\n",
      "1/1 [==============================] - 0s 20ms/step - loss: 34.6609 - acc: 0.4444\n",
      "Accuracy : 44.44% ----- Regularización: l1_l2\n",
      "1/1 [==============================] - 0s 20ms/step - loss: 0.4206 - acc: 0.8889\n",
      "Accuracy : 88.89% ----- Regularización: None\n"
     ]
    }
   ],
   "source": [
    "for regularizer in regularizers:\n",
    "    modelFC_optuna_RMSProp = models.Sequential()\n",
    "    modelFC_optuna_RMSProp.add(layers.Dense(250, activation=\"relu\", input_shape=(410,)))\n",
    "    modelFC_optuna_RMSProp.add(layers.Dropout(0.2))\n",
    "    modelFC_optuna_RMSProp.add(layers.Dense(250, activation=\"relu\", kernel_regularizer=regularizer))\n",
    "    modelFC_optuna_RMSProp.add(layers.Dropout(0.3))\n",
    "    modelFC_optuna_RMSProp.add(layers.Dense(100, activation=\"relu\", kernel_regularizer=regularizer))\n",
    "    modelFC_optuna_RMSProp.add(layers.Dropout(0.5))\n",
    "    modelFC_optuna_RMSProp.add(layers.Dense(100, activation=\"relu\", kernel_regularizer=regularizer))\n",
    "    modelFC_optuna_RMSProp.add(layers.Dropout(0.5))\n",
    "    modelFC_optuna_RMSProp.add(layers.Dense(2, activation=\"softmax\"))\n",
    "\n",
    "    optimizer = tf.keras.optimizers.RMSprop(learning_rate=0.0017)\n",
    "    modelFC_optuna_RMSProp.compile(loss=\"binary_crossentropy\", optimizer=optimizer, metrics=[\"acc\"])\n",
    "    es = callbacks.EarlyStopping(monitor='val_acc', min_delta=0.01, patience=5)\n",
    "    modelFC_optuna_RMSProp.fit(X_train, y_train_softmax, epochs=100, validation_split=0.15, callbacks=[es], verbose=0)\n",
    "\n",
    "    # Precisión en partición de test\n",
    "    loss, accuracy = modelFC_optuna_RMSProp.evaluate(X_test, y_test_softmax)\n",
    "    print(\"Accuracy : {:0.2f}% ----- Regularización: {}\".format(accuracy * 100, regularizer))"
   ]
  },
  {
   "cell_type": "markdown",
   "metadata": {},
   "source": [
    "Aunque algunas configuraciones de hiperparámetros con ``keras`` + ``optuna`` dan lugar a resultados con mejores precisiones (por ejemplo 88.89%) que los resultados obtenidos haciendo la búsqueda con ``sklearn`` (83.33%), se ha observado que los modelos optimizados con la primera librería tienen unos resultados muy sensibles a las re-ejecuciones del código. Por tanto, ya que ``keras`` es una librería más flexible y con más opciones de configuración de la red neuronal, el siguiente apartado se centrará en una búsqueda manual de los hiperparámetros, partiendo de la topología de red \"óptima\" de acuerdo a ``GridSearchCV`` de ``sklearn`` y tomando como base para la búsqueda los resultados obtenidos."
   ]
  },
  {
   "cell_type": "code",
   "execution_count": 10,
   "metadata": {},
   "outputs": [
    {
     "name": "stdout",
     "output_type": "stream",
     "text": [
      "Epoch 1/100\n",
      "2/2 [==============================] - 1s 144ms/step - loss: 0.7133 - acc: 0.4386 - val_loss: 0.6592 - val_acc: 0.8182\n",
      "Epoch 2/100\n",
      "2/2 [==============================] - 0s 34ms/step - loss: 0.5821 - acc: 0.7544 - val_loss: 0.6682 - val_acc: 0.7273\n",
      "Epoch 3/100\n",
      "2/2 [==============================] - 0s 25ms/step - loss: 0.4990 - acc: 0.7895 - val_loss: 0.6715 - val_acc: 0.7273\n",
      "Epoch 4/100\n",
      "2/2 [==============================] - 0s 30ms/step - loss: 0.3992 - acc: 0.9474 - val_loss: 0.6420 - val_acc: 0.8182\n",
      "Epoch 5/100\n",
      "2/2 [==============================] - 0s 26ms/step - loss: 0.2997 - acc: 1.0000 - val_loss: 0.6326 - val_acc: 0.8182\n",
      "Epoch 6/100\n",
      "2/2 [==============================] - 0s 32ms/step - loss: 0.2025 - acc: 1.0000 - val_loss: 0.6740 - val_acc: 0.8182\n",
      "1/1 [==============================] - 0s 17ms/step - loss: 0.4795 - acc: 0.7778\n",
      "Accuracy: 77.78%\n"
     ]
    }
   ],
   "source": [
    "# Definir y entrenar el modelo\n",
    "modelFC = models.Sequential()\n",
    "modelFC.add(layers.Dense(200, activation=\"relu\", input_shape=(410,)))\n",
    "modelFC.add(layers.Dense(200, activation=\"relu\"))\n",
    "modelFC.add(layers.Dense(100, activation=\"relu\"))\n",
    "modelFC.add(layers.Dense(50, activation=\"relu\"))\n",
    "modelFC.add(layers.Dense(1, activation=\"sigmoid\"))\n",
    "\n",
    "modelFC.compile(loss=\"binary_crossentropy\", optimizer=\"adam\", metrics=[\"acc\"])\n",
    "es = callbacks.EarlyStopping(monitor=\"val_acc\", min_delta=0.01, patience=5)\n",
    "modelFC.fit(X_train, y_train, epochs=100, validation_split=0.15, callbacks=[es])\n",
    "\n",
    "# Precisión en partición de test\n",
    "loss, accuracy = modelFC.evaluate(X_test, y_test)\n",
    "print(\"Accuracy: {:0.2f}%\".format(accuracy * 100))"
   ]
  },
  {
   "cell_type": "markdown",
   "metadata": {},
   "source": [
    "La red tiene un claro sobreajuste a los datos de train, vamos a tratar de imponer restricciones de regularización para reducir la diferencia de accuracy con el resto de conjuntos."
   ]
  },
  {
   "cell_type": "code",
   "execution_count": 19,
   "metadata": {},
   "outputs": [
    {
     "name": "stdout",
     "output_type": "stream",
     "text": [
      "1/1 [==============================] - 0s 22ms/step - loss: 34.8134 - acc: 0.6111\n",
      "Accuracy : 61.11% ----- Regularización: l1 - Tasa de Dropout: 0.1\n",
      "1/1 [==============================] - 0s 17ms/step - loss: 2.7224 - acc: 0.8333\n",
      "Accuracy : 83.33% ----- Regularización: l2 - Tasa de Dropout: 0.1\n",
      "1/1 [==============================] - 0s 16ms/step - loss: 33.7515 - acc: 0.6667\n",
      "Accuracy : 66.67% ----- Regularización: l1_l2 - Tasa de Dropout: 0.1\n",
      "1/1 [==============================] - 0s 21ms/step - loss: 0.5843 - acc: 0.6111\n",
      "Accuracy : 61.11% ----- Regularización: None - Tasa de Dropout: 0.1\n",
      "1/1 [==============================] - 0s 19ms/step - loss: 36.0505 - acc: 0.6111\n",
      "Accuracy : 61.11% ----- Regularización: l1 - Tasa de Dropout: 0.2\n",
      "1/1 [==============================] - 0s 17ms/step - loss: 3.1796 - acc: 0.8333\n",
      "Accuracy : 83.33% ----- Regularización: l2 - Tasa de Dropout: 0.2\n",
      "1/1 [==============================] - 0s 18ms/step - loss: 40.1670 - acc: 0.5000\n",
      "Accuracy : 50.00% ----- Regularización: l1_l2 - Tasa de Dropout: 0.2\n",
      "1/1 [==============================] - 0s 20ms/step - loss: 0.5940 - acc: 0.6667\n",
      "Accuracy : 66.67% ----- Regularización: None - Tasa de Dropout: 0.2\n",
      "1/1 [==============================] - 0s 17ms/step - loss: 37.1209 - acc: 0.5556\n",
      "Accuracy : 55.56% ----- Regularización: l1 - Tasa de Dropout: 0.30000000000000004\n",
      "1/1 [==============================] - 0s 16ms/step - loss: 2.7861 - acc: 0.7778\n",
      "Accuracy : 77.78% ----- Regularización: l2 - Tasa de Dropout: 0.30000000000000004\n",
      "1/1 [==============================] - 0s 18ms/step - loss: 37.7582 - acc: 0.4444\n",
      "Accuracy : 44.44% ----- Regularización: l1_l2 - Tasa de Dropout: 0.30000000000000004\n",
      "1/1 [==============================] - 0s 18ms/step - loss: 0.6193 - acc: 0.6111\n",
      "Accuracy : 61.11% ----- Regularización: None - Tasa de Dropout: 0.30000000000000004\n",
      "1/1 [==============================] - 0s 17ms/step - loss: 34.3442 - acc: 0.5000\n",
      "Accuracy : 50.00% ----- Regularización: l1 - Tasa de Dropout: 0.4\n",
      "1/1 [==============================] - 0s 16ms/step - loss: 4.2118 - acc: 0.4444\n",
      "Accuracy : 44.44% ----- Regularización: l2 - Tasa de Dropout: 0.4\n",
      "1/1 [==============================] - 0s 20ms/step - loss: 39.3175 - acc: 0.5000\n",
      "Accuracy : 50.00% ----- Regularización: l1_l2 - Tasa de Dropout: 0.4\n",
      "1/1 [==============================] - 0s 17ms/step - loss: 0.6496 - acc: 0.6111\n",
      "Accuracy : 61.11% ----- Regularización: None - Tasa de Dropout: 0.4\n",
      "1/1 [==============================] - 0s 17ms/step - loss: 36.2640 - acc: 0.4444\n",
      "Accuracy : 44.44% ----- Regularización: l1 - Tasa de Dropout: 0.5\n",
      "1/1 [==============================] - 0s 16ms/step - loss: 4.3071 - acc: 0.4444\n",
      "Accuracy : 44.44% ----- Regularización: l2 - Tasa de Dropout: 0.5\n",
      "1/1 [==============================] - 0s 17ms/step - loss: 33.8429 - acc: 0.4444\n",
      "Accuracy : 44.44% ----- Regularización: l1_l2 - Tasa de Dropout: 0.5\n",
      "1/1 [==============================] - 0s 26ms/step - loss: 0.6542 - acc: 0.5556\n",
      "Accuracy : 55.56% ----- Regularización: None - Tasa de Dropout: 0.5\n",
      "1/1 [==============================] - 0s 17ms/step - loss: 37.3366 - acc: 0.4444\n",
      "Accuracy : 44.44% ----- Regularización: l1 - Tasa de Dropout: 0.6\n",
      "1/1 [==============================] - 0s 18ms/step - loss: 4.1521 - acc: 0.7222\n",
      "Accuracy : 72.22% ----- Regularización: l2 - Tasa de Dropout: 0.6\n",
      "1/1 [==============================] - 0s 16ms/step - loss: 39.3930 - acc: 0.4444\n",
      "Accuracy : 44.44% ----- Regularización: l1_l2 - Tasa de Dropout: 0.6\n",
      "1/1 [==============================] - 0s 20ms/step - loss: 0.6976 - acc: 0.3889\n",
      "Accuracy : 38.89% ----- Regularización: None - Tasa de Dropout: 0.6\n"
     ]
    }
   ],
   "source": [
    "dropout_rates = np.arange(0.1, 0.7, 0.1)\n",
    "\n",
    "for rate in dropout_rates:\n",
    "    for regularizer in regularizers:\n",
    "        modelFC = models.Sequential()\n",
    "        modelFC.add(layers.Dense(200, activation=\"relu\", input_shape=(410,)))\n",
    "        modelFC.add(layers.Dropout(rate))\n",
    "        modelFC.add(layers.Dense(200, activation=\"relu\", kernel_regularizer=regularizer))\n",
    "        modelFC.add(layers.Dropout(rate))\n",
    "        modelFC.add(layers.Dense(100, activation=\"relu\", kernel_regularizer=regularizer))\n",
    "        modelFC.add(layers.Dropout(rate))\n",
    "        modelFC.add(layers.Dense(50, activation=\"relu\", kernel_regularizer=regularizer))\n",
    "        modelFC.add(layers.Dropout(rate))\n",
    "        modelFC.add(layers.Dense(1, activation=\"sigmoid\"))\n",
    "\n",
    "        modelFC.compile(loss=\"binary_crossentropy\", optimizer=\"adam\", metrics=[\"acc\"])\n",
    "        es = callbacks.EarlyStopping(monitor=\"val_acc\", min_delta=0.01, patience=5)\n",
    "        modelFC.fit(X_train, y_train, epochs=100, validation_split=0.15, callbacks=[es], verbose=0)\n",
    "\n",
    "        # Precisión en partición de test\n",
    "        loss, accuracy = modelFC.evaluate(X_test, y_test)\n",
    "        print(\"Accuracy : {:0.2f}% ----- Regularización: {} - Tasa de Dropout: {}\".format(accuracy * 100, regularizer, rate))"
   ]
  },
  {
   "cell_type": "markdown",
   "metadata": {},
   "source": [
    "También anteriormente se comprobó que colocar una función de activación softmax en la última capa podía dar lugar a mayor precisión. Repetimos el código anterior con este cambio:"
   ]
  },
  {
   "cell_type": "code",
   "execution_count": 21,
   "metadata": {},
   "outputs": [
    {
     "name": "stdout",
     "output_type": "stream",
     "text": [
      "1/1 [==============================] - 0s 19ms/step - loss: 36.9820 - acc: 0.4444\n",
      "Accuracy : 44.44% ----- Regularización: l1 - Tasa de Dropout: 0.1\n",
      "1/1 [==============================] - 0s 18ms/step - loss: 3.8618 - acc: 0.6111\n",
      "Accuracy : 61.11% ----- Regularización: l2 - Tasa de Dropout: 0.1\n",
      "1/1 [==============================] - 0s 18ms/step - loss: 40.1163 - acc: 0.4444\n",
      "Accuracy : 44.44% ----- Regularización: l1_l2 - Tasa de Dropout: 0.1\n",
      "1/1 [==============================] - 0s 17ms/step - loss: 0.4722 - acc: 0.7778\n",
      "Accuracy : 77.78% ----- Regularización: None - Tasa de Dropout: 0.1\n",
      "1/1 [==============================] - 0s 17ms/step - loss: 35.7505 - acc: 0.4444\n",
      "Accuracy : 44.44% ----- Regularización: l1 - Tasa de Dropout: 0.2\n",
      "1/1 [==============================] - 0s 16ms/step - loss: 3.8960 - acc: 0.5000\n",
      "Accuracy : 50.00% ----- Regularización: l2 - Tasa de Dropout: 0.2\n",
      "1/1 [==============================] - 0s 17ms/step - loss: 38.9039 - acc: 0.5000\n",
      "Accuracy : 50.00% ----- Regularización: l1_l2 - Tasa de Dropout: 0.2\n",
      "1/1 [==============================] - 0s 17ms/step - loss: 0.6884 - acc: 0.5000\n",
      "Accuracy : 50.00% ----- Regularización: None - Tasa de Dropout: 0.2\n",
      "1/1 [==============================] - 0s 17ms/step - loss: 36.9158 - acc: 0.4444\n",
      "Accuracy : 44.44% ----- Regularización: l1 - Tasa de Dropout: 0.30000000000000004\n",
      "1/1 [==============================] - 0s 24ms/step - loss: 3.9228 - acc: 0.5000\n",
      "Accuracy : 50.00% ----- Regularización: l2 - Tasa de Dropout: 0.30000000000000004\n",
      "1/1 [==============================] - 0s 17ms/step - loss: 40.0000 - acc: 0.5000\n",
      "Accuracy : 50.00% ----- Regularización: l1_l2 - Tasa de Dropout: 0.30000000000000004\n",
      "1/1 [==============================] - 0s 24ms/step - loss: 0.6722 - acc: 0.4444\n",
      "Accuracy : 44.44% ----- Regularización: None - Tasa de Dropout: 0.30000000000000004\n",
      "1/1 [==============================] - 0s 19ms/step - loss: 31.8328 - acc: 0.6111\n",
      "Accuracy : 61.11% ----- Regularización: l1 - Tasa de Dropout: 0.4\n",
      "1/1 [==============================] - 0s 16ms/step - loss: 4.1288 - acc: 0.5000\n",
      "Accuracy : 50.00% ----- Regularización: l2 - Tasa de Dropout: 0.4\n",
      "1/1 [==============================] - 0s 17ms/step - loss: 40.2036 - acc: 0.5556\n",
      "Accuracy : 55.56% ----- Regularización: l1_l2 - Tasa de Dropout: 0.4\n",
      "1/1 [==============================] - 0s 16ms/step - loss: 0.6722 - acc: 0.6667\n",
      "Accuracy : 66.67% ----- Regularización: None - Tasa de Dropout: 0.4\n",
      "1/1 [==============================] - 0s 17ms/step - loss: 34.2336 - acc: 0.4444\n",
      "Accuracy : 44.44% ----- Regularización: l1 - Tasa de Dropout: 0.5\n",
      "1/1 [==============================] - 0s 19ms/step - loss: 4.1026 - acc: 0.4444\n",
      "Accuracy : 44.44% ----- Regularización: l2 - Tasa de Dropout: 0.5\n",
      "1/1 [==============================] - 0s 16ms/step - loss: 36.7624 - acc: 0.5000\n",
      "Accuracy : 50.00% ----- Regularización: l1_l2 - Tasa de Dropout: 0.5\n",
      "1/1 [==============================] - 0s 16ms/step - loss: 0.6859 - acc: 0.5000\n",
      "Accuracy : 50.00% ----- Regularización: None - Tasa de Dropout: 0.5\n",
      "1/1 [==============================] - 0s 18ms/step - loss: 29.9302 - acc: 0.4444\n",
      "Accuracy : 44.44% ----- Regularización: l1 - Tasa de Dropout: 0.6\n",
      "1/1 [==============================] - 0s 17ms/step - loss: 4.2779 - acc: 0.5000\n",
      "Accuracy : 50.00% ----- Regularización: l2 - Tasa de Dropout: 0.6\n",
      "1/1 [==============================] - 0s 24ms/step - loss: 36.4886 - acc: 0.5556\n",
      "Accuracy : 55.56% ----- Regularización: l1_l2 - Tasa de Dropout: 0.6\n",
      "1/1 [==============================] - 0s 18ms/step - loss: 0.6827 - acc: 0.4444\n",
      "Accuracy : 44.44% ----- Regularización: None - Tasa de Dropout: 0.6\n"
     ]
    }
   ],
   "source": [
    "for rate in dropout_rates:\n",
    "    for regularizer in regularizers:\n",
    "        modelFC = models.Sequential()\n",
    "        modelFC.add(layers.Dense(200, activation=\"relu\", input_shape=(410,)))\n",
    "        modelFC.add(layers.Dropout(rate))\n",
    "        modelFC.add(layers.Dense(200, activation=\"relu\", kernel_regularizer=regularizer))\n",
    "        modelFC.add(layers.Dropout(rate))\n",
    "        modelFC.add(layers.Dense(100, activation=\"relu\", kernel_regularizer=regularizer))\n",
    "        modelFC.add(layers.Dropout(rate))\n",
    "        modelFC.add(layers.Dense(50, activation=\"relu\", kernel_regularizer=regularizer))\n",
    "        modelFC.add(layers.Dropout(rate))\n",
    "        modelFC.add(layers.Dense(2, activation=\"softmax\"))\n",
    "\n",
    "        modelFC.compile(loss=\"binary_crossentropy\", optimizer=\"adam\", metrics=[\"acc\"])\n",
    "        es = callbacks.EarlyStopping(monitor=\"val_acc\", min_delta=0.01, patience=5)\n",
    "        modelFC.fit(X_train, y_train_softmax, epochs=100, validation_split=0.15, callbacks=[es], verbose=0)\n",
    "\n",
    "        # Precisión en partición de test\n",
    "        loss, accuracy = modelFC.evaluate(X_test, y_test_softmax)\n",
    "        print(\"Accuracy : {:0.2f}% ----- Regularización: {} - Tasa de Dropout: {}\".format(accuracy * 100, regularizer, rate))"
   ]
  },
  {
   "cell_type": "markdown",
   "metadata": {},
   "source": [
    "En este caso obtenemos mejores resultados con la capa final con función sigmoide. Que tiene varias configuraciones que alcanzan un accuracy del 83.33% (coincide con lo obtenido con ``GridSearchCV``).\n",
    "\n",
    "Con ``sklearn`` pudimos buscar la función de optimización más adecuada (Adam), pero no sus parámetros, por lo que ahora trataremos de optimizar el ``learning_rate``. Tomaremos del código anterior el modelo con regularización L2 y una tasa de Dropout = 0.2, ya que son de los valores que mejor precisión alcanzan."
   ]
  },
  {
   "cell_type": "code",
   "execution_count": 31,
   "metadata": {},
   "outputs": [
    {
     "name": "stdout",
     "output_type": "stream",
     "text": [
      "1/1 [==============================] - 0s 18ms/step - loss: 4.7039 - acc: 0.4444\n",
      "Accuracy : 44.44% ----- Optimizador Adam con learning rate = 1e-07\n",
      "1/1 [==============================] - 0s 17ms/step - loss: 4.7067 - acc: 0.2778\n",
      "Accuracy : 27.78% ----- Optimizador Adam con learning rate = 1e-06\n",
      "1/1 [==============================] - 0s 16ms/step - loss: 4.7042 - acc: 0.4444\n",
      "Accuracy : 44.44% ----- Optimizador Adam con learning rate = 1e-05\n",
      "1/1 [==============================] - 0s 16ms/step - loss: 4.5796 - acc: 0.6111\n",
      "Accuracy : 61.11% ----- Optimizador Adam con learning rate = 0.0001\n",
      "1/1 [==============================] - 0s 16ms/step - loss: 4.0018 - acc: 0.6111\n",
      "Accuracy : 61.11% ----- Optimizador Adam con learning rate = 0.001\n",
      "1/1 [==============================] - 0s 19ms/step - loss: 1.3671 - acc: 0.8333\n",
      "Accuracy : 83.33% ----- Optimizador Adam con learning rate = 0.01\n",
      "1/1 [==============================] - 0s 17ms/step - loss: 39.3935 - acc: 0.7778\n",
      "Accuracy : 77.78% ----- Optimizador Adam con learning rate = 0.1\n"
     ]
    }
   ],
   "source": [
    "lr_range = [1e-7, 1e-6, 1e-5, 1e-4, 1e-3, 1e-2, 1e-1]\n",
    "\n",
    "for rate in lr_range:\n",
    "    modelFC = models.Sequential()\n",
    "    modelFC.add(layers.Dense(200, activation=\"relu\", input_shape=(410,)))\n",
    "    modelFC.add(layers.Dropout(0.2))\n",
    "    modelFC.add(layers.Dense(200, activation=\"relu\", kernel_regularizer=\"l2\"))\n",
    "    modelFC.add(layers.Dropout(0.2))\n",
    "    modelFC.add(layers.Dense(100, activation=\"relu\", kernel_regularizer=\"l2\"))\n",
    "    modelFC.add(layers.Dropout(0.2))\n",
    "    modelFC.add(layers.Dense(50, activation=\"relu\", kernel_regularizer=\"l2\"))\n",
    "    modelFC.add(layers.Dropout(0.2))\n",
    "    modelFC.add(layers.Dense(1, activation=\"sigmoid\"))\n",
    "\n",
    "    optimizer = tf.keras.optimizers.Adam(learning_rate=rate)\n",
    "    modelFC.compile(loss=\"binary_crossentropy\", optimizer=optimizer, metrics=[\"acc\"])\n",
    "    es = callbacks.EarlyStopping(monitor=\"val_acc\", min_delta=0.01, patience=5)\n",
    "    modelFC.fit(X_train, y_train, epochs=100, validation_split=0.15, callbacks=[es], verbose=0)\n",
    "\n",
    "    # Precisión en partición de test\n",
    "    loss, accuracy = modelFC.evaluate(X_test, y_test)\n",
    "    print(\"Accuracy : {:0.2f}% ----- Optimizador Adam con learning rate = {}\".format(accuracy * 100, rate))\n",
    "    \n",
    "# También muy sensible a los cambios"
   ]
  },
  {
   "cell_type": "markdown",
   "metadata": {},
   "source": [
    "Vamos a imprimir por pantalla el proceso de entrenamiento de este modelo optimizado a mano para ver los resultados obtenidos y si se produce o no aún sobreajuste."
   ]
  },
  {
   "cell_type": "code",
   "execution_count": 37,
   "metadata": {},
   "outputs": [
    {
     "name": "stdout",
     "output_type": "stream",
     "text": [
      "Epoch 1/100\n",
      "2/2 [==============================] - 1s 156ms/step - loss: 4.5205 - acc: 0.5088 - val_loss: 3.5769 - val_acc: 0.7273\n",
      "Epoch 2/100\n",
      "2/2 [==============================] - 0s 28ms/step - loss: 3.4350 - acc: 0.5614 - val_loss: 2.7237 - val_acc: 0.6364\n",
      "Epoch 3/100\n",
      "2/2 [==============================] - 0s 30ms/step - loss: 2.5351 - acc: 0.6667 - val_loss: 2.1652 - val_acc: 0.6364\n",
      "Epoch 4/100\n",
      "2/2 [==============================] - 0s 31ms/step - loss: 1.8166 - acc: 0.8596 - val_loss: 1.6541 - val_acc: 0.7273\n",
      "Epoch 5/100\n",
      "2/2 [==============================] - 0s 29ms/step - loss: 1.2467 - acc: 0.9474 - val_loss: 1.7561 - val_acc: 0.7273\n",
      "Epoch 6/100\n",
      "2/2 [==============================] - 0s 26ms/step - loss: 0.9572 - acc: 0.9825 - val_loss: 1.4963 - val_acc: 0.6364\n",
      "1/1 [==============================] - 0s 16ms/step - loss: 1.2947 - acc: 0.8889\n",
      "Accuracy: 88.89%\n"
     ]
    }
   ],
   "source": [
    "modelFC = models.Sequential()\n",
    "modelFC.add(layers.Dense(200, activation=\"relu\", input_shape=(410,)))\n",
    "modelFC.add(layers.Dropout(0.2))\n",
    "modelFC.add(layers.Dense(200, activation=\"relu\", kernel_regularizer=\"l2\"))\n",
    "modelFC.add(layers.Dropout(0.2))\n",
    "modelFC.add(layers.Dense(100, activation=\"relu\", kernel_regularizer=\"l2\"))\n",
    "modelFC.add(layers.Dropout(0.2))\n",
    "modelFC.add(layers.Dense(50, activation=\"relu\", kernel_regularizer=\"l2\"))\n",
    "modelFC.add(layers.Dropout(0.2))\n",
    "modelFC.add(layers.Dense(1, activation=\"sigmoid\"))\n",
    "\n",
    "optimizer = tf.keras.optimizers.Adam(learning_rate=0.01)\n",
    "modelFC.compile(loss=\"binary_crossentropy\", optimizer=optimizer, metrics=[\"acc\"])\n",
    "es = callbacks.EarlyStopping(monitor=\"val_acc\", min_delta=0.01, patience=5)\n",
    "modelFC.fit(X_train, y_train, epochs=100, validation_split=0.15, callbacks=[es])\n",
    "\n",
    "# Precisión en partición de test\n",
    "loss, accuracy = modelFC.evaluate(X_test, y_test)\n",
    "print(\"Accuracy: {:0.2f}%\".format(accuracy * 100))"
   ]
  },
  {
   "cell_type": "markdown",
   "metadata": {},
   "source": [
    "$\\color{red}{\\text{Sigue teniendo mucho sobreajuste}}$"
   ]
  },
  {
   "cell_type": "markdown",
   "metadata": {},
   "source": [
    "# Búsqueda manual para la optimización de los hiperparámetros (antiguo)"
   ]
  },
  {
   "cell_type": "code",
   "execution_count": 12,
   "metadata": {},
   "outputs": [
    {
     "name": "stdout",
     "output_type": "stream",
     "text": [
      "Epoch 1/100\n",
      "2/2 [==============================] - 1s 158ms/step - loss: 0.7385 - acc: 0.4902 - val_loss: 0.6319 - val_acc: 0.6471\n",
      "Epoch 2/100\n",
      "2/2 [==============================] - 0s 30ms/step - loss: 0.5424 - acc: 0.7647 - val_loss: 0.6307 - val_acc: 0.7647\n",
      "Epoch 3/100\n",
      "2/2 [==============================] - 0s 21ms/step - loss: 0.4023 - acc: 0.9608 - val_loss: 0.6773 - val_acc: 0.6471\n",
      "Epoch 4/100\n",
      "2/2 [==============================] - 0s 17ms/step - loss: 0.2890 - acc: 0.9216 - val_loss: 0.7575 - val_acc: 0.4706\n",
      "Epoch 5/100\n",
      "2/2 [==============================] - 0s 29ms/step - loss: 0.2222 - acc: 0.9804 - val_loss: 0.6835 - val_acc: 0.7647\n",
      "Epoch 6/100\n",
      "2/2 [==============================] - 0s 31ms/step - loss: 0.1623 - acc: 0.9804 - val_loss: 0.6624 - val_acc: 0.7647\n",
      "Epoch 7/100\n",
      "2/2 [==============================] - 0s 30ms/step - loss: 0.0969 - acc: 1.0000 - val_loss: 0.6794 - val_acc: 0.7647\n",
      "Epoch 8/100\n",
      "2/2 [==============================] - 0s 21ms/step - loss: 0.0593 - acc: 1.0000 - val_loss: 0.6473 - val_acc: 0.5882\n",
      "Epoch 9/100\n",
      "2/2 [==============================] - 0s 52ms/step - loss: 0.0358 - acc: 1.0000 - val_loss: 0.6626 - val_acc: 0.5882\n",
      "Epoch 10/100\n",
      "2/2 [==============================] - 0s 32ms/step - loss: 0.0250 - acc: 1.0000 - val_loss: 0.7044 - val_acc: 0.7647\n",
      "Epoch 11/100\n",
      "2/2 [==============================] - 0s 31ms/step - loss: 0.0186 - acc: 1.0000 - val_loss: 0.6991 - val_acc: 0.5882\n",
      "Epoch 12/100\n",
      "2/2 [==============================] - 0s 35ms/step - loss: 0.0140 - acc: 1.0000 - val_loss: 0.7001 - val_acc: 0.5882\n",
      "Epoch 13/100\n",
      "2/2 [==============================] - 0s 39ms/step - loss: 0.0104 - acc: 1.0000 - val_loss: 0.7597 - val_acc: 0.7059\n",
      "Epoch 14/100\n",
      "2/2 [==============================] - 0s 30ms/step - loss: 0.0078 - acc: 1.0000 - val_loss: 0.7680 - val_acc: 0.6471\n",
      "Epoch 15/100\n",
      "2/2 [==============================] - 0s 48ms/step - loss: 0.0059 - acc: 1.0000 - val_loss: 0.7721 - val_acc: 0.5882\n",
      "Epoch 16/100\n",
      "2/2 [==============================] - 0s 38ms/step - loss: 0.0047 - acc: 1.0000 - val_loss: 0.7980 - val_acc: 0.6471\n",
      "Epoch 17/100\n",
      "2/2 [==============================] - 0s 33ms/step - loss: 0.0039 - acc: 1.0000 - val_loss: 0.7996 - val_acc: 0.6471\n",
      "Epoch 18/100\n",
      "2/2 [==============================] - 0s 29ms/step - loss: 0.0031 - acc: 1.0000 - val_loss: 0.8102 - val_acc: 0.6471\n",
      "Epoch 19/100\n",
      "2/2 [==============================] - 0s 30ms/step - loss: 0.0025 - acc: 1.0000 - val_loss: 0.8428 - val_acc: 0.6471\n",
      "Epoch 20/100\n",
      "2/2 [==============================] - 0s 26ms/step - loss: 0.0021 - acc: 1.0000 - val_loss: 0.8624 - val_acc: 0.6471\n",
      "Epoch 21/100\n",
      "2/2 [==============================] - 0s 31ms/step - loss: 0.0017 - acc: 1.0000 - val_loss: 0.8659 - val_acc: 0.6471\n",
      "Epoch 22/100\n",
      "2/2 [==============================] - 0s 30ms/step - loss: 0.0014 - acc: 1.0000 - val_loss: 0.8721 - val_acc: 0.6471\n",
      "Epoch 23/100\n",
      "2/2 [==============================] - 0s 22ms/step - loss: 0.0012 - acc: 1.0000 - val_loss: 0.8890 - val_acc: 0.6471\n",
      "Epoch 24/100\n",
      "2/2 [==============================] - 0s 18ms/step - loss: 0.0010 - acc: 1.0000 - val_loss: 0.8913 - val_acc: 0.6471\n",
      "Epoch 25/100\n",
      "2/2 [==============================] - 0s 32ms/step - loss: 8.4907e-04 - acc: 1.0000 - val_loss: 0.9005 - val_acc: 0.6471\n",
      "Epoch 26/100\n",
      "2/2 [==============================] - 0s 31ms/step - loss: 7.2130e-04 - acc: 1.0000 - val_loss: 0.9100 - val_acc: 0.6471\n",
      "Epoch 27/100\n",
      "2/2 [==============================] - 0s 30ms/step - loss: 6.0643e-04 - acc: 1.0000 - val_loss: 0.9237 - val_acc: 0.6471\n",
      "Epoch 28/100\n",
      "2/2 [==============================] - 0s 38ms/step - loss: 5.1872e-04 - acc: 1.0000 - val_loss: 0.9388 - val_acc: 0.6471\n",
      "Epoch 29/100\n",
      "2/2 [==============================] - 0s 37ms/step - loss: 4.5549e-04 - acc: 1.0000 - val_loss: 0.9444 - val_acc: 0.6471\n",
      "Epoch 30/100\n",
      "2/2 [==============================] - 0s 36ms/step - loss: 3.8667e-04 - acc: 1.0000 - val_loss: 0.9761 - val_acc: 0.7059\n",
      "Epoch 31/100\n",
      "2/2 [==============================] - 0s 33ms/step - loss: 3.3493e-04 - acc: 1.0000 - val_loss: 0.9917 - val_acc: 0.7059\n",
      "Epoch 32/100\n",
      "2/2 [==============================] - 0s 27ms/step - loss: 2.8748e-04 - acc: 1.0000 - val_loss: 1.0011 - val_acc: 0.7059\n",
      "Epoch 33/100\n",
      "2/2 [==============================] - 0s 50ms/step - loss: 2.4611e-04 - acc: 1.0000 - val_loss: 1.0029 - val_acc: 0.6471\n",
      "Epoch 34/100\n",
      "2/2 [==============================] - 0s 31ms/step - loss: 2.1196e-04 - acc: 1.0000 - val_loss: 1.0221 - val_acc: 0.7059\n",
      "Epoch 35/100\n",
      "2/2 [==============================] - 0s 34ms/step - loss: 1.8535e-04 - acc: 1.0000 - val_loss: 1.0179 - val_acc: 0.6471\n",
      "Epoch 36/100\n",
      "2/2 [==============================] - 0s 30ms/step - loss: 1.5977e-04 - acc: 1.0000 - val_loss: 1.0492 - val_acc: 0.7059\n",
      "Epoch 37/100\n",
      "2/2 [==============================] - 0s 32ms/step - loss: 1.3829e-04 - acc: 1.0000 - val_loss: 1.0404 - val_acc: 0.7059\n",
      "Epoch 38/100\n",
      "2/2 [==============================] - 0s 28ms/step - loss: 1.2026e-04 - acc: 1.0000 - val_loss: 1.0508 - val_acc: 0.7059\n",
      "Epoch 39/100\n",
      "2/2 [==============================] - 0s 31ms/step - loss: 1.0245e-04 - acc: 1.0000 - val_loss: 1.0783 - val_acc: 0.7059\n",
      "Epoch 40/100\n",
      "2/2 [==============================] - 0s 31ms/step - loss: 8.8637e-05 - acc: 1.0000 - val_loss: 1.0887 - val_acc: 0.7059\n",
      "Epoch 41/100\n",
      "2/2 [==============================] - 0s 36ms/step - loss: 7.7065e-05 - acc: 1.0000 - val_loss: 1.1089 - val_acc: 0.7059\n",
      "Epoch 42/100\n",
      "2/2 [==============================] - 0s 47ms/step - loss: 6.7470e-05 - acc: 1.0000 - val_loss: 1.1118 - val_acc: 0.7059\n",
      "Epoch 43/100\n",
      "2/2 [==============================] - 0s 53ms/step - loss: 5.8869e-05 - acc: 1.0000 - val_loss: 1.1201 - val_acc: 0.7059\n",
      "Epoch 44/100\n",
      "2/2 [==============================] - 0s 36ms/step - loss: 5.1157e-05 - acc: 1.0000 - val_loss: 1.1476 - val_acc: 0.7059\n",
      "Epoch 45/100\n",
      "2/2 [==============================] - 0s 28ms/step - loss: 4.4653e-05 - acc: 1.0000 - val_loss: 1.1461 - val_acc: 0.7059\n",
      "Epoch 46/100\n",
      "2/2 [==============================] - 0s 34ms/step - loss: 3.8861e-05 - acc: 1.0000 - val_loss: 1.1675 - val_acc: 0.7059\n",
      "Epoch 47/100\n",
      "2/2 [==============================] - 0s 39ms/step - loss: 3.4336e-05 - acc: 1.0000 - val_loss: 1.1911 - val_acc: 0.7059\n",
      "Epoch 48/100\n",
      "2/2 [==============================] - 0s 27ms/step - loss: 3.0029e-05 - acc: 1.0000 - val_loss: 1.2000 - val_acc: 0.7059\n",
      "Epoch 49/100\n",
      "2/2 [==============================] - 0s 33ms/step - loss: 2.6072e-05 - acc: 1.0000 - val_loss: 1.2064 - val_acc: 0.7059\n",
      "Epoch 50/100\n",
      "2/2 [==============================] - 0s 35ms/step - loss: 2.2637e-05 - acc: 1.0000 - val_loss: 1.2197 - val_acc: 0.7059\n",
      "Epoch 51/100\n",
      "2/2 [==============================] - 0s 29ms/step - loss: 1.9848e-05 - acc: 1.0000 - val_loss: 1.2279 - val_acc: 0.7059\n",
      "Epoch 52/100\n",
      "2/2 [==============================] - 0s 33ms/step - loss: 1.7491e-05 - acc: 1.0000 - val_loss: 1.2363 - val_acc: 0.7059\n",
      "Epoch 53/100\n",
      "2/2 [==============================] - 0s 36ms/step - loss: 1.5319e-05 - acc: 1.0000 - val_loss: 1.2560 - val_acc: 0.7059\n",
      "Epoch 54/100\n",
      "2/2 [==============================] - 0s 38ms/step - loss: 1.3488e-05 - acc: 1.0000 - val_loss: 1.2643 - val_acc: 0.7059\n",
      "Epoch 55/100\n",
      "2/2 [==============================] - 0s 29ms/step - loss: 1.1938e-05 - acc: 1.0000 - val_loss: 1.2838 - val_acc: 0.7059\n",
      "Epoch 56/100\n",
      "2/2 [==============================] - 0s 33ms/step - loss: 1.0474e-05 - acc: 1.0000 - val_loss: 1.2916 - val_acc: 0.7059\n",
      "Epoch 57/100\n",
      "2/2 [==============================] - 0s 21ms/step - loss: 9.1590e-06 - acc: 1.0000 - val_loss: 1.2953 - val_acc: 0.7059\n",
      "Epoch 58/100\n",
      "2/2 [==============================] - 0s 33ms/step - loss: 8.0522e-06 - acc: 1.0000 - val_loss: 1.3121 - val_acc: 0.7059\n",
      "Epoch 59/100\n",
      "2/2 [==============================] - 0s 18ms/step - loss: 7.0674e-06 - acc: 1.0000 - val_loss: 1.3230 - val_acc: 0.7059\n",
      "Epoch 60/100\n",
      "2/2 [==============================] - 0s 33ms/step - loss: 6.2223e-06 - acc: 1.0000 - val_loss: 1.3275 - val_acc: 0.7059\n",
      "Epoch 61/100\n",
      "2/2 [==============================] - 0s 19ms/step - loss: 5.4705e-06 - acc: 1.0000 - val_loss: 1.3421 - val_acc: 0.7059\n",
      "Epoch 62/100\n",
      "2/2 [==============================] - 0s 25ms/step - loss: 4.8478e-06 - acc: 1.0000 - val_loss: 1.3556 - val_acc: 0.7059\n",
      "Epoch 63/100\n",
      "2/2 [==============================] - 0s 22ms/step - loss: 4.2967e-06 - acc: 1.0000 - val_loss: 1.3513 - val_acc: 0.7059\n",
      "Epoch 64/100\n",
      "2/2 [==============================] - 0s 33ms/step - loss: 3.8003e-06 - acc: 1.0000 - val_loss: 1.3628 - val_acc: 0.7059\n",
      "Epoch 65/100\n",
      "2/2 [==============================] - 0s 23ms/step - loss: 3.3931e-06 - acc: 1.0000 - val_loss: 1.3998 - val_acc: 0.7059\n",
      "Epoch 66/100\n",
      "2/2 [==============================] - 0s 20ms/step - loss: 2.9816e-06 - acc: 1.0000 - val_loss: 1.4028 - val_acc: 0.7059\n",
      "Epoch 67/100\n",
      "2/2 [==============================] - 0s 19ms/step - loss: 2.6109e-06 - acc: 1.0000 - val_loss: 1.4073 - val_acc: 0.7059\n",
      "Epoch 68/100\n",
      "2/2 [==============================] - 0s 20ms/step - loss: 2.3133e-06 - acc: 1.0000 - val_loss: 1.4085 - val_acc: 0.7059\n",
      "Epoch 69/100\n",
      "2/2 [==============================] - 0s 24ms/step - loss: 2.0721e-06 - acc: 1.0000 - val_loss: 1.4404 - val_acc: 0.7059\n",
      "Epoch 70/100\n",
      "2/2 [==============================] - 0s 28ms/step - loss: 1.8185e-06 - acc: 1.0000 - val_loss: 1.4367 - val_acc: 0.7059\n",
      "Epoch 71/100\n",
      "2/2 [==============================] - 0s 14ms/step - loss: 1.6009e-06 - acc: 1.0000 - val_loss: 1.4461 - val_acc: 0.7059\n",
      "Epoch 72/100\n",
      "2/2 [==============================] - 0s 16ms/step - loss: 1.4234e-06 - acc: 1.0000 - val_loss: 1.4616 - val_acc: 0.7059\n",
      "Epoch 73/100\n",
      "2/2 [==============================] - 0s 29ms/step - loss: 1.2720e-06 - acc: 1.0000 - val_loss: 1.4731 - val_acc: 0.7059\n",
      "Epoch 74/100\n",
      "2/2 [==============================] - 0s 29ms/step - loss: 1.1292e-06 - acc: 1.0000 - val_loss: 1.4834 - val_acc: 0.7059\n",
      "Epoch 75/100\n",
      "2/2 [==============================] - 0s 27ms/step - loss: 1.0037e-06 - acc: 1.0000 - val_loss: 1.4787 - val_acc: 0.7059\n",
      "Epoch 76/100\n",
      "2/2 [==============================] - 0s 33ms/step - loss: 8.9372e-07 - acc: 1.0000 - val_loss: 1.5028 - val_acc: 0.7059\n",
      "Epoch 77/100\n",
      "2/2 [==============================] - 0s 36ms/step - loss: 8.0330e-07 - acc: 1.0000 - val_loss: 1.5190 - val_acc: 0.7059\n",
      "Epoch 78/100\n",
      "2/2 [==============================] - 0s 34ms/step - loss: 7.1232e-07 - acc: 1.0000 - val_loss: 1.5188 - val_acc: 0.7059\n",
      "Epoch 79/100\n",
      "2/2 [==============================] - 0s 34ms/step - loss: 6.3562e-07 - acc: 1.0000 - val_loss: 1.5348 - val_acc: 0.7059\n",
      "Epoch 80/100\n",
      "2/2 [==============================] - 0s 26ms/step - loss: 5.6678e-07 - acc: 1.0000 - val_loss: 1.5391 - val_acc: 0.7059\n",
      "Epoch 81/100\n",
      "2/2 [==============================] - 0s 26ms/step - loss: 5.0735e-07 - acc: 1.0000 - val_loss: 1.5408 - val_acc: 0.7059\n",
      "Epoch 82/100\n",
      "2/2 [==============================] - 0s 34ms/step - loss: 4.5283e-07 - acc: 1.0000 - val_loss: 1.5435 - val_acc: 0.7059\n",
      "Epoch 83/100\n",
      "2/2 [==============================] - 0s 27ms/step - loss: 4.0738e-07 - acc: 1.0000 - val_loss: 1.5744 - val_acc: 0.7059\n",
      "Epoch 84/100\n",
      "2/2 [==============================] - 0s 14ms/step - loss: 3.6801e-07 - acc: 1.0000 - val_loss: 1.5888 - val_acc: 0.7059\n",
      "Epoch 85/100\n",
      "2/2 [==============================] - 0s 15ms/step - loss: 3.2810e-07 - acc: 1.0000 - val_loss: 1.5920 - val_acc: 0.7059\n",
      "Epoch 86/100\n",
      "2/2 [==============================] - 0s 32ms/step - loss: 2.9483e-07 - acc: 1.0000 - val_loss: 1.5957 - val_acc: 0.7059\n",
      "Epoch 87/100\n",
      "2/2 [==============================] - 0s 28ms/step - loss: 2.6540e-07 - acc: 1.0000 - val_loss: 1.5948 - val_acc: 0.7059\n",
      "Epoch 88/100\n",
      "2/2 [==============================] - 0s 16ms/step - loss: 2.3774e-07 - acc: 1.0000 - val_loss: 1.6082 - val_acc: 0.7059\n",
      "Epoch 89/100\n",
      "2/2 [==============================] - 0s 19ms/step - loss: 2.1640e-07 - acc: 1.0000 - val_loss: 1.6287 - val_acc: 0.7059\n",
      "Epoch 90/100\n",
      "2/2 [==============================] - 0s 20ms/step - loss: 1.9498e-07 - acc: 1.0000 - val_loss: 1.6306 - val_acc: 0.7059\n",
      "Epoch 91/100\n",
      "2/2 [==============================] - 0s 22ms/step - loss: 1.7612e-07 - acc: 1.0000 - val_loss: 1.6412 - val_acc: 0.7059\n",
      "Epoch 92/100\n",
      "2/2 [==============================] - 0s 24ms/step - loss: 1.5982e-07 - acc: 1.0000 - val_loss: 1.6474 - val_acc: 0.7059\n",
      "Epoch 93/100\n",
      "2/2 [==============================] - 0s 23ms/step - loss: 1.4439e-07 - acc: 1.0000 - val_loss: 1.6510 - val_acc: 0.7059\n",
      "Epoch 94/100\n",
      "2/2 [==============================] - 0s 22ms/step - loss: 1.3190e-07 - acc: 1.0000 - val_loss: 1.6539 - val_acc: 0.7059\n",
      "Epoch 95/100\n",
      "2/2 [==============================] - 0s 23ms/step - loss: 1.2037e-07 - acc: 1.0000 - val_loss: 1.6761 - val_acc: 0.7059\n",
      "Epoch 96/100\n",
      "2/2 [==============================] - 0s 24ms/step - loss: 1.1012e-07 - acc: 1.0000 - val_loss: 1.6770 - val_acc: 0.7059\n",
      "Epoch 97/100\n",
      "2/2 [==============================] - 0s 27ms/step - loss: 1.0115e-07 - acc: 1.0000 - val_loss: 1.6727 - val_acc: 0.7059\n",
      "Epoch 98/100\n",
      "2/2 [==============================] - 0s 25ms/step - loss: 9.2545e-08 - acc: 1.0000 - val_loss: 1.6838 - val_acc: 0.7059\n",
      "Epoch 99/100\n",
      "2/2 [==============================] - 0s 24ms/step - loss: 8.4531e-08 - acc: 1.0000 - val_loss: 1.6932 - val_acc: 0.7059\n",
      "Epoch 100/100\n",
      "2/2 [==============================] - 0s 30ms/step - loss: 7.7768e-08 - acc: 1.0000 - val_loss: 1.7052 - val_acc: 0.7059\n",
      "1/1 [==============================] - 0s 19ms/step - loss: 1.2297 - acc: 0.7778\n",
      "Accuracy: 77.78%\n"
     ]
    }
   ],
   "source": [
    "# Definir y entrenar el modelo\n",
    "modelFC1 = models.Sequential()\n",
    "modelFC1.add(layers.Dense(100, activation=\"relu\", input_shape=(410,)))\n",
    "modelFC1.add(layers.Dense(200, activation=\"relu\"))\n",
    "modelFC1.add(layers.Dense(100, activation=\"relu\"))\n",
    "modelFC1.add(layers.Dense(1, activation=\"sigmoid\"))\n",
    "\n",
    "modelFC1.compile(loss=\"binary_crossentropy\", optimizer=\"rmsprop\", metrics=[\"acc\"])\n",
    "modelFC1.fit(X_train, y_train, epochs=100, validation_split=0.25)\n",
    "# Se utilizan 100 épocas ya que como se irá viendo, incluso con estas épocas la red sobreajusta.\n",
    "\n",
    "# Precisión en partición de test\n",
    "loss, accuracy = modelFC1.evaluate(X_test, y_test)\n",
    "print(\"Accuracy: {:0.2f}%\".format(accuracy * 100))\n",
    "\n",
    "# Predicción en test para kaggle\n",
    "y_pred_kaggle_FC1 = modelFC1.predict(test)"
   ]
  },
  {
   "cell_type": "markdown",
   "metadata": {},
   "source": [
    "Tras probar una configuración cualquiera en el bloque anterior, vemos que tenemos un gran problema de sobreajuste (100% en el conjunto de train y diferencia de un 30% aproximadamente con la precisión en el conjunto de validación). Vamos a introducir unos términos de regularización para evitar esto."
   ]
  },
  {
   "cell_type": "code",
   "execution_count": 10,
   "metadata": {},
   "outputs": [
    {
     "name": "stdout",
     "output_type": "stream",
     "text": [
      "Epoch 1/100\n",
      "2/2 [==============================] - 1s 176ms/step - loss: 2.0341 - acc: 0.5098 - val_loss: 1.9356 - val_acc: 0.6471\n",
      "Epoch 2/100\n",
      "2/2 [==============================] - 0s 24ms/step - loss: 1.8778 - acc: 0.6275 - val_loss: 1.8620 - val_acc: 0.7647\n",
      "Epoch 3/100\n",
      "2/2 [==============================] - 0s 24ms/step - loss: 1.8085 - acc: 0.6471 - val_loss: 1.8049 - val_acc: 0.6471\n",
      "Epoch 4/100\n",
      "2/2 [==============================] - 0s 24ms/step - loss: 1.7317 - acc: 0.6667 - val_loss: 1.7663 - val_acc: 0.6471\n",
      "Epoch 5/100\n",
      "2/2 [==============================] - 0s 24ms/step - loss: 1.6955 - acc: 0.6863 - val_loss: 1.7382 - val_acc: 0.5882\n",
      "Epoch 6/100\n",
      "2/2 [==============================] - 0s 24ms/step - loss: 1.5640 - acc: 0.8431 - val_loss: 1.7126 - val_acc: 0.5882\n",
      "Epoch 7/100\n",
      "2/2 [==============================] - 0s 24ms/step - loss: 1.5509 - acc: 0.8235 - val_loss: 1.6727 - val_acc: 0.7647\n",
      "1/1 [==============================] - 0s 16ms/step - loss: 1.5890 - acc: 0.6667\n",
      "Accuracy: 66.67%\n"
     ]
    }
   ],
   "source": [
    "# Definir y entrenar el modelo\n",
    "modelFC2 = models.Sequential()\n",
    "modelFC2.add(layers.Dense(100, activation=\"relu\", input_shape=(410,)))\n",
    "modelFC2.add(layers.Dropout(0.5))\n",
    "modelFC2.add(layers.Dense(200, activation=\"relu\", kernel_regularizer=\"l2\"))\n",
    "modelFC2.add(layers.Dropout(0.5))\n",
    "modelFC2.add(layers.Dense(100, activation=\"relu\"))\n",
    "modelFC2.add(layers.Dense(1, activation=\"sigmoid\"))\n",
    "\n",
    "modelFC2.compile(loss=\"binary_crossentropy\", optimizer=\"rmsprop\", metrics=[\"acc\"])\n",
    "es = callbacks.EarlyStopping(monitor='val_acc', min_delta=0.01, patience=5)\n",
    "# Detenemos el entrenamiento si hay más de 5 épocas en las que no hay una ganancia en el conjunto de validación del 1%\n",
    "modelFC2.fit(X_train, y_train, epochs=100, validation_split=0.25, callbacks=[es])\n",
    "\n",
    "# Precisión en partición de test\n",
    "loss, accuracy = modelFC2.evaluate(X_test, y_test)\n",
    "print(\"Accuracy: {:0.2f}%\".format(accuracy * 100))"
   ]
  },
  {
   "cell_type": "markdown",
   "metadata": {},
   "source": [
    "Ahora, sobre la red anterior, buscaremos el ajuste de los parámetros.\n",
    "\n",
    "Al compilar el modelo, la función de pérdida (``binary_crossentropy``) es la adecuada porque estamos en un problema de clasificación binaria e igualmente para la métrica (``acc``), pero podemos probar varias opciones para el optimizador."
   ]
  },
  {
   "cell_type": "code",
   "execution_count": 11,
   "metadata": {},
   "outputs": [
    {
     "name": "stdout",
     "output_type": "stream",
     "text": [
      "----- Entrenando para el optimizador: adadelta -----\n",
      "1/1 [==============================] - 0s 24ms/step - loss: 2.0219 - acc: 0.5556\n",
      "----- Entrenando para el optimizador: adagrad -----\n",
      "1/1 [==============================] - 0s 32ms/step - loss: 2.0501 - acc: 0.3889\n",
      "----- Entrenando para el optimizador: adam -----\n",
      "1/1 [==============================] - 0s 24ms/step - loss: 1.6028 - acc: 0.5556\n",
      "----- Entrenando para el optimizador: adamax -----\n",
      "1/1 [==============================] - 0s 16ms/step - loss: 1.8739 - acc: 0.4444\n",
      "----- Entrenando para el optimizador: rmsprop -----\n",
      "1/1 [==============================] - 0s 16ms/step - loss: 1.4074 - acc: 0.7778\n",
      "----- Entrenando para el optimizador: sgd -----\n",
      "1/1 [==============================] - 0s 24ms/step - loss: 1.9864 - acc: 0.5000\n"
     ]
    },
    {
     "data": {
      "text/plain": [
       "{'adadelta': 0.5555555820465088,\n",
       " 'adagrad': 0.3888888955116272,\n",
       " 'adam': 0.5555555820465088,\n",
       " 'adamax': 0.4444444477558136,\n",
       " 'rmsprop': 0.7777777910232544,\n",
       " 'sgd': 0.5}"
      ]
     },
     "execution_count": 11,
     "metadata": {},
     "output_type": "execute_result"
    }
   ],
   "source": [
    "# BEST OPTIMIZER FUNCTION\n",
    "optimizers_range = [\"adadelta\", \"adagrad\", \"adam\", \"adamax\", \"rmsprop\", \"sgd\"]\n",
    "acc = {}\n",
    "\n",
    "for optimizer in optimizers_range:\n",
    "    print(f\"----- Entrenando para el optimizador: {optimizer} -----\")\n",
    "    # Definir y entrenar el modelo\n",
    "    modelFC2 = models.Sequential()\n",
    "    modelFC2.add(layers.Dense(100, activation=\"relu\", input_shape=(410,)))\n",
    "    modelFC2.add(layers.Dropout(0.5))\n",
    "    modelFC2.add(layers.Dense(200, activation=\"relu\", kernel_regularizer=\"l2\"))\n",
    "    modelFC2.add(layers.Dropout(0.5))\n",
    "    modelFC2.add(layers.Dense(100, activation=\"relu\"))\n",
    "    modelFC2.add(layers.Dense(1, activation=\"sigmoid\"))\n",
    "\n",
    "    modelFC2.compile(loss=\"binary_crossentropy\", optimizer=optimizer, metrics=[\"acc\"])\n",
    "    es = callbacks.EarlyStopping(monitor='val_acc', min_delta=0.01, patience=5)\n",
    "    modelFC2.fit(X_train, y_train, epochs=100, validation_split=0.25, callbacks=[es], verbose=0)\n",
    "    # verbose=0 oculta el informe del proceso en cada época\n",
    "\n",
    "    # Precisión en partición de test\n",
    "    loss, accuracy = modelFC2.evaluate(X_test, y_test)\n",
    "    acc[optimizer] = accuracy\n",
    "    \n",
    "acc"
   ]
  },
  {
   "cell_type": "markdown",
   "metadata": {},
   "source": [
    "En vista de que el mayor accuracy se tiene para el optimizador ``RMSprop``, vamos a optimizar los parámetros del mismo:"
   ]
  },
  {
   "cell_type": "code",
   "execution_count": 12,
   "metadata": {},
   "outputs": [
    {
     "name": "stdout",
     "output_type": "stream",
     "text": [
      "----- Entrenando el optimizador RMSprop con un lr=0.0001 y un momentum=0 -----\n",
      "1/1 [==============================] - 0s 16ms/step - loss: 2.0338 - acc: 0.3889\n",
      "----- Entrenando el optimizador RMSprop con un lr=0.0001 y un momentum=0.001 -----\n",
      "1/1 [==============================] - 0s 16ms/step - loss: 1.9832 - acc: 0.3889\n",
      "----- Entrenando el optimizador RMSprop con un lr=0.0001 y un momentum=0.1 -----\n",
      "1/1 [==============================] - 0s 24ms/step - loss: 1.9626 - acc: 0.4444\n",
      "----- Entrenando el optimizador RMSprop con un lr=0.001 y un momentum=0 -----\n",
      "1/1 [==============================] - 0s 24ms/step - loss: 1.5417 - acc: 0.6111\n",
      "----- Entrenando el optimizador RMSprop con un lr=0.001 y un momentum=0.001 -----\n",
      "1/1 [==============================] - 0s 16ms/step - loss: 1.5551 - acc: 0.7222\n",
      "----- Entrenando el optimizador RMSprop con un lr=0.001 y un momentum=0.1 -----\n",
      "1/1 [==============================] - 0s 16ms/step - loss: 1.4580 - acc: 0.7222\n",
      "----- Entrenando el optimizador RMSprop con un lr=0.01 y un momentum=0 -----\n",
      "1/1 [==============================] - 0s 16ms/step - loss: 0.7889 - acc: 0.7778\n",
      "----- Entrenando el optimizador RMSprop con un lr=0.01 y un momentum=0.001 -----\n",
      "1/1 [==============================] - 0s 16ms/step - loss: 0.9195 - acc: 0.7778\n",
      "----- Entrenando el optimizador RMSprop con un lr=0.01 y un momentum=0.1 -----\n",
      "1/1 [==============================] - 0s 24ms/step - loss: 0.9762 - acc: 0.7778\n",
      "----- Entrenando el optimizador RMSprop con un lr=0.05 y un momentum=0 -----\n",
      "1/1 [==============================] - 0s 24ms/step - loss: 2.4201 - acc: 0.7778\n",
      "----- Entrenando el optimizador RMSprop con un lr=0.05 y un momentum=0.001 -----\n",
      "1/1 [==============================] - 0s 32ms/step - loss: 3.3279 - acc: 0.4444\n",
      "----- Entrenando el optimizador RMSprop con un lr=0.05 y un momentum=0.1 -----\n",
      "1/1 [==============================] - 0s 24ms/step - loss: 2.9976 - acc: 0.6667\n",
      "----- Entrenando el optimizador RMSprop con un lr=0.1 y un momentum=0 -----\n",
      "1/1 [==============================] - 0s 32ms/step - loss: 15.5016 - acc: 0.5556\n",
      "----- Entrenando el optimizador RMSprop con un lr=0.1 y un momentum=0.001 -----\n",
      "1/1 [==============================] - 0s 24ms/step - loss: 10.6634 - acc: 0.6111\n",
      "----- Entrenando el optimizador RMSprop con un lr=0.1 y un momentum=0.1 -----\n",
      "1/1 [==============================] - 0s 24ms/step - loss: 9.5124 - acc: 0.5000\n",
      "----- Entrenando el optimizador RMSprop con un lr=0.5 y un momentum=0 -----\n",
      "1/1 [==============================] - 0s 24ms/step - loss: 3122.3616 - acc: 0.5556\n",
      "----- Entrenando el optimizador RMSprop con un lr=0.5 y un momentum=0.001 -----\n",
      "1/1 [==============================] - 0s 24ms/step - loss: 5618.5869 - acc: 0.7222\n",
      "----- Entrenando el optimizador RMSprop con un lr=0.5 y un momentum=0.1 -----\n",
      "1/1 [==============================] - 0s 24ms/step - loss: 3086.8550 - acc: 0.3333\n",
      "Valor óptimo de los hiperparámetros: lr=0.01; momentum=0\n",
      "Se logra un accuracy de 77.78%\n"
     ]
    }
   ],
   "source": [
    "# BEST RMSPROP HYPERPARAMETERS\n",
    "lr_range = [0.0001, 0.001, 0.01, 0.05, 0.1, 0.5]\n",
    "moment_range = [0, 0.001, 0.1]\n",
    "acc = 0\n",
    "\n",
    "for lr in lr_range:\n",
    "    for moment in moment_range:\n",
    "        print(f\"----- Entrenando el optimizador RMSprop con un lr={lr} y un momentum={moment} -----\")\n",
    "        # Definir y entrenar el modelo\n",
    "        modelFC2 = models.Sequential()\n",
    "        modelFC2.add(layers.Dense(100, activation=\"relu\", input_shape=(410,)))\n",
    "        modelFC2.add(layers.Dropout(0.5))\n",
    "        modelFC2.add(layers.Dense(200, activation=\"relu\", kernel_regularizer=\"l2\"))\n",
    "        modelFC2.add(layers.Dropout(0.5))\n",
    "        modelFC2.add(layers.Dense(100, activation=\"relu\"))\n",
    "        modelFC2.add(layers.Dense(1, activation=\"sigmoid\"))\n",
    "\n",
    "        optimizer = tf.keras.optimizers.RMSprop(learning_rate=lr, momentum=moment)\n",
    "        modelFC2.compile(loss=\"binary_crossentropy\", optimizer=optimizer, metrics=[\"acc\"])\n",
    "        es = callbacks.EarlyStopping(monitor='val_acc', min_delta=0.01, patience=5)\n",
    "        modelFC2.fit(X_train, y_train, epochs=100, validation_split=0.25, callbacks=[es], verbose=0)\n",
    "\n",
    "        # Precisión en partición de test\n",
    "        loss, accuracy = modelFC2.evaluate(X_test, y_test)\n",
    "        if accuracy > acc:\n",
    "            best_lr = lr\n",
    "            best_momentum = moment\n",
    "            acc = accuracy\n",
    "    \n",
    "print(f\"Valor óptimo de los hiperparámetros: lr={best_lr}; momentum={best_momentum}\")\n",
    "print(\"Se logra un accuracy de {:0.2f}%\".format(acc * 100))"
   ]
  },
  {
   "cell_type": "markdown",
   "metadata": {},
   "source": [
    "Ahora vamos a ajustar algunos parámetros de la función ``fit``:"
   ]
  },
  {
   "cell_type": "code",
   "execution_count": 13,
   "metadata": {},
   "outputs": [
    {
     "name": "stdout",
     "output_type": "stream",
     "text": [
      "----- Entrenando el modelo con un tamaño de batch de 5         y un porcentaje de datos de validación de 15.0% -----\n",
      "1/1 [==============================] - 0s 16ms/step - loss: 0.7452 - acc: 0.6667\n",
      "----- Entrenando el modelo con un tamaño de batch de 5         y un porcentaje de datos de validación de 20.0% -----\n",
      "1/1 [==============================] - 0s 24ms/step - loss: 1.1207 - acc: 0.6111\n",
      "----- Entrenando el modelo con un tamaño de batch de 5         y un porcentaje de datos de validación de 25.0% -----\n",
      "1/1 [==============================] - 0s 24ms/step - loss: 0.8624 - acc: 0.8333\n",
      "----- Entrenando el modelo con un tamaño de batch de 5         y un porcentaje de datos de validación de 30.0% -----\n",
      "1/1 [==============================] - 0s 24ms/step - loss: 2.6088 - acc: 0.7778\n",
      "----- Entrenando el modelo con un tamaño de batch de 5         y un porcentaje de datos de validación de 40.0% -----\n",
      "1/1 [==============================] - 0s 24ms/step - loss: 1.6625 - acc: 0.6111\n",
      "----- Entrenando el modelo con un tamaño de batch de 10         y un porcentaje de datos de validación de 15.0% -----\n",
      "1/1 [==============================] - 0s 16ms/step - loss: 0.9655 - acc: 0.7222\n",
      "----- Entrenando el modelo con un tamaño de batch de 10         y un porcentaje de datos de validación de 20.0% -----\n",
      "1/1 [==============================] - 0s 24ms/step - loss: 0.8606 - acc: 0.7778\n",
      "----- Entrenando el modelo con un tamaño de batch de 10         y un porcentaje de datos de validación de 25.0% -----\n",
      "1/1 [==============================] - 0s 32ms/step - loss: 1.1894 - acc: 0.7778\n",
      "----- Entrenando el modelo con un tamaño de batch de 10         y un porcentaje de datos de validación de 30.0% -----\n",
      "1/1 [==============================] - 0s 24ms/step - loss: 0.9865 - acc: 0.7222\n",
      "----- Entrenando el modelo con un tamaño de batch de 10         y un porcentaje de datos de validación de 40.0% -----\n",
      "1/1 [==============================] - 0s 16ms/step - loss: 1.6853 - acc: 0.6667\n",
      "----- Entrenando el modelo con un tamaño de batch de 15         y un porcentaje de datos de validación de 15.0% -----\n",
      "1/1 [==============================] - 0s 24ms/step - loss: 0.9858 - acc: 0.7778\n",
      "----- Entrenando el modelo con un tamaño de batch de 15         y un porcentaje de datos de validación de 20.0% -----\n",
      "1/1 [==============================] - 0s 24ms/step - loss: 1.2781 - acc: 0.6667\n",
      "----- Entrenando el modelo con un tamaño de batch de 15         y un porcentaje de datos de validación de 25.0% -----\n",
      "1/1 [==============================] - 0s 24ms/step - loss: 1.1886 - acc: 0.7222\n",
      "----- Entrenando el modelo con un tamaño de batch de 15         y un porcentaje de datos de validación de 30.0% -----\n",
      "1/1 [==============================] - 0s 16ms/step - loss: 1.1143 - acc: 0.7778\n",
      "----- Entrenando el modelo con un tamaño de batch de 15         y un porcentaje de datos de validación de 40.0% -----\n",
      "1/1 [==============================] - 0s 24ms/step - loss: 1.4090 - acc: 0.7778\n",
      "----- Entrenando el modelo con un tamaño de batch de 20         y un porcentaje de datos de validación de 15.0% -----\n",
      "1/1 [==============================] - 0s 24ms/step - loss: 0.7491 - acc: 0.8333\n",
      "----- Entrenando el modelo con un tamaño de batch de 20         y un porcentaje de datos de validación de 20.0% -----\n",
      "1/1 [==============================] - 0s 24ms/step - loss: 0.9694 - acc: 0.6667\n",
      "----- Entrenando el modelo con un tamaño de batch de 20         y un porcentaje de datos de validación de 25.0% -----\n",
      "1/1 [==============================] - 0s 16ms/step - loss: 0.8543 - acc: 0.7778\n",
      "----- Entrenando el modelo con un tamaño de batch de 20         y un porcentaje de datos de validación de 30.0% -----\n",
      "1/1 [==============================] - 0s 32ms/step - loss: 0.9343 - acc: 0.7222\n",
      "----- Entrenando el modelo con un tamaño de batch de 20         y un porcentaje de datos de validación de 40.0% -----\n",
      "1/1 [==============================] - 0s 24ms/step - loss: 1.6672 - acc: 0.6111\n",
      "Valor óptimo de los hiperparámetros: batch_size=5; validation_split=0.25\n",
      "Se logra un accuracy de 83.33%\n"
     ]
    }
   ],
   "source": [
    "# BEST FIT FUNCTION HYPERPARAMETERS\n",
    "batch_size_range = [5, 10, 15, 20] # Al hacer la partición de test, nos quedan 68 entradas de datos\n",
    "val_split_range = [0.15, 0.2, 0.25, 0.3, 0.4]\n",
    "acc = 0\n",
    "\n",
    "for batch_size in batch_size_range:\n",
    "    for val_split in val_split_range:\n",
    "        print(f\"----- Entrenando el modelo con un tamaño de batch de {batch_size} \\\n",
    "        y un porcentaje de datos de validación de {val_split*100}% -----\")\n",
    "        # Definir y entrenar el modelo\n",
    "        modelFC2 = models.Sequential()\n",
    "        modelFC2.add(layers.Dense(100, activation=\"relu\", input_shape=(410,)))\n",
    "        modelFC2.add(layers.Dropout(0.5))\n",
    "        modelFC2.add(layers.Dense(200, activation=\"relu\", kernel_regularizer=\"l2\"))\n",
    "        modelFC2.add(layers.Dropout(0.5))\n",
    "        modelFC2.add(layers.Dense(100, activation=\"relu\"))\n",
    "        modelFC2.add(layers.Dense(1, activation=\"sigmoid\"))\n",
    "\n",
    "        optimizer = tf.keras.optimizers.RMSprop(learning_rate=best_lr, momentum=best_momentum)\n",
    "        modelFC2.compile(loss=\"binary_crossentropy\", optimizer=optimizer, metrics=[\"acc\"])\n",
    "        es = callbacks.EarlyStopping(monitor='val_acc', min_delta=0.01, patience=5)\n",
    "        modelFC2.fit(X_train, y_train, epochs=100, batch_size=batch_size, validation_split=val_split, callbacks=[es], verbose=0)\n",
    "\n",
    "        # Precisión en partición de test\n",
    "        loss, accuracy = modelFC2.evaluate(X_test, y_test)\n",
    "        if accuracy > acc:\n",
    "            best_batch_size = batch_size\n",
    "            best_val_split = val_split\n",
    "            acc = accuracy\n",
    "    \n",
    "print(f\"Valor óptimo de los hiperparámetros: batch_size={best_batch_size}; validation_split={best_val_split}\")\n",
    "print(\"Se logra un accuracy de {:0.2f}%\".format(acc * 100))"
   ]
  },
  {
   "cell_type": "code",
   "execution_count": 14,
   "metadata": {},
   "outputs": [
    {
     "name": "stdout",
     "output_type": "stream",
     "text": [
      "Epoch 1/100\n",
      "11/11 [==============================] - 1s 18ms/step - loss: 1.8068 - acc: 0.4902 - val_loss: 1.1421 - val_acc: 0.7059\n",
      "Epoch 2/100\n",
      "11/11 [==============================] - 0s 5ms/step - loss: 1.0872 - acc: 0.4902 - val_loss: 0.8710 - val_acc: 0.7059\n",
      "Epoch 3/100\n",
      "11/11 [==============================] - 0s 4ms/step - loss: 0.7586 - acc: 0.7451 - val_loss: 1.0913 - val_acc: 0.7059\n",
      "Epoch 4/100\n",
      "11/11 [==============================] - 0s 5ms/step - loss: 0.3600 - acc: 0.9412 - val_loss: 5.2507 - val_acc: 0.5294\n",
      "Epoch 5/100\n",
      "11/11 [==============================] - 0s 5ms/step - loss: 1.2411 - acc: 0.8039 - val_loss: 0.8056 - val_acc: 0.7059\n",
      "Epoch 6/100\n",
      "11/11 [==============================] - 0s 4ms/step - loss: 0.6949 - acc: 0.8431 - val_loss: 0.9574 - val_acc: 0.7647\n",
      "Epoch 7/100\n",
      "11/11 [==============================] - 0s 5ms/step - loss: 0.6054 - acc: 0.8431 - val_loss: 1.0039 - val_acc: 0.7647\n",
      "Epoch 8/100\n",
      "11/11 [==============================] - 0s 4ms/step - loss: 0.3323 - acc: 0.9412 - val_loss: 2.9974 - val_acc: 0.6471\n",
      "Epoch 9/100\n",
      "11/11 [==============================] - 0s 5ms/step - loss: 0.6001 - acc: 0.8431 - val_loss: 1.2739 - val_acc: 0.7647\n",
      "Epoch 10/100\n",
      "11/11 [==============================] - 0s 5ms/step - loss: 0.3239 - acc: 0.9608 - val_loss: 1.2952 - val_acc: 0.7647\n",
      "Epoch 11/100\n",
      "11/11 [==============================] - 0s 5ms/step - loss: 0.1896 - acc: 0.9608 - val_loss: 0.9052 - val_acc: 0.7647\n",
      "1/1 [==============================] - 0s 32ms/step - loss: 1.0983 - acc: 0.8333\n",
      "Accuracy: 83.33%\n"
     ]
    }
   ],
   "source": [
    "# Definir y entrenar el modelo\n",
    "modelFC2 = models.Sequential()\n",
    "modelFC2.add(layers.Dense(100, activation=\"relu\", input_shape=(410,)))\n",
    "modelFC2.add(layers.Dropout(0.5))\n",
    "modelFC2.add(layers.Dense(200, activation=\"relu\", kernel_regularizer=\"l2\"))\n",
    "modelFC2.add(layers.Dropout(0.5))\n",
    "modelFC2.add(layers.Dense(100, activation=\"relu\"))\n",
    "modelFC2.add(layers.Dense(1, activation=\"sigmoid\"))\n",
    "\n",
    "optimizer = tf.keras.optimizers.RMSprop(learning_rate=best_lr, momentum=best_momentum)\n",
    "modelFC2.compile(loss=\"binary_crossentropy\", optimizer=optimizer, metrics=[\"acc\"])\n",
    "es = callbacks.EarlyStopping(monitor='val_acc', min_delta=0.01, patience=5)\n",
    "modelFC2.fit(X_train, y_train, epochs=100, batch_size=best_batch_size, validation_split=best_val_split, callbacks=[es])\n",
    "\n",
    "# Precisión en partición de test\n",
    "loss, accuracy = modelFC2.evaluate(X_test, y_test)\n",
    "print(\"Accuracy: {:0.2f}%\".format(accuracy * 100))"
   ]
  },
  {
   "cell_type": "markdown",
   "metadata": {},
   "source": [
    "Como sigue habiendo una gran diferencia entre la precisión en el conjunto de validación y en el de entrenamiento, vamos a tratar de reducirla cambiando la topología de la red.\n",
    "\n",
    "$\\color{red}{\\text{¿Está mal hecho que busque la mejor estructura de la red después del ajuste de los parámetros?}}$\n",
    "Si"
   ]
  },
  {
   "cell_type": "code",
   "execution_count": 15,
   "metadata": {},
   "outputs": [
    {
     "name": "stdout",
     "output_type": "stream",
     "text": [
      "Epoch 1/100\n",
      "11/11 [==============================] - 1s 30ms/step - loss: 12.0956 - acc: 0.4902 - val_loss: 4.5607 - val_acc: 0.5882\n",
      "Epoch 2/100\n",
      "11/11 [==============================] - 0s 6ms/step - loss: 3.7107 - acc: 0.5294 - val_loss: 2.8128 - val_acc: 0.5882\n",
      "Epoch 3/100\n",
      "11/11 [==============================] - 0s 6ms/step - loss: 2.5648 - acc: 0.5490 - val_loss: 2.3293 - val_acc: 0.5882\n",
      "Epoch 4/100\n",
      "11/11 [==============================] - 0s 5ms/step - loss: 2.2777 - acc: 0.5294 - val_loss: 2.2114 - val_acc: 0.5882\n",
      "Epoch 5/100\n",
      "11/11 [==============================] - 0s 5ms/step - loss: 2.1971 - acc: 0.5490 - val_loss: 2.2162 - val_acc: 0.5882\n",
      "Epoch 6/100\n",
      "11/11 [==============================] - 0s 5ms/step - loss: 2.2517 - acc: 0.5490 - val_loss: 2.1974 - val_acc: 0.5882\n",
      "1/1 [==============================] - 0s 24ms/step - loss: 2.2413 - acc: 0.4444\n",
      "Accuracy: 44.44%\n"
     ]
    }
   ],
   "source": [
    "# Definir y entrenar el modelo\n",
    "modelFC3 = models.Sequential()\n",
    "modelFC3.add(layers.Dense(100, activation=\"relu\", input_shape=(410,)))\n",
    "modelFC3.add(layers.Dropout(0.5))\n",
    "modelFC3.add(layers.Dense(100, activation=\"relu\", kernel_regularizer=\"l1\"))\n",
    "modelFC3.add(layers.Dropout(0.5))\n",
    "modelFC3.add(layers.Dense(100, activation=\"relu\", kernel_regularizer=\"l1\"))\n",
    "modelFC3.add(layers.Dropout(0.5))\n",
    "modelFC3.add(layers.Dense(100, activation=\"relu\", kernel_regularizer=\"l1\"))\n",
    "modelFC3.add(layers.Dropout(0.5))\n",
    "modelFC3.add(layers.Dense(1, activation=\"sigmoid\"))\n",
    "\n",
    "optimizer = tf.keras.optimizers.RMSprop(learning_rate=best_lr, momentum=best_momentum)\n",
    "modelFC3.compile(loss=\"binary_crossentropy\", optimizer=optimizer, metrics=[\"acc\"])\n",
    "es = callbacks.EarlyStopping(monitor='val_acc', min_delta=0.01, patience=5)\n",
    "modelFC3.fit(X_train, y_train, epochs=100, batch_size=best_batch_size, validation_split=best_val_split, callbacks=[es])\n",
    "\n",
    "# Precisión en partición de test\n",
    "loss, accuracy = modelFC3.evaluate(X_test, y_test)\n",
    "print(\"Accuracy: {:0.2f}%\".format(accuracy * 100))"
   ]
  },
  {
   "cell_type": "code",
   "execution_count": 16,
   "metadata": {},
   "outputs": [
    {
     "name": "stdout",
     "output_type": "stream",
     "text": [
      "Epoch 1/100\n",
      "11/11 [==============================] - 2s 22ms/step - loss: 13.5708 - acc: 0.5098 - val_loss: 5.0148 - val_acc: 0.8235\n",
      "Epoch 2/100\n",
      "11/11 [==============================] - 0s 6ms/step - loss: 4.0705 - acc: 0.5490 - val_loss: 3.1077 - val_acc: 0.5882\n",
      "Epoch 3/100\n",
      "11/11 [==============================] - 0s 5ms/step - loss: 2.8113 - acc: 0.6078 - val_loss: 2.5500 - val_acc: 0.5882\n",
      "Epoch 4/100\n",
      "11/11 [==============================] - 0s 4ms/step - loss: 2.4462 - acc: 0.4902 - val_loss: 2.3053 - val_acc: 0.5882\n",
      "Epoch 5/100\n",
      "11/11 [==============================] - 0s 8ms/step - loss: 2.2729 - acc: 0.4510 - val_loss: 2.2208 - val_acc: 0.5882\n",
      "Epoch 6/100\n",
      "11/11 [==============================] - 0s 6ms/step - loss: 2.2082 - acc: 0.5294 - val_loss: 2.2032 - val_acc: 0.5882\n",
      "1/1 [==============================] - 0s 16ms/step - loss: 2.2075 - acc: 0.4444\n",
      "Accuracy: 44.44%\n"
     ]
    }
   ],
   "source": [
    "# Definir y entrenar el modelo\n",
    "modelFC4 = models.Sequential()\n",
    "modelFC4.add(layers.Dense(100, activation=\"relu\", input_shape=(410,)))\n",
    "modelFC4.add(layers.Dropout(0.5))\n",
    "modelFC4.add(layers.Dense(100, activation=\"relu\", kernel_regularizer=\"l1_l2\"))\n",
    "modelFC4.add(layers.Dropout(0.5))\n",
    "modelFC4.add(layers.Dense(100, activation=\"relu\", kernel_regularizer=\"l1_l2\"))\n",
    "modelFC4.add(layers.Dropout(0.5))\n",
    "modelFC4.add(layers.Dense(100, activation=\"relu\", kernel_regularizer=\"l1_l2\"))\n",
    "modelFC4.add(layers.Dropout(0.5))\n",
    "modelFC4.add(layers.Dense(1, activation=\"sigmoid\"))\n",
    "\n",
    "optimizer = tf.keras.optimizers.RMSprop(learning_rate=best_lr, momentum=best_momentum)\n",
    "modelFC4.compile(loss=\"binary_crossentropy\", optimizer=optimizer, metrics=[\"acc\"])\n",
    "es = callbacks.EarlyStopping(monitor='val_acc', min_delta=0.01, patience=5)\n",
    "modelFC4.fit(X_train, y_train, epochs=100, batch_size=best_batch_size, validation_split=best_val_split, callbacks=[es])\n",
    "\n",
    "# Precisión en partición de test\n",
    "loss, accuracy = modelFC4.evaluate(X_test, y_test)\n",
    "print(\"Accuracy: {:0.2f}%\".format(accuracy * 100))"
   ]
  },
  {
   "cell_type": "code",
   "execution_count": 17,
   "metadata": {},
   "outputs": [
    {
     "name": "stdout",
     "output_type": "stream",
     "text": [
      "Epoch 1/100\n",
      "11/11 [==============================] - 1s 21ms/step - loss: 2.8688 - acc: 0.5098 - val_loss: 1.6835 - val_acc: 0.4118\n",
      "Epoch 2/100\n",
      "11/11 [==============================] - 0s 5ms/step - loss: 1.3549 - acc: 0.7059 - val_loss: 2.1897 - val_acc: 0.5882\n",
      "Epoch 3/100\n",
      "11/11 [==============================] - 0s 5ms/step - loss: 1.9615 - acc: 0.5490 - val_loss: 1.2474 - val_acc: 0.5882\n",
      "Epoch 4/100\n",
      "11/11 [==============================] - 0s 5ms/step - loss: 1.2266 - acc: 0.5882 - val_loss: 1.0481 - val_acc: 0.6471\n",
      "Epoch 5/100\n",
      "11/11 [==============================] - 0s 5ms/step - loss: 0.8608 - acc: 0.7647 - val_loss: 0.9755 - val_acc: 0.8235\n",
      "Epoch 6/100\n",
      "11/11 [==============================] - 0s 4ms/step - loss: 0.8653 - acc: 0.7647 - val_loss: 1.1740 - val_acc: 0.7647\n",
      "Epoch 7/100\n",
      "11/11 [==============================] - 0s 6ms/step - loss: 0.8634 - acc: 0.7255 - val_loss: 0.7729 - val_acc: 0.8235\n",
      "Epoch 8/100\n",
      "11/11 [==============================] - 0s 5ms/step - loss: 0.4374 - acc: 0.9216 - val_loss: 0.8469 - val_acc: 0.8235\n",
      "Epoch 9/100\n",
      "11/11 [==============================] - 0s 6ms/step - loss: 0.3717 - acc: 0.9216 - val_loss: 1.4813 - val_acc: 0.7647\n",
      "Epoch 10/100\n",
      "11/11 [==============================] - 0s 6ms/step - loss: 0.6584 - acc: 0.8235 - val_loss: 1.3721 - val_acc: 0.7647\n",
      "1/1 [==============================] - 0s 40ms/step - loss: 0.9456 - acc: 0.8333\n",
      "Accuracy: 83.33%\n"
     ]
    }
   ],
   "source": [
    "# Definir y entrenar el modelo\n",
    "modelFC5 = models.Sequential()\n",
    "modelFC5.add(layers.Dense(100, activation=\"relu\", input_shape=(410,)))\n",
    "modelFC5.add(layers.Dropout(0.5))\n",
    "modelFC5.add(layers.Dense(100, activation=\"relu\", kernel_regularizer=\"l2\"))\n",
    "modelFC5.add(layers.Dropout(0.5))\n",
    "modelFC5.add(layers.Dense(100, activation=\"relu\", kernel_regularizer=\"l2\"))\n",
    "modelFC5.add(layers.Dropout(0.5))\n",
    "modelFC5.add(layers.Dense(100, activation=\"relu\", kernel_regularizer=\"l2\"))\n",
    "modelFC5.add(layers.Dropout(0.5))\n",
    "modelFC5.add(layers.Dense(1, activation=\"sigmoid\"))\n",
    "\n",
    "optimizer = tf.keras.optimizers.RMSprop(learning_rate=best_lr, momentum=best_momentum)\n",
    "modelFC5.compile(loss=\"binary_crossentropy\", optimizer=optimizer, metrics=[\"acc\"])\n",
    "es = callbacks.EarlyStopping(monitor='val_acc', min_delta=0.01, patience=5)\n",
    "modelFC5.fit(X_train, y_train, epochs=100, batch_size=best_batch_size, validation_split=best_val_split, callbacks=[es])\n",
    "\n",
    "# Precisión en partición de test\n",
    "loss, accuracy = modelFC5.evaluate(X_test, y_test)\n",
    "print(\"Accuracy: {:0.2f}%\".format(accuracy * 100))"
   ]
  },
  {
   "cell_type": "markdown",
   "metadata": {},
   "source": [
    "Hemos probado diferentes topologías para la red hasta encontrar una que ha permitido obtener unos mejores resultados. La regularización que mejor funciona, tanto para no limitar excesivamente el entrenamiento de la red como para acortar las diferencias en el accuracy en train y validation, ha sido la regularización ``L2``. Tras esto, la diferencia en accuracy en las últimas etapas se ha reducido hasta llegar al 6%.\n",
    "\n",
    "$\\color{red}{\\text{Los resultados aún así oscilan bastante si se re-ejecuta el código.}}$\n",
    "$\\color{red}{\\text{El número de capas y de neuronas un poco a ciegas...}}$"
   ]
  },
  {
   "cell_type": "markdown",
   "metadata": {},
   "source": [
    "### Autoencoder\n",
    "\n",
    "Idea: el encoder puede ayudar a \"recrear\" etiquetas de los datos de test proporcionados en kaggle, del que no se dispone de la clasificación verdadera."
   ]
  },
  {
   "cell_type": "code",
   "execution_count": 38,
   "metadata": {},
   "outputs": [
    {
     "name": "stdout",
     "output_type": "stream",
     "text": [
      "Epoch 1/100\n",
      "11/11 [==============================] - 1s 22ms/step - loss: 3.1657 - val_loss: 2.6599\n",
      "Epoch 2/100\n",
      "11/11 [==============================] - 0s 5ms/step - loss: 2.3727 - val_loss: 2.0970\n",
      "Epoch 3/100\n",
      "11/11 [==============================] - 0s 5ms/step - loss: 1.8879 - val_loss: 1.7399\n",
      "Epoch 4/100\n",
      "11/11 [==============================] - 0s 5ms/step - loss: 1.5418 - val_loss: 1.4367\n",
      "Epoch 5/100\n",
      "11/11 [==============================] - 0s 5ms/step - loss: 1.2421 - val_loss: 1.1721\n",
      "Epoch 6/100\n",
      "11/11 [==============================] - 0s 5ms/step - loss: 0.9688 - val_loss: 0.9426\n",
      "Epoch 7/100\n",
      "11/11 [==============================] - 0s 5ms/step - loss: 0.6911 - val_loss: 0.7068\n",
      "Epoch 8/100\n",
      "11/11 [==============================] - 0s 5ms/step - loss: 0.3887 - val_loss: 0.4628\n",
      "Epoch 9/100\n",
      "11/11 [==============================] - 0s 5ms/step - loss: 0.0314 - val_loss: 0.2104\n",
      "Epoch 10/100\n",
      "11/11 [==============================] - 0s 5ms/step - loss: -0.3819 - val_loss: -0.0954\n",
      "Epoch 11/100\n",
      "11/11 [==============================] - 0s 5ms/step - loss: -0.8302 - val_loss: -0.4102\n",
      "Epoch 12/100\n",
      "11/11 [==============================] - 0s 5ms/step - loss: -1.3896 - val_loss: -0.8423\n",
      "Epoch 13/100\n",
      "11/11 [==============================] - 0s 5ms/step - loss: -2.0860 - val_loss: -1.3052\n",
      "Epoch 14/100\n",
      "11/11 [==============================] - 0s 7ms/step - loss: -2.8670 - val_loss: -1.7941\n",
      "Epoch 15/100\n",
      "11/11 [==============================] - 0s 6ms/step - loss: -3.7221 - val_loss: -2.4079\n",
      "Epoch 16/100\n",
      "11/11 [==============================] - 0s 6ms/step - loss: -4.7549 - val_loss: -3.0250\n",
      "Epoch 17/100\n",
      "11/11 [==============================] - 0s 4ms/step - loss: -5.8903 - val_loss: -3.7336\n",
      "Epoch 18/100\n",
      "11/11 [==============================] - 0s 7ms/step - loss: -7.2902 - val_loss: -4.7497\n",
      "Epoch 19/100\n",
      "11/11 [==============================] - 0s 7ms/step - loss: -8.8646 - val_loss: -5.8225\n",
      "Epoch 20/100\n",
      "11/11 [==============================] - 0s 5ms/step - loss: -10.6714 - val_loss: -6.7548\n",
      "Epoch 21/100\n",
      "11/11 [==============================] - 0s 5ms/step - loss: -12.6146 - val_loss: -8.5708\n",
      "Epoch 22/100\n",
      "11/11 [==============================] - 0s 5ms/step - loss: -15.1245 - val_loss: -10.1534\n",
      "Epoch 23/100\n",
      "11/11 [==============================] - 0s 5ms/step - loss: -17.8828 - val_loss: -11.7639\n",
      "Epoch 24/100\n",
      "11/11 [==============================] - 0s 5ms/step - loss: -20.8270 - val_loss: -14.0773\n",
      "Epoch 25/100\n",
      "11/11 [==============================] - 0s 5ms/step - loss: -24.1867 - val_loss: -16.6993\n",
      "Epoch 26/100\n",
      "11/11 [==============================] - 0s 6ms/step - loss: -28.1417 - val_loss: -19.3334\n",
      "Epoch 27/100\n",
      "11/11 [==============================] - 0s 5ms/step - loss: -32.2272 - val_loss: -22.2336\n",
      "Epoch 28/100\n",
      "11/11 [==============================] - 0s 5ms/step - loss: -37.0489 - val_loss: -25.3769\n",
      "Epoch 29/100\n",
      "11/11 [==============================] - 0s 5ms/step - loss: -42.4121 - val_loss: -29.0502\n",
      "Epoch 30/100\n",
      "11/11 [==============================] - 0s 5ms/step - loss: -48.0773 - val_loss: -33.8964\n",
      "Epoch 31/100\n",
      "11/11 [==============================] - 0s 5ms/step - loss: -54.4721 - val_loss: -38.4849\n",
      "Epoch 32/100\n",
      "11/11 [==============================] - 0s 5ms/step - loss: -61.3606 - val_loss: -43.8882\n",
      "Epoch 33/100\n",
      "11/11 [==============================] - 0s 5ms/step - loss: -69.0186 - val_loss: -49.2167\n",
      "Epoch 34/100\n",
      "11/11 [==============================] - 0s 5ms/step - loss: -76.6427 - val_loss: -53.9284\n",
      "Epoch 35/100\n",
      "11/11 [==============================] - 0s 5ms/step - loss: -85.4701 - val_loss: -61.1887\n",
      "Epoch 36/100\n",
      "11/11 [==============================] - 0s 5ms/step - loss: -95.1500 - val_loss: -67.2925\n",
      "Epoch 37/100\n",
      "11/11 [==============================] - 0s 5ms/step - loss: -104.6004 - val_loss: -71.8584\n",
      "Epoch 38/100\n",
      "11/11 [==============================] - 0s 5ms/step - loss: -115.1255 - val_loss: -81.4222\n",
      "Epoch 39/100\n",
      "11/11 [==============================] - 0s 6ms/step - loss: -126.6445 - val_loss: -89.8439\n",
      "Epoch 40/100\n",
      "11/11 [==============================] - 0s 5ms/step - loss: -139.2264 - val_loss: -98.9871\n",
      "Epoch 41/100\n",
      "11/11 [==============================] - 0s 5ms/step - loss: -153.1842 - val_loss: -109.1312\n",
      "Epoch 42/100\n",
      "11/11 [==============================] - 0s 6ms/step - loss: -168.1530 - val_loss: -119.5797\n",
      "Epoch 43/100\n",
      "11/11 [==============================] - 0s 5ms/step - loss: -183.5855 - val_loss: -130.1838\n",
      "Epoch 44/100\n",
      "11/11 [==============================] - 0s 5ms/step - loss: -198.7359 - val_loss: -141.7104\n",
      "Epoch 45/100\n",
      "11/11 [==============================] - 0s 5ms/step - loss: -214.7307 - val_loss: -151.3353\n",
      "Epoch 46/100\n",
      "11/11 [==============================] - 0s 6ms/step - loss: -233.1146 - val_loss: -165.9074\n",
      "Epoch 47/100\n",
      "11/11 [==============================] - 0s 5ms/step - loss: -253.5430 - val_loss: -180.1378\n",
      "Epoch 48/100\n",
      "11/11 [==============================] - 0s 5ms/step - loss: -274.8517 - val_loss: -192.9592\n",
      "Epoch 49/100\n",
      "11/11 [==============================] - 0s 5ms/step - loss: -295.7891 - val_loss: -208.6990\n",
      "Epoch 50/100\n",
      "11/11 [==============================] - 0s 5ms/step - loss: -318.8365 - val_loss: -226.3385\n",
      "Epoch 51/100\n",
      "11/11 [==============================] - 0s 5ms/step - loss: -343.5214 - val_loss: -244.0741\n",
      "Epoch 52/100\n",
      "11/11 [==============================] - 0s 5ms/step - loss: -369.2435 - val_loss: -261.8312\n",
      "Epoch 53/100\n",
      "11/11 [==============================] - 0s 6ms/step - loss: -394.8616 - val_loss: -278.0468\n",
      "Epoch 54/100\n",
      "11/11 [==============================] - 0s 5ms/step - loss: -422.0153 - val_loss: -300.4911\n",
      "Epoch 55/100\n",
      "11/11 [==============================] - 0s 5ms/step - loss: -454.1409 - val_loss: -322.5715\n",
      "Epoch 56/100\n",
      "11/11 [==============================] - 0s 5ms/step - loss: -486.5106 - val_loss: -342.1908\n",
      "Epoch 57/100\n",
      "11/11 [==============================] - 0s 5ms/step - loss: -519.0249 - val_loss: -367.0091\n",
      "Epoch 58/100\n",
      "11/11 [==============================] - 0s 5ms/step - loss: -552.5768 - val_loss: -389.5369\n",
      "Epoch 59/100\n",
      "11/11 [==============================] - 0s 5ms/step - loss: -589.3503 - val_loss: -416.1909\n",
      "Epoch 60/100\n",
      "11/11 [==============================] - 0s 6ms/step - loss: -627.7996 - val_loss: -439.5958\n",
      "Epoch 61/100\n",
      "11/11 [==============================] - 0s 5ms/step - loss: -667.2795 - val_loss: -472.2532\n",
      "Epoch 62/100\n",
      "11/11 [==============================] - 0s 5ms/step - loss: -706.9515 - val_loss: -500.3789\n",
      "Epoch 63/100\n",
      "11/11 [==============================] - 0s 5ms/step - loss: -751.3480 - val_loss: -529.2538\n",
      "Epoch 64/100\n",
      "11/11 [==============================] - 0s 5ms/step - loss: -798.3332 - val_loss: -562.3885\n",
      "Epoch 65/100\n",
      "11/11 [==============================] - 0s 5ms/step - loss: -847.4025 - val_loss: -600.7933\n",
      "Epoch 66/100\n",
      "11/11 [==============================] - 0s 5ms/step - loss: -898.2846 - val_loss: -635.4885\n",
      "Epoch 67/100\n",
      "11/11 [==============================] - 0s 5ms/step - loss: -947.1087 - val_loss: -669.0955\n",
      "Epoch 68/100\n",
      "11/11 [==============================] - 0s 5ms/step - loss: -1003.7301 - val_loss: -716.3845\n",
      "Epoch 69/100\n",
      "11/11 [==============================] - 0s 5ms/step - loss: -1063.7966 - val_loss: -754.1011\n",
      "Epoch 70/100\n",
      "11/11 [==============================] - 0s 5ms/step - loss: -1123.1179 - val_loss: -791.9887\n",
      "Epoch 71/100\n",
      "11/11 [==============================] - 0s 5ms/step - loss: -1184.0597 - val_loss: -834.0953\n",
      "Epoch 72/100\n",
      "11/11 [==============================] - 0s 5ms/step - loss: -1248.0219 - val_loss: -886.1262\n",
      "Epoch 73/100\n",
      "11/11 [==============================] - 0s 5ms/step - loss: -1317.1112 - val_loss: -934.9164\n",
      "Epoch 74/100\n",
      "11/11 [==============================] - 0s 5ms/step - loss: -1387.7094 - val_loss: -992.8698\n",
      "Epoch 75/100\n",
      "11/11 [==============================] - 0s 5ms/step - loss: -1464.8575 - val_loss: -1038.0214\n",
      "Epoch 76/100\n",
      "11/11 [==============================] - 0s 5ms/step - loss: -1535.9362 - val_loss: -1093.0135\n",
      "Epoch 77/100\n",
      "11/11 [==============================] - 0s 6ms/step - loss: -1613.4602 - val_loss: -1141.5145\n",
      "Epoch 78/100\n",
      "11/11 [==============================] - 0s 6ms/step - loss: -1689.3093 - val_loss: -1200.5983\n",
      "Epoch 79/100\n",
      "11/11 [==============================] - 0s 7ms/step - loss: -1768.4078 - val_loss: -1256.9601\n",
      "Epoch 80/100\n",
      "11/11 [==============================] - 0s 7ms/step - loss: -1848.6809 - val_loss: -1310.6597\n",
      "Epoch 81/100\n",
      "11/11 [==============================] - 0s 6ms/step - loss: -1937.5166 - val_loss: -1380.8213\n",
      "Epoch 82/100\n",
      "11/11 [==============================] - 0s 5ms/step - loss: -2035.6844 - val_loss: -1455.9443\n",
      "Epoch 83/100\n",
      "11/11 [==============================] - 0s 5ms/step - loss: -2135.1401 - val_loss: -1503.1053\n",
      "Epoch 84/100\n",
      "11/11 [==============================] - 0s 5ms/step - loss: -2229.1001 - val_loss: -1598.7231\n",
      "Epoch 85/100\n",
      "11/11 [==============================] - 0s 6ms/step - loss: -2339.9270 - val_loss: -1663.9844\n",
      "Epoch 86/100\n",
      "11/11 [==============================] - 0s 5ms/step - loss: -2447.2498 - val_loss: -1749.5339\n",
      "Epoch 87/100\n",
      "11/11 [==============================] - 0s 7ms/step - loss: -2545.4419 - val_loss: -1819.2302\n",
      "Epoch 88/100\n",
      "11/11 [==============================] - 0s 5ms/step - loss: -2661.6296 - val_loss: -1900.4404\n",
      "Epoch 89/100\n",
      "11/11 [==============================] - 0s 5ms/step - loss: -2782.9180 - val_loss: -1979.6967\n",
      "Epoch 90/100\n",
      "11/11 [==============================] - 0s 5ms/step - loss: -2905.8591 - val_loss: -2069.1677\n",
      "Epoch 91/100\n",
      "11/11 [==============================] - 0s 6ms/step - loss: -3034.9053 - val_loss: -2171.4365\n",
      "Epoch 92/100\n",
      "11/11 [==============================] - 0s 6ms/step - loss: -3169.2163 - val_loss: -2268.3494\n",
      "Epoch 93/100\n",
      "11/11 [==============================] - 0s 11ms/step - loss: -3309.5483 - val_loss: -2363.5962\n",
      "Epoch 94/100\n",
      "11/11 [==============================] - 0s 6ms/step - loss: -3450.2017 - val_loss: -2459.3606\n",
      "Epoch 95/100\n",
      "11/11 [==============================] - 0s 5ms/step - loss: -3580.8870 - val_loss: -2557.0835\n",
      "Epoch 96/100\n",
      "11/11 [==============================] - 0s 5ms/step - loss: -3727.8743 - val_loss: -2667.2319\n",
      "Epoch 97/100\n",
      "11/11 [==============================] - 0s 5ms/step - loss: -3887.7991 - val_loss: -2764.0503\n",
      "Epoch 98/100\n",
      "11/11 [==============================] - 0s 5ms/step - loss: -4044.0662 - val_loss: -2884.3120\n",
      "Epoch 99/100\n",
      "11/11 [==============================] - 0s 6ms/step - loss: -4199.7900 - val_loss: -2989.4771\n",
      "Epoch 100/100\n",
      "11/11 [==============================] - 0s 7ms/step - loss: -4374.9458 - val_loss: -3119.3298\n"
     ]
    },
    {
     "data": {
      "text/plain": [
       "<keras.callbacks.History at 0x1bdd6fdab80>"
      ]
     },
     "execution_count": 38,
     "metadata": {},
     "output_type": "execute_result"
    }
   ],
   "source": [
    "# Definir y entrenar el modelo\n",
    "input_layer = layers.Input(shape=(410,))\n",
    "# Capas red encoder\n",
    "encoded = layers.Dense(100, activation=\"relu\")(input_layer)\n",
    "encoded = layers.Dropout(0.5)(encoded)\n",
    "encoded = layers.Dense(100, activation=\"relu\", kernel_regularizer=\"l2\")(encoded)\n",
    "encoded = layers.Dropout(0.5)(encoded)\n",
    "encoded = layers.Dense(100, activation=\"relu\", kernel_regularizer=\"l2\")(encoded)\n",
    "encoded = layers.Dropout(0.5)(encoded)\n",
    "encoded = layers.Dense(100, activation=\"relu\", kernel_regularizer=\"l2\")(encoded)\n",
    "encoded = layers.Dropout(0.5)(encoded)\n",
    "encoded = layers.Dense(1, activation=\"sigmoid\")(encoded)\n",
    "# Capas red decoder\n",
    "# IDEA: red simétrica\n",
    "decoded = layers.Dense(50, activation=\"relu\")(encoded)\n",
    "decoded = layers.Dense(100, activation=\"relu\")(decoded)\n",
    "decoded = layers.Dense(200, activation=\"relu\")(decoded)\n",
    "decoded = layers.Dense(410, activation=\"sigmoid\")(decoded)\n",
    "\n",
    "# Encoder\n",
    "encoder = models.Model(input_layer, encoded)\n",
    "\n",
    "# Autoencoder (lo que nos sirve para generar las etiquetas)\n",
    "autoencoder = models.Model(input_layer, decoded)\n",
    "\n",
    "# Compilar y entrenar el autoencoder\n",
    "best_batch_size= 5\n",
    "best_val_split = 0.25\n",
    "\n",
    "autoencoder.compile(optimizer=\"rmsprop\", loss=\"binary_crossentropy\")\n",
    "autoencoder.fit(X_train, X_train, epochs=100, batch_size=best_batch_size, validation_split=best_val_split)"
   ]
  },
  {
   "cell_type": "code",
   "execution_count": 39,
   "metadata": {},
   "outputs": [
    {
     "name": "stdout",
     "output_type": "stream",
     "text": [
      "De los 7380 elementos que tiene la matriz de datos de test, hay 6151 que no se han estimado de manera exacta (83.35%).\n",
      "De los 27880 elementos que tiene la matriz de datos de train, hay 23589 que no se han estimado de manera exacta (84.61%).\n"
     ]
    }
   ],
   "source": [
    "# Precisión en partición de test\n",
    "X_test_pred = autoencoder.predict(X_test)\n",
    "\n",
    "X_test_matrix = np.array(X_test)\n",
    "diff = X_test_matrix - X_test_pred\n",
    "dims = diff.shape\n",
    "total_elem = dims[0]*dims[1]\n",
    "elem_no_estim = (np.abs(diff) > 0.1).sum()\n",
    "print(\"De los {} elementos que tiene la matriz de datos de test, hay {} que no se han estimado de manera exacta ({:0.2f}%).\"\\\n",
    "      .format(total_elem, elem_no_estim, elem_no_estim*100/total_elem))\n",
    "# Hemos dado un margen de error en la precisión del [-0.1, 0.1]. \n",
    "# Igual es incluso demasiado elevado (10% en los datos de correlaciones)? SBM!!\n",
    "# Métricas: mape, mse\n",
    "\n",
    "\n",
    "# Precisión en partición de train\n",
    "X_train_pred = autoencoder.predict(X_train)\n",
    "X_train_matrix = np.array(X_train)\n",
    "diff = X_train_matrix - X_train_pred\n",
    "dims = diff.shape\n",
    "total_elem = dims[0]*dims[1]\n",
    "elem_no_estim = (np.abs(diff) > 0.1).sum()\n",
    "print(\"De los {} elementos que tiene la matriz de datos de train, hay {} que no se han estimado de manera exacta ({:0.2f}%).\"\\\n",
    "      .format(total_elem, elem_no_estim, elem_no_estim*100/total_elem))"
   ]
  },
  {
   "cell_type": "markdown",
   "metadata": {},
   "source": [
    "### Variational Autoencoder\n",
    "\n",
    "El objetivo es que la red encoder aprenda la distribución generadora de los datos.\n",
    "Esto permitirá generar nuevas muestras.\n",
    "\n",
    "In VAE, we optimize two loss functions: reconstruction loss and KL-divergence loss. We will learn about them in detail in the next section. For now, remember that the reconstruction loss ensures that the images generated by the decoder are similar to the input or the ones in the dataset. While the KL-divergence measures the divergence between a pair of probability distributions, in this case, the pair of distributions being the latent vector Z (sampled from $Z_{\\mu}$ and $Z_{\\sigma}$) and unit normal distribution $\\mathcal{N}(0, 1)$. KL-divergence ensures that the latent-variables are close to the standard normal distribution.\n",
    "\n",
    "Partimos de la misma red encoder, sólo que esta vez la última capa se descompone ahora en dos capas (Dense), generando concretamente los vectores mean y log_variance (latent-variables, las cuales se espera que sigan una distribución normal).\n",
    "\n",
    "Referencia: https://learnopencv.com/variational-autoencoder-in-tensorflow/#network-fmnist"
   ]
  },
  {
   "cell_type": "markdown",
   "metadata": {},
   "source": [
    "$\\color{red}{\\text{REVISAR ENTERO}}$"
   ]
  },
  {
   "cell_type": "code",
   "execution_count": 47,
   "metadata": {},
   "outputs": [],
   "source": [
    "# Definir y entrenar el modelo\n",
    "input_layer = layers.Input(shape=(410,))\n",
    "# Capas red encoder\n",
    "encoded = layers.Dense(100, activation=\"relu\")(input_layer)\n",
    "encoded = layers.Dropout(0.5)(encoded)\n",
    "encoded = layers.Dense(100, activation=\"relu\", kernel_regularizer=\"l2\")(encoded)\n",
    "encoded = layers.Dropout(0.5)(encoded)\n",
    "encoded = layers.Dense(100, activation=\"relu\", kernel_regularizer=\"l2\")(encoded)\n",
    "encoded = layers.Dropout(0.5)(encoded)\n",
    "encoded = layers.Dense(100, activation=\"relu\", kernel_regularizer=\"l2\")(encoded)\n",
    "encoded = layers.Dropout(0.5)(encoded)\n",
    "mean = layers.Dense(2, name=\"mean\")(encoded)\n",
    "log_var = layers.Dense(2, name=\"log_var\")(encoded)\n",
    "\n",
    "# Red de sampleo\n",
    "def sampling_reparameterization(distribution_params):\n",
    "    mean, log_var = distribution_params\n",
    "    epsilon = backend.random_normal(shape=backend.shape(mean), mean=0., stddev=1.)\n",
    "    z = mean + backend.exp(log_var / 2) * epsilon\n",
    "    return z\n",
    "sample = layers.Lambda(sampling_reparameterization)([mean, log_var])\n",
    "# A Lambda layer comes in handy when you want to pass a tensor to a custom function that isn’t already included in tensorflow\n",
    "\n",
    "# Capas red decoder\n",
    "decoded = layers.Dense(410, activation=\"sigmoid\")(sample)\n",
    "\n",
    "\n",
    "# Encoder\n",
    "encoder = models.Model(input_layer, (mean, log_var), name=\"Encoder\")\n",
    "# Sampler \n",
    "sampler = models.Model([mean,log_var], sample,  name=\"Encoder_2\")\n",
    "# Autoencoder\n",
    "autoencoder = models.Model(input_layer, decoded)"
   ]
  },
  {
   "cell_type": "code",
   "execution_count": 49,
   "metadata": {},
   "outputs": [
    {
     "name": "stdout",
     "output_type": "stream",
     "text": [
      "De los 7380 elementos que tiene la matriz de datos de test, hay 6308 que no se han estimado de manera exacta (85.47%).\n"
     ]
    }
   ],
   "source": [
    "X_test_pred = autoencoder.predict(X_test)\n",
    "\n",
    "X_test_matrix = np.array(X_test)\n",
    "diff = X_test_matrix - X_test_pred\n",
    "dims = diff.shape\n",
    "total_elem = dims[0]*dims[1]\n",
    "elem_no_estim = (diff < -0.1).sum() + (diff > 0.1).sum()\n",
    "print(\"De los {} elementos que tiene la matriz de datos de test, hay {} que no se han estimado de manera exacta ({:0.2f}%).\"\\\n",
    "      .format(total_elem, elem_no_estim, elem_no_estim*100/total_elem))"
   ]
  },
  {
   "cell_type": "markdown",
   "metadata": {},
   "source": [
    "# Create submissions"
   ]
  },
  {
   "cell_type": "code",
   "execution_count": 37,
   "metadata": {},
   "outputs": [
    {
     "name": "stdout",
     "output_type": "stream",
     "text": [
      "(119748, 2)\n"
     ]
    }
   ],
   "source": [
    "import pathlib\n",
    "from datetime import datetime\n",
    "\n",
    "def create_submission(pred, method, test_id=testFNC[\"Id\"]):\n",
    "    submissionDF = pd.DataFrame(list(zip(test_id, pred)), columns=[\"Id\", \"Probability\"])\n",
    "    print(submissionDF.shape) # Comprobación del tamaño, debe ser: (119748, 2)\n",
    "    current_time = datetime.now().strftime(\"%d-%m-%Y_%Hh%Mmin\")\n",
    "    current_path = pathlib.Path().resolve()\n",
    "    submissionDF.to_csv(f\"{current_path}\\submissions\\MLSP_submission_{method}_{current_time}.csv\", header=True, index=False)"
   ]
  }
 ],
 "metadata": {
  "kernelspec": {
   "display_name": "Python 3 (ipykernel)",
   "language": "python",
   "name": "python3"
  },
  "language_info": {
   "codemirror_mode": {
    "name": "ipython",
    "version": 3
   },
   "file_extension": ".py",
   "mimetype": "text/x-python",
   "name": "python",
   "nbconvert_exporter": "python",
   "pygments_lexer": "ipython3",
   "version": "3.9.12"
  }
 },
 "nbformat": 4,
 "nbformat_minor": 2
}

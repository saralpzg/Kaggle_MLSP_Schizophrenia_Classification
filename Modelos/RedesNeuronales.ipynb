{
 "cells": [
  {
   "cell_type": "markdown",
   "id": "d99f259b",
   "metadata": {},
   "source": [
    "# Optimización de un modelo de red neuronal (fully-connected)\n",
    "\n",
    "Este notebook recoge los resultados de la búsqueda del mejor modelo de clasificación mediante una red neuronal densa o fully-connected, ya que el uso de redes convolucionales no parece adecuado para un problema de datos tabulares.\n",
    "\n",
    "Para buscar el mejor modelo posible, se tratará de buscar los mejores hiperparámetros para el número de capas ocultas de la red, su anchura (número de neuronas), posible introducción de términos de regularización, optimizadores, ...\n",
    "\n",
    "### Preparación de los datos"
   ]
  },
  {
   "cell_type": "code",
   "execution_count": 1,
   "id": "40286d24",
   "metadata": {},
   "outputs": [],
   "source": [
    "import pandas as pd\n",
    "import numpy as np\n",
    "# Data partition\n",
    "from sklearn.model_selection import train_test_split\n",
    "# Parameter tunning libraries\n",
    "import optuna\n",
    "from sklearn.model_selection import GridSearchCV\n",
    "# Accuracy function\n",
    "from sklearn.metrics import accuracy_score"
   ]
  },
  {
   "cell_type": "code",
   "execution_count": 2,
   "id": "5f89a863",
   "metadata": {},
   "outputs": [
    {
     "data": {
      "text/html": [
       "<div>\n",
       "<style scoped>\n",
       "    .dataframe tbody tr th:only-of-type {\n",
       "        vertical-align: middle;\n",
       "    }\n",
       "\n",
       "    .dataframe tbody tr th {\n",
       "        vertical-align: top;\n",
       "    }\n",
       "\n",
       "    .dataframe thead th {\n",
       "        text-align: right;\n",
       "    }\n",
       "</style>\n",
       "<table border=\"1\" class=\"dataframe\">\n",
       "  <thead>\n",
       "    <tr style=\"text-align: right;\">\n",
       "      <th></th>\n",
       "      <th>Class</th>\n",
       "      <th>FNC1</th>\n",
       "      <th>FNC2</th>\n",
       "      <th>FNC3</th>\n",
       "      <th>FNC4</th>\n",
       "      <th>FNC5</th>\n",
       "      <th>FNC6</th>\n",
       "      <th>FNC7</th>\n",
       "      <th>FNC8</th>\n",
       "      <th>FNC9</th>\n",
       "      <th>...</th>\n",
       "      <th>SBM_map55</th>\n",
       "      <th>SBM_map61</th>\n",
       "      <th>SBM_map64</th>\n",
       "      <th>SBM_map67</th>\n",
       "      <th>SBM_map69</th>\n",
       "      <th>SBM_map71</th>\n",
       "      <th>SBM_map72</th>\n",
       "      <th>SBM_map73</th>\n",
       "      <th>SBM_map74</th>\n",
       "      <th>SBM_map75</th>\n",
       "    </tr>\n",
       "  </thead>\n",
       "  <tbody>\n",
       "    <tr>\n",
       "      <th>2</th>\n",
       "      <td>0</td>\n",
       "      <td>0.245850</td>\n",
       "      <td>0.216620</td>\n",
       "      <td>-0.124680</td>\n",
       "      <td>-0.353800</td>\n",
       "      <td>0.161500</td>\n",
       "      <td>-0.002032</td>\n",
       "      <td>-0.133020</td>\n",
       "      <td>-0.035222</td>\n",
       "      <td>0.259040</td>\n",
       "      <td>...</td>\n",
       "      <td>-0.257114</td>\n",
       "      <td>0.597229</td>\n",
       "      <td>1.220756</td>\n",
       "      <td>-0.059213</td>\n",
       "      <td>-0.435494</td>\n",
       "      <td>-0.092971</td>\n",
       "      <td>1.090910</td>\n",
       "      <td>-0.448562</td>\n",
       "      <td>-0.508497</td>\n",
       "      <td>0.350434</td>\n",
       "    </tr>\n",
       "    <tr>\n",
       "      <th>13</th>\n",
       "      <td>1</td>\n",
       "      <td>0.410730</td>\n",
       "      <td>-0.031925</td>\n",
       "      <td>0.210700</td>\n",
       "      <td>0.242260</td>\n",
       "      <td>0.320100</td>\n",
       "      <td>-0.419290</td>\n",
       "      <td>-0.187140</td>\n",
       "      <td>0.168450</td>\n",
       "      <td>0.599790</td>\n",
       "      <td>...</td>\n",
       "      <td>-0.050862</td>\n",
       "      <td>0.870602</td>\n",
       "      <td>0.609465</td>\n",
       "      <td>1.181878</td>\n",
       "      <td>-2.279469</td>\n",
       "      <td>-0.013484</td>\n",
       "      <td>-0.012693</td>\n",
       "      <td>-1.244346</td>\n",
       "      <td>-1.080442</td>\n",
       "      <td>-0.788502</td>\n",
       "    </tr>\n",
       "    <tr>\n",
       "      <th>53</th>\n",
       "      <td>1</td>\n",
       "      <td>0.070919</td>\n",
       "      <td>0.034179</td>\n",
       "      <td>-0.011755</td>\n",
       "      <td>0.019158</td>\n",
       "      <td>0.024645</td>\n",
       "      <td>-0.032022</td>\n",
       "      <td>0.004620</td>\n",
       "      <td>0.318170</td>\n",
       "      <td>0.212550</td>\n",
       "      <td>...</td>\n",
       "      <td>-1.539922</td>\n",
       "      <td>-1.495822</td>\n",
       "      <td>1.643866</td>\n",
       "      <td>1.687780</td>\n",
       "      <td>1.521086</td>\n",
       "      <td>-1.988432</td>\n",
       "      <td>-0.267471</td>\n",
       "      <td>0.510576</td>\n",
       "      <td>1.104566</td>\n",
       "      <td>-1.067206</td>\n",
       "    </tr>\n",
       "    <tr>\n",
       "      <th>41</th>\n",
       "      <td>0</td>\n",
       "      <td>0.087377</td>\n",
       "      <td>-0.052462</td>\n",
       "      <td>-0.007835</td>\n",
       "      <td>-0.112830</td>\n",
       "      <td>0.389380</td>\n",
       "      <td>0.216080</td>\n",
       "      <td>0.063572</td>\n",
       "      <td>-0.251230</td>\n",
       "      <td>-0.080568</td>\n",
       "      <td>...</td>\n",
       "      <td>-0.077353</td>\n",
       "      <td>-0.459463</td>\n",
       "      <td>-0.204328</td>\n",
       "      <td>-0.619508</td>\n",
       "      <td>-1.410523</td>\n",
       "      <td>-0.304622</td>\n",
       "      <td>-1.521928</td>\n",
       "      <td>0.593691</td>\n",
       "      <td>0.073638</td>\n",
       "      <td>-0.260920</td>\n",
       "    </tr>\n",
       "    <tr>\n",
       "      <th>74</th>\n",
       "      <td>0</td>\n",
       "      <td>0.202750</td>\n",
       "      <td>0.191420</td>\n",
       "      <td>-0.056662</td>\n",
       "      <td>-0.157780</td>\n",
       "      <td>0.244040</td>\n",
       "      <td>0.039780</td>\n",
       "      <td>-0.001503</td>\n",
       "      <td>0.001056</td>\n",
       "      <td>-0.048222</td>\n",
       "      <td>...</td>\n",
       "      <td>0.044457</td>\n",
       "      <td>0.593326</td>\n",
       "      <td>1.063052</td>\n",
       "      <td>0.434726</td>\n",
       "      <td>1.604964</td>\n",
       "      <td>-0.359736</td>\n",
       "      <td>0.210107</td>\n",
       "      <td>0.355922</td>\n",
       "      <td>0.730287</td>\n",
       "      <td>-0.323557</td>\n",
       "    </tr>\n",
       "  </tbody>\n",
       "</table>\n",
       "<p>5 rows × 411 columns</p>\n",
       "</div>"
      ],
      "text/plain": [
       "    Class      FNC1      FNC2      FNC3      FNC4      FNC5      FNC6  \\\n",
       "2       0  0.245850  0.216620 -0.124680 -0.353800  0.161500 -0.002032   \n",
       "13      1  0.410730 -0.031925  0.210700  0.242260  0.320100 -0.419290   \n",
       "53      1  0.070919  0.034179 -0.011755  0.019158  0.024645 -0.032022   \n",
       "41      0  0.087377 -0.052462 -0.007835 -0.112830  0.389380  0.216080   \n",
       "74      0  0.202750  0.191420 -0.056662 -0.157780  0.244040  0.039780   \n",
       "\n",
       "        FNC7      FNC8      FNC9  ...  SBM_map55  SBM_map61  SBM_map64  \\\n",
       "2  -0.133020 -0.035222  0.259040  ...  -0.257114   0.597229   1.220756   \n",
       "13 -0.187140  0.168450  0.599790  ...  -0.050862   0.870602   0.609465   \n",
       "53  0.004620  0.318170  0.212550  ...  -1.539922  -1.495822   1.643866   \n",
       "41  0.063572 -0.251230 -0.080568  ...  -0.077353  -0.459463  -0.204328   \n",
       "74 -0.001503  0.001056 -0.048222  ...   0.044457   0.593326   1.063052   \n",
       "\n",
       "    SBM_map67  SBM_map69  SBM_map71  SBM_map72  SBM_map73  SBM_map74  \\\n",
       "2   -0.059213  -0.435494  -0.092971   1.090910  -0.448562  -0.508497   \n",
       "13   1.181878  -2.279469  -0.013484  -0.012693  -1.244346  -1.080442   \n",
       "53   1.687780   1.521086  -1.988432  -0.267471   0.510576   1.104566   \n",
       "41  -0.619508  -1.410523  -0.304622  -1.521928   0.593691   0.073638   \n",
       "74   0.434726   1.604964  -0.359736   0.210107   0.355922   0.730287   \n",
       "\n",
       "    SBM_map75  \n",
       "2    0.350434  \n",
       "13  -0.788502  \n",
       "53  -1.067206  \n",
       "41  -0.260920  \n",
       "74  -0.323557  \n",
       "\n",
       "[5 rows x 411 columns]"
      ]
     },
     "execution_count": 2,
     "metadata": {},
     "output_type": "execute_result"
    }
   ],
   "source": [
    "# Datos de entrenamiento\n",
    "trainFNC = pd.read_csv(\"../data/train_FNC.csv\")\n",
    "trainSBM = pd.read_csv(\"../data/train_SBM.csv\")\n",
    "train_labels = pd.read_csv(\"../data/train_labels.csv\")\n",
    "\n",
    "# DataFrame con ambas fuentes de datos\n",
    "train = pd.merge(left=trainFNC, right=trainSBM, left_on='Id', right_on='Id')\n",
    "data = pd.merge(left=train_labels, right=train, left_on='Id', right_on='Id')\n",
    "data.drop(\"Id\", inplace=True, axis=1)\n",
    "\n",
    "# Shuffle de los datos de train\n",
    "data = data.sample(frac=1, random_state=0)\n",
    "data.head(5)"
   ]
  },
  {
   "cell_type": "markdown",
   "id": "0dea4b44",
   "metadata": {},
   "source": [
    "Vamos a usar la siguiente partición de los datos:\n",
    "\n",
    "* 60% train $\\sim$ 50 datos\n",
    "* 20% validation $\\sim$ 18 datos (se define al aplicar cross-validación en el ajuste)\n",
    "* 20% test $\\sim$ 18 datos"
   ]
  },
  {
   "cell_type": "code",
   "execution_count": 3,
   "id": "3014e1ce",
   "metadata": {},
   "outputs": [
    {
     "name": "stdout",
     "output_type": "stream",
     "text": [
      "Tamaño del dataset de train: (68, 410)\n",
      "Tamaño del dataset de test: (18, 410)\n"
     ]
    }
   ],
   "source": [
    "X = data.iloc[:, 1:]\n",
    "y = data.iloc[:, 0]\n",
    "\n",
    "X_train, X_test, y_train, y_test = train_test_split(X, y, test_size=0.2, random_state=0)\n",
    "\n",
    "print(\"Tamaño del dataset de train:\", X_train.shape)\n",
    "print(\"Tamaño del dataset de test:\", X_test.shape)"
   ]
  },
  {
   "cell_type": "code",
   "execution_count": 4,
   "id": "6e85fa9d",
   "metadata": {},
   "outputs": [
    {
     "data": {
      "text/html": [
       "<div>\n",
       "<style scoped>\n",
       "    .dataframe tbody tr th:only-of-type {\n",
       "        vertical-align: middle;\n",
       "    }\n",
       "\n",
       "    .dataframe tbody tr th {\n",
       "        vertical-align: top;\n",
       "    }\n",
       "\n",
       "    .dataframe thead th {\n",
       "        text-align: right;\n",
       "    }\n",
       "</style>\n",
       "<table border=\"1\" class=\"dataframe\">\n",
       "  <thead>\n",
       "    <tr style=\"text-align: right;\">\n",
       "      <th></th>\n",
       "      <th>FNC1</th>\n",
       "      <th>FNC2</th>\n",
       "      <th>FNC3</th>\n",
       "      <th>FNC4</th>\n",
       "      <th>FNC5</th>\n",
       "      <th>FNC6</th>\n",
       "      <th>FNC7</th>\n",
       "      <th>FNC8</th>\n",
       "      <th>FNC9</th>\n",
       "      <th>FNC10</th>\n",
       "      <th>...</th>\n",
       "      <th>SBM_map55</th>\n",
       "      <th>SBM_map61</th>\n",
       "      <th>SBM_map64</th>\n",
       "      <th>SBM_map67</th>\n",
       "      <th>SBM_map69</th>\n",
       "      <th>SBM_map71</th>\n",
       "      <th>SBM_map72</th>\n",
       "      <th>SBM_map73</th>\n",
       "      <th>SBM_map74</th>\n",
       "      <th>SBM_map75</th>\n",
       "    </tr>\n",
       "  </thead>\n",
       "  <tbody>\n",
       "    <tr>\n",
       "      <th>0</th>\n",
       "      <td>0.476127</td>\n",
       "      <td>0.064466</td>\n",
       "      <td>0.053238</td>\n",
       "      <td>-0.608133</td>\n",
       "      <td>0.073988</td>\n",
       "      <td>-0.637038</td>\n",
       "      <td>0.113556</td>\n",
       "      <td>-0.192434</td>\n",
       "      <td>-0.004025</td>\n",
       "      <td>-0.060474</td>\n",
       "      <td>...</td>\n",
       "      <td>-0.451994</td>\n",
       "      <td>1.123770</td>\n",
       "      <td>2.083006</td>\n",
       "      <td>1.145440</td>\n",
       "      <td>-0.067608</td>\n",
       "      <td>1.202529</td>\n",
       "      <td>0.851587</td>\n",
       "      <td>0.451583</td>\n",
       "      <td>-0.159739</td>\n",
       "      <td>0.192076</td>\n",
       "    </tr>\n",
       "    <tr>\n",
       "      <th>1</th>\n",
       "      <td>0.013833</td>\n",
       "      <td>0.267183</td>\n",
       "      <td>0.232178</td>\n",
       "      <td>-0.167151</td>\n",
       "      <td>-0.261327</td>\n",
       "      <td>0.191869</td>\n",
       "      <td>0.406493</td>\n",
       "      <td>0.088761</td>\n",
       "      <td>0.177048</td>\n",
       "      <td>0.036718</td>\n",
       "      <td>...</td>\n",
       "      <td>0.696987</td>\n",
       "      <td>1.397832</td>\n",
       "      <td>1.046136</td>\n",
       "      <td>-0.191733</td>\n",
       "      <td>-2.192023</td>\n",
       "      <td>-0.369276</td>\n",
       "      <td>0.822225</td>\n",
       "      <td>-0.109342</td>\n",
       "      <td>-0.580476</td>\n",
       "      <td>0.174160</td>\n",
       "    </tr>\n",
       "    <tr>\n",
       "      <th>2</th>\n",
       "      <td>-0.435452</td>\n",
       "      <td>0.046780</td>\n",
       "      <td>0.243742</td>\n",
       "      <td>0.397030</td>\n",
       "      <td>-0.147821</td>\n",
       "      <td>0.173620</td>\n",
       "      <td>-0.461963</td>\n",
       "      <td>-0.610736</td>\n",
       "      <td>0.419753</td>\n",
       "      <td>0.400985</td>\n",
       "      <td>...</td>\n",
       "      <td>0.160145</td>\n",
       "      <td>1.906989</td>\n",
       "      <td>-2.661633</td>\n",
       "      <td>-0.193911</td>\n",
       "      <td>0.440873</td>\n",
       "      <td>0.641739</td>\n",
       "      <td>0.918397</td>\n",
       "      <td>-0.758046</td>\n",
       "      <td>0.154701</td>\n",
       "      <td>-0.476647</td>\n",
       "    </tr>\n",
       "    <tr>\n",
       "      <th>3</th>\n",
       "      <td>-0.204510</td>\n",
       "      <td>-0.036735</td>\n",
       "      <td>-0.760705</td>\n",
       "      <td>-0.740495</td>\n",
       "      <td>0.064668</td>\n",
       "      <td>0.349926</td>\n",
       "      <td>-0.273826</td>\n",
       "      <td>-0.174384</td>\n",
       "      <td>-0.120248</td>\n",
       "      <td>0.175618</td>\n",
       "      <td>...</td>\n",
       "      <td>0.974828</td>\n",
       "      <td>-1.997087</td>\n",
       "      <td>-2.083782</td>\n",
       "      <td>1.154107</td>\n",
       "      <td>-0.643947</td>\n",
       "      <td>2.332424</td>\n",
       "      <td>0.659124</td>\n",
       "      <td>-0.809445</td>\n",
       "      <td>0.558960</td>\n",
       "      <td>2.790871</td>\n",
       "    </tr>\n",
       "    <tr>\n",
       "      <th>4</th>\n",
       "      <td>0.599435</td>\n",
       "      <td>-0.166441</td>\n",
       "      <td>0.122431</td>\n",
       "      <td>0.011539</td>\n",
       "      <td>0.346906</td>\n",
       "      <td>-0.017430</td>\n",
       "      <td>-0.274734</td>\n",
       "      <td>0.211510</td>\n",
       "      <td>0.151012</td>\n",
       "      <td>-0.033434</td>\n",
       "      <td>...</td>\n",
       "      <td>-0.789153</td>\n",
       "      <td>1.578984</td>\n",
       "      <td>1.402592</td>\n",
       "      <td>-1.230440</td>\n",
       "      <td>0.296686</td>\n",
       "      <td>2.806314</td>\n",
       "      <td>0.427184</td>\n",
       "      <td>-0.240682</td>\n",
       "      <td>-0.196948</td>\n",
       "      <td>-1.544345</td>\n",
       "    </tr>\n",
       "  </tbody>\n",
       "</table>\n",
       "<p>5 rows × 410 columns</p>\n",
       "</div>"
      ],
      "text/plain": [
       "       FNC1      FNC2      FNC3      FNC4      FNC5      FNC6      FNC7  \\\n",
       "0  0.476127  0.064466  0.053238 -0.608133  0.073988 -0.637038  0.113556   \n",
       "1  0.013833  0.267183  0.232178 -0.167151 -0.261327  0.191869  0.406493   \n",
       "2 -0.435452  0.046780  0.243742  0.397030 -0.147821  0.173620 -0.461963   \n",
       "3 -0.204510 -0.036735 -0.760705 -0.740495  0.064668  0.349926 -0.273826   \n",
       "4  0.599435 -0.166441  0.122431  0.011539  0.346906 -0.017430 -0.274734   \n",
       "\n",
       "       FNC8      FNC9     FNC10  ...  SBM_map55  SBM_map61  SBM_map64  \\\n",
       "0 -0.192434 -0.004025 -0.060474  ...  -0.451994   1.123770   2.083006   \n",
       "1  0.088761  0.177048  0.036718  ...   0.696987   1.397832   1.046136   \n",
       "2 -0.610736  0.419753  0.400985  ...   0.160145   1.906989  -2.661633   \n",
       "3 -0.174384 -0.120248  0.175618  ...   0.974828  -1.997087  -2.083782   \n",
       "4  0.211510  0.151012 -0.033434  ...  -0.789153   1.578984   1.402592   \n",
       "\n",
       "   SBM_map67  SBM_map69  SBM_map71  SBM_map72  SBM_map73  SBM_map74  SBM_map75  \n",
       "0   1.145440  -0.067608   1.202529   0.851587   0.451583  -0.159739   0.192076  \n",
       "1  -0.191733  -2.192023  -0.369276   0.822225  -0.109342  -0.580476   0.174160  \n",
       "2  -0.193911   0.440873   0.641739   0.918397  -0.758046   0.154701  -0.476647  \n",
       "3   1.154107  -0.643947   2.332424   0.659124  -0.809445   0.558960   2.790871  \n",
       "4  -1.230440   0.296686   2.806314   0.427184  -0.240682  -0.196948  -1.544345  \n",
       "\n",
       "[5 rows x 410 columns]"
      ]
     },
     "execution_count": 4,
     "metadata": {},
     "output_type": "execute_result"
    }
   ],
   "source": [
    "# Datos de test\n",
    "testFNC = pd.read_csv(\"../data/test_FNC.csv\")\n",
    "testSBM = pd.read_csv(\"../data/test_SBM.csv\")\n",
    "\n",
    "# DataFrame con ambas fuentes de datos\n",
    "test = pd.merge(left=testFNC, right=testSBM, left_on='Id', right_on='Id')\n",
    "test.drop(\"Id\", inplace=True, axis=1)\n",
    "test.head(5)"
   ]
  },
  {
   "cell_type": "markdown",
   "id": "c61745a4",
   "metadata": {},
   "source": [
    "### Modelo"
   ]
  },
  {
   "cell_type": "markdown",
   "id": "cdbb208b",
   "metadata": {},
   "source": [
    "Para redes neuronales, compararemos los resultados obtenidos construyendo redes a partir de librerías distintas.\n",
    "\n",
    "**Comenzamos con ``MLPClassifier`` de ``sklearn`` y búsqueda de hiperparámetros con ``GridSearchCV``:**\n",
    "\n",
    "Documentación: https://scikit-learn.org/stable/modules/generated/sklearn.neural_network.MLPClassifier.html"
   ]
  },
  {
   "cell_type": "code",
   "execution_count": 5,
   "id": "675c7a8a",
   "metadata": {},
   "outputs": [],
   "source": [
    "from sklearn.neural_network import MLPClassifier"
   ]
  },
  {
   "cell_type": "code",
   "execution_count": 6,
   "id": "f59a970e",
   "metadata": {},
   "outputs": [],
   "source": [
    "def train_model(model, param_grid):\n",
    "    '''Función para realizar el entrenamiento y la búsqueda de hiperparámetros'''\n",
    "    grid_search = GridSearchCV(estimator=model, param_grid=param_grid, cv=4)\n",
    "    # cv = 4 porque así: el conjunto de validation tiene un 0.25 del tamaño de train y: 0.25 * 0.8 = 0.2 ~ 20% datos\n",
    "    #                    el conjunto de train tiene un 0.75 del tamaño de train y: 0.75 * 0.8 = 0.6 ~60% datos\n",
    "    grid_search.fit(X_train, y_train)\n",
    "    \n",
    "    print(\"Parámetros óptimos:\", grid_search.best_params_)\n",
    "    print(\"Modelo óptimo:\", grid_search.best_estimator_)\n",
    "    \n",
    "    return grid_search.best_estimator_"
   ]
  },
  {
   "cell_type": "markdown",
   "id": "445b4b39",
   "metadata": {},
   "source": [
    "El método debe recibir arquitecturas de red pre-definidas, por lo que probaremos topologías variadas en cuanto a profundidad, ancho y número de capas."
   ]
  },
  {
   "cell_type": "code",
   "execution_count": 7,
   "id": "d163caad",
   "metadata": {},
   "outputs": [
    {
     "name": "stderr",
     "output_type": "stream",
     "text": [
      "C:\\Users\\saral\\miniconda3\\envs\\TFM\\lib\\site-packages\\sklearn\\neural_network\\_multilayer_perceptron.py:692: ConvergenceWarning: Stochastic Optimizer: Maximum iterations (1000) reached and the optimization hasn't converged yet.\n",
      "  warnings.warn(\n",
      "C:\\Users\\saral\\miniconda3\\envs\\TFM\\lib\\site-packages\\sklearn\\neural_network\\_multilayer_perceptron.py:692: ConvergenceWarning: Stochastic Optimizer: Maximum iterations (1000) reached and the optimization hasn't converged yet.\n",
      "  warnings.warn(\n",
      "C:\\Users\\saral\\miniconda3\\envs\\TFM\\lib\\site-packages\\sklearn\\neural_network\\_multilayer_perceptron.py:692: ConvergenceWarning: Stochastic Optimizer: Maximum iterations (1000) reached and the optimization hasn't converged yet.\n",
      "  warnings.warn(\n",
      "C:\\Users\\saral\\miniconda3\\envs\\TFM\\lib\\site-packages\\sklearn\\neural_network\\_multilayer_perceptron.py:692: ConvergenceWarning: Stochastic Optimizer: Maximum iterations (1000) reached and the optimization hasn't converged yet.\n",
      "  warnings.warn(\n",
      "C:\\Users\\saral\\miniconda3\\envs\\TFM\\lib\\site-packages\\sklearn\\neural_network\\_multilayer_perceptron.py:692: ConvergenceWarning: Stochastic Optimizer: Maximum iterations (1000) reached and the optimization hasn't converged yet.\n",
      "  warnings.warn(\n",
      "C:\\Users\\saral\\miniconda3\\envs\\TFM\\lib\\site-packages\\sklearn\\neural_network\\_multilayer_perceptron.py:692: ConvergenceWarning: Stochastic Optimizer: Maximum iterations (1000) reached and the optimization hasn't converged yet.\n",
      "  warnings.warn(\n",
      "C:\\Users\\saral\\miniconda3\\envs\\TFM\\lib\\site-packages\\sklearn\\neural_network\\_multilayer_perceptron.py:692: ConvergenceWarning: Stochastic Optimizer: Maximum iterations (1000) reached and the optimization hasn't converged yet.\n",
      "  warnings.warn(\n",
      "C:\\Users\\saral\\miniconda3\\envs\\TFM\\lib\\site-packages\\sklearn\\neural_network\\_multilayer_perceptron.py:692: ConvergenceWarning: Stochastic Optimizer: Maximum iterations (1000) reached and the optimization hasn't converged yet.\n",
      "  warnings.warn(\n",
      "C:\\Users\\saral\\miniconda3\\envs\\TFM\\lib\\site-packages\\sklearn\\neural_network\\_multilayer_perceptron.py:692: ConvergenceWarning: Stochastic Optimizer: Maximum iterations (1000) reached and the optimization hasn't converged yet.\n",
      "  warnings.warn(\n",
      "C:\\Users\\saral\\miniconda3\\envs\\TFM\\lib\\site-packages\\sklearn\\neural_network\\_multilayer_perceptron.py:692: ConvergenceWarning: Stochastic Optimizer: Maximum iterations (1000) reached and the optimization hasn't converged yet.\n",
      "  warnings.warn(\n",
      "C:\\Users\\saral\\miniconda3\\envs\\TFM\\lib\\site-packages\\sklearn\\neural_network\\_multilayer_perceptron.py:692: ConvergenceWarning: Stochastic Optimizer: Maximum iterations (1000) reached and the optimization hasn't converged yet.\n",
      "  warnings.warn(\n",
      "C:\\Users\\saral\\miniconda3\\envs\\TFM\\lib\\site-packages\\sklearn\\neural_network\\_multilayer_perceptron.py:692: ConvergenceWarning: Stochastic Optimizer: Maximum iterations (1000) reached and the optimization hasn't converged yet.\n",
      "  warnings.warn(\n",
      "C:\\Users\\saral\\miniconda3\\envs\\TFM\\lib\\site-packages\\sklearn\\neural_network\\_multilayer_perceptron.py:692: ConvergenceWarning: Stochastic Optimizer: Maximum iterations (1000) reached and the optimization hasn't converged yet.\n",
      "  warnings.warn(\n",
      "C:\\Users\\saral\\miniconda3\\envs\\TFM\\lib\\site-packages\\sklearn\\neural_network\\_multilayer_perceptron.py:692: ConvergenceWarning: Stochastic Optimizer: Maximum iterations (1000) reached and the optimization hasn't converged yet.\n",
      "  warnings.warn(\n",
      "C:\\Users\\saral\\miniconda3\\envs\\TFM\\lib\\site-packages\\sklearn\\neural_network\\_multilayer_perceptron.py:692: ConvergenceWarning: Stochastic Optimizer: Maximum iterations (1000) reached and the optimization hasn't converged yet.\n",
      "  warnings.warn(\n",
      "C:\\Users\\saral\\miniconda3\\envs\\TFM\\lib\\site-packages\\sklearn\\neural_network\\_multilayer_perceptron.py:692: ConvergenceWarning: Stochastic Optimizer: Maximum iterations (1000) reached and the optimization hasn't converged yet.\n",
      "  warnings.warn(\n",
      "C:\\Users\\saral\\miniconda3\\envs\\TFM\\lib\\site-packages\\sklearn\\neural_network\\_multilayer_perceptron.py:692: ConvergenceWarning: Stochastic Optimizer: Maximum iterations (1000) reached and the optimization hasn't converged yet.\n",
      "  warnings.warn(\n",
      "C:\\Users\\saral\\miniconda3\\envs\\TFM\\lib\\site-packages\\sklearn\\neural_network\\_multilayer_perceptron.py:692: ConvergenceWarning: Stochastic Optimizer: Maximum iterations (1000) reached and the optimization hasn't converged yet.\n",
      "  warnings.warn(\n",
      "C:\\Users\\saral\\miniconda3\\envs\\TFM\\lib\\site-packages\\sklearn\\neural_network\\_multilayer_perceptron.py:692: ConvergenceWarning: Stochastic Optimizer: Maximum iterations (1000) reached and the optimization hasn't converged yet.\n",
      "  warnings.warn(\n",
      "C:\\Users\\saral\\miniconda3\\envs\\TFM\\lib\\site-packages\\sklearn\\neural_network\\_multilayer_perceptron.py:692: ConvergenceWarning: Stochastic Optimizer: Maximum iterations (1000) reached and the optimization hasn't converged yet.\n",
      "  warnings.warn(\n",
      "C:\\Users\\saral\\miniconda3\\envs\\TFM\\lib\\site-packages\\sklearn\\neural_network\\_multilayer_perceptron.py:692: ConvergenceWarning: Stochastic Optimizer: Maximum iterations (1000) reached and the optimization hasn't converged yet.\n",
      "  warnings.warn(\n",
      "C:\\Users\\saral\\miniconda3\\envs\\TFM\\lib\\site-packages\\sklearn\\neural_network\\_multilayer_perceptron.py:692: ConvergenceWarning: Stochastic Optimizer: Maximum iterations (1000) reached and the optimization hasn't converged yet.\n",
      "  warnings.warn(\n",
      "C:\\Users\\saral\\miniconda3\\envs\\TFM\\lib\\site-packages\\sklearn\\neural_network\\_multilayer_perceptron.py:692: ConvergenceWarning: Stochastic Optimizer: Maximum iterations (1000) reached and the optimization hasn't converged yet.\n",
      "  warnings.warn(\n",
      "C:\\Users\\saral\\miniconda3\\envs\\TFM\\lib\\site-packages\\sklearn\\neural_network\\_multilayer_perceptron.py:692: ConvergenceWarning: Stochastic Optimizer: Maximum iterations (1000) reached and the optimization hasn't converged yet.\n",
      "  warnings.warn(\n",
      "C:\\Users\\saral\\miniconda3\\envs\\TFM\\lib\\site-packages\\sklearn\\neural_network\\_multilayer_perceptron.py:692: ConvergenceWarning: Stochastic Optimizer: Maximum iterations (1000) reached and the optimization hasn't converged yet.\n",
      "  warnings.warn(\n",
      "C:\\Users\\saral\\miniconda3\\envs\\TFM\\lib\\site-packages\\sklearn\\neural_network\\_multilayer_perceptron.py:692: ConvergenceWarning: Stochastic Optimizer: Maximum iterations (1000) reached and the optimization hasn't converged yet.\n",
      "  warnings.warn(\n",
      "C:\\Users\\saral\\miniconda3\\envs\\TFM\\lib\\site-packages\\sklearn\\neural_network\\_multilayer_perceptron.py:692: ConvergenceWarning: Stochastic Optimizer: Maximum iterations (1000) reached and the optimization hasn't converged yet.\n",
      "  warnings.warn(\n",
      "C:\\Users\\saral\\miniconda3\\envs\\TFM\\lib\\site-packages\\sklearn\\neural_network\\_multilayer_perceptron.py:692: ConvergenceWarning: Stochastic Optimizer: Maximum iterations (1000) reached and the optimization hasn't converged yet.\n",
      "  warnings.warn(\n",
      "C:\\Users\\saral\\miniconda3\\envs\\TFM\\lib\\site-packages\\sklearn\\neural_network\\_multilayer_perceptron.py:692: ConvergenceWarning: Stochastic Optimizer: Maximum iterations (1000) reached and the optimization hasn't converged yet.\n",
      "  warnings.warn(\n",
      "C:\\Users\\saral\\miniconda3\\envs\\TFM\\lib\\site-packages\\sklearn\\neural_network\\_multilayer_perceptron.py:692: ConvergenceWarning: Stochastic Optimizer: Maximum iterations (1000) reached and the optimization hasn't converged yet.\n",
      "  warnings.warn(\n",
      "C:\\Users\\saral\\miniconda3\\envs\\TFM\\lib\\site-packages\\sklearn\\neural_network\\_multilayer_perceptron.py:692: ConvergenceWarning: Stochastic Optimizer: Maximum iterations (1000) reached and the optimization hasn't converged yet.\n",
      "  warnings.warn(\n",
      "C:\\Users\\saral\\miniconda3\\envs\\TFM\\lib\\site-packages\\sklearn\\neural_network\\_multilayer_perceptron.py:692: ConvergenceWarning: Stochastic Optimizer: Maximum iterations (1000) reached and the optimization hasn't converged yet.\n",
      "  warnings.warn(\n",
      "C:\\Users\\saral\\miniconda3\\envs\\TFM\\lib\\site-packages\\sklearn\\neural_network\\_multilayer_perceptron.py:692: ConvergenceWarning: Stochastic Optimizer: Maximum iterations (1000) reached and the optimization hasn't converged yet.\n",
      "  warnings.warn(\n",
      "C:\\Users\\saral\\miniconda3\\envs\\TFM\\lib\\site-packages\\sklearn\\neural_network\\_multilayer_perceptron.py:692: ConvergenceWarning: Stochastic Optimizer: Maximum iterations (1000) reached and the optimization hasn't converged yet.\n",
      "  warnings.warn(\n"
     ]
    },
    {
     "name": "stderr",
     "output_type": "stream",
     "text": [
      "C:\\Users\\saral\\miniconda3\\envs\\TFM\\lib\\site-packages\\sklearn\\neural_network\\_multilayer_perceptron.py:692: ConvergenceWarning: Stochastic Optimizer: Maximum iterations (1000) reached and the optimization hasn't converged yet.\n",
      "  warnings.warn(\n",
      "C:\\Users\\saral\\miniconda3\\envs\\TFM\\lib\\site-packages\\sklearn\\neural_network\\_multilayer_perceptron.py:692: ConvergenceWarning: Stochastic Optimizer: Maximum iterations (1000) reached and the optimization hasn't converged yet.\n",
      "  warnings.warn(\n",
      "C:\\Users\\saral\\miniconda3\\envs\\TFM\\lib\\site-packages\\sklearn\\neural_network\\_multilayer_perceptron.py:692: ConvergenceWarning: Stochastic Optimizer: Maximum iterations (1000) reached and the optimization hasn't converged yet.\n",
      "  warnings.warn(\n",
      "C:\\Users\\saral\\miniconda3\\envs\\TFM\\lib\\site-packages\\sklearn\\neural_network\\_multilayer_perceptron.py:692: ConvergenceWarning: Stochastic Optimizer: Maximum iterations (1000) reached and the optimization hasn't converged yet.\n",
      "  warnings.warn(\n",
      "C:\\Users\\saral\\miniconda3\\envs\\TFM\\lib\\site-packages\\sklearn\\neural_network\\_multilayer_perceptron.py:692: ConvergenceWarning: Stochastic Optimizer: Maximum iterations (1000) reached and the optimization hasn't converged yet.\n",
      "  warnings.warn(\n"
     ]
    },
    {
     "name": "stdout",
     "output_type": "stream",
     "text": [
      "Parámetros óptimos: {'activation': 'relu', 'hidden_layer_sizes': (100, 250, 250, 100, 1), 'solver': 'adam', 'validation_fraction': 0.25}\n",
      "Modelo óptimo: MLPClassifier(hidden_layer_sizes=(100, 250, 250, 100, 1), max_iter=1000,\n",
      "              random_state=0, validation_fraction=0.25)\n"
     ]
    }
   ],
   "source": [
    "# Definir y entrenar el modelo\n",
    "model_MLPC = MLPClassifier(max_iter=1000, random_state=0)\n",
    "param_grid_MLPC = {\n",
    "    \"hidden_layer_sizes\": [(100, 200, 100, 1), (100, 100, 100, 100, 1), (200, 200, 100, 50, 1), (100, 250, 250, 100, 1)],\n",
    "    \"activation\": [\"identity\", \"logistic\", \"tanh\", \"relu\"], # Tiene sentido probar identity y relu?\n",
    "    \"solver\": [\"sgd\", \"adam\"],\n",
    "#     \"solver\": [\"lbfgs\", \"sgd\", \"adam\"],\n",
    "    \"validation_fraction\": [0.25]\n",
    "}\n",
    "model_MLPC_opt = train_model(model_MLPC, param_grid_MLPC)"
   ]
  },
  {
   "cell_type": "code",
   "execution_count": 8,
   "id": "96fdd2bd",
   "metadata": {},
   "outputs": [
    {
     "name": "stdout",
     "output_type": "stream",
     "text": [
      "Accuracy: 83.33%\n"
     ]
    },
    {
     "name": "stderr",
     "output_type": "stream",
     "text": [
      "C:\\Users\\saral\\miniconda3\\envs\\TFM\\lib\\site-packages\\sklearn\\neural_network\\_multilayer_perceptron.py:692: ConvergenceWarning: Stochastic Optimizer: Maximum iterations (1000) reached and the optimization hasn't converged yet.\n",
      "  warnings.warn(\n"
     ]
    }
   ],
   "source": [
    "model_MLPC_opt = MLPClassifier(activation=\"relu\", hidden_layer_sizes=(100, 250, 250, 100, 1), solver='adam',\n",
    "                           validation_fraction=0.25, max_iter=1000, random_state=0)\n",
    "model_MLPC_opt.fit(X_train, y_train)\n",
    "\n",
    "# Predicción en partición de test\n",
    "y_pred_MLPC = model_MLPC_opt.predict(X_test)\n",
    "\n",
    "# Precisión en partición de test\n",
    "accuracy = accuracy_score(y_test, y_pred_MLPC)\n",
    "print(\"Accuracy: {:0.2f}%\".format(accuracy * 100))"
   ]
  },
  {
   "cell_type": "markdown",
   "id": "a6075466",
   "metadata": {},
   "source": [
    "Las anteriores celdas de código muestran un \"warning\" indicando que el método de computación alcanza el número máximo de iteraciones (épocas de entrenamiento) sin haber llegado a converger.\n",
    "\n",
    "El criterio para considerar que ha habido convergencia está definido en la documentación como: la reducción del valor de la función de loss es inferior a 1e-4 por un número de etapas determinado. \n",
    "\n",
    "La anterior condición por tanto no se está cumpliendo en nuestro entrenamiento, así que vamos a pintar la evolución de la función de pérdida para determinar si estamos cortando el entrenamiento demasiado pronto."
   ]
  },
  {
   "cell_type": "code",
   "execution_count": 9,
   "id": "2a417d5f",
   "metadata": {},
   "outputs": [
    {
     "data": {
      "text/plain": [
       "[<matplotlib.lines.Line2D at 0x1ffe2d817c0>]"
      ]
     },
     "execution_count": 9,
     "metadata": {},
     "output_type": "execute_result"
    },
    {
     "data": {
      "image/png": "[encoded data removed]",
      "text/plain": [
       "<Figure size 432x288 with 1 Axes>"
      ]
     },
     "metadata": {
      "needs_background": "light"
     },
     "output_type": "display_data"
    }
   ],
   "source": [
    "import matplotlib.pylab as plt\n",
    "\n",
    "plt.plot(model_MLPC_opt.loss_curve_)"
   ]
  },
  {
   "cell_type": "markdown",
   "id": "54c3d32f",
   "metadata": {},
   "source": [
    "La anterior curva de loss parece tener una tendencia aún claramente descendiente cuando es cortada en la época número 1000. Se va a repetir el entrenamiento incrementando este valor:"
   ]
  },
  {
   "cell_type": "code",
   "execution_count": 10,
   "id": "6c41d6e0",
   "metadata": {},
   "outputs": [
    {
     "name": "stderr",
     "output_type": "stream",
     "text": [
      "C:\\Users\\saral\\miniconda3\\envs\\TFM\\lib\\site-packages\\sklearn\\neural_network\\_multilayer_perceptron.py:692: ConvergenceWarning: Stochastic Optimizer: Maximum iterations (1500) reached and the optimization hasn't converged yet.\n",
      "  warnings.warn(\n",
      "C:\\Users\\saral\\miniconda3\\envs\\TFM\\lib\\site-packages\\sklearn\\neural_network\\_multilayer_perceptron.py:692: ConvergenceWarning: Stochastic Optimizer: Maximum iterations (1500) reached and the optimization hasn't converged yet.\n",
      "  warnings.warn(\n",
      "C:\\Users\\saral\\miniconda3\\envs\\TFM\\lib\\site-packages\\sklearn\\neural_network\\_multilayer_perceptron.py:692: ConvergenceWarning: Stochastic Optimizer: Maximum iterations (1500) reached and the optimization hasn't converged yet.\n",
      "  warnings.warn(\n",
      "C:\\Users\\saral\\miniconda3\\envs\\TFM\\lib\\site-packages\\sklearn\\neural_network\\_multilayer_perceptron.py:692: ConvergenceWarning: Stochastic Optimizer: Maximum iterations (1500) reached and the optimization hasn't converged yet.\n",
      "  warnings.warn(\n",
      "C:\\Users\\saral\\miniconda3\\envs\\TFM\\lib\\site-packages\\sklearn\\neural_network\\_multilayer_perceptron.py:692: ConvergenceWarning: Stochastic Optimizer: Maximum iterations (1500) reached and the optimization hasn't converged yet.\n",
      "  warnings.warn(\n",
      "C:\\Users\\saral\\miniconda3\\envs\\TFM\\lib\\site-packages\\sklearn\\neural_network\\_multilayer_perceptron.py:692: ConvergenceWarning: Stochastic Optimizer: Maximum iterations (1500) reached and the optimization hasn't converged yet.\n",
      "  warnings.warn(\n",
      "C:\\Users\\saral\\miniconda3\\envs\\TFM\\lib\\site-packages\\sklearn\\neural_network\\_multilayer_perceptron.py:692: ConvergenceWarning: Stochastic Optimizer: Maximum iterations (1500) reached and the optimization hasn't converged yet.\n",
      "  warnings.warn(\n",
      "C:\\Users\\saral\\miniconda3\\envs\\TFM\\lib\\site-packages\\sklearn\\neural_network\\_multilayer_perceptron.py:692: ConvergenceWarning: Stochastic Optimizer: Maximum iterations (1500) reached and the optimization hasn't converged yet.\n",
      "  warnings.warn(\n",
      "C:\\Users\\saral\\miniconda3\\envs\\TFM\\lib\\site-packages\\sklearn\\neural_network\\_multilayer_perceptron.py:692: ConvergenceWarning: Stochastic Optimizer: Maximum iterations (1500) reached and the optimization hasn't converged yet.\n",
      "  warnings.warn(\n"
     ]
    },
    {
     "name": "stdout",
     "output_type": "stream",
     "text": [
      "Parámetros óptimos: {'activation': 'identity', 'hidden_layer_sizes': (200, 200, 100, 50, 1), 'solver': 'adam', 'validation_fraction': 0.25}\n",
      "Modelo óptimo: MLPClassifier(activation='identity', hidden_layer_sizes=(200, 200, 100, 50, 1),\n",
      "              max_iter=1500, random_state=0, validation_fraction=0.25)\n"
     ]
    }
   ],
   "source": [
    "# Definir y entrenar el modelo\n",
    "model_MLPC = MLPClassifier(max_iter=1500, random_state=0)\n",
    "param_grid_MLPC = {\n",
    "    \"hidden_layer_sizes\": [(100, 200, 100, 1), (100, 100, 100, 100, 1), (200, 200, 100, 50, 1), (100, 250, 250, 100, 1)],\n",
    "    \"activation\": [\"identity\", \"logistic\", \"tanh\", \"relu\"], # Tiene sentido probar identity y relu?\n",
    "    \"solver\": [\"sgd\", \"adam\"],\n",
    "#     \"solver\": [\"lbfgs\", \"sgd\", \"adam\"],\n",
    "    \"validation_fraction\": [0.25]\n",
    "}\n",
    "model_MLPC_opt = train_model(model_MLPC, param_grid_MLPC)"
   ]
  },
  {
   "cell_type": "code",
   "execution_count": 27,
   "id": "1039b1d7",
   "metadata": {},
   "outputs": [
    {
     "name": "stdout",
     "output_type": "stream",
     "text": [
      "Parámetros óptimos: {'activation': 'identity', 'hidden_layer_sizes': (200, 200, 100, 50, 1), 'solver': 'adam', 'validation_fraction': 0.25}\n",
      "Modelo óptimo: MLPClassifier(activation='identity', hidden_layer_sizes=(200, 200, 100, 50, 1),\n",
      "              max_iter=1500, random_state=0, validation_fraction=0.25)\n"
     ]
    }
   ],
   "source": [
    "# Definir y entrenar el modelo\n",
    "model_MLPC = MLPClassifier(max_iter=1500, random_state=0)\n",
    "param_grid_MLPC = {\n",
    "    \"hidden_layer_sizes\": [(200, 200, 100, 50, 1)],\n",
    "    \"activation\": [\"identity\"], # Tiene sentido probar identity y relu?\n",
    "    \"solver\": [\"adam\"],\n",
    "#     \"solver\": [\"lbfgs\", \"sgd\", \"adam\"],\n",
    "    \"validation_fraction\": [0.25]\n",
    "}\n",
    "model_MLPC_opt = train_model(model_MLPC, param_grid_MLPC)"
   ]
  },
  {
   "cell_type": "markdown",
   "id": "87d80e6f",
   "metadata": {},
   "source": [
    "NO LLEGA AL TOPE DE ITERACIONES"
   ]
  },
  {
   "cell_type": "code",
   "execution_count": 28,
   "id": "4c9b4ab8",
   "metadata": {},
   "outputs": [
    {
     "data": {
      "text/plain": [
       "[<matplotlib.lines.Line2D at 0x1c24b2d3d90>]"
      ]
     },
     "execution_count": 28,
     "metadata": {},
     "output_type": "execute_result"
    },
    {
     "data": {
      "image/png": "[encoded data removed]",
      "text/plain": [
       "<Figure size 432x288 with 1 Axes>"
      ]
     },
     "metadata": {
      "needs_background": "light"
     },
     "output_type": "display_data"
    }
   ],
   "source": [
    "plt.plot(model_MLPC_opt.loss_curve_)"
   ]
  },
  {
   "cell_type": "code",
   "execution_count": 12,
   "id": "560c3580",
   "metadata": {},
   "outputs": [
    {
     "name": "stdout",
     "output_type": "stream",
     "text": [
      "Accuracy: 83.33%\n"
     ]
    }
   ],
   "source": [
    "model_MLPC_opt = MLPClassifier(activation=\"identity\", hidden_layer_sizes=(200, 200, 100, 50, 1), solver=\"adam\",\n",
    "                           validation_fraction=0.25, max_iter=1500, random_state=0)\n",
    "model_MLPC_opt.fit(X_train, y_train)\n",
    "\n",
    "# Predicción en partición de test\n",
    "y_pred_MLPC = model_MLPC_opt.predict(X_test)\n",
    "\n",
    "# Precisión en partición de test\n",
    "accuracy = accuracy_score(y_test, y_pred_MLPC)\n",
    "print(\"Accuracy: {:0.2f}%\".format(accuracy * 100))"
   ]
  },
  {
   "cell_type": "code",
   "execution_count": 13,
   "id": "18887965",
   "metadata": {},
   "outputs": [
    {
     "data": {
      "text/plain": [
       "[<matplotlib.lines.Line2D at 0x1c24ac30640>]"
      ]
     },
     "execution_count": 13,
     "metadata": {},
     "output_type": "execute_result"
    },
    {
     "data": {
      "image/png": "[encoded data removed]",
      "text/plain": [
       "<Figure size 432x288 with 1 Axes>"
      ]
     },
     "metadata": {
      "needs_background": "light"
     },
     "output_type": "display_data"
    }
   ],
   "source": [
    "import matplotlib.pylab as plt\n",
    "plt.plot(model_MLPC_opt.loss_curve_)"
   ]
  },
  {
   "cell_type": "code",
   "execution_count": 25,
   "id": "b9c463f0",
   "metadata": {},
   "outputs": [
    {
     "name": "stdout",
     "output_type": "stream",
     "text": [
      "Accuracy: 77.78%\n"
     ]
    }
   ],
   "source": [
    "model_MLPC_opt = MLPClassifier(activation=\"identity\", hidden_layer_sizes=(200, 200, 100, 50, 1), solver=\"sgd\",\n",
    "                           max_iter=500, random_state=0)\n",
    "model_MLPC_opt.fit(X_train, y_train)\n",
    "\n",
    "# Predicción en partición de test\n",
    "y_pred_MLPC = model_MLPC_opt.predict(X_test)\n",
    "\n",
    "# Precisión en partición de test\n",
    "accuracy = accuracy_score(y_test, y_pred_MLPC)\n",
    "print(\"Accuracy: {:0.2f}%\".format(accuracy * 100))"
   ]
  },
  {
   "cell_type": "code",
   "execution_count": 26,
   "id": "9a20722a",
   "metadata": {},
   "outputs": [
    {
     "data": {
      "text/plain": [
       "[<matplotlib.lines.Line2D at 0x1c24b2604c0>]"
      ]
     },
     "execution_count": 26,
     "metadata": {},
     "output_type": "execute_result"
    },
    {
     "data": {
      "image/png": "[encoded data removed]",
      "text/plain": [
       "<Figure size 432x288 with 1 Axes>"
      ]
     },
     "metadata": {
      "needs_background": "light"
     },
     "output_type": "display_data"
    }
   ],
   "source": [
    "import matplotlib.pylab as plt\n",
    "plt.plot(model_MLPC_opt.loss_curve_)"
   ]
  },
  {
   "cell_type": "markdown",
   "id": "74b53808",
   "metadata": {},
   "source": [
    "$\\color{red}{\\text{CONCLUSIÓN??}}$"
   ]
  },
  {
   "cell_type": "code",
   "execution_count": 16,
   "id": "a1221514",
   "metadata": {},
   "outputs": [
    {
     "name": "stdout",
     "output_type": "stream",
     "text": [
      "Accuracy: 83.33%\n"
     ]
    }
   ],
   "source": [
    "model_MLPC_opt = MLPClassifier(activation=\"tanh\", hidden_layer_sizes=(200, 200, 100, 50, 1), solver='lbfgs',\n",
    "                           validation_fraction=0.25, max_iter=1500, random_state=0)\n",
    "model_MLPC_opt.fit(X_train, y_train)\n",
    "\n",
    "# Predicción en partición de test\n",
    "y_pred_MLPC = model_MLPC_opt.predict(X_test)\n",
    "\n",
    "# Precisión en partición de test\n",
    "accuracy = accuracy_score(y_test, y_pred_MLPC)\n",
    "print(\"Accuracy: {:0.2f}%\".format(accuracy * 100))"
   ]
  },
  {
   "cell_type": "code",
   "execution_count": 17,
   "id": "8122697c",
   "metadata": {},
   "outputs": [
    {
     "ename": "AttributeError",
     "evalue": "'MLPClassifier' object has no attribute 'loss_curve_'",
     "output_type": "error",
     "traceback": [
      "\u001b[1;31m---------------------------------------------------------------------------\u001b[0m",
      "\u001b[1;31mAttributeError\u001b[0m                            Traceback (most recent call last)",
      "Input \u001b[1;32mIn [17]\u001b[0m, in \u001b[0;36m<cell line: 1>\u001b[1;34m()\u001b[0m\n\u001b[1;32m----> 1\u001b[0m plt\u001b[38;5;241m.\u001b[39mplot(\u001b[43mmodel_MLPC_opt\u001b[49m\u001b[38;5;241;43m.\u001b[39;49m\u001b[43mloss_curve_\u001b[49m)\n",
      "\u001b[1;31mAttributeError\u001b[0m: 'MLPClassifier' object has no attribute 'loss_curve_'"
     ]
    }
   ],
   "source": [
    "plt.plot(model_MLPC_opt.loss_curve_)\n",
    "# ES POR EL SOLVER \"lbfgs\""
   ]
  },
  {
   "cell_type": "markdown",
   "id": "e28b5a47",
   "metadata": {},
   "source": [
    "**Usando la librería \"keras\"**\n",
    "\n",
    "Ahora utilizaremos la librería de ``keras``, por su mayor flexibilidad para intentar mejorar los resultados de la red neuronal.\n",
    "\n",
    "Comenzaremos repitiendo la búsqueda de hiperparámetros, ya que la propia librería de ``keras`` dispone de integración con otras que nos permitirán hacer una búsqueda algo más exhaustiva por ejemplo en cuanto al número de capas y neuronas en estas. Concretamente, vamos a utilizar ``optuna``."
   ]
  },
  {
   "cell_type": "code",
   "execution_count": 30,
   "id": "f9c04e40",
   "metadata": {},
   "outputs": [],
   "source": [
    "import tensorflow as tf\n",
    "import keras\n",
    "from keras import layers, models, optimizers, callbacks, backend, preprocessing"
   ]
  },
  {
   "cell_type": "markdown",
   "id": "42be2b93",
   "metadata": {},
   "source": [
    "Documentación:\n",
    "* https://optuna.readthedocs.io/en/stable/reference/generated/optuna.trial.Trial.html\n",
    "* https://optuna.org/\n",
    "\n",
    "Para reducir el coste computacional tomaremos de base resultados como la función de activación óptima: \"relu\", que hemos podido obtener con ``GridSearchCV``. Como por el contrario usando ``sklearn`` no hemos podido utilizar el optimizador RMSProp, vamos a probarlo también con ``optuna`` + ``keras`` para ver si mejora nuestros resultados."
   ]
  },
  {
   "cell_type": "code",
   "execution_count": 6,
   "id": "5bb2cf72",
   "metadata": {},
   "outputs": [],
   "source": [
    "# El objetivo es definir una función que será optimizada. En este caso, nos interesa maximizar el accuracy.\n",
    "def objective(trial):\n",
    "    modelFC_optuna = models.Sequential()\n",
    "\n",
    "    # Se utiliza el objeto \"trial\" para asignar las posibilidades a los hiperparámetros.\n",
    "    n_layers = trial.suggest_int(\"n_layers\", 2, 5, 1)\n",
    "    num_hidden = trial.suggest_int(\"n_units\", 50, 250, 50)\n",
    "    dropout = trial.suggest_float(\"dropout\", 0, 0.5, step=0.1)\n",
    "    for i in range(n_layers):\n",
    "        modelFC_optuna.add(layers.Dense(num_hidden, activation=\"relu\"))\n",
    "        modelFC_optuna.add(layers.Dropout(rate=dropout))\n",
    "    modelFC_optuna.add(layers.Dense(1, activation=\"sigmoid\"))\n",
    "\n",
    "    optimizers = trial.suggest_categorical(\"optimizer\", [\"RMSprop\", \"SGD\", \"Adam\"])\n",
    "    modelFC_optuna.compile(loss=\"categorical_crossentropy\", optimizer=optimizers, metrics=[\"accuracy\"])\n",
    "    \n",
    "    es = callbacks.EarlyStopping(monitor=\"val_accuracy\", min_delta=0.01, patience=5)\n",
    "    modelFC_optuna.fit(X_train, y_train, callbacks=[es], epochs=100, validation_split=0.25, verbose=0)\n",
    "\n",
    "    loss, accuracy = modelFC_optuna.evaluate(X_test, y_test)\n",
    "    return accuracy"
   ]
  },
  {
   "cell_type": "code",
   "execution_count": 7,
   "id": "6846d5f3",
   "metadata": {
    "scrolled": true
   },
   "outputs": [
    {
     "name": "stderr",
     "output_type": "stream",
     "text": [
      "\u001b[32m[I 2022-05-31 17:13:15,398]\u001b[0m A new study created in memory with name: no-name-09c0b5e0-747d-497e-a2f7-4678b391c595\u001b[0m\n"
     ]
    },
    {
     "name": "stdout",
     "output_type": "stream",
     "text": [
      "1/1 [==============================] - 0s 16ms/step - loss: 0.0000e+00 - accuracy: 0.4444\n"
     ]
    },
    {
     "name": "stderr",
     "output_type": "stream",
     "text": [
      "\u001b[32m[I 2022-05-31 17:13:23,183]\u001b[0m Trial 0 finished with value: 0.4444444477558136 and parameters: {'n_layers': 4, 'n_units': 200, 'dropout': 0.30000000000000004, 'optimizer': 'Adam'}. Best is trial 0 with value: 0.4444444477558136.\u001b[0m\n"
     ]
    },
    {
     "name": "stdout",
     "output_type": "stream",
     "text": [
      "1/1 [==============================] - 0s 16ms/step - loss: 0.0000e+00 - accuracy: 0.4444\n"
     ]
    },
    {
     "name": "stderr",
     "output_type": "stream",
     "text": [
      "\u001b[32m[I 2022-05-31 17:13:24,135]\u001b[0m Trial 1 finished with value: 0.4444444477558136 and parameters: {'n_layers': 3, 'n_units': 250, 'dropout': 0.5, 'optimizer': 'SGD'}. Best is trial 0 with value: 0.4444444477558136.\u001b[0m\n"
     ]
    },
    {
     "name": "stdout",
     "output_type": "stream",
     "text": [
      "1/1 [==============================] - 0s 16ms/step - loss: 0.0000e+00 - accuracy: 0.4444\n"
     ]
    },
    {
     "name": "stderr",
     "output_type": "stream",
     "text": [
      "\u001b[32m[I 2022-05-31 17:13:24,893]\u001b[0m Trial 2 finished with value: 0.4444444477558136 and parameters: {'n_layers': 4, 'n_units': 250, 'dropout': 0.0, 'optimizer': 'Adam'}. Best is trial 0 with value: 0.4444444477558136.\u001b[0m\n"
     ]
    },
    {
     "name": "stdout",
     "output_type": "stream",
     "text": [
      "1/1 [==============================] - 0s 18ms/step - loss: 0.0000e+00 - accuracy: 0.4444\n"
     ]
    },
    {
     "name": "stderr",
     "output_type": "stream",
     "text": [
      "\u001b[32m[I 2022-05-31 17:13:26,337]\u001b[0m Trial 3 finished with value: 0.4444444477558136 and parameters: {'n_layers': 5, 'n_units': 250, 'dropout': 0.5, 'optimizer': 'RMSprop'}. Best is trial 0 with value: 0.4444444477558136.\u001b[0m\n"
     ]
    },
    {
     "name": "stdout",
     "output_type": "stream",
     "text": [
      "1/1 [==============================] - 0s 17ms/step - loss: 0.0000e+00 - accuracy: 0.4444\n"
     ]
    },
    {
     "name": "stderr",
     "output_type": "stream",
     "text": [
      "\u001b[32m[I 2022-05-31 17:13:27,546]\u001b[0m Trial 4 finished with value: 0.4444444477558136 and parameters: {'n_layers': 2, 'n_units': 200, 'dropout': 0.0, 'optimizer': 'RMSprop'}. Best is trial 0 with value: 0.4444444477558136.\u001b[0m\n"
     ]
    },
    {
     "name": "stdout",
     "output_type": "stream",
     "text": [
      "1/1 [==============================] - 0s 16ms/step - loss: 0.0000e+00 - accuracy: 0.4444\n"
     ]
    },
    {
     "name": "stderr",
     "output_type": "stream",
     "text": [
      "\u001b[32m[I 2022-05-31 17:13:28,391]\u001b[0m Trial 5 finished with value: 0.4444444477558136 and parameters: {'n_layers': 3, 'n_units': 200, 'dropout': 0.2, 'optimizer': 'Adam'}. Best is trial 0 with value: 0.4444444477558136.\u001b[0m\n"
     ]
    },
    {
     "name": "stdout",
     "output_type": "stream",
     "text": [
      "1/1 [==============================] - 0s 16ms/step - loss: 0.0000e+00 - accuracy: 0.4444\n"
     ]
    },
    {
     "name": "stderr",
     "output_type": "stream",
     "text": [
      "\u001b[32m[I 2022-05-31 17:13:29,454]\u001b[0m Trial 6 finished with value: 0.4444444477558136 and parameters: {'n_layers': 4, 'n_units': 200, 'dropout': 0.5, 'optimizer': 'RMSprop'}. Best is trial 0 with value: 0.4444444477558136.\u001b[0m\n"
     ]
    },
    {
     "name": "stdout",
     "output_type": "stream",
     "text": [
      "1/1 [==============================] - 0s 18ms/step - loss: 0.0000e+00 - accuracy: 0.4444\n"
     ]
    },
    {
     "name": "stderr",
     "output_type": "stream",
     "text": [
      "\u001b[32m[I 2022-05-31 17:13:30,520]\u001b[0m Trial 7 finished with value: 0.4444444477558136 and parameters: {'n_layers': 4, 'n_units': 50, 'dropout': 0.4, 'optimizer': 'RMSprop'}. Best is trial 0 with value: 0.4444444477558136.\u001b[0m\n"
     ]
    },
    {
     "name": "stdout",
     "output_type": "stream",
     "text": [
      "1/1 [==============================] - 0s 16ms/step - loss: 0.0000e+00 - accuracy: 0.4444\n"
     ]
    },
    {
     "name": "stderr",
     "output_type": "stream",
     "text": [
      "\u001b[32m[I 2022-05-31 17:13:31,320]\u001b[0m Trial 8 finished with value: 0.4444444477558136 and parameters: {'n_layers': 3, 'n_units': 100, 'dropout': 0.30000000000000004, 'optimizer': 'SGD'}. Best is trial 0 with value: 0.4444444477558136.\u001b[0m\n"
     ]
    },
    {
     "name": "stdout",
     "output_type": "stream",
     "text": [
      "1/1 [==============================] - 0s 17ms/step - loss: 0.0000e+00 - accuracy: 0.4444\n"
     ]
    },
    {
     "name": "stderr",
     "output_type": "stream",
     "text": [
      "\u001b[32m[I 2022-05-31 17:13:32,084]\u001b[0m Trial 9 finished with value: 0.4444444477558136 and parameters: {'n_layers': 2, 'n_units': 50, 'dropout': 0.30000000000000004, 'optimizer': 'SGD'}. Best is trial 0 with value: 0.4444444477558136.\u001b[0m\n"
     ]
    },
    {
     "name": "stdout",
     "output_type": "stream",
     "text": [
      "1/1 [==============================] - 0s 16ms/step - loss: 0.0000e+00 - accuracy: 0.4444\n"
     ]
    },
    {
     "name": "stderr",
     "output_type": "stream",
     "text": [
      "\u001b[32m[I 2022-05-31 17:13:33,835]\u001b[0m Trial 10 finished with value: 0.4444444477558136 and parameters: {'n_layers': 5, 'n_units': 150, 'dropout': 0.2, 'optimizer': 'Adam'}. Best is trial 0 with value: 0.4444444477558136.\u001b[0m\n"
     ]
    },
    {
     "name": "stdout",
     "output_type": "stream",
     "text": [
      "1/1 [==============================] - 0s 16ms/step - loss: 0.0000e+00 - accuracy: 0.4444\n"
     ]
    },
    {
     "name": "stderr",
     "output_type": "stream",
     "text": [
      "\u001b[32m[I 2022-05-31 17:13:34,579]\u001b[0m Trial 11 finished with value: 0.4444444477558136 and parameters: {'n_layers': 3, 'n_units': 250, 'dropout': 0.4, 'optimizer': 'SGD'}. Best is trial 0 with value: 0.4444444477558136.\u001b[0m\n"
     ]
    },
    {
     "name": "stdout",
     "output_type": "stream",
     "text": [
      "1/1 [==============================] - 0s 16ms/step - loss: 0.0000e+00 - accuracy: 0.4444\n"
     ]
    },
    {
     "name": "stderr",
     "output_type": "stream",
     "text": [
      "\u001b[32m[I 2022-05-31 17:13:35,433]\u001b[0m Trial 12 finished with value: 0.4444444477558136 and parameters: {'n_layers': 4, 'n_units': 150, 'dropout': 0.1, 'optimizer': 'Adam'}. Best is trial 0 with value: 0.4444444477558136.\u001b[0m\n"
     ]
    },
    {
     "name": "stdout",
     "output_type": "stream",
     "text": [
      "1/1 [==============================] - 0s 16ms/step - loss: 0.0000e+00 - accuracy: 0.4444\n"
     ]
    },
    {
     "name": "stderr",
     "output_type": "stream",
     "text": [
      "\u001b[32m[I 2022-05-31 17:13:36,377]\u001b[0m Trial 13 finished with value: 0.4444444477558136 and parameters: {'n_layers': 3, 'n_units': 200, 'dropout': 0.4, 'optimizer': 'SGD'}. Best is trial 0 with value: 0.4444444477558136.\u001b[0m\n"
     ]
    },
    {
     "name": "stdout",
     "output_type": "stream",
     "text": [
      "1/1 [==============================] - 0s 16ms/step - loss: 0.0000e+00 - accuracy: 0.4444\n"
     ]
    },
    {
     "name": "stderr",
     "output_type": "stream",
     "text": [
      "\u001b[32m[I 2022-05-31 17:13:37,325]\u001b[0m Trial 14 finished with value: 0.4444444477558136 and parameters: {'n_layers': 5, 'n_units': 250, 'dropout': 0.5, 'optimizer': 'Adam'}. Best is trial 0 with value: 0.4444444477558136.\u001b[0m\n"
     ]
    },
    {
     "name": "stdout",
     "output_type": "stream",
     "text": [
      "1/1 [==============================] - 0s 16ms/step - loss: 0.0000e+00 - accuracy: 0.4444\n"
     ]
    },
    {
     "name": "stderr",
     "output_type": "stream",
     "text": [
      "\u001b[32m[I 2022-05-31 17:13:38,077]\u001b[0m Trial 15 finished with value: 0.4444444477558136 and parameters: {'n_layers': 2, 'n_units': 200, 'dropout': 0.30000000000000004, 'optimizer': 'SGD'}. Best is trial 0 with value: 0.4444444477558136.\u001b[0m\n"
     ]
    },
    {
     "name": "stdout",
     "output_type": "stream",
     "text": [
      "1/1 [==============================] - 0s 16ms/step - loss: 0.0000e+00 - accuracy: 0.4444\n"
     ]
    },
    {
     "name": "stderr",
     "output_type": "stream",
     "text": [
      "\u001b[32m[I 2022-05-31 17:13:38,876]\u001b[0m Trial 16 finished with value: 0.4444444477558136 and parameters: {'n_layers': 4, 'n_units': 150, 'dropout': 0.1, 'optimizer': 'SGD'}. Best is trial 0 with value: 0.4444444477558136.\u001b[0m\n"
     ]
    },
    {
     "name": "stdout",
     "output_type": "stream",
     "text": [
      "1/1 [==============================] - 0s 16ms/step - loss: 0.0000e+00 - accuracy: 0.4444\n"
     ]
    },
    {
     "name": "stderr",
     "output_type": "stream",
     "text": [
      "\u001b[32m[I 2022-05-31 17:13:39,804]\u001b[0m Trial 17 finished with value: 0.4444444477558136 and parameters: {'n_layers': 5, 'n_units': 100, 'dropout': 0.4, 'optimizer': 'Adam'}. Best is trial 0 with value: 0.4444444477558136.\u001b[0m\n"
     ]
    },
    {
     "name": "stdout",
     "output_type": "stream",
     "text": [
      "1/1 [==============================] - 0s 16ms/step - loss: 0.0000e+00 - accuracy: 0.4444\n"
     ]
    },
    {
     "name": "stderr",
     "output_type": "stream",
     "text": [
      "\u001b[32m[I 2022-05-31 17:13:40,484]\u001b[0m Trial 18 finished with value: 0.4444444477558136 and parameters: {'n_layers': 2, 'n_units': 200, 'dropout': 0.30000000000000004, 'optimizer': 'SGD'}. Best is trial 0 with value: 0.4444444477558136.\u001b[0m\n"
     ]
    },
    {
     "name": "stdout",
     "output_type": "stream",
     "text": [
      "1/1 [==============================] - 0s 16ms/step - loss: 0.0000e+00 - accuracy: 0.4444\n"
     ]
    },
    {
     "name": "stderr",
     "output_type": "stream",
     "text": [
      "\u001b[32m[I 2022-05-31 17:13:41,303]\u001b[0m Trial 19 finished with value: 0.4444444477558136 and parameters: {'n_layers': 4, 'n_units': 100, 'dropout': 0.1, 'optimizer': 'Adam'}. Best is trial 0 with value: 0.4444444477558136.\u001b[0m\n"
     ]
    },
    {
     "name": "stdout",
     "output_type": "stream",
     "text": [
      "1/1 [==============================] - 0s 31ms/step - loss: 0.0000e+00 - accuracy: 0.4444\n"
     ]
    },
    {
     "name": "stderr",
     "output_type": "stream",
     "text": [
      "\u001b[32m[I 2022-05-31 17:13:42,217]\u001b[0m Trial 20 finished with value: 0.4444444477558136 and parameters: {'n_layers': 5, 'n_units': 100, 'dropout': 0.4, 'optimizer': 'Adam'}. Best is trial 0 with value: 0.4444444477558136.\u001b[0m\n"
     ]
    },
    {
     "name": "stdout",
     "output_type": "stream",
     "text": [
      "1/1 [==============================] - 0s 16ms/step - loss: 0.0000e+00 - accuracy: 0.4444\n"
     ]
    },
    {
     "name": "stderr",
     "output_type": "stream",
     "text": [
      "\u001b[32m[I 2022-05-31 17:13:43,141]\u001b[0m Trial 21 finished with value: 0.4444444477558136 and parameters: {'n_layers': 5, 'n_units': 100, 'dropout': 0.30000000000000004, 'optimizer': 'Adam'}. Best is trial 0 with value: 0.4444444477558136.\u001b[0m\n"
     ]
    },
    {
     "name": "stdout",
     "output_type": "stream",
     "text": [
      "1/1 [==============================] - 0s 16ms/step - loss: 0.0000e+00 - accuracy: 0.4444\n"
     ]
    },
    {
     "name": "stderr",
     "output_type": "stream",
     "text": [
      "\u001b[32m[I 2022-05-31 17:13:44,218]\u001b[0m Trial 22 finished with value: 0.4444444477558136 and parameters: {'n_layers': 4, 'n_units': 150, 'dropout': 0.2, 'optimizer': 'Adam'}. Best is trial 0 with value: 0.4444444477558136.\u001b[0m\n"
     ]
    },
    {
     "name": "stdout",
     "output_type": "stream",
     "text": [
      "1/1 [==============================] - 0s 16ms/step - loss: 0.0000e+00 - accuracy: 0.4444\n"
     ]
    },
    {
     "name": "stderr",
     "output_type": "stream",
     "text": [
      "\u001b[32m[I 2022-05-31 17:13:45,109]\u001b[0m Trial 23 finished with value: 0.4444444477558136 and parameters: {'n_layers': 5, 'n_units': 100, 'dropout': 0.1, 'optimizer': 'Adam'}. Best is trial 0 with value: 0.4444444477558136.\u001b[0m\n"
     ]
    },
    {
     "name": "stdout",
     "output_type": "stream",
     "text": [
      "1/1 [==============================] - 0s 16ms/step - loss: 0.0000e+00 - accuracy: 0.4444\n"
     ]
    },
    {
     "name": "stderr",
     "output_type": "stream",
     "text": [
      "\u001b[32m[I 2022-05-31 17:13:45,995]\u001b[0m Trial 24 finished with value: 0.4444444477558136 and parameters: {'n_layers': 5, 'n_units': 50, 'dropout': 0.4, 'optimizer': 'Adam'}. Best is trial 0 with value: 0.4444444477558136.\u001b[0m\n"
     ]
    },
    {
     "name": "stdout",
     "output_type": "stream",
     "text": [
      "1/1 [==============================] - 0s 16ms/step - loss: 0.0000e+00 - accuracy: 0.4444\n"
     ]
    },
    {
     "name": "stderr",
     "output_type": "stream",
     "text": [
      "\u001b[32m[I 2022-05-31 17:13:46,827]\u001b[0m Trial 25 finished with value: 0.4444444477558136 and parameters: {'n_layers': 4, 'n_units': 150, 'dropout': 0.2, 'optimizer': 'Adam'}. Best is trial 0 with value: 0.4444444477558136.\u001b[0m\n"
     ]
    },
    {
     "name": "stdout",
     "output_type": "stream",
     "text": [
      "1/1 [==============================] - 0s 16ms/step - loss: 0.0000e+00 - accuracy: 0.4444\n"
     ]
    },
    {
     "name": "stderr",
     "output_type": "stream",
     "text": [
      "\u001b[32m[I 2022-05-31 17:13:47,668]\u001b[0m Trial 26 finished with value: 0.4444444477558136 and parameters: {'n_layers': 4, 'n_units': 150, 'dropout': 0.1, 'optimizer': 'Adam'}. Best is trial 0 with value: 0.4444444477558136.\u001b[0m\n"
     ]
    },
    {
     "name": "stdout",
     "output_type": "stream",
     "text": [
      "1/1 [==============================] - 0s 16ms/step - loss: 0.0000e+00 - accuracy: 0.4444\n"
     ]
    },
    {
     "name": "stderr",
     "output_type": "stream",
     "text": [
      "\u001b[32m[I 2022-05-31 17:13:48,460]\u001b[0m Trial 27 finished with value: 0.4444444477558136 and parameters: {'n_layers': 5, 'n_units': 50, 'dropout': 0.0, 'optimizer': 'Adam'}. Best is trial 0 with value: 0.4444444477558136.\u001b[0m\n"
     ]
    },
    {
     "name": "stdout",
     "output_type": "stream",
     "text": [
      "1/1 [==============================] - 0s 16ms/step - loss: 0.0000e+00 - accuracy: 0.4444\n"
     ]
    },
    {
     "name": "stderr",
     "output_type": "stream",
     "text": [
      "\u001b[32m[I 2022-05-31 17:13:49,293]\u001b[0m Trial 28 finished with value: 0.4444444477558136 and parameters: {'n_layers': 4, 'n_units': 50, 'dropout': 0.2, 'optimizer': 'Adam'}. Best is trial 0 with value: 0.4444444477558136.\u001b[0m\n"
     ]
    },
    {
     "name": "stdout",
     "output_type": "stream",
     "text": [
      "1/1 [==============================] - 0s 16ms/step - loss: 0.0000e+00 - accuracy: 0.4444\n"
     ]
    },
    {
     "name": "stderr",
     "output_type": "stream",
     "text": [
      "\u001b[32m[I 2022-05-31 17:13:50,154]\u001b[0m Trial 29 finished with value: 0.4444444477558136 and parameters: {'n_layers': 4, 'n_units': 150, 'dropout': 0.2, 'optimizer': 'Adam'}. Best is trial 0 with value: 0.4444444477558136.\u001b[0m\n"
     ]
    },
    {
     "name": "stdout",
     "output_type": "stream",
     "text": [
      "1/1 [==============================] - 0s 16ms/step - loss: 0.0000e+00 - accuracy: 0.4444\n"
     ]
    },
    {
     "name": "stderr",
     "output_type": "stream",
     "text": [
      "\u001b[32m[I 2022-05-31 17:13:50,862]\u001b[0m Trial 30 finished with value: 0.4444444477558136 and parameters: {'n_layers': 3, 'n_units': 200, 'dropout': 0.0, 'optimizer': 'Adam'}. Best is trial 0 with value: 0.4444444477558136.\u001b[0m\n"
     ]
    },
    {
     "name": "stdout",
     "output_type": "stream",
     "text": [
      "1/1 [==============================] - 0s 16ms/step - loss: 0.0000e+00 - accuracy: 0.4444\n"
     ]
    },
    {
     "name": "stderr",
     "output_type": "stream",
     "text": [
      "\u001b[32m[I 2022-05-31 17:13:51,962]\u001b[0m Trial 31 finished with value: 0.4444444477558136 and parameters: {'n_layers': 4, 'n_units': 50, 'dropout': 0.1, 'optimizer': 'Adam'}. Best is trial 0 with value: 0.4444444477558136.\u001b[0m\n"
     ]
    },
    {
     "name": "stdout",
     "output_type": "stream",
     "text": [
      "1/1 [==============================] - 0s 16ms/step - loss: 0.0000e+00 - accuracy: 0.4444\n"
     ]
    },
    {
     "name": "stderr",
     "output_type": "stream",
     "text": [
      "\u001b[32m[I 2022-05-31 17:13:52,788]\u001b[0m Trial 32 finished with value: 0.4444444477558136 and parameters: {'n_layers': 4, 'n_units': 50, 'dropout': 0.2, 'optimizer': 'Adam'}. Best is trial 0 with value: 0.4444444477558136.\u001b[0m\n"
     ]
    },
    {
     "name": "stdout",
     "output_type": "stream",
     "text": [
      "1/1 [==============================] - 0s 16ms/step - loss: 0.0000e+00 - accuracy: 0.4444\n"
     ]
    },
    {
     "name": "stderr",
     "output_type": "stream",
     "text": [
      "\u001b[32m[I 2022-05-31 17:13:53,558]\u001b[0m Trial 33 finished with value: 0.4444444477558136 and parameters: {'n_layers': 3, 'n_units': 250, 'dropout': 0.0, 'optimizer': 'Adam'}. Best is trial 0 with value: 0.4444444477558136.\u001b[0m\n"
     ]
    },
    {
     "name": "stdout",
     "output_type": "stream",
     "text": [
      "1/1 [==============================] - 0s 23ms/step - loss: 0.0000e+00 - accuracy: 0.4444\n"
     ]
    },
    {
     "name": "stderr",
     "output_type": "stream",
     "text": [
      "\u001b[32m[I 2022-05-31 17:13:54,823]\u001b[0m Trial 34 finished with value: 0.4444444477558136 and parameters: {'n_layers': 3, 'n_units': 200, 'dropout': 0.0, 'optimizer': 'RMSprop'}. Best is trial 0 with value: 0.4444444477558136.\u001b[0m\n"
     ]
    },
    {
     "name": "stdout",
     "output_type": "stream",
     "text": [
      "1/1 [==============================] - 0s 16ms/step - loss: 0.0000e+00 - accuracy: 0.4444\n"
     ]
    },
    {
     "name": "stderr",
     "output_type": "stream",
     "text": [
      "\u001b[32m[I 2022-05-31 17:13:56,257]\u001b[0m Trial 35 finished with value: 0.4444444477558136 and parameters: {'n_layers': 5, 'n_units': 100, 'dropout': 0.30000000000000004, 'optimizer': 'Adam'}. Best is trial 0 with value: 0.4444444477558136.\u001b[0m\n"
     ]
    },
    {
     "name": "stdout",
     "output_type": "stream",
     "text": [
      "1/1 [==============================] - 0s 32ms/step - loss: 0.0000e+00 - accuracy: 0.4444\n"
     ]
    },
    {
     "name": "stderr",
     "output_type": "stream",
     "text": [
      "\u001b[32m[I 2022-05-31 17:13:57,521]\u001b[0m Trial 36 finished with value: 0.4444444477558136 and parameters: {'n_layers': 5, 'n_units': 100, 'dropout': 0.30000000000000004, 'optimizer': 'Adam'}. Best is trial 0 with value: 0.4444444477558136.\u001b[0m\n"
     ]
    },
    {
     "name": "stdout",
     "output_type": "stream",
     "text": [
      "1/1 [==============================] - 0s 24ms/step - loss: 0.0000e+00 - accuracy: 0.4444\n"
     ]
    },
    {
     "name": "stderr",
     "output_type": "stream",
     "text": [
      "\u001b[32m[I 2022-05-31 17:13:59,044]\u001b[0m Trial 37 finished with value: 0.4444444477558136 and parameters: {'n_layers': 5, 'n_units': 100, 'dropout': 0.4, 'optimizer': 'RMSprop'}. Best is trial 0 with value: 0.4444444477558136.\u001b[0m\n"
     ]
    },
    {
     "name": "stdout",
     "output_type": "stream",
     "text": [
      "1/1 [==============================] - 0s 34ms/step - loss: 0.0000e+00 - accuracy: 0.4444\n"
     ]
    },
    {
     "name": "stderr",
     "output_type": "stream",
     "text": [
      "\u001b[32m[I 2022-05-31 17:14:00,313]\u001b[0m Trial 38 finished with value: 0.4444444477558136 and parameters: {'n_layers': 5, 'n_units': 100, 'dropout': 0.2, 'optimizer': 'Adam'}. Best is trial 0 with value: 0.4444444477558136.\u001b[0m\n"
     ]
    },
    {
     "name": "stdout",
     "output_type": "stream",
     "text": [
      "1/1 [==============================] - 0s 33ms/step - loss: 0.0000e+00 - accuracy: 0.4444\n"
     ]
    },
    {
     "name": "stderr",
     "output_type": "stream",
     "text": [
      "\u001b[32m[I 2022-05-31 17:14:01,807]\u001b[0m Trial 39 finished with value: 0.4444444477558136 and parameters: {'n_layers': 5, 'n_units': 150, 'dropout': 0.30000000000000004, 'optimizer': 'RMSprop'}. Best is trial 0 with value: 0.4444444477558136.\u001b[0m\n"
     ]
    },
    {
     "name": "stdout",
     "output_type": "stream",
     "text": [
      "1/1 [==============================] - 0s 16ms/step - loss: 0.0000e+00 - accuracy: 0.4444\n"
     ]
    },
    {
     "name": "stderr",
     "output_type": "stream",
     "text": [
      "\u001b[32m[I 2022-05-31 17:14:02,997]\u001b[0m Trial 40 finished with value: 0.4444444477558136 and parameters: {'n_layers': 4, 'n_units': 50, 'dropout': 0.5, 'optimizer': 'Adam'}. Best is trial 0 with value: 0.4444444477558136.\u001b[0m\n"
     ]
    },
    {
     "name": "stdout",
     "output_type": "stream",
     "text": [
      "1/1 [==============================] - 0s 31ms/step - loss: 0.0000e+00 - accuracy: 0.4444\n"
     ]
    },
    {
     "name": "stderr",
     "output_type": "stream",
     "text": [
      "\u001b[32m[I 2022-05-31 17:14:03,857]\u001b[0m Trial 41 finished with value: 0.4444444477558136 and parameters: {'n_layers': 4, 'n_units': 150, 'dropout': 0.2, 'optimizer': 'Adam'}. Best is trial 0 with value: 0.4444444477558136.\u001b[0m\n"
     ]
    },
    {
     "name": "stdout",
     "output_type": "stream",
     "text": [
      "1/1 [==============================] - 0s 16ms/step - loss: 0.0000e+00 - accuracy: 0.4444\n"
     ]
    },
    {
     "name": "stderr",
     "output_type": "stream",
     "text": [
      "\u001b[32m[I 2022-05-31 17:14:04,709]\u001b[0m Trial 42 finished with value: 0.4444444477558136 and parameters: {'n_layers': 4, 'n_units': 150, 'dropout': 0.1, 'optimizer': 'Adam'}. Best is trial 0 with value: 0.4444444477558136.\u001b[0m\n"
     ]
    },
    {
     "name": "stdout",
     "output_type": "stream",
     "text": [
      "1/1 [==============================] - 0s 18ms/step - loss: 0.0000e+00 - accuracy: 0.4444\n"
     ]
    },
    {
     "name": "stderr",
     "output_type": "stream",
     "text": [
      "\u001b[32m[I 2022-05-31 17:14:05,809]\u001b[0m Trial 43 finished with value: 0.4444444477558136 and parameters: {'n_layers': 4, 'n_units': 150, 'dropout': 0.1, 'optimizer': 'Adam'}. Best is trial 0 with value: 0.4444444477558136.\u001b[0m\n"
     ]
    },
    {
     "name": "stdout",
     "output_type": "stream",
     "text": [
      "1/1 [==============================] - 0s 4ms/step - loss: 0.0000e+00 - accuracy: 0.4444\n"
     ]
    },
    {
     "name": "stderr",
     "output_type": "stream",
     "text": [
      "\u001b[32m[I 2022-05-31 17:14:06,874]\u001b[0m Trial 44 finished with value: 0.4444444477558136 and parameters: {'n_layers': 5, 'n_units': 50, 'dropout': 0.0, 'optimizer': 'Adam'}. Best is trial 0 with value: 0.4444444477558136.\u001b[0m\n"
     ]
    },
    {
     "name": "stdout",
     "output_type": "stream",
     "text": [
      "1/1 [==============================] - 0s 16ms/step - loss: 0.0000e+00 - accuracy: 0.4444\n"
     ]
    },
    {
     "name": "stderr",
     "output_type": "stream",
     "text": [
      "\u001b[32m[I 2022-05-31 17:14:07,809]\u001b[0m Trial 45 finished with value: 0.4444444477558136 and parameters: {'n_layers': 4, 'n_units': 50, 'dropout': 0.0, 'optimizer': 'Adam'}. Best is trial 0 with value: 0.4444444477558136.\u001b[0m\n"
     ]
    },
    {
     "name": "stdout",
     "output_type": "stream",
     "text": [
      "1/1 [==============================] - 0s 31ms/step - loss: 0.0000e+00 - accuracy: 0.4444\n"
     ]
    },
    {
     "name": "stderr",
     "output_type": "stream",
     "text": [
      "\u001b[32m[I 2022-05-31 17:14:08,893]\u001b[0m Trial 46 finished with value: 0.4444444477558136 and parameters: {'n_layers': 4, 'n_units': 250, 'dropout': 0.2, 'optimizer': 'Adam'}. Best is trial 0 with value: 0.4444444477558136.\u001b[0m\n"
     ]
    },
    {
     "name": "stdout",
     "output_type": "stream",
     "text": [
      "1/1 [==============================] - 0s 16ms/step - loss: 0.0000e+00 - accuracy: 0.4444\n"
     ]
    },
    {
     "name": "stderr",
     "output_type": "stream",
     "text": [
      "\u001b[32m[I 2022-05-31 17:14:09,943]\u001b[0m Trial 47 finished with value: 0.4444444477558136 and parameters: {'n_layers': 4, 'n_units': 200, 'dropout': 0.1, 'optimizer': 'RMSprop'}. Best is trial 0 with value: 0.4444444477558136.\u001b[0m\n"
     ]
    },
    {
     "name": "stdout",
     "output_type": "stream",
     "text": [
      "1/1 [==============================] - 0s 12ms/step - loss: 0.0000e+00 - accuracy: 0.4444\n"
     ]
    },
    {
     "name": "stderr",
     "output_type": "stream",
     "text": [
      "\u001b[32m[I 2022-05-31 17:14:11,031]\u001b[0m Trial 48 finished with value: 0.4444444477558136 and parameters: {'n_layers': 4, 'n_units': 50, 'dropout': 0.2, 'optimizer': 'Adam'}. Best is trial 0 with value: 0.4444444477558136.\u001b[0m\n"
     ]
    },
    {
     "name": "stdout",
     "output_type": "stream",
     "text": [
      "1/1 [==============================] - 0s 16ms/step - loss: 0.0000e+00 - accuracy: 0.4444\n"
     ]
    },
    {
     "name": "stderr",
     "output_type": "stream",
     "text": [
      "\u001b[32m[I 2022-05-31 17:14:12,195]\u001b[0m Trial 49 finished with value: 0.4444444477558136 and parameters: {'n_layers': 3, 'n_units': 250, 'dropout': 0.1, 'optimizer': 'Adam'}. Best is trial 0 with value: 0.4444444477558136.\u001b[0m\n"
     ]
    },
    {
     "name": "stdout",
     "output_type": "stream",
     "text": [
      "1/1 [==============================] - 0s 16ms/step - loss: 0.0000e+00 - accuracy: 0.4444\n"
     ]
    },
    {
     "name": "stderr",
     "output_type": "stream",
     "text": [
      "\u001b[32m[I 2022-05-31 17:14:12,890]\u001b[0m Trial 50 finished with value: 0.4444444477558136 and parameters: {'n_layers': 3, 'n_units': 200, 'dropout': 0.0, 'optimizer': 'SGD'}. Best is trial 0 with value: 0.4444444477558136.\u001b[0m\n"
     ]
    },
    {
     "name": "stdout",
     "output_type": "stream",
     "text": [
      "1/1 [==============================] - 0s 16ms/step - loss: 0.0000e+00 - accuracy: 0.4444\n"
     ]
    },
    {
     "name": "stderr",
     "output_type": "stream",
     "text": [
      "\u001b[32m[I 2022-05-31 17:14:13,616]\u001b[0m Trial 51 finished with value: 0.4444444477558136 and parameters: {'n_layers': 3, 'n_units': 50, 'dropout': 0.0, 'optimizer': 'Adam'}. Best is trial 0 with value: 0.4444444477558136.\u001b[0m\n"
     ]
    },
    {
     "name": "stdout",
     "output_type": "stream",
     "text": [
      "1/1 [==============================] - 0s 16ms/step - loss: 0.0000e+00 - accuracy: 0.4444\n"
     ]
    },
    {
     "name": "stderr",
     "output_type": "stream",
     "text": [
      "\u001b[32m[I 2022-05-31 17:14:14,486]\u001b[0m Trial 52 finished with value: 0.4444444477558136 and parameters: {'n_layers': 4, 'n_units': 50, 'dropout': 0.2, 'optimizer': 'Adam'}. Best is trial 0 with value: 0.4444444477558136.\u001b[0m\n"
     ]
    },
    {
     "name": "stdout",
     "output_type": "stream",
     "text": [
      "1/1 [==============================] - 0s 16ms/step - loss: 0.0000e+00 - accuracy: 0.4444\n"
     ]
    },
    {
     "name": "stderr",
     "output_type": "stream",
     "text": [
      "\u001b[32m[I 2022-05-31 17:14:15,352]\u001b[0m Trial 53 finished with value: 0.4444444477558136 and parameters: {'n_layers': 4, 'n_units': 200, 'dropout': 0.2, 'optimizer': 'Adam'}. Best is trial 0 with value: 0.4444444477558136.\u001b[0m\n"
     ]
    },
    {
     "name": "stdout",
     "output_type": "stream",
     "text": [
      "1/1 [==============================] - 0s 16ms/step - loss: 0.0000e+00 - accuracy: 0.4444\n"
     ]
    },
    {
     "name": "stderr",
     "output_type": "stream",
     "text": [
      "\u001b[32m[I 2022-05-31 17:14:16,083]\u001b[0m Trial 54 finished with value: 0.4444444477558136 and parameters: {'n_layers': 3, 'n_units': 250, 'dropout': 0.0, 'optimizer': 'Adam'}. Best is trial 0 with value: 0.4444444477558136.\u001b[0m\n"
     ]
    },
    {
     "name": "stdout",
     "output_type": "stream",
     "text": [
      "1/1 [==============================] - 0s 31ms/step - loss: 0.0000e+00 - accuracy: 0.4444\n"
     ]
    },
    {
     "name": "stderr",
     "output_type": "stream",
     "text": [
      "\u001b[32m[I 2022-05-31 17:14:16,872]\u001b[0m Trial 55 finished with value: 0.4444444477558136 and parameters: {'n_layers': 3, 'n_units': 250, 'dropout': 0.1, 'optimizer': 'Adam'}. Best is trial 0 with value: 0.4444444477558136.\u001b[0m\n"
     ]
    },
    {
     "name": "stdout",
     "output_type": "stream",
     "text": [
      "1/1 [==============================] - 0s 24ms/step - loss: 0.0000e+00 - accuracy: 0.4444\n"
     ]
    },
    {
     "name": "stderr",
     "output_type": "stream",
     "text": [
      "\u001b[32m[I 2022-05-31 17:14:17,740]\u001b[0m Trial 56 finished with value: 0.4444444477558136 and parameters: {'n_layers': 3, 'n_units': 200, 'dropout': 0.0, 'optimizer': 'RMSprop'}. Best is trial 0 with value: 0.4444444477558136.\u001b[0m\n"
     ]
    },
    {
     "name": "stdout",
     "output_type": "stream",
     "text": [
      "1/1 [==============================] - 0s 31ms/step - loss: 0.0000e+00 - accuracy: 0.4444\n"
     ]
    },
    {
     "name": "stderr",
     "output_type": "stream",
     "text": [
      "\u001b[32m[I 2022-05-31 17:14:18,576]\u001b[0m Trial 57 finished with value: 0.4444444477558136 and parameters: {'n_layers': 2, 'n_units': 200, 'dropout': 0.0, 'optimizer': 'RMSprop'}. Best is trial 0 with value: 0.4444444477558136.\u001b[0m\n"
     ]
    },
    {
     "name": "stdout",
     "output_type": "stream",
     "text": [
      "1/1 [==============================] - 0s 17ms/step - loss: 0.0000e+00 - accuracy: 0.4444\n"
     ]
    },
    {
     "name": "stderr",
     "output_type": "stream",
     "text": [
      "\u001b[32m[I 2022-05-31 17:14:20,161]\u001b[0m Trial 58 finished with value: 0.4444444477558136 and parameters: {'n_layers': 3, 'n_units': 250, 'dropout': 0.30000000000000004, 'optimizer': 'RMSprop'}. Best is trial 0 with value: 0.4444444477558136.\u001b[0m\n"
     ]
    },
    {
     "name": "stdout",
     "output_type": "stream",
     "text": [
      "1/1 [==============================] - 0s 16ms/step - loss: 0.0000e+00 - accuracy: 0.4444\n"
     ]
    },
    {
     "name": "stderr",
     "output_type": "stream",
     "text": [
      "\u001b[32m[I 2022-05-31 17:14:21,313]\u001b[0m Trial 59 finished with value: 0.4444444477558136 and parameters: {'n_layers': 2, 'n_units': 100, 'dropout': 0.30000000000000004, 'optimizer': 'RMSprop'}. Best is trial 0 with value: 0.4444444477558136.\u001b[0m\n"
     ]
    },
    {
     "name": "stdout",
     "output_type": "stream",
     "text": [
      "1/1 [==============================] - 0s 16ms/step - loss: 0.0000e+00 - accuracy: 0.4444\n"
     ]
    },
    {
     "name": "stderr",
     "output_type": "stream",
     "text": [
      "\u001b[32m[I 2022-05-31 17:14:22,431]\u001b[0m Trial 60 finished with value: 0.4444444477558136 and parameters: {'n_layers': 3, 'n_units': 100, 'dropout': 0.30000000000000004, 'optimizer': 'RMSprop'}. Best is trial 0 with value: 0.4444444477558136.\u001b[0m\n"
     ]
    },
    {
     "name": "stdout",
     "output_type": "stream",
     "text": [
      "1/1 [==============================] - 0s 32ms/step - loss: 0.0000e+00 - accuracy: 0.4444\n"
     ]
    },
    {
     "name": "stderr",
     "output_type": "stream",
     "text": [
      "\u001b[32m[I 2022-05-31 17:14:23,704]\u001b[0m Trial 61 finished with value: 0.4444444477558136 and parameters: {'n_layers': 5, 'n_units': 100, 'dropout': 0.4, 'optimizer': 'RMSprop'}. Best is trial 0 with value: 0.4444444477558136.\u001b[0m\n"
     ]
    },
    {
     "name": "stdout",
     "output_type": "stream",
     "text": [
      "1/1 [==============================] - 0s 16ms/step - loss: 0.0000e+00 - accuracy: 0.4444\n"
     ]
    },
    {
     "name": "stderr",
     "output_type": "stream",
     "text": [
      "\u001b[32m[I 2022-05-31 17:14:24,851]\u001b[0m Trial 62 finished with value: 0.4444444477558136 and parameters: {'n_layers': 5, 'n_units': 100, 'dropout': 0.4, 'optimizer': 'RMSprop'}. Best is trial 0 with value: 0.4444444477558136.\u001b[0m\n"
     ]
    },
    {
     "name": "stdout",
     "output_type": "stream",
     "text": [
      "1/1 [==============================] - 0s 16ms/step - loss: 0.0000e+00 - accuracy: 0.4444\n"
     ]
    },
    {
     "name": "stderr",
     "output_type": "stream",
     "text": [
      "\u001b[32m[I 2022-05-31 17:14:25,980]\u001b[0m Trial 63 finished with value: 0.4444444477558136 and parameters: {'n_layers': 5, 'n_units': 100, 'dropout': 0.4, 'optimizer': 'RMSprop'}. Best is trial 0 with value: 0.4444444477558136.\u001b[0m\n"
     ]
    },
    {
     "name": "stdout",
     "output_type": "stream",
     "text": [
      "1/1 [==============================] - 0s 16ms/step - loss: 0.0000e+00 - accuracy: 0.4444\n"
     ]
    },
    {
     "name": "stderr",
     "output_type": "stream",
     "text": [
      "\u001b[32m[I 2022-05-31 17:14:27,051]\u001b[0m Trial 64 finished with value: 0.4444444477558136 and parameters: {'n_layers': 5, 'n_units': 100, 'dropout': 0.30000000000000004, 'optimizer': 'RMSprop'}. Best is trial 0 with value: 0.4444444477558136.\u001b[0m\n"
     ]
    },
    {
     "name": "stdout",
     "output_type": "stream",
     "text": [
      "1/1 [==============================] - 0s 16ms/step - loss: 0.0000e+00 - accuracy: 0.4444\n"
     ]
    },
    {
     "name": "stderr",
     "output_type": "stream",
     "text": [
      "\u001b[32m[I 2022-05-31 17:14:28,165]\u001b[0m Trial 65 finished with value: 0.4444444477558136 and parameters: {'n_layers': 5, 'n_units': 100, 'dropout': 0.30000000000000004, 'optimizer': 'RMSprop'}. Best is trial 0 with value: 0.4444444477558136.\u001b[0m\n"
     ]
    },
    {
     "name": "stdout",
     "output_type": "stream",
     "text": [
      "1/1 [==============================] - 0s 16ms/step - loss: 0.0000e+00 - accuracy: 0.4444\n"
     ]
    },
    {
     "name": "stderr",
     "output_type": "stream",
     "text": [
      "\u001b[32m[I 2022-05-31 17:14:29,233]\u001b[0m Trial 66 finished with value: 0.4444444477558136 and parameters: {'n_layers': 5, 'n_units': 100, 'dropout': 0.5, 'optimizer': 'SGD'}. Best is trial 0 with value: 0.4444444477558136.\u001b[0m\n"
     ]
    },
    {
     "name": "stdout",
     "output_type": "stream",
     "text": [
      "1/1 [==============================] - 0s 31ms/step - loss: 0.0000e+00 - accuracy: 0.4444\n"
     ]
    },
    {
     "name": "stderr",
     "output_type": "stream",
     "text": [
      "\u001b[32m[I 2022-05-31 17:14:30,373]\u001b[0m Trial 67 finished with value: 0.4444444477558136 and parameters: {'n_layers': 5, 'n_units': 100, 'dropout': 0.5, 'optimizer': 'RMSprop'}. Best is trial 0 with value: 0.4444444477558136.\u001b[0m\n"
     ]
    },
    {
     "name": "stdout",
     "output_type": "stream",
     "text": [
      "1/1 [==============================] - 0s 16ms/step - loss: 0.0000e+00 - accuracy: 0.4444\n"
     ]
    },
    {
     "name": "stderr",
     "output_type": "stream",
     "text": [
      "\u001b[32m[I 2022-05-31 17:14:31,263]\u001b[0m Trial 68 finished with value: 0.4444444477558136 and parameters: {'n_layers': 5, 'n_units': 150, 'dropout': 0.5, 'optimizer': 'SGD'}. Best is trial 0 with value: 0.4444444477558136.\u001b[0m\n"
     ]
    },
    {
     "name": "stdout",
     "output_type": "stream",
     "text": [
      "1/1 [==============================] - 0s 16ms/step - loss: 0.0000e+00 - accuracy: 0.4444\n"
     ]
    },
    {
     "name": "stderr",
     "output_type": "stream",
     "text": [
      "\u001b[32m[I 2022-05-31 17:14:32,174]\u001b[0m Trial 69 finished with value: 0.4444444477558136 and parameters: {'n_layers': 5, 'n_units': 150, 'dropout': 0.4, 'optimizer': 'Adam'}. Best is trial 0 with value: 0.4444444477558136.\u001b[0m\n"
     ]
    },
    {
     "name": "stdout",
     "output_type": "stream",
     "text": [
      "1/1 [==============================] - 0s 16ms/step - loss: 0.0000e+00 - accuracy: 0.4444\n"
     ]
    },
    {
     "name": "stderr",
     "output_type": "stream",
     "text": [
      "\u001b[32m[I 2022-05-31 17:14:33,008]\u001b[0m Trial 70 finished with value: 0.4444444477558136 and parameters: {'n_layers': 4, 'n_units': 150, 'dropout': 0.5, 'optimizer': 'Adam'}. Best is trial 0 with value: 0.4444444477558136.\u001b[0m\n"
     ]
    },
    {
     "name": "stdout",
     "output_type": "stream",
     "text": [
      "1/1 [==============================] - 0s 16ms/step - loss: 0.0000e+00 - accuracy: 0.4444\n"
     ]
    },
    {
     "name": "stderr",
     "output_type": "stream",
     "text": [
      "\u001b[32m[I 2022-05-31 17:14:33,671]\u001b[0m Trial 71 finished with value: 0.4444444477558136 and parameters: {'n_layers': 3, 'n_units': 250, 'dropout': 0.0, 'optimizer': 'SGD'}. Best is trial 0 with value: 0.4444444477558136.\u001b[0m\n"
     ]
    },
    {
     "name": "stdout",
     "output_type": "stream",
     "text": [
      "1/1 [==============================] - 0s 16ms/step - loss: 0.0000e+00 - accuracy: 0.4444\n"
     ]
    },
    {
     "name": "stderr",
     "output_type": "stream",
     "text": [
      "\u001b[32m[I 2022-05-31 17:14:34,457]\u001b[0m Trial 72 finished with value: 0.4444444477558136 and parameters: {'n_layers': 4, 'n_units': 250, 'dropout': 0.2, 'optimizer': 'SGD'}. Best is trial 0 with value: 0.4444444477558136.\u001b[0m\n"
     ]
    },
    {
     "name": "stdout",
     "output_type": "stream",
     "text": [
      "1/1 [==============================] - 0s 16ms/step - loss: 0.0000e+00 - accuracy: 0.4444\n"
     ]
    },
    {
     "name": "stderr",
     "output_type": "stream",
     "text": [
      "\u001b[32m[I 2022-05-31 17:14:35,273]\u001b[0m Trial 73 finished with value: 0.4444444477558136 and parameters: {'n_layers': 3, 'n_units': 200, 'dropout': 0.1, 'optimizer': 'SGD'}. Best is trial 0 with value: 0.4444444477558136.\u001b[0m\n"
     ]
    },
    {
     "name": "stdout",
     "output_type": "stream",
     "text": [
      "1/1 [==============================] - 0s 16ms/step - loss: 0.0000e+00 - accuracy: 0.4444\n"
     ]
    },
    {
     "name": "stderr",
     "output_type": "stream",
     "text": [
      "\u001b[32m[I 2022-05-31 17:14:36,132]\u001b[0m Trial 74 finished with value: 0.4444444477558136 and parameters: {'n_layers': 4, 'n_units': 200, 'dropout': 0.1, 'optimizer': 'Adam'}. Best is trial 0 with value: 0.4444444477558136.\u001b[0m\n"
     ]
    },
    {
     "name": "stdout",
     "output_type": "stream",
     "text": [
      "1/1 [==============================] - 0s 16ms/step - loss: 0.0000e+00 - accuracy: 0.4444\n"
     ]
    },
    {
     "name": "stderr",
     "output_type": "stream",
     "text": [
      "\u001b[32m[I 2022-05-31 17:14:37,167]\u001b[0m Trial 75 finished with value: 0.4444444477558136 and parameters: {'n_layers': 4, 'n_units': 200, 'dropout': 0.2, 'optimizer': 'SGD'}. Best is trial 0 with value: 0.4444444477558136.\u001b[0m\n"
     ]
    },
    {
     "name": "stdout",
     "output_type": "stream",
     "text": [
      "1/1 [==============================] - 0s 31ms/step - loss: 0.0000e+00 - accuracy: 0.4444\n"
     ]
    },
    {
     "name": "stderr",
     "output_type": "stream",
     "text": [
      "\u001b[32m[I 2022-05-31 17:14:37,914]\u001b[0m Trial 76 finished with value: 0.4444444477558136 and parameters: {'n_layers': 3, 'n_units': 250, 'dropout': 0.0, 'optimizer': 'Adam'}. Best is trial 0 with value: 0.4444444477558136.\u001b[0m\n"
     ]
    },
    {
     "name": "stdout",
     "output_type": "stream",
     "text": [
      "1/1 [==============================] - 0s 16ms/step - loss: 0.0000e+00 - accuracy: 0.4444\n"
     ]
    },
    {
     "name": "stderr",
     "output_type": "stream",
     "text": [
      "\u001b[32m[I 2022-05-31 17:14:38,675]\u001b[0m Trial 77 finished with value: 0.4444444477558136 and parameters: {'n_layers': 3, 'n_units': 50, 'dropout': 0.2, 'optimizer': 'Adam'}. Best is trial 0 with value: 0.4444444477558136.\u001b[0m\n"
     ]
    },
    {
     "name": "stdout",
     "output_type": "stream",
     "text": [
      "1/1 [==============================] - 0s 16ms/step - loss: 0.0000e+00 - accuracy: 0.4444\n"
     ]
    },
    {
     "name": "stderr",
     "output_type": "stream",
     "text": [
      "\u001b[32m[I 2022-05-31 17:14:39,383]\u001b[0m Trial 78 finished with value: 0.4444444477558136 and parameters: {'n_layers': 3, 'n_units': 250, 'dropout': 0.0, 'optimizer': 'Adam'}. Best is trial 0 with value: 0.4444444477558136.\u001b[0m\n"
     ]
    },
    {
     "name": "stdout",
     "output_type": "stream",
     "text": [
      "1/1 [==============================] - 0s 16ms/step - loss: 0.0000e+00 - accuracy: 0.4444\n"
     ]
    },
    {
     "name": "stderr",
     "output_type": "stream",
     "text": [
      "\u001b[32m[I 2022-05-31 17:14:40,076]\u001b[0m Trial 79 finished with value: 0.4444444477558136 and parameters: {'n_layers': 3, 'n_units': 200, 'dropout': 0.0, 'optimizer': 'Adam'}. Best is trial 0 with value: 0.4444444477558136.\u001b[0m\n"
     ]
    },
    {
     "name": "stdout",
     "output_type": "stream",
     "text": [
      "1/1 [==============================] - 0s 16ms/step - loss: 0.0000e+00 - accuracy: 0.4444\n"
     ]
    },
    {
     "name": "stderr",
     "output_type": "stream",
     "text": [
      "\u001b[32m[I 2022-05-31 17:14:40,753]\u001b[0m Trial 80 finished with value: 0.4444444477558136 and parameters: {'n_layers': 2, 'n_units': 200, 'dropout': 0.0, 'optimizer': 'Adam'}. Best is trial 0 with value: 0.4444444477558136.\u001b[0m\n"
     ]
    },
    {
     "name": "stdout",
     "output_type": "stream",
     "text": [
      "1/1 [==============================] - 0s 16ms/step - loss: 0.0000e+00 - accuracy: 0.4444\n"
     ]
    },
    {
     "name": "stderr",
     "output_type": "stream",
     "text": [
      "\u001b[32m[I 2022-05-31 17:14:41,497]\u001b[0m Trial 81 finished with value: 0.4444444477558136 and parameters: {'n_layers': 2, 'n_units': 250, 'dropout': 0.0, 'optimizer': 'RMSprop'}. Best is trial 0 with value: 0.4444444477558136.\u001b[0m\n"
     ]
    },
    {
     "name": "stdout",
     "output_type": "stream",
     "text": [
      "1/1 [==============================] - 0s 16ms/step - loss: 0.0000e+00 - accuracy: 0.4444\n"
     ]
    },
    {
     "name": "stderr",
     "output_type": "stream",
     "text": [
      "\u001b[32m[I 2022-05-31 17:14:42,288]\u001b[0m Trial 82 finished with value: 0.4444444477558136 and parameters: {'n_layers': 2, 'n_units': 200, 'dropout': 0.30000000000000004, 'optimizer': 'RMSprop'}. Best is trial 0 with value: 0.4444444477558136.\u001b[0m\n"
     ]
    },
    {
     "name": "stdout",
     "output_type": "stream",
     "text": [
      "1/1 [==============================] - 0s 16ms/step - loss: 0.0000e+00 - accuracy: 0.4444\n"
     ]
    },
    {
     "name": "stderr",
     "output_type": "stream",
     "text": [
      "\u001b[32m[I 2022-05-31 17:14:43,080]\u001b[0m Trial 83 finished with value: 0.4444444477558136 and parameters: {'n_layers': 2, 'n_units': 250, 'dropout': 0.30000000000000004, 'optimizer': 'RMSprop'}. Best is trial 0 with value: 0.4444444477558136.\u001b[0m\n"
     ]
    },
    {
     "name": "stdout",
     "output_type": "stream",
     "text": [
      "1/1 [==============================] - 0s 16ms/step - loss: 0.0000e+00 - accuracy: 0.4444\n"
     ]
    },
    {
     "name": "stderr",
     "output_type": "stream",
     "text": [
      "\u001b[32m[I 2022-05-31 17:14:43,869]\u001b[0m Trial 84 finished with value: 0.4444444477558136 and parameters: {'n_layers': 2, 'n_units': 250, 'dropout': 0.30000000000000004, 'optimizer': 'RMSprop'}. Best is trial 0 with value: 0.4444444477558136.\u001b[0m\n"
     ]
    },
    {
     "name": "stdout",
     "output_type": "stream",
     "text": [
      "1/1 [==============================] - 0s 16ms/step - loss: 0.0000e+00 - accuracy: 0.4444\n"
     ]
    },
    {
     "name": "stderr",
     "output_type": "stream",
     "text": [
      "\u001b[32m[I 2022-05-31 17:14:44,699]\u001b[0m Trial 85 finished with value: 0.4444444477558136 and parameters: {'n_layers': 2, 'n_units': 250, 'dropout': 0.30000000000000004, 'optimizer': 'RMSprop'}. Best is trial 0 with value: 0.4444444477558136.\u001b[0m\n"
     ]
    },
    {
     "name": "stdout",
     "output_type": "stream",
     "text": [
      "1/1 [==============================] - 0s 16ms/step - loss: 0.0000e+00 - accuracy: 0.4444\n"
     ]
    },
    {
     "name": "stderr",
     "output_type": "stream",
     "text": [
      "\u001b[32m[I 2022-05-31 17:14:45,843]\u001b[0m Trial 86 finished with value: 0.4444444477558136 and parameters: {'n_layers': 3, 'n_units': 250, 'dropout': 0.30000000000000004, 'optimizer': 'RMSprop'}. Best is trial 0 with value: 0.4444444477558136.\u001b[0m\n"
     ]
    },
    {
     "name": "stdout",
     "output_type": "stream",
     "text": [
      "1/1 [==============================] - 0s 16ms/step - loss: 0.0000e+00 - accuracy: 0.4444\n"
     ]
    },
    {
     "name": "stderr",
     "output_type": "stream",
     "text": [
      "\u001b[32m[I 2022-05-31 17:14:46,671]\u001b[0m Trial 87 finished with value: 0.4444444477558136 and parameters: {'n_layers': 2, 'n_units': 100, 'dropout': 0.4, 'optimizer': 'RMSprop'}. Best is trial 0 with value: 0.4444444477558136.\u001b[0m\n"
     ]
    },
    {
     "name": "stdout",
     "output_type": "stream",
     "text": [
      "1/1 [==============================] - 0s 16ms/step - loss: 0.0000e+00 - accuracy: 0.4444\n"
     ]
    },
    {
     "name": "stderr",
     "output_type": "stream",
     "text": [
      "\u001b[32m[I 2022-05-31 17:14:47,452]\u001b[0m Trial 88 finished with value: 0.4444444477558136 and parameters: {'n_layers': 2, 'n_units': 100, 'dropout': 0.4, 'optimizer': 'RMSprop'}. Best is trial 0 with value: 0.4444444477558136.\u001b[0m\n"
     ]
    },
    {
     "name": "stdout",
     "output_type": "stream",
     "text": [
      "1/1 [==============================] - 0s 15ms/step - loss: 0.0000e+00 - accuracy: 0.4444\n"
     ]
    },
    {
     "name": "stderr",
     "output_type": "stream",
     "text": [
      "\u001b[32m[I 2022-05-31 17:14:48,496]\u001b[0m Trial 89 finished with value: 0.4444444477558136 and parameters: {'n_layers': 2, 'n_units': 100, 'dropout': 0.4, 'optimizer': 'RMSprop'}. Best is trial 0 with value: 0.4444444477558136.\u001b[0m\n"
     ]
    },
    {
     "name": "stdout",
     "output_type": "stream",
     "text": [
      "1/1 [==============================] - 0s 16ms/step - loss: 0.0000e+00 - accuracy: 0.4444\n"
     ]
    },
    {
     "name": "stderr",
     "output_type": "stream",
     "text": [
      "\u001b[32m[I 2022-05-31 17:14:49,688]\u001b[0m Trial 90 finished with value: 0.4444444477558136 and parameters: {'n_layers': 5, 'n_units': 100, 'dropout': 0.4, 'optimizer': 'RMSprop'}. Best is trial 0 with value: 0.4444444477558136.\u001b[0m\n"
     ]
    },
    {
     "name": "stdout",
     "output_type": "stream",
     "text": [
      "1/1 [==============================] - 0s 16ms/step - loss: 0.0000e+00 - accuracy: 0.4444\n"
     ]
    },
    {
     "name": "stderr",
     "output_type": "stream",
     "text": [
      "\u001b[32m[I 2022-05-31 17:14:50,795]\u001b[0m Trial 91 finished with value: 0.4444444477558136 and parameters: {'n_layers': 5, 'n_units': 100, 'dropout': 0.30000000000000004, 'optimizer': 'RMSprop'}. Best is trial 0 with value: 0.4444444477558136.\u001b[0m\n"
     ]
    },
    {
     "name": "stdout",
     "output_type": "stream",
     "text": [
      "1/1 [==============================] - 0s 16ms/step - loss: 0.0000e+00 - accuracy: 0.4444\n"
     ]
    },
    {
     "name": "stderr",
     "output_type": "stream",
     "text": [
      "\u001b[32m[I 2022-05-31 17:14:51,911]\u001b[0m Trial 92 finished with value: 0.4444444477558136 and parameters: {'n_layers': 5, 'n_units': 100, 'dropout': 0.30000000000000004, 'optimizer': 'RMSprop'}. Best is trial 0 with value: 0.4444444477558136.\u001b[0m\n"
     ]
    },
    {
     "name": "stdout",
     "output_type": "stream",
     "text": [
      "1/1 [==============================] - 0s 16ms/step - loss: 0.0000e+00 - accuracy: 0.4444\n"
     ]
    },
    {
     "name": "stderr",
     "output_type": "stream",
     "text": [
      "\u001b[32m[I 2022-05-31 17:14:52,984]\u001b[0m Trial 93 finished with value: 0.4444444477558136 and parameters: {'n_layers': 5, 'n_units': 100, 'dropout': 0.30000000000000004, 'optimizer': 'RMSprop'}. Best is trial 0 with value: 0.4444444477558136.\u001b[0m\n"
     ]
    },
    {
     "name": "stdout",
     "output_type": "stream",
     "text": [
      "1/1 [==============================] - 0s 16ms/step - loss: 0.0000e+00 - accuracy: 0.4444\n"
     ]
    },
    {
     "name": "stderr",
     "output_type": "stream",
     "text": [
      "\u001b[32m[I 2022-05-31 17:14:54,307]\u001b[0m Trial 94 finished with value: 0.4444444477558136 and parameters: {'n_layers': 5, 'n_units': 100, 'dropout': 0.5, 'optimizer': 'RMSprop'}. Best is trial 0 with value: 0.4444444477558136.\u001b[0m\n"
     ]
    },
    {
     "name": "stdout",
     "output_type": "stream",
     "text": [
      "1/1 [==============================] - 0s 16ms/step - loss: 0.0000e+00 - accuracy: 0.4444\n"
     ]
    },
    {
     "name": "stderr",
     "output_type": "stream",
     "text": [
      "\u001b[32m[I 2022-05-31 17:14:55,177]\u001b[0m Trial 95 finished with value: 0.4444444477558136 and parameters: {'n_layers': 5, 'n_units': 100, 'dropout': 0.5, 'optimizer': 'SGD'}. Best is trial 0 with value: 0.4444444477558136.\u001b[0m\n"
     ]
    },
    {
     "name": "stdout",
     "output_type": "stream",
     "text": [
      "1/1 [==============================] - 0s 16ms/step - loss: 0.0000e+00 - accuracy: 0.4444\n"
     ]
    },
    {
     "name": "stderr",
     "output_type": "stream",
     "text": [
      "\u001b[32m[I 2022-05-31 17:14:56,026]\u001b[0m Trial 96 finished with value: 0.4444444477558136 and parameters: {'n_layers': 5, 'n_units': 150, 'dropout': 0.5, 'optimizer': 'SGD'}. Best is trial 0 with value: 0.4444444477558136.\u001b[0m\n"
     ]
    },
    {
     "name": "stdout",
     "output_type": "stream",
     "text": [
      "1/1 [==============================] - 0s 16ms/step - loss: 0.0000e+00 - accuracy: 0.4444\n"
     ]
    },
    {
     "name": "stderr",
     "output_type": "stream",
     "text": [
      "\u001b[32m[I 2022-05-31 17:14:56,893]\u001b[0m Trial 97 finished with value: 0.4444444477558136 and parameters: {'n_layers': 5, 'n_units': 100, 'dropout': 0.5, 'optimizer': 'SGD'}. Best is trial 0 with value: 0.4444444477558136.\u001b[0m\n"
     ]
    },
    {
     "name": "stdout",
     "output_type": "stream",
     "text": [
      "1/1 [==============================] - 0s 16ms/step - loss: 0.0000e+00 - accuracy: 0.4444\n"
     ]
    },
    {
     "name": "stderr",
     "output_type": "stream",
     "text": [
      "\u001b[32m[I 2022-05-31 17:14:57,736]\u001b[0m Trial 98 finished with value: 0.4444444477558136 and parameters: {'n_layers': 5, 'n_units': 150, 'dropout': 0.5, 'optimizer': 'SGD'}. Best is trial 0 with value: 0.4444444477558136.\u001b[0m\n"
     ]
    },
    {
     "name": "stdout",
     "output_type": "stream",
     "text": [
      "1/1 [==============================] - 0s 16ms/step - loss: 0.0000e+00 - accuracy: 0.4444\n"
     ]
    },
    {
     "name": "stderr",
     "output_type": "stream",
     "text": [
      "\u001b[32m[I 2022-05-31 17:14:58,662]\u001b[0m Trial 99 finished with value: 0.4444444477558136 and parameters: {'n_layers': 5, 'n_units': 150, 'dropout': 0.5, 'optimizer': 'SGD'}. Best is trial 0 with value: 0.4444444477558136.\u001b[0m\n"
     ]
    },
    {
     "name": "stdout",
     "output_type": "stream",
     "text": [
      "1/1 [==============================] - 0s 16ms/step - loss: 0.0000e+00 - accuracy: 0.4444\n"
     ]
    },
    {
     "name": "stderr",
     "output_type": "stream",
     "text": [
      "\u001b[32m[I 2022-05-31 17:14:59,906]\u001b[0m Trial 100 finished with value: 0.4444444477558136 and parameters: {'n_layers': 5, 'n_units': 150, 'dropout': 0.5, 'optimizer': 'SGD'}. Best is trial 0 with value: 0.4444444477558136.\u001b[0m\n"
     ]
    },
    {
     "name": "stdout",
     "output_type": "stream",
     "text": [
      "1/1 [==============================] - 0s 16ms/step - loss: 0.0000e+00 - accuracy: 0.4444\n"
     ]
    },
    {
     "name": "stderr",
     "output_type": "stream",
     "text": [
      "\u001b[32m[I 2022-05-31 17:15:00,790]\u001b[0m Trial 101 finished with value: 0.4444444477558136 and parameters: {'n_layers': 5, 'n_units': 150, 'dropout': 0.5, 'optimizer': 'SGD'}. Best is trial 0 with value: 0.4444444477558136.\u001b[0m\n"
     ]
    },
    {
     "name": "stdout",
     "output_type": "stream",
     "text": [
      "1/1 [==============================] - 0s 16ms/step - loss: 0.0000e+00 - accuracy: 0.4444\n"
     ]
    },
    {
     "name": "stderr",
     "output_type": "stream",
     "text": [
      "\u001b[32m[I 2022-05-31 17:15:01,639]\u001b[0m Trial 102 finished with value: 0.4444444477558136 and parameters: {'n_layers': 5, 'n_units': 150, 'dropout': 0.5, 'optimizer': 'SGD'}. Best is trial 0 with value: 0.4444444477558136.\u001b[0m\n"
     ]
    },
    {
     "name": "stdout",
     "output_type": "stream",
     "text": [
      "1/1 [==============================] - 0s 16ms/step - loss: 0.0000e+00 - accuracy: 0.4444\n"
     ]
    },
    {
     "name": "stderr",
     "output_type": "stream",
     "text": [
      "\u001b[32m[I 2022-05-31 17:15:02,695]\u001b[0m Trial 103 finished with value: 0.4444444477558136 and parameters: {'n_layers': 4, 'n_units': 150, 'dropout': 0.5, 'optimizer': 'SGD'}. Best is trial 0 with value: 0.4444444477558136.\u001b[0m\n"
     ]
    },
    {
     "name": "stdout",
     "output_type": "stream",
     "text": [
      "1/1 [==============================] - 0s 16ms/step - loss: 0.0000e+00 - accuracy: 0.4444\n"
     ]
    },
    {
     "name": "stderr",
     "output_type": "stream",
     "text": [
      "\u001b[32m[I 2022-05-31 17:15:03,505]\u001b[0m Trial 104 finished with value: 0.4444444477558136 and parameters: {'n_layers': 4, 'n_units': 200, 'dropout': 0.1, 'optimizer': 'SGD'}. Best is trial 0 with value: 0.4444444477558136.\u001b[0m\n"
     ]
    },
    {
     "name": "stdout",
     "output_type": "stream",
     "text": [
      "1/1 [==============================] - 0s 31ms/step - loss: 0.0000e+00 - accuracy: 0.4444\n"
     ]
    },
    {
     "name": "stderr",
     "output_type": "stream",
     "text": [
      "\u001b[32m[I 2022-05-31 17:15:04,310]\u001b[0m Trial 105 finished with value: 0.4444444477558136 and parameters: {'n_layers': 4, 'n_units': 200, 'dropout': 0.5, 'optimizer': 'SGD'}. Best is trial 0 with value: 0.4444444477558136.\u001b[0m\n"
     ]
    },
    {
     "name": "stdout",
     "output_type": "stream",
     "text": [
      "1/1 [==============================] - 0s 16ms/step - loss: 0.0000e+00 - accuracy: 0.4444\n"
     ]
    },
    {
     "name": "stderr",
     "output_type": "stream",
     "text": [
      "\u001b[32m[I 2022-05-31 17:15:05,093]\u001b[0m Trial 106 finished with value: 0.4444444477558136 and parameters: {'n_layers': 4, 'n_units': 200, 'dropout': 0.1, 'optimizer': 'SGD'}. Best is trial 0 with value: 0.4444444477558136.\u001b[0m\n"
     ]
    },
    {
     "name": "stdout",
     "output_type": "stream",
     "text": [
      "1/1 [==============================] - 0s 16ms/step - loss: 0.0000e+00 - accuracy: 0.4444\n"
     ]
    },
    {
     "name": "stderr",
     "output_type": "stream",
     "text": [
      "\u001b[32m[I 2022-05-31 17:15:05,826]\u001b[0m Trial 107 finished with value: 0.4444444477558136 and parameters: {'n_layers': 3, 'n_units': 200, 'dropout': 0.2, 'optimizer': 'SGD'}. Best is trial 0 with value: 0.4444444477558136.\u001b[0m\n"
     ]
    },
    {
     "name": "stdout",
     "output_type": "stream",
     "text": [
      "1/1 [==============================] - 0s 16ms/step - loss: 0.0000e+00 - accuracy: 0.4444\n"
     ]
    },
    {
     "name": "stderr",
     "output_type": "stream",
     "text": [
      "\u001b[32m[I 2022-05-31 17:15:06,688]\u001b[0m Trial 108 finished with value: 0.4444444477558136 and parameters: {'n_layers': 3, 'n_units': 250, 'dropout': 0.2, 'optimizer': 'Adam'}. Best is trial 0 with value: 0.4444444477558136.\u001b[0m\n"
     ]
    },
    {
     "name": "stdout",
     "output_type": "stream",
     "text": [
      "1/1 [==============================] - 0s 16ms/step - loss: 0.0000e+00 - accuracy: 0.4444\n"
     ]
    },
    {
     "name": "stderr",
     "output_type": "stream",
     "text": [
      "\u001b[32m[I 2022-05-31 17:15:07,504]\u001b[0m Trial 109 finished with value: 0.4444444477558136 and parameters: {'n_layers': 3, 'n_units': 250, 'dropout': 0.2, 'optimizer': 'Adam'}. Best is trial 0 with value: 0.4444444477558136.\u001b[0m\n"
     ]
    },
    {
     "name": "stdout",
     "output_type": "stream",
     "text": [
      "1/1 [==============================] - 0s 16ms/step - loss: 0.0000e+00 - accuracy: 0.4444\n"
     ]
    },
    {
     "name": "stderr",
     "output_type": "stream",
     "text": [
      "\u001b[32m[I 2022-05-31 17:15:08,226]\u001b[0m Trial 110 finished with value: 0.4444444477558136 and parameters: {'n_layers': 3, 'n_units': 200, 'dropout': 0.0, 'optimizer': 'Adam'}. Best is trial 0 with value: 0.4444444477558136.\u001b[0m\n"
     ]
    },
    {
     "name": "stdout",
     "output_type": "stream",
     "text": [
      "1/1 [==============================] - 0s 16ms/step - loss: 0.0000e+00 - accuracy: 0.4444\n"
     ]
    },
    {
     "name": "stderr",
     "output_type": "stream",
     "text": [
      "\u001b[32m[I 2022-05-31 17:15:08,940]\u001b[0m Trial 111 finished with value: 0.4444444477558136 and parameters: {'n_layers': 3, 'n_units': 200, 'dropout': 0.0, 'optimizer': 'Adam'}. Best is trial 0 with value: 0.4444444477558136.\u001b[0m\n"
     ]
    },
    {
     "name": "stdout",
     "output_type": "stream",
     "text": [
      "1/1 [==============================] - 0s 16ms/step - loss: 0.0000e+00 - accuracy: 0.4444\n"
     ]
    },
    {
     "name": "stderr",
     "output_type": "stream",
     "text": [
      "\u001b[32m[I 2022-05-31 17:15:09,669]\u001b[0m Trial 112 finished with value: 0.4444444477558136 and parameters: {'n_layers': 3, 'n_units': 250, 'dropout': 0.0, 'optimizer': 'Adam'}. Best is trial 0 with value: 0.4444444477558136.\u001b[0m\n"
     ]
    },
    {
     "name": "stdout",
     "output_type": "stream",
     "text": [
      "1/1 [==============================] - 0s 16ms/step - loss: 0.0000e+00 - accuracy: 0.4444\n"
     ]
    },
    {
     "name": "stderr",
     "output_type": "stream",
     "text": [
      "\u001b[32m[I 2022-05-31 17:15:10,381]\u001b[0m Trial 113 finished with value: 0.4444444477558136 and parameters: {'n_layers': 3, 'n_units': 250, 'dropout': 0.0, 'optimizer': 'Adam'}. Best is trial 0 with value: 0.4444444477558136.\u001b[0m\n"
     ]
    },
    {
     "name": "stdout",
     "output_type": "stream",
     "text": [
      "1/1 [==============================] - 0s 16ms/step - loss: 0.0000e+00 - accuracy: 0.4444\n"
     ]
    },
    {
     "name": "stderr",
     "output_type": "stream",
     "text": [
      "\u001b[32m[I 2022-05-31 17:15:11,298]\u001b[0m Trial 114 finished with value: 0.4444444477558136 and parameters: {'n_layers': 2, 'n_units': 200, 'dropout': 0.0, 'optimizer': 'Adam'}. Best is trial 0 with value: 0.4444444477558136.\u001b[0m\n"
     ]
    },
    {
     "name": "stdout",
     "output_type": "stream",
     "text": [
      "1/1 [==============================] - 0s 16ms/step - loss: 0.0000e+00 - accuracy: 0.4444\n"
     ]
    },
    {
     "name": "stderr",
     "output_type": "stream",
     "text": [
      "\u001b[32m[I 2022-05-31 17:15:11,958]\u001b[0m Trial 115 finished with value: 0.4444444477558136 and parameters: {'n_layers': 2, 'n_units': 200, 'dropout': 0.0, 'optimizer': 'Adam'}. Best is trial 0 with value: 0.4444444477558136.\u001b[0m\n"
     ]
    },
    {
     "name": "stdout",
     "output_type": "stream",
     "text": [
      "1/1 [==============================] - 0s 16ms/step - loss: 0.0000e+00 - accuracy: 0.4444\n"
     ]
    },
    {
     "name": "stderr",
     "output_type": "stream",
     "text": [
      "\u001b[32m[I 2022-05-31 17:15:12,629]\u001b[0m Trial 116 finished with value: 0.4444444477558136 and parameters: {'n_layers': 2, 'n_units': 250, 'dropout': 0.0, 'optimizer': 'Adam'}. Best is trial 0 with value: 0.4444444477558136.\u001b[0m\n"
     ]
    },
    {
     "name": "stdout",
     "output_type": "stream",
     "text": [
      "1/1 [==============================] - 0s 16ms/step - loss: 0.0000e+00 - accuracy: 0.4444\n"
     ]
    },
    {
     "name": "stderr",
     "output_type": "stream",
     "text": [
      "\u001b[32m[I 2022-05-31 17:15:13,372]\u001b[0m Trial 117 finished with value: 0.4444444477558136 and parameters: {'n_layers': 2, 'n_units': 250, 'dropout': 0.30000000000000004, 'optimizer': 'Adam'}. Best is trial 0 with value: 0.4444444477558136.\u001b[0m\n"
     ]
    },
    {
     "name": "stdout",
     "output_type": "stream",
     "text": [
      "1/1 [==============================] - 0s 16ms/step - loss: 0.0000e+00 - accuracy: 0.4444\n"
     ]
    },
    {
     "name": "stderr",
     "output_type": "stream",
     "text": [
      "\u001b[32m[I 2022-05-31 17:15:14,190]\u001b[0m Trial 118 finished with value: 0.4444444477558136 and parameters: {'n_layers': 2, 'n_units': 250, 'dropout': 0.30000000000000004, 'optimizer': 'RMSprop'}. Best is trial 0 with value: 0.4444444477558136.\u001b[0m\n"
     ]
    },
    {
     "name": "stdout",
     "output_type": "stream",
     "text": [
      "1/1 [==============================] - 0s 16ms/step - loss: 0.0000e+00 - accuracy: 0.4444\n"
     ]
    },
    {
     "name": "stderr",
     "output_type": "stream",
     "text": [
      "\u001b[32m[I 2022-05-31 17:15:15,010]\u001b[0m Trial 119 finished with value: 0.4444444477558136 and parameters: {'n_layers': 2, 'n_units': 250, 'dropout': 0.30000000000000004, 'optimizer': 'RMSprop'}. Best is trial 0 with value: 0.4444444477558136.\u001b[0m\n"
     ]
    },
    {
     "name": "stdout",
     "output_type": "stream",
     "text": [
      "1/1 [==============================] - 0s 16ms/step - loss: 0.0000e+00 - accuracy: 0.4444\n"
     ]
    },
    {
     "name": "stderr",
     "output_type": "stream",
     "text": [
      "\u001b[32m[I 2022-05-31 17:15:15,830]\u001b[0m Trial 120 finished with value: 0.4444444477558136 and parameters: {'n_layers': 2, 'n_units': 250, 'dropout': 0.30000000000000004, 'optimizer': 'RMSprop'}. Best is trial 0 with value: 0.4444444477558136.\u001b[0m\n"
     ]
    },
    {
     "name": "stdout",
     "output_type": "stream",
     "text": [
      "1/1 [==============================] - 0s 16ms/step - loss: 0.0000e+00 - accuracy: 0.4444\n"
     ]
    },
    {
     "name": "stderr",
     "output_type": "stream",
     "text": [
      "\u001b[32m[I 2022-05-31 17:15:16,653]\u001b[0m Trial 121 finished with value: 0.4444444477558136 and parameters: {'n_layers': 2, 'n_units': 250, 'dropout': 0.30000000000000004, 'optimizer': 'RMSprop'}. Best is trial 0 with value: 0.4444444477558136.\u001b[0m\n"
     ]
    },
    {
     "name": "stdout",
     "output_type": "stream",
     "text": [
      "1/1 [==============================] - 0s 16ms/step - loss: 0.0000e+00 - accuracy: 0.4444\n"
     ]
    },
    {
     "name": "stderr",
     "output_type": "stream",
     "text": [
      "\u001b[32m[I 2022-05-31 17:15:17,484]\u001b[0m Trial 122 finished with value: 0.4444444477558136 and parameters: {'n_layers': 2, 'n_units': 250, 'dropout': 0.30000000000000004, 'optimizer': 'RMSprop'}. Best is trial 0 with value: 0.4444444477558136.\u001b[0m\n"
     ]
    },
    {
     "name": "stdout",
     "output_type": "stream",
     "text": [
      "1/1 [==============================] - 0s 31ms/step - loss: 0.0000e+00 - accuracy: 0.4444\n"
     ]
    },
    {
     "name": "stderr",
     "output_type": "stream",
     "text": [
      "\u001b[32m[I 2022-05-31 17:15:18,430]\u001b[0m Trial 123 finished with value: 0.4444444477558136 and parameters: {'n_layers': 2, 'n_units': 250, 'dropout': 0.4, 'optimizer': 'RMSprop'}. Best is trial 0 with value: 0.4444444477558136.\u001b[0m\n"
     ]
    },
    {
     "name": "stdout",
     "output_type": "stream",
     "text": [
      "1/1 [==============================] - 0s 16ms/step - loss: 0.0000e+00 - accuracy: 0.4444\n"
     ]
    },
    {
     "name": "stderr",
     "output_type": "stream",
     "text": [
      "\u001b[32m[I 2022-05-31 17:15:19,639]\u001b[0m Trial 124 finished with value: 0.4444444477558136 and parameters: {'n_layers': 2, 'n_units': 250, 'dropout': 0.4, 'optimizer': 'RMSprop'}. Best is trial 0 with value: 0.4444444477558136.\u001b[0m\n"
     ]
    },
    {
     "name": "stdout",
     "output_type": "stream",
     "text": [
      "1/1 [==============================] - 0s 16ms/step - loss: 0.0000e+00 - accuracy: 0.4444\n"
     ]
    },
    {
     "name": "stderr",
     "output_type": "stream",
     "text": [
      "\u001b[32m[I 2022-05-31 17:15:20,592]\u001b[0m Trial 125 finished with value: 0.4444444477558136 and parameters: {'n_layers': 2, 'n_units': 250, 'dropout': 0.4, 'optimizer': 'RMSprop'}. Best is trial 0 with value: 0.4444444477558136.\u001b[0m\n"
     ]
    },
    {
     "name": "stdout",
     "output_type": "stream",
     "text": [
      "1/1 [==============================] - 0s 16ms/step - loss: 0.0000e+00 - accuracy: 0.4444\n"
     ]
    },
    {
     "name": "stderr",
     "output_type": "stream",
     "text": [
      "\u001b[32m[I 2022-05-31 17:15:21,551]\u001b[0m Trial 126 finished with value: 0.4444444477558136 and parameters: {'n_layers': 2, 'n_units': 100, 'dropout': 0.4, 'optimizer': 'RMSprop'}. Best is trial 0 with value: 0.4444444477558136.\u001b[0m\n"
     ]
    },
    {
     "name": "stdout",
     "output_type": "stream",
     "text": [
      "1/1 [==============================] - 0s 16ms/step - loss: 0.0000e+00 - accuracy: 0.4444\n"
     ]
    },
    {
     "name": "stderr",
     "output_type": "stream",
     "text": [
      "\u001b[32m[I 2022-05-31 17:15:22,432]\u001b[0m Trial 127 finished with value: 0.4444444477558136 and parameters: {'n_layers': 2, 'n_units': 100, 'dropout': 0.30000000000000004, 'optimizer': 'RMSprop'}. Best is trial 0 with value: 0.4444444477558136.\u001b[0m\n"
     ]
    },
    {
     "name": "stdout",
     "output_type": "stream",
     "text": [
      "1/1 [==============================] - 0s 16ms/step - loss: 0.0000e+00 - accuracy: 0.4444\n"
     ]
    },
    {
     "name": "stderr",
     "output_type": "stream",
     "text": [
      "\u001b[32m[I 2022-05-31 17:15:23,234]\u001b[0m Trial 128 finished with value: 0.4444444477558136 and parameters: {'n_layers': 2, 'n_units': 100, 'dropout': 0.30000000000000004, 'optimizer': 'RMSprop'}. Best is trial 0 with value: 0.4444444477558136.\u001b[0m\n"
     ]
    },
    {
     "name": "stdout",
     "output_type": "stream",
     "text": [
      "1/1 [==============================] - 0s 16ms/step - loss: 0.0000e+00 - accuracy: 0.4444\n"
     ]
    },
    {
     "name": "stderr",
     "output_type": "stream",
     "text": [
      "\u001b[32m[I 2022-05-31 17:15:24,042]\u001b[0m Trial 129 finished with value: 0.4444444477558136 and parameters: {'n_layers': 2, 'n_units': 100, 'dropout': 0.30000000000000004, 'optimizer': 'RMSprop'}. Best is trial 0 with value: 0.4444444477558136.\u001b[0m\n"
     ]
    },
    {
     "name": "stdout",
     "output_type": "stream",
     "text": [
      "1/1 [==============================] - 0s 16ms/step - loss: 0.0000e+00 - accuracy: 0.4444\n"
     ]
    },
    {
     "name": "stderr",
     "output_type": "stream",
     "text": [
      "\u001b[32m[I 2022-05-31 17:15:24,892]\u001b[0m Trial 130 finished with value: 0.4444444477558136 and parameters: {'n_layers': 2, 'n_units': 100, 'dropout': 0.4, 'optimizer': 'RMSprop'}. Best is trial 0 with value: 0.4444444477558136.\u001b[0m\n"
     ]
    },
    {
     "name": "stdout",
     "output_type": "stream",
     "text": [
      "1/1 [==============================] - 0s 16ms/step - loss: 0.0000e+00 - accuracy: 0.4444\n"
     ]
    },
    {
     "name": "stderr",
     "output_type": "stream",
     "text": [
      "\u001b[32m[I 2022-05-31 17:15:25,992]\u001b[0m Trial 131 finished with value: 0.4444444477558136 and parameters: {'n_layers': 5, 'n_units': 100, 'dropout': 0.30000000000000004, 'optimizer': 'RMSprop'}. Best is trial 0 with value: 0.4444444477558136.\u001b[0m\n"
     ]
    },
    {
     "name": "stdout",
     "output_type": "stream",
     "text": [
      "1/1 [==============================] - 0s 16ms/step - loss: 0.0000e+00 - accuracy: 0.4444\n"
     ]
    },
    {
     "name": "stderr",
     "output_type": "stream",
     "text": [
      "\u001b[32m[I 2022-05-31 17:15:27,114]\u001b[0m Trial 132 finished with value: 0.4444444477558136 and parameters: {'n_layers': 5, 'n_units': 100, 'dropout': 0.4, 'optimizer': 'RMSprop'}. Best is trial 0 with value: 0.4444444477558136.\u001b[0m\n"
     ]
    },
    {
     "name": "stdout",
     "output_type": "stream",
     "text": [
      "1/1 [==============================] - 0s 16ms/step - loss: 0.0000e+00 - accuracy: 0.4444\n"
     ]
    },
    {
     "name": "stderr",
     "output_type": "stream",
     "text": [
      "\u001b[32m[I 2022-05-31 17:15:28,431]\u001b[0m Trial 133 finished with value: 0.4444444477558136 and parameters: {'n_layers': 5, 'n_units': 100, 'dropout': 0.4, 'optimizer': 'RMSprop'}. Best is trial 0 with value: 0.4444444477558136.\u001b[0m\n"
     ]
    },
    {
     "name": "stdout",
     "output_type": "stream",
     "text": [
      "1/1 [==============================] - 0s 16ms/step - loss: 0.0000e+00 - accuracy: 0.4444\n"
     ]
    },
    {
     "name": "stderr",
     "output_type": "stream",
     "text": [
      "\u001b[32m[I 2022-05-31 17:15:29,528]\u001b[0m Trial 134 finished with value: 0.4444444477558136 and parameters: {'n_layers': 5, 'n_units': 100, 'dropout': 0.5, 'optimizer': 'RMSprop'}. Best is trial 0 with value: 0.4444444477558136.\u001b[0m\n"
     ]
    },
    {
     "name": "stdout",
     "output_type": "stream",
     "text": [
      "1/1 [==============================] - 0s 16ms/step - loss: 0.0000e+00 - accuracy: 0.4444\n"
     ]
    },
    {
     "name": "stderr",
     "output_type": "stream",
     "text": [
      "\u001b[32m[I 2022-05-31 17:15:30,476]\u001b[0m Trial 135 finished with value: 0.4444444477558136 and parameters: {'n_layers': 5, 'n_units': 100, 'dropout': 0.5, 'optimizer': 'SGD'}. Best is trial 0 with value: 0.4444444477558136.\u001b[0m\n"
     ]
    },
    {
     "name": "stdout",
     "output_type": "stream",
     "text": [
      "1/1 [==============================] - 0s 16ms/step - loss: 0.0000e+00 - accuracy: 0.4444\n"
     ]
    },
    {
     "name": "stderr",
     "output_type": "stream",
     "text": [
      "\u001b[32m[I 2022-05-31 17:15:31,349]\u001b[0m Trial 136 finished with value: 0.4444444477558136 and parameters: {'n_layers': 5, 'n_units': 100, 'dropout': 0.5, 'optimizer': 'SGD'}. Best is trial 0 with value: 0.4444444477558136.\u001b[0m\n"
     ]
    },
    {
     "name": "stdout",
     "output_type": "stream",
     "text": [
      "1/1 [==============================] - 0s 16ms/step - loss: 0.0000e+00 - accuracy: 0.4444\n"
     ]
    },
    {
     "name": "stderr",
     "output_type": "stream",
     "text": [
      "\u001b[32m[I 2022-05-31 17:15:32,225]\u001b[0m Trial 137 finished with value: 0.4444444477558136 and parameters: {'n_layers': 5, 'n_units': 100, 'dropout': 0.5, 'optimizer': 'SGD'}. Best is trial 0 with value: 0.4444444477558136.\u001b[0m\n"
     ]
    },
    {
     "name": "stdout",
     "output_type": "stream",
     "text": [
      "1/1 [==============================] - 0s 16ms/step - loss: 0.0000e+00 - accuracy: 0.4444\n"
     ]
    },
    {
     "name": "stderr",
     "output_type": "stream",
     "text": [
      "\u001b[32m[I 2022-05-31 17:15:33,100]\u001b[0m Trial 138 finished with value: 0.4444444477558136 and parameters: {'n_layers': 5, 'n_units': 150, 'dropout': 0.5, 'optimizer': 'SGD'}. Best is trial 0 with value: 0.4444444477558136.\u001b[0m\n"
     ]
    },
    {
     "name": "stdout",
     "output_type": "stream",
     "text": [
      "1/1 [==============================] - 0s 16ms/step - loss: 0.0000e+00 - accuracy: 0.4444\n"
     ]
    },
    {
     "name": "stderr",
     "output_type": "stream",
     "text": [
      "\u001b[32m[I 2022-05-31 17:15:33,955]\u001b[0m Trial 139 finished with value: 0.4444444477558136 and parameters: {'n_layers': 5, 'n_units': 150, 'dropout': 0.5, 'optimizer': 'SGD'}. Best is trial 0 with value: 0.4444444477558136.\u001b[0m\n"
     ]
    },
    {
     "name": "stdout",
     "output_type": "stream",
     "text": [
      "1/1 [==============================] - 0s 18ms/step - loss: 0.0000e+00 - accuracy: 0.4444\n"
     ]
    },
    {
     "name": "stderr",
     "output_type": "stream",
     "text": [
      "\u001b[32m[I 2022-05-31 17:15:34,823]\u001b[0m Trial 140 finished with value: 0.4444444477558136 and parameters: {'n_layers': 5, 'n_units': 150, 'dropout': 0.5, 'optimizer': 'SGD'}. Best is trial 0 with value: 0.4444444477558136.\u001b[0m\n"
     ]
    },
    {
     "name": "stdout",
     "output_type": "stream",
     "text": [
      "1/1 [==============================] - 0s 16ms/step - loss: 0.0000e+00 - accuracy: 0.4444\n"
     ]
    },
    {
     "name": "stderr",
     "output_type": "stream",
     "text": [
      "\u001b[32m[I 2022-05-31 17:15:35,875]\u001b[0m Trial 141 finished with value: 0.4444444477558136 and parameters: {'n_layers': 5, 'n_units': 150, 'dropout': 0.5, 'optimizer': 'SGD'}. Best is trial 0 with value: 0.4444444477558136.\u001b[0m\n"
     ]
    },
    {
     "name": "stdout",
     "output_type": "stream",
     "text": [
      "1/1 [==============================] - 0s 16ms/step - loss: 0.0000e+00 - accuracy: 0.4444\n"
     ]
    },
    {
     "name": "stderr",
     "output_type": "stream",
     "text": [
      "\u001b[32m[I 2022-05-31 17:15:36,716]\u001b[0m Trial 142 finished with value: 0.4444444477558136 and parameters: {'n_layers': 5, 'n_units': 150, 'dropout': 0.5, 'optimizer': 'SGD'}. Best is trial 0 with value: 0.4444444477558136.\u001b[0m\n"
     ]
    },
    {
     "name": "stdout",
     "output_type": "stream",
     "text": [
      "1/1 [==============================] - 0s 16ms/step - loss: 0.0000e+00 - accuracy: 0.4444\n"
     ]
    },
    {
     "name": "stderr",
     "output_type": "stream",
     "text": [
      "\u001b[32m[I 2022-05-31 17:15:37,605]\u001b[0m Trial 143 finished with value: 0.4444444477558136 and parameters: {'n_layers': 5, 'n_units': 150, 'dropout': 0.5, 'optimizer': 'SGD'}. Best is trial 0 with value: 0.4444444477558136.\u001b[0m\n"
     ]
    },
    {
     "name": "stdout",
     "output_type": "stream",
     "text": [
      "1/1 [==============================] - 0s 31ms/step - loss: 0.0000e+00 - accuracy: 0.4444\n"
     ]
    },
    {
     "name": "stderr",
     "output_type": "stream",
     "text": [
      "\u001b[32m[I 2022-05-31 17:15:38,424]\u001b[0m Trial 144 finished with value: 0.4444444477558136 and parameters: {'n_layers': 5, 'n_units': 150, 'dropout': 0.5, 'optimizer': 'SGD'}. Best is trial 0 with value: 0.4444444477558136.\u001b[0m\n"
     ]
    },
    {
     "name": "stdout",
     "output_type": "stream",
     "text": [
      "1/1 [==============================] - 0s 16ms/step - loss: 0.0000e+00 - accuracy: 0.4444\n"
     ]
    },
    {
     "name": "stderr",
     "output_type": "stream",
     "text": [
      "\u001b[32m[I 2022-05-31 17:15:39,328]\u001b[0m Trial 145 finished with value: 0.4444444477558136 and parameters: {'n_layers': 5, 'n_units': 150, 'dropout': 0.5, 'optimizer': 'SGD'}. Best is trial 0 with value: 0.4444444477558136.\u001b[0m\n"
     ]
    },
    {
     "name": "stdout",
     "output_type": "stream",
     "text": [
      "1/1 [==============================] - 0s 16ms/step - loss: 0.0000e+00 - accuracy: 0.4444\n"
     ]
    },
    {
     "name": "stderr",
     "output_type": "stream",
     "text": [
      "\u001b[32m[I 2022-05-31 17:15:40,099]\u001b[0m Trial 146 finished with value: 0.4444444477558136 and parameters: {'n_layers': 4, 'n_units': 150, 'dropout': 0.5, 'optimizer': 'SGD'}. Best is trial 0 with value: 0.4444444477558136.\u001b[0m\n"
     ]
    },
    {
     "name": "stdout",
     "output_type": "stream",
     "text": [
      "1/1 [==============================] - 0s 31ms/step - loss: 0.0000e+00 - accuracy: 0.4444\n"
     ]
    },
    {
     "name": "stderr",
     "output_type": "stream",
     "text": [
      "\u001b[32m[I 2022-05-31 17:15:40,903]\u001b[0m Trial 147 finished with value: 0.4444444477558136 and parameters: {'n_layers': 4, 'n_units': 150, 'dropout': 0.5, 'optimizer': 'SGD'}. Best is trial 0 with value: 0.4444444477558136.\u001b[0m\n"
     ]
    },
    {
     "name": "stdout",
     "output_type": "stream",
     "text": [
      "1/1 [==============================] - 0s 16ms/step - loss: 0.0000e+00 - accuracy: 0.4444\n"
     ]
    },
    {
     "name": "stderr",
     "output_type": "stream",
     "text": [
      "\u001b[32m[I 2022-05-31 17:15:41,706]\u001b[0m Trial 148 finished with value: 0.4444444477558136 and parameters: {'n_layers': 4, 'n_units': 150, 'dropout': 0.5, 'optimizer': 'SGD'}. Best is trial 0 with value: 0.4444444477558136.\u001b[0m\n"
     ]
    },
    {
     "name": "stdout",
     "output_type": "stream",
     "text": [
      "1/1 [==============================] - 0s 31ms/step - loss: 0.0000e+00 - accuracy: 0.4444\n"
     ]
    },
    {
     "name": "stderr",
     "output_type": "stream",
     "text": [
      "\u001b[32m[I 2022-05-31 17:15:42,592]\u001b[0m Trial 149 finished with value: 0.4444444477558136 and parameters: {'n_layers': 4, 'n_units': 200, 'dropout': 0.5, 'optimizer': 'SGD'}. Best is trial 0 with value: 0.4444444477558136.\u001b[0m\n"
     ]
    },
    {
     "name": "stdout",
     "output_type": "stream",
     "text": [
      "1/1 [==============================] - 0s 31ms/step - loss: 0.0000e+00 - accuracy: 0.4444\n"
     ]
    },
    {
     "name": "stderr",
     "output_type": "stream",
     "text": [
      "\u001b[32m[I 2022-05-31 17:15:43,481]\u001b[0m Trial 150 finished with value: 0.4444444477558136 and parameters: {'n_layers': 5, 'n_units': 200, 'dropout': 0.2, 'optimizer': 'SGD'}. Best is trial 0 with value: 0.4444444477558136.\u001b[0m\n"
     ]
    },
    {
     "name": "stdout",
     "output_type": "stream",
     "text": [
      "1/1 [==============================] - 0s 16ms/step - loss: 0.0000e+00 - accuracy: 0.4444\n"
     ]
    },
    {
     "name": "stderr",
     "output_type": "stream",
     "text": [
      "\u001b[32m[I 2022-05-31 17:15:44,514]\u001b[0m Trial 151 finished with value: 0.4444444477558136 and parameters: {'n_layers': 4, 'n_units': 200, 'dropout': 0.2, 'optimizer': 'SGD'}. Best is trial 0 with value: 0.4444444477558136.\u001b[0m\n"
     ]
    },
    {
     "name": "stdout",
     "output_type": "stream",
     "text": [
      "1/1 [==============================] - 0s 16ms/step - loss: 0.0000e+00 - accuracy: 0.4444\n"
     ]
    },
    {
     "name": "stderr",
     "output_type": "stream",
     "text": [
      "\u001b[32m[I 2022-05-31 17:15:45,275]\u001b[0m Trial 152 finished with value: 0.4444444477558136 and parameters: {'n_layers': 3, 'n_units': 200, 'dropout': 0.1, 'optimizer': 'SGD'}. Best is trial 0 with value: 0.4444444477558136.\u001b[0m\n"
     ]
    },
    {
     "name": "stdout",
     "output_type": "stream",
     "text": [
      "1/1 [==============================] - 0s 16ms/step - loss: 0.0000e+00 - accuracy: 0.4444\n"
     ]
    },
    {
     "name": "stderr",
     "output_type": "stream",
     "text": [
      "\u001b[32m[I 2022-05-31 17:15:46,029]\u001b[0m Trial 153 finished with value: 0.4444444477558136 and parameters: {'n_layers': 3, 'n_units': 200, 'dropout': 0.1, 'optimizer': 'SGD'}. Best is trial 0 with value: 0.4444444477558136.\u001b[0m\n"
     ]
    },
    {
     "name": "stdout",
     "output_type": "stream",
     "text": [
      "1/1 [==============================] - 0s 16ms/step - loss: 0.0000e+00 - accuracy: 0.4444\n"
     ]
    },
    {
     "name": "stderr",
     "output_type": "stream",
     "text": [
      "\u001b[32m[I 2022-05-31 17:15:46,810]\u001b[0m Trial 154 finished with value: 0.4444444477558136 and parameters: {'n_layers': 3, 'n_units': 200, 'dropout': 0.2, 'optimizer': 'SGD'}. Best is trial 0 with value: 0.4444444477558136.\u001b[0m\n"
     ]
    },
    {
     "name": "stdout",
     "output_type": "stream",
     "text": [
      "1/1 [==============================] - 0s 16ms/step - loss: 0.0000e+00 - accuracy: 0.4444\n"
     ]
    },
    {
     "name": "stderr",
     "output_type": "stream",
     "text": [
      "\u001b[32m[I 2022-05-31 17:15:47,630]\u001b[0m Trial 155 finished with value: 0.4444444477558136 and parameters: {'n_layers': 3, 'n_units': 200, 'dropout': 0.1, 'optimizer': 'Adam'}. Best is trial 0 with value: 0.4444444477558136.\u001b[0m\n"
     ]
    },
    {
     "name": "stdout",
     "output_type": "stream",
     "text": [
      "1/1 [==============================] - 0s 16ms/step - loss: 0.0000e+00 - accuracy: 0.4444\n"
     ]
    },
    {
     "name": "stderr",
     "output_type": "stream",
     "text": [
      "\u001b[32m[I 2022-05-31 17:15:48,361]\u001b[0m Trial 156 finished with value: 0.4444444477558136 and parameters: {'n_layers': 3, 'n_units': 200, 'dropout': 0.0, 'optimizer': 'Adam'}. Best is trial 0 with value: 0.4444444477558136.\u001b[0m\n"
     ]
    },
    {
     "name": "stdout",
     "output_type": "stream",
     "text": [
      "1/1 [==============================] - 0s 16ms/step - loss: 0.0000e+00 - accuracy: 0.4444\n"
     ]
    },
    {
     "name": "stderr",
     "output_type": "stream",
     "text": [
      "\u001b[32m[I 2022-05-31 17:15:49,101]\u001b[0m Trial 157 finished with value: 0.4444444477558136 and parameters: {'n_layers': 3, 'n_units': 200, 'dropout': 0.0, 'optimizer': 'Adam'}. Best is trial 0 with value: 0.4444444477558136.\u001b[0m\n"
     ]
    },
    {
     "name": "stdout",
     "output_type": "stream",
     "text": [
      "1/1 [==============================] - 0s 16ms/step - loss: 0.0000e+00 - accuracy: 0.4444\n"
     ]
    },
    {
     "name": "stderr",
     "output_type": "stream",
     "text": [
      "\u001b[32m[I 2022-05-31 17:15:49,834]\u001b[0m Trial 158 finished with value: 0.4444444477558136 and parameters: {'n_layers': 3, 'n_units': 200, 'dropout': 0.0, 'optimizer': 'Adam'}. Best is trial 0 with value: 0.4444444477558136.\u001b[0m\n"
     ]
    },
    {
     "name": "stdout",
     "output_type": "stream",
     "text": [
      "1/1 [==============================] - 0s 16ms/step - loss: 0.0000e+00 - accuracy: 0.4444\n"
     ]
    },
    {
     "name": "stderr",
     "output_type": "stream",
     "text": [
      "\u001b[32m[I 2022-05-31 17:15:50,613]\u001b[0m Trial 159 finished with value: 0.4444444477558136 and parameters: {'n_layers': 4, 'n_units': 200, 'dropout': 0.0, 'optimizer': 'Adam'}. Best is trial 0 with value: 0.4444444477558136.\u001b[0m\n"
     ]
    },
    {
     "name": "stdout",
     "output_type": "stream",
     "text": [
      "1/1 [==============================] - 0s 16ms/step - loss: 0.0000e+00 - accuracy: 0.4444\n"
     ]
    },
    {
     "name": "stderr",
     "output_type": "stream",
     "text": [
      "\u001b[32m[I 2022-05-31 17:15:51,391]\u001b[0m Trial 160 finished with value: 0.4444444477558136 and parameters: {'n_layers': 4, 'n_units': 200, 'dropout': 0.0, 'optimizer': 'Adam'}. Best is trial 0 with value: 0.4444444477558136.\u001b[0m\n"
     ]
    },
    {
     "name": "stdout",
     "output_type": "stream",
     "text": [
      "1/1 [==============================] - 0s 31ms/step - loss: 0.0000e+00 - accuracy: 0.4444\n"
     ]
    },
    {
     "name": "stderr",
     "output_type": "stream",
     "text": [
      "\u001b[32m[I 2022-05-31 17:15:52,356]\u001b[0m Trial 161 finished with value: 0.4444444477558136 and parameters: {'n_layers': 3, 'n_units': 250, 'dropout': 0.0, 'optimizer': 'Adam'}. Best is trial 0 with value: 0.4444444477558136.\u001b[0m\n"
     ]
    },
    {
     "name": "stdout",
     "output_type": "stream",
     "text": [
      "1/1 [==============================] - 0s 16ms/step - loss: 0.0000e+00 - accuracy: 0.4444\n"
     ]
    },
    {
     "name": "stderr",
     "output_type": "stream",
     "text": [
      "\u001b[32m[I 2022-05-31 17:15:53,093]\u001b[0m Trial 162 finished with value: 0.4444444477558136 and parameters: {'n_layers': 3, 'n_units': 250, 'dropout': 0.0, 'optimizer': 'Adam'}. Best is trial 0 with value: 0.4444444477558136.\u001b[0m\n"
     ]
    },
    {
     "name": "stdout",
     "output_type": "stream",
     "text": [
      "1/1 [==============================] - 0s 16ms/step - loss: 0.0000e+00 - accuracy: 0.4444\n"
     ]
    },
    {
     "name": "stderr",
     "output_type": "stream",
     "text": [
      "\u001b[32m[I 2022-05-31 17:15:53,757]\u001b[0m Trial 163 finished with value: 0.4444444477558136 and parameters: {'n_layers': 2, 'n_units': 200, 'dropout': 0.0, 'optimizer': 'Adam'}. Best is trial 0 with value: 0.4444444477558136.\u001b[0m\n"
     ]
    },
    {
     "name": "stdout",
     "output_type": "stream",
     "text": [
      "1/1 [==============================] - 0s 16ms/step - loss: 0.0000e+00 - accuracy: 0.4444\n"
     ]
    },
    {
     "name": "stderr",
     "output_type": "stream",
     "text": [
      "\u001b[32m[I 2022-05-31 17:15:54,508]\u001b[0m Trial 164 finished with value: 0.4444444477558136 and parameters: {'n_layers': 2, 'n_units': 250, 'dropout': 0.2, 'optimizer': 'Adam'}. Best is trial 0 with value: 0.4444444477558136.\u001b[0m\n"
     ]
    },
    {
     "name": "stdout",
     "output_type": "stream",
     "text": [
      "1/1 [==============================] - 0s 16ms/step - loss: 0.0000e+00 - accuracy: 0.4444\n"
     ]
    },
    {
     "name": "stderr",
     "output_type": "stream",
     "text": [
      "\u001b[32m[I 2022-05-31 17:15:55,182]\u001b[0m Trial 165 finished with value: 0.4444444477558136 and parameters: {'n_layers': 2, 'n_units': 250, 'dropout': 0.0, 'optimizer': 'Adam'}. Best is trial 0 with value: 0.4444444477558136.\u001b[0m\n"
     ]
    },
    {
     "name": "stdout",
     "output_type": "stream",
     "text": [
      "1/1 [==============================] - 0s 16ms/step - loss: 0.0000e+00 - accuracy: 0.4444\n"
     ]
    },
    {
     "name": "stderr",
     "output_type": "stream",
     "text": [
      "\u001b[32m[I 2022-05-31 17:15:55,970]\u001b[0m Trial 166 finished with value: 0.4444444477558136 and parameters: {'n_layers': 3, 'n_units': 250, 'dropout': 0.30000000000000004, 'optimizer': 'Adam'}. Best is trial 0 with value: 0.4444444477558136.\u001b[0m\n"
     ]
    },
    {
     "name": "stdout",
     "output_type": "stream",
     "text": [
      "1/1 [==============================] - 0s 16ms/step - loss: 0.0000e+00 - accuracy: 0.4444\n"
     ]
    },
    {
     "name": "stderr",
     "output_type": "stream",
     "text": [
      "\u001b[32m[I 2022-05-31 17:15:56,640]\u001b[0m Trial 167 finished with value: 0.4444444477558136 and parameters: {'n_layers': 2, 'n_units': 250, 'dropout': 0.0, 'optimizer': 'Adam'}. Best is trial 0 with value: 0.4444444477558136.\u001b[0m\n"
     ]
    },
    {
     "name": "stdout",
     "output_type": "stream",
     "text": [
      "1/1 [==============================] - 0s 16ms/step - loss: 0.0000e+00 - accuracy: 0.4444\n"
     ]
    },
    {
     "name": "stderr",
     "output_type": "stream",
     "text": [
      "\u001b[32m[I 2022-05-31 17:15:57,348]\u001b[0m Trial 168 finished with value: 0.4444444477558136 and parameters: {'n_layers': 2, 'n_units': 250, 'dropout': 0.30000000000000004, 'optimizer': 'Adam'}. Best is trial 0 with value: 0.4444444477558136.\u001b[0m\n"
     ]
    },
    {
     "name": "stdout",
     "output_type": "stream",
     "text": [
      "1/1 [==============================] - 0s 16ms/step - loss: 0.0000e+00 - accuracy: 0.4444\n"
     ]
    },
    {
     "name": "stderr",
     "output_type": "stream",
     "text": [
      "\u001b[32m[I 2022-05-31 17:15:58,076]\u001b[0m Trial 169 finished with value: 0.4444444477558136 and parameters: {'n_layers': 2, 'n_units': 250, 'dropout': 0.30000000000000004, 'optimizer': 'Adam'}. Best is trial 0 with value: 0.4444444477558136.\u001b[0m\n"
     ]
    },
    {
     "name": "stdout",
     "output_type": "stream",
     "text": [
      "1/1 [==============================] - 0s 16ms/step - loss: 0.0000e+00 - accuracy: 0.4444\n"
     ]
    },
    {
     "name": "stderr",
     "output_type": "stream",
     "text": [
      "\u001b[32m[I 2022-05-31 17:15:58,785]\u001b[0m Trial 170 finished with value: 0.4444444477558136 and parameters: {'n_layers': 2, 'n_units': 250, 'dropout': 0.30000000000000004, 'optimizer': 'Adam'}. Best is trial 0 with value: 0.4444444477558136.\u001b[0m\n"
     ]
    },
    {
     "name": "stdout",
     "output_type": "stream",
     "text": [
      "1/1 [==============================] - 0s 16ms/step - loss: 0.0000e+00 - accuracy: 0.4444\n"
     ]
    },
    {
     "name": "stderr",
     "output_type": "stream",
     "text": [
      "\u001b[32m[I 2022-05-31 17:15:59,594]\u001b[0m Trial 171 finished with value: 0.4444444477558136 and parameters: {'n_layers': 2, 'n_units': 250, 'dropout': 0.30000000000000004, 'optimizer': 'RMSprop'}. Best is trial 0 with value: 0.4444444477558136.\u001b[0m\n"
     ]
    },
    {
     "name": "stdout",
     "output_type": "stream",
     "text": [
      "1/1 [==============================] - 0s 31ms/step - loss: 0.0000e+00 - accuracy: 0.4444\n"
     ]
    },
    {
     "name": "stderr",
     "output_type": "stream",
     "text": [
      "\u001b[32m[I 2022-05-31 17:16:00,726]\u001b[0m Trial 172 finished with value: 0.4444444477558136 and parameters: {'n_layers': 2, 'n_units': 250, 'dropout': 0.4, 'optimizer': 'RMSprop'}. Best is trial 0 with value: 0.4444444477558136.\u001b[0m\n"
     ]
    },
    {
     "name": "stdout",
     "output_type": "stream",
     "text": [
      "1/1 [==============================] - 0s 16ms/step - loss: 0.0000e+00 - accuracy: 0.4444\n"
     ]
    },
    {
     "name": "stderr",
     "output_type": "stream",
     "text": [
      "\u001b[32m[I 2022-05-31 17:16:01,546]\u001b[0m Trial 173 finished with value: 0.4444444477558136 and parameters: {'n_layers': 2, 'n_units': 250, 'dropout': 0.4, 'optimizer': 'RMSprop'}. Best is trial 0 with value: 0.4444444477558136.\u001b[0m\n"
     ]
    },
    {
     "name": "stdout",
     "output_type": "stream",
     "text": [
      "1/1 [==============================] - 0s 16ms/step - loss: 0.0000e+00 - accuracy: 0.4444\n"
     ]
    },
    {
     "name": "stderr",
     "output_type": "stream",
     "text": [
      "\u001b[32m[I 2022-05-31 17:16:02,378]\u001b[0m Trial 174 finished with value: 0.4444444477558136 and parameters: {'n_layers': 2, 'n_units': 250, 'dropout': 0.30000000000000004, 'optimizer': 'RMSprop'}. Best is trial 0 with value: 0.4444444477558136.\u001b[0m\n"
     ]
    },
    {
     "name": "stdout",
     "output_type": "stream",
     "text": [
      "1/1 [==============================] - 0s 31ms/step - loss: 0.0000e+00 - accuracy: 0.4444\n"
     ]
    },
    {
     "name": "stderr",
     "output_type": "stream",
     "text": [
      "\u001b[32m[I 2022-05-31 17:16:03,203]\u001b[0m Trial 175 finished with value: 0.4444444477558136 and parameters: {'n_layers': 2, 'n_units': 250, 'dropout': 0.4, 'optimizer': 'RMSprop'}. Best is trial 0 with value: 0.4444444477558136.\u001b[0m\n"
     ]
    },
    {
     "name": "stdout",
     "output_type": "stream",
     "text": [
      "1/1 [==============================] - 0s 16ms/step - loss: 0.0000e+00 - accuracy: 0.4444\n"
     ]
    },
    {
     "name": "stderr",
     "output_type": "stream",
     "text": [
      "\u001b[32m[I 2022-05-31 17:16:04,104]\u001b[0m Trial 176 finished with value: 0.4444444477558136 and parameters: {'n_layers': 2, 'n_units': 250, 'dropout': 0.30000000000000004, 'optimizer': 'RMSprop'}. Best is trial 0 with value: 0.4444444477558136.\u001b[0m\n"
     ]
    },
    {
     "name": "stdout",
     "output_type": "stream",
     "text": [
      "1/1 [==============================] - 0s 16ms/step - loss: 0.0000e+00 - accuracy: 0.4444\n"
     ]
    },
    {
     "name": "stderr",
     "output_type": "stream",
     "text": [
      "\u001b[32m[I 2022-05-31 17:16:04,973]\u001b[0m Trial 177 finished with value: 0.4444444477558136 and parameters: {'n_layers': 2, 'n_units': 250, 'dropout': 0.30000000000000004, 'optimizer': 'RMSprop'}. Best is trial 0 with value: 0.4444444477558136.\u001b[0m\n"
     ]
    },
    {
     "name": "stdout",
     "output_type": "stream",
     "text": [
      "1/1 [==============================] - 0s 16ms/step - loss: 0.0000e+00 - accuracy: 0.4444\n"
     ]
    },
    {
     "name": "stderr",
     "output_type": "stream",
     "text": [
      "\u001b[32m[I 2022-05-31 17:16:05,816]\u001b[0m Trial 178 finished with value: 0.4444444477558136 and parameters: {'n_layers': 2, 'n_units': 250, 'dropout': 0.30000000000000004, 'optimizer': 'RMSprop'}. Best is trial 0 with value: 0.4444444477558136.\u001b[0m\n"
     ]
    },
    {
     "name": "stdout",
     "output_type": "stream",
     "text": [
      "1/1 [==============================] - 0s 16ms/step - loss: 0.0000e+00 - accuracy: 0.4444\n"
     ]
    },
    {
     "name": "stderr",
     "output_type": "stream",
     "text": [
      "\u001b[32m[I 2022-05-31 17:16:06,618]\u001b[0m Trial 179 finished with value: 0.4444444477558136 and parameters: {'n_layers': 2, 'n_units': 250, 'dropout': 0.30000000000000004, 'optimizer': 'RMSprop'}. Best is trial 0 with value: 0.4444444477558136.\u001b[0m\n"
     ]
    },
    {
     "name": "stdout",
     "output_type": "stream",
     "text": [
      "1/1 [==============================] - 0s 16ms/step - loss: 0.0000e+00 - accuracy: 0.4444\n"
     ]
    },
    {
     "name": "stderr",
     "output_type": "stream",
     "text": [
      "\u001b[32m[I 2022-05-31 17:16:07,452]\u001b[0m Trial 180 finished with value: 0.4444444477558136 and parameters: {'n_layers': 2, 'n_units': 100, 'dropout': 0.30000000000000004, 'optimizer': 'RMSprop'}. Best is trial 0 with value: 0.4444444477558136.\u001b[0m\n"
     ]
    },
    {
     "name": "stdout",
     "output_type": "stream",
     "text": [
      "1/1 [==============================] - 0s 16ms/step - loss: 0.0000e+00 - accuracy: 0.4444\n"
     ]
    },
    {
     "name": "stderr",
     "output_type": "stream",
     "text": [
      "\u001b[32m[I 2022-05-31 17:16:08,273]\u001b[0m Trial 181 finished with value: 0.4444444477558136 and parameters: {'n_layers': 2, 'n_units': 100, 'dropout': 0.30000000000000004, 'optimizer': 'RMSprop'}. Best is trial 0 with value: 0.4444444477558136.\u001b[0m\n"
     ]
    },
    {
     "name": "stdout",
     "output_type": "stream",
     "text": [
      "1/1 [==============================] - 0s 16ms/step - loss: 0.0000e+00 - accuracy: 0.4444\n"
     ]
    },
    {
     "name": "stderr",
     "output_type": "stream",
     "text": [
      "\u001b[32m[I 2022-05-31 17:16:09,316]\u001b[0m Trial 182 finished with value: 0.4444444477558136 and parameters: {'n_layers': 2, 'n_units': 100, 'dropout': 0.4, 'optimizer': 'RMSprop'}. Best is trial 0 with value: 0.4444444477558136.\u001b[0m\n"
     ]
    },
    {
     "name": "stdout",
     "output_type": "stream",
     "text": [
      "1/1 [==============================] - 0s 16ms/step - loss: 0.0000e+00 - accuracy: 0.4444\n"
     ]
    },
    {
     "name": "stderr",
     "output_type": "stream",
     "text": [
      "\u001b[32m[I 2022-05-31 17:16:10,133]\u001b[0m Trial 183 finished with value: 0.4444444477558136 and parameters: {'n_layers': 2, 'n_units': 100, 'dropout': 0.4, 'optimizer': 'RMSprop'}. Best is trial 0 with value: 0.4444444477558136.\u001b[0m\n"
     ]
    },
    {
     "name": "stdout",
     "output_type": "stream",
     "text": [
      "1/1 [==============================] - 0s 16ms/step - loss: 0.0000e+00 - accuracy: 0.4444\n"
     ]
    },
    {
     "name": "stderr",
     "output_type": "stream",
     "text": [
      "\u001b[32m[I 2022-05-31 17:16:10,947]\u001b[0m Trial 184 finished with value: 0.4444444477558136 and parameters: {'n_layers': 2, 'n_units': 100, 'dropout': 0.4, 'optimizer': 'RMSprop'}. Best is trial 0 with value: 0.4444444477558136.\u001b[0m\n"
     ]
    },
    {
     "name": "stdout",
     "output_type": "stream",
     "text": [
      "1/1 [==============================] - 0s 16ms/step - loss: 0.0000e+00 - accuracy: 0.4444\n"
     ]
    },
    {
     "name": "stderr",
     "output_type": "stream",
     "text": [
      "\u001b[32m[I 2022-05-31 17:16:11,736]\u001b[0m Trial 185 finished with value: 0.4444444477558136 and parameters: {'n_layers': 2, 'n_units': 100, 'dropout': 0.4, 'optimizer': 'RMSprop'}. Best is trial 0 with value: 0.4444444477558136.\u001b[0m\n"
     ]
    },
    {
     "name": "stdout",
     "output_type": "stream",
     "text": [
      "1/1 [==============================] - 0s 16ms/step - loss: 0.0000e+00 - accuracy: 0.4444\n"
     ]
    },
    {
     "name": "stderr",
     "output_type": "stream",
     "text": [
      "\u001b[32m[I 2022-05-31 17:16:12,546]\u001b[0m Trial 186 finished with value: 0.4444444477558136 and parameters: {'n_layers': 2, 'n_units': 100, 'dropout': 0.4, 'optimizer': 'RMSprop'}. Best is trial 0 with value: 0.4444444477558136.\u001b[0m\n"
     ]
    },
    {
     "name": "stdout",
     "output_type": "stream",
     "text": [
      "1/1 [==============================] - 0s 16ms/step - loss: 0.0000e+00 - accuracy: 0.4444\n"
     ]
    },
    {
     "name": "stderr",
     "output_type": "stream",
     "text": [
      "\u001b[32m[I 2022-05-31 17:16:13,376]\u001b[0m Trial 187 finished with value: 0.4444444477558136 and parameters: {'n_layers': 2, 'n_units': 100, 'dropout': 0.4, 'optimizer': 'RMSprop'}. Best is trial 0 with value: 0.4444444477558136.\u001b[0m\n"
     ]
    },
    {
     "name": "stdout",
     "output_type": "stream",
     "text": [
      "1/1 [==============================] - 0s 16ms/step - loss: 0.0000e+00 - accuracy: 0.4444\n"
     ]
    },
    {
     "name": "stderr",
     "output_type": "stream",
     "text": [
      "\u001b[32m[I 2022-05-31 17:16:14,159]\u001b[0m Trial 188 finished with value: 0.4444444477558136 and parameters: {'n_layers': 2, 'n_units': 100, 'dropout': 0.4, 'optimizer': 'RMSprop'}. Best is trial 0 with value: 0.4444444477558136.\u001b[0m\n"
     ]
    },
    {
     "name": "stdout",
     "output_type": "stream",
     "text": [
      "1/1 [==============================] - 0s 16ms/step - loss: 0.0000e+00 - accuracy: 0.4444\n"
     ]
    },
    {
     "name": "stderr",
     "output_type": "stream",
     "text": [
      "\u001b[32m[I 2022-05-31 17:16:15,265]\u001b[0m Trial 189 finished with value: 0.4444444477558136 and parameters: {'n_layers': 5, 'n_units': 100, 'dropout': 0.4, 'optimizer': 'RMSprop'}. Best is trial 0 with value: 0.4444444477558136.\u001b[0m\n"
     ]
    },
    {
     "name": "stdout",
     "output_type": "stream",
     "text": [
      "1/1 [==============================] - 0s 16ms/step - loss: 0.0000e+00 - accuracy: 0.4444\n"
     ]
    },
    {
     "name": "stderr",
     "output_type": "stream",
     "text": [
      "\u001b[32m[I 2022-05-31 17:16:16,399]\u001b[0m Trial 190 finished with value: 0.4444444477558136 and parameters: {'n_layers': 5, 'n_units': 100, 'dropout': 0.4, 'optimizer': 'RMSprop'}. Best is trial 0 with value: 0.4444444477558136.\u001b[0m\n"
     ]
    },
    {
     "name": "stdout",
     "output_type": "stream",
     "text": [
      "1/1 [==============================] - 0s 16ms/step - loss: 0.0000e+00 - accuracy: 0.4444\n"
     ]
    },
    {
     "name": "stderr",
     "output_type": "stream",
     "text": [
      "\u001b[32m[I 2022-05-31 17:16:17,698]\u001b[0m Trial 191 finished with value: 0.4444444477558136 and parameters: {'n_layers': 5, 'n_units': 100, 'dropout': 0.4, 'optimizer': 'RMSprop'}. Best is trial 0 with value: 0.4444444477558136.\u001b[0m\n"
     ]
    },
    {
     "name": "stdout",
     "output_type": "stream",
     "text": [
      "1/1 [==============================] - 0s 16ms/step - loss: 0.0000e+00 - accuracy: 0.4444\n"
     ]
    },
    {
     "name": "stderr",
     "output_type": "stream",
     "text": [
      "\u001b[32m[I 2022-05-31 17:16:18,773]\u001b[0m Trial 192 finished with value: 0.4444444477558136 and parameters: {'n_layers': 5, 'n_units': 100, 'dropout': 0.5, 'optimizer': 'RMSprop'}. Best is trial 0 with value: 0.4444444477558136.\u001b[0m\n"
     ]
    },
    {
     "name": "stdout",
     "output_type": "stream",
     "text": [
      "1/1 [==============================] - 0s 16ms/step - loss: 0.0000e+00 - accuracy: 0.4444\n"
     ]
    },
    {
     "name": "stderr",
     "output_type": "stream",
     "text": [
      "\u001b[32m[I 2022-05-31 17:16:19,856]\u001b[0m Trial 193 finished with value: 0.4444444477558136 and parameters: {'n_layers': 5, 'n_units': 100, 'dropout': 0.5, 'optimizer': 'RMSprop'}. Best is trial 0 with value: 0.4444444477558136.\u001b[0m\n"
     ]
    },
    {
     "name": "stdout",
     "output_type": "stream",
     "text": [
      "1/1 [==============================] - 0s 16ms/step - loss: 0.0000e+00 - accuracy: 0.4444\n"
     ]
    },
    {
     "name": "stderr",
     "output_type": "stream",
     "text": [
      "\u001b[32m[I 2022-05-31 17:16:20,715]\u001b[0m Trial 194 finished with value: 0.4444444477558136 and parameters: {'n_layers': 5, 'n_units': 100, 'dropout': 0.5, 'optimizer': 'SGD'}. Best is trial 0 with value: 0.4444444477558136.\u001b[0m\n"
     ]
    },
    {
     "name": "stdout",
     "output_type": "stream",
     "text": [
      "1/1 [==============================] - 0s 16ms/step - loss: 0.0000e+00 - accuracy: 0.4444\n"
     ]
    },
    {
     "name": "stderr",
     "output_type": "stream",
     "text": [
      "\u001b[32m[I 2022-05-31 17:16:21,615]\u001b[0m Trial 195 finished with value: 0.4444444477558136 and parameters: {'n_layers': 5, 'n_units': 100, 'dropout': 0.5, 'optimizer': 'SGD'}. Best is trial 0 with value: 0.4444444477558136.\u001b[0m\n"
     ]
    },
    {
     "name": "stdout",
     "output_type": "stream",
     "text": [
      "1/1 [==============================] - 0s 16ms/step - loss: 0.0000e+00 - accuracy: 0.4444\n"
     ]
    },
    {
     "name": "stderr",
     "output_type": "stream",
     "text": [
      "\u001b[32m[I 2022-05-31 17:16:22,472]\u001b[0m Trial 196 finished with value: 0.4444444477558136 and parameters: {'n_layers': 5, 'n_units': 150, 'dropout': 0.5, 'optimizer': 'SGD'}. Best is trial 0 with value: 0.4444444477558136.\u001b[0m\n"
     ]
    },
    {
     "name": "stdout",
     "output_type": "stream",
     "text": [
      "1/1 [==============================] - 0s 16ms/step - loss: 0.0000e+00 - accuracy: 0.4444\n"
     ]
    },
    {
     "name": "stderr",
     "output_type": "stream",
     "text": [
      "\u001b[32m[I 2022-05-31 17:16:23,351]\u001b[0m Trial 197 finished with value: 0.4444444477558136 and parameters: {'n_layers': 5, 'n_units': 150, 'dropout': 0.5, 'optimizer': 'SGD'}. Best is trial 0 with value: 0.4444444477558136.\u001b[0m\n"
     ]
    },
    {
     "name": "stdout",
     "output_type": "stream",
     "text": [
      "1/1 [==============================] - 0s 31ms/step - loss: 0.0000e+00 - accuracy: 0.4444\n"
     ]
    },
    {
     "name": "stderr",
     "output_type": "stream",
     "text": [
      "\u001b[32m[I 2022-05-31 17:16:24,260]\u001b[0m Trial 198 finished with value: 0.4444444477558136 and parameters: {'n_layers': 5, 'n_units': 150, 'dropout': 0.5, 'optimizer': 'SGD'}. Best is trial 0 with value: 0.4444444477558136.\u001b[0m\n"
     ]
    },
    {
     "name": "stdout",
     "output_type": "stream",
     "text": [
      "1/1 [==============================] - 0s 16ms/step - loss: 0.0000e+00 - accuracy: 0.4444\n"
     ]
    },
    {
     "name": "stderr",
     "output_type": "stream",
     "text": [
      "\u001b[32m[I 2022-05-31 17:16:25,332]\u001b[0m Trial 199 finished with value: 0.4444444477558136 and parameters: {'n_layers': 5, 'n_units': 150, 'dropout': 0.5, 'optimizer': 'SGD'}. Best is trial 0 with value: 0.4444444477558136.\u001b[0m\n"
     ]
    },
    {
     "name": "stdout",
     "output_type": "stream",
     "text": [
      "1/1 [==============================] - 0s 16ms/step - loss: 0.0000e+00 - accuracy: 0.4444\n"
     ]
    },
    {
     "name": "stderr",
     "output_type": "stream",
     "text": [
      "\u001b[32m[I 2022-05-31 17:16:26,219]\u001b[0m Trial 200 finished with value: 0.4444444477558136 and parameters: {'n_layers': 5, 'n_units': 150, 'dropout': 0.5, 'optimizer': 'SGD'}. Best is trial 0 with value: 0.4444444477558136.\u001b[0m\n"
     ]
    },
    {
     "name": "stdout",
     "output_type": "stream",
     "text": [
      "1/1 [==============================] - 0s 16ms/step - loss: 0.0000e+00 - accuracy: 0.4444\n"
     ]
    },
    {
     "name": "stderr",
     "output_type": "stream",
     "text": [
      "\u001b[32m[I 2022-05-31 17:16:27,074]\u001b[0m Trial 201 finished with value: 0.4444444477558136 and parameters: {'n_layers': 5, 'n_units': 150, 'dropout': 0.5, 'optimizer': 'SGD'}. Best is trial 0 with value: 0.4444444477558136.\u001b[0m\n"
     ]
    },
    {
     "name": "stdout",
     "output_type": "stream",
     "text": [
      "1/1 [==============================] - 0s 16ms/step - loss: 0.0000e+00 - accuracy: 0.4444\n"
     ]
    },
    {
     "name": "stderr",
     "output_type": "stream",
     "text": [
      "\u001b[32m[I 2022-05-31 17:16:27,986]\u001b[0m Trial 202 finished with value: 0.4444444477558136 and parameters: {'n_layers': 5, 'n_units': 150, 'dropout': 0.5, 'optimizer': 'SGD'}. Best is trial 0 with value: 0.4444444477558136.\u001b[0m\n"
     ]
    },
    {
     "name": "stdout",
     "output_type": "stream",
     "text": [
      "1/1 [==============================] - 0s 16ms/step - loss: 0.0000e+00 - accuracy: 0.4444\n"
     ]
    },
    {
     "name": "stderr",
     "output_type": "stream",
     "text": [
      "\u001b[32m[I 2022-05-31 17:16:28,862]\u001b[0m Trial 203 finished with value: 0.4444444477558136 and parameters: {'n_layers': 5, 'n_units': 150, 'dropout': 0.5, 'optimizer': 'SGD'}. Best is trial 0 with value: 0.4444444477558136.\u001b[0m\n"
     ]
    },
    {
     "name": "stdout",
     "output_type": "stream",
     "text": [
      "1/1 [==============================] - 0s 31ms/step - loss: 0.0000e+00 - accuracy: 0.4444\n"
     ]
    },
    {
     "name": "stderr",
     "output_type": "stream",
     "text": [
      "\u001b[32m[I 2022-05-31 17:16:29,747]\u001b[0m Trial 204 finished with value: 0.4444444477558136 and parameters: {'n_layers': 5, 'n_units': 150, 'dropout': 0.5, 'optimizer': 'SGD'}. Best is trial 0 with value: 0.4444444477558136.\u001b[0m\n"
     ]
    },
    {
     "name": "stdout",
     "output_type": "stream",
     "text": [
      "1/1 [==============================] - 0s 16ms/step - loss: 0.0000e+00 - accuracy: 0.4444\n"
     ]
    },
    {
     "name": "stderr",
     "output_type": "stream",
     "text": [
      "\u001b[32m[I 2022-05-31 17:16:30,643]\u001b[0m Trial 205 finished with value: 0.4444444477558136 and parameters: {'n_layers': 5, 'n_units': 150, 'dropout': 0.5, 'optimizer': 'SGD'}. Best is trial 0 with value: 0.4444444477558136.\u001b[0m\n"
     ]
    },
    {
     "name": "stdout",
     "output_type": "stream",
     "text": [
      "1/1 [==============================] - 0s 16ms/step - loss: 0.0000e+00 - accuracy: 0.4444\n"
     ]
    },
    {
     "name": "stderr",
     "output_type": "stream",
     "text": [
      "\u001b[32m[I 2022-05-31 17:16:31,499]\u001b[0m Trial 206 finished with value: 0.4444444477558136 and parameters: {'n_layers': 5, 'n_units': 150, 'dropout': 0.5, 'optimizer': 'SGD'}. Best is trial 0 with value: 0.4444444477558136.\u001b[0m\n"
     ]
    },
    {
     "name": "stdout",
     "output_type": "stream",
     "text": [
      "1/1 [==============================] - 0s 16ms/step - loss: 0.0000e+00 - accuracy: 0.4444\n"
     ]
    },
    {
     "name": "stderr",
     "output_type": "stream",
     "text": [
      "\u001b[32m[I 2022-05-31 17:16:32,383]\u001b[0m Trial 207 finished with value: 0.4444444477558136 and parameters: {'n_layers': 5, 'n_units': 150, 'dropout': 0.5, 'optimizer': 'SGD'}. Best is trial 0 with value: 0.4444444477558136.\u001b[0m\n"
     ]
    },
    {
     "name": "stdout",
     "output_type": "stream",
     "text": [
      "1/1 [==============================] - 0s 16ms/step - loss: 0.0000e+00 - accuracy: 0.4444\n"
     ]
    },
    {
     "name": "stderr",
     "output_type": "stream",
     "text": [
      "\u001b[32m[I 2022-05-31 17:16:33,275]\u001b[0m Trial 208 finished with value: 0.4444444477558136 and parameters: {'n_layers': 4, 'n_units': 150, 'dropout': 0.5, 'optimizer': 'SGD'}. Best is trial 0 with value: 0.4444444477558136.\u001b[0m\n"
     ]
    },
    {
     "name": "stdout",
     "output_type": "stream",
     "text": [
      "1/1 [==============================] - 0s 16ms/step - loss: 0.0000e+00 - accuracy: 0.4444\n"
     ]
    },
    {
     "name": "stderr",
     "output_type": "stream",
     "text": [
      "\u001b[32m[I 2022-05-31 17:16:34,302]\u001b[0m Trial 209 finished with value: 0.4444444477558136 and parameters: {'n_layers': 4, 'n_units': 150, 'dropout': 0.5, 'optimizer': 'SGD'}. Best is trial 0 with value: 0.4444444477558136.\u001b[0m\n"
     ]
    },
    {
     "name": "stdout",
     "output_type": "stream",
     "text": [
      "1/1 [==============================] - 0s 31ms/step - loss: 0.0000e+00 - accuracy: 0.4444\n"
     ]
    },
    {
     "name": "stderr",
     "output_type": "stream",
     "text": [
      "\u001b[32m[I 2022-05-31 17:16:35,167]\u001b[0m Trial 210 finished with value: 0.4444444477558136 and parameters: {'n_layers': 4, 'n_units': 150, 'dropout': 0.5, 'optimizer': 'SGD'}. Best is trial 0 with value: 0.4444444477558136.\u001b[0m\n"
     ]
    },
    {
     "name": "stdout",
     "output_type": "stream",
     "text": [
      "1/1 [==============================] - 0s 16ms/step - loss: 0.0000e+00 - accuracy: 0.4444\n"
     ]
    },
    {
     "name": "stderr",
     "output_type": "stream",
     "text": [
      "\u001b[32m[I 2022-05-31 17:16:35,959]\u001b[0m Trial 211 finished with value: 0.4444444477558136 and parameters: {'n_layers': 4, 'n_units': 200, 'dropout': 0.5, 'optimizer': 'SGD'}. Best is trial 0 with value: 0.4444444477558136.\u001b[0m\n"
     ]
    },
    {
     "name": "stdout",
     "output_type": "stream",
     "text": [
      "1/1 [==============================] - 0s 16ms/step - loss: 0.0000e+00 - accuracy: 0.4444\n"
     ]
    },
    {
     "name": "stderr",
     "output_type": "stream",
     "text": [
      "\u001b[32m[I 2022-05-31 17:16:36,808]\u001b[0m Trial 212 finished with value: 0.4444444477558136 and parameters: {'n_layers': 5, 'n_units': 200, 'dropout': 0.1, 'optimizer': 'SGD'}. Best is trial 0 with value: 0.4444444477558136.\u001b[0m\n"
     ]
    },
    {
     "name": "stdout",
     "output_type": "stream",
     "text": [
      "1/1 [==============================] - 0s 16ms/step - loss: 0.0000e+00 - accuracy: 0.4444\n"
     ]
    },
    {
     "name": "stderr",
     "output_type": "stream",
     "text": [
      "\u001b[32m[I 2022-05-31 17:16:37,746]\u001b[0m Trial 213 finished with value: 0.4444444477558136 and parameters: {'n_layers': 5, 'n_units': 200, 'dropout': 0.1, 'optimizer': 'SGD'}. Best is trial 0 with value: 0.4444444477558136.\u001b[0m\n"
     ]
    },
    {
     "name": "stdout",
     "output_type": "stream",
     "text": [
      "1/1 [==============================] - 0s 16ms/step - loss: 0.0000e+00 - accuracy: 0.4444\n"
     ]
    },
    {
     "name": "stderr",
     "output_type": "stream",
     "text": [
      "\u001b[32m[I 2022-05-31 17:16:38,596]\u001b[0m Trial 214 finished with value: 0.4444444477558136 and parameters: {'n_layers': 3, 'n_units': 200, 'dropout': 0.1, 'optimizer': 'SGD'}. Best is trial 0 with value: 0.4444444477558136.\u001b[0m\n"
     ]
    },
    {
     "name": "stdout",
     "output_type": "stream",
     "text": [
      "1/1 [==============================] - 0s 16ms/step - loss: 0.0000e+00 - accuracy: 0.4444\n"
     ]
    },
    {
     "name": "stderr",
     "output_type": "stream",
     "text": [
      "\u001b[32m[I 2022-05-31 17:16:39,438]\u001b[0m Trial 215 finished with value: 0.4444444477558136 and parameters: {'n_layers': 4, 'n_units': 200, 'dropout': 0.2, 'optimizer': 'SGD'}. Best is trial 0 with value: 0.4444444477558136.\u001b[0m\n"
     ]
    },
    {
     "name": "stdout",
     "output_type": "stream",
     "text": [
      "1/1 [==============================] - 0s 16ms/step - loss: 0.0000e+00 - accuracy: 0.4444\n"
     ]
    },
    {
     "name": "stderr",
     "output_type": "stream",
     "text": [
      "\u001b[32m[I 2022-05-31 17:16:40,239]\u001b[0m Trial 216 finished with value: 0.4444444477558136 and parameters: {'n_layers': 3, 'n_units': 200, 'dropout': 0.5, 'optimizer': 'SGD'}. Best is trial 0 with value: 0.4444444477558136.\u001b[0m\n"
     ]
    },
    {
     "name": "stdout",
     "output_type": "stream",
     "text": [
      "1/1 [==============================] - 0s 16ms/step - loss: 0.0000e+00 - accuracy: 0.4444\n"
     ]
    },
    {
     "name": "stderr",
     "output_type": "stream",
     "text": [
      "\u001b[32m[I 2022-05-31 17:16:40,980]\u001b[0m Trial 217 finished with value: 0.4444444477558136 and parameters: {'n_layers': 3, 'n_units': 200, 'dropout': 0.2, 'optimizer': 'SGD'}. Best is trial 0 with value: 0.4444444477558136.\u001b[0m\n"
     ]
    },
    {
     "name": "stdout",
     "output_type": "stream",
     "text": [
      "1/1 [==============================] - 0s 16ms/step - loss: 0.0000e+00 - accuracy: 0.4444\n"
     ]
    },
    {
     "name": "stderr",
     "output_type": "stream",
     "text": [
      "\u001b[32m[I 2022-05-31 17:16:41,721]\u001b[0m Trial 218 finished with value: 0.4444444477558136 and parameters: {'n_layers': 3, 'n_units': 200, 'dropout': 0.1, 'optimizer': 'SGD'}. Best is trial 0 with value: 0.4444444477558136.\u001b[0m\n"
     ]
    },
    {
     "name": "stdout",
     "output_type": "stream",
     "text": [
      "1/1 [==============================] - 0s 16ms/step - loss: 0.0000e+00 - accuracy: 0.4444\n"
     ]
    },
    {
     "name": "stderr",
     "output_type": "stream",
     "text": [
      "\u001b[32m[I 2022-05-31 17:16:42,769]\u001b[0m Trial 219 finished with value: 0.4444444477558136 and parameters: {'n_layers': 4, 'n_units': 200, 'dropout': 0.1, 'optimizer': 'SGD'}. Best is trial 0 with value: 0.4444444477558136.\u001b[0m\n"
     ]
    },
    {
     "name": "stdout",
     "output_type": "stream",
     "text": [
      "1/1 [==============================] - 0s 16ms/step - loss: 0.0000e+00 - accuracy: 0.4444\n"
     ]
    },
    {
     "name": "stderr",
     "output_type": "stream",
     "text": [
      "\u001b[32m[I 2022-05-31 17:16:43,466]\u001b[0m Trial 220 finished with value: 0.4444444477558136 and parameters: {'n_layers': 4, 'n_units': 200, 'dropout': 0.0, 'optimizer': 'SGD'}. Best is trial 0 with value: 0.4444444477558136.\u001b[0m\n"
     ]
    },
    {
     "name": "stdout",
     "output_type": "stream",
     "text": [
      "1/1 [==============================] - 0s 16ms/step - loss: 0.0000e+00 - accuracy: 0.4444\n"
     ]
    },
    {
     "name": "stderr",
     "output_type": "stream",
     "text": [
      "\u001b[32m[I 2022-05-31 17:16:44,179]\u001b[0m Trial 221 finished with value: 0.4444444477558136 and parameters: {'n_layers': 4, 'n_units': 200, 'dropout': 0.0, 'optimizer': 'SGD'}. Best is trial 0 with value: 0.4444444477558136.\u001b[0m\n"
     ]
    },
    {
     "name": "stdout",
     "output_type": "stream",
     "text": [
      "1/1 [==============================] - 0s 16ms/step - loss: 0.0000e+00 - accuracy: 0.4444\n"
     ]
    },
    {
     "name": "stderr",
     "output_type": "stream",
     "text": [
      "\u001b[32m[I 2022-05-31 17:16:44,934]\u001b[0m Trial 222 finished with value: 0.4444444477558136 and parameters: {'n_layers': 3, 'n_units': 200, 'dropout': 0.0, 'optimizer': 'Adam'}. Best is trial 0 with value: 0.4444444477558136.\u001b[0m\n"
     ]
    },
    {
     "name": "stdout",
     "output_type": "stream",
     "text": [
      "1/1 [==============================] - 0s 16ms/step - loss: 0.0000e+00 - accuracy: 0.4444\n"
     ]
    },
    {
     "name": "stderr",
     "output_type": "stream",
     "text": [
      "\u001b[32m[I 2022-05-31 17:16:45,670]\u001b[0m Trial 223 finished with value: 0.4444444477558136 and parameters: {'n_layers': 3, 'n_units': 200, 'dropout': 0.0, 'optimizer': 'Adam'}. Best is trial 0 with value: 0.4444444477558136.\u001b[0m\n"
     ]
    },
    {
     "name": "stdout",
     "output_type": "stream",
     "text": [
      "1/1 [==============================] - 0s 16ms/step - loss: 0.0000e+00 - accuracy: 0.4444\n"
     ]
    },
    {
     "name": "stderr",
     "output_type": "stream",
     "text": [
      "\u001b[32m[I 2022-05-31 17:16:46,461]\u001b[0m Trial 224 finished with value: 0.4444444477558136 and parameters: {'n_layers': 4, 'n_units': 200, 'dropout': 0.0, 'optimizer': 'Adam'}. Best is trial 0 with value: 0.4444444477558136.\u001b[0m\n"
     ]
    },
    {
     "name": "stdout",
     "output_type": "stream",
     "text": [
      "1/1 [==============================] - 0s 16ms/step - loss: 0.0000e+00 - accuracy: 0.4444\n"
     ]
    },
    {
     "name": "stderr",
     "output_type": "stream",
     "text": [
      "\u001b[32m[I 2022-05-31 17:16:47,221]\u001b[0m Trial 225 finished with value: 0.4444444477558136 and parameters: {'n_layers': 4, 'n_units': 200, 'dropout': 0.0, 'optimizer': 'Adam'}. Best is trial 0 with value: 0.4444444477558136.\u001b[0m\n"
     ]
    },
    {
     "name": "stdout",
     "output_type": "stream",
     "text": [
      "1/1 [==============================] - 0s 31ms/step - loss: 0.0000e+00 - accuracy: 0.4444\n"
     ]
    },
    {
     "name": "stderr",
     "output_type": "stream",
     "text": [
      "\u001b[32m[I 2022-05-31 17:16:48,060]\u001b[0m Trial 226 finished with value: 0.4444444477558136 and parameters: {'n_layers': 3, 'n_units': 200, 'dropout': 0.2, 'optimizer': 'Adam'}. Best is trial 0 with value: 0.4444444477558136.\u001b[0m\n"
     ]
    },
    {
     "name": "stdout",
     "output_type": "stream",
     "text": [
      "1/1 [==============================] - 0s 16ms/step - loss: 0.0000e+00 - accuracy: 0.4444\n"
     ]
    },
    {
     "name": "stderr",
     "output_type": "stream",
     "text": [
      "\u001b[32m[I 2022-05-31 17:16:48,862]\u001b[0m Trial 227 finished with value: 0.4444444477558136 and parameters: {'n_layers': 4, 'n_units': 200, 'dropout': 0.0, 'optimizer': 'Adam'}. Best is trial 0 with value: 0.4444444477558136.\u001b[0m\n"
     ]
    },
    {
     "name": "stdout",
     "output_type": "stream",
     "text": [
      "1/1 [==============================] - 0s 15ms/step - loss: 0.0000e+00 - accuracy: 0.4444\n"
     ]
    },
    {
     "name": "stderr",
     "output_type": "stream",
     "text": [
      "\u001b[32m[I 2022-05-31 17:16:49,728]\u001b[0m Trial 228 finished with value: 0.4444444477558136 and parameters: {'n_layers': 3, 'n_units': 200, 'dropout': 0.2, 'optimizer': 'Adam'}. Best is trial 0 with value: 0.4444444477558136.\u001b[0m\n"
     ]
    },
    {
     "name": "stdout",
     "output_type": "stream",
     "text": [
      "1/1 [==============================] - 0s 16ms/step - loss: 0.0000e+00 - accuracy: 0.4444\n"
     ]
    },
    {
     "name": "stderr",
     "output_type": "stream",
     "text": [
      "\u001b[32m[I 2022-05-31 17:16:50,608]\u001b[0m Trial 229 finished with value: 0.4444444477558136 and parameters: {'n_layers': 3, 'n_units': 200, 'dropout': 0.2, 'optimizer': 'Adam'}. Best is trial 0 with value: 0.4444444477558136.\u001b[0m\n"
     ]
    },
    {
     "name": "stdout",
     "output_type": "stream",
     "text": [
      "1/1 [==============================] - 0s 16ms/step - loss: 0.0000e+00 - accuracy: 0.4444\n"
     ]
    },
    {
     "name": "stderr",
     "output_type": "stream",
     "text": [
      "\u001b[32m[I 2022-05-31 17:16:51,669]\u001b[0m Trial 230 finished with value: 0.4444444477558136 and parameters: {'n_layers': 3, 'n_units': 200, 'dropout': 0.0, 'optimizer': 'Adam'}. Best is trial 0 with value: 0.4444444477558136.\u001b[0m\n"
     ]
    },
    {
     "name": "stdout",
     "output_type": "stream",
     "text": [
      "1/1 [==============================] - 0s 16ms/step - loss: 0.0000e+00 - accuracy: 0.4444\n"
     ]
    },
    {
     "name": "stderr",
     "output_type": "stream",
     "text": [
      "\u001b[32m[I 2022-05-31 17:16:52,456]\u001b[0m Trial 231 finished with value: 0.4444444477558136 and parameters: {'n_layers': 3, 'n_units': 200, 'dropout': 0.0, 'optimizer': 'Adam'}. Best is trial 0 with value: 0.4444444477558136.\u001b[0m\n"
     ]
    },
    {
     "name": "stdout",
     "output_type": "stream",
     "text": [
      "1/1 [==============================] - 0s 16ms/step - loss: 0.0000e+00 - accuracy: 0.4444\n"
     ]
    },
    {
     "name": "stderr",
     "output_type": "stream",
     "text": [
      "\u001b[32m[I 2022-05-31 17:16:53,185]\u001b[0m Trial 232 finished with value: 0.4444444477558136 and parameters: {'n_layers': 3, 'n_units': 200, 'dropout': 0.0, 'optimizer': 'Adam'}. Best is trial 0 with value: 0.4444444477558136.\u001b[0m\n"
     ]
    },
    {
     "name": "stdout",
     "output_type": "stream",
     "text": [
      "1/1 [==============================] - 0s 16ms/step - loss: 0.0000e+00 - accuracy: 0.4444\n"
     ]
    },
    {
     "name": "stderr",
     "output_type": "stream",
     "text": [
      "\u001b[32m[I 2022-05-31 17:16:53,953]\u001b[0m Trial 233 finished with value: 0.4444444477558136 and parameters: {'n_layers': 3, 'n_units': 200, 'dropout': 0.0, 'optimizer': 'Adam'}. Best is trial 0 with value: 0.4444444477558136.\u001b[0m\n"
     ]
    },
    {
     "name": "stdout",
     "output_type": "stream",
     "text": [
      "1/1 [==============================] - 0s 31ms/step - loss: 0.0000e+00 - accuracy: 0.4444\n"
     ]
    },
    {
     "name": "stderr",
     "output_type": "stream",
     "text": [
      "\u001b[32m[I 2022-05-31 17:16:54,707]\u001b[0m Trial 234 finished with value: 0.4444444477558136 and parameters: {'n_layers': 3, 'n_units': 200, 'dropout': 0.0, 'optimizer': 'Adam'}. Best is trial 0 with value: 0.4444444477558136.\u001b[0m\n"
     ]
    },
    {
     "name": "stdout",
     "output_type": "stream",
     "text": [
      "1/1 [==============================] - 0s 16ms/step - loss: 0.0000e+00 - accuracy: 0.4444\n"
     ]
    },
    {
     "name": "stderr",
     "output_type": "stream",
     "text": [
      "\u001b[32m[I 2022-05-31 17:16:55,445]\u001b[0m Trial 235 finished with value: 0.4444444477558136 and parameters: {'n_layers': 3, 'n_units': 250, 'dropout': 0.0, 'optimizer': 'Adam'}. Best is trial 0 with value: 0.4444444477558136.\u001b[0m\n"
     ]
    },
    {
     "name": "stdout",
     "output_type": "stream",
     "text": [
      "1/1 [==============================] - 0s 16ms/step - loss: 0.0000e+00 - accuracy: 0.4444\n"
     ]
    },
    {
     "name": "stderr",
     "output_type": "stream",
     "text": [
      "\u001b[32m[I 2022-05-31 17:16:56,221]\u001b[0m Trial 236 finished with value: 0.4444444477558136 and parameters: {'n_layers': 3, 'n_units': 250, 'dropout': 0.0, 'optimizer': 'Adam'}. Best is trial 0 with value: 0.4444444477558136.\u001b[0m\n"
     ]
    },
    {
     "name": "stdout",
     "output_type": "stream",
     "text": [
      "1/1 [==============================] - 0s 16ms/step - loss: 0.0000e+00 - accuracy: 0.4444\n"
     ]
    },
    {
     "name": "stderr",
     "output_type": "stream",
     "text": [
      "\u001b[32m[I 2022-05-31 17:16:57,007]\u001b[0m Trial 237 finished with value: 0.4444444477558136 and parameters: {'n_layers': 3, 'n_units': 250, 'dropout': 0.0, 'optimizer': 'Adam'}. Best is trial 0 with value: 0.4444444477558136.\u001b[0m\n"
     ]
    },
    {
     "name": "stdout",
     "output_type": "stream",
     "text": [
      "1/1 [==============================] - 0s 34ms/step - loss: 0.0000e+00 - accuracy: 0.4444\n"
     ]
    },
    {
     "name": "stderr",
     "output_type": "stream",
     "text": [
      "\u001b[32m[I 2022-05-31 17:16:57,819]\u001b[0m Trial 238 finished with value: 0.4444444477558136 and parameters: {'n_layers': 3, 'n_units': 250, 'dropout': 0.0, 'optimizer': 'Adam'}. Best is trial 0 with value: 0.4444444477558136.\u001b[0m\n"
     ]
    },
    {
     "name": "stdout",
     "output_type": "stream",
     "text": [
      "1/1 [==============================] - 0s 16ms/step - loss: 0.0000e+00 - accuracy: 0.4444\n"
     ]
    },
    {
     "name": "stderr",
     "output_type": "stream",
     "text": [
      "\u001b[32m[I 2022-05-31 17:16:58,673]\u001b[0m Trial 239 finished with value: 0.4444444477558136 and parameters: {'n_layers': 3, 'n_units': 250, 'dropout': 0.0, 'optimizer': 'Adam'}. Best is trial 0 with value: 0.4444444477558136.\u001b[0m\n"
     ]
    },
    {
     "name": "stdout",
     "output_type": "stream",
     "text": [
      "1/1 [==============================] - 0s 33ms/step - loss: 0.0000e+00 - accuracy: 0.4444\n"
     ]
    },
    {
     "name": "stderr",
     "output_type": "stream",
     "text": [
      "\u001b[32m[I 2022-05-31 17:17:00,590]\u001b[0m Trial 240 finished with value: 0.4444444477558136 and parameters: {'n_layers': 2, 'n_units': 250, 'dropout': 0.30000000000000004, 'optimizer': 'Adam'}. Best is trial 0 with value: 0.4444444477558136.\u001b[0m\n"
     ]
    },
    {
     "name": "stdout",
     "output_type": "stream",
     "text": [
      "1/1 [==============================] - 0s 16ms/step - loss: 0.0000e+00 - accuracy: 0.4444\n"
     ]
    },
    {
     "name": "stderr",
     "output_type": "stream",
     "text": [
      "\u001b[32m[I 2022-05-31 17:17:01,897]\u001b[0m Trial 241 finished with value: 0.4444444477558136 and parameters: {'n_layers': 2, 'n_units': 250, 'dropout': 0.30000000000000004, 'optimizer': 'Adam'}. Best is trial 0 with value: 0.4444444477558136.\u001b[0m\n"
     ]
    },
    {
     "name": "stdout",
     "output_type": "stream",
     "text": [
      "1/1 [==============================] - 0s 16ms/step - loss: 0.0000e+00 - accuracy: 0.4444\n"
     ]
    },
    {
     "name": "stderr",
     "output_type": "stream",
     "text": [
      "\u001b[32m[I 2022-05-31 17:17:02,848]\u001b[0m Trial 242 finished with value: 0.4444444477558136 and parameters: {'n_layers': 2, 'n_units': 250, 'dropout': 0.0, 'optimizer': 'Adam'}. Best is trial 0 with value: 0.4444444477558136.\u001b[0m\n"
     ]
    },
    {
     "name": "stdout",
     "output_type": "stream",
     "text": [
      "1/1 [==============================] - 0s 16ms/step - loss: 0.0000e+00 - accuracy: 0.4444\n"
     ]
    },
    {
     "name": "stderr",
     "output_type": "stream",
     "text": [
      "\u001b[32m[I 2022-05-31 17:17:03,662]\u001b[0m Trial 243 finished with value: 0.4444444477558136 and parameters: {'n_layers': 2, 'n_units': 250, 'dropout': 0.30000000000000004, 'optimizer': 'Adam'}. Best is trial 0 with value: 0.4444444477558136.\u001b[0m\n"
     ]
    },
    {
     "name": "stdout",
     "output_type": "stream",
     "text": [
      "1/1 [==============================] - 0s 16ms/step - loss: 0.0000e+00 - accuracy: 0.4444\n"
     ]
    },
    {
     "name": "stderr",
     "output_type": "stream",
     "text": [
      "\u001b[32m[I 2022-05-31 17:17:04,372]\u001b[0m Trial 244 finished with value: 0.4444444477558136 and parameters: {'n_layers': 2, 'n_units': 250, 'dropout': 0.30000000000000004, 'optimizer': 'Adam'}. Best is trial 0 with value: 0.4444444477558136.\u001b[0m\n"
     ]
    },
    {
     "name": "stdout",
     "output_type": "stream",
     "text": [
      "1/1 [==============================] - 0s 16ms/step - loss: 0.0000e+00 - accuracy: 0.4444\n"
     ]
    },
    {
     "name": "stderr",
     "output_type": "stream",
     "text": [
      "\u001b[32m[I 2022-05-31 17:17:05,142]\u001b[0m Trial 245 finished with value: 0.4444444477558136 and parameters: {'n_layers': 2, 'n_units': 250, 'dropout': 0.30000000000000004, 'optimizer': 'Adam'}. Best is trial 0 with value: 0.4444444477558136.\u001b[0m\n"
     ]
    },
    {
     "name": "stdout",
     "output_type": "stream",
     "text": [
      "1/1 [==============================] - 0s 16ms/step - loss: 0.0000e+00 - accuracy: 0.4444\n"
     ]
    },
    {
     "name": "stderr",
     "output_type": "stream",
     "text": [
      "\u001b[32m[I 2022-05-31 17:17:05,888]\u001b[0m Trial 246 finished with value: 0.4444444477558136 and parameters: {'n_layers': 2, 'n_units': 250, 'dropout': 0.30000000000000004, 'optimizer': 'Adam'}. Best is trial 0 with value: 0.4444444477558136.\u001b[0m\n"
     ]
    },
    {
     "name": "stdout",
     "output_type": "stream",
     "text": [
      "1/1 [==============================] - 0s 16ms/step - loss: 0.0000e+00 - accuracy: 0.4444\n"
     ]
    },
    {
     "name": "stderr",
     "output_type": "stream",
     "text": [
      "\u001b[32m[I 2022-05-31 17:17:06,665]\u001b[0m Trial 247 finished with value: 0.4444444477558136 and parameters: {'n_layers': 2, 'n_units': 250, 'dropout': 0.30000000000000004, 'optimizer': 'Adam'}. Best is trial 0 with value: 0.4444444477558136.\u001b[0m\n"
     ]
    },
    {
     "name": "stdout",
     "output_type": "stream",
     "text": [
      "1/1 [==============================] - 0s 16ms/step - loss: 0.0000e+00 - accuracy: 0.4444\n"
     ]
    },
    {
     "name": "stderr",
     "output_type": "stream",
     "text": [
      "\u001b[32m[I 2022-05-31 17:17:07,563]\u001b[0m Trial 248 finished with value: 0.4444444477558136 and parameters: {'n_layers': 2, 'n_units': 250, 'dropout': 0.30000000000000004, 'optimizer': 'Adam'}. Best is trial 0 with value: 0.4444444477558136.\u001b[0m\n"
     ]
    },
    {
     "name": "stdout",
     "output_type": "stream",
     "text": [
      "1/1 [==============================] - 0s 16ms/step - loss: 0.0000e+00 - accuracy: 0.4444\n"
     ]
    },
    {
     "name": "stderr",
     "output_type": "stream",
     "text": [
      "\u001b[32m[I 2022-05-31 17:17:08,307]\u001b[0m Trial 249 finished with value: 0.4444444477558136 and parameters: {'n_layers': 2, 'n_units': 250, 'dropout': 0.30000000000000004, 'optimizer': 'Adam'}. Best is trial 0 with value: 0.4444444477558136.\u001b[0m\n"
     ]
    },
    {
     "name": "stdout",
     "output_type": "stream",
     "text": [
      "1/1 [==============================] - 0s 31ms/step - loss: 0.0000e+00 - accuracy: 0.4444\n"
     ]
    },
    {
     "name": "stderr",
     "output_type": "stream",
     "text": [
      "\u001b[32m[I 2022-05-31 17:17:09,137]\u001b[0m Trial 250 finished with value: 0.4444444477558136 and parameters: {'n_layers': 2, 'n_units': 250, 'dropout': 0.30000000000000004, 'optimizer': 'RMSprop'}. Best is trial 0 with value: 0.4444444477558136.\u001b[0m\n"
     ]
    },
    {
     "name": "stdout",
     "output_type": "stream",
     "text": [
      "1/1 [==============================] - 0s 16ms/step - loss: 0.0000e+00 - accuracy: 0.4444\n"
     ]
    },
    {
     "name": "stderr",
     "output_type": "stream",
     "text": [
      "\u001b[32m[I 2022-05-31 17:17:09,939]\u001b[0m Trial 251 finished with value: 0.4444444477558136 and parameters: {'n_layers': 2, 'n_units': 250, 'dropout': 0.30000000000000004, 'optimizer': 'RMSprop'}. Best is trial 0 with value: 0.4444444477558136.\u001b[0m\n"
     ]
    },
    {
     "name": "stdout",
     "output_type": "stream",
     "text": [
      "1/1 [==============================] - 0s 16ms/step - loss: 0.0000e+00 - accuracy: 0.4444\n"
     ]
    },
    {
     "name": "stderr",
     "output_type": "stream",
     "text": [
      "\u001b[32m[I 2022-05-31 17:17:11,025]\u001b[0m Trial 252 finished with value: 0.4444444477558136 and parameters: {'n_layers': 2, 'n_units': 250, 'dropout': 0.30000000000000004, 'optimizer': 'RMSprop'}. Best is trial 0 with value: 0.4444444477558136.\u001b[0m\n"
     ]
    },
    {
     "name": "stdout",
     "output_type": "stream",
     "text": [
      "1/1 [==============================] - 0s 16ms/step - loss: 0.0000e+00 - accuracy: 0.4444\n"
     ]
    },
    {
     "name": "stderr",
     "output_type": "stream",
     "text": [
      "\u001b[32m[I 2022-05-31 17:17:11,850]\u001b[0m Trial 253 finished with value: 0.4444444477558136 and parameters: {'n_layers': 2, 'n_units': 250, 'dropout': 0.30000000000000004, 'optimizer': 'RMSprop'}. Best is trial 0 with value: 0.4444444477558136.\u001b[0m\n"
     ]
    },
    {
     "name": "stdout",
     "output_type": "stream",
     "text": [
      "1/1 [==============================] - 0s 16ms/step - loss: 0.0000e+00 - accuracy: 0.4444\n"
     ]
    },
    {
     "name": "stderr",
     "output_type": "stream",
     "text": [
      "\u001b[32m[I 2022-05-31 17:17:12,696]\u001b[0m Trial 254 finished with value: 0.4444444477558136 and parameters: {'n_layers': 2, 'n_units': 250, 'dropout': 0.30000000000000004, 'optimizer': 'RMSprop'}. Best is trial 0 with value: 0.4444444477558136.\u001b[0m\n"
     ]
    },
    {
     "name": "stdout",
     "output_type": "stream",
     "text": [
      "1/1 [==============================] - 0s 16ms/step - loss: 0.0000e+00 - accuracy: 0.4444\n"
     ]
    },
    {
     "name": "stderr",
     "output_type": "stream",
     "text": [
      "\u001b[32m[I 2022-05-31 17:17:13,582]\u001b[0m Trial 255 finished with value: 0.4444444477558136 and parameters: {'n_layers': 2, 'n_units': 250, 'dropout': 0.30000000000000004, 'optimizer': 'RMSprop'}. Best is trial 0 with value: 0.4444444477558136.\u001b[0m\n"
     ]
    },
    {
     "name": "stdout",
     "output_type": "stream",
     "text": [
      "1/1 [==============================] - 0s 16ms/step - loss: 0.0000e+00 - accuracy: 0.4444\n"
     ]
    },
    {
     "name": "stderr",
     "output_type": "stream",
     "text": [
      "\u001b[32m[I 2022-05-31 17:17:14,418]\u001b[0m Trial 256 finished with value: 0.4444444477558136 and parameters: {'n_layers': 2, 'n_units': 250, 'dropout': 0.4, 'optimizer': 'RMSprop'}. Best is trial 0 with value: 0.4444444477558136.\u001b[0m\n"
     ]
    },
    {
     "name": "stdout",
     "output_type": "stream",
     "text": [
      "1/1 [==============================] - 0s 16ms/step - loss: 0.0000e+00 - accuracy: 0.4444\n"
     ]
    },
    {
     "name": "stderr",
     "output_type": "stream",
     "text": [
      "\u001b[32m[I 2022-05-31 17:17:15,264]\u001b[0m Trial 257 finished with value: 0.4444444477558136 and parameters: {'n_layers': 2, 'n_units': 250, 'dropout': 0.4, 'optimizer': 'RMSprop'}. Best is trial 0 with value: 0.4444444477558136.\u001b[0m\n"
     ]
    },
    {
     "name": "stdout",
     "output_type": "stream",
     "text": [
      "1/1 [==============================] - 0s 31ms/step - loss: 0.0000e+00 - accuracy: 0.4444\n"
     ]
    },
    {
     "name": "stderr",
     "output_type": "stream",
     "text": [
      "\u001b[32m[I 2022-05-31 17:17:16,084]\u001b[0m Trial 258 finished with value: 0.4444444477558136 and parameters: {'n_layers': 2, 'n_units': 250, 'dropout': 0.4, 'optimizer': 'RMSprop'}. Best is trial 0 with value: 0.4444444477558136.\u001b[0m\n"
     ]
    },
    {
     "name": "stdout",
     "output_type": "stream",
     "text": [
      "1/1 [==============================] - 0s 16ms/step - loss: 0.0000e+00 - accuracy: 0.4444\n"
     ]
    },
    {
     "name": "stderr",
     "output_type": "stream",
     "text": [
      "\u001b[32m[I 2022-05-31 17:17:16,912]\u001b[0m Trial 259 finished with value: 0.4444444477558136 and parameters: {'n_layers': 2, 'n_units': 250, 'dropout': 0.4, 'optimizer': 'RMSprop'}. Best is trial 0 with value: 0.4444444477558136.\u001b[0m\n"
     ]
    },
    {
     "name": "stdout",
     "output_type": "stream",
     "text": [
      "1/1 [==============================] - 0s 16ms/step - loss: 0.0000e+00 - accuracy: 0.4444\n"
     ]
    },
    {
     "name": "stderr",
     "output_type": "stream",
     "text": [
      "\u001b[32m[I 2022-05-31 17:17:17,745]\u001b[0m Trial 260 finished with value: 0.4444444477558136 and parameters: {'n_layers': 2, 'n_units': 100, 'dropout': 0.4, 'optimizer': 'RMSprop'}. Best is trial 0 with value: 0.4444444477558136.\u001b[0m\n"
     ]
    },
    {
     "name": "stdout",
     "output_type": "stream",
     "text": [
      "1/1 [==============================] - 0s 16ms/step - loss: 0.0000e+00 - accuracy: 0.4444\n"
     ]
    },
    {
     "name": "stderr",
     "output_type": "stream",
     "text": [
      "\u001b[32m[I 2022-05-31 17:17:18,813]\u001b[0m Trial 261 finished with value: 0.4444444477558136 and parameters: {'n_layers': 2, 'n_units': 100, 'dropout': 0.4, 'optimizer': 'RMSprop'}. Best is trial 0 with value: 0.4444444477558136.\u001b[0m\n"
     ]
    },
    {
     "name": "stdout",
     "output_type": "stream",
     "text": [
      "1/1 [==============================] - 0s 16ms/step - loss: 0.0000e+00 - accuracy: 0.4444\n"
     ]
    },
    {
     "name": "stderr",
     "output_type": "stream",
     "text": [
      "\u001b[32m[I 2022-05-31 17:17:19,629]\u001b[0m Trial 262 finished with value: 0.4444444477558136 and parameters: {'n_layers': 2, 'n_units': 250, 'dropout': 0.4, 'optimizer': 'RMSprop'}. Best is trial 0 with value: 0.4444444477558136.\u001b[0m\n"
     ]
    },
    {
     "name": "stdout",
     "output_type": "stream",
     "text": [
      "1/1 [==============================] - 0s 16ms/step - loss: 0.0000e+00 - accuracy: 0.4444\n"
     ]
    },
    {
     "name": "stderr",
     "output_type": "stream",
     "text": [
      "\u001b[32m[I 2022-05-31 17:17:20,438]\u001b[0m Trial 263 finished with value: 0.4444444477558136 and parameters: {'n_layers': 2, 'n_units': 100, 'dropout': 0.4, 'optimizer': 'RMSprop'}. Best is trial 0 with value: 0.4444444477558136.\u001b[0m\n"
     ]
    },
    {
     "name": "stdout",
     "output_type": "stream",
     "text": [
      "1/1 [==============================] - 0s 16ms/step - loss: 0.0000e+00 - accuracy: 0.4444\n"
     ]
    },
    {
     "name": "stderr",
     "output_type": "stream",
     "text": [
      "\u001b[32m[I 2022-05-31 17:17:21,246]\u001b[0m Trial 264 finished with value: 0.4444444477558136 and parameters: {'n_layers': 2, 'n_units': 100, 'dropout': 0.4, 'optimizer': 'RMSprop'}. Best is trial 0 with value: 0.4444444477558136.\u001b[0m\n"
     ]
    },
    {
     "name": "stdout",
     "output_type": "stream",
     "text": [
      "1/1 [==============================] - 0s 16ms/step - loss: 0.0000e+00 - accuracy: 0.4444\n"
     ]
    },
    {
     "name": "stderr",
     "output_type": "stream",
     "text": [
      "\u001b[32m[I 2022-05-31 17:17:22,049]\u001b[0m Trial 265 finished with value: 0.4444444477558136 and parameters: {'n_layers': 2, 'n_units': 100, 'dropout': 0.4, 'optimizer': 'RMSprop'}. Best is trial 0 with value: 0.4444444477558136.\u001b[0m\n"
     ]
    },
    {
     "name": "stdout",
     "output_type": "stream",
     "text": [
      "1/1 [==============================] - 0s 16ms/step - loss: 0.0000e+00 - accuracy: 0.4444\n"
     ]
    },
    {
     "name": "stderr",
     "output_type": "stream",
     "text": [
      "\u001b[32m[I 2022-05-31 17:17:22,877]\u001b[0m Trial 266 finished with value: 0.4444444477558136 and parameters: {'n_layers': 2, 'n_units': 100, 'dropout': 0.4, 'optimizer': 'RMSprop'}. Best is trial 0 with value: 0.4444444477558136.\u001b[0m\n"
     ]
    },
    {
     "name": "stdout",
     "output_type": "stream",
     "text": [
      "1/1 [==============================] - 0s 16ms/step - loss: 0.0000e+00 - accuracy: 0.4444\n"
     ]
    },
    {
     "name": "stderr",
     "output_type": "stream",
     "text": [
      "\u001b[32m[I 2022-05-31 17:17:23,690]\u001b[0m Trial 267 finished with value: 0.4444444477558136 and parameters: {'n_layers': 2, 'n_units': 100, 'dropout': 0.4, 'optimizer': 'RMSprop'}. Best is trial 0 with value: 0.4444444477558136.\u001b[0m\n"
     ]
    },
    {
     "name": "stdout",
     "output_type": "stream",
     "text": [
      "1/1 [==============================] - 0s 16ms/step - loss: 0.0000e+00 - accuracy: 0.4444\n"
     ]
    },
    {
     "name": "stderr",
     "output_type": "stream",
     "text": [
      "\u001b[32m[I 2022-05-31 17:17:24,587]\u001b[0m Trial 268 finished with value: 0.4444444477558136 and parameters: {'n_layers': 2, 'n_units': 100, 'dropout': 0.4, 'optimizer': 'RMSprop'}. Best is trial 0 with value: 0.4444444477558136.\u001b[0m\n"
     ]
    },
    {
     "name": "stdout",
     "output_type": "stream",
     "text": [
      "1/1 [==============================] - 0s 16ms/step - loss: 0.0000e+00 - accuracy: 0.4444\n"
     ]
    },
    {
     "name": "stderr",
     "output_type": "stream",
     "text": [
      "\u001b[32m[I 2022-05-31 17:17:25,437]\u001b[0m Trial 269 finished with value: 0.4444444477558136 and parameters: {'n_layers': 2, 'n_units': 100, 'dropout': 0.4, 'optimizer': 'RMSprop'}. Best is trial 0 with value: 0.4444444477558136.\u001b[0m\n"
     ]
    },
    {
     "name": "stdout",
     "output_type": "stream",
     "text": [
      "1/1 [==============================] - 0s 16ms/step - loss: 0.0000e+00 - accuracy: 0.4444\n"
     ]
    },
    {
     "name": "stderr",
     "output_type": "stream",
     "text": [
      "\u001b[32m[I 2022-05-31 17:17:26,237]\u001b[0m Trial 270 finished with value: 0.4444444477558136 and parameters: {'n_layers': 2, 'n_units': 100, 'dropout': 0.4, 'optimizer': 'RMSprop'}. Best is trial 0 with value: 0.4444444477558136.\u001b[0m\n"
     ]
    },
    {
     "name": "stdout",
     "output_type": "stream",
     "text": [
      "1/1 [==============================] - 0s 16ms/step - loss: 0.0000e+00 - accuracy: 0.4444\n"
     ]
    },
    {
     "name": "stderr",
     "output_type": "stream",
     "text": [
      "\u001b[32m[I 2022-05-31 17:17:27,250]\u001b[0m Trial 271 finished with value: 0.4444444477558136 and parameters: {'n_layers': 2, 'n_units': 100, 'dropout': 0.4, 'optimizer': 'RMSprop'}. Best is trial 0 with value: 0.4444444477558136.\u001b[0m\n"
     ]
    },
    {
     "name": "stdout",
     "output_type": "stream",
     "text": [
      "1/1 [==============================] - 0s 16ms/step - loss: 0.0000e+00 - accuracy: 0.4444\n"
     ]
    },
    {
     "name": "stderr",
     "output_type": "stream",
     "text": [
      "\u001b[32m[I 2022-05-31 17:17:28,057]\u001b[0m Trial 272 finished with value: 0.4444444477558136 and parameters: {'n_layers': 2, 'n_units': 100, 'dropout': 0.4, 'optimizer': 'RMSprop'}. Best is trial 0 with value: 0.4444444477558136.\u001b[0m\n"
     ]
    },
    {
     "name": "stdout",
     "output_type": "stream",
     "text": [
      "1/1 [==============================] - 0s 16ms/step - loss: 0.0000e+00 - accuracy: 0.4444\n"
     ]
    },
    {
     "name": "stderr",
     "output_type": "stream",
     "text": [
      "\u001b[32m[I 2022-05-31 17:17:28,876]\u001b[0m Trial 273 finished with value: 0.4444444477558136 and parameters: {'n_layers': 2, 'n_units': 100, 'dropout': 0.4, 'optimizer': 'RMSprop'}. Best is trial 0 with value: 0.4444444477558136.\u001b[0m\n"
     ]
    },
    {
     "name": "stdout",
     "output_type": "stream",
     "text": [
      "1/1 [==============================] - 0s 16ms/step - loss: 0.0000e+00 - accuracy: 0.4444\n"
     ]
    },
    {
     "name": "stderr",
     "output_type": "stream",
     "text": [
      "\u001b[32m[I 2022-05-31 17:17:29,691]\u001b[0m Trial 274 finished with value: 0.4444444477558136 and parameters: {'n_layers': 2, 'n_units': 100, 'dropout': 0.4, 'optimizer': 'RMSprop'}. Best is trial 0 with value: 0.4444444477558136.\u001b[0m\n"
     ]
    },
    {
     "name": "stdout",
     "output_type": "stream",
     "text": [
      "1/1 [==============================] - 0s 16ms/step - loss: 0.0000e+00 - accuracy: 0.4444\n"
     ]
    },
    {
     "name": "stderr",
     "output_type": "stream",
     "text": [
      "\u001b[32m[I 2022-05-31 17:17:30,480]\u001b[0m Trial 275 finished with value: 0.4444444477558136 and parameters: {'n_layers': 2, 'n_units': 100, 'dropout': 0.4, 'optimizer': 'RMSprop'}. Best is trial 0 with value: 0.4444444477558136.\u001b[0m\n"
     ]
    },
    {
     "name": "stdout",
     "output_type": "stream",
     "text": [
      "1/1 [==============================] - 0s 16ms/step - loss: 0.0000e+00 - accuracy: 0.4444\n"
     ]
    },
    {
     "name": "stderr",
     "output_type": "stream",
     "text": [
      "\u001b[32m[I 2022-05-31 17:17:31,605]\u001b[0m Trial 276 finished with value: 0.4444444477558136 and parameters: {'n_layers': 5, 'n_units': 100, 'dropout': 0.4, 'optimizer': 'RMSprop'}. Best is trial 0 with value: 0.4444444477558136.\u001b[0m\n"
     ]
    },
    {
     "name": "stdout",
     "output_type": "stream",
     "text": [
      "1/1 [==============================] - 0s 16ms/step - loss: 0.0000e+00 - accuracy: 0.4444\n"
     ]
    },
    {
     "name": "stderr",
     "output_type": "stream",
     "text": [
      "\u001b[32m[I 2022-05-31 17:17:32,693]\u001b[0m Trial 277 finished with value: 0.4444444477558136 and parameters: {'n_layers': 5, 'n_units': 100, 'dropout': 0.4, 'optimizer': 'RMSprop'}. Best is trial 0 with value: 0.4444444477558136.\u001b[0m\n"
     ]
    },
    {
     "name": "stdout",
     "output_type": "stream",
     "text": [
      "1/1 [==============================] - 0s 16ms/step - loss: 0.0000e+00 - accuracy: 0.4444\n"
     ]
    },
    {
     "name": "stderr",
     "output_type": "stream",
     "text": [
      "\u001b[32m[I 2022-05-31 17:17:33,832]\u001b[0m Trial 278 finished with value: 0.4444444477558136 and parameters: {'n_layers': 5, 'n_units': 100, 'dropout': 0.4, 'optimizer': 'RMSprop'}. Best is trial 0 with value: 0.4444444477558136.\u001b[0m\n"
     ]
    },
    {
     "name": "stdout",
     "output_type": "stream",
     "text": [
      "1/1 [==============================] - 0s 16ms/step - loss: 0.0000e+00 - accuracy: 0.4444\n"
     ]
    },
    {
     "name": "stderr",
     "output_type": "stream",
     "text": [
      "\u001b[32m[I 2022-05-31 17:17:34,948]\u001b[0m Trial 279 finished with value: 0.4444444477558136 and parameters: {'n_layers': 5, 'n_units': 100, 'dropout': 0.4, 'optimizer': 'RMSprop'}. Best is trial 0 with value: 0.4444444477558136.\u001b[0m\n"
     ]
    },
    {
     "name": "stdout",
     "output_type": "stream",
     "text": [
      "1/1 [==============================] - 0s 31ms/step - loss: 0.0000e+00 - accuracy: 0.4444\n"
     ]
    },
    {
     "name": "stderr",
     "output_type": "stream",
     "text": [
      "\u001b[32m[I 2022-05-31 17:17:36,294]\u001b[0m Trial 280 finished with value: 0.4444444477558136 and parameters: {'n_layers': 5, 'n_units': 100, 'dropout': 0.5, 'optimizer': 'RMSprop'}. Best is trial 0 with value: 0.4444444477558136.\u001b[0m\n"
     ]
    },
    {
     "name": "stdout",
     "output_type": "stream",
     "text": [
      "1/1 [==============================] - 0s 16ms/step - loss: 0.0000e+00 - accuracy: 0.4444\n"
     ]
    },
    {
     "name": "stderr",
     "output_type": "stream",
     "text": [
      "\u001b[32m[I 2022-05-31 17:17:37,396]\u001b[0m Trial 281 finished with value: 0.4444444477558136 and parameters: {'n_layers': 5, 'n_units': 100, 'dropout': 0.5, 'optimizer': 'RMSprop'}. Best is trial 0 with value: 0.4444444477558136.\u001b[0m\n"
     ]
    },
    {
     "name": "stdout",
     "output_type": "stream",
     "text": [
      "1/1 [==============================] - 0s 16ms/step - loss: 0.0000e+00 - accuracy: 0.4444\n"
     ]
    },
    {
     "name": "stderr",
     "output_type": "stream",
     "text": [
      "\u001b[32m[I 2022-05-31 17:17:38,512]\u001b[0m Trial 282 finished with value: 0.4444444477558136 and parameters: {'n_layers': 5, 'n_units': 100, 'dropout': 0.5, 'optimizer': 'RMSprop'}. Best is trial 0 with value: 0.4444444477558136.\u001b[0m\n"
     ]
    },
    {
     "name": "stdout",
     "output_type": "stream",
     "text": [
      "1/1 [==============================] - 0s 16ms/step - loss: 0.0000e+00 - accuracy: 0.4444\n"
     ]
    },
    {
     "name": "stderr",
     "output_type": "stream",
     "text": [
      "\u001b[32m[I 2022-05-31 17:17:39,648]\u001b[0m Trial 283 finished with value: 0.4444444477558136 and parameters: {'n_layers': 5, 'n_units': 100, 'dropout': 0.5, 'optimizer': 'RMSprop'}. Best is trial 0 with value: 0.4444444477558136.\u001b[0m\n"
     ]
    },
    {
     "name": "stdout",
     "output_type": "stream",
     "text": [
      "1/1 [==============================] - 0s 16ms/step - loss: 0.0000e+00 - accuracy: 0.4444\n"
     ]
    },
    {
     "name": "stderr",
     "output_type": "stream",
     "text": [
      "\u001b[32m[I 2022-05-31 17:17:40,520]\u001b[0m Trial 284 finished with value: 0.4444444477558136 and parameters: {'n_layers': 5, 'n_units': 100, 'dropout': 0.5, 'optimizer': 'SGD'}. Best is trial 0 with value: 0.4444444477558136.\u001b[0m\n"
     ]
    },
    {
     "name": "stdout",
     "output_type": "stream",
     "text": [
      "1/1 [==============================] - 0s 16ms/step - loss: 0.0000e+00 - accuracy: 0.4444\n"
     ]
    },
    {
     "name": "stderr",
     "output_type": "stream",
     "text": [
      "\u001b[32m[I 2022-05-31 17:17:41,650]\u001b[0m Trial 285 finished with value: 0.4444444477558136 and parameters: {'n_layers': 5, 'n_units': 100, 'dropout': 0.5, 'optimizer': 'RMSprop'}. Best is trial 0 with value: 0.4444444477558136.\u001b[0m\n"
     ]
    },
    {
     "name": "stdout",
     "output_type": "stream",
     "text": [
      "1/1 [==============================] - 0s 31ms/step - loss: 0.0000e+00 - accuracy: 0.4444\n"
     ]
    },
    {
     "name": "stderr",
     "output_type": "stream",
     "text": [
      "\u001b[32m[I 2022-05-31 17:17:42,512]\u001b[0m Trial 286 finished with value: 0.4444444477558136 and parameters: {'n_layers': 5, 'n_units': 100, 'dropout': 0.5, 'optimizer': 'SGD'}. Best is trial 0 with value: 0.4444444477558136.\u001b[0m\n"
     ]
    },
    {
     "name": "stdout",
     "output_type": "stream",
     "text": [
      "1/1 [==============================] - 0s 16ms/step - loss: 0.0000e+00 - accuracy: 0.4444\n"
     ]
    },
    {
     "name": "stderr",
     "output_type": "stream",
     "text": [
      "\u001b[32m[I 2022-05-31 17:17:44,409]\u001b[0m Trial 287 finished with value: 0.4444444477558136 and parameters: {'n_layers': 5, 'n_units': 100, 'dropout': 0.5, 'optimizer': 'SGD'}. Best is trial 0 with value: 0.4444444477558136.\u001b[0m\n"
     ]
    },
    {
     "name": "stdout",
     "output_type": "stream",
     "text": [
      "1/1 [==============================] - 0s 16ms/step - loss: 0.0000e+00 - accuracy: 0.4444\n"
     ]
    },
    {
     "name": "stderr",
     "output_type": "stream",
     "text": [
      "\u001b[32m[I 2022-05-31 17:17:45,349]\u001b[0m Trial 288 finished with value: 0.4444444477558136 and parameters: {'n_layers': 5, 'n_units': 100, 'dropout': 0.5, 'optimizer': 'SGD'}. Best is trial 0 with value: 0.4444444477558136.\u001b[0m\n"
     ]
    },
    {
     "name": "stdout",
     "output_type": "stream",
     "text": [
      "1/1 [==============================] - 0s 16ms/step - loss: 0.0000e+00 - accuracy: 0.4444\n"
     ]
    },
    {
     "name": "stderr",
     "output_type": "stream",
     "text": [
      "\u001b[32m[I 2022-05-31 17:17:46,258]\u001b[0m Trial 289 finished with value: 0.4444444477558136 and parameters: {'n_layers': 5, 'n_units': 100, 'dropout': 0.5, 'optimizer': 'SGD'}. Best is trial 0 with value: 0.4444444477558136.\u001b[0m\n"
     ]
    },
    {
     "name": "stdout",
     "output_type": "stream",
     "text": [
      "1/1 [==============================] - 0s 16ms/step - loss: 0.0000e+00 - accuracy: 0.4444\n"
     ]
    },
    {
     "name": "stderr",
     "output_type": "stream",
     "text": [
      "\u001b[32m[I 2022-05-31 17:17:47,183]\u001b[0m Trial 290 finished with value: 0.4444444477558136 and parameters: {'n_layers': 5, 'n_units': 100, 'dropout': 0.5, 'optimizer': 'SGD'}. Best is trial 0 with value: 0.4444444477558136.\u001b[0m\n"
     ]
    },
    {
     "name": "stdout",
     "output_type": "stream",
     "text": [
      "1/1 [==============================] - 0s 16ms/step - loss: 0.0000e+00 - accuracy: 0.4444\n"
     ]
    },
    {
     "name": "stderr",
     "output_type": "stream",
     "text": [
      "\u001b[32m[I 2022-05-31 17:17:48,094]\u001b[0m Trial 291 finished with value: 0.4444444477558136 and parameters: {'n_layers': 5, 'n_units': 150, 'dropout': 0.1, 'optimizer': 'SGD'}. Best is trial 0 with value: 0.4444444477558136.\u001b[0m\n"
     ]
    },
    {
     "name": "stdout",
     "output_type": "stream",
     "text": [
      "1/1 [==============================] - 0s 16ms/step - loss: 0.0000e+00 - accuracy: 0.4444\n"
     ]
    },
    {
     "name": "stderr",
     "output_type": "stream",
     "text": [
      "\u001b[32m[I 2022-05-31 17:17:49,083]\u001b[0m Trial 292 finished with value: 0.4444444477558136 and parameters: {'n_layers': 5, 'n_units': 150, 'dropout': 0.1, 'optimizer': 'SGD'}. Best is trial 0 with value: 0.4444444477558136.\u001b[0m\n"
     ]
    },
    {
     "name": "stdout",
     "output_type": "stream",
     "text": [
      "1/1 [==============================] - 0s 16ms/step - loss: 0.0000e+00 - accuracy: 0.4444\n"
     ]
    },
    {
     "name": "stderr",
     "output_type": "stream",
     "text": [
      "\u001b[32m[I 2022-05-31 17:17:50,063]\u001b[0m Trial 293 finished with value: 0.4444444477558136 and parameters: {'n_layers': 5, 'n_units': 150, 'dropout': 0.5, 'optimizer': 'SGD'}. Best is trial 0 with value: 0.4444444477558136.\u001b[0m\n"
     ]
    },
    {
     "name": "stdout",
     "output_type": "stream",
     "text": [
      "1/1 [==============================] - 0s 16ms/step - loss: 0.0000e+00 - accuracy: 0.4444\n"
     ]
    },
    {
     "name": "stderr",
     "output_type": "stream",
     "text": [
      "\u001b[32m[I 2022-05-31 17:17:51,024]\u001b[0m Trial 294 finished with value: 0.4444444477558136 and parameters: {'n_layers': 5, 'n_units': 150, 'dropout': 0.5, 'optimizer': 'SGD'}. Best is trial 0 with value: 0.4444444477558136.\u001b[0m\n"
     ]
    },
    {
     "name": "stdout",
     "output_type": "stream",
     "text": [
      "1/1 [==============================] - 0s 16ms/step - loss: 0.0000e+00 - accuracy: 0.4444\n"
     ]
    },
    {
     "name": "stderr",
     "output_type": "stream",
     "text": [
      "\u001b[32m[I 2022-05-31 17:17:51,958]\u001b[0m Trial 295 finished with value: 0.4444444477558136 and parameters: {'n_layers': 5, 'n_units': 150, 'dropout': 0.5, 'optimizer': 'SGD'}. Best is trial 0 with value: 0.4444444477558136.\u001b[0m\n"
     ]
    },
    {
     "name": "stdout",
     "output_type": "stream",
     "text": [
      "1/1 [==============================] - 0s 16ms/step - loss: 0.0000e+00 - accuracy: 0.4444\n"
     ]
    },
    {
     "name": "stderr",
     "output_type": "stream",
     "text": [
      "\u001b[32m[I 2022-05-31 17:17:53,117]\u001b[0m Trial 296 finished with value: 0.4444444477558136 and parameters: {'n_layers': 5, 'n_units': 150, 'dropout': 0.5, 'optimizer': 'SGD'}. Best is trial 0 with value: 0.4444444477558136.\u001b[0m\n"
     ]
    },
    {
     "name": "stdout",
     "output_type": "stream",
     "text": [
      "1/1 [==============================] - 0s 16ms/step - loss: 0.0000e+00 - accuracy: 0.4444\n"
     ]
    },
    {
     "name": "stderr",
     "output_type": "stream",
     "text": [
      "\u001b[32m[I 2022-05-31 17:17:54,051]\u001b[0m Trial 297 finished with value: 0.4444444477558136 and parameters: {'n_layers': 5, 'n_units': 150, 'dropout': 0.5, 'optimizer': 'SGD'}. Best is trial 0 with value: 0.4444444477558136.\u001b[0m\n"
     ]
    },
    {
     "name": "stdout",
     "output_type": "stream",
     "text": [
      "1/1 [==============================] - 0s 16ms/step - loss: 0.0000e+00 - accuracy: 0.4444\n"
     ]
    },
    {
     "name": "stderr",
     "output_type": "stream",
     "text": [
      "\u001b[32m[I 2022-05-31 17:17:54,949]\u001b[0m Trial 298 finished with value: 0.4444444477558136 and parameters: {'n_layers': 5, 'n_units': 150, 'dropout': 0.5, 'optimizer': 'SGD'}. Best is trial 0 with value: 0.4444444477558136.\u001b[0m\n"
     ]
    },
    {
     "name": "stdout",
     "output_type": "stream",
     "text": [
      "1/1 [==============================] - 0s 16ms/step - loss: 0.0000e+00 - accuracy: 0.4444\n"
     ]
    },
    {
     "name": "stderr",
     "output_type": "stream",
     "text": [
      "\u001b[32m[I 2022-05-31 17:17:55,816]\u001b[0m Trial 299 finished with value: 0.4444444477558136 and parameters: {'n_layers': 5, 'n_units': 150, 'dropout': 0.5, 'optimizer': 'SGD'}. Best is trial 0 with value: 0.4444444477558136.\u001b[0m\n"
     ]
    },
    {
     "name": "stdout",
     "output_type": "stream",
     "text": [
      "1/1 [==============================] - 0s 16ms/step - loss: 0.0000e+00 - accuracy: 0.4444\n"
     ]
    },
    {
     "name": "stderr",
     "output_type": "stream",
     "text": [
      "\u001b[32m[I 2022-05-31 17:17:56,717]\u001b[0m Trial 300 finished with value: 0.4444444477558136 and parameters: {'n_layers': 5, 'n_units': 150, 'dropout': 0.5, 'optimizer': 'SGD'}. Best is trial 0 with value: 0.4444444477558136.\u001b[0m\n"
     ]
    },
    {
     "name": "stdout",
     "output_type": "stream",
     "text": [
      "1/1 [==============================] - 0s 31ms/step - loss: 0.0000e+00 - accuracy: 0.4444\n"
     ]
    },
    {
     "name": "stderr",
     "output_type": "stream",
     "text": [
      "\u001b[32m[I 2022-05-31 17:17:57,632]\u001b[0m Trial 301 finished with value: 0.4444444477558136 and parameters: {'n_layers': 5, 'n_units': 150, 'dropout': 0.5, 'optimizer': 'SGD'}. Best is trial 0 with value: 0.4444444477558136.\u001b[0m\n"
     ]
    },
    {
     "name": "stdout",
     "output_type": "stream",
     "text": [
      "1/1 [==============================] - 0s 16ms/step - loss: 0.0000e+00 - accuracy: 0.4444\n"
     ]
    },
    {
     "name": "stderr",
     "output_type": "stream",
     "text": [
      "\u001b[32m[I 2022-05-31 17:17:58,609]\u001b[0m Trial 302 finished with value: 0.4444444477558136 and parameters: {'n_layers': 5, 'n_units': 150, 'dropout': 0.5, 'optimizer': 'SGD'}. Best is trial 0 with value: 0.4444444477558136.\u001b[0m\n"
     ]
    },
    {
     "name": "stdout",
     "output_type": "stream",
     "text": [
      "1/1 [==============================] - 0s 16ms/step - loss: 0.0000e+00 - accuracy: 0.4444\n"
     ]
    },
    {
     "name": "stderr",
     "output_type": "stream",
     "text": [
      "\u001b[32m[I 2022-05-31 17:17:59,550]\u001b[0m Trial 303 finished with value: 0.4444444477558136 and parameters: {'n_layers': 5, 'n_units': 150, 'dropout': 0.5, 'optimizer': 'SGD'}. Best is trial 0 with value: 0.4444444477558136.\u001b[0m\n"
     ]
    },
    {
     "name": "stdout",
     "output_type": "stream",
     "text": [
      "1/1 [==============================] - 0s 16ms/step - loss: 0.0000e+00 - accuracy: 0.4444\n"
     ]
    },
    {
     "name": "stderr",
     "output_type": "stream",
     "text": [
      "\u001b[32m[I 2022-05-31 17:18:00,501]\u001b[0m Trial 304 finished with value: 0.4444444477558136 and parameters: {'n_layers': 4, 'n_units': 150, 'dropout': 0.5, 'optimizer': 'SGD'}. Best is trial 0 with value: 0.4444444477558136.\u001b[0m\n"
     ]
    },
    {
     "name": "stdout",
     "output_type": "stream",
     "text": [
      "1/1 [==============================] - 0s 16ms/step - loss: 0.0000e+00 - accuracy: 0.4444\n"
     ]
    },
    {
     "name": "stderr",
     "output_type": "stream",
     "text": [
      "\u001b[32m[I 2022-05-31 17:18:01,350]\u001b[0m Trial 305 finished with value: 0.4444444477558136 and parameters: {'n_layers': 4, 'n_units': 150, 'dropout': 0.5, 'optimizer': 'SGD'}. Best is trial 0 with value: 0.4444444477558136.\u001b[0m\n"
     ]
    },
    {
     "name": "stdout",
     "output_type": "stream",
     "text": [
      "1/1 [==============================] - 0s 16ms/step - loss: 0.0000e+00 - accuracy: 0.4444\n"
     ]
    },
    {
     "name": "stderr",
     "output_type": "stream",
     "text": [
      "\u001b[32m[I 2022-05-31 17:18:02,510]\u001b[0m Trial 306 finished with value: 0.4444444477558136 and parameters: {'n_layers': 4, 'n_units': 150, 'dropout': 0.5, 'optimizer': 'SGD'}. Best is trial 0 with value: 0.4444444477558136.\u001b[0m\n"
     ]
    },
    {
     "name": "stdout",
     "output_type": "stream",
     "text": [
      "1/1 [==============================] - 0s 16ms/step - loss: 0.0000e+00 - accuracy: 0.4444\n"
     ]
    },
    {
     "name": "stderr",
     "output_type": "stream",
     "text": [
      "\u001b[32m[I 2022-05-31 17:18:03,419]\u001b[0m Trial 307 finished with value: 0.4444444477558136 and parameters: {'n_layers': 4, 'n_units': 150, 'dropout': 0.5, 'optimizer': 'SGD'}. Best is trial 0 with value: 0.4444444477558136.\u001b[0m\n"
     ]
    },
    {
     "name": "stdout",
     "output_type": "stream",
     "text": [
      "1/1 [==============================] - 0s 16ms/step - loss: 0.0000e+00 - accuracy: 0.4444\n"
     ]
    },
    {
     "name": "stderr",
     "output_type": "stream",
     "text": [
      "\u001b[32m[I 2022-05-31 17:18:04,293]\u001b[0m Trial 308 finished with value: 0.4444444477558136 and parameters: {'n_layers': 4, 'n_units': 150, 'dropout': 0.5, 'optimizer': 'SGD'}. Best is trial 0 with value: 0.4444444477558136.\u001b[0m\n"
     ]
    },
    {
     "name": "stdout",
     "output_type": "stream",
     "text": [
      "1/1 [==============================] - 0s 16ms/step - loss: 0.0000e+00 - accuracy: 0.4444\n"
     ]
    },
    {
     "name": "stderr",
     "output_type": "stream",
     "text": [
      "\u001b[32m[I 2022-05-31 17:18:05,133]\u001b[0m Trial 309 finished with value: 0.4444444477558136 and parameters: {'n_layers': 4, 'n_units': 150, 'dropout': 0.5, 'optimizer': 'SGD'}. Best is trial 0 with value: 0.4444444477558136.\u001b[0m\n"
     ]
    },
    {
     "name": "stdout",
     "output_type": "stream",
     "text": [
      "1/1 [==============================] - 0s 16ms/step - loss: 0.0000e+00 - accuracy: 0.4444\n"
     ]
    },
    {
     "name": "stderr",
     "output_type": "stream",
     "text": [
      "\u001b[32m[I 2022-05-31 17:18:06,016]\u001b[0m Trial 310 finished with value: 0.4444444477558136 and parameters: {'n_layers': 4, 'n_units': 150, 'dropout': 0.2, 'optimizer': 'SGD'}. Best is trial 0 with value: 0.4444444477558136.\u001b[0m\n"
     ]
    },
    {
     "name": "stdout",
     "output_type": "stream",
     "text": [
      "1/1 [==============================] - 0s 16ms/step - loss: 0.0000e+00 - accuracy: 0.4444\n"
     ]
    },
    {
     "name": "stderr",
     "output_type": "stream",
     "text": [
      "\u001b[32m[I 2022-05-31 17:18:06,873]\u001b[0m Trial 311 finished with value: 0.4444444477558136 and parameters: {'n_layers': 5, 'n_units': 150, 'dropout': 0.1, 'optimizer': 'SGD'}. Best is trial 0 with value: 0.4444444477558136.\u001b[0m\n"
     ]
    },
    {
     "name": "stdout",
     "output_type": "stream",
     "text": [
      "1/1 [==============================] - 0s 16ms/step - loss: 0.0000e+00 - accuracy: 0.4444\n"
     ]
    },
    {
     "name": "stderr",
     "output_type": "stream",
     "text": [
      "\u001b[32m[I 2022-05-31 17:18:07,705]\u001b[0m Trial 312 finished with value: 0.4444444477558136 and parameters: {'n_layers': 4, 'n_units': 200, 'dropout': 0.2, 'optimizer': 'SGD'}. Best is trial 0 with value: 0.4444444477558136.\u001b[0m\n"
     ]
    },
    {
     "name": "stdout",
     "output_type": "stream",
     "text": [
      "1/1 [==============================] - 0s 16ms/step - loss: 0.0000e+00 - accuracy: 0.4444\n"
     ]
    },
    {
     "name": "stderr",
     "output_type": "stream",
     "text": [
      "\u001b[32m[I 2022-05-31 17:18:08,545]\u001b[0m Trial 313 finished with value: 0.4444444477558136 and parameters: {'n_layers': 4, 'n_units': 150, 'dropout': 0.1, 'optimizer': 'SGD'}. Best is trial 0 with value: 0.4444444477558136.\u001b[0m\n"
     ]
    },
    {
     "name": "stdout",
     "output_type": "stream",
     "text": [
      "1/1 [==============================] - 0s 16ms/step - loss: 0.0000e+00 - accuracy: 0.4444\n"
     ]
    },
    {
     "name": "stderr",
     "output_type": "stream",
     "text": [
      "\u001b[32m[I 2022-05-31 17:18:09,387]\u001b[0m Trial 314 finished with value: 0.4444444477558136 and parameters: {'n_layers': 3, 'n_units': 200, 'dropout': 0.2, 'optimizer': 'SGD'}. Best is trial 0 with value: 0.4444444477558136.\u001b[0m\n"
     ]
    },
    {
     "name": "stdout",
     "output_type": "stream",
     "text": [
      "1/1 [==============================] - 0s 16ms/step - loss: 0.0000e+00 - accuracy: 0.4444\n"
     ]
    },
    {
     "name": "stderr",
     "output_type": "stream",
     "text": [
      "\u001b[32m[I 2022-05-31 17:18:10,192]\u001b[0m Trial 315 finished with value: 0.4444444477558136 and parameters: {'n_layers': 3, 'n_units': 200, 'dropout': 0.1, 'optimizer': 'SGD'}. Best is trial 0 with value: 0.4444444477558136.\u001b[0m\n"
     ]
    },
    {
     "name": "stdout",
     "output_type": "stream",
     "text": [
      "1/1 [==============================] - 0s 16ms/step - loss: 0.0000e+00 - accuracy: 0.4444\n"
     ]
    },
    {
     "name": "stderr",
     "output_type": "stream",
     "text": [
      "\u001b[32m[I 2022-05-31 17:18:11,230]\u001b[0m Trial 316 finished with value: 0.4444444477558136 and parameters: {'n_layers': 3, 'n_units': 200, 'dropout': 0.1, 'optimizer': 'SGD'}. Best is trial 0 with value: 0.4444444477558136.\u001b[0m\n"
     ]
    },
    {
     "name": "stdout",
     "output_type": "stream",
     "text": [
      "1/1 [==============================] - 0s 16ms/step - loss: 0.0000e+00 - accuracy: 0.4444\n"
     ]
    },
    {
     "name": "stderr",
     "output_type": "stream",
     "text": [
      "\u001b[32m[I 2022-05-31 17:18:12,013]\u001b[0m Trial 317 finished with value: 0.4444444477558136 and parameters: {'n_layers': 3, 'n_units': 200, 'dropout': 0.1, 'optimizer': 'SGD'}. Best is trial 0 with value: 0.4444444477558136.\u001b[0m\n"
     ]
    },
    {
     "name": "stdout",
     "output_type": "stream",
     "text": [
      "1/1 [==============================] - 0s 15ms/step - loss: 0.0000e+00 - accuracy: 0.4444\n"
     ]
    },
    {
     "name": "stderr",
     "output_type": "stream",
     "text": [
      "\u001b[32m[I 2022-05-31 17:18:12,834]\u001b[0m Trial 318 finished with value: 0.4444444477558136 and parameters: {'n_layers': 3, 'n_units': 200, 'dropout': 0.1, 'optimizer': 'SGD'}. Best is trial 0 with value: 0.4444444477558136.\u001b[0m\n"
     ]
    },
    {
     "name": "stdout",
     "output_type": "stream",
     "text": [
      "1/1 [==============================] - 0s 16ms/step - loss: 0.0000e+00 - accuracy: 0.4444\n"
     ]
    },
    {
     "name": "stderr",
     "output_type": "stream",
     "text": [
      "\u001b[32m[I 2022-05-31 17:18:13,626]\u001b[0m Trial 319 finished with value: 0.4444444477558136 and parameters: {'n_layers': 3, 'n_units': 200, 'dropout': 0.1, 'optimizer': 'SGD'}. Best is trial 0 with value: 0.4444444477558136.\u001b[0m\n"
     ]
    },
    {
     "name": "stdout",
     "output_type": "stream",
     "text": [
      "1/1 [==============================] - 0s 16ms/step - loss: 0.0000e+00 - accuracy: 0.4444\n"
     ]
    },
    {
     "name": "stderr",
     "output_type": "stream",
     "text": [
      "\u001b[32m[I 2022-05-31 17:18:14,455]\u001b[0m Trial 320 finished with value: 0.4444444477558136 and parameters: {'n_layers': 4, 'n_units': 200, 'dropout': 0.1, 'optimizer': 'SGD'}. Best is trial 0 with value: 0.4444444477558136.\u001b[0m\n"
     ]
    },
    {
     "name": "stdout",
     "output_type": "stream",
     "text": [
      "1/1 [==============================] - 0s 16ms/step - loss: 0.0000e+00 - accuracy: 0.4444\n"
     ]
    },
    {
     "name": "stderr",
     "output_type": "stream",
     "text": [
      "\u001b[32m[I 2022-05-31 17:18:15,322]\u001b[0m Trial 321 finished with value: 0.4444444477558136 and parameters: {'n_layers': 4, 'n_units': 200, 'dropout': 0.1, 'optimizer': 'SGD'}. Best is trial 0 with value: 0.4444444477558136.\u001b[0m\n"
     ]
    },
    {
     "name": "stdout",
     "output_type": "stream",
     "text": [
      "1/1 [==============================] - 0s 16ms/step - loss: 0.0000e+00 - accuracy: 0.4444\n"
     ]
    },
    {
     "name": "stderr",
     "output_type": "stream",
     "text": [
      "\u001b[32m[I 2022-05-31 17:18:16,195]\u001b[0m Trial 322 finished with value: 0.4444444477558136 and parameters: {'n_layers': 3, 'n_units': 200, 'dropout': 0.1, 'optimizer': 'SGD'}. Best is trial 0 with value: 0.4444444477558136.\u001b[0m\n"
     ]
    },
    {
     "name": "stdout",
     "output_type": "stream",
     "text": [
      "1/1 [==============================] - 0s 16ms/step - loss: 0.0000e+00 - accuracy: 0.4444\n"
     ]
    },
    {
     "name": "stderr",
     "output_type": "stream",
     "text": [
      "\u001b[32m[I 2022-05-31 17:18:16,955]\u001b[0m Trial 323 finished with value: 0.4444444477558136 and parameters: {'n_layers': 4, 'n_units': 200, 'dropout': 0.0, 'optimizer': 'SGD'}. Best is trial 0 with value: 0.4444444477558136.\u001b[0m\n"
     ]
    },
    {
     "name": "stdout",
     "output_type": "stream",
     "text": [
      "1/1 [==============================] - 0s 16ms/step - loss: 0.0000e+00 - accuracy: 0.4444\n"
     ]
    },
    {
     "name": "stderr",
     "output_type": "stream",
     "text": [
      "\u001b[32m[I 2022-05-31 17:18:17,718]\u001b[0m Trial 324 finished with value: 0.4444444477558136 and parameters: {'n_layers': 4, 'n_units': 200, 'dropout': 0.0, 'optimizer': 'SGD'}. Best is trial 0 with value: 0.4444444477558136.\u001b[0m\n"
     ]
    },
    {
     "name": "stdout",
     "output_type": "stream",
     "text": [
      "1/1 [==============================] - 0s 16ms/step - loss: 0.0000e+00 - accuracy: 0.4444\n"
     ]
    },
    {
     "name": "stderr",
     "output_type": "stream",
     "text": [
      "\u001b[32m[I 2022-05-31 17:18:18,644]\u001b[0m Trial 325 finished with value: 0.4444444477558136 and parameters: {'n_layers': 4, 'n_units': 200, 'dropout': 0.1, 'optimizer': 'SGD'}. Best is trial 0 with value: 0.4444444477558136.\u001b[0m\n"
     ]
    },
    {
     "name": "stdout",
     "output_type": "stream",
     "text": [
      "1/1 [==============================] - 0s 31ms/step - loss: 0.0000e+00 - accuracy: 0.4444\n"
     ]
    },
    {
     "name": "stderr",
     "output_type": "stream",
     "text": [
      "\u001b[32m[I 2022-05-31 17:18:19,388]\u001b[0m Trial 326 finished with value: 0.4444444477558136 and parameters: {'n_layers': 4, 'n_units': 200, 'dropout': 0.0, 'optimizer': 'SGD'}. Best is trial 0 with value: 0.4444444477558136.\u001b[0m\n"
     ]
    },
    {
     "name": "stdout",
     "output_type": "stream",
     "text": [
      "1/1 [==============================] - 0s 16ms/step - loss: 0.0000e+00 - accuracy: 0.4444\n"
     ]
    },
    {
     "name": "stderr",
     "output_type": "stream",
     "text": [
      "\u001b[32m[I 2022-05-31 17:18:20,404]\u001b[0m Trial 327 finished with value: 0.4444444477558136 and parameters: {'n_layers': 4, 'n_units': 200, 'dropout': 0.0, 'optimizer': 'Adam'}. Best is trial 0 with value: 0.4444444477558136.\u001b[0m\n"
     ]
    },
    {
     "name": "stdout",
     "output_type": "stream",
     "text": [
      "1/1 [==============================] - 0s 16ms/step - loss: 0.0000e+00 - accuracy: 0.4444\n"
     ]
    },
    {
     "name": "stderr",
     "output_type": "stream",
     "text": [
      "\u001b[32m[I 2022-05-31 17:18:21,298]\u001b[0m Trial 328 finished with value: 0.4444444477558136 and parameters: {'n_layers': 4, 'n_units': 200, 'dropout': 0.2, 'optimizer': 'Adam'}. Best is trial 0 with value: 0.4444444477558136.\u001b[0m\n"
     ]
    },
    {
     "name": "stdout",
     "output_type": "stream",
     "text": [
      "1/1 [==============================] - 0s 16ms/step - loss: 0.0000e+00 - accuracy: 0.4444\n"
     ]
    },
    {
     "name": "stderr",
     "output_type": "stream",
     "text": [
      "\u001b[32m[I 2022-05-31 17:18:22,209]\u001b[0m Trial 329 finished with value: 0.4444444477558136 and parameters: {'n_layers': 4, 'n_units': 200, 'dropout': 0.2, 'optimizer': 'Adam'}. Best is trial 0 with value: 0.4444444477558136.\u001b[0m\n"
     ]
    },
    {
     "name": "stdout",
     "output_type": "stream",
     "text": [
      "1/1 [==============================] - 0s 16ms/step - loss: 0.0000e+00 - accuracy: 0.4444\n"
     ]
    },
    {
     "name": "stderr",
     "output_type": "stream",
     "text": [
      "\u001b[32m[I 2022-05-31 17:18:23,032]\u001b[0m Trial 330 finished with value: 0.4444444477558136 and parameters: {'n_layers': 4, 'n_units': 200, 'dropout': 0.0, 'optimizer': 'Adam'}. Best is trial 0 with value: 0.4444444477558136.\u001b[0m\n"
     ]
    },
    {
     "name": "stdout",
     "output_type": "stream",
     "text": [
      "1/1 [==============================] - 0s 16ms/step - loss: 0.0000e+00 - accuracy: 0.4444\n"
     ]
    },
    {
     "name": "stderr",
     "output_type": "stream",
     "text": [
      "\u001b[32m[I 2022-05-31 17:18:23,970]\u001b[0m Trial 331 finished with value: 0.4444444477558136 and parameters: {'n_layers': 4, 'n_units': 200, 'dropout': 0.2, 'optimizer': 'Adam'}. Best is trial 0 with value: 0.4444444477558136.\u001b[0m\n"
     ]
    },
    {
     "name": "stdout",
     "output_type": "stream",
     "text": [
      "1/1 [==============================] - 0s 16ms/step - loss: 0.0000e+00 - accuracy: 0.4444\n"
     ]
    },
    {
     "name": "stderr",
     "output_type": "stream",
     "text": [
      "\u001b[32m[I 2022-05-31 17:18:24,834]\u001b[0m Trial 332 finished with value: 0.4444444477558136 and parameters: {'n_layers': 3, 'n_units': 200, 'dropout': 0.2, 'optimizer': 'Adam'}. Best is trial 0 with value: 0.4444444477558136.\u001b[0m\n"
     ]
    },
    {
     "name": "stdout",
     "output_type": "stream",
     "text": [
      "1/1 [==============================] - 0s 16ms/step - loss: 0.0000e+00 - accuracy: 0.4444\n"
     ]
    },
    {
     "name": "stderr",
     "output_type": "stream",
     "text": [
      "\u001b[32m[I 2022-05-31 17:18:25,760]\u001b[0m Trial 333 finished with value: 0.4444444477558136 and parameters: {'n_layers': 4, 'n_units': 200, 'dropout': 0.2, 'optimizer': 'Adam'}. Best is trial 0 with value: 0.4444444477558136.\u001b[0m\n"
     ]
    },
    {
     "name": "stdout",
     "output_type": "stream",
     "text": [
      "1/1 [==============================] - 0s 16ms/step - loss: 0.0000e+00 - accuracy: 0.4444\n"
     ]
    },
    {
     "name": "stderr",
     "output_type": "stream",
     "text": [
      "\u001b[32m[I 2022-05-31 17:18:26,641]\u001b[0m Trial 334 finished with value: 0.4444444477558136 and parameters: {'n_layers': 3, 'n_units': 200, 'dropout': 0.2, 'optimizer': 'Adam'}. Best is trial 0 with value: 0.4444444477558136.\u001b[0m\n"
     ]
    },
    {
     "name": "stdout",
     "output_type": "stream",
     "text": [
      "1/1 [==============================] - 0s 16ms/step - loss: 0.0000e+00 - accuracy: 0.4444\n"
     ]
    },
    {
     "name": "stderr",
     "output_type": "stream",
     "text": [
      "\u001b[32m[I 2022-05-31 17:18:27,492]\u001b[0m Trial 335 finished with value: 0.4444444477558136 and parameters: {'n_layers': 3, 'n_units': 200, 'dropout': 0.2, 'optimizer': 'Adam'}. Best is trial 0 with value: 0.4444444477558136.\u001b[0m\n"
     ]
    },
    {
     "name": "stdout",
     "output_type": "stream",
     "text": [
      "1/1 [==============================] - 0s 16ms/step - loss: 0.0000e+00 - accuracy: 0.4444\n"
     ]
    },
    {
     "name": "stderr",
     "output_type": "stream",
     "text": [
      "\u001b[32m[I 2022-05-31 17:18:28,261]\u001b[0m Trial 336 finished with value: 0.4444444477558136 and parameters: {'n_layers': 3, 'n_units': 200, 'dropout': 0.0, 'optimizer': 'Adam'}. Best is trial 0 with value: 0.4444444477558136.\u001b[0m\n"
     ]
    },
    {
     "name": "stdout",
     "output_type": "stream",
     "text": [
      "1/1 [==============================] - 0s 31ms/step - loss: 0.0000e+00 - accuracy: 0.4444\n"
     ]
    },
    {
     "name": "stderr",
     "output_type": "stream",
     "text": [
      "\u001b[32m[I 2022-05-31 17:18:29,273]\u001b[0m Trial 337 finished with value: 0.4444444477558136 and parameters: {'n_layers': 3, 'n_units': 200, 'dropout': 0.0, 'optimizer': 'Adam'}. Best is trial 0 with value: 0.4444444477558136.\u001b[0m\n"
     ]
    },
    {
     "name": "stdout",
     "output_type": "stream",
     "text": [
      "1/1 [==============================] - 0s 15ms/step - loss: 0.0000e+00 - accuracy: 0.4444\n"
     ]
    },
    {
     "name": "stderr",
     "output_type": "stream",
     "text": [
      "\u001b[32m[I 2022-05-31 17:18:30,122]\u001b[0m Trial 338 finished with value: 0.4444444477558136 and parameters: {'n_layers': 3, 'n_units': 200, 'dropout': 0.0, 'optimizer': 'Adam'}. Best is trial 0 with value: 0.4444444477558136.\u001b[0m\n"
     ]
    },
    {
     "name": "stdout",
     "output_type": "stream",
     "text": [
      "1/1 [==============================] - 0s 16ms/step - loss: 0.0000e+00 - accuracy: 0.4444\n"
     ]
    },
    {
     "name": "stderr",
     "output_type": "stream",
     "text": [
      "\u001b[32m[I 2022-05-31 17:18:30,924]\u001b[0m Trial 339 finished with value: 0.4444444477558136 and parameters: {'n_layers': 3, 'n_units': 200, 'dropout': 0.0, 'optimizer': 'Adam'}. Best is trial 0 with value: 0.4444444477558136.\u001b[0m\n"
     ]
    },
    {
     "name": "stdout",
     "output_type": "stream",
     "text": [
      "1/1 [==============================] - 0s 16ms/step - loss: 0.0000e+00 - accuracy: 0.4444\n"
     ]
    },
    {
     "name": "stderr",
     "output_type": "stream",
     "text": [
      "\u001b[32m[I 2022-05-31 17:18:31,683]\u001b[0m Trial 340 finished with value: 0.4444444477558136 and parameters: {'n_layers': 3, 'n_units': 200, 'dropout': 0.0, 'optimizer': 'Adam'}. Best is trial 0 with value: 0.4444444477558136.\u001b[0m\n"
     ]
    },
    {
     "name": "stdout",
     "output_type": "stream",
     "text": [
      "1/1 [==============================] - 0s 16ms/step - loss: 0.0000e+00 - accuracy: 0.4444\n"
     ]
    },
    {
     "name": "stderr",
     "output_type": "stream",
     "text": [
      "\u001b[32m[I 2022-05-31 17:18:32,441]\u001b[0m Trial 341 finished with value: 0.4444444477558136 and parameters: {'n_layers': 3, 'n_units': 200, 'dropout': 0.0, 'optimizer': 'Adam'}. Best is trial 0 with value: 0.4444444477558136.\u001b[0m\n"
     ]
    },
    {
     "name": "stdout",
     "output_type": "stream",
     "text": [
      "1/1 [==============================] - 0s 16ms/step - loss: 0.0000e+00 - accuracy: 0.4444\n"
     ]
    },
    {
     "name": "stderr",
     "output_type": "stream",
     "text": [
      "\u001b[32m[I 2022-05-31 17:18:33,203]\u001b[0m Trial 342 finished with value: 0.4444444477558136 and parameters: {'n_layers': 3, 'n_units': 200, 'dropout': 0.0, 'optimizer': 'Adam'}. Best is trial 0 with value: 0.4444444477558136.\u001b[0m\n"
     ]
    },
    {
     "name": "stdout",
     "output_type": "stream",
     "text": [
      "1/1 [==============================] - 0s 16ms/step - loss: 0.0000e+00 - accuracy: 0.4444\n"
     ]
    },
    {
     "name": "stderr",
     "output_type": "stream",
     "text": [
      "\u001b[32m[I 2022-05-31 17:18:34,019]\u001b[0m Trial 343 finished with value: 0.4444444477558136 and parameters: {'n_layers': 3, 'n_units': 200, 'dropout': 0.0, 'optimizer': 'Adam'}. Best is trial 0 with value: 0.4444444477558136.\u001b[0m\n"
     ]
    },
    {
     "name": "stdout",
     "output_type": "stream",
     "text": [
      "1/1 [==============================] - 0s 16ms/step - loss: 0.0000e+00 - accuracy: 0.4444\n"
     ]
    },
    {
     "name": "stderr",
     "output_type": "stream",
     "text": [
      "\u001b[32m[I 2022-05-31 17:18:34,851]\u001b[0m Trial 344 finished with value: 0.4444444477558136 and parameters: {'n_layers': 3, 'n_units': 200, 'dropout': 0.0, 'optimizer': 'Adam'}. Best is trial 0 with value: 0.4444444477558136.\u001b[0m\n"
     ]
    },
    {
     "name": "stdout",
     "output_type": "stream",
     "text": [
      "1/1 [==============================] - 0s 16ms/step - loss: 0.0000e+00 - accuracy: 0.4444\n"
     ]
    },
    {
     "name": "stderr",
     "output_type": "stream",
     "text": [
      "\u001b[32m[I 2022-05-31 17:18:35,592]\u001b[0m Trial 345 finished with value: 0.4444444477558136 and parameters: {'n_layers': 3, 'n_units': 200, 'dropout': 0.0, 'optimizer': 'Adam'}. Best is trial 0 with value: 0.4444444477558136.\u001b[0m\n"
     ]
    },
    {
     "name": "stdout",
     "output_type": "stream",
     "text": [
      "1/1 [==============================] - 0s 16ms/step - loss: 0.0000e+00 - accuracy: 0.4444\n"
     ]
    },
    {
     "name": "stderr",
     "output_type": "stream",
     "text": [
      "\u001b[32m[I 2022-05-31 17:18:36,373]\u001b[0m Trial 346 finished with value: 0.4444444477558136 and parameters: {'n_layers': 3, 'n_units': 200, 'dropout': 0.0, 'optimizer': 'Adam'}. Best is trial 0 with value: 0.4444444477558136.\u001b[0m\n"
     ]
    },
    {
     "name": "stdout",
     "output_type": "stream",
     "text": [
      "1/1 [==============================] - 0s 16ms/step - loss: 0.0000e+00 - accuracy: 0.4444\n"
     ]
    },
    {
     "name": "stderr",
     "output_type": "stream",
     "text": [
      "\u001b[32m[I 2022-05-31 17:18:37,147]\u001b[0m Trial 347 finished with value: 0.4444444477558136 and parameters: {'n_layers': 3, 'n_units': 200, 'dropout': 0.0, 'optimizer': 'Adam'}. Best is trial 0 with value: 0.4444444477558136.\u001b[0m\n"
     ]
    },
    {
     "name": "stdout",
     "output_type": "stream",
     "text": [
      "1/1 [==============================] - 0s 16ms/step - loss: 0.0000e+00 - accuracy: 0.4444\n"
     ]
    },
    {
     "name": "stderr",
     "output_type": "stream",
     "text": [
      "\u001b[32m[I 2022-05-31 17:18:37,944]\u001b[0m Trial 348 finished with value: 0.4444444477558136 and parameters: {'n_layers': 3, 'n_units': 200, 'dropout': 0.0, 'optimizer': 'Adam'}. Best is trial 0 with value: 0.4444444477558136.\u001b[0m\n"
     ]
    },
    {
     "name": "stdout",
     "output_type": "stream",
     "text": [
      "1/1 [==============================] - 0s 16ms/step - loss: 0.0000e+00 - accuracy: 0.4444\n"
     ]
    },
    {
     "name": "stderr",
     "output_type": "stream",
     "text": [
      "\u001b[32m[I 2022-05-31 17:18:38,949]\u001b[0m Trial 349 finished with value: 0.4444444477558136 and parameters: {'n_layers': 3, 'n_units': 250, 'dropout': 0.0, 'optimizer': 'Adam'}. Best is trial 0 with value: 0.4444444477558136.\u001b[0m\n"
     ]
    },
    {
     "name": "stdout",
     "output_type": "stream",
     "text": [
      "1/1 [==============================] - 0s 16ms/step - loss: 0.0000e+00 - accuracy: 0.4444\n"
     ]
    },
    {
     "name": "stderr",
     "output_type": "stream",
     "text": [
      "\u001b[32m[I 2022-05-31 17:18:39,745]\u001b[0m Trial 350 finished with value: 0.4444444477558136 and parameters: {'n_layers': 3, 'n_units': 250, 'dropout': 0.0, 'optimizer': 'Adam'}. Best is trial 0 with value: 0.4444444477558136.\u001b[0m\n"
     ]
    },
    {
     "name": "stdout",
     "output_type": "stream",
     "text": [
      "1/1 [==============================] - 0s 16ms/step - loss: 0.0000e+00 - accuracy: 0.4444\n"
     ]
    },
    {
     "name": "stderr",
     "output_type": "stream",
     "text": [
      "\u001b[32m[I 2022-05-31 17:18:40,513]\u001b[0m Trial 351 finished with value: 0.4444444477558136 and parameters: {'n_layers': 3, 'n_units': 200, 'dropout': 0.0, 'optimizer': 'Adam'}. Best is trial 0 with value: 0.4444444477558136.\u001b[0m\n"
     ]
    },
    {
     "name": "stdout",
     "output_type": "stream",
     "text": [
      "1/1 [==============================] - 0s 16ms/step - loss: 0.0000e+00 - accuracy: 0.4444\n"
     ]
    },
    {
     "name": "stderr",
     "output_type": "stream",
     "text": [
      "\u001b[32m[I 2022-05-31 17:18:41,269]\u001b[0m Trial 352 finished with value: 0.4444444477558136 and parameters: {'n_layers': 3, 'n_units': 200, 'dropout': 0.0, 'optimizer': 'Adam'}. Best is trial 0 with value: 0.4444444477558136.\u001b[0m\n"
     ]
    },
    {
     "name": "stdout",
     "output_type": "stream",
     "text": [
      "1/1 [==============================] - 0s 16ms/step - loss: 0.0000e+00 - accuracy: 0.4444\n"
     ]
    },
    {
     "name": "stderr",
     "output_type": "stream",
     "text": [
      "\u001b[32m[I 2022-05-31 17:18:42,038]\u001b[0m Trial 353 finished with value: 0.4444444477558136 and parameters: {'n_layers': 3, 'n_units': 200, 'dropout': 0.0, 'optimizer': 'Adam'}. Best is trial 0 with value: 0.4444444477558136.\u001b[0m\n"
     ]
    },
    {
     "name": "stdout",
     "output_type": "stream",
     "text": [
      "1/1 [==============================] - 0s 16ms/step - loss: 0.0000e+00 - accuracy: 0.4444\n"
     ]
    },
    {
     "name": "stderr",
     "output_type": "stream",
     "text": [
      "\u001b[32m[I 2022-05-31 17:18:42,786]\u001b[0m Trial 354 finished with value: 0.4444444477558136 and parameters: {'n_layers': 3, 'n_units': 250, 'dropout': 0.0, 'optimizer': 'Adam'}. Best is trial 0 with value: 0.4444444477558136.\u001b[0m\n"
     ]
    },
    {
     "name": "stdout",
     "output_type": "stream",
     "text": [
      "1/1 [==============================] - 0s 16ms/step - loss: 0.0000e+00 - accuracy: 0.4444\n"
     ]
    },
    {
     "name": "stderr",
     "output_type": "stream",
     "text": [
      "\u001b[32m[I 2022-05-31 17:18:43,522]\u001b[0m Trial 355 finished with value: 0.4444444477558136 and parameters: {'n_layers': 3, 'n_units': 250, 'dropout': 0.0, 'optimizer': 'Adam'}. Best is trial 0 with value: 0.4444444477558136.\u001b[0m\n"
     ]
    },
    {
     "name": "stdout",
     "output_type": "stream",
     "text": [
      "1/1 [==============================] - 0s 16ms/step - loss: 0.0000e+00 - accuracy: 0.4444\n"
     ]
    },
    {
     "name": "stderr",
     "output_type": "stream",
     "text": [
      "\u001b[32m[I 2022-05-31 17:18:44,284]\u001b[0m Trial 356 finished with value: 0.4444444477558136 and parameters: {'n_layers': 3, 'n_units': 250, 'dropout': 0.0, 'optimizer': 'Adam'}. Best is trial 0 with value: 0.4444444477558136.\u001b[0m\n"
     ]
    },
    {
     "name": "stdout",
     "output_type": "stream",
     "text": [
      "1/1 [==============================] - 0s 31ms/step - loss: 0.0000e+00 - accuracy: 0.4444\n"
     ]
    },
    {
     "name": "stderr",
     "output_type": "stream",
     "text": [
      "\u001b[32m[I 2022-05-31 17:18:45,102]\u001b[0m Trial 357 finished with value: 0.4444444477558136 and parameters: {'n_layers': 3, 'n_units': 250, 'dropout': 0.0, 'optimizer': 'Adam'}. Best is trial 0 with value: 0.4444444477558136.\u001b[0m\n"
     ]
    },
    {
     "name": "stdout",
     "output_type": "stream",
     "text": [
      "1/1 [==============================] - 0s 16ms/step - loss: 0.0000e+00 - accuracy: 0.4444\n"
     ]
    },
    {
     "name": "stderr",
     "output_type": "stream",
     "text": [
      "\u001b[32m[I 2022-05-31 17:18:45,923]\u001b[0m Trial 358 finished with value: 0.4444444477558136 and parameters: {'n_layers': 3, 'n_units': 250, 'dropout': 0.30000000000000004, 'optimizer': 'Adam'}. Best is trial 0 with value: 0.4444444477558136.\u001b[0m\n"
     ]
    },
    {
     "name": "stdout",
     "output_type": "stream",
     "text": [
      "1/1 [==============================] - 0s 16ms/step - loss: 0.0000e+00 - accuracy: 0.4444\n"
     ]
    },
    {
     "name": "stderr",
     "output_type": "stream",
     "text": [
      "\u001b[32m[I 2022-05-31 17:18:46,781]\u001b[0m Trial 359 finished with value: 0.4444444477558136 and parameters: {'n_layers': 3, 'n_units': 250, 'dropout': 0.30000000000000004, 'optimizer': 'Adam'}. Best is trial 0 with value: 0.4444444477558136.\u001b[0m\n"
     ]
    }
   ],
   "source": [
    "# Creamos un objeto \"study\" y buscamos la optimización de la función objetivo.\n",
    "sampler = optuna.samplers.TPESampler(seed=0)\n",
    "study = optuna.create_study(direction=\"maximize\", sampler=sampler)\n",
    "study.optimize(objective, n_trials=360)\n",
    "# n_trials = 4 x 5 x 6 x 3 = 360"
   ]
  },
  {
   "cell_type": "code",
   "execution_count": 8,
   "id": "9c88551f",
   "metadata": {},
   "outputs": [
    {
     "data": {
      "text/plain": [
       "FrozenTrial(number=0, values=[0.4444444477558136], datetime_start=datetime.datetime(2022, 5, 31, 17, 13, 15, 399312), datetime_complete=datetime.datetime(2022, 5, 31, 17, 13, 23, 168759), params={'n_layers': 4, 'n_units': 200, 'dropout': 0.30000000000000004, 'optimizer': 'Adam'}, distributions={'n_layers': IntUniformDistribution(high=5, low=2, step=1), 'n_units': IntUniformDistribution(high=250, low=50, step=50), 'dropout': DiscreteUniformDistribution(high=0.5, low=0.0, q=0.1), 'optimizer': CategoricalDistribution(choices=('RMSprop', 'SGD', 'Adam'))}, user_attrs={}, system_attrs={}, intermediate_values={}, trial_id=0, state=TrialState.COMPLETE, value=None)"
      ]
     },
     "execution_count": 8,
     "metadata": {},
     "output_type": "execute_result"
    }
   ],
   "source": [
    "study.best_trial"
   ]
  },
  {
   "cell_type": "markdown",
   "id": "ff2db5ef",
   "metadata": {},
   "source": [
    "La red con los parámetros optimizados es la siguiente:"
   ]
  },
  {
   "cell_type": "code",
   "execution_count": 22,
   "id": "d14b938e",
   "metadata": {},
   "outputs": [
    {
     "name": "stdout",
     "output_type": "stream",
     "text": [
      "Epoch 1/100\n",
      "2/2 [==============================] - 2s 209ms/step - loss: 0.6907 - acc: 0.5686 - val_loss: 0.7020 - val_acc: 0.4706\n",
      "Epoch 2/100\n",
      "2/2 [==============================] - 0s 48ms/step - loss: 0.6908 - acc: 0.5490 - val_loss: 0.6967 - val_acc: 0.4118\n",
      "Epoch 3/100\n",
      "2/2 [==============================] - 0s 68ms/step - loss: 0.6219 - acc: 0.7255 - val_loss: 0.6908 - val_acc: 0.3529\n",
      "Epoch 4/100\n",
      "2/2 [==============================] - 0s 57ms/step - loss: 0.6492 - acc: 0.6471 - val_loss: 0.6842 - val_acc: 0.5294\n",
      "Epoch 5/100\n",
      "2/2 [==============================] - 0s 67ms/step - loss: 0.6124 - acc: 0.6275 - val_loss: 0.6722 - val_acc: 0.5882\n",
      "Epoch 6/100\n",
      "2/2 [==============================] - 0s 66ms/step - loss: 0.5017 - acc: 0.8235 - val_loss: 0.6597 - val_acc: 0.6471\n",
      "Epoch 7/100\n",
      "2/2 [==============================] - 0s 56ms/step - loss: 0.5774 - acc: 0.6667 - val_loss: 0.6501 - val_acc: 0.6471\n",
      "Epoch 8/100\n",
      "2/2 [==============================] - 0s 66ms/step - loss: 0.4641 - acc: 0.8627 - val_loss: 0.6373 - val_acc: 0.5294\n",
      "Epoch 9/100\n",
      "2/2 [==============================] - 0s 60ms/step - loss: 0.3752 - acc: 0.9216 - val_loss: 0.6285 - val_acc: 0.5882\n",
      "Epoch 10/100\n",
      "2/2 [==============================] - 0s 38ms/step - loss: 0.3086 - acc: 0.9608 - val_loss: 0.6302 - val_acc: 0.5882\n",
      "Epoch 11/100\n",
      "2/2 [==============================] - 0s 48ms/step - loss: 0.3575 - acc: 0.9216 - val_loss: 0.6420 - val_acc: 0.5882\n",
      "1/1 [==============================] - 0s 18ms/step - loss: 0.5175 - acc: 0.7778\n",
      "Accuracy: 77.78%\n"
     ]
    }
   ],
   "source": [
    "tf.keras.utils.set_random_seed(0) # Reproducibilidad de resultados\n",
    "\n",
    "# Definir y entrenar el modelo\n",
    "modelFC_optuna = models.Sequential()\n",
    "modelFC_optuna.add(layers.Dense(200, activation=\"relu\", input_shape=(410,)))\n",
    "modelFC_optuna.add(layers.Dropout(0.3))\n",
    "modelFC_optuna.add(layers.Dense(200, activation=\"relu\"))\n",
    "modelFC_optuna.add(layers.Dropout(0.3))\n",
    "modelFC_optuna.add(layers.Dense(200, activation=\"relu\"))\n",
    "modelFC_optuna.add(layers.Dropout(0.3))\n",
    "modelFC_optuna.add(layers.Dense(200, activation=\"relu\"))\n",
    "modelFC_optuna.add(layers.Dropout(0.3))\n",
    "modelFC_optuna.add(layers.Dense(1, activation=\"sigmoid\"))\n",
    "\n",
    "modelFC_optuna.compile(loss=\"binary_crossentropy\", optimizer=\"adam\", metrics=[\"acc\"])\n",
    "es = callbacks.EarlyStopping(monitor=\"val_acc\", min_delta=0.01, patience=5)\n",
    "modelFC_optuna.fit(X_train, y_train, epochs=100, validation_split=0.25, callbacks=[es])\n",
    "# modelFC_optuna_Adam.fit(X_train, y_train, epochs=100, validation_split=0.25)\n",
    "\n",
    "# Precisión en partición de test\n",
    "loss, accuracy = modelFC_optuna.evaluate(X_test, y_test)\n",
    "print(\"Accuracy: {:0.2f}%\".format(accuracy * 100))"
   ]
  },
  {
   "cell_type": "markdown",
   "id": "e0d8da59",
   "metadata": {},
   "source": [
    "Veamos si podemos obtener mejores resultados cambiando la última capa con activación sigmoide por una activación softmax:"
   ]
  },
  {
   "cell_type": "code",
   "execution_count": 9,
   "id": "443bedfe",
   "metadata": {},
   "outputs": [],
   "source": [
    "from keras.utils import np_utils\n",
    "\n",
    "# En primer lugar, hay que adaptar los datos\n",
    "NUM_CLASSES = 2\n",
    "y_train_softmax = np_utils.to_categorical(y_train, NUM_CLASSES)\n",
    "y_test_softmax = np_utils.to_categorical(y_test, NUM_CLASSES)"
   ]
  },
  {
   "cell_type": "code",
   "execution_count": 18,
   "id": "91d41c94",
   "metadata": {},
   "outputs": [],
   "source": [
    "def objectiveSoftmax(trial):\n",
    "    modelFC_optuna = models.Sequential()\n",
    "\n",
    "    n_layers = trial.suggest_int(\"n_layers\", 2, 5, 1)\n",
    "    num_hidden = trial.suggest_int(\"n_units\", 50, 250, 50)\n",
    "    dropout = trial.suggest_float(\"dropout\", 0, 0.5, step=0.1)\n",
    "    for i in range(n_layers):\n",
    "        modelFC_optuna.add(layers.Dense(num_hidden, activation=\"relu\"))\n",
    "        modelFC_optuna.add(layers.Dropout(rate=dropout))\n",
    "    modelFC_optuna.add(layers.Dense(2, activation=\"softmax\"))\n",
    "\n",
    "    optimizers = trial.suggest_categorical(\"optimizer\", [\"RMSprop\", \"SGD\", \"Adam\"])\n",
    "    modelFC_optuna.compile(loss=\"categorical_crossentropy\", optimizer=optimizers, metrics=[\"accuracy\"])\n",
    "    \n",
    "    es = callbacks.EarlyStopping(monitor=\"val_accuracy\", min_delta=0.01, patience=5)\n",
    "    modelFC_optuna.fit(X_train, y_train_softmax, callbacks=[es], epochs=100, validation_split=0.25, verbose=0)\n",
    "\n",
    "    loss, accuracy = modelFC_optuna.evaluate(X_test, y_test_softmax)\n",
    "    return accuracy"
   ]
  },
  {
   "cell_type": "code",
   "execution_count": 19,
   "id": "c552f735",
   "metadata": {
    "scrolled": true
   },
   "outputs": [
    {
     "name": "stderr",
     "output_type": "stream",
     "text": [
      "\u001b[32m[I 2022-05-31 18:15:42,416]\u001b[0m A new study created in memory with name: no-name-963e19f3-aed6-4b6b-8cd7-658c650cd446\u001b[0m\n"
     ]
    },
    {
     "name": "stdout",
     "output_type": "stream",
     "text": [
      "1/1 [==============================] - 0s 16ms/step - loss: 0.5406 - accuracy: 0.7778\n"
     ]
    },
    {
     "name": "stderr",
     "output_type": "stream",
     "text": [
      "\u001b[32m[I 2022-05-31 18:15:43,407]\u001b[0m Trial 0 finished with value: 0.7777777910232544 and parameters: {'n_layers': 4, 'n_units': 200, 'dropout': 0.30000000000000004, 'optimizer': 'Adam'}. Best is trial 0 with value: 0.7777777910232544.\u001b[0m\n"
     ]
    },
    {
     "name": "stdout",
     "output_type": "stream",
     "text": [
      "1/1 [==============================] - 0s 16ms/step - loss: 0.6743 - accuracy: 0.5556\n"
     ]
    },
    {
     "name": "stderr",
     "output_type": "stream",
     "text": [
      "\u001b[32m[I 2022-05-31 18:15:44,350]\u001b[0m Trial 1 finished with value: 0.5555555820465088 and parameters: {'n_layers': 3, 'n_units': 250, 'dropout': 0.5, 'optimizer': 'SGD'}. Best is trial 0 with value: 0.7777777910232544.\u001b[0m\n"
     ]
    },
    {
     "name": "stdout",
     "output_type": "stream",
     "text": [
      "1/1 [==============================] - 0s 16ms/step - loss: 0.6219 - accuracy: 0.7222\n"
     ]
    },
    {
     "name": "stderr",
     "output_type": "stream",
     "text": [
      "\u001b[32m[I 2022-05-31 18:15:45,131]\u001b[0m Trial 2 finished with value: 0.7222222089767456 and parameters: {'n_layers': 4, 'n_units': 250, 'dropout': 0.0, 'optimizer': 'Adam'}. Best is trial 0 with value: 0.7777777910232544.\u001b[0m\n"
     ]
    },
    {
     "name": "stdout",
     "output_type": "stream",
     "text": [
      "1/1 [==============================] - 0s 31ms/step - loss: 0.7090 - accuracy: 0.4444\n"
     ]
    },
    {
     "name": "stderr",
     "output_type": "stream",
     "text": [
      "\u001b[32m[I 2022-05-31 18:15:46,267]\u001b[0m Trial 3 finished with value: 0.4444444477558136 and parameters: {'n_layers': 5, 'n_units': 250, 'dropout': 0.5, 'optimizer': 'RMSprop'}. Best is trial 0 with value: 0.7777777910232544.\u001b[0m\n"
     ]
    },
    {
     "name": "stdout",
     "output_type": "stream",
     "text": [
      "1/1 [==============================] - 0s 16ms/step - loss: 0.4179 - accuracy: 0.7222\n"
     ]
    },
    {
     "name": "stderr",
     "output_type": "stream",
     "text": [
      "\u001b[32m[I 2022-05-31 18:15:47,347]\u001b[0m Trial 4 finished with value: 0.7222222089767456 and parameters: {'n_layers': 2, 'n_units': 200, 'dropout': 0.0, 'optimizer': 'RMSprop'}. Best is trial 0 with value: 0.7777777910232544.\u001b[0m\n"
     ]
    },
    {
     "name": "stdout",
     "output_type": "stream",
     "text": [
      "1/1 [==============================] - 0s 31ms/step - loss: 0.6114 - accuracy: 0.8333\n"
     ]
    },
    {
     "name": "stderr",
     "output_type": "stream",
     "text": [
      "\u001b[32m[I 2022-05-31 18:15:48,342]\u001b[0m Trial 5 finished with value: 0.8333333134651184 and parameters: {'n_layers': 3, 'n_units': 200, 'dropout': 0.2, 'optimizer': 'Adam'}. Best is trial 5 with value: 0.8333333134651184.\u001b[0m\n"
     ]
    },
    {
     "name": "stdout",
     "output_type": "stream",
     "text": [
      "1/1 [==============================] - 0s 16ms/step - loss: 0.5312 - accuracy: 0.7778\n"
     ]
    },
    {
     "name": "stderr",
     "output_type": "stream",
     "text": [
      "\u001b[32m[I 2022-05-31 18:15:49,449]\u001b[0m Trial 6 finished with value: 0.7777777910232544 and parameters: {'n_layers': 4, 'n_units': 200, 'dropout': 0.5, 'optimizer': 'RMSprop'}. Best is trial 5 with value: 0.8333333134651184.\u001b[0m\n"
     ]
    },
    {
     "name": "stdout",
     "output_type": "stream",
     "text": [
      "1/1 [==============================] - 0s 16ms/step - loss: 0.7134 - accuracy: 0.4444\n"
     ]
    },
    {
     "name": "stderr",
     "output_type": "stream",
     "text": [
      "\u001b[32m[I 2022-05-31 18:15:50,502]\u001b[0m Trial 7 finished with value: 0.4444444477558136 and parameters: {'n_layers': 4, 'n_units': 50, 'dropout': 0.4, 'optimizer': 'RMSprop'}. Best is trial 5 with value: 0.8333333134651184.\u001b[0m\n"
     ]
    },
    {
     "name": "stdout",
     "output_type": "stream",
     "text": [
      "1/1 [==============================] - 0s 15ms/step - loss: 0.7316 - accuracy: 0.3889\n"
     ]
    },
    {
     "name": "stderr",
     "output_type": "stream",
     "text": [
      "\u001b[32m[I 2022-05-31 18:15:51,284]\u001b[0m Trial 8 finished with value: 0.3888888955116272 and parameters: {'n_layers': 3, 'n_units': 100, 'dropout': 0.30000000000000004, 'optimizer': 'SGD'}. Best is trial 5 with value: 0.8333333134651184.\u001b[0m\n"
     ]
    },
    {
     "name": "stdout",
     "output_type": "stream",
     "text": [
      "1/1 [==============================] - 0s 16ms/step - loss: 0.7613 - accuracy: 0.4444\n"
     ]
    },
    {
     "name": "stderr",
     "output_type": "stream",
     "text": [
      "\u001b[32m[I 2022-05-31 18:15:51,940]\u001b[0m Trial 9 finished with value: 0.4444444477558136 and parameters: {'n_layers': 2, 'n_units': 50, 'dropout': 0.30000000000000004, 'optimizer': 'SGD'}. Best is trial 5 with value: 0.8333333134651184.\u001b[0m\n"
     ]
    },
    {
     "name": "stdout",
     "output_type": "stream",
     "text": [
      "1/1 [==============================] - 0s 16ms/step - loss: 0.7968 - accuracy: 0.6667\n"
     ]
    },
    {
     "name": "stderr",
     "output_type": "stream",
     "text": [
      "\u001b[32m[I 2022-05-31 18:15:52,975]\u001b[0m Trial 10 finished with value: 0.6666666865348816 and parameters: {'n_layers': 5, 'n_units': 150, 'dropout': 0.1, 'optimizer': 'Adam'}. Best is trial 5 with value: 0.8333333134651184.\u001b[0m\n"
     ]
    },
    {
     "name": "stdout",
     "output_type": "stream",
     "text": [
      "1/1 [==============================] - 0s 31ms/step - loss: 0.6850 - accuracy: 0.7222\n"
     ]
    },
    {
     "name": "stderr",
     "output_type": "stream",
     "text": [
      "\u001b[32m[I 2022-05-31 18:15:53,901]\u001b[0m Trial 11 finished with value: 0.7222222089767456 and parameters: {'n_layers': 3, 'n_units': 150, 'dropout': 0.2, 'optimizer': 'Adam'}. Best is trial 5 with value: 0.8333333134651184.\u001b[0m\n"
     ]
    },
    {
     "name": "stdout",
     "output_type": "stream",
     "text": [
      "1/1 [==============================] - 0s 16ms/step - loss: 0.5796 - accuracy: 0.8333\n"
     ]
    },
    {
     "name": "stderr",
     "output_type": "stream",
     "text": [
      "\u001b[32m[I 2022-05-31 18:15:54,887]\u001b[0m Trial 12 finished with value: 0.8333333134651184 and parameters: {'n_layers': 4, 'n_units': 200, 'dropout': 0.2, 'optimizer': 'Adam'}. Best is trial 5 with value: 0.8333333134651184.\u001b[0m\n"
     ]
    },
    {
     "name": "stdout",
     "output_type": "stream",
     "text": [
      "1/1 [==============================] - 0s 16ms/step - loss: 0.6177 - accuracy: 0.7778\n"
     ]
    },
    {
     "name": "stderr",
     "output_type": "stream",
     "text": [
      "\u001b[32m[I 2022-05-31 18:15:55,896]\u001b[0m Trial 13 finished with value: 0.7777777910232544 and parameters: {'n_layers': 3, 'n_units': 200, 'dropout': 0.2, 'optimizer': 'Adam'}. Best is trial 5 with value: 0.8333333134651184.\u001b[0m\n"
     ]
    },
    {
     "name": "stdout",
     "output_type": "stream",
     "text": [
      "1/1 [==============================] - 0s 16ms/step - loss: 0.6047 - accuracy: 0.6111\n"
     ]
    },
    {
     "name": "stderr",
     "output_type": "stream",
     "text": [
      "\u001b[32m[I 2022-05-31 18:15:56,637]\u001b[0m Trial 14 finished with value: 0.6111111044883728 and parameters: {'n_layers': 2, 'n_units': 150, 'dropout': 0.1, 'optimizer': 'Adam'}. Best is trial 5 with value: 0.8333333134651184.\u001b[0m\n"
     ]
    },
    {
     "name": "stdout",
     "output_type": "stream",
     "text": [
      "1/1 [==============================] - 0s 16ms/step - loss: 0.6190 - accuracy: 0.6667\n"
     ]
    },
    {
     "name": "stderr",
     "output_type": "stream",
     "text": [
      "\u001b[32m[I 2022-05-31 18:15:57,838]\u001b[0m Trial 15 finished with value: 0.6666666865348816 and parameters: {'n_layers': 5, 'n_units': 100, 'dropout': 0.1, 'optimizer': 'Adam'}. Best is trial 5 with value: 0.8333333134651184.\u001b[0m\n"
     ]
    },
    {
     "name": "stdout",
     "output_type": "stream",
     "text": [
      "1/1 [==============================] - 0s 16ms/step - loss: 0.4985 - accuracy: 0.7778\n"
     ]
    },
    {
     "name": "stderr",
     "output_type": "stream",
     "text": [
      "\u001b[32m[I 2022-05-31 18:15:58,823]\u001b[0m Trial 16 finished with value: 0.7777777910232544 and parameters: {'n_layers': 3, 'n_units': 200, 'dropout': 0.2, 'optimizer': 'Adam'}. Best is trial 5 with value: 0.8333333134651184.\u001b[0m\n"
     ]
    },
    {
     "name": "stdout",
     "output_type": "stream",
     "text": [
      "1/1 [==============================] - 0s 16ms/step - loss: 0.7152 - accuracy: 0.4444\n"
     ]
    },
    {
     "name": "stderr",
     "output_type": "stream",
     "text": [
      "\u001b[32m[I 2022-05-31 18:15:59,661]\u001b[0m Trial 17 finished with value: 0.4444444477558136 and parameters: {'n_layers': 4, 'n_units': 100, 'dropout': 0.4, 'optimizer': 'Adam'}. Best is trial 5 with value: 0.8333333134651184.\u001b[0m\n"
     ]
    },
    {
     "name": "stdout",
     "output_type": "stream",
     "text": [
      "1/1 [==============================] - 0s 16ms/step - loss: 0.7328 - accuracy: 0.8333\n"
     ]
    },
    {
     "name": "stderr",
     "output_type": "stream",
     "text": [
      "\u001b[32m[I 2022-05-31 18:16:00,630]\u001b[0m Trial 18 finished with value: 0.8333333134651184 and parameters: {'n_layers': 4, 'n_units': 250, 'dropout': 0.1, 'optimizer': 'Adam'}. Best is trial 5 with value: 0.8333333134651184.\u001b[0m\n"
     ]
    },
    {
     "name": "stdout",
     "output_type": "stream",
     "text": [
      "1/1 [==============================] - 0s 16ms/step - loss: 0.7005 - accuracy: 0.4444\n"
     ]
    },
    {
     "name": "stderr",
     "output_type": "stream",
     "text": [
      "\u001b[32m[I 2022-05-31 18:16:01,532]\u001b[0m Trial 19 finished with value: 0.4444444477558136 and parameters: {'n_layers': 5, 'n_units': 250, 'dropout': 0.1, 'optimizer': 'SGD'}. Best is trial 5 with value: 0.8333333134651184.\u001b[0m\n"
     ]
    },
    {
     "name": "stdout",
     "output_type": "stream",
     "text": [
      "1/1 [==============================] - 0s 16ms/step - loss: 0.6794 - accuracy: 0.7778\n"
     ]
    },
    {
     "name": "stderr",
     "output_type": "stream",
     "text": [
      "\u001b[32m[I 2022-05-31 18:16:02,318]\u001b[0m Trial 20 finished with value: 0.7777777910232544 and parameters: {'n_layers': 3, 'n_units': 250, 'dropout': 0.0, 'optimizer': 'Adam'}. Best is trial 5 with value: 0.8333333134651184.\u001b[0m\n"
     ]
    },
    {
     "name": "stdout",
     "output_type": "stream",
     "text": [
      "1/1 [==============================] - 0s 16ms/step - loss: 0.9709 - accuracy: 0.7778\n"
     ]
    },
    {
     "name": "stderr",
     "output_type": "stream",
     "text": [
      "\u001b[32m[I 2022-05-31 18:16:03,445]\u001b[0m Trial 21 finished with value: 0.7777777910232544 and parameters: {'n_layers': 4, 'n_units': 200, 'dropout': 0.2, 'optimizer': 'Adam'}. Best is trial 5 with value: 0.8333333134651184.\u001b[0m\n"
     ]
    },
    {
     "name": "stdout",
     "output_type": "stream",
     "text": [
      "1/1 [==============================] - 0s 16ms/step - loss: 0.7363 - accuracy: 0.7778\n"
     ]
    },
    {
     "name": "stderr",
     "output_type": "stream",
     "text": [
      "\u001b[32m[I 2022-05-31 18:16:04,356]\u001b[0m Trial 22 finished with value: 0.7777777910232544 and parameters: {'n_layers': 4, 'n_units': 200, 'dropout': 0.1, 'optimizer': 'Adam'}. Best is trial 5 with value: 0.8333333134651184.\u001b[0m\n"
     ]
    },
    {
     "name": "stdout",
     "output_type": "stream",
     "text": [
      "1/1 [==============================] - 0s 16ms/step - loss: 0.5167 - accuracy: 0.8333\n"
     ]
    },
    {
     "name": "stderr",
     "output_type": "stream",
     "text": [
      "\u001b[32m[I 2022-05-31 18:16:05,235]\u001b[0m Trial 23 finished with value: 0.8333333134651184 and parameters: {'n_layers': 4, 'n_units': 250, 'dropout': 0.2, 'optimizer': 'Adam'}. Best is trial 5 with value: 0.8333333134651184.\u001b[0m\n"
     ]
    },
    {
     "name": "stdout",
     "output_type": "stream",
     "text": [
      "1/1 [==============================] - 0s 31ms/step - loss: 0.5548 - accuracy: 0.7778\n"
     ]
    },
    {
     "name": "stderr",
     "output_type": "stream",
     "text": [
      "\u001b[32m[I 2022-05-31 18:16:06,265]\u001b[0m Trial 24 finished with value: 0.7777777910232544 and parameters: {'n_layers': 3, 'n_units': 250, 'dropout': 0.30000000000000004, 'optimizer': 'Adam'}. Best is trial 5 with value: 0.8333333134651184.\u001b[0m\n"
     ]
    },
    {
     "name": "stdout",
     "output_type": "stream",
     "text": [
      "1/1 [==============================] - 0s 16ms/step - loss: 0.5743 - accuracy: 0.7778\n"
     ]
    },
    {
     "name": "stderr",
     "output_type": "stream",
     "text": [
      "\u001b[32m[I 2022-05-31 18:16:07,541]\u001b[0m Trial 25 finished with value: 0.7777777910232544 and parameters: {'n_layers': 4, 'n_units': 150, 'dropout': 0.1, 'optimizer': 'Adam'}. Best is trial 5 with value: 0.8333333134651184.\u001b[0m\n"
     ]
    },
    {
     "name": "stdout",
     "output_type": "stream",
     "text": [
      "1/1 [==============================] - 0s 16ms/step - loss: 0.6667 - accuracy: 0.6667\n"
     ]
    },
    {
     "name": "stderr",
     "output_type": "stream",
     "text": [
      "\u001b[32m[I 2022-05-31 18:16:08,558]\u001b[0m Trial 26 finished with value: 0.6666666865348816 and parameters: {'n_layers': 5, 'n_units': 200, 'dropout': 0.2, 'optimizer': 'Adam'}. Best is trial 5 with value: 0.8333333134651184.\u001b[0m\n"
     ]
    },
    {
     "name": "stdout",
     "output_type": "stream",
     "text": [
      "1/1 [==============================] - 0s 16ms/step - loss: 0.5751 - accuracy: 0.6667\n"
     ]
    },
    {
     "name": "stderr",
     "output_type": "stream",
     "text": [
      "\u001b[32m[I 2022-05-31 18:16:09,535]\u001b[0m Trial 27 finished with value: 0.6666666865348816 and parameters: {'n_layers': 3, 'n_units': 250, 'dropout': 0.4, 'optimizer': 'RMSprop'}. Best is trial 5 with value: 0.8333333134651184.\u001b[0m\n"
     ]
    },
    {
     "name": "stdout",
     "output_type": "stream",
     "text": [
      "1/1 [==============================] - 0s 16ms/step - loss: 0.4878 - accuracy: 0.7778\n"
     ]
    },
    {
     "name": "stderr",
     "output_type": "stream",
     "text": [
      "\u001b[32m[I 2022-05-31 18:16:10,228]\u001b[0m Trial 28 finished with value: 0.7777777910232544 and parameters: {'n_layers': 2, 'n_units': 250, 'dropout': 0.0, 'optimizer': 'Adam'}. Best is trial 5 with value: 0.8333333134651184.\u001b[0m\n"
     ]
    },
    {
     "name": "stdout",
     "output_type": "stream",
     "text": [
      "1/1 [==============================] - 0s 16ms/step - loss: 0.7231 - accuracy: 0.3889\n"
     ]
    },
    {
     "name": "stderr",
     "output_type": "stream",
     "text": [
      "\u001b[32m[I 2022-05-31 18:16:11,112]\u001b[0m Trial 29 finished with value: 0.3888888955116272 and parameters: {'n_layers': 4, 'n_units': 250, 'dropout': 0.30000000000000004, 'optimizer': 'SGD'}. Best is trial 5 with value: 0.8333333134651184.\u001b[0m\n"
     ]
    },
    {
     "name": "stdout",
     "output_type": "stream",
     "text": [
      "1/1 [==============================] - 0s 16ms/step - loss: 0.5305 - accuracy: 0.7222\n"
     ]
    },
    {
     "name": "stderr",
     "output_type": "stream",
     "text": [
      "\u001b[32m[I 2022-05-31 18:16:11,982]\u001b[0m Trial 30 finished with value: 0.7222222089767456 and parameters: {'n_layers': 4, 'n_units': 200, 'dropout': 0.2, 'optimizer': 'Adam'}. Best is trial 5 with value: 0.8333333134651184.\u001b[0m\n"
     ]
    },
    {
     "name": "stdout",
     "output_type": "stream",
     "text": [
      "1/1 [==============================] - 0s 31ms/step - loss: 0.6848 - accuracy: 0.7222\n"
     ]
    },
    {
     "name": "stderr",
     "output_type": "stream",
     "text": [
      "\u001b[32m[I 2022-05-31 18:16:12,925]\u001b[0m Trial 31 finished with value: 0.7222222089767456 and parameters: {'n_layers': 4, 'n_units': 250, 'dropout': 0.2, 'optimizer': 'Adam'}. Best is trial 5 with value: 0.8333333134651184.\u001b[0m\n"
     ]
    },
    {
     "name": "stdout",
     "output_type": "stream",
     "text": [
      "1/1 [==============================] - 0s 16ms/step - loss: 0.6969 - accuracy: 0.6667\n"
     ]
    },
    {
     "name": "stderr",
     "output_type": "stream",
     "text": [
      "\u001b[32m[I 2022-05-31 18:16:13,848]\u001b[0m Trial 32 finished with value: 0.6666666865348816 and parameters: {'n_layers': 4, 'n_units': 200, 'dropout': 0.1, 'optimizer': 'Adam'}. Best is trial 5 with value: 0.8333333134651184.\u001b[0m\n"
     ]
    },
    {
     "name": "stdout",
     "output_type": "stream",
     "text": [
      "1/1 [==============================] - 0s 16ms/step - loss: 1.0900 - accuracy: 0.8333\n"
     ]
    },
    {
     "name": "stderr",
     "output_type": "stream",
     "text": [
      "\u001b[32m[I 2022-05-31 18:16:14,867]\u001b[0m Trial 33 finished with value: 0.8333333134651184 and parameters: {'n_layers': 4, 'n_units': 250, 'dropout': 0.2, 'optimizer': 'Adam'}. Best is trial 5 with value: 0.8333333134651184.\u001b[0m\n"
     ]
    },
    {
     "name": "stdout",
     "output_type": "stream",
     "text": [
      "1/1 [==============================] - 0s 16ms/step - loss: 0.5353 - accuracy: 0.7778\n"
     ]
    },
    {
     "name": "stderr",
     "output_type": "stream",
     "text": [
      "\u001b[32m[I 2022-05-31 18:16:15,664]\u001b[0m Trial 34 finished with value: 0.7777777910232544 and parameters: {'n_layers': 3, 'n_units': 250, 'dropout': 0.2, 'optimizer': 'Adam'}. Best is trial 5 with value: 0.8333333134651184.\u001b[0m\n"
     ]
    },
    {
     "name": "stdout",
     "output_type": "stream",
     "text": [
      "1/1 [==============================] - 0s 16ms/step - loss: 1.4007 - accuracy: 0.7778\n"
     ]
    },
    {
     "name": "stderr",
     "output_type": "stream",
     "text": [
      "\u001b[32m[I 2022-05-31 18:16:16,725]\u001b[0m Trial 35 finished with value: 0.7777777910232544 and parameters: {'n_layers': 5, 'n_units': 250, 'dropout': 0.1, 'optimizer': 'Adam'}. Best is trial 5 with value: 0.8333333134651184.\u001b[0m\n"
     ]
    },
    {
     "name": "stdout",
     "output_type": "stream",
     "text": [
      "1/1 [==============================] - 0s 31ms/step - loss: 0.4670 - accuracy: 0.7778\n"
     ]
    },
    {
     "name": "stderr",
     "output_type": "stream",
     "text": [
      "\u001b[32m[I 2022-05-31 18:16:18,084]\u001b[0m Trial 36 finished with value: 0.7777777910232544 and parameters: {'n_layers': 4, 'n_units': 250, 'dropout': 0.30000000000000004, 'optimizer': 'RMSprop'}. Best is trial 5 with value: 0.8333333134651184.\u001b[0m\n"
     ]
    },
    {
     "name": "stdout",
     "output_type": "stream",
     "text": [
      "1/1 [==============================] - 0s 31ms/step - loss: 0.6433 - accuracy: 0.7222\n"
     ]
    },
    {
     "name": "stderr",
     "output_type": "stream",
     "text": [
      "\u001b[32m[I 2022-05-31 18:16:18,871]\u001b[0m Trial 37 finished with value: 0.7222222089767456 and parameters: {'n_layers': 4, 'n_units': 250, 'dropout': 0.0, 'optimizer': 'SGD'}. Best is trial 5 with value: 0.8333333134651184.\u001b[0m\n"
     ]
    },
    {
     "name": "stdout",
     "output_type": "stream",
     "text": [
      "1/1 [==============================] - 0s 16ms/step - loss: 0.6050 - accuracy: 0.7778\n"
     ]
    },
    {
     "name": "stderr",
     "output_type": "stream",
     "text": [
      "\u001b[32m[I 2022-05-31 18:16:19,730]\u001b[0m Trial 38 finished with value: 0.7777777910232544 and parameters: {'n_layers': 3, 'n_units': 250, 'dropout': 0.2, 'optimizer': 'Adam'}. Best is trial 5 with value: 0.8333333134651184.\u001b[0m\n"
     ]
    },
    {
     "name": "stdout",
     "output_type": "stream",
     "text": [
      "1/1 [==============================] - 0s 16ms/step - loss: 0.5109 - accuracy: 0.8333\n"
     ]
    },
    {
     "name": "stderr",
     "output_type": "stream",
     "text": [
      "\u001b[32m[I 2022-05-31 18:16:20,837]\u001b[0m Trial 39 finished with value: 0.8333333134651184 and parameters: {'n_layers': 4, 'n_units': 200, 'dropout': 0.30000000000000004, 'optimizer': 'RMSprop'}. Best is trial 5 with value: 0.8333333134651184.\u001b[0m\n"
     ]
    },
    {
     "name": "stdout",
     "output_type": "stream",
     "text": [
      "1/1 [==============================] - 0s 16ms/step - loss: 0.4898 - accuracy: 0.7778\n"
     ]
    },
    {
     "name": "stderr",
     "output_type": "stream",
     "text": [
      "\u001b[32m[I 2022-05-31 18:16:22,461]\u001b[0m Trial 40 finished with value: 0.7777777910232544 and parameters: {'n_layers': 5, 'n_units': 200, 'dropout': 0.30000000000000004, 'optimizer': 'RMSprop'}. Best is trial 5 with value: 0.8333333134651184.\u001b[0m\n"
     ]
    },
    {
     "name": "stdout",
     "output_type": "stream",
     "text": [
      "1/1 [==============================] - 0s 16ms/step - loss: 0.5104 - accuracy: 0.7222\n"
     ]
    },
    {
     "name": "stderr",
     "output_type": "stream",
     "text": [
      "\u001b[32m[I 2022-05-31 18:16:23,616]\u001b[0m Trial 41 finished with value: 0.7222222089767456 and parameters: {'n_layers': 4, 'n_units': 200, 'dropout': 0.30000000000000004, 'optimizer': 'RMSprop'}. Best is trial 5 with value: 0.8333333134651184.\u001b[0m\n"
     ]
    },
    {
     "name": "stdout",
     "output_type": "stream",
     "text": [
      "1/1 [==============================] - 0s 16ms/step - loss: 0.5674 - accuracy: 0.6667\n"
     ]
    },
    {
     "name": "stderr",
     "output_type": "stream",
     "text": [
      "\u001b[32m[I 2022-05-31 18:16:24,659]\u001b[0m Trial 42 finished with value: 0.6666666865348816 and parameters: {'n_layers': 4, 'n_units': 150, 'dropout': 0.4, 'optimizer': 'RMSprop'}. Best is trial 5 with value: 0.8333333134651184.\u001b[0m\n"
     ]
    },
    {
     "name": "stdout",
     "output_type": "stream",
     "text": [
      "1/1 [==============================] - 0s 16ms/step - loss: 0.5998 - accuracy: 0.7222\n"
     ]
    },
    {
     "name": "stderr",
     "output_type": "stream",
     "text": [
      "\u001b[32m[I 2022-05-31 18:16:25,599]\u001b[0m Trial 43 finished with value: 0.7222222089767456 and parameters: {'n_layers': 4, 'n_units': 250, 'dropout': 0.2, 'optimizer': 'Adam'}. Best is trial 5 with value: 0.8333333134651184.\u001b[0m\n"
     ]
    },
    {
     "name": "stdout",
     "output_type": "stream",
     "text": [
      "1/1 [==============================] - 0s 16ms/step - loss: 0.5868 - accuracy: 0.5556\n"
     ]
    },
    {
     "name": "stderr",
     "output_type": "stream",
     "text": [
      "\u001b[32m[I 2022-05-31 18:16:26,461]\u001b[0m Trial 44 finished with value: 0.5555555820465088 and parameters: {'n_layers': 4, 'n_units': 150, 'dropout': 0.2, 'optimizer': 'Adam'}. Best is trial 5 with value: 0.8333333134651184.\u001b[0m\n"
     ]
    },
    {
     "name": "stdout",
     "output_type": "stream",
     "text": [
      "1/1 [==============================] - 0s 31ms/step - loss: 0.5529 - accuracy: 0.7778\n"
     ]
    },
    {
     "name": "stderr",
     "output_type": "stream",
     "text": [
      "\u001b[32m[I 2022-05-31 18:16:27,553]\u001b[0m Trial 45 finished with value: 0.7777777910232544 and parameters: {'n_layers': 3, 'n_units': 200, 'dropout': 0.1, 'optimizer': 'Adam'}. Best is trial 5 with value: 0.8333333134651184.\u001b[0m\n"
     ]
    },
    {
     "name": "stdout",
     "output_type": "stream",
     "text": [
      "1/1 [==============================] - 0s 16ms/step - loss: 0.5578 - accuracy: 0.7778\n"
     ]
    },
    {
     "name": "stderr",
     "output_type": "stream",
     "text": [
      "\u001b[32m[I 2022-05-31 18:16:28,460]\u001b[0m Trial 46 finished with value: 0.7777777910232544 and parameters: {'n_layers': 4, 'n_units': 250, 'dropout': 0.2, 'optimizer': 'Adam'}. Best is trial 5 with value: 0.8333333134651184.\u001b[0m\n"
     ]
    },
    {
     "name": "stdout",
     "output_type": "stream",
     "text": [
      "1/1 [==============================] - 0s 16ms/step - loss: 0.4938 - accuracy: 0.7778\n"
     ]
    },
    {
     "name": "stderr",
     "output_type": "stream",
     "text": [
      "\u001b[32m[I 2022-05-31 18:16:29,460]\u001b[0m Trial 47 finished with value: 0.7777777910232544 and parameters: {'n_layers': 3, 'n_units': 200, 'dropout': 0.30000000000000004, 'optimizer': 'RMSprop'}. Best is trial 5 with value: 0.8333333134651184.\u001b[0m\n"
     ]
    },
    {
     "name": "stdout",
     "output_type": "stream",
     "text": [
      "1/1 [==============================] - 0s 16ms/step - loss: 0.4827 - accuracy: 0.7222\n"
     ]
    },
    {
     "name": "stderr",
     "output_type": "stream",
     "text": [
      "\u001b[32m[I 2022-05-31 18:16:30,646]\u001b[0m Trial 48 finished with value: 0.7222222089767456 and parameters: {'n_layers': 5, 'n_units': 200, 'dropout': 0.30000000000000004, 'optimizer': 'RMSprop'}. Best is trial 5 with value: 0.8333333134651184.\u001b[0m\n"
     ]
    },
    {
     "name": "stdout",
     "output_type": "stream",
     "text": [
      "1/1 [==============================] - 0s 16ms/step - loss: 0.7323 - accuracy: 0.4444\n"
     ]
    },
    {
     "name": "stderr",
     "output_type": "stream",
     "text": [
      "\u001b[32m[I 2022-05-31 18:16:31,447]\u001b[0m Trial 49 finished with value: 0.4444444477558136 and parameters: {'n_layers': 4, 'n_units': 150, 'dropout': 0.4, 'optimizer': 'SGD'}. Best is trial 5 with value: 0.8333333134651184.\u001b[0m\n"
     ]
    },
    {
     "name": "stdout",
     "output_type": "stream",
     "text": [
      "1/1 [==============================] - 0s 16ms/step - loss: 0.5446 - accuracy: 0.7778\n"
     ]
    },
    {
     "name": "stderr",
     "output_type": "stream",
     "text": [
      "\u001b[32m[I 2022-05-31 18:16:32,401]\u001b[0m Trial 50 finished with value: 0.7777777910232544 and parameters: {'n_layers': 3, 'n_units': 200, 'dropout': 0.1, 'optimizer': 'RMSprop'}. Best is trial 5 with value: 0.8333333134651184.\u001b[0m\n"
     ]
    },
    {
     "name": "stdout",
     "output_type": "stream",
     "text": [
      "1/1 [==============================] - 0s 16ms/step - loss: 0.6615 - accuracy: 0.7778\n"
     ]
    },
    {
     "name": "stderr",
     "output_type": "stream",
     "text": [
      "\u001b[32m[I 2022-05-31 18:16:33,377]\u001b[0m Trial 51 finished with value: 0.7777777910232544 and parameters: {'n_layers': 4, 'n_units': 250, 'dropout': 0.2, 'optimizer': 'Adam'}. Best is trial 5 with value: 0.8333333134651184.\u001b[0m\n"
     ]
    },
    {
     "name": "stdout",
     "output_type": "stream",
     "text": [
      "1/1 [==============================] - 0s 16ms/step - loss: 0.6314 - accuracy: 0.6111\n"
     ]
    },
    {
     "name": "stderr",
     "output_type": "stream",
     "text": [
      "\u001b[32m[I 2022-05-31 18:16:34,265]\u001b[0m Trial 52 finished with value: 0.6111111044883728 and parameters: {'n_layers': 4, 'n_units': 200, 'dropout': 0.30000000000000004, 'optimizer': 'Adam'}. Best is trial 5 with value: 0.8333333134651184.\u001b[0m\n"
     ]
    },
    {
     "name": "stdout",
     "output_type": "stream",
     "text": [
      "1/1 [==============================] - 0s 16ms/step - loss: 0.4970 - accuracy: 0.7778\n"
     ]
    },
    {
     "name": "stderr",
     "output_type": "stream",
     "text": [
      "\u001b[32m[I 2022-05-31 18:16:35,330]\u001b[0m Trial 53 finished with value: 0.7777777910232544 and parameters: {'n_layers': 4, 'n_units': 100, 'dropout': 0.2, 'optimizer': 'Adam'}. Best is trial 5 with value: 0.8333333134651184.\u001b[0m\n"
     ]
    },
    {
     "name": "stdout",
     "output_type": "stream",
     "text": [
      "1/1 [==============================] - 0s 16ms/step - loss: 0.6629 - accuracy: 0.7778\n"
     ]
    },
    {
     "name": "stderr",
     "output_type": "stream",
     "text": [
      "\u001b[32m[I 2022-05-31 18:16:36,274]\u001b[0m Trial 54 finished with value: 0.7777777910232544 and parameters: {'n_layers': 4, 'n_units': 200, 'dropout': 0.1, 'optimizer': 'Adam'}. Best is trial 5 with value: 0.8333333134651184.\u001b[0m\n"
     ]
    },
    {
     "name": "stdout",
     "output_type": "stream",
     "text": [
      "1/1 [==============================] - 0s 32ms/step - loss: 0.6725 - accuracy: 0.5000\n"
     ]
    },
    {
     "name": "stderr",
     "output_type": "stream",
     "text": [
      "\u001b[32m[I 2022-05-31 18:16:37,437]\u001b[0m Trial 55 finished with value: 0.5 and parameters: {'n_layers': 4, 'n_units': 250, 'dropout': 0.5, 'optimizer': 'Adam'}. Best is trial 5 with value: 0.8333333134651184.\u001b[0m\n"
     ]
    },
    {
     "name": "stdout",
     "output_type": "stream",
     "text": [
      "1/1 [==============================] - 0s 16ms/step - loss: 1.8827 - accuracy: 0.7222\n"
     ]
    },
    {
     "name": "stderr",
     "output_type": "stream",
     "text": [
      "\u001b[32m[I 2022-05-31 18:16:39,345]\u001b[0m Trial 56 finished with value: 0.7222222089767456 and parameters: {'n_layers': 4, 'n_units': 250, 'dropout': 0.2, 'optimizer': 'Adam'}. Best is trial 5 with value: 0.8333333134651184.\u001b[0m\n"
     ]
    },
    {
     "name": "stdout",
     "output_type": "stream",
     "text": [
      "1/1 [==============================] - 0s 16ms/step - loss: 0.6966 - accuracy: 0.3889\n"
     ]
    },
    {
     "name": "stderr",
     "output_type": "stream",
     "text": [
      "\u001b[32m[I 2022-05-31 18:16:40,073]\u001b[0m Trial 57 finished with value: 0.3888888955116272 and parameters: {'n_layers': 2, 'n_units': 150, 'dropout': 0.30000000000000004, 'optimizer': 'SGD'}. Best is trial 5 with value: 0.8333333134651184.\u001b[0m\n"
     ]
    },
    {
     "name": "stdout",
     "output_type": "stream",
     "text": [
      "1/1 [==============================] - 0s 16ms/step - loss: 0.4726 - accuracy: 0.8333\n"
     ]
    },
    {
     "name": "stderr",
     "output_type": "stream",
     "text": [
      "\u001b[32m[I 2022-05-31 18:16:40,927]\u001b[0m Trial 58 finished with value: 0.8333333134651184 and parameters: {'n_layers': 3, 'n_units': 200, 'dropout': 0.1, 'optimizer': 'Adam'}. Best is trial 5 with value: 0.8333333134651184.\u001b[0m\n"
     ]
    },
    {
     "name": "stdout",
     "output_type": "stream",
     "text": [
      "1/1 [==============================] - 0s 16ms/step - loss: 0.7362 - accuracy: 0.8333\n"
     ]
    },
    {
     "name": "stderr",
     "output_type": "stream",
     "text": [
      "\u001b[32m[I 2022-05-31 18:16:41,945]\u001b[0m Trial 59 finished with value: 0.8333333134651184 and parameters: {'n_layers': 3, 'n_units': 200, 'dropout': 0.0, 'optimizer': 'RMSprop'}. Best is trial 5 with value: 0.8333333134651184.\u001b[0m\n"
     ]
    },
    {
     "name": "stdout",
     "output_type": "stream",
     "text": [
      "1/1 [==============================] - 0s 16ms/step - loss: 0.5865 - accuracy: 0.7778\n"
     ]
    },
    {
     "name": "stderr",
     "output_type": "stream",
     "text": [
      "\u001b[32m[I 2022-05-31 18:16:42,858]\u001b[0m Trial 60 finished with value: 0.7777777910232544 and parameters: {'n_layers': 3, 'n_units': 200, 'dropout': 0.0, 'optimizer': 'RMSprop'}. Best is trial 5 with value: 0.8333333134651184.\u001b[0m\n"
     ]
    },
    {
     "name": "stdout",
     "output_type": "stream",
     "text": [
      "1/1 [==============================] - 0s 16ms/step - loss: 0.5521 - accuracy: 0.7778\n"
     ]
    },
    {
     "name": "stderr",
     "output_type": "stream",
     "text": [
      "\u001b[32m[I 2022-05-31 18:16:43,700]\u001b[0m Trial 61 finished with value: 0.7777777910232544 and parameters: {'n_layers': 3, 'n_units': 200, 'dropout': 0.0, 'optimizer': 'RMSprop'}. Best is trial 5 with value: 0.8333333134651184.\u001b[0m\n"
     ]
    },
    {
     "name": "stdout",
     "output_type": "stream",
     "text": [
      "1/1 [==============================] - 0s 16ms/step - loss: 0.6748 - accuracy: 0.6111\n"
     ]
    },
    {
     "name": "stderr",
     "output_type": "stream",
     "text": [
      "\u001b[32m[I 2022-05-31 18:16:44,522]\u001b[0m Trial 62 finished with value: 0.6111111044883728 and parameters: {'n_layers': 3, 'n_units': 50, 'dropout': 0.1, 'optimizer': 'Adam'}. Best is trial 5 with value: 0.8333333134651184.\u001b[0m\n"
     ]
    },
    {
     "name": "stdout",
     "output_type": "stream",
     "text": [
      "1/1 [==============================] - 0s 16ms/step - loss: 0.6830 - accuracy: 0.7778\n"
     ]
    },
    {
     "name": "stderr",
     "output_type": "stream",
     "text": [
      "\u001b[32m[I 2022-05-31 18:16:45,428]\u001b[0m Trial 63 finished with value: 0.7777777910232544 and parameters: {'n_layers': 3, 'n_units': 200, 'dropout': 0.0, 'optimizer': 'RMSprop'}. Best is trial 5 with value: 0.8333333134651184.\u001b[0m\n"
     ]
    },
    {
     "name": "stdout",
     "output_type": "stream",
     "text": [
      "1/1 [==============================] - 0s 16ms/step - loss: 0.5173 - accuracy: 0.8333\n"
     ]
    },
    {
     "name": "stderr",
     "output_type": "stream",
     "text": [
      "\u001b[32m[I 2022-05-31 18:16:46,427]\u001b[0m Trial 64 finished with value: 0.8333333134651184 and parameters: {'n_layers': 3, 'n_units': 150, 'dropout': 0.0, 'optimizer': 'RMSprop'}. Best is trial 5 with value: 0.8333333134651184.\u001b[0m\n"
     ]
    },
    {
     "name": "stdout",
     "output_type": "stream",
     "text": [
      "1/1 [==============================] - 0s 16ms/step - loss: 0.5861 - accuracy: 0.7222\n"
     ]
    },
    {
     "name": "stderr",
     "output_type": "stream",
     "text": [
      "\u001b[32m[I 2022-05-31 18:16:47,369]\u001b[0m Trial 65 finished with value: 0.7222222089767456 and parameters: {'n_layers': 4, 'n_units': 100, 'dropout': 0.0, 'optimizer': 'RMSprop'}. Best is trial 5 with value: 0.8333333134651184.\u001b[0m\n"
     ]
    },
    {
     "name": "stdout",
     "output_type": "stream",
     "text": [
      "1/1 [==============================] - 0s 16ms/step - loss: 0.4926 - accuracy: 0.7778\n"
     ]
    },
    {
     "name": "stderr",
     "output_type": "stream",
     "text": [
      "\u001b[32m[I 2022-05-31 18:16:48,112]\u001b[0m Trial 66 finished with value: 0.7777777910232544 and parameters: {'n_layers': 3, 'n_units': 150, 'dropout': 0.0, 'optimizer': 'Adam'}. Best is trial 5 with value: 0.8333333134651184.\u001b[0m\n"
     ]
    },
    {
     "name": "stdout",
     "output_type": "stream",
     "text": [
      "1/1 [==============================] - 0s 16ms/step - loss: 0.7672 - accuracy: 0.7778\n"
     ]
    },
    {
     "name": "stderr",
     "output_type": "stream",
     "text": [
      "\u001b[32m[I 2022-05-31 18:16:49,280]\u001b[0m Trial 67 finished with value: 0.7777777910232544 and parameters: {'n_layers': 4, 'n_units': 250, 'dropout': 0.1, 'optimizer': 'Adam'}. Best is trial 5 with value: 0.8333333134651184.\u001b[0m\n"
     ]
    },
    {
     "name": "stdout",
     "output_type": "stream",
     "text": [
      "1/1 [==============================] - 0s 31ms/step - loss: 0.5977 - accuracy: 0.7222\n"
     ]
    },
    {
     "name": "stderr",
     "output_type": "stream",
     "text": [
      "\u001b[32m[I 2022-05-31 18:16:50,224]\u001b[0m Trial 68 finished with value: 0.7222222089767456 and parameters: {'n_layers': 4, 'n_units': 200, 'dropout': 0.1, 'optimizer': 'Adam'}. Best is trial 5 with value: 0.8333333134651184.\u001b[0m\n"
     ]
    },
    {
     "name": "stdout",
     "output_type": "stream",
     "text": [
      "1/1 [==============================] - 0s 16ms/step - loss: 0.5843 - accuracy: 0.7778\n"
     ]
    },
    {
     "name": "stderr",
     "output_type": "stream",
     "text": [
      "\u001b[32m[I 2022-05-31 18:16:51,275]\u001b[0m Trial 69 finished with value: 0.7777777910232544 and parameters: {'n_layers': 3, 'n_units': 150, 'dropout': 0.0, 'optimizer': 'RMSprop'}. Best is trial 5 with value: 0.8333333134651184.\u001b[0m\n"
     ]
    },
    {
     "name": "stdout",
     "output_type": "stream",
     "text": [
      "1/1 [==============================] - 0s 16ms/step - loss: 0.5383 - accuracy: 0.7222\n"
     ]
    },
    {
     "name": "stderr",
     "output_type": "stream",
     "text": [
      "\u001b[32m[I 2022-05-31 18:16:52,039]\u001b[0m Trial 70 finished with value: 0.7222222089767456 and parameters: {'n_layers': 2, 'n_units': 150, 'dropout': 0.0, 'optimizer': 'RMSprop'}. Best is trial 5 with value: 0.8333333134651184.\u001b[0m\n"
     ]
    },
    {
     "name": "stdout",
     "output_type": "stream",
     "text": [
      "1/1 [==============================] - 0s 16ms/step - loss: 0.5279 - accuracy: 0.7222\n"
     ]
    },
    {
     "name": "stderr",
     "output_type": "stream",
     "text": [
      "\u001b[32m[I 2022-05-31 18:16:53,007]\u001b[0m Trial 71 finished with value: 0.7222222089767456 and parameters: {'n_layers': 3, 'n_units': 150, 'dropout': 0.2, 'optimizer': 'RMSprop'}. Best is trial 5 with value: 0.8333333134651184.\u001b[0m\n"
     ]
    },
    {
     "name": "stdout",
     "output_type": "stream",
     "text": [
      "1/1 [==============================] - 0s 16ms/step - loss: 0.3906 - accuracy: 0.7778\n"
     ]
    },
    {
     "name": "stderr",
     "output_type": "stream",
     "text": [
      "\u001b[32m[I 2022-05-31 18:16:54,054]\u001b[0m Trial 72 finished with value: 0.7777777910232544 and parameters: {'n_layers': 3, 'n_units': 200, 'dropout': 0.2, 'optimizer': 'RMSprop'}. Best is trial 5 with value: 0.8333333134651184.\u001b[0m\n"
     ]
    },
    {
     "name": "stdout",
     "output_type": "stream",
     "text": [
      "1/1 [==============================] - 0s 16ms/step - loss: 0.5916 - accuracy: 0.7778\n"
     ]
    },
    {
     "name": "stderr",
     "output_type": "stream",
     "text": [
      "\u001b[32m[I 2022-05-31 18:16:54,991]\u001b[0m Trial 73 finished with value: 0.7777777910232544 and parameters: {'n_layers': 3, 'n_units': 200, 'dropout': 0.2, 'optimizer': 'RMSprop'}. Best is trial 5 with value: 0.8333333134651184.\u001b[0m\n"
     ]
    },
    {
     "name": "stdout",
     "output_type": "stream",
     "text": [
      "1/1 [==============================] - 0s 16ms/step - loss: 0.6957 - accuracy: 0.5000\n"
     ]
    },
    {
     "name": "stderr",
     "output_type": "stream",
     "text": [
      "\u001b[32m[I 2022-05-31 18:16:55,756]\u001b[0m Trial 74 finished with value: 0.5 and parameters: {'n_layers': 3, 'n_units': 200, 'dropout': 0.30000000000000004, 'optimizer': 'SGD'}. Best is trial 5 with value: 0.8333333134651184.\u001b[0m\n"
     ]
    },
    {
     "name": "stdout",
     "output_type": "stream",
     "text": [
      "1/1 [==============================] - 0s 16ms/step - loss: 0.4101 - accuracy: 0.8333\n"
     ]
    },
    {
     "name": "stderr",
     "output_type": "stream",
     "text": [
      "\u001b[32m[I 2022-05-31 18:16:56,556]\u001b[0m Trial 75 finished with value: 0.8333333134651184 and parameters: {'n_layers': 3, 'n_units': 250, 'dropout': 0.1, 'optimizer': 'Adam'}. Best is trial 5 with value: 0.8333333134651184.\u001b[0m\n"
     ]
    },
    {
     "name": "stdout",
     "output_type": "stream",
     "text": [
      "1/1 [==============================] - 0s 16ms/step - loss: 0.9657 - accuracy: 0.8333\n"
     ]
    },
    {
     "name": "stderr",
     "output_type": "stream",
     "text": [
      "\u001b[32m[I 2022-05-31 18:16:57,533]\u001b[0m Trial 76 finished with value: 0.8333333134651184 and parameters: {'n_layers': 4, 'n_units': 250, 'dropout': 0.1, 'optimizer': 'Adam'}. Best is trial 5 with value: 0.8333333134651184.\u001b[0m\n"
     ]
    },
    {
     "name": "stdout",
     "output_type": "stream",
     "text": [
      "1/1 [==============================] - 0s 16ms/step - loss: 0.7051 - accuracy: 0.7222\n"
     ]
    },
    {
     "name": "stderr",
     "output_type": "stream",
     "text": [
      "\u001b[32m[I 2022-05-31 18:16:58,749]\u001b[0m Trial 77 finished with value: 0.7222222089767456 and parameters: {'n_layers': 4, 'n_units': 250, 'dropout': 0.1, 'optimizer': 'Adam'}. Best is trial 5 with value: 0.8333333134651184.\u001b[0m\n"
     ]
    },
    {
     "name": "stdout",
     "output_type": "stream",
     "text": [
      "1/1 [==============================] - 0s 31ms/step - loss: 0.6306 - accuracy: 0.6667\n"
     ]
    },
    {
     "name": "stderr",
     "output_type": "stream",
     "text": [
      "\u001b[32m[I 2022-05-31 18:16:59,697]\u001b[0m Trial 78 finished with value: 0.6666666865348816 and parameters: {'n_layers': 4, 'n_units': 250, 'dropout': 0.0, 'optimizer': 'RMSprop'}. Best is trial 5 with value: 0.8333333134651184.\u001b[0m\n"
     ]
    },
    {
     "name": "stdout",
     "output_type": "stream",
     "text": [
      "1/1 [==============================] - 0s 16ms/step - loss: 0.6891 - accuracy: 0.7222\n"
     ]
    },
    {
     "name": "stderr",
     "output_type": "stream",
     "text": [
      "\u001b[32m[I 2022-05-31 18:17:00,635]\u001b[0m Trial 79 finished with value: 0.7222222089767456 and parameters: {'n_layers': 3, 'n_units': 150, 'dropout': 0.1, 'optimizer': 'RMSprop'}. Best is trial 5 with value: 0.8333333134651184.\u001b[0m\n"
     ]
    },
    {
     "name": "stdout",
     "output_type": "stream",
     "text": [
      "1/1 [==============================] - 0s 16ms/step - loss: 0.7072 - accuracy: 0.7222\n"
     ]
    },
    {
     "name": "stderr",
     "output_type": "stream",
     "text": [
      "\u001b[32m[I 2022-05-31 18:17:01,407]\u001b[0m Trial 80 finished with value: 0.7222222089767456 and parameters: {'n_layers': 3, 'n_units': 250, 'dropout': 0.0, 'optimizer': 'Adam'}. Best is trial 5 with value: 0.8333333134651184.\u001b[0m\n"
     ]
    },
    {
     "name": "stdout",
     "output_type": "stream",
     "text": [
      "1/1 [==============================] - 0s 16ms/step - loss: 0.5730 - accuracy: 0.7778\n"
     ]
    },
    {
     "name": "stderr",
     "output_type": "stream",
     "text": [
      "\u001b[32m[I 2022-05-31 18:17:02,302]\u001b[0m Trial 81 finished with value: 0.7777777910232544 and parameters: {'n_layers': 4, 'n_units': 200, 'dropout': 0.2, 'optimizer': 'Adam'}. Best is trial 5 with value: 0.8333333134651184.\u001b[0m\n"
     ]
    },
    {
     "name": "stdout",
     "output_type": "stream",
     "text": [
      "1/1 [==============================] - 0s 16ms/step - loss: 0.6158 - accuracy: 0.7778\n"
     ]
    },
    {
     "name": "stderr",
     "output_type": "stream",
     "text": [
      "\u001b[32m[I 2022-05-31 18:17:03,494]\u001b[0m Trial 82 finished with value: 0.7777777910232544 and parameters: {'n_layers': 3, 'n_units': 200, 'dropout': 0.2, 'optimizer': 'Adam'}. Best is trial 5 with value: 0.8333333134651184.\u001b[0m\n"
     ]
    },
    {
     "name": "stdout",
     "output_type": "stream",
     "text": [
      "1/1 [==============================] - 0s 16ms/step - loss: 0.5418 - accuracy: 0.7778\n"
     ]
    },
    {
     "name": "stderr",
     "output_type": "stream",
     "text": [
      "\u001b[32m[I 2022-05-31 18:17:04,415]\u001b[0m Trial 83 finished with value: 0.7777777910232544 and parameters: {'n_layers': 4, 'n_units': 200, 'dropout': 0.2, 'optimizer': 'Adam'}. Best is trial 5 with value: 0.8333333134651184.\u001b[0m\n"
     ]
    },
    {
     "name": "stdout",
     "output_type": "stream",
     "text": [
      "1/1 [==============================] - 0s 16ms/step - loss: 0.5229 - accuracy: 0.7778\n"
     ]
    },
    {
     "name": "stderr",
     "output_type": "stream",
     "text": [
      "\u001b[32m[I 2022-05-31 18:17:05,349]\u001b[0m Trial 84 finished with value: 0.7777777910232544 and parameters: {'n_layers': 4, 'n_units': 200, 'dropout': 0.2, 'optimizer': 'Adam'}. Best is trial 5 with value: 0.8333333134651184.\u001b[0m\n"
     ]
    },
    {
     "name": "stdout",
     "output_type": "stream",
     "text": [
      "1/1 [==============================] - 0s 16ms/step - loss: 0.4965 - accuracy: 0.7778\n"
     ]
    },
    {
     "name": "stderr",
     "output_type": "stream",
     "text": [
      "\u001b[32m[I 2022-05-31 18:17:06,165]\u001b[0m Trial 85 finished with value: 0.7777777910232544 and parameters: {'n_layers': 2, 'n_units': 150, 'dropout': 0.30000000000000004, 'optimizer': 'Adam'}. Best is trial 5 with value: 0.8333333134651184.\u001b[0m\n"
     ]
    },
    {
     "name": "stdout",
     "output_type": "stream",
     "text": [
      "1/1 [==============================] - 0s 16ms/step - loss: 2.0922 - accuracy: 0.7778\n"
     ]
    },
    {
     "name": "stderr",
     "output_type": "stream",
     "text": [
      "\u001b[32m[I 2022-05-31 18:17:07,292]\u001b[0m Trial 86 finished with value: 0.7777777910232544 and parameters: {'n_layers': 4, 'n_units': 250, 'dropout': 0.1, 'optimizer': 'Adam'}. Best is trial 5 with value: 0.8333333134651184.\u001b[0m\n"
     ]
    },
    {
     "name": "stdout",
     "output_type": "stream",
     "text": [
      "1/1 [==============================] - 0s 16ms/step - loss: 0.7326 - accuracy: 0.7778\n"
     ]
    },
    {
     "name": "stderr",
     "output_type": "stream",
     "text": [
      "\u001b[32m[I 2022-05-31 18:17:08,300]\u001b[0m Trial 87 finished with value: 0.7777777910232544 and parameters: {'n_layers': 3, 'n_units': 250, 'dropout': 0.1, 'optimizer': 'Adam'}. Best is trial 5 with value: 0.8333333134651184.\u001b[0m\n"
     ]
    },
    {
     "name": "stdout",
     "output_type": "stream",
     "text": [
      "1/1 [==============================] - 0s 31ms/step - loss: 0.4724 - accuracy: 0.8889\n"
     ]
    },
    {
     "name": "stderr",
     "output_type": "stream",
     "text": [
      "\u001b[32m[I 2022-05-31 18:17:09,616]\u001b[0m Trial 88 finished with value: 0.8888888955116272 and parameters: {'n_layers': 4, 'n_units': 250, 'dropout': 0.0, 'optimizer': 'RMSprop'}. Best is trial 88 with value: 0.8888888955116272.\u001b[0m\n"
     ]
    },
    {
     "name": "stdout",
     "output_type": "stream",
     "text": [
      "1/1 [==============================] - 0s 16ms/step - loss: 0.6024 - accuracy: 0.7222\n"
     ]
    },
    {
     "name": "stderr",
     "output_type": "stream",
     "text": [
      "\u001b[32m[I 2022-05-31 18:17:10,517]\u001b[0m Trial 89 finished with value: 0.7222222089767456 and parameters: {'n_layers': 3, 'n_units': 250, 'dropout': 0.0, 'optimizer': 'RMSprop'}. Best is trial 88 with value: 0.8888888955116272.\u001b[0m\n"
     ]
    },
    {
     "name": "stdout",
     "output_type": "stream",
     "text": [
      "1/1 [==============================] - 0s 31ms/step - loss: 1.0583 - accuracy: 0.7222\n"
     ]
    },
    {
     "name": "stderr",
     "output_type": "stream",
     "text": [
      "\u001b[32m[I 2022-05-31 18:17:11,436]\u001b[0m Trial 90 finished with value: 0.7222222089767456 and parameters: {'n_layers': 4, 'n_units': 250, 'dropout': 0.1, 'optimizer': 'Adam'}. Best is trial 88 with value: 0.8888888955116272.\u001b[0m\n"
     ]
    },
    {
     "name": "stdout",
     "output_type": "stream",
     "text": [
      "1/1 [==============================] - 0s 16ms/step - loss: 0.4953 - accuracy: 0.8333\n"
     ]
    },
    {
     "name": "stderr",
     "output_type": "stream",
     "text": [
      "\u001b[32m[I 2022-05-31 18:17:12,419]\u001b[0m Trial 91 finished with value: 0.8333333134651184 and parameters: {'n_layers': 4, 'n_units': 250, 'dropout': 0.0, 'optimizer': 'RMSprop'}. Best is trial 88 with value: 0.8888888955116272.\u001b[0m\n"
     ]
    },
    {
     "name": "stdout",
     "output_type": "stream",
     "text": [
      "1/1 [==============================] - 0s 16ms/step - loss: 0.7091 - accuracy: 0.7778\n"
     ]
    },
    {
     "name": "stderr",
     "output_type": "stream",
     "text": [
      "\u001b[32m[I 2022-05-31 18:17:13,452]\u001b[0m Trial 92 finished with value: 0.7777777910232544 and parameters: {'n_layers': 4, 'n_units': 250, 'dropout': 0.0, 'optimizer': 'RMSprop'}. Best is trial 88 with value: 0.8888888955116272.\u001b[0m\n"
     ]
    },
    {
     "name": "stdout",
     "output_type": "stream",
     "text": [
      "1/1 [==============================] - 0s 16ms/step - loss: 0.5818 - accuracy: 0.8333\n"
     ]
    },
    {
     "name": "stderr",
     "output_type": "stream",
     "text": [
      "\u001b[32m[I 2022-05-31 18:17:14,578]\u001b[0m Trial 93 finished with value: 0.8333333134651184 and parameters: {'n_layers': 4, 'n_units': 250, 'dropout': 0.1, 'optimizer': 'RMSprop'}. Best is trial 88 with value: 0.8888888955116272.\u001b[0m\n"
     ]
    },
    {
     "name": "stdout",
     "output_type": "stream",
     "text": [
      "1/1 [==============================] - 0s 16ms/step - loss: 0.8841 - accuracy: 0.7222\n"
     ]
    },
    {
     "name": "stderr",
     "output_type": "stream",
     "text": [
      "\u001b[32m[I 2022-05-31 18:17:15,619]\u001b[0m Trial 94 finished with value: 0.7222222089767456 and parameters: {'n_layers': 4, 'n_units': 250, 'dropout': 0.0, 'optimizer': 'RMSprop'}. Best is trial 88 with value: 0.8888888955116272.\u001b[0m\n"
     ]
    },
    {
     "name": "stdout",
     "output_type": "stream",
     "text": [
      "1/1 [==============================] - 0s 16ms/step - loss: 0.6611 - accuracy: 0.6667\n"
     ]
    },
    {
     "name": "stderr",
     "output_type": "stream",
     "text": [
      "\u001b[32m[I 2022-05-31 18:17:16,447]\u001b[0m Trial 95 finished with value: 0.6666666865348816 and parameters: {'n_layers': 4, 'n_units': 250, 'dropout': 0.1, 'optimizer': 'SGD'}. Best is trial 88 with value: 0.8888888955116272.\u001b[0m\n"
     ]
    },
    {
     "name": "stdout",
     "output_type": "stream",
     "text": [
      "1/1 [==============================] - 0s 31ms/step - loss: 0.9128 - accuracy: 0.7778\n"
     ]
    },
    {
     "name": "stderr",
     "output_type": "stream",
     "text": [
      "\u001b[32m[I 2022-05-31 18:17:17,770]\u001b[0m Trial 96 finished with value: 0.7777777910232544 and parameters: {'n_layers': 5, 'n_units': 250, 'dropout': 0.1, 'optimizer': 'Adam'}. Best is trial 88 with value: 0.8888888955116272.\u001b[0m\n"
     ]
    },
    {
     "name": "stdout",
     "output_type": "stream",
     "text": [
      "1/1 [==============================] - 0s 16ms/step - loss: 0.8047 - accuracy: 0.7778\n"
     ]
    },
    {
     "name": "stderr",
     "output_type": "stream",
     "text": [
      "\u001b[32m[I 2022-05-31 18:17:18,769]\u001b[0m Trial 97 finished with value: 0.7777777910232544 and parameters: {'n_layers': 3, 'n_units': 250, 'dropout': 0.1, 'optimizer': 'RMSprop'}. Best is trial 88 with value: 0.8888888955116272.\u001b[0m\n"
     ]
    },
    {
     "name": "stdout",
     "output_type": "stream",
     "text": [
      "1/1 [==============================] - 0s 19ms/step - loss: 1.0304 - accuracy: 0.8333\n"
     ]
    },
    {
     "name": "stderr",
     "output_type": "stream",
     "text": [
      "\u001b[32m[I 2022-05-31 18:17:19,609]\u001b[0m Trial 98 finished with value: 0.8333333134651184 and parameters: {'n_layers': 4, 'n_units': 250, 'dropout': 0.0, 'optimizer': 'Adam'}. Best is trial 88 with value: 0.8888888955116272.\u001b[0m\n"
     ]
    },
    {
     "name": "stdout",
     "output_type": "stream",
     "text": [
      "1/1 [==============================] - 0s 16ms/step - loss: 0.5858 - accuracy: 0.7778\n"
     ]
    },
    {
     "name": "stderr",
     "output_type": "stream",
     "text": [
      "\u001b[32m[I 2022-05-31 18:17:20,659]\u001b[0m Trial 99 finished with value: 0.7777777910232544 and parameters: {'n_layers': 3, 'n_units': 250, 'dropout': 0.0, 'optimizer': 'Adam'}. Best is trial 88 with value: 0.8888888955116272.\u001b[0m\n"
     ]
    },
    {
     "name": "stdout",
     "output_type": "stream",
     "text": [
      "1/1 [==============================] - 0s 16ms/step - loss: 0.6100 - accuracy: 0.8333\n"
     ]
    },
    {
     "name": "stderr",
     "output_type": "stream",
     "text": [
      "\u001b[32m[I 2022-05-31 18:17:21,610]\u001b[0m Trial 100 finished with value: 0.8333333134651184 and parameters: {'n_layers': 4, 'n_units': 250, 'dropout': 0.2, 'optimizer': 'Adam'}. Best is trial 88 with value: 0.8888888955116272.\u001b[0m\n"
     ]
    },
    {
     "name": "stdout",
     "output_type": "stream",
     "text": [
      "1/1 [==============================] - 0s 16ms/step - loss: 0.6066 - accuracy: 0.6111\n"
     ]
    },
    {
     "name": "stderr",
     "output_type": "stream",
     "text": [
      "\u001b[32m[I 2022-05-31 18:17:22,482]\u001b[0m Trial 101 finished with value: 0.6111111044883728 and parameters: {'n_layers': 4, 'n_units': 250, 'dropout': 0.2, 'optimizer': 'Adam'}. Best is trial 88 with value: 0.8888888955116272.\u001b[0m\n"
     ]
    },
    {
     "name": "stdout",
     "output_type": "stream",
     "text": [
      "1/1 [==============================] - 0s 16ms/step - loss: 0.7645 - accuracy: 0.8333\n"
     ]
    },
    {
     "name": "stderr",
     "output_type": "stream",
     "text": [
      "\u001b[32m[I 2022-05-31 18:17:23,399]\u001b[0m Trial 102 finished with value: 0.8333333134651184 and parameters: {'n_layers': 4, 'n_units': 250, 'dropout': 0.1, 'optimizer': 'Adam'}. Best is trial 88 with value: 0.8888888955116272.\u001b[0m\n"
     ]
    },
    {
     "name": "stdout",
     "output_type": "stream",
     "text": [
      "1/1 [==============================] - 0s 16ms/step - loss: 0.7650 - accuracy: 0.8889\n"
     ]
    },
    {
     "name": "stderr",
     "output_type": "stream",
     "text": [
      "\u001b[32m[I 2022-05-31 18:17:24,398]\u001b[0m Trial 103 finished with value: 0.8888888955116272 and parameters: {'n_layers': 4, 'n_units': 250, 'dropout': 0.1, 'optimizer': 'Adam'}. Best is trial 88 with value: 0.8888888955116272.\u001b[0m\n"
     ]
    },
    {
     "name": "stdout",
     "output_type": "stream",
     "text": [
      "1/1 [==============================] - 0s 16ms/step - loss: 0.6007 - accuracy: 0.7222\n"
     ]
    },
    {
     "name": "stderr",
     "output_type": "stream",
     "text": [
      "\u001b[32m[I 2022-05-31 18:17:25,425]\u001b[0m Trial 104 finished with value: 0.7222222089767456 and parameters: {'n_layers': 4, 'n_units': 250, 'dropout': 0.1, 'optimizer': 'RMSprop'}. Best is trial 88 with value: 0.8888888955116272.\u001b[0m\n"
     ]
    },
    {
     "name": "stdout",
     "output_type": "stream",
     "text": [
      "1/1 [==============================] - 0s 16ms/step - loss: 0.5532 - accuracy: 0.8889\n"
     ]
    },
    {
     "name": "stderr",
     "output_type": "stream",
     "text": [
      "\u001b[32m[I 2022-05-31 18:17:26,526]\u001b[0m Trial 105 finished with value: 0.8888888955116272 and parameters: {'n_layers': 4, 'n_units': 250, 'dropout': 0.1, 'optimizer': 'RMSprop'}. Best is trial 88 with value: 0.8888888955116272.\u001b[0m\n"
     ]
    },
    {
     "name": "stdout",
     "output_type": "stream",
     "text": [
      "1/1 [==============================] - 0s 31ms/step - loss: 0.6550 - accuracy: 0.8333\n"
     ]
    },
    {
     "name": "stderr",
     "output_type": "stream",
     "text": [
      "\u001b[32m[I 2022-05-31 18:17:27,490]\u001b[0m Trial 106 finished with value: 0.8333333134651184 and parameters: {'n_layers': 4, 'n_units': 250, 'dropout': 0.0, 'optimizer': 'RMSprop'}. Best is trial 88 with value: 0.8888888955116272.\u001b[0m\n"
     ]
    },
    {
     "name": "stdout",
     "output_type": "stream",
     "text": [
      "1/1 [==============================] - 0s 16ms/step - loss: 0.7862 - accuracy: 0.6667\n"
     ]
    },
    {
     "name": "stderr",
     "output_type": "stream",
     "text": [
      "\u001b[32m[I 2022-05-31 18:17:28,471]\u001b[0m Trial 107 finished with value: 0.6666666865348816 and parameters: {'n_layers': 4, 'n_units': 100, 'dropout': 0.0, 'optimizer': 'RMSprop'}. Best is trial 88 with value: 0.8888888955116272.\u001b[0m\n"
     ]
    },
    {
     "name": "stdout",
     "output_type": "stream",
     "text": [
      "1/1 [==============================] - 0s 16ms/step - loss: 0.5381 - accuracy: 0.7222\n"
     ]
    },
    {
     "name": "stderr",
     "output_type": "stream",
     "text": [
      "\u001b[32m[I 2022-05-31 18:17:29,822]\u001b[0m Trial 108 finished with value: 0.7222222089767456 and parameters: {'n_layers': 4, 'n_units': 250, 'dropout': 0.1, 'optimizer': 'RMSprop'}. Best is trial 88 with value: 0.8888888955116272.\u001b[0m\n"
     ]
    },
    {
     "name": "stdout",
     "output_type": "stream",
     "text": [
      "1/1 [==============================] - 0s 16ms/step - loss: 0.6309 - accuracy: 0.8333\n"
     ]
    },
    {
     "name": "stderr",
     "output_type": "stream",
     "text": [
      "\u001b[32m[I 2022-05-31 18:17:30,957]\u001b[0m Trial 109 finished with value: 0.8333333134651184 and parameters: {'n_layers': 4, 'n_units': 250, 'dropout': 0.1, 'optimizer': 'RMSprop'}. Best is trial 88 with value: 0.8888888955116272.\u001b[0m\n"
     ]
    },
    {
     "name": "stdout",
     "output_type": "stream",
     "text": [
      "1/1 [==============================] - 0s 15ms/step - loss: 0.5831 - accuracy: 0.7222\n"
     ]
    },
    {
     "name": "stderr",
     "output_type": "stream",
     "text": [
      "\u001b[32m[I 2022-05-31 18:17:32,360]\u001b[0m Trial 110 finished with value: 0.7222222089767456 and parameters: {'n_layers': 4, 'n_units': 250, 'dropout': 0.1, 'optimizer': 'RMSprop'}. Best is trial 88 with value: 0.8888888955116272.\u001b[0m\n"
     ]
    },
    {
     "name": "stdout",
     "output_type": "stream",
     "text": [
      "1/1 [==============================] - 0s 16ms/step - loss: 0.7824 - accuracy: 0.7778\n"
     ]
    },
    {
     "name": "stderr",
     "output_type": "stream",
     "text": [
      "\u001b[32m[I 2022-05-31 18:17:33,478]\u001b[0m Trial 111 finished with value: 0.7777777910232544 and parameters: {'n_layers': 4, 'n_units': 250, 'dropout': 0.0, 'optimizer': 'RMSprop'}. Best is trial 88 with value: 0.8888888955116272.\u001b[0m\n"
     ]
    },
    {
     "name": "stdout",
     "output_type": "stream",
     "text": [
      "1/1 [==============================] - 0s 16ms/step - loss: 0.4325 - accuracy: 0.8889\n"
     ]
    },
    {
     "name": "stderr",
     "output_type": "stream",
     "text": [
      "\u001b[32m[I 2022-05-31 18:17:34,504]\u001b[0m Trial 112 finished with value: 0.8888888955116272 and parameters: {'n_layers': 4, 'n_units': 200, 'dropout': 0.0, 'optimizer': 'RMSprop'}. Best is trial 88 with value: 0.8888888955116272.\u001b[0m\n"
     ]
    },
    {
     "name": "stdout",
     "output_type": "stream",
     "text": [
      "1/1 [==============================] - 0s 16ms/step - loss: 0.6235 - accuracy: 0.8333\n"
     ]
    },
    {
     "name": "stderr",
     "output_type": "stream",
     "text": [
      "\u001b[32m[I 2022-05-31 18:17:35,447]\u001b[0m Trial 113 finished with value: 0.8333333134651184 and parameters: {'n_layers': 3, 'n_units': 200, 'dropout': 0.1, 'optimizer': 'RMSprop'}. Best is trial 88 with value: 0.8888888955116272.\u001b[0m\n"
     ]
    },
    {
     "name": "stdout",
     "output_type": "stream",
     "text": [
      "1/1 [==============================] - 0s 16ms/step - loss: 0.5777 - accuracy: 0.7222\n"
     ]
    },
    {
     "name": "stderr",
     "output_type": "stream",
     "text": [
      "\u001b[32m[I 2022-05-31 18:17:36,370]\u001b[0m Trial 114 finished with value: 0.7222222089767456 and parameters: {'n_layers': 3, 'n_units': 200, 'dropout': 0.1, 'optimizer': 'RMSprop'}. Best is trial 88 with value: 0.8888888955116272.\u001b[0m\n"
     ]
    },
    {
     "name": "stdout",
     "output_type": "stream",
     "text": [
      "1/1 [==============================] - 0s 16ms/step - loss: 0.6062 - accuracy: 0.7778\n"
     ]
    },
    {
     "name": "stderr",
     "output_type": "stream",
     "text": [
      "\u001b[32m[I 2022-05-31 18:17:37,427]\u001b[0m Trial 115 finished with value: 0.7777777910232544 and parameters: {'n_layers': 4, 'n_units': 250, 'dropout': 0.0, 'optimizer': 'RMSprop'}. Best is trial 88 with value: 0.8888888955116272.\u001b[0m\n"
     ]
    },
    {
     "name": "stdout",
     "output_type": "stream",
     "text": [
      "1/1 [==============================] - 0s 16ms/step - loss: 0.4494 - accuracy: 0.8333\n"
     ]
    },
    {
     "name": "stderr",
     "output_type": "stream",
     "text": [
      "\u001b[32m[I 2022-05-31 18:17:38,384]\u001b[0m Trial 116 finished with value: 0.8333333134651184 and parameters: {'n_layers': 4, 'n_units': 250, 'dropout': 0.0, 'optimizer': 'RMSprop'}. Best is trial 88 with value: 0.8888888955116272.\u001b[0m\n"
     ]
    },
    {
     "name": "stdout",
     "output_type": "stream",
     "text": [
      "1/1 [==============================] - 0s 16ms/step - loss: 0.7488 - accuracy: 0.7778\n"
     ]
    },
    {
     "name": "stderr",
     "output_type": "stream",
     "text": [
      "\u001b[32m[I 2022-05-31 18:17:39,366]\u001b[0m Trial 117 finished with value: 0.7777777910232544 and parameters: {'n_layers': 4, 'n_units': 150, 'dropout': 0.0, 'optimizer': 'RMSprop'}. Best is trial 88 with value: 0.8888888955116272.\u001b[0m\n"
     ]
    },
    {
     "name": "stdout",
     "output_type": "stream",
     "text": [
      "1/1 [==============================] - 0s 16ms/step - loss: 0.5497 - accuracy: 0.7778\n"
     ]
    },
    {
     "name": "stderr",
     "output_type": "stream",
     "text": [
      "\u001b[32m[I 2022-05-31 18:17:40,746]\u001b[0m Trial 118 finished with value: 0.7777777910232544 and parameters: {'n_layers': 4, 'n_units': 250, 'dropout': 0.1, 'optimizer': 'RMSprop'}. Best is trial 88 with value: 0.8888888955116272.\u001b[0m\n"
     ]
    },
    {
     "name": "stdout",
     "output_type": "stream",
     "text": [
      "1/1 [==============================] - 0s 31ms/step - loss: 0.7136 - accuracy: 0.8333\n"
     ]
    },
    {
     "name": "stderr",
     "output_type": "stream",
     "text": [
      "\u001b[32m[I 2022-05-31 18:17:41,790]\u001b[0m Trial 119 finished with value: 0.8333333134651184 and parameters: {'n_layers': 4, 'n_units': 250, 'dropout': 0.0, 'optimizer': 'RMSprop'}. Best is trial 88 with value: 0.8888888955116272.\u001b[0m\n"
     ]
    },
    {
     "name": "stdout",
     "output_type": "stream",
     "text": [
      "1/1 [==============================] - 0s 16ms/step - loss: 0.5872 - accuracy: 0.8333\n"
     ]
    },
    {
     "name": "stderr",
     "output_type": "stream",
     "text": [
      "\u001b[32m[I 2022-05-31 18:17:42,745]\u001b[0m Trial 120 finished with value: 0.8333333134651184 and parameters: {'n_layers': 3, 'n_units': 150, 'dropout': 0.0, 'optimizer': 'RMSprop'}. Best is trial 88 with value: 0.8888888955116272.\u001b[0m\n"
     ]
    },
    {
     "name": "stdout",
     "output_type": "stream",
     "text": [
      "1/1 [==============================] - 0s 16ms/step - loss: 0.7025 - accuracy: 0.7778\n"
     ]
    },
    {
     "name": "stderr",
     "output_type": "stream",
     "text": [
      "\u001b[32m[I 2022-05-31 18:17:43,818]\u001b[0m Trial 121 finished with value: 0.7777777910232544 and parameters: {'n_layers': 4, 'n_units': 250, 'dropout': 0.0, 'optimizer': 'RMSprop'}. Best is trial 88 with value: 0.8888888955116272.\u001b[0m\n"
     ]
    },
    {
     "name": "stdout",
     "output_type": "stream",
     "text": [
      "1/1 [==============================] - 0s 16ms/step - loss: 0.6594 - accuracy: 0.6667\n"
     ]
    },
    {
     "name": "stderr",
     "output_type": "stream",
     "text": [
      "\u001b[32m[I 2022-05-31 18:17:44,605]\u001b[0m Trial 122 finished with value: 0.6666666865348816 and parameters: {'n_layers': 4, 'n_units': 250, 'dropout': 0.0, 'optimizer': 'SGD'}. Best is trial 88 with value: 0.8888888955116272.\u001b[0m\n"
     ]
    },
    {
     "name": "stdout",
     "output_type": "stream",
     "text": [
      "1/1 [==============================] - 0s 16ms/step - loss: 0.5986 - accuracy: 0.7222\n"
     ]
    },
    {
     "name": "stderr",
     "output_type": "stream",
     "text": [
      "\u001b[32m[I 2022-05-31 18:17:45,692]\u001b[0m Trial 123 finished with value: 0.7222222089767456 and parameters: {'n_layers': 4, 'n_units': 250, 'dropout': 0.4, 'optimizer': 'RMSprop'}. Best is trial 88 with value: 0.8888888955116272.\u001b[0m\n"
     ]
    },
    {
     "name": "stdout",
     "output_type": "stream",
     "text": [
      "1/1 [==============================] - 0s 16ms/step - loss: 0.7103 - accuracy: 0.6111\n"
     ]
    },
    {
     "name": "stderr",
     "output_type": "stream",
     "text": [
      "\u001b[32m[I 2022-05-31 18:17:46,627]\u001b[0m Trial 124 finished with value: 0.6111111044883728 and parameters: {'n_layers': 4, 'n_units': 250, 'dropout': 0.1, 'optimizer': 'Adam'}. Best is trial 88 with value: 0.8888888955116272.\u001b[0m\n"
     ]
    },
    {
     "name": "stdout",
     "output_type": "stream",
     "text": [
      "1/1 [==============================] - 0s 31ms/step - loss: 0.6788 - accuracy: 0.8333\n"
     ]
    },
    {
     "name": "stderr",
     "output_type": "stream",
     "text": [
      "\u001b[32m[I 2022-05-31 18:17:47,681]\u001b[0m Trial 125 finished with value: 0.8333333134651184 and parameters: {'n_layers': 3, 'n_units': 200, 'dropout': 0.1, 'optimizer': 'RMSprop'}. Best is trial 88 with value: 0.8888888955116272.\u001b[0m\n"
     ]
    },
    {
     "name": "stdout",
     "output_type": "stream",
     "text": [
      "1/1 [==============================] - 0s 31ms/step - loss: 0.5599 - accuracy: 0.8333\n"
     ]
    },
    {
     "name": "stderr",
     "output_type": "stream",
     "text": [
      "\u001b[32m[I 2022-05-31 18:17:48,726]\u001b[0m Trial 126 finished with value: 0.8333333134651184 and parameters: {'n_layers': 4, 'n_units': 250, 'dropout': 0.0, 'optimizer': 'RMSprop'}. Best is trial 88 with value: 0.8888888955116272.\u001b[0m\n"
     ]
    },
    {
     "name": "stdout",
     "output_type": "stream",
     "text": [
      "1/1 [==============================] - 0s 16ms/step - loss: 0.7115 - accuracy: 0.7778\n"
     ]
    },
    {
     "name": "stderr",
     "output_type": "stream",
     "text": [
      "\u001b[32m[I 2022-05-31 18:17:50,091]\u001b[0m Trial 127 finished with value: 0.7777777910232544 and parameters: {'n_layers': 4, 'n_units': 250, 'dropout': 0.0, 'optimizer': 'RMSprop'}. Best is trial 88 with value: 0.8888888955116272.\u001b[0m\n"
     ]
    },
    {
     "name": "stdout",
     "output_type": "stream",
     "text": [
      "1/1 [==============================] - 0s 16ms/step - loss: 0.4610 - accuracy: 0.8889\n"
     ]
    },
    {
     "name": "stderr",
     "output_type": "stream",
     "text": [
      "\u001b[32m[I 2022-05-31 18:17:51,235]\u001b[0m Trial 128 finished with value: 0.8888888955116272 and parameters: {'n_layers': 4, 'n_units': 250, 'dropout': 0.2, 'optimizer': 'Adam'}. Best is trial 88 with value: 0.8888888955116272.\u001b[0m\n"
     ]
    },
    {
     "name": "stdout",
     "output_type": "stream",
     "text": [
      "1/1 [==============================] - 0s 16ms/step - loss: 0.6785 - accuracy: 0.7778\n"
     ]
    },
    {
     "name": "stderr",
     "output_type": "stream",
     "text": [
      "\u001b[32m[I 2022-05-31 18:17:52,231]\u001b[0m Trial 129 finished with value: 0.7777777910232544 and parameters: {'n_layers': 4, 'n_units': 250, 'dropout': 0.0, 'optimizer': 'RMSprop'}. Best is trial 88 with value: 0.8888888955116272.\u001b[0m\n"
     ]
    },
    {
     "name": "stdout",
     "output_type": "stream",
     "text": [
      "1/1 [==============================] - 0s 16ms/step - loss: 0.5196 - accuracy: 0.7778\n"
     ]
    },
    {
     "name": "stderr",
     "output_type": "stream",
     "text": [
      "\u001b[32m[I 2022-05-31 18:17:53,183]\u001b[0m Trial 130 finished with value: 0.7777777910232544 and parameters: {'n_layers': 4, 'n_units': 250, 'dropout': 0.2, 'optimizer': 'Adam'}. Best is trial 88 with value: 0.8888888955116272.\u001b[0m\n"
     ]
    },
    {
     "name": "stdout",
     "output_type": "stream",
     "text": [
      "1/1 [==============================] - 0s 16ms/step - loss: 0.5600 - accuracy: 0.7778\n"
     ]
    },
    {
     "name": "stderr",
     "output_type": "stream",
     "text": [
      "\u001b[32m[I 2022-05-31 18:17:54,157]\u001b[0m Trial 131 finished with value: 0.7777777910232544 and parameters: {'n_layers': 4, 'n_units': 250, 'dropout': 0.2, 'optimizer': 'Adam'}. Best is trial 88 with value: 0.8888888955116272.\u001b[0m\n"
     ]
    },
    {
     "name": "stdout",
     "output_type": "stream",
     "text": [
      "1/1 [==============================] - 0s 16ms/step - loss: 0.7111 - accuracy: 0.7778\n"
     ]
    },
    {
     "name": "stderr",
     "output_type": "stream",
     "text": [
      "\u001b[32m[I 2022-05-31 18:17:55,220]\u001b[0m Trial 132 finished with value: 0.7777777910232544 and parameters: {'n_layers': 4, 'n_units': 250, 'dropout': 0.2, 'optimizer': 'Adam'}. Best is trial 88 with value: 0.8888888955116272.\u001b[0m\n"
     ]
    },
    {
     "name": "stdout",
     "output_type": "stream",
     "text": [
      "1/1 [==============================] - 0s 16ms/step - loss: 0.5279 - accuracy: 0.8333\n"
     ]
    },
    {
     "name": "stderr",
     "output_type": "stream",
     "text": [
      "\u001b[32m[I 2022-05-31 18:17:56,196]\u001b[0m Trial 133 finished with value: 0.8333333134651184 and parameters: {'n_layers': 4, 'n_units': 250, 'dropout': 0.2, 'optimizer': 'Adam'}. Best is trial 88 with value: 0.8888888955116272.\u001b[0m\n"
     ]
    },
    {
     "name": "stdout",
     "output_type": "stream",
     "text": [
      "1/1 [==============================] - 0s 16ms/step - loss: 0.8331 - accuracy: 0.8333\n"
     ]
    },
    {
     "name": "stderr",
     "output_type": "stream",
     "text": [
      "\u001b[32m[I 2022-05-31 18:17:57,243]\u001b[0m Trial 134 finished with value: 0.8333333134651184 and parameters: {'n_layers': 4, 'n_units': 250, 'dropout': 0.2, 'optimizer': 'Adam'}. Best is trial 88 with value: 0.8888888955116272.\u001b[0m\n"
     ]
    },
    {
     "name": "stdout",
     "output_type": "stream",
     "text": [
      "1/1 [==============================] - 0s 16ms/step - loss: 0.8279 - accuracy: 0.7778\n"
     ]
    },
    {
     "name": "stderr",
     "output_type": "stream",
     "text": [
      "\u001b[32m[I 2022-05-31 18:17:58,057]\u001b[0m Trial 135 finished with value: 0.7777777910232544 and parameters: {'n_layers': 4, 'n_units': 250, 'dropout': 0.0, 'optimizer': 'Adam'}. Best is trial 88 with value: 0.8888888955116272.\u001b[0m\n"
     ]
    },
    {
     "name": "stdout",
     "output_type": "stream",
     "text": [
      "1/1 [==============================] - 0s 16ms/step - loss: 0.5663 - accuracy: 0.6667\n"
     ]
    },
    {
     "name": "stderr",
     "output_type": "stream",
     "text": [
      "\u001b[32m[I 2022-05-31 18:17:59,110]\u001b[0m Trial 136 finished with value: 0.6666666865348816 and parameters: {'n_layers': 4, 'n_units': 250, 'dropout': 0.30000000000000004, 'optimizer': 'Adam'}. Best is trial 88 with value: 0.8888888955116272.\u001b[0m\n"
     ]
    },
    {
     "name": "stdout",
     "output_type": "stream",
     "text": [
      "1/1 [==============================] - 0s 16ms/step - loss: 0.6423 - accuracy: 0.7778\n"
     ]
    },
    {
     "name": "stderr",
     "output_type": "stream",
     "text": [
      "\u001b[32m[I 2022-05-31 18:18:00,228]\u001b[0m Trial 137 finished with value: 0.7777777910232544 and parameters: {'n_layers': 3, 'n_units': 200, 'dropout': 0.1, 'optimizer': 'RMSprop'}. Best is trial 88 with value: 0.8888888955116272.\u001b[0m\n"
     ]
    },
    {
     "name": "stdout",
     "output_type": "stream",
     "text": [
      "1/1 [==============================] - 0s 16ms/step - loss: 0.7165 - accuracy: 0.4444\n"
     ]
    },
    {
     "name": "stderr",
     "output_type": "stream",
     "text": [
      "\u001b[32m[I 2022-05-31 18:18:01,365]\u001b[0m Trial 138 finished with value: 0.4444444477558136 and parameters: {'n_layers': 4, 'n_units': 250, 'dropout': 0.5, 'optimizer': 'Adam'}. Best is trial 88 with value: 0.8888888955116272.\u001b[0m\n"
     ]
    },
    {
     "name": "stdout",
     "output_type": "stream",
     "text": [
      "1/1 [==============================] - 0s 31ms/step - loss: 0.7190 - accuracy: 0.5000\n"
     ]
    },
    {
     "name": "stderr",
     "output_type": "stream",
     "text": [
      "\u001b[32m[I 2022-05-31 18:18:02,181]\u001b[0m Trial 139 finished with value: 0.5 and parameters: {'n_layers': 4, 'n_units': 250, 'dropout': 0.2, 'optimizer': 'SGD'}. Best is trial 88 with value: 0.8888888955116272.\u001b[0m\n"
     ]
    },
    {
     "name": "stdout",
     "output_type": "stream",
     "text": [
      "1/1 [==============================] - 0s 16ms/step - loss: 0.4511 - accuracy: 0.8333\n"
     ]
    },
    {
     "name": "stderr",
     "output_type": "stream",
     "text": [
      "\u001b[32m[I 2022-05-31 18:18:03,215]\u001b[0m Trial 140 finished with value: 0.8333333134651184 and parameters: {'n_layers': 4, 'n_units': 200, 'dropout': 0.30000000000000004, 'optimizer': 'Adam'}. Best is trial 88 with value: 0.8888888955116272.\u001b[0m\n"
     ]
    },
    {
     "name": "stdout",
     "output_type": "stream",
     "text": [
      "1/1 [==============================] - 0s 31ms/step - loss: 0.5358 - accuracy: 0.7222\n"
     ]
    },
    {
     "name": "stderr",
     "output_type": "stream",
     "text": [
      "\u001b[32m[I 2022-05-31 18:18:04,453]\u001b[0m Trial 141 finished with value: 0.7222222089767456 and parameters: {'n_layers': 4, 'n_units': 250, 'dropout': 0.1, 'optimizer': 'RMSprop'}. Best is trial 88 with value: 0.8888888955116272.\u001b[0m\n"
     ]
    },
    {
     "name": "stdout",
     "output_type": "stream",
     "text": [
      "1/1 [==============================] - 0s 16ms/step - loss: 0.4884 - accuracy: 0.7778\n"
     ]
    },
    {
     "name": "stderr",
     "output_type": "stream",
     "text": [
      "\u001b[32m[I 2022-05-31 18:18:05,233]\u001b[0m Trial 142 finished with value: 0.7777777910232544 and parameters: {'n_layers': 4, 'n_units': 150, 'dropout': 0.0, 'optimizer': 'Adam'}. Best is trial 88 with value: 0.8888888955116272.\u001b[0m\n"
     ]
    },
    {
     "name": "stdout",
     "output_type": "stream",
     "text": [
      "1/1 [==============================] - 0s 31ms/step - loss: 0.6789 - accuracy: 0.7778\n"
     ]
    },
    {
     "name": "stderr",
     "output_type": "stream",
     "text": [
      "\u001b[32m[I 2022-05-31 18:18:06,285]\u001b[0m Trial 143 finished with value: 0.7777777910232544 and parameters: {'n_layers': 4, 'n_units': 200, 'dropout': 0.0, 'optimizer': 'RMSprop'}. Best is trial 88 with value: 0.8888888955116272.\u001b[0m\n"
     ]
    },
    {
     "name": "stdout",
     "output_type": "stream",
     "text": [
      "1/1 [==============================] - 0s 16ms/step - loss: 0.4975 - accuracy: 0.7778\n"
     ]
    },
    {
     "name": "stderr",
     "output_type": "stream",
     "text": [
      "\u001b[32m[I 2022-05-31 18:18:07,274]\u001b[0m Trial 144 finished with value: 0.7777777910232544 and parameters: {'n_layers': 4, 'n_units': 250, 'dropout': 0.30000000000000004, 'optimizer': 'Adam'}. Best is trial 88 with value: 0.8888888955116272.\u001b[0m\n"
     ]
    },
    {
     "name": "stdout",
     "output_type": "stream",
     "text": [
      "1/1 [==============================] - 0s 16ms/step - loss: 0.6952 - accuracy: 0.7222\n"
     ]
    },
    {
     "name": "stderr",
     "output_type": "stream",
     "text": [
      "\u001b[32m[I 2022-05-31 18:18:08,238]\u001b[0m Trial 145 finished with value: 0.7222222089767456 and parameters: {'n_layers': 4, 'n_units': 250, 'dropout': 0.0, 'optimizer': 'RMSprop'}. Best is trial 88 with value: 0.8888888955116272.\u001b[0m\n"
     ]
    },
    {
     "name": "stdout",
     "output_type": "stream",
     "text": [
      "1/1 [==============================] - 0s 16ms/step - loss: 0.6877 - accuracy: 0.7222\n"
     ]
    },
    {
     "name": "stderr",
     "output_type": "stream",
     "text": [
      "\u001b[32m[I 2022-05-31 18:18:09,373]\u001b[0m Trial 146 finished with value: 0.7222222089767456 and parameters: {'n_layers': 4, 'n_units': 250, 'dropout': 0.1, 'optimizer': 'RMSprop'}. Best is trial 88 with value: 0.8888888955116272.\u001b[0m\n"
     ]
    },
    {
     "name": "stdout",
     "output_type": "stream",
     "text": [
      "1/1 [==============================] - 0s 16ms/step - loss: 0.6756 - accuracy: 0.7222\n"
     ]
    },
    {
     "name": "stderr",
     "output_type": "stream",
     "text": [
      "\u001b[32m[I 2022-05-31 18:18:10,502]\u001b[0m Trial 147 finished with value: 0.7222222089767456 and parameters: {'n_layers': 4, 'n_units': 250, 'dropout': 0.1, 'optimizer': 'RMSprop'}. Best is trial 88 with value: 0.8888888955116272.\u001b[0m\n"
     ]
    },
    {
     "name": "stdout",
     "output_type": "stream",
     "text": [
      "1/1 [==============================] - 0s 16ms/step - loss: 0.7081 - accuracy: 0.7222\n"
     ]
    },
    {
     "name": "stderr",
     "output_type": "stream",
     "text": [
      "\u001b[32m[I 2022-05-31 18:18:11,857]\u001b[0m Trial 148 finished with value: 0.7222222089767456 and parameters: {'n_layers': 4, 'n_units': 250, 'dropout': 0.1, 'optimizer': 'RMSprop'}. Best is trial 88 with value: 0.8888888955116272.\u001b[0m\n"
     ]
    },
    {
     "name": "stdout",
     "output_type": "stream",
     "text": [
      "1/1 [==============================] - 0s 16ms/step - loss: 0.6772 - accuracy: 0.7222\n"
     ]
    },
    {
     "name": "stderr",
     "output_type": "stream",
     "text": [
      "\u001b[32m[I 2022-05-31 18:18:12,854]\u001b[0m Trial 149 finished with value: 0.7222222089767456 and parameters: {'n_layers': 3, 'n_units': 150, 'dropout': 0.1, 'optimizer': 'RMSprop'}. Best is trial 88 with value: 0.8888888955116272.\u001b[0m\n"
     ]
    },
    {
     "name": "stdout",
     "output_type": "stream",
     "text": [
      "1/1 [==============================] - 0s 16ms/step - loss: 0.5744 - accuracy: 0.7222\n"
     ]
    },
    {
     "name": "stderr",
     "output_type": "stream",
     "text": [
      "\u001b[32m[I 2022-05-31 18:18:13,732]\u001b[0m Trial 150 finished with value: 0.7222222089767456 and parameters: {'n_layers': 3, 'n_units': 150, 'dropout': 0.0, 'optimizer': 'RMSprop'}. Best is trial 88 with value: 0.8888888955116272.\u001b[0m\n"
     ]
    },
    {
     "name": "stdout",
     "output_type": "stream",
     "text": [
      "1/1 [==============================] - 0s 16ms/step - loss: 0.6425 - accuracy: 0.8333\n"
     ]
    },
    {
     "name": "stderr",
     "output_type": "stream",
     "text": [
      "\u001b[32m[I 2022-05-31 18:18:14,747]\u001b[0m Trial 151 finished with value: 0.8333333134651184 and parameters: {'n_layers': 4, 'n_units': 250, 'dropout': 0.0, 'optimizer': 'RMSprop'}. Best is trial 88 with value: 0.8888888955116272.\u001b[0m\n"
     ]
    },
    {
     "name": "stdout",
     "output_type": "stream",
     "text": [
      "1/1 [==============================] - 0s 16ms/step - loss: 0.5921 - accuracy: 0.7222\n"
     ]
    },
    {
     "name": "stderr",
     "output_type": "stream",
     "text": [
      "\u001b[32m[I 2022-05-31 18:18:15,673]\u001b[0m Trial 152 finished with value: 0.7222222089767456 and parameters: {'n_layers': 4, 'n_units': 50, 'dropout': 0.1, 'optimizer': 'Adam'}. Best is trial 88 with value: 0.8888888955116272.\u001b[0m\n"
     ]
    },
    {
     "name": "stdout",
     "output_type": "stream",
     "text": [
      "1/1 [==============================] - 0s 16ms/step - loss: 0.8050 - accuracy: 0.8333\n"
     ]
    },
    {
     "name": "stderr",
     "output_type": "stream",
     "text": [
      "\u001b[32m[I 2022-05-31 18:18:16,762]\u001b[0m Trial 153 finished with value: 0.8333333134651184 and parameters: {'n_layers': 4, 'n_units': 250, 'dropout': 0.0, 'optimizer': 'RMSprop'}. Best is trial 88 with value: 0.8888888955116272.\u001b[0m\n"
     ]
    },
    {
     "name": "stdout",
     "output_type": "stream",
     "text": [
      "1/1 [==============================] - 0s 16ms/step - loss: 0.5724 - accuracy: 0.6667\n"
     ]
    },
    {
     "name": "stderr",
     "output_type": "stream",
     "text": [
      "\u001b[32m[I 2022-05-31 18:18:17,590]\u001b[0m Trial 154 finished with value: 0.6666666865348816 and parameters: {'n_layers': 4, 'n_units': 100, 'dropout': 0.0, 'optimizer': 'Adam'}. Best is trial 88 with value: 0.8888888955116272.\u001b[0m\n"
     ]
    },
    {
     "name": "stdout",
     "output_type": "stream",
     "text": [
      "1/1 [==============================] - 0s 16ms/step - loss: 0.6619 - accuracy: 0.7778\n"
     ]
    },
    {
     "name": "stderr",
     "output_type": "stream",
     "text": [
      "\u001b[32m[I 2022-05-31 18:18:18,709]\u001b[0m Trial 155 finished with value: 0.7777777910232544 and parameters: {'n_layers': 4, 'n_units': 250, 'dropout': 0.2, 'optimizer': 'RMSprop'}. Best is trial 88 with value: 0.8888888955116272.\u001b[0m\n"
     ]
    },
    {
     "name": "stdout",
     "output_type": "stream",
     "text": [
      "1/1 [==============================] - 0s 16ms/step - loss: 0.7847 - accuracy: 0.7222\n"
     ]
    },
    {
     "name": "stderr",
     "output_type": "stream",
     "text": [
      "\u001b[32m[I 2022-05-31 18:18:19,592]\u001b[0m Trial 156 finished with value: 0.7222222089767456 and parameters: {'n_layers': 3, 'n_units': 250, 'dropout': 0.0, 'optimizer': 'RMSprop'}. Best is trial 88 with value: 0.8888888955116272.\u001b[0m\n"
     ]
    },
    {
     "name": "stdout",
     "output_type": "stream",
     "text": [
      "1/1 [==============================] - 0s 16ms/step - loss: 0.6726 - accuracy: 0.5556\n"
     ]
    },
    {
     "name": "stderr",
     "output_type": "stream",
     "text": [
      "\u001b[32m[I 2022-05-31 18:18:20,699]\u001b[0m Trial 157 finished with value: 0.5555555820465088 and parameters: {'n_layers': 4, 'n_units': 150, 'dropout': 0.30000000000000004, 'optimizer': 'Adam'}. Best is trial 88 with value: 0.8888888955116272.\u001b[0m\n"
     ]
    },
    {
     "name": "stdout",
     "output_type": "stream",
     "text": [
      "1/1 [==============================] - 0s 16ms/step - loss: 0.6951 - accuracy: 0.7222\n"
     ]
    },
    {
     "name": "stderr",
     "output_type": "stream",
     "text": [
      "\u001b[32m[I 2022-05-31 18:18:21,694]\u001b[0m Trial 158 finished with value: 0.7222222089767456 and parameters: {'n_layers': 4, 'n_units': 250, 'dropout': 0.2, 'optimizer': 'Adam'}. Best is trial 88 with value: 0.8888888955116272.\u001b[0m\n"
     ]
    },
    {
     "name": "stdout",
     "output_type": "stream",
     "text": [
      "1/1 [==============================] - 0s 16ms/step - loss: 0.4950 - accuracy: 0.7778\n"
     ]
    },
    {
     "name": "stderr",
     "output_type": "stream",
     "text": [
      "\u001b[32m[I 2022-05-31 18:18:22,614]\u001b[0m Trial 159 finished with value: 0.7777777910232544 and parameters: {'n_layers': 3, 'n_units': 200, 'dropout': 0.30000000000000004, 'optimizer': 'RMSprop'}. Best is trial 88 with value: 0.8888888955116272.\u001b[0m\n"
     ]
    },
    {
     "name": "stdout",
     "output_type": "stream",
     "text": [
      "1/1 [==============================] - 0s 16ms/step - loss: 0.6273 - accuracy: 0.7778\n"
     ]
    },
    {
     "name": "stderr",
     "output_type": "stream",
     "text": [
      "\u001b[32m[I 2022-05-31 18:18:23,575]\u001b[0m Trial 160 finished with value: 0.7777777910232544 and parameters: {'n_layers': 4, 'n_units': 150, 'dropout': 0.0, 'optimizer': 'RMSprop'}. Best is trial 88 with value: 0.8888888955116272.\u001b[0m\n"
     ]
    },
    {
     "name": "stdout",
     "output_type": "stream",
     "text": [
      "1/1 [==============================] - 0s 16ms/step - loss: 0.5521 - accuracy: 0.8333\n"
     ]
    },
    {
     "name": "stderr",
     "output_type": "stream",
     "text": [
      "\u001b[32m[I 2022-05-31 18:18:24,552]\u001b[0m Trial 161 finished with value: 0.8333333134651184 and parameters: {'n_layers': 4, 'n_units': 250, 'dropout': 0.0, 'optimizer': 'RMSprop'}. Best is trial 88 with value: 0.8888888955116272.\u001b[0m\n"
     ]
    },
    {
     "name": "stdout",
     "output_type": "stream",
     "text": [
      "1/1 [==============================] - 0s 16ms/step - loss: 0.4967 - accuracy: 0.8889\n"
     ]
    },
    {
     "name": "stderr",
     "output_type": "stream",
     "text": [
      "\u001b[32m[I 2022-05-31 18:18:25,608]\u001b[0m Trial 162 finished with value: 0.8888888955116272 and parameters: {'n_layers': 4, 'n_units': 250, 'dropout': 0.0, 'optimizer': 'RMSprop'}. Best is trial 88 with value: 0.8888888955116272.\u001b[0m\n"
     ]
    },
    {
     "name": "stdout",
     "output_type": "stream",
     "text": [
      "1/1 [==============================] - 0s 16ms/step - loss: 0.7396 - accuracy: 0.7222\n"
     ]
    },
    {
     "name": "stderr",
     "output_type": "stream",
     "text": [
      "\u001b[32m[I 2022-05-31 18:18:26,664]\u001b[0m Trial 163 finished with value: 0.7222222089767456 and parameters: {'n_layers': 4, 'n_units': 250, 'dropout': 0.0, 'optimizer': 'RMSprop'}. Best is trial 88 with value: 0.8888888955116272.\u001b[0m\n"
     ]
    },
    {
     "name": "stdout",
     "output_type": "stream",
     "text": [
      "1/1 [==============================] - 0s 16ms/step - loss: 0.5713 - accuracy: 0.7778\n"
     ]
    },
    {
     "name": "stderr",
     "output_type": "stream",
     "text": [
      "\u001b[32m[I 2022-05-31 18:18:27,738]\u001b[0m Trial 164 finished with value: 0.7777777910232544 and parameters: {'n_layers': 4, 'n_units': 250, 'dropout': 0.0, 'optimizer': 'RMSprop'}. Best is trial 88 with value: 0.8888888955116272.\u001b[0m\n"
     ]
    },
    {
     "name": "stdout",
     "output_type": "stream",
     "text": [
      "1/1 [==============================] - 0s 16ms/step - loss: 0.5733 - accuracy: 0.8333\n"
     ]
    },
    {
     "name": "stderr",
     "output_type": "stream",
     "text": [
      "\u001b[32m[I 2022-05-31 18:18:28,835]\u001b[0m Trial 165 finished with value: 0.8333333134651184 and parameters: {'n_layers': 4, 'n_units': 200, 'dropout': 0.0, 'optimizer': 'RMSprop'}. Best is trial 88 with value: 0.8888888955116272.\u001b[0m\n"
     ]
    },
    {
     "name": "stdout",
     "output_type": "stream",
     "text": [
      "1/1 [==============================] - 0s 16ms/step - loss: 0.5809 - accuracy: 0.8333\n"
     ]
    },
    {
     "name": "stderr",
     "output_type": "stream",
     "text": [
      "\u001b[32m[I 2022-05-31 18:18:29,899]\u001b[0m Trial 166 finished with value: 0.8333333134651184 and parameters: {'n_layers': 4, 'n_units': 200, 'dropout': 0.0, 'optimizer': 'RMSprop'}. Best is trial 88 with value: 0.8888888955116272.\u001b[0m\n"
     ]
    },
    {
     "name": "stdout",
     "output_type": "stream",
     "text": [
      "1/1 [==============================] - 0s 16ms/step - loss: 0.6245 - accuracy: 0.7778\n"
     ]
    },
    {
     "name": "stderr",
     "output_type": "stream",
     "text": [
      "\u001b[32m[I 2022-05-31 18:18:31,572]\u001b[0m Trial 167 finished with value: 0.7777777910232544 and parameters: {'n_layers': 4, 'n_units': 200, 'dropout': 0.0, 'optimizer': 'RMSprop'}. Best is trial 88 with value: 0.8888888955116272.\u001b[0m\n"
     ]
    },
    {
     "name": "stdout",
     "output_type": "stream",
     "text": [
      "1/1 [==============================] - 0s 16ms/step - loss: 0.6944 - accuracy: 0.7222\n"
     ]
    },
    {
     "name": "stderr",
     "output_type": "stream",
     "text": [
      "\u001b[32m[I 2022-05-31 18:18:32,955]\u001b[0m Trial 168 finished with value: 0.7222222089767456 and parameters: {'n_layers': 4, 'n_units': 250, 'dropout': 0.0, 'optimizer': 'RMSprop'}. Best is trial 88 with value: 0.8888888955116272.\u001b[0m\n"
     ]
    },
    {
     "name": "stdout",
     "output_type": "stream",
     "text": [
      "1/1 [==============================] - 0s 16ms/step - loss: 0.5163 - accuracy: 0.8889\n"
     ]
    },
    {
     "name": "stderr",
     "output_type": "stream",
     "text": [
      "\u001b[32m[I 2022-05-31 18:18:34,115]\u001b[0m Trial 169 finished with value: 0.8888888955116272 and parameters: {'n_layers': 3, 'n_units': 200, 'dropout': 0.1, 'optimizer': 'RMSprop'}. Best is trial 88 with value: 0.8888888955116272.\u001b[0m\n"
     ]
    },
    {
     "name": "stdout",
     "output_type": "stream",
     "text": [
      "1/1 [==============================] - 0s 16ms/step - loss: 0.5700 - accuracy: 0.7778\n"
     ]
    },
    {
     "name": "stderr",
     "output_type": "stream",
     "text": [
      "\u001b[32m[I 2022-05-31 18:18:35,169]\u001b[0m Trial 170 finished with value: 0.7777777910232544 and parameters: {'n_layers': 3, 'n_units': 200, 'dropout': 0.1, 'optimizer': 'RMSprop'}. Best is trial 88 with value: 0.8888888955116272.\u001b[0m\n"
     ]
    },
    {
     "name": "stdout",
     "output_type": "stream",
     "text": [
      "1/1 [==============================] - 0s 16ms/step - loss: 0.6295 - accuracy: 0.7222\n"
     ]
    },
    {
     "name": "stderr",
     "output_type": "stream",
     "text": [
      "\u001b[32m[I 2022-05-31 18:18:36,257]\u001b[0m Trial 171 finished with value: 0.7222222089767456 and parameters: {'n_layers': 3, 'n_units': 200, 'dropout': 0.0, 'optimizer': 'RMSprop'}. Best is trial 88 with value: 0.8888888955116272.\u001b[0m\n"
     ]
    },
    {
     "name": "stdout",
     "output_type": "stream",
     "text": [
      "1/1 [==============================] - 0s 15ms/step - loss: 0.5161 - accuracy: 0.8333\n"
     ]
    },
    {
     "name": "stderr",
     "output_type": "stream",
     "text": [
      "\u001b[32m[I 2022-05-31 18:18:37,498]\u001b[0m Trial 172 finished with value: 0.8333333134651184 and parameters: {'n_layers': 3, 'n_units': 200, 'dropout': 0.0, 'optimizer': 'RMSprop'}. Best is trial 88 with value: 0.8888888955116272.\u001b[0m\n"
     ]
    },
    {
     "name": "stdout",
     "output_type": "stream",
     "text": [
      "1/1 [==============================] - 0s 16ms/step - loss: 0.6361 - accuracy: 0.7778\n"
     ]
    },
    {
     "name": "stderr",
     "output_type": "stream",
     "text": [
      "\u001b[32m[I 2022-05-31 18:18:38,566]\u001b[0m Trial 173 finished with value: 0.7777777910232544 and parameters: {'n_layers': 3, 'n_units': 250, 'dropout': 0.1, 'optimizer': 'RMSprop'}. Best is trial 88 with value: 0.8888888955116272.\u001b[0m\n"
     ]
    },
    {
     "name": "stdout",
     "output_type": "stream",
     "text": [
      "1/1 [==============================] - 0s 16ms/step - loss: 0.7131 - accuracy: 0.8333\n"
     ]
    },
    {
     "name": "stderr",
     "output_type": "stream",
     "text": [
      "\u001b[32m[I 2022-05-31 18:18:39,532]\u001b[0m Trial 174 finished with value: 0.8333333134651184 and parameters: {'n_layers': 3, 'n_units': 200, 'dropout': 0.1, 'optimizer': 'RMSprop'}. Best is trial 88 with value: 0.8888888955116272.\u001b[0m\n"
     ]
    },
    {
     "name": "stdout",
     "output_type": "stream",
     "text": [
      "1/1 [==============================] - 0s 16ms/step - loss: 0.4464 - accuracy: 0.7778\n"
     ]
    },
    {
     "name": "stderr",
     "output_type": "stream",
     "text": [
      "\u001b[32m[I 2022-05-31 18:18:40,412]\u001b[0m Trial 175 finished with value: 0.7777777910232544 and parameters: {'n_layers': 3, 'n_units': 200, 'dropout': 0.0, 'optimizer': 'RMSprop'}. Best is trial 88 with value: 0.8888888955116272.\u001b[0m\n"
     ]
    },
    {
     "name": "stdout",
     "output_type": "stream",
     "text": [
      "1/1 [==============================] - 0s 16ms/step - loss: 0.8022 - accuracy: 0.7222\n"
     ]
    },
    {
     "name": "stderr",
     "output_type": "stream",
     "text": [
      "\u001b[32m[I 2022-05-31 18:18:41,433]\u001b[0m Trial 176 finished with value: 0.7222222089767456 and parameters: {'n_layers': 4, 'n_units': 250, 'dropout': 0.0, 'optimizer': 'RMSprop'}. Best is trial 88 with value: 0.8888888955116272.\u001b[0m\n"
     ]
    },
    {
     "name": "stdout",
     "output_type": "stream",
     "text": [
      "1/1 [==============================] - 0s 16ms/step - loss: 0.7402 - accuracy: 0.7778\n"
     ]
    },
    {
     "name": "stderr",
     "output_type": "stream",
     "text": [
      "\u001b[32m[I 2022-05-31 18:18:42,826]\u001b[0m Trial 177 finished with value: 0.7777777910232544 and parameters: {'n_layers': 4, 'n_units': 250, 'dropout': 0.1, 'optimizer': 'RMSprop'}. Best is trial 88 with value: 0.8888888955116272.\u001b[0m\n"
     ]
    },
    {
     "name": "stdout",
     "output_type": "stream",
     "text": [
      "1/1 [==============================] - 0s 16ms/step - loss: 0.4645 - accuracy: 0.8333\n"
     ]
    },
    {
     "name": "stderr",
     "output_type": "stream",
     "text": [
      "\u001b[32m[I 2022-05-31 18:18:43,912]\u001b[0m Trial 178 finished with value: 0.8333333134651184 and parameters: {'n_layers': 3, 'n_units': 200, 'dropout': 0.1, 'optimizer': 'RMSprop'}. Best is trial 88 with value: 0.8888888955116272.\u001b[0m\n"
     ]
    },
    {
     "name": "stdout",
     "output_type": "stream",
     "text": [
      "1/1 [==============================] - 0s 16ms/step - loss: 0.7986 - accuracy: 0.7778\n"
     ]
    },
    {
     "name": "stderr",
     "output_type": "stream",
     "text": [
      "\u001b[32m[I 2022-05-31 18:18:45,077]\u001b[0m Trial 179 finished with value: 0.7777777910232544 and parameters: {'n_layers': 4, 'n_units': 250, 'dropout': 0.0, 'optimizer': 'RMSprop'}. Best is trial 88 with value: 0.8888888955116272.\u001b[0m\n"
     ]
    },
    {
     "name": "stdout",
     "output_type": "stream",
     "text": [
      "1/1 [==============================] - 0s 16ms/step - loss: 0.7327 - accuracy: 0.7778\n"
     ]
    },
    {
     "name": "stderr",
     "output_type": "stream",
     "text": [
      "\u001b[32m[I 2022-05-31 18:18:46,054]\u001b[0m Trial 180 finished with value: 0.7777777910232544 and parameters: {'n_layers': 4, 'n_units': 250, 'dropout': 0.2, 'optimizer': 'Adam'}. Best is trial 88 with value: 0.8888888955116272.\u001b[0m\n"
     ]
    },
    {
     "name": "stdout",
     "output_type": "stream",
     "text": [
      "1/1 [==============================] - 0s 16ms/step - loss: 0.9525 - accuracy: 0.7222\n"
     ]
    },
    {
     "name": "stderr",
     "output_type": "stream",
     "text": [
      "\u001b[32m[I 2022-05-31 18:18:47,242]\u001b[0m Trial 181 finished with value: 0.7222222089767456 and parameters: {'n_layers': 4, 'n_units': 200, 'dropout': 0.30000000000000004, 'optimizer': 'Adam'}. Best is trial 88 with value: 0.8888888955116272.\u001b[0m\n"
     ]
    },
    {
     "name": "stdout",
     "output_type": "stream",
     "text": [
      "1/1 [==============================] - 0s 16ms/step - loss: 0.6702 - accuracy: 0.5000\n"
     ]
    },
    {
     "name": "stderr",
     "output_type": "stream",
     "text": [
      "\u001b[32m[I 2022-05-31 18:18:48,076]\u001b[0m Trial 182 finished with value: 0.5 and parameters: {'n_layers': 4, 'n_units': 250, 'dropout': 0.1, 'optimizer': 'SGD'}. Best is trial 88 with value: 0.8888888955116272.\u001b[0m\n"
     ]
    },
    {
     "name": "stdout",
     "output_type": "stream",
     "text": [
      "1/1 [==============================] - 0s 16ms/step - loss: 0.9554 - accuracy: 0.6667\n"
     ]
    },
    {
     "name": "stderr",
     "output_type": "stream",
     "text": [
      "\u001b[32m[I 2022-05-31 18:18:49,128]\u001b[0m Trial 183 finished with value: 0.6666666865348816 and parameters: {'n_layers': 4, 'n_units': 250, 'dropout': 0.0, 'optimizer': 'RMSprop'}. Best is trial 88 with value: 0.8888888955116272.\u001b[0m\n"
     ]
    },
    {
     "name": "stdout",
     "output_type": "stream",
     "text": [
      "1/1 [==============================] - 0s 16ms/step - loss: 0.5050 - accuracy: 0.8333\n"
     ]
    },
    {
     "name": "stderr",
     "output_type": "stream",
     "text": [
      "\u001b[32m[I 2022-05-31 18:18:50,260]\u001b[0m Trial 184 finished with value: 0.8333333134651184 and parameters: {'n_layers': 4, 'n_units': 250, 'dropout': 0.2, 'optimizer': 'RMSprop'}. Best is trial 88 with value: 0.8888888955116272.\u001b[0m\n"
     ]
    },
    {
     "name": "stdout",
     "output_type": "stream",
     "text": [
      "1/1 [==============================] - 0s 16ms/step - loss: 0.9416 - accuracy: 0.7778\n"
     ]
    },
    {
     "name": "stderr",
     "output_type": "stream",
     "text": [
      "\u001b[32m[I 2022-05-31 18:18:51,378]\u001b[0m Trial 185 finished with value: 0.7777777910232544 and parameters: {'n_layers': 3, 'n_units': 200, 'dropout': 0.1, 'optimizer': 'RMSprop'}. Best is trial 88 with value: 0.8888888955116272.\u001b[0m\n"
     ]
    },
    {
     "name": "stdout",
     "output_type": "stream",
     "text": [
      "1/1 [==============================] - 0s 16ms/step - loss: 0.7796 - accuracy: 0.7778\n"
     ]
    },
    {
     "name": "stderr",
     "output_type": "stream",
     "text": [
      "\u001b[32m[I 2022-05-31 18:18:52,343]\u001b[0m Trial 186 finished with value: 0.7777777910232544 and parameters: {'n_layers': 4, 'n_units': 250, 'dropout': 0.2, 'optimizer': 'Adam'}. Best is trial 88 with value: 0.8888888955116272.\u001b[0m\n"
     ]
    },
    {
     "name": "stdout",
     "output_type": "stream",
     "text": [
      "1/1 [==============================] - 0s 16ms/step - loss: 0.5569 - accuracy: 0.7222\n"
     ]
    },
    {
     "name": "stderr",
     "output_type": "stream",
     "text": [
      "\u001b[32m[I 2022-05-31 18:18:53,569]\u001b[0m Trial 187 finished with value: 0.7222222089767456 and parameters: {'n_layers': 4, 'n_units': 200, 'dropout': 0.2, 'optimizer': 'Adam'}. Best is trial 88 with value: 0.8888888955116272.\u001b[0m\n"
     ]
    },
    {
     "name": "stdout",
     "output_type": "stream",
     "text": [
      "1/1 [==============================] - 0s 31ms/step - loss: 0.5694 - accuracy: 0.7222\n"
     ]
    },
    {
     "name": "stderr",
     "output_type": "stream",
     "text": [
      "\u001b[32m[I 2022-05-31 18:18:54,608]\u001b[0m Trial 188 finished with value: 0.7222222089767456 and parameters: {'n_layers': 4, 'n_units': 200, 'dropout': 0.30000000000000004, 'optimizer': 'Adam'}. Best is trial 88 with value: 0.8888888955116272.\u001b[0m\n"
     ]
    },
    {
     "name": "stdout",
     "output_type": "stream",
     "text": [
      "1/1 [==============================] - 0s 16ms/step - loss: 0.8509 - accuracy: 0.6667\n"
     ]
    },
    {
     "name": "stderr",
     "output_type": "stream",
     "text": [
      "\u001b[32m[I 2022-05-31 18:18:55,587]\u001b[0m Trial 189 finished with value: 0.6666666865348816 and parameters: {'n_layers': 4, 'n_units': 250, 'dropout': 0.2, 'optimizer': 'Adam'}. Best is trial 88 with value: 0.8888888955116272.\u001b[0m\n"
     ]
    },
    {
     "name": "stdout",
     "output_type": "stream",
     "text": [
      "1/1 [==============================] - 0s 16ms/step - loss: 0.5873 - accuracy: 0.6667\n"
     ]
    },
    {
     "name": "stderr",
     "output_type": "stream",
     "text": [
      "\u001b[32m[I 2022-05-31 18:18:56,447]\u001b[0m Trial 190 finished with value: 0.6666666865348816 and parameters: {'n_layers': 4, 'n_units': 200, 'dropout': 0.30000000000000004, 'optimizer': 'Adam'}. Best is trial 88 with value: 0.8888888955116272.\u001b[0m\n"
     ]
    },
    {
     "name": "stdout",
     "output_type": "stream",
     "text": [
      "1/1 [==============================] - 0s 31ms/step - loss: 0.5792 - accuracy: 0.7778\n"
     ]
    },
    {
     "name": "stderr",
     "output_type": "stream",
     "text": [
      "\u001b[32m[I 2022-05-31 18:18:57,632]\u001b[0m Trial 191 finished with value: 0.7777777910232544 and parameters: {'n_layers': 4, 'n_units': 250, 'dropout': 0.1, 'optimizer': 'RMSprop'}. Best is trial 88 with value: 0.8888888955116272.\u001b[0m\n"
     ]
    },
    {
     "name": "stdout",
     "output_type": "stream",
     "text": [
      "1/1 [==============================] - 0s 15ms/step - loss: 0.5873 - accuracy: 0.7222\n"
     ]
    },
    {
     "name": "stderr",
     "output_type": "stream",
     "text": [
      "\u001b[32m[I 2022-05-31 18:18:58,865]\u001b[0m Trial 192 finished with value: 0.7222222089767456 and parameters: {'n_layers': 4, 'n_units': 250, 'dropout': 0.4, 'optimizer': 'Adam'}. Best is trial 88 with value: 0.8888888955116272.\u001b[0m\n"
     ]
    },
    {
     "name": "stdout",
     "output_type": "stream",
     "text": [
      "1/1 [==============================] - 0s 16ms/step - loss: 0.6429 - accuracy: 0.6111\n"
     ]
    },
    {
     "name": "stderr",
     "output_type": "stream",
     "text": [
      "\u001b[32m[I 2022-05-31 18:18:59,777]\u001b[0m Trial 193 finished with value: 0.6111111044883728 and parameters: {'n_layers': 4, 'n_units': 250, 'dropout': 0.30000000000000004, 'optimizer': 'Adam'}. Best is trial 88 with value: 0.8888888955116272.\u001b[0m\n"
     ]
    },
    {
     "name": "stdout",
     "output_type": "stream",
     "text": [
      "1/1 [==============================] - 0s 16ms/step - loss: 0.6264 - accuracy: 0.6667\n"
     ]
    },
    {
     "name": "stderr",
     "output_type": "stream",
     "text": [
      "\u001b[32m[I 2022-05-31 18:19:00,767]\u001b[0m Trial 194 finished with value: 0.6666666865348816 and parameters: {'n_layers': 4, 'n_units': 250, 'dropout': 0.2, 'optimizer': 'Adam'}. Best is trial 88 with value: 0.8888888955116272.\u001b[0m\n"
     ]
    },
    {
     "name": "stdout",
     "output_type": "stream",
     "text": [
      "1/1 [==============================] - 0s 16ms/step - loss: 0.8401 - accuracy: 0.7222\n"
     ]
    },
    {
     "name": "stderr",
     "output_type": "stream",
     "text": [
      "\u001b[32m[I 2022-05-31 18:19:01,829]\u001b[0m Trial 195 finished with value: 0.7222222089767456 and parameters: {'n_layers': 4, 'n_units': 250, 'dropout': 0.2, 'optimizer': 'Adam'}. Best is trial 88 with value: 0.8888888955116272.\u001b[0m\n"
     ]
    },
    {
     "name": "stdout",
     "output_type": "stream",
     "text": [
      "1/1 [==============================] - 0s 16ms/step - loss: 0.8482 - accuracy: 0.7778\n"
     ]
    },
    {
     "name": "stderr",
     "output_type": "stream",
     "text": [
      "\u001b[32m[I 2022-05-31 18:19:02,876]\u001b[0m Trial 196 finished with value: 0.7777777910232544 and parameters: {'n_layers': 4, 'n_units': 250, 'dropout': 0.2, 'optimizer': 'Adam'}. Best is trial 88 with value: 0.8888888955116272.\u001b[0m\n"
     ]
    },
    {
     "name": "stdout",
     "output_type": "stream",
     "text": [
      "1/1 [==============================] - 0s 16ms/step - loss: 0.6185 - accuracy: 0.8333\n"
     ]
    },
    {
     "name": "stderr",
     "output_type": "stream",
     "text": [
      "\u001b[32m[I 2022-05-31 18:19:03,870]\u001b[0m Trial 197 finished with value: 0.8333333134651184 and parameters: {'n_layers': 4, 'n_units': 250, 'dropout': 0.0, 'optimizer': 'RMSprop'}. Best is trial 88 with value: 0.8888888955116272.\u001b[0m\n"
     ]
    },
    {
     "name": "stdout",
     "output_type": "stream",
     "text": [
      "1/1 [==============================] - 0s 16ms/step - loss: 0.8903 - accuracy: 0.7222\n"
     ]
    },
    {
     "name": "stderr",
     "output_type": "stream",
     "text": [
      "\u001b[32m[I 2022-05-31 18:19:05,339]\u001b[0m Trial 198 finished with value: 0.7222222089767456 and parameters: {'n_layers': 4, 'n_units': 250, 'dropout': 0.1, 'optimizer': 'RMSprop'}. Best is trial 88 with value: 0.8888888955116272.\u001b[0m\n"
     ]
    },
    {
     "name": "stdout",
     "output_type": "stream",
     "text": [
      "1/1 [==============================] - 0s 16ms/step - loss: 0.6411 - accuracy: 0.7778\n"
     ]
    },
    {
     "name": "stderr",
     "output_type": "stream",
     "text": [
      "\u001b[32m[I 2022-05-31 18:19:06,408]\u001b[0m Trial 199 finished with value: 0.7777777910232544 and parameters: {'n_layers': 4, 'n_units': 250, 'dropout': 0.0, 'optimizer': 'RMSprop'}. Best is trial 88 with value: 0.8888888955116272.\u001b[0m\n"
     ]
    },
    {
     "name": "stdout",
     "output_type": "stream",
     "text": [
      "1/1 [==============================] - 0s 16ms/step - loss: 0.7579 - accuracy: 0.5000\n"
     ]
    },
    {
     "name": "stderr",
     "output_type": "stream",
     "text": [
      "\u001b[32m[I 2022-05-31 18:19:07,070]\u001b[0m Trial 200 finished with value: 0.5 and parameters: {'n_layers': 3, 'n_units': 150, 'dropout': 0.0, 'optimizer': 'SGD'}. Best is trial 88 with value: 0.8888888955116272.\u001b[0m\n"
     ]
    },
    {
     "name": "stdout",
     "output_type": "stream",
     "text": [
      "1/1 [==============================] - 0s 16ms/step - loss: 0.5422 - accuracy: 0.7778\n"
     ]
    },
    {
     "name": "stderr",
     "output_type": "stream",
     "text": [
      "\u001b[32m[I 2022-05-31 18:19:08,045]\u001b[0m Trial 201 finished with value: 0.7777777910232544 and parameters: {'n_layers': 4, 'n_units': 200, 'dropout': 0.0, 'optimizer': 'RMSprop'}. Best is trial 88 with value: 0.8888888955116272.\u001b[0m\n"
     ]
    },
    {
     "name": "stdout",
     "output_type": "stream",
     "text": [
      "1/1 [==============================] - 0s 16ms/step - loss: 0.6077 - accuracy: 0.7778\n"
     ]
    },
    {
     "name": "stderr",
     "output_type": "stream",
     "text": [
      "\u001b[32m[I 2022-05-31 18:19:09,137]\u001b[0m Trial 202 finished with value: 0.7777777910232544 and parameters: {'n_layers': 4, 'n_units': 200, 'dropout': 0.0, 'optimizer': 'RMSprop'}. Best is trial 88 with value: 0.8888888955116272.\u001b[0m\n"
     ]
    },
    {
     "name": "stdout",
     "output_type": "stream",
     "text": [
      "1/1 [==============================] - 0s 31ms/step - loss: 0.6912 - accuracy: 0.8333\n"
     ]
    },
    {
     "name": "stderr",
     "output_type": "stream",
     "text": [
      "\u001b[32m[I 2022-05-31 18:19:10,180]\u001b[0m Trial 203 finished with value: 0.8333333134651184 and parameters: {'n_layers': 4, 'n_units': 200, 'dropout': 0.0, 'optimizer': 'RMSprop'}. Best is trial 88 with value: 0.8888888955116272.\u001b[0m\n"
     ]
    },
    {
     "name": "stdout",
     "output_type": "stream",
     "text": [
      "1/1 [==============================] - 0s 16ms/step - loss: 0.5232 - accuracy: 0.7778\n"
     ]
    },
    {
     "name": "stderr",
     "output_type": "stream",
     "text": [
      "\u001b[32m[I 2022-05-31 18:19:11,077]\u001b[0m Trial 204 finished with value: 0.7777777910232544 and parameters: {'n_layers': 3, 'n_units': 200, 'dropout': 0.0, 'optimizer': 'RMSprop'}. Best is trial 88 with value: 0.8888888955116272.\u001b[0m\n"
     ]
    },
    {
     "name": "stdout",
     "output_type": "stream",
     "text": [
      "1/1 [==============================] - 0s 16ms/step - loss: 0.7143 - accuracy: 0.7778\n"
     ]
    },
    {
     "name": "stderr",
     "output_type": "stream",
     "text": [
      "\u001b[32m[I 2022-05-31 18:19:12,149]\u001b[0m Trial 205 finished with value: 0.7777777910232544 and parameters: {'n_layers': 4, 'n_units': 250, 'dropout': 0.0, 'optimizer': 'RMSprop'}. Best is trial 88 with value: 0.8888888955116272.\u001b[0m\n"
     ]
    },
    {
     "name": "stdout",
     "output_type": "stream",
     "text": [
      "1/1 [==============================] - 0s 16ms/step - loss: 0.6794 - accuracy: 0.7222\n"
     ]
    },
    {
     "name": "stderr",
     "output_type": "stream",
     "text": [
      "\u001b[32m[I 2022-05-31 18:19:13,124]\u001b[0m Trial 206 finished with value: 0.7222222089767456 and parameters: {'n_layers': 4, 'n_units': 250, 'dropout': 0.0, 'optimizer': 'RMSprop'}. Best is trial 88 with value: 0.8888888955116272.\u001b[0m\n"
     ]
    },
    {
     "name": "stdout",
     "output_type": "stream",
     "text": [
      "1/1 [==============================] - 0s 31ms/step - loss: 0.6120 - accuracy: 0.8333\n"
     ]
    },
    {
     "name": "stderr",
     "output_type": "stream",
     "text": [
      "\u001b[32m[I 2022-05-31 18:19:14,424]\u001b[0m Trial 207 finished with value: 0.8333333134651184 and parameters: {'n_layers': 4, 'n_units': 250, 'dropout': 0.0, 'optimizer': 'RMSprop'}. Best is trial 88 with value: 0.8888888955116272.\u001b[0m\n"
     ]
    },
    {
     "name": "stdout",
     "output_type": "stream",
     "text": [
      "1/1 [==============================] - 0s 16ms/step - loss: 0.5550 - accuracy: 0.8889\n"
     ]
    },
    {
     "name": "stderr",
     "output_type": "stream",
     "text": [
      "\u001b[32m[I 2022-05-31 18:19:15,518]\u001b[0m Trial 208 finished with value: 0.8888888955116272 and parameters: {'n_layers': 4, 'n_units': 250, 'dropout': 0.1, 'optimizer': 'RMSprop'}. Best is trial 88 with value: 0.8888888955116272.\u001b[0m\n"
     ]
    },
    {
     "name": "stdout",
     "output_type": "stream",
     "text": [
      "1/1 [==============================] - 0s 16ms/step - loss: 0.5747 - accuracy: 0.8333\n"
     ]
    },
    {
     "name": "stderr",
     "output_type": "stream",
     "text": [
      "\u001b[32m[I 2022-05-31 18:19:16,466]\u001b[0m Trial 209 finished with value: 0.8333333134651184 and parameters: {'n_layers': 3, 'n_units': 150, 'dropout': 0.0, 'optimizer': 'RMSprop'}. Best is trial 88 with value: 0.8888888955116272.\u001b[0m\n"
     ]
    },
    {
     "name": "stdout",
     "output_type": "stream",
     "text": [
      "1/1 [==============================] - 0s 16ms/step - loss: 1.2083 - accuracy: 0.7778\n"
     ]
    },
    {
     "name": "stderr",
     "output_type": "stream",
     "text": [
      "\u001b[32m[I 2022-05-31 18:19:17,685]\u001b[0m Trial 210 finished with value: 0.7777777910232544 and parameters: {'n_layers': 4, 'n_units': 250, 'dropout': 0.1, 'optimizer': 'Adam'}. Best is trial 88 with value: 0.8888888955116272.\u001b[0m\n"
     ]
    },
    {
     "name": "stdout",
     "output_type": "stream",
     "text": [
      "1/1 [==============================] - 0s 16ms/step - loss: 0.5874 - accuracy: 0.8333\n"
     ]
    },
    {
     "name": "stderr",
     "output_type": "stream",
     "text": [
      "\u001b[32m[I 2022-05-31 18:19:18,711]\u001b[0m Trial 211 finished with value: 0.8333333134651184 and parameters: {'n_layers': 4, 'n_units': 200, 'dropout': 0.0, 'optimizer': 'RMSprop'}. Best is trial 88 with value: 0.8888888955116272.\u001b[0m\n"
     ]
    },
    {
     "name": "stdout",
     "output_type": "stream",
     "text": [
      "1/1 [==============================] - 0s 31ms/step - loss: 0.6759 - accuracy: 0.8333\n"
     ]
    },
    {
     "name": "stderr",
     "output_type": "stream",
     "text": [
      "\u001b[32m[I 2022-05-31 18:19:19,712]\u001b[0m Trial 212 finished with value: 0.8333333134651184 and parameters: {'n_layers': 3, 'n_units': 250, 'dropout': 0.1, 'optimizer': 'RMSprop'}. Best is trial 88 with value: 0.8888888955116272.\u001b[0m\n"
     ]
    },
    {
     "name": "stdout",
     "output_type": "stream",
     "text": [
      "1/1 [==============================] - 0s 16ms/step - loss: 0.5698 - accuracy: 0.7778\n"
     ]
    },
    {
     "name": "stderr",
     "output_type": "stream",
     "text": [
      "\u001b[32m[I 2022-05-31 18:19:21,169]\u001b[0m Trial 213 finished with value: 0.7777777910232544 and parameters: {'n_layers': 4, 'n_units': 250, 'dropout': 0.1, 'optimizer': 'RMSprop'}. Best is trial 88 with value: 0.8888888955116272.\u001b[0m\n"
     ]
    },
    {
     "name": "stdout",
     "output_type": "stream",
     "text": [
      "1/1 [==============================] - 0s 16ms/step - loss: 0.4945 - accuracy: 0.7778\n"
     ]
    },
    {
     "name": "stderr",
     "output_type": "stream",
     "text": [
      "\u001b[32m[I 2022-05-31 18:19:22,145]\u001b[0m Trial 214 finished with value: 0.7777777910232544 and parameters: {'n_layers': 4, 'n_units': 100, 'dropout': 0.0, 'optimizer': 'RMSprop'}. Best is trial 88 with value: 0.8888888955116272.\u001b[0m\n"
     ]
    },
    {
     "name": "stdout",
     "output_type": "stream",
     "text": [
      "1/1 [==============================] - 0s 16ms/step - loss: 0.5171 - accuracy: 0.7778\n"
     ]
    },
    {
     "name": "stderr",
     "output_type": "stream",
     "text": [
      "\u001b[32m[I 2022-05-31 18:19:23,173]\u001b[0m Trial 215 finished with value: 0.7777777910232544 and parameters: {'n_layers': 4, 'n_units': 200, 'dropout': 0.0, 'optimizer': 'RMSprop'}. Best is trial 88 with value: 0.8888888955116272.\u001b[0m\n"
     ]
    },
    {
     "name": "stdout",
     "output_type": "stream",
     "text": [
      "1/1 [==============================] - 0s 16ms/step - loss: 0.5650 - accuracy: 0.7778\n"
     ]
    },
    {
     "name": "stderr",
     "output_type": "stream",
     "text": [
      "\u001b[32m[I 2022-05-31 18:19:24,312]\u001b[0m Trial 216 finished with value: 0.7777777910232544 and parameters: {'n_layers': 4, 'n_units': 200, 'dropout': 0.30000000000000004, 'optimizer': 'RMSprop'}. Best is trial 88 with value: 0.8888888955116272.\u001b[0m\n"
     ]
    },
    {
     "name": "stdout",
     "output_type": "stream",
     "text": [
      "1/1 [==============================] - 0s 16ms/step - loss: 0.4455 - accuracy: 0.8333\n"
     ]
    },
    {
     "name": "stderr",
     "output_type": "stream",
     "text": [
      "\u001b[32m[I 2022-05-31 18:19:25,547]\u001b[0m Trial 217 finished with value: 0.8333333134651184 and parameters: {'n_layers': 4, 'n_units': 200, 'dropout': 0.0, 'optimizer': 'RMSprop'}. Best is trial 88 with value: 0.8888888955116272.\u001b[0m\n"
     ]
    },
    {
     "name": "stdout",
     "output_type": "stream",
     "text": [
      "1/1 [==============================] - 0s 16ms/step - loss: 0.5234 - accuracy: 0.7778\n"
     ]
    },
    {
     "name": "stderr",
     "output_type": "stream",
     "text": [
      "\u001b[32m[I 2022-05-31 18:19:26,348]\u001b[0m Trial 218 finished with value: 0.7777777910232544 and parameters: {'n_layers': 2, 'n_units': 200, 'dropout': 0.0, 'optimizer': 'RMSprop'}. Best is trial 88 with value: 0.8888888955116272.\u001b[0m\n"
     ]
    },
    {
     "name": "stdout",
     "output_type": "stream",
     "text": [
      "1/1 [==============================] - 0s 16ms/step - loss: 0.8694 - accuracy: 0.7778\n"
     ]
    },
    {
     "name": "stderr",
     "output_type": "stream",
     "text": [
      "\u001b[32m[I 2022-05-31 18:19:27,514]\u001b[0m Trial 219 finished with value: 0.7777777910232544 and parameters: {'n_layers': 4, 'n_units': 200, 'dropout': 0.1, 'optimizer': 'RMSprop'}. Best is trial 88 with value: 0.8888888955116272.\u001b[0m\n"
     ]
    },
    {
     "name": "stdout",
     "output_type": "stream",
     "text": [
      "1/1 [==============================] - 0s 15ms/step - loss: 0.7804 - accuracy: 0.7778\n"
     ]
    },
    {
     "name": "stderr",
     "output_type": "stream",
     "text": [
      "\u001b[32m[I 2022-05-31 18:19:29,006]\u001b[0m Trial 220 finished with value: 0.7777777910232544 and parameters: {'n_layers': 4, 'n_units': 200, 'dropout': 0.1, 'optimizer': 'RMSprop'}. Best is trial 88 with value: 0.8888888955116272.\u001b[0m\n"
     ]
    },
    {
     "name": "stdout",
     "output_type": "stream",
     "text": [
      "1/1 [==============================] - 0s 31ms/step - loss: 0.9257 - accuracy: 0.6667\n"
     ]
    },
    {
     "name": "stderr",
     "output_type": "stream",
     "text": [
      "\u001b[32m[I 2022-05-31 18:19:30,258]\u001b[0m Trial 221 finished with value: 0.6666666865348816 and parameters: {'n_layers': 4, 'n_units': 250, 'dropout': 0.1, 'optimizer': 'Adam'}. Best is trial 88 with value: 0.8888888955116272.\u001b[0m\n"
     ]
    },
    {
     "name": "stdout",
     "output_type": "stream",
     "text": [
      "1/1 [==============================] - 0s 31ms/step - loss: 0.9113 - accuracy: 0.7222\n"
     ]
    },
    {
     "name": "stderr",
     "output_type": "stream",
     "text": [
      "\u001b[32m[I 2022-05-31 18:19:31,290]\u001b[0m Trial 222 finished with value: 0.7222222089767456 and parameters: {'n_layers': 4, 'n_units': 200, 'dropout': 0.0, 'optimizer': 'RMSprop'}. Best is trial 88 with value: 0.8888888955116272.\u001b[0m\n"
     ]
    },
    {
     "name": "stdout",
     "output_type": "stream",
     "text": [
      "1/1 [==============================] - 0s 31ms/step - loss: 0.5859 - accuracy: 0.7778\n"
     ]
    },
    {
     "name": "stderr",
     "output_type": "stream",
     "text": [
      "\u001b[32m[I 2022-05-31 18:19:32,213]\u001b[0m Trial 223 finished with value: 0.7777777910232544 and parameters: {'n_layers': 3, 'n_units': 200, 'dropout': 0.0, 'optimizer': 'RMSprop'}. Best is trial 88 with value: 0.8888888955116272.\u001b[0m\n"
     ]
    },
    {
     "name": "stdout",
     "output_type": "stream",
     "text": [
      "1/1 [==============================] - 0s 15ms/step - loss: 0.5585 - accuracy: 0.8333\n"
     ]
    },
    {
     "name": "stderr",
     "output_type": "stream",
     "text": [
      "\u001b[32m[I 2022-05-31 18:19:33,127]\u001b[0m Trial 224 finished with value: 0.8333333134651184 and parameters: {'n_layers': 3, 'n_units': 200, 'dropout': 0.0, 'optimizer': 'RMSprop'}. Best is trial 88 with value: 0.8888888955116272.\u001b[0m\n"
     ]
    },
    {
     "name": "stdout",
     "output_type": "stream",
     "text": [
      "1/1 [==============================] - 0s 16ms/step - loss: 0.5631 - accuracy: 0.7778\n"
     ]
    },
    {
     "name": "stderr",
     "output_type": "stream",
     "text": [
      "\u001b[32m[I 2022-05-31 18:19:34,175]\u001b[0m Trial 225 finished with value: 0.7777777910232544 and parameters: {'n_layers': 3, 'n_units': 250, 'dropout': 0.1, 'optimizer': 'RMSprop'}. Best is trial 88 with value: 0.8888888955116272.\u001b[0m\n"
     ]
    },
    {
     "name": "stdout",
     "output_type": "stream",
     "text": [
      "1/1 [==============================] - 0s 16ms/step - loss: 0.5265 - accuracy: 0.8333\n"
     ]
    },
    {
     "name": "stderr",
     "output_type": "stream",
     "text": [
      "\u001b[32m[I 2022-05-31 18:19:35,169]\u001b[0m Trial 226 finished with value: 0.8333333134651184 and parameters: {'n_layers': 3, 'n_units': 150, 'dropout': 0.1, 'optimizer': 'RMSprop'}. Best is trial 88 with value: 0.8888888955116272.\u001b[0m\n"
     ]
    },
    {
     "name": "stdout",
     "output_type": "stream",
     "text": [
      "1/1 [==============================] - 0s 16ms/step - loss: 0.6088 - accuracy: 0.7222\n"
     ]
    },
    {
     "name": "stderr",
     "output_type": "stream",
     "text": [
      "\u001b[32m[I 2022-05-31 18:19:36,501]\u001b[0m Trial 227 finished with value: 0.7222222089767456 and parameters: {'n_layers': 4, 'n_units': 250, 'dropout': 0.1, 'optimizer': 'RMSprop'}. Best is trial 88 with value: 0.8888888955116272.\u001b[0m\n"
     ]
    },
    {
     "name": "stdout",
     "output_type": "stream",
     "text": [
      "1/1 [==============================] - 0s 31ms/step - loss: 0.7176 - accuracy: 0.7778\n"
     ]
    },
    {
     "name": "stderr",
     "output_type": "stream",
     "text": [
      "\u001b[32m[I 2022-05-31 18:19:37,371]\u001b[0m Trial 228 finished with value: 0.7777777910232544 and parameters: {'n_layers': 3, 'n_units': 200, 'dropout': 0.0, 'optimizer': 'RMSprop'}. Best is trial 88 with value: 0.8888888955116272.\u001b[0m\n"
     ]
    },
    {
     "name": "stdout",
     "output_type": "stream",
     "text": [
      "1/1 [==============================] - 0s 16ms/step - loss: 0.5846 - accuracy: 0.8333\n"
     ]
    },
    {
     "name": "stderr",
     "output_type": "stream",
     "text": [
      "\u001b[32m[I 2022-05-31 18:19:38,255]\u001b[0m Trial 229 finished with value: 0.8333333134651184 and parameters: {'n_layers': 3, 'n_units': 200, 'dropout': 0.0, 'optimizer': 'RMSprop'}. Best is trial 88 with value: 0.8888888955116272.\u001b[0m\n"
     ]
    },
    {
     "name": "stdout",
     "output_type": "stream",
     "text": [
      "1/1 [==============================] - 0s 31ms/step - loss: 0.5900 - accuracy: 0.8333\n"
     ]
    },
    {
     "name": "stderr",
     "output_type": "stream",
     "text": [
      "\u001b[32m[I 2022-05-31 18:19:39,204]\u001b[0m Trial 230 finished with value: 0.8333333134651184 and parameters: {'n_layers': 3, 'n_units': 200, 'dropout': 0.0, 'optimizer': 'RMSprop'}. Best is trial 88 with value: 0.8888888955116272.\u001b[0m\n"
     ]
    },
    {
     "name": "stdout",
     "output_type": "stream",
     "text": [
      "1/1 [==============================] - 0s 16ms/step - loss: 0.6170 - accuracy: 0.7778\n"
     ]
    },
    {
     "name": "stderr",
     "output_type": "stream",
     "text": [
      "\u001b[32m[I 2022-05-31 18:19:40,087]\u001b[0m Trial 231 finished with value: 0.7777777910232544 and parameters: {'n_layers': 3, 'n_units': 200, 'dropout': 0.1, 'optimizer': 'Adam'}. Best is trial 88 with value: 0.8888888955116272.\u001b[0m\n"
     ]
    },
    {
     "name": "stdout",
     "output_type": "stream",
     "text": [
      "1/1 [==============================] - 0s 16ms/step - loss: 0.5586 - accuracy: 0.8333\n"
     ]
    },
    {
     "name": "stderr",
     "output_type": "stream",
     "text": [
      "\u001b[32m[I 2022-05-31 18:19:40,920]\u001b[0m Trial 232 finished with value: 0.8333333134651184 and parameters: {'n_layers': 3, 'n_units': 200, 'dropout': 0.1, 'optimizer': 'Adam'}. Best is trial 88 with value: 0.8888888955116272.\u001b[0m\n"
     ]
    },
    {
     "name": "stdout",
     "output_type": "stream",
     "text": [
      "1/1 [==============================] - 0s 16ms/step - loss: 0.8869 - accuracy: 0.7222\n"
     ]
    },
    {
     "name": "stderr",
     "output_type": "stream",
     "text": [
      "\u001b[32m[I 2022-05-31 18:19:42,107]\u001b[0m Trial 233 finished with value: 0.7222222089767456 and parameters: {'n_layers': 4, 'n_units': 250, 'dropout': 0.1, 'optimizer': 'RMSprop'}. Best is trial 88 with value: 0.8888888955116272.\u001b[0m\n"
     ]
    },
    {
     "name": "stdout",
     "output_type": "stream",
     "text": [
      "1/1 [==============================] - 0s 16ms/step - loss: 0.6398 - accuracy: 0.8333\n"
     ]
    },
    {
     "name": "stderr",
     "output_type": "stream",
     "text": [
      "\u001b[32m[I 2022-05-31 18:19:43,085]\u001b[0m Trial 234 finished with value: 0.8333333134651184 and parameters: {'n_layers': 3, 'n_units': 200, 'dropout': 0.0, 'optimizer': 'RMSprop'}. Best is trial 88 with value: 0.8888888955116272.\u001b[0m\n"
     ]
    },
    {
     "name": "stdout",
     "output_type": "stream",
     "text": [
      "1/1 [==============================] - 0s 16ms/step - loss: 0.5772 - accuracy: 0.7222\n"
     ]
    },
    {
     "name": "stderr",
     "output_type": "stream",
     "text": [
      "\u001b[32m[I 2022-05-31 18:19:44,254]\u001b[0m Trial 235 finished with value: 0.7222222089767456 and parameters: {'n_layers': 3, 'n_units': 200, 'dropout': 0.0, 'optimizer': 'Adam'}. Best is trial 88 with value: 0.8888888955116272.\u001b[0m\n"
     ]
    },
    {
     "name": "stdout",
     "output_type": "stream",
     "text": [
      "1/1 [==============================] - 0s 16ms/step - loss: 0.5084 - accuracy: 0.8333\n"
     ]
    },
    {
     "name": "stderr",
     "output_type": "stream",
     "text": [
      "\u001b[32m[I 2022-05-31 18:19:45,781]\u001b[0m Trial 236 finished with value: 0.8333333134651184 and parameters: {'n_layers': 3, 'n_units': 200, 'dropout': 0.30000000000000004, 'optimizer': 'RMSprop'}. Best is trial 88 with value: 0.8888888955116272.\u001b[0m\n"
     ]
    },
    {
     "name": "stdout",
     "output_type": "stream",
     "text": [
      "1/1 [==============================] - 0s 16ms/step - loss: 0.7753 - accuracy: 0.7222\n"
     ]
    },
    {
     "name": "stderr",
     "output_type": "stream",
     "text": [
      "\u001b[32m[I 2022-05-31 18:19:46,911]\u001b[0m Trial 237 finished with value: 0.7222222089767456 and parameters: {'n_layers': 4, 'n_units': 200, 'dropout': 0.2, 'optimizer': 'RMSprop'}. Best is trial 88 with value: 0.8888888955116272.\u001b[0m\n"
     ]
    },
    {
     "name": "stdout",
     "output_type": "stream",
     "text": [
      "1/1 [==============================] - 0s 16ms/step - loss: 0.6209 - accuracy: 0.7222\n"
     ]
    },
    {
     "name": "stderr",
     "output_type": "stream",
     "text": [
      "\u001b[32m[I 2022-05-31 18:19:48,132]\u001b[0m Trial 238 finished with value: 0.7222222089767456 and parameters: {'n_layers': 3, 'n_units': 200, 'dropout': 0.1, 'optimizer': 'RMSprop'}. Best is trial 88 with value: 0.8888888955116272.\u001b[0m\n"
     ]
    },
    {
     "name": "stdout",
     "output_type": "stream",
     "text": [
      "1/1 [==============================] - 0s 16ms/step - loss: 0.4826 - accuracy: 0.7778\n"
     ]
    },
    {
     "name": "stderr",
     "output_type": "stream",
     "text": [
      "\u001b[32m[I 2022-05-31 18:19:49,082]\u001b[0m Trial 239 finished with value: 0.7777777910232544 and parameters: {'n_layers': 3, 'n_units': 200, 'dropout': 0.0, 'optimizer': 'RMSprop'}. Best is trial 88 with value: 0.8888888955116272.\u001b[0m\n"
     ]
    },
    {
     "name": "stdout",
     "output_type": "stream",
     "text": [
      "1/1 [==============================] - 0s 16ms/step - loss: 0.7499 - accuracy: 0.7222\n"
     ]
    },
    {
     "name": "stderr",
     "output_type": "stream",
     "text": [
      "\u001b[32m[I 2022-05-31 18:19:50,096]\u001b[0m Trial 240 finished with value: 0.7222222089767456 and parameters: {'n_layers': 3, 'n_units': 200, 'dropout': 0.1, 'optimizer': 'RMSprop'}. Best is trial 88 with value: 0.8888888955116272.\u001b[0m\n"
     ]
    },
    {
     "name": "stdout",
     "output_type": "stream",
     "text": [
      "1/1 [==============================] - 0s 16ms/step - loss: 0.5251 - accuracy: 0.8333\n"
     ]
    },
    {
     "name": "stderr",
     "output_type": "stream",
     "text": [
      "\u001b[32m[I 2022-05-31 18:19:51,063]\u001b[0m Trial 241 finished with value: 0.8333333134651184 and parameters: {'n_layers': 3, 'n_units': 250, 'dropout': 0.1, 'optimizer': 'RMSprop'}. Best is trial 88 with value: 0.8888888955116272.\u001b[0m\n"
     ]
    },
    {
     "name": "stdout",
     "output_type": "stream",
     "text": [
      "1/1 [==============================] - 0s 16ms/step - loss: 0.8196 - accuracy: 0.8333\n"
     ]
    },
    {
     "name": "stderr",
     "output_type": "stream",
     "text": [
      "\u001b[32m[I 2022-05-31 18:19:52,049]\u001b[0m Trial 242 finished with value: 0.8333333134651184 and parameters: {'n_layers': 4, 'n_units': 250, 'dropout': 0.1, 'optimizer': 'Adam'}. Best is trial 88 with value: 0.8888888955116272.\u001b[0m\n"
     ]
    },
    {
     "name": "stdout",
     "output_type": "stream",
     "text": [
      "1/1 [==============================] - 0s 26ms/step - loss: 1.0418 - accuracy: 0.8333\n"
     ]
    },
    {
     "name": "stderr",
     "output_type": "stream",
     "text": [
      "\u001b[32m[I 2022-05-31 18:19:53,162]\u001b[0m Trial 243 finished with value: 0.8333333134651184 and parameters: {'n_layers': 3, 'n_units': 250, 'dropout': 0.1, 'optimizer': 'Adam'}. Best is trial 88 with value: 0.8888888955116272.\u001b[0m\n"
     ]
    },
    {
     "name": "stdout",
     "output_type": "stream",
     "text": [
      "1/1 [==============================] - 0s 28ms/step - loss: 1.6337 - accuracy: 0.6111\n"
     ]
    },
    {
     "name": "stderr",
     "output_type": "stream",
     "text": [
      "\u001b[32m[I 2022-05-31 18:19:54,217]\u001b[0m Trial 244 finished with value: 0.6111111044883728 and parameters: {'n_layers': 4, 'n_units': 250, 'dropout': 0.1, 'optimizer': 'Adam'}. Best is trial 88 with value: 0.8888888955116272.\u001b[0m\n"
     ]
    },
    {
     "name": "stdout",
     "output_type": "stream",
     "text": [
      "1/1 [==============================] - 0s 16ms/step - loss: 0.5175 - accuracy: 0.8333\n"
     ]
    },
    {
     "name": "stderr",
     "output_type": "stream",
     "text": [
      "\u001b[32m[I 2022-05-31 18:19:55,068]\u001b[0m Trial 245 finished with value: 0.8333333134651184 and parameters: {'n_layers': 3, 'n_units': 100, 'dropout': 0.1, 'optimizer': 'Adam'}. Best is trial 88 with value: 0.8888888955116272.\u001b[0m\n"
     ]
    },
    {
     "name": "stdout",
     "output_type": "stream",
     "text": [
      "1/1 [==============================] - 0s 16ms/step - loss: 0.3971 - accuracy: 0.8333\n"
     ]
    },
    {
     "name": "stderr",
     "output_type": "stream",
     "text": [
      "\u001b[32m[I 2022-05-31 18:19:55,997]\u001b[0m Trial 246 finished with value: 0.8333333134651184 and parameters: {'n_layers': 3, 'n_units': 100, 'dropout': 0.0, 'optimizer': 'RMSprop'}. Best is trial 88 with value: 0.8888888955116272.\u001b[0m\n"
     ]
    },
    {
     "name": "stdout",
     "output_type": "stream",
     "text": [
      "1/1 [==============================] - 0s 16ms/step - loss: 0.6182 - accuracy: 0.7222\n"
     ]
    },
    {
     "name": "stderr",
     "output_type": "stream",
     "text": [
      "\u001b[32m[I 2022-05-31 18:19:56,946]\u001b[0m Trial 247 finished with value: 0.7222222089767456 and parameters: {'n_layers': 3, 'n_units': 100, 'dropout': 0.1, 'optimizer': 'RMSprop'}. Best is trial 88 with value: 0.8888888955116272.\u001b[0m\n"
     ]
    },
    {
     "name": "stdout",
     "output_type": "stream",
     "text": [
      "1/1 [==============================] - 0s 16ms/step - loss: 0.6078 - accuracy: 0.8333\n"
     ]
    },
    {
     "name": "stderr",
     "output_type": "stream",
     "text": [
      "\u001b[32m[I 2022-05-31 18:19:58,351]\u001b[0m Trial 248 finished with value: 0.8333333134651184 and parameters: {'n_layers': 4, 'n_units': 250, 'dropout': 0.2, 'optimizer': 'RMSprop'}. Best is trial 88 with value: 0.8888888955116272.\u001b[0m\n"
     ]
    },
    {
     "name": "stdout",
     "output_type": "stream",
     "text": [
      "1/1 [==============================] - 0s 31ms/step - loss: 0.7165 - accuracy: 0.7778\n"
     ]
    },
    {
     "name": "stderr",
     "output_type": "stream",
     "text": [
      "\u001b[32m[I 2022-05-31 18:19:59,394]\u001b[0m Trial 249 finished with value: 0.7777777910232544 and parameters: {'n_layers': 4, 'n_units': 250, 'dropout': 0.0, 'optimizer': 'RMSprop'}. Best is trial 88 with value: 0.8888888955116272.\u001b[0m\n"
     ]
    },
    {
     "name": "stdout",
     "output_type": "stream",
     "text": [
      "1/1 [==============================] - 0s 16ms/step - loss: 0.8180 - accuracy: 0.7778\n"
     ]
    },
    {
     "name": "stderr",
     "output_type": "stream",
     "text": [
      "\u001b[32m[I 2022-05-31 18:20:00,465]\u001b[0m Trial 250 finished with value: 0.7777777910232544 and parameters: {'n_layers': 4, 'n_units': 250, 'dropout': 0.0, 'optimizer': 'RMSprop'}. Best is trial 88 with value: 0.8888888955116272.\u001b[0m\n"
     ]
    },
    {
     "name": "stdout",
     "output_type": "stream",
     "text": [
      "1/1 [==============================] - 0s 16ms/step - loss: 0.6510 - accuracy: 0.8333\n"
     ]
    },
    {
     "name": "stderr",
     "output_type": "stream",
     "text": [
      "\u001b[32m[I 2022-05-31 18:20:01,535]\u001b[0m Trial 251 finished with value: 0.8333333134651184 and parameters: {'n_layers': 4, 'n_units': 200, 'dropout': 0.0, 'optimizer': 'RMSprop'}. Best is trial 88 with value: 0.8888888955116272.\u001b[0m\n"
     ]
    },
    {
     "name": "stdout",
     "output_type": "stream",
     "text": [
      "1/1 [==============================] - 0s 16ms/step - loss: 0.6704 - accuracy: 0.7222\n"
     ]
    },
    {
     "name": "stderr",
     "output_type": "stream",
     "text": [
      "\u001b[32m[I 2022-05-31 18:20:02,336]\u001b[0m Trial 252 finished with value: 0.7222222089767456 and parameters: {'n_layers': 4, 'n_units': 250, 'dropout': 0.0, 'optimizer': 'SGD'}. Best is trial 88 with value: 0.8888888955116272.\u001b[0m\n"
     ]
    },
    {
     "name": "stdout",
     "output_type": "stream",
     "text": [
      "1/1 [==============================] - 0s 16ms/step - loss: 0.6704 - accuracy: 0.7778\n"
     ]
    },
    {
     "name": "stderr",
     "output_type": "stream",
     "text": [
      "\u001b[32m[I 2022-05-31 18:20:03,298]\u001b[0m Trial 253 finished with value: 0.7777777910232544 and parameters: {'n_layers': 4, 'n_units': 200, 'dropout': 0.0, 'optimizer': 'RMSprop'}. Best is trial 88 with value: 0.8888888955116272.\u001b[0m\n"
     ]
    },
    {
     "name": "stdout",
     "output_type": "stream",
     "text": [
      "1/1 [==============================] - 0s 16ms/step - loss: 0.6625 - accuracy: 0.8333\n"
     ]
    },
    {
     "name": "stderr",
     "output_type": "stream",
     "text": [
      "\u001b[32m[I 2022-05-31 18:20:04,334]\u001b[0m Trial 254 finished with value: 0.8333333134651184 and parameters: {'n_layers': 4, 'n_units': 250, 'dropout': 0.0, 'optimizer': 'RMSprop'}. Best is trial 88 with value: 0.8888888955116272.\u001b[0m\n"
     ]
    },
    {
     "name": "stdout",
     "output_type": "stream",
     "text": [
      "1/1 [==============================] - 0s 16ms/step - loss: 0.5187 - accuracy: 0.7778\n"
     ]
    },
    {
     "name": "stderr",
     "output_type": "stream",
     "text": [
      "\u001b[32m[I 2022-05-31 18:20:05,355]\u001b[0m Trial 255 finished with value: 0.7777777910232544 and parameters: {'n_layers': 4, 'n_units': 250, 'dropout': 0.0, 'optimizer': 'RMSprop'}. Best is trial 88 with value: 0.8888888955116272.\u001b[0m\n"
     ]
    },
    {
     "name": "stdout",
     "output_type": "stream",
     "text": [
      "1/1 [==============================] - 0s 31ms/step - loss: 0.6121 - accuracy: 0.7778\n"
     ]
    },
    {
     "name": "stderr",
     "output_type": "stream",
     "text": [
      "\u001b[32m[I 2022-05-31 18:20:06,375]\u001b[0m Trial 256 finished with value: 0.7777777910232544 and parameters: {'n_layers': 3, 'n_units': 200, 'dropout': 0.1, 'optimizer': 'RMSprop'}. Best is trial 88 with value: 0.8888888955116272.\u001b[0m\n"
     ]
    },
    {
     "name": "stdout",
     "output_type": "stream",
     "text": [
      "1/1 [==============================] - 0s 31ms/step - loss: 0.6522 - accuracy: 0.7778\n"
     ]
    },
    {
     "name": "stderr",
     "output_type": "stream",
     "text": [
      "\u001b[32m[I 2022-05-31 18:20:07,437]\u001b[0m Trial 257 finished with value: 0.7777777910232544 and parameters: {'n_layers': 5, 'n_units': 200, 'dropout': 0.0, 'optimizer': 'RMSprop'}. Best is trial 88 with value: 0.8888888955116272.\u001b[0m\n"
     ]
    },
    {
     "name": "stdout",
     "output_type": "stream",
     "text": [
      "1/1 [==============================] - 0s 16ms/step - loss: 0.4838 - accuracy: 0.8333\n"
     ]
    },
    {
     "name": "stderr",
     "output_type": "stream",
     "text": [
      "\u001b[32m[I 2022-05-31 18:20:08,636]\u001b[0m Trial 258 finished with value: 0.8333333134651184 and parameters: {'n_layers': 4, 'n_units': 200, 'dropout': 0.0, 'optimizer': 'RMSprop'}. Best is trial 88 with value: 0.8888888955116272.\u001b[0m\n"
     ]
    },
    {
     "name": "stdout",
     "output_type": "stream",
     "text": [
      "1/1 [==============================] - 0s 16ms/step - loss: 0.6335 - accuracy: 0.8333\n"
     ]
    },
    {
     "name": "stderr",
     "output_type": "stream",
     "text": [
      "\u001b[32m[I 2022-05-31 18:20:09,610]\u001b[0m Trial 259 finished with value: 0.8333333134651184 and parameters: {'n_layers': 4, 'n_units': 200, 'dropout': 0.0, 'optimizer': 'RMSprop'}. Best is trial 88 with value: 0.8888888955116272.\u001b[0m\n"
     ]
    },
    {
     "name": "stdout",
     "output_type": "stream",
     "text": [
      "1/1 [==============================] - 0s 16ms/step - loss: 0.7595 - accuracy: 0.6667\n"
     ]
    },
    {
     "name": "stderr",
     "output_type": "stream",
     "text": [
      "\u001b[32m[I 2022-05-31 18:20:10,658]\u001b[0m Trial 260 finished with value: 0.6666666865348816 and parameters: {'n_layers': 4, 'n_units': 250, 'dropout': 0.0, 'optimizer': 'RMSprop'}. Best is trial 88 with value: 0.8888888955116272.\u001b[0m\n"
     ]
    },
    {
     "name": "stdout",
     "output_type": "stream",
     "text": [
      "1/1 [==============================] - 0s 16ms/step - loss: 0.6714 - accuracy: 0.7778\n"
     ]
    },
    {
     "name": "stderr",
     "output_type": "stream",
     "text": [
      "\u001b[32m[I 2022-05-31 18:20:11,653]\u001b[0m Trial 261 finished with value: 0.7777777910232544 and parameters: {'n_layers': 4, 'n_units': 250, 'dropout': 0.0, 'optimizer': 'RMSprop'}. Best is trial 88 with value: 0.8888888955116272.\u001b[0m\n"
     ]
    },
    {
     "name": "stdout",
     "output_type": "stream",
     "text": [
      "1/1 [==============================] - 0s 16ms/step - loss: 0.5711 - accuracy: 0.7222\n"
     ]
    },
    {
     "name": "stderr",
     "output_type": "stream",
     "text": [
      "\u001b[32m[I 2022-05-31 18:20:12,540]\u001b[0m Trial 262 finished with value: 0.7222222089767456 and parameters: {'n_layers': 3, 'n_units': 150, 'dropout': 0.0, 'optimizer': 'RMSprop'}. Best is trial 88 with value: 0.8888888955116272.\u001b[0m\n"
     ]
    },
    {
     "name": "stdout",
     "output_type": "stream",
     "text": [
      "1/1 [==============================] - 0s 16ms/step - loss: 0.6241 - accuracy: 0.7778\n"
     ]
    },
    {
     "name": "stderr",
     "output_type": "stream",
     "text": [
      "\u001b[32m[I 2022-05-31 18:20:13,496]\u001b[0m Trial 263 finished with value: 0.7777777910232544 and parameters: {'n_layers': 3, 'n_units': 150, 'dropout': 0.0, 'optimizer': 'RMSprop'}. Best is trial 88 with value: 0.8888888955116272.\u001b[0m\n"
     ]
    },
    {
     "name": "stdout",
     "output_type": "stream",
     "text": [
      "1/1 [==============================] - 0s 16ms/step - loss: 0.5868 - accuracy: 0.8333\n"
     ]
    },
    {
     "name": "stderr",
     "output_type": "stream",
     "text": [
      "\u001b[32m[I 2022-05-31 18:20:14,479]\u001b[0m Trial 264 finished with value: 0.8333333134651184 and parameters: {'n_layers': 3, 'n_units': 150, 'dropout': 0.0, 'optimizer': 'RMSprop'}. Best is trial 88 with value: 0.8888888955116272.\u001b[0m\n"
     ]
    },
    {
     "name": "stdout",
     "output_type": "stream",
     "text": [
      "1/1 [==============================] - 0s 16ms/step - loss: 0.6449 - accuracy: 0.7222\n"
     ]
    },
    {
     "name": "stderr",
     "output_type": "stream",
     "text": [
      "\u001b[32m[I 2022-05-31 18:20:15,425]\u001b[0m Trial 265 finished with value: 0.7222222089767456 and parameters: {'n_layers': 3, 'n_units': 150, 'dropout': 0.0, 'optimizer': 'RMSprop'}. Best is trial 88 with value: 0.8888888955116272.\u001b[0m\n"
     ]
    },
    {
     "name": "stdout",
     "output_type": "stream",
     "text": [
      "1/1 [==============================] - 0s 15ms/step - loss: 0.5845 - accuracy: 0.7778\n"
     ]
    },
    {
     "name": "stderr",
     "output_type": "stream",
     "text": [
      "\u001b[32m[I 2022-05-31 18:20:16,368]\u001b[0m Trial 266 finished with value: 0.7777777910232544 and parameters: {'n_layers': 4, 'n_units': 250, 'dropout': 0.30000000000000004, 'optimizer': 'Adam'}. Best is trial 88 with value: 0.8888888955116272.\u001b[0m\n"
     ]
    },
    {
     "name": "stdout",
     "output_type": "stream",
     "text": [
      "1/1 [==============================] - 0s 16ms/step - loss: 0.5010 - accuracy: 0.8333\n"
     ]
    },
    {
     "name": "stderr",
     "output_type": "stream",
     "text": [
      "\u001b[32m[I 2022-05-31 18:20:17,294]\u001b[0m Trial 267 finished with value: 0.8333333134651184 and parameters: {'n_layers': 3, 'n_units': 200, 'dropout': 0.0, 'optimizer': 'RMSprop'}. Best is trial 88 with value: 0.8888888955116272.\u001b[0m\n"
     ]
    },
    {
     "name": "stdout",
     "output_type": "stream",
     "text": [
      "1/1 [==============================] - 0s 16ms/step - loss: 0.8090 - accuracy: 0.8333\n"
     ]
    },
    {
     "name": "stderr",
     "output_type": "stream",
     "text": [
      "\u001b[32m[I 2022-05-31 18:20:18,292]\u001b[0m Trial 268 finished with value: 0.8333333134651184 and parameters: {'n_layers': 4, 'n_units': 250, 'dropout': 0.2, 'optimizer': 'Adam'}. Best is trial 88 with value: 0.8888888955116272.\u001b[0m\n"
     ]
    },
    {
     "name": "stdout",
     "output_type": "stream",
     "text": [
      "1/1 [==============================] - 0s 16ms/step - loss: 0.5697 - accuracy: 0.7778\n"
     ]
    },
    {
     "name": "stderr",
     "output_type": "stream",
     "text": [
      "\u001b[32m[I 2022-05-31 18:20:19,685]\u001b[0m Trial 269 finished with value: 0.7777777910232544 and parameters: {'n_layers': 4, 'n_units': 250, 'dropout': 0.2, 'optimizer': 'RMSprop'}. Best is trial 88 with value: 0.8888888955116272.\u001b[0m\n"
     ]
    },
    {
     "name": "stdout",
     "output_type": "stream",
     "text": [
      "1/1 [==============================] - 0s 16ms/step - loss: 0.6672 - accuracy: 0.4444\n"
     ]
    },
    {
     "name": "stderr",
     "output_type": "stream",
     "text": [
      "\u001b[32m[I 2022-05-31 18:20:20,646]\u001b[0m Trial 270 finished with value: 0.4444444477558136 and parameters: {'n_layers': 3, 'n_units': 50, 'dropout': 0.1, 'optimizer': 'RMSprop'}. Best is trial 88 with value: 0.8888888955116272.\u001b[0m\n"
     ]
    },
    {
     "name": "stdout",
     "output_type": "stream",
     "text": [
      "1/1 [==============================] - 0s 16ms/step - loss: 0.6013 - accuracy: 0.7778\n"
     ]
    },
    {
     "name": "stderr",
     "output_type": "stream",
     "text": [
      "\u001b[32m[I 2022-05-31 18:20:21,712]\u001b[0m Trial 271 finished with value: 0.7777777910232544 and parameters: {'n_layers': 4, 'n_units': 200, 'dropout': 0.0, 'optimizer': 'RMSprop'}. Best is trial 88 with value: 0.8888888955116272.\u001b[0m\n"
     ]
    },
    {
     "name": "stdout",
     "output_type": "stream",
     "text": [
      "1/1 [==============================] - 0s 16ms/step - loss: 0.7041 - accuracy: 0.3889\n"
     ]
    },
    {
     "name": "stderr",
     "output_type": "stream",
     "text": [
      "\u001b[32m[I 2022-05-31 18:20:22,455]\u001b[0m Trial 272 finished with value: 0.3888888955116272 and parameters: {'n_layers': 4, 'n_units': 200, 'dropout': 0.0, 'optimizer': 'SGD'}. Best is trial 88 with value: 0.8888888955116272.\u001b[0m\n"
     ]
    },
    {
     "name": "stdout",
     "output_type": "stream",
     "text": [
      "1/1 [==============================] - 0s 16ms/step - loss: 0.5713 - accuracy: 0.7778\n"
     ]
    },
    {
     "name": "stderr",
     "output_type": "stream",
     "text": [
      "\u001b[32m[I 2022-05-31 18:20:23,601]\u001b[0m Trial 273 finished with value: 0.7777777910232544 and parameters: {'n_layers': 4, 'n_units': 200, 'dropout': 0.1, 'optimizer': 'RMSprop'}. Best is trial 88 with value: 0.8888888955116272.\u001b[0m\n"
     ]
    },
    {
     "name": "stdout",
     "output_type": "stream",
     "text": [
      "1/1 [==============================] - 0s 16ms/step - loss: 0.4627 - accuracy: 0.8889\n"
     ]
    },
    {
     "name": "stderr",
     "output_type": "stream",
     "text": [
      "\u001b[32m[I 2022-05-31 18:20:24,538]\u001b[0m Trial 274 finished with value: 0.8888888955116272 and parameters: {'n_layers': 3, 'n_units': 200, 'dropout': 0.1, 'optimizer': 'RMSprop'}. Best is trial 88 with value: 0.8888888955116272.\u001b[0m\n"
     ]
    },
    {
     "name": "stdout",
     "output_type": "stream",
     "text": [
      "1/1 [==============================] - 0s 31ms/step - loss: 0.8089 - accuracy: 0.8333\n"
     ]
    },
    {
     "name": "stderr",
     "output_type": "stream",
     "text": [
      "\u001b[32m[I 2022-05-31 18:20:25,675]\u001b[0m Trial 275 finished with value: 0.8333333134651184 and parameters: {'n_layers': 3, 'n_units': 250, 'dropout': 0.1, 'optimizer': 'RMSprop'}. Best is trial 88 with value: 0.8888888955116272.\u001b[0m\n"
     ]
    },
    {
     "name": "stdout",
     "output_type": "stream",
     "text": [
      "1/1 [==============================] - 0s 16ms/step - loss: 0.6100 - accuracy: 0.7778\n"
     ]
    },
    {
     "name": "stderr",
     "output_type": "stream",
     "text": [
      "\u001b[32m[I 2022-05-31 18:20:26,734]\u001b[0m Trial 276 finished with value: 0.7777777910232544 and parameters: {'n_layers': 3, 'n_units': 200, 'dropout': 0.1, 'optimizer': 'RMSprop'}. Best is trial 88 with value: 0.8888888955116272.\u001b[0m\n"
     ]
    },
    {
     "name": "stdout",
     "output_type": "stream",
     "text": [
      "1/1 [==============================] - 0s 31ms/step - loss: 0.6863 - accuracy: 0.7222\n"
     ]
    },
    {
     "name": "stderr",
     "output_type": "stream",
     "text": [
      "\u001b[32m[I 2022-05-31 18:20:27,799]\u001b[0m Trial 277 finished with value: 0.7222222089767456 and parameters: {'n_layers': 3, 'n_units': 200, 'dropout': 0.1, 'optimizer': 'RMSprop'}. Best is trial 88 with value: 0.8888888955116272.\u001b[0m\n"
     ]
    },
    {
     "name": "stdout",
     "output_type": "stream",
     "text": [
      "1/1 [==============================] - 0s 16ms/step - loss: 0.5272 - accuracy: 0.7222\n"
     ]
    },
    {
     "name": "stderr",
     "output_type": "stream",
     "text": [
      "\u001b[32m[I 2022-05-31 18:20:28,718]\u001b[0m Trial 278 finished with value: 0.7222222089767456 and parameters: {'n_layers': 3, 'n_units': 100, 'dropout': 0.1, 'optimizer': 'RMSprop'}. Best is trial 88 with value: 0.8888888955116272.\u001b[0m\n"
     ]
    },
    {
     "name": "stdout",
     "output_type": "stream",
     "text": [
      "1/1 [==============================] - 0s 16ms/step - loss: 0.7267 - accuracy: 0.6667\n"
     ]
    },
    {
     "name": "stderr",
     "output_type": "stream",
     "text": [
      "\u001b[32m[I 2022-05-31 18:20:29,824]\u001b[0m Trial 279 finished with value: 0.6666666865348816 and parameters: {'n_layers': 3, 'n_units': 250, 'dropout': 0.1, 'optimizer': 'Adam'}. Best is trial 88 with value: 0.8888888955116272.\u001b[0m\n"
     ]
    },
    {
     "name": "stdout",
     "output_type": "stream",
     "text": [
      "1/1 [==============================] - 0s 16ms/step - loss: 0.5221 - accuracy: 0.7778\n"
     ]
    },
    {
     "name": "stderr",
     "output_type": "stream",
     "text": [
      "\u001b[32m[I 2022-05-31 18:20:30,825]\u001b[0m Trial 280 finished with value: 0.7777777910232544 and parameters: {'n_layers': 3, 'n_units': 200, 'dropout': 0.1, 'optimizer': 'RMSprop'}. Best is trial 88 with value: 0.8888888955116272.\u001b[0m\n"
     ]
    },
    {
     "name": "stdout",
     "output_type": "stream",
     "text": [
      "1/1 [==============================] - 0s 23ms/step - loss: 0.5222 - accuracy: 0.7778\n"
     ]
    },
    {
     "name": "stderr",
     "output_type": "stream",
     "text": [
      "\u001b[32m[I 2022-05-31 18:20:31,674]\u001b[0m Trial 281 finished with value: 0.7777777910232544 and parameters: {'n_layers': 3, 'n_units': 200, 'dropout': 0.0, 'optimizer': 'RMSprop'}. Best is trial 88 with value: 0.8888888955116272.\u001b[0m\n"
     ]
    },
    {
     "name": "stdout",
     "output_type": "stream",
     "text": [
      "1/1 [==============================] - 0s 16ms/step - loss: 0.6197 - accuracy: 0.6667\n"
     ]
    },
    {
     "name": "stderr",
     "output_type": "stream",
     "text": [
      "\u001b[32m[I 2022-05-31 18:20:32,655]\u001b[0m Trial 282 finished with value: 0.6666666865348816 and parameters: {'n_layers': 3, 'n_units': 200, 'dropout': 0.1, 'optimizer': 'RMSprop'}. Best is trial 88 with value: 0.8888888955116272.\u001b[0m\n"
     ]
    },
    {
     "name": "stdout",
     "output_type": "stream",
     "text": [
      "1/1 [==============================] - 0s 31ms/step - loss: 0.5489 - accuracy: 0.7778\n"
     ]
    },
    {
     "name": "stderr",
     "output_type": "stream",
     "text": [
      "\u001b[32m[I 2022-05-31 18:20:33,495]\u001b[0m Trial 283 finished with value: 0.7777777910232544 and parameters: {'n_layers': 3, 'n_units': 250, 'dropout': 0.1, 'optimizer': 'Adam'}. Best is trial 88 with value: 0.8888888955116272.\u001b[0m\n"
     ]
    },
    {
     "name": "stdout",
     "output_type": "stream",
     "text": [
      "1/1 [==============================] - 0s 16ms/step - loss: 0.5792 - accuracy: 0.7778\n"
     ]
    },
    {
     "name": "stderr",
     "output_type": "stream",
     "text": [
      "\u001b[32m[I 2022-05-31 18:20:34,431]\u001b[0m Trial 284 finished with value: 0.7777777910232544 and parameters: {'n_layers': 3, 'n_units': 150, 'dropout': 0.1, 'optimizer': 'RMSprop'}. Best is trial 88 with value: 0.8888888955116272.\u001b[0m\n"
     ]
    },
    {
     "name": "stdout",
     "output_type": "stream",
     "text": [
      "1/1 [==============================] - 0s 31ms/step - loss: 0.7564 - accuracy: 0.6667\n"
     ]
    },
    {
     "name": "stderr",
     "output_type": "stream",
     "text": [
      "\u001b[32m[I 2022-05-31 18:20:35,456]\u001b[0m Trial 285 finished with value: 0.6666666865348816 and parameters: {'n_layers': 3, 'n_units': 150, 'dropout': 0.1, 'optimizer': 'RMSprop'}. Best is trial 88 with value: 0.8888888955116272.\u001b[0m\n"
     ]
    },
    {
     "name": "stdout",
     "output_type": "stream",
     "text": [
      "1/1 [==============================] - 0s 16ms/step - loss: 0.6151 - accuracy: 0.7778\n"
     ]
    },
    {
     "name": "stderr",
     "output_type": "stream",
     "text": [
      "\u001b[32m[I 2022-05-31 18:20:36,462]\u001b[0m Trial 286 finished with value: 0.7777777910232544 and parameters: {'n_layers': 3, 'n_units': 150, 'dropout': 0.0, 'optimizer': 'RMSprop'}. Best is trial 88 with value: 0.8888888955116272.\u001b[0m\n"
     ]
    },
    {
     "name": "stdout",
     "output_type": "stream",
     "text": [
      "1/1 [==============================] - 0s 31ms/step - loss: 0.5311 - accuracy: 0.8333\n"
     ]
    },
    {
     "name": "stderr",
     "output_type": "stream",
     "text": [
      "\u001b[32m[I 2022-05-31 18:20:37,409]\u001b[0m Trial 287 finished with value: 0.8333333134651184 and parameters: {'n_layers': 3, 'n_units': 200, 'dropout': 0.0, 'optimizer': 'RMSprop'}. Best is trial 88 with value: 0.8888888955116272.\u001b[0m\n"
     ]
    },
    {
     "name": "stdout",
     "output_type": "stream",
     "text": [
      "1/1 [==============================] - 0s 16ms/step - loss: 0.5332 - accuracy: 0.8333\n"
     ]
    },
    {
     "name": "stderr",
     "output_type": "stream",
     "text": [
      "\u001b[32m[I 2022-05-31 18:20:38,441]\u001b[0m Trial 288 finished with value: 0.8333333134651184 and parameters: {'n_layers': 3, 'n_units': 200, 'dropout': 0.1, 'optimizer': 'RMSprop'}. Best is trial 88 with value: 0.8888888955116272.\u001b[0m\n"
     ]
    },
    {
     "name": "stdout",
     "output_type": "stream",
     "text": [
      "1/1 [==============================] - 0s 16ms/step - loss: 0.4905 - accuracy: 0.8333\n"
     ]
    },
    {
     "name": "stderr",
     "output_type": "stream",
     "text": [
      "\u001b[32m[I 2022-05-31 18:20:39,712]\u001b[0m Trial 289 finished with value: 0.8333333134651184 and parameters: {'n_layers': 3, 'n_units': 200, 'dropout': 0.0, 'optimizer': 'RMSprop'}. Best is trial 88 with value: 0.8888888955116272.\u001b[0m\n"
     ]
    },
    {
     "name": "stdout",
     "output_type": "stream",
     "text": [
      "1/1 [==============================] - 0s 16ms/step - loss: 0.6409 - accuracy: 0.8889\n"
     ]
    },
    {
     "name": "stderr",
     "output_type": "stream",
     "text": [
      "\u001b[32m[I 2022-05-31 18:20:40,804]\u001b[0m Trial 290 finished with value: 0.8888888955116272 and parameters: {'n_layers': 3, 'n_units': 250, 'dropout': 0.1, 'optimizer': 'RMSprop'}. Best is trial 88 with value: 0.8888888955116272.\u001b[0m\n"
     ]
    },
    {
     "name": "stdout",
     "output_type": "stream",
     "text": [
      "1/1 [==============================] - 0s 16ms/step - loss: 0.7307 - accuracy: 0.8333\n"
     ]
    },
    {
     "name": "stderr",
     "output_type": "stream",
     "text": [
      "\u001b[32m[I 2022-05-31 18:20:42,056]\u001b[0m Trial 291 finished with value: 0.8333333134651184 and parameters: {'n_layers': 4, 'n_units': 250, 'dropout': 0.1, 'optimizer': 'RMSprop'}. Best is trial 88 with value: 0.8888888955116272.\u001b[0m\n"
     ]
    },
    {
     "name": "stdout",
     "output_type": "stream",
     "text": [
      "1/1 [==============================] - 0s 31ms/step - loss: 0.5474 - accuracy: 0.7778\n"
     ]
    },
    {
     "name": "stderr",
     "output_type": "stream",
     "text": [
      "\u001b[32m[I 2022-05-31 18:20:43,055]\u001b[0m Trial 292 finished with value: 0.7777777910232544 and parameters: {'n_layers': 4, 'n_units': 250, 'dropout': 0.0, 'optimizer': 'RMSprop'}. Best is trial 88 with value: 0.8888888955116272.\u001b[0m\n"
     ]
    },
    {
     "name": "stdout",
     "output_type": "stream",
     "text": [
      "1/1 [==============================] - 0s 16ms/step - loss: 0.6492 - accuracy: 0.7778\n"
     ]
    },
    {
     "name": "stderr",
     "output_type": "stream",
     "text": [
      "\u001b[32m[I 2022-05-31 18:20:44,035]\u001b[0m Trial 293 finished with value: 0.7777777910232544 and parameters: {'n_layers': 4, 'n_units': 250, 'dropout': 0.0, 'optimizer': 'RMSprop'}. Best is trial 88 with value: 0.8888888955116272.\u001b[0m\n"
     ]
    },
    {
     "name": "stdout",
     "output_type": "stream",
     "text": [
      "1/1 [==============================] - 0s 16ms/step - loss: 0.7629 - accuracy: 0.7222\n"
     ]
    },
    {
     "name": "stderr",
     "output_type": "stream",
     "text": [
      "\u001b[32m[I 2022-05-31 18:20:45,173]\u001b[0m Trial 294 finished with value: 0.7222222089767456 and parameters: {'n_layers': 3, 'n_units': 200, 'dropout': 0.1, 'optimizer': 'RMSprop'}. Best is trial 88 with value: 0.8888888955116272.\u001b[0m\n"
     ]
    },
    {
     "name": "stdout",
     "output_type": "stream",
     "text": [
      "1/1 [==============================] - 0s 16ms/step - loss: 0.6820 - accuracy: 0.8333\n"
     ]
    },
    {
     "name": "stderr",
     "output_type": "stream",
     "text": [
      "\u001b[32m[I 2022-05-31 18:20:46,262]\u001b[0m Trial 295 finished with value: 0.8333333134651184 and parameters: {'n_layers': 4, 'n_units': 250, 'dropout': 0.0, 'optimizer': 'RMSprop'}. Best is trial 88 with value: 0.8888888955116272.\u001b[0m\n"
     ]
    },
    {
     "name": "stdout",
     "output_type": "stream",
     "text": [
      "1/1 [==============================] - 0s 16ms/step - loss: 0.6989 - accuracy: 0.6667\n"
     ]
    },
    {
     "name": "stderr",
     "output_type": "stream",
     "text": [
      "\u001b[32m[I 2022-05-31 18:20:47,238]\u001b[0m Trial 296 finished with value: 0.6666666865348816 and parameters: {'n_layers': 3, 'n_units': 200, 'dropout': 0.1, 'optimizer': 'RMSprop'}. Best is trial 88 with value: 0.8888888955116272.\u001b[0m\n"
     ]
    },
    {
     "name": "stdout",
     "output_type": "stream",
     "text": [
      "1/1 [==============================] - 0s 16ms/step - loss: 0.5113 - accuracy: 0.8333\n"
     ]
    },
    {
     "name": "stderr",
     "output_type": "stream",
     "text": [
      "\u001b[32m[I 2022-05-31 18:20:48,153]\u001b[0m Trial 297 finished with value: 0.8333333134651184 and parameters: {'n_layers': 3, 'n_units': 150, 'dropout': 0.0, 'optimizer': 'RMSprop'}. Best is trial 88 with value: 0.8888888955116272.\u001b[0m\n"
     ]
    },
    {
     "name": "stdout",
     "output_type": "stream",
     "text": [
      "1/1 [==============================] - 0s 16ms/step - loss: 0.5763 - accuracy: 0.8333\n"
     ]
    },
    {
     "name": "stderr",
     "output_type": "stream",
     "text": [
      "\u001b[32m[I 2022-05-31 18:20:49,246]\u001b[0m Trial 298 finished with value: 0.8333333134651184 and parameters: {'n_layers': 3, 'n_units': 200, 'dropout': 0.1, 'optimizer': 'RMSprop'}. Best is trial 88 with value: 0.8888888955116272.\u001b[0m\n"
     ]
    },
    {
     "name": "stdout",
     "output_type": "stream",
     "text": [
      "1/1 [==============================] - 0s 16ms/step - loss: 0.5312 - accuracy: 0.7222\n"
     ]
    },
    {
     "name": "stderr",
     "output_type": "stream",
     "text": [
      "\u001b[32m[I 2022-05-31 18:20:50,519]\u001b[0m Trial 299 finished with value: 0.7222222089767456 and parameters: {'n_layers': 4, 'n_units': 250, 'dropout': 0.0, 'optimizer': 'RMSprop'}. Best is trial 88 with value: 0.8888888955116272.\u001b[0m\n"
     ]
    },
    {
     "name": "stdout",
     "output_type": "stream",
     "text": [
      "1/1 [==============================] - 0s 31ms/step - loss: 0.7555 - accuracy: 0.8333\n"
     ]
    },
    {
     "name": "stderr",
     "output_type": "stream",
     "text": [
      "\u001b[32m[I 2022-05-31 18:20:51,562]\u001b[0m Trial 300 finished with value: 0.8333333134651184 and parameters: {'n_layers': 3, 'n_units': 150, 'dropout': 0.0, 'optimizer': 'RMSprop'}. Best is trial 88 with value: 0.8888888955116272.\u001b[0m\n"
     ]
    },
    {
     "name": "stdout",
     "output_type": "stream",
     "text": [
      "1/1 [==============================] - 0s 31ms/step - loss: 0.6347 - accuracy: 0.6667\n"
     ]
    },
    {
     "name": "stderr",
     "output_type": "stream",
     "text": [
      "\u001b[32m[I 2022-05-31 18:20:52,704]\u001b[0m Trial 301 finished with value: 0.6666666865348816 and parameters: {'n_layers': 2, 'n_units': 250, 'dropout': 0.1, 'optimizer': 'SGD'}. Best is trial 88 with value: 0.8888888955116272.\u001b[0m\n"
     ]
    },
    {
     "name": "stdout",
     "output_type": "stream",
     "text": [
      "1/1 [==============================] - 0s 16ms/step - loss: 0.4039 - accuracy: 0.8333\n"
     ]
    },
    {
     "name": "stderr",
     "output_type": "stream",
     "text": [
      "\u001b[32m[I 2022-05-31 18:20:53,667]\u001b[0m Trial 302 finished with value: 0.8333333134651184 and parameters: {'n_layers': 3, 'n_units': 150, 'dropout': 0.1, 'optimizer': 'RMSprop'}. Best is trial 88 with value: 0.8888888955116272.\u001b[0m\n"
     ]
    },
    {
     "name": "stdout",
     "output_type": "stream",
     "text": [
      "1/1 [==============================] - 0s 16ms/step - loss: 0.7581 - accuracy: 0.7778\n"
     ]
    },
    {
     "name": "stderr",
     "output_type": "stream",
     "text": [
      "\u001b[32m[I 2022-05-31 18:20:54,670]\u001b[0m Trial 303 finished with value: 0.7777777910232544 and parameters: {'n_layers': 4, 'n_units': 200, 'dropout': 0.0, 'optimizer': 'RMSprop'}. Best is trial 88 with value: 0.8888888955116272.\u001b[0m\n"
     ]
    },
    {
     "name": "stdout",
     "output_type": "stream",
     "text": [
      "1/1 [==============================] - 0s 16ms/step - loss: 0.5599 - accuracy: 0.7778\n"
     ]
    },
    {
     "name": "stderr",
     "output_type": "stream",
     "text": [
      "\u001b[32m[I 2022-05-31 18:20:55,726]\u001b[0m Trial 304 finished with value: 0.7777777910232544 and parameters: {'n_layers': 4, 'n_units': 250, 'dropout': 0.1, 'optimizer': 'RMSprop'}. Best is trial 88 with value: 0.8888888955116272.\u001b[0m\n"
     ]
    },
    {
     "name": "stdout",
     "output_type": "stream",
     "text": [
      "1/1 [==============================] - 0s 16ms/step - loss: 0.6978 - accuracy: 0.7778\n"
     ]
    },
    {
     "name": "stderr",
     "output_type": "stream",
     "text": [
      "\u001b[32m[I 2022-05-31 18:20:56,723]\u001b[0m Trial 305 finished with value: 0.7777777910232544 and parameters: {'n_layers': 3, 'n_units': 250, 'dropout': 0.0, 'optimizer': 'RMSprop'}. Best is trial 88 with value: 0.8888888955116272.\u001b[0m\n"
     ]
    },
    {
     "name": "stdout",
     "output_type": "stream",
     "text": [
      "1/1 [==============================] - 0s 16ms/step - loss: 0.5068 - accuracy: 0.7778\n"
     ]
    },
    {
     "name": "stderr",
     "output_type": "stream",
     "text": [
      "\u001b[32m[I 2022-05-31 18:20:57,782]\u001b[0m Trial 306 finished with value: 0.7777777910232544 and parameters: {'n_layers': 3, 'n_units': 200, 'dropout': 0.1, 'optimizer': 'RMSprop'}. Best is trial 88 with value: 0.8888888955116272.\u001b[0m\n"
     ]
    },
    {
     "name": "stdout",
     "output_type": "stream",
     "text": [
      "1/1 [==============================] - 0s 16ms/step - loss: 0.5786 - accuracy: 0.6667\n"
     ]
    },
    {
     "name": "stderr",
     "output_type": "stream",
     "text": [
      "\u001b[32m[I 2022-05-31 18:20:58,608]\u001b[0m Trial 307 finished with value: 0.6666666865348816 and parameters: {'n_layers': 3, 'n_units': 200, 'dropout': 0.1, 'optimizer': 'Adam'}. Best is trial 88 with value: 0.8888888955116272.\u001b[0m\n"
     ]
    },
    {
     "name": "stdout",
     "output_type": "stream",
     "text": [
      "1/1 [==============================] - 0s 16ms/step - loss: 0.6241 - accuracy: 0.5556\n"
     ]
    },
    {
     "name": "stderr",
     "output_type": "stream",
     "text": [
      "\u001b[32m[I 2022-05-31 18:20:59,517]\u001b[0m Trial 308 finished with value: 0.5555555820465088 and parameters: {'n_layers': 3, 'n_units': 50, 'dropout': 0.1, 'optimizer': 'Adam'}. Best is trial 88 with value: 0.8888888955116272.\u001b[0m\n"
     ]
    },
    {
     "name": "stdout",
     "output_type": "stream",
     "text": [
      "1/1 [==============================] - 0s 16ms/step - loss: 0.6941 - accuracy: 0.7222\n"
     ]
    },
    {
     "name": "stderr",
     "output_type": "stream",
     "text": [
      "\u001b[32m[I 2022-05-31 18:21:00,524]\u001b[0m Trial 309 finished with value: 0.7222222089767456 and parameters: {'n_layers': 3, 'n_units': 250, 'dropout': 0.2, 'optimizer': 'Adam'}. Best is trial 88 with value: 0.8888888955116272.\u001b[0m\n"
     ]
    },
    {
     "name": "stdout",
     "output_type": "stream",
     "text": [
      "1/1 [==============================] - 0s 16ms/step - loss: 0.5879 - accuracy: 0.8889\n"
     ]
    },
    {
     "name": "stderr",
     "output_type": "stream",
     "text": [
      "\u001b[32m[I 2022-05-31 18:21:01,942]\u001b[0m Trial 310 finished with value: 0.8888888955116272 and parameters: {'n_layers': 3, 'n_units': 200, 'dropout': 0.1, 'optimizer': 'RMSprop'}. Best is trial 88 with value: 0.8888888955116272.\u001b[0m\n"
     ]
    },
    {
     "name": "stdout",
     "output_type": "stream",
     "text": [
      "1/1 [==============================] - 0s 16ms/step - loss: 0.3900 - accuracy: 0.7778\n"
     ]
    },
    {
     "name": "stderr",
     "output_type": "stream",
     "text": [
      "\u001b[32m[I 2022-05-31 18:21:02,963]\u001b[0m Trial 311 finished with value: 0.7777777910232544 and parameters: {'n_layers': 3, 'n_units': 100, 'dropout': 0.1, 'optimizer': 'RMSprop'}. Best is trial 88 with value: 0.8888888955116272.\u001b[0m\n"
     ]
    },
    {
     "name": "stdout",
     "output_type": "stream",
     "text": [
      "1/1 [==============================] - 0s 16ms/step - loss: 0.6085 - accuracy: 0.5556\n"
     ]
    },
    {
     "name": "stderr",
     "output_type": "stream",
     "text": [
      "\u001b[32m[I 2022-05-31 18:21:03,777]\u001b[0m Trial 312 finished with value: 0.5555555820465088 and parameters: {'n_layers': 3, 'n_units': 100, 'dropout': 0.1, 'optimizer': 'Adam'}. Best is trial 88 with value: 0.8888888955116272.\u001b[0m\n"
     ]
    },
    {
     "name": "stdout",
     "output_type": "stream",
     "text": [
      "1/1 [==============================] - 0s 16ms/step - loss: 0.6077 - accuracy: 0.8333\n"
     ]
    },
    {
     "name": "stderr",
     "output_type": "stream",
     "text": [
      "\u001b[32m[I 2022-05-31 18:21:04,787]\u001b[0m Trial 313 finished with value: 0.8333333134651184 and parameters: {'n_layers': 3, 'n_units': 250, 'dropout': 0.1, 'optimizer': 'RMSprop'}. Best is trial 88 with value: 0.8888888955116272.\u001b[0m\n"
     ]
    },
    {
     "name": "stdout",
     "output_type": "stream",
     "text": [
      "1/1 [==============================] - 0s 16ms/step - loss: 0.5689 - accuracy: 0.6667\n"
     ]
    },
    {
     "name": "stderr",
     "output_type": "stream",
     "text": [
      "\u001b[32m[I 2022-05-31 18:21:05,818]\u001b[0m Trial 314 finished with value: 0.6666666865348816 and parameters: {'n_layers': 3, 'n_units': 200, 'dropout': 0.5, 'optimizer': 'RMSprop'}. Best is trial 88 with value: 0.8888888955116272.\u001b[0m\n"
     ]
    },
    {
     "name": "stdout",
     "output_type": "stream",
     "text": [
      "1/1 [==============================] - 0s 16ms/step - loss: 0.8294 - accuracy: 0.6667\n"
     ]
    },
    {
     "name": "stderr",
     "output_type": "stream",
     "text": [
      "\u001b[32m[I 2022-05-31 18:21:07,059]\u001b[0m Trial 315 finished with value: 0.6666666865348816 and parameters: {'n_layers': 4, 'n_units': 250, 'dropout': 0.1, 'optimizer': 'RMSprop'}. Best is trial 88 with value: 0.8888888955116272.\u001b[0m\n"
     ]
    },
    {
     "name": "stdout",
     "output_type": "stream",
     "text": [
      "1/1 [==============================] - 0s 31ms/step - loss: 0.5601 - accuracy: 0.8333\n"
     ]
    },
    {
     "name": "stderr",
     "output_type": "stream",
     "text": [
      "\u001b[32m[I 2022-05-31 18:21:08,115]\u001b[0m Trial 316 finished with value: 0.8333333134651184 and parameters: {'n_layers': 4, 'n_units': 250, 'dropout': 0.0, 'optimizer': 'RMSprop'}. Best is trial 88 with value: 0.8888888955116272.\u001b[0m\n"
     ]
    },
    {
     "name": "stdout",
     "output_type": "stream",
     "text": [
      "1/1 [==============================] - 0s 31ms/step - loss: 0.6449 - accuracy: 0.8333\n"
     ]
    },
    {
     "name": "stderr",
     "output_type": "stream",
     "text": [
      "\u001b[32m[I 2022-05-31 18:21:09,210]\u001b[0m Trial 317 finished with value: 0.8333333134651184 and parameters: {'n_layers': 3, 'n_units': 250, 'dropout': 0.1, 'optimizer': 'RMSprop'}. Best is trial 88 with value: 0.8888888955116272.\u001b[0m\n"
     ]
    },
    {
     "name": "stdout",
     "output_type": "stream",
     "text": [
      "1/1 [==============================] - 0s 16ms/step - loss: 0.6532 - accuracy: 0.8333\n"
     ]
    },
    {
     "name": "stderr",
     "output_type": "stream",
     "text": [
      "\u001b[32m[I 2022-05-31 18:21:10,308]\u001b[0m Trial 318 finished with value: 0.8333333134651184 and parameters: {'n_layers': 3, 'n_units': 250, 'dropout': 0.1, 'optimizer': 'RMSprop'}. Best is trial 88 with value: 0.8888888955116272.\u001b[0m\n"
     ]
    },
    {
     "name": "stdout",
     "output_type": "stream",
     "text": [
      "1/1 [==============================] - 0s 16ms/step - loss: 0.6981 - accuracy: 0.4444\n"
     ]
    },
    {
     "name": "stderr",
     "output_type": "stream",
     "text": [
      "\u001b[32m[I 2022-05-31 18:21:11,279]\u001b[0m Trial 319 finished with value: 0.4444444477558136 and parameters: {'n_layers': 4, 'n_units': 250, 'dropout': 0.1, 'optimizer': 'SGD'}. Best is trial 88 with value: 0.8888888955116272.\u001b[0m\n"
     ]
    },
    {
     "name": "stdout",
     "output_type": "stream",
     "text": [
      "1/1 [==============================] - 0s 31ms/step - loss: 0.6226 - accuracy: 0.6667\n"
     ]
    },
    {
     "name": "stderr",
     "output_type": "stream",
     "text": [
      "\u001b[32m[I 2022-05-31 18:21:12,524]\u001b[0m Trial 320 finished with value: 0.6666666865348816 and parameters: {'n_layers': 3, 'n_units': 200, 'dropout': 0.0, 'optimizer': 'RMSprop'}. Best is trial 88 with value: 0.8888888955116272.\u001b[0m\n"
     ]
    },
    {
     "name": "stdout",
     "output_type": "stream",
     "text": [
      "1/1 [==============================] - 0s 16ms/step - loss: 0.6523 - accuracy: 0.5556\n"
     ]
    },
    {
     "name": "stderr",
     "output_type": "stream",
     "text": [
      "\u001b[32m[I 2022-05-31 18:21:13,504]\u001b[0m Trial 321 finished with value: 0.5555555820465088 and parameters: {'n_layers': 3, 'n_units': 100, 'dropout': 0.4, 'optimizer': 'Adam'}. Best is trial 88 with value: 0.8888888955116272.\u001b[0m\n"
     ]
    },
    {
     "name": "stdout",
     "output_type": "stream",
     "text": [
      "1/1 [==============================] - 0s 16ms/step - loss: 0.5918 - accuracy: 0.7778\n"
     ]
    },
    {
     "name": "stderr",
     "output_type": "stream",
     "text": [
      "\u001b[32m[I 2022-05-31 18:21:14,386]\u001b[0m Trial 322 finished with value: 0.7777777910232544 and parameters: {'n_layers': 3, 'n_units': 100, 'dropout': 0.1, 'optimizer': 'Adam'}. Best is trial 88 with value: 0.8888888955116272.\u001b[0m\n"
     ]
    },
    {
     "name": "stdout",
     "output_type": "stream",
     "text": [
      "1/1 [==============================] - 0s 31ms/step - loss: 0.5669 - accuracy: 0.8333\n"
     ]
    },
    {
     "name": "stderr",
     "output_type": "stream",
     "text": [
      "\u001b[32m[I 2022-05-31 18:21:15,449]\u001b[0m Trial 323 finished with value: 0.8333333134651184 and parameters: {'n_layers': 4, 'n_units': 200, 'dropout': 0.0, 'optimizer': 'RMSprop'}. Best is trial 88 with value: 0.8888888955116272.\u001b[0m\n"
     ]
    },
    {
     "name": "stdout",
     "output_type": "stream",
     "text": [
      "1/1 [==============================] - 0s 16ms/step - loss: 0.6293 - accuracy: 0.8333\n"
     ]
    },
    {
     "name": "stderr",
     "output_type": "stream",
     "text": [
      "\u001b[32m[I 2022-05-31 18:21:16,565]\u001b[0m Trial 324 finished with value: 0.8333333134651184 and parameters: {'n_layers': 4, 'n_units': 250, 'dropout': 0.0, 'optimizer': 'RMSprop'}. Best is trial 88 with value: 0.8888888955116272.\u001b[0m\n"
     ]
    },
    {
     "name": "stdout",
     "output_type": "stream",
     "text": [
      "1/1 [==============================] - 0s 16ms/step - loss: 0.5892 - accuracy: 0.7222\n"
     ]
    },
    {
     "name": "stderr",
     "output_type": "stream",
     "text": [
      "\u001b[32m[I 2022-05-31 18:21:17,681]\u001b[0m Trial 325 finished with value: 0.7222222089767456 and parameters: {'n_layers': 4, 'n_units': 250, 'dropout': 0.2, 'optimizer': 'RMSprop'}. Best is trial 88 with value: 0.8888888955116272.\u001b[0m\n"
     ]
    },
    {
     "name": "stdout",
     "output_type": "stream",
     "text": [
      "1/1 [==============================] - 0s 16ms/step - loss: 0.6522 - accuracy: 0.7222\n"
     ]
    },
    {
     "name": "stderr",
     "output_type": "stream",
     "text": [
      "\u001b[32m[I 2022-05-31 18:21:18,691]\u001b[0m Trial 326 finished with value: 0.7222222089767456 and parameters: {'n_layers': 3, 'n_units': 250, 'dropout': 0.1, 'optimizer': 'Adam'}. Best is trial 88 with value: 0.8888888955116272.\u001b[0m\n"
     ]
    },
    {
     "name": "stdout",
     "output_type": "stream",
     "text": [
      "1/1 [==============================] - 0s 16ms/step - loss: 0.6303 - accuracy: 0.7222\n"
     ]
    },
    {
     "name": "stderr",
     "output_type": "stream",
     "text": [
      "\u001b[32m[I 2022-05-31 18:21:19,687]\u001b[0m Trial 327 finished with value: 0.7222222089767456 and parameters: {'n_layers': 3, 'n_units': 200, 'dropout': 0.1, 'optimizer': 'RMSprop'}. Best is trial 88 with value: 0.8888888955116272.\u001b[0m\n"
     ]
    },
    {
     "name": "stdout",
     "output_type": "stream",
     "text": [
      "1/1 [==============================] - 0s 31ms/step - loss: 0.5330 - accuracy: 0.7778\n"
     ]
    },
    {
     "name": "stderr",
     "output_type": "stream",
     "text": [
      "\u001b[32m[I 2022-05-31 18:21:20,714]\u001b[0m Trial 328 finished with value: 0.7777777910232544 and parameters: {'n_layers': 4, 'n_units': 100, 'dropout': 0.1, 'optimizer': 'Adam'}. Best is trial 88 with value: 0.8888888955116272.\u001b[0m\n"
     ]
    },
    {
     "name": "stdout",
     "output_type": "stream",
     "text": [
      "1/1 [==============================] - 0s 16ms/step - loss: 0.6675 - accuracy: 0.7778\n"
     ]
    },
    {
     "name": "stderr",
     "output_type": "stream",
     "text": [
      "\u001b[32m[I 2022-05-31 18:21:21,705]\u001b[0m Trial 329 finished with value: 0.7777777910232544 and parameters: {'n_layers': 3, 'n_units': 200, 'dropout': 0.0, 'optimizer': 'RMSprop'}. Best is trial 88 with value: 0.8888888955116272.\u001b[0m\n"
     ]
    },
    {
     "name": "stdout",
     "output_type": "stream",
     "text": [
      "1/1 [==============================] - 0s 16ms/step - loss: 0.7601 - accuracy: 0.7222\n"
     ]
    },
    {
     "name": "stderr",
     "output_type": "stream",
     "text": [
      "\u001b[32m[I 2022-05-31 18:21:23,000]\u001b[0m Trial 330 finished with value: 0.7222222089767456 and parameters: {'n_layers': 3, 'n_units': 200, 'dropout': 0.0, 'optimizer': 'RMSprop'}. Best is trial 88 with value: 0.8888888955116272.\u001b[0m\n"
     ]
    },
    {
     "name": "stdout",
     "output_type": "stream",
     "text": [
      "1/1 [==============================] - 0s 16ms/step - loss: 0.6206 - accuracy: 0.8333\n"
     ]
    },
    {
     "name": "stderr",
     "output_type": "stream",
     "text": [
      "\u001b[32m[I 2022-05-31 18:21:24,158]\u001b[0m Trial 331 finished with value: 0.8333333134651184 and parameters: {'n_layers': 4, 'n_units': 200, 'dropout': 0.0, 'optimizer': 'RMSprop'}. Best is trial 88 with value: 0.8888888955116272.\u001b[0m\n"
     ]
    },
    {
     "name": "stdout",
     "output_type": "stream",
     "text": [
      "1/1 [==============================] - 0s 16ms/step - loss: 0.7443 - accuracy: 0.8333\n"
     ]
    },
    {
     "name": "stderr",
     "output_type": "stream",
     "text": [
      "\u001b[32m[I 2022-05-31 18:21:25,312]\u001b[0m Trial 332 finished with value: 0.8333333134651184 and parameters: {'n_layers': 4, 'n_units': 250, 'dropout': 0.0, 'optimizer': 'RMSprop'}. Best is trial 88 with value: 0.8888888955116272.\u001b[0m\n"
     ]
    },
    {
     "name": "stdout",
     "output_type": "stream",
     "text": [
      "1/1 [==============================] - 0s 16ms/step - loss: 0.6119 - accuracy: 0.8333\n"
     ]
    },
    {
     "name": "stderr",
     "output_type": "stream",
     "text": [
      "\u001b[32m[I 2022-05-31 18:21:26,345]\u001b[0m Trial 333 finished with value: 0.8333333134651184 and parameters: {'n_layers': 4, 'n_units': 200, 'dropout': 0.0, 'optimizer': 'RMSprop'}. Best is trial 88 with value: 0.8888888955116272.\u001b[0m\n"
     ]
    },
    {
     "name": "stdout",
     "output_type": "stream",
     "text": [
      "1/1 [==============================] - 0s 16ms/step - loss: 0.7224 - accuracy: 0.8333\n"
     ]
    },
    {
     "name": "stderr",
     "output_type": "stream",
     "text": [
      "\u001b[32m[I 2022-05-31 18:21:27,532]\u001b[0m Trial 334 finished with value: 0.8333333134651184 and parameters: {'n_layers': 4, 'n_units': 250, 'dropout': 0.1, 'optimizer': 'RMSprop'}. Best is trial 88 with value: 0.8888888955116272.\u001b[0m\n"
     ]
    },
    {
     "name": "stdout",
     "output_type": "stream",
     "text": [
      "1/1 [==============================] - 0s 16ms/step - loss: 0.6021 - accuracy: 0.6667\n"
     ]
    },
    {
     "name": "stderr",
     "output_type": "stream",
     "text": [
      "\u001b[32m[I 2022-05-31 18:21:28,484]\u001b[0m Trial 335 finished with value: 0.6666666865348816 and parameters: {'n_layers': 5, 'n_units': 100, 'dropout': 0.1, 'optimizer': 'Adam'}. Best is trial 88 with value: 0.8888888955116272.\u001b[0m\n"
     ]
    },
    {
     "name": "stdout",
     "output_type": "stream",
     "text": [
      "1/1 [==============================] - 0s 16ms/step - loss: 0.9597 - accuracy: 0.8333\n"
     ]
    },
    {
     "name": "stderr",
     "output_type": "stream",
     "text": [
      "\u001b[32m[I 2022-05-31 18:21:29,789]\u001b[0m Trial 336 finished with value: 0.8333333134651184 and parameters: {'n_layers': 4, 'n_units': 250, 'dropout': 0.1, 'optimizer': 'Adam'}. Best is trial 88 with value: 0.8888888955116272.\u001b[0m\n"
     ]
    },
    {
     "name": "stdout",
     "output_type": "stream",
     "text": [
      "1/1 [==============================] - 0s 16ms/step - loss: 0.5689 - accuracy: 0.7222\n"
     ]
    },
    {
     "name": "stderr",
     "output_type": "stream",
     "text": [
      "\u001b[32m[I 2022-05-31 18:21:30,861]\u001b[0m Trial 337 finished with value: 0.7222222089767456 and parameters: {'n_layers': 4, 'n_units': 50, 'dropout': 0.1, 'optimizer': 'RMSprop'}. Best is trial 88 with value: 0.8888888955116272.\u001b[0m\n"
     ]
    },
    {
     "name": "stdout",
     "output_type": "stream",
     "text": [
      "1/1 [==============================] - 0s 16ms/step - loss: 0.4858 - accuracy: 0.8333\n"
     ]
    },
    {
     "name": "stderr",
     "output_type": "stream",
     "text": [
      "\u001b[32m[I 2022-05-31 18:21:31,858]\u001b[0m Trial 338 finished with value: 0.8333333134651184 and parameters: {'n_layers': 3, 'n_units': 200, 'dropout': 0.1, 'optimizer': 'RMSprop'}. Best is trial 88 with value: 0.8888888955116272.\u001b[0m\n"
     ]
    },
    {
     "name": "stdout",
     "output_type": "stream",
     "text": [
      "1/1 [==============================] - 0s 16ms/step - loss: 0.8700 - accuracy: 0.7778\n"
     ]
    },
    {
     "name": "stderr",
     "output_type": "stream",
     "text": [
      "\u001b[32m[I 2022-05-31 18:21:32,910]\u001b[0m Trial 339 finished with value: 0.7777777910232544 and parameters: {'n_layers': 4, 'n_units': 250, 'dropout': 0.0, 'optimizer': 'RMSprop'}. Best is trial 88 with value: 0.8888888955116272.\u001b[0m\n"
     ]
    },
    {
     "name": "stdout",
     "output_type": "stream",
     "text": [
      "1/1 [==============================] - 0s 16ms/step - loss: 0.6428 - accuracy: 0.7778\n"
     ]
    },
    {
     "name": "stderr",
     "output_type": "stream",
     "text": [
      "\u001b[32m[I 2022-05-31 18:21:34,091]\u001b[0m Trial 340 finished with value: 0.7777777910232544 and parameters: {'n_layers': 3, 'n_units': 250, 'dropout': 0.1, 'optimizer': 'Adam'}. Best is trial 88 with value: 0.8888888955116272.\u001b[0m\n"
     ]
    },
    {
     "name": "stdout",
     "output_type": "stream",
     "text": [
      "1/1 [==============================] - 0s 16ms/step - loss: 0.5615 - accuracy: 0.7778\n"
     ]
    },
    {
     "name": "stderr",
     "output_type": "stream",
     "text": [
      "\u001b[32m[I 2022-05-31 18:21:35,017]\u001b[0m Trial 341 finished with value: 0.7777777910232544 and parameters: {'n_layers': 4, 'n_units': 250, 'dropout': 0.1, 'optimizer': 'Adam'}. Best is trial 88 with value: 0.8888888955116272.\u001b[0m\n"
     ]
    },
    {
     "name": "stdout",
     "output_type": "stream",
     "text": [
      "1/1 [==============================] - 0s 16ms/step - loss: 0.9263 - accuracy: 0.7222\n"
     ]
    },
    {
     "name": "stderr",
     "output_type": "stream",
     "text": [
      "\u001b[32m[I 2022-05-31 18:21:36,087]\u001b[0m Trial 342 finished with value: 0.7222222089767456 and parameters: {'n_layers': 4, 'n_units': 250, 'dropout': 0.1, 'optimizer': 'Adam'}. Best is trial 88 with value: 0.8888888955116272.\u001b[0m\n"
     ]
    },
    {
     "name": "stdout",
     "output_type": "stream",
     "text": [
      "1/1 [==============================] - 0s 16ms/step - loss: 0.7082 - accuracy: 0.7778\n"
     ]
    },
    {
     "name": "stderr",
     "output_type": "stream",
     "text": [
      "\u001b[32m[I 2022-05-31 18:21:37,139]\u001b[0m Trial 343 finished with value: 0.7777777910232544 and parameters: {'n_layers': 4, 'n_units': 250, 'dropout': 0.2, 'optimizer': 'Adam'}. Best is trial 88 with value: 0.8888888955116272.\u001b[0m\n"
     ]
    },
    {
     "name": "stdout",
     "output_type": "stream",
     "text": [
      "1/1 [==============================] - 0s 16ms/step - loss: 0.5945 - accuracy: 0.8333\n"
     ]
    },
    {
     "name": "stderr",
     "output_type": "stream",
     "text": [
      "\u001b[32m[I 2022-05-31 18:21:38,070]\u001b[0m Trial 344 finished with value: 0.8333333134651184 and parameters: {'n_layers': 3, 'n_units': 250, 'dropout': 0.1, 'optimizer': 'Adam'}. Best is trial 88 with value: 0.8888888955116272.\u001b[0m\n"
     ]
    },
    {
     "name": "stdout",
     "output_type": "stream",
     "text": [
      "1/1 [==============================] - 0s 16ms/step - loss: 0.5500 - accuracy: 0.8333\n"
     ]
    },
    {
     "name": "stderr",
     "output_type": "stream",
     "text": [
      "\u001b[32m[I 2022-05-31 18:21:39,131]\u001b[0m Trial 345 finished with value: 0.8333333134651184 and parameters: {'n_layers': 4, 'n_units': 200, 'dropout': 0.0, 'optimizer': 'RMSprop'}. Best is trial 88 with value: 0.8888888955116272.\u001b[0m\n"
     ]
    },
    {
     "name": "stdout",
     "output_type": "stream",
     "text": [
      "1/1 [==============================] - 0s 16ms/step - loss: 0.6055 - accuracy: 0.6111\n"
     ]
    },
    {
     "name": "stderr",
     "output_type": "stream",
     "text": [
      "\u001b[32m[I 2022-05-31 18:21:40,245]\u001b[0m Trial 346 finished with value: 0.6111111044883728 and parameters: {'n_layers': 4, 'n_units': 200, 'dropout': 0.30000000000000004, 'optimizer': 'RMSprop'}. Best is trial 88 with value: 0.8888888955116272.\u001b[0m\n"
     ]
    },
    {
     "name": "stdout",
     "output_type": "stream",
     "text": [
      "1/1 [==============================] - 0s 16ms/step - loss: 0.7399 - accuracy: 0.6667\n"
     ]
    },
    {
     "name": "stderr",
     "output_type": "stream",
     "text": [
      "\u001b[32m[I 2022-05-31 18:21:41,400]\u001b[0m Trial 347 finished with value: 0.6666666865348816 and parameters: {'n_layers': 4, 'n_units': 250, 'dropout': 0.2, 'optimizer': 'RMSprop'}. Best is trial 88 with value: 0.8888888955116272.\u001b[0m\n"
     ]
    },
    {
     "name": "stdout",
     "output_type": "stream",
     "text": [
      "1/1 [==============================] - 0s 16ms/step - loss: 1.0510 - accuracy: 0.7778\n"
     ]
    },
    {
     "name": "stderr",
     "output_type": "stream",
     "text": [
      "\u001b[32m[I 2022-05-31 18:21:42,440]\u001b[0m Trial 348 finished with value: 0.7777777910232544 and parameters: {'n_layers': 3, 'n_units': 250, 'dropout': 0.1, 'optimizer': 'Adam'}. Best is trial 88 with value: 0.8888888955116272.\u001b[0m\n"
     ]
    },
    {
     "name": "stdout",
     "output_type": "stream",
     "text": [
      "1/1 [==============================] - 0s 16ms/step - loss: 0.7308 - accuracy: 0.2778\n"
     ]
    },
    {
     "name": "stderr",
     "output_type": "stream",
     "text": [
      "\u001b[32m[I 2022-05-31 18:21:43,306]\u001b[0m Trial 349 finished with value: 0.2777777910232544 and parameters: {'n_layers': 3, 'n_units': 250, 'dropout': 0.1, 'optimizer': 'SGD'}. Best is trial 88 with value: 0.8888888955116272.\u001b[0m\n"
     ]
    },
    {
     "name": "stdout",
     "output_type": "stream",
     "text": [
      "1/1 [==============================] - 0s 16ms/step - loss: 0.4381 - accuracy: 0.8333\n"
     ]
    },
    {
     "name": "stderr",
     "output_type": "stream",
     "text": [
      "\u001b[32m[I 2022-05-31 18:21:44,379]\u001b[0m Trial 350 finished with value: 0.8333333134651184 and parameters: {'n_layers': 3, 'n_units': 200, 'dropout': 0.1, 'optimizer': 'RMSprop'}. Best is trial 88 with value: 0.8888888955116272.\u001b[0m\n"
     ]
    },
    {
     "name": "stdout",
     "output_type": "stream",
     "text": [
      "1/1 [==============================] - 0s 15ms/step - loss: 0.5870 - accuracy: 0.7778\n"
     ]
    },
    {
     "name": "stderr",
     "output_type": "stream",
     "text": [
      "\u001b[32m[I 2022-05-31 18:21:45,552]\u001b[0m Trial 351 finished with value: 0.7777777910232544 and parameters: {'n_layers': 3, 'n_units': 250, 'dropout': 0.1, 'optimizer': 'Adam'}. Best is trial 88 with value: 0.8888888955116272.\u001b[0m\n"
     ]
    },
    {
     "name": "stdout",
     "output_type": "stream",
     "text": [
      "1/1 [==============================] - 0s 16ms/step - loss: 0.8488 - accuracy: 0.7778\n"
     ]
    },
    {
     "name": "stderr",
     "output_type": "stream",
     "text": [
      "\u001b[32m[I 2022-05-31 18:21:46,626]\u001b[0m Trial 352 finished with value: 0.7777777910232544 and parameters: {'n_layers': 4, 'n_units': 250, 'dropout': 0.1, 'optimizer': 'Adam'}. Best is trial 88 with value: 0.8888888955116272.\u001b[0m\n"
     ]
    },
    {
     "name": "stdout",
     "output_type": "stream",
     "text": [
      "1/1 [==============================] - 0s 16ms/step - loss: 1.2498 - accuracy: 0.7222\n"
     ]
    },
    {
     "name": "stderr",
     "output_type": "stream",
     "text": [
      "\u001b[32m[I 2022-05-31 18:21:47,918]\u001b[0m Trial 353 finished with value: 0.7222222089767456 and parameters: {'n_layers': 4, 'n_units': 250, 'dropout': 0.1, 'optimizer': 'Adam'}. Best is trial 88 with value: 0.8888888955116272.\u001b[0m\n"
     ]
    },
    {
     "name": "stdout",
     "output_type": "stream",
     "text": [
      "1/1 [==============================] - 0s 16ms/step - loss: 0.6094 - accuracy: 0.8333\n"
     ]
    },
    {
     "name": "stderr",
     "output_type": "stream",
     "text": [
      "\u001b[32m[I 2022-05-31 18:21:48,933]\u001b[0m Trial 354 finished with value: 0.8333333134651184 and parameters: {'n_layers': 3, 'n_units': 250, 'dropout': 0.0, 'optimizer': 'RMSprop'}. Best is trial 88 with value: 0.8888888955116272.\u001b[0m\n"
     ]
    },
    {
     "name": "stdout",
     "output_type": "stream",
     "text": [
      "1/1 [==============================] - 0s 16ms/step - loss: 0.6071 - accuracy: 0.6667\n"
     ]
    },
    {
     "name": "stderr",
     "output_type": "stream",
     "text": [
      "\u001b[32m[I 2022-05-31 18:21:50,061]\u001b[0m Trial 355 finished with value: 0.6666666865348816 and parameters: {'n_layers': 4, 'n_units': 150, 'dropout': 0.2, 'optimizer': 'RMSprop'}. Best is trial 88 with value: 0.8888888955116272.\u001b[0m\n"
     ]
    },
    {
     "name": "stdout",
     "output_type": "stream",
     "text": [
      "1/1 [==============================] - 0s 16ms/step - loss: 0.6505 - accuracy: 0.7222\n"
     ]
    },
    {
     "name": "stderr",
     "output_type": "stream",
     "text": [
      "\u001b[32m[I 2022-05-31 18:21:51,314]\u001b[0m Trial 356 finished with value: 0.7222222089767456 and parameters: {'n_layers': 4, 'n_units': 150, 'dropout': 0.2, 'optimizer': 'RMSprop'}. Best is trial 88 with value: 0.8888888955116272.\u001b[0m\n"
     ]
    },
    {
     "name": "stdout",
     "output_type": "stream",
     "text": [
      "1/1 [==============================] - 0s 16ms/step - loss: 0.5391 - accuracy: 0.8333\n"
     ]
    },
    {
     "name": "stderr",
     "output_type": "stream",
     "text": [
      "\u001b[32m[I 2022-05-31 18:21:52,366]\u001b[0m Trial 357 finished with value: 0.8333333134651184 and parameters: {'n_layers': 3, 'n_units': 200, 'dropout': 0.0, 'optimizer': 'RMSprop'}. Best is trial 88 with value: 0.8888888955116272.\u001b[0m\n"
     ]
    },
    {
     "name": "stdout",
     "output_type": "stream",
     "text": [
      "1/1 [==============================] - 0s 16ms/step - loss: 0.7448 - accuracy: 0.6667\n"
     ]
    },
    {
     "name": "stderr",
     "output_type": "stream",
     "text": [
      "\u001b[32m[I 2022-05-31 18:21:53,811]\u001b[0m Trial 358 finished with value: 0.6666666865348816 and parameters: {'n_layers': 4, 'n_units': 200, 'dropout': 0.0, 'optimizer': 'RMSprop'}. Best is trial 88 with value: 0.8888888955116272.\u001b[0m\n"
     ]
    },
    {
     "name": "stdout",
     "output_type": "stream",
     "text": [
      "1/1 [==============================] - 0s 16ms/step - loss: 0.6579 - accuracy: 0.6667\n"
     ]
    },
    {
     "name": "stderr",
     "output_type": "stream",
     "text": [
      "\u001b[32m[I 2022-05-31 18:21:55,311]\u001b[0m Trial 359 finished with value: 0.6666666865348816 and parameters: {'n_layers': 4, 'n_units': 100, 'dropout': 0.2, 'optimizer': 'RMSprop'}. Best is trial 88 with value: 0.8888888955116272.\u001b[0m\n"
     ]
    }
   ],
   "source": [
    "sampler = optuna.samplers.TPESampler(seed=0)\n",
    "tf.keras.utils.set_random_seed(0)\n",
    "study = optuna.create_study(direction=\"maximize\", sampler=sampler)\n",
    "study.optimize(objectiveSoftmax, n_trials=360)\n",
    "# n_trials = 4 x 5 x 6 x 3 = 360"
   ]
  },
  {
   "cell_type": "code",
   "execution_count": 20,
   "id": "cdf62f31",
   "metadata": {},
   "outputs": [
    {
     "data": {
      "text/plain": [
       "FrozenTrial(number=88, values=[0.8888888955116272], datetime_start=datetime.datetime(2022, 5, 31, 18, 17, 8, 301090), datetime_complete=datetime.datetime(2022, 5, 31, 18, 17, 9, 616132), params={'n_layers': 4, 'n_units': 250, 'dropout': 0.0, 'optimizer': 'RMSprop'}, distributions={'n_layers': IntUniformDistribution(high=5, low=2, step=1), 'n_units': IntUniformDistribution(high=250, low=50, step=50), 'dropout': DiscreteUniformDistribution(high=0.5, low=0.0, q=0.1), 'optimizer': CategoricalDistribution(choices=('RMSprop', 'SGD', 'Adam'))}, user_attrs={}, system_attrs={}, intermediate_values={}, trial_id=88, state=TrialState.COMPLETE, value=None)"
      ]
     },
     "execution_count": 20,
     "metadata": {},
     "output_type": "execute_result"
    }
   ],
   "source": [
    "study.best_trial"
   ]
  },
  {
   "cell_type": "markdown",
   "id": "dcc0ce7c",
   "metadata": {},
   "source": [
    "La red con los parámetros optimizados es la siguiente:"
   ]
  },
  {
   "cell_type": "code",
   "execution_count": 21,
   "id": "19d7dcf6",
   "metadata": {},
   "outputs": [
    {
     "name": "stdout",
     "output_type": "stream",
     "text": [
      "Epoch 1/100\n",
      "2/2 [==============================] - 1s 190ms/step - loss: 0.6894 - acc: 0.5098 - val_loss: 0.6921 - val_acc: 0.5882\n",
      "Epoch 2/100\n",
      "2/2 [==============================] - 0s 32ms/step - loss: 0.5134 - acc: 0.7255 - val_loss: 1.0968 - val_acc: 0.5882\n",
      "Epoch 3/100\n",
      "2/2 [==============================] - 0s 31ms/step - loss: 0.5424 - acc: 0.7059 - val_loss: 0.7168 - val_acc: 0.7059\n",
      "Epoch 4/100\n",
      "2/2 [==============================] - 0s 25ms/step - loss: 0.2312 - acc: 0.9804 - val_loss: 0.7899 - val_acc: 0.7059\n",
      "Epoch 5/100\n",
      "2/2 [==============================] - 0s 26ms/step - loss: 0.0937 - acc: 0.9804 - val_loss: 1.0427 - val_acc: 0.7647\n",
      "Epoch 6/100\n",
      "2/2 [==============================] - 0s 32ms/step - loss: 0.0463 - acc: 1.0000 - val_loss: 0.9166 - val_acc: 0.6471\n",
      "Epoch 7/100\n",
      "2/2 [==============================] - 0s 24ms/step - loss: 0.0194 - acc: 1.0000 - val_loss: 1.0213 - val_acc: 0.7059\n",
      "Epoch 8/100\n",
      "2/2 [==============================] - 0s 29ms/step - loss: 0.0078 - acc: 1.0000 - val_loss: 1.1460 - val_acc: 0.7059\n",
      "Epoch 9/100\n",
      "2/2 [==============================] - 0s 33ms/step - loss: 0.0047 - acc: 1.0000 - val_loss: 1.1906 - val_acc: 0.7059\n",
      "Epoch 10/100\n",
      "2/2 [==============================] - 0s 27ms/step - loss: 0.0032 - acc: 1.0000 - val_loss: 1.2470 - val_acc: 0.7059\n",
      "1/1 [==============================] - 0s 17ms/step - loss: 0.7053 - acc: 0.8333\n",
      "Accuracy: 83.33%\n"
     ]
    }
   ],
   "source": [
    "tf.keras.utils.set_random_seed(0)\n",
    "\n",
    "# Definir y entrenar el modelo\n",
    "modelFC_optuna = models.Sequential()\n",
    "modelFC_optuna.add(layers.Dense(250, activation=\"relu\", input_shape=(410,)))\n",
    "modelFC_optuna.add(layers.Dense(250, activation=\"relu\"))\n",
    "modelFC_optuna.add(layers.Dense(250, activation=\"relu\"))\n",
    "modelFC_optuna.add(layers.Dense(250, activation=\"relu\"))\n",
    "modelFC_optuna.add(layers.Dense(2, activation=\"softmax\"))\n",
    "\n",
    "modelFC_optuna.compile(loss=\"binary_crossentropy\", optimizer=\"rmsprop\", metrics=[\"acc\"])\n",
    "es = callbacks.EarlyStopping(monitor=\"val_acc\", min_delta=0.01, patience=5)\n",
    "modelFC_optuna.fit(X_train, y_train_softmax, epochs=100, validation_split=0.25, callbacks=[es])\n",
    "\n",
    "# Precisión en partición de test\n",
    "loss, accuracy = modelFC_optuna.evaluate(X_test, y_test_softmax)\n",
    "print(\"Accuracy: {:0.2f}%\".format(accuracy * 100))"
   ]
  },
  {
   "cell_type": "code",
   "execution_count": 30,
   "id": "fa5ffa55",
   "metadata": {},
   "outputs": [
    {
     "name": "stdout",
     "output_type": "stream",
     "text": [
      "Epoch 1/100\n",
      "2/2 [==============================] - 1s 223ms/step - loss: 0.6755 - acc: 0.5882 - val_loss: 0.6444 - val_acc: 0.5882\n",
      "Epoch 2/100\n",
      "2/2 [==============================] - 0s 32ms/step - loss: 0.6054 - acc: 0.6275 - val_loss: 0.6108 - val_acc: 0.6471\n",
      "Epoch 3/100\n",
      "2/2 [==============================] - 0s 78ms/step - loss: 0.4580 - acc: 0.8627 - val_loss: 0.5695 - val_acc: 0.7059\n",
      "Epoch 4/100\n",
      "2/2 [==============================] - 0s 62ms/step - loss: 0.3061 - acc: 0.9216 - val_loss: 0.5952 - val_acc: 0.7059\n",
      "Epoch 5/100\n",
      "2/2 [==============================] - 0s 78ms/step - loss: 0.2151 - acc: 0.9804 - val_loss: 0.5713 - val_acc: 0.7647\n",
      "Epoch 6/100\n",
      "2/2 [==============================] - 0s 76ms/step - loss: 0.1228 - acc: 1.0000 - val_loss: 0.5352 - val_acc: 0.7059\n",
      "Epoch 7/100\n",
      "2/2 [==============================] - 0s 48ms/step - loss: 0.0535 - acc: 1.0000 - val_loss: 0.6135 - val_acc: 0.7059\n",
      "Epoch 8/100\n",
      "2/2 [==============================] - 0s 34ms/step - loss: 0.0545 - acc: 1.0000 - val_loss: 0.5260 - val_acc: 0.7647\n",
      "Epoch 9/100\n",
      "2/2 [==============================] - 0s 48ms/step - loss: 0.0231 - acc: 1.0000 - val_loss: 0.4356 - val_acc: 0.7059\n",
      "Epoch 10/100\n",
      "2/2 [==============================] - 0s 47ms/step - loss: 0.0106 - acc: 1.0000 - val_loss: 0.4419 - val_acc: 0.7059\n",
      "1/1 [==============================] - 0s 16ms/step - loss: 0.5961 - acc: 0.8333\n",
      "Accuracy: 83.33%\n"
     ]
    }
   ],
   "source": [
    "tf.keras.utils.set_random_seed(0)\n",
    "\n",
    "# Definir y entrenar el modelo\n",
    "modelFC_optuna = models.Sequential()\n",
    "modelFC_optuna.add(layers.Dense(150, activation=\"relu\", input_shape=(410,)))\n",
    "modelFC_optuna.add(layers.Dropout(0.1))\n",
    "modelFC_optuna.add(layers.Dense(150, activation=\"relu\"))\n",
    "modelFC_optuna.add(layers.Dropout(0.1))\n",
    "modelFC_optuna.add(layers.Dense(150, activation=\"relu\"))\n",
    "modelFC_optuna.add(layers.Dropout(0.1))\n",
    "modelFC_optuna.add(layers.Dense(150, activation=\"relu\"))\n",
    "modelFC_optuna.add(layers.Dropout(0.1))\n",
    "modelFC_optuna.add(layers.Dense(2, activation=\"softmax\"))\n",
    "\n",
    "modelFC_optuna.compile(loss=\"binary_crossentropy\", optimizer=\"rmsprop\", metrics=[\"acc\"])\n",
    "es = callbacks.EarlyStopping(monitor=\"val_acc\", min_delta=0.01, patience=5)\n",
    "modelFC_optuna.fit(X_train, y_train_softmax, epochs=100, validation_split=0.25, callbacks=[es])\n",
    "\n",
    "# Precisión en partición de test\n",
    "loss, accuracy = modelFC_optuna.evaluate(X_test, y_test_softmax)\n",
    "print(\"Accuracy: {:0.2f}%\".format(accuracy * 100))"
   ]
  },
  {
   "cell_type": "markdown",
   "id": "c9fa31a6",
   "metadata": {},
   "source": [
    "Obtenemos un mayor accuracy utilizando la activación softmax. Sin embargo, parece que ahora la red tiene un problema de sobreajuste, ya que por ejemplo en la última época hay una diferencia entre la precisión en train y en validación del 30% aproximadamente. Incluso, desde la 6ª etapa, la red clasifica los datos en train con una precisión del 100%. Vamos a tratar de reducir esta diferencia probando distintos tipos de regularización."
   ]
  },
  {
   "cell_type": "code",
   "execution_count": 23,
   "id": "ddc9d896",
   "metadata": {},
   "outputs": [
    {
     "name": "stdout",
     "output_type": "stream",
     "text": [
      "Epoch 1/100\n",
      "2/2 [==============================] - 1s 143ms/step - loss: 0.6755 - acc: 0.5882 - val_loss: 0.6444 - val_acc: 0.5882\n",
      "Epoch 2/100\n",
      "2/2 [==============================] - 0s 24ms/step - loss: 0.6054 - acc: 0.6275 - val_loss: 0.6108 - val_acc: 0.6471\n",
      "Epoch 3/100\n",
      "2/2 [==============================] - 0s 28ms/step - loss: 0.4580 - acc: 0.8627 - val_loss: 0.5695 - val_acc: 0.7059\n",
      "Epoch 4/100\n",
      "2/2 [==============================] - 0s 31ms/step - loss: 0.3061 - acc: 0.9216 - val_loss: 0.5952 - val_acc: 0.7059\n",
      "Epoch 5/100\n",
      "2/2 [==============================] - 0s 24ms/step - loss: 0.2151 - acc: 0.9804 - val_loss: 0.5713 - val_acc: 0.7647\n",
      "Epoch 6/100\n",
      "2/2 [==============================] - 0s 23ms/step - loss: 0.1228 - acc: 1.0000 - val_loss: 0.5352 - val_acc: 0.7059\n",
      "Epoch 7/100\n",
      "2/2 [==============================] - 0s 32ms/step - loss: 0.0535 - acc: 1.0000 - val_loss: 0.6135 - val_acc: 0.7059\n",
      "Epoch 8/100\n",
      "2/2 [==============================] - 0s 25ms/step - loss: 0.0545 - acc: 1.0000 - val_loss: 0.5260 - val_acc: 0.7647\n",
      "Epoch 9/100\n",
      "2/2 [==============================] - 0s 33ms/step - loss: 0.0231 - acc: 1.0000 - val_loss: 0.4356 - val_acc: 0.7059\n",
      "Epoch 10/100\n",
      "2/2 [==============================] - 0s 25ms/step - loss: 0.0106 - acc: 1.0000 - val_loss: 0.4419 - val_acc: 0.7059\n",
      "1/1 [==============================] - 0s 8ms/step - loss: 0.5961 - acc: 0.8333\n",
      "Accuracy : 83.33% ----- Regularización: None \n",
      "\n",
      "Epoch 1/100\n",
      "2/2 [==============================] - 1s 208ms/step - loss: 47.7122 - acc: 0.4118 - val_loss: 44.9010 - val_acc: 0.5294\n",
      "Epoch 2/100\n",
      "2/2 [==============================] - 0s 17ms/step - loss: 44.4322 - acc: 0.6275 - val_loss: 42.5910 - val_acc: 0.5882\n",
      "Epoch 3/100\n",
      "2/2 [==============================] - 0s 28ms/step - loss: 42.2029 - acc: 0.5882 - val_loss: 40.7085 - val_acc: 0.5882\n",
      "Epoch 4/100\n",
      "2/2 [==============================] - 0s 31ms/step - loss: 40.3647 - acc: 0.5686 - val_loss: 39.0597 - val_acc: 0.5882\n",
      "Epoch 5/100\n",
      "2/2 [==============================] - 0s 30ms/step - loss: 38.7404 - acc: 0.5882 - val_loss: 37.5633 - val_acc: 0.5882\n",
      "Epoch 6/100\n",
      "2/2 [==============================] - 0s 20ms/step - loss: 37.2476 - acc: 0.5882 - val_loss: 36.1711 - val_acc: 0.5882\n",
      "Epoch 7/100\n",
      "2/2 [==============================] - 0s 15ms/step - loss: 35.8820 - acc: 0.5882 - val_loss: 34.8690 - val_acc: 0.5882\n",
      "1/1 [==============================] - 0s 17ms/step - loss: 34.8821 - acc: 0.4444\n",
      "Accuracy : 44.44% ----- Regularización: l1 \n",
      "\n",
      "Epoch 1/100\n",
      "2/2 [==============================] - 1s 202ms/step - loss: 5.1456 - acc: 0.4118 - val_loss: 4.7832 - val_acc: 0.5882\n",
      "Epoch 2/100\n",
      "2/2 [==============================] - 0s 26ms/step - loss: 4.6929 - acc: 0.6667 - val_loss: 4.5222 - val_acc: 0.5882\n",
      "Epoch 3/100\n",
      "2/2 [==============================] - 0s 36ms/step - loss: 4.3921 - acc: 0.7255 - val_loss: 4.3129 - val_acc: 0.6471\n",
      "Epoch 4/100\n",
      "2/2 [==============================] - 0s 27ms/step - loss: 4.1007 - acc: 0.9020 - val_loss: 4.1555 - val_acc: 0.6471\n",
      "Epoch 5/100\n",
      "2/2 [==============================] - 0s 34ms/step - loss: 3.8727 - acc: 0.8627 - val_loss: 4.1123 - val_acc: 0.6471\n",
      "Epoch 6/100\n",
      "2/2 [==============================] - 0s 35ms/step - loss: 3.6371 - acc: 0.8824 - val_loss: 3.9151 - val_acc: 0.7059\n",
      "Epoch 7/100\n",
      "2/2 [==============================] - 0s 23ms/step - loss: 3.4046 - acc: 0.9804 - val_loss: 4.0784 - val_acc: 0.5294\n",
      "Epoch 8/100\n",
      "2/2 [==============================] - 0s 25ms/step - loss: 3.2969 - acc: 0.9412 - val_loss: 3.6872 - val_acc: 0.7647\n",
      "Epoch 9/100\n",
      "2/2 [==============================] - 0s 21ms/step - loss: 3.0576 - acc: 1.0000 - val_loss: 3.5752 - val_acc: 0.7059\n",
      "Epoch 10/100\n",
      "2/2 [==============================] - 0s 27ms/step - loss: 2.9175 - acc: 1.0000 - val_loss: 3.4905 - val_acc: 0.6471\n",
      "Epoch 11/100\n",
      "2/2 [==============================] - 0s 23ms/step - loss: 2.7978 - acc: 1.0000 - val_loss: 3.4360 - val_acc: 0.7059\n",
      "Epoch 12/100\n",
      "2/2 [==============================] - 0s 32ms/step - loss: 2.6867 - acc: 1.0000 - val_loss: 3.3788 - val_acc: 0.7647\n",
      "Epoch 13/100\n",
      "2/2 [==============================] - 0s 32ms/step - loss: 2.5668 - acc: 1.0000 - val_loss: 3.2132 - val_acc: 0.7059\n",
      "1/1 [==============================] - 0s 17ms/step - loss: 3.0150 - acc: 0.7778\n",
      "Accuracy : 77.78% ----- Regularización: l2 \n",
      "\n",
      "Epoch 1/100\n",
      "2/2 [==============================] - 1s 183ms/step - loss: 52.1014 - acc: 0.4118 - val_loss: 48.8762 - val_acc: 0.7059\n",
      "Epoch 2/100\n",
      "2/2 [==============================] - 0s 17ms/step - loss: 48.3576 - acc: 0.7451 - val_loss: 46.2624 - val_acc: 0.7059\n",
      "Epoch 3/100\n",
      "2/2 [==============================] - 0s 15ms/step - loss: 45.8288 - acc: 0.7647 - val_loss: 44.1526 - val_acc: 0.7059\n",
      "Epoch 4/100\n",
      "2/2 [==============================] - 0s 20ms/step - loss: 43.7563 - acc: 0.8431 - val_loss: 42.3087 - val_acc: 0.7059\n",
      "Epoch 5/100\n",
      "2/2 [==============================] - 0s 40ms/step - loss: 41.9468 - acc: 0.8824 - val_loss: 40.6413 - val_acc: 0.6471\n",
      "Epoch 6/100\n",
      "2/2 [==============================] - 0s 37ms/step - loss: 40.2907 - acc: 0.8235 - val_loss: 39.0943 - val_acc: 0.7059\n",
      "1/1 [==============================] - 0s 18ms/step - loss: 39.1126 - acc: 0.5556\n",
      "Accuracy : 55.56% ----- Regularización: l1_l2 \n",
      "\n"
     ]
    }
   ],
   "source": [
    "tf.keras.utils.set_random_seed(0)\n",
    "regularizers = [None, \"l1\", \"l2\", \"l1_l2\"]\n",
    "\n",
    "for regularizer in regularizers:\n",
    "    modelFC_optuna = models.Sequential()\n",
    "    modelFC_optuna.add(layers.Dense(150, activation=\"relu\", input_shape=(410,)))\n",
    "    modelFC_optuna.add(layers.Dropout(0.1))\n",
    "    modelFC_optuna.add(layers.Dense(150, activation=\"relu\", kernel_regularizer=regularizer))\n",
    "    modelFC_optuna.add(layers.Dropout(0.1))\n",
    "    modelFC_optuna.add(layers.Dense(150, activation=\"relu\", kernel_regularizer=regularizer))\n",
    "    modelFC_optuna.add(layers.Dropout(0.1))\n",
    "    modelFC_optuna.add(layers.Dense(150, activation=\"relu\", kernel_regularizer=regularizer))\n",
    "    modelFC_optuna.add(layers.Dropout(0.1))\n",
    "    modelFC_optuna.add(layers.Dense(2, activation=\"softmax\"))\n",
    "\n",
    "    modelFC_optuna.compile(loss=\"binary_crossentropy\", optimizer=\"rmsprop\", metrics=[\"acc\"])\n",
    "    es = callbacks.EarlyStopping(monitor=\"val_acc\", min_delta=0.01, patience=5)\n",
    "    modelFC_optuna.fit(X_train, y_train_softmax, epochs=100, validation_split=0.25, callbacks=[es])\n",
    "\n",
    "    # Precisión en partición de test\n",
    "    loss, accuracy = modelFC_optuna.evaluate(X_test, y_test_softmax)\n",
    "    print(\"Accuracy : {:0.2f}% ----- Regularización: {} \\n\".format(accuracy * 100, regularizer))"
   ]
  },
  {
   "cell_type": "markdown",
   "id": "e7eebafe",
   "metadata": {},
   "source": [
    "Otra posibilidad es tratar de tener en cuenta los datos con peores resultados en el backpropagation, es decir, asignar un mayor peso a esos datos. Esta es la idea del método \"AdaBoost\" que sin embargo no está actualmente implementado en keras. La alternativa será definir propiamente otra función de loss dentro de por ejemplo el optimizador Adam (primera configuración de red neuronal optimizada con ``optuna`` anteriormente).\n",
    "\n",
    "Fuente: https://stackoverflow.com/questions/48720197/weight-samples-if-incorrect-guessed-in-binary-cross-entropy"
   ]
  },
  {
   "cell_type": "code",
   "execution_count": 58,
   "id": "ad055d09",
   "metadata": {},
   "outputs": [],
   "source": [
    "def custom_loss(y_true, y_pred, tp_weight=0.2, tn_weight=0.2, fp_weight=1.2, fn_weight=1.2):\n",
    "    '''\n",
    "    Función de pérdida personalizada para el optimizador de una red neuronal.\n",
    "    El método recibe las predicciones y el valor real de la clasificación, así como los pesos que se desea asignar a los\n",
    "    clasificaciones tanto erróneas como acertadas.\n",
    "    '''\n",
    "    # Get predictions\n",
    "    y_pred_classes = tf.keras.backend.greater_equal(y_pred, 0.5)\n",
    "    y_pred_classes_float = tf.keras.backend.cast(y_pred_classes, tf.keras.backend.floatx())\n",
    "    y_true_float = tf.keras.backend.cast(y_true, tf.keras.backend.floatx())\n",
    "\n",
    "    # Get misclassified examples\n",
    "    wrongly_classified = tf.keras.backend.not_equal(y_true_float, y_pred_classes_float)\n",
    "    wrongly_classified_float = tf.keras.backend.cast(wrongly_classified, tf.keras.backend.floatx())\n",
    "\n",
    "    # Get correctly classified examples\n",
    "    correctly_classified = tf.keras.backend.equal(y_true_float, y_pred_classes_float)\n",
    "    correctly_classified_float = tf.keras.backend.cast(wrongly_classified, tf.keras.backend.floatx())\n",
    "\n",
    "    # Get tp, fp, tn, fn\n",
    "    tp = correctly_classified_float * y_true_float\n",
    "    tn = correctly_classified_float * (1 - y_true_float)\n",
    "    fp = wrongly_classified_float * y_true_float\n",
    "    fn = wrongly_classified_float * (1 - y_true_float)\n",
    "\n",
    "    # Get weights\n",
    "    weight_tensor = tp_weight * tp + fp_weight * fp + tn_weight * tn + fn_weight * fn\n",
    "\n",
    "    loss = tf.keras.metrics.binary_crossentropy(y_true, y_pred)\n",
    "    weighted_loss = loss * weight_tensor\n",
    "    return weighted_loss"
   ]
  },
  {
   "cell_type": "code",
   "execution_count": 59,
   "id": "9bb9f5a6",
   "metadata": {},
   "outputs": [
    {
     "name": "stdout",
     "output_type": "stream",
     "text": [
      "Epoch 1/100\n",
      "2/2 [==============================] - 1s 202ms/step - loss: 0.4190 - acc: 0.5686 - val_loss: 0.5201 - val_acc: 0.4706\n",
      "Epoch 2/100\n",
      "2/2 [==============================] - 0s 22ms/step - loss: 0.4364 - acc: 0.5490 - val_loss: 0.5733 - val_acc: 0.4118\n",
      "Epoch 3/100\n",
      "2/2 [==============================] - 0s 30ms/step - loss: 0.2555 - acc: 0.7059 - val_loss: 0.6253 - val_acc: 0.3529\n",
      "Epoch 4/100\n",
      "2/2 [==============================] - 0s 29ms/step - loss: 0.3604 - acc: 0.6078 - val_loss: 0.5639 - val_acc: 0.4118\n",
      "Epoch 5/100\n",
      "2/2 [==============================] - 0s 33ms/step - loss: 0.3278 - acc: 0.6275 - val_loss: 0.3897 - val_acc: 0.5882\n",
      "Epoch 6/100\n",
      "2/2 [==============================] - 0s 30ms/step - loss: 0.1135 - acc: 0.8431 - val_loss: 0.3289 - val_acc: 0.6471\n",
      "Epoch 7/100\n",
      "2/2 [==============================] - 0s 23ms/step - loss: 0.2608 - acc: 0.6863 - val_loss: 0.3236 - val_acc: 0.6471\n",
      "Epoch 8/100\n",
      "2/2 [==============================] - 0s 31ms/step - loss: 0.1220 - acc: 0.8235 - val_loss: 0.4251 - val_acc: 0.5294\n",
      "Epoch 9/100\n",
      "2/2 [==============================] - 0s 31ms/step - loss: 0.0451 - acc: 0.9216 - val_loss: 0.3675 - val_acc: 0.5882\n",
      "Epoch 10/100\n",
      "2/2 [==============================] - 0s 23ms/step - loss: 0.0209 - acc: 0.9608 - val_loss: 0.3649 - val_acc: 0.5882\n",
      "Epoch 11/100\n",
      "2/2 [==============================] - 0s 30ms/step - loss: 0.0590 - acc: 0.9020 - val_loss: 0.3619 - val_acc: 0.5882\n",
      "1/1 [==============================] - 0s 8ms/step - loss: 0.1660 - acc: 0.7778\n",
      "Accuracy: 77.78%\n"
     ]
    }
   ],
   "source": [
    "tf.keras.utils.set_random_seed(0)\n",
    "\n",
    "# Definir y entrenar el modelo\n",
    "modelFC_CL = models.Sequential()\n",
    "modelFC_CL.add(layers.Dense(200, activation=\"relu\", input_shape=(410,)))\n",
    "modelFC_CL.add(layers.Dropout(0.3))\n",
    "modelFC_CL.add(layers.Dense(200, activation=\"relu\"))\n",
    "modelFC_CL.add(layers.Dropout(0.3))\n",
    "modelFC_CL.add(layers.Dense(200, activation=\"relu\"))\n",
    "modelFC_CL.add(layers.Dropout(0.3))\n",
    "modelFC_CL.add(layers.Dense(200, activation=\"relu\"))\n",
    "modelFC_CL.add(layers.Dropout(0.3))\n",
    "modelFC_CL.add(layers.Dense(1, activation=\"sigmoid\"))\n",
    "\n",
    "modelFC_CL.compile(loss=custom_loss, optimizer=\"adam\", metrics=[\"acc\"])\n",
    "es = callbacks.EarlyStopping(monitor='val_acc', min_delta=0.01, patience=5)\n",
    "modelFC_CL.fit(X_train, y_train, epochs=100, validation_split=0.25, callbacks=[es])\n",
    "# modelFC_CL.fit(X_train, y_train, epochs=100, validation_split=0.25, verbose=0)\n",
    "\n",
    "# Precisión en partición de test\n",
    "loss, accuracy = modelFC_CL.evaluate(X_test, y_test)\n",
    "print(\"Accuracy: {:0.2f}%\".format(accuracy * 100))"
   ]
  },
  {
   "cell_type": "markdown",
   "id": "ffd16fe8",
   "metadata": {},
   "source": [
    "Una alternativa a lo anterior, sería usar un vector de pesos propio y pasarlo a la función ``fit`` del modelo, a través del parámetro ``sample_weight``, en lugar de definir una función de pérdida."
   ]
  },
  {
   "cell_type": "code",
   "execution_count": 49,
   "id": "065bb881",
   "metadata": {},
   "outputs": [
    {
     "name": "stdout",
     "output_type": "stream",
     "text": [
      "2/2 [==============================] - 1s 163ms/step - loss: 0.0102 - acc: 0.5686 - val_loss: 0.0103 - val_acc: 0.4706\n",
      "0.69013834\n",
      "2/2 [==============================] - 0s 60ms/step - loss: 0.3415 - acc: 0.5098 - val_loss: 0.3523 - val_acc: 0.4118\n",
      "0.69202477\n",
      "2/2 [==============================] - 0s 71ms/step - loss: 0.3244 - acc: 0.5686 - val_loss: 0.3483 - val_acc: 0.4706\n",
      "0.6966955\n",
      "2/2 [==============================] - 0s 80ms/step - loss: 0.2943 - acc: 0.6275 - val_loss: 0.3466 - val_acc: 0.5294\n",
      "0.70022327\n",
      "2/2 [==============================] - 0s 66ms/step - loss: 0.2792 - acc: 0.7059 - val_loss: 0.3446 - val_acc: 0.5294\n",
      "0.7028742\n",
      "2/2 [==============================] - 0s 67ms/step - loss: 0.2583 - acc: 0.6863 - val_loss: 0.3432 - val_acc: 0.5882\n",
      "0.7129002\n",
      "2/2 [==============================] - 0s 67ms/step - loss: 0.2265 - acc: 0.6863 - val_loss: 0.3401 - val_acc: 0.6471\n",
      "0.7295184\n",
      "2/2 [==============================] - 0s 84ms/step - loss: 0.1882 - acc: 0.7843 - val_loss: 0.3351 - val_acc: 0.6471\n",
      "0.7549407\n",
      "2/2 [==============================] - 0s 65ms/step - loss: 0.1359 - acc: 0.9412 - val_loss: 0.3378 - val_acc: 0.6471\n",
      "0.7964008\n",
      "2/2 [==============================] - 0s 68ms/step - loss: 0.1289 - acc: 0.8627 - val_loss: 0.3473 - val_acc: 0.6471\n",
      "0.8542236\n",
      "2/2 [==============================] - 0s 56ms/step - loss: 0.0972 - acc: 0.9020 - val_loss: 0.3671 - val_acc: 0.6471\n",
      "0.9361782\n",
      "2/2 [==============================] - 0s 66ms/step - loss: 0.0629 - acc: 0.9412 - val_loss: 0.3937 - val_acc: 0.6471\n",
      "1.0439306\n",
      "2/2 [==============================] - 0s 52ms/step - loss: 0.0379 - acc: 1.0000 - val_loss: 0.4302 - val_acc: 0.7059\n",
      "1.1804743\n",
      "2/2 [==============================] - 0s 56ms/step - loss: 0.0280 - acc: 0.9608 - val_loss: 0.4737 - val_acc: 0.7059\n",
      "1.3337951\n",
      "2/2 [==============================] - 0s 70ms/step - loss: 0.0151 - acc: 1.0000 - val_loss: 0.5152 - val_acc: 0.7647\n",
      "1.4943861\n",
      "2/2 [==============================] - 0s 70ms/step - loss: 0.0093 - acc: 0.9804 - val_loss: 0.5502 - val_acc: 0.7647\n",
      "1.6526217\n",
      "2/2 [==============================] - 0s 69ms/step - loss: 0.0053 - acc: 1.0000 - val_loss: 0.5847 - val_acc: 0.7647\n",
      "1.8061091\n",
      "2/2 [==============================] - 0s 130ms/step - loss: 0.0055 - acc: 0.9608 - val_loss: 0.6079 - val_acc: 0.7647\n",
      "1.9450188\n",
      "2/2 [==============================] - 0s 115ms/step - loss: 0.0012 - acc: 1.0000 - val_loss: 0.6274 - val_acc: 0.7647\n",
      "2.070332\n",
      "2/2 [==============================] - 0s 74ms/step - loss: 7.7626e-04 - acc: 1.0000 - val_loss: 0.6459 - val_acc: 0.6471\n",
      "2.1817927\n",
      "2/2 [==============================] - 0s 68ms/step - loss: 8.2089e-04 - acc: 1.0000 - val_loss: 0.6598 - val_acc: 0.6471\n",
      "2.2784984\n",
      "2/2 [==============================] - 0s 67ms/step - loss: 7.0284e-04 - acc: 1.0000 - val_loss: 0.6718 - val_acc: 0.6471\n",
      "2.3623316\n",
      "2/2 [==============================] - 0s 54ms/step - loss: 4.3361e-04 - acc: 0.9804 - val_loss: 0.6832 - val_acc: 0.6471\n",
      "2.4347396\n",
      "2/2 [==============================] - 0s 67ms/step - loss: 3.7899e-04 - acc: 1.0000 - val_loss: 0.6953 - val_acc: 0.6471\n",
      "2.4984598\n",
      "2/2 [==============================] - 0s 67ms/step - loss: 3.6450e-04 - acc: 1.0000 - val_loss: 0.7060 - val_acc: 0.6471\n",
      "2.5535796\n",
      "2/2 [==============================] - 0s 64ms/step - loss: 2.3104e-04 - acc: 0.9804 - val_loss: 0.7170 - val_acc: 0.6471\n",
      "2.6017528\n",
      "2/2 [==============================] - 0s 70ms/step - loss: 1.6141e-04 - acc: 1.0000 - val_loss: 0.7274 - val_acc: 0.6471\n",
      "2.6431575\n",
      "2/2 [==============================] - 0s 57ms/step - loss: 1.6737e-04 - acc: 1.0000 - val_loss: 0.7367 - val_acc: 0.6471\n",
      "2.6788435\n",
      "2/2 [==============================] - 0s 68ms/step - loss: 9.1359e-05 - acc: 1.0000 - val_loss: 0.7444 - val_acc: 0.6471\n",
      "2.708934\n",
      "2/2 [==============================] - 0s 68ms/step - loss: 1.3711e-04 - acc: 1.0000 - val_loss: 0.7514 - val_acc: 0.6471\n",
      "2.7349355\n",
      "2/2 [==============================] - 0s 71ms/step - loss: 9.4958e-05 - acc: 1.0000 - val_loss: 0.7578 - val_acc: 0.6471\n",
      "2.7573476\n",
      "2/2 [==============================] - 0s 69ms/step - loss: 6.6075e-05 - acc: 1.0000 - val_loss: 0.7641 - val_acc: 0.6471\n",
      "2.7769797\n",
      "2/2 [==============================] - 0s 68ms/step - loss: 1.4535e-04 - acc: 0.9804 - val_loss: 0.7692 - val_acc: 0.6471\n",
      "2.7937303\n",
      "2/2 [==============================] - 0s 81ms/step - loss: 1.0374e-04 - acc: 1.0000 - val_loss: 0.7743 - val_acc: 0.6471\n",
      "2.8084843\n",
      "2/2 [==============================] - 0s 77ms/step - loss: 1.8564e-04 - acc: 0.9804 - val_loss: 0.7795 - val_acc: 0.6471\n",
      "2.8218236\n",
      "2/2 [==============================] - 0s 63ms/step - loss: 1.1723e-04 - acc: 1.0000 - val_loss: 0.7828 - val_acc: 0.6471\n",
      "2.8329952\n",
      "2/2 [==============================] - 0s 110ms/step - loss: 1.3794e-04 - acc: 1.0000 - val_loss: 0.7846 - val_acc: 0.6471\n",
      "2.8422399\n",
      "2/2 [==============================] - 0s 79ms/step - loss: 3.0126e-04 - acc: 0.9804 - val_loss: 0.7815 - val_acc: 0.6471\n",
      "2.8476276\n",
      "2/2 [==============================] - 0s 112ms/step - loss: 1.6931e-04 - acc: 1.0000 - val_loss: 0.7820 - val_acc: 0.6471\n",
      "2.8539097\n",
      "2/2 [==============================] - 0s 82ms/step - loss: 1.4287e-04 - acc: 1.0000 - val_loss: 0.7841 - val_acc: 0.6471\n",
      "2.860638\n",
      "2/2 [==============================] - 0s 79ms/step - loss: 1.6230e-04 - acc: 1.0000 - val_loss: 0.7882 - val_acc: 0.6471\n",
      "2.867961\n",
      "2/2 [==============================] - 0s 59ms/step - loss: 2.8288e-04 - acc: 0.9804 - val_loss: 0.7888 - val_acc: 0.6471\n",
      "2.8726323\n",
      "2/2 [==============================] - 0s 110ms/step - loss: 1.9575e-04 - acc: 0.9804 - val_loss: 0.7881 - val_acc: 0.6471\n",
      "2.8762455\n",
      "2/2 [==============================] - 0s 105ms/step - loss: 1.7246e-04 - acc: 0.9804 - val_loss: 0.7886 - val_acc: 0.6471\n",
      "2.879699\n",
      "2/2 [==============================] - 0s 90ms/step - loss: 5.7201e-05 - acc: 1.0000 - val_loss: 0.7889 - val_acc: 0.6471\n",
      "2.8828826\n",
      "2/2 [==============================] - 0s 81ms/step - loss: 6.9980e-05 - acc: 1.0000 - val_loss: 0.7896 - val_acc: 0.6471\n",
      "2.8861215\n",
      "2/2 [==============================] - 0s 84ms/step - loss: 8.9571e-05 - acc: 1.0000 - val_loss: 0.7905 - val_acc: 0.6471\n",
      "2.8894105\n",
      "2/2 [==============================] - 0s 81ms/step - loss: 3.5291e-05 - acc: 1.0000 - val_loss: 0.7911 - val_acc: 0.6471\n",
      "2.8923259\n",
      "2/2 [==============================] - 0s 78ms/step - loss: 4.6120e-05 - acc: 1.0000 - val_loss: 0.7917 - val_acc: 0.6471\n",
      "2.8950846\n",
      "2/2 [==============================] - 0s 82ms/step - loss: 5.2022e-05 - acc: 0.9804 - val_loss: 0.7922 - val_acc: 0.6471\n",
      "2.8977046\n",
      "2/2 [==============================] - 0s 78ms/step - loss: 5.8209e-05 - acc: 1.0000 - val_loss: 0.7924 - val_acc: 0.6471\n",
      "2.9001255\n",
      "2/2 [==============================] - 0s 69ms/step - loss: 5.0428e-05 - acc: 1.0000 - val_loss: 0.7927 - val_acc: 0.6471\n",
      "2.9024866\n",
      "2/2 [==============================] - 0s 75ms/step - loss: 5.8793e-05 - acc: 1.0000 - val_loss: 0.7931 - val_acc: 0.6471\n",
      "2.904919\n",
      "2/2 [==============================] - 0s 69ms/step - loss: 2.4016e-05 - acc: 1.0000 - val_loss: 0.7935 - val_acc: 0.6471\n",
      "2.9071345\n",
      "2/2 [==============================] - 0s 68ms/step - loss: 4.1252e-05 - acc: 1.0000 - val_loss: 0.7936 - val_acc: 0.6471\n",
      "2.909204\n",
      "2/2 [==============================] - 0s 68ms/step - loss: 3.6392e-05 - acc: 1.0000 - val_loss: 0.7937 - val_acc: 0.6471\n",
      "2.9111593\n",
      "2/2 [==============================] - 0s 54ms/step - loss: 4.8521e-05 - acc: 1.0000 - val_loss: 0.7936 - val_acc: 0.6471\n",
      "2.9130914\n",
      "2/2 [==============================] - 0s 66ms/step - loss: 6.0885e-05 - acc: 1.0000 - val_loss: 0.7940 - val_acc: 0.6471\n",
      "2.915128\n",
      "2/2 [==============================] - 0s 126ms/step - loss: 5.4446e-05 - acc: 1.0000 - val_loss: 0.7942 - val_acc: 0.6471\n",
      "2.9170094\n",
      "2/2 [==============================] - 0s 68ms/step - loss: 4.4725e-05 - acc: 1.0000 - val_loss: 0.7947 - val_acc: 0.6471\n",
      "2.9190557\n",
      "2/2 [==============================] - 0s 118ms/step - loss: 7.8926e-05 - acc: 1.0000 - val_loss: 0.7943 - val_acc: 0.6471\n",
      "2.9207118\n",
      "2/2 [==============================] - 0s 82ms/step - loss: 6.3758e-05 - acc: 1.0000 - val_loss: 0.7951 - val_acc: 0.6471\n",
      "2.9228535\n",
      "2/2 [==============================] - 0s 105ms/step - loss: 6.0288e-05 - acc: 1.0000 - val_loss: 0.7953 - val_acc: 0.6471\n"
     ]
    },
    {
     "name": "stdout",
     "output_type": "stream",
     "text": [
      "2.9249766\n",
      "2/2 [==============================] - 0s 79ms/step - loss: 1.0255e-04 - acc: 1.0000 - val_loss: 0.7941 - val_acc: 0.6471\n",
      "2.9263673\n",
      "2/2 [==============================] - 0s 67ms/step - loss: 2.9030e-05 - acc: 1.0000 - val_loss: 0.7935 - val_acc: 0.6471\n",
      "2.9278624\n",
      "2/2 [==============================] - 0s 90ms/step - loss: 7.5053e-05 - acc: 1.0000 - val_loss: 0.7935 - val_acc: 0.6471\n",
      "2.9297209\n",
      "2/2 [==============================] - 0s 78ms/step - loss: 8.0058e-05 - acc: 1.0000 - val_loss: 0.7931 - val_acc: 0.6471\n",
      "2.931605\n",
      "2/2 [==============================] - 0s 71ms/step - loss: 4.8808e-05 - acc: 1.0000 - val_loss: 0.7934 - val_acc: 0.6471\n",
      "2.9338124\n",
      "2/2 [==============================] - 0s 71ms/step - loss: 5.3895e-05 - acc: 1.0000 - val_loss: 0.7940 - val_acc: 0.6471\n",
      "2.9362504\n",
      "2/2 [==============================] - 0s 87ms/step - loss: 9.4607e-05 - acc: 1.0000 - val_loss: 0.7931 - val_acc: 0.6471\n",
      "2.938061\n",
      "2/2 [==============================] - 0s 92ms/step - loss: 1.0062e-04 - acc: 1.0000 - val_loss: 0.7944 - val_acc: 0.6471\n",
      "2.940914\n",
      "2/2 [==============================] - 0s 103ms/step - loss: 3.6333e-05 - acc: 1.0000 - val_loss: 0.7956 - val_acc: 0.6471\n",
      "2.943716\n",
      "2/2 [==============================] - 0s 103ms/step - loss: 1.5888e-04 - acc: 0.9804 - val_loss: 0.7975 - val_acc: 0.6471\n",
      "2.9469187\n",
      "2/2 [==============================] - 0s 79ms/step - loss: 1.4718e-04 - acc: 0.9804 - val_loss: 0.7974 - val_acc: 0.6471\n",
      "2.9490042\n",
      "2/2 [==============================] - 0s 53ms/step - loss: 7.7828e-05 - acc: 0.9804 - val_loss: 0.7980 - val_acc: 0.6471\n",
      "2.951558\n",
      "2/2 [==============================] - 0s 73ms/step - loss: 4.1152e-05 - acc: 1.0000 - val_loss: 0.7985 - val_acc: 0.6471\n",
      "2.9540834\n",
      "2/2 [==============================] - 0s 70ms/step - loss: 7.5593e-05 - acc: 0.9804 - val_loss: 0.7998 - val_acc: 0.6471\n",
      "2.957014\n",
      "2/2 [==============================] - 0s 66ms/step - loss: 3.3110e-05 - acc: 1.0000 - val_loss: 0.8009 - val_acc: 0.6471\n",
      "2.9598267\n",
      "2/2 [==============================] - 0s 77ms/step - loss: 1.8814e-05 - acc: 1.0000 - val_loss: 0.8017 - val_acc: 0.6471\n",
      "2.96237\n",
      "2/2 [==============================] - 0s 86ms/step - loss: 4.1937e-05 - acc: 0.9804 - val_loss: 0.8024 - val_acc: 0.6471\n",
      "2.9645672\n",
      "2/2 [==============================] - 0s 77ms/step - loss: 3.5318e-05 - acc: 1.0000 - val_loss: 0.8024 - val_acc: 0.6471\n",
      "2.9664314\n",
      "2/2 [==============================] - 0s 72ms/step - loss: 2.7408e-05 - acc: 1.0000 - val_loss: 0.8023 - val_acc: 0.6471\n",
      "2.9681427\n",
      "2/2 [==============================] - 0s 106ms/step - loss: 2.6521e-05 - acc: 1.0000 - val_loss: 0.8019 - val_acc: 0.6471\n",
      "2.9697392\n",
      "2/2 [==============================] - 0s 76ms/step - loss: 2.4754e-05 - acc: 1.0000 - val_loss: 0.8020 - val_acc: 0.6471\n",
      "2.9714878\n",
      "2/2 [==============================] - 0s 65ms/step - loss: 3.5421e-05 - acc: 1.0000 - val_loss: 0.8019 - val_acc: 0.6471\n",
      "2.9731903\n",
      "2/2 [==============================] - 0s 70ms/step - loss: 2.4548e-05 - acc: 1.0000 - val_loss: 0.8025 - val_acc: 0.6471\n",
      "2.9750674\n",
      "2/2 [==============================] - 0s 75ms/step - loss: 4.7884e-05 - acc: 1.0000 - val_loss: 0.8032 - val_acc: 0.6471\n",
      "2.9770513\n",
      "2/2 [==============================] - 0s 81ms/step - loss: 3.8098e-05 - acc: 1.0000 - val_loss: 0.8041 - val_acc: 0.6471\n",
      "2.9793077\n",
      "2/2 [==============================] - 0s 72ms/step - loss: 4.8211e-05 - acc: 1.0000 - val_loss: 0.8051 - val_acc: 0.6471\n",
      "2.98168\n",
      "2/2 [==============================] - 0s 84ms/step - loss: 3.7201e-05 - acc: 1.0000 - val_loss: 0.8064 - val_acc: 0.6471\n",
      "2.9842453\n",
      "2/2 [==============================] - 0s 84ms/step - loss: 2.3872e-05 - acc: 1.0000 - val_loss: 0.8075 - val_acc: 0.6471\n",
      "2.9866695\n",
      "2/2 [==============================] - 0s 82ms/step - loss: 3.0042e-05 - acc: 1.0000 - val_loss: 0.8084 - val_acc: 0.6471\n",
      "2.9890394\n",
      "2/2 [==============================] - 0s 80ms/step - loss: 4.7959e-05 - acc: 1.0000 - val_loss: 0.8095 - val_acc: 0.6471\n",
      "2.991495\n",
      "2/2 [==============================] - 0s 67ms/step - loss: 2.7905e-05 - acc: 1.0000 - val_loss: 0.8111 - val_acc: 0.6471\n",
      "2.9940925\n",
      "2/2 [==============================] - 0s 120ms/step - loss: 1.9995e-05 - acc: 1.0000 - val_loss: 0.8127 - val_acc: 0.6471\n",
      "2.9966357\n",
      "2/2 [==============================] - 0s 112ms/step - loss: 2.2592e-05 - acc: 1.0000 - val_loss: 0.8145 - val_acc: 0.6471\n",
      "2.999185\n",
      "2/2 [==============================] - 0s 83ms/step - loss: 5.0551e-05 - acc: 1.0000 - val_loss: 0.8177 - val_acc: 0.6471\n",
      "3.0024226\n",
      "2/2 [==============================] - 0s 114ms/step - loss: 4.4735e-05 - acc: 1.0000 - val_loss: 0.8209 - val_acc: 0.6471\n",
      "3.0058384\n",
      "2/2 [==============================] - 0s 81ms/step - loss: 4.7383e-05 - acc: 1.0000 - val_loss: 0.8242 - val_acc: 0.7059\n",
      "3.0094671\n",
      "2/2 [==============================] - 0s 68ms/step - loss: 4.0405e-05 - acc: 0.9804 - val_loss: 0.8271 - val_acc: 0.7059\n",
      "3.0127997\n",
      "1/1 [==============================] - 0s 133ms/step - loss: 0.7366 - acc: 0.7222\n",
      "Accuracy: 72.22%\n"
     ]
    }
   ],
   "source": [
    "tf.keras.utils.set_random_seed(0)\n",
    "\n",
    "# Definir y entrenar el modelo\n",
    "modelFC_SW = models.Sequential()\n",
    "modelFC_SW.add(layers.Dense(200, activation=\"relu\", input_shape=(410,)))\n",
    "modelFC_SW.add(layers.Dropout(0.3))\n",
    "modelFC_SW.add(layers.Dense(200, activation=\"relu\"))\n",
    "modelFC_SW.add(layers.Dropout(0.3))\n",
    "modelFC_SW.add(layers.Dense(200, activation=\"relu\"))\n",
    "modelFC_SW.add(layers.Dropout(0.3))\n",
    "modelFC_SW.add(layers.Dense(200, activation=\"relu\"))\n",
    "modelFC_SW.add(layers.Dropout(0.3))\n",
    "modelFC_SW.add(layers.Dense(1, activation=\"sigmoid\"))\n",
    "\n",
    "modelFC_SW.compile(loss=\"binary_crossentropy\", optimizer=\"adam\", metrics=[\"acc\"])\n",
    "\n",
    "samples = np.ones(y_train.shape) / len(y_train)\n",
    "y_true = y_train\n",
    "for epoch in range(100):\n",
    "    modelFC_SW.fit(X_train, y_train, epochs=1, validation_split=0.25, sample_weight=samples)\n",
    "    # Tiene sentido validation split?????\n",
    "    y_pred = modelFC_SW.predict(X_train)\n",
    "    bce = tf.keras.losses.BinaryCrossentropy()\n",
    "    loss = bce(y_true, y_pred).numpy() # Pero esto es un número, el vector de samples va a tener el mismo valor en cada punto\n",
    "    print(loss)\n",
    "#     samples = (samples*loss) / np.sum(loss)\n",
    "    err = np.abs(y_true.to_numpy() - y_pred.squeeze())\n",
    "    samples = err\n",
    "    \n",
    "# Precisión en partición de test\n",
    "loss, accuracy = modelFC_SW.evaluate(X_test, y_test)\n",
    "print(\"Accuracy: {:0.2f}%\".format(accuracy * 100))"
   ]
  },
  {
   "cell_type": "code",
   "execution_count": 36,
   "id": "bb1ca991",
   "metadata": {},
   "outputs": [
    {
     "data": {
      "text/plain": [
       "<tf.Tensor: shape=(), dtype=float32, numpy=6.1875134>"
      ]
     },
     "execution_count": 36,
     "metadata": {},
     "output_type": "execute_result"
    }
   ],
   "source": [
    "bce = tf.keras.losses.BinaryCrossentropy(axis=0)\n",
    "bce(y_true, y_pred)"
   ]
  },
  {
   "cell_type": "code",
   "execution_count": 50,
   "id": "40f83720",
   "metadata": {},
   "outputs": [
    {
     "data": {
      "text/plain": [
       "array([3.83579731e-03, 1.60333514e-03, 2.18811631e-03, 1.53493881e-03,\n",
       "       6.08438253e-03, 2.99647450e-03, 6.19739294e-04, 4.42028046e-04,\n",
       "       3.25292349e-03, 1.16205215e-03, 2.03558803e-03, 1.23658776e-03,\n",
       "       1.90865993e-03, 3.10093164e-04, 1.96456909e-04, 1.14202499e-03,\n",
       "       7.91668892e-04, 4.81596762e-05, 1.56036019e-03, 3.70991230e-03,\n",
       "       4.70578671e-04, 4.44859266e-04, 8.96275043e-04, 5.22404909e-04,\n",
       "       3.56310606e-03, 6.17504120e-05, 9.64522362e-04, 2.17801332e-03,\n",
       "       1.13582611e-03, 6.06238842e-04, 1.23915076e-03, 1.32924318e-03,\n",
       "       1.47080421e-03, 1.71756744e-03, 1.34557440e-05, 3.92451257e-05,\n",
       "       2.36833096e-03, 6.34878874e-04, 2.42710114e-03, 1.26895308e-03,\n",
       "       1.81031227e-03, 1.13070011e-04, 4.70411777e-03, 1.61570311e-03,\n",
       "       3.91995907e-03, 2.53778696e-03, 5.69641590e-04, 2.50980258e-03,\n",
       "       3.47790122e-03, 2.74181366e-03, 1.14855170e-03, 5.06307662e-01,\n",
       "       8.48310471e-01, 4.92429674e-01, 2.16606349e-01, 4.50640917e-03,\n",
       "       9.90425020e-01, 1.27381057e-01, 1.01892948e-02, 8.63879919e-04,\n",
       "       5.76537848e-02, 9.85645324e-01, 1.00115538e-02, 9.52634066e-01,\n",
       "       1.60119832e-02, 5.67981601e-03, 5.43498993e-03, 8.17060471e-04])"
      ]
     },
     "execution_count": 50,
     "metadata": {},
     "output_type": "execute_result"
    }
   ],
   "source": [
    "samples"
   ]
  },
  {
   "cell_type": "code",
   "execution_count": 47,
   "id": "cb8dcf2b",
   "metadata": {},
   "outputs": [
    {
     "data": {
      "text/plain": [
       "array([ 3.09944153e-06, -1.73007061e-06, -2.43502534e-08,  5.96046448e-07,\n",
       "        3.74317169e-05, -5.03104184e-06, -7.78569316e-08,  5.96046448e-07,\n",
       "       -4.50759990e-06,  0.00000000e+00, -5.95975926e-08, -1.00698981e-06,\n",
       "        4.41074371e-06, -3.55587844e-08, -3.17438031e-09,  2.38418579e-07,\n",
       "       -3.80091393e-07, -1.94900124e-10, -7.43830185e-07,  2.80141830e-06,\n",
       "       -1.39007724e-07, -2.85966991e-07,  1.07288361e-06, -1.71431029e-08,\n",
       "        0.00000000e+00,  0.00000000e+00,  0.00000000e+00, -1.11002373e-06,\n",
       "       -3.86553509e-08, -1.95678460e-08, -1.43264060e-07,  2.50339508e-06,\n",
       "        0.00000000e+00,  1.43051147e-06, -2.64180865e-12, -7.89365850e-10,\n",
       "        1.36494637e-05, -3.16481810e-08, -8.58034696e-07, -5.25288257e-08,\n",
       "        1.40666962e-05,  0.00000000e+00,  1.12056732e-05,  4.17232513e-07,\n",
       "        2.22921371e-05,  7.98702240e-06, -3.81227494e-08, -8.45480827e-07,\n",
       "       -5.53516256e-05,  3.63588333e-06, -2.51406611e-08, -1.17625386e-01,\n",
       "       -7.50944138e-01, -4.08245027e-02, -4.13293242e-02,  3.00407410e-05,\n",
       "        9.99905575e-01, -2.61822343e-03, -5.73838843e-05, -5.91139546e-08,\n",
       "        2.58483887e-02,  9.99935786e-01,  7.56978989e-06,  9.99997930e-01,\n",
       "       -3.77451397e-06, -3.95371490e-06,  1.39117241e-04, -1.24286359e-07])"
      ]
     },
     "execution_count": 47,
     "metadata": {},
     "output_type": "execute_result"
    }
   ],
   "source": []
  },
  {
   "cell_type": "code",
   "execution_count": 41,
   "id": "22c0f9db",
   "metadata": {},
   "outputs": [
    {
     "data": {
      "text/plain": [
       "array([1, 0, 0, 1, 1, 0, 0, 1, 0, 1, 0, 0, 1, 0, 0, 1, 0, 0, 0, 1, 0, 0,\n",
       "       1, 0, 1, 1, 1, 0, 0, 0, 0, 1, 1, 1, 0, 0, 1, 0, 0, 0, 1, 1, 1, 1,\n",
       "       1, 1, 0, 0, 0, 1, 0, 0, 0, 0, 0, 1, 1, 0, 0, 0, 1, 1, 1, 1, 0, 0,\n",
       "       1, 0], dtype=int64)"
      ]
     },
     "execution_count": 41,
     "metadata": {},
     "output_type": "execute_result"
    }
   ],
   "source": [
    "y_true.to_numpy()"
   ]
  },
  {
   "cell_type": "markdown",
   "id": "9becac86",
   "metadata": {},
   "source": [
    "Finalmente, hay una manera de definir un modelo en keras y adaptarlo para su uso en ``sklearn``, donde sí existe una función para aplicar AdaBoost."
   ]
  },
  {
   "cell_type": "code",
   "execution_count": 64,
   "id": "874a2b22",
   "metadata": {},
   "outputs": [],
   "source": [
    "def keras_to_sklearn_model():\n",
    "    modelFC_AdaBoost = models.Sequential()\n",
    "    modelFC_AdaBoost.add(layers.Dense(200, activation=\"relu\", input_shape=(410,)))\n",
    "    modelFC_AdaBoost.add(layers.Dropout(0.3))\n",
    "    modelFC_AdaBoost.add(layers.Dense(200, activation=\"relu\"))\n",
    "    modelFC_AdaBoost.add(layers.Dropout(0.3))\n",
    "    modelFC_AdaBoost.add(layers.Dense(200, activation=\"relu\"))\n",
    "    modelFC_AdaBoost.add(layers.Dropout(0.3))\n",
    "    modelFC_AdaBoost.add(layers.Dense(200, activation=\"relu\"))\n",
    "    modelFC_AdaBoost.add(layers.Dropout(0.3))\n",
    "    modelFC_AdaBoost.add(layers.Dense(1, activation=\"sigmoid\"))\n",
    "\n",
    "    modelFC_AdaBoost.compile(loss=custom_loss, optimizer=\"adam\", metrics=[\"acc\"])\n",
    "    return modelFC_AdaBoost"
   ]
  },
  {
   "cell_type": "code",
   "execution_count": 67,
   "id": "9bbdf455",
   "metadata": {},
   "outputs": [
    {
     "name": "stderr",
     "output_type": "stream",
     "text": [
      "C:\\Users\\saral\\AppData\\Local\\Temp\\ipykernel_15372\\1299115203.py:4: DeprecationWarning: KerasClassifier is deprecated, use Sci-Keras (https://github.com/adriangb/scikeras) instead. See https://www.adriangb.com/scikeras/stable/migration.html for help migrating.\n",
      "  modelFC_AdaBoost = KerasClassifier(build_fn=keras_to_sklearn_model, verbose=0)\n"
     ]
    }
   ],
   "source": [
    "from keras.wrappers.scikit_learn import KerasClassifier\n",
    "from sklearn.ensemble import AdaBoostClassifier\n",
    "\n",
    "modelFC_AdaBoost = KerasClassifier(build_fn=keras_to_sklearn_model, verbose=0)\n",
    "AdaBoost_classif = AdaBoostClassifier(base_estimator=modelFC_AdaBoost)"
   ]
  },
  {
   "cell_type": "code",
   "execution_count": 68,
   "id": "2f3b25a1",
   "metadata": {},
   "outputs": [
    {
     "ename": "ValueError",
     "evalue": "KerasClassifier doesn't support sample_weight.",
     "output_type": "error",
     "traceback": [
      "\u001b[1;31m---------------------------------------------------------------------------\u001b[0m",
      "\u001b[1;31mValueError\u001b[0m                                Traceback (most recent call last)",
      "Input \u001b[1;32mIn [68]\u001b[0m, in \u001b[0;36m<cell line: 4>\u001b[1;34m()\u001b[0m\n\u001b[0;32m      1\u001b[0m \u001b[38;5;28;01mfrom\u001b[39;00m \u001b[38;5;21;01msklearn\u001b[39;00m\u001b[38;5;21;01m.\u001b[39;00m\u001b[38;5;21;01mmetrics\u001b[39;00m \u001b[38;5;28;01mimport\u001b[39;00m accuracy_score\n\u001b[0;32m      3\u001b[0m \u001b[38;5;66;03m# Entrenar el modelo\u001b[39;00m\n\u001b[1;32m----> 4\u001b[0m \u001b[43mAdaBoost_classif\u001b[49m\u001b[38;5;241;43m.\u001b[39;49m\u001b[43mfit\u001b[49m\u001b[43m(\u001b[49m\u001b[43mX_train\u001b[49m\u001b[43m,\u001b[49m\u001b[43m \u001b[49m\u001b[43my_train\u001b[49m\u001b[43m)\u001b[49m\n\u001b[0;32m      6\u001b[0m \u001b[38;5;66;03m# Predicción en partición de test\u001b[39;00m\n\u001b[0;32m      7\u001b[0m y_pred \u001b[38;5;241m=\u001b[39m AdaBoost_classif\u001b[38;5;241m.\u001b[39mpredict(X_test)\n",
      "File \u001b[1;32m~\\miniconda3\\envs\\TFM\\lib\\site-packages\\sklearn\\ensemble\\_weight_boosting.py:486\u001b[0m, in \u001b[0;36mAdaBoostClassifier.fit\u001b[1;34m(self, X, y, sample_weight)\u001b[0m\n\u001b[0;32m    483\u001b[0m     \u001b[38;5;28;01mraise\u001b[39;00m \u001b[38;5;167;01mValueError\u001b[39;00m(\u001b[38;5;124m\"\u001b[39m\u001b[38;5;124malgorithm \u001b[39m\u001b[38;5;132;01m%s\u001b[39;00m\u001b[38;5;124m is not supported\u001b[39m\u001b[38;5;124m\"\u001b[39m \u001b[38;5;241m%\u001b[39m \u001b[38;5;28mself\u001b[39m\u001b[38;5;241m.\u001b[39malgorithm)\n\u001b[0;32m    485\u001b[0m \u001b[38;5;66;03m# Fit\u001b[39;00m\n\u001b[1;32m--> 486\u001b[0m \u001b[38;5;28;01mreturn\u001b[39;00m \u001b[38;5;28;43msuper\u001b[39;49m\u001b[43m(\u001b[49m\u001b[43m)\u001b[49m\u001b[38;5;241;43m.\u001b[39;49m\u001b[43mfit\u001b[49m\u001b[43m(\u001b[49m\u001b[43mX\u001b[49m\u001b[43m,\u001b[49m\u001b[43m \u001b[49m\u001b[43my\u001b[49m\u001b[43m,\u001b[49m\u001b[43m \u001b[49m\u001b[43msample_weight\u001b[49m\u001b[43m)\u001b[49m\n",
      "File \u001b[1;32m~\\miniconda3\\envs\\TFM\\lib\\site-packages\\sklearn\\ensemble\\_weight_boosting.py:132\u001b[0m, in \u001b[0;36mBaseWeightBoosting.fit\u001b[1;34m(self, X, y, sample_weight)\u001b[0m\n\u001b[0;32m    129\u001b[0m     \u001b[38;5;28;01mraise\u001b[39;00m \u001b[38;5;167;01mValueError\u001b[39;00m(\u001b[38;5;124m\"\u001b[39m\u001b[38;5;124msample_weight cannot contain negative weights\u001b[39m\u001b[38;5;124m\"\u001b[39m)\n\u001b[0;32m    131\u001b[0m \u001b[38;5;66;03m# Check parameters\u001b[39;00m\n\u001b[1;32m--> 132\u001b[0m \u001b[38;5;28;43mself\u001b[39;49m\u001b[38;5;241;43m.\u001b[39;49m\u001b[43m_validate_estimator\u001b[49m\u001b[43m(\u001b[49m\u001b[43m)\u001b[49m\n\u001b[0;32m    134\u001b[0m \u001b[38;5;66;03m# Clear any previous fit results\u001b[39;00m\n\u001b[0;32m    135\u001b[0m \u001b[38;5;28mself\u001b[39m\u001b[38;5;241m.\u001b[39mestimators_ \u001b[38;5;241m=\u001b[39m []\n",
      "File \u001b[1;32m~\\miniconda3\\envs\\TFM\\lib\\site-packages\\sklearn\\ensemble\\_weight_boosting.py:503\u001b[0m, in \u001b[0;36mAdaBoostClassifier._validate_estimator\u001b[1;34m(self)\u001b[0m\n\u001b[0;32m    495\u001b[0m         \u001b[38;5;28;01mraise\u001b[39;00m \u001b[38;5;167;01mTypeError\u001b[39;00m(\n\u001b[0;32m    496\u001b[0m             \u001b[38;5;124m\"\u001b[39m\u001b[38;5;124mAdaBoostClassifier with algorithm=\u001b[39m\u001b[38;5;124m'\u001b[39m\u001b[38;5;124mSAMME.R\u001b[39m\u001b[38;5;124m'\u001b[39m\u001b[38;5;124m requires \u001b[39m\u001b[38;5;124m\"\u001b[39m\n\u001b[0;32m    497\u001b[0m             \u001b[38;5;124m\"\u001b[39m\u001b[38;5;124mthat the weak learner supports the calculation of class \u001b[39m\u001b[38;5;124m\"\u001b[39m\n\u001b[1;32m   (...)\u001b[0m\n\u001b[0;32m    500\u001b[0m             \u001b[38;5;124m\"\u001b[39m\u001b[38;5;124malgorithm=\u001b[39m\u001b[38;5;124m'\u001b[39m\u001b[38;5;124mSAMME\u001b[39m\u001b[38;5;124m'\u001b[39m\u001b[38;5;124m instead.\u001b[39m\u001b[38;5;124m\"\u001b[39m\n\u001b[0;32m    501\u001b[0m         )\n\u001b[0;32m    502\u001b[0m \u001b[38;5;28;01mif\u001b[39;00m \u001b[38;5;129;01mnot\u001b[39;00m has_fit_parameter(\u001b[38;5;28mself\u001b[39m\u001b[38;5;241m.\u001b[39mbase_estimator_, \u001b[38;5;124m\"\u001b[39m\u001b[38;5;124msample_weight\u001b[39m\u001b[38;5;124m\"\u001b[39m):\n\u001b[1;32m--> 503\u001b[0m     \u001b[38;5;28;01mraise\u001b[39;00m \u001b[38;5;167;01mValueError\u001b[39;00m(\n\u001b[0;32m    504\u001b[0m         \u001b[38;5;124m\"\u001b[39m\u001b[38;5;132;01m%s\u001b[39;00m\u001b[38;5;124m doesn\u001b[39m\u001b[38;5;124m'\u001b[39m\u001b[38;5;124mt support sample_weight.\u001b[39m\u001b[38;5;124m\"\u001b[39m\n\u001b[0;32m    505\u001b[0m         \u001b[38;5;241m%\u001b[39m \u001b[38;5;28mself\u001b[39m\u001b[38;5;241m.\u001b[39mbase_estimator_\u001b[38;5;241m.\u001b[39m\u001b[38;5;18m__class__\u001b[39m\u001b[38;5;241m.\u001b[39m\u001b[38;5;18m__name__\u001b[39m\n\u001b[0;32m    506\u001b[0m     )\n",
      "\u001b[1;31mValueError\u001b[0m: KerasClassifier doesn't support sample_weight."
     ]
    }
   ],
   "source": [
    "from sklearn.metrics import accuracy_score\n",
    "\n",
    "# Entrenar el modelo\n",
    "AdaBoost_classif.fit(X_train, y_train)\n",
    "\n",
    "# Predicción en partición de test\n",
    "y_pred = AdaBoost_classif.predict(X_test)\n",
    "\n",
    "# Precisión en partición de test\n",
    "accuracy = accuracy_score(y_test, y_pred)\n",
    "print(\"Accuracy: {:0.2f}%\".format(accuracy * 100))"
   ]
  },
  {
   "cell_type": "markdown",
   "id": "82b78757",
   "metadata": {},
   "source": [
    "Thats because the AdaboostClassifier only support those base_estimators which have a sample_weight in their fit() method.\n",
    "\n",
    "Now although KerasClassifier supports sample_weight (from Sequential.fit()) by using the **kwargs in KerasClassifier.fit(), but scikit-learn uses a signature detecting function which checks the parameters available only in the KerasClassifier.fit()\n",
    "\n",
    "This is what it returns:\n",
    "\n",
    "from sklearn.utils.fixes import signature\n",
    "print(signature(model.fit))\n",
    "**Output: (x, y, kwargs)\n",
    "\n",
    "As you can see that the sample_weight is not present here, so AdaBoostClassifier will throw an error. One possible workaround is to extend the KerasClassifier class and then update the fit() method to add sample_weight there.\n",
    "\n",
    "I am not sure what can be done in the source code of KerasClassifier or in AdaboostClassifier for that case to handle this."
   ]
  },
  {
   "cell_type": "markdown",
   "id": "57e09558",
   "metadata": {},
   "source": [
    "# Create submissions"
   ]
  },
  {
   "cell_type": "code",
   "execution_count": 9,
   "id": "242fd7d1",
   "metadata": {},
   "outputs": [],
   "source": [
    "import pathlib\n",
    "from datetime import datetime\n",
    "\n",
    "def create_submission(pred, test_id=testFNC[\"Id\"]):\n",
    "    submissionDF = pd.DataFrame(list(zip(test_id, pred)), columns=[\"Id\", \"Probability\"])\n",
    "    print(submissionDF.shape) # Comprobación del tamaño, debe ser: (119748, 2)\n",
    "    current_time = datetime.now().strftime(\"%d-%m-%Y_%Hh%Mmin\")\n",
    "    current_path = pathlib.Path().resolve()\n",
    "    parent_path = current_path.parent\n",
    "    submissionDF.to_csv(f\"{parent_path}\\submissions\\MLSP_submission_NN_{current_time}.csv\", header=True, index=False)"
   ]
  }
 ],
 "metadata": {
  "kernelspec": {
   "display_name": "Python 3 (ipykernel)",
   "language": "python",
   "name": "python3"
  },
  "language_info": {
   "codemirror_mode": {
    "name": "ipython",
    "version": 3
   },
   "file_extension": ".py",
   "mimetype": "text/x-python",
   "name": "python",
   "nbconvert_exporter": "python",
   "pygments_lexer": "ipython3",
   "version": "3.9.12"
  }
 },
 "nbformat": 4,
 "nbformat_minor": 5
}

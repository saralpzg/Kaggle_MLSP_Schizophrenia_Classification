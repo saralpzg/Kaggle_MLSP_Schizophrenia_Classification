{
 "cells": [
  {
   "cell_type": "markdown",
   "id": "d99f259b",
   "metadata": {},
   "source": [
    "# Optimización de un modelo de red neuronal (fully-connected)\n",
    "\n",
    "Este notebook recoge los resultados de la búsqueda del mejor modelo de clasificación mediante una red neuronal densa o fully-connected, ya que el uso de redes convolucionales no parece adecuado para un problema de datos tabulares.\n",
    "\n",
    "Para buscar el mejor modelo posible, se tratará de buscar los mejores hiperparámetros para el número de capas ocultas de la red, su anchura (número de neuronas), posible introducción de términos de regularización, optimizadores, ...\n",
    "\n",
    "### Preparación de los datos"
   ]
  },
  {
   "cell_type": "code",
   "execution_count": 1,
   "id": "40286d24",
   "metadata": {},
   "outputs": [],
   "source": [
    "import pandas as pd\n",
    "import numpy as np\n",
    "# Data partition\n",
    "from sklearn.model_selection import train_test_split\n",
    "# Parameter tunning libraries\n",
    "import optuna\n",
    "from sklearn.model_selection import GridSearchCV\n",
    "# Accuracy function\n",
    "from sklearn.metrics import accuracy_score"
   ]
  },
  {
   "cell_type": "code",
   "execution_count": 2,
   "id": "5f89a863",
   "metadata": {},
   "outputs": [
    {
     "data": {
      "text/html": [
       "<div>\n",
       "<style scoped>\n",
       "    .dataframe tbody tr th:only-of-type {\n",
       "        vertical-align: middle;\n",
       "    }\n",
       "\n",
       "    .dataframe tbody tr th {\n",
       "        vertical-align: top;\n",
       "    }\n",
       "\n",
       "    .dataframe thead th {\n",
       "        text-align: right;\n",
       "    }\n",
       "</style>\n",
       "<table border=\"1\" class=\"dataframe\">\n",
       "  <thead>\n",
       "    <tr style=\"text-align: right;\">\n",
       "      <th></th>\n",
       "      <th>Class</th>\n",
       "      <th>FNC1</th>\n",
       "      <th>FNC2</th>\n",
       "      <th>FNC3</th>\n",
       "      <th>FNC4</th>\n",
       "      <th>FNC5</th>\n",
       "      <th>FNC6</th>\n",
       "      <th>FNC7</th>\n",
       "      <th>FNC8</th>\n",
       "      <th>FNC9</th>\n",
       "      <th>...</th>\n",
       "      <th>SBM_map55</th>\n",
       "      <th>SBM_map61</th>\n",
       "      <th>SBM_map64</th>\n",
       "      <th>SBM_map67</th>\n",
       "      <th>SBM_map69</th>\n",
       "      <th>SBM_map71</th>\n",
       "      <th>SBM_map72</th>\n",
       "      <th>SBM_map73</th>\n",
       "      <th>SBM_map74</th>\n",
       "      <th>SBM_map75</th>\n",
       "    </tr>\n",
       "  </thead>\n",
       "  <tbody>\n",
       "    <tr>\n",
       "      <th>2</th>\n",
       "      <td>0</td>\n",
       "      <td>0.245850</td>\n",
       "      <td>0.216620</td>\n",
       "      <td>-0.124680</td>\n",
       "      <td>-0.353800</td>\n",
       "      <td>0.161500</td>\n",
       "      <td>-0.002032</td>\n",
       "      <td>-0.133020</td>\n",
       "      <td>-0.035222</td>\n",
       "      <td>0.259040</td>\n",
       "      <td>...</td>\n",
       "      <td>-0.257114</td>\n",
       "      <td>0.597229</td>\n",
       "      <td>1.220756</td>\n",
       "      <td>-0.059213</td>\n",
       "      <td>-0.435494</td>\n",
       "      <td>-0.092971</td>\n",
       "      <td>1.090910</td>\n",
       "      <td>-0.448562</td>\n",
       "      <td>-0.508497</td>\n",
       "      <td>0.350434</td>\n",
       "    </tr>\n",
       "    <tr>\n",
       "      <th>13</th>\n",
       "      <td>1</td>\n",
       "      <td>0.410730</td>\n",
       "      <td>-0.031925</td>\n",
       "      <td>0.210700</td>\n",
       "      <td>0.242260</td>\n",
       "      <td>0.320100</td>\n",
       "      <td>-0.419290</td>\n",
       "      <td>-0.187140</td>\n",
       "      <td>0.168450</td>\n",
       "      <td>0.599790</td>\n",
       "      <td>...</td>\n",
       "      <td>-0.050862</td>\n",
       "      <td>0.870602</td>\n",
       "      <td>0.609465</td>\n",
       "      <td>1.181878</td>\n",
       "      <td>-2.279469</td>\n",
       "      <td>-0.013484</td>\n",
       "      <td>-0.012693</td>\n",
       "      <td>-1.244346</td>\n",
       "      <td>-1.080442</td>\n",
       "      <td>-0.788502</td>\n",
       "    </tr>\n",
       "    <tr>\n",
       "      <th>53</th>\n",
       "      <td>1</td>\n",
       "      <td>0.070919</td>\n",
       "      <td>0.034179</td>\n",
       "      <td>-0.011755</td>\n",
       "      <td>0.019158</td>\n",
       "      <td>0.024645</td>\n",
       "      <td>-0.032022</td>\n",
       "      <td>0.004620</td>\n",
       "      <td>0.318170</td>\n",
       "      <td>0.212550</td>\n",
       "      <td>...</td>\n",
       "      <td>-1.539922</td>\n",
       "      <td>-1.495822</td>\n",
       "      <td>1.643866</td>\n",
       "      <td>1.687780</td>\n",
       "      <td>1.521086</td>\n",
       "      <td>-1.988432</td>\n",
       "      <td>-0.267471</td>\n",
       "      <td>0.510576</td>\n",
       "      <td>1.104566</td>\n",
       "      <td>-1.067206</td>\n",
       "    </tr>\n",
       "    <tr>\n",
       "      <th>41</th>\n",
       "      <td>0</td>\n",
       "      <td>0.087377</td>\n",
       "      <td>-0.052462</td>\n",
       "      <td>-0.007835</td>\n",
       "      <td>-0.112830</td>\n",
       "      <td>0.389380</td>\n",
       "      <td>0.216080</td>\n",
       "      <td>0.063572</td>\n",
       "      <td>-0.251230</td>\n",
       "      <td>-0.080568</td>\n",
       "      <td>...</td>\n",
       "      <td>-0.077353</td>\n",
       "      <td>-0.459463</td>\n",
       "      <td>-0.204328</td>\n",
       "      <td>-0.619508</td>\n",
       "      <td>-1.410523</td>\n",
       "      <td>-0.304622</td>\n",
       "      <td>-1.521928</td>\n",
       "      <td>0.593691</td>\n",
       "      <td>0.073638</td>\n",
       "      <td>-0.260920</td>\n",
       "    </tr>\n",
       "    <tr>\n",
       "      <th>74</th>\n",
       "      <td>0</td>\n",
       "      <td>0.202750</td>\n",
       "      <td>0.191420</td>\n",
       "      <td>-0.056662</td>\n",
       "      <td>-0.157780</td>\n",
       "      <td>0.244040</td>\n",
       "      <td>0.039780</td>\n",
       "      <td>-0.001503</td>\n",
       "      <td>0.001056</td>\n",
       "      <td>-0.048222</td>\n",
       "      <td>...</td>\n",
       "      <td>0.044457</td>\n",
       "      <td>0.593326</td>\n",
       "      <td>1.063052</td>\n",
       "      <td>0.434726</td>\n",
       "      <td>1.604964</td>\n",
       "      <td>-0.359736</td>\n",
       "      <td>0.210107</td>\n",
       "      <td>0.355922</td>\n",
       "      <td>0.730287</td>\n",
       "      <td>-0.323557</td>\n",
       "    </tr>\n",
       "  </tbody>\n",
       "</table>\n",
       "<p>5 rows × 411 columns</p>\n",
       "</div>"
      ],
      "text/plain": [
       "    Class      FNC1      FNC2      FNC3      FNC4      FNC5      FNC6  \\\n",
       "2       0  0.245850  0.216620 -0.124680 -0.353800  0.161500 -0.002032   \n",
       "13      1  0.410730 -0.031925  0.210700  0.242260  0.320100 -0.419290   \n",
       "53      1  0.070919  0.034179 -0.011755  0.019158  0.024645 -0.032022   \n",
       "41      0  0.087377 -0.052462 -0.007835 -0.112830  0.389380  0.216080   \n",
       "74      0  0.202750  0.191420 -0.056662 -0.157780  0.244040  0.039780   \n",
       "\n",
       "        FNC7      FNC8      FNC9  ...  SBM_map55  SBM_map61  SBM_map64  \\\n",
       "2  -0.133020 -0.035222  0.259040  ...  -0.257114   0.597229   1.220756   \n",
       "13 -0.187140  0.168450  0.599790  ...  -0.050862   0.870602   0.609465   \n",
       "53  0.004620  0.318170  0.212550  ...  -1.539922  -1.495822   1.643866   \n",
       "41  0.063572 -0.251230 -0.080568  ...  -0.077353  -0.459463  -0.204328   \n",
       "74 -0.001503  0.001056 -0.048222  ...   0.044457   0.593326   1.063052   \n",
       "\n",
       "    SBM_map67  SBM_map69  SBM_map71  SBM_map72  SBM_map73  SBM_map74  \\\n",
       "2   -0.059213  -0.435494  -0.092971   1.090910  -0.448562  -0.508497   \n",
       "13   1.181878  -2.279469  -0.013484  -0.012693  -1.244346  -1.080442   \n",
       "53   1.687780   1.521086  -1.988432  -0.267471   0.510576   1.104566   \n",
       "41  -0.619508  -1.410523  -0.304622  -1.521928   0.593691   0.073638   \n",
       "74   0.434726   1.604964  -0.359736   0.210107   0.355922   0.730287   \n",
       "\n",
       "    SBM_map75  \n",
       "2    0.350434  \n",
       "13  -0.788502  \n",
       "53  -1.067206  \n",
       "41  -0.260920  \n",
       "74  -0.323557  \n",
       "\n",
       "[5 rows x 411 columns]"
      ]
     },
     "execution_count": 2,
     "metadata": {},
     "output_type": "execute_result"
    }
   ],
   "source": [
    "# Datos de entrenamiento\n",
    "trainFNC = pd.read_csv(\"../data/train_FNC.csv\")\n",
    "trainSBM = pd.read_csv(\"../data/train_SBM.csv\")\n",
    "train_labels = pd.read_csv(\"../data/train_labels.csv\")\n",
    "\n",
    "# DataFrame con ambas fuentes de datos\n",
    "train = pd.merge(left=trainFNC, right=trainSBM, left_on='Id', right_on='Id')\n",
    "data = pd.merge(left=train_labels, right=train, left_on='Id', right_on='Id')\n",
    "data.drop(\"Id\", inplace=True, axis=1)\n",
    "\n",
    "# Shuffle de los datos de train\n",
    "data = data.sample(frac=1, random_state=0)\n",
    "data.head(5)"
   ]
  },
  {
   "cell_type": "markdown",
   "id": "0dea4b44",
   "metadata": {},
   "source": [
    "Vamos a usar la siguiente partición de los datos:\n",
    "\n",
    "* 60% train $\\sim$ 50 datos\n",
    "* 20% validation $\\sim$ 18 datos (se define al aplicar cross-validación en el ajuste)\n",
    "* 20% test $\\sim$ 18 datos"
   ]
  },
  {
   "cell_type": "code",
   "execution_count": 3,
   "id": "3014e1ce",
   "metadata": {},
   "outputs": [
    {
     "name": "stdout",
     "output_type": "stream",
     "text": [
      "Tamaño del dataset de train: (68, 410)\n",
      "Tamaño del dataset de test: (18, 410)\n"
     ]
    }
   ],
   "source": [
    "X = data.iloc[:, 1:]\n",
    "y = data.iloc[:, 0]\n",
    "\n",
    "X_train, X_test, y_train, y_test = train_test_split(X, y, test_size=0.2, random_state=0)\n",
    "\n",
    "print(\"Tamaño del dataset de train:\", X_train.shape)\n",
    "print(\"Tamaño del dataset de test:\", X_test.shape)"
   ]
  },
  {
   "cell_type": "code",
   "execution_count": 4,
   "id": "6e85fa9d",
   "metadata": {},
   "outputs": [
    {
     "data": {
      "text/html": [
       "<div>\n",
       "<style scoped>\n",
       "    .dataframe tbody tr th:only-of-type {\n",
       "        vertical-align: middle;\n",
       "    }\n",
       "\n",
       "    .dataframe tbody tr th {\n",
       "        vertical-align: top;\n",
       "    }\n",
       "\n",
       "    .dataframe thead th {\n",
       "        text-align: right;\n",
       "    }\n",
       "</style>\n",
       "<table border=\"1\" class=\"dataframe\">\n",
       "  <thead>\n",
       "    <tr style=\"text-align: right;\">\n",
       "      <th></th>\n",
       "      <th>FNC1</th>\n",
       "      <th>FNC2</th>\n",
       "      <th>FNC3</th>\n",
       "      <th>FNC4</th>\n",
       "      <th>FNC5</th>\n",
       "      <th>FNC6</th>\n",
       "      <th>FNC7</th>\n",
       "      <th>FNC8</th>\n",
       "      <th>FNC9</th>\n",
       "      <th>FNC10</th>\n",
       "      <th>...</th>\n",
       "      <th>SBM_map55</th>\n",
       "      <th>SBM_map61</th>\n",
       "      <th>SBM_map64</th>\n",
       "      <th>SBM_map67</th>\n",
       "      <th>SBM_map69</th>\n",
       "      <th>SBM_map71</th>\n",
       "      <th>SBM_map72</th>\n",
       "      <th>SBM_map73</th>\n",
       "      <th>SBM_map74</th>\n",
       "      <th>SBM_map75</th>\n",
       "    </tr>\n",
       "  </thead>\n",
       "  <tbody>\n",
       "    <tr>\n",
       "      <th>0</th>\n",
       "      <td>0.476127</td>\n",
       "      <td>0.064466</td>\n",
       "      <td>0.053238</td>\n",
       "      <td>-0.608133</td>\n",
       "      <td>0.073988</td>\n",
       "      <td>-0.637038</td>\n",
       "      <td>0.113556</td>\n",
       "      <td>-0.192434</td>\n",
       "      <td>-0.004025</td>\n",
       "      <td>-0.060474</td>\n",
       "      <td>...</td>\n",
       "      <td>-0.451994</td>\n",
       "      <td>1.123770</td>\n",
       "      <td>2.083006</td>\n",
       "      <td>1.145440</td>\n",
       "      <td>-0.067608</td>\n",
       "      <td>1.202529</td>\n",
       "      <td>0.851587</td>\n",
       "      <td>0.451583</td>\n",
       "      <td>-0.159739</td>\n",
       "      <td>0.192076</td>\n",
       "    </tr>\n",
       "    <tr>\n",
       "      <th>1</th>\n",
       "      <td>0.013833</td>\n",
       "      <td>0.267183</td>\n",
       "      <td>0.232178</td>\n",
       "      <td>-0.167151</td>\n",
       "      <td>-0.261327</td>\n",
       "      <td>0.191869</td>\n",
       "      <td>0.406493</td>\n",
       "      <td>0.088761</td>\n",
       "      <td>0.177048</td>\n",
       "      <td>0.036718</td>\n",
       "      <td>...</td>\n",
       "      <td>0.696987</td>\n",
       "      <td>1.397832</td>\n",
       "      <td>1.046136</td>\n",
       "      <td>-0.191733</td>\n",
       "      <td>-2.192023</td>\n",
       "      <td>-0.369276</td>\n",
       "      <td>0.822225</td>\n",
       "      <td>-0.109342</td>\n",
       "      <td>-0.580476</td>\n",
       "      <td>0.174160</td>\n",
       "    </tr>\n",
       "    <tr>\n",
       "      <th>2</th>\n",
       "      <td>-0.435452</td>\n",
       "      <td>0.046780</td>\n",
       "      <td>0.243742</td>\n",
       "      <td>0.397030</td>\n",
       "      <td>-0.147821</td>\n",
       "      <td>0.173620</td>\n",
       "      <td>-0.461963</td>\n",
       "      <td>-0.610736</td>\n",
       "      <td>0.419753</td>\n",
       "      <td>0.400985</td>\n",
       "      <td>...</td>\n",
       "      <td>0.160145</td>\n",
       "      <td>1.906989</td>\n",
       "      <td>-2.661633</td>\n",
       "      <td>-0.193911</td>\n",
       "      <td>0.440873</td>\n",
       "      <td>0.641739</td>\n",
       "      <td>0.918397</td>\n",
       "      <td>-0.758046</td>\n",
       "      <td>0.154701</td>\n",
       "      <td>-0.476647</td>\n",
       "    </tr>\n",
       "    <tr>\n",
       "      <th>3</th>\n",
       "      <td>-0.204510</td>\n",
       "      <td>-0.036735</td>\n",
       "      <td>-0.760705</td>\n",
       "      <td>-0.740495</td>\n",
       "      <td>0.064668</td>\n",
       "      <td>0.349926</td>\n",
       "      <td>-0.273826</td>\n",
       "      <td>-0.174384</td>\n",
       "      <td>-0.120248</td>\n",
       "      <td>0.175618</td>\n",
       "      <td>...</td>\n",
       "      <td>0.974828</td>\n",
       "      <td>-1.997087</td>\n",
       "      <td>-2.083782</td>\n",
       "      <td>1.154107</td>\n",
       "      <td>-0.643947</td>\n",
       "      <td>2.332424</td>\n",
       "      <td>0.659124</td>\n",
       "      <td>-0.809445</td>\n",
       "      <td>0.558960</td>\n",
       "      <td>2.790871</td>\n",
       "    </tr>\n",
       "    <tr>\n",
       "      <th>4</th>\n",
       "      <td>0.599435</td>\n",
       "      <td>-0.166441</td>\n",
       "      <td>0.122431</td>\n",
       "      <td>0.011539</td>\n",
       "      <td>0.346906</td>\n",
       "      <td>-0.017430</td>\n",
       "      <td>-0.274734</td>\n",
       "      <td>0.211510</td>\n",
       "      <td>0.151012</td>\n",
       "      <td>-0.033434</td>\n",
       "      <td>...</td>\n",
       "      <td>-0.789153</td>\n",
       "      <td>1.578984</td>\n",
       "      <td>1.402592</td>\n",
       "      <td>-1.230440</td>\n",
       "      <td>0.296686</td>\n",
       "      <td>2.806314</td>\n",
       "      <td>0.427184</td>\n",
       "      <td>-0.240682</td>\n",
       "      <td>-0.196948</td>\n",
       "      <td>-1.544345</td>\n",
       "    </tr>\n",
       "  </tbody>\n",
       "</table>\n",
       "<p>5 rows × 410 columns</p>\n",
       "</div>"
      ],
      "text/plain": [
       "       FNC1      FNC2      FNC3      FNC4      FNC5      FNC6      FNC7  \\\n",
       "0  0.476127  0.064466  0.053238 -0.608133  0.073988 -0.637038  0.113556   \n",
       "1  0.013833  0.267183  0.232178 -0.167151 -0.261327  0.191869  0.406493   \n",
       "2 -0.435452  0.046780  0.243742  0.397030 -0.147821  0.173620 -0.461963   \n",
       "3 -0.204510 -0.036735 -0.760705 -0.740495  0.064668  0.349926 -0.273826   \n",
       "4  0.599435 -0.166441  0.122431  0.011539  0.346906 -0.017430 -0.274734   \n",
       "\n",
       "       FNC8      FNC9     FNC10  ...  SBM_map55  SBM_map61  SBM_map64  \\\n",
       "0 -0.192434 -0.004025 -0.060474  ...  -0.451994   1.123770   2.083006   \n",
       "1  0.088761  0.177048  0.036718  ...   0.696987   1.397832   1.046136   \n",
       "2 -0.610736  0.419753  0.400985  ...   0.160145   1.906989  -2.661633   \n",
       "3 -0.174384 -0.120248  0.175618  ...   0.974828  -1.997087  -2.083782   \n",
       "4  0.211510  0.151012 -0.033434  ...  -0.789153   1.578984   1.402592   \n",
       "\n",
       "   SBM_map67  SBM_map69  SBM_map71  SBM_map72  SBM_map73  SBM_map74  SBM_map75  \n",
       "0   1.145440  -0.067608   1.202529   0.851587   0.451583  -0.159739   0.192076  \n",
       "1  -0.191733  -2.192023  -0.369276   0.822225  -0.109342  -0.580476   0.174160  \n",
       "2  -0.193911   0.440873   0.641739   0.918397  -0.758046   0.154701  -0.476647  \n",
       "3   1.154107  -0.643947   2.332424   0.659124  -0.809445   0.558960   2.790871  \n",
       "4  -1.230440   0.296686   2.806314   0.427184  -0.240682  -0.196948  -1.544345  \n",
       "\n",
       "[5 rows x 410 columns]"
      ]
     },
     "execution_count": 4,
     "metadata": {},
     "output_type": "execute_result"
    }
   ],
   "source": [
    "# Datos de test\n",
    "testFNC = pd.read_csv(\"../data/test_FNC.csv\")\n",
    "testSBM = pd.read_csv(\"../data/test_SBM.csv\")\n",
    "\n",
    "# DataFrame con ambas fuentes de datos\n",
    "test = pd.merge(left=testFNC, right=testSBM, left_on='Id', right_on='Id')\n",
    "test.drop(\"Id\", inplace=True, axis=1)\n",
    "test.head(5)"
   ]
  },
  {
   "cell_type": "markdown",
   "id": "c61745a4",
   "metadata": {},
   "source": [
    "### Modelo"
   ]
  },
  {
   "cell_type": "markdown",
   "id": "cdbb208b",
   "metadata": {},
   "source": [
    "Para redes neuronales, compararemos los resultados obtenidos construyendo redes a partir de librerías distintas.\n",
    "\n",
    "**Comenzamos con ``MLPClassifier`` de ``sklearn`` y búsqueda de hiperparámetros con ``GridSearchCV``:**\n",
    "\n",
    "Documentación: https://scikit-learn.org/stable/modules/generated/sklearn.neural_network.MLPClassifier.html"
   ]
  },
  {
   "cell_type": "code",
   "execution_count": 10,
   "id": "675c7a8a",
   "metadata": {},
   "outputs": [],
   "source": [
    "from sklearn.neural_network import MLPClassifier"
   ]
  },
  {
   "cell_type": "code",
   "execution_count": 12,
   "id": "f59a970e",
   "metadata": {},
   "outputs": [],
   "source": [
    "def train_model(model, param_grid):\n",
    "    '''Función para realizar el entrenamiento y la búsqueda de hiperparámetros'''\n",
    "    grid_search = GridSearchCV(estimator=model, param_grid=param_grid, cv=4)\n",
    "    # cv = 4 porque así: el conjunto de validation tiene un 0.25 del tamaño de train y: 0.25 * 0.8 = 0.2 ~ 20% datos\n",
    "    #                    el conjunto de train tiene un 0.75 del tamaño de train y: 0.75 * 0.8 = 0.6 ~60% datos\n",
    "    grid_search.fit(X_train, y_train)\n",
    "    \n",
    "    print(\"Parámetros óptimos:\", grid_search.best_params_)\n",
    "    print(\"Modelo óptimo:\", grid_search.best_estimator_)\n",
    "    \n",
    "    return grid_search.best_estimator_"
   ]
  },
  {
   "cell_type": "markdown",
   "id": "445b4b39",
   "metadata": {},
   "source": [
    "El método debe recibir arquitecturas de red pre-definidas, por lo que probaremos topologías variadas en cuanto a profundidad, ancho y número de capas."
   ]
  },
  {
   "cell_type": "code",
   "execution_count": 15,
   "id": "d163caad",
   "metadata": {},
   "outputs": [
    {
     "name": "stderr",
     "output_type": "stream",
     "text": [
      "C:\\Users\\saral\\miniconda3\\envs\\TFM\\lib\\site-packages\\sklearn\\neural_network\\_multilayer_perceptron.py:692: ConvergenceWarning: Stochastic Optimizer: Maximum iterations (1000) reached and the optimization hasn't converged yet.\n",
      "  warnings.warn(\n",
      "C:\\Users\\saral\\miniconda3\\envs\\TFM\\lib\\site-packages\\sklearn\\neural_network\\_multilayer_perceptron.py:692: ConvergenceWarning: Stochastic Optimizer: Maximum iterations (1000) reached and the optimization hasn't converged yet.\n",
      "  warnings.warn(\n",
      "C:\\Users\\saral\\miniconda3\\envs\\TFM\\lib\\site-packages\\sklearn\\neural_network\\_multilayer_perceptron.py:692: ConvergenceWarning: Stochastic Optimizer: Maximum iterations (1000) reached and the optimization hasn't converged yet.\n",
      "  warnings.warn(\n",
      "C:\\Users\\saral\\miniconda3\\envs\\TFM\\lib\\site-packages\\sklearn\\neural_network\\_multilayer_perceptron.py:692: ConvergenceWarning: Stochastic Optimizer: Maximum iterations (1000) reached and the optimization hasn't converged yet.\n",
      "  warnings.warn(\n",
      "C:\\Users\\saral\\miniconda3\\envs\\TFM\\lib\\site-packages\\sklearn\\neural_network\\_multilayer_perceptron.py:692: ConvergenceWarning: Stochastic Optimizer: Maximum iterations (1000) reached and the optimization hasn't converged yet.\n",
      "  warnings.warn(\n",
      "C:\\Users\\saral\\miniconda3\\envs\\TFM\\lib\\site-packages\\sklearn\\neural_network\\_multilayer_perceptron.py:692: ConvergenceWarning: Stochastic Optimizer: Maximum iterations (1000) reached and the optimization hasn't converged yet.\n",
      "  warnings.warn(\n",
      "C:\\Users\\saral\\miniconda3\\envs\\TFM\\lib\\site-packages\\sklearn\\neural_network\\_multilayer_perceptron.py:692: ConvergenceWarning: Stochastic Optimizer: Maximum iterations (1000) reached and the optimization hasn't converged yet.\n",
      "  warnings.warn(\n",
      "C:\\Users\\saral\\miniconda3\\envs\\TFM\\lib\\site-packages\\sklearn\\neural_network\\_multilayer_perceptron.py:692: ConvergenceWarning: Stochastic Optimizer: Maximum iterations (1000) reached and the optimization hasn't converged yet.\n",
      "  warnings.warn(\n",
      "C:\\Users\\saral\\miniconda3\\envs\\TFM\\lib\\site-packages\\sklearn\\neural_network\\_multilayer_perceptron.py:692: ConvergenceWarning: Stochastic Optimizer: Maximum iterations (1000) reached and the optimization hasn't converged yet.\n",
      "  warnings.warn(\n",
      "C:\\Users\\saral\\miniconda3\\envs\\TFM\\lib\\site-packages\\sklearn\\neural_network\\_multilayer_perceptron.py:692: ConvergenceWarning: Stochastic Optimizer: Maximum iterations (1000) reached and the optimization hasn't converged yet.\n",
      "  warnings.warn(\n",
      "C:\\Users\\saral\\miniconda3\\envs\\TFM\\lib\\site-packages\\sklearn\\neural_network\\_multilayer_perceptron.py:692: ConvergenceWarning: Stochastic Optimizer: Maximum iterations (1000) reached and the optimization hasn't converged yet.\n",
      "  warnings.warn(\n",
      "C:\\Users\\saral\\miniconda3\\envs\\TFM\\lib\\site-packages\\sklearn\\neural_network\\_multilayer_perceptron.py:692: ConvergenceWarning: Stochastic Optimizer: Maximum iterations (1000) reached and the optimization hasn't converged yet.\n",
      "  warnings.warn(\n",
      "C:\\Users\\saral\\miniconda3\\envs\\TFM\\lib\\site-packages\\sklearn\\neural_network\\_multilayer_perceptron.py:692: ConvergenceWarning: Stochastic Optimizer: Maximum iterations (1000) reached and the optimization hasn't converged yet.\n",
      "  warnings.warn(\n",
      "C:\\Users\\saral\\miniconda3\\envs\\TFM\\lib\\site-packages\\sklearn\\neural_network\\_multilayer_perceptron.py:692: ConvergenceWarning: Stochastic Optimizer: Maximum iterations (1000) reached and the optimization hasn't converged yet.\n",
      "  warnings.warn(\n",
      "C:\\Users\\saral\\miniconda3\\envs\\TFM\\lib\\site-packages\\sklearn\\neural_network\\_multilayer_perceptron.py:692: ConvergenceWarning: Stochastic Optimizer: Maximum iterations (1000) reached and the optimization hasn't converged yet.\n",
      "  warnings.warn(\n",
      "C:\\Users\\saral\\miniconda3\\envs\\TFM\\lib\\site-packages\\sklearn\\neural_network\\_multilayer_perceptron.py:692: ConvergenceWarning: Stochastic Optimizer: Maximum iterations (1000) reached and the optimization hasn't converged yet.\n",
      "  warnings.warn(\n",
      "C:\\Users\\saral\\miniconda3\\envs\\TFM\\lib\\site-packages\\sklearn\\neural_network\\_multilayer_perceptron.py:692: ConvergenceWarning: Stochastic Optimizer: Maximum iterations (1000) reached and the optimization hasn't converged yet.\n",
      "  warnings.warn(\n",
      "C:\\Users\\saral\\miniconda3\\envs\\TFM\\lib\\site-packages\\sklearn\\neural_network\\_multilayer_perceptron.py:692: ConvergenceWarning: Stochastic Optimizer: Maximum iterations (1000) reached and the optimization hasn't converged yet.\n",
      "  warnings.warn(\n",
      "C:\\Users\\saral\\miniconda3\\envs\\TFM\\lib\\site-packages\\sklearn\\neural_network\\_multilayer_perceptron.py:692: ConvergenceWarning: Stochastic Optimizer: Maximum iterations (1000) reached and the optimization hasn't converged yet.\n",
      "  warnings.warn(\n",
      "C:\\Users\\saral\\miniconda3\\envs\\TFM\\lib\\site-packages\\sklearn\\neural_network\\_multilayer_perceptron.py:692: ConvergenceWarning: Stochastic Optimizer: Maximum iterations (1000) reached and the optimization hasn't converged yet.\n",
      "  warnings.warn(\n",
      "C:\\Users\\saral\\miniconda3\\envs\\TFM\\lib\\site-packages\\sklearn\\neural_network\\_multilayer_perceptron.py:692: ConvergenceWarning: Stochastic Optimizer: Maximum iterations (1000) reached and the optimization hasn't converged yet.\n",
      "  warnings.warn(\n",
      "C:\\Users\\saral\\miniconda3\\envs\\TFM\\lib\\site-packages\\sklearn\\neural_network\\_multilayer_perceptron.py:692: ConvergenceWarning: Stochastic Optimizer: Maximum iterations (1000) reached and the optimization hasn't converged yet.\n",
      "  warnings.warn(\n",
      "C:\\Users\\saral\\miniconda3\\envs\\TFM\\lib\\site-packages\\sklearn\\neural_network\\_multilayer_perceptron.py:549: ConvergenceWarning: lbfgs failed to converge (status=2):\n",
      "ABNORMAL_TERMINATION_IN_LNSRCH.\n",
      "\n",
      "Increase the number of iterations (max_iter) or scale the data as shown in:\n",
      "    https://scikit-learn.org/stable/modules/preprocessing.html\n",
      "  self.n_iter_ = _check_optimize_result(\"lbfgs\", opt_res, self.max_iter)\n",
      "C:\\Users\\saral\\miniconda3\\envs\\TFM\\lib\\site-packages\\sklearn\\neural_network\\_multilayer_perceptron.py:692: ConvergenceWarning: Stochastic Optimizer: Maximum iterations (1000) reached and the optimization hasn't converged yet.\n",
      "  warnings.warn(\n",
      "C:\\Users\\saral\\miniconda3\\envs\\TFM\\lib\\site-packages\\sklearn\\neural_network\\_multilayer_perceptron.py:692: ConvergenceWarning: Stochastic Optimizer: Maximum iterations (1000) reached and the optimization hasn't converged yet.\n",
      "  warnings.warn(\n",
      "C:\\Users\\saral\\miniconda3\\envs\\TFM\\lib\\site-packages\\sklearn\\neural_network\\_multilayer_perceptron.py:692: ConvergenceWarning: Stochastic Optimizer: Maximum iterations (1000) reached and the optimization hasn't converged yet.\n",
      "  warnings.warn(\n",
      "C:\\Users\\saral\\miniconda3\\envs\\TFM\\lib\\site-packages\\sklearn\\neural_network\\_multilayer_perceptron.py:692: ConvergenceWarning: Stochastic Optimizer: Maximum iterations (1000) reached and the optimization hasn't converged yet.\n",
      "  warnings.warn(\n",
      "C:\\Users\\saral\\miniconda3\\envs\\TFM\\lib\\site-packages\\sklearn\\neural_network\\_multilayer_perceptron.py:692: ConvergenceWarning: Stochastic Optimizer: Maximum iterations (1000) reached and the optimization hasn't converged yet.\n",
      "  warnings.warn(\n",
      "C:\\Users\\saral\\miniconda3\\envs\\TFM\\lib\\site-packages\\sklearn\\neural_network\\_multilayer_perceptron.py:699: UserWarning: Training interrupted by user.\n",
      "  warnings.warn(\"Training interrupted by user.\")\n",
      "C:\\Users\\saral\\miniconda3\\envs\\TFM\\lib\\site-packages\\sklearn\\neural_network\\_multilayer_perceptron.py:692: ConvergenceWarning: Stochastic Optimizer: Maximum iterations (1000) reached and the optimization hasn't converged yet.\n",
      "  warnings.warn(\n",
      "C:\\Users\\saral\\miniconda3\\envs\\TFM\\lib\\site-packages\\sklearn\\neural_network\\_multilayer_perceptron.py:692: ConvergenceWarning: Stochastic Optimizer: Maximum iterations (1000) reached and the optimization hasn't converged yet.\n",
      "  warnings.warn(\n",
      "C:\\Users\\saral\\miniconda3\\envs\\TFM\\lib\\site-packages\\sklearn\\neural_network\\_multilayer_perceptron.py:692: ConvergenceWarning: Stochastic Optimizer: Maximum iterations (1000) reached and the optimization hasn't converged yet.\n",
      "  warnings.warn(\n",
      "C:\\Users\\saral\\miniconda3\\envs\\TFM\\lib\\site-packages\\sklearn\\neural_network\\_multilayer_perceptron.py:692: ConvergenceWarning: Stochastic Optimizer: Maximum iterations (1000) reached and the optimization hasn't converged yet.\n",
      "  warnings.warn(\n",
      "C:\\Users\\saral\\miniconda3\\envs\\TFM\\lib\\site-packages\\sklearn\\neural_network\\_multilayer_perceptron.py:692: ConvergenceWarning: Stochastic Optimizer: Maximum iterations (1000) reached and the optimization hasn't converged yet.\n",
      "  warnings.warn(\n"
     ]
    },
    {
     "name": "stderr",
     "output_type": "stream",
     "text": [
      "C:\\Users\\saral\\miniconda3\\envs\\TFM\\lib\\site-packages\\sklearn\\neural_network\\_multilayer_perceptron.py:692: ConvergenceWarning: Stochastic Optimizer: Maximum iterations (1000) reached and the optimization hasn't converged yet.\n",
      "  warnings.warn(\n",
      "C:\\Users\\saral\\miniconda3\\envs\\TFM\\lib\\site-packages\\sklearn\\neural_network\\_multilayer_perceptron.py:692: ConvergenceWarning: Stochastic Optimizer: Maximum iterations (1000) reached and the optimization hasn't converged yet.\n",
      "  warnings.warn(\n",
      "C:\\Users\\saral\\miniconda3\\envs\\TFM\\lib\\site-packages\\sklearn\\neural_network\\_multilayer_perceptron.py:692: ConvergenceWarning: Stochastic Optimizer: Maximum iterations (1000) reached and the optimization hasn't converged yet.\n",
      "  warnings.warn(\n",
      "C:\\Users\\saral\\miniconda3\\envs\\TFM\\lib\\site-packages\\sklearn\\neural_network\\_multilayer_perceptron.py:692: ConvergenceWarning: Stochastic Optimizer: Maximum iterations (1000) reached and the optimization hasn't converged yet.\n",
      "  warnings.warn(\n",
      "C:\\Users\\saral\\miniconda3\\envs\\TFM\\lib\\site-packages\\sklearn\\neural_network\\_multilayer_perceptron.py:692: ConvergenceWarning: Stochastic Optimizer: Maximum iterations (1000) reached and the optimization hasn't converged yet.\n",
      "  warnings.warn(\n",
      "C:\\Users\\saral\\miniconda3\\envs\\TFM\\lib\\site-packages\\sklearn\\neural_network\\_multilayer_perceptron.py:692: ConvergenceWarning: Stochastic Optimizer: Maximum iterations (1000) reached and the optimization hasn't converged yet.\n",
      "  warnings.warn(\n"
     ]
    },
    {
     "name": "stdout",
     "output_type": "stream",
     "text": [
      "Parámetros óptimos: {'activation': 'relu', 'hidden_layer_sizes': (100, 250, 250, 100, 1), 'solver': 'adam', 'validation_fraction': 0.25}\n",
      "Modelo óptimo: MLPClassifier(hidden_layer_sizes=(100, 250, 250, 100, 1), max_iter=1000,\n",
      "              random_state=0, validation_fraction=0.25)\n",
      "Accuracy: 83.33%\n"
     ]
    }
   ],
   "source": [
    "# import warnings\n",
    "# warnings.filterwarnings(\"ignore\")\n",
    "\n",
    "# Definir y entrenar el modelo\n",
    "model_MLPC = MLPClassifier(max_iter=1000, random_state=0)\n",
    "param_grid_MLPC = {\n",
    "    \"hidden_layer_sizes\": [(100, 200, 100, 1), (100, 100, 100, 100, 1), (200, 200, 100, 50, 1), (100, 250, 250, 100, 1)],\n",
    "    \"activation\": [\"identity\", \"logistic\", \"tanh\", \"relu\"], # Tiene sentido probar identity y relu?\n",
    "    \"solver\": [\"lbfgs\", \"sgd\", \"adam\"],\n",
    "#     \"alpha\": [0, 0.0001, 0.001, 0.01, 0.1], # L2 regularization\n",
    "#     \"learning_rate\": [\"constant\", \"invscaling\", \"adaptive\"],\n",
    "    \"validation_fraction\": [0.25]\n",
    "}\n",
    "model_MLPC_opt = train_model(model_MLPC, param_grid_MLPC)\n",
    "\n",
    "# Predicción en partición de test\n",
    "y_pred_MLPC = model_MLPC_opt.predict(X_test)\n",
    "\n",
    "# Precisión en partición de test\n",
    "accuracy = accuracy_score(y_test, y_pred_MLPC)\n",
    "print(\"Accuracy: {:0.2f}%\".format(accuracy * 100))\n",
    "\n",
    "# Predicción en test para kaggle\n",
    "y_pred_kaggle_MLPC = model_MLPC_opt.predict(test)"
   ]
  },
  {
   "cell_type": "markdown",
   "id": "e28b5a47",
   "metadata": {},
   "source": [
    "**Usando la librería \"keras\"**\n",
    "\n",
    "Ahora utilizaremos la librería de ``keras``, por su mayor flexibilidad para intentar mejorar los resultados de la red neuronal.\n",
    "\n",
    "Comenzaremos repitiendo la búsqueda de hiperparámetros, ya que la propia librería de ``keras`` dispone de integración con otras que nos permitirán hacer una búsqueda algo más exhaustiva por ejemplo en cuanto al número de capas y neuronas en estas. Concretamente, vamos a utilizar ``optuna``."
   ]
  },
  {
   "cell_type": "code",
   "execution_count": 16,
   "id": "f9c04e40",
   "metadata": {},
   "outputs": [],
   "source": [
    "import tensorflow as tf\n",
    "import keras\n",
    "from keras import layers, models, optimizers, callbacks, backend, preprocessing"
   ]
  },
  {
   "cell_type": "markdown",
   "id": "42be2b93",
   "metadata": {},
   "source": [
    "Documentación:\n",
    "* https://optuna.readthedocs.io/en/stable/reference/generated/optuna.trial.Trial.html\n",
    "* https://optuna.org/\n",
    "\n",
    "Para reducir el coste computacional tomaremos de base resultados como la función de activación óptima: \"relu\", que hemos podido obtener con ``GridSearchCV``. Como por el contrario usando ``sklearn`` no hemos podido utilizar el optimizador RMSProp, vamos a probarlo también con ``optuna`` + ``keras`` para ver si mejora nuestros resultados."
   ]
  },
  {
   "cell_type": "code",
   "execution_count": 17,
   "id": "5bb2cf72",
   "metadata": {},
   "outputs": [],
   "source": [
    "# El objetivo es definir una función que será optimizada. En este caso, nos interesa maximizar el accuracy.\n",
    "def objective(trial):\n",
    "    modelFC_optuna = models.Sequential()\n",
    "\n",
    "    # Se utiliza el objeto \"trial\" para asignar las posibilidades a los hiperparámetros.\n",
    "    n_layers = trial.suggest_int(\"n_layers\", 2, 5, 1)\n",
    "    num_hidden = trial.suggest_int(\"n_units\", 50, 250, 50)\n",
    "    dropout = trial.suggest_float(\"dropout\", 0, 0.5, step=0.1)\n",
    "    for i in range(n_layers):\n",
    "        modelFC_optuna.add(layers.Dense(num_hidden, activation=\"relu\"))\n",
    "        modelFC_optuna.add(layers.Dropout(rate=dropout))\n",
    "    modelFC_optuna.add(layers.Dense(1, activation=\"sigmoid\"))\n",
    "\n",
    "    optimizers = trial.suggest_categorical(\"optimizer\", [\"RMSprop\", \"SGD\", \"Adam\"])\n",
    "    modelFC_optuna.compile(loss=\"categorical_crossentropy\", optimizer=optimizers, metrics=[\"accuracy\"])\n",
    "    \n",
    "    es = callbacks.EarlyStopping(monitor=\"val_accuracy\", min_delta=0.01, patience=5)\n",
    "    modelFC_optuna.fit(X_train, y_train, callbacks=[es], epochs=100, validation_split=0.25, verbose=0)\n",
    "\n",
    "    loss, accuracy = modelFC_optuna.evaluate(X_test, y_test)\n",
    "    return accuracy"
   ]
  },
  {
   "cell_type": "code",
   "execution_count": 19,
   "id": "6846d5f3",
   "metadata": {
    "scrolled": true
   },
   "outputs": [
    {
     "name": "stderr",
     "output_type": "stream",
     "text": [
      "\u001b[32m[I 2022-05-24 00:26:13,347]\u001b[0m A new study created in memory with name: no-name-f3a42e01-b56d-463e-8226-61b1ff20155a\u001b[0m\n"
     ]
    },
    {
     "name": "stdout",
     "output_type": "stream",
     "text": [
      "1/1 [==============================] - 0s 31ms/step - loss: 0.0000e+00 - accuracy: 0.4444\n"
     ]
    },
    {
     "name": "stderr",
     "output_type": "stream",
     "text": [
      "\u001b[32m[I 2022-05-24 00:26:21,044]\u001b[0m Trial 0 finished with value: 0.4444444477558136 and parameters: {'n_layers': 4, 'n_units': 200, 'dropout': 0.30000000000000004, 'optimizer': 'Adam'}. Best is trial 0 with value: 0.4444444477558136.\u001b[0m\n"
     ]
    },
    {
     "name": "stdout",
     "output_type": "stream",
     "text": [
      "1/1 [==============================] - 0s 37ms/step - loss: 0.0000e+00 - accuracy: 0.4444\n"
     ]
    },
    {
     "name": "stderr",
     "output_type": "stream",
     "text": [
      "\u001b[32m[I 2022-05-24 00:26:23,436]\u001b[0m Trial 1 finished with value: 0.4444444477558136 and parameters: {'n_layers': 3, 'n_units': 250, 'dropout': 0.5, 'optimizer': 'SGD'}. Best is trial 0 with value: 0.4444444477558136.\u001b[0m\n"
     ]
    },
    {
     "name": "stdout",
     "output_type": "stream",
     "text": [
      "1/1 [==============================] - 0s 31ms/step - loss: 0.0000e+00 - accuracy: 0.4444\n"
     ]
    },
    {
     "name": "stderr",
     "output_type": "stream",
     "text": [
      "\u001b[32m[I 2022-05-24 00:26:25,417]\u001b[0m Trial 2 finished with value: 0.4444444477558136 and parameters: {'n_layers': 4, 'n_units': 250, 'dropout': 0.0, 'optimizer': 'Adam'}. Best is trial 0 with value: 0.4444444477558136.\u001b[0m\n"
     ]
    },
    {
     "name": "stdout",
     "output_type": "stream",
     "text": [
      "1/1 [==============================] - 0s 31ms/step - loss: 0.0000e+00 - accuracy: 0.4444\n"
     ]
    },
    {
     "name": "stderr",
     "output_type": "stream",
     "text": [
      "\u001b[32m[I 2022-05-24 00:26:28,092]\u001b[0m Trial 3 finished with value: 0.4444444477558136 and parameters: {'n_layers': 5, 'n_units': 250, 'dropout': 0.5, 'optimizer': 'RMSprop'}. Best is trial 0 with value: 0.4444444477558136.\u001b[0m\n"
     ]
    },
    {
     "name": "stdout",
     "output_type": "stream",
     "text": [
      "1/1 [==============================] - 0s 47ms/step - loss: 0.0000e+00 - accuracy: 0.4444\n"
     ]
    },
    {
     "name": "stderr",
     "output_type": "stream",
     "text": [
      "\u001b[32m[I 2022-05-24 00:26:30,079]\u001b[0m Trial 4 finished with value: 0.4444444477558136 and parameters: {'n_layers': 2, 'n_units': 200, 'dropout': 0.0, 'optimizer': 'RMSprop'}. Best is trial 0 with value: 0.4444444477558136.\u001b[0m\n"
     ]
    },
    {
     "name": "stdout",
     "output_type": "stream",
     "text": [
      "1/1 [==============================] - 0s 32ms/step - loss: 0.0000e+00 - accuracy: 0.4444\n"
     ]
    },
    {
     "name": "stderr",
     "output_type": "stream",
     "text": [
      "\u001b[32m[I 2022-05-24 00:26:31,983]\u001b[0m Trial 5 finished with value: 0.4444444477558136 and parameters: {'n_layers': 3, 'n_units': 200, 'dropout': 0.2, 'optimizer': 'Adam'}. Best is trial 0 with value: 0.4444444477558136.\u001b[0m\n"
     ]
    },
    {
     "name": "stdout",
     "output_type": "stream",
     "text": [
      "1/1 [==============================] - 0s 31ms/step - loss: 0.0000e+00 - accuracy: 0.4444\n"
     ]
    },
    {
     "name": "stderr",
     "output_type": "stream",
     "text": [
      "\u001b[32m[I 2022-05-24 00:26:33,941]\u001b[0m Trial 6 finished with value: 0.4444444477558136 and parameters: {'n_layers': 4, 'n_units': 200, 'dropout': 0.5, 'optimizer': 'RMSprop'}. Best is trial 0 with value: 0.4444444477558136.\u001b[0m\n"
     ]
    },
    {
     "name": "stdout",
     "output_type": "stream",
     "text": [
      "1/1 [==============================] - 0s 31ms/step - loss: 0.0000e+00 - accuracy: 0.4444\n"
     ]
    },
    {
     "name": "stderr",
     "output_type": "stream",
     "text": [
      "\u001b[32m[I 2022-05-24 00:26:35,950]\u001b[0m Trial 7 finished with value: 0.4444444477558136 and parameters: {'n_layers': 4, 'n_units': 50, 'dropout': 0.4, 'optimizer': 'RMSprop'}. Best is trial 0 with value: 0.4444444477558136.\u001b[0m\n"
     ]
    },
    {
     "name": "stdout",
     "output_type": "stream",
     "text": [
      "1/1 [==============================] - 0s 50ms/step - loss: 0.0000e+00 - accuracy: 0.4444\n"
     ]
    },
    {
     "name": "stderr",
     "output_type": "stream",
     "text": [
      "\u001b[32m[I 2022-05-24 00:26:38,254]\u001b[0m Trial 8 finished with value: 0.4444444477558136 and parameters: {'n_layers': 3, 'n_units': 100, 'dropout': 0.30000000000000004, 'optimizer': 'SGD'}. Best is trial 0 with value: 0.4444444477558136.\u001b[0m\n"
     ]
    },
    {
     "name": "stdout",
     "output_type": "stream",
     "text": [
      "1/1 [==============================] - 0s 31ms/step - loss: 0.0000e+00 - accuracy: 0.4444\n"
     ]
    },
    {
     "name": "stderr",
     "output_type": "stream",
     "text": [
      "\u001b[32m[I 2022-05-24 00:26:39,648]\u001b[0m Trial 9 finished with value: 0.4444444477558136 and parameters: {'n_layers': 2, 'n_units': 50, 'dropout': 0.30000000000000004, 'optimizer': 'SGD'}. Best is trial 0 with value: 0.4444444477558136.\u001b[0m\n"
     ]
    },
    {
     "name": "stdout",
     "output_type": "stream",
     "text": [
      "1/1 [==============================] - 0s 35ms/step - loss: 0.0000e+00 - accuracy: 0.4444\n"
     ]
    },
    {
     "name": "stderr",
     "output_type": "stream",
     "text": [
      "\u001b[32m[I 2022-05-24 00:26:42,471]\u001b[0m Trial 10 finished with value: 0.4444444477558136 and parameters: {'n_layers': 5, 'n_units': 150, 'dropout': 0.2, 'optimizer': 'Adam'}. Best is trial 0 with value: 0.4444444477558136.\u001b[0m\n"
     ]
    },
    {
     "name": "stdout",
     "output_type": "stream",
     "text": [
      "1/1 [==============================] - 1s 547ms/step - loss: 0.0000e+00 - accuracy: 0.4444\n"
     ]
    },
    {
     "name": "stderr",
     "output_type": "stream",
     "text": [
      "\u001b[32m[I 2022-05-24 00:26:44,755]\u001b[0m Trial 11 finished with value: 0.4444444477558136 and parameters: {'n_layers': 3, 'n_units': 250, 'dropout': 0.4, 'optimizer': 'SGD'}. Best is trial 0 with value: 0.4444444477558136.\u001b[0m\n"
     ]
    },
    {
     "name": "stdout",
     "output_type": "stream",
     "text": [
      "1/1 [==============================] - 0s 29ms/step - loss: 0.0000e+00 - accuracy: 0.4444\n"
     ]
    },
    {
     "name": "stderr",
     "output_type": "stream",
     "text": [
      "\u001b[32m[I 2022-05-24 00:26:46,951]\u001b[0m Trial 12 finished with value: 0.4444444477558136 and parameters: {'n_layers': 4, 'n_units': 150, 'dropout': 0.1, 'optimizer': 'Adam'}. Best is trial 0 with value: 0.4444444477558136.\u001b[0m\n"
     ]
    },
    {
     "name": "stdout",
     "output_type": "stream",
     "text": [
      "1/1 [==============================] - 0s 52ms/step - loss: 0.0000e+00 - accuracy: 0.4444\n"
     ]
    },
    {
     "name": "stderr",
     "output_type": "stream",
     "text": [
      "\u001b[32m[I 2022-05-24 00:26:48,709]\u001b[0m Trial 13 finished with value: 0.4444444477558136 and parameters: {'n_layers': 3, 'n_units': 200, 'dropout': 0.4, 'optimizer': 'SGD'}. Best is trial 0 with value: 0.4444444477558136.\u001b[0m\n"
     ]
    },
    {
     "name": "stdout",
     "output_type": "stream",
     "text": [
      "1/1 [==============================] - 0s 38ms/step - loss: 0.0000e+00 - accuracy: 0.4444\n"
     ]
    },
    {
     "name": "stderr",
     "output_type": "stream",
     "text": [
      "\u001b[32m[I 2022-05-24 00:26:50,778]\u001b[0m Trial 14 finished with value: 0.4444444477558136 and parameters: {'n_layers': 5, 'n_units': 250, 'dropout': 0.5, 'optimizer': 'Adam'}. Best is trial 0 with value: 0.4444444477558136.\u001b[0m\n"
     ]
    },
    {
     "name": "stdout",
     "output_type": "stream",
     "text": [
      "1/1 [==============================] - 0s 33ms/step - loss: 0.0000e+00 - accuracy: 0.4444\n"
     ]
    },
    {
     "name": "stderr",
     "output_type": "stream",
     "text": [
      "\u001b[32m[I 2022-05-24 00:26:52,265]\u001b[0m Trial 15 finished with value: 0.4444444477558136 and parameters: {'n_layers': 2, 'n_units': 200, 'dropout': 0.30000000000000004, 'optimizer': 'SGD'}. Best is trial 0 with value: 0.4444444477558136.\u001b[0m\n"
     ]
    },
    {
     "name": "stdout",
     "output_type": "stream",
     "text": [
      "1/1 [==============================] - 0s 31ms/step - loss: 0.0000e+00 - accuracy: 0.4444\n"
     ]
    },
    {
     "name": "stderr",
     "output_type": "stream",
     "text": [
      "\u001b[32m[I 2022-05-24 00:26:54,152]\u001b[0m Trial 16 finished with value: 0.4444444477558136 and parameters: {'n_layers': 4, 'n_units': 150, 'dropout': 0.1, 'optimizer': 'SGD'}. Best is trial 0 with value: 0.4444444477558136.\u001b[0m\n"
     ]
    },
    {
     "name": "stdout",
     "output_type": "stream",
     "text": [
      "1/1 [==============================] - 0s 27ms/step - loss: 0.0000e+00 - accuracy: 0.4444\n"
     ]
    },
    {
     "name": "stderr",
     "output_type": "stream",
     "text": [
      "\u001b[32m[I 2022-05-24 00:26:56,001]\u001b[0m Trial 17 finished with value: 0.4444444477558136 and parameters: {'n_layers': 5, 'n_units': 100, 'dropout': 0.4, 'optimizer': 'Adam'}. Best is trial 0 with value: 0.4444444477558136.\u001b[0m\n"
     ]
    },
    {
     "name": "stdout",
     "output_type": "stream",
     "text": [
      "1/1 [==============================] - 0s 51ms/step - loss: 0.0000e+00 - accuracy: 0.4444\n"
     ]
    },
    {
     "name": "stderr",
     "output_type": "stream",
     "text": [
      "\u001b[32m[I 2022-05-24 00:26:58,060]\u001b[0m Trial 18 finished with value: 0.4444444477558136 and parameters: {'n_layers': 2, 'n_units': 200, 'dropout': 0.30000000000000004, 'optimizer': 'SGD'}. Best is trial 0 with value: 0.4444444477558136.\u001b[0m\n"
     ]
    },
    {
     "name": "stdout",
     "output_type": "stream",
     "text": [
      "1/1 [==============================] - 0s 32ms/step - loss: 0.0000e+00 - accuracy: 0.4444\n"
     ]
    },
    {
     "name": "stderr",
     "output_type": "stream",
     "text": [
      "\u001b[32m[I 2022-05-24 00:26:59,926]\u001b[0m Trial 19 finished with value: 0.4444444477558136 and parameters: {'n_layers': 4, 'n_units': 100, 'dropout': 0.1, 'optimizer': 'Adam'}. Best is trial 0 with value: 0.4444444477558136.\u001b[0m\n"
     ]
    },
    {
     "name": "stdout",
     "output_type": "stream",
     "text": [
      "1/1 [==============================] - 0s 46ms/step - loss: 0.0000e+00 - accuracy: 0.4444\n"
     ]
    },
    {
     "name": "stderr",
     "output_type": "stream",
     "text": [
      "\u001b[32m[I 2022-05-24 00:27:02,049]\u001b[0m Trial 20 finished with value: 0.4444444477558136 and parameters: {'n_layers': 5, 'n_units': 100, 'dropout': 0.4, 'optimizer': 'Adam'}. Best is trial 0 with value: 0.4444444477558136.\u001b[0m\n"
     ]
    },
    {
     "name": "stdout",
     "output_type": "stream",
     "text": [
      "1/1 [==============================] - 0s 69ms/step - loss: 0.0000e+00 - accuracy: 0.4444\n"
     ]
    },
    {
     "name": "stderr",
     "output_type": "stream",
     "text": [
      "\u001b[32m[I 2022-05-24 00:27:04,899]\u001b[0m Trial 21 finished with value: 0.4444444477558136 and parameters: {'n_layers': 5, 'n_units': 100, 'dropout': 0.30000000000000004, 'optimizer': 'Adam'}. Best is trial 0 with value: 0.4444444477558136.\u001b[0m\n"
     ]
    },
    {
     "name": "stdout",
     "output_type": "stream",
     "text": [
      "1/1 [==============================] - 0s 16ms/step - loss: 0.0000e+00 - accuracy: 0.4444\n"
     ]
    },
    {
     "name": "stderr",
     "output_type": "stream",
     "text": [
      "\u001b[32m[I 2022-05-24 00:27:06,906]\u001b[0m Trial 22 finished with value: 0.4444444477558136 and parameters: {'n_layers': 4, 'n_units': 150, 'dropout': 0.2, 'optimizer': 'Adam'}. Best is trial 0 with value: 0.4444444477558136.\u001b[0m\n"
     ]
    },
    {
     "name": "stdout",
     "output_type": "stream",
     "text": [
      "1/1 [==============================] - 0s 31ms/step - loss: 0.0000e+00 - accuracy: 0.4444\n"
     ]
    },
    {
     "name": "stderr",
     "output_type": "stream",
     "text": [
      "\u001b[32m[I 2022-05-24 00:27:09,527]\u001b[0m Trial 23 finished with value: 0.4444444477558136 and parameters: {'n_layers': 5, 'n_units': 100, 'dropout': 0.1, 'optimizer': 'Adam'}. Best is trial 0 with value: 0.4444444477558136.\u001b[0m\n"
     ]
    },
    {
     "name": "stdout",
     "output_type": "stream",
     "text": [
      "1/1 [==============================] - 0s 31ms/step - loss: 0.0000e+00 - accuracy: 0.4444\n"
     ]
    },
    {
     "name": "stderr",
     "output_type": "stream",
     "text": [
      "\u001b[32m[I 2022-05-24 00:27:11,883]\u001b[0m Trial 24 finished with value: 0.4444444477558136 and parameters: {'n_layers': 5, 'n_units': 50, 'dropout': 0.4, 'optimizer': 'Adam'}. Best is trial 0 with value: 0.4444444477558136.\u001b[0m\n"
     ]
    },
    {
     "name": "stdout",
     "output_type": "stream",
     "text": [
      "1/1 [==============================] - 0s 31ms/step - loss: 0.0000e+00 - accuracy: 0.4444\n"
     ]
    },
    {
     "name": "stderr",
     "output_type": "stream",
     "text": [
      "\u001b[32m[I 2022-05-24 00:27:13,406]\u001b[0m Trial 25 finished with value: 0.4444444477558136 and parameters: {'n_layers': 4, 'n_units': 150, 'dropout': 0.2, 'optimizer': 'Adam'}. Best is trial 0 with value: 0.4444444477558136.\u001b[0m\n"
     ]
    },
    {
     "name": "stdout",
     "output_type": "stream",
     "text": [
      "1/1 [==============================] - 0s 35ms/step - loss: 0.0000e+00 - accuracy: 0.4444\n"
     ]
    },
    {
     "name": "stderr",
     "output_type": "stream",
     "text": [
      "\u001b[32m[I 2022-05-24 00:27:15,176]\u001b[0m Trial 26 finished with value: 0.4444444477558136 and parameters: {'n_layers': 4, 'n_units': 150, 'dropout': 0.1, 'optimizer': 'Adam'}. Best is trial 0 with value: 0.4444444477558136.\u001b[0m\n"
     ]
    },
    {
     "name": "stdout",
     "output_type": "stream",
     "text": [
      "1/1 [==============================] - 0s 33ms/step - loss: 0.0000e+00 - accuracy: 0.4444\n"
     ]
    },
    {
     "name": "stderr",
     "output_type": "stream",
     "text": [
      "\u001b[32m[I 2022-05-24 00:27:17,037]\u001b[0m Trial 27 finished with value: 0.4444444477558136 and parameters: {'n_layers': 5, 'n_units': 50, 'dropout': 0.0, 'optimizer': 'Adam'}. Best is trial 0 with value: 0.4444444477558136.\u001b[0m\n"
     ]
    },
    {
     "name": "stdout",
     "output_type": "stream",
     "text": [
      "1/1 [==============================] - 0s 29ms/step - loss: 0.0000e+00 - accuracy: 0.4444\n"
     ]
    },
    {
     "name": "stderr",
     "output_type": "stream",
     "text": [
      "\u001b[32m[I 2022-05-24 00:27:18,980]\u001b[0m Trial 28 finished with value: 0.4444444477558136 and parameters: {'n_layers': 4, 'n_units': 50, 'dropout': 0.2, 'optimizer': 'Adam'}. Best is trial 0 with value: 0.4444444477558136.\u001b[0m\n"
     ]
    },
    {
     "name": "stdout",
     "output_type": "stream",
     "text": [
      "1/1 [==============================] - 0s 32ms/step - loss: 0.0000e+00 - accuracy: 0.4444\n"
     ]
    },
    {
     "name": "stderr",
     "output_type": "stream",
     "text": [
      "\u001b[32m[I 2022-05-24 00:27:20,917]\u001b[0m Trial 29 finished with value: 0.4444444477558136 and parameters: {'n_layers': 4, 'n_units': 150, 'dropout': 0.2, 'optimizer': 'Adam'}. Best is trial 0 with value: 0.4444444477558136.\u001b[0m\n"
     ]
    },
    {
     "name": "stdout",
     "output_type": "stream",
     "text": [
      "1/1 [==============================] - 0s 35ms/step - loss: 0.0000e+00 - accuracy: 0.4444\n"
     ]
    },
    {
     "name": "stderr",
     "output_type": "stream",
     "text": [
      "\u001b[32m[I 2022-05-24 00:27:22,680]\u001b[0m Trial 30 finished with value: 0.4444444477558136 and parameters: {'n_layers': 3, 'n_units': 200, 'dropout': 0.0, 'optimizer': 'Adam'}. Best is trial 0 with value: 0.4444444477558136.\u001b[0m\n"
     ]
    },
    {
     "name": "stdout",
     "output_type": "stream",
     "text": [
      "1/1 [==============================] - 0s 29ms/step - loss: 0.0000e+00 - accuracy: 0.4444\n"
     ]
    },
    {
     "name": "stderr",
     "output_type": "stream",
     "text": [
      "\u001b[32m[I 2022-05-24 00:27:24,212]\u001b[0m Trial 31 finished with value: 0.4444444477558136 and parameters: {'n_layers': 4, 'n_units': 50, 'dropout': 0.1, 'optimizer': 'Adam'}. Best is trial 0 with value: 0.4444444477558136.\u001b[0m\n"
     ]
    },
    {
     "name": "stdout",
     "output_type": "stream",
     "text": [
      "1/1 [==============================] - 0s 31ms/step - loss: 0.0000e+00 - accuracy: 0.4444\n"
     ]
    },
    {
     "name": "stderr",
     "output_type": "stream",
     "text": [
      "\u001b[32m[I 2022-05-24 00:27:25,808]\u001b[0m Trial 32 finished with value: 0.4444444477558136 and parameters: {'n_layers': 4, 'n_units': 50, 'dropout': 0.2, 'optimizer': 'Adam'}. Best is trial 0 with value: 0.4444444477558136.\u001b[0m\n"
     ]
    },
    {
     "name": "stdout",
     "output_type": "stream",
     "text": [
      "1/1 [==============================] - 0s 31ms/step - loss: 0.0000e+00 - accuracy: 0.4444\n"
     ]
    },
    {
     "name": "stderr",
     "output_type": "stream",
     "text": [
      "\u001b[32m[I 2022-05-24 00:27:27,424]\u001b[0m Trial 33 finished with value: 0.4444444477558136 and parameters: {'n_layers': 3, 'n_units': 250, 'dropout': 0.0, 'optimizer': 'Adam'}. Best is trial 0 with value: 0.4444444477558136.\u001b[0m\n"
     ]
    },
    {
     "name": "stdout",
     "output_type": "stream",
     "text": [
      "1/1 [==============================] - 0s 31ms/step - loss: 0.0000e+00 - accuracy: 0.4444\n"
     ]
    },
    {
     "name": "stderr",
     "output_type": "stream",
     "text": [
      "\u001b[32m[I 2022-05-24 00:27:29,272]\u001b[0m Trial 34 finished with value: 0.4444444477558136 and parameters: {'n_layers': 3, 'n_units': 200, 'dropout': 0.0, 'optimizer': 'RMSprop'}. Best is trial 0 with value: 0.4444444477558136.\u001b[0m\n"
     ]
    },
    {
     "name": "stdout",
     "output_type": "stream",
     "text": [
      "1/1 [==============================] - 0s 33ms/step - loss: 0.0000e+00 - accuracy: 0.4444\n"
     ]
    },
    {
     "name": "stderr",
     "output_type": "stream",
     "text": [
      "\u001b[32m[I 2022-05-24 00:27:31,283]\u001b[0m Trial 35 finished with value: 0.4444444477558136 and parameters: {'n_layers': 5, 'n_units': 100, 'dropout': 0.30000000000000004, 'optimizer': 'Adam'}. Best is trial 0 with value: 0.4444444477558136.\u001b[0m\n"
     ]
    },
    {
     "name": "stdout",
     "output_type": "stream",
     "text": [
      "1/1 [==============================] - 0s 47ms/step - loss: 0.0000e+00 - accuracy: 0.4444\n"
     ]
    },
    {
     "name": "stderr",
     "output_type": "stream",
     "text": [
      "\u001b[32m[I 2022-05-24 00:27:33,768]\u001b[0m Trial 36 finished with value: 0.4444444477558136 and parameters: {'n_layers': 5, 'n_units': 100, 'dropout': 0.30000000000000004, 'optimizer': 'Adam'}. Best is trial 0 with value: 0.4444444477558136.\u001b[0m\n"
     ]
    },
    {
     "name": "stdout",
     "output_type": "stream",
     "text": [
      "1/1 [==============================] - 0s 31ms/step - loss: 0.0000e+00 - accuracy: 0.4444\n"
     ]
    },
    {
     "name": "stderr",
     "output_type": "stream",
     "text": [
      "\u001b[32m[I 2022-05-24 00:27:36,169]\u001b[0m Trial 37 finished with value: 0.4444444477558136 and parameters: {'n_layers': 5, 'n_units': 100, 'dropout': 0.4, 'optimizer': 'RMSprop'}. Best is trial 0 with value: 0.4444444477558136.\u001b[0m\n"
     ]
    },
    {
     "name": "stdout",
     "output_type": "stream",
     "text": [
      "1/1 [==============================] - 0s 31ms/step - loss: 0.0000e+00 - accuracy: 0.4444\n"
     ]
    },
    {
     "name": "stderr",
     "output_type": "stream",
     "text": [
      "\u001b[32m[I 2022-05-24 00:27:38,770]\u001b[0m Trial 38 finished with value: 0.4444444477558136 and parameters: {'n_layers': 5, 'n_units': 100, 'dropout': 0.2, 'optimizer': 'Adam'}. Best is trial 0 with value: 0.4444444477558136.\u001b[0m\n"
     ]
    },
    {
     "name": "stdout",
     "output_type": "stream",
     "text": [
      "1/1 [==============================] - 0s 16ms/step - loss: 0.0000e+00 - accuracy: 0.4444\n"
     ]
    },
    {
     "name": "stderr",
     "output_type": "stream",
     "text": [
      "\u001b[32m[I 2022-05-24 00:27:40,982]\u001b[0m Trial 39 finished with value: 0.4444444477558136 and parameters: {'n_layers': 5, 'n_units': 150, 'dropout': 0.30000000000000004, 'optimizer': 'RMSprop'}. Best is trial 0 with value: 0.4444444477558136.\u001b[0m\n"
     ]
    },
    {
     "name": "stdout",
     "output_type": "stream",
     "text": [
      "1/1 [==============================] - 0s 56ms/step - loss: 0.0000e+00 - accuracy: 0.4444\n"
     ]
    },
    {
     "name": "stderr",
     "output_type": "stream",
     "text": [
      "\u001b[32m[I 2022-05-24 00:27:42,679]\u001b[0m Trial 40 finished with value: 0.4444444477558136 and parameters: {'n_layers': 4, 'n_units': 50, 'dropout': 0.5, 'optimizer': 'Adam'}. Best is trial 0 with value: 0.4444444477558136.\u001b[0m\n"
     ]
    },
    {
     "name": "stdout",
     "output_type": "stream",
     "text": [
      "1/1 [==============================] - 0s 31ms/step - loss: 0.0000e+00 - accuracy: 0.4444\n"
     ]
    },
    {
     "name": "stderr",
     "output_type": "stream",
     "text": [
      "\u001b[32m[I 2022-05-24 00:27:44,671]\u001b[0m Trial 41 finished with value: 0.4444444477558136 and parameters: {'n_layers': 4, 'n_units': 150, 'dropout': 0.2, 'optimizer': 'Adam'}. Best is trial 0 with value: 0.4444444477558136.\u001b[0m\n"
     ]
    },
    {
     "name": "stdout",
     "output_type": "stream",
     "text": [
      "1/1 [==============================] - 0s 31ms/step - loss: 0.0000e+00 - accuracy: 0.4444\n"
     ]
    },
    {
     "name": "stderr",
     "output_type": "stream",
     "text": [
      "\u001b[32m[I 2022-05-24 00:27:46,503]\u001b[0m Trial 42 finished with value: 0.4444444477558136 and parameters: {'n_layers': 4, 'n_units': 150, 'dropout': 0.1, 'optimizer': 'Adam'}. Best is trial 0 with value: 0.4444444477558136.\u001b[0m\n"
     ]
    },
    {
     "name": "stdout",
     "output_type": "stream",
     "text": [
      "1/1 [==============================] - 0s 31ms/step - loss: 0.0000e+00 - accuracy: 0.4444\n"
     ]
    },
    {
     "name": "stderr",
     "output_type": "stream",
     "text": [
      "\u001b[32m[I 2022-05-24 00:27:48,011]\u001b[0m Trial 43 finished with value: 0.4444444477558136 and parameters: {'n_layers': 4, 'n_units': 150, 'dropout': 0.1, 'optimizer': 'Adam'}. Best is trial 0 with value: 0.4444444477558136.\u001b[0m\n"
     ]
    },
    {
     "name": "stdout",
     "output_type": "stream",
     "text": [
      "1/1 [==============================] - 0s 31ms/step - loss: 0.0000e+00 - accuracy: 0.4444\n"
     ]
    },
    {
     "name": "stderr",
     "output_type": "stream",
     "text": [
      "\u001b[32m[I 2022-05-24 00:27:50,127]\u001b[0m Trial 44 finished with value: 0.4444444477558136 and parameters: {'n_layers': 5, 'n_units': 50, 'dropout': 0.0, 'optimizer': 'Adam'}. Best is trial 0 with value: 0.4444444477558136.\u001b[0m\n"
     ]
    },
    {
     "name": "stdout",
     "output_type": "stream",
     "text": [
      "1/1 [==============================] - 0s 33ms/step - loss: 0.0000e+00 - accuracy: 0.4444\n"
     ]
    },
    {
     "name": "stderr",
     "output_type": "stream",
     "text": [
      "\u001b[32m[I 2022-05-24 00:27:51,970]\u001b[0m Trial 45 finished with value: 0.4444444477558136 and parameters: {'n_layers': 4, 'n_units': 50, 'dropout': 0.0, 'optimizer': 'Adam'}. Best is trial 0 with value: 0.4444444477558136.\u001b[0m\n"
     ]
    },
    {
     "name": "stdout",
     "output_type": "stream",
     "text": [
      "1/1 [==============================] - 0s 31ms/step - loss: 0.0000e+00 - accuracy: 0.4444\n"
     ]
    },
    {
     "name": "stderr",
     "output_type": "stream",
     "text": [
      "\u001b[32m[I 2022-05-24 00:27:53,782]\u001b[0m Trial 46 finished with value: 0.4444444477558136 and parameters: {'n_layers': 4, 'n_units': 250, 'dropout': 0.2, 'optimizer': 'Adam'}. Best is trial 0 with value: 0.4444444477558136.\u001b[0m\n"
     ]
    },
    {
     "name": "stdout",
     "output_type": "stream",
     "text": [
      "1/1 [==============================] - 0s 31ms/step - loss: 0.0000e+00 - accuracy: 0.4444\n"
     ]
    },
    {
     "name": "stderr",
     "output_type": "stream",
     "text": [
      "\u001b[32m[I 2022-05-24 00:27:56,122]\u001b[0m Trial 47 finished with value: 0.4444444477558136 and parameters: {'n_layers': 4, 'n_units': 200, 'dropout': 0.1, 'optimizer': 'RMSprop'}. Best is trial 0 with value: 0.4444444477558136.\u001b[0m\n"
     ]
    },
    {
     "name": "stdout",
     "output_type": "stream",
     "text": [
      "1/1 [==============================] - 0s 40ms/step - loss: 0.0000e+00 - accuracy: 0.4444\n"
     ]
    },
    {
     "name": "stderr",
     "output_type": "stream",
     "text": [
      "\u001b[32m[I 2022-05-24 00:27:58,073]\u001b[0m Trial 48 finished with value: 0.4444444477558136 and parameters: {'n_layers': 4, 'n_units': 50, 'dropout': 0.2, 'optimizer': 'Adam'}. Best is trial 0 with value: 0.4444444477558136.\u001b[0m\n"
     ]
    },
    {
     "name": "stdout",
     "output_type": "stream",
     "text": [
      "1/1 [==============================] - 0s 51ms/step - loss: 0.0000e+00 - accuracy: 0.4444\n"
     ]
    },
    {
     "name": "stderr",
     "output_type": "stream",
     "text": [
      "\u001b[32m[I 2022-05-24 00:28:00,039]\u001b[0m Trial 49 finished with value: 0.4444444477558136 and parameters: {'n_layers': 3, 'n_units': 250, 'dropout': 0.1, 'optimizer': 'Adam'}. Best is trial 0 with value: 0.4444444477558136.\u001b[0m\n"
     ]
    },
    {
     "name": "stdout",
     "output_type": "stream",
     "text": [
      "1/1 [==============================] - 0s 31ms/step - loss: 0.0000e+00 - accuracy: 0.4444\n"
     ]
    },
    {
     "name": "stderr",
     "output_type": "stream",
     "text": [
      "\u001b[32m[I 2022-05-24 00:28:01,608]\u001b[0m Trial 50 finished with value: 0.4444444477558136 and parameters: {'n_layers': 3, 'n_units': 200, 'dropout': 0.0, 'optimizer': 'SGD'}. Best is trial 0 with value: 0.4444444477558136.\u001b[0m\n"
     ]
    },
    {
     "name": "stdout",
     "output_type": "stream",
     "text": [
      "1/1 [==============================] - 0s 33ms/step - loss: 0.0000e+00 - accuracy: 0.4444\n"
     ]
    },
    {
     "name": "stderr",
     "output_type": "stream",
     "text": [
      "\u001b[32m[I 2022-05-24 00:28:03,320]\u001b[0m Trial 51 finished with value: 0.4444444477558136 and parameters: {'n_layers': 3, 'n_units': 50, 'dropout': 0.0, 'optimizer': 'Adam'}. Best is trial 0 with value: 0.4444444477558136.\u001b[0m\n"
     ]
    },
    {
     "name": "stdout",
     "output_type": "stream",
     "text": [
      "1/1 [==============================] - 0s 31ms/step - loss: 0.0000e+00 - accuracy: 0.4444\n"
     ]
    },
    {
     "name": "stderr",
     "output_type": "stream",
     "text": [
      "\u001b[32m[I 2022-05-24 00:28:05,022]\u001b[0m Trial 52 finished with value: 0.4444444477558136 and parameters: {'n_layers': 4, 'n_units': 50, 'dropout': 0.2, 'optimizer': 'Adam'}. Best is trial 0 with value: 0.4444444477558136.\u001b[0m\n"
     ]
    },
    {
     "name": "stdout",
     "output_type": "stream",
     "text": [
      "1/1 [==============================] - 0s 28ms/step - loss: 0.0000e+00 - accuracy: 0.4444\n"
     ]
    },
    {
     "name": "stderr",
     "output_type": "stream",
     "text": [
      "\u001b[32m[I 2022-05-24 00:28:08,302]\u001b[0m Trial 53 finished with value: 0.4444444477558136 and parameters: {'n_layers': 4, 'n_units': 200, 'dropout': 0.2, 'optimizer': 'Adam'}. Best is trial 0 with value: 0.4444444477558136.\u001b[0m\n"
     ]
    },
    {
     "name": "stdout",
     "output_type": "stream",
     "text": [
      "1/1 [==============================] - 0s 29ms/step - loss: 0.0000e+00 - accuracy: 0.4444\n"
     ]
    },
    {
     "name": "stderr",
     "output_type": "stream",
     "text": [
      "\u001b[32m[I 2022-05-24 00:28:09,792]\u001b[0m Trial 54 finished with value: 0.4444444477558136 and parameters: {'n_layers': 3, 'n_units': 250, 'dropout': 0.0, 'optimizer': 'Adam'}. Best is trial 0 with value: 0.4444444477558136.\u001b[0m\n"
     ]
    },
    {
     "name": "stdout",
     "output_type": "stream",
     "text": [
      "1/1 [==============================] - 0s 23ms/step - loss: 0.0000e+00 - accuracy: 0.4444\n"
     ]
    },
    {
     "name": "stderr",
     "output_type": "stream",
     "text": [
      "\u001b[32m[I 2022-05-24 00:28:11,682]\u001b[0m Trial 55 finished with value: 0.4444444477558136 and parameters: {'n_layers': 3, 'n_units': 250, 'dropout': 0.1, 'optimizer': 'Adam'}. Best is trial 0 with value: 0.4444444477558136.\u001b[0m\n"
     ]
    },
    {
     "name": "stdout",
     "output_type": "stream",
     "text": [
      "1/1 [==============================] - 0s 36ms/step - loss: 0.0000e+00 - accuracy: 0.4444\n"
     ]
    },
    {
     "name": "stderr",
     "output_type": "stream",
     "text": [
      "\u001b[32m[I 2022-05-24 00:28:13,713]\u001b[0m Trial 56 finished with value: 0.4444444477558136 and parameters: {'n_layers': 3, 'n_units': 200, 'dropout': 0.0, 'optimizer': 'RMSprop'}. Best is trial 0 with value: 0.4444444477558136.\u001b[0m\n"
     ]
    },
    {
     "name": "stdout",
     "output_type": "stream",
     "text": [
      "1/1 [==============================] - 0s 16ms/step - loss: 0.0000e+00 - accuracy: 0.4444\n"
     ]
    },
    {
     "name": "stderr",
     "output_type": "stream",
     "text": [
      "\u001b[32m[I 2022-05-24 00:28:15,058]\u001b[0m Trial 57 finished with value: 0.4444444477558136 and parameters: {'n_layers': 2, 'n_units': 200, 'dropout': 0.0, 'optimizer': 'RMSprop'}. Best is trial 0 with value: 0.4444444477558136.\u001b[0m\n"
     ]
    },
    {
     "name": "stdout",
     "output_type": "stream",
     "text": [
      "1/1 [==============================] - 0s 31ms/step - loss: 0.0000e+00 - accuracy: 0.4444\n"
     ]
    },
    {
     "name": "stderr",
     "output_type": "stream",
     "text": [
      "\u001b[32m[I 2022-05-24 00:28:16,710]\u001b[0m Trial 58 finished with value: 0.4444444477558136 and parameters: {'n_layers': 3, 'n_units': 250, 'dropout': 0.30000000000000004, 'optimizer': 'RMSprop'}. Best is trial 0 with value: 0.4444444477558136.\u001b[0m\n"
     ]
    },
    {
     "name": "stdout",
     "output_type": "stream",
     "text": [
      "1/1 [==============================] - 0s 31ms/step - loss: 0.0000e+00 - accuracy: 0.4444\n"
     ]
    },
    {
     "name": "stderr",
     "output_type": "stream",
     "text": [
      "\u001b[32m[I 2022-05-24 00:28:18,505]\u001b[0m Trial 59 finished with value: 0.4444444477558136 and parameters: {'n_layers': 2, 'n_units': 100, 'dropout': 0.30000000000000004, 'optimizer': 'RMSprop'}. Best is trial 0 with value: 0.4444444477558136.\u001b[0m\n"
     ]
    },
    {
     "name": "stdout",
     "output_type": "stream",
     "text": [
      "1/1 [==============================] - 0s 27ms/step - loss: 0.0000e+00 - accuracy: 0.4444\n"
     ]
    },
    {
     "name": "stderr",
     "output_type": "stream",
     "text": [
      "\u001b[32m[I 2022-05-24 00:28:20,305]\u001b[0m Trial 60 finished with value: 0.4444444477558136 and parameters: {'n_layers': 3, 'n_units': 100, 'dropout': 0.30000000000000004, 'optimizer': 'RMSprop'}. Best is trial 0 with value: 0.4444444477558136.\u001b[0m\n"
     ]
    },
    {
     "name": "stdout",
     "output_type": "stream",
     "text": [
      "1/1 [==============================] - 0s 34ms/step - loss: 0.0000e+00 - accuracy: 0.4444\n"
     ]
    },
    {
     "name": "stderr",
     "output_type": "stream",
     "text": [
      "\u001b[32m[I 2022-05-24 00:28:22,521]\u001b[0m Trial 61 finished with value: 0.4444444477558136 and parameters: {'n_layers': 5, 'n_units': 100, 'dropout': 0.4, 'optimizer': 'RMSprop'}. Best is trial 0 with value: 0.4444444477558136.\u001b[0m\n"
     ]
    },
    {
     "name": "stdout",
     "output_type": "stream",
     "text": [
      "1/1 [==============================] - 0s 34ms/step - loss: 0.0000e+00 - accuracy: 0.4444\n"
     ]
    },
    {
     "name": "stderr",
     "output_type": "stream",
     "text": [
      "\u001b[32m[I 2022-05-24 00:28:25,108]\u001b[0m Trial 62 finished with value: 0.4444444477558136 and parameters: {'n_layers': 5, 'n_units': 100, 'dropout': 0.4, 'optimizer': 'RMSprop'}. Best is trial 0 with value: 0.4444444477558136.\u001b[0m\n"
     ]
    },
    {
     "name": "stdout",
     "output_type": "stream",
     "text": [
      "1/1 [==============================] - 0s 16ms/step - loss: 0.0000e+00 - accuracy: 0.4444\n"
     ]
    },
    {
     "name": "stderr",
     "output_type": "stream",
     "text": [
      "\u001b[32m[I 2022-05-24 00:28:27,284]\u001b[0m Trial 63 finished with value: 0.4444444477558136 and parameters: {'n_layers': 5, 'n_units': 100, 'dropout': 0.4, 'optimizer': 'RMSprop'}. Best is trial 0 with value: 0.4444444477558136.\u001b[0m\n"
     ]
    },
    {
     "name": "stdout",
     "output_type": "stream",
     "text": [
      "1/1 [==============================] - 0s 31ms/step - loss: 0.0000e+00 - accuracy: 0.4444\n"
     ]
    },
    {
     "name": "stderr",
     "output_type": "stream",
     "text": [
      "\u001b[32m[I 2022-05-24 00:28:30,111]\u001b[0m Trial 64 finished with value: 0.4444444477558136 and parameters: {'n_layers': 5, 'n_units': 100, 'dropout': 0.30000000000000004, 'optimizer': 'RMSprop'}. Best is trial 0 with value: 0.4444444477558136.\u001b[0m\n"
     ]
    },
    {
     "name": "stdout",
     "output_type": "stream",
     "text": [
      "1/1 [==============================] - 0s 16ms/step - loss: 0.0000e+00 - accuracy: 0.4444\n"
     ]
    },
    {
     "name": "stderr",
     "output_type": "stream",
     "text": [
      "\u001b[32m[I 2022-05-24 00:28:32,195]\u001b[0m Trial 65 finished with value: 0.4444444477558136 and parameters: {'n_layers': 5, 'n_units': 100, 'dropout': 0.30000000000000004, 'optimizer': 'RMSprop'}. Best is trial 0 with value: 0.4444444477558136.\u001b[0m\n"
     ]
    },
    {
     "name": "stdout",
     "output_type": "stream",
     "text": [
      "1/1 [==============================] - 0s 47ms/step - loss: 0.0000e+00 - accuracy: 0.4444\n"
     ]
    },
    {
     "name": "stderr",
     "output_type": "stream",
     "text": [
      "\u001b[32m[I 2022-05-24 00:28:34,547]\u001b[0m Trial 66 finished with value: 0.4444444477558136 and parameters: {'n_layers': 5, 'n_units': 100, 'dropout': 0.5, 'optimizer': 'SGD'}. Best is trial 0 with value: 0.4444444477558136.\u001b[0m\n"
     ]
    },
    {
     "name": "stdout",
     "output_type": "stream",
     "text": [
      "1/1 [==============================] - 0s 10ms/step - loss: 0.0000e+00 - accuracy: 0.4444\n"
     ]
    },
    {
     "name": "stderr",
     "output_type": "stream",
     "text": [
      "\u001b[32m[I 2022-05-24 00:28:37,060]\u001b[0m Trial 67 finished with value: 0.4444444477558136 and parameters: {'n_layers': 5, 'n_units': 100, 'dropout': 0.5, 'optimizer': 'RMSprop'}. Best is trial 0 with value: 0.4444444477558136.\u001b[0m\n"
     ]
    },
    {
     "name": "stdout",
     "output_type": "stream",
     "text": [
      "1/1 [==============================] - 0s 16ms/step - loss: 0.0000e+00 - accuracy: 0.4444\n"
     ]
    },
    {
     "name": "stderr",
     "output_type": "stream",
     "text": [
      "\u001b[32m[I 2022-05-24 00:28:38,599]\u001b[0m Trial 68 finished with value: 0.4444444477558136 and parameters: {'n_layers': 5, 'n_units': 150, 'dropout': 0.5, 'optimizer': 'SGD'}. Best is trial 0 with value: 0.4444444477558136.\u001b[0m\n"
     ]
    },
    {
     "name": "stdout",
     "output_type": "stream",
     "text": [
      "1/1 [==============================] - 0s 31ms/step - loss: 0.0000e+00 - accuracy: 0.4444\n"
     ]
    },
    {
     "name": "stderr",
     "output_type": "stream",
     "text": [
      "\u001b[32m[I 2022-05-24 00:28:40,429]\u001b[0m Trial 69 finished with value: 0.4444444477558136 and parameters: {'n_layers': 5, 'n_units': 150, 'dropout': 0.4, 'optimizer': 'Adam'}. Best is trial 0 with value: 0.4444444477558136.\u001b[0m\n"
     ]
    },
    {
     "name": "stdout",
     "output_type": "stream",
     "text": [
      "1/1 [==============================] - 0s 49ms/step - loss: 0.0000e+00 - accuracy: 0.4444\n"
     ]
    },
    {
     "name": "stderr",
     "output_type": "stream",
     "text": [
      "\u001b[32m[I 2022-05-24 00:28:42,366]\u001b[0m Trial 70 finished with value: 0.4444444477558136 and parameters: {'n_layers': 4, 'n_units': 150, 'dropout': 0.5, 'optimizer': 'Adam'}. Best is trial 0 with value: 0.4444444477558136.\u001b[0m\n"
     ]
    },
    {
     "name": "stdout",
     "output_type": "stream",
     "text": [
      "1/1 [==============================] - 0s 19ms/step - loss: 0.0000e+00 - accuracy: 0.4444\n"
     ]
    },
    {
     "name": "stderr",
     "output_type": "stream",
     "text": [
      "\u001b[32m[I 2022-05-24 00:28:43,652]\u001b[0m Trial 71 finished with value: 0.4444444477558136 and parameters: {'n_layers': 3, 'n_units': 250, 'dropout': 0.0, 'optimizer': 'SGD'}. Best is trial 0 with value: 0.4444444477558136.\u001b[0m\n"
     ]
    },
    {
     "name": "stdout",
     "output_type": "stream",
     "text": [
      "1/1 [==============================] - 0s 31ms/step - loss: 0.0000e+00 - accuracy: 0.4444\n"
     ]
    },
    {
     "name": "stderr",
     "output_type": "stream",
     "text": [
      "\u001b[32m[I 2022-05-24 00:28:45,168]\u001b[0m Trial 72 finished with value: 0.4444444477558136 and parameters: {'n_layers': 4, 'n_units': 250, 'dropout': 0.2, 'optimizer': 'SGD'}. Best is trial 0 with value: 0.4444444477558136.\u001b[0m\n"
     ]
    },
    {
     "name": "stdout",
     "output_type": "stream",
     "text": [
      "1/1 [==============================] - 0s 42ms/step - loss: 0.0000e+00 - accuracy: 0.4444\n"
     ]
    },
    {
     "name": "stderr",
     "output_type": "stream",
     "text": [
      "\u001b[32m[I 2022-05-24 00:28:46,662]\u001b[0m Trial 73 finished with value: 0.4444444477558136 and parameters: {'n_layers': 3, 'n_units': 200, 'dropout': 0.1, 'optimizer': 'SGD'}. Best is trial 0 with value: 0.4444444477558136.\u001b[0m\n"
     ]
    },
    {
     "name": "stdout",
     "output_type": "stream",
     "text": [
      "1/1 [==============================] - 0s 34ms/step - loss: 0.0000e+00 - accuracy: 0.4444\n"
     ]
    },
    {
     "name": "stderr",
     "output_type": "stream",
     "text": [
      "\u001b[32m[I 2022-05-24 00:28:48,474]\u001b[0m Trial 74 finished with value: 0.4444444477558136 and parameters: {'n_layers': 4, 'n_units': 200, 'dropout': 0.1, 'optimizer': 'Adam'}. Best is trial 0 with value: 0.4444444477558136.\u001b[0m\n"
     ]
    },
    {
     "name": "stdout",
     "output_type": "stream",
     "text": [
      "1/1 [==============================] - 0s 31ms/step - loss: 0.0000e+00 - accuracy: 0.4444\n"
     ]
    },
    {
     "name": "stderr",
     "output_type": "stream",
     "text": [
      "\u001b[32m[I 2022-05-24 00:28:50,108]\u001b[0m Trial 75 finished with value: 0.4444444477558136 and parameters: {'n_layers': 4, 'n_units': 200, 'dropout': 0.2, 'optimizer': 'SGD'}. Best is trial 0 with value: 0.4444444477558136.\u001b[0m\n"
     ]
    },
    {
     "name": "stdout",
     "output_type": "stream",
     "text": [
      "1/1 [==============================] - 0s 31ms/step - loss: 0.0000e+00 - accuracy: 0.4444\n"
     ]
    },
    {
     "name": "stderr",
     "output_type": "stream",
     "text": [
      "\u001b[32m[I 2022-05-24 00:28:51,522]\u001b[0m Trial 76 finished with value: 0.4444444477558136 and parameters: {'n_layers': 3, 'n_units': 250, 'dropout': 0.0, 'optimizer': 'Adam'}. Best is trial 0 with value: 0.4444444477558136.\u001b[0m\n"
     ]
    },
    {
     "name": "stdout",
     "output_type": "stream",
     "text": [
      "1/1 [==============================] - 0s 31ms/step - loss: 0.0000e+00 - accuracy: 0.4444\n"
     ]
    },
    {
     "name": "stderr",
     "output_type": "stream",
     "text": [
      "\u001b[32m[I 2022-05-24 00:28:53,335]\u001b[0m Trial 77 finished with value: 0.4444444477558136 and parameters: {'n_layers': 3, 'n_units': 50, 'dropout': 0.2, 'optimizer': 'Adam'}. Best is trial 0 with value: 0.4444444477558136.\u001b[0m\n"
     ]
    },
    {
     "name": "stdout",
     "output_type": "stream",
     "text": [
      "1/1 [==============================] - 0s 31ms/step - loss: 0.0000e+00 - accuracy: 0.4444\n"
     ]
    },
    {
     "name": "stderr",
     "output_type": "stream",
     "text": [
      "\u001b[32m[I 2022-05-24 00:28:54,739]\u001b[0m Trial 78 finished with value: 0.4444444477558136 and parameters: {'n_layers': 3, 'n_units': 250, 'dropout': 0.0, 'optimizer': 'Adam'}. Best is trial 0 with value: 0.4444444477558136.\u001b[0m\n"
     ]
    },
    {
     "name": "stdout",
     "output_type": "stream",
     "text": [
      "1/1 [==============================] - 0s 31ms/step - loss: 0.0000e+00 - accuracy: 0.4444\n"
     ]
    },
    {
     "name": "stderr",
     "output_type": "stream",
     "text": [
      "\u001b[32m[I 2022-05-24 00:28:56,172]\u001b[0m Trial 79 finished with value: 0.4444444477558136 and parameters: {'n_layers': 3, 'n_units': 200, 'dropout': 0.0, 'optimizer': 'Adam'}. Best is trial 0 with value: 0.4444444477558136.\u001b[0m\n"
     ]
    },
    {
     "name": "stdout",
     "output_type": "stream",
     "text": [
      "1/1 [==============================] - 0s 31ms/step - loss: 0.0000e+00 - accuracy: 0.4444\n"
     ]
    },
    {
     "name": "stderr",
     "output_type": "stream",
     "text": [
      "\u001b[32m[I 2022-05-24 00:28:57,603]\u001b[0m Trial 80 finished with value: 0.4444444477558136 and parameters: {'n_layers': 2, 'n_units': 200, 'dropout': 0.0, 'optimizer': 'Adam'}. Best is trial 0 with value: 0.4444444477558136.\u001b[0m\n"
     ]
    },
    {
     "name": "stdout",
     "output_type": "stream",
     "text": [
      "1/1 [==============================] - 0s 31ms/step - loss: 0.0000e+00 - accuracy: 0.4444\n"
     ]
    },
    {
     "name": "stderr",
     "output_type": "stream",
     "text": [
      "\u001b[32m[I 2022-05-24 00:28:59,196]\u001b[0m Trial 81 finished with value: 0.4444444477558136 and parameters: {'n_layers': 2, 'n_units': 250, 'dropout': 0.0, 'optimizer': 'RMSprop'}. Best is trial 0 with value: 0.4444444477558136.\u001b[0m\n"
     ]
    },
    {
     "name": "stdout",
     "output_type": "stream",
     "text": [
      "1/1 [==============================] - 0s 24ms/step - loss: 0.0000e+00 - accuracy: 0.4444\n"
     ]
    },
    {
     "name": "stderr",
     "output_type": "stream",
     "text": [
      "\u001b[32m[I 2022-05-24 00:29:00,722]\u001b[0m Trial 82 finished with value: 0.4444444477558136 and parameters: {'n_layers': 2, 'n_units': 200, 'dropout': 0.30000000000000004, 'optimizer': 'RMSprop'}. Best is trial 0 with value: 0.4444444477558136.\u001b[0m\n"
     ]
    },
    {
     "name": "stdout",
     "output_type": "stream",
     "text": [
      "1/1 [==============================] - 0s 47ms/step - loss: 0.0000e+00 - accuracy: 0.4444\n"
     ]
    },
    {
     "name": "stderr",
     "output_type": "stream",
     "text": [
      "\u001b[32m[I 2022-05-24 00:29:02,983]\u001b[0m Trial 83 finished with value: 0.4444444477558136 and parameters: {'n_layers': 2, 'n_units': 250, 'dropout': 0.30000000000000004, 'optimizer': 'RMSprop'}. Best is trial 0 with value: 0.4444444477558136.\u001b[0m\n"
     ]
    },
    {
     "name": "stdout",
     "output_type": "stream",
     "text": [
      "1/1 [==============================] - 0s 16ms/step - loss: 0.0000e+00 - accuracy: 0.4444\n"
     ]
    },
    {
     "name": "stderr",
     "output_type": "stream",
     "text": [
      "\u001b[32m[I 2022-05-24 00:29:04,720]\u001b[0m Trial 84 finished with value: 0.4444444477558136 and parameters: {'n_layers': 2, 'n_units': 250, 'dropout': 0.30000000000000004, 'optimizer': 'RMSprop'}. Best is trial 0 with value: 0.4444444477558136.\u001b[0m\n"
     ]
    },
    {
     "name": "stdout",
     "output_type": "stream",
     "text": [
      "1/1 [==============================] - 0s 31ms/step - loss: 0.0000e+00 - accuracy: 0.4444\n"
     ]
    },
    {
     "name": "stderr",
     "output_type": "stream",
     "text": [
      "\u001b[32m[I 2022-05-24 00:29:06,454]\u001b[0m Trial 85 finished with value: 0.4444444477558136 and parameters: {'n_layers': 2, 'n_units': 250, 'dropout': 0.30000000000000004, 'optimizer': 'RMSprop'}. Best is trial 0 with value: 0.4444444477558136.\u001b[0m\n"
     ]
    },
    {
     "name": "stdout",
     "output_type": "stream",
     "text": [
      "1/1 [==============================] - 0s 31ms/step - loss: 0.0000e+00 - accuracy: 0.4444\n"
     ]
    },
    {
     "name": "stderr",
     "output_type": "stream",
     "text": [
      "\u001b[32m[I 2022-05-24 00:29:08,281]\u001b[0m Trial 86 finished with value: 0.4444444477558136 and parameters: {'n_layers': 3, 'n_units': 250, 'dropout': 0.30000000000000004, 'optimizer': 'RMSprop'}. Best is trial 0 with value: 0.4444444477558136.\u001b[0m\n"
     ]
    },
    {
     "name": "stdout",
     "output_type": "stream",
     "text": [
      "1/1 [==============================] - 0s 31ms/step - loss: 0.0000e+00 - accuracy: 0.4444\n"
     ]
    },
    {
     "name": "stderr",
     "output_type": "stream",
     "text": [
      "\u001b[32m[I 2022-05-24 00:29:10,035]\u001b[0m Trial 87 finished with value: 0.4444444477558136 and parameters: {'n_layers': 2, 'n_units': 100, 'dropout': 0.4, 'optimizer': 'RMSprop'}. Best is trial 0 with value: 0.4444444477558136.\u001b[0m\n"
     ]
    },
    {
     "name": "stdout",
     "output_type": "stream",
     "text": [
      "1/1 [==============================] - 0s 31ms/step - loss: 0.0000e+00 - accuracy: 0.4444\n"
     ]
    },
    {
     "name": "stderr",
     "output_type": "stream",
     "text": [
      "\u001b[32m[I 2022-05-24 00:29:11,923]\u001b[0m Trial 88 finished with value: 0.4444444477558136 and parameters: {'n_layers': 2, 'n_units': 100, 'dropout': 0.4, 'optimizer': 'RMSprop'}. Best is trial 0 with value: 0.4444444477558136.\u001b[0m\n"
     ]
    },
    {
     "name": "stdout",
     "output_type": "stream",
     "text": [
      "1/1 [==============================] - 0s 48ms/step - loss: 0.0000e+00 - accuracy: 0.4444\n"
     ]
    },
    {
     "name": "stderr",
     "output_type": "stream",
     "text": [
      "\u001b[32m[I 2022-05-24 00:29:13,534]\u001b[0m Trial 89 finished with value: 0.4444444477558136 and parameters: {'n_layers': 2, 'n_units': 100, 'dropout': 0.4, 'optimizer': 'RMSprop'}. Best is trial 0 with value: 0.4444444477558136.\u001b[0m\n"
     ]
    },
    {
     "name": "stdout",
     "output_type": "stream",
     "text": [
      "1/1 [==============================] - 0s 35ms/step - loss: 0.0000e+00 - accuracy: 0.4444\n"
     ]
    },
    {
     "name": "stderr",
     "output_type": "stream",
     "text": [
      "\u001b[32m[I 2022-05-24 00:29:16,548]\u001b[0m Trial 90 finished with value: 0.4444444477558136 and parameters: {'n_layers': 5, 'n_units': 100, 'dropout': 0.4, 'optimizer': 'RMSprop'}. Best is trial 0 with value: 0.4444444477558136.\u001b[0m\n"
     ]
    },
    {
     "name": "stdout",
     "output_type": "stream",
     "text": [
      "1/1 [==============================] - 0s 31ms/step - loss: 0.0000e+00 - accuracy: 0.4444\n"
     ]
    },
    {
     "name": "stderr",
     "output_type": "stream",
     "text": [
      "\u001b[32m[I 2022-05-24 00:29:18,621]\u001b[0m Trial 91 finished with value: 0.4444444477558136 and parameters: {'n_layers': 5, 'n_units': 100, 'dropout': 0.30000000000000004, 'optimizer': 'RMSprop'}. Best is trial 0 with value: 0.4444444477558136.\u001b[0m\n"
     ]
    },
    {
     "name": "stdout",
     "output_type": "stream",
     "text": [
      "1/1 [==============================] - 0s 26ms/step - loss: 0.0000e+00 - accuracy: 0.4444\n"
     ]
    },
    {
     "name": "stderr",
     "output_type": "stream",
     "text": [
      "\u001b[32m[I 2022-05-24 00:29:21,782]\u001b[0m Trial 92 finished with value: 0.4444444477558136 and parameters: {'n_layers': 5, 'n_units': 100, 'dropout': 0.30000000000000004, 'optimizer': 'RMSprop'}. Best is trial 0 with value: 0.4444444477558136.\u001b[0m\n"
     ]
    },
    {
     "name": "stdout",
     "output_type": "stream",
     "text": [
      "1/1 [==============================] - 0s 31ms/step - loss: 0.0000e+00 - accuracy: 0.4444\n"
     ]
    },
    {
     "name": "stderr",
     "output_type": "stream",
     "text": [
      "\u001b[32m[I 2022-05-24 00:29:24,146]\u001b[0m Trial 93 finished with value: 0.4444444477558136 and parameters: {'n_layers': 5, 'n_units': 100, 'dropout': 0.30000000000000004, 'optimizer': 'RMSprop'}. Best is trial 0 with value: 0.4444444477558136.\u001b[0m\n"
     ]
    },
    {
     "name": "stdout",
     "output_type": "stream",
     "text": [
      "1/1 [==============================] - 0s 29ms/step - loss: 0.0000e+00 - accuracy: 0.4444\n"
     ]
    },
    {
     "name": "stderr",
     "output_type": "stream",
     "text": [
      "\u001b[32m[I 2022-05-24 00:29:27,202]\u001b[0m Trial 94 finished with value: 0.4444444477558136 and parameters: {'n_layers': 5, 'n_units': 100, 'dropout': 0.5, 'optimizer': 'RMSprop'}. Best is trial 0 with value: 0.4444444477558136.\u001b[0m\n"
     ]
    },
    {
     "name": "stdout",
     "output_type": "stream",
     "text": [
      "1/1 [==============================] - 0s 31ms/step - loss: 0.0000e+00 - accuracy: 0.4444\n"
     ]
    },
    {
     "name": "stderr",
     "output_type": "stream",
     "text": [
      "\u001b[32m[I 2022-05-24 00:29:28,829]\u001b[0m Trial 95 finished with value: 0.4444444477558136 and parameters: {'n_layers': 5, 'n_units': 100, 'dropout': 0.5, 'optimizer': 'SGD'}. Best is trial 0 with value: 0.4444444477558136.\u001b[0m\n"
     ]
    },
    {
     "name": "stdout",
     "output_type": "stream",
     "text": [
      "1/1 [==============================] - 0s 32ms/step - loss: 0.0000e+00 - accuracy: 0.4444\n"
     ]
    },
    {
     "name": "stderr",
     "output_type": "stream",
     "text": [
      "\u001b[32m[I 2022-05-24 00:29:30,939]\u001b[0m Trial 96 finished with value: 0.4444444477558136 and parameters: {'n_layers': 5, 'n_units': 150, 'dropout': 0.5, 'optimizer': 'SGD'}. Best is trial 0 with value: 0.4444444477558136.\u001b[0m\n"
     ]
    },
    {
     "name": "stdout",
     "output_type": "stream",
     "text": [
      "1/1 [==============================] - 0s 31ms/step - loss: 0.0000e+00 - accuracy: 0.4444\n"
     ]
    },
    {
     "name": "stderr",
     "output_type": "stream",
     "text": [
      "\u001b[32m[I 2022-05-24 00:29:32,742]\u001b[0m Trial 97 finished with value: 0.4444444477558136 and parameters: {'n_layers': 5, 'n_units': 100, 'dropout': 0.5, 'optimizer': 'SGD'}. Best is trial 0 with value: 0.4444444477558136.\u001b[0m\n"
     ]
    },
    {
     "name": "stdout",
     "output_type": "stream",
     "text": [
      "1/1 [==============================] - 0s 31ms/step - loss: 0.0000e+00 - accuracy: 0.4444\n"
     ]
    },
    {
     "name": "stderr",
     "output_type": "stream",
     "text": [
      "\u001b[32m[I 2022-05-24 00:29:34,408]\u001b[0m Trial 98 finished with value: 0.4444444477558136 and parameters: {'n_layers': 5, 'n_units': 150, 'dropout': 0.5, 'optimizer': 'SGD'}. Best is trial 0 with value: 0.4444444477558136.\u001b[0m\n"
     ]
    },
    {
     "name": "stdout",
     "output_type": "stream",
     "text": [
      "1/1 [==============================] - 0s 31ms/step - loss: 0.0000e+00 - accuracy: 0.4444\n"
     ]
    },
    {
     "name": "stderr",
     "output_type": "stream",
     "text": [
      "\u001b[32m[I 2022-05-24 00:29:36,057]\u001b[0m Trial 99 finished with value: 0.4444444477558136 and parameters: {'n_layers': 5, 'n_units': 150, 'dropout': 0.5, 'optimizer': 'SGD'}. Best is trial 0 with value: 0.4444444477558136.\u001b[0m\n"
     ]
    },
    {
     "name": "stdout",
     "output_type": "stream",
     "text": [
      "1/1 [==============================] - 0s 31ms/step - loss: 0.0000e+00 - accuracy: 0.4444\n"
     ]
    },
    {
     "name": "stderr",
     "output_type": "stream",
     "text": [
      "\u001b[32m[I 2022-05-24 00:29:37,874]\u001b[0m Trial 100 finished with value: 0.4444444477558136 and parameters: {'n_layers': 5, 'n_units': 150, 'dropout': 0.5, 'optimizer': 'SGD'}. Best is trial 0 with value: 0.4444444477558136.\u001b[0m\n"
     ]
    },
    {
     "name": "stdout",
     "output_type": "stream",
     "text": [
      "1/1 [==============================] - 0s 31ms/step - loss: 0.0000e+00 - accuracy: 0.4444\n"
     ]
    },
    {
     "name": "stderr",
     "output_type": "stream",
     "text": [
      "\u001b[32m[I 2022-05-24 00:29:39,845]\u001b[0m Trial 101 finished with value: 0.4444444477558136 and parameters: {'n_layers': 5, 'n_units': 150, 'dropout': 0.5, 'optimizer': 'SGD'}. Best is trial 0 with value: 0.4444444477558136.\u001b[0m\n"
     ]
    },
    {
     "name": "stdout",
     "output_type": "stream",
     "text": [
      "1/1 [==============================] - 0s 47ms/step - loss: 0.0000e+00 - accuracy: 0.4444\n"
     ]
    },
    {
     "name": "stderr",
     "output_type": "stream",
     "text": [
      "\u001b[32m[I 2022-05-24 00:29:41,589]\u001b[0m Trial 102 finished with value: 0.4444444477558136 and parameters: {'n_layers': 5, 'n_units': 150, 'dropout': 0.5, 'optimizer': 'SGD'}. Best is trial 0 with value: 0.4444444477558136.\u001b[0m\n"
     ]
    },
    {
     "name": "stdout",
     "output_type": "stream",
     "text": [
      "1/1 [==============================] - 0s 31ms/step - loss: 0.0000e+00 - accuracy: 0.4444\n"
     ]
    },
    {
     "name": "stderr",
     "output_type": "stream",
     "text": [
      "\u001b[32m[I 2022-05-24 00:29:43,441]\u001b[0m Trial 103 finished with value: 0.4444444477558136 and parameters: {'n_layers': 4, 'n_units': 150, 'dropout': 0.5, 'optimizer': 'SGD'}. Best is trial 0 with value: 0.4444444477558136.\u001b[0m\n"
     ]
    },
    {
     "name": "stdout",
     "output_type": "stream",
     "text": [
      "1/1 [==============================] - 0s 31ms/step - loss: 0.0000e+00 - accuracy: 0.4444\n"
     ]
    },
    {
     "name": "stderr",
     "output_type": "stream",
     "text": [
      "\u001b[32m[I 2022-05-24 00:29:45,032]\u001b[0m Trial 104 finished with value: 0.4444444477558136 and parameters: {'n_layers': 4, 'n_units': 200, 'dropout': 0.1, 'optimizer': 'SGD'}. Best is trial 0 with value: 0.4444444477558136.\u001b[0m\n"
     ]
    },
    {
     "name": "stdout",
     "output_type": "stream",
     "text": [
      "1/1 [==============================] - 0s 31ms/step - loss: 0.0000e+00 - accuracy: 0.4444\n"
     ]
    },
    {
     "name": "stderr",
     "output_type": "stream",
     "text": [
      "\u001b[32m[I 2022-05-24 00:29:46,350]\u001b[0m Trial 105 finished with value: 0.4444444477558136 and parameters: {'n_layers': 4, 'n_units': 200, 'dropout': 0.5, 'optimizer': 'SGD'}. Best is trial 0 with value: 0.4444444477558136.\u001b[0m\n"
     ]
    },
    {
     "name": "stdout",
     "output_type": "stream",
     "text": [
      "1/1 [==============================] - 0s 31ms/step - loss: 0.0000e+00 - accuracy: 0.4444\n"
     ]
    },
    {
     "name": "stderr",
     "output_type": "stream",
     "text": [
      "\u001b[32m[I 2022-05-24 00:29:47,533]\u001b[0m Trial 106 finished with value: 0.4444444477558136 and parameters: {'n_layers': 4, 'n_units': 200, 'dropout': 0.1, 'optimizer': 'SGD'}. Best is trial 0 with value: 0.4444444477558136.\u001b[0m\n"
     ]
    },
    {
     "name": "stdout",
     "output_type": "stream",
     "text": [
      "1/1 [==============================] - 0s 16ms/step - loss: 0.0000e+00 - accuracy: 0.4444\n"
     ]
    },
    {
     "name": "stderr",
     "output_type": "stream",
     "text": [
      "\u001b[32m[I 2022-05-24 00:29:48,765]\u001b[0m Trial 107 finished with value: 0.4444444477558136 and parameters: {'n_layers': 3, 'n_units': 200, 'dropout': 0.2, 'optimizer': 'SGD'}. Best is trial 0 with value: 0.4444444477558136.\u001b[0m\n"
     ]
    },
    {
     "name": "stdout",
     "output_type": "stream",
     "text": [
      "1/1 [==============================] - 0s 31ms/step - loss: 0.0000e+00 - accuracy: 0.4444\n"
     ]
    },
    {
     "name": "stderr",
     "output_type": "stream",
     "text": [
      "\u001b[32m[I 2022-05-24 00:29:50,043]\u001b[0m Trial 108 finished with value: 0.4444444477558136 and parameters: {'n_layers': 3, 'n_units': 250, 'dropout': 0.2, 'optimizer': 'Adam'}. Best is trial 0 with value: 0.4444444477558136.\u001b[0m\n"
     ]
    },
    {
     "name": "stdout",
     "output_type": "stream",
     "text": [
      "1/1 [==============================] - 0s 16ms/step - loss: 0.0000e+00 - accuracy: 0.4444\n"
     ]
    },
    {
     "name": "stderr",
     "output_type": "stream",
     "text": [
      "\u001b[32m[I 2022-05-24 00:29:51,385]\u001b[0m Trial 109 finished with value: 0.4444444477558136 and parameters: {'n_layers': 3, 'n_units': 250, 'dropout': 0.2, 'optimizer': 'Adam'}. Best is trial 0 with value: 0.4444444477558136.\u001b[0m\n"
     ]
    },
    {
     "name": "stdout",
     "output_type": "stream",
     "text": [
      "1/1 [==============================] - 0s 16ms/step - loss: 0.0000e+00 - accuracy: 0.4444\n"
     ]
    },
    {
     "name": "stderr",
     "output_type": "stream",
     "text": [
      "\u001b[32m[I 2022-05-24 00:29:52,292]\u001b[0m Trial 110 finished with value: 0.4444444477558136 and parameters: {'n_layers': 3, 'n_units': 200, 'dropout': 0.0, 'optimizer': 'Adam'}. Best is trial 0 with value: 0.4444444477558136.\u001b[0m\n"
     ]
    },
    {
     "name": "stdout",
     "output_type": "stream",
     "text": [
      "1/1 [==============================] - 0s 31ms/step - loss: 0.0000e+00 - accuracy: 0.4444\n"
     ]
    },
    {
     "name": "stderr",
     "output_type": "stream",
     "text": [
      "\u001b[32m[I 2022-05-24 00:29:53,402]\u001b[0m Trial 111 finished with value: 0.4444444477558136 and parameters: {'n_layers': 3, 'n_units': 200, 'dropout': 0.0, 'optimizer': 'Adam'}. Best is trial 0 with value: 0.4444444477558136.\u001b[0m\n"
     ]
    },
    {
     "name": "stdout",
     "output_type": "stream",
     "text": [
      "1/1 [==============================] - 0s 31ms/step - loss: 0.0000e+00 - accuracy: 0.4444\n"
     ]
    },
    {
     "name": "stderr",
     "output_type": "stream",
     "text": [
      "\u001b[32m[I 2022-05-24 00:29:55,084]\u001b[0m Trial 112 finished with value: 0.4444444477558136 and parameters: {'n_layers': 3, 'n_units': 250, 'dropout': 0.0, 'optimizer': 'Adam'}. Best is trial 0 with value: 0.4444444477558136.\u001b[0m\n"
     ]
    },
    {
     "name": "stdout",
     "output_type": "stream",
     "text": [
      "1/1 [==============================] - 0s 16ms/step - loss: 0.0000e+00 - accuracy: 0.4444\n"
     ]
    },
    {
     "name": "stderr",
     "output_type": "stream",
     "text": [
      "\u001b[32m[I 2022-05-24 00:29:56,233]\u001b[0m Trial 113 finished with value: 0.4444444477558136 and parameters: {'n_layers': 3, 'n_units': 250, 'dropout': 0.0, 'optimizer': 'Adam'}. Best is trial 0 with value: 0.4444444477558136.\u001b[0m\n"
     ]
    },
    {
     "name": "stdout",
     "output_type": "stream",
     "text": [
      "1/1 [==============================] - 0s 16ms/step - loss: 0.0000e+00 - accuracy: 0.4444\n"
     ]
    },
    {
     "name": "stderr",
     "output_type": "stream",
     "text": [
      "\u001b[32m[I 2022-05-24 00:29:57,460]\u001b[0m Trial 114 finished with value: 0.4444444477558136 and parameters: {'n_layers': 2, 'n_units': 200, 'dropout': 0.0, 'optimizer': 'Adam'}. Best is trial 0 with value: 0.4444444477558136.\u001b[0m\n"
     ]
    },
    {
     "name": "stdout",
     "output_type": "stream",
     "text": [
      "1/1 [==============================] - 0s 31ms/step - loss: 0.0000e+00 - accuracy: 0.4444\n"
     ]
    },
    {
     "name": "stderr",
     "output_type": "stream",
     "text": [
      "\u001b[32m[I 2022-05-24 00:29:58,370]\u001b[0m Trial 115 finished with value: 0.4444444477558136 and parameters: {'n_layers': 2, 'n_units': 200, 'dropout': 0.0, 'optimizer': 'Adam'}. Best is trial 0 with value: 0.4444444477558136.\u001b[0m\n"
     ]
    },
    {
     "name": "stdout",
     "output_type": "stream",
     "text": [
      "1/1 [==============================] - 0s 31ms/step - loss: 0.0000e+00 - accuracy: 0.4444\n"
     ]
    },
    {
     "name": "stderr",
     "output_type": "stream",
     "text": [
      "\u001b[32m[I 2022-05-24 00:29:59,749]\u001b[0m Trial 116 finished with value: 0.4444444477558136 and parameters: {'n_layers': 2, 'n_units': 250, 'dropout': 0.0, 'optimizer': 'Adam'}. Best is trial 0 with value: 0.4444444477558136.\u001b[0m\n"
     ]
    },
    {
     "name": "stdout",
     "output_type": "stream",
     "text": [
      "1/1 [==============================] - 0s 31ms/step - loss: 0.0000e+00 - accuracy: 0.4444\n"
     ]
    },
    {
     "name": "stderr",
     "output_type": "stream",
     "text": [
      "\u001b[32m[I 2022-05-24 00:30:01,276]\u001b[0m Trial 117 finished with value: 0.4444444477558136 and parameters: {'n_layers': 2, 'n_units': 250, 'dropout': 0.30000000000000004, 'optimizer': 'Adam'}. Best is trial 0 with value: 0.4444444477558136.\u001b[0m\n"
     ]
    },
    {
     "name": "stdout",
     "output_type": "stream",
     "text": [
      "1/1 [==============================] - 0s 16ms/step - loss: 0.0000e+00 - accuracy: 0.4444\n"
     ]
    },
    {
     "name": "stderr",
     "output_type": "stream",
     "text": [
      "\u001b[32m[I 2022-05-24 00:30:02,464]\u001b[0m Trial 118 finished with value: 0.4444444477558136 and parameters: {'n_layers': 2, 'n_units': 250, 'dropout': 0.30000000000000004, 'optimizer': 'RMSprop'}. Best is trial 0 with value: 0.4444444477558136.\u001b[0m\n"
     ]
    },
    {
     "name": "stdout",
     "output_type": "stream",
     "text": [
      "1/1 [==============================] - 0s 31ms/step - loss: 0.0000e+00 - accuracy: 0.4444\n"
     ]
    },
    {
     "name": "stderr",
     "output_type": "stream",
     "text": [
      "\u001b[32m[I 2022-05-24 00:30:03,596]\u001b[0m Trial 119 finished with value: 0.4444444477558136 and parameters: {'n_layers': 2, 'n_units': 250, 'dropout': 0.30000000000000004, 'optimizer': 'RMSprop'}. Best is trial 0 with value: 0.4444444477558136.\u001b[0m\n"
     ]
    },
    {
     "name": "stdout",
     "output_type": "stream",
     "text": [
      "1/1 [==============================] - 0s 31ms/step - loss: 0.0000e+00 - accuracy: 0.4444\n"
     ]
    },
    {
     "name": "stderr",
     "output_type": "stream",
     "text": [
      "\u001b[32m[I 2022-05-24 00:30:04,895]\u001b[0m Trial 120 finished with value: 0.4444444477558136 and parameters: {'n_layers': 2, 'n_units': 250, 'dropout': 0.30000000000000004, 'optimizer': 'RMSprop'}. Best is trial 0 with value: 0.4444444477558136.\u001b[0m\n"
     ]
    },
    {
     "name": "stdout",
     "output_type": "stream",
     "text": [
      "1/1 [==============================] - 0s 31ms/step - loss: 0.0000e+00 - accuracy: 0.4444\n"
     ]
    },
    {
     "name": "stderr",
     "output_type": "stream",
     "text": [
      "\u001b[32m[I 2022-05-24 00:30:06,273]\u001b[0m Trial 121 finished with value: 0.4444444477558136 and parameters: {'n_layers': 2, 'n_units': 250, 'dropout': 0.30000000000000004, 'optimizer': 'RMSprop'}. Best is trial 0 with value: 0.4444444477558136.\u001b[0m\n"
     ]
    },
    {
     "name": "stdout",
     "output_type": "stream",
     "text": [
      "1/1 [==============================] - 0s 16ms/step - loss: 0.0000e+00 - accuracy: 0.4444\n"
     ]
    },
    {
     "name": "stderr",
     "output_type": "stream",
     "text": [
      "\u001b[32m[I 2022-05-24 00:30:07,791]\u001b[0m Trial 122 finished with value: 0.4444444477558136 and parameters: {'n_layers': 2, 'n_units': 250, 'dropout': 0.30000000000000004, 'optimizer': 'RMSprop'}. Best is trial 0 with value: 0.4444444477558136.\u001b[0m\n"
     ]
    },
    {
     "name": "stdout",
     "output_type": "stream",
     "text": [
      "1/1 [==============================] - 0s 16ms/step - loss: 0.0000e+00 - accuracy: 0.4444\n"
     ]
    },
    {
     "name": "stderr",
     "output_type": "stream",
     "text": [
      "\u001b[32m[I 2022-05-24 00:30:08,876]\u001b[0m Trial 123 finished with value: 0.4444444477558136 and parameters: {'n_layers': 2, 'n_units': 250, 'dropout': 0.4, 'optimizer': 'RMSprop'}. Best is trial 0 with value: 0.4444444477558136.\u001b[0m\n"
     ]
    },
    {
     "name": "stdout",
     "output_type": "stream",
     "text": [
      "1/1 [==============================] - 0s 31ms/step - loss: 0.0000e+00 - accuracy: 0.4444\n"
     ]
    },
    {
     "name": "stderr",
     "output_type": "stream",
     "text": [
      "\u001b[32m[I 2022-05-24 00:30:10,049]\u001b[0m Trial 124 finished with value: 0.4444444477558136 and parameters: {'n_layers': 2, 'n_units': 250, 'dropout': 0.4, 'optimizer': 'RMSprop'}. Best is trial 0 with value: 0.4444444477558136.\u001b[0m\n"
     ]
    },
    {
     "name": "stdout",
     "output_type": "stream",
     "text": [
      "1/1 [==============================] - 0s 37ms/step - loss: 0.0000e+00 - accuracy: 0.4444\n"
     ]
    },
    {
     "name": "stderr",
     "output_type": "stream",
     "text": [
      "\u001b[32m[I 2022-05-24 00:30:11,698]\u001b[0m Trial 125 finished with value: 0.4444444477558136 and parameters: {'n_layers': 2, 'n_units': 250, 'dropout': 0.4, 'optimizer': 'RMSprop'}. Best is trial 0 with value: 0.4444444477558136.\u001b[0m\n"
     ]
    },
    {
     "name": "stdout",
     "output_type": "stream",
     "text": [
      "1/1 [==============================] - 0s 16ms/step - loss: 0.0000e+00 - accuracy: 0.4444\n"
     ]
    },
    {
     "name": "stderr",
     "output_type": "stream",
     "text": [
      "\u001b[32m[I 2022-05-24 00:30:13,005]\u001b[0m Trial 126 finished with value: 0.4444444477558136 and parameters: {'n_layers': 2, 'n_units': 100, 'dropout': 0.4, 'optimizer': 'RMSprop'}. Best is trial 0 with value: 0.4444444477558136.\u001b[0m\n"
     ]
    },
    {
     "name": "stdout",
     "output_type": "stream",
     "text": [
      "1/1 [==============================] - 0s 16ms/step - loss: 0.0000e+00 - accuracy: 0.4444\n"
     ]
    },
    {
     "name": "stderr",
     "output_type": "stream",
     "text": [
      "\u001b[32m[I 2022-05-24 00:30:14,009]\u001b[0m Trial 127 finished with value: 0.4444444477558136 and parameters: {'n_layers': 2, 'n_units': 100, 'dropout': 0.30000000000000004, 'optimizer': 'RMSprop'}. Best is trial 0 with value: 0.4444444477558136.\u001b[0m\n"
     ]
    },
    {
     "name": "stdout",
     "output_type": "stream",
     "text": [
      "1/1 [==============================] - 0s 16ms/step - loss: 0.0000e+00 - accuracy: 0.4444\n"
     ]
    },
    {
     "name": "stderr",
     "output_type": "stream",
     "text": [
      "\u001b[32m[I 2022-05-24 00:30:15,498]\u001b[0m Trial 128 finished with value: 0.4444444477558136 and parameters: {'n_layers': 2, 'n_units': 100, 'dropout': 0.30000000000000004, 'optimizer': 'RMSprop'}. Best is trial 0 with value: 0.4444444477558136.\u001b[0m\n"
     ]
    },
    {
     "name": "stdout",
     "output_type": "stream",
     "text": [
      "1/1 [==============================] - 0s 31ms/step - loss: 0.0000e+00 - accuracy: 0.4444\n"
     ]
    },
    {
     "name": "stderr",
     "output_type": "stream",
     "text": [
      "\u001b[32m[I 2022-05-24 00:30:16,809]\u001b[0m Trial 129 finished with value: 0.4444444477558136 and parameters: {'n_layers': 2, 'n_units': 100, 'dropout': 0.30000000000000004, 'optimizer': 'RMSprop'}. Best is trial 0 with value: 0.4444444477558136.\u001b[0m\n"
     ]
    },
    {
     "name": "stdout",
     "output_type": "stream",
     "text": [
      "1/1 [==============================] - 0s 32ms/step - loss: 0.0000e+00 - accuracy: 0.4444\n"
     ]
    },
    {
     "name": "stderr",
     "output_type": "stream",
     "text": [
      "\u001b[32m[I 2022-05-24 00:30:18,044]\u001b[0m Trial 130 finished with value: 0.4444444477558136 and parameters: {'n_layers': 2, 'n_units': 100, 'dropout': 0.4, 'optimizer': 'RMSprop'}. Best is trial 0 with value: 0.4444444477558136.\u001b[0m\n"
     ]
    },
    {
     "name": "stdout",
     "output_type": "stream",
     "text": [
      "1/1 [==============================] - 0s 16ms/step - loss: 0.0000e+00 - accuracy: 0.4444\n"
     ]
    },
    {
     "name": "stderr",
     "output_type": "stream",
     "text": [
      "\u001b[32m[I 2022-05-24 00:30:19,606]\u001b[0m Trial 131 finished with value: 0.4444444477558136 and parameters: {'n_layers': 5, 'n_units': 100, 'dropout': 0.30000000000000004, 'optimizer': 'RMSprop'}. Best is trial 0 with value: 0.4444444477558136.\u001b[0m\n"
     ]
    },
    {
     "name": "stdout",
     "output_type": "stream",
     "text": [
      "1/1 [==============================] - 0s 31ms/step - loss: 0.0000e+00 - accuracy: 0.4444\n"
     ]
    },
    {
     "name": "stderr",
     "output_type": "stream",
     "text": [
      "\u001b[32m[I 2022-05-24 00:30:20,985]\u001b[0m Trial 132 finished with value: 0.4444444477558136 and parameters: {'n_layers': 5, 'n_units': 100, 'dropout': 0.4, 'optimizer': 'RMSprop'}. Best is trial 0 with value: 0.4444444477558136.\u001b[0m\n"
     ]
    },
    {
     "name": "stdout",
     "output_type": "stream",
     "text": [
      "1/1 [==============================] - 0s 31ms/step - loss: 0.0000e+00 - accuracy: 0.4444\n"
     ]
    },
    {
     "name": "stderr",
     "output_type": "stream",
     "text": [
      "\u001b[32m[I 2022-05-24 00:30:22,744]\u001b[0m Trial 133 finished with value: 0.4444444477558136 and parameters: {'n_layers': 5, 'n_units': 100, 'dropout': 0.4, 'optimizer': 'RMSprop'}. Best is trial 0 with value: 0.4444444477558136.\u001b[0m\n"
     ]
    },
    {
     "name": "stdout",
     "output_type": "stream",
     "text": [
      "1/1 [==============================] - 0s 16ms/step - loss: 0.0000e+00 - accuracy: 0.4444\n"
     ]
    },
    {
     "name": "stderr",
     "output_type": "stream",
     "text": [
      "\u001b[32m[I 2022-05-24 00:30:24,518]\u001b[0m Trial 134 finished with value: 0.4444444477558136 and parameters: {'n_layers': 5, 'n_units': 100, 'dropout': 0.5, 'optimizer': 'RMSprop'}. Best is trial 0 with value: 0.4444444477558136.\u001b[0m\n"
     ]
    },
    {
     "name": "stdout",
     "output_type": "stream",
     "text": [
      "1/1 [==============================] - 0s 31ms/step - loss: 0.0000e+00 - accuracy: 0.4444\n"
     ]
    },
    {
     "name": "stderr",
     "output_type": "stream",
     "text": [
      "\u001b[32m[I 2022-05-24 00:30:25,710]\u001b[0m Trial 135 finished with value: 0.4444444477558136 and parameters: {'n_layers': 5, 'n_units': 100, 'dropout': 0.5, 'optimizer': 'SGD'}. Best is trial 0 with value: 0.4444444477558136.\u001b[0m\n"
     ]
    },
    {
     "name": "stdout",
     "output_type": "stream",
     "text": [
      "1/1 [==============================] - 0s 16ms/step - loss: 0.0000e+00 - accuracy: 0.4444\n"
     ]
    },
    {
     "name": "stderr",
     "output_type": "stream",
     "text": [
      "\u001b[32m[I 2022-05-24 00:30:27,247]\u001b[0m Trial 136 finished with value: 0.4444444477558136 and parameters: {'n_layers': 5, 'n_units': 100, 'dropout': 0.5, 'optimizer': 'SGD'}. Best is trial 0 with value: 0.4444444477558136.\u001b[0m\n"
     ]
    },
    {
     "name": "stdout",
     "output_type": "stream",
     "text": [
      "1/1 [==============================] - 0s 31ms/step - loss: 0.0000e+00 - accuracy: 0.4444\n"
     ]
    },
    {
     "name": "stderr",
     "output_type": "stream",
     "text": [
      "\u001b[32m[I 2022-05-24 00:30:29,027]\u001b[0m Trial 137 finished with value: 0.4444444477558136 and parameters: {'n_layers': 5, 'n_units': 100, 'dropout': 0.5, 'optimizer': 'SGD'}. Best is trial 0 with value: 0.4444444477558136.\u001b[0m\n"
     ]
    },
    {
     "name": "stdout",
     "output_type": "stream",
     "text": [
      "1/1 [==============================] - 0s 31ms/step - loss: 0.0000e+00 - accuracy: 0.4444\n"
     ]
    },
    {
     "name": "stderr",
     "output_type": "stream",
     "text": [
      "\u001b[32m[I 2022-05-24 00:30:30,323]\u001b[0m Trial 138 finished with value: 0.4444444477558136 and parameters: {'n_layers': 5, 'n_units': 150, 'dropout': 0.5, 'optimizer': 'SGD'}. Best is trial 0 with value: 0.4444444477558136.\u001b[0m\n"
     ]
    },
    {
     "name": "stdout",
     "output_type": "stream",
     "text": [
      "1/1 [==============================] - 0s 21ms/step - loss: 0.0000e+00 - accuracy: 0.4444\n"
     ]
    },
    {
     "name": "stderr",
     "output_type": "stream",
     "text": [
      "\u001b[32m[I 2022-05-24 00:30:31,349]\u001b[0m Trial 139 finished with value: 0.4444444477558136 and parameters: {'n_layers': 5, 'n_units': 150, 'dropout': 0.5, 'optimizer': 'SGD'}. Best is trial 0 with value: 0.4444444477558136.\u001b[0m\n"
     ]
    },
    {
     "name": "stdout",
     "output_type": "stream",
     "text": [
      "1/1 [==============================] - 0s 31ms/step - loss: 0.0000e+00 - accuracy: 0.4444\n"
     ]
    },
    {
     "name": "stderr",
     "output_type": "stream",
     "text": [
      "\u001b[32m[I 2022-05-24 00:30:32,715]\u001b[0m Trial 140 finished with value: 0.4444444477558136 and parameters: {'n_layers': 5, 'n_units': 150, 'dropout': 0.5, 'optimizer': 'SGD'}. Best is trial 0 with value: 0.4444444477558136.\u001b[0m\n"
     ]
    },
    {
     "name": "stdout",
     "output_type": "stream",
     "text": [
      "1/1 [==============================] - 0s 31ms/step - loss: 0.0000e+00 - accuracy: 0.4444\n"
     ]
    },
    {
     "name": "stderr",
     "output_type": "stream",
     "text": [
      "\u001b[32m[I 2022-05-24 00:30:34,173]\u001b[0m Trial 141 finished with value: 0.4444444477558136 and parameters: {'n_layers': 5, 'n_units': 150, 'dropout': 0.5, 'optimizer': 'SGD'}. Best is trial 0 with value: 0.4444444477558136.\u001b[0m\n"
     ]
    },
    {
     "name": "stdout",
     "output_type": "stream",
     "text": [
      "1/1 [==============================] - 0s 31ms/step - loss: 0.0000e+00 - accuracy: 0.4444\n"
     ]
    },
    {
     "name": "stderr",
     "output_type": "stream",
     "text": [
      "\u001b[32m[I 2022-05-24 00:30:35,990]\u001b[0m Trial 142 finished with value: 0.4444444477558136 and parameters: {'n_layers': 5, 'n_units': 150, 'dropout': 0.5, 'optimizer': 'SGD'}. Best is trial 0 with value: 0.4444444477558136.\u001b[0m\n"
     ]
    },
    {
     "name": "stdout",
     "output_type": "stream",
     "text": [
      "1/1 [==============================] - 0s 41ms/step - loss: 0.0000e+00 - accuracy: 0.4444\n"
     ]
    },
    {
     "name": "stderr",
     "output_type": "stream",
     "text": [
      "\u001b[32m[I 2022-05-24 00:30:37,162]\u001b[0m Trial 143 finished with value: 0.4444444477558136 and parameters: {'n_layers': 5, 'n_units': 150, 'dropout': 0.5, 'optimizer': 'SGD'}. Best is trial 0 with value: 0.4444444477558136.\u001b[0m\n"
     ]
    },
    {
     "name": "stdout",
     "output_type": "stream",
     "text": [
      "1/1 [==============================] - 0s 30ms/step - loss: 0.0000e+00 - accuracy: 0.4444\n"
     ]
    },
    {
     "name": "stderr",
     "output_type": "stream",
     "text": [
      "\u001b[32m[I 2022-05-24 00:30:38,718]\u001b[0m Trial 144 finished with value: 0.4444444477558136 and parameters: {'n_layers': 5, 'n_units': 150, 'dropout': 0.5, 'optimizer': 'SGD'}. Best is trial 0 with value: 0.4444444477558136.\u001b[0m\n"
     ]
    },
    {
     "name": "stdout",
     "output_type": "stream",
     "text": [
      "1/1 [==============================] - 0s 16ms/step - loss: 0.0000e+00 - accuracy: 0.4444\n"
     ]
    },
    {
     "name": "stderr",
     "output_type": "stream",
     "text": [
      "\u001b[32m[I 2022-05-24 00:30:40,176]\u001b[0m Trial 145 finished with value: 0.4444444477558136 and parameters: {'n_layers': 5, 'n_units': 150, 'dropout': 0.5, 'optimizer': 'SGD'}. Best is trial 0 with value: 0.4444444477558136.\u001b[0m\n"
     ]
    },
    {
     "name": "stdout",
     "output_type": "stream",
     "text": [
      "1/1 [==============================] - 0s 16ms/step - loss: 0.0000e+00 - accuracy: 0.4444\n"
     ]
    },
    {
     "name": "stderr",
     "output_type": "stream",
     "text": [
      "\u001b[32m[I 2022-05-24 00:30:41,442]\u001b[0m Trial 146 finished with value: 0.4444444477558136 and parameters: {'n_layers': 4, 'n_units': 150, 'dropout': 0.5, 'optimizer': 'SGD'}. Best is trial 0 with value: 0.4444444477558136.\u001b[0m\n"
     ]
    },
    {
     "name": "stdout",
     "output_type": "stream",
     "text": [
      "1/1 [==============================] - 0s 31ms/step - loss: 0.0000e+00 - accuracy: 0.4444\n"
     ]
    },
    {
     "name": "stderr",
     "output_type": "stream",
     "text": [
      "\u001b[32m[I 2022-05-24 00:30:42,627]\u001b[0m Trial 147 finished with value: 0.4444444477558136 and parameters: {'n_layers': 4, 'n_units': 150, 'dropout': 0.5, 'optimizer': 'SGD'}. Best is trial 0 with value: 0.4444444477558136.\u001b[0m\n"
     ]
    },
    {
     "name": "stdout",
     "output_type": "stream",
     "text": [
      "1/1 [==============================] - 0s 31ms/step - loss: 0.0000e+00 - accuracy: 0.4444\n"
     ]
    },
    {
     "name": "stderr",
     "output_type": "stream",
     "text": [
      "\u001b[32m[I 2022-05-24 00:30:43,981]\u001b[0m Trial 148 finished with value: 0.4444444477558136 and parameters: {'n_layers': 4, 'n_units': 150, 'dropout': 0.5, 'optimizer': 'SGD'}. Best is trial 0 with value: 0.4444444477558136.\u001b[0m\n"
     ]
    },
    {
     "name": "stdout",
     "output_type": "stream",
     "text": [
      "1/1 [==============================] - 0s 16ms/step - loss: 0.0000e+00 - accuracy: 0.4444\n"
     ]
    },
    {
     "name": "stderr",
     "output_type": "stream",
     "text": [
      "\u001b[32m[I 2022-05-24 00:30:45,272]\u001b[0m Trial 149 finished with value: 0.4444444477558136 and parameters: {'n_layers': 4, 'n_units': 200, 'dropout': 0.5, 'optimizer': 'SGD'}. Best is trial 0 with value: 0.4444444477558136.\u001b[0m\n"
     ]
    },
    {
     "name": "stdout",
     "output_type": "stream",
     "text": [
      "1/1 [==============================] - 0s 8ms/step - loss: 0.0000e+00 - accuracy: 0.4444\n"
     ]
    },
    {
     "name": "stderr",
     "output_type": "stream",
     "text": [
      "\u001b[32m[I 2022-05-24 00:30:46,713]\u001b[0m Trial 150 finished with value: 0.4444444477558136 and parameters: {'n_layers': 5, 'n_units': 200, 'dropout': 0.2, 'optimizer': 'SGD'}. Best is trial 0 with value: 0.4444444477558136.\u001b[0m\n"
     ]
    },
    {
     "name": "stdout",
     "output_type": "stream",
     "text": [
      "1/1 [==============================] - 0s 31ms/step - loss: 0.0000e+00 - accuracy: 0.4444\n"
     ]
    },
    {
     "name": "stderr",
     "output_type": "stream",
     "text": [
      "\u001b[32m[I 2022-05-24 00:30:47,818]\u001b[0m Trial 151 finished with value: 0.4444444477558136 and parameters: {'n_layers': 4, 'n_units': 200, 'dropout': 0.2, 'optimizer': 'SGD'}. Best is trial 0 with value: 0.4444444477558136.\u001b[0m\n"
     ]
    },
    {
     "name": "stdout",
     "output_type": "stream",
     "text": [
      "1/1 [==============================] - 0s 18ms/step - loss: 0.0000e+00 - accuracy: 0.4444\n"
     ]
    },
    {
     "name": "stderr",
     "output_type": "stream",
     "text": [
      "\u001b[32m[I 2022-05-24 00:30:48,777]\u001b[0m Trial 152 finished with value: 0.4444444477558136 and parameters: {'n_layers': 3, 'n_units': 200, 'dropout': 0.1, 'optimizer': 'SGD'}. Best is trial 0 with value: 0.4444444477558136.\u001b[0m\n"
     ]
    },
    {
     "name": "stdout",
     "output_type": "stream",
     "text": [
      "1/1 [==============================] - 0s 31ms/step - loss: 0.0000e+00 - accuracy: 0.4444\n"
     ]
    },
    {
     "name": "stderr",
     "output_type": "stream",
     "text": [
      "\u001b[32m[I 2022-05-24 00:30:49,940]\u001b[0m Trial 153 finished with value: 0.4444444477558136 and parameters: {'n_layers': 3, 'n_units': 200, 'dropout': 0.1, 'optimizer': 'SGD'}. Best is trial 0 with value: 0.4444444477558136.\u001b[0m\n"
     ]
    },
    {
     "name": "stdout",
     "output_type": "stream",
     "text": [
      "1/1 [==============================] - 0s 31ms/step - loss: 0.0000e+00 - accuracy: 0.4444\n"
     ]
    },
    {
     "name": "stderr",
     "output_type": "stream",
     "text": [
      "\u001b[32m[I 2022-05-24 00:30:51,354]\u001b[0m Trial 154 finished with value: 0.4444444477558136 and parameters: {'n_layers': 3, 'n_units': 200, 'dropout': 0.2, 'optimizer': 'SGD'}. Best is trial 0 with value: 0.4444444477558136.\u001b[0m\n"
     ]
    },
    {
     "name": "stdout",
     "output_type": "stream",
     "text": [
      "1/1 [==============================] - 0s 31ms/step - loss: 0.0000e+00 - accuracy: 0.4444\n"
     ]
    },
    {
     "name": "stderr",
     "output_type": "stream",
     "text": [
      "\u001b[32m[I 2022-05-24 00:30:52,892]\u001b[0m Trial 155 finished with value: 0.4444444477558136 and parameters: {'n_layers': 3, 'n_units': 200, 'dropout': 0.1, 'optimizer': 'Adam'}. Best is trial 0 with value: 0.4444444477558136.\u001b[0m\n"
     ]
    },
    {
     "name": "stdout",
     "output_type": "stream",
     "text": [
      "1/1 [==============================] - 0s 16ms/step - loss: 0.0000e+00 - accuracy: 0.4444\n"
     ]
    },
    {
     "name": "stderr",
     "output_type": "stream",
     "text": [
      "\u001b[32m[I 2022-05-24 00:30:53,931]\u001b[0m Trial 156 finished with value: 0.4444444477558136 and parameters: {'n_layers': 3, 'n_units': 200, 'dropout': 0.0, 'optimizer': 'Adam'}. Best is trial 0 with value: 0.4444444477558136.\u001b[0m\n"
     ]
    },
    {
     "name": "stdout",
     "output_type": "stream",
     "text": [
      "1/1 [==============================] - 0s 16ms/step - loss: 0.0000e+00 - accuracy: 0.4444\n"
     ]
    },
    {
     "name": "stderr",
     "output_type": "stream",
     "text": [
      "\u001b[32m[I 2022-05-24 00:30:54,919]\u001b[0m Trial 157 finished with value: 0.4444444477558136 and parameters: {'n_layers': 3, 'n_units': 200, 'dropout': 0.0, 'optimizer': 'Adam'}. Best is trial 0 with value: 0.4444444477558136.\u001b[0m\n"
     ]
    },
    {
     "name": "stdout",
     "output_type": "stream",
     "text": [
      "1/1 [==============================] - 0s 16ms/step - loss: 0.0000e+00 - accuracy: 0.4444\n"
     ]
    },
    {
     "name": "stderr",
     "output_type": "stream",
     "text": [
      "\u001b[32m[I 2022-05-24 00:30:56,047]\u001b[0m Trial 158 finished with value: 0.4444444477558136 and parameters: {'n_layers': 3, 'n_units': 200, 'dropout': 0.0, 'optimizer': 'Adam'}. Best is trial 0 with value: 0.4444444477558136.\u001b[0m\n"
     ]
    },
    {
     "name": "stdout",
     "output_type": "stream",
     "text": [
      "1/1 [==============================] - 0s 16ms/step - loss: 0.0000e+00 - accuracy: 0.4444\n"
     ]
    },
    {
     "name": "stderr",
     "output_type": "stream",
     "text": [
      "\u001b[32m[I 2022-05-24 00:30:57,706]\u001b[0m Trial 159 finished with value: 0.4444444477558136 and parameters: {'n_layers': 4, 'n_units': 200, 'dropout': 0.0, 'optimizer': 'Adam'}. Best is trial 0 with value: 0.4444444477558136.\u001b[0m\n"
     ]
    },
    {
     "name": "stdout",
     "output_type": "stream",
     "text": [
      "1/1 [==============================] - 0s 31ms/step - loss: 0.0000e+00 - accuracy: 0.4444\n"
     ]
    },
    {
     "name": "stderr",
     "output_type": "stream",
     "text": [
      "\u001b[32m[I 2022-05-24 00:30:58,715]\u001b[0m Trial 160 finished with value: 0.4444444477558136 and parameters: {'n_layers': 4, 'n_units': 200, 'dropout': 0.0, 'optimizer': 'Adam'}. Best is trial 0 with value: 0.4444444477558136.\u001b[0m\n"
     ]
    },
    {
     "name": "stdout",
     "output_type": "stream",
     "text": [
      "1/1 [==============================] - 0s 16ms/step - loss: 0.0000e+00 - accuracy: 0.4444\n"
     ]
    },
    {
     "name": "stderr",
     "output_type": "stream",
     "text": [
      "\u001b[32m[I 2022-05-24 00:30:59,689]\u001b[0m Trial 161 finished with value: 0.4444444477558136 and parameters: {'n_layers': 3, 'n_units': 250, 'dropout': 0.0, 'optimizer': 'Adam'}. Best is trial 0 with value: 0.4444444477558136.\u001b[0m\n"
     ]
    },
    {
     "name": "stdout",
     "output_type": "stream",
     "text": [
      "1/1 [==============================] - 0s 22ms/step - loss: 0.0000e+00 - accuracy: 0.4444\n"
     ]
    },
    {
     "name": "stderr",
     "output_type": "stream",
     "text": [
      "\u001b[32m[I 2022-05-24 00:31:01,008]\u001b[0m Trial 162 finished with value: 0.4444444477558136 and parameters: {'n_layers': 3, 'n_units': 250, 'dropout': 0.0, 'optimizer': 'Adam'}. Best is trial 0 with value: 0.4444444477558136.\u001b[0m\n"
     ]
    },
    {
     "name": "stdout",
     "output_type": "stream",
     "text": [
      "1/1 [==============================] - 0s 16ms/step - loss: 0.0000e+00 - accuracy: 0.4444\n"
     ]
    },
    {
     "name": "stderr",
     "output_type": "stream",
     "text": [
      "\u001b[32m[I 2022-05-24 00:31:02,147]\u001b[0m Trial 163 finished with value: 0.4444444477558136 and parameters: {'n_layers': 2, 'n_units': 200, 'dropout': 0.0, 'optimizer': 'Adam'}. Best is trial 0 with value: 0.4444444477558136.\u001b[0m\n"
     ]
    },
    {
     "name": "stdout",
     "output_type": "stream",
     "text": [
      "1/1 [==============================] - 0s 31ms/step - loss: 0.0000e+00 - accuracy: 0.4444\n"
     ]
    },
    {
     "name": "stderr",
     "output_type": "stream",
     "text": [
      "\u001b[32m[I 2022-05-24 00:31:03,308]\u001b[0m Trial 164 finished with value: 0.4444444477558136 and parameters: {'n_layers': 2, 'n_units': 250, 'dropout': 0.2, 'optimizer': 'Adam'}. Best is trial 0 with value: 0.4444444477558136.\u001b[0m\n"
     ]
    },
    {
     "name": "stdout",
     "output_type": "stream",
     "text": [
      "1/1 [==============================] - 0s 31ms/step - loss: 0.0000e+00 - accuracy: 0.4444\n"
     ]
    },
    {
     "name": "stderr",
     "output_type": "stream",
     "text": [
      "\u001b[32m[I 2022-05-24 00:31:04,232]\u001b[0m Trial 165 finished with value: 0.4444444477558136 and parameters: {'n_layers': 2, 'n_units': 250, 'dropout': 0.0, 'optimizer': 'Adam'}. Best is trial 0 with value: 0.4444444477558136.\u001b[0m\n"
     ]
    },
    {
     "name": "stdout",
     "output_type": "stream",
     "text": [
      "1/1 [==============================] - 0s 4ms/step - loss: 0.0000e+00 - accuracy: 0.4444\n"
     ]
    },
    {
     "name": "stderr",
     "output_type": "stream",
     "text": [
      "\u001b[32m[I 2022-05-24 00:31:05,276]\u001b[0m Trial 166 finished with value: 0.4444444477558136 and parameters: {'n_layers': 3, 'n_units': 250, 'dropout': 0.30000000000000004, 'optimizer': 'Adam'}. Best is trial 0 with value: 0.4444444477558136.\u001b[0m\n"
     ]
    },
    {
     "name": "stdout",
     "output_type": "stream",
     "text": [
      "1/1 [==============================] - 0s 37ms/step - loss: 0.0000e+00 - accuracy: 0.4444\n"
     ]
    },
    {
     "name": "stderr",
     "output_type": "stream",
     "text": [
      "\u001b[32m[I 2022-05-24 00:31:06,273]\u001b[0m Trial 167 finished with value: 0.4444444477558136 and parameters: {'n_layers': 2, 'n_units': 250, 'dropout': 0.0, 'optimizer': 'Adam'}. Best is trial 0 with value: 0.4444444477558136.\u001b[0m\n"
     ]
    },
    {
     "name": "stdout",
     "output_type": "stream",
     "text": [
      "1/1 [==============================] - 0s 31ms/step - loss: 0.0000e+00 - accuracy: 0.4444\n"
     ]
    },
    {
     "name": "stderr",
     "output_type": "stream",
     "text": [
      "\u001b[32m[I 2022-05-24 00:31:07,495]\u001b[0m Trial 168 finished with value: 0.4444444477558136 and parameters: {'n_layers': 2, 'n_units': 250, 'dropout': 0.30000000000000004, 'optimizer': 'Adam'}. Best is trial 0 with value: 0.4444444477558136.\u001b[0m\n"
     ]
    },
    {
     "name": "stdout",
     "output_type": "stream",
     "text": [
      "1/1 [==============================] - 0s 16ms/step - loss: 0.0000e+00 - accuracy: 0.4444\n"
     ]
    },
    {
     "name": "stderr",
     "output_type": "stream",
     "text": [
      "\u001b[32m[I 2022-05-24 00:31:09,017]\u001b[0m Trial 169 finished with value: 0.4444444477558136 and parameters: {'n_layers': 2, 'n_units': 250, 'dropout': 0.30000000000000004, 'optimizer': 'Adam'}. Best is trial 0 with value: 0.4444444477558136.\u001b[0m\n"
     ]
    },
    {
     "name": "stdout",
     "output_type": "stream",
     "text": [
      "1/1 [==============================] - 0s 16ms/step - loss: 0.0000e+00 - accuracy: 0.4444\n"
     ]
    },
    {
     "name": "stderr",
     "output_type": "stream",
     "text": [
      "\u001b[32m[I 2022-05-24 00:31:09,950]\u001b[0m Trial 170 finished with value: 0.4444444477558136 and parameters: {'n_layers': 2, 'n_units': 250, 'dropout': 0.30000000000000004, 'optimizer': 'Adam'}. Best is trial 0 with value: 0.4444444477558136.\u001b[0m\n"
     ]
    },
    {
     "name": "stdout",
     "output_type": "stream",
     "text": [
      "1/1 [==============================] - 0s 31ms/step - loss: 0.0000e+00 - accuracy: 0.4444\n"
     ]
    },
    {
     "name": "stderr",
     "output_type": "stream",
     "text": [
      "\u001b[32m[I 2022-05-24 00:31:11,115]\u001b[0m Trial 171 finished with value: 0.4444444477558136 and parameters: {'n_layers': 2, 'n_units': 250, 'dropout': 0.30000000000000004, 'optimizer': 'RMSprop'}. Best is trial 0 with value: 0.4444444477558136.\u001b[0m\n"
     ]
    },
    {
     "name": "stdout",
     "output_type": "stream",
     "text": [
      "1/1 [==============================] - 0s 31ms/step - loss: 0.0000e+00 - accuracy: 0.4444\n"
     ]
    },
    {
     "name": "stderr",
     "output_type": "stream",
     "text": [
      "\u001b[32m[I 2022-05-24 00:31:12,568]\u001b[0m Trial 172 finished with value: 0.4444444477558136 and parameters: {'n_layers': 2, 'n_units': 250, 'dropout': 0.4, 'optimizer': 'RMSprop'}. Best is trial 0 with value: 0.4444444477558136.\u001b[0m\n"
     ]
    },
    {
     "name": "stdout",
     "output_type": "stream",
     "text": [
      "1/1 [==============================] - 0s 31ms/step - loss: 0.0000e+00 - accuracy: 0.4444\n"
     ]
    },
    {
     "name": "stderr",
     "output_type": "stream",
     "text": [
      "\u001b[32m[I 2022-05-24 00:31:13,855]\u001b[0m Trial 173 finished with value: 0.4444444477558136 and parameters: {'n_layers': 2, 'n_units': 250, 'dropout': 0.4, 'optimizer': 'RMSprop'}. Best is trial 0 with value: 0.4444444477558136.\u001b[0m\n"
     ]
    },
    {
     "name": "stdout",
     "output_type": "stream",
     "text": [
      "1/1 [==============================] - 0s 16ms/step - loss: 0.0000e+00 - accuracy: 0.4444\n"
     ]
    },
    {
     "name": "stderr",
     "output_type": "stream",
     "text": [
      "\u001b[32m[I 2022-05-24 00:31:15,456]\u001b[0m Trial 174 finished with value: 0.4444444477558136 and parameters: {'n_layers': 2, 'n_units': 250, 'dropout': 0.30000000000000004, 'optimizer': 'RMSprop'}. Best is trial 0 with value: 0.4444444477558136.\u001b[0m\n"
     ]
    },
    {
     "name": "stdout",
     "output_type": "stream",
     "text": [
      "1/1 [==============================] - 0s 16ms/step - loss: 0.0000e+00 - accuracy: 0.4444\n"
     ]
    },
    {
     "name": "stderr",
     "output_type": "stream",
     "text": [
      "\u001b[32m[I 2022-05-24 00:31:16,467]\u001b[0m Trial 175 finished with value: 0.4444444477558136 and parameters: {'n_layers': 2, 'n_units': 250, 'dropout': 0.4, 'optimizer': 'RMSprop'}. Best is trial 0 with value: 0.4444444477558136.\u001b[0m\n"
     ]
    },
    {
     "name": "stdout",
     "output_type": "stream",
     "text": [
      "1/1 [==============================] - 0s 31ms/step - loss: 0.0000e+00 - accuracy: 0.4444\n"
     ]
    },
    {
     "name": "stderr",
     "output_type": "stream",
     "text": [
      "\u001b[32m[I 2022-05-24 00:31:18,317]\u001b[0m Trial 176 finished with value: 0.4444444477558136 and parameters: {'n_layers': 2, 'n_units': 250, 'dropout': 0.30000000000000004, 'optimizer': 'RMSprop'}. Best is trial 0 with value: 0.4444444477558136.\u001b[0m\n"
     ]
    },
    {
     "name": "stdout",
     "output_type": "stream",
     "text": [
      "1/1 [==============================] - 0s 16ms/step - loss: 0.0000e+00 - accuracy: 0.4444\n"
     ]
    },
    {
     "name": "stderr",
     "output_type": "stream",
     "text": [
      "\u001b[32m[I 2022-05-24 00:31:19,862]\u001b[0m Trial 177 finished with value: 0.4444444477558136 and parameters: {'n_layers': 2, 'n_units': 250, 'dropout': 0.30000000000000004, 'optimizer': 'RMSprop'}. Best is trial 0 with value: 0.4444444477558136.\u001b[0m\n"
     ]
    },
    {
     "name": "stdout",
     "output_type": "stream",
     "text": [
      "1/1 [==============================] - 0s 31ms/step - loss: 0.0000e+00 - accuracy: 0.4444\n"
     ]
    },
    {
     "name": "stderr",
     "output_type": "stream",
     "text": [
      "\u001b[32m[I 2022-05-24 00:31:21,372]\u001b[0m Trial 178 finished with value: 0.4444444477558136 and parameters: {'n_layers': 2, 'n_units': 250, 'dropout': 0.30000000000000004, 'optimizer': 'RMSprop'}. Best is trial 0 with value: 0.4444444477558136.\u001b[0m\n"
     ]
    },
    {
     "name": "stdout",
     "output_type": "stream",
     "text": [
      "1/1 [==============================] - 0s 16ms/step - loss: 0.0000e+00 - accuracy: 0.4444\n"
     ]
    },
    {
     "name": "stderr",
     "output_type": "stream",
     "text": [
      "\u001b[32m[I 2022-05-24 00:31:22,414]\u001b[0m Trial 179 finished with value: 0.4444444477558136 and parameters: {'n_layers': 2, 'n_units': 250, 'dropout': 0.30000000000000004, 'optimizer': 'RMSprop'}. Best is trial 0 with value: 0.4444444477558136.\u001b[0m\n"
     ]
    },
    {
     "name": "stdout",
     "output_type": "stream",
     "text": [
      "1/1 [==============================] - 0s 31ms/step - loss: 0.0000e+00 - accuracy: 0.4444\n"
     ]
    },
    {
     "name": "stderr",
     "output_type": "stream",
     "text": [
      "\u001b[32m[I 2022-05-24 00:31:23,816]\u001b[0m Trial 180 finished with value: 0.4444444477558136 and parameters: {'n_layers': 2, 'n_units': 100, 'dropout': 0.30000000000000004, 'optimizer': 'RMSprop'}. Best is trial 0 with value: 0.4444444477558136.\u001b[0m\n"
     ]
    },
    {
     "name": "stdout",
     "output_type": "stream",
     "text": [
      "1/1 [==============================] - 0s 16ms/step - loss: 0.0000e+00 - accuracy: 0.4444\n"
     ]
    },
    {
     "name": "stderr",
     "output_type": "stream",
     "text": [
      "\u001b[32m[I 2022-05-24 00:31:25,303]\u001b[0m Trial 181 finished with value: 0.4444444477558136 and parameters: {'n_layers': 2, 'n_units': 100, 'dropout': 0.30000000000000004, 'optimizer': 'RMSprop'}. Best is trial 0 with value: 0.4444444477558136.\u001b[0m\n"
     ]
    },
    {
     "name": "stdout",
     "output_type": "stream",
     "text": [
      "1/1 [==============================] - 0s 16ms/step - loss: 0.0000e+00 - accuracy: 0.4444\n"
     ]
    },
    {
     "name": "stderr",
     "output_type": "stream",
     "text": [
      "\u001b[32m[I 2022-05-24 00:31:26,532]\u001b[0m Trial 182 finished with value: 0.4444444477558136 and parameters: {'n_layers': 2, 'n_units': 100, 'dropout': 0.4, 'optimizer': 'RMSprop'}. Best is trial 0 with value: 0.4444444477558136.\u001b[0m\n"
     ]
    },
    {
     "name": "stdout",
     "output_type": "stream",
     "text": [
      "1/1 [==============================] - 0s 16ms/step - loss: 0.0000e+00 - accuracy: 0.4444\n"
     ]
    },
    {
     "name": "stderr",
     "output_type": "stream",
     "text": [
      "\u001b[32m[I 2022-05-24 00:31:27,581]\u001b[0m Trial 183 finished with value: 0.4444444477558136 and parameters: {'n_layers': 2, 'n_units': 100, 'dropout': 0.4, 'optimizer': 'RMSprop'}. Best is trial 0 with value: 0.4444444477558136.\u001b[0m\n"
     ]
    },
    {
     "name": "stdout",
     "output_type": "stream",
     "text": [
      "1/1 [==============================] - 0s 16ms/step - loss: 0.0000e+00 - accuracy: 0.4444\n"
     ]
    },
    {
     "name": "stderr",
     "output_type": "stream",
     "text": [
      "\u001b[32m[I 2022-05-24 00:31:28,739]\u001b[0m Trial 184 finished with value: 0.4444444477558136 and parameters: {'n_layers': 2, 'n_units': 100, 'dropout': 0.4, 'optimizer': 'RMSprop'}. Best is trial 0 with value: 0.4444444477558136.\u001b[0m\n"
     ]
    },
    {
     "name": "stdout",
     "output_type": "stream",
     "text": [
      "1/1 [==============================] - 0s 37ms/step - loss: 0.0000e+00 - accuracy: 0.4444\n"
     ]
    },
    {
     "name": "stderr",
     "output_type": "stream",
     "text": [
      "\u001b[32m[I 2022-05-24 00:31:30,147]\u001b[0m Trial 185 finished with value: 0.4444444477558136 and parameters: {'n_layers': 2, 'n_units': 100, 'dropout': 0.4, 'optimizer': 'RMSprop'}. Best is trial 0 with value: 0.4444444477558136.\u001b[0m\n"
     ]
    },
    {
     "name": "stdout",
     "output_type": "stream",
     "text": [
      "1/1 [==============================] - 0s 31ms/step - loss: 0.0000e+00 - accuracy: 0.4444\n"
     ]
    },
    {
     "name": "stderr",
     "output_type": "stream",
     "text": [
      "\u001b[32m[I 2022-05-24 00:31:31,681]\u001b[0m Trial 186 finished with value: 0.4444444477558136 and parameters: {'n_layers': 2, 'n_units': 100, 'dropout': 0.4, 'optimizer': 'RMSprop'}. Best is trial 0 with value: 0.4444444477558136.\u001b[0m\n"
     ]
    },
    {
     "name": "stdout",
     "output_type": "stream",
     "text": [
      "1/1 [==============================] - 0s 11ms/step - loss: 0.0000e+00 - accuracy: 0.4444\n"
     ]
    },
    {
     "name": "stderr",
     "output_type": "stream",
     "text": [
      "\u001b[32m[I 2022-05-24 00:31:32,834]\u001b[0m Trial 187 finished with value: 0.4444444477558136 and parameters: {'n_layers': 2, 'n_units': 100, 'dropout': 0.4, 'optimizer': 'RMSprop'}. Best is trial 0 with value: 0.4444444477558136.\u001b[0m\n"
     ]
    },
    {
     "name": "stdout",
     "output_type": "stream",
     "text": [
      "1/1 [==============================] - 0s 42ms/step - loss: 0.0000e+00 - accuracy: 0.4444\n"
     ]
    },
    {
     "name": "stderr",
     "output_type": "stream",
     "text": [
      "\u001b[32m[I 2022-05-24 00:31:33,853]\u001b[0m Trial 188 finished with value: 0.4444444477558136 and parameters: {'n_layers': 2, 'n_units': 100, 'dropout': 0.4, 'optimizer': 'RMSprop'}. Best is trial 0 with value: 0.4444444477558136.\u001b[0m\n"
     ]
    },
    {
     "name": "stdout",
     "output_type": "stream",
     "text": [
      "1/1 [==============================] - 0s 31ms/step - loss: 0.0000e+00 - accuracy: 0.4444\n"
     ]
    },
    {
     "name": "stderr",
     "output_type": "stream",
     "text": [
      "\u001b[32m[I 2022-05-24 00:31:35,581]\u001b[0m Trial 189 finished with value: 0.4444444477558136 and parameters: {'n_layers': 5, 'n_units': 100, 'dropout': 0.4, 'optimizer': 'RMSprop'}. Best is trial 0 with value: 0.4444444477558136.\u001b[0m\n"
     ]
    },
    {
     "name": "stdout",
     "output_type": "stream",
     "text": [
      "1/1 [==============================] - 0s 31ms/step - loss: 0.0000e+00 - accuracy: 0.4444\n"
     ]
    },
    {
     "name": "stderr",
     "output_type": "stream",
     "text": [
      "\u001b[32m[I 2022-05-24 00:31:37,424]\u001b[0m Trial 190 finished with value: 0.4444444477558136 and parameters: {'n_layers': 5, 'n_units': 100, 'dropout': 0.4, 'optimizer': 'RMSprop'}. Best is trial 0 with value: 0.4444444477558136.\u001b[0m\n"
     ]
    },
    {
     "name": "stdout",
     "output_type": "stream",
     "text": [
      "1/1 [==============================] - 0s 16ms/step - loss: 0.0000e+00 - accuracy: 0.4444\n"
     ]
    },
    {
     "name": "stderr",
     "output_type": "stream",
     "text": [
      "\u001b[32m[I 2022-05-24 00:31:39,438]\u001b[0m Trial 191 finished with value: 0.4444444477558136 and parameters: {'n_layers': 5, 'n_units': 100, 'dropout': 0.4, 'optimizer': 'RMSprop'}. Best is trial 0 with value: 0.4444444477558136.\u001b[0m\n"
     ]
    },
    {
     "name": "stdout",
     "output_type": "stream",
     "text": [
      "1/1 [==============================] - 0s 31ms/step - loss: 0.0000e+00 - accuracy: 0.4444\n"
     ]
    },
    {
     "name": "stderr",
     "output_type": "stream",
     "text": [
      "\u001b[32m[I 2022-05-24 00:31:41,386]\u001b[0m Trial 192 finished with value: 0.4444444477558136 and parameters: {'n_layers': 5, 'n_units': 100, 'dropout': 0.5, 'optimizer': 'RMSprop'}. Best is trial 0 with value: 0.4444444477558136.\u001b[0m\n"
     ]
    },
    {
     "name": "stdout",
     "output_type": "stream",
     "text": [
      "1/1 [==============================] - 0s 16ms/step - loss: 0.0000e+00 - accuracy: 0.4444\n"
     ]
    },
    {
     "name": "stderr",
     "output_type": "stream",
     "text": [
      "\u001b[32m[I 2022-05-24 00:31:43,118]\u001b[0m Trial 193 finished with value: 0.4444444477558136 and parameters: {'n_layers': 5, 'n_units': 100, 'dropout': 0.5, 'optimizer': 'RMSprop'}. Best is trial 0 with value: 0.4444444477558136.\u001b[0m\n"
     ]
    },
    {
     "name": "stdout",
     "output_type": "stream",
     "text": [
      "1/1 [==============================] - 0s 16ms/step - loss: 0.0000e+00 - accuracy: 0.4444\n"
     ]
    },
    {
     "name": "stderr",
     "output_type": "stream",
     "text": [
      "\u001b[32m[I 2022-05-24 00:31:44,142]\u001b[0m Trial 194 finished with value: 0.4444444477558136 and parameters: {'n_layers': 5, 'n_units': 100, 'dropout': 0.5, 'optimizer': 'SGD'}. Best is trial 0 with value: 0.4444444477558136.\u001b[0m\n"
     ]
    },
    {
     "name": "stdout",
     "output_type": "stream",
     "text": [
      "1/1 [==============================] - 0s 31ms/step - loss: 0.0000e+00 - accuracy: 0.4444\n"
     ]
    },
    {
     "name": "stderr",
     "output_type": "stream",
     "text": [
      "\u001b[32m[I 2022-05-24 00:31:45,414]\u001b[0m Trial 195 finished with value: 0.4444444477558136 and parameters: {'n_layers': 5, 'n_units': 100, 'dropout': 0.5, 'optimizer': 'SGD'}. Best is trial 0 with value: 0.4444444477558136.\u001b[0m\n"
     ]
    },
    {
     "name": "stdout",
     "output_type": "stream",
     "text": [
      "1/1 [==============================] - 0s 31ms/step - loss: 0.0000e+00 - accuracy: 0.4444\n"
     ]
    },
    {
     "name": "stderr",
     "output_type": "stream",
     "text": [
      "\u001b[32m[I 2022-05-24 00:31:47,006]\u001b[0m Trial 196 finished with value: 0.4444444477558136 and parameters: {'n_layers': 5, 'n_units': 150, 'dropout': 0.5, 'optimizer': 'SGD'}. Best is trial 0 with value: 0.4444444477558136.\u001b[0m\n"
     ]
    },
    {
     "name": "stdout",
     "output_type": "stream",
     "text": [
      "1/1 [==============================] - 0s 16ms/step - loss: 0.0000e+00 - accuracy: 0.4444\n"
     ]
    },
    {
     "name": "stderr",
     "output_type": "stream",
     "text": [
      "\u001b[32m[I 2022-05-24 00:31:48,379]\u001b[0m Trial 197 finished with value: 0.4444444477558136 and parameters: {'n_layers': 5, 'n_units': 150, 'dropout': 0.5, 'optimizer': 'SGD'}. Best is trial 0 with value: 0.4444444477558136.\u001b[0m\n"
     ]
    },
    {
     "name": "stdout",
     "output_type": "stream",
     "text": [
      "1/1 [==============================] - 0s 31ms/step - loss: 0.0000e+00 - accuracy: 0.4444\n"
     ]
    },
    {
     "name": "stderr",
     "output_type": "stream",
     "text": [
      "\u001b[32m[I 2022-05-24 00:31:49,608]\u001b[0m Trial 198 finished with value: 0.4444444477558136 and parameters: {'n_layers': 5, 'n_units': 150, 'dropout': 0.5, 'optimizer': 'SGD'}. Best is trial 0 with value: 0.4444444477558136.\u001b[0m\n"
     ]
    },
    {
     "name": "stdout",
     "output_type": "stream",
     "text": [
      "1/1 [==============================] - 0s 31ms/step - loss: 0.0000e+00 - accuracy: 0.4444\n"
     ]
    },
    {
     "name": "stderr",
     "output_type": "stream",
     "text": [
      "\u001b[32m[I 2022-05-24 00:31:50,970]\u001b[0m Trial 199 finished with value: 0.4444444477558136 and parameters: {'n_layers': 5, 'n_units': 150, 'dropout': 0.5, 'optimizer': 'SGD'}. Best is trial 0 with value: 0.4444444477558136.\u001b[0m\n"
     ]
    },
    {
     "name": "stdout",
     "output_type": "stream",
     "text": [
      "1/1 [==============================] - 0s 24ms/step - loss: 0.0000e+00 - accuracy: 0.4444\n"
     ]
    },
    {
     "name": "stderr",
     "output_type": "stream",
     "text": [
      "\u001b[32m[I 2022-05-24 00:31:52,455]\u001b[0m Trial 200 finished with value: 0.4444444477558136 and parameters: {'n_layers': 5, 'n_units': 150, 'dropout': 0.5, 'optimizer': 'SGD'}. Best is trial 0 with value: 0.4444444477558136.\u001b[0m\n"
     ]
    },
    {
     "name": "stdout",
     "output_type": "stream",
     "text": [
      "1/1 [==============================] - 0s 16ms/step - loss: 0.0000e+00 - accuracy: 0.4444\n"
     ]
    },
    {
     "name": "stderr",
     "output_type": "stream",
     "text": [
      "\u001b[32m[I 2022-05-24 00:31:53,824]\u001b[0m Trial 201 finished with value: 0.4444444477558136 and parameters: {'n_layers': 5, 'n_units': 150, 'dropout': 0.5, 'optimizer': 'SGD'}. Best is trial 0 with value: 0.4444444477558136.\u001b[0m\n"
     ]
    },
    {
     "name": "stdout",
     "output_type": "stream",
     "text": [
      "1/1 [==============================] - 0s 31ms/step - loss: 0.0000e+00 - accuracy: 0.4444\n"
     ]
    },
    {
     "name": "stderr",
     "output_type": "stream",
     "text": [
      "\u001b[32m[I 2022-05-24 00:31:55,191]\u001b[0m Trial 202 finished with value: 0.4444444477558136 and parameters: {'n_layers': 5, 'n_units': 150, 'dropout': 0.5, 'optimizer': 'SGD'}. Best is trial 0 with value: 0.4444444477558136.\u001b[0m\n"
     ]
    },
    {
     "name": "stdout",
     "output_type": "stream",
     "text": [
      "1/1 [==============================] - 0s 31ms/step - loss: 0.0000e+00 - accuracy: 0.4444\n"
     ]
    },
    {
     "name": "stderr",
     "output_type": "stream",
     "text": [
      "\u001b[32m[I 2022-05-24 00:31:56,345]\u001b[0m Trial 203 finished with value: 0.4444444477558136 and parameters: {'n_layers': 5, 'n_units': 150, 'dropout': 0.5, 'optimizer': 'SGD'}. Best is trial 0 with value: 0.4444444477558136.\u001b[0m\n"
     ]
    },
    {
     "name": "stdout",
     "output_type": "stream",
     "text": [
      "1/1 [==============================] - 0s 47ms/step - loss: 0.0000e+00 - accuracy: 0.4444\n"
     ]
    },
    {
     "name": "stderr",
     "output_type": "stream",
     "text": [
      "\u001b[32m[I 2022-05-24 00:31:58,014]\u001b[0m Trial 204 finished with value: 0.4444444477558136 and parameters: {'n_layers': 5, 'n_units': 150, 'dropout': 0.5, 'optimizer': 'SGD'}. Best is trial 0 with value: 0.4444444477558136.\u001b[0m\n"
     ]
    },
    {
     "name": "stdout",
     "output_type": "stream",
     "text": [
      "1/1 [==============================] - 0s 31ms/step - loss: 0.0000e+00 - accuracy: 0.4444\n"
     ]
    },
    {
     "name": "stderr",
     "output_type": "stream",
     "text": [
      "\u001b[32m[I 2022-05-24 00:31:59,529]\u001b[0m Trial 205 finished with value: 0.4444444477558136 and parameters: {'n_layers': 5, 'n_units': 150, 'dropout': 0.5, 'optimizer': 'SGD'}. Best is trial 0 with value: 0.4444444477558136.\u001b[0m\n"
     ]
    },
    {
     "name": "stdout",
     "output_type": "stream",
     "text": [
      "1/1 [==============================] - 0s 16ms/step - loss: 0.0000e+00 - accuracy: 0.4444\n"
     ]
    },
    {
     "name": "stderr",
     "output_type": "stream",
     "text": [
      "\u001b[32m[I 2022-05-24 00:32:01,276]\u001b[0m Trial 206 finished with value: 0.4444444477558136 and parameters: {'n_layers': 5, 'n_units': 150, 'dropout': 0.5, 'optimizer': 'SGD'}. Best is trial 0 with value: 0.4444444477558136.\u001b[0m\n"
     ]
    },
    {
     "name": "stdout",
     "output_type": "stream",
     "text": [
      "1/1 [==============================] - 0s 31ms/step - loss: 0.0000e+00 - accuracy: 0.4444\n"
     ]
    },
    {
     "name": "stderr",
     "output_type": "stream",
     "text": [
      "\u001b[32m[I 2022-05-24 00:32:02,681]\u001b[0m Trial 207 finished with value: 0.4444444477558136 and parameters: {'n_layers': 5, 'n_units': 150, 'dropout': 0.5, 'optimizer': 'SGD'}. Best is trial 0 with value: 0.4444444477558136.\u001b[0m\n"
     ]
    },
    {
     "name": "stdout",
     "output_type": "stream",
     "text": [
      "1/1 [==============================] - 0s 16ms/step - loss: 0.0000e+00 - accuracy: 0.4444\n"
     ]
    },
    {
     "name": "stderr",
     "output_type": "stream",
     "text": [
      "\u001b[32m[I 2022-05-24 00:32:04,210]\u001b[0m Trial 208 finished with value: 0.4444444477558136 and parameters: {'n_layers': 4, 'n_units': 150, 'dropout': 0.5, 'optimizer': 'SGD'}. Best is trial 0 with value: 0.4444444477558136.\u001b[0m\n"
     ]
    },
    {
     "name": "stdout",
     "output_type": "stream",
     "text": [
      "1/1 [==============================] - 0s 33ms/step - loss: 0.0000e+00 - accuracy: 0.4444\n"
     ]
    },
    {
     "name": "stderr",
     "output_type": "stream",
     "text": [
      "\u001b[32m[I 2022-05-24 00:32:05,642]\u001b[0m Trial 209 finished with value: 0.4444444477558136 and parameters: {'n_layers': 4, 'n_units': 150, 'dropout': 0.5, 'optimizer': 'SGD'}. Best is trial 0 with value: 0.4444444477558136.\u001b[0m\n"
     ]
    },
    {
     "name": "stdout",
     "output_type": "stream",
     "text": [
      "1/1 [==============================] - 0s 33ms/step - loss: 0.0000e+00 - accuracy: 0.4444\n"
     ]
    },
    {
     "name": "stderr",
     "output_type": "stream",
     "text": [
      "\u001b[32m[I 2022-05-24 00:32:06,708]\u001b[0m Trial 210 finished with value: 0.4444444477558136 and parameters: {'n_layers': 4, 'n_units': 150, 'dropout': 0.5, 'optimizer': 'SGD'}. Best is trial 0 with value: 0.4444444477558136.\u001b[0m\n"
     ]
    },
    {
     "name": "stdout",
     "output_type": "stream",
     "text": [
      "1/1 [==============================] - 0s 31ms/step - loss: 0.0000e+00 - accuracy: 0.4444\n"
     ]
    },
    {
     "name": "stderr",
     "output_type": "stream",
     "text": [
      "\u001b[32m[I 2022-05-24 00:32:07,887]\u001b[0m Trial 211 finished with value: 0.4444444477558136 and parameters: {'n_layers': 4, 'n_units': 200, 'dropout': 0.5, 'optimizer': 'SGD'}. Best is trial 0 with value: 0.4444444477558136.\u001b[0m\n"
     ]
    },
    {
     "name": "stdout",
     "output_type": "stream",
     "text": [
      "1/1 [==============================] - 0s 31ms/step - loss: 0.0000e+00 - accuracy: 0.4444\n"
     ]
    },
    {
     "name": "stderr",
     "output_type": "stream",
     "text": [
      "\u001b[32m[I 2022-05-24 00:32:09,497]\u001b[0m Trial 212 finished with value: 0.4444444477558136 and parameters: {'n_layers': 5, 'n_units': 200, 'dropout': 0.1, 'optimizer': 'SGD'}. Best is trial 0 with value: 0.4444444477558136.\u001b[0m\n"
     ]
    },
    {
     "name": "stdout",
     "output_type": "stream",
     "text": [
      "1/1 [==============================] - 0s 31ms/step - loss: 0.0000e+00 - accuracy: 0.4444\n"
     ]
    },
    {
     "name": "stderr",
     "output_type": "stream",
     "text": [
      "\u001b[32m[I 2022-05-24 00:32:11,024]\u001b[0m Trial 213 finished with value: 0.4444444477558136 and parameters: {'n_layers': 5, 'n_units': 200, 'dropout': 0.1, 'optimizer': 'SGD'}. Best is trial 0 with value: 0.4444444477558136.\u001b[0m\n"
     ]
    },
    {
     "name": "stdout",
     "output_type": "stream",
     "text": [
      "1/1 [==============================] - 0s 16ms/step - loss: 0.0000e+00 - accuracy: 0.4444\n"
     ]
    },
    {
     "name": "stderr",
     "output_type": "stream",
     "text": [
      "\u001b[32m[I 2022-05-24 00:32:11,939]\u001b[0m Trial 214 finished with value: 0.4444444477558136 and parameters: {'n_layers': 3, 'n_units': 200, 'dropout': 0.1, 'optimizer': 'SGD'}. Best is trial 0 with value: 0.4444444477558136.\u001b[0m\n"
     ]
    },
    {
     "name": "stdout",
     "output_type": "stream",
     "text": [
      "1/1 [==============================] - 0s 30ms/step - loss: 0.0000e+00 - accuracy: 0.4444\n"
     ]
    },
    {
     "name": "stderr",
     "output_type": "stream",
     "text": [
      "\u001b[32m[I 2022-05-24 00:32:13,061]\u001b[0m Trial 215 finished with value: 0.4444444477558136 and parameters: {'n_layers': 4, 'n_units': 200, 'dropout': 0.2, 'optimizer': 'SGD'}. Best is trial 0 with value: 0.4444444477558136.\u001b[0m\n"
     ]
    },
    {
     "name": "stdout",
     "output_type": "stream",
     "text": [
      "1/1 [==============================] - 0s 16ms/step - loss: 0.0000e+00 - accuracy: 0.4444\n"
     ]
    },
    {
     "name": "stderr",
     "output_type": "stream",
     "text": [
      "\u001b[32m[I 2022-05-24 00:32:14,312]\u001b[0m Trial 216 finished with value: 0.4444444477558136 and parameters: {'n_layers': 3, 'n_units': 200, 'dropout': 0.5, 'optimizer': 'SGD'}. Best is trial 0 with value: 0.4444444477558136.\u001b[0m\n"
     ]
    },
    {
     "name": "stdout",
     "output_type": "stream",
     "text": [
      "1/1 [==============================] - 0s 44ms/step - loss: 0.0000e+00 - accuracy: 0.4444\n"
     ]
    },
    {
     "name": "stderr",
     "output_type": "stream",
     "text": [
      "\u001b[32m[I 2022-05-24 00:32:15,743]\u001b[0m Trial 217 finished with value: 0.4444444477558136 and parameters: {'n_layers': 3, 'n_units': 200, 'dropout': 0.2, 'optimizer': 'SGD'}. Best is trial 0 with value: 0.4444444477558136.\u001b[0m\n"
     ]
    },
    {
     "name": "stdout",
     "output_type": "stream",
     "text": [
      "1/1 [==============================] - 0s 16ms/step - loss: 0.0000e+00 - accuracy: 0.4444\n"
     ]
    },
    {
     "name": "stderr",
     "output_type": "stream",
     "text": [
      "\u001b[32m[I 2022-05-24 00:32:17,084]\u001b[0m Trial 218 finished with value: 0.4444444477558136 and parameters: {'n_layers': 3, 'n_units': 200, 'dropout': 0.1, 'optimizer': 'SGD'}. Best is trial 0 with value: 0.4444444477558136.\u001b[0m\n"
     ]
    },
    {
     "name": "stdout",
     "output_type": "stream",
     "text": [
      "1/1 [==============================] - 0s 16ms/step - loss: 0.0000e+00 - accuracy: 0.4444\n"
     ]
    },
    {
     "name": "stderr",
     "output_type": "stream",
     "text": [
      "\u001b[32m[I 2022-05-24 00:32:18,327]\u001b[0m Trial 219 finished with value: 0.4444444477558136 and parameters: {'n_layers': 4, 'n_units': 200, 'dropout': 0.1, 'optimizer': 'SGD'}. Best is trial 0 with value: 0.4444444477558136.\u001b[0m\n"
     ]
    },
    {
     "name": "stdout",
     "output_type": "stream",
     "text": [
      "1/1 [==============================] - 0s 33ms/step - loss: 0.0000e+00 - accuracy: 0.4444\n"
     ]
    },
    {
     "name": "stderr",
     "output_type": "stream",
     "text": [
      "\u001b[32m[I 2022-05-24 00:32:19,417]\u001b[0m Trial 220 finished with value: 0.4444444477558136 and parameters: {'n_layers': 4, 'n_units': 200, 'dropout': 0.0, 'optimizer': 'SGD'}. Best is trial 0 with value: 0.4444444477558136.\u001b[0m\n"
     ]
    },
    {
     "name": "stdout",
     "output_type": "stream",
     "text": [
      "1/1 [==============================] - 0s 31ms/step - loss: 0.0000e+00 - accuracy: 0.4444\n"
     ]
    },
    {
     "name": "stderr",
     "output_type": "stream",
     "text": [
      "\u001b[32m[I 2022-05-24 00:32:20,790]\u001b[0m Trial 221 finished with value: 0.4444444477558136 and parameters: {'n_layers': 4, 'n_units': 200, 'dropout': 0.0, 'optimizer': 'SGD'}. Best is trial 0 with value: 0.4444444477558136.\u001b[0m\n"
     ]
    },
    {
     "name": "stdout",
     "output_type": "stream",
     "text": [
      "1/1 [==============================] - 0s 16ms/step - loss: 0.0000e+00 - accuracy: 0.4444\n"
     ]
    },
    {
     "name": "stderr",
     "output_type": "stream",
     "text": [
      "\u001b[32m[I 2022-05-24 00:32:21,931]\u001b[0m Trial 222 finished with value: 0.4444444477558136 and parameters: {'n_layers': 3, 'n_units': 200, 'dropout': 0.0, 'optimizer': 'Adam'}. Best is trial 0 with value: 0.4444444477558136.\u001b[0m\n"
     ]
    },
    {
     "name": "stdout",
     "output_type": "stream",
     "text": [
      "1/1 [==============================] - 0s 16ms/step - loss: 0.0000e+00 - accuracy: 0.4444\n"
     ]
    },
    {
     "name": "stderr",
     "output_type": "stream",
     "text": [
      "\u001b[32m[I 2022-05-24 00:32:22,940]\u001b[0m Trial 223 finished with value: 0.4444444477558136 and parameters: {'n_layers': 3, 'n_units': 200, 'dropout': 0.0, 'optimizer': 'Adam'}. Best is trial 0 with value: 0.4444444477558136.\u001b[0m\n"
     ]
    },
    {
     "name": "stdout",
     "output_type": "stream",
     "text": [
      "1/1 [==============================] - 0s 16ms/step - loss: 0.0000e+00 - accuracy: 0.4444\n"
     ]
    },
    {
     "name": "stderr",
     "output_type": "stream",
     "text": [
      "\u001b[32m[I 2022-05-24 00:32:24,388]\u001b[0m Trial 224 finished with value: 0.4444444477558136 and parameters: {'n_layers': 4, 'n_units': 200, 'dropout': 0.0, 'optimizer': 'Adam'}. Best is trial 0 with value: 0.4444444477558136.\u001b[0m\n"
     ]
    },
    {
     "name": "stdout",
     "output_type": "stream",
     "text": [
      "1/1 [==============================] - 0s 16ms/step - loss: 0.0000e+00 - accuracy: 0.4444\n"
     ]
    },
    {
     "name": "stderr",
     "output_type": "stream",
     "text": [
      "\u001b[32m[I 2022-05-24 00:32:25,732]\u001b[0m Trial 225 finished with value: 0.4444444477558136 and parameters: {'n_layers': 4, 'n_units': 200, 'dropout': 0.0, 'optimizer': 'Adam'}. Best is trial 0 with value: 0.4444444477558136.\u001b[0m\n"
     ]
    },
    {
     "name": "stdout",
     "output_type": "stream",
     "text": [
      "1/1 [==============================] - 0s 31ms/step - loss: 0.0000e+00 - accuracy: 0.4444\n"
     ]
    },
    {
     "name": "stderr",
     "output_type": "stream",
     "text": [
      "\u001b[32m[I 2022-05-24 00:32:27,232]\u001b[0m Trial 226 finished with value: 0.4444444477558136 and parameters: {'n_layers': 3, 'n_units': 200, 'dropout': 0.2, 'optimizer': 'Adam'}. Best is trial 0 with value: 0.4444444477558136.\u001b[0m\n"
     ]
    },
    {
     "name": "stdout",
     "output_type": "stream",
     "text": [
      "1/1 [==============================] - 0s 31ms/step - loss: 0.0000e+00 - accuracy: 0.4444\n"
     ]
    },
    {
     "name": "stderr",
     "output_type": "stream",
     "text": [
      "\u001b[32m[I 2022-05-24 00:32:28,388]\u001b[0m Trial 227 finished with value: 0.4444444477558136 and parameters: {'n_layers': 4, 'n_units': 200, 'dropout': 0.0, 'optimizer': 'Adam'}. Best is trial 0 with value: 0.4444444477558136.\u001b[0m\n"
     ]
    },
    {
     "name": "stdout",
     "output_type": "stream",
     "text": [
      "1/1 [==============================] - 0s 16ms/step - loss: 0.0000e+00 - accuracy: 0.4444\n"
     ]
    },
    {
     "name": "stderr",
     "output_type": "stream",
     "text": [
      "\u001b[32m[I 2022-05-24 00:32:29,356]\u001b[0m Trial 228 finished with value: 0.4444444477558136 and parameters: {'n_layers': 3, 'n_units': 200, 'dropout': 0.2, 'optimizer': 'Adam'}. Best is trial 0 with value: 0.4444444477558136.\u001b[0m\n"
     ]
    },
    {
     "name": "stdout",
     "output_type": "stream",
     "text": [
      "1/1 [==============================] - 0s 47ms/step - loss: 0.0000e+00 - accuracy: 0.4444\n"
     ]
    },
    {
     "name": "stderr",
     "output_type": "stream",
     "text": [
      "\u001b[32m[I 2022-05-24 00:32:30,453]\u001b[0m Trial 229 finished with value: 0.4444444477558136 and parameters: {'n_layers': 3, 'n_units': 200, 'dropout': 0.2, 'optimizer': 'Adam'}. Best is trial 0 with value: 0.4444444477558136.\u001b[0m\n"
     ]
    },
    {
     "name": "stdout",
     "output_type": "stream",
     "text": [
      "1/1 [==============================] - 0s 31ms/step - loss: 0.0000e+00 - accuracy: 0.4444\n"
     ]
    },
    {
     "name": "stderr",
     "output_type": "stream",
     "text": [
      "\u001b[32m[I 2022-05-24 00:32:31,875]\u001b[0m Trial 230 finished with value: 0.4444444477558136 and parameters: {'n_layers': 3, 'n_units': 200, 'dropout': 0.0, 'optimizer': 'Adam'}. Best is trial 0 with value: 0.4444444477558136.\u001b[0m\n"
     ]
    },
    {
     "name": "stdout",
     "output_type": "stream",
     "text": [
      "1/1 [==============================] - 0s 16ms/step - loss: 0.0000e+00 - accuracy: 0.4444\n"
     ]
    },
    {
     "name": "stderr",
     "output_type": "stream",
     "text": [
      "\u001b[32m[I 2022-05-24 00:32:32,980]\u001b[0m Trial 231 finished with value: 0.4444444477558136 and parameters: {'n_layers': 3, 'n_units': 200, 'dropout': 0.0, 'optimizer': 'Adam'}. Best is trial 0 with value: 0.4444444477558136.\u001b[0m\n"
     ]
    },
    {
     "name": "stdout",
     "output_type": "stream",
     "text": [
      "1/1 [==============================] - 0s 16ms/step - loss: 0.0000e+00 - accuracy: 0.4444\n"
     ]
    },
    {
     "name": "stderr",
     "output_type": "stream",
     "text": [
      "\u001b[32m[I 2022-05-24 00:32:34,331]\u001b[0m Trial 232 finished with value: 0.4444444477558136 and parameters: {'n_layers': 3, 'n_units': 200, 'dropout': 0.0, 'optimizer': 'Adam'}. Best is trial 0 with value: 0.4444444477558136.\u001b[0m\n"
     ]
    },
    {
     "name": "stdout",
     "output_type": "stream",
     "text": [
      "1/1 [==============================] - 0s 16ms/step - loss: 0.0000e+00 - accuracy: 0.4444\n"
     ]
    },
    {
     "name": "stderr",
     "output_type": "stream",
     "text": [
      "\u001b[32m[I 2022-05-24 00:32:35,661]\u001b[0m Trial 233 finished with value: 0.4444444477558136 and parameters: {'n_layers': 3, 'n_units': 200, 'dropout': 0.0, 'optimizer': 'Adam'}. Best is trial 0 with value: 0.4444444477558136.\u001b[0m\n"
     ]
    },
    {
     "name": "stdout",
     "output_type": "stream",
     "text": [
      "1/1 [==============================] - 0s 16ms/step - loss: 0.0000e+00 - accuracy: 0.4444\n"
     ]
    },
    {
     "name": "stderr",
     "output_type": "stream",
     "text": [
      "\u001b[32m[I 2022-05-24 00:32:36,998]\u001b[0m Trial 234 finished with value: 0.4444444477558136 and parameters: {'n_layers': 3, 'n_units': 200, 'dropout': 0.0, 'optimizer': 'Adam'}. Best is trial 0 with value: 0.4444444477558136.\u001b[0m\n"
     ]
    },
    {
     "name": "stdout",
     "output_type": "stream",
     "text": [
      "1/1 [==============================] - 0s 31ms/step - loss: 0.0000e+00 - accuracy: 0.4444\n"
     ]
    },
    {
     "name": "stderr",
     "output_type": "stream",
     "text": [
      "\u001b[32m[I 2022-05-24 00:32:38,282]\u001b[0m Trial 235 finished with value: 0.4444444477558136 and parameters: {'n_layers': 3, 'n_units': 250, 'dropout': 0.0, 'optimizer': 'Adam'}. Best is trial 0 with value: 0.4444444477558136.\u001b[0m\n"
     ]
    },
    {
     "name": "stdout",
     "output_type": "stream",
     "text": [
      "1/1 [==============================] - 0s 16ms/step - loss: 0.0000e+00 - accuracy: 0.4444\n"
     ]
    },
    {
     "name": "stderr",
     "output_type": "stream",
     "text": [
      "\u001b[32m[I 2022-05-24 00:32:39,146]\u001b[0m Trial 236 finished with value: 0.4444444477558136 and parameters: {'n_layers': 3, 'n_units': 250, 'dropout': 0.0, 'optimizer': 'Adam'}. Best is trial 0 with value: 0.4444444477558136.\u001b[0m\n"
     ]
    },
    {
     "name": "stdout",
     "output_type": "stream",
     "text": [
      "1/1 [==============================] - 0s 31ms/step - loss: 0.0000e+00 - accuracy: 0.4444\n"
     ]
    },
    {
     "name": "stderr",
     "output_type": "stream",
     "text": [
      "\u001b[32m[I 2022-05-24 00:32:40,044]\u001b[0m Trial 237 finished with value: 0.4444444477558136 and parameters: {'n_layers': 3, 'n_units': 250, 'dropout': 0.0, 'optimizer': 'Adam'}. Best is trial 0 with value: 0.4444444477558136.\u001b[0m\n"
     ]
    },
    {
     "name": "stdout",
     "output_type": "stream",
     "text": [
      "1/1 [==============================] - 0s 31ms/step - loss: 0.0000e+00 - accuracy: 0.4444\n"
     ]
    },
    {
     "name": "stderr",
     "output_type": "stream",
     "text": [
      "\u001b[32m[I 2022-05-24 00:32:41,436]\u001b[0m Trial 238 finished with value: 0.4444444477558136 and parameters: {'n_layers': 3, 'n_units': 250, 'dropout': 0.0, 'optimizer': 'Adam'}. Best is trial 0 with value: 0.4444444477558136.\u001b[0m\n"
     ]
    },
    {
     "name": "stdout",
     "output_type": "stream",
     "text": [
      "1/1 [==============================] - 0s 16ms/step - loss: 0.0000e+00 - accuracy: 0.4444\n"
     ]
    },
    {
     "name": "stderr",
     "output_type": "stream",
     "text": [
      "\u001b[32m[I 2022-05-24 00:32:42,803]\u001b[0m Trial 239 finished with value: 0.4444444477558136 and parameters: {'n_layers': 3, 'n_units': 250, 'dropout': 0.0, 'optimizer': 'Adam'}. Best is trial 0 with value: 0.4444444477558136.\u001b[0m\n"
     ]
    },
    {
     "name": "stdout",
     "output_type": "stream",
     "text": [
      "1/1 [==============================] - 0s 16ms/step - loss: 0.0000e+00 - accuracy: 0.4444\n"
     ]
    },
    {
     "name": "stderr",
     "output_type": "stream",
     "text": [
      "\u001b[32m[I 2022-05-24 00:32:43,993]\u001b[0m Trial 240 finished with value: 0.4444444477558136 and parameters: {'n_layers': 2, 'n_units': 250, 'dropout': 0.30000000000000004, 'optimizer': 'Adam'}. Best is trial 0 with value: 0.4444444477558136.\u001b[0m\n"
     ]
    },
    {
     "name": "stdout",
     "output_type": "stream",
     "text": [
      "1/1 [==============================] - 0s 16ms/step - loss: 0.0000e+00 - accuracy: 0.4444\n"
     ]
    },
    {
     "name": "stderr",
     "output_type": "stream",
     "text": [
      "\u001b[32m[I 2022-05-24 00:32:44,919]\u001b[0m Trial 241 finished with value: 0.4444444477558136 and parameters: {'n_layers': 2, 'n_units': 250, 'dropout': 0.30000000000000004, 'optimizer': 'Adam'}. Best is trial 0 with value: 0.4444444477558136.\u001b[0m\n"
     ]
    },
    {
     "name": "stdout",
     "output_type": "stream",
     "text": [
      "1/1 [==============================] - 0s 16ms/step - loss: 0.0000e+00 - accuracy: 0.4444\n"
     ]
    },
    {
     "name": "stderr",
     "output_type": "stream",
     "text": [
      "\u001b[32m[I 2022-05-24 00:32:46,268]\u001b[0m Trial 242 finished with value: 0.4444444477558136 and parameters: {'n_layers': 2, 'n_units': 250, 'dropout': 0.0, 'optimizer': 'Adam'}. Best is trial 0 with value: 0.4444444477558136.\u001b[0m\n"
     ]
    },
    {
     "name": "stdout",
     "output_type": "stream",
     "text": [
      "1/1 [==============================] - 0s 16ms/step - loss: 0.0000e+00 - accuracy: 0.4444\n"
     ]
    },
    {
     "name": "stderr",
     "output_type": "stream",
     "text": [
      "\u001b[32m[I 2022-05-24 00:32:47,475]\u001b[0m Trial 243 finished with value: 0.4444444477558136 and parameters: {'n_layers': 2, 'n_units': 250, 'dropout': 0.30000000000000004, 'optimizer': 'Adam'}. Best is trial 0 with value: 0.4444444477558136.\u001b[0m\n"
     ]
    },
    {
     "name": "stdout",
     "output_type": "stream",
     "text": [
      "1/1 [==============================] - 0s 31ms/step - loss: 0.0000e+00 - accuracy: 0.4444\n"
     ]
    },
    {
     "name": "stderr",
     "output_type": "stream",
     "text": [
      "\u001b[32m[I 2022-05-24 00:32:48,632]\u001b[0m Trial 244 finished with value: 0.4444444477558136 and parameters: {'n_layers': 2, 'n_units': 250, 'dropout': 0.30000000000000004, 'optimizer': 'Adam'}. Best is trial 0 with value: 0.4444444477558136.\u001b[0m\n"
     ]
    },
    {
     "name": "stdout",
     "output_type": "stream",
     "text": [
      "1/1 [==============================] - 0s 31ms/step - loss: 0.0000e+00 - accuracy: 0.4444\n"
     ]
    },
    {
     "name": "stderr",
     "output_type": "stream",
     "text": [
      "\u001b[32m[I 2022-05-24 00:32:49,738]\u001b[0m Trial 245 finished with value: 0.4444444477558136 and parameters: {'n_layers': 2, 'n_units': 250, 'dropout': 0.30000000000000004, 'optimizer': 'Adam'}. Best is trial 0 with value: 0.4444444477558136.\u001b[0m\n"
     ]
    },
    {
     "name": "stdout",
     "output_type": "stream",
     "text": [
      "1/1 [==============================] - 0s 16ms/step - loss: 0.0000e+00 - accuracy: 0.4444\n"
     ]
    },
    {
     "name": "stderr",
     "output_type": "stream",
     "text": [
      "\u001b[32m[I 2022-05-24 00:32:50,785]\u001b[0m Trial 246 finished with value: 0.4444444477558136 and parameters: {'n_layers': 2, 'n_units': 250, 'dropout': 0.30000000000000004, 'optimizer': 'Adam'}. Best is trial 0 with value: 0.4444444477558136.\u001b[0m\n"
     ]
    },
    {
     "name": "stdout",
     "output_type": "stream",
     "text": [
      "1/1 [==============================] - 0s 37ms/step - loss: 0.0000e+00 - accuracy: 0.4444\n"
     ]
    },
    {
     "name": "stderr",
     "output_type": "stream",
     "text": [
      "\u001b[32m[I 2022-05-24 00:32:51,767]\u001b[0m Trial 247 finished with value: 0.4444444477558136 and parameters: {'n_layers': 2, 'n_units': 250, 'dropout': 0.30000000000000004, 'optimizer': 'Adam'}. Best is trial 0 with value: 0.4444444477558136.\u001b[0m\n"
     ]
    },
    {
     "name": "stdout",
     "output_type": "stream",
     "text": [
      "1/1 [==============================] - 0s 31ms/step - loss: 0.0000e+00 - accuracy: 0.4444\n"
     ]
    },
    {
     "name": "stderr",
     "output_type": "stream",
     "text": [
      "\u001b[32m[I 2022-05-24 00:32:53,231]\u001b[0m Trial 248 finished with value: 0.4444444477558136 and parameters: {'n_layers': 2, 'n_units': 250, 'dropout': 0.30000000000000004, 'optimizer': 'Adam'}. Best is trial 0 with value: 0.4444444477558136.\u001b[0m\n"
     ]
    },
    {
     "name": "stdout",
     "output_type": "stream",
     "text": [
      "1/1 [==============================] - 0s 16ms/step - loss: 0.0000e+00 - accuracy: 0.4444\n"
     ]
    },
    {
     "name": "stderr",
     "output_type": "stream",
     "text": [
      "\u001b[32m[I 2022-05-24 00:32:54,361]\u001b[0m Trial 249 finished with value: 0.4444444477558136 and parameters: {'n_layers': 2, 'n_units': 250, 'dropout': 0.30000000000000004, 'optimizer': 'Adam'}. Best is trial 0 with value: 0.4444444477558136.\u001b[0m\n"
     ]
    },
    {
     "name": "stdout",
     "output_type": "stream",
     "text": [
      "1/1 [==============================] - 0s 26ms/step - loss: 0.0000e+00 - accuracy: 0.4444\n"
     ]
    },
    {
     "name": "stderr",
     "output_type": "stream",
     "text": [
      "\u001b[32m[I 2022-05-24 00:32:55,474]\u001b[0m Trial 250 finished with value: 0.4444444477558136 and parameters: {'n_layers': 2, 'n_units': 250, 'dropout': 0.30000000000000004, 'optimizer': 'RMSprop'}. Best is trial 0 with value: 0.4444444477558136.\u001b[0m\n"
     ]
    },
    {
     "name": "stdout",
     "output_type": "stream",
     "text": [
      "1/1 [==============================] - 0s 38ms/step - loss: 0.0000e+00 - accuracy: 0.4444\n"
     ]
    },
    {
     "name": "stderr",
     "output_type": "stream",
     "text": [
      "\u001b[32m[I 2022-05-24 00:32:56,535]\u001b[0m Trial 251 finished with value: 0.4444444477558136 and parameters: {'n_layers': 2, 'n_units': 250, 'dropout': 0.30000000000000004, 'optimizer': 'RMSprop'}. Best is trial 0 with value: 0.4444444477558136.\u001b[0m\n"
     ]
    },
    {
     "name": "stdout",
     "output_type": "stream",
     "text": [
      "1/1 [==============================] - 0s 31ms/step - loss: 0.0000e+00 - accuracy: 0.4444\n"
     ]
    },
    {
     "name": "stderr",
     "output_type": "stream",
     "text": [
      "\u001b[32m[I 2022-05-24 00:32:57,941]\u001b[0m Trial 252 finished with value: 0.4444444477558136 and parameters: {'n_layers': 2, 'n_units': 250, 'dropout': 0.30000000000000004, 'optimizer': 'RMSprop'}. Best is trial 0 with value: 0.4444444477558136.\u001b[0m\n"
     ]
    },
    {
     "name": "stdout",
     "output_type": "stream",
     "text": [
      "1/1 [==============================] - 0s 47ms/step - loss: 0.0000e+00 - accuracy: 0.4444\n"
     ]
    },
    {
     "name": "stderr",
     "output_type": "stream",
     "text": [
      "\u001b[32m[I 2022-05-24 00:32:59,328]\u001b[0m Trial 253 finished with value: 0.4444444477558136 and parameters: {'n_layers': 2, 'n_units': 250, 'dropout': 0.30000000000000004, 'optimizer': 'RMSprop'}. Best is trial 0 with value: 0.4444444477558136.\u001b[0m\n"
     ]
    },
    {
     "name": "stdout",
     "output_type": "stream",
     "text": [
      "1/1 [==============================] - 0s 31ms/step - loss: 0.0000e+00 - accuracy: 0.4444\n"
     ]
    },
    {
     "name": "stderr",
     "output_type": "stream",
     "text": [
      "\u001b[32m[I 2022-05-24 00:33:00,608]\u001b[0m Trial 254 finished with value: 0.4444444477558136 and parameters: {'n_layers': 2, 'n_units': 250, 'dropout': 0.30000000000000004, 'optimizer': 'RMSprop'}. Best is trial 0 with value: 0.4444444477558136.\u001b[0m\n"
     ]
    },
    {
     "name": "stdout",
     "output_type": "stream",
     "text": [
      "1/1 [==============================] - 0s 16ms/step - loss: 0.0000e+00 - accuracy: 0.4444\n"
     ]
    },
    {
     "name": "stderr",
     "output_type": "stream",
     "text": [
      "\u001b[32m[I 2022-05-24 00:33:01,686]\u001b[0m Trial 255 finished with value: 0.4444444477558136 and parameters: {'n_layers': 2, 'n_units': 250, 'dropout': 0.30000000000000004, 'optimizer': 'RMSprop'}. Best is trial 0 with value: 0.4444444477558136.\u001b[0m\n"
     ]
    },
    {
     "name": "stdout",
     "output_type": "stream",
     "text": [
      "1/1 [==============================] - 0s 16ms/step - loss: 0.0000e+00 - accuracy: 0.4444\n"
     ]
    },
    {
     "name": "stderr",
     "output_type": "stream",
     "text": [
      "\u001b[32m[I 2022-05-24 00:33:02,820]\u001b[0m Trial 256 finished with value: 0.4444444477558136 and parameters: {'n_layers': 2, 'n_units': 250, 'dropout': 0.4, 'optimizer': 'RMSprop'}. Best is trial 0 with value: 0.4444444477558136.\u001b[0m\n"
     ]
    },
    {
     "name": "stdout",
     "output_type": "stream",
     "text": [
      "1/1 [==============================] - 0s 31ms/step - loss: 0.0000e+00 - accuracy: 0.4444\n"
     ]
    },
    {
     "name": "stderr",
     "output_type": "stream",
     "text": [
      "\u001b[32m[I 2022-05-24 00:33:04,057]\u001b[0m Trial 257 finished with value: 0.4444444477558136 and parameters: {'n_layers': 2, 'n_units': 250, 'dropout': 0.4, 'optimizer': 'RMSprop'}. Best is trial 0 with value: 0.4444444477558136.\u001b[0m\n"
     ]
    },
    {
     "name": "stdout",
     "output_type": "stream",
     "text": [
      "1/1 [==============================] - 0s 31ms/step - loss: 0.0000e+00 - accuracy: 0.4444\n"
     ]
    },
    {
     "name": "stderr",
     "output_type": "stream",
     "text": [
      "\u001b[32m[I 2022-05-24 00:33:05,478]\u001b[0m Trial 258 finished with value: 0.4444444477558136 and parameters: {'n_layers': 2, 'n_units': 250, 'dropout': 0.4, 'optimizer': 'RMSprop'}. Best is trial 0 with value: 0.4444444477558136.\u001b[0m\n"
     ]
    },
    {
     "name": "stdout",
     "output_type": "stream",
     "text": [
      "1/1 [==============================] - 0s 16ms/step - loss: 0.0000e+00 - accuracy: 0.4444\n"
     ]
    },
    {
     "name": "stderr",
     "output_type": "stream",
     "text": [
      "\u001b[32m[I 2022-05-24 00:33:06,989]\u001b[0m Trial 259 finished with value: 0.4444444477558136 and parameters: {'n_layers': 2, 'n_units': 250, 'dropout': 0.4, 'optimizer': 'RMSprop'}. Best is trial 0 with value: 0.4444444477558136.\u001b[0m\n"
     ]
    },
    {
     "name": "stdout",
     "output_type": "stream",
     "text": [
      "1/1 [==============================] - 0s 16ms/step - loss: 0.0000e+00 - accuracy: 0.4444\n"
     ]
    },
    {
     "name": "stderr",
     "output_type": "stream",
     "text": [
      "\u001b[32m[I 2022-05-24 00:33:08,063]\u001b[0m Trial 260 finished with value: 0.4444444477558136 and parameters: {'n_layers': 2, 'n_units': 100, 'dropout': 0.4, 'optimizer': 'RMSprop'}. Best is trial 0 with value: 0.4444444477558136.\u001b[0m\n"
     ]
    },
    {
     "name": "stdout",
     "output_type": "stream",
     "text": [
      "1/1 [==============================] - 0s 16ms/step - loss: 0.0000e+00 - accuracy: 0.4444\n"
     ]
    },
    {
     "name": "stderr",
     "output_type": "stream",
     "text": [
      "\u001b[32m[I 2022-05-24 00:33:09,519]\u001b[0m Trial 261 finished with value: 0.4444444477558136 and parameters: {'n_layers': 2, 'n_units': 100, 'dropout': 0.4, 'optimizer': 'RMSprop'}. Best is trial 0 with value: 0.4444444477558136.\u001b[0m\n"
     ]
    },
    {
     "name": "stdout",
     "output_type": "stream",
     "text": [
      "1/1 [==============================] - 0s 16ms/step - loss: 0.0000e+00 - accuracy: 0.4444\n"
     ]
    },
    {
     "name": "stderr",
     "output_type": "stream",
     "text": [
      "\u001b[32m[I 2022-05-24 00:33:10,959]\u001b[0m Trial 262 finished with value: 0.4444444477558136 and parameters: {'n_layers': 2, 'n_units': 250, 'dropout': 0.4, 'optimizer': 'RMSprop'}. Best is trial 0 with value: 0.4444444477558136.\u001b[0m\n"
     ]
    },
    {
     "name": "stdout",
     "output_type": "stream",
     "text": [
      "1/1 [==============================] - 0s 31ms/step - loss: 0.0000e+00 - accuracy: 0.4444\n"
     ]
    },
    {
     "name": "stderr",
     "output_type": "stream",
     "text": [
      "\u001b[32m[I 2022-05-24 00:33:12,064]\u001b[0m Trial 263 finished with value: 0.4444444477558136 and parameters: {'n_layers': 2, 'n_units': 100, 'dropout': 0.4, 'optimizer': 'RMSprop'}. Best is trial 0 with value: 0.4444444477558136.\u001b[0m\n"
     ]
    },
    {
     "name": "stdout",
     "output_type": "stream",
     "text": [
      "1/1 [==============================] - 0s 16ms/step - loss: 0.0000e+00 - accuracy: 0.4444\n"
     ]
    },
    {
     "name": "stderr",
     "output_type": "stream",
     "text": [
      "\u001b[32m[I 2022-05-24 00:33:13,171]\u001b[0m Trial 264 finished with value: 0.4444444477558136 and parameters: {'n_layers': 2, 'n_units': 100, 'dropout': 0.4, 'optimizer': 'RMSprop'}. Best is trial 0 with value: 0.4444444477558136.\u001b[0m\n"
     ]
    },
    {
     "name": "stdout",
     "output_type": "stream",
     "text": [
      "1/1 [==============================] - 0s 16ms/step - loss: 0.0000e+00 - accuracy: 0.4444\n"
     ]
    },
    {
     "name": "stderr",
     "output_type": "stream",
     "text": [
      "\u001b[32m[I 2022-05-24 00:33:14,300]\u001b[0m Trial 265 finished with value: 0.4444444477558136 and parameters: {'n_layers': 2, 'n_units': 100, 'dropout': 0.4, 'optimizer': 'RMSprop'}. Best is trial 0 with value: 0.4444444477558136.\u001b[0m\n"
     ]
    },
    {
     "name": "stdout",
     "output_type": "stream",
     "text": [
      "1/1 [==============================] - 0s 31ms/step - loss: 0.0000e+00 - accuracy: 0.4444\n"
     ]
    },
    {
     "name": "stderr",
     "output_type": "stream",
     "text": [
      "\u001b[32m[I 2022-05-24 00:33:15,806]\u001b[0m Trial 266 finished with value: 0.4444444477558136 and parameters: {'n_layers': 2, 'n_units': 100, 'dropout': 0.4, 'optimizer': 'RMSprop'}. Best is trial 0 with value: 0.4444444477558136.\u001b[0m\n"
     ]
    },
    {
     "name": "stdout",
     "output_type": "stream",
     "text": [
      "1/1 [==============================] - 0s 31ms/step - loss: 0.0000e+00 - accuracy: 0.4444\n"
     ]
    },
    {
     "name": "stderr",
     "output_type": "stream",
     "text": [
      "\u001b[32m[I 2022-05-24 00:33:17,072]\u001b[0m Trial 267 finished with value: 0.4444444477558136 and parameters: {'n_layers': 2, 'n_units': 100, 'dropout': 0.4, 'optimizer': 'RMSprop'}. Best is trial 0 with value: 0.4444444477558136.\u001b[0m\n"
     ]
    },
    {
     "name": "stdout",
     "output_type": "stream",
     "text": [
      "1/1 [==============================] - 0s 34ms/step - loss: 0.0000e+00 - accuracy: 0.4444\n"
     ]
    },
    {
     "name": "stderr",
     "output_type": "stream",
     "text": [
      "\u001b[32m[I 2022-05-24 00:33:18,245]\u001b[0m Trial 268 finished with value: 0.4444444477558136 and parameters: {'n_layers': 2, 'n_units': 100, 'dropout': 0.4, 'optimizer': 'RMSprop'}. Best is trial 0 with value: 0.4444444477558136.\u001b[0m\n"
     ]
    },
    {
     "name": "stdout",
     "output_type": "stream",
     "text": [
      "1/1 [==============================] - 0s 16ms/step - loss: 0.0000e+00 - accuracy: 0.4444\n"
     ]
    },
    {
     "name": "stderr",
     "output_type": "stream",
     "text": [
      "\u001b[32m[I 2022-05-24 00:33:19,245]\u001b[0m Trial 269 finished with value: 0.4444444477558136 and parameters: {'n_layers': 2, 'n_units': 100, 'dropout': 0.4, 'optimizer': 'RMSprop'}. Best is trial 0 with value: 0.4444444477558136.\u001b[0m\n"
     ]
    },
    {
     "name": "stdout",
     "output_type": "stream",
     "text": [
      "1/1 [==============================] - 0s 16ms/step - loss: 0.0000e+00 - accuracy: 0.4444\n"
     ]
    },
    {
     "name": "stderr",
     "output_type": "stream",
     "text": [
      "\u001b[32m[I 2022-05-24 00:33:20,516]\u001b[0m Trial 270 finished with value: 0.4444444477558136 and parameters: {'n_layers': 2, 'n_units': 100, 'dropout': 0.4, 'optimizer': 'RMSprop'}. Best is trial 0 with value: 0.4444444477558136.\u001b[0m\n"
     ]
    },
    {
     "name": "stdout",
     "output_type": "stream",
     "text": [
      "1/1 [==============================] - 0s 16ms/step - loss: 0.0000e+00 - accuracy: 0.4444\n"
     ]
    },
    {
     "name": "stderr",
     "output_type": "stream",
     "text": [
      "\u001b[32m[I 2022-05-24 00:33:21,781]\u001b[0m Trial 271 finished with value: 0.4444444477558136 and parameters: {'n_layers': 2, 'n_units': 100, 'dropout': 0.4, 'optimizer': 'RMSprop'}. Best is trial 0 with value: 0.4444444477558136.\u001b[0m\n"
     ]
    },
    {
     "name": "stdout",
     "output_type": "stream",
     "text": [
      "1/1 [==============================] - 0s 6ms/step - loss: 0.0000e+00 - accuracy: 0.4444\n"
     ]
    },
    {
     "name": "stderr",
     "output_type": "stream",
     "text": [
      "\u001b[32m[I 2022-05-24 00:33:23,073]\u001b[0m Trial 272 finished with value: 0.4444444477558136 and parameters: {'n_layers': 2, 'n_units': 100, 'dropout': 0.4, 'optimizer': 'RMSprop'}. Best is trial 0 with value: 0.4444444477558136.\u001b[0m\n"
     ]
    },
    {
     "name": "stdout",
     "output_type": "stream",
     "text": [
      "1/1 [==============================] - 0s 16ms/step - loss: 0.0000e+00 - accuracy: 0.4444\n"
     ]
    },
    {
     "name": "stderr",
     "output_type": "stream",
     "text": [
      "\u001b[32m[I 2022-05-24 00:33:24,185]\u001b[0m Trial 273 finished with value: 0.4444444477558136 and parameters: {'n_layers': 2, 'n_units': 100, 'dropout': 0.4, 'optimizer': 'RMSprop'}. Best is trial 0 with value: 0.4444444477558136.\u001b[0m\n"
     ]
    },
    {
     "name": "stdout",
     "output_type": "stream",
     "text": [
      "1/1 [==============================] - 0s 16ms/step - loss: 0.0000e+00 - accuracy: 0.4444\n"
     ]
    },
    {
     "name": "stderr",
     "output_type": "stream",
     "text": [
      "\u001b[32m[I 2022-05-24 00:33:25,753]\u001b[0m Trial 274 finished with value: 0.4444444477558136 and parameters: {'n_layers': 2, 'n_units': 100, 'dropout': 0.4, 'optimizer': 'RMSprop'}. Best is trial 0 with value: 0.4444444477558136.\u001b[0m\n"
     ]
    },
    {
     "name": "stdout",
     "output_type": "stream",
     "text": [
      "1/1 [==============================] - 0s 16ms/step - loss: 0.0000e+00 - accuracy: 0.4444\n"
     ]
    },
    {
     "name": "stderr",
     "output_type": "stream",
     "text": [
      "\u001b[32m[I 2022-05-24 00:33:27,054]\u001b[0m Trial 275 finished with value: 0.4444444477558136 and parameters: {'n_layers': 2, 'n_units': 100, 'dropout': 0.4, 'optimizer': 'RMSprop'}. Best is trial 0 with value: 0.4444444477558136.\u001b[0m\n"
     ]
    },
    {
     "name": "stdout",
     "output_type": "stream",
     "text": [
      "1/1 [==============================] - 0s 17ms/step - loss: 0.0000e+00 - accuracy: 0.4444\n"
     ]
    },
    {
     "name": "stderr",
     "output_type": "stream",
     "text": [
      "\u001b[32m[I 2022-05-24 00:33:28,889]\u001b[0m Trial 276 finished with value: 0.4444444477558136 and parameters: {'n_layers': 5, 'n_units': 100, 'dropout': 0.4, 'optimizer': 'RMSprop'}. Best is trial 0 with value: 0.4444444477558136.\u001b[0m\n"
     ]
    },
    {
     "name": "stdout",
     "output_type": "stream",
     "text": [
      "1/1 [==============================] - 0s 23ms/step - loss: 0.0000e+00 - accuracy: 0.4444\n"
     ]
    },
    {
     "name": "stderr",
     "output_type": "stream",
     "text": [
      "\u001b[32m[I 2022-05-24 00:33:30,490]\u001b[0m Trial 277 finished with value: 0.4444444477558136 and parameters: {'n_layers': 5, 'n_units': 100, 'dropout': 0.4, 'optimizer': 'RMSprop'}. Best is trial 0 with value: 0.4444444477558136.\u001b[0m\n"
     ]
    },
    {
     "name": "stdout",
     "output_type": "stream",
     "text": [
      "1/1 [==============================] - 0s 31ms/step - loss: 0.0000e+00 - accuracy: 0.4444\n"
     ]
    },
    {
     "name": "stderr",
     "output_type": "stream",
     "text": [
      "\u001b[32m[I 2022-05-24 00:33:32,513]\u001b[0m Trial 278 finished with value: 0.4444444477558136 and parameters: {'n_layers': 5, 'n_units': 100, 'dropout': 0.4, 'optimizer': 'RMSprop'}. Best is trial 0 with value: 0.4444444477558136.\u001b[0m\n"
     ]
    },
    {
     "name": "stdout",
     "output_type": "stream",
     "text": [
      "1/1 [==============================] - 0s 16ms/step - loss: 0.0000e+00 - accuracy: 0.4444\n"
     ]
    },
    {
     "name": "stderr",
     "output_type": "stream",
     "text": [
      "\u001b[32m[I 2022-05-24 00:33:34,647]\u001b[0m Trial 279 finished with value: 0.4444444477558136 and parameters: {'n_layers': 5, 'n_units': 100, 'dropout': 0.4, 'optimizer': 'RMSprop'}. Best is trial 0 with value: 0.4444444477558136.\u001b[0m\n"
     ]
    },
    {
     "name": "stdout",
     "output_type": "stream",
     "text": [
      "1/1 [==============================] - 0s 16ms/step - loss: 0.0000e+00 - accuracy: 0.4444\n"
     ]
    },
    {
     "name": "stderr",
     "output_type": "stream",
     "text": [
      "\u001b[32m[I 2022-05-24 00:33:36,099]\u001b[0m Trial 280 finished with value: 0.4444444477558136 and parameters: {'n_layers': 5, 'n_units': 100, 'dropout': 0.5, 'optimizer': 'RMSprop'}. Best is trial 0 with value: 0.4444444477558136.\u001b[0m\n"
     ]
    },
    {
     "name": "stdout",
     "output_type": "stream",
     "text": [
      "1/1 [==============================] - 0s 16ms/step - loss: 0.0000e+00 - accuracy: 0.4444\n"
     ]
    },
    {
     "name": "stderr",
     "output_type": "stream",
     "text": [
      "\u001b[32m[I 2022-05-24 00:33:37,946]\u001b[0m Trial 281 finished with value: 0.4444444477558136 and parameters: {'n_layers': 5, 'n_units': 100, 'dropout': 0.5, 'optimizer': 'RMSprop'}. Best is trial 0 with value: 0.4444444477558136.\u001b[0m\n"
     ]
    },
    {
     "name": "stdout",
     "output_type": "stream",
     "text": [
      "1/1 [==============================] - 0s 16ms/step - loss: 0.0000e+00 - accuracy: 0.4444\n"
     ]
    },
    {
     "name": "stderr",
     "output_type": "stream",
     "text": [
      "\u001b[32m[I 2022-05-24 00:33:39,962]\u001b[0m Trial 282 finished with value: 0.4444444477558136 and parameters: {'n_layers': 5, 'n_units': 100, 'dropout': 0.5, 'optimizer': 'RMSprop'}. Best is trial 0 with value: 0.4444444477558136.\u001b[0m\n"
     ]
    },
    {
     "name": "stdout",
     "output_type": "stream",
     "text": [
      "1/1 [==============================] - 0s 16ms/step - loss: 0.0000e+00 - accuracy: 0.4444\n"
     ]
    },
    {
     "name": "stderr",
     "output_type": "stream",
     "text": [
      "\u001b[32m[I 2022-05-24 00:33:41,502]\u001b[0m Trial 283 finished with value: 0.4444444477558136 and parameters: {'n_layers': 5, 'n_units': 100, 'dropout': 0.5, 'optimizer': 'RMSprop'}. Best is trial 0 with value: 0.4444444477558136.\u001b[0m\n"
     ]
    },
    {
     "name": "stdout",
     "output_type": "stream",
     "text": [
      "1/1 [==============================] - 0s 31ms/step - loss: 0.0000e+00 - accuracy: 0.4444\n"
     ]
    },
    {
     "name": "stderr",
     "output_type": "stream",
     "text": [
      "\u001b[32m[I 2022-05-24 00:33:43,116]\u001b[0m Trial 284 finished with value: 0.4444444477558136 and parameters: {'n_layers': 5, 'n_units': 100, 'dropout': 0.5, 'optimizer': 'SGD'}. Best is trial 0 with value: 0.4444444477558136.\u001b[0m\n"
     ]
    },
    {
     "name": "stdout",
     "output_type": "stream",
     "text": [
      "1/1 [==============================] - 0s 33ms/step - loss: 0.0000e+00 - accuracy: 0.4444\n"
     ]
    },
    {
     "name": "stderr",
     "output_type": "stream",
     "text": [
      "\u001b[32m[I 2022-05-24 00:33:45,272]\u001b[0m Trial 285 finished with value: 0.4444444477558136 and parameters: {'n_layers': 5, 'n_units': 100, 'dropout': 0.5, 'optimizer': 'RMSprop'}. Best is trial 0 with value: 0.4444444477558136.\u001b[0m\n"
     ]
    },
    {
     "name": "stdout",
     "output_type": "stream",
     "text": [
      "1/1 [==============================] - 0s 37ms/step - loss: 0.0000e+00 - accuracy: 0.4444\n"
     ]
    },
    {
     "name": "stderr",
     "output_type": "stream",
     "text": [
      "\u001b[32m[I 2022-05-24 00:33:46,875]\u001b[0m Trial 286 finished with value: 0.4444444477558136 and parameters: {'n_layers': 5, 'n_units': 100, 'dropout': 0.5, 'optimizer': 'SGD'}. Best is trial 0 with value: 0.4444444477558136.\u001b[0m\n"
     ]
    },
    {
     "name": "stdout",
     "output_type": "stream",
     "text": [
      "1/1 [==============================] - 0s 25ms/step - loss: 0.0000e+00 - accuracy: 0.4444\n"
     ]
    },
    {
     "name": "stderr",
     "output_type": "stream",
     "text": [
      "\u001b[32m[I 2022-05-24 00:33:48,198]\u001b[0m Trial 287 finished with value: 0.4444444477558136 and parameters: {'n_layers': 5, 'n_units': 100, 'dropout': 0.5, 'optimizer': 'SGD'}. Best is trial 0 with value: 0.4444444477558136.\u001b[0m\n"
     ]
    },
    {
     "name": "stdout",
     "output_type": "stream",
     "text": [
      "1/1 [==============================] - 0s 47ms/step - loss: 0.0000e+00 - accuracy: 0.4444\n"
     ]
    },
    {
     "name": "stderr",
     "output_type": "stream",
     "text": [
      "\u001b[32m[I 2022-05-24 00:33:49,690]\u001b[0m Trial 288 finished with value: 0.4444444477558136 and parameters: {'n_layers': 5, 'n_units': 100, 'dropout': 0.5, 'optimizer': 'SGD'}. Best is trial 0 with value: 0.4444444477558136.\u001b[0m\n"
     ]
    },
    {
     "name": "stdout",
     "output_type": "stream",
     "text": [
      "1/1 [==============================] - 0s 16ms/step - loss: 0.0000e+00 - accuracy: 0.4444\n"
     ]
    },
    {
     "name": "stderr",
     "output_type": "stream",
     "text": [
      "\u001b[32m[I 2022-05-24 00:33:51,259]\u001b[0m Trial 289 finished with value: 0.4444444477558136 and parameters: {'n_layers': 5, 'n_units': 100, 'dropout': 0.5, 'optimizer': 'SGD'}. Best is trial 0 with value: 0.4444444477558136.\u001b[0m\n"
     ]
    },
    {
     "name": "stdout",
     "output_type": "stream",
     "text": [
      "1/1 [==============================] - 0s 16ms/step - loss: 0.0000e+00 - accuracy: 0.4444\n"
     ]
    },
    {
     "name": "stderr",
     "output_type": "stream",
     "text": [
      "\u001b[32m[I 2022-05-24 00:33:52,483]\u001b[0m Trial 290 finished with value: 0.4444444477558136 and parameters: {'n_layers': 5, 'n_units': 100, 'dropout': 0.5, 'optimizer': 'SGD'}. Best is trial 0 with value: 0.4444444477558136.\u001b[0m\n"
     ]
    },
    {
     "name": "stdout",
     "output_type": "stream",
     "text": [
      "1/1 [==============================] - 0s 16ms/step - loss: 0.0000e+00 - accuracy: 0.4444\n"
     ]
    },
    {
     "name": "stderr",
     "output_type": "stream",
     "text": [
      "\u001b[32m[I 2022-05-24 00:33:53,849]\u001b[0m Trial 291 finished with value: 0.4444444477558136 and parameters: {'n_layers': 5, 'n_units': 150, 'dropout': 0.1, 'optimizer': 'SGD'}. Best is trial 0 with value: 0.4444444477558136.\u001b[0m\n"
     ]
    },
    {
     "name": "stdout",
     "output_type": "stream",
     "text": [
      "1/1 [==============================] - 0s 26ms/step - loss: 0.0000e+00 - accuracy: 0.4444\n"
     ]
    },
    {
     "name": "stderr",
     "output_type": "stream",
     "text": [
      "\u001b[32m[I 2022-05-24 00:33:55,390]\u001b[0m Trial 292 finished with value: 0.4444444477558136 and parameters: {'n_layers': 5, 'n_units': 150, 'dropout': 0.1, 'optimizer': 'SGD'}. Best is trial 0 with value: 0.4444444477558136.\u001b[0m\n"
     ]
    },
    {
     "name": "stdout",
     "output_type": "stream",
     "text": [
      "1/1 [==============================] - 0s 16ms/step - loss: 0.0000e+00 - accuracy: 0.4444\n"
     ]
    },
    {
     "name": "stderr",
     "output_type": "stream",
     "text": [
      "\u001b[32m[I 2022-05-24 00:33:56,794]\u001b[0m Trial 293 finished with value: 0.4444444477558136 and parameters: {'n_layers': 5, 'n_units': 150, 'dropout': 0.5, 'optimizer': 'SGD'}. Best is trial 0 with value: 0.4444444477558136.\u001b[0m\n"
     ]
    },
    {
     "name": "stdout",
     "output_type": "stream",
     "text": [
      "1/1 [==============================] - 0s 16ms/step - loss: 0.0000e+00 - accuracy: 0.4444\n"
     ]
    },
    {
     "name": "stderr",
     "output_type": "stream",
     "text": [
      "\u001b[32m[I 2022-05-24 00:33:58,087]\u001b[0m Trial 294 finished with value: 0.4444444477558136 and parameters: {'n_layers': 5, 'n_units': 150, 'dropout': 0.5, 'optimizer': 'SGD'}. Best is trial 0 with value: 0.4444444477558136.\u001b[0m\n"
     ]
    },
    {
     "name": "stdout",
     "output_type": "stream",
     "text": [
      "1/1 [==============================] - 0s 16ms/step - loss: 0.0000e+00 - accuracy: 0.4444\n"
     ]
    },
    {
     "name": "stderr",
     "output_type": "stream",
     "text": [
      "\u001b[32m[I 2022-05-24 00:33:59,337]\u001b[0m Trial 295 finished with value: 0.4444444477558136 and parameters: {'n_layers': 5, 'n_units': 150, 'dropout': 0.5, 'optimizer': 'SGD'}. Best is trial 0 with value: 0.4444444477558136.\u001b[0m\n"
     ]
    },
    {
     "name": "stdout",
     "output_type": "stream",
     "text": [
      "1/1 [==============================] - 0s 16ms/step - loss: 0.0000e+00 - accuracy: 0.4444\n"
     ]
    },
    {
     "name": "stderr",
     "output_type": "stream",
     "text": [
      "\u001b[32m[I 2022-05-24 00:34:00,782]\u001b[0m Trial 296 finished with value: 0.4444444477558136 and parameters: {'n_layers': 5, 'n_units': 150, 'dropout': 0.5, 'optimizer': 'SGD'}. Best is trial 0 with value: 0.4444444477558136.\u001b[0m\n"
     ]
    },
    {
     "name": "stdout",
     "output_type": "stream",
     "text": [
      "1/1 [==============================] - 0s 16ms/step - loss: 0.0000e+00 - accuracy: 0.4444\n"
     ]
    },
    {
     "name": "stderr",
     "output_type": "stream",
     "text": [
      "\u001b[32m[I 2022-05-24 00:34:02,098]\u001b[0m Trial 297 finished with value: 0.4444444477558136 and parameters: {'n_layers': 5, 'n_units': 150, 'dropout': 0.5, 'optimizer': 'SGD'}. Best is trial 0 with value: 0.4444444477558136.\u001b[0m\n"
     ]
    },
    {
     "name": "stdout",
     "output_type": "stream",
     "text": [
      "1/1 [==============================] - 0s 16ms/step - loss: 0.0000e+00 - accuracy: 0.4444\n"
     ]
    },
    {
     "name": "stderr",
     "output_type": "stream",
     "text": [
      "\u001b[32m[I 2022-05-24 00:34:03,292]\u001b[0m Trial 298 finished with value: 0.4444444477558136 and parameters: {'n_layers': 5, 'n_units': 150, 'dropout': 0.5, 'optimizer': 'SGD'}. Best is trial 0 with value: 0.4444444477558136.\u001b[0m\n"
     ]
    },
    {
     "name": "stdout",
     "output_type": "stream",
     "text": [
      "1/1 [==============================] - 0s 31ms/step - loss: 0.0000e+00 - accuracy: 0.4444\n"
     ]
    },
    {
     "name": "stderr",
     "output_type": "stream",
     "text": [
      "\u001b[32m[I 2022-05-24 00:34:04,811]\u001b[0m Trial 299 finished with value: 0.4444444477558136 and parameters: {'n_layers': 5, 'n_units': 150, 'dropout': 0.5, 'optimizer': 'SGD'}. Best is trial 0 with value: 0.4444444477558136.\u001b[0m\n"
     ]
    },
    {
     "name": "stdout",
     "output_type": "stream",
     "text": [
      "1/1 [==============================] - 0s 31ms/step - loss: 0.0000e+00 - accuracy: 0.4444\n"
     ]
    },
    {
     "name": "stderr",
     "output_type": "stream",
     "text": [
      "\u001b[32m[I 2022-05-24 00:34:06,257]\u001b[0m Trial 300 finished with value: 0.4444444477558136 and parameters: {'n_layers': 5, 'n_units': 150, 'dropout': 0.5, 'optimizer': 'SGD'}. Best is trial 0 with value: 0.4444444477558136.\u001b[0m\n"
     ]
    },
    {
     "name": "stdout",
     "output_type": "stream",
     "text": [
      "1/1 [==============================] - 0s 31ms/step - loss: 0.0000e+00 - accuracy: 0.4444\n"
     ]
    },
    {
     "name": "stderr",
     "output_type": "stream",
     "text": [
      "\u001b[32m[I 2022-05-24 00:34:07,778]\u001b[0m Trial 301 finished with value: 0.4444444477558136 and parameters: {'n_layers': 5, 'n_units': 150, 'dropout': 0.5, 'optimizer': 'SGD'}. Best is trial 0 with value: 0.4444444477558136.\u001b[0m\n"
     ]
    },
    {
     "name": "stdout",
     "output_type": "stream",
     "text": [
      "1/1 [==============================] - 0s 31ms/step - loss: 0.0000e+00 - accuracy: 0.4444\n"
     ]
    },
    {
     "name": "stderr",
     "output_type": "stream",
     "text": [
      "\u001b[32m[I 2022-05-24 00:34:09,314]\u001b[0m Trial 302 finished with value: 0.4444444477558136 and parameters: {'n_layers': 5, 'n_units': 150, 'dropout': 0.5, 'optimizer': 'SGD'}. Best is trial 0 with value: 0.4444444477558136.\u001b[0m\n"
     ]
    },
    {
     "name": "stdout",
     "output_type": "stream",
     "text": [
      "1/1 [==============================] - 0s 16ms/step - loss: 0.0000e+00 - accuracy: 0.4444\n"
     ]
    },
    {
     "name": "stderr",
     "output_type": "stream",
     "text": [
      "\u001b[32m[I 2022-05-24 00:34:10,477]\u001b[0m Trial 303 finished with value: 0.4444444477558136 and parameters: {'n_layers': 5, 'n_units': 150, 'dropout': 0.5, 'optimizer': 'SGD'}. Best is trial 0 with value: 0.4444444477558136.\u001b[0m\n"
     ]
    },
    {
     "name": "stdout",
     "output_type": "stream",
     "text": [
      "1/1 [==============================] - 0s 31ms/step - loss: 0.0000e+00 - accuracy: 0.4444\n"
     ]
    },
    {
     "name": "stderr",
     "output_type": "stream",
     "text": [
      "\u001b[32m[I 2022-05-24 00:34:11,888]\u001b[0m Trial 304 finished with value: 0.4444444477558136 and parameters: {'n_layers': 4, 'n_units': 150, 'dropout': 0.5, 'optimizer': 'SGD'}. Best is trial 0 with value: 0.4444444477558136.\u001b[0m\n"
     ]
    },
    {
     "name": "stdout",
     "output_type": "stream",
     "text": [
      "1/1 [==============================] - 0s 31ms/step - loss: 0.0000e+00 - accuracy: 0.4444\n"
     ]
    },
    {
     "name": "stderr",
     "output_type": "stream",
     "text": [
      "\u001b[32m[I 2022-05-24 00:34:13,205]\u001b[0m Trial 305 finished with value: 0.4444444477558136 and parameters: {'n_layers': 4, 'n_units': 150, 'dropout': 0.5, 'optimizer': 'SGD'}. Best is trial 0 with value: 0.4444444477558136.\u001b[0m\n"
     ]
    },
    {
     "name": "stdout",
     "output_type": "stream",
     "text": [
      "1/1 [==============================] - 0s 16ms/step - loss: 0.0000e+00 - accuracy: 0.4444\n"
     ]
    },
    {
     "name": "stderr",
     "output_type": "stream",
     "text": [
      "\u001b[32m[I 2022-05-24 00:34:14,256]\u001b[0m Trial 306 finished with value: 0.4444444477558136 and parameters: {'n_layers': 4, 'n_units': 150, 'dropout': 0.5, 'optimizer': 'SGD'}. Best is trial 0 with value: 0.4444444477558136.\u001b[0m\n"
     ]
    },
    {
     "name": "stdout",
     "output_type": "stream",
     "text": [
      "1/1 [==============================] - 0s 16ms/step - loss: 0.0000e+00 - accuracy: 0.4444\n"
     ]
    },
    {
     "name": "stderr",
     "output_type": "stream",
     "text": [
      "\u001b[32m[I 2022-05-24 00:34:15,385]\u001b[0m Trial 307 finished with value: 0.4444444477558136 and parameters: {'n_layers': 4, 'n_units': 150, 'dropout': 0.5, 'optimizer': 'SGD'}. Best is trial 0 with value: 0.4444444477558136.\u001b[0m\n"
     ]
    },
    {
     "name": "stdout",
     "output_type": "stream",
     "text": [
      "1/1 [==============================] - 0s 31ms/step - loss: 0.0000e+00 - accuracy: 0.4444\n"
     ]
    },
    {
     "name": "stderr",
     "output_type": "stream",
     "text": [
      "\u001b[32m[I 2022-05-24 00:34:16,892]\u001b[0m Trial 308 finished with value: 0.4444444477558136 and parameters: {'n_layers': 4, 'n_units': 150, 'dropout': 0.5, 'optimizer': 'SGD'}. Best is trial 0 with value: 0.4444444477558136.\u001b[0m\n"
     ]
    },
    {
     "name": "stdout",
     "output_type": "stream",
     "text": [
      "1/1 [==============================] - 0s 31ms/step - loss: 0.0000e+00 - accuracy: 0.4444\n"
     ]
    },
    {
     "name": "stderr",
     "output_type": "stream",
     "text": [
      "\u001b[32m[I 2022-05-24 00:34:18,409]\u001b[0m Trial 309 finished with value: 0.4444444477558136 and parameters: {'n_layers': 4, 'n_units': 150, 'dropout': 0.5, 'optimizer': 'SGD'}. Best is trial 0 with value: 0.4444444477558136.\u001b[0m\n"
     ]
    },
    {
     "name": "stdout",
     "output_type": "stream",
     "text": [
      "1/1 [==============================] - 0s 16ms/step - loss: 0.0000e+00 - accuracy: 0.4444\n"
     ]
    },
    {
     "name": "stderr",
     "output_type": "stream",
     "text": [
      "\u001b[32m[I 2022-05-24 00:34:19,952]\u001b[0m Trial 310 finished with value: 0.4444444477558136 and parameters: {'n_layers': 4, 'n_units': 150, 'dropout': 0.2, 'optimizer': 'SGD'}. Best is trial 0 with value: 0.4444444477558136.\u001b[0m\n"
     ]
    },
    {
     "name": "stdout",
     "output_type": "stream",
     "text": [
      "1/1 [==============================] - 0s 16ms/step - loss: 0.0000e+00 - accuracy: 0.4444\n"
     ]
    },
    {
     "name": "stderr",
     "output_type": "stream",
     "text": [
      "\u001b[32m[I 2022-05-24 00:34:21,146]\u001b[0m Trial 311 finished with value: 0.4444444477558136 and parameters: {'n_layers': 5, 'n_units': 150, 'dropout': 0.1, 'optimizer': 'SGD'}. Best is trial 0 with value: 0.4444444477558136.\u001b[0m\n"
     ]
    },
    {
     "name": "stdout",
     "output_type": "stream",
     "text": [
      "1/1 [==============================] - 0s 31ms/step - loss: 0.0000e+00 - accuracy: 0.4444\n"
     ]
    },
    {
     "name": "stderr",
     "output_type": "stream",
     "text": [
      "\u001b[32m[I 2022-05-24 00:34:22,514]\u001b[0m Trial 312 finished with value: 0.4444444477558136 and parameters: {'n_layers': 4, 'n_units': 200, 'dropout': 0.2, 'optimizer': 'SGD'}. Best is trial 0 with value: 0.4444444477558136.\u001b[0m\n"
     ]
    },
    {
     "name": "stdout",
     "output_type": "stream",
     "text": [
      "1/1 [==============================] - 0s 31ms/step - loss: 0.0000e+00 - accuracy: 0.4444\n"
     ]
    },
    {
     "name": "stderr",
     "output_type": "stream",
     "text": [
      "\u001b[32m[I 2022-05-24 00:34:23,841]\u001b[0m Trial 313 finished with value: 0.4444444477558136 and parameters: {'n_layers': 4, 'n_units': 150, 'dropout': 0.1, 'optimizer': 'SGD'}. Best is trial 0 with value: 0.4444444477558136.\u001b[0m\n"
     ]
    },
    {
     "name": "stdout",
     "output_type": "stream",
     "text": [
      "1/1 [==============================] - 0s 47ms/step - loss: 0.0000e+00 - accuracy: 0.4444\n"
     ]
    },
    {
     "name": "stderr",
     "output_type": "stream",
     "text": [
      "\u001b[32m[I 2022-05-24 00:34:25,112]\u001b[0m Trial 314 finished with value: 0.4444444477558136 and parameters: {'n_layers': 3, 'n_units': 200, 'dropout': 0.2, 'optimizer': 'SGD'}. Best is trial 0 with value: 0.4444444477558136.\u001b[0m\n"
     ]
    },
    {
     "name": "stdout",
     "output_type": "stream",
     "text": [
      "1/1 [==============================] - 0s 16ms/step - loss: 0.0000e+00 - accuracy: 0.4444\n"
     ]
    },
    {
     "name": "stderr",
     "output_type": "stream",
     "text": [
      "\u001b[32m[I 2022-05-24 00:34:26,399]\u001b[0m Trial 315 finished with value: 0.4444444477558136 and parameters: {'n_layers': 3, 'n_units': 200, 'dropout': 0.1, 'optimizer': 'SGD'}. Best is trial 0 with value: 0.4444444477558136.\u001b[0m\n"
     ]
    },
    {
     "name": "stdout",
     "output_type": "stream",
     "text": [
      "1/1 [==============================] - 0s 31ms/step - loss: 0.0000e+00 - accuracy: 0.4444\n"
     ]
    },
    {
     "name": "stderr",
     "output_type": "stream",
     "text": [
      "\u001b[32m[I 2022-05-24 00:34:27,527]\u001b[0m Trial 316 finished with value: 0.4444444477558136 and parameters: {'n_layers': 3, 'n_units': 200, 'dropout': 0.1, 'optimizer': 'SGD'}. Best is trial 0 with value: 0.4444444477558136.\u001b[0m\n"
     ]
    },
    {
     "name": "stdout",
     "output_type": "stream",
     "text": [
      "1/1 [==============================] - 0s 16ms/step - loss: 0.0000e+00 - accuracy: 0.4444\n"
     ]
    },
    {
     "name": "stderr",
     "output_type": "stream",
     "text": [
      "\u001b[32m[I 2022-05-24 00:34:28,798]\u001b[0m Trial 317 finished with value: 0.4444444477558136 and parameters: {'n_layers': 3, 'n_units': 200, 'dropout': 0.1, 'optimizer': 'SGD'}. Best is trial 0 with value: 0.4444444477558136.\u001b[0m\n"
     ]
    },
    {
     "name": "stdout",
     "output_type": "stream",
     "text": [
      "1/1 [==============================] - 0s 16ms/step - loss: 0.0000e+00 - accuracy: 0.4444\n"
     ]
    },
    {
     "name": "stderr",
     "output_type": "stream",
     "text": [
      "\u001b[32m[I 2022-05-24 00:34:29,913]\u001b[0m Trial 318 finished with value: 0.4444444477558136 and parameters: {'n_layers': 3, 'n_units': 200, 'dropout': 0.1, 'optimizer': 'SGD'}. Best is trial 0 with value: 0.4444444477558136.\u001b[0m\n"
     ]
    },
    {
     "name": "stdout",
     "output_type": "stream",
     "text": [
      "1/1 [==============================] - 0s 17ms/step - loss: 0.0000e+00 - accuracy: 0.4444\n"
     ]
    },
    {
     "name": "stderr",
     "output_type": "stream",
     "text": [
      "\u001b[32m[I 2022-05-24 00:34:31,446]\u001b[0m Trial 319 finished with value: 0.4444444477558136 and parameters: {'n_layers': 3, 'n_units': 200, 'dropout': 0.1, 'optimizer': 'SGD'}. Best is trial 0 with value: 0.4444444477558136.\u001b[0m\n"
     ]
    },
    {
     "name": "stdout",
     "output_type": "stream",
     "text": [
      "1/1 [==============================] - 0s 16ms/step - loss: 0.0000e+00 - accuracy: 0.4444\n"
     ]
    },
    {
     "name": "stderr",
     "output_type": "stream",
     "text": [
      "\u001b[32m[I 2022-05-24 00:34:32,771]\u001b[0m Trial 320 finished with value: 0.4444444477558136 and parameters: {'n_layers': 4, 'n_units': 200, 'dropout': 0.1, 'optimizer': 'SGD'}. Best is trial 0 with value: 0.4444444477558136.\u001b[0m\n"
     ]
    },
    {
     "name": "stdout",
     "output_type": "stream",
     "text": [
      "1/1 [==============================] - 0s 16ms/step - loss: 0.0000e+00 - accuracy: 0.4444\n"
     ]
    },
    {
     "name": "stderr",
     "output_type": "stream",
     "text": [
      "\u001b[32m[I 2022-05-24 00:34:34,166]\u001b[0m Trial 321 finished with value: 0.4444444477558136 and parameters: {'n_layers': 4, 'n_units': 200, 'dropout': 0.1, 'optimizer': 'SGD'}. Best is trial 0 with value: 0.4444444477558136.\u001b[0m\n"
     ]
    },
    {
     "name": "stdout",
     "output_type": "stream",
     "text": [
      "1/1 [==============================] - 0s 31ms/step - loss: 0.0000e+00 - accuracy: 0.4444\n"
     ]
    },
    {
     "name": "stderr",
     "output_type": "stream",
     "text": [
      "\u001b[32m[I 2022-05-24 00:34:35,356]\u001b[0m Trial 322 finished with value: 0.4444444477558136 and parameters: {'n_layers': 3, 'n_units': 200, 'dropout': 0.1, 'optimizer': 'SGD'}. Best is trial 0 with value: 0.4444444477558136.\u001b[0m\n"
     ]
    },
    {
     "name": "stdout",
     "output_type": "stream",
     "text": [
      "1/1 [==============================] - 0s 16ms/step - loss: 0.0000e+00 - accuracy: 0.4444\n"
     ]
    },
    {
     "name": "stderr",
     "output_type": "stream",
     "text": [
      "\u001b[32m[I 2022-05-24 00:34:36,574]\u001b[0m Trial 323 finished with value: 0.4444444477558136 and parameters: {'n_layers': 4, 'n_units': 200, 'dropout': 0.0, 'optimizer': 'SGD'}. Best is trial 0 with value: 0.4444444477558136.\u001b[0m\n"
     ]
    },
    {
     "name": "stdout",
     "output_type": "stream",
     "text": [
      "1/1 [==============================] - 0s 31ms/step - loss: 0.0000e+00 - accuracy: 0.4444\n"
     ]
    },
    {
     "name": "stderr",
     "output_type": "stream",
     "text": [
      "\u001b[32m[I 2022-05-24 00:34:37,739]\u001b[0m Trial 324 finished with value: 0.4444444477558136 and parameters: {'n_layers': 4, 'n_units': 200, 'dropout': 0.0, 'optimizer': 'SGD'}. Best is trial 0 with value: 0.4444444477558136.\u001b[0m\n"
     ]
    },
    {
     "name": "stdout",
     "output_type": "stream",
     "text": [
      "1/1 [==============================] - 0s 16ms/step - loss: 0.0000e+00 - accuracy: 0.4444\n"
     ]
    },
    {
     "name": "stderr",
     "output_type": "stream",
     "text": [
      "\u001b[32m[I 2022-05-24 00:34:39,021]\u001b[0m Trial 325 finished with value: 0.4444444477558136 and parameters: {'n_layers': 4, 'n_units': 200, 'dropout': 0.1, 'optimizer': 'SGD'}. Best is trial 0 with value: 0.4444444477558136.\u001b[0m\n"
     ]
    },
    {
     "name": "stdout",
     "output_type": "stream",
     "text": [
      "1/1 [==============================] - 0s 33ms/step - loss: 0.0000e+00 - accuracy: 0.4444\n"
     ]
    },
    {
     "name": "stderr",
     "output_type": "stream",
     "text": [
      "\u001b[32m[I 2022-05-24 00:34:40,398]\u001b[0m Trial 326 finished with value: 0.4444444477558136 and parameters: {'n_layers': 4, 'n_units': 200, 'dropout': 0.0, 'optimizer': 'SGD'}. Best is trial 0 with value: 0.4444444477558136.\u001b[0m\n"
     ]
    },
    {
     "name": "stdout",
     "output_type": "stream",
     "text": [
      "1/1 [==============================] - 0s 39ms/step - loss: 0.0000e+00 - accuracy: 0.4444\n"
     ]
    },
    {
     "name": "stderr",
     "output_type": "stream",
     "text": [
      "\u001b[32m[I 2022-05-24 00:34:41,469]\u001b[0m Trial 327 finished with value: 0.4444444477558136 and parameters: {'n_layers': 4, 'n_units': 200, 'dropout': 0.0, 'optimizer': 'Adam'}. Best is trial 0 with value: 0.4444444477558136.\u001b[0m\n"
     ]
    },
    {
     "name": "stdout",
     "output_type": "stream",
     "text": [
      "1/1 [==============================] - 0s 16ms/step - loss: 0.0000e+00 - accuracy: 0.4444\n"
     ]
    },
    {
     "name": "stderr",
     "output_type": "stream",
     "text": [
      "\u001b[32m[I 2022-05-24 00:34:42,636]\u001b[0m Trial 328 finished with value: 0.4444444477558136 and parameters: {'n_layers': 4, 'n_units': 200, 'dropout': 0.2, 'optimizer': 'Adam'}. Best is trial 0 with value: 0.4444444477558136.\u001b[0m\n"
     ]
    },
    {
     "name": "stdout",
     "output_type": "stream",
     "text": [
      "1/1 [==============================] - 0s 31ms/step - loss: 0.0000e+00 - accuracy: 0.4444\n"
     ]
    },
    {
     "name": "stderr",
     "output_type": "stream",
     "text": [
      "\u001b[32m[I 2022-05-24 00:34:44,076]\u001b[0m Trial 329 finished with value: 0.4444444477558136 and parameters: {'n_layers': 4, 'n_units': 200, 'dropout': 0.2, 'optimizer': 'Adam'}. Best is trial 0 with value: 0.4444444477558136.\u001b[0m\n"
     ]
    },
    {
     "name": "stdout",
     "output_type": "stream",
     "text": [
      "1/1 [==============================] - 0s 16ms/step - loss: 0.0000e+00 - accuracy: 0.4444\n"
     ]
    },
    {
     "name": "stderr",
     "output_type": "stream",
     "text": [
      "\u001b[32m[I 2022-05-24 00:34:45,644]\u001b[0m Trial 330 finished with value: 0.4444444477558136 and parameters: {'n_layers': 4, 'n_units': 200, 'dropout': 0.0, 'optimizer': 'Adam'}. Best is trial 0 with value: 0.4444444477558136.\u001b[0m\n"
     ]
    },
    {
     "name": "stdout",
     "output_type": "stream",
     "text": [
      "1/1 [==============================] - 0s 31ms/step - loss: 0.0000e+00 - accuracy: 0.4444\n"
     ]
    },
    {
     "name": "stderr",
     "output_type": "stream",
     "text": [
      "\u001b[32m[I 2022-05-24 00:34:46,839]\u001b[0m Trial 331 finished with value: 0.4444444477558136 and parameters: {'n_layers': 4, 'n_units': 200, 'dropout': 0.2, 'optimizer': 'Adam'}. Best is trial 0 with value: 0.4444444477558136.\u001b[0m\n"
     ]
    },
    {
     "name": "stdout",
     "output_type": "stream",
     "text": [
      "1/1 [==============================] - 0s 31ms/step - loss: 0.0000e+00 - accuracy: 0.4444\n"
     ]
    },
    {
     "name": "stderr",
     "output_type": "stream",
     "text": [
      "\u001b[32m[I 2022-05-24 00:34:47,891]\u001b[0m Trial 332 finished with value: 0.4444444477558136 and parameters: {'n_layers': 3, 'n_units': 200, 'dropout': 0.2, 'optimizer': 'Adam'}. Best is trial 0 with value: 0.4444444477558136.\u001b[0m\n"
     ]
    },
    {
     "name": "stdout",
     "output_type": "stream",
     "text": [
      "1/1 [==============================] - 0s 31ms/step - loss: 0.0000e+00 - accuracy: 0.4444\n"
     ]
    },
    {
     "name": "stderr",
     "output_type": "stream",
     "text": [
      "\u001b[32m[I 2022-05-24 00:34:49,214]\u001b[0m Trial 333 finished with value: 0.4444444477558136 and parameters: {'n_layers': 4, 'n_units': 200, 'dropout': 0.2, 'optimizer': 'Adam'}. Best is trial 0 with value: 0.4444444477558136.\u001b[0m\n"
     ]
    },
    {
     "name": "stdout",
     "output_type": "stream",
     "text": [
      "1/1 [==============================] - 0s 35ms/step - loss: 0.0000e+00 - accuracy: 0.4444\n"
     ]
    },
    {
     "name": "stderr",
     "output_type": "stream",
     "text": [
      "\u001b[32m[I 2022-05-24 00:34:50,526]\u001b[0m Trial 334 finished with value: 0.4444444477558136 and parameters: {'n_layers': 3, 'n_units': 200, 'dropout': 0.2, 'optimizer': 'Adam'}. Best is trial 0 with value: 0.4444444477558136.\u001b[0m\n"
     ]
    },
    {
     "name": "stdout",
     "output_type": "stream",
     "text": [
      "1/1 [==============================] - 0s 16ms/step - loss: 0.0000e+00 - accuracy: 0.4444\n"
     ]
    },
    {
     "name": "stderr",
     "output_type": "stream",
     "text": [
      "\u001b[32m[I 2022-05-24 00:34:51,886]\u001b[0m Trial 335 finished with value: 0.4444444477558136 and parameters: {'n_layers': 3, 'n_units': 200, 'dropout': 0.2, 'optimizer': 'Adam'}. Best is trial 0 with value: 0.4444444477558136.\u001b[0m\n"
     ]
    },
    {
     "name": "stdout",
     "output_type": "stream",
     "text": [
      "1/1 [==============================] - 0s 16ms/step - loss: 0.0000e+00 - accuracy: 0.4444\n"
     ]
    },
    {
     "name": "stderr",
     "output_type": "stream",
     "text": [
      "\u001b[32m[I 2022-05-24 00:34:53,270]\u001b[0m Trial 336 finished with value: 0.4444444477558136 and parameters: {'n_layers': 3, 'n_units': 200, 'dropout': 0.0, 'optimizer': 'Adam'}. Best is trial 0 with value: 0.4444444477558136.\u001b[0m\n"
     ]
    },
    {
     "name": "stdout",
     "output_type": "stream",
     "text": [
      "1/1 [==============================] - 0s 16ms/step - loss: 0.0000e+00 - accuracy: 0.4444\n"
     ]
    },
    {
     "name": "stderr",
     "output_type": "stream",
     "text": [
      "\u001b[32m[I 2022-05-24 00:34:54,338]\u001b[0m Trial 337 finished with value: 0.4444444477558136 and parameters: {'n_layers': 3, 'n_units': 200, 'dropout': 0.0, 'optimizer': 'Adam'}. Best is trial 0 with value: 0.4444444477558136.\u001b[0m\n"
     ]
    },
    {
     "name": "stdout",
     "output_type": "stream",
     "text": [
      "1/1 [==============================] - 0s 31ms/step - loss: 0.0000e+00 - accuracy: 0.4444\n"
     ]
    },
    {
     "name": "stderr",
     "output_type": "stream",
     "text": [
      "\u001b[32m[I 2022-05-24 00:34:55,550]\u001b[0m Trial 338 finished with value: 0.4444444477558136 and parameters: {'n_layers': 3, 'n_units': 200, 'dropout': 0.0, 'optimizer': 'Adam'}. Best is trial 0 with value: 0.4444444477558136.\u001b[0m\n"
     ]
    },
    {
     "name": "stdout",
     "output_type": "stream",
     "text": [
      "1/1 [==============================] - 0s 16ms/step - loss: 0.0000e+00 - accuracy: 0.4444\n"
     ]
    },
    {
     "name": "stderr",
     "output_type": "stream",
     "text": [
      "\u001b[32m[I 2022-05-24 00:34:57,049]\u001b[0m Trial 339 finished with value: 0.4444444477558136 and parameters: {'n_layers': 3, 'n_units': 200, 'dropout': 0.0, 'optimizer': 'Adam'}. Best is trial 0 with value: 0.4444444477558136.\u001b[0m\n"
     ]
    },
    {
     "name": "stdout",
     "output_type": "stream",
     "text": [
      "1/1 [==============================] - 0s 31ms/step - loss: 0.0000e+00 - accuracy: 0.4444\n"
     ]
    },
    {
     "name": "stderr",
     "output_type": "stream",
     "text": [
      "\u001b[32m[I 2022-05-24 00:34:58,018]\u001b[0m Trial 340 finished with value: 0.4444444477558136 and parameters: {'n_layers': 3, 'n_units': 200, 'dropout': 0.0, 'optimizer': 'Adam'}. Best is trial 0 with value: 0.4444444477558136.\u001b[0m\n"
     ]
    },
    {
     "name": "stdout",
     "output_type": "stream",
     "text": [
      "1/1 [==============================] - 0s 31ms/step - loss: 0.0000e+00 - accuracy: 0.4444\n"
     ]
    },
    {
     "name": "stderr",
     "output_type": "stream",
     "text": [
      "\u001b[32m[I 2022-05-24 00:34:59,028]\u001b[0m Trial 341 finished with value: 0.4444444477558136 and parameters: {'n_layers': 3, 'n_units': 200, 'dropout': 0.0, 'optimizer': 'Adam'}. Best is trial 0 with value: 0.4444444477558136.\u001b[0m\n"
     ]
    },
    {
     "name": "stdout",
     "output_type": "stream",
     "text": [
      "1/1 [==============================] - 0s 31ms/step - loss: 0.0000e+00 - accuracy: 0.4444\n"
     ]
    },
    {
     "name": "stderr",
     "output_type": "stream",
     "text": [
      "\u001b[32m[I 2022-05-24 00:35:00,095]\u001b[0m Trial 342 finished with value: 0.4444444477558136 and parameters: {'n_layers': 3, 'n_units': 200, 'dropout': 0.0, 'optimizer': 'Adam'}. Best is trial 0 with value: 0.4444444477558136.\u001b[0m\n"
     ]
    },
    {
     "name": "stdout",
     "output_type": "stream",
     "text": [
      "1/1 [==============================] - 0s 16ms/step - loss: 0.0000e+00 - accuracy: 0.4444\n"
     ]
    },
    {
     "name": "stderr",
     "output_type": "stream",
     "text": [
      "\u001b[32m[I 2022-05-24 00:35:01,571]\u001b[0m Trial 343 finished with value: 0.4444444477558136 and parameters: {'n_layers': 3, 'n_units': 200, 'dropout': 0.0, 'optimizer': 'Adam'}. Best is trial 0 with value: 0.4444444477558136.\u001b[0m\n"
     ]
    },
    {
     "name": "stdout",
     "output_type": "stream",
     "text": [
      "1/1 [==============================] - 0s 16ms/step - loss: 0.0000e+00 - accuracy: 0.4444\n"
     ]
    },
    {
     "name": "stderr",
     "output_type": "stream",
     "text": [
      "\u001b[32m[I 2022-05-24 00:35:02,763]\u001b[0m Trial 344 finished with value: 0.4444444477558136 and parameters: {'n_layers': 3, 'n_units': 200, 'dropout': 0.0, 'optimizer': 'Adam'}. Best is trial 0 with value: 0.4444444477558136.\u001b[0m\n"
     ]
    },
    {
     "name": "stdout",
     "output_type": "stream",
     "text": [
      "1/1 [==============================] - 0s 26ms/step - loss: 0.0000e+00 - accuracy: 0.4444\n"
     ]
    },
    {
     "name": "stderr",
     "output_type": "stream",
     "text": [
      "\u001b[32m[I 2022-05-24 00:35:03,749]\u001b[0m Trial 345 finished with value: 0.4444444477558136 and parameters: {'n_layers': 3, 'n_units': 200, 'dropout': 0.0, 'optimizer': 'Adam'}. Best is trial 0 with value: 0.4444444477558136.\u001b[0m\n"
     ]
    },
    {
     "name": "stdout",
     "output_type": "stream",
     "text": [
      "1/1 [==============================] - 0s 16ms/step - loss: 0.0000e+00 - accuracy: 0.4444\n"
     ]
    },
    {
     "name": "stderr",
     "output_type": "stream",
     "text": [
      "\u001b[32m[I 2022-05-24 00:35:04,580]\u001b[0m Trial 346 finished with value: 0.4444444477558136 and parameters: {'n_layers': 3, 'n_units': 200, 'dropout': 0.0, 'optimizer': 'Adam'}. Best is trial 0 with value: 0.4444444477558136.\u001b[0m\n"
     ]
    },
    {
     "name": "stdout",
     "output_type": "stream",
     "text": [
      "1/1 [==============================] - 0s 31ms/step - loss: 0.0000e+00 - accuracy: 0.4444\n"
     ]
    },
    {
     "name": "stderr",
     "output_type": "stream",
     "text": [
      "\u001b[32m[I 2022-05-24 00:35:05,491]\u001b[0m Trial 347 finished with value: 0.4444444477558136 and parameters: {'n_layers': 3, 'n_units': 200, 'dropout': 0.0, 'optimizer': 'Adam'}. Best is trial 0 with value: 0.4444444477558136.\u001b[0m\n"
     ]
    },
    {
     "name": "stdout",
     "output_type": "stream",
     "text": [
      "1/1 [==============================] - 0s 31ms/step - loss: 0.0000e+00 - accuracy: 0.4444\n"
     ]
    },
    {
     "name": "stderr",
     "output_type": "stream",
     "text": [
      "\u001b[32m[I 2022-05-24 00:35:06,744]\u001b[0m Trial 348 finished with value: 0.4444444477558136 and parameters: {'n_layers': 3, 'n_units': 200, 'dropout': 0.0, 'optimizer': 'Adam'}. Best is trial 0 with value: 0.4444444477558136.\u001b[0m\n"
     ]
    },
    {
     "name": "stdout",
     "output_type": "stream",
     "text": [
      "1/1 [==============================] - 0s 16ms/step - loss: 0.0000e+00 - accuracy: 0.4444\n"
     ]
    },
    {
     "name": "stderr",
     "output_type": "stream",
     "text": [
      "\u001b[32m[I 2022-05-24 00:35:08,126]\u001b[0m Trial 349 finished with value: 0.4444444477558136 and parameters: {'n_layers': 3, 'n_units': 250, 'dropout': 0.0, 'optimizer': 'Adam'}. Best is trial 0 with value: 0.4444444477558136.\u001b[0m\n"
     ]
    },
    {
     "name": "stdout",
     "output_type": "stream",
     "text": [
      "1/1 [==============================] - 0s 31ms/step - loss: 0.0000e+00 - accuracy: 0.4444\n"
     ]
    },
    {
     "name": "stderr",
     "output_type": "stream",
     "text": [
      "\u001b[32m[I 2022-05-24 00:35:09,104]\u001b[0m Trial 350 finished with value: 0.4444444477558136 and parameters: {'n_layers': 3, 'n_units': 250, 'dropout': 0.0, 'optimizer': 'Adam'}. Best is trial 0 with value: 0.4444444477558136.\u001b[0m\n"
     ]
    },
    {
     "name": "stdout",
     "output_type": "stream",
     "text": [
      "1/1 [==============================] - 0s 36ms/step - loss: 0.0000e+00 - accuracy: 0.4444\n"
     ]
    },
    {
     "name": "stderr",
     "output_type": "stream",
     "text": [
      "\u001b[32m[I 2022-05-24 00:35:10,093]\u001b[0m Trial 351 finished with value: 0.4444444477558136 and parameters: {'n_layers': 3, 'n_units': 200, 'dropout': 0.0, 'optimizer': 'Adam'}. Best is trial 0 with value: 0.4444444477558136.\u001b[0m\n"
     ]
    },
    {
     "name": "stdout",
     "output_type": "stream",
     "text": [
      "1/1 [==============================] - 0s 31ms/step - loss: 0.0000e+00 - accuracy: 0.4444\n"
     ]
    },
    {
     "name": "stderr",
     "output_type": "stream",
     "text": [
      "\u001b[32m[I 2022-05-24 00:35:11,326]\u001b[0m Trial 352 finished with value: 0.4444444477558136 and parameters: {'n_layers': 3, 'n_units': 200, 'dropout': 0.0, 'optimizer': 'Adam'}. Best is trial 0 with value: 0.4444444477558136.\u001b[0m\n"
     ]
    },
    {
     "name": "stdout",
     "output_type": "stream",
     "text": [
      "1/1 [==============================] - 0s 16ms/step - loss: 0.0000e+00 - accuracy: 0.4444\n"
     ]
    },
    {
     "name": "stderr",
     "output_type": "stream",
     "text": [
      "\u001b[32m[I 2022-05-24 00:35:12,534]\u001b[0m Trial 353 finished with value: 0.4444444477558136 and parameters: {'n_layers': 3, 'n_units': 200, 'dropout': 0.0, 'optimizer': 'Adam'}. Best is trial 0 with value: 0.4444444477558136.\u001b[0m\n"
     ]
    },
    {
     "name": "stdout",
     "output_type": "stream",
     "text": [
      "1/1 [==============================] - 0s 20ms/step - loss: 0.0000e+00 - accuracy: 0.4444\n"
     ]
    },
    {
     "name": "stderr",
     "output_type": "stream",
     "text": [
      "\u001b[32m[I 2022-05-24 00:35:13,996]\u001b[0m Trial 354 finished with value: 0.4444444477558136 and parameters: {'n_layers': 3, 'n_units': 250, 'dropout': 0.0, 'optimizer': 'Adam'}. Best is trial 0 with value: 0.4444444477558136.\u001b[0m\n"
     ]
    },
    {
     "name": "stdout",
     "output_type": "stream",
     "text": [
      "1/1 [==============================] - 0s 31ms/step - loss: 0.0000e+00 - accuracy: 0.4444\n"
     ]
    },
    {
     "name": "stderr",
     "output_type": "stream",
     "text": [
      "\u001b[32m[I 2022-05-24 00:35:15,286]\u001b[0m Trial 355 finished with value: 0.4444444477558136 and parameters: {'n_layers': 3, 'n_units': 250, 'dropout': 0.0, 'optimizer': 'Adam'}. Best is trial 0 with value: 0.4444444477558136.\u001b[0m\n"
     ]
    },
    {
     "name": "stdout",
     "output_type": "stream",
     "text": [
      "1/1 [==============================] - 0s 16ms/step - loss: 0.0000e+00 - accuracy: 0.4444\n"
     ]
    },
    {
     "name": "stderr",
     "output_type": "stream",
     "text": [
      "\u001b[32m[I 2022-05-24 00:35:16,267]\u001b[0m Trial 356 finished with value: 0.4444444477558136 and parameters: {'n_layers': 3, 'n_units': 250, 'dropout': 0.0, 'optimizer': 'Adam'}. Best is trial 0 with value: 0.4444444477558136.\u001b[0m\n"
     ]
    },
    {
     "name": "stdout",
     "output_type": "stream",
     "text": [
      "1/1 [==============================] - 0s 47ms/step - loss: 0.0000e+00 - accuracy: 0.4444\n"
     ]
    },
    {
     "name": "stderr",
     "output_type": "stream",
     "text": [
      "\u001b[32m[I 2022-05-24 00:35:17,623]\u001b[0m Trial 357 finished with value: 0.4444444477558136 and parameters: {'n_layers': 3, 'n_units': 250, 'dropout': 0.0, 'optimizer': 'Adam'}. Best is trial 0 with value: 0.4444444477558136.\u001b[0m\n"
     ]
    },
    {
     "name": "stdout",
     "output_type": "stream",
     "text": [
      "1/1 [==============================] - 0s 31ms/step - loss: 0.0000e+00 - accuracy: 0.4444\n"
     ]
    },
    {
     "name": "stderr",
     "output_type": "stream",
     "text": [
      "\u001b[32m[I 2022-05-24 00:35:18,965]\u001b[0m Trial 358 finished with value: 0.4444444477558136 and parameters: {'n_layers': 3, 'n_units': 250, 'dropout': 0.30000000000000004, 'optimizer': 'Adam'}. Best is trial 0 with value: 0.4444444477558136.\u001b[0m\n"
     ]
    },
    {
     "name": "stdout",
     "output_type": "stream",
     "text": [
      "1/1 [==============================] - 0s 16ms/step - loss: 0.0000e+00 - accuracy: 0.4444\n"
     ]
    },
    {
     "name": "stderr",
     "output_type": "stream",
     "text": [
      "\u001b[32m[I 2022-05-24 00:35:20,190]\u001b[0m Trial 359 finished with value: 0.4444444477558136 and parameters: {'n_layers': 3, 'n_units': 250, 'dropout': 0.30000000000000004, 'optimizer': 'Adam'}. Best is trial 0 with value: 0.4444444477558136.\u001b[0m\n"
     ]
    }
   ],
   "source": [
    "# Creamos un objeto \"study\" y buscamos la optimización de la función objetivo.\n",
    "sampler = optuna.samplers.TPESampler(seed=0)\n",
    "study = optuna.create_study(direction=\"maximize\", sampler=sampler)\n",
    "study.optimize(objective, n_trials=360)\n",
    "# n_trials = 4 x 5 x 6 x 3 = 360"
   ]
  },
  {
   "cell_type": "code",
   "execution_count": 20,
   "id": "9c88551f",
   "metadata": {},
   "outputs": [
    {
     "data": {
      "text/plain": [
       "FrozenTrial(number=0, values=[0.4444444477558136], datetime_start=datetime.datetime(2022, 5, 24, 0, 26, 13, 348986), datetime_complete=datetime.datetime(2022, 5, 24, 0, 26, 21, 28622), params={'n_layers': 4, 'n_units': 200, 'dropout': 0.30000000000000004, 'optimizer': 'Adam'}, distributions={'n_layers': IntUniformDistribution(high=5, low=2, step=1), 'n_units': IntUniformDistribution(high=250, low=50, step=50), 'dropout': DiscreteUniformDistribution(high=0.5, low=0.0, q=0.1), 'optimizer': CategoricalDistribution(choices=('RMSprop', 'SGD', 'Adam'))}, user_attrs={}, system_attrs={}, intermediate_values={}, trial_id=0, state=TrialState.COMPLETE, value=None)"
      ]
     },
     "execution_count": 20,
     "metadata": {},
     "output_type": "execute_result"
    }
   ],
   "source": [
    "study.best_trial"
   ]
  },
  {
   "cell_type": "markdown",
   "id": "ff2db5ef",
   "metadata": {},
   "source": [
    "La red con los parámetros optimizados es la siguiente:"
   ]
  },
  {
   "cell_type": "code",
   "execution_count": 37,
   "id": "d14b938e",
   "metadata": {},
   "outputs": [
    {
     "name": "stdout",
     "output_type": "stream",
     "text": [
      "Epoch 1/100\n",
      "2/2 [==============================] - 1s 173ms/step - loss: 0.6907 - acc: 0.5686 - val_loss: 0.7020 - val_acc: 0.4706\n",
      "Epoch 2/100\n",
      "2/2 [==============================] - 0s 31ms/step - loss: 0.6908 - acc: 0.5490 - val_loss: 0.6967 - val_acc: 0.4118\n",
      "Epoch 3/100\n",
      "2/2 [==============================] - 0s 38ms/step - loss: 0.6219 - acc: 0.7255 - val_loss: 0.6908 - val_acc: 0.3529\n",
      "Epoch 4/100\n",
      "2/2 [==============================] - 0s 27ms/step - loss: 0.6492 - acc: 0.6471 - val_loss: 0.6842 - val_acc: 0.5294\n",
      "Epoch 5/100\n",
      "2/2 [==============================] - 0s 31ms/step - loss: 0.6124 - acc: 0.6275 - val_loss: 0.6722 - val_acc: 0.5882\n",
      "Epoch 6/100\n",
      "2/2 [==============================] - 0s 32ms/step - loss: 0.5017 - acc: 0.8235 - val_loss: 0.6597 - val_acc: 0.6471\n",
      "Epoch 7/100\n",
      "2/2 [==============================] - 0s 27ms/step - loss: 0.5774 - acc: 0.6667 - val_loss: 0.6501 - val_acc: 0.6471\n",
      "Epoch 8/100\n",
      "2/2 [==============================] - 0s 31ms/step - loss: 0.4641 - acc: 0.8627 - val_loss: 0.6373 - val_acc: 0.5294\n",
      "Epoch 9/100\n",
      "2/2 [==============================] - 0s 20ms/step - loss: 0.3752 - acc: 0.9216 - val_loss: 0.6285 - val_acc: 0.5882\n",
      "Epoch 10/100\n",
      "2/2 [==============================] - 0s 13ms/step - loss: 0.3086 - acc: 0.9608 - val_loss: 0.6302 - val_acc: 0.5882\n",
      "Epoch 11/100\n",
      "2/2 [==============================] - 0s 33ms/step - loss: 0.3575 - acc: 0.9216 - val_loss: 0.6420 - val_acc: 0.5882\n",
      "1/1 [==============================] - 0s 14ms/step - loss: 0.5175 - acc: 0.7778\n",
      "Accuracy: 77.78%\n"
     ]
    }
   ],
   "source": [
    "tf.keras.utils.set_random_seed(0) # Reproducibilidad de resultados\n",
    "\n",
    "# Definir y entrenar el modelo\n",
    "modelFC_optuna = models.Sequential()\n",
    "modelFC_optuna.add(layers.Dense(200, activation=\"relu\", input_shape=(410,)))\n",
    "modelFC_optuna.add(layers.Dropout(0.3))\n",
    "modelFC_optuna.add(layers.Dense(200, activation=\"relu\"))\n",
    "modelFC_optuna.add(layers.Dropout(0.3))\n",
    "modelFC_optuna.add(layers.Dense(200, activation=\"relu\"))\n",
    "modelFC_optuna.add(layers.Dropout(0.3))\n",
    "modelFC_optuna.add(layers.Dense(200, activation=\"relu\"))\n",
    "modelFC_optuna.add(layers.Dropout(0.3))\n",
    "modelFC_optuna.add(layers.Dense(1, activation=\"sigmoid\"))\n",
    "\n",
    "modelFC_optuna.compile(loss=\"binary_crossentropy\", optimizer=\"adam\", metrics=[\"acc\"])\n",
    "es = callbacks.EarlyStopping(monitor=\"val_acc\", min_delta=0.01, patience=5)\n",
    "modelFC_optuna.fit(X_train, y_train, epochs=100, validation_split=0.25, callbacks=[es])\n",
    "# modelFC_optuna_Adam.fit(X_train, y_train, epochs=100, validation_split=0.25)\n",
    "\n",
    "# Precisión en partición de test\n",
    "loss, accuracy = modelFC_optuna.evaluate(X_test, y_test)\n",
    "print(\"Accuracy: {:0.2f}%\".format(accuracy * 100))"
   ]
  },
  {
   "cell_type": "markdown",
   "id": "862e0647",
   "metadata": {},
   "source": [
    "$\\color{red}{\\text{SI NO FIJAMOS SEMILLA ALGUNAS EJECUCIONES SI MEJORAN EL RESULTADO DE sklearn}}$"
   ]
  },
  {
   "cell_type": "markdown",
   "id": "e0d8da59",
   "metadata": {},
   "source": [
    "Veamos si podemos obtener mejores resultados cambiando la última capa con activación sigmoide por una activación softmax:"
   ]
  },
  {
   "cell_type": "code",
   "execution_count": 38,
   "id": "443bedfe",
   "metadata": {},
   "outputs": [],
   "source": [
    "from keras.utils import np_utils\n",
    "\n",
    "# En primer lugar, hay que adaptar los datos\n",
    "NUM_CLASSES = 2\n",
    "y_train_softmax = np_utils.to_categorical(y_train, NUM_CLASSES)\n",
    "y_test_softmax = np_utils.to_categorical(y_test, NUM_CLASSES)"
   ]
  },
  {
   "cell_type": "code",
   "execution_count": 42,
   "id": "91d41c94",
   "metadata": {},
   "outputs": [],
   "source": [
    "def objectiveSoftmax(trial):\n",
    "    modelFC_optuna = models.Sequential()\n",
    "\n",
    "    n_layers = trial.suggest_int(\"n_layers\", 2, 5, 1)\n",
    "    num_hidden = trial.suggest_int(\"n_units\", 50, 250, 50)\n",
    "    dropout = trial.suggest_float(\"dropout\", 0, 0.5, step=0.1)\n",
    "    for i in range(n_layers):\n",
    "        modelFC_optuna.add(layers.Dense(num_hidden, activation=\"relu\"))\n",
    "        modelFC_optuna.add(layers.Dropout(rate=dropout))\n",
    "    modelFC_optuna.add(layers.Dense(2, activation=\"softmax\"))\n",
    "\n",
    "    optimizers = trial.suggest_categorical(\"optimizer\", [\"RMSprop\", \"SGD\", \"Adam\"])\n",
    "    modelFC_optuna.compile(loss=\"categorical_crossentropy\", optimizer=optimizers, metrics=[\"accuracy\"])\n",
    "    \n",
    "    es = callbacks.EarlyStopping(monitor=\"val_accuracy\", min_delta=0.01, patience=5)\n",
    "    modelFC_optuna.fit(X_train, y_train_softmax, callbacks=[es], epochs=100, validation_split=0.25, verbose=0)\n",
    "\n",
    "    loss, accuracy = modelFC_optuna.evaluate(X_test, y_test_softmax)\n",
    "    return accuracy"
   ]
  },
  {
   "cell_type": "code",
   "execution_count": 43,
   "id": "c552f735",
   "metadata": {
    "scrolled": true
   },
   "outputs": [
    {
     "name": "stderr",
     "output_type": "stream",
     "text": [
      "\u001b[32m[I 2022-05-24 01:03:51,948]\u001b[0m A new study created in memory with name: no-name-4e39b162-3654-491b-bdab-6ca7496aa86a\u001b[0m\n"
     ]
    },
    {
     "name": "stdout",
     "output_type": "stream",
     "text": [
      "1/1 [==============================] - 0s 16ms/step - loss: 0.6922 - accuracy: 0.3889\n"
     ]
    },
    {
     "name": "stderr",
     "output_type": "stream",
     "text": [
      "\u001b[32m[I 2022-05-24 01:03:53,243]\u001b[0m Trial 0 finished with value: 0.3888888955116272 and parameters: {'n_layers': 5, 'n_units': 50, 'dropout': 0.5, 'optimizer': 'SGD'}. Best is trial 0 with value: 0.3888888955116272.\u001b[0m\n"
     ]
    },
    {
     "name": "stdout",
     "output_type": "stream",
     "text": [
      "1/1 [==============================] - 0s 16ms/step - loss: 0.7026 - accuracy: 0.5000\n"
     ]
    },
    {
     "name": "stderr",
     "output_type": "stream",
     "text": [
      "\u001b[32m[I 2022-05-24 01:03:54,548]\u001b[0m Trial 1 finished with value: 0.5 and parameters: {'n_layers': 5, 'n_units': 200, 'dropout': 0.4, 'optimizer': 'SGD'}. Best is trial 1 with value: 0.5.\u001b[0m\n"
     ]
    },
    {
     "name": "stdout",
     "output_type": "stream",
     "text": [
      "1/1 [==============================] - 0s 16ms/step - loss: 0.6409 - accuracy: 0.5556\n"
     ]
    },
    {
     "name": "stderr",
     "output_type": "stream",
     "text": [
      "\u001b[32m[I 2022-05-24 01:03:55,365]\u001b[0m Trial 2 finished with value: 0.5555555820465088 and parameters: {'n_layers': 3, 'n_units': 50, 'dropout': 0.1, 'optimizer': 'Adam'}. Best is trial 2 with value: 0.5555555820465088.\u001b[0m\n"
     ]
    },
    {
     "name": "stdout",
     "output_type": "stream",
     "text": [
      "1/1 [==============================] - 0s 16ms/step - loss: 0.7387 - accuracy: 0.4444\n"
     ]
    },
    {
     "name": "stderr",
     "output_type": "stream",
     "text": [
      "\u001b[32m[I 2022-05-24 01:03:56,320]\u001b[0m Trial 3 finished with value: 0.4444444477558136 and parameters: {'n_layers': 4, 'n_units': 100, 'dropout': 0.30000000000000004, 'optimizer': 'Adam'}. Best is trial 2 with value: 0.5555555820465088.\u001b[0m\n"
     ]
    },
    {
     "name": "stdout",
     "output_type": "stream",
     "text": [
      "1/1 [==============================] - 0s 31ms/step - loss: 0.6978 - accuracy: 0.7222\n"
     ]
    },
    {
     "name": "stderr",
     "output_type": "stream",
     "text": [
      "\u001b[32m[I 2022-05-24 01:03:57,305]\u001b[0m Trial 4 finished with value: 0.7222222089767456 and parameters: {'n_layers': 3, 'n_units': 200, 'dropout': 0.0, 'optimizer': 'RMSprop'}. Best is trial 4 with value: 0.7222222089767456.\u001b[0m\n"
     ]
    },
    {
     "name": "stdout",
     "output_type": "stream",
     "text": [
      "1/1 [==============================] - 0s 16ms/step - loss: 0.7231 - accuracy: 0.2778\n"
     ]
    },
    {
     "name": "stderr",
     "output_type": "stream",
     "text": [
      "\u001b[32m[I 2022-05-24 01:03:58,199]\u001b[0m Trial 5 finished with value: 0.2777777910232544 and parameters: {'n_layers': 4, 'n_units': 50, 'dropout': 0.4, 'optimizer': 'SGD'}. Best is trial 4 with value: 0.7222222089767456.\u001b[0m\n"
     ]
    },
    {
     "name": "stdout",
     "output_type": "stream",
     "text": [
      "1/1 [==============================] - 0s 16ms/step - loss: 0.6609 - accuracy: 0.6667\n"
     ]
    },
    {
     "name": "stderr",
     "output_type": "stream",
     "text": [
      "\u001b[32m[I 2022-05-24 01:04:00,185]\u001b[0m Trial 6 finished with value: 0.6666666865348816 and parameters: {'n_layers': 4, 'n_units': 250, 'dropout': 0.1, 'optimizer': 'SGD'}. Best is trial 4 with value: 0.7222222089767456.\u001b[0m\n"
     ]
    },
    {
     "name": "stdout",
     "output_type": "stream",
     "text": [
      "1/1 [==============================] - 0s 24ms/step - loss: 0.6234 - accuracy: 0.7778\n"
     ]
    },
    {
     "name": "stderr",
     "output_type": "stream",
     "text": [
      "\u001b[32m[I 2022-05-24 01:04:01,723]\u001b[0m Trial 7 finished with value: 0.7777777910232544 and parameters: {'n_layers': 2, 'n_units': 250, 'dropout': 0.2, 'optimizer': 'RMSprop'}. Best is trial 7 with value: 0.7777777910232544.\u001b[0m\n"
     ]
    },
    {
     "name": "stdout",
     "output_type": "stream",
     "text": [
      "1/1 [==============================] - 0s 15ms/step - loss: 0.6909 - accuracy: 0.5556\n"
     ]
    },
    {
     "name": "stderr",
     "output_type": "stream",
     "text": [
      "\u001b[32m[I 2022-05-24 01:04:02,958]\u001b[0m Trial 8 finished with value: 0.5555555820465088 and parameters: {'n_layers': 5, 'n_units': 100, 'dropout': 0.5, 'optimizer': 'SGD'}. Best is trial 7 with value: 0.7777777910232544.\u001b[0m\n"
     ]
    },
    {
     "name": "stdout",
     "output_type": "stream",
     "text": [
      "1/1 [==============================] - 0s 16ms/step - loss: 0.6888 - accuracy: 0.3889\n"
     ]
    },
    {
     "name": "stderr",
     "output_type": "stream",
     "text": [
      "\u001b[32m[I 2022-05-24 01:04:04,139]\u001b[0m Trial 9 finished with value: 0.3888888955116272 and parameters: {'n_layers': 4, 'n_units': 150, 'dropout': 0.5, 'optimizer': 'RMSprop'}. Best is trial 7 with value: 0.7777777910232544.\u001b[0m\n"
     ]
    },
    {
     "name": "stdout",
     "output_type": "stream",
     "text": [
      "1/1 [==============================] - 0s 31ms/step - loss: 0.6564 - accuracy: 0.6667\n"
     ]
    },
    {
     "name": "stderr",
     "output_type": "stream",
     "text": [
      "\u001b[32m[I 2022-05-24 01:04:05,262]\u001b[0m Trial 10 finished with value: 0.6666666865348816 and parameters: {'n_layers': 2, 'n_units': 250, 'dropout': 0.2, 'optimizer': 'RMSprop'}. Best is trial 7 with value: 0.7777777910232544.\u001b[0m\n"
     ]
    },
    {
     "name": "stdout",
     "output_type": "stream",
     "text": [
      "1/1 [==============================] - 0s 16ms/step - loss: 0.5365 - accuracy: 0.7778\n"
     ]
    },
    {
     "name": "stderr",
     "output_type": "stream",
     "text": [
      "\u001b[32m[I 2022-05-24 01:04:06,265]\u001b[0m Trial 11 finished with value: 0.7777777910232544 and parameters: {'n_layers': 2, 'n_units': 200, 'dropout': 0.0, 'optimizer': 'RMSprop'}. Best is trial 7 with value: 0.7777777910232544.\u001b[0m\n"
     ]
    },
    {
     "name": "stdout",
     "output_type": "stream",
     "text": [
      "1/1 [==============================] - 0s 16ms/step - loss: 0.8212 - accuracy: 0.7222\n"
     ]
    },
    {
     "name": "stderr",
     "output_type": "stream",
     "text": [
      "\u001b[32m[I 2022-05-24 01:04:07,514]\u001b[0m Trial 12 finished with value: 0.7222222089767456 and parameters: {'n_layers': 2, 'n_units': 200, 'dropout': 0.0, 'optimizer': 'RMSprop'}. Best is trial 7 with value: 0.7777777910232544.\u001b[0m\n"
     ]
    },
    {
     "name": "stdout",
     "output_type": "stream",
     "text": [
      "1/1 [==============================] - 0s 31ms/step - loss: 0.5743 - accuracy: 0.7222\n"
     ]
    },
    {
     "name": "stderr",
     "output_type": "stream",
     "text": [
      "\u001b[32m[I 2022-05-24 01:04:08,489]\u001b[0m Trial 13 finished with value: 0.7222222089767456 and parameters: {'n_layers': 2, 'n_units': 250, 'dropout': 0.2, 'optimizer': 'RMSprop'}. Best is trial 7 with value: 0.7777777910232544.\u001b[0m\n"
     ]
    },
    {
     "name": "stdout",
     "output_type": "stream",
     "text": [
      "1/1 [==============================] - 0s 24ms/step - loss: 0.5619 - accuracy: 0.8333\n"
     ]
    },
    {
     "name": "stderr",
     "output_type": "stream",
     "text": [
      "\u001b[32m[I 2022-05-24 01:04:09,632]\u001b[0m Trial 14 finished with value: 0.8333333134651184 and parameters: {'n_layers': 3, 'n_units': 200, 'dropout': 0.1, 'optimizer': 'RMSprop'}. Best is trial 14 with value: 0.8333333134651184.\u001b[0m\n"
     ]
    },
    {
     "name": "stdout",
     "output_type": "stream",
     "text": [
      "1/1 [==============================] - 0s 31ms/step - loss: 0.5572 - accuracy: 0.7778\n"
     ]
    },
    {
     "name": "stderr",
     "output_type": "stream",
     "text": [
      "\u001b[32m[I 2022-05-24 01:04:10,797]\u001b[0m Trial 15 finished with value: 0.7777777910232544 and parameters: {'n_layers': 3, 'n_units': 150, 'dropout': 0.1, 'optimizer': 'RMSprop'}. Best is trial 14 with value: 0.8333333134651184.\u001b[0m\n"
     ]
    },
    {
     "name": "stdout",
     "output_type": "stream",
     "text": [
      "1/1 [==============================] - 0s 27ms/step - loss: 0.6698 - accuracy: 0.7778\n"
     ]
    },
    {
     "name": "stderr",
     "output_type": "stream",
     "text": [
      "\u001b[32m[I 2022-05-24 01:04:12,308]\u001b[0m Trial 16 finished with value: 0.7777777910232544 and parameters: {'n_layers': 3, 'n_units': 250, 'dropout': 0.30000000000000004, 'optimizer': 'RMSprop'}. Best is trial 14 with value: 0.8333333134651184.\u001b[0m\n"
     ]
    },
    {
     "name": "stdout",
     "output_type": "stream",
     "text": [
      "1/1 [==============================] - 0s 20ms/step - loss: 0.5353 - accuracy: 0.7222\n"
     ]
    },
    {
     "name": "stderr",
     "output_type": "stream",
     "text": [
      "\u001b[32m[I 2022-05-24 01:04:13,623]\u001b[0m Trial 17 finished with value: 0.7222222089767456 and parameters: {'n_layers': 3, 'n_units': 200, 'dropout': 0.30000000000000004, 'optimizer': 'Adam'}. Best is trial 14 with value: 0.8333333134651184.\u001b[0m\n"
     ]
    },
    {
     "name": "stdout",
     "output_type": "stream",
     "text": [
      "1/1 [==============================] - 0s 31ms/step - loss: 0.4988 - accuracy: 0.8333\n"
     ]
    },
    {
     "name": "stderr",
     "output_type": "stream",
     "text": [
      "\u001b[32m[I 2022-05-24 01:04:14,725]\u001b[0m Trial 18 finished with value: 0.8333333134651184 and parameters: {'n_layers': 3, 'n_units': 150, 'dropout': 0.1, 'optimizer': 'RMSprop'}. Best is trial 14 with value: 0.8333333134651184.\u001b[0m\n"
     ]
    },
    {
     "name": "stdout",
     "output_type": "stream",
     "text": [
      "1/1 [==============================] - 0s 16ms/step - loss: 0.6628 - accuracy: 0.6111\n"
     ]
    },
    {
     "name": "stderr",
     "output_type": "stream",
     "text": [
      "\u001b[32m[I 2022-05-24 01:04:15,903]\u001b[0m Trial 19 finished with value: 0.6111111044883728 and parameters: {'n_layers': 3, 'n_units': 100, 'dropout': 0.1, 'optimizer': 'RMSprop'}. Best is trial 14 with value: 0.8333333134651184.\u001b[0m\n"
     ]
    },
    {
     "name": "stdout",
     "output_type": "stream",
     "text": [
      "1/1 [==============================] - 0s 16ms/step - loss: 0.8575 - accuracy: 0.7778\n"
     ]
    },
    {
     "name": "stderr",
     "output_type": "stream",
     "text": [
      "\u001b[32m[I 2022-05-24 01:04:17,196]\u001b[0m Trial 20 finished with value: 0.7777777910232544 and parameters: {'n_layers': 4, 'n_units': 150, 'dropout': 0.1, 'optimizer': 'Adam'}. Best is trial 14 with value: 0.8333333134651184.\u001b[0m\n"
     ]
    },
    {
     "name": "stdout",
     "output_type": "stream",
     "text": [
      "1/1 [==============================] - 0s 31ms/step - loss: 0.5367 - accuracy: 0.8333\n"
     ]
    },
    {
     "name": "stderr",
     "output_type": "stream",
     "text": [
      "\u001b[32m[I 2022-05-24 01:04:18,450]\u001b[0m Trial 21 finished with value: 0.8333333134651184 and parameters: {'n_layers': 4, 'n_units': 150, 'dropout': 0.1, 'optimizer': 'Adam'}. Best is trial 14 with value: 0.8333333134651184.\u001b[0m\n"
     ]
    },
    {
     "name": "stdout",
     "output_type": "stream",
     "text": [
      "1/1 [==============================] - 0s 17ms/step - loss: 0.7790 - accuracy: 0.7778\n"
     ]
    },
    {
     "name": "stderr",
     "output_type": "stream",
     "text": [
      "\u001b[32m[I 2022-05-24 01:04:19,799]\u001b[0m Trial 22 finished with value: 0.7777777910232544 and parameters: {'n_layers': 3, 'n_units': 150, 'dropout': 0.0, 'optimizer': 'Adam'}. Best is trial 14 with value: 0.8333333134651184.\u001b[0m\n"
     ]
    },
    {
     "name": "stdout",
     "output_type": "stream",
     "text": [
      "1/1 [==============================] - 0s 16ms/step - loss: 0.6947 - accuracy: 0.6667\n"
     ]
    },
    {
     "name": "stderr",
     "output_type": "stream",
     "text": [
      "\u001b[32m[I 2022-05-24 01:04:20,872]\u001b[0m Trial 23 finished with value: 0.6666666865348816 and parameters: {'n_layers': 4, 'n_units': 150, 'dropout': 0.2, 'optimizer': 'Adam'}. Best is trial 14 with value: 0.8333333134651184.\u001b[0m\n"
     ]
    },
    {
     "name": "stdout",
     "output_type": "stream",
     "text": [
      "1/1 [==============================] - 0s 16ms/step - loss: 0.5072 - accuracy: 0.7778\n"
     ]
    },
    {
     "name": "stderr",
     "output_type": "stream",
     "text": [
      "\u001b[32m[I 2022-05-24 01:04:21,767]\u001b[0m Trial 24 finished with value: 0.7777777910232544 and parameters: {'n_layers': 3, 'n_units': 100, 'dropout': 0.1, 'optimizer': 'Adam'}. Best is trial 14 with value: 0.8333333134651184.\u001b[0m\n"
     ]
    },
    {
     "name": "stdout",
     "output_type": "stream",
     "text": [
      "1/1 [==============================] - 0s 16ms/step - loss: 0.6201 - accuracy: 0.7778\n"
     ]
    },
    {
     "name": "stderr",
     "output_type": "stream",
     "text": [
      "\u001b[32m[I 2022-05-24 01:04:23,245]\u001b[0m Trial 25 finished with value: 0.7777777910232544 and parameters: {'n_layers': 4, 'n_units': 150, 'dropout': 0.0, 'optimizer': 'RMSprop'}. Best is trial 14 with value: 0.8333333134651184.\u001b[0m\n"
     ]
    },
    {
     "name": "stdout",
     "output_type": "stream",
     "text": [
      "1/1 [==============================] - 0s 22ms/step - loss: 0.5799 - accuracy: 0.7778\n"
     ]
    },
    {
     "name": "stderr",
     "output_type": "stream",
     "text": [
      "\u001b[32m[I 2022-05-24 01:04:24,624]\u001b[0m Trial 26 finished with value: 0.7777777910232544 and parameters: {'n_layers': 3, 'n_units': 200, 'dropout': 0.2, 'optimizer': 'Adam'}. Best is trial 14 with value: 0.8333333134651184.\u001b[0m\n"
     ]
    },
    {
     "name": "stdout",
     "output_type": "stream",
     "text": [
      "1/1 [==============================] - 0s 31ms/step - loss: 0.5069 - accuracy: 0.8889\n"
     ]
    },
    {
     "name": "stderr",
     "output_type": "stream",
     "text": [
      "\u001b[32m[I 2022-05-24 01:04:26,073]\u001b[0m Trial 27 finished with value: 0.8888888955116272 and parameters: {'n_layers': 4, 'n_units': 150, 'dropout': 0.1, 'optimizer': 'RMSprop'}. Best is trial 27 with value: 0.8888888955116272.\u001b[0m\n"
     ]
    },
    {
     "name": "stdout",
     "output_type": "stream",
     "text": [
      "1/1 [==============================] - 0s 16ms/step - loss: 0.5699 - accuracy: 0.7778\n"
     ]
    },
    {
     "name": "stderr",
     "output_type": "stream",
     "text": [
      "\u001b[32m[I 2022-05-24 01:04:27,467]\u001b[0m Trial 28 finished with value: 0.7777777910232544 and parameters: {'n_layers': 5, 'n_units': 100, 'dropout': 0.1, 'optimizer': 'RMSprop'}. Best is trial 27 with value: 0.8888888955116272.\u001b[0m\n"
     ]
    },
    {
     "name": "stdout",
     "output_type": "stream",
     "text": [
      "1/1 [==============================] - 0s 31ms/step - loss: 0.3834 - accuracy: 0.8889\n"
     ]
    },
    {
     "name": "stderr",
     "output_type": "stream",
     "text": [
      "\u001b[32m[I 2022-05-24 01:04:28,843]\u001b[0m Trial 29 finished with value: 0.8888888955116272 and parameters: {'n_layers': 5, 'n_units': 200, 'dropout': 0.2, 'optimizer': 'Adam'}. Best is trial 27 with value: 0.8888888955116272.\u001b[0m\n"
     ]
    },
    {
     "name": "stdout",
     "output_type": "stream",
     "text": [
      "1/1 [==============================] - 0s 16ms/step - loss: 0.5526 - accuracy: 0.7778\n"
     ]
    },
    {
     "name": "stderr",
     "output_type": "stream",
     "text": [
      "\u001b[32m[I 2022-05-24 01:04:30,073]\u001b[0m Trial 30 finished with value: 0.7777777910232544 and parameters: {'n_layers': 5, 'n_units': 150, 'dropout': 0.2, 'optimizer': 'Adam'}. Best is trial 27 with value: 0.8888888955116272.\u001b[0m\n"
     ]
    },
    {
     "name": "stdout",
     "output_type": "stream",
     "text": [
      "1/1 [==============================] - 0s 16ms/step - loss: 1.0617 - accuracy: 0.7222\n"
     ]
    },
    {
     "name": "stderr",
     "output_type": "stream",
     "text": [
      "\u001b[32m[I 2022-05-24 01:04:31,290]\u001b[0m Trial 31 finished with value: 0.7222222089767456 and parameters: {'n_layers': 5, 'n_units': 150, 'dropout': 0.1, 'optimizer': 'Adam'}. Best is trial 27 with value: 0.8888888955116272.\u001b[0m\n"
     ]
    },
    {
     "name": "stdout",
     "output_type": "stream",
     "text": [
      "1/1 [==============================] - 0s 31ms/step - loss: 0.8407 - accuracy: 0.7778\n"
     ]
    },
    {
     "name": "stderr",
     "output_type": "stream",
     "text": [
      "\u001b[32m[I 2022-05-24 01:04:32,811]\u001b[0m Trial 32 finished with value: 0.7777777910232544 and parameters: {'n_layers': 5, 'n_units': 200, 'dropout': 0.2, 'optimizer': 'RMSprop'}. Best is trial 27 with value: 0.8888888955116272.\u001b[0m\n"
     ]
    },
    {
     "name": "stdout",
     "output_type": "stream",
     "text": [
      "1/1 [==============================] - 0s 31ms/step - loss: 0.7040 - accuracy: 0.6111\n"
     ]
    },
    {
     "name": "stderr",
     "output_type": "stream",
     "text": [
      "\u001b[32m[I 2022-05-24 01:04:34,164]\u001b[0m Trial 33 finished with value: 0.6111111044883728 and parameters: {'n_layers': 4, 'n_units': 150, 'dropout': 0.1, 'optimizer': 'Adam'}. Best is trial 27 with value: 0.8888888955116272.\u001b[0m\n"
     ]
    },
    {
     "name": "stdout",
     "output_type": "stream",
     "text": [
      "1/1 [==============================] - 0s 31ms/step - loss: 0.7011 - accuracy: 0.4444\n"
     ]
    },
    {
     "name": "stderr",
     "output_type": "stream",
     "text": [
      "\u001b[32m[I 2022-05-24 01:04:35,368]\u001b[0m Trial 34 finished with value: 0.4444444477558136 and parameters: {'n_layers': 5, 'n_units': 100, 'dropout': 0.30000000000000004, 'optimizer': 'SGD'}. Best is trial 27 with value: 0.8888888955116272.\u001b[0m\n"
     ]
    },
    {
     "name": "stdout",
     "output_type": "stream",
     "text": [
      "1/1 [==============================] - 0s 16ms/step - loss: 0.6628 - accuracy: 0.7222\n"
     ]
    },
    {
     "name": "stderr",
     "output_type": "stream",
     "text": [
      "\u001b[32m[I 2022-05-24 01:04:36,232]\u001b[0m Trial 35 finished with value: 0.7222222089767456 and parameters: {'n_layers': 4, 'n_units': 150, 'dropout': 0.0, 'optimizer': 'Adam'}. Best is trial 27 with value: 0.8888888955116272.\u001b[0m\n"
     ]
    },
    {
     "name": "stdout",
     "output_type": "stream",
     "text": [
      "1/1 [==============================] - 0s 16ms/step - loss: 0.6806 - accuracy: 0.7778\n"
     ]
    },
    {
     "name": "stderr",
     "output_type": "stream",
     "text": [
      "\u001b[32m[I 2022-05-24 01:04:37,460]\u001b[0m Trial 36 finished with value: 0.7777777910232544 and parameters: {'n_layers': 3, 'n_units': 200, 'dropout': 0.2, 'optimizer': 'RMSprop'}. Best is trial 27 with value: 0.8888888955116272.\u001b[0m\n"
     ]
    },
    {
     "name": "stdout",
     "output_type": "stream",
     "text": [
      "1/1 [==============================] - 0s 31ms/step - loss: 0.7039 - accuracy: 0.4444\n"
     ]
    },
    {
     "name": "stderr",
     "output_type": "stream",
     "text": [
      "\u001b[32m[I 2022-05-24 01:04:38,460]\u001b[0m Trial 37 finished with value: 0.4444444477558136 and parameters: {'n_layers': 4, 'n_units': 100, 'dropout': 0.4, 'optimizer': 'Adam'}. Best is trial 27 with value: 0.8888888955116272.\u001b[0m\n"
     ]
    },
    {
     "name": "stdout",
     "output_type": "stream",
     "text": [
      "1/1 [==============================] - 0s 31ms/step - loss: 0.6944 - accuracy: 0.5556\n"
     ]
    },
    {
     "name": "stderr",
     "output_type": "stream",
     "text": [
      "\u001b[32m[I 2022-05-24 01:04:39,695]\u001b[0m Trial 38 finished with value: 0.5555555820465088 and parameters: {'n_layers': 4, 'n_units': 50, 'dropout': 0.1, 'optimizer': 'SGD'}. Best is trial 27 with value: 0.8888888955116272.\u001b[0m\n"
     ]
    },
    {
     "name": "stdout",
     "output_type": "stream",
     "text": [
      "1/1 [==============================] - 0s 16ms/step - loss: 2.1396 - accuracy: 0.6667\n"
     ]
    },
    {
     "name": "stderr",
     "output_type": "stream",
     "text": [
      "\u001b[32m[I 2022-05-24 01:04:41,051]\u001b[0m Trial 39 finished with value: 0.6666666865348816 and parameters: {'n_layers': 5, 'n_units': 200, 'dropout': 0.0, 'optimizer': 'Adam'}. Best is trial 27 with value: 0.8888888955116272.\u001b[0m\n"
     ]
    },
    {
     "name": "stdout",
     "output_type": "stream",
     "text": [
      "1/1 [==============================] - 0s 16ms/step - loss: 0.6755 - accuracy: 0.5556\n"
     ]
    },
    {
     "name": "stderr",
     "output_type": "stream",
     "text": [
      "\u001b[32m[I 2022-05-24 01:04:42,006]\u001b[0m Trial 40 finished with value: 0.5555555820465088 and parameters: {'n_layers': 4, 'n_units': 200, 'dropout': 0.30000000000000004, 'optimizer': 'SGD'}. Best is trial 27 with value: 0.8888888955116272.\u001b[0m\n"
     ]
    },
    {
     "name": "stdout",
     "output_type": "stream",
     "text": [
      "1/1 [==============================] - 0s 16ms/step - loss: 0.5438 - accuracy: 0.8333\n"
     ]
    },
    {
     "name": "stderr",
     "output_type": "stream",
     "text": [
      "\u001b[32m[I 2022-05-24 01:04:43,350]\u001b[0m Trial 41 finished with value: 0.8333333134651184 and parameters: {'n_layers': 3, 'n_units': 150, 'dropout': 0.1, 'optimizer': 'RMSprop'}. Best is trial 27 with value: 0.8888888955116272.\u001b[0m\n"
     ]
    },
    {
     "name": "stdout",
     "output_type": "stream",
     "text": [
      "1/1 [==============================] - 0s 16ms/step - loss: 0.8462 - accuracy: 0.6111\n"
     ]
    },
    {
     "name": "stderr",
     "output_type": "stream",
     "text": [
      "\u001b[32m[I 2022-05-24 01:04:44,906]\u001b[0m Trial 42 finished with value: 0.6111111044883728 and parameters: {'n_layers': 3, 'n_units': 150, 'dropout': 0.1, 'optimizer': 'RMSprop'}. Best is trial 27 with value: 0.8888888955116272.\u001b[0m\n"
     ]
    },
    {
     "name": "stdout",
     "output_type": "stream",
     "text": [
      "1/1 [==============================] - 0s 16ms/step - loss: 0.7395 - accuracy: 0.7778\n"
     ]
    },
    {
     "name": "stderr",
     "output_type": "stream",
     "text": [
      "\u001b[32m[I 2022-05-24 01:04:46,356]\u001b[0m Trial 43 finished with value: 0.7777777910232544 and parameters: {'n_layers': 4, 'n_units': 150, 'dropout': 0.1, 'optimizer': 'RMSprop'}. Best is trial 27 with value: 0.8888888955116272.\u001b[0m\n"
     ]
    },
    {
     "name": "stdout",
     "output_type": "stream",
     "text": [
      "1/1 [==============================] - 0s 31ms/step - loss: 0.6065 - accuracy: 0.8333\n"
     ]
    },
    {
     "name": "stderr",
     "output_type": "stream",
     "text": [
      "\u001b[32m[I 2022-05-24 01:04:47,974]\u001b[0m Trial 44 finished with value: 0.8333333134651184 and parameters: {'n_layers': 3, 'n_units': 150, 'dropout': 0.2, 'optimizer': 'RMSprop'}. Best is trial 27 with value: 0.8888888955116272.\u001b[0m\n"
     ]
    },
    {
     "name": "stdout",
     "output_type": "stream",
     "text": [
      "1/1 [==============================] - 0s 16ms/step - loss: 0.5074 - accuracy: 0.7778\n"
     ]
    },
    {
     "name": "stderr",
     "output_type": "stream",
     "text": [
      "\u001b[32m[I 2022-05-24 01:04:49,196]\u001b[0m Trial 45 finished with value: 0.7777777910232544 and parameters: {'n_layers': 4, 'n_units': 100, 'dropout': 0.2, 'optimizer': 'RMSprop'}. Best is trial 27 with value: 0.8888888955116272.\u001b[0m\n"
     ]
    },
    {
     "name": "stdout",
     "output_type": "stream",
     "text": [
      "1/1 [==============================] - 0s 16ms/step - loss: 0.5807 - accuracy: 0.7778\n"
     ]
    },
    {
     "name": "stderr",
     "output_type": "stream",
     "text": [
      "\u001b[32m[I 2022-05-24 01:04:50,367]\u001b[0m Trial 46 finished with value: 0.7777777910232544 and parameters: {'n_layers': 3, 'n_units': 200, 'dropout': 0.2, 'optimizer': 'RMSprop'}. Best is trial 27 with value: 0.8888888955116272.\u001b[0m\n"
     ]
    },
    {
     "name": "stdout",
     "output_type": "stream",
     "text": [
      "1/1 [==============================] - 0s 16ms/step - loss: 1.2049 - accuracy: 0.8333\n"
     ]
    },
    {
     "name": "stderr",
     "output_type": "stream",
     "text": [
      "\u001b[32m[I 2022-05-24 01:04:51,364]\u001b[0m Trial 47 finished with value: 0.8333333134651184 and parameters: {'n_layers': 5, 'n_units': 200, 'dropout': 0.0, 'optimizer': 'Adam'}. Best is trial 27 with value: 0.8888888955116272.\u001b[0m\n"
     ]
    },
    {
     "name": "stdout",
     "output_type": "stream",
     "text": [
      "1/1 [==============================] - 0s 31ms/step - loss: 0.6918 - accuracy: 0.4444\n"
     ]
    },
    {
     "name": "stderr",
     "output_type": "stream",
     "text": [
      "\u001b[32m[I 2022-05-24 01:04:52,361]\u001b[0m Trial 48 finished with value: 0.4444444477558136 and parameters: {'n_layers': 5, 'n_units': 250, 'dropout': 0.0, 'optimizer': 'SGD'}. Best is trial 27 with value: 0.8888888955116272.\u001b[0m\n"
     ]
    },
    {
     "name": "stdout",
     "output_type": "stream",
     "text": [
      "1/1 [==============================] - 0s 16ms/step - loss: 0.6493 - accuracy: 0.7222\n"
     ]
    },
    {
     "name": "stderr",
     "output_type": "stream",
     "text": [
      "\u001b[32m[I 2022-05-24 01:04:54,114]\u001b[0m Trial 49 finished with value: 0.7222222089767456 and parameters: {'n_layers': 5, 'n_units': 200, 'dropout': 0.30000000000000004, 'optimizer': 'RMSprop'}. Best is trial 27 with value: 0.8888888955116272.\u001b[0m\n"
     ]
    },
    {
     "name": "stdout",
     "output_type": "stream",
     "text": [
      "1/1 [==============================] - 0s 16ms/step - loss: 1.8507 - accuracy: 0.7778\n"
     ]
    },
    {
     "name": "stderr",
     "output_type": "stream",
     "text": [
      "\u001b[32m[I 2022-05-24 01:04:55,129]\u001b[0m Trial 50 finished with value: 0.7777777910232544 and parameters: {'n_layers': 5, 'n_units': 200, 'dropout': 0.0, 'optimizer': 'Adam'}. Best is trial 27 with value: 0.8888888955116272.\u001b[0m\n"
     ]
    },
    {
     "name": "stdout",
     "output_type": "stream",
     "text": [
      "1/1 [==============================] - 0s 31ms/step - loss: 0.5710 - accuracy: 0.6667\n"
     ]
    },
    {
     "name": "stderr",
     "output_type": "stream",
     "text": [
      "\u001b[32m[I 2022-05-24 01:04:56,294]\u001b[0m Trial 51 finished with value: 0.6666666865348816 and parameters: {'n_layers': 5, 'n_units': 150, 'dropout': 0.2, 'optimizer': 'Adam'}. Best is trial 27 with value: 0.8888888955116272.\u001b[0m\n"
     ]
    },
    {
     "name": "stdout",
     "output_type": "stream",
     "text": [
      "1/1 [==============================] - 0s 16ms/step - loss: 0.8078 - accuracy: 0.7222\n"
     ]
    },
    {
     "name": "stderr",
     "output_type": "stream",
     "text": [
      "\u001b[32m[I 2022-05-24 01:04:57,329]\u001b[0m Trial 52 finished with value: 0.7222222089767456 and parameters: {'n_layers': 3, 'n_units': 200, 'dropout': 0.1, 'optimizer': 'RMSprop'}. Best is trial 27 with value: 0.8888888955116272.\u001b[0m\n"
     ]
    },
    {
     "name": "stdout",
     "output_type": "stream",
     "text": [
      "1/1 [==============================] - 0s 31ms/step - loss: 0.6058 - accuracy: 0.6667\n"
     ]
    },
    {
     "name": "stderr",
     "output_type": "stream",
     "text": [
      "\u001b[32m[I 2022-05-24 01:04:58,316]\u001b[0m Trial 53 finished with value: 0.6666666865348816 and parameters: {'n_layers': 2, 'n_units': 150, 'dropout': 0.2, 'optimizer': 'Adam'}. Best is trial 27 with value: 0.8888888955116272.\u001b[0m\n"
     ]
    },
    {
     "name": "stdout",
     "output_type": "stream",
     "text": [
      "1/1 [==============================] - 0s 16ms/step - loss: 0.5975 - accuracy: 0.6667\n"
     ]
    },
    {
     "name": "stderr",
     "output_type": "stream",
     "text": [
      "\u001b[32m[I 2022-05-24 01:04:59,608]\u001b[0m Trial 54 finished with value: 0.6666666865348816 and parameters: {'n_layers': 4, 'n_units': 150, 'dropout': 0.1, 'optimizer': 'Adam'}. Best is trial 27 with value: 0.8888888955116272.\u001b[0m\n"
     ]
    },
    {
     "name": "stdout",
     "output_type": "stream",
     "text": [
      "1/1 [==============================] - 0s 16ms/step - loss: 0.9544 - accuracy: 0.7778\n"
     ]
    },
    {
     "name": "stderr",
     "output_type": "stream",
     "text": [
      "\u001b[32m[I 2022-05-24 01:05:00,868]\u001b[0m Trial 55 finished with value: 0.7777777910232544 and parameters: {'n_layers': 5, 'n_units': 150, 'dropout': 0.0, 'optimizer': 'Adam'}. Best is trial 27 with value: 0.8888888955116272.\u001b[0m\n"
     ]
    },
    {
     "name": "stdout",
     "output_type": "stream",
     "text": [
      "1/1 [==============================] - 0s 16ms/step - loss: 0.6493 - accuracy: 0.7778\n"
     ]
    },
    {
     "name": "stderr",
     "output_type": "stream",
     "text": [
      "\u001b[32m[I 2022-05-24 01:05:02,024]\u001b[0m Trial 56 finished with value: 0.7777777910232544 and parameters: {'n_layers': 3, 'n_units': 150, 'dropout': 0.1, 'optimizer': 'RMSprop'}. Best is trial 27 with value: 0.8888888955116272.\u001b[0m\n"
     ]
    },
    {
     "name": "stdout",
     "output_type": "stream",
     "text": [
      "1/1 [==============================] - 0s 31ms/step - loss: 1.1263 - accuracy: 0.7778\n"
     ]
    },
    {
     "name": "stderr",
     "output_type": "stream",
     "text": [
      "\u001b[32m[I 2022-05-24 01:05:03,030]\u001b[0m Trial 57 finished with value: 0.7777777910232544 and parameters: {'n_layers': 4, 'n_units': 250, 'dropout': 0.0, 'optimizer': 'Adam'}. Best is trial 27 with value: 0.8888888955116272.\u001b[0m\n"
     ]
    },
    {
     "name": "stdout",
     "output_type": "stream",
     "text": [
      "1/1 [==============================] - 0s 31ms/step - loss: 0.5960 - accuracy: 0.6667\n"
     ]
    },
    {
     "name": "stderr",
     "output_type": "stream",
     "text": [
      "\u001b[32m[I 2022-05-24 01:05:04,226]\u001b[0m Trial 58 finished with value: 0.6666666865348816 and parameters: {'n_layers': 2, 'n_units': 150, 'dropout': 0.2, 'optimizer': 'RMSprop'}. Best is trial 27 with value: 0.8888888955116272.\u001b[0m\n"
     ]
    },
    {
     "name": "stdout",
     "output_type": "stream",
     "text": [
      "1/1 [==============================] - 0s 16ms/step - loss: 0.5750 - accuracy: 0.7222\n"
     ]
    },
    {
     "name": "stderr",
     "output_type": "stream",
     "text": [
      "\u001b[32m[I 2022-05-24 01:05:05,971]\u001b[0m Trial 59 finished with value: 0.7222222089767456 and parameters: {'n_layers': 3, 'n_units': 150, 'dropout': 0.1, 'optimizer': 'RMSprop'}. Best is trial 27 with value: 0.8888888955116272.\u001b[0m\n"
     ]
    },
    {
     "name": "stdout",
     "output_type": "stream",
     "text": [
      "1/1 [==============================] - 0s 16ms/step - loss: 0.5180 - accuracy: 0.7778\n"
     ]
    },
    {
     "name": "stderr",
     "output_type": "stream",
     "text": [
      "\u001b[32m[I 2022-05-24 01:05:07,081]\u001b[0m Trial 60 finished with value: 0.7777777910232544 and parameters: {'n_layers': 4, 'n_units': 200, 'dropout': 0.4, 'optimizer': 'Adam'}. Best is trial 27 with value: 0.8888888955116272.\u001b[0m\n"
     ]
    },
    {
     "name": "stdout",
     "output_type": "stream",
     "text": [
      "1/1 [==============================] - 0s 16ms/step - loss: 0.5398 - accuracy: 0.7222\n"
     ]
    },
    {
     "name": "stderr",
     "output_type": "stream",
     "text": [
      "\u001b[32m[I 2022-05-24 01:05:08,129]\u001b[0m Trial 61 finished with value: 0.7222222089767456 and parameters: {'n_layers': 3, 'n_units': 150, 'dropout': 0.1, 'optimizer': 'RMSprop'}. Best is trial 27 with value: 0.8888888955116272.\u001b[0m\n"
     ]
    },
    {
     "name": "stdout",
     "output_type": "stream",
     "text": [
      "1/1 [==============================] - 0s 31ms/step - loss: 0.5999 - accuracy: 0.7778\n"
     ]
    },
    {
     "name": "stderr",
     "output_type": "stream",
     "text": [
      "\u001b[32m[I 2022-05-24 01:05:09,594]\u001b[0m Trial 62 finished with value: 0.7777777910232544 and parameters: {'n_layers': 3, 'n_units': 150, 'dropout': 0.1, 'optimizer': 'RMSprop'}. Best is trial 27 with value: 0.8888888955116272.\u001b[0m\n"
     ]
    },
    {
     "name": "stdout",
     "output_type": "stream",
     "text": [
      "1/1 [==============================] - 0s 16ms/step - loss: 0.6349 - accuracy: 0.7778\n"
     ]
    },
    {
     "name": "stderr",
     "output_type": "stream",
     "text": [
      "\u001b[32m[I 2022-05-24 01:05:10,878]\u001b[0m Trial 63 finished with value: 0.7777777910232544 and parameters: {'n_layers': 3, 'n_units': 150, 'dropout': 0.1, 'optimizer': 'RMSprop'}. Best is trial 27 with value: 0.8888888955116272.\u001b[0m\n"
     ]
    },
    {
     "name": "stdout",
     "output_type": "stream",
     "text": [
      "1/1 [==============================] - 0s 31ms/step - loss: 0.6214 - accuracy: 0.6667\n"
     ]
    },
    {
     "name": "stderr",
     "output_type": "stream",
     "text": [
      "\u001b[32m[I 2022-05-24 01:05:11,939]\u001b[0m Trial 64 finished with value: 0.6666666865348816 and parameters: {'n_layers': 3, 'n_units': 200, 'dropout': 0.2, 'optimizer': 'RMSprop'}. Best is trial 27 with value: 0.8888888955116272.\u001b[0m\n"
     ]
    },
    {
     "name": "stdout",
     "output_type": "stream",
     "text": [
      "1/1 [==============================] - 0s 16ms/step - loss: 2.2421 - accuracy: 0.7222\n"
     ]
    },
    {
     "name": "stderr",
     "output_type": "stream",
     "text": [
      "\u001b[32m[I 2022-05-24 01:05:13,184]\u001b[0m Trial 65 finished with value: 0.7222222089767456 and parameters: {'n_layers': 5, 'n_units': 200, 'dropout': 0.0, 'optimizer': 'Adam'}. Best is trial 27 with value: 0.8888888955116272.\u001b[0m\n"
     ]
    },
    {
     "name": "stdout",
     "output_type": "stream",
     "text": [
      "1/1 [==============================] - 0s 16ms/step - loss: 0.8356 - accuracy: 0.7222\n"
     ]
    },
    {
     "name": "stderr",
     "output_type": "stream",
     "text": [
      "\u001b[32m[I 2022-05-24 01:05:14,387]\u001b[0m Trial 66 finished with value: 0.7222222089767456 and parameters: {'n_layers': 3, 'n_units': 200, 'dropout': 0.1, 'optimizer': 'RMSprop'}. Best is trial 27 with value: 0.8888888955116272.\u001b[0m\n"
     ]
    },
    {
     "name": "stdout",
     "output_type": "stream",
     "text": [
      "1/1 [==============================] - 0s 16ms/step - loss: 0.6782 - accuracy: 0.6667\n"
     ]
    },
    {
     "name": "stderr",
     "output_type": "stream",
     "text": [
      "\u001b[32m[I 2022-05-24 01:05:15,256]\u001b[0m Trial 67 finished with value: 0.6666666865348816 and parameters: {'n_layers': 3, 'n_units': 250, 'dropout': 0.1, 'optimizer': 'Adam'}. Best is trial 27 with value: 0.8888888955116272.\u001b[0m\n"
     ]
    },
    {
     "name": "stdout",
     "output_type": "stream",
     "text": [
      "1/1 [==============================] - 0s 16ms/step - loss: 0.6883 - accuracy: 0.4444\n"
     ]
    },
    {
     "name": "stderr",
     "output_type": "stream",
     "text": [
      "\u001b[32m[I 2022-05-24 01:05:16,067]\u001b[0m Trial 68 finished with value: 0.4444444477558136 and parameters: {'n_layers': 4, 'n_units': 100, 'dropout': 0.0, 'optimizer': 'SGD'}. Best is trial 27 with value: 0.8888888955116272.\u001b[0m\n"
     ]
    },
    {
     "name": "stdout",
     "output_type": "stream",
     "text": [
      "1/1 [==============================] - 0s 31ms/step - loss: 0.6020 - accuracy: 0.7222\n"
     ]
    },
    {
     "name": "stderr",
     "output_type": "stream",
     "text": [
      "\u001b[32m[I 2022-05-24 01:05:16,971]\u001b[0m Trial 69 finished with value: 0.7222222089767456 and parameters: {'n_layers': 2, 'n_units': 200, 'dropout': 0.30000000000000004, 'optimizer': 'RMSprop'}. Best is trial 27 with value: 0.8888888955116272.\u001b[0m\n"
     ]
    },
    {
     "name": "stdout",
     "output_type": "stream",
     "text": [
      "1/1 [==============================] - 0s 16ms/step - loss: 0.6972 - accuracy: 0.7222\n"
     ]
    },
    {
     "name": "stderr",
     "output_type": "stream",
     "text": [
      "\u001b[32m[I 2022-05-24 01:05:18,476]\u001b[0m Trial 70 finished with value: 0.7222222089767456 and parameters: {'n_layers': 5, 'n_units': 200, 'dropout': 0.2, 'optimizer': 'RMSprop'}. Best is trial 27 with value: 0.8888888955116272.\u001b[0m\n"
     ]
    },
    {
     "name": "stdout",
     "output_type": "stream",
     "text": [
      "1/1 [==============================] - 0s 31ms/step - loss: 0.4519 - accuracy: 0.8333\n"
     ]
    },
    {
     "name": "stderr",
     "output_type": "stream",
     "text": [
      "\u001b[32m[I 2022-05-24 01:05:20,012]\u001b[0m Trial 71 finished with value: 0.8333333134651184 and parameters: {'n_layers': 3, 'n_units': 150, 'dropout': 0.1, 'optimizer': 'RMSprop'}. Best is trial 27 with value: 0.8888888955116272.\u001b[0m\n"
     ]
    },
    {
     "name": "stdout",
     "output_type": "stream",
     "text": [
      "1/1 [==============================] - 0s 16ms/step - loss: 0.4645 - accuracy: 0.8333\n"
     ]
    },
    {
     "name": "stderr",
     "output_type": "stream",
     "text": [
      "\u001b[32m[I 2022-05-24 01:05:21,361]\u001b[0m Trial 72 finished with value: 0.8333333134651184 and parameters: {'n_layers': 3, 'n_units': 150, 'dropout': 0.1, 'optimizer': 'RMSprop'}. Best is trial 27 with value: 0.8888888955116272.\u001b[0m\n"
     ]
    },
    {
     "name": "stdout",
     "output_type": "stream",
     "text": [
      "1/1 [==============================] - 0s 16ms/step - loss: 0.5929 - accuracy: 0.7778\n"
     ]
    },
    {
     "name": "stderr",
     "output_type": "stream",
     "text": [
      "\u001b[32m[I 2022-05-24 01:05:22,495]\u001b[0m Trial 73 finished with value: 0.7777777910232544 and parameters: {'n_layers': 3, 'n_units': 150, 'dropout': 0.1, 'optimizer': 'RMSprop'}. Best is trial 27 with value: 0.8888888955116272.\u001b[0m\n"
     ]
    },
    {
     "name": "stdout",
     "output_type": "stream",
     "text": [
      "1/1 [==============================] - 0s 16ms/step - loss: 0.5702 - accuracy: 0.7778\n"
     ]
    },
    {
     "name": "stderr",
     "output_type": "stream",
     "text": [
      "\u001b[32m[I 2022-05-24 01:05:23,432]\u001b[0m Trial 74 finished with value: 0.7777777910232544 and parameters: {'n_layers': 3, 'n_units': 150, 'dropout': 0.0, 'optimizer': 'RMSprop'}. Best is trial 27 with value: 0.8888888955116272.\u001b[0m\n"
     ]
    },
    {
     "name": "stdout",
     "output_type": "stream",
     "text": [
      "1/1 [==============================] - 0s 32ms/step - loss: 0.6168 - accuracy: 0.7222\n"
     ]
    },
    {
     "name": "stderr",
     "output_type": "stream",
     "text": [
      "\u001b[32m[I 2022-05-24 01:05:24,880]\u001b[0m Trial 75 finished with value: 0.7222222089767456 and parameters: {'n_layers': 3, 'n_units': 150, 'dropout': 0.2, 'optimizer': 'RMSprop'}. Best is trial 27 with value: 0.8888888955116272.\u001b[0m\n"
     ]
    },
    {
     "name": "stdout",
     "output_type": "stream",
     "text": [
      "1/1 [==============================] - 0s 20ms/step - loss: 0.5458 - accuracy: 0.8333\n"
     ]
    },
    {
     "name": "stderr",
     "output_type": "stream",
     "text": [
      "\u001b[32m[I 2022-05-24 01:05:26,176]\u001b[0m Trial 76 finished with value: 0.8333333134651184 and parameters: {'n_layers': 3, 'n_units': 150, 'dropout': 0.1, 'optimizer': 'RMSprop'}. Best is trial 27 with value: 0.8888888955116272.\u001b[0m\n"
     ]
    },
    {
     "name": "stdout",
     "output_type": "stream",
     "text": [
      "1/1 [==============================] - 0s 31ms/step - loss: 0.4287 - accuracy: 0.8889\n"
     ]
    },
    {
     "name": "stderr",
     "output_type": "stream",
     "text": [
      "\u001b[32m[I 2022-05-24 01:05:28,561]\u001b[0m Trial 77 finished with value: 0.8888888955116272 and parameters: {'n_layers': 4, 'n_units': 150, 'dropout': 0.1, 'optimizer': 'Adam'}. Best is trial 27 with value: 0.8888888955116272.\u001b[0m\n"
     ]
    },
    {
     "name": "stdout",
     "output_type": "stream",
     "text": [
      "1/1 [==============================] - 0s 19ms/step - loss: 0.6477 - accuracy: 0.7222\n"
     ]
    },
    {
     "name": "stderr",
     "output_type": "stream",
     "text": [
      "\u001b[32m[I 2022-05-24 01:05:29,581]\u001b[0m Trial 78 finished with value: 0.7222222089767456 and parameters: {'n_layers': 4, 'n_units': 150, 'dropout': 0.1, 'optimizer': 'Adam'}. Best is trial 27 with value: 0.8888888955116272.\u001b[0m\n"
     ]
    },
    {
     "name": "stdout",
     "output_type": "stream",
     "text": [
      "1/1 [==============================] - 0s 16ms/step - loss: 0.7084 - accuracy: 0.3889\n"
     ]
    },
    {
     "name": "stderr",
     "output_type": "stream",
     "text": [
      "\u001b[32m[I 2022-05-24 01:05:30,495]\u001b[0m Trial 79 finished with value: 0.3888888955116272 and parameters: {'n_layers': 4, 'n_units': 100, 'dropout': 0.2, 'optimizer': 'SGD'}. Best is trial 27 with value: 0.8888888955116272.\u001b[0m\n"
     ]
    },
    {
     "name": "stdout",
     "output_type": "stream",
     "text": [
      "1/1 [==============================] - 0s 23ms/step - loss: 0.9041 - accuracy: 0.7778\n"
     ]
    },
    {
     "name": "stderr",
     "output_type": "stream",
     "text": [
      "\u001b[32m[I 2022-05-24 01:05:31,628]\u001b[0m Trial 80 finished with value: 0.7777777910232544 and parameters: {'n_layers': 4, 'n_units': 150, 'dropout': 0.1, 'optimizer': 'Adam'}. Best is trial 27 with value: 0.8888888955116272.\u001b[0m\n"
     ]
    },
    {
     "name": "stdout",
     "output_type": "stream",
     "text": [
      "1/1 [==============================] - 0s 19ms/step - loss: 0.4500 - accuracy: 0.8889\n"
     ]
    },
    {
     "name": "stderr",
     "output_type": "stream",
     "text": [
      "\u001b[32m[I 2022-05-24 01:05:32,801]\u001b[0m Trial 81 finished with value: 0.8888888955116272 and parameters: {'n_layers': 4, 'n_units': 150, 'dropout': 0.1, 'optimizer': 'Adam'}. Best is trial 27 with value: 0.8888888955116272.\u001b[0m\n"
     ]
    },
    {
     "name": "stdout",
     "output_type": "stream",
     "text": [
      "1/1 [==============================] - 0s 31ms/step - loss: 0.6426 - accuracy: 0.8333\n"
     ]
    },
    {
     "name": "stderr",
     "output_type": "stream",
     "text": [
      "\u001b[32m[I 2022-05-24 01:05:34,398]\u001b[0m Trial 82 finished with value: 0.8333333134651184 and parameters: {'n_layers': 4, 'n_units': 150, 'dropout': 0.2, 'optimizer': 'Adam'}. Best is trial 27 with value: 0.8888888955116272.\u001b[0m\n"
     ]
    },
    {
     "name": "stdout",
     "output_type": "stream",
     "text": [
      "1/1 [==============================] - 0s 16ms/step - loss: 0.4873 - accuracy: 0.7778\n"
     ]
    },
    {
     "name": "stderr",
     "output_type": "stream",
     "text": [
      "\u001b[32m[I 2022-05-24 01:05:35,605]\u001b[0m Trial 83 finished with value: 0.7777777910232544 and parameters: {'n_layers': 3, 'n_units': 150, 'dropout': 0.1, 'optimizer': 'Adam'}. Best is trial 27 with value: 0.8888888955116272.\u001b[0m\n"
     ]
    },
    {
     "name": "stdout",
     "output_type": "stream",
     "text": [
      "1/1 [==============================] - 0s 31ms/step - loss: 0.5766 - accuracy: 0.7222\n"
     ]
    },
    {
     "name": "stderr",
     "output_type": "stream",
     "text": [
      "\u001b[32m[I 2022-05-24 01:05:36,952]\u001b[0m Trial 84 finished with value: 0.7222222089767456 and parameters: {'n_layers': 4, 'n_units': 150, 'dropout': 0.2, 'optimizer': 'Adam'}. Best is trial 27 with value: 0.8888888955116272.\u001b[0m\n"
     ]
    },
    {
     "name": "stdout",
     "output_type": "stream",
     "text": [
      "1/1 [==============================] - 0s 16ms/step - loss: 0.6491 - accuracy: 0.4444\n"
     ]
    },
    {
     "name": "stderr",
     "output_type": "stream",
     "text": [
      "\u001b[32m[I 2022-05-24 01:05:38,125]\u001b[0m Trial 85 finished with value: 0.4444444477558136 and parameters: {'n_layers': 4, 'n_units': 150, 'dropout': 0.2, 'optimizer': 'Adam'}. Best is trial 27 with value: 0.8888888955116272.\u001b[0m\n"
     ]
    },
    {
     "name": "stdout",
     "output_type": "stream",
     "text": [
      "1/1 [==============================] - 0s 31ms/step - loss: 0.6081 - accuracy: 0.6667\n"
     ]
    },
    {
     "name": "stderr",
     "output_type": "stream",
     "text": [
      "\u001b[32m[I 2022-05-24 01:05:39,001]\u001b[0m Trial 86 finished with value: 0.6666666865348816 and parameters: {'n_layers': 4, 'n_units': 100, 'dropout': 0.2, 'optimizer': 'Adam'}. Best is trial 27 with value: 0.8888888955116272.\u001b[0m\n"
     ]
    },
    {
     "name": "stdout",
     "output_type": "stream",
     "text": [
      "1/1 [==============================] - 0s 40ms/step - loss: 0.6752 - accuracy: 0.7778\n"
     ]
    },
    {
     "name": "stderr",
     "output_type": "stream",
     "text": [
      "\u001b[32m[I 2022-05-24 01:05:40,487]\u001b[0m Trial 87 finished with value: 0.7777777910232544 and parameters: {'n_layers': 5, 'n_units': 150, 'dropout': 0.1, 'optimizer': 'Adam'}. Best is trial 27 with value: 0.8888888955116272.\u001b[0m\n"
     ]
    },
    {
     "name": "stdout",
     "output_type": "stream",
     "text": [
      "1/1 [==============================] - 0s 31ms/step - loss: 0.7313 - accuracy: 0.7778\n"
     ]
    },
    {
     "name": "stderr",
     "output_type": "stream",
     "text": [
      "\u001b[32m[I 2022-05-24 01:05:41,480]\u001b[0m Trial 88 finished with value: 0.7777777910232544 and parameters: {'n_layers': 4, 'n_units': 150, 'dropout': 0.0, 'optimizer': 'Adam'}. Best is trial 27 with value: 0.8888888955116272.\u001b[0m\n"
     ]
    },
    {
     "name": "stdout",
     "output_type": "stream",
     "text": [
      "1/1 [==============================] - 0s 20ms/step - loss: 0.7119 - accuracy: 0.4444\n"
     ]
    },
    {
     "name": "stderr",
     "output_type": "stream",
     "text": [
      "\u001b[32m[I 2022-05-24 01:05:42,554]\u001b[0m Trial 89 finished with value: 0.4444444477558136 and parameters: {'n_layers': 5, 'n_units': 200, 'dropout': 0.5, 'optimizer': 'Adam'}. Best is trial 27 with value: 0.8888888955116272.\u001b[0m\n"
     ]
    },
    {
     "name": "stdout",
     "output_type": "stream",
     "text": [
      "1/1 [==============================] - 0s 31ms/step - loss: 0.5054 - accuracy: 0.7778\n"
     ]
    },
    {
     "name": "stderr",
     "output_type": "stream",
     "text": [
      "\u001b[32m[I 2022-05-24 01:05:43,647]\u001b[0m Trial 90 finished with value: 0.7777777910232544 and parameters: {'n_layers': 4, 'n_units': 150, 'dropout': 0.1, 'optimizer': 'Adam'}. Best is trial 27 with value: 0.8888888955116272.\u001b[0m\n"
     ]
    },
    {
     "name": "stdout",
     "output_type": "stream",
     "text": [
      "1/1 [==============================] - 0s 31ms/step - loss: 0.6394 - accuracy: 0.6667\n"
     ]
    },
    {
     "name": "stderr",
     "output_type": "stream",
     "text": [
      "\u001b[32m[I 2022-05-24 01:05:44,987]\u001b[0m Trial 91 finished with value: 0.6666666865348816 and parameters: {'n_layers': 3, 'n_units': 200, 'dropout': 0.1, 'optimizer': 'RMSprop'}. Best is trial 27 with value: 0.8888888955116272.\u001b[0m\n"
     ]
    },
    {
     "name": "stdout",
     "output_type": "stream",
     "text": [
      "1/1 [==============================] - 0s 16ms/step - loss: 0.7684 - accuracy: 0.6667\n"
     ]
    },
    {
     "name": "stderr",
     "output_type": "stream",
     "text": [
      "\u001b[32m[I 2022-05-24 01:05:46,179]\u001b[0m Trial 92 finished with value: 0.6666666865348816 and parameters: {'n_layers': 3, 'n_units': 150, 'dropout': 0.1, 'optimizer': 'RMSprop'}. Best is trial 27 with value: 0.8888888955116272.\u001b[0m\n"
     ]
    },
    {
     "name": "stdout",
     "output_type": "stream",
     "text": [
      "1/1 [==============================] - 0s 16ms/step - loss: 0.5235 - accuracy: 0.7778\n"
     ]
    },
    {
     "name": "stderr",
     "output_type": "stream",
     "text": [
      "\u001b[32m[I 2022-05-24 01:05:47,255]\u001b[0m Trial 93 finished with value: 0.7777777910232544 and parameters: {'n_layers': 3, 'n_units': 150, 'dropout': 0.1, 'optimizer': 'RMSprop'}. Best is trial 27 with value: 0.8888888955116272.\u001b[0m\n"
     ]
    },
    {
     "name": "stdout",
     "output_type": "stream",
     "text": [
      "1/1 [==============================] - 0s 36ms/step - loss: 0.6549 - accuracy: 0.5000\n"
     ]
    },
    {
     "name": "stderr",
     "output_type": "stream",
     "text": [
      "\u001b[32m[I 2022-05-24 01:05:48,569]\u001b[0m Trial 94 finished with value: 0.5 and parameters: {'n_layers': 4, 'n_units': 150, 'dropout': 0.30000000000000004, 'optimizer': 'Adam'}. Best is trial 27 with value: 0.8888888955116272.\u001b[0m\n"
     ]
    },
    {
     "name": "stdout",
     "output_type": "stream",
     "text": [
      "1/1 [==============================] - 0s 31ms/step - loss: 0.5365 - accuracy: 0.7778\n"
     ]
    },
    {
     "name": "stderr",
     "output_type": "stream",
     "text": [
      "\u001b[32m[I 2022-05-24 01:05:50,458]\u001b[0m Trial 95 finished with value: 0.7777777910232544 and parameters: {'n_layers': 3, 'n_units': 150, 'dropout': 0.1, 'optimizer': 'RMSprop'}. Best is trial 27 with value: 0.8888888955116272.\u001b[0m\n"
     ]
    },
    {
     "name": "stdout",
     "output_type": "stream",
     "text": [
      "1/1 [==============================] - 0s 31ms/step - loss: 0.5952 - accuracy: 0.7778\n"
     ]
    },
    {
     "name": "stderr",
     "output_type": "stream",
     "text": [
      "\u001b[32m[I 2022-05-24 01:05:51,744]\u001b[0m Trial 96 finished with value: 0.7777777910232544 and parameters: {'n_layers': 3, 'n_units': 200, 'dropout': 0.1, 'optimizer': 'RMSprop'}. Best is trial 27 with value: 0.8888888955116272.\u001b[0m\n"
     ]
    },
    {
     "name": "stdout",
     "output_type": "stream",
     "text": [
      "1/1 [==============================] - 0s 21ms/step - loss: 0.5933 - accuracy: 0.6667\n"
     ]
    },
    {
     "name": "stderr",
     "output_type": "stream",
     "text": [
      "\u001b[32m[I 2022-05-24 01:05:52,971]\u001b[0m Trial 97 finished with value: 0.6666666865348816 and parameters: {'n_layers': 4, 'n_units': 150, 'dropout': 0.2, 'optimizer': 'Adam'}. Best is trial 27 with value: 0.8888888955116272.\u001b[0m\n"
     ]
    },
    {
     "name": "stdout",
     "output_type": "stream",
     "text": [
      "1/1 [==============================] - 0s 16ms/step - loss: 0.6281 - accuracy: 0.8333\n"
     ]
    },
    {
     "name": "stderr",
     "output_type": "stream",
     "text": [
      "\u001b[32m[I 2022-05-24 01:05:54,132]\u001b[0m Trial 98 finished with value: 0.8333333134651184 and parameters: {'n_layers': 4, 'n_units': 150, 'dropout': 0.2, 'optimizer': 'Adam'}. Best is trial 27 with value: 0.8888888955116272.\u001b[0m\n"
     ]
    },
    {
     "name": "stdout",
     "output_type": "stream",
     "text": [
      "1/1 [==============================] - 0s 15ms/step - loss: 0.6142 - accuracy: 0.8333\n"
     ]
    },
    {
     "name": "stderr",
     "output_type": "stream",
     "text": [
      "\u001b[32m[I 2022-05-24 01:05:55,356]\u001b[0m Trial 99 finished with value: 0.8333333134651184 and parameters: {'n_layers': 3, 'n_units': 150, 'dropout': 0.1, 'optimizer': 'RMSprop'}. Best is trial 27 with value: 0.8888888955116272.\u001b[0m\n"
     ]
    },
    {
     "name": "stdout",
     "output_type": "stream",
     "text": [
      "1/1 [==============================] - 0s 31ms/step - loss: 0.6183 - accuracy: 0.7222\n"
     ]
    },
    {
     "name": "stderr",
     "output_type": "stream",
     "text": [
      "\u001b[32m[I 2022-05-24 01:05:57,047]\u001b[0m Trial 100 finished with value: 0.7222222089767456 and parameters: {'n_layers': 3, 'n_units': 150, 'dropout': 0.1, 'optimizer': 'RMSprop'}. Best is trial 27 with value: 0.8888888955116272.\u001b[0m\n"
     ]
    },
    {
     "name": "stdout",
     "output_type": "stream",
     "text": [
      "1/1 [==============================] - 0s 16ms/step - loss: 0.5031 - accuracy: 0.7778\n"
     ]
    },
    {
     "name": "stderr",
     "output_type": "stream",
     "text": [
      "\u001b[32m[I 2022-05-24 01:05:58,212]\u001b[0m Trial 101 finished with value: 0.7777777910232544 and parameters: {'n_layers': 4, 'n_units': 150, 'dropout': 0.1, 'optimizer': 'RMSprop'}. Best is trial 27 with value: 0.8888888955116272.\u001b[0m\n"
     ]
    },
    {
     "name": "stdout",
     "output_type": "stream",
     "text": [
      "1/1 [==============================] - 0s 16ms/step - loss: 0.5542 - accuracy: 0.7222\n"
     ]
    },
    {
     "name": "stderr",
     "output_type": "stream",
     "text": [
      "\u001b[32m[I 2022-05-24 01:05:59,318]\u001b[0m Trial 102 finished with value: 0.7222222089767456 and parameters: {'n_layers': 3, 'n_units': 150, 'dropout': 0.1, 'optimizer': 'RMSprop'}. Best is trial 27 with value: 0.8888888955116272.\u001b[0m\n"
     ]
    },
    {
     "name": "stdout",
     "output_type": "stream",
     "text": [
      "1/1 [==============================] - 0s 16ms/step - loss: 0.4836 - accuracy: 0.8333\n"
     ]
    },
    {
     "name": "stderr",
     "output_type": "stream",
     "text": [
      "\u001b[32m[I 2022-05-24 01:06:00,432]\u001b[0m Trial 103 finished with value: 0.8333333134651184 and parameters: {'n_layers': 4, 'n_units': 200, 'dropout': 0.2, 'optimizer': 'Adam'}. Best is trial 27 with value: 0.8888888955116272.\u001b[0m\n"
     ]
    },
    {
     "name": "stdout",
     "output_type": "stream",
     "text": [
      "1/1 [==============================] - 0s 22ms/step - loss: 0.5892 - accuracy: 0.7778\n"
     ]
    },
    {
     "name": "stderr",
     "output_type": "stream",
     "text": [
      "\u001b[32m[I 2022-05-24 01:06:01,305]\u001b[0m Trial 104 finished with value: 0.7777777910232544 and parameters: {'n_layers': 4, 'n_units': 150, 'dropout': 0.0, 'optimizer': 'Adam'}. Best is trial 27 with value: 0.8888888955116272.\u001b[0m\n"
     ]
    },
    {
     "name": "stdout",
     "output_type": "stream",
     "text": [
      "1/1 [==============================] - 0s 31ms/step - loss: 0.5375 - accuracy: 0.8333\n"
     ]
    },
    {
     "name": "stderr",
     "output_type": "stream",
     "text": [
      "\u001b[32m[I 2022-05-24 01:06:02,803]\u001b[0m Trial 105 finished with value: 0.8333333134651184 and parameters: {'n_layers': 3, 'n_units': 150, 'dropout': 0.1, 'optimizer': 'RMSprop'}. Best is trial 27 with value: 0.8888888955116272.\u001b[0m\n"
     ]
    },
    {
     "name": "stdout",
     "output_type": "stream",
     "text": [
      "1/1 [==============================] - 0s 31ms/step - loss: 0.5978 - accuracy: 0.7222\n"
     ]
    },
    {
     "name": "stderr",
     "output_type": "stream",
     "text": [
      "\u001b[32m[I 2022-05-24 01:06:04,172]\u001b[0m Trial 106 finished with value: 0.7222222089767456 and parameters: {'n_layers': 3, 'n_units': 150, 'dropout': 0.1, 'optimizer': 'RMSprop'}. Best is trial 27 with value: 0.8888888955116272.\u001b[0m\n"
     ]
    },
    {
     "name": "stdout",
     "output_type": "stream",
     "text": [
      "1/1 [==============================] - 0s 16ms/step - loss: 0.6463 - accuracy: 0.6111\n"
     ]
    },
    {
     "name": "stderr",
     "output_type": "stream",
     "text": [
      "\u001b[32m[I 2022-05-24 01:06:05,431]\u001b[0m Trial 107 finished with value: 0.6111111044883728 and parameters: {'n_layers': 5, 'n_units': 50, 'dropout': 0.0, 'optimizer': 'Adam'}. Best is trial 27 with value: 0.8888888955116272.\u001b[0m\n"
     ]
    },
    {
     "name": "stdout",
     "output_type": "stream",
     "text": [
      "1/1 [==============================] - 0s 22ms/step - loss: 0.4868 - accuracy: 0.8333\n"
     ]
    },
    {
     "name": "stderr",
     "output_type": "stream",
     "text": [
      "\u001b[32m[I 2022-05-24 01:06:06,477]\u001b[0m Trial 108 finished with value: 0.8333333134651184 and parameters: {'n_layers': 4, 'n_units': 150, 'dropout': 0.2, 'optimizer': 'Adam'}. Best is trial 27 with value: 0.8888888955116272.\u001b[0m\n"
     ]
    },
    {
     "name": "stdout",
     "output_type": "stream",
     "text": [
      "1/1 [==============================] - 0s 16ms/step - loss: 0.7406 - accuracy: 0.3889\n"
     ]
    },
    {
     "name": "stderr",
     "output_type": "stream",
     "text": [
      "\u001b[32m[I 2022-05-24 01:06:07,330]\u001b[0m Trial 109 finished with value: 0.3888888955116272 and parameters: {'n_layers': 3, 'n_units': 150, 'dropout': 0.30000000000000004, 'optimizer': 'SGD'}. Best is trial 27 with value: 0.8888888955116272.\u001b[0m\n"
     ]
    },
    {
     "name": "stdout",
     "output_type": "stream",
     "text": [
      "1/1 [==============================] - 0s 16ms/step - loss: 0.3970 - accuracy: 0.8333\n"
     ]
    },
    {
     "name": "stderr",
     "output_type": "stream",
     "text": [
      "\u001b[32m[I 2022-05-24 01:06:08,992]\u001b[0m Trial 110 finished with value: 0.8333333134651184 and parameters: {'n_layers': 5, 'n_units': 200, 'dropout': 0.2, 'optimizer': 'RMSprop'}. Best is trial 27 with value: 0.8888888955116272.\u001b[0m\n"
     ]
    },
    {
     "name": "stdout",
     "output_type": "stream",
     "text": [
      "1/1 [==============================] - 0s 20ms/step - loss: 0.6171 - accuracy: 0.6667\n"
     ]
    },
    {
     "name": "stderr",
     "output_type": "stream",
     "text": [
      "\u001b[32m[I 2022-05-24 01:06:10,004]\u001b[0m Trial 111 finished with value: 0.6666666865348816 and parameters: {'n_layers': 4, 'n_units': 150, 'dropout': 0.1, 'optimizer': 'Adam'}. Best is trial 27 with value: 0.8888888955116272.\u001b[0m\n"
     ]
    },
    {
     "name": "stdout",
     "output_type": "stream",
     "text": [
      "1/1 [==============================] - 0s 31ms/step - loss: 0.4925 - accuracy: 0.8889\n"
     ]
    },
    {
     "name": "stderr",
     "output_type": "stream",
     "text": [
      "\u001b[32m[I 2022-05-24 01:06:10,945]\u001b[0m Trial 112 finished with value: 0.8888888955116272 and parameters: {'n_layers': 3, 'n_units': 150, 'dropout': 0.1, 'optimizer': 'Adam'}. Best is trial 27 with value: 0.8888888955116272.\u001b[0m\n"
     ]
    },
    {
     "name": "stdout",
     "output_type": "stream",
     "text": [
      "1/1 [==============================] - 0s 13ms/step - loss: 0.4494 - accuracy: 0.7778\n"
     ]
    },
    {
     "name": "stderr",
     "output_type": "stream",
     "text": [
      "\u001b[32m[I 2022-05-24 01:06:12,760]\u001b[0m Trial 113 finished with value: 0.7777777910232544 and parameters: {'n_layers': 3, 'n_units': 150, 'dropout': 0.1, 'optimizer': 'Adam'}. Best is trial 27 with value: 0.8888888955116272.\u001b[0m\n"
     ]
    },
    {
     "name": "stdout",
     "output_type": "stream",
     "text": [
      "1/1 [==============================] - 0s 16ms/step - loss: 0.4954 - accuracy: 0.8333\n"
     ]
    },
    {
     "name": "stderr",
     "output_type": "stream",
     "text": [
      "\u001b[32m[I 2022-05-24 01:06:13,726]\u001b[0m Trial 114 finished with value: 0.8333333134651184 and parameters: {'n_layers': 3, 'n_units': 150, 'dropout': 0.1, 'optimizer': 'Adam'}. Best is trial 27 with value: 0.8888888955116272.\u001b[0m\n"
     ]
    },
    {
     "name": "stdout",
     "output_type": "stream",
     "text": [
      "1/1 [==============================] - 0s 16ms/step - loss: 0.5357 - accuracy: 0.7778\n"
     ]
    },
    {
     "name": "stderr",
     "output_type": "stream",
     "text": [
      "\u001b[32m[I 2022-05-24 01:06:14,661]\u001b[0m Trial 115 finished with value: 0.7777777910232544 and parameters: {'n_layers': 3, 'n_units': 150, 'dropout': 0.1, 'optimizer': 'Adam'}. Best is trial 27 with value: 0.8888888955116272.\u001b[0m\n"
     ]
    },
    {
     "name": "stdout",
     "output_type": "stream",
     "text": [
      "1/1 [==============================] - 0s 16ms/step - loss: 0.5037 - accuracy: 0.7222\n"
     ]
    },
    {
     "name": "stderr",
     "output_type": "stream",
     "text": [
      "\u001b[32m[I 2022-05-24 01:06:15,606]\u001b[0m Trial 116 finished with value: 0.7222222089767456 and parameters: {'n_layers': 3, 'n_units': 150, 'dropout': 0.1, 'optimizer': 'Adam'}. Best is trial 27 with value: 0.8888888955116272.\u001b[0m\n"
     ]
    },
    {
     "name": "stdout",
     "output_type": "stream",
     "text": [
      "1/1 [==============================] - 0s 31ms/step - loss: 0.9284 - accuracy: 0.7778\n"
     ]
    },
    {
     "name": "stderr",
     "output_type": "stream",
     "text": [
      "\u001b[32m[I 2022-05-24 01:06:16,935]\u001b[0m Trial 117 finished with value: 0.7777777910232544 and parameters: {'n_layers': 4, 'n_units': 200, 'dropout': 0.2, 'optimizer': 'Adam'}. Best is trial 27 with value: 0.8888888955116272.\u001b[0m\n"
     ]
    },
    {
     "name": "stdout",
     "output_type": "stream",
     "text": [
      "1/1 [==============================] - 0s 34ms/step - loss: 0.5363 - accuracy: 0.7778\n"
     ]
    },
    {
     "name": "stderr",
     "output_type": "stream",
     "text": [
      "\u001b[32m[I 2022-05-24 01:06:18,840]\u001b[0m Trial 118 finished with value: 0.7777777910232544 and parameters: {'n_layers': 4, 'n_units': 250, 'dropout': 0.2, 'optimizer': 'Adam'}. Best is trial 27 with value: 0.8888888955116272.\u001b[0m\n"
     ]
    },
    {
     "name": "stdout",
     "output_type": "stream",
     "text": [
      "1/1 [==============================] - 0s 16ms/step - loss: 0.5898 - accuracy: 0.7778\n"
     ]
    },
    {
     "name": "stderr",
     "output_type": "stream",
     "text": [
      "\u001b[32m[I 2022-05-24 01:06:20,011]\u001b[0m Trial 119 finished with value: 0.7777777910232544 and parameters: {'n_layers': 2, 'n_units': 200, 'dropout': 0.1, 'optimizer': 'RMSprop'}. Best is trial 27 with value: 0.8888888955116272.\u001b[0m\n"
     ]
    },
    {
     "name": "stdout",
     "output_type": "stream",
     "text": [
      "1/1 [==============================] - 0s 16ms/step - loss: 1.0665 - accuracy: 0.7778\n"
     ]
    },
    {
     "name": "stderr",
     "output_type": "stream",
     "text": [
      "\u001b[32m[I 2022-05-24 01:06:20,952]\u001b[0m Trial 120 finished with value: 0.7777777910232544 and parameters: {'n_layers': 4, 'n_units': 200, 'dropout': 0.0, 'optimizer': 'Adam'}. Best is trial 27 with value: 0.8888888955116272.\u001b[0m\n"
     ]
    },
    {
     "name": "stdout",
     "output_type": "stream",
     "text": [
      "1/1 [==============================] - 0s 39ms/step - loss: 0.6770 - accuracy: 0.7222\n"
     ]
    },
    {
     "name": "stderr",
     "output_type": "stream",
     "text": [
      "\u001b[32m[I 2022-05-24 01:06:22,062]\u001b[0m Trial 121 finished with value: 0.7222222089767456 and parameters: {'n_layers': 3, 'n_units': 150, 'dropout': 0.1, 'optimizer': 'RMSprop'}. Best is trial 27 with value: 0.8888888955116272.\u001b[0m\n"
     ]
    },
    {
     "name": "stdout",
     "output_type": "stream",
     "text": [
      "1/1 [==============================] - 0s 21ms/step - loss: 0.6210 - accuracy: 0.6111\n"
     ]
    },
    {
     "name": "stderr",
     "output_type": "stream",
     "text": [
      "\u001b[32m[I 2022-05-24 01:06:23,987]\u001b[0m Trial 122 finished with value: 0.6111111044883728 and parameters: {'n_layers': 4, 'n_units': 150, 'dropout': 0.2, 'optimizer': 'Adam'}. Best is trial 27 with value: 0.8888888955116272.\u001b[0m\n"
     ]
    },
    {
     "name": "stdout",
     "output_type": "stream",
     "text": [
      "1/1 [==============================] - 0s 31ms/step - loss: 0.5036 - accuracy: 0.7778\n"
     ]
    },
    {
     "name": "stderr",
     "output_type": "stream",
     "text": [
      "\u001b[32m[I 2022-05-24 01:06:25,199]\u001b[0m Trial 123 finished with value: 0.7777777910232544 and parameters: {'n_layers': 5, 'n_units': 200, 'dropout': 0.2, 'optimizer': 'Adam'}. Best is trial 27 with value: 0.8888888955116272.\u001b[0m\n"
     ]
    },
    {
     "name": "stdout",
     "output_type": "stream",
     "text": [
      "1/1 [==============================] - 0s 37ms/step - loss: 0.7197 - accuracy: 0.6667\n"
     ]
    },
    {
     "name": "stderr",
     "output_type": "stream",
     "text": [
      "\u001b[32m[I 2022-05-24 01:06:26,343]\u001b[0m Trial 124 finished with value: 0.6666666865348816 and parameters: {'n_layers': 3, 'n_units': 150, 'dropout': 0.1, 'optimizer': 'RMSprop'}. Best is trial 27 with value: 0.8888888955116272.\u001b[0m\n"
     ]
    },
    {
     "name": "stdout",
     "output_type": "stream",
     "text": [
      "1/1 [==============================] - 0s 23ms/step - loss: 0.5975 - accuracy: 0.7222\n"
     ]
    },
    {
     "name": "stderr",
     "output_type": "stream",
     "text": [
      "\u001b[32m[I 2022-05-24 01:06:27,711]\u001b[0m Trial 125 finished with value: 0.7222222089767456 and parameters: {'n_layers': 5, 'n_units': 150, 'dropout': 0.2, 'optimizer': 'Adam'}. Best is trial 27 with value: 0.8888888955116272.\u001b[0m\n"
     ]
    },
    {
     "name": "stdout",
     "output_type": "stream",
     "text": [
      "1/1 [==============================] - 0s 16ms/step - loss: 0.5892 - accuracy: 0.7778\n"
     ]
    },
    {
     "name": "stderr",
     "output_type": "stream",
     "text": [
      "\u001b[32m[I 2022-05-24 01:06:28,755]\u001b[0m Trial 126 finished with value: 0.7777777910232544 and parameters: {'n_layers': 4, 'n_units': 150, 'dropout': 0.2, 'optimizer': 'Adam'}. Best is trial 27 with value: 0.8888888955116272.\u001b[0m\n"
     ]
    },
    {
     "name": "stdout",
     "output_type": "stream",
     "text": [
      "1/1 [==============================] - 0s 9ms/step - loss: 0.6681 - accuracy: 0.7222\n"
     ]
    },
    {
     "name": "stderr",
     "output_type": "stream",
     "text": [
      "\u001b[32m[I 2022-05-24 01:06:30,271]\u001b[0m Trial 127 finished with value: 0.7222222089767456 and parameters: {'n_layers': 4, 'n_units': 150, 'dropout': 0.1, 'optimizer': 'Adam'}. Best is trial 27 with value: 0.8888888955116272.\u001b[0m\n"
     ]
    },
    {
     "name": "stdout",
     "output_type": "stream",
     "text": [
      "1/1 [==============================] - 0s 16ms/step - loss: 0.6847 - accuracy: 0.4444\n"
     ]
    },
    {
     "name": "stderr",
     "output_type": "stream",
     "text": [
      "\u001b[32m[I 2022-05-24 01:06:31,428]\u001b[0m Trial 128 finished with value: 0.4444444477558136 and parameters: {'n_layers': 5, 'n_units': 200, 'dropout': 0.1, 'optimizer': 'SGD'}. Best is trial 27 with value: 0.8888888955116272.\u001b[0m\n"
     ]
    },
    {
     "name": "stdout",
     "output_type": "stream",
     "text": [
      "1/1 [==============================] - 0s 31ms/step - loss: 0.8740 - accuracy: 0.7778\n"
     ]
    },
    {
     "name": "stderr",
     "output_type": "stream",
     "text": [
      "\u001b[32m[I 2022-05-24 01:06:32,619]\u001b[0m Trial 129 finished with value: 0.7777777910232544 and parameters: {'n_layers': 3, 'n_units': 150, 'dropout': 0.1, 'optimizer': 'RMSprop'}. Best is trial 27 with value: 0.8888888955116272.\u001b[0m\n"
     ]
    },
    {
     "name": "stdout",
     "output_type": "stream",
     "text": [
      "1/1 [==============================] - 0s 31ms/step - loss: 0.5571 - accuracy: 0.6667\n"
     ]
    },
    {
     "name": "stderr",
     "output_type": "stream",
     "text": [
      "\u001b[32m[I 2022-05-24 01:06:33,636]\u001b[0m Trial 130 finished with value: 0.6666666865348816 and parameters: {'n_layers': 4, 'n_units': 150, 'dropout': 0.2, 'optimizer': 'Adam'}. Best is trial 27 with value: 0.8888888955116272.\u001b[0m\n"
     ]
    },
    {
     "name": "stdout",
     "output_type": "stream",
     "text": [
      "1/1 [==============================] - 0s 16ms/step - loss: 0.5091 - accuracy: 0.7778\n"
     ]
    },
    {
     "name": "stderr",
     "output_type": "stream",
     "text": [
      "\u001b[32m[I 2022-05-24 01:06:35,231]\u001b[0m Trial 131 finished with value: 0.7777777910232544 and parameters: {'n_layers': 4, 'n_units': 150, 'dropout': 0.1, 'optimizer': 'Adam'}. Best is trial 27 with value: 0.8888888955116272.\u001b[0m\n"
     ]
    },
    {
     "name": "stdout",
     "output_type": "stream",
     "text": [
      "1/1 [==============================] - 0s 29ms/step - loss: 0.5736 - accuracy: 0.6667\n"
     ]
    },
    {
     "name": "stderr",
     "output_type": "stream",
     "text": [
      "\u001b[32m[I 2022-05-24 01:06:36,633]\u001b[0m Trial 132 finished with value: 0.6666666865348816 and parameters: {'n_layers': 5, 'n_units': 200, 'dropout': 0.2, 'optimizer': 'Adam'}. Best is trial 27 with value: 0.8888888955116272.\u001b[0m\n"
     ]
    },
    {
     "name": "stdout",
     "output_type": "stream",
     "text": [
      "1/1 [==============================] - 0s 16ms/step - loss: 0.4634 - accuracy: 0.7778\n"
     ]
    },
    {
     "name": "stderr",
     "output_type": "stream",
     "text": [
      "\u001b[32m[I 2022-05-24 01:06:37,879]\u001b[0m Trial 133 finished with value: 0.7777777910232544 and parameters: {'n_layers': 3, 'n_units': 150, 'dropout': 0.2, 'optimizer': 'RMSprop'}. Best is trial 27 with value: 0.8888888955116272.\u001b[0m\n"
     ]
    },
    {
     "name": "stdout",
     "output_type": "stream",
     "text": [
      "1/1 [==============================] - 0s 23ms/step - loss: 0.4960 - accuracy: 0.8333\n"
     ]
    },
    {
     "name": "stderr",
     "output_type": "stream",
     "text": [
      "\u001b[32m[I 2022-05-24 01:06:39,120]\u001b[0m Trial 134 finished with value: 0.8333333134651184 and parameters: {'n_layers': 5, 'n_units': 200, 'dropout': 0.2, 'optimizer': 'Adam'}. Best is trial 27 with value: 0.8888888955116272.\u001b[0m\n"
     ]
    },
    {
     "name": "stdout",
     "output_type": "stream",
     "text": [
      "1/1 [==============================] - 0s 31ms/step - loss: 0.8718 - accuracy: 0.7778\n"
     ]
    },
    {
     "name": "stderr",
     "output_type": "stream",
     "text": [
      "\u001b[32m[I 2022-05-24 01:06:40,578]\u001b[0m Trial 135 finished with value: 0.7777777910232544 and parameters: {'n_layers': 5, 'n_units': 200, 'dropout': 0.1, 'optimizer': 'RMSprop'}. Best is trial 27 with value: 0.8888888955116272.\u001b[0m\n"
     ]
    },
    {
     "name": "stdout",
     "output_type": "stream",
     "text": [
      "1/1 [==============================] - 0s 31ms/step - loss: 0.6320 - accuracy: 0.7778\n"
     ]
    },
    {
     "name": "stderr",
     "output_type": "stream",
     "text": [
      "\u001b[32m[I 2022-05-24 01:06:42,417]\u001b[0m Trial 136 finished with value: 0.7777777910232544 and parameters: {'n_layers': 3, 'n_units': 150, 'dropout': 0.1, 'optimizer': 'RMSprop'}. Best is trial 27 with value: 0.8888888955116272.\u001b[0m\n"
     ]
    },
    {
     "name": "stdout",
     "output_type": "stream",
     "text": [
      "1/1 [==============================] - 0s 31ms/step - loss: 0.4860 - accuracy: 0.8333\n"
     ]
    },
    {
     "name": "stderr",
     "output_type": "stream",
     "text": [
      "\u001b[32m[I 2022-05-24 01:06:43,894]\u001b[0m Trial 137 finished with value: 0.8333333134651184 and parameters: {'n_layers': 3, 'n_units': 150, 'dropout': 0.1, 'optimizer': 'RMSprop'}. Best is trial 27 with value: 0.8888888955116272.\u001b[0m\n"
     ]
    },
    {
     "name": "stdout",
     "output_type": "stream",
     "text": [
      "1/1 [==============================] - 0s 16ms/step - loss: 0.7219 - accuracy: 0.6667\n"
     ]
    },
    {
     "name": "stderr",
     "output_type": "stream",
     "text": [
      "\u001b[32m[I 2022-05-24 01:06:44,923]\u001b[0m Trial 138 finished with value: 0.6666666865348816 and parameters: {'n_layers': 3, 'n_units': 100, 'dropout': 0.1, 'optimizer': 'RMSprop'}. Best is trial 27 with value: 0.8888888955116272.\u001b[0m\n"
     ]
    },
    {
     "name": "stdout",
     "output_type": "stream",
     "text": [
      "1/1 [==============================] - 0s 31ms/step - loss: 0.6679 - accuracy: 0.5000\n"
     ]
    },
    {
     "name": "stderr",
     "output_type": "stream",
     "text": [
      "\u001b[32m[I 2022-05-24 01:06:46,012]\u001b[0m Trial 139 finished with value: 0.5 and parameters: {'n_layers': 5, 'n_units': 150, 'dropout': 0.2, 'optimizer': 'Adam'}. Best is trial 27 with value: 0.8888888955116272.\u001b[0m\n"
     ]
    },
    {
     "name": "stdout",
     "output_type": "stream",
     "text": [
      "1/1 [==============================] - 0s 30ms/step - loss: 0.6180 - accuracy: 0.6667\n"
     ]
    },
    {
     "name": "stderr",
     "output_type": "stream",
     "text": [
      "\u001b[32m[I 2022-05-24 01:06:47,131]\u001b[0m Trial 140 finished with value: 0.6666666865348816 and parameters: {'n_layers': 4, 'n_units': 200, 'dropout': 0.30000000000000004, 'optimizer': 'Adam'}. Best is trial 27 with value: 0.8888888955116272.\u001b[0m\n"
     ]
    },
    {
     "name": "stdout",
     "output_type": "stream",
     "text": [
      "1/1 [==============================] - 0s 16ms/step - loss: 0.5046 - accuracy: 0.7222\n"
     ]
    },
    {
     "name": "stderr",
     "output_type": "stream",
     "text": [
      "\u001b[32m[I 2022-05-24 01:06:48,539]\u001b[0m Trial 141 finished with value: 0.7222222089767456 and parameters: {'n_layers': 4, 'n_units': 150, 'dropout': 0.2, 'optimizer': 'Adam'}. Best is trial 27 with value: 0.8888888955116272.\u001b[0m\n"
     ]
    },
    {
     "name": "stdout",
     "output_type": "stream",
     "text": [
      "1/1 [==============================] - 0s 31ms/step - loss: 0.4737 - accuracy: 0.7778\n"
     ]
    },
    {
     "name": "stderr",
     "output_type": "stream",
     "text": [
      "\u001b[32m[I 2022-05-24 01:06:49,542]\u001b[0m Trial 142 finished with value: 0.7777777910232544 and parameters: {'n_layers': 5, 'n_units': 150, 'dropout': 0.1, 'optimizer': 'Adam'}. Best is trial 27 with value: 0.8888888955116272.\u001b[0m\n"
     ]
    },
    {
     "name": "stdout",
     "output_type": "stream",
     "text": [
      "1/1 [==============================] - 0s 5ms/step - loss: 0.6633 - accuracy: 0.7222\n"
     ]
    },
    {
     "name": "stderr",
     "output_type": "stream",
     "text": [
      "\u001b[32m[I 2022-05-24 01:06:50,862]\u001b[0m Trial 143 finished with value: 0.7222222089767456 and parameters: {'n_layers': 4, 'n_units': 150, 'dropout': 0.2, 'optimizer': 'RMSprop'}. Best is trial 27 with value: 0.8888888955116272.\u001b[0m\n"
     ]
    },
    {
     "name": "stdout",
     "output_type": "stream",
     "text": [
      "1/1 [==============================] - 0s 16ms/step - loss: 0.4249 - accuracy: 0.8333\n"
     ]
    },
    {
     "name": "stderr",
     "output_type": "stream",
     "text": [
      "\u001b[32m[I 2022-05-24 01:06:52,097]\u001b[0m Trial 144 finished with value: 0.8333333134651184 and parameters: {'n_layers': 4, 'n_units': 150, 'dropout': 0.2, 'optimizer': 'Adam'}. Best is trial 27 with value: 0.8888888955116272.\u001b[0m\n"
     ]
    },
    {
     "name": "stdout",
     "output_type": "stream",
     "text": [
      "1/1 [==============================] - 0s 16ms/step - loss: 0.5781 - accuracy: 0.7222\n"
     ]
    },
    {
     "name": "stderr",
     "output_type": "stream",
     "text": [
      "\u001b[32m[I 2022-05-24 01:06:53,339]\u001b[0m Trial 145 finished with value: 0.7222222089767456 and parameters: {'n_layers': 3, 'n_units': 150, 'dropout': 0.1, 'optimizer': 'RMSprop'}. Best is trial 27 with value: 0.8888888955116272.\u001b[0m\n"
     ]
    },
    {
     "name": "stdout",
     "output_type": "stream",
     "text": [
      "1/1 [==============================] - 0s 16ms/step - loss: 0.5634 - accuracy: 0.6667\n"
     ]
    },
    {
     "name": "stderr",
     "output_type": "stream",
     "text": [
      "\u001b[32m[I 2022-05-24 01:06:54,485]\u001b[0m Trial 146 finished with value: 0.6666666865348816 and parameters: {'n_layers': 5, 'n_units': 150, 'dropout': 0.2, 'optimizer': 'Adam'}. Best is trial 27 with value: 0.8888888955116272.\u001b[0m\n"
     ]
    },
    {
     "name": "stdout",
     "output_type": "stream",
     "text": [
      "1/1 [==============================] - 0s 22ms/step - loss: 0.7389 - accuracy: 0.7222\n"
     ]
    },
    {
     "name": "stderr",
     "output_type": "stream",
     "text": [
      "\u001b[32m[I 2022-05-24 01:06:55,449]\u001b[0m Trial 147 finished with value: 0.7222222089767456 and parameters: {'n_layers': 3, 'n_units': 150, 'dropout': 0.1, 'optimizer': 'Adam'}. Best is trial 27 with value: 0.8888888955116272.\u001b[0m\n"
     ]
    },
    {
     "name": "stdout",
     "output_type": "stream",
     "text": [
      "1/1 [==============================] - 0s 19ms/step - loss: 0.7505 - accuracy: 0.7778\n"
     ]
    },
    {
     "name": "stderr",
     "output_type": "stream",
     "text": [
      "\u001b[32m[I 2022-05-24 01:06:57,447]\u001b[0m Trial 148 finished with value: 0.7777777910232544 and parameters: {'n_layers': 4, 'n_units': 200, 'dropout': 0.2, 'optimizer': 'Adam'}. Best is trial 27 with value: 0.8888888955116272.\u001b[0m\n"
     ]
    },
    {
     "name": "stdout",
     "output_type": "stream",
     "text": [
      "1/1 [==============================] - 0s 26ms/step - loss: 0.7802 - accuracy: 0.7778\n"
     ]
    },
    {
     "name": "stderr",
     "output_type": "stream",
     "text": [
      "\u001b[32m[I 2022-05-24 01:06:59,316]\u001b[0m Trial 149 finished with value: 0.7777777910232544 and parameters: {'n_layers': 4, 'n_units': 150, 'dropout': 0.2, 'optimizer': 'Adam'}. Best is trial 27 with value: 0.8888888955116272.\u001b[0m\n"
     ]
    },
    {
     "name": "stdout",
     "output_type": "stream",
     "text": [
      "1/1 [==============================] - 0s 31ms/step - loss: 0.6222 - accuracy: 0.7222\n"
     ]
    },
    {
     "name": "stderr",
     "output_type": "stream",
     "text": [
      "\u001b[32m[I 2022-05-24 01:07:00,303]\u001b[0m Trial 150 finished with value: 0.7222222089767456 and parameters: {'n_layers': 4, 'n_units': 150, 'dropout': 0.4, 'optimizer': 'Adam'}. Best is trial 27 with value: 0.8888888955116272.\u001b[0m\n"
     ]
    },
    {
     "name": "stdout",
     "output_type": "stream",
     "text": [
      "1/1 [==============================] - 0s 16ms/step - loss: 0.6326 - accuracy: 0.7222\n"
     ]
    },
    {
     "name": "stderr",
     "output_type": "stream",
     "text": [
      "\u001b[32m[I 2022-05-24 01:07:01,308]\u001b[0m Trial 151 finished with value: 0.7222222089767456 and parameters: {'n_layers': 3, 'n_units': 150, 'dropout': 0.1, 'optimizer': 'RMSprop'}. Best is trial 27 with value: 0.8888888955116272.\u001b[0m\n"
     ]
    },
    {
     "name": "stdout",
     "output_type": "stream",
     "text": [
      "1/1 [==============================] - 0s 16ms/step - loss: 0.5169 - accuracy: 0.7222\n"
     ]
    },
    {
     "name": "stderr",
     "output_type": "stream",
     "text": [
      "\u001b[32m[I 2022-05-24 01:07:02,331]\u001b[0m Trial 152 finished with value: 0.7222222089767456 and parameters: {'n_layers': 3, 'n_units': 150, 'dropout': 0.1, 'optimizer': 'RMSprop'}. Best is trial 27 with value: 0.8888888955116272.\u001b[0m\n"
     ]
    },
    {
     "name": "stdout",
     "output_type": "stream",
     "text": [
      "1/1 [==============================] - 0s 16ms/step - loss: 0.3762 - accuracy: 0.8333\n"
     ]
    },
    {
     "name": "stderr",
     "output_type": "stream",
     "text": [
      "\u001b[32m[I 2022-05-24 01:07:03,787]\u001b[0m Trial 153 finished with value: 0.8333333134651184 and parameters: {'n_layers': 3, 'n_units': 150, 'dropout': 0.1, 'optimizer': 'RMSprop'}. Best is trial 27 with value: 0.8888888955116272.\u001b[0m\n"
     ]
    },
    {
     "name": "stdout",
     "output_type": "stream",
     "text": [
      "1/1 [==============================] - 0s 16ms/step - loss: 0.4769 - accuracy: 0.8333\n"
     ]
    },
    {
     "name": "stderr",
     "output_type": "stream",
     "text": [
      "\u001b[32m[I 2022-05-24 01:07:04,994]\u001b[0m Trial 154 finished with value: 0.8333333134651184 and parameters: {'n_layers': 3, 'n_units': 150, 'dropout': 0.2, 'optimizer': 'RMSprop'}. Best is trial 27 with value: 0.8888888955116272.\u001b[0m\n"
     ]
    },
    {
     "name": "stdout",
     "output_type": "stream",
     "text": [
      "1/1 [==============================] - 0s 16ms/step - loss: 0.6410 - accuracy: 0.7778\n"
     ]
    },
    {
     "name": "stderr",
     "output_type": "stream",
     "text": [
      "\u001b[32m[I 2022-05-24 01:07:06,045]\u001b[0m Trial 155 finished with value: 0.7777777910232544 and parameters: {'n_layers': 3, 'n_units': 150, 'dropout': 0.1, 'optimizer': 'RMSprop'}. Best is trial 27 with value: 0.8888888955116272.\u001b[0m\n"
     ]
    },
    {
     "name": "stdout",
     "output_type": "stream",
     "text": [
      "1/1 [==============================] - 0s 16ms/step - loss: 0.6814 - accuracy: 0.7222\n"
     ]
    },
    {
     "name": "stderr",
     "output_type": "stream",
     "text": [
      "\u001b[32m[I 2022-05-24 01:07:07,205]\u001b[0m Trial 156 finished with value: 0.7222222089767456 and parameters: {'n_layers': 3, 'n_units': 150, 'dropout': 0.2, 'optimizer': 'RMSprop'}. Best is trial 27 with value: 0.8888888955116272.\u001b[0m\n"
     ]
    },
    {
     "name": "stdout",
     "output_type": "stream",
     "text": [
      "1/1 [==============================] - 0s 31ms/step - loss: 0.6754 - accuracy: 0.5556\n"
     ]
    },
    {
     "name": "stderr",
     "output_type": "stream",
     "text": [
      "\u001b[32m[I 2022-05-24 01:07:08,075]\u001b[0m Trial 157 finished with value: 0.5555555820465088 and parameters: {'n_layers': 3, 'n_units': 200, 'dropout': 0.1, 'optimizer': 'SGD'}. Best is trial 27 with value: 0.8888888955116272.\u001b[0m\n"
     ]
    },
    {
     "name": "stdout",
     "output_type": "stream",
     "text": [
      "1/1 [==============================] - 0s 31ms/step - loss: 0.7082 - accuracy: 0.6111\n"
     ]
    },
    {
     "name": "stderr",
     "output_type": "stream",
     "text": [
      "\u001b[32m[I 2022-05-24 01:07:09,575]\u001b[0m Trial 158 finished with value: 0.6111111044883728 and parameters: {'n_layers': 3, 'n_units': 150, 'dropout': 0.30000000000000004, 'optimizer': 'RMSprop'}. Best is trial 27 with value: 0.8888888955116272.\u001b[0m\n"
     ]
    },
    {
     "name": "stdout",
     "output_type": "stream",
     "text": [
      "1/1 [==============================] - 0s 16ms/step - loss: 0.6462 - accuracy: 0.7222\n"
     ]
    },
    {
     "name": "stderr",
     "output_type": "stream",
     "text": [
      "\u001b[32m[I 2022-05-24 01:07:10,674]\u001b[0m Trial 159 finished with value: 0.7222222089767456 and parameters: {'n_layers': 3, 'n_units': 150, 'dropout': 0.0, 'optimizer': 'RMSprop'}. Best is trial 27 with value: 0.8888888955116272.\u001b[0m\n"
     ]
    },
    {
     "name": "stdout",
     "output_type": "stream",
     "text": [
      "1/1 [==============================] - 0s 31ms/step - loss: 0.6117 - accuracy: 0.8333\n"
     ]
    },
    {
     "name": "stderr",
     "output_type": "stream",
     "text": [
      "\u001b[32m[I 2022-05-24 01:07:11,762]\u001b[0m Trial 160 finished with value: 0.8333333134651184 and parameters: {'n_layers': 3, 'n_units': 150, 'dropout': 0.1, 'optimizer': 'RMSprop'}. Best is trial 27 with value: 0.8888888955116272.\u001b[0m\n"
     ]
    },
    {
     "name": "stdout",
     "output_type": "stream",
     "text": [
      "1/1 [==============================] - 0s 16ms/step - loss: 0.6319 - accuracy: 0.6667\n"
     ]
    },
    {
     "name": "stderr",
     "output_type": "stream",
     "text": [
      "\u001b[32m[I 2022-05-24 01:07:12,697]\u001b[0m Trial 161 finished with value: 0.6666666865348816 and parameters: {'n_layers': 3, 'n_units': 150, 'dropout': 0.1, 'optimizer': 'Adam'}. Best is trial 27 with value: 0.8888888955116272.\u001b[0m\n"
     ]
    },
    {
     "name": "stdout",
     "output_type": "stream",
     "text": [
      "1/1 [==============================] - 0s 31ms/step - loss: 0.6233 - accuracy: 0.7778\n"
     ]
    },
    {
     "name": "stderr",
     "output_type": "stream",
     "text": [
      "\u001b[32m[I 2022-05-24 01:07:13,718]\u001b[0m Trial 162 finished with value: 0.7777777910232544 and parameters: {'n_layers': 3, 'n_units': 150, 'dropout': 0.1, 'optimizer': 'RMSprop'}. Best is trial 27 with value: 0.8888888955116272.\u001b[0m\n"
     ]
    },
    {
     "name": "stdout",
     "output_type": "stream",
     "text": [
      "1/1 [==============================] - 0s 31ms/step - loss: 0.6937 - accuracy: 0.7222\n"
     ]
    },
    {
     "name": "stderr",
     "output_type": "stream",
     "text": [
      "\u001b[32m[I 2022-05-24 01:07:15,018]\u001b[0m Trial 163 finished with value: 0.7222222089767456 and parameters: {'n_layers': 3, 'n_units': 150, 'dropout': 0.2, 'optimizer': 'RMSprop'}. Best is trial 27 with value: 0.8888888955116272.\u001b[0m\n"
     ]
    },
    {
     "name": "stdout",
     "output_type": "stream",
     "text": [
      "1/1 [==============================] - 0s 16ms/step - loss: 0.7634 - accuracy: 0.7222\n"
     ]
    },
    {
     "name": "stderr",
     "output_type": "stream",
     "text": [
      "\u001b[32m[I 2022-05-24 01:07:16,415]\u001b[0m Trial 164 finished with value: 0.7222222089767456 and parameters: {'n_layers': 5, 'n_units': 150, 'dropout': 0.1, 'optimizer': 'Adam'}. Best is trial 27 with value: 0.8888888955116272.\u001b[0m\n"
     ]
    },
    {
     "name": "stdout",
     "output_type": "stream",
     "text": [
      "1/1 [==============================] - 0s 16ms/step - loss: 0.5376 - accuracy: 0.7222\n"
     ]
    },
    {
     "name": "stderr",
     "output_type": "stream",
     "text": [
      "\u001b[32m[I 2022-05-24 01:07:17,438]\u001b[0m Trial 165 finished with value: 0.7222222089767456 and parameters: {'n_layers': 4, 'n_units': 150, 'dropout': 0.1, 'optimizer': 'Adam'}. Best is trial 27 with value: 0.8888888955116272.\u001b[0m\n"
     ]
    },
    {
     "name": "stdout",
     "output_type": "stream",
     "text": [
      "1/1 [==============================] - 0s 16ms/step - loss: 0.8739 - accuracy: 0.7222\n"
     ]
    },
    {
     "name": "stderr",
     "output_type": "stream",
     "text": [
      "\u001b[32m[I 2022-05-24 01:07:19,082]\u001b[0m Trial 166 finished with value: 0.7222222089767456 and parameters: {'n_layers': 5, 'n_units': 150, 'dropout': 0.2, 'optimizer': 'Adam'}. Best is trial 27 with value: 0.8888888955116272.\u001b[0m\n"
     ]
    },
    {
     "name": "stdout",
     "output_type": "stream",
     "text": [
      "1/1 [==============================] - 0s 31ms/step - loss: 0.7133 - accuracy: 0.7222\n"
     ]
    },
    {
     "name": "stderr",
     "output_type": "stream",
     "text": [
      "\u001b[32m[I 2022-05-24 01:07:20,461]\u001b[0m Trial 167 finished with value: 0.7222222089767456 and parameters: {'n_layers': 4, 'n_units': 150, 'dropout': 0.1, 'optimizer': 'RMSprop'}. Best is trial 27 with value: 0.8888888955116272.\u001b[0m\n"
     ]
    },
    {
     "name": "stdout",
     "output_type": "stream",
     "text": [
      "1/1 [==============================] - 0s 16ms/step - loss: 0.6451 - accuracy: 0.7778\n"
     ]
    },
    {
     "name": "stderr",
     "output_type": "stream",
     "text": [
      "\u001b[32m[I 2022-05-24 01:07:21,873]\u001b[0m Trial 168 finished with value: 0.7777777910232544 and parameters: {'n_layers': 5, 'n_units': 200, 'dropout': 0.2, 'optimizer': 'Adam'}. Best is trial 27 with value: 0.8888888955116272.\u001b[0m\n"
     ]
    },
    {
     "name": "stdout",
     "output_type": "stream",
     "text": [
      "1/1 [==============================] - 0s 16ms/step - loss: 0.9116 - accuracy: 0.8333\n"
     ]
    },
    {
     "name": "stderr",
     "output_type": "stream",
     "text": [
      "\u001b[32m[I 2022-05-24 01:07:22,986]\u001b[0m Trial 169 finished with value: 0.8333333134651184 and parameters: {'n_layers': 4, 'n_units': 150, 'dropout': 0.1, 'optimizer': 'Adam'}. Best is trial 27 with value: 0.8888888955116272.\u001b[0m\n"
     ]
    },
    {
     "name": "stdout",
     "output_type": "stream",
     "text": [
      "1/1 [==============================] - 0s 16ms/step - loss: 0.5612 - accuracy: 0.7778\n"
     ]
    },
    {
     "name": "stderr",
     "output_type": "stream",
     "text": [
      "\u001b[32m[I 2022-05-24 01:07:23,957]\u001b[0m Trial 170 finished with value: 0.7777777910232544 and parameters: {'n_layers': 3, 'n_units': 150, 'dropout': 0.2, 'optimizer': 'Adam'}. Best is trial 27 with value: 0.8888888955116272.\u001b[0m\n"
     ]
    },
    {
     "name": "stdout",
     "output_type": "stream",
     "text": [
      "1/1 [==============================] - 0s 16ms/step - loss: 0.7296 - accuracy: 0.7778\n"
     ]
    },
    {
     "name": "stderr",
     "output_type": "stream",
     "text": [
      "\u001b[32m[I 2022-05-24 01:07:25,058]\u001b[0m Trial 171 finished with value: 0.7777777910232544 and parameters: {'n_layers': 3, 'n_units': 150, 'dropout': 0.1, 'optimizer': 'RMSprop'}. Best is trial 27 with value: 0.8888888955116272.\u001b[0m\n"
     ]
    },
    {
     "name": "stdout",
     "output_type": "stream",
     "text": [
      "1/1 [==============================] - 0s 16ms/step - loss: 0.6261 - accuracy: 0.7778\n"
     ]
    },
    {
     "name": "stderr",
     "output_type": "stream",
     "text": [
      "\u001b[32m[I 2022-05-24 01:07:26,033]\u001b[0m Trial 172 finished with value: 0.7777777910232544 and parameters: {'n_layers': 4, 'n_units': 150, 'dropout': 0.1, 'optimizer': 'Adam'}. Best is trial 27 with value: 0.8888888955116272.\u001b[0m\n"
     ]
    },
    {
     "name": "stdout",
     "output_type": "stream",
     "text": [
      "1/1 [==============================] - 0s 31ms/step - loss: 0.5373 - accuracy: 0.8333\n"
     ]
    },
    {
     "name": "stderr",
     "output_type": "stream",
     "text": [
      "\u001b[32m[I 2022-05-24 01:07:27,332]\u001b[0m Trial 173 finished with value: 0.8333333134651184 and parameters: {'n_layers': 3, 'n_units': 150, 'dropout': 0.1, 'optimizer': 'RMSprop'}. Best is trial 27 with value: 0.8888888955116272.\u001b[0m\n"
     ]
    },
    {
     "name": "stdout",
     "output_type": "stream",
     "text": [
      "1/1 [==============================] - 0s 16ms/step - loss: 0.5434 - accuracy: 0.8333\n"
     ]
    },
    {
     "name": "stderr",
     "output_type": "stream",
     "text": [
      "\u001b[32m[I 2022-05-24 01:07:28,636]\u001b[0m Trial 174 finished with value: 0.8333333134651184 and parameters: {'n_layers': 3, 'n_units': 150, 'dropout': 0.1, 'optimizer': 'RMSprop'}. Best is trial 27 with value: 0.8888888955116272.\u001b[0m\n"
     ]
    },
    {
     "name": "stdout",
     "output_type": "stream",
     "text": [
      "1/1 [==============================] - 0s 16ms/step - loss: 0.5390 - accuracy: 0.8889\n"
     ]
    },
    {
     "name": "stderr",
     "output_type": "stream",
     "text": [
      "\u001b[32m[I 2022-05-24 01:07:29,686]\u001b[0m Trial 175 finished with value: 0.8888888955116272 and parameters: {'n_layers': 4, 'n_units': 150, 'dropout': 0.2, 'optimizer': 'Adam'}. Best is trial 27 with value: 0.8888888955116272.\u001b[0m\n"
     ]
    },
    {
     "name": "stdout",
     "output_type": "stream",
     "text": [
      "1/1 [==============================] - 0s 16ms/step - loss: 0.7195 - accuracy: 0.6111\n"
     ]
    },
    {
     "name": "stderr",
     "output_type": "stream",
     "text": [
      "\u001b[32m[I 2022-05-24 01:07:30,783]\u001b[0m Trial 176 finished with value: 0.6111111044883728 and parameters: {'n_layers': 4, 'n_units': 150, 'dropout': 0.2, 'optimizer': 'Adam'}. Best is trial 27 with value: 0.8888888955116272.\u001b[0m\n"
     ]
    },
    {
     "name": "stdout",
     "output_type": "stream",
     "text": [
      "1/1 [==============================] - 0s 31ms/step - loss: 0.6501 - accuracy: 0.7222\n"
     ]
    },
    {
     "name": "stderr",
     "output_type": "stream",
     "text": [
      "\u001b[32m[I 2022-05-24 01:07:31,867]\u001b[0m Trial 177 finished with value: 0.7222222089767456 and parameters: {'n_layers': 4, 'n_units': 200, 'dropout': 0.2, 'optimizer': 'Adam'}. Best is trial 27 with value: 0.8888888955116272.\u001b[0m\n"
     ]
    },
    {
     "name": "stdout",
     "output_type": "stream",
     "text": [
      "1/1 [==============================] - 0s 31ms/step - loss: 0.5897 - accuracy: 0.7778\n"
     ]
    },
    {
     "name": "stderr",
     "output_type": "stream",
     "text": [
      "\u001b[32m[I 2022-05-24 01:07:33,152]\u001b[0m Trial 178 finished with value: 0.7777777910232544 and parameters: {'n_layers': 3, 'n_units': 150, 'dropout': 0.1, 'optimizer': 'RMSprop'}. Best is trial 27 with value: 0.8888888955116272.\u001b[0m\n"
     ]
    },
    {
     "name": "stdout",
     "output_type": "stream",
     "text": [
      "1/1 [==============================] - 0s 31ms/step - loss: 0.5770 - accuracy: 0.7222\n"
     ]
    },
    {
     "name": "stderr",
     "output_type": "stream",
     "text": [
      "\u001b[32m[I 2022-05-24 01:07:34,408]\u001b[0m Trial 179 finished with value: 0.7222222089767456 and parameters: {'n_layers': 4, 'n_units': 150, 'dropout': 0.2, 'optimizer': 'Adam'}. Best is trial 27 with value: 0.8888888955116272.\u001b[0m\n"
     ]
    },
    {
     "name": "stdout",
     "output_type": "stream",
     "text": [
      "1/1 [==============================] - 0s 31ms/step - loss: 0.7171 - accuracy: 0.6111\n"
     ]
    },
    {
     "name": "stderr",
     "output_type": "stream",
     "text": [
      "\u001b[32m[I 2022-05-24 01:07:35,413]\u001b[0m Trial 180 finished with value: 0.6111111044883728 and parameters: {'n_layers': 3, 'n_units': 150, 'dropout': 0.1, 'optimizer': 'RMSprop'}. Best is trial 27 with value: 0.8888888955116272.\u001b[0m\n"
     ]
    },
    {
     "name": "stdout",
     "output_type": "stream",
     "text": [
      "1/1 [==============================] - 0s 16ms/step - loss: 0.6169 - accuracy: 0.7222\n"
     ]
    },
    {
     "name": "stderr",
     "output_type": "stream",
     "text": [
      "\u001b[32m[I 2022-05-24 01:07:36,604]\u001b[0m Trial 181 finished with value: 0.7222222089767456 and parameters: {'n_layers': 4, 'n_units': 150, 'dropout': 0.2, 'optimizer': 'RMSprop'}. Best is trial 27 with value: 0.8888888955116272.\u001b[0m\n"
     ]
    },
    {
     "name": "stdout",
     "output_type": "stream",
     "text": [
      "1/1 [==============================] - 0s 16ms/step - loss: 0.6504 - accuracy: 0.7778\n"
     ]
    },
    {
     "name": "stderr",
     "output_type": "stream",
     "text": [
      "\u001b[32m[I 2022-05-24 01:07:37,985]\u001b[0m Trial 182 finished with value: 0.7777777910232544 and parameters: {'n_layers': 3, 'n_units': 150, 'dropout': 0.1, 'optimizer': 'RMSprop'}. Best is trial 27 with value: 0.8888888955116272.\u001b[0m\n"
     ]
    },
    {
     "name": "stdout",
     "output_type": "stream",
     "text": [
      "1/1 [==============================] - 0s 16ms/step - loss: 0.5477 - accuracy: 0.7222\n"
     ]
    },
    {
     "name": "stderr",
     "output_type": "stream",
     "text": [
      "\u001b[32m[I 2022-05-24 01:07:39,804]\u001b[0m Trial 183 finished with value: 0.7222222089767456 and parameters: {'n_layers': 4, 'n_units': 150, 'dropout': 0.2, 'optimizer': 'Adam'}. Best is trial 27 with value: 0.8888888955116272.\u001b[0m\n"
     ]
    },
    {
     "name": "stdout",
     "output_type": "stream",
     "text": [
      "1/1 [==============================] - 0s 20ms/step - loss: 0.6219 - accuracy: 0.7778\n"
     ]
    },
    {
     "name": "stderr",
     "output_type": "stream",
     "text": [
      "\u001b[32m[I 2022-05-24 01:07:41,008]\u001b[0m Trial 184 finished with value: 0.7777777910232544 and parameters: {'n_layers': 4, 'n_units': 150, 'dropout': 0.1, 'optimizer': 'Adam'}. Best is trial 27 with value: 0.8888888955116272.\u001b[0m\n"
     ]
    },
    {
     "name": "stdout",
     "output_type": "stream",
     "text": [
      "1/1 [==============================] - 0s 16ms/step - loss: 0.5646 - accuracy: 0.7222\n"
     ]
    },
    {
     "name": "stderr",
     "output_type": "stream",
     "text": [
      "\u001b[32m[I 2022-05-24 01:07:42,331]\u001b[0m Trial 185 finished with value: 0.7222222089767456 and parameters: {'n_layers': 3, 'n_units': 150, 'dropout': 0.1, 'optimizer': 'RMSprop'}. Best is trial 27 with value: 0.8888888955116272.\u001b[0m\n"
     ]
    },
    {
     "name": "stdout",
     "output_type": "stream",
     "text": [
      "1/1 [==============================] - 0s 23ms/step - loss: 0.6990 - accuracy: 0.3889\n"
     ]
    },
    {
     "name": "stderr",
     "output_type": "stream",
     "text": [
      "\u001b[32m[I 2022-05-24 01:07:43,471]\u001b[0m Trial 186 finished with value: 0.3888888955116272 and parameters: {'n_layers': 4, 'n_units': 150, 'dropout': 0.2, 'optimizer': 'SGD'}. Best is trial 27 with value: 0.8888888955116272.\u001b[0m\n"
     ]
    },
    {
     "name": "stdout",
     "output_type": "stream",
     "text": [
      "1/1 [==============================] - 0s 22ms/step - loss: 0.5913 - accuracy: 0.8333\n"
     ]
    },
    {
     "name": "stderr",
     "output_type": "stream",
     "text": [
      "\u001b[32m[I 2022-05-24 01:07:44,790]\u001b[0m Trial 187 finished with value: 0.8333333134651184 and parameters: {'n_layers': 3, 'n_units': 150, 'dropout': 0.0, 'optimizer': 'Adam'}. Best is trial 27 with value: 0.8888888955116272.\u001b[0m\n"
     ]
    },
    {
     "name": "stdout",
     "output_type": "stream",
     "text": [
      "1/1 [==============================] - 0s 20ms/step - loss: 0.7466 - accuracy: 0.8333\n"
     ]
    },
    {
     "name": "stderr",
     "output_type": "stream",
     "text": [
      "\u001b[32m[I 2022-05-24 01:07:46,123]\u001b[0m Trial 188 finished with value: 0.8333333134651184 and parameters: {'n_layers': 4, 'n_units': 200, 'dropout': 0.0, 'optimizer': 'Adam'}. Best is trial 27 with value: 0.8888888955116272.\u001b[0m\n"
     ]
    },
    {
     "name": "stdout",
     "output_type": "stream",
     "text": [
      "1/1 [==============================] - 0s 42ms/step - loss: 0.7803 - accuracy: 0.7222\n"
     ]
    },
    {
     "name": "stderr",
     "output_type": "stream",
     "text": [
      "\u001b[32m[I 2022-05-24 01:07:47,477]\u001b[0m Trial 189 finished with value: 0.7222222089767456 and parameters: {'n_layers': 4, 'n_units': 150, 'dropout': 0.0, 'optimizer': 'Adam'}. Best is trial 27 with value: 0.8888888955116272.\u001b[0m\n"
     ]
    },
    {
     "name": "stdout",
     "output_type": "stream",
     "text": [
      "1/1 [==============================] - 0s 23ms/step - loss: 0.5195 - accuracy: 0.8333\n"
     ]
    },
    {
     "name": "stderr",
     "output_type": "stream",
     "text": [
      "\u001b[32m[I 2022-05-24 01:07:48,886]\u001b[0m Trial 190 finished with value: 0.8333333134651184 and parameters: {'n_layers': 3, 'n_units': 150, 'dropout': 0.0, 'optimizer': 'RMSprop'}. Best is trial 27 with value: 0.8888888955116272.\u001b[0m\n"
     ]
    },
    {
     "name": "stdout",
     "output_type": "stream",
     "text": [
      "1/1 [==============================] - 0s 24ms/step - loss: 0.7412 - accuracy: 0.7222\n"
     ]
    },
    {
     "name": "stderr",
     "output_type": "stream",
     "text": [
      "\u001b[32m[I 2022-05-24 01:07:50,266]\u001b[0m Trial 191 finished with value: 0.7222222089767456 and parameters: {'n_layers': 4, 'n_units': 200, 'dropout': 0.2, 'optimizer': 'Adam'}. Best is trial 27 with value: 0.8888888955116272.\u001b[0m\n"
     ]
    },
    {
     "name": "stdout",
     "output_type": "stream",
     "text": [
      "1/1 [==============================] - 0s 31ms/step - loss: 0.5702 - accuracy: 0.8333\n"
     ]
    },
    {
     "name": "stderr",
     "output_type": "stream",
     "text": [
      "\u001b[32m[I 2022-05-24 01:07:51,633]\u001b[0m Trial 192 finished with value: 0.8333333134651184 and parameters: {'n_layers': 3, 'n_units': 150, 'dropout': 0.0, 'optimizer': 'RMSprop'}. Best is trial 27 with value: 0.8888888955116272.\u001b[0m\n"
     ]
    },
    {
     "name": "stdout",
     "output_type": "stream",
     "text": [
      "1/1 [==============================] - 0s 31ms/step - loss: 0.6953 - accuracy: 0.5556\n"
     ]
    },
    {
     "name": "stderr",
     "output_type": "stream",
     "text": [
      "\u001b[32m[I 2022-05-24 01:07:52,657]\u001b[0m Trial 193 finished with value: 0.5555555820465088 and parameters: {'n_layers': 3, 'n_units': 50, 'dropout': 0.2, 'optimizer': 'Adam'}. Best is trial 27 with value: 0.8888888955116272.\u001b[0m\n"
     ]
    },
    {
     "name": "stdout",
     "output_type": "stream",
     "text": [
      "1/1 [==============================] - 0s 14ms/step - loss: 0.5041 - accuracy: 0.7778\n"
     ]
    },
    {
     "name": "stderr",
     "output_type": "stream",
     "text": [
      "\u001b[32m[I 2022-05-24 01:07:53,819]\u001b[0m Trial 194 finished with value: 0.7777777910232544 and parameters: {'n_layers': 3, 'n_units': 150, 'dropout': 0.1, 'optimizer': 'RMSprop'}. Best is trial 27 with value: 0.8888888955116272.\u001b[0m\n"
     ]
    },
    {
     "name": "stdout",
     "output_type": "stream",
     "text": [
      "1/1 [==============================] - 0s 22ms/step - loss: 0.6986 - accuracy: 0.7778\n"
     ]
    },
    {
     "name": "stderr",
     "output_type": "stream",
     "text": [
      "\u001b[32m[I 2022-05-24 01:07:55,171]\u001b[0m Trial 195 finished with value: 0.7777777910232544 and parameters: {'n_layers': 3, 'n_units': 150, 'dropout': 0.1, 'optimizer': 'RMSprop'}. Best is trial 27 with value: 0.8888888955116272.\u001b[0m\n"
     ]
    },
    {
     "name": "stdout",
     "output_type": "stream",
     "text": [
      "1/1 [==============================] - 0s 26ms/step - loss: 0.6156 - accuracy: 0.8333\n"
     ]
    },
    {
     "name": "stderr",
     "output_type": "stream",
     "text": [
      "\u001b[32m[I 2022-05-24 01:07:56,722]\u001b[0m Trial 196 finished with value: 0.8333333134651184 and parameters: {'n_layers': 3, 'n_units': 150, 'dropout': 0.1, 'optimizer': 'RMSprop'}. Best is trial 27 with value: 0.8888888955116272.\u001b[0m\n"
     ]
    },
    {
     "name": "stdout",
     "output_type": "stream",
     "text": [
      "1/1 [==============================] - 0s 16ms/step - loss: 0.6017 - accuracy: 0.7778\n"
     ]
    },
    {
     "name": "stderr",
     "output_type": "stream",
     "text": [
      "\u001b[32m[I 2022-05-24 01:07:58,289]\u001b[0m Trial 197 finished with value: 0.7777777910232544 and parameters: {'n_layers': 5, 'n_units': 200, 'dropout': 0.2, 'optimizer': 'Adam'}. Best is trial 27 with value: 0.8888888955116272.\u001b[0m\n"
     ]
    },
    {
     "name": "stdout",
     "output_type": "stream",
     "text": [
      "1/1 [==============================] - 0s 31ms/step - loss: 0.7245 - accuracy: 0.8333\n"
     ]
    },
    {
     "name": "stderr",
     "output_type": "stream",
     "text": [
      "\u001b[32m[I 2022-05-24 01:07:59,578]\u001b[0m Trial 198 finished with value: 0.8333333134651184 and parameters: {'n_layers': 5, 'n_units': 200, 'dropout': 0.2, 'optimizer': 'Adam'}. Best is trial 27 with value: 0.8888888955116272.\u001b[0m\n"
     ]
    },
    {
     "name": "stdout",
     "output_type": "stream",
     "text": [
      "1/1 [==============================] - 0s 16ms/step - loss: 0.7163 - accuracy: 0.6667\n"
     ]
    },
    {
     "name": "stderr",
     "output_type": "stream",
     "text": [
      "\u001b[32m[I 2022-05-24 01:08:00,812]\u001b[0m Trial 199 finished with value: 0.6666666865348816 and parameters: {'n_layers': 5, 'n_units': 200, 'dropout': 0.2, 'optimizer': 'Adam'}. Best is trial 27 with value: 0.8888888955116272.\u001b[0m\n"
     ]
    },
    {
     "name": "stdout",
     "output_type": "stream",
     "text": [
      "1/1 [==============================] - 0s 31ms/step - loss: 1.2293 - accuracy: 0.5556\n"
     ]
    },
    {
     "name": "stderr",
     "output_type": "stream",
     "text": [
      "\u001b[32m[I 2022-05-24 01:08:02,310]\u001b[0m Trial 200 finished with value: 0.5555555820465088 and parameters: {'n_layers': 5, 'n_units': 200, 'dropout': 0.2, 'optimizer': 'Adam'}. Best is trial 27 with value: 0.8888888955116272.\u001b[0m\n"
     ]
    },
    {
     "name": "stdout",
     "output_type": "stream",
     "text": [
      "1/1 [==============================] - 0s 31ms/step - loss: 0.6434 - accuracy: 0.6667\n"
     ]
    },
    {
     "name": "stderr",
     "output_type": "stream",
     "text": [
      "\u001b[32m[I 2022-05-24 01:08:04,059]\u001b[0m Trial 201 finished with value: 0.6666666865348816 and parameters: {'n_layers': 3, 'n_units': 150, 'dropout': 0.0, 'optimizer': 'RMSprop'}. Best is trial 27 with value: 0.8888888955116272.\u001b[0m\n"
     ]
    },
    {
     "name": "stdout",
     "output_type": "stream",
     "text": [
      "1/1 [==============================] - 0s 31ms/step - loss: 0.7258 - accuracy: 0.7778\n"
     ]
    },
    {
     "name": "stderr",
     "output_type": "stream",
     "text": [
      "\u001b[32m[I 2022-05-24 01:08:05,578]\u001b[0m Trial 202 finished with value: 0.7777777910232544 and parameters: {'n_layers': 5, 'n_units': 250, 'dropout': 0.0, 'optimizer': 'RMSprop'}. Best is trial 27 with value: 0.8888888955116272.\u001b[0m\n"
     ]
    },
    {
     "name": "stdout",
     "output_type": "stream",
     "text": [
      "1/1 [==============================] - 0s 16ms/step - loss: 0.5756 - accuracy: 0.7778\n"
     ]
    },
    {
     "name": "stderr",
     "output_type": "stream",
     "text": [
      "\u001b[32m[I 2022-05-24 01:08:06,943]\u001b[0m Trial 203 finished with value: 0.7777777910232544 and parameters: {'n_layers': 4, 'n_units': 150, 'dropout': 0.1, 'optimizer': 'RMSprop'}. Best is trial 27 with value: 0.8888888955116272.\u001b[0m\n"
     ]
    },
    {
     "name": "stdout",
     "output_type": "stream",
     "text": [
      "1/1 [==============================] - 0s 16ms/step - loss: 0.9364 - accuracy: 0.7778\n"
     ]
    },
    {
     "name": "stderr",
     "output_type": "stream",
     "text": [
      "\u001b[32m[I 2022-05-24 01:08:08,647]\u001b[0m Trial 204 finished with value: 0.7777777910232544 and parameters: {'n_layers': 4, 'n_units': 150, 'dropout': 0.2, 'optimizer': 'Adam'}. Best is trial 27 with value: 0.8888888955116272.\u001b[0m\n"
     ]
    },
    {
     "name": "stdout",
     "output_type": "stream",
     "text": [
      "1/1 [==============================] - 0s 18ms/step - loss: 0.5762 - accuracy: 0.7778\n"
     ]
    },
    {
     "name": "stderr",
     "output_type": "stream",
     "text": [
      "\u001b[32m[I 2022-05-24 01:08:10,461]\u001b[0m Trial 205 finished with value: 0.7777777910232544 and parameters: {'n_layers': 4, 'n_units': 150, 'dropout': 0.1, 'optimizer': 'RMSprop'}. Best is trial 27 with value: 0.8888888955116272.\u001b[0m\n"
     ]
    },
    {
     "name": "stdout",
     "output_type": "stream",
     "text": [
      "1/1 [==============================] - 0s 16ms/step - loss: 0.4886 - accuracy: 0.8333\n"
     ]
    },
    {
     "name": "stderr",
     "output_type": "stream",
     "text": [
      "\u001b[32m[I 2022-05-24 01:08:11,614]\u001b[0m Trial 206 finished with value: 0.8333333134651184 and parameters: {'n_layers': 4, 'n_units': 150, 'dropout': 0.1, 'optimizer': 'Adam'}. Best is trial 27 with value: 0.8888888955116272.\u001b[0m\n"
     ]
    },
    {
     "name": "stdout",
     "output_type": "stream",
     "text": [
      "1/1 [==============================] - 0s 31ms/step - loss: 0.8438 - accuracy: 0.5556\n"
     ]
    },
    {
     "name": "stderr",
     "output_type": "stream",
     "text": [
      "\u001b[32m[I 2022-05-24 01:08:12,783]\u001b[0m Trial 207 finished with value: 0.5555555820465088 and parameters: {'n_layers': 5, 'n_units': 200, 'dropout': 0.2, 'optimizer': 'Adam'}. Best is trial 27 with value: 0.8888888955116272.\u001b[0m\n"
     ]
    },
    {
     "name": "stdout",
     "output_type": "stream",
     "text": [
      "1/1 [==============================] - 0s 34ms/step - loss: 0.7675 - accuracy: 0.7778\n"
     ]
    },
    {
     "name": "stderr",
     "output_type": "stream",
     "text": [
      "\u001b[32m[I 2022-05-24 01:08:14,316]\u001b[0m Trial 208 finished with value: 0.7777777910232544 and parameters: {'n_layers': 5, 'n_units': 150, 'dropout': 0.0, 'optimizer': 'Adam'}. Best is trial 27 with value: 0.8888888955116272.\u001b[0m\n"
     ]
    },
    {
     "name": "stdout",
     "output_type": "stream",
     "text": [
      "1/1 [==============================] - 0s 22ms/step - loss: 0.4991 - accuracy: 0.8333\n"
     ]
    },
    {
     "name": "stderr",
     "output_type": "stream",
     "text": [
      "\u001b[32m[I 2022-05-24 01:08:15,386]\u001b[0m Trial 209 finished with value: 0.8333333134651184 and parameters: {'n_layers': 2, 'n_units': 200, 'dropout': 0.2, 'optimizer': 'Adam'}. Best is trial 27 with value: 0.8888888955116272.\u001b[0m\n"
     ]
    },
    {
     "name": "stdout",
     "output_type": "stream",
     "text": [
      "1/1 [==============================] - 0s 20ms/step - loss: 0.7150 - accuracy: 0.6667\n"
     ]
    },
    {
     "name": "stderr",
     "output_type": "stream",
     "text": [
      "\u001b[32m[I 2022-05-24 01:08:16,664]\u001b[0m Trial 210 finished with value: 0.6666666865348816 and parameters: {'n_layers': 4, 'n_units': 150, 'dropout': 0.2, 'optimizer': 'RMSprop'}. Best is trial 27 with value: 0.8888888955116272.\u001b[0m\n"
     ]
    },
    {
     "name": "stdout",
     "output_type": "stream",
     "text": [
      "1/1 [==============================] - 0s 20ms/step - loss: 0.5450 - accuracy: 0.7778\n"
     ]
    },
    {
     "name": "stderr",
     "output_type": "stream",
     "text": [
      "\u001b[32m[I 2022-05-24 01:08:17,923]\u001b[0m Trial 211 finished with value: 0.7777777910232544 and parameters: {'n_layers': 3, 'n_units': 150, 'dropout': 0.0, 'optimizer': 'Adam'}. Best is trial 27 with value: 0.8888888955116272.\u001b[0m\n"
     ]
    },
    {
     "name": "stdout",
     "output_type": "stream",
     "text": [
      "1/1 [==============================] - 0s 50ms/step - loss: 0.6945 - accuracy: 0.7778\n"
     ]
    },
    {
     "name": "stderr",
     "output_type": "stream",
     "text": [
      "\u001b[32m[I 2022-05-24 01:08:19,680]\u001b[0m Trial 212 finished with value: 0.7777777910232544 and parameters: {'n_layers': 4, 'n_units': 150, 'dropout': 0.1, 'optimizer': 'RMSprop'}. Best is trial 27 with value: 0.8888888955116272.\u001b[0m\n"
     ]
    },
    {
     "name": "stdout",
     "output_type": "stream",
     "text": [
      "1/1 [==============================] - 0s 31ms/step - loss: 0.6860 - accuracy: 0.7222\n"
     ]
    },
    {
     "name": "stderr",
     "output_type": "stream",
     "text": [
      "\u001b[32m[I 2022-05-24 01:08:21,012]\u001b[0m Trial 213 finished with value: 0.7222222089767456 and parameters: {'n_layers': 3, 'n_units': 150, 'dropout': 0.0, 'optimizer': 'RMSprop'}. Best is trial 27 with value: 0.8888888955116272.\u001b[0m\n"
     ]
    },
    {
     "name": "stdout",
     "output_type": "stream",
     "text": [
      "1/1 [==============================] - 0s 16ms/step - loss: 0.5140 - accuracy: 0.8333\n"
     ]
    },
    {
     "name": "stderr",
     "output_type": "stream",
     "text": [
      "\u001b[32m[I 2022-05-24 01:08:22,215]\u001b[0m Trial 214 finished with value: 0.8333333134651184 and parameters: {'n_layers': 3, 'n_units': 150, 'dropout': 0.0, 'optimizer': 'Adam'}. Best is trial 27 with value: 0.8888888955116272.\u001b[0m\n"
     ]
    },
    {
     "name": "stdout",
     "output_type": "stream",
     "text": [
      "1/1 [==============================] - 0s 31ms/step - loss: 0.9800 - accuracy: 0.8333\n"
     ]
    },
    {
     "name": "stderr",
     "output_type": "stream",
     "text": [
      "\u001b[32m[I 2022-05-24 01:08:23,530]\u001b[0m Trial 215 finished with value: 0.8333333134651184 and parameters: {'n_layers': 5, 'n_units': 200, 'dropout': 0.0, 'optimizer': 'Adam'}. Best is trial 27 with value: 0.8888888955116272.\u001b[0m\n"
     ]
    },
    {
     "name": "stdout",
     "output_type": "stream",
     "text": [
      "1/1 [==============================] - 0s 16ms/step - loss: 0.6769 - accuracy: 0.7222\n"
     ]
    },
    {
     "name": "stderr",
     "output_type": "stream",
     "text": [
      "\u001b[32m[I 2022-05-24 01:08:26,075]\u001b[0m Trial 216 finished with value: 0.7222222089767456 and parameters: {'n_layers': 5, 'n_units': 200, 'dropout': 0.1, 'optimizer': 'RMSprop'}. Best is trial 27 with value: 0.8888888955116272.\u001b[0m\n"
     ]
    },
    {
     "name": "stdout",
     "output_type": "stream",
     "text": [
      "1/1 [==============================] - 0s 31ms/step - loss: 0.4342 - accuracy: 0.8333\n"
     ]
    },
    {
     "name": "stderr",
     "output_type": "stream",
     "text": [
      "\u001b[32m[I 2022-05-24 01:08:27,687]\u001b[0m Trial 217 finished with value: 0.8333333134651184 and parameters: {'n_layers': 3, 'n_units': 150, 'dropout': 0.0, 'optimizer': 'RMSprop'}. Best is trial 27 with value: 0.8888888955116272.\u001b[0m\n"
     ]
    },
    {
     "name": "stdout",
     "output_type": "stream",
     "text": [
      "1/1 [==============================] - 0s 16ms/step - loss: 0.6530 - accuracy: 0.7778\n"
     ]
    },
    {
     "name": "stderr",
     "output_type": "stream",
     "text": [
      "\u001b[32m[I 2022-05-24 01:08:29,397]\u001b[0m Trial 218 finished with value: 0.7777777910232544 and parameters: {'n_layers': 5, 'n_units': 200, 'dropout': 0.2, 'optimizer': 'Adam'}. Best is trial 27 with value: 0.8888888955116272.\u001b[0m\n"
     ]
    },
    {
     "name": "stdout",
     "output_type": "stream",
     "text": [
      "1/1 [==============================] - 0s 16ms/step - loss: 0.5224 - accuracy: 0.8333\n"
     ]
    },
    {
     "name": "stderr",
     "output_type": "stream",
     "text": [
      "\u001b[32m[I 2022-05-24 01:08:30,779]\u001b[0m Trial 219 finished with value: 0.8333333134651184 and parameters: {'n_layers': 3, 'n_units': 150, 'dropout': 0.1, 'optimizer': 'RMSprop'}. Best is trial 27 with value: 0.8888888955116272.\u001b[0m\n"
     ]
    },
    {
     "name": "stdout",
     "output_type": "stream",
     "text": [
      "1/1 [==============================] - 0s 16ms/step - loss: 0.4961 - accuracy: 0.8333\n"
     ]
    },
    {
     "name": "stderr",
     "output_type": "stream",
     "text": [
      "\u001b[32m[I 2022-05-24 01:08:31,947]\u001b[0m Trial 220 finished with value: 0.8333333134651184 and parameters: {'n_layers': 3, 'n_units': 150, 'dropout': 0.0, 'optimizer': 'RMSprop'}. Best is trial 27 with value: 0.8888888955116272.\u001b[0m\n"
     ]
    },
    {
     "name": "stdout",
     "output_type": "stream",
     "text": [
      "1/1 [==============================] - 0s 27ms/step - loss: 0.5863 - accuracy: 0.7222\n"
     ]
    },
    {
     "name": "stderr",
     "output_type": "stream",
     "text": [
      "\u001b[32m[I 2022-05-24 01:08:33,358]\u001b[0m Trial 221 finished with value: 0.7222222089767456 and parameters: {'n_layers': 4, 'n_units': 150, 'dropout': 0.2, 'optimizer': 'Adam'}. Best is trial 27 with value: 0.8888888955116272.\u001b[0m\n"
     ]
    },
    {
     "name": "stdout",
     "output_type": "stream",
     "text": [
      "1/1 [==============================] - 0s 31ms/step - loss: 0.6846 - accuracy: 0.7778\n"
     ]
    },
    {
     "name": "stderr",
     "output_type": "stream",
     "text": [
      "\u001b[32m[I 2022-05-24 01:08:34,333]\u001b[0m Trial 222 finished with value: 0.7777777910232544 and parameters: {'n_layers': 3, 'n_units': 150, 'dropout': 0.0, 'optimizer': 'RMSprop'}. Best is trial 27 with value: 0.8888888955116272.\u001b[0m\n"
     ]
    },
    {
     "name": "stdout",
     "output_type": "stream",
     "text": [
      "1/1 [==============================] - 0s 47ms/step - loss: 0.5587 - accuracy: 0.7778\n"
     ]
    },
    {
     "name": "stderr",
     "output_type": "stream",
     "text": [
      "\u001b[32m[I 2022-05-24 01:08:35,198]\u001b[0m Trial 223 finished with value: 0.7777777910232544 and parameters: {'n_layers': 2, 'n_units': 200, 'dropout': 0.0, 'optimizer': 'Adam'}. Best is trial 27 with value: 0.8888888955116272.\u001b[0m\n"
     ]
    },
    {
     "name": "stdout",
     "output_type": "stream",
     "text": [
      "1/1 [==============================] - 0s 40ms/step - loss: 0.5145 - accuracy: 0.7778\n"
     ]
    },
    {
     "name": "stderr",
     "output_type": "stream",
     "text": [
      "\u001b[32m[I 2022-05-24 01:08:36,574]\u001b[0m Trial 224 finished with value: 0.7777777910232544 and parameters: {'n_layers': 2, 'n_units': 200, 'dropout': 0.2, 'optimizer': 'Adam'}. Best is trial 27 with value: 0.8888888955116272.\u001b[0m\n"
     ]
    },
    {
     "name": "stdout",
     "output_type": "stream",
     "text": [
      "1/1 [==============================] - 0s 33ms/step - loss: 0.6160 - accuracy: 0.7778\n"
     ]
    },
    {
     "name": "stderr",
     "output_type": "stream",
     "text": [
      "\u001b[32m[I 2022-05-24 01:08:37,965]\u001b[0m Trial 225 finished with value: 0.7777777910232544 and parameters: {'n_layers': 3, 'n_units': 150, 'dropout': 0.1, 'optimizer': 'RMSprop'}. Best is trial 27 with value: 0.8888888955116272.\u001b[0m\n"
     ]
    },
    {
     "name": "stdout",
     "output_type": "stream",
     "text": [
      "1/1 [==============================] - 0s 31ms/step - loss: 0.5365 - accuracy: 0.8333\n"
     ]
    },
    {
     "name": "stderr",
     "output_type": "stream",
     "text": [
      "\u001b[32m[I 2022-05-24 01:08:39,159]\u001b[0m Trial 226 finished with value: 0.8333333134651184 and parameters: {'n_layers': 3, 'n_units': 150, 'dropout': 0.1, 'optimizer': 'RMSprop'}. Best is trial 27 with value: 0.8888888955116272.\u001b[0m\n"
     ]
    },
    {
     "name": "stdout",
     "output_type": "stream",
     "text": [
      "1/1 [==============================] - 0s 31ms/step - loss: 0.5609 - accuracy: 0.8333\n"
     ]
    },
    {
     "name": "stderr",
     "output_type": "stream",
     "text": [
      "\u001b[32m[I 2022-05-24 01:08:40,638]\u001b[0m Trial 227 finished with value: 0.8333333134651184 and parameters: {'n_layers': 3, 'n_units': 150, 'dropout': 0.1, 'optimizer': 'RMSprop'}. Best is trial 27 with value: 0.8888888955116272.\u001b[0m\n"
     ]
    },
    {
     "name": "stdout",
     "output_type": "stream",
     "text": [
      "1/1 [==============================] - 0s 31ms/step - loss: 0.5486 - accuracy: 0.6667\n"
     ]
    },
    {
     "name": "stderr",
     "output_type": "stream",
     "text": [
      "\u001b[32m[I 2022-05-24 01:08:41,996]\u001b[0m Trial 228 finished with value: 0.6666666865348816 and parameters: {'n_layers': 3, 'n_units': 150, 'dropout': 0.1, 'optimizer': 'RMSprop'}. Best is trial 27 with value: 0.8888888955116272.\u001b[0m\n"
     ]
    },
    {
     "name": "stdout",
     "output_type": "stream",
     "text": [
      "1/1 [==============================] - 0s 31ms/step - loss: 0.6304 - accuracy: 0.8333\n"
     ]
    },
    {
     "name": "stderr",
     "output_type": "stream",
     "text": [
      "\u001b[32m[I 2022-05-24 01:08:43,337]\u001b[0m Trial 229 finished with value: 0.8333333134651184 and parameters: {'n_layers': 2, 'n_units': 200, 'dropout': 0.0, 'optimizer': 'Adam'}. Best is trial 27 with value: 0.8888888955116272.\u001b[0m\n"
     ]
    },
    {
     "name": "stdout",
     "output_type": "stream",
     "text": [
      "1/1 [==============================] - 0s 16ms/step - loss: 0.6690 - accuracy: 0.5000\n"
     ]
    },
    {
     "name": "stderr",
     "output_type": "stream",
     "text": [
      "\u001b[32m[I 2022-05-24 01:08:44,629]\u001b[0m Trial 230 finished with value: 0.5 and parameters: {'n_layers': 4, 'n_units': 150, 'dropout': 0.2, 'optimizer': 'SGD'}. Best is trial 27 with value: 0.8888888955116272.\u001b[0m\n"
     ]
    },
    {
     "name": "stdout",
     "output_type": "stream",
     "text": [
      "1/1 [==============================] - 0s 16ms/step - loss: 0.5893 - accuracy: 0.7778\n"
     ]
    },
    {
     "name": "stderr",
     "output_type": "stream",
     "text": [
      "\u001b[32m[I 2022-05-24 01:08:45,810]\u001b[0m Trial 231 finished with value: 0.7777777910232544 and parameters: {'n_layers': 2, 'n_units': 150, 'dropout': 0.1, 'optimizer': 'Adam'}. Best is trial 27 with value: 0.8888888955116272.\u001b[0m\n"
     ]
    },
    {
     "name": "stdout",
     "output_type": "stream",
     "text": [
      "1/1 [==============================] - 0s 16ms/step - loss: 0.8470 - accuracy: 0.6667\n"
     ]
    },
    {
     "name": "stderr",
     "output_type": "stream",
     "text": [
      "\u001b[32m[I 2022-05-24 01:08:46,812]\u001b[0m Trial 232 finished with value: 0.6666666865348816 and parameters: {'n_layers': 3, 'n_units': 150, 'dropout': 0.0, 'optimizer': 'RMSprop'}. Best is trial 27 with value: 0.8888888955116272.\u001b[0m\n"
     ]
    },
    {
     "name": "stdout",
     "output_type": "stream",
     "text": [
      "1/1 [==============================] - 0s 20ms/step - loss: 0.5723 - accuracy: 0.7778\n"
     ]
    },
    {
     "name": "stderr",
     "output_type": "stream",
     "text": [
      "\u001b[32m[I 2022-05-24 01:08:47,730]\u001b[0m Trial 233 finished with value: 0.7777777910232544 and parameters: {'n_layers': 3, 'n_units': 200, 'dropout': 0.0, 'optimizer': 'Adam'}. Best is trial 27 with value: 0.8888888955116272.\u001b[0m\n"
     ]
    },
    {
     "name": "stdout",
     "output_type": "stream",
     "text": [
      "1/1 [==============================] - 0s 28ms/step - loss: 0.6144 - accuracy: 0.7778\n"
     ]
    },
    {
     "name": "stderr",
     "output_type": "stream",
     "text": [
      "\u001b[32m[I 2022-05-24 01:08:49,045]\u001b[0m Trial 234 finished with value: 0.7777777910232544 and parameters: {'n_layers': 4, 'n_units': 200, 'dropout': 0.2, 'optimizer': 'Adam'}. Best is trial 27 with value: 0.8888888955116272.\u001b[0m\n"
     ]
    },
    {
     "name": "stdout",
     "output_type": "stream",
     "text": [
      "1/1 [==============================] - 0s 16ms/step - loss: 0.5448 - accuracy: 0.7222\n"
     ]
    },
    {
     "name": "stderr",
     "output_type": "stream",
     "text": [
      "\u001b[32m[I 2022-05-24 01:08:50,709]\u001b[0m Trial 235 finished with value: 0.7222222089767456 and parameters: {'n_layers': 3, 'n_units': 150, 'dropout': 0.1, 'optimizer': 'RMSprop'}. Best is trial 27 with value: 0.8888888955116272.\u001b[0m\n"
     ]
    },
    {
     "name": "stdout",
     "output_type": "stream",
     "text": [
      "1/1 [==============================] - 0s 31ms/step - loss: 0.6116 - accuracy: 0.8333\n"
     ]
    },
    {
     "name": "stderr",
     "output_type": "stream",
     "text": [
      "\u001b[32m[I 2022-05-24 01:08:51,845]\u001b[0m Trial 236 finished with value: 0.8333333134651184 and parameters: {'n_layers': 4, 'n_units': 150, 'dropout': 0.1, 'optimizer': 'Adam'}. Best is trial 27 with value: 0.8888888955116272.\u001b[0m\n"
     ]
    },
    {
     "name": "stdout",
     "output_type": "stream",
     "text": [
      "1/1 [==============================] - 0s 16ms/step - loss: 0.6972 - accuracy: 0.7222\n"
     ]
    },
    {
     "name": "stderr",
     "output_type": "stream",
     "text": [
      "\u001b[32m[I 2022-05-24 01:08:53,617]\u001b[0m Trial 237 finished with value: 0.7222222089767456 and parameters: {'n_layers': 3, 'n_units': 150, 'dropout': 0.1, 'optimizer': 'RMSprop'}. Best is trial 27 with value: 0.8888888955116272.\u001b[0m\n"
     ]
    },
    {
     "name": "stdout",
     "output_type": "stream",
     "text": [
      "1/1 [==============================] - 0s 31ms/step - loss: 0.6642 - accuracy: 0.6111\n"
     ]
    },
    {
     "name": "stderr",
     "output_type": "stream",
     "text": [
      "\u001b[32m[I 2022-05-24 01:08:54,962]\u001b[0m Trial 238 finished with value: 0.6111111044883728 and parameters: {'n_layers': 4, 'n_units': 150, 'dropout': 0.4, 'optimizer': 'Adam'}. Best is trial 27 with value: 0.8888888955116272.\u001b[0m\n"
     ]
    },
    {
     "name": "stdout",
     "output_type": "stream",
     "text": [
      "1/1 [==============================] - 0s 16ms/step - loss: 0.7433 - accuracy: 0.7222\n"
     ]
    },
    {
     "name": "stderr",
     "output_type": "stream",
     "text": [
      "\u001b[32m[I 2022-05-24 01:08:56,407]\u001b[0m Trial 239 finished with value: 0.7222222089767456 and parameters: {'n_layers': 3, 'n_units': 150, 'dropout': 0.1, 'optimizer': 'RMSprop'}. Best is trial 27 with value: 0.8888888955116272.\u001b[0m\n"
     ]
    },
    {
     "name": "stdout",
     "output_type": "stream",
     "text": [
      "1/1 [==============================] - 0s 16ms/step - loss: 1.1119 - accuracy: 0.6667\n"
     ]
    },
    {
     "name": "stderr",
     "output_type": "stream",
     "text": [
      "\u001b[32m[I 2022-05-24 01:08:57,333]\u001b[0m Trial 240 finished with value: 0.6666666865348816 and parameters: {'n_layers': 5, 'n_units': 150, 'dropout': 0.0, 'optimizer': 'Adam'}. Best is trial 27 with value: 0.8888888955116272.\u001b[0m\n"
     ]
    },
    {
     "name": "stdout",
     "output_type": "stream",
     "text": [
      "1/1 [==============================] - 0s 17ms/step - loss: 0.5719 - accuracy: 0.8333\n"
     ]
    },
    {
     "name": "stderr",
     "output_type": "stream",
     "text": [
      "\u001b[32m[I 2022-05-24 01:08:58,521]\u001b[0m Trial 241 finished with value: 0.8333333134651184 and parameters: {'n_layers': 5, 'n_units': 150, 'dropout': 0.2, 'optimizer': 'Adam'}. Best is trial 27 with value: 0.8888888955116272.\u001b[0m\n"
     ]
    },
    {
     "name": "stdout",
     "output_type": "stream",
     "text": [
      "1/1 [==============================] - 0s 31ms/step - loss: 0.5653 - accuracy: 0.7222\n"
     ]
    },
    {
     "name": "stderr",
     "output_type": "stream",
     "text": [
      "\u001b[32m[I 2022-05-24 01:09:00,116]\u001b[0m Trial 242 finished with value: 0.7222222089767456 and parameters: {'n_layers': 3, 'n_units': 150, 'dropout': 0.1, 'optimizer': 'RMSprop'}. Best is trial 27 with value: 0.8888888955116272.\u001b[0m\n"
     ]
    },
    {
     "name": "stdout",
     "output_type": "stream",
     "text": [
      "1/1 [==============================] - 0s 31ms/step - loss: 0.6971 - accuracy: 0.7222\n"
     ]
    },
    {
     "name": "stderr",
     "output_type": "stream",
     "text": [
      "\u001b[32m[I 2022-05-24 01:09:01,531]\u001b[0m Trial 243 finished with value: 0.7222222089767456 and parameters: {'n_layers': 3, 'n_units': 150, 'dropout': 0.1, 'optimizer': 'RMSprop'}. Best is trial 27 with value: 0.8888888955116272.\u001b[0m\n"
     ]
    },
    {
     "name": "stdout",
     "output_type": "stream",
     "text": [
      "1/1 [==============================] - 0s 16ms/step - loss: 0.5891 - accuracy: 0.7222\n"
     ]
    },
    {
     "name": "stderr",
     "output_type": "stream",
     "text": [
      "\u001b[32m[I 2022-05-24 01:09:02,520]\u001b[0m Trial 244 finished with value: 0.7222222089767456 and parameters: {'n_layers': 3, 'n_units': 150, 'dropout': 0.0, 'optimizer': 'Adam'}. Best is trial 27 with value: 0.8888888955116272.\u001b[0m\n"
     ]
    },
    {
     "name": "stdout",
     "output_type": "stream",
     "text": [
      "1/1 [==============================] - 0s 21ms/step - loss: 0.6177 - accuracy: 0.7778\n"
     ]
    },
    {
     "name": "stderr",
     "output_type": "stream",
     "text": [
      "\u001b[32m[I 2022-05-24 01:09:03,446]\u001b[0m Trial 245 finished with value: 0.7777777910232544 and parameters: {'n_layers': 2, 'n_units': 200, 'dropout': 0.0, 'optimizer': 'Adam'}. Best is trial 27 with value: 0.8888888955116272.\u001b[0m\n"
     ]
    },
    {
     "name": "stdout",
     "output_type": "stream",
     "text": [
      "1/1 [==============================] - 0s 25ms/step - loss: 0.5273 - accuracy: 0.7222\n"
     ]
    },
    {
     "name": "stderr",
     "output_type": "stream",
     "text": [
      "\u001b[32m[I 2022-05-24 01:09:04,655]\u001b[0m Trial 246 finished with value: 0.7222222089767456 and parameters: {'n_layers': 3, 'n_units': 150, 'dropout': 0.1, 'optimizer': 'RMSprop'}. Best is trial 27 with value: 0.8888888955116272.\u001b[0m\n"
     ]
    },
    {
     "name": "stdout",
     "output_type": "stream",
     "text": [
      "1/1 [==============================] - 0s 31ms/step - loss: 0.8352 - accuracy: 0.8333\n"
     ]
    },
    {
     "name": "stderr",
     "output_type": "stream",
     "text": [
      "\u001b[32m[I 2022-05-24 01:09:06,083]\u001b[0m Trial 247 finished with value: 0.8333333134651184 and parameters: {'n_layers': 5, 'n_units': 200, 'dropout': 0.0, 'optimizer': 'Adam'}. Best is trial 27 with value: 0.8888888955116272.\u001b[0m\n"
     ]
    },
    {
     "name": "stdout",
     "output_type": "stream",
     "text": [
      "1/1 [==============================] - 0s 16ms/step - loss: 0.6708 - accuracy: 0.8333\n"
     ]
    },
    {
     "name": "stderr",
     "output_type": "stream",
     "text": [
      "\u001b[32m[I 2022-05-24 01:09:07,830]\u001b[0m Trial 248 finished with value: 0.8333333134651184 and parameters: {'n_layers': 3, 'n_units': 150, 'dropout': 0.1, 'optimizer': 'RMSprop'}. Best is trial 27 with value: 0.8888888955116272.\u001b[0m\n"
     ]
    },
    {
     "name": "stdout",
     "output_type": "stream",
     "text": [
      "1/1 [==============================] - 0s 16ms/step - loss: 0.6341 - accuracy: 0.8333\n"
     ]
    },
    {
     "name": "stderr",
     "output_type": "stream",
     "text": [
      "\u001b[32m[I 2022-05-24 01:09:08,764]\u001b[0m Trial 249 finished with value: 0.8333333134651184 and parameters: {'n_layers': 2, 'n_units': 200, 'dropout': 0.0, 'optimizer': 'Adam'}. Best is trial 27 with value: 0.8888888955116272.\u001b[0m\n"
     ]
    },
    {
     "name": "stdout",
     "output_type": "stream",
     "text": [
      "1/1 [==============================] - 0s 16ms/step - loss: 0.6571 - accuracy: 0.7222\n"
     ]
    },
    {
     "name": "stderr",
     "output_type": "stream",
     "text": [
      "\u001b[32m[I 2022-05-24 01:09:09,829]\u001b[0m Trial 250 finished with value: 0.7222222089767456 and parameters: {'n_layers': 3, 'n_units': 150, 'dropout': 0.0, 'optimizer': 'RMSprop'}. Best is trial 27 with value: 0.8888888955116272.\u001b[0m\n"
     ]
    },
    {
     "name": "stdout",
     "output_type": "stream",
     "text": [
      "1/1 [==============================] - 0s 33ms/step - loss: 0.6161 - accuracy: 0.7778\n"
     ]
    },
    {
     "name": "stderr",
     "output_type": "stream",
     "text": [
      "\u001b[32m[I 2022-05-24 01:09:10,783]\u001b[0m Trial 251 finished with value: 0.7777777910232544 and parameters: {'n_layers': 3, 'n_units': 150, 'dropout': 0.0, 'optimizer': 'Adam'}. Best is trial 27 with value: 0.8888888955116272.\u001b[0m\n"
     ]
    },
    {
     "name": "stdout",
     "output_type": "stream",
     "text": [
      "1/1 [==============================] - 0s 30ms/step - loss: 0.4105 - accuracy: 0.8889\n"
     ]
    },
    {
     "name": "stderr",
     "output_type": "stream",
     "text": [
      "\u001b[32m[I 2022-05-24 01:09:12,442]\u001b[0m Trial 252 finished with value: 0.8888888955116272 and parameters: {'n_layers': 3, 'n_units': 150, 'dropout': 0.0, 'optimizer': 'Adam'}. Best is trial 27 with value: 0.8888888955116272.\u001b[0m\n"
     ]
    },
    {
     "name": "stdout",
     "output_type": "stream",
     "text": [
      "1/1 [==============================] - 0s 8ms/step - loss: 0.5767 - accuracy: 0.6667\n"
     ]
    },
    {
     "name": "stderr",
     "output_type": "stream",
     "text": [
      "\u001b[32m[I 2022-05-24 01:09:13,723]\u001b[0m Trial 253 finished with value: 0.6666666865348816 and parameters: {'n_layers': 3, 'n_units': 150, 'dropout': 0.0, 'optimizer': 'RMSprop'}. Best is trial 27 with value: 0.8888888955116272.\u001b[0m\n"
     ]
    },
    {
     "name": "stdout",
     "output_type": "stream",
     "text": [
      "1/1 [==============================] - 0s 16ms/step - loss: 0.4967 - accuracy: 0.8333\n"
     ]
    },
    {
     "name": "stderr",
     "output_type": "stream",
     "text": [
      "\u001b[32m[I 2022-05-24 01:09:14,630]\u001b[0m Trial 254 finished with value: 0.8333333134651184 and parameters: {'n_layers': 2, 'n_units': 200, 'dropout': 0.0, 'optimizer': 'Adam'}. Best is trial 27 with value: 0.8888888955116272.\u001b[0m\n"
     ]
    },
    {
     "name": "stdout",
     "output_type": "stream",
     "text": [
      "1/1 [==============================] - 0s 19ms/step - loss: 0.9812 - accuracy: 0.7778\n"
     ]
    },
    {
     "name": "stderr",
     "output_type": "stream",
     "text": [
      "\u001b[32m[I 2022-05-24 01:09:16,136]\u001b[0m Trial 255 finished with value: 0.7777777910232544 and parameters: {'n_layers': 5, 'n_units': 200, 'dropout': 0.0, 'optimizer': 'Adam'}. Best is trial 27 with value: 0.8888888955116272.\u001b[0m\n"
     ]
    },
    {
     "name": "stdout",
     "output_type": "stream",
     "text": [
      "1/1 [==============================] - 0s 33ms/step - loss: 0.4273 - accuracy: 0.8333\n"
     ]
    },
    {
     "name": "stderr",
     "output_type": "stream",
     "text": [
      "\u001b[32m[I 2022-05-24 01:09:17,031]\u001b[0m Trial 256 finished with value: 0.8333333134651184 and parameters: {'n_layers': 2, 'n_units': 200, 'dropout': 0.0, 'optimizer': 'Adam'}. Best is trial 27 with value: 0.8888888955116272.\u001b[0m\n"
     ]
    },
    {
     "name": "stdout",
     "output_type": "stream",
     "text": [
      "1/1 [==============================] - 0s 11ms/step - loss: 0.4601 - accuracy: 0.7778\n"
     ]
    },
    {
     "name": "stderr",
     "output_type": "stream",
     "text": [
      "\u001b[32m[I 2022-05-24 01:09:18,146]\u001b[0m Trial 257 finished with value: 0.7777777910232544 and parameters: {'n_layers': 2, 'n_units': 200, 'dropout': 0.0, 'optimizer': 'Adam'}. Best is trial 27 with value: 0.8888888955116272.\u001b[0m\n"
     ]
    },
    {
     "name": "stdout",
     "output_type": "stream",
     "text": [
      "1/1 [==============================] - 0s 23ms/step - loss: 1.2043 - accuracy: 0.6667\n"
     ]
    },
    {
     "name": "stderr",
     "output_type": "stream",
     "text": [
      "\u001b[32m[I 2022-05-24 01:09:19,404]\u001b[0m Trial 258 finished with value: 0.6666666865348816 and parameters: {'n_layers': 5, 'n_units': 200, 'dropout': 0.0, 'optimizer': 'Adam'}. Best is trial 27 with value: 0.8888888955116272.\u001b[0m\n"
     ]
    },
    {
     "name": "stdout",
     "output_type": "stream",
     "text": [
      "1/1 [==============================] - 0s 16ms/step - loss: 0.4642 - accuracy: 0.7778\n"
     ]
    },
    {
     "name": "stderr",
     "output_type": "stream",
     "text": [
      "\u001b[32m[I 2022-05-24 01:09:20,500]\u001b[0m Trial 259 finished with value: 0.7777777910232544 and parameters: {'n_layers': 3, 'n_units': 150, 'dropout': 0.1, 'optimizer': 'Adam'}. Best is trial 27 with value: 0.8888888955116272.\u001b[0m\n"
     ]
    },
    {
     "name": "stdout",
     "output_type": "stream",
     "text": [
      "1/1 [==============================] - 0s 16ms/step - loss: 0.5812 - accuracy: 0.8333\n"
     ]
    },
    {
     "name": "stderr",
     "output_type": "stream",
     "text": [
      "\u001b[32m[I 2022-05-24 01:09:21,820]\u001b[0m Trial 260 finished with value: 0.8333333134651184 and parameters: {'n_layers': 3, 'n_units': 150, 'dropout': 0.1, 'optimizer': 'RMSprop'}. Best is trial 27 with value: 0.8888888955116272.\u001b[0m\n"
     ]
    },
    {
     "name": "stdout",
     "output_type": "stream",
     "text": [
      "1/1 [==============================] - 0s 27ms/step - loss: 0.7988 - accuracy: 0.6667\n"
     ]
    },
    {
     "name": "stderr",
     "output_type": "stream",
     "text": [
      "\u001b[32m[I 2022-05-24 01:09:23,086]\u001b[0m Trial 261 finished with value: 0.6666666865348816 and parameters: {'n_layers': 3, 'n_units': 150, 'dropout': 0.1, 'optimizer': 'RMSprop'}. Best is trial 27 with value: 0.8888888955116272.\u001b[0m\n"
     ]
    },
    {
     "name": "stdout",
     "output_type": "stream",
     "text": [
      "1/1 [==============================] - 0s 31ms/step - loss: 0.6306 - accuracy: 0.5556\n"
     ]
    },
    {
     "name": "stderr",
     "output_type": "stream",
     "text": [
      "\u001b[32m[I 2022-05-24 01:09:24,545]\u001b[0m Trial 262 finished with value: 0.5555555820465088 and parameters: {'n_layers': 5, 'n_units': 150, 'dropout': 0.2, 'optimizer': 'Adam'}. Best is trial 27 with value: 0.8888888955116272.\u001b[0m\n"
     ]
    },
    {
     "name": "stdout",
     "output_type": "stream",
     "text": [
      "1/1 [==============================] - 0s 20ms/step - loss: 0.4598 - accuracy: 0.7222\n"
     ]
    },
    {
     "name": "stderr",
     "output_type": "stream",
     "text": [
      "\u001b[32m[I 2022-05-24 01:09:25,722]\u001b[0m Trial 263 finished with value: 0.7222222089767456 and parameters: {'n_layers': 3, 'n_units': 150, 'dropout': 0.1, 'optimizer': 'RMSprop'}. Best is trial 27 with value: 0.8888888955116272.\u001b[0m\n"
     ]
    },
    {
     "name": "stdout",
     "output_type": "stream",
     "text": [
      "1/1 [==============================] - 0s 21ms/step - loss: 0.6837 - accuracy: 0.8333\n"
     ]
    },
    {
     "name": "stderr",
     "output_type": "stream",
     "text": [
      "\u001b[32m[I 2022-05-24 01:09:26,858]\u001b[0m Trial 264 finished with value: 0.8333333134651184 and parameters: {'n_layers': 4, 'n_units': 150, 'dropout': 0.0, 'optimizer': 'Adam'}. Best is trial 27 with value: 0.8888888955116272.\u001b[0m\n"
     ]
    },
    {
     "name": "stdout",
     "output_type": "stream",
     "text": [
      "1/1 [==============================] - 0s 23ms/step - loss: 1.4607 - accuracy: 0.7778\n"
     ]
    },
    {
     "name": "stderr",
     "output_type": "stream",
     "text": [
      "\u001b[32m[I 2022-05-24 01:09:28,062]\u001b[0m Trial 265 finished with value: 0.7777777910232544 and parameters: {'n_layers': 5, 'n_units': 200, 'dropout': 0.0, 'optimizer': 'Adam'}. Best is trial 27 with value: 0.8888888955116272.\u001b[0m\n"
     ]
    },
    {
     "name": "stdout",
     "output_type": "stream",
     "text": [
      "1/1 [==============================] - 0s 26ms/step - loss: 0.6852 - accuracy: 0.5000\n"
     ]
    },
    {
     "name": "stderr",
     "output_type": "stream",
     "text": [
      "\u001b[32m[I 2022-05-24 01:09:29,031]\u001b[0m Trial 266 finished with value: 0.5 and parameters: {'n_layers': 3, 'n_units': 150, 'dropout': 0.0, 'optimizer': 'SGD'}. Best is trial 27 with value: 0.8888888955116272.\u001b[0m\n"
     ]
    },
    {
     "name": "stdout",
     "output_type": "stream",
     "text": [
      "1/1 [==============================] - 0s 17ms/step - loss: 0.5292 - accuracy: 0.8333\n"
     ]
    },
    {
     "name": "stderr",
     "output_type": "stream",
     "text": [
      "\u001b[32m[I 2022-05-24 01:09:30,465]\u001b[0m Trial 267 finished with value: 0.8333333134651184 and parameters: {'n_layers': 4, 'n_units': 150, 'dropout': 0.0, 'optimizer': 'Adam'}. Best is trial 27 with value: 0.8888888955116272.\u001b[0m\n"
     ]
    },
    {
     "name": "stdout",
     "output_type": "stream",
     "text": [
      "1/1 [==============================] - 0s 16ms/step - loss: 0.5779 - accuracy: 0.8333\n"
     ]
    },
    {
     "name": "stderr",
     "output_type": "stream",
     "text": [
      "\u001b[32m[I 2022-05-24 01:09:31,307]\u001b[0m Trial 268 finished with value: 0.8333333134651184 and parameters: {'n_layers': 3, 'n_units': 150, 'dropout': 0.0, 'optimizer': 'Adam'}. Best is trial 27 with value: 0.8888888955116272.\u001b[0m\n"
     ]
    },
    {
     "name": "stdout",
     "output_type": "stream",
     "text": [
      "1/1 [==============================] - 0s 16ms/step - loss: 0.7198 - accuracy: 0.7778\n"
     ]
    },
    {
     "name": "stderr",
     "output_type": "stream",
     "text": [
      "\u001b[32m[I 2022-05-24 01:09:32,684]\u001b[0m Trial 269 finished with value: 0.7777777910232544 and parameters: {'n_layers': 4, 'n_units': 150, 'dropout': 0.1, 'optimizer': 'Adam'}. Best is trial 27 with value: 0.8888888955116272.\u001b[0m\n"
     ]
    },
    {
     "name": "stdout",
     "output_type": "stream",
     "text": [
      "1/1 [==============================] - 0s 24ms/step - loss: 0.6669 - accuracy: 0.7778\n"
     ]
    },
    {
     "name": "stderr",
     "output_type": "stream",
     "text": [
      "\u001b[32m[I 2022-05-24 01:09:34,111]\u001b[0m Trial 270 finished with value: 0.7777777910232544 and parameters: {'n_layers': 3, 'n_units': 200, 'dropout': 0.30000000000000004, 'optimizer': 'RMSprop'}. Best is trial 27 with value: 0.8888888955116272.\u001b[0m\n"
     ]
    },
    {
     "name": "stdout",
     "output_type": "stream",
     "text": [
      "1/1 [==============================] - 0s 31ms/step - loss: 0.6868 - accuracy: 0.7778\n"
     ]
    },
    {
     "name": "stderr",
     "output_type": "stream",
     "text": [
      "\u001b[32m[I 2022-05-24 01:09:35,426]\u001b[0m Trial 271 finished with value: 0.7777777910232544 and parameters: {'n_layers': 3, 'n_units': 150, 'dropout': 0.1, 'optimizer': 'Adam'}. Best is trial 27 with value: 0.8888888955116272.\u001b[0m\n"
     ]
    },
    {
     "name": "stdout",
     "output_type": "stream",
     "text": [
      "1/1 [==============================] - 0s 11ms/step - loss: 0.6481 - accuracy: 0.7778\n"
     ]
    },
    {
     "name": "stderr",
     "output_type": "stream",
     "text": [
      "\u001b[32m[I 2022-05-24 01:09:36,503]\u001b[0m Trial 272 finished with value: 0.7777777910232544 and parameters: {'n_layers': 3, 'n_units': 150, 'dropout': 0.0, 'optimizer': 'Adam'}. Best is trial 27 with value: 0.8888888955116272.\u001b[0m\n"
     ]
    },
    {
     "name": "stdout",
     "output_type": "stream",
     "text": [
      "1/1 [==============================] - 0s 18ms/step - loss: 1.6659 - accuracy: 0.7778\n"
     ]
    },
    {
     "name": "stderr",
     "output_type": "stream",
     "text": [
      "\u001b[32m[I 2022-05-24 01:09:37,662]\u001b[0m Trial 273 finished with value: 0.7777777910232544 and parameters: {'n_layers': 5, 'n_units': 200, 'dropout': 0.0, 'optimizer': 'Adam'}. Best is trial 27 with value: 0.8888888955116272.\u001b[0m\n"
     ]
    },
    {
     "name": "stdout",
     "output_type": "stream",
     "text": [
      "1/1 [==============================] - 0s 16ms/step - loss: 0.4835 - accuracy: 0.8333\n"
     ]
    },
    {
     "name": "stderr",
     "output_type": "stream",
     "text": [
      "\u001b[32m[I 2022-05-24 01:09:38,605]\u001b[0m Trial 274 finished with value: 0.8333333134651184 and parameters: {'n_layers': 4, 'n_units': 150, 'dropout': 0.0, 'optimizer': 'Adam'}. Best is trial 27 with value: 0.8888888955116272.\u001b[0m\n"
     ]
    },
    {
     "name": "stdout",
     "output_type": "stream",
     "text": [
      "1/1 [==============================] - 0s 31ms/step - loss: 0.6199 - accuracy: 0.7222\n"
     ]
    },
    {
     "name": "stderr",
     "output_type": "stream",
     "text": [
      "\u001b[32m[I 2022-05-24 01:09:40,933]\u001b[0m Trial 275 finished with value: 0.7222222089767456 and parameters: {'n_layers': 4, 'n_units': 150, 'dropout': 0.2, 'optimizer': 'RMSprop'}. Best is trial 27 with value: 0.8888888955116272.\u001b[0m\n"
     ]
    },
    {
     "name": "stdout",
     "output_type": "stream",
     "text": [
      "1/1 [==============================] - 0s 16ms/step - loss: 1.0431 - accuracy: 0.7222\n"
     ]
    },
    {
     "name": "stderr",
     "output_type": "stream",
     "text": [
      "\u001b[32m[I 2022-05-24 01:09:42,276]\u001b[0m Trial 276 finished with value: 0.7222222089767456 and parameters: {'n_layers': 5, 'n_units': 200, 'dropout': 0.1, 'optimizer': 'Adam'}. Best is trial 27 with value: 0.8888888955116272.\u001b[0m\n"
     ]
    },
    {
     "name": "stdout",
     "output_type": "stream",
     "text": [
      "1/1 [==============================] - 0s 16ms/step - loss: 0.4612 - accuracy: 0.7778\n"
     ]
    },
    {
     "name": "stderr",
     "output_type": "stream",
     "text": [
      "\u001b[32m[I 2022-05-24 01:09:43,222]\u001b[0m Trial 277 finished with value: 0.7777777910232544 and parameters: {'n_layers': 2, 'n_units': 100, 'dropout': 0.0, 'optimizer': 'RMSprop'}. Best is trial 27 with value: 0.8888888955116272.\u001b[0m\n"
     ]
    },
    {
     "name": "stdout",
     "output_type": "stream",
     "text": [
      "1/1 [==============================] - 0s 20ms/step - loss: 0.5036 - accuracy: 0.8889\n"
     ]
    },
    {
     "name": "stderr",
     "output_type": "stream",
     "text": [
      "\u001b[32m[I 2022-05-24 01:09:44,052]\u001b[0m Trial 278 finished with value: 0.8888888955116272 and parameters: {'n_layers': 2, 'n_units': 150, 'dropout': 0.1, 'optimizer': 'Adam'}. Best is trial 27 with value: 0.8888888955116272.\u001b[0m\n"
     ]
    },
    {
     "name": "stdout",
     "output_type": "stream",
     "text": [
      "1/1 [==============================] - 0s 29ms/step - loss: 0.5451 - accuracy: 0.8333\n"
     ]
    },
    {
     "name": "stderr",
     "output_type": "stream",
     "text": [
      "\u001b[32m[I 2022-05-24 01:09:45,386]\u001b[0m Trial 279 finished with value: 0.8333333134651184 and parameters: {'n_layers': 4, 'n_units': 150, 'dropout': 0.2, 'optimizer': 'Adam'}. Best is trial 27 with value: 0.8888888955116272.\u001b[0m\n"
     ]
    },
    {
     "name": "stdout",
     "output_type": "stream",
     "text": [
      "1/1 [==============================] - 0s 31ms/step - loss: 0.6267 - accuracy: 0.5556\n"
     ]
    },
    {
     "name": "stderr",
     "output_type": "stream",
     "text": [
      "\u001b[32m[I 2022-05-24 01:09:46,662]\u001b[0m Trial 280 finished with value: 0.5555555820465088 and parameters: {'n_layers': 4, 'n_units': 150, 'dropout': 0.2, 'optimizer': 'Adam'}. Best is trial 27 with value: 0.8888888955116272.\u001b[0m\n"
     ]
    },
    {
     "name": "stdout",
     "output_type": "stream",
     "text": [
      "1/1 [==============================] - 0s 16ms/step - loss: 0.5073 - accuracy: 0.7222\n"
     ]
    },
    {
     "name": "stderr",
     "output_type": "stream",
     "text": [
      "\u001b[32m[I 2022-05-24 01:09:47,572]\u001b[0m Trial 281 finished with value: 0.7222222089767456 and parameters: {'n_layers': 2, 'n_units': 150, 'dropout': 0.0, 'optimizer': 'Adam'}. Best is trial 27 with value: 0.8888888955116272.\u001b[0m\n"
     ]
    },
    {
     "name": "stdout",
     "output_type": "stream",
     "text": [
      "1/1 [==============================] - 0s 16ms/step - loss: 0.5853 - accuracy: 0.7222\n"
     ]
    },
    {
     "name": "stderr",
     "output_type": "stream",
     "text": [
      "\u001b[32m[I 2022-05-24 01:09:48,473]\u001b[0m Trial 282 finished with value: 0.7222222089767456 and parameters: {'n_layers': 2, 'n_units': 150, 'dropout': 0.5, 'optimizer': 'Adam'}. Best is trial 27 with value: 0.8888888955116272.\u001b[0m\n"
     ]
    },
    {
     "name": "stdout",
     "output_type": "stream",
     "text": [
      "1/1 [==============================] - 0s 19ms/step - loss: 0.5926 - accuracy: 0.7778\n"
     ]
    },
    {
     "name": "stderr",
     "output_type": "stream",
     "text": [
      "\u001b[32m[I 2022-05-24 01:09:49,378]\u001b[0m Trial 283 finished with value: 0.7777777910232544 and parameters: {'n_layers': 2, 'n_units': 150, 'dropout': 0.1, 'optimizer': 'Adam'}. Best is trial 27 with value: 0.8888888955116272.\u001b[0m\n"
     ]
    },
    {
     "name": "stdout",
     "output_type": "stream",
     "text": [
      "1/1 [==============================] - 0s 16ms/step - loss: 0.4418 - accuracy: 0.7778\n"
     ]
    },
    {
     "name": "stderr",
     "output_type": "stream",
     "text": [
      "\u001b[32m[I 2022-05-24 01:09:50,255]\u001b[0m Trial 284 finished with value: 0.7777777910232544 and parameters: {'n_layers': 2, 'n_units': 150, 'dropout': 0.1, 'optimizer': 'Adam'}. Best is trial 27 with value: 0.8888888955116272.\u001b[0m\n"
     ]
    },
    {
     "name": "stdout",
     "output_type": "stream",
     "text": [
      "1/1 [==============================] - 0s 29ms/step - loss: 0.6852 - accuracy: 0.7778\n"
     ]
    },
    {
     "name": "stderr",
     "output_type": "stream",
     "text": [
      "\u001b[32m[I 2022-05-24 01:09:51,855]\u001b[0m Trial 285 finished with value: 0.7777777910232544 and parameters: {'n_layers': 3, 'n_units': 150, 'dropout': 0.1, 'optimizer': 'RMSprop'}. Best is trial 27 with value: 0.8888888955116272.\u001b[0m\n"
     ]
    },
    {
     "name": "stdout",
     "output_type": "stream",
     "text": [
      "1/1 [==============================] - 0s 18ms/step - loss: 0.5792 - accuracy: 0.7778\n"
     ]
    },
    {
     "name": "stderr",
     "output_type": "stream",
     "text": [
      "\u001b[32m[I 2022-05-24 01:09:53,260]\u001b[0m Trial 286 finished with value: 0.7777777910232544 and parameters: {'n_layers': 3, 'n_units': 150, 'dropout': 0.1, 'optimizer': 'RMSprop'}. Best is trial 27 with value: 0.8888888955116272.\u001b[0m\n"
     ]
    },
    {
     "name": "stdout",
     "output_type": "stream",
     "text": [
      "1/1 [==============================] - 0s 16ms/step - loss: 0.5620 - accuracy: 0.7778\n"
     ]
    },
    {
     "name": "stderr",
     "output_type": "stream",
     "text": [
      "\u001b[32m[I 2022-05-24 01:09:54,087]\u001b[0m Trial 287 finished with value: 0.7777777910232544 and parameters: {'n_layers': 2, 'n_units': 200, 'dropout': 0.0, 'optimizer': 'Adam'}. Best is trial 27 with value: 0.8888888955116272.\u001b[0m\n"
     ]
    },
    {
     "name": "stdout",
     "output_type": "stream",
     "text": [
      "1/1 [==============================] - 0s 16ms/step - loss: 0.5445 - accuracy: 0.7778\n"
     ]
    },
    {
     "name": "stderr",
     "output_type": "stream",
     "text": [
      "\u001b[32m[I 2022-05-24 01:09:54,927]\u001b[0m Trial 288 finished with value: 0.7777777910232544 and parameters: {'n_layers': 2, 'n_units': 200, 'dropout': 0.0, 'optimizer': 'Adam'}. Best is trial 27 with value: 0.8888888955116272.\u001b[0m\n"
     ]
    },
    {
     "name": "stdout",
     "output_type": "stream",
     "text": [
      "1/1 [==============================] - 0s 2ms/step - loss: 0.5372 - accuracy: 0.7778\n"
     ]
    },
    {
     "name": "stderr",
     "output_type": "stream",
     "text": [
      "\u001b[32m[I 2022-05-24 01:09:56,015]\u001b[0m Trial 289 finished with value: 0.7777777910232544 and parameters: {'n_layers': 3, 'n_units': 150, 'dropout': 0.0, 'optimizer': 'RMSprop'}. Best is trial 27 with value: 0.8888888955116272.\u001b[0m\n"
     ]
    },
    {
     "name": "stdout",
     "output_type": "stream",
     "text": [
      "1/1 [==============================] - 0s 16ms/step - loss: 0.6823 - accuracy: 0.5000\n"
     ]
    },
    {
     "name": "stderr",
     "output_type": "stream",
     "text": [
      "\u001b[32m[I 2022-05-24 01:09:57,190]\u001b[0m Trial 290 finished with value: 0.5 and parameters: {'n_layers': 3, 'n_units': 150, 'dropout': 0.0, 'optimizer': 'SGD'}. Best is trial 27 with value: 0.8888888955116272.\u001b[0m\n"
     ]
    },
    {
     "name": "stdout",
     "output_type": "stream",
     "text": [
      "1/1 [==============================] - 0s 16ms/step - loss: 0.5108 - accuracy: 0.7778\n"
     ]
    },
    {
     "name": "stderr",
     "output_type": "stream",
     "text": [
      "\u001b[32m[I 2022-05-24 01:09:58,460]\u001b[0m Trial 291 finished with value: 0.7777777910232544 and parameters: {'n_layers': 4, 'n_units': 150, 'dropout': 0.0, 'optimizer': 'Adam'}. Best is trial 27 with value: 0.8888888955116272.\u001b[0m\n"
     ]
    },
    {
     "name": "stdout",
     "output_type": "stream",
     "text": [
      "1/1 [==============================] - 0s 16ms/step - loss: 0.5744 - accuracy: 0.7222\n"
     ]
    },
    {
     "name": "stderr",
     "output_type": "stream",
     "text": [
      "\u001b[32m[I 2022-05-24 01:09:59,357]\u001b[0m Trial 292 finished with value: 0.7222222089767456 and parameters: {'n_layers': 2, 'n_units': 200, 'dropout': 0.0, 'optimizer': 'Adam'}. Best is trial 27 with value: 0.8888888955116272.\u001b[0m\n"
     ]
    },
    {
     "name": "stdout",
     "output_type": "stream",
     "text": [
      "1/1 [==============================] - 0s 16ms/step - loss: 0.5953 - accuracy: 0.7778\n"
     ]
    },
    {
     "name": "stderr",
     "output_type": "stream",
     "text": [
      "\u001b[32m[I 2022-05-24 01:10:00,567]\u001b[0m Trial 293 finished with value: 0.7777777910232544 and parameters: {'n_layers': 3, 'n_units': 150, 'dropout': 0.1, 'optimizer': 'RMSprop'}. Best is trial 27 with value: 0.8888888955116272.\u001b[0m\n"
     ]
    },
    {
     "name": "stdout",
     "output_type": "stream",
     "text": [
      "1/1 [==============================] - 0s 19ms/step - loss: 0.4436 - accuracy: 0.7778\n"
     ]
    },
    {
     "name": "stderr",
     "output_type": "stream",
     "text": [
      "\u001b[32m[I 2022-05-24 01:10:01,507]\u001b[0m Trial 294 finished with value: 0.7777777910232544 and parameters: {'n_layers': 2, 'n_units': 150, 'dropout': 0.1, 'optimizer': 'Adam'}. Best is trial 27 with value: 0.8888888955116272.\u001b[0m\n"
     ]
    },
    {
     "name": "stdout",
     "output_type": "stream",
     "text": [
      "1/1 [==============================] - 0s 31ms/step - loss: 0.6806 - accuracy: 0.7222\n"
     ]
    },
    {
     "name": "stderr",
     "output_type": "stream",
     "text": [
      "\u001b[32m[I 2022-05-24 01:10:02,623]\u001b[0m Trial 295 finished with value: 0.7222222089767456 and parameters: {'n_layers': 2, 'n_units': 200, 'dropout': 0.0, 'optimizer': 'Adam'}. Best is trial 27 with value: 0.8888888955116272.\u001b[0m\n"
     ]
    },
    {
     "name": "stdout",
     "output_type": "stream",
     "text": [
      "1/1 [==============================] - 0s 16ms/step - loss: 0.5984 - accuracy: 0.7222\n"
     ]
    },
    {
     "name": "stderr",
     "output_type": "stream",
     "text": [
      "\u001b[32m[I 2022-05-24 01:10:04,101]\u001b[0m Trial 296 finished with value: 0.7222222089767456 and parameters: {'n_layers': 2, 'n_units': 150, 'dropout': 0.0, 'optimizer': 'Adam'}. Best is trial 27 with value: 0.8888888955116272.\u001b[0m\n"
     ]
    },
    {
     "name": "stdout",
     "output_type": "stream",
     "text": [
      "1/1 [==============================] - 0s 16ms/step - loss: 0.8782 - accuracy: 0.7222\n"
     ]
    },
    {
     "name": "stderr",
     "output_type": "stream",
     "text": [
      "\u001b[32m[I 2022-05-24 01:10:05,086]\u001b[0m Trial 297 finished with value: 0.7222222089767456 and parameters: {'n_layers': 5, 'n_units': 150, 'dropout': 0.0, 'optimizer': 'Adam'}. Best is trial 27 with value: 0.8888888955116272.\u001b[0m\n"
     ]
    },
    {
     "name": "stdout",
     "output_type": "stream",
     "text": [
      "1/1 [==============================] - 0s 16ms/step - loss: 0.5604 - accuracy: 0.7222\n"
     ]
    },
    {
     "name": "stderr",
     "output_type": "stream",
     "text": [
      "\u001b[32m[I 2022-05-24 01:10:05,959]\u001b[0m Trial 298 finished with value: 0.7222222089767456 and parameters: {'n_layers': 3, 'n_units': 150, 'dropout': 0.0, 'optimizer': 'Adam'}. Best is trial 27 with value: 0.8888888955116272.\u001b[0m\n"
     ]
    },
    {
     "name": "stdout",
     "output_type": "stream",
     "text": [
      "1/1 [==============================] - 0s 16ms/step - loss: 1.2845 - accuracy: 0.7222\n"
     ]
    },
    {
     "name": "stderr",
     "output_type": "stream",
     "text": [
      "\u001b[32m[I 2022-05-24 01:10:07,243]\u001b[0m Trial 299 finished with value: 0.7222222089767456 and parameters: {'n_layers': 4, 'n_units': 250, 'dropout': 0.0, 'optimizer': 'Adam'}. Best is trial 27 with value: 0.8888888955116272.\u001b[0m\n"
     ]
    },
    {
     "name": "stdout",
     "output_type": "stream",
     "text": [
      "1/1 [==============================] - 0s 16ms/step - loss: 0.9975 - accuracy: 0.8333\n"
     ]
    },
    {
     "name": "stderr",
     "output_type": "stream",
     "text": [
      "\u001b[32m[I 2022-05-24 01:10:08,335]\u001b[0m Trial 300 finished with value: 0.8333333134651184 and parameters: {'n_layers': 4, 'n_units': 200, 'dropout': 0.0, 'optimizer': 'Adam'}. Best is trial 27 with value: 0.8888888955116272.\u001b[0m\n"
     ]
    },
    {
     "name": "stdout",
     "output_type": "stream",
     "text": [
      "1/1 [==============================] - 0s 37ms/step - loss: 0.5693 - accuracy: 0.7778\n"
     ]
    },
    {
     "name": "stderr",
     "output_type": "stream",
     "text": [
      "\u001b[32m[I 2022-05-24 01:10:09,778]\u001b[0m Trial 301 finished with value: 0.7777777910232544 and parameters: {'n_layers': 4, 'n_units': 200, 'dropout': 0.2, 'optimizer': 'Adam'}. Best is trial 27 with value: 0.8888888955116272.\u001b[0m\n"
     ]
    },
    {
     "name": "stdout",
     "output_type": "stream",
     "text": [
      "1/1 [==============================] - 0s 28ms/step - loss: 0.5757 - accuracy: 0.6667\n"
     ]
    },
    {
     "name": "stderr",
     "output_type": "stream",
     "text": [
      "\u001b[32m[I 2022-05-24 01:10:10,905]\u001b[0m Trial 302 finished with value: 0.6666666865348816 and parameters: {'n_layers': 4, 'n_units': 150, 'dropout': 0.0, 'optimizer': 'Adam'}. Best is trial 27 with value: 0.8888888955116272.\u001b[0m\n"
     ]
    },
    {
     "name": "stdout",
     "output_type": "stream",
     "text": [
      "1/1 [==============================] - 0s 20ms/step - loss: 0.7311 - accuracy: 0.3889\n"
     ]
    },
    {
     "name": "stderr",
     "output_type": "stream",
     "text": [
      "\u001b[32m[I 2022-05-24 01:10:11,958]\u001b[0m Trial 303 finished with value: 0.3888888955116272 and parameters: {'n_layers': 4, 'n_units': 150, 'dropout': 0.2, 'optimizer': 'Adam'}. Best is trial 27 with value: 0.8888888955116272.\u001b[0m\n"
     ]
    },
    {
     "name": "stdout",
     "output_type": "stream",
     "text": [
      "1/1 [==============================] - 0s 24ms/step - loss: 1.0305 - accuracy: 0.6667\n"
     ]
    },
    {
     "name": "stderr",
     "output_type": "stream",
     "text": [
      "\u001b[32m[I 2022-05-24 01:10:12,975]\u001b[0m Trial 304 finished with value: 0.6666666865348816 and parameters: {'n_layers': 4, 'n_units': 200, 'dropout': 0.0, 'optimizer': 'Adam'}. Best is trial 27 with value: 0.8888888955116272.\u001b[0m\n"
     ]
    },
    {
     "name": "stdout",
     "output_type": "stream",
     "text": [
      "1/1 [==============================] - 0s 31ms/step - loss: 0.6057 - accuracy: 0.6667\n"
     ]
    },
    {
     "name": "stderr",
     "output_type": "stream",
     "text": [
      "\u001b[32m[I 2022-05-24 01:10:14,042]\u001b[0m Trial 305 finished with value: 0.6666666865348816 and parameters: {'n_layers': 4, 'n_units': 150, 'dropout': 0.30000000000000004, 'optimizer': 'Adam'}. Best is trial 27 with value: 0.8888888955116272.\u001b[0m\n"
     ]
    },
    {
     "name": "stdout",
     "output_type": "stream",
     "text": [
      "1/1 [==============================] - 0s 31ms/step - loss: 0.6874 - accuracy: 0.7222\n"
     ]
    },
    {
     "name": "stderr",
     "output_type": "stream",
     "text": [
      "\u001b[32m[I 2022-05-24 01:10:15,534]\u001b[0m Trial 306 finished with value: 0.7222222089767456 and parameters: {'n_layers': 4, 'n_units': 150, 'dropout': 0.1, 'optimizer': 'Adam'}. Best is trial 27 with value: 0.8888888955116272.\u001b[0m\n"
     ]
    },
    {
     "name": "stdout",
     "output_type": "stream",
     "text": [
      "1/1 [==============================] - 0s 30ms/step - loss: 0.4815 - accuracy: 0.8333\n"
     ]
    },
    {
     "name": "stderr",
     "output_type": "stream",
     "text": [
      "\u001b[32m[I 2022-05-24 01:10:16,890]\u001b[0m Trial 307 finished with value: 0.8333333134651184 and parameters: {'n_layers': 2, 'n_units': 100, 'dropout': 0.2, 'optimizer': 'Adam'}. Best is trial 27 with value: 0.8888888955116272.\u001b[0m\n"
     ]
    },
    {
     "name": "stdout",
     "output_type": "stream",
     "text": [
      "1/1 [==============================] - 0s 31ms/step - loss: 0.6503 - accuracy: 0.7778\n"
     ]
    },
    {
     "name": "stderr",
     "output_type": "stream",
     "text": [
      "\u001b[32m[I 2022-05-24 01:10:18,223]\u001b[0m Trial 308 finished with value: 0.7777777910232544 and parameters: {'n_layers': 4, 'n_units': 150, 'dropout': 0.2, 'optimizer': 'RMSprop'}. Best is trial 27 with value: 0.8888888955116272.\u001b[0m\n"
     ]
    },
    {
     "name": "stdout",
     "output_type": "stream",
     "text": [
      "1/1 [==============================] - 0s 21ms/step - loss: 0.5005 - accuracy: 0.7778\n"
     ]
    },
    {
     "name": "stderr",
     "output_type": "stream",
     "text": [
      "\u001b[32m[I 2022-05-24 01:10:19,638]\u001b[0m Trial 309 finished with value: 0.7777777910232544 and parameters: {'n_layers': 3, 'n_units': 150, 'dropout': 0.1, 'optimizer': 'RMSprop'}. Best is trial 27 with value: 0.8888888955116272.\u001b[0m\n"
     ]
    },
    {
     "name": "stdout",
     "output_type": "stream",
     "text": [
      "1/1 [==============================] - 0s 16ms/step - loss: 0.6554 - accuracy: 0.8333\n"
     ]
    },
    {
     "name": "stderr",
     "output_type": "stream",
     "text": [
      "\u001b[32m[I 2022-05-24 01:10:22,061]\u001b[0m Trial 310 finished with value: 0.8333333134651184 and parameters: {'n_layers': 3, 'n_units': 150, 'dropout': 0.1, 'optimizer': 'RMSprop'}. Best is trial 27 with value: 0.8888888955116272.\u001b[0m\n"
     ]
    },
    {
     "name": "stdout",
     "output_type": "stream",
     "text": [
      "1/1 [==============================] - 0s 32ms/step - loss: 0.3923 - accuracy: 0.8889\n"
     ]
    },
    {
     "name": "stderr",
     "output_type": "stream",
     "text": [
      "\u001b[32m[I 2022-05-24 01:10:23,375]\u001b[0m Trial 311 finished with value: 0.8888888955116272 and parameters: {'n_layers': 5, 'n_units': 150, 'dropout': 0.1, 'optimizer': 'Adam'}. Best is trial 27 with value: 0.8888888955116272.\u001b[0m\n"
     ]
    },
    {
     "name": "stdout",
     "output_type": "stream",
     "text": [
      "1/1 [==============================] - 0s 11ms/step - loss: 0.6951 - accuracy: 0.4444\n"
     ]
    },
    {
     "name": "stderr",
     "output_type": "stream",
     "text": [
      "\u001b[32m[I 2022-05-24 01:10:24,304]\u001b[0m Trial 312 finished with value: 0.4444444477558136 and parameters: {'n_layers': 3, 'n_units': 150, 'dropout': 0.1, 'optimizer': 'SGD'}. Best is trial 27 with value: 0.8888888955116272.\u001b[0m\n"
     ]
    },
    {
     "name": "stdout",
     "output_type": "stream",
     "text": [
      "1/1 [==============================] - 0s 18ms/step - loss: 0.7128 - accuracy: 0.7778\n"
     ]
    },
    {
     "name": "stderr",
     "output_type": "stream",
     "text": [
      "\u001b[32m[I 2022-05-24 01:10:25,608]\u001b[0m Trial 313 finished with value: 0.7777777910232544 and parameters: {'n_layers': 5, 'n_units': 200, 'dropout': 0.0, 'optimizer': 'Adam'}. Best is trial 27 with value: 0.8888888955116272.\u001b[0m\n"
     ]
    },
    {
     "name": "stdout",
     "output_type": "stream",
     "text": [
      "1/1 [==============================] - 0s 16ms/step - loss: 0.6244 - accuracy: 0.7778\n"
     ]
    },
    {
     "name": "stderr",
     "output_type": "stream",
     "text": [
      "\u001b[32m[I 2022-05-24 01:10:27,864]\u001b[0m Trial 314 finished with value: 0.7777777910232544 and parameters: {'n_layers': 5, 'n_units': 150, 'dropout': 0.1, 'optimizer': 'RMSprop'}. Best is trial 27 with value: 0.8888888955116272.\u001b[0m\n"
     ]
    },
    {
     "name": "stdout",
     "output_type": "stream",
     "text": [
      "1/1 [==============================] - 0s 29ms/step - loss: 0.4713 - accuracy: 0.7222\n"
     ]
    },
    {
     "name": "stderr",
     "output_type": "stream",
     "text": [
      "\u001b[32m[I 2022-05-24 01:10:29,265]\u001b[0m Trial 315 finished with value: 0.7222222089767456 and parameters: {'n_layers': 2, 'n_units': 200, 'dropout': 0.0, 'optimizer': 'Adam'}. Best is trial 27 with value: 0.8888888955116272.\u001b[0m\n"
     ]
    },
    {
     "name": "stdout",
     "output_type": "stream",
     "text": [
      "1/1 [==============================] - 0s 36ms/step - loss: 0.5651 - accuracy: 0.7222\n"
     ]
    },
    {
     "name": "stderr",
     "output_type": "stream",
     "text": [
      "\u001b[32m[I 2022-05-24 01:10:30,319]\u001b[0m Trial 316 finished with value: 0.7222222089767456 and parameters: {'n_layers': 2, 'n_units': 200, 'dropout': 0.1, 'optimizer': 'Adam'}. Best is trial 27 with value: 0.8888888955116272.\u001b[0m\n"
     ]
    },
    {
     "name": "stdout",
     "output_type": "stream",
     "text": [
      "1/1 [==============================] - 0s 28ms/step - loss: 0.6324 - accuracy: 0.7222\n"
     ]
    },
    {
     "name": "stderr",
     "output_type": "stream",
     "text": [
      "\u001b[32m[I 2022-05-24 01:10:31,689]\u001b[0m Trial 317 finished with value: 0.7222222089767456 and parameters: {'n_layers': 3, 'n_units': 150, 'dropout': 0.1, 'optimizer': 'RMSprop'}. Best is trial 27 with value: 0.8888888955116272.\u001b[0m\n"
     ]
    },
    {
     "name": "stdout",
     "output_type": "stream",
     "text": [
      "1/1 [==============================] - 0s 16ms/step - loss: 1.2603 - accuracy: 0.6667\n"
     ]
    },
    {
     "name": "stderr",
     "output_type": "stream",
     "text": [
      "\u001b[32m[I 2022-05-24 01:10:33,843]\u001b[0m Trial 318 finished with value: 0.6666666865348816 and parameters: {'n_layers': 4, 'n_units': 150, 'dropout': 0.1, 'optimizer': 'Adam'}. Best is trial 27 with value: 0.8888888955116272.\u001b[0m\n"
     ]
    },
    {
     "name": "stdout",
     "output_type": "stream",
     "text": [
      "1/1 [==============================] - 0s 16ms/step - loss: 0.5021 - accuracy: 0.7778\n"
     ]
    },
    {
     "name": "stderr",
     "output_type": "stream",
     "text": [
      "\u001b[32m[I 2022-05-24 01:10:34,816]\u001b[0m Trial 319 finished with value: 0.7777777910232544 and parameters: {'n_layers': 3, 'n_units': 150, 'dropout': 0.1, 'optimizer': 'Adam'}. Best is trial 27 with value: 0.8888888955116272.\u001b[0m\n"
     ]
    },
    {
     "name": "stdout",
     "output_type": "stream",
     "text": [
      "1/1 [==============================] - 0s 18ms/step - loss: 0.7371 - accuracy: 0.6111\n"
     ]
    },
    {
     "name": "stderr",
     "output_type": "stream",
     "text": [
      "\u001b[32m[I 2022-05-24 01:10:35,883]\u001b[0m Trial 320 finished with value: 0.6111111044883728 and parameters: {'n_layers': 2, 'n_units': 150, 'dropout': 0.1, 'optimizer': 'Adam'}. Best is trial 27 with value: 0.8888888955116272.\u001b[0m\n"
     ]
    },
    {
     "name": "stdout",
     "output_type": "stream",
     "text": [
      "1/1 [==============================] - 0s 31ms/step - loss: 0.6223 - accuracy: 0.8889\n"
     ]
    },
    {
     "name": "stderr",
     "output_type": "stream",
     "text": [
      "\u001b[32m[I 2022-05-24 01:10:37,381]\u001b[0m Trial 321 finished with value: 0.8888888955116272 and parameters: {'n_layers': 4, 'n_units': 150, 'dropout': 0.2, 'optimizer': 'RMSprop'}. Best is trial 27 with value: 0.8888888955116272.\u001b[0m\n"
     ]
    },
    {
     "name": "stdout",
     "output_type": "stream",
     "text": [
      "1/1 [==============================] - 0s 31ms/step - loss: 0.5480 - accuracy: 0.8333\n"
     ]
    },
    {
     "name": "stderr",
     "output_type": "stream",
     "text": [
      "\u001b[32m[I 2022-05-24 01:10:38,823]\u001b[0m Trial 322 finished with value: 0.8333333134651184 and parameters: {'n_layers': 3, 'n_units': 150, 'dropout': 0.1, 'optimizer': 'RMSprop'}. Best is trial 27 with value: 0.8888888955116272.\u001b[0m\n"
     ]
    },
    {
     "name": "stdout",
     "output_type": "stream",
     "text": [
      "1/1 [==============================] - 0s 31ms/step - loss: 0.6703 - accuracy: 0.6111\n"
     ]
    },
    {
     "name": "stderr",
     "output_type": "stream",
     "text": [
      "\u001b[32m[I 2022-05-24 01:10:39,908]\u001b[0m Trial 323 finished with value: 0.6111111044883728 and parameters: {'n_layers': 5, 'n_units': 150, 'dropout': 0.2, 'optimizer': 'Adam'}. Best is trial 27 with value: 0.8888888955116272.\u001b[0m\n"
     ]
    },
    {
     "name": "stdout",
     "output_type": "stream",
     "text": [
      "1/1 [==============================] - 0s 31ms/step - loss: 0.5533 - accuracy: 0.7778\n"
     ]
    },
    {
     "name": "stderr",
     "output_type": "stream",
     "text": [
      "\u001b[32m[I 2022-05-24 01:10:41,333]\u001b[0m Trial 324 finished with value: 0.7777777910232544 and parameters: {'n_layers': 3, 'n_units': 150, 'dropout': 0.1, 'optimizer': 'RMSprop'}. Best is trial 27 with value: 0.8888888955116272.\u001b[0m\n"
     ]
    },
    {
     "name": "stdout",
     "output_type": "stream",
     "text": [
      "1/1 [==============================] - 0s 31ms/step - loss: 0.7769 - accuracy: 0.8333\n"
     ]
    },
    {
     "name": "stderr",
     "output_type": "stream",
     "text": [
      "\u001b[32m[I 2022-05-24 01:10:42,607]\u001b[0m Trial 325 finished with value: 0.8333333134651184 and parameters: {'n_layers': 5, 'n_units': 200, 'dropout': 0.0, 'optimizer': 'RMSprop'}. Best is trial 27 with value: 0.8888888955116272.\u001b[0m\n"
     ]
    },
    {
     "name": "stdout",
     "output_type": "stream",
     "text": [
      "1/1 [==============================] - 0s 23ms/step - loss: 0.5386 - accuracy: 0.8333\n"
     ]
    },
    {
     "name": "stderr",
     "output_type": "stream",
     "text": [
      "\u001b[32m[I 2022-05-24 01:10:43,866]\u001b[0m Trial 326 finished with value: 0.8333333134651184 and parameters: {'n_layers': 2, 'n_units': 200, 'dropout': 0.0, 'optimizer': 'Adam'}. Best is trial 27 with value: 0.8888888955116272.\u001b[0m\n"
     ]
    },
    {
     "name": "stdout",
     "output_type": "stream",
     "text": [
      "1/1 [==============================] - 0s 16ms/step - loss: 0.6015 - accuracy: 0.7778\n"
     ]
    },
    {
     "name": "stderr",
     "output_type": "stream",
     "text": [
      "\u001b[32m[I 2022-05-24 01:10:45,217]\u001b[0m Trial 327 finished with value: 0.7777777910232544 and parameters: {'n_layers': 4, 'n_units': 150, 'dropout': 0.1, 'optimizer': 'RMSprop'}. Best is trial 27 with value: 0.8888888955116272.\u001b[0m\n"
     ]
    },
    {
     "name": "stdout",
     "output_type": "stream",
     "text": [
      "1/1 [==============================] - 0s 17ms/step - loss: 0.7717 - accuracy: 0.6667\n"
     ]
    },
    {
     "name": "stderr",
     "output_type": "stream",
     "text": [
      "\u001b[32m[I 2022-05-24 01:10:46,537]\u001b[0m Trial 328 finished with value: 0.6666666865348816 and parameters: {'n_layers': 4, 'n_units': 150, 'dropout': 0.1, 'optimizer': 'RMSprop'}. Best is trial 27 with value: 0.8888888955116272.\u001b[0m\n"
     ]
    },
    {
     "name": "stdout",
     "output_type": "stream",
     "text": [
      "1/1 [==============================] - 0s 31ms/step - loss: 0.6728 - accuracy: 0.7222\n"
     ]
    },
    {
     "name": "stderr",
     "output_type": "stream",
     "text": [
      "\u001b[32m[I 2022-05-24 01:10:47,925]\u001b[0m Trial 329 finished with value: 0.7222222089767456 and parameters: {'n_layers': 4, 'n_units': 150, 'dropout': 0.2, 'optimizer': 'Adam'}. Best is trial 27 with value: 0.8888888955116272.\u001b[0m\n"
     ]
    },
    {
     "name": "stdout",
     "output_type": "stream",
     "text": [
      "1/1 [==============================] - 0s 16ms/step - loss: 0.6452 - accuracy: 0.6667\n"
     ]
    },
    {
     "name": "stderr",
     "output_type": "stream",
     "text": [
      "\u001b[32m[I 2022-05-24 01:10:49,277]\u001b[0m Trial 330 finished with value: 0.6666666865348816 and parameters: {'n_layers': 4, 'n_units': 150, 'dropout': 0.2, 'optimizer': 'SGD'}. Best is trial 27 with value: 0.8888888955116272.\u001b[0m\n"
     ]
    },
    {
     "name": "stdout",
     "output_type": "stream",
     "text": [
      "1/1 [==============================] - 0s 16ms/step - loss: 0.5190 - accuracy: 0.7778\n"
     ]
    },
    {
     "name": "stderr",
     "output_type": "stream",
     "text": [
      "\u001b[32m[I 2022-05-24 01:10:50,629]\u001b[0m Trial 331 finished with value: 0.7777777910232544 and parameters: {'n_layers': 4, 'n_units': 150, 'dropout': 0.30000000000000004, 'optimizer': 'Adam'}. Best is trial 27 with value: 0.8888888955116272.\u001b[0m\n"
     ]
    },
    {
     "name": "stdout",
     "output_type": "stream",
     "text": [
      "1/1 [==============================] - 0s 16ms/step - loss: 0.5543 - accuracy: 0.6667\n"
     ]
    },
    {
     "name": "stderr",
     "output_type": "stream",
     "text": [
      "\u001b[32m[I 2022-05-24 01:10:51,728]\u001b[0m Trial 332 finished with value: 0.6666666865348816 and parameters: {'n_layers': 4, 'n_units': 150, 'dropout': 0.2, 'optimizer': 'Adam'}. Best is trial 27 with value: 0.8888888955116272.\u001b[0m\n"
     ]
    },
    {
     "name": "stdout",
     "output_type": "stream",
     "text": [
      "1/1 [==============================] - 0s 31ms/step - loss: 0.6137 - accuracy: 0.6111\n"
     ]
    },
    {
     "name": "stderr",
     "output_type": "stream",
     "text": [
      "\u001b[32m[I 2022-05-24 01:10:53,331]\u001b[0m Trial 333 finished with value: 0.6111111044883728 and parameters: {'n_layers': 4, 'n_units': 150, 'dropout': 0.2, 'optimizer': 'Adam'}. Best is trial 27 with value: 0.8888888955116272.\u001b[0m\n"
     ]
    },
    {
     "name": "stdout",
     "output_type": "stream",
     "text": [
      "1/1 [==============================] - 0s 16ms/step - loss: 0.6331 - accuracy: 0.8333\n"
     ]
    },
    {
     "name": "stderr",
     "output_type": "stream",
     "text": [
      "\u001b[32m[I 2022-05-24 01:10:54,622]\u001b[0m Trial 334 finished with value: 0.8333333134651184 and parameters: {'n_layers': 3, 'n_units': 150, 'dropout': 0.1, 'optimizer': 'RMSprop'}. Best is trial 27 with value: 0.8888888955116272.\u001b[0m\n"
     ]
    },
    {
     "name": "stdout",
     "output_type": "stream",
     "text": [
      "1/1 [==============================] - 0s 16ms/step - loss: 0.6018 - accuracy: 0.7778\n"
     ]
    },
    {
     "name": "stderr",
     "output_type": "stream",
     "text": [
      "\u001b[32m[I 2022-05-24 01:10:55,712]\u001b[0m Trial 335 finished with value: 0.7777777910232544 and parameters: {'n_layers': 4, 'n_units': 150, 'dropout': 0.1, 'optimizer': 'Adam'}. Best is trial 27 with value: 0.8888888955116272.\u001b[0m\n"
     ]
    },
    {
     "name": "stdout",
     "output_type": "stream",
     "text": [
      "1/1 [==============================] - 0s 16ms/step - loss: 0.8452 - accuracy: 0.7222\n"
     ]
    },
    {
     "name": "stderr",
     "output_type": "stream",
     "text": [
      "\u001b[32m[I 2022-05-24 01:10:56,918]\u001b[0m Trial 336 finished with value: 0.7222222089767456 and parameters: {'n_layers': 4, 'n_units': 150, 'dropout': 0.1, 'optimizer': 'RMSprop'}. Best is trial 27 with value: 0.8888888955116272.\u001b[0m\n"
     ]
    },
    {
     "name": "stdout",
     "output_type": "stream",
     "text": [
      "1/1 [==============================] - 0s 31ms/step - loss: 0.5205 - accuracy: 0.7778\n"
     ]
    },
    {
     "name": "stderr",
     "output_type": "stream",
     "text": [
      "\u001b[32m[I 2022-05-24 01:10:58,109]\u001b[0m Trial 337 finished with value: 0.7777777910232544 and parameters: {'n_layers': 2, 'n_units': 150, 'dropout': 0.1, 'optimizer': 'RMSprop'}. Best is trial 27 with value: 0.8888888955116272.\u001b[0m\n"
     ]
    },
    {
     "name": "stdout",
     "output_type": "stream",
     "text": [
      "1/1 [==============================] - 0s 16ms/step - loss: 0.7272 - accuracy: 0.8333\n"
     ]
    },
    {
     "name": "stderr",
     "output_type": "stream",
     "text": [
      "\u001b[32m[I 2022-05-24 01:10:59,548]\u001b[0m Trial 338 finished with value: 0.8333333134651184 and parameters: {'n_layers': 5, 'n_units': 200, 'dropout': 0.0, 'optimizer': 'Adam'}. Best is trial 27 with value: 0.8888888955116272.\u001b[0m\n"
     ]
    },
    {
     "name": "stdout",
     "output_type": "stream",
     "text": [
      "1/1 [==============================] - 0s 16ms/step - loss: 0.5489 - accuracy: 0.7222\n"
     ]
    },
    {
     "name": "stderr",
     "output_type": "stream",
     "text": [
      "\u001b[32m[I 2022-05-24 01:11:00,696]\u001b[0m Trial 339 finished with value: 0.7222222089767456 and parameters: {'n_layers': 3, 'n_units': 150, 'dropout': 0.1, 'optimizer': 'RMSprop'}. Best is trial 27 with value: 0.8888888955116272.\u001b[0m\n"
     ]
    },
    {
     "name": "stdout",
     "output_type": "stream",
     "text": [
      "1/1 [==============================] - 0s 31ms/step - loss: 0.7684 - accuracy: 0.8333\n"
     ]
    },
    {
     "name": "stderr",
     "output_type": "stream",
     "text": [
      "\u001b[32m[I 2022-05-24 01:11:02,005]\u001b[0m Trial 340 finished with value: 0.8333333134651184 and parameters: {'n_layers': 4, 'n_units': 150, 'dropout': 0.0, 'optimizer': 'Adam'}. Best is trial 27 with value: 0.8888888955116272.\u001b[0m\n"
     ]
    },
    {
     "name": "stdout",
     "output_type": "stream",
     "text": [
      "1/1 [==============================] - 0s 16ms/step - loss: 0.5147 - accuracy: 0.7778\n"
     ]
    },
    {
     "name": "stderr",
     "output_type": "stream",
     "text": [
      "\u001b[32m[I 2022-05-24 01:11:03,398]\u001b[0m Trial 341 finished with value: 0.7777777910232544 and parameters: {'n_layers': 5, 'n_units': 150, 'dropout': 0.1, 'optimizer': 'Adam'}. Best is trial 27 with value: 0.8888888955116272.\u001b[0m\n"
     ]
    },
    {
     "name": "stdout",
     "output_type": "stream",
     "text": [
      "1/1 [==============================] - 0s 47ms/step - loss: 0.4984 - accuracy: 0.7778\n"
     ]
    },
    {
     "name": "stderr",
     "output_type": "stream",
     "text": [
      "\u001b[32m[I 2022-05-24 01:11:04,452]\u001b[0m Trial 342 finished with value: 0.7777777910232544 and parameters: {'n_layers': 2, 'n_units': 150, 'dropout': 0.0, 'optimizer': 'Adam'}. Best is trial 27 with value: 0.8888888955116272.\u001b[0m\n"
     ]
    },
    {
     "name": "stdout",
     "output_type": "stream",
     "text": [
      "1/1 [==============================] - 0s 31ms/step - loss: 0.5606 - accuracy: 0.7778\n"
     ]
    },
    {
     "name": "stderr",
     "output_type": "stream",
     "text": [
      "\u001b[32m[I 2022-05-24 01:11:05,409]\u001b[0m Trial 343 finished with value: 0.7777777910232544 and parameters: {'n_layers': 2, 'n_units': 150, 'dropout': 0.0, 'optimizer': 'Adam'}. Best is trial 27 with value: 0.8888888955116272.\u001b[0m\n"
     ]
    },
    {
     "name": "stdout",
     "output_type": "stream",
     "text": [
      "1/1 [==============================] - 0s 16ms/step - loss: 1.0726 - accuracy: 0.8333\n"
     ]
    },
    {
     "name": "stderr",
     "output_type": "stream",
     "text": [
      "\u001b[32m[I 2022-05-24 01:11:06,363]\u001b[0m Trial 344 finished with value: 0.8333333134651184 and parameters: {'n_layers': 4, 'n_units': 200, 'dropout': 0.0, 'optimizer': 'Adam'}. Best is trial 27 with value: 0.8888888955116272.\u001b[0m\n"
     ]
    },
    {
     "name": "stdout",
     "output_type": "stream",
     "text": [
      "1/1 [==============================] - 0s 34ms/step - loss: 0.5843 - accuracy: 0.7222\n"
     ]
    },
    {
     "name": "stderr",
     "output_type": "stream",
     "text": [
      "\u001b[32m[I 2022-05-24 01:11:07,147]\u001b[0m Trial 345 finished with value: 0.7222222089767456 and parameters: {'n_layers': 2, 'n_units': 200, 'dropout': 0.0, 'optimizer': 'Adam'}. Best is trial 27 with value: 0.8888888955116272.\u001b[0m\n"
     ]
    },
    {
     "name": "stdout",
     "output_type": "stream",
     "text": [
      "1/1 [==============================] - 0s 31ms/step - loss: 0.6722 - accuracy: 0.5556\n"
     ]
    },
    {
     "name": "stderr",
     "output_type": "stream",
     "text": [
      "\u001b[32m[I 2022-05-24 01:11:08,154]\u001b[0m Trial 346 finished with value: 0.5555555820465088 and parameters: {'n_layers': 4, 'n_units': 50, 'dropout': 0.2, 'optimizer': 'Adam'}. Best is trial 27 with value: 0.8888888955116272.\u001b[0m\n"
     ]
    },
    {
     "name": "stdout",
     "output_type": "stream",
     "text": [
      "1/1 [==============================] - 0s 31ms/step - loss: 0.7435 - accuracy: 0.7222\n"
     ]
    },
    {
     "name": "stderr",
     "output_type": "stream",
     "text": [
      "\u001b[32m[I 2022-05-24 01:11:09,474]\u001b[0m Trial 347 finished with value: 0.7222222089767456 and parameters: {'n_layers': 3, 'n_units': 150, 'dropout': 0.1, 'optimizer': 'RMSprop'}. Best is trial 27 with value: 0.8888888955116272.\u001b[0m\n"
     ]
    },
    {
     "name": "stdout",
     "output_type": "stream",
     "text": [
      "1/1 [==============================] - 0s 16ms/step - loss: 0.5442 - accuracy: 0.8333\n"
     ]
    },
    {
     "name": "stderr",
     "output_type": "stream",
     "text": [
      "\u001b[32m[I 2022-05-24 01:11:10,856]\u001b[0m Trial 348 finished with value: 0.8333333134651184 and parameters: {'n_layers': 4, 'n_units': 150, 'dropout': 0.2, 'optimizer': 'Adam'}. Best is trial 27 with value: 0.8888888955116272.\u001b[0m\n"
     ]
    },
    {
     "name": "stdout",
     "output_type": "stream",
     "text": [
      "1/1 [==============================] - 0s 16ms/step - loss: 0.6667 - accuracy: 0.7222\n"
     ]
    },
    {
     "name": "stderr",
     "output_type": "stream",
     "text": [
      "\u001b[32m[I 2022-05-24 01:11:12,162]\u001b[0m Trial 349 finished with value: 0.7222222089767456 and parameters: {'n_layers': 3, 'n_units': 150, 'dropout': 0.1, 'optimizer': 'RMSprop'}. Best is trial 27 with value: 0.8888888955116272.\u001b[0m\n"
     ]
    },
    {
     "name": "stdout",
     "output_type": "stream",
     "text": [
      "1/1 [==============================] - 0s 16ms/step - loss: 0.4846 - accuracy: 0.8333\n"
     ]
    },
    {
     "name": "stderr",
     "output_type": "stream",
     "text": [
      "\u001b[32m[I 2022-05-24 01:11:13,499]\u001b[0m Trial 350 finished with value: 0.8333333134651184 and parameters: {'n_layers': 4, 'n_units': 150, 'dropout': 0.2, 'optimizer': 'Adam'}. Best is trial 27 with value: 0.8888888955116272.\u001b[0m\n"
     ]
    },
    {
     "name": "stdout",
     "output_type": "stream",
     "text": [
      "1/1 [==============================] - 0s 16ms/step - loss: 0.5729 - accuracy: 0.7222\n"
     ]
    },
    {
     "name": "stderr",
     "output_type": "stream",
     "text": [
      "\u001b[32m[I 2022-05-24 01:11:14,786]\u001b[0m Trial 351 finished with value: 0.7222222089767456 and parameters: {'n_layers': 3, 'n_units': 150, 'dropout': 0.1, 'optimizer': 'RMSprop'}. Best is trial 27 with value: 0.8888888955116272.\u001b[0m\n"
     ]
    },
    {
     "name": "stdout",
     "output_type": "stream",
     "text": [
      "1/1 [==============================] - 0s 31ms/step - loss: 0.5383 - accuracy: 0.7778\n"
     ]
    },
    {
     "name": "stderr",
     "output_type": "stream",
     "text": [
      "\u001b[32m[I 2022-05-24 01:11:16,958]\u001b[0m Trial 352 finished with value: 0.7777777910232544 and parameters: {'n_layers': 4, 'n_units': 150, 'dropout': 0.2, 'optimizer': 'Adam'}. Best is trial 27 with value: 0.8888888955116272.\u001b[0m\n"
     ]
    },
    {
     "name": "stdout",
     "output_type": "stream",
     "text": [
      "1/1 [==============================] - 0s 16ms/step - loss: 1.1957 - accuracy: 0.8333\n"
     ]
    },
    {
     "name": "stderr",
     "output_type": "stream",
     "text": [
      "\u001b[32m[I 2022-05-24 01:11:18,374]\u001b[0m Trial 353 finished with value: 0.8333333134651184 and parameters: {'n_layers': 5, 'n_units': 200, 'dropout': 0.1, 'optimizer': 'Adam'}. Best is trial 27 with value: 0.8888888955116272.\u001b[0m\n"
     ]
    },
    {
     "name": "stdout",
     "output_type": "stream",
     "text": [
      "1/1 [==============================] - 0s 16ms/step - loss: 0.5427 - accuracy: 0.8889\n"
     ]
    },
    {
     "name": "stderr",
     "output_type": "stream",
     "text": [
      "\u001b[32m[I 2022-05-24 01:11:20,058]\u001b[0m Trial 354 finished with value: 0.8888888955116272 and parameters: {'n_layers': 5, 'n_units': 150, 'dropout': 0.1, 'optimizer': 'RMSprop'}. Best is trial 27 with value: 0.8888888955116272.\u001b[0m\n"
     ]
    },
    {
     "name": "stdout",
     "output_type": "stream",
     "text": [
      "1/1 [==============================] - 0s 31ms/step - loss: 0.6953 - accuracy: 0.5000\n"
     ]
    },
    {
     "name": "stderr",
     "output_type": "stream",
     "text": [
      "\u001b[32m[I 2022-05-24 01:11:21,401]\u001b[0m Trial 355 finished with value: 0.5 and parameters: {'n_layers': 5, 'n_units': 100, 'dropout': 0.1, 'optimizer': 'Adam'}. Best is trial 27 with value: 0.8888888955116272.\u001b[0m\n"
     ]
    },
    {
     "name": "stdout",
     "output_type": "stream",
     "text": [
      "1/1 [==============================] - 0s 16ms/step - loss: 0.5307 - accuracy: 0.6111\n"
     ]
    },
    {
     "name": "stderr",
     "output_type": "stream",
     "text": [
      "\u001b[32m[I 2022-05-24 01:11:22,626]\u001b[0m Trial 356 finished with value: 0.6111111044883728 and parameters: {'n_layers': 4, 'n_units': 150, 'dropout': 0.1, 'optimizer': 'Adam'}. Best is trial 27 with value: 0.8888888955116272.\u001b[0m\n"
     ]
    },
    {
     "name": "stdout",
     "output_type": "stream",
     "text": [
      "1/1 [==============================] - 0s 16ms/step - loss: 0.6804 - accuracy: 0.5556\n"
     ]
    },
    {
     "name": "stderr",
     "output_type": "stream",
     "text": [
      "\u001b[32m[I 2022-05-24 01:11:23,660]\u001b[0m Trial 357 finished with value: 0.5555555820465088 and parameters: {'n_layers': 5, 'n_units': 250, 'dropout': 0.1, 'optimizer': 'SGD'}. Best is trial 27 with value: 0.8888888955116272.\u001b[0m\n"
     ]
    },
    {
     "name": "stdout",
     "output_type": "stream",
     "text": [
      "1/1 [==============================] - 0s 31ms/step - loss: 0.7053 - accuracy: 0.7222\n"
     ]
    },
    {
     "name": "stderr",
     "output_type": "stream",
     "text": [
      "\u001b[32m[I 2022-05-24 01:11:25,149]\u001b[0m Trial 358 finished with value: 0.7222222089767456 and parameters: {'n_layers': 5, 'n_units': 150, 'dropout': 0.0, 'optimizer': 'RMSprop'}. Best is trial 27 with value: 0.8888888955116272.\u001b[0m\n"
     ]
    },
    {
     "name": "stdout",
     "output_type": "stream",
     "text": [
      "1/1 [==============================] - 0s 34ms/step - loss: 0.5447 - accuracy: 0.6111\n"
     ]
    },
    {
     "name": "stderr",
     "output_type": "stream",
     "text": [
      "\u001b[32m[I 2022-05-24 01:11:26,770]\u001b[0m Trial 359 finished with value: 0.6111111044883728 and parameters: {'n_layers': 5, 'n_units': 50, 'dropout': 0.1, 'optimizer': 'RMSprop'}. Best is trial 27 with value: 0.8888888955116272.\u001b[0m\n"
     ]
    }
   ],
   "source": [
    "study = optuna.create_study(direction=\"maximize\", sampler=sampler)\n",
    "study.optimize(objectiveSoftmax, n_trials=360)\n",
    "# n_trials = 4 x 5 x 6 x 3 = 360"
   ]
  },
  {
   "cell_type": "code",
   "execution_count": 44,
   "id": "cdf62f31",
   "metadata": {},
   "outputs": [
    {
     "data": {
      "text/plain": [
       "FrozenTrial(number=27, values=[0.8888888955116272], datetime_start=datetime.datetime(2022, 5, 24, 1, 4, 24, 625763), datetime_complete=datetime.datetime(2022, 5, 24, 1, 4, 26, 73405), params={'n_layers': 4, 'n_units': 150, 'dropout': 0.1, 'optimizer': 'RMSprop'}, distributions={'n_layers': IntUniformDistribution(high=5, low=2, step=1), 'n_units': IntUniformDistribution(high=250, low=50, step=50), 'dropout': DiscreteUniformDistribution(high=0.5, low=0.0, q=0.1), 'optimizer': CategoricalDistribution(choices=('RMSprop', 'SGD', 'Adam'))}, user_attrs={}, system_attrs={}, intermediate_values={}, trial_id=27, state=TrialState.COMPLETE, value=None)"
      ]
     },
     "execution_count": 44,
     "metadata": {},
     "output_type": "execute_result"
    }
   ],
   "source": [
    "study.best_trial"
   ]
  },
  {
   "cell_type": "markdown",
   "id": "dcc0ce7c",
   "metadata": {},
   "source": [
    "La red con los parámetros optimizados es la siguiente:"
   ]
  },
  {
   "cell_type": "code",
   "execution_count": 45,
   "id": "fa5ffa55",
   "metadata": {},
   "outputs": [
    {
     "name": "stdout",
     "output_type": "stream",
     "text": [
      "Epoch 1/100\n",
      "2/2 [==============================] - 1s 241ms/step - loss: 0.6755 - acc: 0.5882 - val_loss: 0.6444 - val_acc: 0.5882\n",
      "Epoch 2/100\n",
      "2/2 [==============================] - 0s 41ms/step - loss: 0.6054 - acc: 0.6275 - val_loss: 0.6108 - val_acc: 0.6471\n",
      "Epoch 3/100\n",
      "2/2 [==============================] - 0s 44ms/step - loss: 0.4580 - acc: 0.8627 - val_loss: 0.5695 - val_acc: 0.7059\n",
      "Epoch 4/100\n",
      "2/2 [==============================] - 0s 38ms/step - loss: 0.3061 - acc: 0.9216 - val_loss: 0.5952 - val_acc: 0.7059\n",
      "Epoch 5/100\n",
      "2/2 [==============================] - 0s 36ms/step - loss: 0.2151 - acc: 0.9804 - val_loss: 0.5713 - val_acc: 0.7647\n",
      "Epoch 6/100\n",
      "2/2 [==============================] - 0s 33ms/step - loss: 0.1228 - acc: 1.0000 - val_loss: 0.5352 - val_acc: 0.7059\n",
      "Epoch 7/100\n",
      "2/2 [==============================] - 0s 34ms/step - loss: 0.0535 - acc: 1.0000 - val_loss: 0.6135 - val_acc: 0.7059\n",
      "Epoch 8/100\n",
      "2/2 [==============================] - 0s 38ms/step - loss: 0.0545 - acc: 1.0000 - val_loss: 0.5260 - val_acc: 0.7647\n",
      "Epoch 9/100\n",
      "2/2 [==============================] - 0s 38ms/step - loss: 0.0231 - acc: 1.0000 - val_loss: 0.4356 - val_acc: 0.7059\n",
      "Epoch 10/100\n",
      "2/2 [==============================] - 0s 35ms/step - loss: 0.0106 - acc: 1.0000 - val_loss: 0.4419 - val_acc: 0.7059\n",
      "1/1 [==============================] - 0s 16ms/step - loss: 0.5961 - acc: 0.8333\n",
      "Accuracy: 83.33%\n"
     ]
    }
   ],
   "source": [
    "tf.keras.utils.set_random_seed(0)\n",
    "\n",
    "# Definir y entrenar el modelo\n",
    "modelFC_optuna = models.Sequential()\n",
    "modelFC_optuna.add(layers.Dense(150, activation=\"relu\", input_shape=(410,)))\n",
    "modelFC_optuna.add(layers.Dropout(0.1))\n",
    "modelFC_optuna.add(layers.Dense(150, activation=\"relu\"))\n",
    "modelFC_optuna.add(layers.Dropout(0.1))\n",
    "modelFC_optuna.add(layers.Dense(150, activation=\"relu\"))\n",
    "modelFC_optuna.add(layers.Dropout(0.1))\n",
    "modelFC_optuna.add(layers.Dense(150, activation=\"relu\"))\n",
    "modelFC_optuna.add(layers.Dropout(0.1))\n",
    "modelFC_optuna.add(layers.Dense(2, activation=\"softmax\"))\n",
    "\n",
    "modelFC_optuna.compile(loss=\"binary_crossentropy\", optimizer=\"rmsprop\", metrics=[\"acc\"])\n",
    "es = callbacks.EarlyStopping(monitor=\"val_acc\", min_delta=0.01, patience=5)\n",
    "modelFC_optuna.fit(X_train, y_train_softmax, epochs=100, validation_split=0.25, callbacks=[es])\n",
    "\n",
    "# Precisión en partición de test\n",
    "loss, accuracy = modelFC_optuna.evaluate(X_test, y_test_softmax)\n",
    "print(\"Accuracy: {:0.2f}%\".format(accuracy * 100))"
   ]
  },
  {
   "cell_type": "markdown",
   "id": "c9fa31a6",
   "metadata": {},
   "source": [
    "Obtenemos un mayor accuracy utilizando la activación softmax. Sin embargo, parece que ahora la red tiene un problema de sobreajuste, ya que por ejemplo en la última época hay una diferencia entre la precisión en train y en validación del 30% aproximadamente. Incluso, desde la 6ª etapa, la red clasifica los datos en train con una precisión del 100%. Vamos a tratar de reducir esta diferencia probando distintos tipos de regularización."
   ]
  },
  {
   "cell_type": "markdown",
   "id": "b854415b",
   "metadata": {},
   "source": [
    "$\\color{red}{\\text{SE ME HA OLVIDADO EL PARÁMETRO KERNEL REG, PQ CAMBIA??}}$"
   ]
  },
  {
   "cell_type": "code",
   "execution_count": 49,
   "id": "91728e83",
   "metadata": {},
   "outputs": [
    {
     "name": "stdout",
     "output_type": "stream",
     "text": [
      "1/1 [==============================] - 0s 3ms/step - loss: 0.5961 - acc: 0.8333\n",
      "Accuracy : 83.33% ----- Regularización: 0\n",
      "1/1 [==============================] - 0s 16ms/step - loss: 0.7155 - acc: 0.7778\n",
      "Accuracy : 77.78% ----- Regularización: 1\n",
      "1/1 [==============================] - 0s 31ms/step - loss: 0.6080 - acc: 0.7778\n",
      "Accuracy : 77.78% ----- Regularización: 2\n",
      "1/1 [==============================] - 0s 31ms/step - loss: 0.7362 - acc: 0.7222\n",
      "Accuracy : 72.22% ----- Regularización: 3\n",
      "1/1 [==============================] - 0s 16ms/step - loss: 0.6578 - acc: 0.7222\n",
      "Accuracy : 72.22% ----- Regularización: 4\n",
      "1/1 [==============================] - 0s 16ms/step - loss: 0.5682 - acc: 0.7778\n",
      "Accuracy : 77.78% ----- Regularización: 5\n"
     ]
    }
   ],
   "source": [
    "tf.keras.utils.set_random_seed(0)\n",
    "regularizers = [\"l1\", \"l2\", \"l1_l2\", None]\n",
    "\n",
    "for i in range(6):\n",
    "    modelFC_optuna = models.Sequential()\n",
    "    modelFC_optuna.add(layers.Dense(150, activation=\"relu\", input_shape=(410,)))\n",
    "    modelFC_optuna.add(layers.Dropout(0.1))\n",
    "    modelFC_optuna.add(layers.Dense(150, activation=\"relu\"))\n",
    "    modelFC_optuna.add(layers.Dropout(0.1))\n",
    "    modelFC_optuna.add(layers.Dense(150, activation=\"relu\"))\n",
    "    modelFC_optuna.add(layers.Dropout(0.1))\n",
    "    modelFC_optuna.add(layers.Dense(150, activation=\"relu\"))\n",
    "    modelFC_optuna.add(layers.Dropout(0.1))\n",
    "    modelFC_optuna.add(layers.Dense(2, activation=\"softmax\"))\n",
    "\n",
    "    modelFC_optuna.compile(loss=\"binary_crossentropy\", optimizer=\"rmsprop\", metrics=[\"acc\"])\n",
    "    es = callbacks.EarlyStopping(monitor=\"val_acc\", min_delta=0.01, patience=5)\n",
    "    modelFC_optuna.fit(X_train, y_train_softmax, epochs=100, validation_split=0.25, callbacks=[es], verbose=0)\n",
    "\n",
    "    # Precisión en partición de test\n",
    "    loss, accuracy = modelFC_optuna.evaluate(X_test, y_test_softmax)\n",
    "    print(\"Accuracy : {:0.2f}% ----- Regularización: {}\".format(accuracy * 100, i))"
   ]
  },
  {
   "cell_type": "code",
   "execution_count": 55,
   "id": "ddc9d896",
   "metadata": {},
   "outputs": [
    {
     "name": "stdout",
     "output_type": "stream",
     "text": [
      "Epoch 1/100\n",
      "2/2 [==============================] - 1s 192ms/step - loss: 47.6402 - acc: 0.5882 - val_loss: 44.8239 - val_acc: 0.5882\n",
      "Epoch 2/100\n",
      "2/2 [==============================] - 0s 31ms/step - loss: 44.3597 - acc: 0.5882 - val_loss: 42.5165 - val_acc: 0.5882\n",
      "Epoch 3/100\n",
      "2/2 [==============================] - 0s 28ms/step - loss: 42.1256 - acc: 0.6471 - val_loss: 40.6336 - val_acc: 0.5882\n",
      "Epoch 4/100\n",
      "2/2 [==============================] - 0s 24ms/step - loss: 40.2910 - acc: 0.6667 - val_loss: 38.9884 - val_acc: 0.5882\n",
      "Epoch 5/100\n",
      "2/2 [==============================] - 0s 32ms/step - loss: 38.6668 - acc: 0.7059 - val_loss: 37.5014 - val_acc: 0.5882\n",
      "Epoch 6/100\n",
      "2/2 [==============================] - 0s 23ms/step - loss: 37.1797 - acc: 0.7059 - val_loss: 36.1154 - val_acc: 0.5882\n",
      "1/1 [==============================] - 0s 14ms/step - loss: 36.1515 - acc: 0.5000\n",
      "Accuracy : 50.00% ----- Regularización: l1 \n",
      "\n",
      "Epoch 1/100\n",
      "2/2 [==============================] - 1s 177ms/step - loss: 5.1030 - acc: 0.4118 - val_loss: 4.7266 - val_acc: 0.5882\n",
      "Epoch 2/100\n",
      "2/2 [==============================] - 0s 41ms/step - loss: 4.6594 - acc: 0.5882 - val_loss: 4.4457 - val_acc: 0.5882\n",
      "Epoch 3/100\n",
      "2/2 [==============================] - 0s 35ms/step - loss: 4.3502 - acc: 0.5686 - val_loss: 4.2221 - val_acc: 0.5882\n",
      "Epoch 4/100\n",
      "2/2 [==============================] - 0s 30ms/step - loss: 4.0856 - acc: 0.6863 - val_loss: 4.0280 - val_acc: 0.5882\n",
      "Epoch 5/100\n",
      "2/2 [==============================] - 0s 32ms/step - loss: 3.8461 - acc: 0.8431 - val_loss: 3.9589 - val_acc: 0.5882\n",
      "Epoch 6/100\n",
      "2/2 [==============================] - 0s 30ms/step - loss: 3.6180 - acc: 0.8431 - val_loss: 3.7285 - val_acc: 0.7059\n",
      "Epoch 7/100\n",
      "2/2 [==============================] - 0s 22ms/step - loss: 3.4321 - acc: 0.9412 - val_loss: 3.7747 - val_acc: 0.5294\n",
      "Epoch 8/100\n",
      "2/2 [==============================] - 0s 29ms/step - loss: 3.2788 - acc: 0.9020 - val_loss: 3.5264 - val_acc: 0.7647\n",
      "Epoch 9/100\n",
      "2/2 [==============================] - 0s 34ms/step - loss: 3.0414 - acc: 1.0000 - val_loss: 3.3630 - val_acc: 0.7059\n",
      "Epoch 10/100\n",
      "2/2 [==============================] - 0s 29ms/step - loss: 2.8711 - acc: 1.0000 - val_loss: 3.2660 - val_acc: 0.7059\n",
      "Epoch 11/100\n",
      "2/2 [==============================] - 0s 23ms/step - loss: 2.7402 - acc: 1.0000 - val_loss: 3.2053 - val_acc: 0.7059\n",
      "Epoch 12/100\n",
      "2/2 [==============================] - 0s 31ms/step - loss: 2.6425 - acc: 1.0000 - val_loss: 3.5511 - val_acc: 0.7647\n",
      "Epoch 13/100\n",
      "2/2 [==============================] - 0s 67ms/step - loss: 2.5659 - acc: 0.9804 - val_loss: 2.9730 - val_acc: 0.5882\n",
      "1/1 [==============================] - 0s 17ms/step - loss: 2.9864 - acc: 0.8333\n",
      "Accuracy : 83.33% ----- Regularización: l2 \n",
      "\n",
      "Epoch 1/100\n",
      "2/2 [==============================] - 1s 392ms/step - loss: 52.2807 - acc: 0.4314 - val_loss: 49.0691 - val_acc: 0.6471\n",
      "Epoch 2/100\n",
      "2/2 [==============================] - 0s 24ms/step - loss: 48.5275 - acc: 0.6667 - val_loss: 46.4526 - val_acc: 0.5882\n",
      "Epoch 3/100\n",
      "2/2 [==============================] - 0s 27ms/step - loss: 46.0126 - acc: 0.7647 - val_loss: 44.3378 - val_acc: 0.5882\n",
      "Epoch 4/100\n",
      "2/2 [==============================] - 0s 30ms/step - loss: 43.9405 - acc: 0.8431 - val_loss: 42.4902 - val_acc: 0.6471\n",
      "Epoch 5/100\n",
      "2/2 [==============================] - 0s 33ms/step - loss: 42.1243 - acc: 0.8039 - val_loss: 40.8157 - val_acc: 0.5882\n",
      "Epoch 6/100\n",
      "2/2 [==============================] - 0s 29ms/step - loss: 40.4579 - acc: 0.8431 - val_loss: 39.2659 - val_acc: 0.6471\n",
      "1/1 [==============================] - 0s 16ms/step - loss: 39.2832 - acc: 0.5556\n",
      "Accuracy : 55.56% ----- Regularización: l1_l2 \n",
      "\n",
      "Epoch 1/100\n",
      "2/2 [==============================] - 1s 204ms/step - loss: 0.7009 - acc: 0.5490 - val_loss: 0.6554 - val_acc: 0.5882\n",
      "Epoch 2/100\n",
      "2/2 [==============================] - 0s 36ms/step - loss: 0.6036 - acc: 0.6667 - val_loss: 0.6502 - val_acc: 0.7059\n",
      "Epoch 3/100\n",
      "2/2 [==============================] - 0s 39ms/step - loss: 0.4729 - acc: 0.8235 - val_loss: 0.7201 - val_acc: 0.7059\n",
      "Epoch 4/100\n",
      "2/2 [==============================] - 0s 38ms/step - loss: 0.3725 - acc: 0.8824 - val_loss: 0.7095 - val_acc: 0.7059\n",
      "Epoch 5/100\n",
      "2/2 [==============================] - 0s 38ms/step - loss: 0.2814 - acc: 0.9216 - val_loss: 0.9095 - val_acc: 0.7059\n",
      "Epoch 6/100\n",
      "2/2 [==============================] - 0s 36ms/step - loss: 0.2052 - acc: 0.9412 - val_loss: 0.8050 - val_acc: 0.7059\n",
      "Epoch 7/100\n",
      "2/2 [==============================] - 0s 31ms/step - loss: 0.1153 - acc: 0.9804 - val_loss: 1.0085 - val_acc: 0.5882\n",
      "1/1 [==============================] - 0s 21ms/step - loss: 0.7362 - acc: 0.7222\n",
      "Accuracy : 72.22% ----- Regularización: None \n",
      "\n"
     ]
    }
   ],
   "source": [
    "tf.keras.utils.set_random_seed(0)\n",
    "regularizers = [\"l1\", \"l2\", \"l1_l2\", None]\n",
    "\n",
    "for regularizer in regularizers:\n",
    "    modelFC_optuna = models.Sequential()\n",
    "    modelFC_optuna.add(layers.Dense(150, activation=\"relu\", input_shape=(410,)))\n",
    "    modelFC_optuna.add(layers.Dropout(0.1))\n",
    "    modelFC_optuna.add(layers.Dense(150, activation=\"relu\", kernel_regularizer=regularizer))\n",
    "    modelFC_optuna.add(layers.Dropout(0.1))\n",
    "    modelFC_optuna.add(layers.Dense(150, activation=\"relu\", kernel_regularizer=regularizer))\n",
    "    modelFC_optuna.add(layers.Dropout(0.1))\n",
    "    modelFC_optuna.add(layers.Dense(150, activation=\"relu\", kernel_regularizer=regularizer))\n",
    "    modelFC_optuna.add(layers.Dropout(0.1))\n",
    "    modelFC_optuna.add(layers.Dense(2, activation=\"softmax\"))\n",
    "\n",
    "    modelFC_optuna.compile(loss=\"binary_crossentropy\", optimizer=\"rmsprop\", metrics=[\"acc\"])\n",
    "    es = callbacks.EarlyStopping(monitor=\"val_acc\", min_delta=0.01, patience=5)\n",
    "    modelFC_optuna.fit(X_train, y_train_softmax, epochs=100, validation_split=0.25, callbacks=[es])\n",
    "\n",
    "    # Precisión en partición de test\n",
    "    loss, accuracy = modelFC_optuna.evaluate(X_test, y_test_softmax)\n",
    "    print(\"Accuracy : {:0.2f}% ----- Regularización: {} \\n\".format(accuracy * 100, regularizer))"
   ]
  },
  {
   "cell_type": "markdown",
   "id": "c1a979d8",
   "metadata": {},
   "source": [
    "$\\color{red}{\\text{CÓMO PUEDE SER QUE PIERDA PRECISIÓN CON SEMILLA + KERNEL = NONE??}}$"
   ]
  },
  {
   "cell_type": "markdown",
   "id": "e7eebafe",
   "metadata": {},
   "source": [
    "Otra posibilidad es tratar de tener en cuenta los datos con peores resultados en el backpropagation, es decir, asignar un mayor peso a esos datos. Esta es la idea del método \"AdaBoost\" que sin embargo no está actualmente implementado en keras. La alternativa será definir propiamente otra función de loss dentro de por ejemplo el optimizador Adam (primera configuración de red neuronal optimizada con ``optuna`` anteriormente).\n",
    "\n",
    "Fuente: https://stackoverflow.com/questions/48720197/weight-samples-if-incorrect-guessed-in-binary-cross-entropy"
   ]
  },
  {
   "cell_type": "code",
   "execution_count": 58,
   "id": "ad055d09",
   "metadata": {},
   "outputs": [],
   "source": [
    "def custom_loss(y_true, y_pred, tp_weight=0.2, tn_weight=0.2, fp_weight=1.2, fn_weight=1.2):\n",
    "    '''\n",
    "    Función de pérdida personalizada para el optimizador de una red neuronal.\n",
    "    El método recibe las predicciones y el valor real de la clasificación, así como los pesos que se desea asignar a los\n",
    "    clasificaciones tanto erróneas como acertadas.\n",
    "    '''\n",
    "    # Get predictions\n",
    "    y_pred_classes = tf.keras.backend.greater_equal(y_pred, 0.5)\n",
    "    y_pred_classes_float = tf.keras.backend.cast(y_pred_classes, tf.keras.backend.floatx())\n",
    "    y_true_float = tf.keras.backend.cast(y_true, tf.keras.backend.floatx())\n",
    "\n",
    "    # Get misclassified examples\n",
    "    wrongly_classified = tf.keras.backend.not_equal(y_true_float, y_pred_classes_float)\n",
    "    wrongly_classified_float = tf.keras.backend.cast(wrongly_classified, tf.keras.backend.floatx())\n",
    "\n",
    "    # Get correctly classified examples\n",
    "    correctly_classified = tf.keras.backend.equal(y_true_float, y_pred_classes_float)\n",
    "    correctly_classified_float = tf.keras.backend.cast(wrongly_classified, tf.keras.backend.floatx())\n",
    "\n",
    "    # Get tp, fp, tn, fn\n",
    "    tp = correctly_classified_float * y_true_float\n",
    "    tn = correctly_classified_float * (1 - y_true_float)\n",
    "    fp = wrongly_classified_float * y_true_float\n",
    "    fn = wrongly_classified_float * (1 - y_true_float)\n",
    "\n",
    "    # Get weights\n",
    "    weight_tensor = tp_weight * tp + fp_weight * fp + tn_weight * tn + fn_weight * fn\n",
    "\n",
    "    loss = tf.keras.metrics.binary_crossentropy(y_true, y_pred)\n",
    "    weighted_loss = loss * weight_tensor\n",
    "    return weighted_loss"
   ]
  },
  {
   "cell_type": "code",
   "execution_count": 59,
   "id": "9bb9f5a6",
   "metadata": {},
   "outputs": [
    {
     "name": "stdout",
     "output_type": "stream",
     "text": [
      "Epoch 1/100\n",
      "2/2 [==============================] - 1s 202ms/step - loss: 0.4190 - acc: 0.5686 - val_loss: 0.5201 - val_acc: 0.4706\n",
      "Epoch 2/100\n",
      "2/2 [==============================] - 0s 22ms/step - loss: 0.4364 - acc: 0.5490 - val_loss: 0.5733 - val_acc: 0.4118\n",
      "Epoch 3/100\n",
      "2/2 [==============================] - 0s 30ms/step - loss: 0.2555 - acc: 0.7059 - val_loss: 0.6253 - val_acc: 0.3529\n",
      "Epoch 4/100\n",
      "2/2 [==============================] - 0s 29ms/step - loss: 0.3604 - acc: 0.6078 - val_loss: 0.5639 - val_acc: 0.4118\n",
      "Epoch 5/100\n",
      "2/2 [==============================] - 0s 33ms/step - loss: 0.3278 - acc: 0.6275 - val_loss: 0.3897 - val_acc: 0.5882\n",
      "Epoch 6/100\n",
      "2/2 [==============================] - 0s 30ms/step - loss: 0.1135 - acc: 0.8431 - val_loss: 0.3289 - val_acc: 0.6471\n",
      "Epoch 7/100\n",
      "2/2 [==============================] - 0s 23ms/step - loss: 0.2608 - acc: 0.6863 - val_loss: 0.3236 - val_acc: 0.6471\n",
      "Epoch 8/100\n",
      "2/2 [==============================] - 0s 31ms/step - loss: 0.1220 - acc: 0.8235 - val_loss: 0.4251 - val_acc: 0.5294\n",
      "Epoch 9/100\n",
      "2/2 [==============================] - 0s 31ms/step - loss: 0.0451 - acc: 0.9216 - val_loss: 0.3675 - val_acc: 0.5882\n",
      "Epoch 10/100\n",
      "2/2 [==============================] - 0s 23ms/step - loss: 0.0209 - acc: 0.9608 - val_loss: 0.3649 - val_acc: 0.5882\n",
      "Epoch 11/100\n",
      "2/2 [==============================] - 0s 30ms/step - loss: 0.0590 - acc: 0.9020 - val_loss: 0.3619 - val_acc: 0.5882\n",
      "1/1 [==============================] - 0s 8ms/step - loss: 0.1660 - acc: 0.7778\n",
      "Accuracy: 77.78%\n"
     ]
    }
   ],
   "source": [
    "tf.keras.utils.set_random_seed(0)\n",
    "\n",
    "# Definir y entrenar el modelo\n",
    "modelFC_CL = models.Sequential()\n",
    "modelFC_CL.add(layers.Dense(200, activation=\"relu\", input_shape=(410,)))\n",
    "modelFC_CL.add(layers.Dropout(0.3))\n",
    "modelFC_CL.add(layers.Dense(200, activation=\"relu\"))\n",
    "modelFC_CL.add(layers.Dropout(0.3))\n",
    "modelFC_CL.add(layers.Dense(200, activation=\"relu\"))\n",
    "modelFC_CL.add(layers.Dropout(0.3))\n",
    "modelFC_CL.add(layers.Dense(200, activation=\"relu\"))\n",
    "modelFC_CL.add(layers.Dropout(0.3))\n",
    "modelFC_CL.add(layers.Dense(1, activation=\"sigmoid\"))\n",
    "\n",
    "modelFC_CL.compile(loss=custom_loss, optimizer=\"adam\", metrics=[\"acc\"])\n",
    "es = callbacks.EarlyStopping(monitor='val_acc', min_delta=0.01, patience=5)\n",
    "modelFC_CL.fit(X_train, y_train, epochs=100, validation_split=0.25, callbacks=[es])\n",
    "# modelFC_CL.fit(X_train, y_train, epochs=100, validation_split=0.25, verbose=0)\n",
    "\n",
    "# Precisión en partición de test\n",
    "loss, accuracy = modelFC_CL.evaluate(X_test, y_test)\n",
    "print(\"Accuracy: {:0.2f}%\".format(accuracy * 100))"
   ]
  },
  {
   "cell_type": "markdown",
   "id": "9becac86",
   "metadata": {},
   "source": [
    "Finalmente, hay una manera de definir un modelo en keras y adaptarlo para su uso en ``sklearn``, donde sí existe una función para aplicar AdaBoost."
   ]
  },
  {
   "cell_type": "code",
   "execution_count": 64,
   "id": "874a2b22",
   "metadata": {},
   "outputs": [],
   "source": [
    "def keras_to_sklearn_model():\n",
    "    modelFC_AdaBoost = models.Sequential()\n",
    "    modelFC_AdaBoost.add(layers.Dense(200, activation=\"relu\", input_shape=(410,)))\n",
    "    modelFC_AdaBoost.add(layers.Dropout(0.3))\n",
    "    modelFC_AdaBoost.add(layers.Dense(200, activation=\"relu\"))\n",
    "    modelFC_AdaBoost.add(layers.Dropout(0.3))\n",
    "    modelFC_AdaBoost.add(layers.Dense(200, activation=\"relu\"))\n",
    "    modelFC_AdaBoost.add(layers.Dropout(0.3))\n",
    "    modelFC_AdaBoost.add(layers.Dense(200, activation=\"relu\"))\n",
    "    modelFC_AdaBoost.add(layers.Dropout(0.3))\n",
    "    modelFC_AdaBoost.add(layers.Dense(1, activation=\"sigmoid\"))\n",
    "\n",
    "    modelFC_AdaBoost.compile(loss=custom_loss, optimizer=\"adam\", metrics=[\"acc\"])\n",
    "    return modelFC_AdaBoost"
   ]
  },
  {
   "cell_type": "code",
   "execution_count": 67,
   "id": "9bbdf455",
   "metadata": {},
   "outputs": [
    {
     "name": "stderr",
     "output_type": "stream",
     "text": [
      "C:\\Users\\saral\\AppData\\Local\\Temp\\ipykernel_15372\\1299115203.py:4: DeprecationWarning: KerasClassifier is deprecated, use Sci-Keras (https://github.com/adriangb/scikeras) instead. See https://www.adriangb.com/scikeras/stable/migration.html for help migrating.\n",
      "  modelFC_AdaBoost = KerasClassifier(build_fn=keras_to_sklearn_model, verbose=0)\n"
     ]
    }
   ],
   "source": [
    "from keras.wrappers.scikit_learn import KerasClassifier\n",
    "from sklearn.ensemble import AdaBoostClassifier\n",
    "\n",
    "modelFC_AdaBoost = KerasClassifier(build_fn=keras_to_sklearn_model, verbose=0)\n",
    "AdaBoost_classif = AdaBoostClassifier(base_estimator=modelFC_AdaBoost)"
   ]
  },
  {
   "cell_type": "code",
   "execution_count": 68,
   "id": "2f3b25a1",
   "metadata": {},
   "outputs": [
    {
     "ename": "ValueError",
     "evalue": "KerasClassifier doesn't support sample_weight.",
     "output_type": "error",
     "traceback": [
      "\u001b[1;31m---------------------------------------------------------------------------\u001b[0m",
      "\u001b[1;31mValueError\u001b[0m                                Traceback (most recent call last)",
      "Input \u001b[1;32mIn [68]\u001b[0m, in \u001b[0;36m<cell line: 4>\u001b[1;34m()\u001b[0m\n\u001b[0;32m      1\u001b[0m \u001b[38;5;28;01mfrom\u001b[39;00m \u001b[38;5;21;01msklearn\u001b[39;00m\u001b[38;5;21;01m.\u001b[39;00m\u001b[38;5;21;01mmetrics\u001b[39;00m \u001b[38;5;28;01mimport\u001b[39;00m accuracy_score\n\u001b[0;32m      3\u001b[0m \u001b[38;5;66;03m# Entrenar el modelo\u001b[39;00m\n\u001b[1;32m----> 4\u001b[0m \u001b[43mAdaBoost_classif\u001b[49m\u001b[38;5;241;43m.\u001b[39;49m\u001b[43mfit\u001b[49m\u001b[43m(\u001b[49m\u001b[43mX_train\u001b[49m\u001b[43m,\u001b[49m\u001b[43m \u001b[49m\u001b[43my_train\u001b[49m\u001b[43m)\u001b[49m\n\u001b[0;32m      6\u001b[0m \u001b[38;5;66;03m# Predicción en partición de test\u001b[39;00m\n\u001b[0;32m      7\u001b[0m y_pred \u001b[38;5;241m=\u001b[39m AdaBoost_classif\u001b[38;5;241m.\u001b[39mpredict(X_test)\n",
      "File \u001b[1;32m~\\miniconda3\\envs\\TFM\\lib\\site-packages\\sklearn\\ensemble\\_weight_boosting.py:486\u001b[0m, in \u001b[0;36mAdaBoostClassifier.fit\u001b[1;34m(self, X, y, sample_weight)\u001b[0m\n\u001b[0;32m    483\u001b[0m     \u001b[38;5;28;01mraise\u001b[39;00m \u001b[38;5;167;01mValueError\u001b[39;00m(\u001b[38;5;124m\"\u001b[39m\u001b[38;5;124malgorithm \u001b[39m\u001b[38;5;132;01m%s\u001b[39;00m\u001b[38;5;124m is not supported\u001b[39m\u001b[38;5;124m\"\u001b[39m \u001b[38;5;241m%\u001b[39m \u001b[38;5;28mself\u001b[39m\u001b[38;5;241m.\u001b[39malgorithm)\n\u001b[0;32m    485\u001b[0m \u001b[38;5;66;03m# Fit\u001b[39;00m\n\u001b[1;32m--> 486\u001b[0m \u001b[38;5;28;01mreturn\u001b[39;00m \u001b[38;5;28;43msuper\u001b[39;49m\u001b[43m(\u001b[49m\u001b[43m)\u001b[49m\u001b[38;5;241;43m.\u001b[39;49m\u001b[43mfit\u001b[49m\u001b[43m(\u001b[49m\u001b[43mX\u001b[49m\u001b[43m,\u001b[49m\u001b[43m \u001b[49m\u001b[43my\u001b[49m\u001b[43m,\u001b[49m\u001b[43m \u001b[49m\u001b[43msample_weight\u001b[49m\u001b[43m)\u001b[49m\n",
      "File \u001b[1;32m~\\miniconda3\\envs\\TFM\\lib\\site-packages\\sklearn\\ensemble\\_weight_boosting.py:132\u001b[0m, in \u001b[0;36mBaseWeightBoosting.fit\u001b[1;34m(self, X, y, sample_weight)\u001b[0m\n\u001b[0;32m    129\u001b[0m     \u001b[38;5;28;01mraise\u001b[39;00m \u001b[38;5;167;01mValueError\u001b[39;00m(\u001b[38;5;124m\"\u001b[39m\u001b[38;5;124msample_weight cannot contain negative weights\u001b[39m\u001b[38;5;124m\"\u001b[39m)\n\u001b[0;32m    131\u001b[0m \u001b[38;5;66;03m# Check parameters\u001b[39;00m\n\u001b[1;32m--> 132\u001b[0m \u001b[38;5;28;43mself\u001b[39;49m\u001b[38;5;241;43m.\u001b[39;49m\u001b[43m_validate_estimator\u001b[49m\u001b[43m(\u001b[49m\u001b[43m)\u001b[49m\n\u001b[0;32m    134\u001b[0m \u001b[38;5;66;03m# Clear any previous fit results\u001b[39;00m\n\u001b[0;32m    135\u001b[0m \u001b[38;5;28mself\u001b[39m\u001b[38;5;241m.\u001b[39mestimators_ \u001b[38;5;241m=\u001b[39m []\n",
      "File \u001b[1;32m~\\miniconda3\\envs\\TFM\\lib\\site-packages\\sklearn\\ensemble\\_weight_boosting.py:503\u001b[0m, in \u001b[0;36mAdaBoostClassifier._validate_estimator\u001b[1;34m(self)\u001b[0m\n\u001b[0;32m    495\u001b[0m         \u001b[38;5;28;01mraise\u001b[39;00m \u001b[38;5;167;01mTypeError\u001b[39;00m(\n\u001b[0;32m    496\u001b[0m             \u001b[38;5;124m\"\u001b[39m\u001b[38;5;124mAdaBoostClassifier with algorithm=\u001b[39m\u001b[38;5;124m'\u001b[39m\u001b[38;5;124mSAMME.R\u001b[39m\u001b[38;5;124m'\u001b[39m\u001b[38;5;124m requires \u001b[39m\u001b[38;5;124m\"\u001b[39m\n\u001b[0;32m    497\u001b[0m             \u001b[38;5;124m\"\u001b[39m\u001b[38;5;124mthat the weak learner supports the calculation of class \u001b[39m\u001b[38;5;124m\"\u001b[39m\n\u001b[1;32m   (...)\u001b[0m\n\u001b[0;32m    500\u001b[0m             \u001b[38;5;124m\"\u001b[39m\u001b[38;5;124malgorithm=\u001b[39m\u001b[38;5;124m'\u001b[39m\u001b[38;5;124mSAMME\u001b[39m\u001b[38;5;124m'\u001b[39m\u001b[38;5;124m instead.\u001b[39m\u001b[38;5;124m\"\u001b[39m\n\u001b[0;32m    501\u001b[0m         )\n\u001b[0;32m    502\u001b[0m \u001b[38;5;28;01mif\u001b[39;00m \u001b[38;5;129;01mnot\u001b[39;00m has_fit_parameter(\u001b[38;5;28mself\u001b[39m\u001b[38;5;241m.\u001b[39mbase_estimator_, \u001b[38;5;124m\"\u001b[39m\u001b[38;5;124msample_weight\u001b[39m\u001b[38;5;124m\"\u001b[39m):\n\u001b[1;32m--> 503\u001b[0m     \u001b[38;5;28;01mraise\u001b[39;00m \u001b[38;5;167;01mValueError\u001b[39;00m(\n\u001b[0;32m    504\u001b[0m         \u001b[38;5;124m\"\u001b[39m\u001b[38;5;132;01m%s\u001b[39;00m\u001b[38;5;124m doesn\u001b[39m\u001b[38;5;124m'\u001b[39m\u001b[38;5;124mt support sample_weight.\u001b[39m\u001b[38;5;124m\"\u001b[39m\n\u001b[0;32m    505\u001b[0m         \u001b[38;5;241m%\u001b[39m \u001b[38;5;28mself\u001b[39m\u001b[38;5;241m.\u001b[39mbase_estimator_\u001b[38;5;241m.\u001b[39m\u001b[38;5;18m__class__\u001b[39m\u001b[38;5;241m.\u001b[39m\u001b[38;5;18m__name__\u001b[39m\n\u001b[0;32m    506\u001b[0m     )\n",
      "\u001b[1;31mValueError\u001b[0m: KerasClassifier doesn't support sample_weight."
     ]
    }
   ],
   "source": [
    "from sklearn.metrics import accuracy_score\n",
    "\n",
    "# Entrenar el modelo\n",
    "AdaBoost_classif.fit(X_train, y_train)\n",
    "\n",
    "# Predicción en partición de test\n",
    "y_pred = AdaBoost_classif.predict(X_test)\n",
    "\n",
    "# Precisión en partición de test\n",
    "accuracy = accuracy_score(y_test, y_pred)\n",
    "print(\"Accuracy: {:0.2f}%\".format(accuracy * 100))"
   ]
  },
  {
   "cell_type": "markdown",
   "id": "82b78757",
   "metadata": {},
   "source": [
    "Thats because the AdaboostClassifier only support those base_estimators which have a sample_weight in their fit() method.\n",
    "\n",
    "Now although KerasClassifier supports sample_weight (from Sequential.fit()) by using the **kwargs in KerasClassifier.fit(), but scikit-learn uses a signature detecting function which checks the parameters available only in the KerasClassifier.fit()\n",
    "\n",
    "This is what it returns:\n",
    "\n",
    "from sklearn.utils.fixes import signature\n",
    "print(signature(model.fit))\n",
    "**Output: (x, y, kwargs)\n",
    "\n",
    "As you can see that the sample_weight is not present here, so AdaBoostClassifier will throw an error. One possible workaround is to extend the KerasClassifier class and then update the fit() method to add sample_weight there.\n",
    "\n",
    "I am not sure what can be done in the source code of KerasClassifier or in AdaboostClassifier for that case to handle this."
   ]
  },
  {
   "cell_type": "markdown",
   "id": "57e09558",
   "metadata": {},
   "source": [
    "# Create submissions"
   ]
  },
  {
   "cell_type": "code",
   "execution_count": 9,
   "id": "242fd7d1",
   "metadata": {},
   "outputs": [],
   "source": [
    "import pathlib\n",
    "from datetime import datetime\n",
    "\n",
    "def create_submission(pred, method, test_id=testFNC[\"Id\"]):\n",
    "    submissionDF = pd.DataFrame(list(zip(test_id, pred)), columns=[\"Id\", \"Probability\"])\n",
    "    print(submissionDF.shape) # Comprobación del tamaño, debe ser: (119748, 2)\n",
    "    current_time = datetime.now().strftime(\"%d-%m-%Y_%Hh%Mmin\")\n",
    "    current_path = pathlib.Path().resolve()\n",
    "    parent_path = current_path.parent\n",
    "    submissionDF.to_csv(f\"{parent_path}\\submissions\\MLSP_submission_{method}_{current_time}.csv\", header=True, index=False)"
   ]
  }
 ],
 "metadata": {
  "kernelspec": {
   "display_name": "Python 3 (ipykernel)",
   "language": "python",
   "name": "python3"
  },
  "language_info": {
   "codemirror_mode": {
    "name": "ipython",
    "version": 3
   },
   "file_extension": ".py",
   "mimetype": "text/x-python",
   "name": "python",
   "nbconvert_exporter": "python",
   "pygments_lexer": "ipython3",
   "version": "3.9.12"
  }
 },
 "nbformat": 4,
 "nbformat_minor": 5
}

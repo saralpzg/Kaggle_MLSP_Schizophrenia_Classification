{
 "cells": [
  {
   "cell_type": "markdown",
   "id": "60455127",
   "metadata": {},
   "source": [
    "# Optimización de un modelo de XGBoost\n",
    "\n",
    "Este notebook recoge los resultados de la búsqueda del mejor modelo de clasificación mediante XGBoost (= eXtreme Gradient Boosting). Se trata de un método de boosting, por tanto, la idea es generar un modelo robusto a partir de varios modelos \"débiles\". Sin embargo, se le considera extreme gradient boosting ya que es generalmente bastante más rápido que otras implementaciones de gradient boosting y suele tener un buen rendimiento sobre datos estructurados.\n",
    "\n",
    "Para buscar el mejor modelo posible, se tratará de buscar los mejores hiperparámetros para:\n",
    "\n",
    "* El tipo de booster que se va a utilizar.\n",
    "* El paso del método de boosting.\n",
    "* La mínima reducción de loss exigida para hacer una nueva partición de una rama cuando el booster sea de tal tipo.\n",
    "* La profundidad máxima de los árboles cuando el booster sea de tal tipo.\n",
    "\n",
    "### Preparación de los datos"
   ]
  },
  {
   "cell_type": "code",
   "execution_count": 3,
   "id": "8dea3bde",
   "metadata": {},
   "outputs": [],
   "source": [
    "# Estructuras de datos\n",
    "import pandas as pd\n",
    "import numpy as np\n",
    "\n",
    "# Librerías de optimización de hiperparámetros\n",
    "import optuna\n",
    "\n",
    "# Accuracy\n",
    "from sklearn.metrics import accuracy_score\n",
    "\n",
    "# Model\n",
    "import xgboost as xgb\n",
    "from xgboost import XGBClassifier\n",
    "\n",
    "# Cargar los datos\n",
    "from data_and_submissions import *\n",
    "\n",
    "# Métodos para los entrenamientos con CV\n",
    "from train_cv_methods import *"
   ]
  },
  {
   "cell_type": "markdown",
   "id": "95f5575f",
   "metadata": {},
   "source": [
    "Vamos a usar la siguiente partición de los datos:\n",
    "\n",
    "* 60% train $\\sim$ 50 datos\n",
    "* 20% validation $\\sim$ 18 datos (se define al aplicar cross-validación en el ajuste)\n",
    "* 20% test $\\sim$ 18 datos"
   ]
  },
  {
   "cell_type": "code",
   "execution_count": 2,
   "id": "56f13f41",
   "metadata": {},
   "outputs": [
    {
     "name": "stdout",
     "output_type": "stream",
     "text": [
      "Tamaño del dataset de train: (68, 410)\n",
      "Tamaño del dataset de test: (18, 410)\n"
     ]
    }
   ],
   "source": [
    "X_train, X_test, y_train, y_test, test_kaggle = load_data()\n",
    "print(\"Tamaño del dataset de train:\", X_train.shape)\n",
    "print(\"Tamaño del dataset de test:\", X_test.shape)"
   ]
  },
  {
   "cell_type": "markdown",
   "id": "84ad5e66",
   "metadata": {},
   "source": [
    "### Modelo"
   ]
  },
  {
   "cell_type": "markdown",
   "id": "02e149b6",
   "metadata": {},
   "source": [
    "Búsqueda de hiperparámetros mediante ``GridSearchCV`` de ``sklearn``:"
   ]
  },
  {
   "cell_type": "code",
   "execution_count": 4,
   "id": "77bbef90",
   "metadata": {},
   "outputs": [],
   "source": [
    "import warnings\n",
    "warnings.filterwarnings(\"ignore\") # Suprimir warning de versiones\n",
    "xgb.set_config(verbosity=0)\n",
    "\n",
    "# Definir y entrenar el modelo\n",
    "model_XGB = XGBClassifier(eval_metric=\"logloss\", random_state=0, use_label_encoder=False)\n",
    "param_grid_XGB = {\n",
    "    \"booster\": [\"gbtree\", \"gblinear\", \"dart\"],\n",
    "    \"learning_rate\": [0.0001, 0.001, 0.01, 0.1, 1],\n",
    "    \"gamma\": [0.0001, 0.001, 0.01, 0.1, 1],\n",
    "    \"max_depth\": np.arange(0, 21, 2) # 0 = ninguna restricción\n",
    "}"
   ]
  },
  {
   "cell_type": "code",
   "execution_count": 25,
   "id": "dceed470",
   "metadata": {},
   "outputs": [
    {
     "data": {
      "text/plain": [
       "True"
      ]
     },
     "execution_count": 25,
     "metadata": {},
     "output_type": "execute_result"
    }
   ],
   "source": [
    "a = [0.0001, 0.001, 0.01, 0.1, 1]\n",
    "b = [-4, -3, -2, -1, 0]\n",
    "b2 = []\n",
    "for i in b:\n",
    "    b2.append(10**i)\n",
    "    \n",
    "a == b2"
   ]
  },
  {
   "cell_type": "code",
   "execution_count": 26,
   "id": "b00d7c2d",
   "metadata": {},
   "outputs": [
    {
     "data": {
      "text/plain": [
       "[0.0001, 0.001, 0.01, 0.1, 1]"
      ]
     },
     "execution_count": 26,
     "metadata": {},
     "output_type": "execute_result"
    }
   ],
   "source": [
    "b2"
   ]
  },
  {
   "cell_type": "code",
   "execution_count": 5,
   "id": "ae2c8db5",
   "metadata": {},
   "outputs": [
    {
     "data": {
      "text/plain": [
       "[{'booster': 'gblinear', 'gamma': 0, 'learning_rate': 1, 'max_depth': 14},\n",
       " {'booster': 'gblinear', 'gamma': 0, 'learning_rate': 1, 'max_depth': 16},\n",
       " {'booster': 'gblinear', 'gamma': 0.05, 'learning_rate': 1, 'max_depth': 2},\n",
       " {'booster': 'gblinear', 'gamma': 0.1, 'learning_rate': 0.5, 'max_depth': 10},\n",
       " {'booster': 'gblinear', 'gamma': 0.1, 'learning_rate': 1, 'max_depth': 18}]"
      ]
     },
     "execution_count": 5,
     "metadata": {},
     "output_type": "execute_result"
    }
   ],
   "source": [
    "# Definir y entrenar el modelo\n",
    "cv_results_XGB = train_GridSearchCV(model_XGB, param_grid_XGB, X_train, X_test, y_train, y_test)\n",
    "top_acc = top_acc_GridSearchCV(cv_results_XGB[\"mean_test_score\"])\n",
    "models_same_acc_GridSearchCV(cv_results_XGB, top_acc)"
   ]
  },
  {
   "cell_type": "code",
   "execution_count": 6,
   "id": "715639b9",
   "metadata": {},
   "outputs": [
    {
     "name": "stdout",
     "output_type": "stream",
     "text": [
      "Accuracy: 61.11%\n"
     ]
    }
   ],
   "source": [
    "model_XGB_opt = XGBClassifier(eval_metric=\"logloss\", booster=\"gblinear\", gamma=0.1, learning_rate=1, max_depth=18,\n",
    "                              random_state=0, use_label_encoder=False)\n",
    "model_XGB_opt.fit(X_train, y_train)\n",
    "\n",
    "# Predicción en partición de test\n",
    "y_pred_XGBoost = model_XGB_opt.predict(X_test)\n",
    "\n",
    "# Precisión en partición de test\n",
    "accuracy = accuracy_score(y_test, y_pred_XGBoost)\n",
    "print(\"Accuracy: {:0.2f}%\".format(accuracy * 100))"
   ]
  },
  {
   "cell_type": "markdown",
   "id": "f96bbee4",
   "metadata": {},
   "source": [
    "Búsqueda mediante la librería ``optuna`` probando 2 métodos de búsqueda de hiperparámetros:\n",
    "\n",
    "* **GridSampler:** equivalente a la anterior búsqueda de grid de sklearn. Lo usaremos para que los resultados sean comparables.\n",
    "* **TPE:** algoritmo para hacer una \"búsqueda inteligente\" de hiperparámetros. Debería ahorrar intentos de combinaciones haciendo una selección inteligente de las pruebas. En nuestro caso le permitiremos probar un 10% del número de combinaciones posibles. "
   ]
  },
  {
   "cell_type": "code",
   "execution_count": 7,
   "id": "9182eb47",
   "metadata": {},
   "outputs": [],
   "source": [
    "def objectiveXGBoost_Grid(trial):\n",
    "    '''\n",
    "    Define la función a optimizar por medio de un sampler de tipo GridSampler.\n",
    "    En este caso se trata de maximizar el accuracy\n",
    "    '''\n",
    "    booster = trial.suggest_categorical(\"booster\", [\"gbtree\", \"gblinear\", \"dart\"])\n",
    "    learning_rate = trial.suggest_float(\"learning_rate\", 0, 1)\n",
    "    gamma = trial.suggest_float(\"gamma\", 0, 1)\n",
    "    max_depth = trial.suggest_int(\"max_depth\", 0, 20)\n",
    "    \n",
    "    modelXGBoost_optuna = XGBClassifier(eval_metric=\"logloss\", booster=booster, learning_rate=learning_rate, gamma=gamma,\n",
    "                                        max_depth=max_depth, random_state=0, use_label_encoder=False)\n",
    "    \n",
    "    modelXGBoost_optuna.fit(X_train, y_train)\n",
    "\n",
    "    y_pred_XGBoost_optuna = modelXGBoost_optuna.predict(X_test)\n",
    "    accuracy = accuracy_score(y_test, y_pred_XGBoost_optuna)\n",
    "    return accuracy"
   ]
  },
  {
   "cell_type": "code",
   "execution_count": 8,
   "id": "b2965528",
   "metadata": {},
   "outputs": [],
   "source": [
    "# Prueba con GridSampler\n",
    "optuna.logging.set_verbosity(optuna.logging.WARNING)\n",
    "\n",
    "search_space = {\"booster\": [\"gbtree\", \"gblinear\", \"dart\"], \n",
    "                \"learning_rate\": np.arange(0.001, 1, 0.1665),\n",
    "                \"gamma\": np.arange(0, 0.1, 0.025),\n",
    "                \"max_depth\": range(0, 20, 2)\n",
    "               }\n",
    "sampler = optuna.samplers.GridSampler(search_space)\n",
    "study_Grid = optuna.create_study(direction=\"maximize\", sampler=sampler)\n",
    "study_Grid.optimize(objectiveXGBoost_Grid)"
   ]
  },
  {
   "cell_type": "code",
   "execution_count": 9,
   "id": "02d69f7d",
   "metadata": {},
   "outputs": [
    {
     "data": {
      "text/plain": [
       "FrozenTrial(number=0, values=[0.8333333333333334], datetime_start=datetime.datetime(2022, 6, 11, 23, 12, 52, 659897), datetime_complete=datetime.datetime(2022, 6, 11, 23, 12, 53, 550274), params={'booster': 'gblinear', 'learning_rate': 0.001, 'gamma': 0.05, 'max_depth': 18}, distributions={'booster': CategoricalDistribution(choices=('gbtree', 'gblinear', 'dart')), 'learning_rate': UniformDistribution(high=1.0, low=0.0), 'gamma': UniformDistribution(high=1.0, low=0.0), 'max_depth': IntUniformDistribution(high=20, low=0, step=1)}, user_attrs={}, system_attrs={'search_space': OrderedDict([('booster', ['dart', 'gblinear', 'gbtree']), ('gamma', [0.0, 0.025, 0.05, 0.07500000000000001]), ('learning_rate', [0.001, 0.1675, 0.334, 0.5005000000000001, 0.667, 0.8335]), ('max_depth', [0, 2, 4, 6, 8, 10, 12, 14, 16, 18])]), 'grid_id': 369}, intermediate_values={}, trial_id=0, state=TrialState.COMPLETE, value=None)"
      ]
     },
     "execution_count": 9,
     "metadata": {},
     "output_type": "execute_result"
    }
   ],
   "source": [
    "study_Grid.best_trial"
   ]
  },
  {
   "cell_type": "code",
   "execution_count": 10,
   "id": "abd4f97c",
   "metadata": {},
   "outputs": [
    {
     "name": "stdout",
     "output_type": "stream",
     "text": [
      "Accuracy: 83.33%\n"
     ]
    }
   ],
   "source": [
    "# Definir y entrenar el modelo\n",
    "modelXGBoost_optuna_Grid = XGBClassifier(eval_metric=\"logloss\", booster=\"gblinear\", learning_rate=0.001, gamma=0.05,\n",
    "                                         max_depth=18, random_state=0, use_label_encoder=False)  \n",
    "modelXGBoost_optuna_Grid.fit(X_train, y_train)\n",
    "\n",
    "# Predicción en partición de test\n",
    "y_pred_XGBoost_optuna_Grid = modelXGBoost_optuna_Grid.predict(X_test)\n",
    "\n",
    "# Precisión en partición de test\n",
    "accuracy = accuracy_score(y_test, y_pred_XGBoost_optuna_Grid)\n",
    "print(\"Accuracy: {:0.2f}%\".format(accuracy * 100))"
   ]
  },
  {
   "cell_type": "code",
   "execution_count": 11,
   "id": "c7aad65f",
   "metadata": {},
   "outputs": [],
   "source": [
    "def objectiveXGBoost_TPE(trial):\n",
    "    '''\n",
    "    Define la función a optimizar por medio de un sampler de tipo TPE.\n",
    "    En este caso se trata de maximizar el accuracy\n",
    "    '''\n",
    "    booster = trial.suggest_categorical(\"booster\", [\"gbtree\", \"gblinear\", \"dart\"])\n",
    "    learning_rate = trial.suggest_float(\"learning_rate\", 0.001, 1, step=0.1665)\n",
    "    gamma = trial.suggest_float(\"gamma\", 0, 0.1, step=0.025)\n",
    "    max_depth = trial.suggest_int(\"max_depth\", 0, 20, 2)\n",
    "    \n",
    "    modelXGBoost_optuna = XGBClassifier(eval_metric=\"logloss\", booster=booster, learning_rate=learning_rate, gamma=gamma,\n",
    "                                        max_depth=max_depth, random_state=0, use_label_encoder=False)\n",
    "    \n",
    "    modelXGBoost_optuna.fit(X_train, y_train)\n",
    "\n",
    "    y_pred_XGBoost_optuna = modelXGBoost_optuna.predict(X_test)\n",
    "    accuracy = accuracy_score(y_test, y_pred_XGBoost_optuna)\n",
    "    return accuracy"
   ]
  },
  {
   "cell_type": "code",
   "execution_count": 12,
   "id": "1e4d7cc5",
   "metadata": {},
   "outputs": [],
   "source": [
    "# Prueba con TPE\n",
    "optuna.logging.set_verbosity(optuna.logging.WARNING)\n",
    "\n",
    "sampler = optuna.samplers.TPESampler(seed=0)  # Asegurar los reproducibilidad de los resultados\n",
    "study_TPE = optuna.create_study(direction=\"maximize\", sampler=sampler)\n",
    "study_TPE.optimize(objectiveXGBoost_TPE, n_trials=80)\n",
    "# n_trials = (3 x 6 x 4 x 11) * 0.1 = 79.2 ~ 80"
   ]
  },
  {
   "cell_type": "code",
   "execution_count": 13,
   "id": "443ec2ba",
   "metadata": {},
   "outputs": [
    {
     "data": {
      "text/plain": [
       "FrozenTrial(number=2, values=[0.8333333333333334], datetime_start=datetime.datetime(2022, 7, 2, 12, 50, 31, 196428), datetime_complete=datetime.datetime(2022, 7, 2, 12, 50, 31, 446137), params={'booster': 'gblinear', 'learning_rate': 0.001, 'gamma': 0.0, 'max_depth': 18}, distributions={'booster': CategoricalDistribution(choices=('gbtree', 'gblinear', 'dart')), 'learning_rate': DiscreteUniformDistribution(high=1.0, low=0.001, q=0.1665), 'gamma': DiscreteUniformDistribution(high=0.1, low=0.0, q=0.025), 'max_depth': IntUniformDistribution(high=20, low=0, step=2)}, user_attrs={}, system_attrs={}, intermediate_values={}, trial_id=2, state=TrialState.COMPLETE, value=None)"
      ]
     },
     "execution_count": 13,
     "metadata": {},
     "output_type": "execute_result"
    }
   ],
   "source": [
    "study_TPE.best_trial"
   ]
  },
  {
   "cell_type": "code",
   "execution_count": 14,
   "id": "17a7d733",
   "metadata": {},
   "outputs": [
    {
     "name": "stdout",
     "output_type": "stream",
     "text": [
      "Accuracy: 83.33%\n"
     ]
    }
   ],
   "source": [
    "# Definir y entrenar el modelo\n",
    "modelXGBoost_optuna_TPE = XGBClassifier(eval_metric=\"logloss\", booster=\"gblinear\", learning_rate=0.001, gamma=0,\n",
    "                                        max_depth=18, random_state=0, use_label_encoder=False) \n",
    "modelXGBoost_optuna_TPE.fit(X_train, y_train)\n",
    "\n",
    "# Predicción en partición de test\n",
    "y_pred_XGBoost_optuna_TPE = modelXGBoost_optuna_TPE.predict(X_test)\n",
    "\n",
    "# Precisión en partición de test\n",
    "accuracy = accuracy_score(y_test, y_pred_XGBoost_optuna_TPE)\n",
    "print(\"Accuracy: {:0.2f}%\".format(accuracy * 100))"
   ]
  },
  {
   "cell_type": "markdown",
   "id": "00092052",
   "metadata": {},
   "source": [
    "Búsqueda mediante ``optuna`` con ``OptunaSearchCV``:"
   ]
  },
  {
   "cell_type": "code",
   "execution_count": 15,
   "id": "a0a61aab",
   "metadata": {},
   "outputs": [
    {
     "data": {
      "text/plain": [
       "OptunaSearchCV(cv=4,\n",
       "               estimator=XGBClassifier(base_score=None, booster=None,\n",
       "                                       colsample_bylevel=None,\n",
       "                                       colsample_bynode=None,\n",
       "                                       colsample_bytree=None,\n",
       "                                       enable_categorical=False,\n",
       "                                       eval_metric='logloss', gamma=None,\n",
       "                                       gpu_id=None, importance_type=None,\n",
       "                                       interaction_constraints=None,\n",
       "                                       learning_rate=None, max_delta_step=None,\n",
       "                                       max_depth=None, min_child_weight=None,\n",
       "                                       missing=nan, mo...\n",
       "                                       validate_parameters=None,\n",
       "                                       verbosity=None),\n",
       "               n_trials=792,\n",
       "               param_distributions={'booster': CategoricalDistribution(choices=('gbtree', 'gblinear', 'dart')),\n",
       "                                    'gamma': DiscreteUniformDistribution(high=0.1, low=0.0, q=0.025),\n",
       "                                    'learning_rate': DiscreteUniformDistribution(high=1.0, low=0.001, q=0.1665),\n",
       "                                    'max_depth': IntUniformDistribution(high=20, low=0, step=2)},\n",
       "               random_state=0)"
      ]
     },
     "execution_count": 15,
     "metadata": {},
     "output_type": "execute_result"
    }
   ],
   "source": [
    "optuna.logging.set_verbosity(optuna.logging.WARNING)\n",
    "\n",
    "# Definir y entrenar el modelo\n",
    "model_XGB = XGBClassifier(eval_metric=\"logloss\", random_state=0, use_label_encoder=False)\n",
    "param_grid_XGB = {\n",
    "    \"booster\": optuna.distributions.CategoricalDistribution([\"gbtree\", \"gblinear\", \"dart\"]),\n",
    "    \"learning_rate\": optuna.distributions.DiscreteUniformDistribution(0.001, 1, 0.1665),\n",
    "    \"gamma\": optuna.distributions.DiscreteUniformDistribution(0, 0.1, 0.025),\n",
    "    \"max_depth\": optuna.distributions.IntUniformDistribution(0, 20, 2) # 0 = ninguna restricción\n",
    "}\n",
    "# Probamos también 6 valores de learning_rate, aunque ahora el paso entre uno y otro es necesariamente el mismo\n",
    "\n",
    "optuna_search = optuna.integration.OptunaSearchCV(model_XGB, param_grid_XGB, cv=4, n_trials=792, refit=True, random_state=0)\n",
    "# n_trials = 3 x 6 x 4 x 11 = 792\n",
    "optuna_search.fit(X_train, y_train)"
   ]
  },
  {
   "cell_type": "code",
   "execution_count": 17,
   "id": "06ef6032",
   "metadata": {},
   "outputs": [
    {
     "data": {
      "text/plain": [
       "[{'booster': 'gblinear',\n",
       "  'learning_rate': 1.0,\n",
       "  'gamma': 0.07500000000000001,\n",
       "  'max_depth': 16}]"
      ]
     },
     "execution_count": 17,
     "metadata": {},
     "output_type": "execute_result"
    }
   ],
   "source": [
    "top_acc = top_acc_OptunaSearchCV(optuna_search.trials_)\n",
    "models_same_acc_OptunaSearchCV(optuna_search.trials_, top_acc)"
   ]
  },
  {
   "cell_type": "code",
   "execution_count": 26,
   "id": "b6b02f28",
   "metadata": {},
   "outputs": [
    {
     "name": "stdout",
     "output_type": "stream",
     "text": [
      "Accuracy: 72.22%\n"
     ]
    }
   ],
   "source": [
    "optunaCV_opt = XGBClassifier(eval_metric=\"logloss\", booster=\"gblinear\", learning_rate=0.667, gamma=0.05,\n",
    "                             max_depth=20, random_state=0, use_label_encoder=False)\n",
    "optunaCV_opt.fit(X_train, y_train)\n",
    "\n",
    "# Predicción en partición de test\n",
    "y_pred_XGB_optuna = optunaCV_opt.predict(X_test)\n",
    "\n",
    "# Precisión en partición de test\n",
    "accuracy = accuracy_score(y_test, y_pred_XGB_optuna)\n",
    "print(\"Accuracy: {:0.2f}%\".format(accuracy * 100))"
   ]
  },
  {
   "cell_type": "markdown",
   "id": "25c8dd12",
   "metadata": {},
   "source": [
    "Comparamos las predicciones de cualquiera de los dos modelos con misma accuracy máxima:"
   ]
  },
  {
   "cell_type": "code",
   "execution_count": 33,
   "id": "c93cd918",
   "metadata": {},
   "outputs": [
    {
     "data": {
      "text/html": [
       "<div>\n",
       "<style scoped>\n",
       "    .dataframe tbody tr th:only-of-type {\n",
       "        vertical-align: middle;\n",
       "    }\n",
       "\n",
       "    .dataframe tbody tr th {\n",
       "        vertical-align: top;\n",
       "    }\n",
       "\n",
       "    .dataframe thead th {\n",
       "        text-align: right;\n",
       "    }\n",
       "</style>\n",
       "<table border=\"1\" class=\"dataframe\">\n",
       "  <thead>\n",
       "    <tr style=\"text-align: right;\">\n",
       "      <th></th>\n",
       "      <th>Optuna &amp; GridSampler</th>\n",
       "      <th>Optuna &amp; TPE</th>\n",
       "      <th>All the same</th>\n",
       "    </tr>\n",
       "  </thead>\n",
       "  <tbody>\n",
       "    <tr>\n",
       "      <th>0</th>\n",
       "      <td>1</td>\n",
       "      <td>1</td>\n",
       "      <td>True</td>\n",
       "    </tr>\n",
       "    <tr>\n",
       "      <th>1</th>\n",
       "      <td>1</td>\n",
       "      <td>1</td>\n",
       "      <td>True</td>\n",
       "    </tr>\n",
       "    <tr>\n",
       "      <th>2</th>\n",
       "      <td>0</td>\n",
       "      <td>0</td>\n",
       "      <td>True</td>\n",
       "    </tr>\n",
       "    <tr>\n",
       "      <th>3</th>\n",
       "      <td>0</td>\n",
       "      <td>0</td>\n",
       "      <td>True</td>\n",
       "    </tr>\n",
       "    <tr>\n",
       "      <th>4</th>\n",
       "      <td>1</td>\n",
       "      <td>1</td>\n",
       "      <td>True</td>\n",
       "    </tr>\n",
       "    <tr>\n",
       "      <th>5</th>\n",
       "      <td>0</td>\n",
       "      <td>0</td>\n",
       "      <td>True</td>\n",
       "    </tr>\n",
       "    <tr>\n",
       "      <th>6</th>\n",
       "      <td>1</td>\n",
       "      <td>1</td>\n",
       "      <td>True</td>\n",
       "    </tr>\n",
       "    <tr>\n",
       "      <th>7</th>\n",
       "      <td>0</td>\n",
       "      <td>0</td>\n",
       "      <td>True</td>\n",
       "    </tr>\n",
       "    <tr>\n",
       "      <th>8</th>\n",
       "      <td>0</td>\n",
       "      <td>0</td>\n",
       "      <td>True</td>\n",
       "    </tr>\n",
       "    <tr>\n",
       "      <th>9</th>\n",
       "      <td>0</td>\n",
       "      <td>0</td>\n",
       "      <td>True</td>\n",
       "    </tr>\n",
       "    <tr>\n",
       "      <th>10</th>\n",
       "      <td>0</td>\n",
       "      <td>0</td>\n",
       "      <td>True</td>\n",
       "    </tr>\n",
       "    <tr>\n",
       "      <th>11</th>\n",
       "      <td>1</td>\n",
       "      <td>1</td>\n",
       "      <td>True</td>\n",
       "    </tr>\n",
       "    <tr>\n",
       "      <th>12</th>\n",
       "      <td>0</td>\n",
       "      <td>0</td>\n",
       "      <td>True</td>\n",
       "    </tr>\n",
       "    <tr>\n",
       "      <th>13</th>\n",
       "      <td>0</td>\n",
       "      <td>0</td>\n",
       "      <td>True</td>\n",
       "    </tr>\n",
       "    <tr>\n",
       "      <th>14</th>\n",
       "      <td>1</td>\n",
       "      <td>1</td>\n",
       "      <td>True</td>\n",
       "    </tr>\n",
       "    <tr>\n",
       "      <th>15</th>\n",
       "      <td>1</td>\n",
       "      <td>1</td>\n",
       "      <td>True</td>\n",
       "    </tr>\n",
       "    <tr>\n",
       "      <th>16</th>\n",
       "      <td>1</td>\n",
       "      <td>1</td>\n",
       "      <td>True</td>\n",
       "    </tr>\n",
       "    <tr>\n",
       "      <th>17</th>\n",
       "      <td>1</td>\n",
       "      <td>1</td>\n",
       "      <td>True</td>\n",
       "    </tr>\n",
       "  </tbody>\n",
       "</table>\n",
       "</div>"
      ],
      "text/plain": [
       "    Optuna & GridSampler  Optuna & TPE  All the same\n",
       "0                      1             1          True\n",
       "1                      1             1          True\n",
       "2                      0             0          True\n",
       "3                      0             0          True\n",
       "4                      1             1          True\n",
       "5                      0             0          True\n",
       "6                      1             1          True\n",
       "7                      0             0          True\n",
       "8                      0             0          True\n",
       "9                      0             0          True\n",
       "10                     0             0          True\n",
       "11                     1             1          True\n",
       "12                     0             0          True\n",
       "13                     0             0          True\n",
       "14                     1             1          True\n",
       "15                     1             1          True\n",
       "16                     1             1          True\n",
       "17                     1             1          True"
      ]
     },
     "execution_count": 33,
     "metadata": {},
     "output_type": "execute_result"
    }
   ],
   "source": [
    "results = {\"Optuna & GridSampler\": y_pred_XGBoost_optuna_Grid, \"Optuna & TPE\": y_pred_XGBoost_optuna_TPE}\n",
    "\n",
    "results_df = pd.DataFrame(results)    \n",
    "results_df[\"All the same\"] = results_df.eq(results_df.iloc[:, 0], axis=0).all(1)\n",
    "results_df"
   ]
  },
  {
   "cell_type": "markdown",
   "id": "e6ab9f13",
   "metadata": {},
   "source": [
    "Ambos modelos generan las mismas predicciones, usamos cualquiera de ellos para generar el submit para Kaggle:"
   ]
  },
  {
   "cell_type": "code",
   "execution_count": 34,
   "id": "081773ef",
   "metadata": {},
   "outputs": [
    {
     "name": "stdout",
     "output_type": "stream",
     "text": [
      "(119748, 2)\n"
     ]
    }
   ],
   "source": [
    "pred_submit = modelXGBoost_optuna_Grid.predict(test_kaggle)\n",
    "\n",
    "create_submission(pred_submit, \"XGBoost_submit_opt1\")"
   ]
  }
 ],
 "metadata": {
  "kernelspec": {
   "display_name": "Python 3 (ipykernel)",
   "language": "python",
   "name": "python3"
  },
  "language_info": {
   "codemirror_mode": {
    "name": "ipython",
    "version": 3
   },
   "file_extension": ".py",
   "mimetype": "text/x-python",
   "name": "python",
   "nbconvert_exporter": "python",
   "pygments_lexer": "ipython3",
   "version": "3.9.12"
  }
 },
 "nbformat": 4,
 "nbformat_minor": 5
}
